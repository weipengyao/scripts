{
 "cells": [
  {
   "cell_type": "markdown",
   "metadata": {},
   "source": [
    "## load a series of simulation runs:\n",
    "\n",
    "S = happi.Open('SS_9_r*', reference_angular_frequency_SI = wr)"
   ]
  },
  {
   "cell_type": "code",
   "execution_count": null,
   "metadata": {},
   "outputs": [],
   "source": [
    "def prepare_streak_2D(case, num, field_name, frame):\n",
    "    \n",
    "    \"\"\"\n",
    "    case: string, Smilei case\n",
    "    num: '0', instant; '1', averaged \n",
    "    field_name: string, name of the field\n",
    "    frame: float, velocity of the reference frame\n",
    "    \"\"\"\n",
    "    var = case.Field(num,field_name,units=[\"mm\",\"ns\",\"cm^-3\",\"T\",\"V/m\"]) # find the data\n",
    "    data_var = var.getData()                           # get the data out\n",
    "    data_var_2D = np.vstack(data_var)                  # transform it into 2D with (t,x)\n",
    "    data_var_t = var.getTimes()                        # get the t-axis\n",
    "    data_var_x = var.getAxis('x')                      # get the x-axis\n",
    "    \n",
    "    data_var_x_2D, data_var_t_2D = np.meshgrid(data_var_x, data_var_t, indexing='xy') # make the interpolation\n",
    "    \n",
    "    data_var_x_2D_frame = data_var_x_2D - frame * data_var_t_2D - Lx/2.       # change the reference frame (and the label) \n",
    "                                                                                      # note the unit used\n",
    "    return data_var_x_2D, data_var_x_2D_frame, data_var_t_2D, data_var_2D"
   ]
  },
  {
   "cell_type": "code",
   "execution_count": null,
   "metadata": {},
   "outputs": [],
   "source": [
    "# example:\n",
    "\n",
    "ni0_x_1, ni0_x_cd,  ni0_t_cd,  ni0_cd  = prepare_streak_2D(S0, 0, 'Rho_ion1+Rho_ion2+Rho_ion3', vcd)"
   ]
  },
  {
   "cell_type": "code",
   "execution_count": null,
   "metadata": {},
   "outputs": [],
   "source": [
    "# plot\n",
    "\n",
    "# Draw the figure of x-t-ni/Bz\n",
    "width = 3.2 * 2\n",
    "height = width / 1.618\n",
    "fig, axs = plt.subplots()\n",
    "\n",
    "# cs1 = axs.pcolormesh(Bz_x_cd2, Bz_t_cd2, np.log10(Bz_cd2**2),cmap=plt.cm.Greys)\n",
    "# cs1 = axs.pcolormesh(Bz_x_cd2, Bz_t_cd2, Bz_cd2,cmap=newcmap,vmin=0,vmax=200)\n",
    "cs1 = axs.pcolormesh(Ey0_x_cd2, Ey0_t_cd2, Ey0_cd2/1e8,cmap='seismic',\n",
    "                     vmin=-1.5,vmax=1.5\n",
    "                     )\n",
    "\n",
    "# cs1 = axs.pcolormesh(ni_x, ni_t, ni,cmap=plt.cm.jet)#,vmin=0,vmax=6.0e18)\n",
    "# cs1 = axs.pcolormesh(ni_x_cd, ni_t_cd, ni_cd,cmap=newcmap,\n",
    "#                      vmin=0,vmax=25.0\n",
    "#                      )\n",
    "# cs1.cmap.set_under(color='white')\n",
    "# cs1.cmap.set_over(color='black')\n",
    "cs1.cmap.set_under(color='blue')\n",
    "cs1.cmap.set_over(color='red')\n",
    "\n",
    "ax1_divider = make_axes_locatable(axs)\n",
    "cax1=ax1_divider.append_axes(\"right\", size=\"4%\", pad=\"2%\")\n",
    "# cbar1=fig.colorbar(cs1, ax=fig, cax=cax1, orientation=\"vertical\", label=r'$log_{10}(|B_z|^2)$')\n",
    "# cbar1=fig.colorbar(cs1, ax=fig, cax=cax1, orientation=\"vertical\", label=r'$B_z$ (T)')\n",
    "cbar1=fig.colorbar(cs1, ax=fig, cax=cax1, orientation=\"vertical\", label=r'$E_y$ (1e8 V/m)')\n",
    "# cbar1=fig.colorbar(cs1, ax=fig, cax=cax1, orientation=\"vertical\", label=r'$n_i$ (1e18 cm$^{-3}$)')\n",
    "cbar1.ax.tick_params()\n",
    "cax1.xaxis.set_ticks_position(\"top\")\n",
    "axs.tick_params(axis='both')\n",
    "\n",
    "axs.set_xlabel('x (mm)')\n",
    "axs.set_ylabel('t (ns)')\n",
    "\n",
    "\n",
    "# overlay the particle trajectory onto the field x-t map\n",
    "\n",
    "# axs.plot(ion2t_x_vcd[:,0:46:4],  time_ns, lw=2.0, ls='--')\n",
    "# axs.plot(ion1t_x_vcd[:,0:111:10],  time_ns, lw=2.0)\n",
    "\n",
    "# # axs.plot(ion2t_x_frame[:,0],  time_ns, lw=2.0, color='blue',   ls='--')\n",
    "# # axs.plot(ion2t_x_frame[:,7],  time_ns, lw=2.0, color='red',  ls='--')\n",
    "# # axs.plot(ion2t_x_frame[:,14], time_ns, lw=2.0, color='green', ls='--')\n",
    "# # axs.plot(ion1t_x_frame[:,0],  time_ns, lw=2.0, color='black')\n",
    "# # axs.plot(ion1t_x_frame[:,2],  time_ns, lw=2.0, color='m')\n",
    "\n",
    "# # axs.plot(ion2t_x_vcd[:,0],  time_ns, lw=2.0, color='blue',   ls='--')\n",
    "# axs.plot(ion2t_x_vcd[:,7],  time_ns, lw=2.0, color='red',  ls='--')\n",
    "# # axs.plot(ion2t_x_vcd[:,14], time_ns, lw=2.0, color='green', ls='--')\n",
    "# axs.plot(ion1t_x_vcd[:,0],  time_ns, lw=2.0, color='black')\n",
    "# axs.plot(ion1t_x_vcd[:,2],  time_ns, lw=2.0, color='m')\n",
    "\n",
    "\n",
    "axs.set_xlim([-4,4])\n",
    "axs.set_ylim([0,4])\n",
    "axs.set_aspect(2)\n",
    "\n",
    "fig.set_size_inches(width,height)\n",
    "fig.tight_layout()"
   ]
  }
 ],
 "metadata": {
  "language_info": {
   "name": "python"
  }
 },
 "nbformat": 4,
 "nbformat_minor": 2
}
