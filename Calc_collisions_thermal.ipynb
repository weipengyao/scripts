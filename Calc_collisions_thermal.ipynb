{
 "cells": [
  {
   "cell_type": "code",
   "execution_count": 1,
   "id": "b8986189-6e01-4fa8-a8ce-2097b64aec81",
   "metadata": {
    "tags": []
   },
   "outputs": [],
   "source": [
    "import numpy as np"
   ]
  },
  {
   "cell_type": "code",
   "execution_count": 8,
   "id": "cb9f5e80-47bc-479a-a817-c075cebde770",
   "metadata": {
    "tags": []
   },
   "outputs": [],
   "source": [
    "### Fundamental parameters\n",
    "e_charge = 1.6022e-19 # [C] electron charge\n",
    "e_charge_cgs = 4.8e-10  # [statcoul] \n",
    "mass_proton = 1.6726e-24 # [g] proton mass \n",
    "mass_electron = 9.109e-28  # [g] electron mass\n",
    "c_cgs         = 3.0e10     # [cm/s]\n",
    "gamma = 5./3 # adiabatic index\n",
    "K_Bol = 1.38e-16 # Boltsmann constant in CGS units"
   ]
  },
  {
   "cell_type": "code",
   "execution_count": 97,
   "id": "a9a3cb19-cedb-4de3-a5ef-902b80077f67",
   "metadata": {
    "tags": []
   },
   "outputs": [],
   "source": [
    "### Input parameters for the plasma system in CGS units\n",
    "### except T_e, T_i are in [eV]\n",
    "\n",
    "# weakly collisional shock\n",
    "V = 0; # no streaming / drifting -> a very small value\n",
    "B = 30.0e4; # [G], 30 T for shot 25 \n",
    "T_e = 200.; \n",
    "T_i = 140.; \n",
    "# n_e = 4.0e18; \n",
    "n_e = np.logspace(17, 20, 1000);\n",
    "space_scale = 0.1;\n",
    "\n",
    "A = 20.0;  # Neon \n",
    "Z = 8.0 # indeed \n",
    "\n",
    "# A = 1.0;  # Hydrogen\n",
    "# Z = 1.0 # indeed "
   ]
  },
  {
   "cell_type": "code",
   "execution_count": 98,
   "id": "01eab368-5f53-49cd-a070-1b3cf5427207",
   "metadata": {
    "tags": []
   },
   "outputs": [
    {
     "name": "stdout",
     "output_type": "stream",
     "text": [
      "\n",
      "Parameters:------------------\n",
      "\n",
      "Flow velocity V           = 0.0e+00 [cm/s]\n",
      "B-field                   = 3.0e+05 [G]\n",
      "Electron temperature T_e  = 200.0    [eV]\n",
      "Ion temperature T_i       = 140.0    [eV]\n"
     ]
    },
    {
     "ename": "TypeError",
     "evalue": "unsupported format string passed to numpy.ndarray.__format__",
     "output_type": "error",
     "traceback": [
      "\u001b[0;31m---------------------------------------------------------------------------\u001b[0m",
      "\u001b[0;31mTypeError\u001b[0m                                 Traceback (most recent call last)",
      "Cell \u001b[0;32mIn[98], line 13\u001b[0m\n\u001b[1;32m     11\u001b[0m \u001b[38;5;28mprint\u001b[39m (\u001b[38;5;124m'\u001b[39m\u001b[38;5;124mElectron temperature T_e  = \u001b[39m\u001b[38;5;132;01m{:.1f}\u001b[39;00m\u001b[38;5;124m'\u001b[39m\u001b[38;5;241m.\u001b[39mformat(T_e),         \u001b[38;5;124m'\u001b[39m\u001b[38;5;124m   [eV]\u001b[39m\u001b[38;5;124m'\u001b[39m)\n\u001b[1;32m     12\u001b[0m \u001b[38;5;28mprint\u001b[39m (\u001b[38;5;124m'\u001b[39m\u001b[38;5;124mIon temperature T_i       = \u001b[39m\u001b[38;5;132;01m{:.1f}\u001b[39;00m\u001b[38;5;124m'\u001b[39m\u001b[38;5;241m.\u001b[39mformat(T_i),         \u001b[38;5;124m'\u001b[39m\u001b[38;5;124m   [eV]\u001b[39m\u001b[38;5;124m'\u001b[39m)\n\u001b[0;32m---> 13\u001b[0m \u001b[38;5;28mprint\u001b[39m (\u001b[38;5;124;43m'\u001b[39;49m\u001b[38;5;124;43mElectron density n_e      = \u001b[39;49m\u001b[38;5;132;43;01m{:.1e}\u001b[39;49;00m\u001b[38;5;124;43m'\u001b[39;49m\u001b[38;5;241;43m.\u001b[39;49m\u001b[43mformat\u001b[49m\u001b[43m(\u001b[49m\u001b[43mn_e\u001b[49m\u001b[43m)\u001b[49m,         \u001b[38;5;124m'\u001b[39m\u001b[38;5;124m[cm-3]\u001b[39m\u001b[38;5;124m'\u001b[39m)\n\u001b[1;32m     14\u001b[0m \u001b[38;5;28mprint\u001b[39m (\u001b[38;5;124m'\u001b[39m\u001b[38;5;124mIon density n_i           = \u001b[39m\u001b[38;5;132;01m{:.1e}\u001b[39;00m\u001b[38;5;124m'\u001b[39m\u001b[38;5;241m.\u001b[39mformat(n_i),         \u001b[38;5;124m'\u001b[39m\u001b[38;5;124m[cm-3]\u001b[39m\u001b[38;5;124m'\u001b[39m)   \n\u001b[1;32m     15\u001b[0m \u001b[38;5;28mprint\u001b[39m (\u001b[38;5;124m'\u001b[39m\u001b[38;5;124mDensity rho               = \u001b[39m\u001b[38;5;132;01m{:.1e}\u001b[39;00m\u001b[38;5;124m'\u001b[39m\u001b[38;5;241m.\u001b[39mformat(rho),         \u001b[38;5;124m'\u001b[39m\u001b[38;5;124m[g/cm-3]\u001b[39m\u001b[38;5;124m'\u001b[39m)\n",
      "\u001b[0;31mTypeError\u001b[0m: unsupported format string passed to numpy.ndarray.__format__"
     ]
    }
   ],
   "source": [
    "m_i = A * mass_proton   # [g]\n",
    "n_i = n_e/Z             # [cm-3]\n",
    "rho = n_i*m_i           # [g/cm3]\n",
    "\n",
    "### Printing input parameters: ### \n",
    "print ('')\n",
    "print ('Parameters:------------------')\n",
    "print ('')\n",
    "print ('Flow velocity V           = {:.1e}'.format(V),           '[cm/s]')\n",
    "print ('B-field                   = {:.1e}'.format(B),           '[G]')\n",
    "print ('Electron temperature T_e  = {:.1f}'.format(T_e),         '   [eV]')\n",
    "print ('Ion temperature T_i       = {:.1f}'.format(T_i),         '   [eV]')\n",
    "print ('Electron density n_e      = {:.1e}'.format(n_e),         '[cm-3]')\n",
    "print ('Ion density n_i           = {:.1e}'.format(n_i),         '[cm-3]')   \n",
    "print ('Density rho               = {:.1e}'.format(rho),         '[g/cm-3]')\n",
    "print ('Charge state Z            = {:.1f}'.format(Z))\n",
    "print ('Mass number A             = {:.1f}'.format(A))\n",
    "print ('Spacial scale             = {:.1e}'.format(space_scale), '[cm]')\n",
    "\n",
    "print ('')"
   ]
  },
  {
   "cell_type": "code",
   "execution_count": 99,
   "id": "a852c80f-9e2e-42d6-8fff-f91d8fb93ffd",
   "metadata": {
    "tags": []
   },
   "outputs": [
    {
     "name": "stdout",
     "output_type": "stream",
     "text": [
      "\n"
     ]
    }
   ],
   "source": [
    "### Sound velocity and Alfven velocity\n",
    "c_sound = np.sqrt(5.0*(n_i*T_i*K_Bol*1.16e4+n_e*T_e*K_Bol*1.16e4)/(3.0*rho)) # P_ther*gamma = rho*V_s^2 (1 eV = 1.16e4 K)\n",
    "# print ('Sound velocity            = {:.1e}'.format(c_sound),  '[cm/s]')\n",
    "c_alfven = B/(4*np.pi*n_i*m_i)**(1./2) # Formula from NRL p.29\n",
    "# print ('Alfven velocity           = {:.1e}'.format(c_alfven), '[cm/s]')\n",
    "c_magnetosonic = np.sqrt(c_sound**2 + c_alfven**2)\n",
    "# print ('c_magnetosonic velocity   = {:.1e}'.format(c_magnetosonic), '[cm/s]')\n",
    "\n",
    "print ('')"
   ]
  },
  {
   "cell_type": "code",
   "execution_count": 100,
   "id": "6b777078-d48a-4c06-8c0d-7d03479d01e0",
   "metadata": {},
   "outputs": [
    {
     "name": "stdout",
     "output_type": "stream",
     "text": [
      " \n"
     ]
    }
   ],
   "source": [
    "### ion inertial length\n",
    "di = 2.28e7 * Z**(-1) * (A/n_i)**(0.5)  #[cm]\n",
    "# print ('Ion inertial length di         = {:.1f}'.format(di*1e4),     '[um]')\n",
    "\n",
    "### electron inertial length\n",
    "de = 5.31e5 * (1/n_e)**(0.5)  #[cm]\n",
    "# print ('Electron inertial length de    = {:.1f}'.format(de*1e4),     '[um]')\n",
    "print(\" \")"
   ]
  },
  {
   "cell_type": "code",
   "execution_count": 101,
   "id": "c97d6040-6741-420b-8ee5-e65f732c29da",
   "metadata": {
    "tags": []
   },
   "outputs": [],
   "source": [
    "## collisions with near Maxwellian species and Ti ~ Te\n",
    "\n",
    "# for eon-eon\n",
    "cou_log_ee = 23.5 - np.log(n_e**0.5 * T_e**(-5./4.)) - (1e-5 + (np.log(T_e)-2.)**2/16.)**0.5\n",
    "# print('cou_log_ee = {:.1f}'.format(cou_log_ee))\n",
    "v_ee = 2.9e-6 * n_e * cou_log_ee * T_e**(-3./2.) # s^-1\n",
    "tau_ee = 1. / v_ee * 1e9 # ns\n",
    "# print('v_ee       = {:.1e} s^-1'.format(v_ee))\n",
    "# print('tau_ee     = {:.1e} ns'.format(tau_ee))"
   ]
  },
  {
   "cell_type": "code",
   "execution_count": 102,
   "id": "9439e6a4-55b8-4239-8403-4e292e749a47",
   "metadata": {},
   "outputs": [],
   "source": [
    "cou_log_ii = 23. - np.log(np.sqrt(2.) * Z**3 * n_i**0.5 * T_i**(-1.5))\n",
    "# print('Coul. Log. of ion-ion = {:.1f}'.format(cou_log_ii))\n",
    "v_ii = 4.8e-8 * n_i * cou_log_ii * T_i**(-3./2.) * A**(-0.5) * Z**4 # s^-1\n",
    "tau_ii = 1./v_ii*1e9 # ns\n",
    "# print('v_ii       = {:.1e} s^-1'.format(v_ii))\n",
    "# print('tau_ii     = {:.1e} ns'.format(tau_ii))"
   ]
  },
  {
   "cell_type": "code",
   "execution_count": 103,
   "id": "24447116-248b-4f18-a3aa-2f7cf9366116",
   "metadata": {
    "tags": []
   },
   "outputs": [
    {
     "name": "stdout",
     "output_type": "stream",
     "text": [
      "T_i = 140.0\n",
      "T_e = 200.0\n",
      "T_i * mass_electron / m_i = 3.8e-03\n",
      "10. * Z**2 = 640.0\n",
      "case 1:\n",
      " \n",
      "for ion-eon, x_ie = 4.99e-01\n",
      "for eon-ion, x_ei = 2.62e+04\n",
      "case a:\n",
      " \n",
      "case B:\n",
      "ekin_e = 99.8 eV\n"
     ]
    }
   ],
   "source": [
    "# for ion-eon\n",
    "print('T_i = {:.1f}'.format(T_i))\n",
    "print('T_e = {:.1f}'.format(T_e))\n",
    "print('T_i * mass_electron / m_i = {:.1e}'.format(T_i * mass_electron / m_i))\n",
    "print('10. * Z**2 = {:.1f}'.format(10. * Z**2))\n",
    "\n",
    "if T_i * mass_electron / m_i < T_e < 10. * Z**2:\n",
    "    print('case 1:')\n",
    "    cou_log_ie = 23. - np.log(n_e**0.5 * Z * T_e**(-1.5))\n",
    "elif T_i * mass_electron / m_i < 10. * Z**2 < T_e:\n",
    "    print('case 2:')\n",
    "    cou_log_ie = 24. - np.log(n_e**0.5 * T_e**(-1))\n",
    "elif T_e < T_i * mass_electron / m_i:\n",
    "    print('case 3:')\n",
    "    cou_log_ie = 16. - np.log(n_i**0.5 * T_i**(-1.5) * Z**2 * A)\n",
    "# print('cou_log_ie = {:.1f}'.format(cou_log_ie))\n",
    "print(' ')\n",
    "\n",
    "#thermal electron velocity\n",
    "vth_e= 4.19e7*(T_e)**(1./2) # [cm/sec] Formula from NRL p.29\n",
    "v_rel = vth_e\n",
    "x_ie = mass_electron * v_rel**2 / (2*T_e*K_Bol*1.16e4)\n",
    "print('for ion-eon, x_ie = {:.2e}'.format(x_ie))\n",
    "x_ei = m_i * v_rel**2 / (2*T_i*K_Bol*1.16e4)\n",
    "print('for eon-ion, x_ei = {:.2e}'.format(x_ei))\n",
    "\n",
    "if x_ie < 1:\n",
    "    print('case a:')\n",
    "    f_ie = 1.6e-9 * A**(-1) * T_e**(-1.5) * n_e * Z**2 * cou_log_ie\n",
    "else:\n",
    "    print('case b:')\n",
    "    f_ie = 1.7e-4 * A**0.5 * ekin_i**(-1.5) * n_e * Z**2 * cou_log_ie\n",
    "\n",
    "tau_ie = 1./f_ie*1e9 # ns\n",
    "# print('collision frequency f_ie   = {:.2e} s^-1'.format(f_ie))\n",
    "# print('collision time      tau_ie = {:.1f} ns'.format(1./f_ie*1e9))\n",
    "\n",
    "cou_log_ei = cou_log_ie\n",
    "# print('cou_log_ei = {:.1f}'.format(cou_log_ei))\n",
    "print(' ')\n",
    "if x_ei < 1:\n",
    "    print('case A:')\n",
    "    f_ei = 0.23 * A**1.5 / T_i**1.5 * n_i * Z**2 * cou_log_ei\n",
    "else:\n",
    "    print('case B:')\n",
    "    ekin_e = 0.5*(mass_electron*1e-3)*(vth_e*1e-2)**2 / e_charge # [eV]\n",
    "    print('ekin_e = {:.1f} eV'.format(ekin_e))\n",
    "    f_ei = 3.9e-6 / ekin_e**1.5 * n_i * Z**2 * cou_log_ei\n",
    "\n",
    "tau_ei = 1./f_ei*1e9 # ns\n",
    "# print('collision frequency f_ei   = {:.2e} s^-1'.format(f_ei))\n",
    "# print('collision time      tau_ei = {:.1e} ns'.format(1./f_ei*1e9))\n",
    "\n",
    "\n"
   ]
  },
  {
   "cell_type": "code",
   "execution_count": 104,
   "id": "6af3a638-978b-4c2e-b8bf-bfcaefaf1ab2",
   "metadata": {},
   "outputs": [],
   "source": [
    "import matplotlib.pyplot as plt"
   ]
  },
  {
   "cell_type": "code",
   "execution_count": 105,
   "id": "0c236694-5508-4292-be97-5b0383f51ed7",
   "metadata": {},
   "outputs": [],
   "source": [
    "tau_ii_Neon = tau_ii"
   ]
  },
  {
   "cell_type": "code",
   "execution_count": 125,
   "id": "5b84c2f1-c9d1-4c57-85a3-f24928ee294f",
   "metadata": {},
   "outputs": [
    {
     "data": {
      "image/png": "[encoded data removed]",
      "text/plain": [
       "<Figure size 640x480 with 1 Axes>"
      ]
     },
     "metadata": {},
     "output_type": "display_data"
    }
   ],
   "source": [
    "plt.loglog(n_e, tau_ii_Neon, '-', color='red', label='Neon: Z=8')\n",
    "plt.loglog(n_e, tau_ii_Hydrogen, '--', color='blue', label='Hydrogen: Z=1')\n",
    "\n",
    "\n",
    "plt.xlabel(r'$n_e$ (cm$^{-3}$)',fontsize=20)\n",
    "plt.ylabel('i-i collision time (ns)',fontsize=20)\n",
    "# plt.title('Ion species: Nitrogen N')\n",
    "plt.xlim(1e17,1e20)\n",
    "plt.ylim(1e-3,100)\n",
    "# plt.grid(which='both',alpha=0.5,ls='--')\n",
    "plt.legend(fontsize=16)\n",
    "plt.xticks(fontsize=18)\n",
    "plt.yticks(fontsize=18)\n",
    "plt.tight_layout()\n",
    "# plt.show()\n",
    "plt.savefig('/Users/yao/Desktop/i_i_coll.png',dpi=600)"
   ]
  },
  {
   "cell_type": "code",
   "execution_count": 122,
   "id": "2ac8f3db-0a9e-4de9-a5e2-fe969cb684df",
   "metadata": {},
   "outputs": [
    {
     "data": {
      "text/plain": [
       "<Figure size 640x480 with 0 Axes>"
      ]
     },
     "metadata": {},
     "output_type": "display_data"
    }
   ],
   "source": [
    "plt.savefig('/Users/yao/Desktop/i_i_coll.pdf',dpi=600)"
   ]
  },
  {
   "cell_type": "code",
   "execution_count": 96,
   "id": "5ba89b0b-9389-43bd-9d39-67e846b9fe07",
   "metadata": {},
   "outputs": [],
   "source": [
    "tau_ii_Hydrogen = tau_ii"
   ]
  },
  {
   "cell_type": "code",
   "execution_count": 3,
   "id": "0449340d-a266-4daa-9f34-216dfb17deb9",
   "metadata": {},
   "outputs": [],
   "source": [
    "ni = 1.e3 / (1.38e-23 * 300.) # m^-3"
   ]
  },
  {
   "cell_type": "code",
   "execution_count": 5,
   "id": "cbec3b93-0f4b-4e26-a2b6-ecd5096af57b",
   "metadata": {},
   "outputs": [],
   "source": [
    "me  = 9.1e-31\n",
    "mp  = 1836*me\n",
    "mi  = 14*mp # kg\n",
    "rho = mi*ni # kg/m3"
   ]
  },
  {
   "cell_type": "code",
   "execution_count": 6,
   "id": "159b27ff-d1a5-402e-8b51-fa674a0828f4",
   "metadata": {},
   "outputs": [
    {
     "data": {
      "text/plain": [
       "0.00564991304347826"
      ]
     },
     "execution_count": 6,
     "metadata": {},
     "output_type": "execute_result"
    }
   ],
   "source": [
    "rho"
   ]
  },
  {
   "cell_type": "code",
   "execution_count": 7,
   "id": "2ad5d69c-e159-4872-a362-7a82d1f46dfe",
   "metadata": {},
   "outputs": [
    {
     "data": {
      "text/plain": [
       "5.649913043478261e-06"
      ]
     },
     "execution_count": 7,
     "metadata": {},
     "output_type": "execute_result"
    }
   ],
   "source": [
    "rho*1e3/1e6"
   ]
  },
  {
   "cell_type": "code",
   "execution_count": null,
   "id": "9b3956bd-358b-4f8b-b8bb-4a5201f12e38",
   "metadata": {},
   "outputs": [],
   "source": []
  }
 ],
 "metadata": {
  "kernelspec": {
   "display_name": "Python 3 (ipykernel)",
   "language": "python",
   "name": "python3"
  },
  "language_info": {
   "codemirror_mode": {
    "name": "ipython",
    "version": 3
   },
   "file_extension": ".py",
   "mimetype": "text/x-python",
   "name": "python",
   "nbconvert_exporter": "python",
   "pygments_lexer": "ipython3",
   "version": "3.9.18"
  }
 },
 "nbformat": 4,
 "nbformat_minor": 5
}
