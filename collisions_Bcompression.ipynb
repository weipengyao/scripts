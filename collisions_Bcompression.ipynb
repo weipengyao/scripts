{
 "cells": [
  {
   "cell_type": "code",
   "execution_count": 5,
   "id": "b8986189-6e01-4fa8-a8ce-2097b64aec81",
   "metadata": {
    "tags": []
   },
   "outputs": [
    {
     "name": "stdout",
     "output_type": "stream",
     "text": [
      "Intel MKL WARNING: Support of Intel(R) Streaming SIMD Extensions 4.2 (Intel(R) SSE4.2) enabled only processors has been deprecated. Intel oneAPI Math Kernel Library 2025.0 will require Intel(R) Advanced Vector Extensions (Intel(R) AVX) instructions.\n",
      "Intel MKL WARNING: Support of Intel(R) Streaming SIMD Extensions 4.2 (Intel(R) SSE4.2) enabled only processors has been deprecated. Intel oneAPI Math Kernel Library 2025.0 will require Intel(R) Advanced Vector Extensions (Intel(R) AVX) instructions.\n"
     ]
    }
   ],
   "source": [
    "import numpy as np"
   ]
  },
  {
   "cell_type": "code",
   "execution_count": 6,
   "id": "cb9f5e80-47bc-479a-a817-c075cebde770",
   "metadata": {
    "tags": []
   },
   "outputs": [],
   "source": [
    "### Fundamental parameters\n",
    "e_charge = 1.6022e-19 # [C] electron charge\n",
    "e_charge_cgs = 4.8e-10  # [statcoul] \n",
    "mass_proton = 1.6726e-24 # [g] proton mass \n",
    "mass_electron = 9.109e-28  # [g] electron mass\n",
    "c_cgs         = 3.0e10     # [cm/s]\n",
    "gamma = 5./3 # adiabatic index\n",
    "K_Bol = 1.38e-16 # Boltsmann constant in CGS units"
   ]
  },
  {
   "cell_type": "code",
   "execution_count": 33,
   "id": "a9a3cb19-cedb-4de3-a5ef-902b80077f67",
   "metadata": {
    "tags": []
   },
   "outputs": [],
   "source": [
    "### Input parameters for the plasma system in CGS units\n",
    "### except T_e, T_i are in [eV]\n",
    "\n",
    "# magnetic field compression\n",
    "V = 1.3e7; \n",
    "B = 300.e4; # just a place holder\n",
    "T_e = 350.; \n",
    "T_i = 350.; \n",
    "n_e = 1.0e20; \n",
    "# n_e = np.logspace(17, 21, 1000);\n",
    "space_scale = 0.1;  # just a place holder\n",
    "A = 64.0; \n",
    "Z = 19.0  "
   ]
  },
  {
   "cell_type": "code",
   "execution_count": 34,
   "id": "01eab368-5f53-49cd-a070-1b3cf5427207",
   "metadata": {
    "tags": []
   },
   "outputs": [
    {
     "name": "stdout",
     "output_type": "stream",
     "text": [
      "\n",
      "Parameters:------------------\n",
      "\n",
      "Flow velocity V           = 1.3e+07 [cm/s]\n",
      "B-field                   = 3.0e+06 [G]\n",
      "Electron temperature T_e  = 350.0    [eV]\n",
      "Ion temperature T_i       = 350.0    [eV]\n",
      "Electron density n_e      = 1.0e+20 [cm-3]\n",
      "Ion density n_i           = 5.3e+18 [cm-3]\n",
      "Density rho               = 5.6e-04 [g/cm-3]\n",
      "Charge state Z            = 19.0\n",
      "Mass number A             = 64.0\n",
      "Spacial scale             = 1.0e-01 [cm]\n",
      "\n"
     ]
    }
   ],
   "source": [
    "m_i = A * mass_proton   # [g]\n",
    "n_i = n_e/Z             # [cm-3]\n",
    "rho = n_i*m_i           # [g/cm3]\n",
    "\n",
    "### Printing input parameters: ### \n",
    "print ('')\n",
    "print ('Parameters:------------------')\n",
    "print ('')\n",
    "print ('Flow velocity V           = {:.1e}'.format(V),           '[cm/s]')\n",
    "print ('B-field                   = {:.1e}'.format(B),           '[G]')\n",
    "print ('Electron temperature T_e  = {:.1f}'.format(T_e),         '   [eV]')\n",
    "print ('Ion temperature T_i       = {:.1f}'.format(T_i),         '   [eV]')\n",
    "print ('Electron density n_e      = {:.1e}'.format(n_e),         '[cm-3]')\n",
    "print ('Ion density n_i           = {:.1e}'.format(n_i),         '[cm-3]')   \n",
    "print ('Density rho               = {:.1e}'.format(rho),         '[g/cm-3]')\n",
    "print ('Charge state Z            = {:.1f}'.format(Z))\n",
    "print ('Mass number A             = {:.1f}'.format(A))\n",
    "print ('Spacial scale             = {:.1e}'.format(space_scale), '[cm]')\n",
    "\n",
    "print ('')"
   ]
  },
  {
   "cell_type": "code",
   "execution_count": 35,
   "id": "a852c80f-9e2e-42d6-8fff-f91d8fb93ffd",
   "metadata": {
    "tags": []
   },
   "outputs": [
    {
     "name": "stdout",
     "output_type": "stream",
     "text": [
      "Sound velocity            = 1.3e+07 [cm/s]\n",
      "Alfven velocity           = 3.6e+07 [cm/s]\n",
      "c_magnetosonic velocity   = 3.8e+07 [cm/s]\n",
      "\n"
     ]
    }
   ],
   "source": [
    "### Sound velocity and Alfven velocity\n",
    "c_sound = np.sqrt(5.0*(n_i*T_i*K_Bol*1.16e4+n_e*T_e*K_Bol*1.16e4)/(3.0*rho)) # P_ther*gamma = rho*V_s^2 (1 eV = 1.16e4 K)\n",
    "print ('Sound velocity            = {:.1e}'.format(c_sound),  '[cm/s]')\n",
    "c_alfven = B/(4*np.pi*n_i*m_i)**(1./2) # Formula from NRL p.29\n",
    "print ('Alfven velocity           = {:.1e}'.format(c_alfven), '[cm/s]')\n",
    "c_magnetosonic = np.sqrt(c_sound**2 + c_alfven**2)\n",
    "print ('c_magnetosonic velocity   = {:.1e}'.format(c_magnetosonic), '[cm/s]')\n",
    "\n",
    "print ('')"
   ]
  },
  {
   "cell_type": "code",
   "execution_count": 27,
   "id": "6b777078-d48a-4c06-8c0d-7d03479d01e0",
   "metadata": {},
   "outputs": [
    {
     "name": "stdout",
     "output_type": "stream",
     "text": [
      "Ion inertial length di    = 41.8 [um]\n",
      "Electron inertial length de    = 0.5 [um]\n",
      " \n"
     ]
    }
   ],
   "source": [
    "### ion inertial length\n",
    "di = 2.28e7 * Z**(-1) * (A/n_i)**(0.5)  #[cm]\n",
    "print ('Ion inertial length di    = {:.1f}'.format(di*1e4),     '[um]')\n",
    "\n",
    "### electron inertial length\n",
    "de = 5.31e5 * (1/n_e)**(0.5)  #[cm]\n",
    "print ('Electron inertial length de    = {:.1f}'.format(de*1e4),     '[um]')\n",
    "print(\" \")"
   ]
  },
  {
   "cell_type": "code",
   "execution_count": 28,
   "id": "6362b73b-0c8d-487c-9c6a-7f4b1dece919",
   "metadata": {
    "tags": []
   },
   "outputs": [
    {
     "name": "stdout",
     "output_type": "stream",
     "text": [
      "relative velocity v_rel = 2.60e+07 [cm/s]\n",
      "\n",
      "for ion-ion, x_ii = 6.46e+01\n",
      "for ion-eon, x_ie = 5.50e-04\n",
      "for eon-ion, x_ei = 6.46e+01\n",
      "for eon-eon, x_ee = 5.50e-04\n",
      " \n"
     ]
    }
   ],
   "source": [
    "## when streaming/drifting, more care should be taken.\n",
    "\n",
    "## first, go to the background plasma reference frame and get the streaming velocity\n",
    "v_rel = V * 2\n",
    "print('relative velocity v_rel = {:.2e} [cm/s]'.format(v_rel))\n",
    "print('')\n",
    "## then, check if the streaming particle is slow or fast\n",
    "\n",
    "## for ion-ion\n",
    "x_ii = m_i * v_rel**2 / (2*T_i*K_Bol*1.16e4)\n",
    "print('for ion-ion, x_ii = {:.2e}'.format(x_ii))\n",
    "x_ie = mass_electron * v_rel**2 / (2*T_e*K_Bol*1.16e4)\n",
    "print('for ion-eon, x_ie = {:.2e}'.format(x_ie))\n",
    "x_ei = m_i * v_rel**2 / (2*T_i*K_Bol*1.16e4)\n",
    "print('for eon-ion, x_ei = {:.2e}'.format(x_ei))\n",
    "x_ee = mass_electron * v_rel**2 / (2*T_e*K_Bol*1.16e4)\n",
    "print('for eon-eon, x_ee = {:.2e}'.format(x_ee))\n",
    "print(' ')"
   ]
  },
  {
   "cell_type": "code",
   "execution_count": 29,
   "id": "3145b14a-2509-4bd3-b7d2-eaf1269ff3e5",
   "metadata": {
    "tags": []
   },
   "outputs": [
    {
     "name": "stdout",
     "output_type": "stream",
     "text": [
      "ekin_i = 5.65e+03 eV\n",
      "ekin_e = 4.80e-02 eV\n",
      " \n",
      "Coul. Log. of ion-ion =  6.3782613465225\n",
      " \n",
      "collision frequency f_ii   = 2.32e+11 s^-1\n",
      "collision time      tau_ii = 4.3e-03 ns\n"
     ]
    }
   ],
   "source": [
    "## next, calculate oen of the collisional rates (the slowing down one) accordingly\n",
    "\n",
    "ekin_i = 0.5*(m_i*1e-3)*(V*1e-2)**2 / e_charge # [eV]\n",
    "print('ekin_i = {:.2e} eV'.format(ekin_i))\n",
    "\n",
    "ekin_e = 0.5*(mass_electron*1e-3)*(V*1e-2)**2 / e_charge # [eV]\n",
    "print('ekin_e = {:.2e} eV'.format(ekin_e))\n",
    "print(' ')\n",
    "\n",
    "# for ion-ion\n",
    "cou_log_ii = 43. - np.log(Z*Z*(A+A)/(A*A*v_rel**2/c_cgs**2) * (n_e/T_e)**(0.5))\n",
    "print('Coul. Log. of ion-ion = ', cou_log_ii)\n",
    "print(' ')\n",
    "if x_ii < 1:    \n",
    "    f_ii = 6.8e-8 * A**(-0.5) * 2 * T_i**(-1.5) * n_i * Z**4 * cou_log_ii\n",
    "else:\n",
    "    f_ii = 9.0e-8 * (1./A + 1./A) * A**(0.5) / ekin_i**(1.5) * n_i * Z**4 * cou_log_ii\n",
    "print('collision frequency f_ii   = {:.2e} s^-1'.format(f_ii))\n",
    "print('collision time      tau_ii = {:.1e} ns'.format(1./f_ii*1e9))"
   ]
  },
  {
   "cell_type": "code",
   "execution_count": 30,
   "id": "68b48df9-3b45-478e-a491-e4f044dae5ce",
   "metadata": {
    "tags": []
   },
   "outputs": [
    {
     "name": "stdout",
     "output_type": "stream",
     "text": [
      "Coul. Log. of ion-eon =  5.816609822618293\n",
      " \n",
      "collision frequency f_ie   = 8.02e+08 s^-1\n",
      "collision time      tau_ie = 1.2 ns\n"
     ]
    }
   ],
   "source": [
    "# for ion-eon\n",
    "if T_i * mass_electron / m_i < T_e < 10. * Z**2:\n",
    "    cou_log_ie = 23. - np.log(n_e**0.5 * Z * T_e**(-1.5))\n",
    "elif 10. * Z**2 < T_e:\n",
    "    cou_log_ie = 24. - np.log(n_e**0.5 * T_e**(-1))\n",
    "elif T_e < T_i * mass_electron / m_i:\n",
    "    cou_log_ie = 16. - np.log(n_i**0.5 * T_i**(-1.5) * Z**2 * A)\n",
    "print('Coul. Log. of ion-eon = ', cou_log_ie)\n",
    "print(' ')\n",
    "\n",
    "if x_ie < 1:\n",
    "    f_ie = 1.6e-9 * A**(-1) * T_e**(-1.5) * n_e * Z**2 * cou_log_ie\n",
    "else:\n",
    "    f_ie = 1.7e-4 * A**0.5 * ekin_i**(-1.5) * n_e * Z**2 * cou_log_ie\n",
    "print('collision frequency f_ie   = {:.2e} s^-1'.format(f_ie))\n",
    "print('collision time      tau_ie = {:.1f} ns'.format(1./f_ie*1e9))"
   ]
  },
  {
   "cell_type": "code",
   "execution_count": 31,
   "id": "2606ac30-c256-4363-bf1f-a8f8645296c4",
   "metadata": {},
   "outputs": [
    {
     "name": "stdout",
     "output_type": "stream",
     "text": [
      "Coul. Log. of eon-ion =  5.816609822618293\n",
      " \n",
      "collision frequency f_ei   = 4.09e+18 s^-1\n",
      "collision time      tau_ei = 2.4e-10 ns\n"
     ]
    }
   ],
   "source": [
    "# for eon-ion\n",
    "cou_log_ei = cou_log_ie\n",
    "print('Coul. Log. of eon-ion = ', cou_log_ei)\n",
    "print(' ')\n",
    "if x_ei < 1:\n",
    "    f_ei = 0.23 * A**1.5 / T_i**1.5 * n_i * Z**2 * cou_log_ei\n",
    "else:\n",
    "    f_ei = 3.9e-6 / ekin_e**1.5 * n_i * Z**2 * cou_log_ei\n",
    "print('collision frequency f_ei   = {:.2e} s^-1'.format(f_ei))\n",
    "print('collision time      tau_ei = {:.1e} ns'.format(1./f_ei*1e9))"
   ]
  },
  {
   "cell_type": "code",
   "execution_count": 32,
   "id": "65aacfde-6fbd-4866-91d7-9e65ed5558b3",
   "metadata": {},
   "outputs": [
    {
     "name": "stdout",
     "output_type": "stream",
     "text": [
      "Coul. Log. of ion-eon =  6.832077040433935\n",
      " \n",
      "collision frequency f_ee   = 6.05e+11 s^-1\n",
      "collision time      tau_ee = 1.7e-03 ns\n"
     ]
    }
   ],
   "source": [
    "# for eon-eon\n",
    "cou_log_ee = 23.5 - np.log(n_e**0.5 / T_e**1.25) - (1e-5 + (np.log(T_e)-2.)**2 / 16.)**0.5\n",
    "print('Coul. Log. of ion-eon = ', cou_log_ee)\n",
    "print(' ')\n",
    "\n",
    "if x_ee < 1:\n",
    "    f_ee = 5.8e-6 / T_e**1.5 * n_e * cou_log_ee\n",
    "else:\n",
    "    f_ee = 7.7e-6 / ekin_e**1.5 * n_e * cou_log_ee\n",
    "print('collision frequency f_ee   = {:.2e} s^-1'.format(f_ee))\n",
    "print('collision time      tau_ee = {:.1e} ns'.format(1./f_ee*1e9))   "
   ]
  },
  {
   "cell_type": "code",
   "execution_count": null,
   "id": "6af3a638-978b-4c2e-b8bf-bfcaefaf1ab2",
   "metadata": {},
   "outputs": [],
   "source": []
  },
  {
   "cell_type": "code",
   "execution_count": null,
   "id": "5b84c2f1-c9d1-4c57-85a3-f24928ee294f",
   "metadata": {},
   "outputs": [],
   "source": []
  }
 ],
 "metadata": {
  "kernelspec": {
   "display_name": "Python 3 (ipykernel)",
   "language": "python",
   "name": "python3"
  },
  "language_info": {
   "codemirror_mode": {
    "name": "ipython",
    "version": 3
   },
   "file_extension": ".py",
   "mimetype": "text/x-python",
   "name": "python",
   "nbconvert_exporter": "python",
   "pygments_lexer": "ipython3",
   "version": "3.9.12"
  }
 },
 "nbformat": 4,
 "nbformat_minor": 5
}
