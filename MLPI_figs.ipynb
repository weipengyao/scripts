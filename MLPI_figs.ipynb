{
 "cells": [
  {
   "cell_type": "code",
   "execution_count": 1,
   "metadata": {},
   "outputs": [],
   "source": [
    "%matplotlib qt\n"
   ]
  },
  {
   "cell_type": "code",
   "execution_count": 5,
   "metadata": {},
   "outputs": [
    {
     "name": "stderr",
     "output_type": "stream",
     "text": [
      "/var/folders/2t/97rc3fl92tg15k2l_4sk5hsh0000gn/T/ipykernel_32529/3800475247.py:6: MatplotlibDeprecationWarning: The get_cmap function was deprecated in Matplotlib 3.7 and will be removed two minor releases later. Use ``matplotlib.colormaps[name]`` or ``matplotlib.colormaps.get_cmap(obj)`` instead.\n",
      "  jetcmap = plt.cm.get_cmap(\"jet\", 9) #generate a jet map with 10 values \"rainbow\", \"jet\", YlOrRd\n"
     ]
    }
   ],
   "source": [
    "import matplotlib as mpl\n",
    "import happi\n",
    "import numpy as np\n",
    "import matplotlib.pyplot as plt\n",
    "\n",
    "jetcmap = plt.cm.get_cmap(\"jet\", 9) #generate a jet map with 10 values \"rainbow\", \"jet\", YlOrRd\n",
    "jet_vals = jetcmap(np.arange(9)) #extract those values as an array \n",
    "jet_vals[0] = [1.0, 1, 1.0, 1] #change the first value \n",
    "jet_vals[8] = [0.0, 0, 0.0, 1] #change the first value \n",
    "newcmap = mpl.colors.LinearSegmentedColormap.from_list(\"mine\", jet_vals) \n",
    "\n",
    "# plt.rc('font', family='sans-serif', serif='Arial')\n",
    "# plt.rc('text', usetex=False)\n",
    "# plt.rc('xtick', labelsize=13)\n",
    "# plt.rc('ytick', labelsize=13)\n",
    "# plt.rc('axes', labelsize=13)\n",
    "# plt.rc('legend', fontsize=10)\n",
    "\n",
    "from matplotlib import font_manager\n",
    "\n",
    "font_dirs = ['/Users/yao/Documents/Calibri and Cambria Fonts/']\n",
    "font_files = font_manager.findSystemFonts(fontpaths=font_dirs)\n",
    "\n",
    "for font_file in font_files:\n",
    "    font_manager.fontManager.addfont(font_file)\n",
    "\n",
    "# set font\n",
    "plt.rcParams['font.family'] = 'Calibri'\n",
    "\n",
    "plt.rc('text', usetex=False)\n",
    "plt.rc('xtick', labelsize=8)\n",
    "plt.rc('ytick', labelsize=8)\n",
    "plt.rc('axes', labelsize=8)\n",
    "plt.rc('legend', fontsize=6)"
   ]
  },
  {
   "cell_type": "code",
   "execution_count": 3,
   "metadata": {},
   "outputs": [],
   "source": [
    "# data\n",
    "\n",
    "ne_nc = np.array([0.02, 0.046, 0.1, 0.15])\n",
    "\n",
    "#Fig.2a purple\n",
    "SRS_2beam = np.array([1.799143608, -2.028410968, -5.386205842, -7.371189835])\n",
    "\n",
    "#Fig.2a green\n",
    "SRS_1beam = np.array([7.460553396, -0.207900208, 9.241221087, 13.8362536])\n",
    "\n",
    "#Fig.2b purple\n",
    "SBS_2beam = np.array([0.192278111, -3.752827473, -6.637662188, -10.11376182])\n",
    "\n",
    "#Fig.2b green\n",
    "SBS_1beam = np.array([27.64896535, 18.95386424, 23.06468801, 34.64993689])\n",
    "\n",
    "#Fig.3a blue\n",
    "SRS_nB    = np.array([-20.56082781, -17.46702566, -18.05425076, -8.909175616])\n",
    "\n",
    "#Fig.3a red\n",
    "SRS_wB    = np.array([-24.7459701, -18.9726776, -29.02680716, -25.87919566])\n",
    "\n",
    "#Fig.3b blue\n",
    "SBS_nB    = np.array([-18.96035901, -15.31655076, -17.37685101, 3.115796768])\n",
    "\n",
    "#Fig.3b red\n",
    "SBS_wB    = np.array([-36.39160156, -31.48148148, -37.31840976, -31.16453463])\n"
   ]
  },
  {
   "cell_type": "code",
   "execution_count": null,
   "metadata": {},
   "outputs": [
    {
     "data": {
      "text/plain": [
       "<matplotlib.legend.Legend at 0x16b2c44f0>"
      ]
     },
     "execution_count": 33,
     "metadata": {},
     "output_type": "execute_result"
    }
   ],
   "source": [
    "# Fig.2a\n",
    "cm = 1/2.54  # centimeters in inches\n",
    "\n",
    "fig, axs = plt.subplots(figsize=(4*cm, 4*cm))\n",
    "fig.subplots_adjust(left=.3, bottom=.25, right=.95, top=.95)\n",
    "\n",
    "axs.plot(ne_nc,SRS_2beam,'v', color='purple', \n",
    "         markersize=3, fillstyle='none', markeredgewidth=1,\n",
    "         label='2 beams')\n",
    "\n",
    "axs.plot(ne_nc,SRS_1beam,'D', color='green',\n",
    "         markersize=3, fillstyle='none', markeredgewidth=1,\n",
    "         label='1 beam')\n",
    "\n",
    "axs.set_xlim([0,0.2])\n",
    "axs.set_ylim([-20,20])\n",
    "# axs.set_xticks([0,2,4,6,8])\n",
    "# axs.set_yticks([0,2,4,6,8])\n",
    "axs.set_ylabel('% diff. (w. vs. w/o B)')\n",
    "axs.set_xlabel(r'$n_e/n_c$')\n",
    "axs.grid(which='both', linestyle='--', linewidth=0.5)\n",
    "axs.legend(fancybox=False, frameon=True, loc='best')\n",
    "# fig.savefig('/Users/yz/Desktop/SRS_exp.pdf',dpi=600)"
   ]
  },
  {
   "cell_type": "code",
   "execution_count": 34,
   "metadata": {},
   "outputs": [],
   "source": [
    "fig.savefig('/Users/yao/Desktop/SRS_beams.pdf',dpi=600)"
   ]
  },
  {
   "cell_type": "code",
   "execution_count": null,
   "metadata": {},
   "outputs": [
    {
     "data": {
      "text/plain": [
       "<matplotlib.legend.Legend at 0x16b0c1a60>"
      ]
     },
     "execution_count": 31,
     "metadata": {},
     "output_type": "execute_result"
    }
   ],
   "source": [
    "#Fig.2b\n",
    "\n",
    "cm = 1/2.54  # centimeters in inches\n",
    "\n",
    "fig, axs = plt.subplots(figsize=(4*cm, 4*cm))\n",
    "fig.subplots_adjust(left=.3, bottom=.25, right=.95, top=.95)\n",
    "\n",
    "axs.plot(ne_nc,SBS_2beam,'v', color='purple', \n",
    "         markersize=3, fillstyle='none', markeredgewidth=1,\n",
    "         label='2 beams')\n",
    "\n",
    "axs.plot(ne_nc,SBS_1beam,'D', color='green',\n",
    "         markersize=3, fillstyle='none', markeredgewidth=1,\n",
    "         label='1 beam')\n",
    "\n",
    "axs.set_xlim([0,0.2])\n",
    "axs.set_ylim([-40,40])\n",
    "# axs.set_xticks([0,2,4,6,8])\n",
    "# axs.set_yticks([0,2,4,6,8])\n",
    "axs.set_ylabel('% diff. (w. vs. w/o B)')\n",
    "axs.set_xlabel(r'$n_e/n_c$')\n",
    "axs.grid(which='both', linestyle='--', linewidth=0.5)\n",
    "axs.legend(fancybox=False, frameon=True, loc='best')\n",
    "# fig.savefig('/Users/yz/Desktop/SRS_exp.pdf',dpi=600)"
   ]
  },
  {
   "cell_type": "code",
   "execution_count": 32,
   "metadata": {},
   "outputs": [],
   "source": [
    "fig.savefig('/Users/yao/Desktop/SBS_beams.pdf',dpi=600)"
   ]
  },
  {
   "cell_type": "code",
   "execution_count": 39,
   "metadata": {},
   "outputs": [
    {
     "data": {
      "text/plain": [
       "<matplotlib.legend.Legend at 0x16b82fa30>"
      ]
     },
     "execution_count": 39,
     "metadata": {},
     "output_type": "execute_result"
    }
   ],
   "source": [
    "#Fig.3a\n",
    "\n",
    "cm = 1/2.54  # centimeters in inches\n",
    "\n",
    "fig, axs = plt.subplots(figsize=(4*cm, 4*cm))\n",
    "fig.subplots_adjust(left=.3, bottom=.25, right=.95, top=.95)\n",
    "\n",
    "axs.plot(ne_nc,SRS_nB,'o', color='blue', \n",
    "         markersize=3, fillstyle='none', markeredgewidth=1,\n",
    "         label='w/o B')\n",
    "\n",
    "axs.plot(ne_nc,SRS_wB,'s', color='red',\n",
    "         markersize=3, fillstyle='none', markeredgewidth=1,\n",
    "         label='w.  B')\n",
    "\n",
    "axs.set_xlim([0,0.2])\n",
    "axs.set_ylim([-40,10])\n",
    "# axs.set_xticks([0,2,4,6,8])\n",
    "# axs.set_yticks([0,2,4,6,8])\n",
    "axs.set_ylabel('% diff. (2 vs. 1 beams)')\n",
    "axs.set_xlabel(r'$n_e/n_c$')\n",
    "axs.grid(which='both', linestyle='--', linewidth=0.5)\n",
    "axs.legend(fancybox=False, frameon=True, loc='best')\n",
    "# fig.savefig('/Users/yz/Desktop/SRS_exp.pdf',dpi=600)"
   ]
  },
  {
   "cell_type": "code",
   "execution_count": 40,
   "metadata": {},
   "outputs": [],
   "source": [
    "fig.savefig('/Users/yao/Desktop/SRS_beams.pdf',dpi=600)"
   ]
  },
  {
   "cell_type": "code",
   "execution_count": 41,
   "metadata": {},
   "outputs": [
    {
     "data": {
      "text/plain": [
       "<matplotlib.legend.Legend at 0x16b7e1670>"
      ]
     },
     "execution_count": 41,
     "metadata": {},
     "output_type": "execute_result"
    }
   ],
   "source": [
    "#Fig.3b\n",
    "\n",
    "cm = 1/2.54  # centimeters in inches\n",
    "\n",
    "fig, axs = plt.subplots(figsize=(4*cm, 4*cm))\n",
    "fig.subplots_adjust(left=.3, bottom=.25, right=.95, top=.95)\n",
    "\n",
    "axs.plot(ne_nc,SBS_nB,'o', color='blue', \n",
    "         markersize=3, fillstyle='none', markeredgewidth=1,\n",
    "         label='w/o B')\n",
    "\n",
    "axs.plot(ne_nc,SBS_wB,'s', color='red',\n",
    "         markersize=3, fillstyle='none', markeredgewidth=1,\n",
    "         label='w.  B')\n",
    "\n",
    "axs.set_xlim([0,0.2])\n",
    "axs.set_ylim([-40,10])\n",
    "# axs.set_xticks([0,2,4,6,8])\n",
    "# axs.set_yticks([0,2,4,6,8])\n",
    "axs.set_ylabel('% diff. (2 vs. 1 beams)')\n",
    "axs.set_xlabel(r'$n_e/n_c$')\n",
    "axs.grid(which='both', linestyle='--', linewidth=0.5)\n",
    "axs.legend(fancybox=False, frameon=True, loc='best')\n",
    "# fig.savefig('/Users/yz/Desktop/SRS_exp.pdf',dpi=600)"
   ]
  },
  {
   "cell_type": "code",
   "execution_count": 42,
   "metadata": {},
   "outputs": [],
   "source": [
    "fig.savefig('/Users/yao/Desktop/SBS_beams.pdf',dpi=600)"
   ]
  },
  {
   "cell_type": "code",
   "execution_count": null,
   "metadata": {},
   "outputs": [],
   "source": []
  }
 ],
 "metadata": {
  "kernelspec": {
   "display_name": "Python 3",
   "language": "python",
   "name": "python3"
  },
  "language_info": {
   "codemirror_mode": {
    "name": "ipython",
    "version": 3
   },
   "file_extension": ".py",
   "mimetype": "text/x-python",
   "name": "python",
   "nbconvert_exporter": "python",
   "pygments_lexer": "ipython3",
   "version": "3.9.21"
  }
 },
 "nbformat": 4,
 "nbformat_minor": 2
}
