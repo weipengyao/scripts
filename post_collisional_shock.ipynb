{
 "cells": [
  {
   "cell_type": "code",
   "execution_count": 1,
   "id": "3bda0232-fa17-49e9-aae1-31580c7ba632",
   "metadata": {},
   "outputs": [
    {
     "name": "stderr",
     "output_type": "stream",
     "text": [
      "2023-10-17 11:15:53.714 Python[41756:7623254] WARNING: Secure coding is not enabled for restorable state! Enable secure coding by implementing NSApplicationDelegate.applicationSupportsSecureRestorableState: and returning YES.\n"
     ]
    }
   ],
   "source": [
    "%matplotlib qt"
   ]
  },
  {
   "cell_type": "code",
   "execution_count": 2,
   "id": "82196b52-ea9a-40ac-9c7f-ccbe40be34da",
   "metadata": {},
   "outputs": [
    {
     "name": "stderr",
     "output_type": "stream",
     "text": [
      "/var/folders/2t/97rc3fl92tg15k2l_4sk5hsh0000gn/T/ipykernel_41756/616493249.py:6: MatplotlibDeprecationWarning: The get_cmap function was deprecated in Matplotlib 3.7 and will be removed two minor releases later. Use ``matplotlib.colormaps[name]`` or ``matplotlib.colormaps.get_cmap(obj)`` instead.\n",
      "  jetcmap = plt.cm.get_cmap(\"jet\", 9) #generate a jet map with 10 values \"rainbow\", \"jet\", YlOrRd\n"
     ]
    }
   ],
   "source": [
    "import matplotlib as mpl\n",
    "import happi\n",
    "import numpy as np\n",
    "import matplotlib.pyplot as plt\n",
    "\n",
    "jetcmap = plt.cm.get_cmap(\"jet\", 9) #generate a jet map with 10 values \"rainbow\", \"jet\", YlOrRd\n",
    "jet_vals = jetcmap(np.arange(9)) #extract those values as an array \n",
    "jet_vals[0] = [1.0, 1, 1.0, 1] #change the first value \n",
    "jet_vals[8] = [0.0, 0, 0.0, 1] #change the first value \n",
    "newcmap = mpl.colors.LinearSegmentedColormap.from_list(\"mine\", jet_vals) "
   ]
  },
  {
   "cell_type": "code",
   "execution_count": 184,
   "id": "e043318b-6e36-4090-8eee-4cf67b0ef252",
   "metadata": {},
   "outputs": [],
   "source": [
    "wkdir = [\n",
    "          '/Volumes/LaCie_Yao23/collisional_shock/t7_1/t7_ne1e19_v150_T50_dx01_N5_n_coll_r0/',\n",
    "          '/Volumes/LaCie_Yao23/collisional_shock/t7_2/t7_ne1e19_v150_T50_dx01_N5_w_coll_r1/',\n",
    "         ]"
   ]
  },
  {
   "cell_type": "code",
   "execution_count": 185,
   "id": "d9369ffa-24d7-4b1a-b8eb-eac2f82bd091",
   "metadata": {},
   "outputs": [
    {
     "name": "stdout",
     "output_type": "stream",
     "text": [
      "Loaded simulation '/Volumes/LaCie_Yao23/collisional_shock/t7_1/t7_ne1e19_v150_T50_dx01_N5_n_coll_r0/'\n",
      "Scanning for Scalar diagnostics\n",
      "Scanning for Field diagnostics\n",
      "Scanning for Probe diagnostics\n",
      "Scanning for ParticleBinning diagnostics\n",
      "Scanning for RadiationSpectrum diagnostics\n",
      "Scanning for Performance diagnostics\n",
      "Scanning for Screen diagnostics\n",
      "Scanning for Tracked particle diagnostics\n",
      "Loaded simulation '/Volumes/LaCie_Yao23/collisional_shock/t7_2/t7_ne1e19_v150_T50_dx01_N5_w_coll_r1/'\n",
      "Scanning for Scalar diagnostics\n",
      "Scanning for Field diagnostics\n",
      "Scanning for Probe diagnostics\n",
      "Scanning for ParticleBinning diagnostics\n",
      "Scanning for RadiationSpectrum diagnostics\n",
      "Scanning for Performance diagnostics\n",
      "Scanning for Screen diagnostics\n",
      "Scanning for Tracked particle diagnostics\n"
     ]
    }
   ],
   "source": [
    "S0 = happi.Open(wkdir[0], reference_angular_frequency_SI=177788752730887.47)\n",
    "S1 = happi.Open(wkdir[1], reference_angular_frequency_SI=177788752730887.47)"
   ]
  },
  {
   "cell_type": "code",
   "execution_count": 12,
   "id": "e99c22e6-2cb0-4fd2-885d-fd5806f1c389",
   "metadata": {},
   "outputs": [],
   "source": [
    "# prepare constants, units\n",
    "\n",
    "me = 9.1e-31\n",
    "mp = 1836.*me\n",
    "qe = 1.6e-19\n",
    "ep = 8.9e-12  # epsilon_0\n",
    "c  = 3.0e8\n",
    "wr = S0.namelist.w_r\n",
    "de = c / wr\n",
    "Lx = S0.namelist.L_x.real * de * 1e3      # in mm\n",
    "dx = S0.namelist.d_x * de * 1e3           # in mm\n",
    "\n",
    "Te = S0.namelist.T_e * 511.e3             # in eV\n",
    "ne = 1.0e19                              # in cm-3\n",
    "ld = 7.43e2 * Te**0.5 * ne**(-0.5) * 10. # in mm\n",
    "dt = S0.namelist.d_t\n",
    "\n",
    "B0 = S0.namelist.B_z * (me * wr / qe)\n",
    "wc = qe * B0 / me\n"
   ]
  },
  {
   "cell_type": "code",
   "execution_count": 17,
   "id": "864f2701-8e63-4b72-87c5-b095be5418a9",
   "metadata": {},
   "outputs": [],
   "source": [
    "#%%\n",
    "\n",
    "Ex0 = S0.Field(0,'Ex', units=['mm','ns','cm^-3','km/s','V/m'],\n",
    "               label='w/o. coll.')\n",
    "\n",
    "Ex1 = S1.Field(0,'Ex', units=['mm','ns','cm^-3','km/s','V/m'],\n",
    "               label='with coll.')\n",
    "                              \n",
    "# Ex2 = S2.Field(0,'Ex', units=['mm','ns','cm^-3','km/s','V/m'],\n",
    "               # label='3')\n",
    "\n",
    "happi.multiSlide(Ex0,Ex1)#,Ex2)  "
   ]
  },
  {
   "cell_type": "code",
   "execution_count": 18,
   "id": "9be1de19-352e-49e8-969c-4e709bba54be",
   "metadata": {},
   "outputs": [],
   "source": [
    "plt.rc('font', family='sans-serif', serif='Arial')\n",
    "plt.rc('text', usetex=False)\n",
    "plt.rc('xtick', labelsize=8)\n",
    "plt.rc('ytick', labelsize=8)\n",
    "plt.rc('axes', labelsize=8)\n",
    "plt.rc('legend', fontsize=8)"
   ]
  },
  {
   "cell_type": "code",
   "execution_count": 29,
   "id": "e3f6d0dd-88bb-452d-8c20-1db13fcd23b2",
   "metadata": {},
   "outputs": [],
   "source": [
    "Ex0 = np.array(S0.Field(0, 'Ex', units=['um','ns','MeV','V/m']).getData())\n",
    "tt0  = np.array(S0.Field(0, 'Ex', units=['um','ns','MeV','V/m']).getTimes())\n",
    "xx0  = np.array(S0.Field(0, 'Ex', units=['mm','ns','MeV','V/m']).getAxis('x'))"
   ]
  },
  {
   "cell_type": "code",
   "execution_count": 30,
   "id": "55b33073-8815-434f-b699-62c0b5914044",
   "metadata": {},
   "outputs": [],
   "source": [
    "Ex1 = np.array(S1.Field(0, 'Ex', units=['um','ns','MeV','V/m']).getData())\n",
    "tt1  = np.array(S1.Field(0, 'Ex', units=['um','ns','MeV','V/m']).getTimes())\n",
    "xx1  = np.array(S1.Field(0, 'Ex', units=['mm','ns','MeV','V/m']).getAxis('x'))"
   ]
  },
  {
   "cell_type": "code",
   "execution_count": 56,
   "id": "20f9e248-1fc6-465c-8151-94a692f02e6b",
   "metadata": {},
   "outputs": [],
   "source": [
    "width  = 3.487\n",
    "height = width / 1.618 * 1.5\n",
    "\n",
    "fig, ax = plt.subplots()\n",
    "fig.subplots_adjust(left=.15, bottom=.16, right=.99, top=.97)\n",
    "\n",
    "ax.plot(xx0,Ex0[60],'--b',\n",
    "       label='w/o coll. at t = {:.2f} ns'.format(tt0[60]))\n",
    "\n",
    "ax.plot(xx1,Ex1[-1],'-r',\n",
    "       label='with coll. at t = {:.2f} ns'.format(tt1[-1]))\n",
    "\n",
    "ax.legend()\n",
    "ax.set_xlim([0,1.8])\n",
    "ax.set_ylim([-3e9,3e9])\n",
    "# plt.title('time = '+str(tt[ts])+' fs')\n",
    "ax.grid(which='both',linestyle='--',alpha=0.5)\n",
    "ax.set_xlabel('x (mm)')\n",
    "ax.set_ylabel('Ex (V/m)')\n",
    "fig.set_size_inches(width, height)\n",
    "fig.tight_layout()\n"
   ]
  },
  {
   "cell_type": "code",
   "execution_count": 58,
   "id": "603b04af-c593-4ba6-9993-97b875983a66",
   "metadata": {},
   "outputs": [],
   "source": [
    "fig.savefig('/Users/yao/Desktop/Ex.png',dpi=600)"
   ]
  },
  {
   "cell_type": "code",
   "execution_count": 110,
   "id": "57b5a23f-ed04-4155-83f2-ff9cc97303ca",
   "metadata": {},
   "outputs": [],
   "source": [
    "ne0 = np.array(S0.ParticleBinning(\"#6+#7\", units=['mm','ns','cm^-3','km/s']).getData())\n",
    "tt0 = np.array(S0.ParticleBinning(\"#6+#7\", units=['mm','ns','cm^-3','km/s']).getTimes())\n",
    "xx0 = np.array(S0.ParticleBinning(\"#6+#7\", units=['mm','ns','cm^-3','km/s']).getAxis('x'))"
   ]
  },
  {
   "cell_type": "code",
   "execution_count": 111,
   "id": "e95ba665-33fe-4179-a9ac-11ccf217d7e1",
   "metadata": {},
   "outputs": [],
   "source": [
    "ne1 = np.array(S1.ParticleBinning(\"#6+#7\", units=['mm','ns','cm^-3','km/s']).getData())\n",
    "tt1 = np.array(S1.ParticleBinning(\"#6+#7\", units=['mm','ns','cm^-3','km/s']).getTimes())\n",
    "xx1 = np.array(S1.ParticleBinning(\"#6+#7\", units=['mm','ns','cm^-3','km/s']).getAxis('x'))"
   ]
  },
  {
   "cell_type": "code",
   "execution_count": 140,
   "id": "7880815c-463a-465d-854e-c2147be3434e",
   "metadata": {},
   "outputs": [],
   "source": [
    "width  = 3.487\n",
    "height = width / 1.618 * 1.5\n",
    "\n",
    "fig, ax = plt.subplots()\n",
    "fig.subplots_adjust(left=.15, bottom=.16, right=.99, top=.97)\n",
    "\n",
    "ax.plot(xx0,ne0[60],'--b',\n",
    "       label='w/o coll. at t = {:.2f} ns'.format(tt0[60]))\n",
    "\n",
    "ax.plot(xx1,ne1[-1],'-r',\n",
    "       label='with coll. at t = {:.2f} ns'.format(tt1[-1]))\n",
    "\n",
    "ax.legend(loc='lower right')\n",
    "ax.set_xlim([0.35,1.35])\n",
    "ax.set_ylim([1e19,3.5e19])\n",
    "# plt.title('time = '+str(tt[ts])+' fs')\n",
    "ax.grid(which='both',linestyle='--',alpha=0.5)\n",
    "ax.set_xlabel('x (mm)')\n",
    "ax.set_ylabel(r'$n_e$ (cm$^{-3}$)')\n",
    "fig.set_size_inches(width, height)\n",
    "fig.tight_layout()\n"
   ]
  },
  {
   "cell_type": "code",
   "execution_count": 141,
   "id": "19d2d994-100f-425d-854f-39c454239c7f",
   "metadata": {},
   "outputs": [],
   "source": [
    "fig.savefig('/Users/yao/Desktop/ne_2.png',dpi=600)"
   ]
  },
  {
   "cell_type": "code",
   "execution_count": 116,
   "id": "96188a24-0a4f-4054-a773-4d89cb038f83",
   "metadata": {},
   "outputs": [],
   "source": [
    "ni0 = np.array(S0.ParticleBinning(\"#10+#11\", units=['mm','ns','cm^-3','km/s']).getData())\n",
    "tt0 = np.array(S0.ParticleBinning(\"#10+#11\", units=['mm','ns','cm^-3','km/s']).getTimes())\n",
    "xx0 = np.array(S0.ParticleBinning(\"#10+#11\", units=['mm','ns','cm^-3','km/s']).getAxis('x'))\n",
    "\n",
    "ni1 = np.array(S1.ParticleBinning(\"#10+#11\", units=['mm','ns','cm^-3','km/s']).getData())\n",
    "tt1 = np.array(S1.ParticleBinning(\"#10+#11\", units=['mm','ns','cm^-3','km/s']).getTimes())\n",
    "xx1 = np.array(S1.ParticleBinning(\"#10+#11\", units=['mm','ns','cm^-3','km/s']).getAxis('x'))"
   ]
  },
  {
   "cell_type": "code",
   "execution_count": 122,
   "id": "9b0ec249-6492-4a06-89a8-7597b42ba636",
   "metadata": {},
   "outputs": [],
   "source": [
    "width  = 3.487\n",
    "height = width / 1.618 * 1.5\n",
    "\n",
    "fig, ax = plt.subplots()\n",
    "fig.subplots_adjust(left=.15, bottom=.16, right=.99, top=.97)\n",
    "\n",
    "ax.plot(xx0,ni0[60],'--b',\n",
    "       label='w/o coll. at t = {:.2f} ns'.format(tt0[60]))\n",
    "\n",
    "ax.plot(xx1,ni1[-1],'-r',\n",
    "       label='with coll. at t = {:.2f} ns'.format(tt1[-1]))\n",
    "\n",
    "ax.legend(loc='lower right')\n",
    "ax.set_xlim([0,1.75])\n",
    "ax.set_ylim([0,7e18])\n",
    "# plt.title('time = '+str(tt[ts])+' fs')\n",
    "ax.grid(which='both',linestyle='--',alpha=0.5)\n",
    "ax.set_xlabel('x (mm)')\n",
    "ax.set_ylabel(r'$n_i$ (cm$^{-3}$)')\n",
    "fig.set_size_inches(width, height)\n",
    "fig.tight_layout()\n"
   ]
  },
  {
   "cell_type": "code",
   "execution_count": 123,
   "id": "3a461825-e288-421c-9bfe-a474061d9ba5",
   "metadata": {},
   "outputs": [],
   "source": [
    "fig.savefig('/Users/yao/Desktop/ni.png',dpi=600)"
   ]
  },
  {
   "cell_type": "code",
   "execution_count": 187,
   "id": "17752104-2493-4ca9-bb51-86c7ff416238",
   "metadata": {},
   "outputs": [],
   "source": [
    "Te0 = np.array(S0.ParticleBinning(\"(#4+#5)/(#6+#7)\", units=['mm','ns','cm^-3','km/s','eV']).getData())\n",
    "tt0 = np.array(S0.ParticleBinning(\"(#4+#5)/(#6+#7)\", units=['mm','ns','cm^-3','km/s','eV']).getTimes())\n",
    "xx0 = np.array(S0.ParticleBinning(\"(#4+#5)/(#6+#7)\", units=['mm','ns','cm^-3','km/s','eV']).getAxis('x'))\n",
    "\n",
    "Te1 = np.array(S1.ParticleBinning(\"(#4+#5)/(#6+#7)\", units=['mm','ns','cm^-3','km/s','eV']).getData())\n",
    "tt1 = np.array(S1.ParticleBinning(\"(#4+#5)/(#6+#7)\", units=['mm','ns','cm^-3','km/s','eV']).getTimes())\n",
    "xx1 = np.array(S1.ParticleBinning(\"(#4+#5)/(#6+#7)\", units=['mm','ns','cm^-3','km/s','eV']).getAxis('x'))"
   ]
  },
  {
   "cell_type": "code",
   "execution_count": 197,
   "id": "9b46cc64-8c04-4229-974a-fe79afabefee",
   "metadata": {},
   "outputs": [],
   "source": [
    "width  = 3.487\n",
    "height = width / 1.618 * 1.5\n",
    "\n",
    "fig, ax = plt.subplots()\n",
    "fig.subplots_adjust(left=.15, bottom=.16, right=.99, top=.97)\n",
    "\n",
    "ax.plot(xx0,Te0[107],'--b',\n",
    "       label='w/o coll. at t = {:.3f} ns'.format(tt0[107]))\n",
    "\n",
    "ax.plot(xx1,Te1[30],'-r',\n",
    "       label='with coll. at t = {:.3f} ns'.format(tt1[30]))\n",
    "\n",
    "ax.legend(loc='upper right')\n",
    "# ax.set_xlim([0,1.75])\n",
    "# ax.set_ylim([40,140])\n",
    "ax.set_xlim([0.35,1.35])\n",
    "ax.set_ylim([50,110])\n",
    "# plt.title('time = '+str(tt[ts])+' fs')\n",
    "ax.grid(which='both',linestyle='--',alpha=0.5)\n",
    "ax.set_xlabel('x (mm)')\n",
    "ax.set_ylabel(r'$T_e$ (eV)')\n",
    "fig.set_size_inches(width, height)\n",
    "fig.tight_layout()\n"
   ]
  },
  {
   "cell_type": "code",
   "execution_count": 196,
   "id": "77125d11-a1a9-4cba-a745-c671fc031e88",
   "metadata": {},
   "outputs": [],
   "source": [
    "fig.savefig('/Users/yao/Desktop/Te_3.png',dpi=600)"
   ]
  },
  {
   "cell_type": "code",
   "execution_count": 188,
   "id": "d285b0f3-fc73-4de5-b792-e6a1c72d62fc",
   "metadata": {},
   "outputs": [
    {
     "data": {
      "text/plain": [
       "array([0.        , 0.00562465, 0.01124931, 0.01687396, 0.02249861,\n",
       "       0.02812326, 0.03374792, 0.03937257, 0.04499722, 0.05062187,\n",
       "       0.05624653, 0.06187118, 0.06749583, 0.07312049, 0.07874514,\n",
       "       0.08436979, 0.08999444, 0.0956191 , 0.10124375, 0.1068684 ,\n",
       "       0.11249306, 0.11811771, 0.12374236, 0.12936701, 0.13499167,\n",
       "       0.14061632, 0.14624097, 0.15186562, 0.15749028, 0.16311493,\n",
       "       0.16873958, 0.17436424, 0.17998889, 0.18561354, 0.19123819,\n",
       "       0.19686285, 0.2024875 , 0.20811215, 0.21373681, 0.21936146,\n",
       "       0.22498611, 0.23061076, 0.23623542, 0.24186007, 0.24748472,\n",
       "       0.25310937, 0.25873403, 0.26435868, 0.26998333, 0.27560799,\n",
       "       0.28123264, 0.28685729, 0.29248194, 0.2981066 , 0.30373125,\n",
       "       0.3093559 , 0.31498055, 0.32060521, 0.32622986, 0.33185451,\n",
       "       0.33747917, 0.34310382, 0.34872847, 0.35435312, 0.35997778,\n",
       "       0.36560243, 0.37122708, 0.37685174, 0.38247639, 0.38810104,\n",
       "       0.39372569, 0.39935035, 0.404975  , 0.41059965, 0.4162243 ,\n",
       "       0.42184896, 0.42747361, 0.43309826, 0.43872292, 0.44434757,\n",
       "       0.44997222, 0.45559687, 0.46122153, 0.46684618, 0.47247083,\n",
       "       0.47809549, 0.48372014, 0.48934479, 0.49496944, 0.5005941 ,\n",
       "       0.50621875, 0.5118434 , 0.51746805, 0.52309271, 0.52871736,\n",
       "       0.53434201, 0.53996667, 0.54559132, 0.55121597, 0.55684062,\n",
       "       0.56246528, 0.56808993, 0.57371458, 0.57933924, 0.58496389,\n",
       "       0.59058854, 0.59621319, 0.60183785, 0.6074625 , 0.61308715,\n",
       "       0.6187118 , 0.62433646, 0.62996111, 0.63558576, 0.64121042,\n",
       "       0.64683507, 0.65245972, 0.65808437, 0.66370903, 0.66933368,\n",
       "       0.67495833, 0.68058298, 0.68620764, 0.69183229, 0.69745694,\n",
       "       0.7030816 , 0.70870625, 0.7143309 , 0.71995555, 0.72558021,\n",
       "       0.73120486, 0.73682951, 0.74245417, 0.74807882, 0.75370347,\n",
       "       0.75932812, 0.76495278, 0.77057743, 0.77620208, 0.78182673,\n",
       "       0.78745139, 0.79307604, 0.79870069, 0.80432535, 0.80995   ,\n",
       "       0.81557465, 0.8211993 , 0.82682396, 0.83244861, 0.83807326,\n",
       "       0.84369792, 0.84932257, 0.85494722, 0.86057187, 0.86619653,\n",
       "       0.87182118, 0.87744583, 0.88307048, 0.88869514, 0.89431979,\n",
       "       0.89994444])"
      ]
     },
     "execution_count": 188,
     "metadata": {},
     "output_type": "execute_result"
    }
   ],
   "source": [
    "tt0"
   ]
  },
  {
   "cell_type": "code",
   "execution_count": 189,
   "id": "fda48f74-145d-458e-87a4-5467f348b955",
   "metadata": {},
   "outputs": [
    {
     "data": {
      "text/plain": [
       "array([0.43309826, 0.43872292, 0.44434757, 0.44997222, 0.45559687,\n",
       "       0.46122153, 0.46684618, 0.47247083, 0.47809549, 0.48372014,\n",
       "       0.48934479, 0.49496944, 0.5005941 , 0.50621875, 0.5118434 ,\n",
       "       0.51746805, 0.52309271, 0.52871736, 0.53434201, 0.53996667,\n",
       "       0.54559132, 0.55121597, 0.55684062, 0.56246528, 0.56808993,\n",
       "       0.57371458, 0.57933924, 0.58496389, 0.59058854, 0.59621319,\n",
       "       0.60183785, 0.6074625 , 0.61308715, 0.6187118 , 0.62433646,\n",
       "       0.62996111, 0.63558576, 0.64121042, 0.64683507, 0.65245972,\n",
       "       0.65808437, 0.66370903, 0.66933368, 0.67495833, 0.68058298,\n",
       "       0.68620764, 0.69183229, 0.69745694])"
      ]
     },
     "execution_count": 189,
     "metadata": {},
     "output_type": "execute_result"
    }
   ],
   "source": [
    "tt1"
   ]
  },
  {
   "cell_type": "code",
   "execution_count": 151,
   "id": "069f4762-7812-47e7-be24-7a837ae5e320",
   "metadata": {},
   "outputs": [],
   "source": [
    "Ti0 = np.array(S0.ParticleBinning(\"(#8+#9)/(#10+#11)\", units=['mm','ns','cm^-3','km/s','eV']).getData())\n",
    "tt0 = np.array(S0.ParticleBinning(\"(#8+#9)/(#10+#11)\", units=['mm','ns','cm^-3','km/s','eV']).getTimes())\n",
    "xx0 = np.array(S0.ParticleBinning(\"(#8+#9)/(#10+#11)\", units=['mm','ns','cm^-3','km/s','eV']).getAxis('x'))\n",
    "\n",
    "Ti1 = np.array(S1.ParticleBinning(\"(#8+#9)/(#10+#11)\", units=['mm','ns','cm^-3','km/s','eV']).getData())\n",
    "tt1 = np.array(S1.ParticleBinning(\"(#8+#9)/(#10+#11)\", units=['mm','ns','cm^-3','km/s','eV']).getTimes())\n",
    "xx1 = np.array(S1.ParticleBinning(\"(#8+#9)/(#10+#11)\", units=['mm','ns','cm^-3','km/s','eV']).getAxis('x'))"
   ]
  },
  {
   "cell_type": "code",
   "execution_count": 159,
   "id": "59248e04-8415-470f-a7a5-27373af4d5cf",
   "metadata": {},
   "outputs": [],
   "source": [
    "width  = 3.487\n",
    "height = width / 1.618 * 1.5\n",
    "\n",
    "fig, ax = plt.subplots()\n",
    "fig.subplots_adjust(left=.15, bottom=.16, right=.99, top=.97)\n",
    "\n",
    "ax.plot(xx0,Ti0[60]/1e3,'--b',\n",
    "       label='w/o coll. at t = {:.2f} ns'.format(tt0[60]))\n",
    "\n",
    "ax.plot(xx1,Ti1[-1]/1e3,'-r',\n",
    "       label='with coll. at t = {:.2f} ns'.format(tt1[-1]))\n",
    "\n",
    "ax.legend(loc='upper right')\n",
    "# ax.set_xlim([0,1.75])\n",
    "ax.set_ylim([0,1])\n",
    "ax.set_xlim([0.35,1.35])\n",
    "# ax.set_ylim([50,110])\n",
    "# plt.title('time = '+str(tt[ts])+' fs')\n",
    "ax.grid(which='both',linestyle='--',alpha=0.5)\n",
    "ax.set_xlabel('x (mm)')\n",
    "ax.set_ylabel(r'$T_i$ (keV)')\n",
    "fig.set_size_inches(width, height)\n",
    "fig.tight_layout()\n"
   ]
  },
  {
   "cell_type": "code",
   "execution_count": 158,
   "id": "879c37b3-ac46-4be3-a148-7cc848d8cc7e",
   "metadata": {},
   "outputs": [],
   "source": [
    "fig.savefig('/Users/yao/Desktop/Ti_2.png',dpi=600)"
   ]
  },
  {
   "cell_type": "code",
   "execution_count": null,
   "id": "3439973f-964f-4e06-8cd9-04231127af94",
   "metadata": {},
   "outputs": [],
   "source": []
  },
  {
   "cell_type": "code",
   "execution_count": 186,
   "id": "690465a1-0626-4dc0-af8e-e8ae756dbdf2",
   "metadata": {},
   "outputs": [],
   "source": [
    "Te00 = S0.ParticleBinning('(#4+#5)/(#6+#7)',\n",
    "                         units=['mm','ns','cm^-3','km/s','eV'],\n",
    "                         color='blue',\n",
    "                         linestyle='-',\n",
    "                          vmin=40,\n",
    "                          vmax=90,\n",
    "                            xmin=0.4,\n",
    "                            xmax=1.4,\n",
    "                          # vmax=1200.,\n",
    "                         label='w/o coll.')\n",
    "\n",
    "Te01 = S1.ParticleBinning('(#4+#5)/(#6+#7)',\n",
    "                         units=['mm','ns','cm^-3','km/s','eV'],\n",
    "                         color='black',\n",
    "                         linestyle='-.',\n",
    "                          vmin=40,\n",
    "                          vmax=90,\n",
    "                            xmin=0.4,\n",
    "                            xmax=1.4,\n",
    "                          # vmax=1200.,\n",
    "                         label='with coll.')\n",
    "\n",
    "# Te02 = S2.ParticleBinning('(#4+#5)/(#6+#7)',\n",
    "#                          units=['mm','ns','cm^-3','km/s','eV'],\n",
    "#                          color='red',\n",
    "#                          linestyle='--',\n",
    "#                           vmin=50,\n",
    "#                           vmax=120,\n",
    "#                             # xmin=0,\n",
    "#                             # xmax=2.66,\n",
    "#                           # vmax=1200.,\n",
    "#                          label='ni=4.3e18, Z=7')\n",
    "\n",
    "happi.multiSlide(Te00, Te01)#,Te02)"
   ]
  },
  {
   "cell_type": "code",
   "execution_count": null,
   "id": "2e91b741-4630-46ee-ac99-e208366d441b",
   "metadata": {},
   "outputs": [],
   "source": []
  },
  {
   "cell_type": "code",
   "execution_count": null,
   "id": "d13aaf9a-cd2b-4c75-a098-2e0337bf702f",
   "metadata": {},
   "outputs": [],
   "source": []
  },
  {
   "cell_type": "code",
   "execution_count": null,
   "id": "853feb4b-f2db-4cdb-b4a1-f6463c74689a",
   "metadata": {},
   "outputs": [],
   "source": []
  },
  {
   "cell_type": "code",
   "execution_count": null,
   "id": "f0ff1059-d2c4-4650-8316-fc9944d20ca3",
   "metadata": {},
   "outputs": [],
   "source": []
  },
  {
   "cell_type": "code",
   "execution_count": 63,
   "id": "46b66fc3-d7a4-4be7-80e3-87f9137ad148",
   "metadata": {},
   "outputs": [],
   "source": [
    "xpx00 = S0.ParticleBinning(\"#0+#1\",units=['mm','ns','cm^-3','km/s'],\n",
    "                          data_log=True,\n",
    "                           vmin=-5,\n",
    "                           vmax=5,\n",
    "                           # xmin=4,\n",
    "                           # xmax=7,\n",
    "                          cmap=newcmap)\n",
    "\n",
    "xpx01 = S1.ParticleBinning(\"#0+#1\",units=['mm','ns','cm^-3','km/s'],\n",
    "                          data_log=True,\n",
    "                            vmin=-5,\n",
    "                            vmax=5,\n",
    "                           # xmin=4,\n",
    "                           # xmax=7,\n",
    "                          cmap=newcmap\n",
    "                          )\n",
    "\n",
    "happi.multiSlide(xpx00,xpx01,\n",
    "                 # xpx02, \n",
    "                 shape=[2,1])"
   ]
  },
  {
   "cell_type": "code",
   "execution_count": 67,
   "id": "ea17e00a-279c-4610-9643-93bb46eb6ec8",
   "metadata": {},
   "outputs": [],
   "source": [
    "ps0 = np.array(S0.ParticleBinning(\"#0+#1\", \n",
    "                                  units=['mm','ns','cm^-3','km/s'],\n",
    "                                  data_log=True).getData()\n",
    "              )\n",
    "pst0  = np.array(S0.ParticleBinning(\"#0+#1\", units=['mm','ns','cm^-3','km/s'],).getTimes())\n",
    "psx0  = np.array(S0.ParticleBinning(\"#0+#1\", units=['mm','ns','cm^-3','km/s'],).getAxis('x'))\n",
    "psv0  = np.array(S0.ParticleBinning(\"#0+#1\", units=['mm','ns','cm^-3','km/s'],).getAxis('vx'))"
   ]
  },
  {
   "cell_type": "code",
   "execution_count": 73,
   "id": "56656330-9bce-40ca-a925-a206c8df303f",
   "metadata": {},
   "outputs": [],
   "source": [
    "ps1 = np.array(S1.ParticleBinning(\"#0+#1\", \n",
    "                                  units=['mm','ns','cm^-3','km/s'],\n",
    "                                  data_log=True).getData()\n",
    "              )\n",
    "pst1  = np.array(S1.ParticleBinning(\"#0+#1\", units=['mm','ns','cm^-3','km/s'],).getTimes())\n",
    "psx1  = np.array(S1.ParticleBinning(\"#0+#1\", units=['mm','ns','cm^-3','km/s'],).getAxis('x'))\n",
    "psv1  = np.array(S1.ParticleBinning(\"#0+#1\", units=['mm','ns','cm^-3','km/s'],).getAxis('vx'))"
   ]
  },
  {
   "cell_type": "code",
   "execution_count": 100,
   "id": "e8c5bdb0-72f0-4528-8657-ddb493151d14",
   "metadata": {},
   "outputs": [
    {
     "name": "stderr",
     "output_type": "stream",
     "text": [
      "/var/folders/2t/97rc3fl92tg15k2l_4sk5hsh0000gn/T/ipykernel_41756/1901853167.py:55: MatplotlibDeprecationWarning: The toggle_label function was deprecated in Matplotlib 3.8 and will be removed two minor releases later. Use ax.tick_params and colorbar.set_label instead.\n",
      "  grid[1].cax.toggle_label(True)\n"
     ]
    }
   ],
   "source": [
    "from mpl_toolkits.axes_grid1 import make_axes_locatable\n",
    "from mpl_toolkits.axes_grid1 import ImageGrid\n",
    "\n",
    "\n",
    "width  = 3.487 * 1.5\n",
    "height = width / 1.618\n",
    "\n",
    "fig = plt.figure(figsize=(width, height))\n",
    "\n",
    "# fig, ax = plt.subplots()\n",
    "# fig.subplots_adjust(left=.15, bottom=.16, right=.99, top=.97)\n",
    "\n",
    "grid = ImageGrid(fig, 111,          # as in plt.subplot(111)\n",
    "                 nrows_ncols=(2,1),\n",
    "                 axes_pad=0.25,\n",
    "                 share_all=True,\n",
    "                 cbar_location=\"right\",\n",
    "                 cbar_mode=\"single\",\n",
    "                 cbar_size=\"2%\",\n",
    "                 cbar_pad=0.1,\n",
    "                 )\n",
    "\n",
    "im0 = grid[0].imshow(ps0[60].T,\n",
    "           cmap=newcmap,\n",
    "           origin='lower',\n",
    "           extent=[psx0[0],psx0[-1],psv0[0],psv0[-1]],\n",
    "           vmin=0,\n",
    "           vmax=4,\n",
    "           aspect=0.001,\n",
    "          )\n",
    "\n",
    "im1 = grid[1].imshow(ps1[-1].T,\n",
    "           cmap=newcmap,\n",
    "           origin='lower',\n",
    "           extent=[psx1[0],psx1[-1],psv1[0],psv1[-1]],\n",
    "           vmin=0,\n",
    "           vmax=4,\n",
    "           aspect=0.001,\n",
    "          )\n",
    "\n",
    "# grid[0].set_xlim(0,35)\n",
    "# grid[1].set_xlim(0,35)\n",
    "# grid[1].set_ylim(5,35)\n",
    "grid[0].set_xlabel('x (mm)')\n",
    "grid[1].set_xlabel('x (mm)')\n",
    "grid[0].set_ylabel(r'$v_x$ (km/s)')\n",
    "grid[1].set_ylabel(r'$v_x$ (km/s)')\n",
    "grid[0].grid(linestyle='--',color='grey',alpha=0.5)\n",
    "grid[1].grid(linestyle='--',color='grey',alpha=0.5)\n",
    "\n",
    "# Colorbar\n",
    "grid[1].cax.colorbar(im1)\n",
    "grid[1].cax.cla()\n",
    "mpl.colorbar.Colorbar(grid[1].cax,im1)\n",
    "grid[1].cax.toggle_label(True)\n",
    "# grid[1].cax.tick_params(size=0)\n",
    "# grid[1].cax.toggle_label(True)\n",
    "# fig.tight_layout()\n",
    "plt.show()"
   ]
  },
  {
   "cell_type": "code",
   "execution_count": 101,
   "id": "fede9eea-9a72-4519-a89f-ddd7626b3677",
   "metadata": {},
   "outputs": [],
   "source": [
    "fig.savefig('/Users/yao/Desktop/ps.png',dpi=600)"
   ]
  },
  {
   "cell_type": "code",
   "execution_count": 160,
   "id": "c46f7b72-b2c3-411e-ad4e-195b3ef6f94c",
   "metadata": {},
   "outputs": [],
   "source": [
    "pxy0 = np.array(S0.ParticleBinning(\"#12+#13\", \n",
    "                                  units=['mm','ns','cm^-3','km/s'],\n",
    "                                  data_log=True).getData()\n",
    "              )\n",
    "pxyt0  = np.array(S0.ParticleBinning(\"#12+#13\", units=['mm','ns','cm^-3','km/s'],).getTimes())\n",
    "pxyvx0 = np.array(S0.ParticleBinning(\"#12+#13\", units=['mm','ns','cm^-3','km/s'],).getAxis('vx'))\n",
    "pxyvy0 = np.array(S0.ParticleBinning(\"#12+#13\", units=['mm','ns','cm^-3','km/s'],).getAxis('vy'))"
   ]
  },
  {
   "cell_type": "code",
   "execution_count": 161,
   "id": "8a9c81b5-0999-4d9b-933e-3e6eb5c11955",
   "metadata": {},
   "outputs": [],
   "source": [
    "pxy1 = np.array(S1.ParticleBinning(\"#12+#13\", \n",
    "                                  units=['mm','ns','cm^-3','km/s'],\n",
    "                                  data_log=True).getData()\n",
    "              )\n",
    "pxyt1  = np.array(S1.ParticleBinning(\"#12+#13\", units=['mm','ns','cm^-3','km/s'],).getTimes())\n",
    "pxyvx1 = np.array(S1.ParticleBinning(\"#12+#13\", units=['mm','ns','cm^-3','km/s'],).getAxis('vx'))\n",
    "pxyvy1 = np.array(S1.ParticleBinning(\"#12+#13\", units=['mm','ns','cm^-3','km/s'],).getAxis('vy'))"
   ]
  },
  {
   "cell_type": "code",
   "execution_count": 173,
   "id": "8680f000-0594-49b6-9eef-a4b0f3f0f58a",
   "metadata": {},
   "outputs": [
    {
     "name": "stderr",
     "output_type": "stream",
     "text": [
      "/var/folders/2t/97rc3fl92tg15k2l_4sk5hsh0000gn/T/ipykernel_41756/1340777399.py:55: MatplotlibDeprecationWarning: The toggle_label function was deprecated in Matplotlib 3.8 and will be removed two minor releases later. Use ax.tick_params and colorbar.set_label instead.\n",
      "  grid[1].cax.toggle_label(True)\n",
      "/var/folders/2t/97rc3fl92tg15k2l_4sk5hsh0000gn/T/ipykernel_41756/1340777399.py:58: UserWarning: This figure includes Axes that are not compatible with tight_layout, so results might be incorrect.\n",
      "  fig.tight_layout()\n"
     ]
    }
   ],
   "source": [
    "from mpl_toolkits.axes_grid1 import make_axes_locatable\n",
    "from mpl_toolkits.axes_grid1 import ImageGrid\n",
    "\n",
    "\n",
    "width  = 3.487 * 2\n",
    "height = width / 1.618 #* 0.8\n",
    "\n",
    "fig = plt.figure(figsize=(width, height))\n",
    "\n",
    "# fig, ax = plt.subplots()\n",
    "# fig.subplots_adjust(left=.15, bottom=.16, right=.99, top=.97)\n",
    "\n",
    "grid = ImageGrid(fig, 111,          # as in plt.subplot(111)\n",
    "                 nrows_ncols=(1,2),\n",
    "                 axes_pad=0.25,\n",
    "                 share_all=True,\n",
    "                 cbar_location=\"right\",\n",
    "                 cbar_mode=\"single\",\n",
    "                 cbar_size=\"3%\",\n",
    "                 cbar_pad=0.1,\n",
    "                 )\n",
    "\n",
    "im0 = grid[0].imshow(pxy0[60].T,\n",
    "           cmap=newcmap,\n",
    "           origin='lower',\n",
    "           extent=[pxyvx0[0],pxyvx0[-1],pxyvy0[0],pxyvy0[-1]],\n",
    "           vmin=-1,\n",
    "           vmax=7,\n",
    "           # aspect=0.001,\n",
    "          )\n",
    "\n",
    "im1 = grid[1].imshow(pxy1[-1].T,\n",
    "           cmap=newcmap,\n",
    "           origin='lower',\n",
    "           extent=[pxyvx1[0],pxyvx1[-1],pxyvy1[0],pxyvy1[-1]],\n",
    "           vmin=-1,\n",
    "           vmax=7,\n",
    "           # aspect=0.001,\n",
    "          )\n",
    "\n",
    "# grid[0].set_xlim(0,35)\n",
    "# grid[1].set_xlim(0,35)\n",
    "# grid[1].set_ylim(5,35)\n",
    "grid[0].set_xlabel(r'$v_x$ (km/s)')\n",
    "grid[1].set_xlabel(r'$v_x$ (km/s)')\n",
    "grid[0].set_ylabel(r'$v_y$ (km/s)')\n",
    "grid[1].set_ylabel(r'$v_y$ (km/s)')\n",
    "grid[0].grid(linestyle='--',color='grey',alpha=0.5)\n",
    "grid[1].grid(linestyle='--',color='grey',alpha=0.5)\n",
    "\n",
    "# Colorbar\n",
    "grid[1].cax.colorbar(im1)\n",
    "grid[1].cax.cla()\n",
    "mpl.colorbar.Colorbar(grid[1].cax,im1)\n",
    "grid[1].cax.toggle_label(True)\n",
    "# grid[1].cax.tick_params(size=0)\n",
    "# grid[1].cax.toggle_label(True)\n",
    "fig.tight_layout()\n",
    "# plt.show()"
   ]
  },
  {
   "cell_type": "code",
   "execution_count": 174,
   "id": "baebe0f3-1f9b-40b1-b170-e3dbbb43ee3e",
   "metadata": {},
   "outputs": [],
   "source": [
    "fig.savefig('/Users/yao/Desktop/pxy.png',dpi=600)"
   ]
  },
  {
   "cell_type": "code",
   "execution_count": 105,
   "id": "ab6bc497-ae16-49b7-b9f2-964424a8eb33",
   "metadata": {},
   "outputs": [],
   "source": [
    "pxyvy0  = np.array(S0.ParticleBinning(\"#2+#3\", units=['mm','ns','cm^-3','km/s'],).getAxis('vy'))"
   ]
  },
  {
   "cell_type": "code",
   "execution_count": 106,
   "id": "05d406b6-1ffe-4209-a39d-580f75869ce3",
   "metadata": {},
   "outputs": [
    {
     "data": {
      "text/plain": [
       "array([], dtype=float64)"
      ]
     },
     "execution_count": 106,
     "metadata": {},
     "output_type": "execute_result"
    }
   ],
   "source": [
    "pxyvy0"
   ]
  },
  {
   "cell_type": "code",
   "execution_count": 109,
   "id": "29f03d00-59b2-4204-88a6-c3e1d61e8178",
   "metadata": {},
   "outputs": [],
   "source": [
    "xpx00 = S0.ParticleBinning(\"#6+#7\",\n",
    "                           units=['mm','ns','cm^-3','km/s'],\n",
    "                           label='w/o coll.',\n",
    "                           xmin=0.4,\n",
    "                           xmax=1.4,\n",
    "                          # data_log=True,\n",
    "                            vmin=1.0e19,\n",
    "                            vmax=3.5e19,\n",
    "                           # xmin=4,\n",
    "                           # xmax=7,\n",
    "                          # cmap=newcmap\n",
    "                          )\n",
    "\n",
    "xpx01 = S1.ParticleBinning(\"#6+#7\",\n",
    "                           units=['mm','ns','cm^-3','km/s'],\n",
    "                           label='with coll.',\n",
    "                           xmin=0.4,\n",
    "                           xmax=1.4,\n",
    "                            vmin=1.0e19,\n",
    "                            vmax=3.5e19,\n",
    "                          # data_log=True,\n",
    "                            # vmin=-3,\n",
    "                           # vmax=3,\n",
    "                           # xmin=4,\n",
    "                           # xmax=7,\n",
    "                          # cmap=newcmap\n",
    "                          )#.slide()\n",
    "\n",
    "# xpx02 = S2.ParticleBinning(\"#1\",units=['mm','ns','cm^-3','km/s'],\n",
    "#                           data_log=True,\n",
    "#                            vmin=2,\n",
    "#                            vmax=5,\n",
    "#                            # xmin=4,\n",
    "#                            # xmax=7,\n",
    "#                           cmap=newcmap)#.slide()\n",
    "\n",
    "happi.multiSlide(xpx00,xpx01,\n",
    "                 # xpx02, \n",
    "                 # shape=[2,1]\n",
    "                 )"
   ]
  },
  {
   "cell_type": "code",
   "execution_count": null,
   "id": "02dc229f-4c35-4967-8f7d-e606b756f04b",
   "metadata": {},
   "outputs": [],
   "source": []
  }
 ],
 "metadata": {
  "kernelspec": {
   "display_name": "Python 3 (ipykernel)",
   "language": "python",
   "name": "python3"
  },
  "language_info": {
   "codemirror_mode": {
    "name": "ipython",
    "version": 3
   },
   "file_extension": ".py",
   "mimetype": "text/x-python",
   "name": "python",
   "nbconvert_exporter": "python",
   "pygments_lexer": "ipython3",
   "version": "3.9.18"
  }
 },
 "nbformat": 4,
 "nbformat_minor": 5
}
