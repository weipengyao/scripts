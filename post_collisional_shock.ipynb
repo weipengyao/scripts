{
 "cells": [
  {
   "cell_type": "code",
   "execution_count": 1,
   "id": "3bda0232-fa17-49e9-aae1-31580c7ba632",
   "metadata": {},
   "outputs": [],
   "source": [
    "%matplotlib qt"
   ]
  },
  {
   "cell_type": "code",
   "execution_count": 2,
   "id": "82196b52-ea9a-40ac-9c7f-ccbe40be34da",
   "metadata": {},
   "outputs": [
    {
     "name": "stderr",
     "output_type": "stream",
     "text": [
      "/var/folders/2t/97rc3fl92tg15k2l_4sk5hsh0000gn/T/ipykernel_16673/4042748947.py:6: MatplotlibDeprecationWarning: The get_cmap function was deprecated in Matplotlib 3.7 and will be removed two minor releases later. Use ``matplotlib.colormaps[name]`` or ``matplotlib.colormaps.get_cmap(obj)`` instead.\n",
      "  jetcmap = plt.cm.get_cmap(\"jet\", 9) #generate a jet map with 10 values \"rainbow\", \"jet\", YlOrRd\n"
     ]
    }
   ],
   "source": [
    "import matplotlib as mpl\n",
    "import happi\n",
    "import numpy as np\n",
    "import matplotlib.pyplot as plt\n",
    "\n",
    "jetcmap = plt.cm.get_cmap(\"jet\", 9) #generate a jet map with 10 values \"rainbow\", \"jet\", YlOrRd\n",
    "jet_vals = jetcmap(np.arange(9)) #extract those values as an array \n",
    "jet_vals[0] = [1.0, 1, 1.0, 1] #change the first value \n",
    "jet_vals[8] = [0.0, 0, 0.0, 1] #change the first value \n",
    "newcmap = mpl.colors.LinearSegmentedColormap.from_list(\"mine\", jet_vals) \n",
    "\n",
    "from matplotlib import font_manager\n",
    "\n",
    "font_dirs = ['/Users/yao/Documents/Calibri and Cambria Fonts/']\n",
    "font_files = font_manager.findSystemFonts(fontpaths=font_dirs)\n",
    "\n",
    "for font_file in font_files:\n",
    "    font_manager.fontManager.addfont(font_file)\n",
    "\n",
    "# set font\n",
    "plt.rcParams['font.family'] = 'Calibri'\n",
    "\n",
    "plt.rc('text', usetex=False)\n",
    "plt.rc('xtick', labelsize=14)\n",
    "plt.rc('ytick', labelsize=14)\n",
    "plt.rc('axes', labelsize=14)\n",
    "plt.rc('legend', fontsize=12)"
   ]
  },
  {
   "cell_type": "code",
   "execution_count": 3,
   "id": "e043318b-6e36-4090-8eee-4cf67b0ef252",
   "metadata": {},
   "outputs": [],
   "source": [
    "wkdir = [\n",
    "        #   '/Volumes/LaCie_Yao23/collisional_shock/t7_1/t7_ne1e19_v150_T50_dx01_N5_n_coll_r0/',\n",
    "        #   '/Volumes/LaCie_Yao23/collisional_shock/t7_2/t7_ne1e19_v150_T50_dx01_N5_w_coll_r1/',\n",
    "        # \"/Users/yao/Desktop/Data/t9/\",\n",
    "        \"/Users/yao/Desktop/Data/wcs_t10/\",\n",
    "         ]"
   ]
  },
  {
   "cell_type": "code",
   "execution_count": 4,
   "id": "d9369ffa-24d7-4b1a-b8eb-eac2f82bd091",
   "metadata": {},
   "outputs": [
    {
     "name": "stdout",
     "output_type": "stream",
     "text": [
      "Loaded simulation '/Users/yao/Desktop/Data/wcs_t10/'\n",
      "Scanning for Scalar diagnostics\n",
      "Scanning for Field diagnostics\n",
      "Scanning for Probe diagnostics\n",
      "Scanning for ParticleBinning diagnostics\n",
      "Scanning for RadiationSpectrum diagnostics\n",
      "Scanning for Performance diagnostics\n",
      "Scanning for Screen diagnostics\n",
      "Scanning for Tracked particle diagnostics\n",
      "Scanning for new particle diagnostics\n"
     ]
    }
   ],
   "source": [
    "S0 = happi.Open(wkdir[0], reference_angular_frequency_SI=56375055300167.87)\n",
    "# S1 = happi.Open(wkdir[1], reference_angular_frequency_SI=177788752730887.47)"
   ]
  },
  {
   "cell_type": "code",
   "execution_count": 5,
   "id": "e99c22e6-2cb0-4fd2-885d-fd5806f1c389",
   "metadata": {},
   "outputs": [],
   "source": [
    "# prepare constants, units\n",
    "\n",
    "me = 9.1e-31\n",
    "mp = 1836.*me\n",
    "qe = 1.6e-19\n",
    "ep = 8.9e-12  # epsilon_0\n",
    "c  = 3.0e8\n",
    "wr = S0.namelist.w_r\n",
    "de = c / wr\n",
    "Lx = S0.namelist.L_x.real * de * 1e3      # in mm\n",
    "dx = S0.namelist.d_x * de * 1e3           # in mm\n",
    "\n",
    "Te = S0.namelist.T_e * 511.e3             # in eV\n",
    "ne = 1.0e18                              # in cm-3\n",
    "ld = 7.43e2 * Te**0.5 * ne**(-0.5) * 10. # in mm\n",
    "dt = S0.namelist.d_t\n",
    "\n",
    "B0 = S0.namelist.B_z * (me * wr / qe)\n",
    "wc = qe * B0 / me\n"
   ]
  },
  {
   "cell_type": "code",
   "execution_count": 6,
   "id": "864f2701-8e63-4b72-87c5-b095be5418a9",
   "metadata": {},
   "outputs": [
    {
     "name": "stderr",
     "output_type": "stream",
     "text": [
      "2025-02-13 12:12:38.403 Python[16673:596035] +[IMKClient subclass]: chose IMKClient_Modern\n",
      "2025-02-13 12:12:38.403 Python[16673:596035] +[IMKInputSession subclass]: chose IMKInputSession_Modern\n"
     ]
    }
   ],
   "source": [
    "#%%\n",
    "\n",
    "Ex0 = S0.Field(0,'Ex', units=['mm','ns','cm^-3','km/s','V/m'],\n",
    "               label='w/o. coll.')\n",
    "\n",
    "# Ex1 = S1.Field(0,'Ex', units=['mm','ns','cm^-3','km/s','V/m'],\n",
    "#                label='with coll.')\n",
    "                              \n",
    "# Ex2 = S2.Field(0,'Ex', units=['mm','ns','cm^-3','km/s','V/m'],\n",
    "               # label='3')\n",
    "\n",
    "happi.multiSlide(Ex0)#,Ex1)#,Ex2)  "
   ]
  },
  {
   "cell_type": "code",
   "execution_count": 8,
   "id": "e3f6d0dd-88bb-452d-8c20-1db13fcd23b2",
   "metadata": {},
   "outputs": [],
   "source": [
    "Ex0 = np.array(S0.Field(0, 'Ex', units=['um','ns','MeV','V/m']).getData())\n",
    "tt0  = np.array(S0.Field(0, 'Ex', units=['um','ns','MeV','V/m']).getTimes())\n",
    "xx0  = np.array(S0.Field(0, 'Ex', units=['mm','ns','MeV','V/m']).getAxis('x'))"
   ]
  },
  {
   "cell_type": "code",
   "execution_count": 30,
   "id": "55b33073-8815-434f-b699-62c0b5914044",
   "metadata": {},
   "outputs": [],
   "source": [
    "Ex1 = np.array(S1.Field(0, 'Ex', units=['um','ns','MeV','V/m']).getData())\n",
    "tt1  = np.array(S1.Field(0, 'Ex', units=['um','ns','MeV','V/m']).getTimes())\n",
    "xx1  = np.array(S1.Field(0, 'Ex', units=['mm','ns','MeV','V/m']).getAxis('x'))"
   ]
  },
  {
   "cell_type": "code",
   "execution_count": 12,
   "id": "20f9e248-1fc6-465c-8151-94a692f02e6b",
   "metadata": {},
   "outputs": [],
   "source": [
    "width  = 3.487\n",
    "height = width / 1.618 * 1.5\n",
    "\n",
    "fig, ax = plt.subplots()\n",
    "fig.subplots_adjust(left=.15, bottom=.16, right=.99, top=.97)\n",
    "\n",
    "ax.plot(xx0,Ex0[60],'--b',\n",
    "       label='w/o coll. at t = {:.2f} ns'.format(tt0[60]))\n",
    "\n",
    "# ax.plot(xx1,Ex1[-1],'-r',\n",
    "       # label='with coll. at t = {:.2f} ns'.format(tt1[-1]))\n",
    "\n",
    "ax.legend()\n",
    "# ax.set_xlim([0,1.8])\n",
    "ax.set_ylim([-3e9,3e9])\n",
    "# plt.title('time = '+str(tt[ts])+' fs')\n",
    "ax.grid(which='both',linestyle='--',alpha=0.5)\n",
    "ax.set_xlabel('x (mm)')\n",
    "ax.set_ylabel('Ex (V/m)')\n",
    "fig.set_size_inches(width, height)\n",
    "fig.tight_layout()\n"
   ]
  },
  {
   "cell_type": "code",
   "execution_count": 58,
   "id": "603b04af-c593-4ba6-9993-97b875983a66",
   "metadata": {},
   "outputs": [],
   "source": [
    "fig.savefig('/Users/yao/Desktop/Ex.png',dpi=600)"
   ]
  },
  {
   "cell_type": "code",
   "execution_count": 9,
   "id": "57b5a23f-ed04-4155-83f2-ff9cc97303ca",
   "metadata": {},
   "outputs": [],
   "source": [
    "ne0 = np.array(S0.ParticleBinning(\"#6+#7\", units=['mm','ns','cm^-3','km/s']).getData())\n",
    "tt0 = np.array(S0.ParticleBinning(\"#6+#7\", units=['mm','ns','cm^-3','km/s']).getTimes())\n",
    "xx0 = np.array(S0.ParticleBinning(\"#6+#7\", units=['mm','ns','cm^-3','km/s']).getAxis('x'))"
   ]
  },
  {
   "cell_type": "code",
   "execution_count": 111,
   "id": "e95ba665-33fe-4179-a9ac-11ccf217d7e1",
   "metadata": {},
   "outputs": [],
   "source": [
    "ne1 = np.array(S1.ParticleBinning(\"#6+#7\", units=['mm','ns','cm^-3','km/s']).getData())\n",
    "tt1 = np.array(S1.ParticleBinning(\"#6+#7\", units=['mm','ns','cm^-3','km/s']).getTimes())\n",
    "xx1 = np.array(S1.ParticleBinning(\"#6+#7\", units=['mm','ns','cm^-3','km/s']).getAxis('x'))"
   ]
  },
  {
   "cell_type": "code",
   "execution_count": 11,
   "id": "7880815c-463a-465d-854e-c2147be3434e",
   "metadata": {},
   "outputs": [],
   "source": [
    "width  = 3.487\n",
    "height = width / 1.618 * 1.5\n",
    "\n",
    "fig, ax = plt.subplots()\n",
    "fig.subplots_adjust(left=.15, bottom=.16, right=.99, top=.97)\n",
    "\n",
    "ax.plot(xx0,ne0[-1],'--b',\n",
    "       label='w/o coll. at t = {:.2f} ns'.format(tt0[-1]))\n",
    "\n",
    "# ax.plot(xx1,ne1[-1],'-r',\n",
    "       # label='with coll. at t = {:.2f} ns'.format(tt1[-1]))\n",
    "\n",
    "# ax.legend(loc='lower right')\n",
    "# ax.set_xlim([1,4])\n",
    "ax.set_ylim([0,4e18])\n",
    "# plt.title('time = '+str(tt[ts])+' fs')\n",
    "ax.grid(which='both',linestyle='--',alpha=0.5)\n",
    "ax.set_xlabel('x (mm)')\n",
    "ax.set_ylabel(r'$n_e$ (cm$^{-3}$)')\n",
    "fig.set_size_inches(width, height)\n",
    "fig.tight_layout()\n"
   ]
  },
  {
   "cell_type": "code",
   "execution_count": 141,
   "id": "19d2d994-100f-425d-854f-39c454239c7f",
   "metadata": {},
   "outputs": [],
   "source": [
    "fig.savefig('/Users/yao/Desktop/ne_2.png',dpi=600)"
   ]
  },
  {
   "cell_type": "code",
   "execution_count": 12,
   "id": "96188a24-0a4f-4054-a773-4d89cb038f83",
   "metadata": {},
   "outputs": [],
   "source": [
    "ni0 = np.array(S0.ParticleBinning(\"#10+#11\", units=['mm','ns','cm^-3','km/s']).getData())\n",
    "tt0 = np.array(S0.ParticleBinning(\"#10+#11\", units=['mm','ns','cm^-3','km/s']).getTimes())\n",
    "xx0 = np.array(S0.ParticleBinning(\"#10+#11\", units=['mm','ns','cm^-3','km/s']).getAxis('x'))\n"
   ]
  },
  {
   "cell_type": "code",
   "execution_count": null,
   "id": "50d4fdcd",
   "metadata": {},
   "outputs": [],
   "source": [
    "\n",
    "ni1 = np.array(S1.ParticleBinning(\"#10+#11\", units=['mm','ns','cm^-3','km/s']).getData())\n",
    "tt1 = np.array(S1.ParticleBinning(\"#10+#11\", units=['mm','ns','cm^-3','km/s']).getTimes())\n",
    "xx1 = np.array(S1.ParticleBinning(\"#10+#11\", units=['mm','ns','cm^-3','km/s']).getAxis('x'))"
   ]
  },
  {
   "cell_type": "code",
   "execution_count": 13,
   "id": "9b0ec249-6492-4a06-89a8-7597b42ba636",
   "metadata": {},
   "outputs": [],
   "source": [
    "width  = 3.487\n",
    "height = width / 1.618 * 1.5\n",
    "\n",
    "fig, ax = plt.subplots()\n",
    "fig.subplots_adjust(left=.15, bottom=.16, right=.99, top=.97)\n",
    "\n",
    "ax.plot(xx0,ni0[-1],'--b',\n",
    "       label='w/o coll. at t = {:.2f} ns'.format(tt0[-1]))\n",
    "\n",
    "# ax.plot(xx1,ni1[-1],'-r',\n",
    "       # label='with coll. at t = {:.2f} ns'.format(tt1[-1]))\n",
    "\n",
    "ax.legend(loc='lower right')\n",
    "# ax.set_xlim([0,1.75])\n",
    "# ax.set_ylim([0,7e18])\n",
    "# plt.title('time = '+str(tt[ts])+' fs')\n",
    "ax.grid(which='both',linestyle='--',alpha=0.5)\n",
    "ax.set_xlabel('x (mm)')\n",
    "ax.set_ylabel(r'$n_i$ (cm$^{-3}$)')\n",
    "fig.set_size_inches(width, height)\n",
    "fig.tight_layout()\n"
   ]
  },
  {
   "cell_type": "code",
   "execution_count": 123,
   "id": "3a461825-e288-421c-9bfe-a474061d9ba5",
   "metadata": {},
   "outputs": [],
   "source": [
    "fig.savefig('/Users/yao/Desktop/ni.png',dpi=600)"
   ]
  },
  {
   "cell_type": "code",
   "execution_count": 14,
   "id": "17752104-2493-4ca9-bb51-86c7ff416238",
   "metadata": {},
   "outputs": [
    {
     "name": "stderr",
     "output_type": "stream",
     "text": [
      "/opt/homebrew/lib/python3.9/site-packages/pint/facets/plain/quantity.py:986: RuntimeWarning: invalid value encountered in divide\n",
      "  magnitude = magnitude_op(new_self._magnitude, other._magnitude)\n"
     ]
    }
   ],
   "source": [
    "Te0 = np.array(S0.ParticleBinning(\"(#4+#5)/(#6+#7)\", units=['mm','ns','cm^-3','km/s','eV']).getData())\n",
    "tt0 = np.array(S0.ParticleBinning(\"(#4+#5)/(#6+#7)\", units=['mm','ns','cm^-3','km/s','eV']).getTimes())\n",
    "xx0 = np.array(S0.ParticleBinning(\"(#4+#5)/(#6+#7)\", units=['mm','ns','cm^-3','km/s','eV']).getAxis('x'))\n"
   ]
  },
  {
   "cell_type": "code",
   "execution_count": null,
   "id": "93fac46a",
   "metadata": {},
   "outputs": [],
   "source": [
    "\n",
    "Te1 = np.array(S1.ParticleBinning(\"(#4+#5)/(#6+#7)\", units=['mm','ns','cm^-3','km/s','eV']).getData())\n",
    "tt1 = np.array(S1.ParticleBinning(\"(#4+#5)/(#6+#7)\", units=['mm','ns','cm^-3','km/s','eV']).getTimes())\n",
    "xx1 = np.array(S1.ParticleBinning(\"(#4+#5)/(#6+#7)\", units=['mm','ns','cm^-3','km/s','eV']).getAxis('x'))"
   ]
  },
  {
   "cell_type": "code",
   "execution_count": 16,
   "id": "9b46cc64-8c04-4229-974a-fe79afabefee",
   "metadata": {},
   "outputs": [],
   "source": [
    "width  = 3.487\n",
    "height = width / 1.618 * 1.5\n",
    "\n",
    "fig, ax = plt.subplots()\n",
    "fig.subplots_adjust(left=.15, bottom=.16, right=.99, top=.97)\n",
    "\n",
    "ax.plot(xx0,Te0[-1],'--b',\n",
    "       label='w/o coll. at t = {:.3f} ns'.format(tt0[-1]))\n",
    "\n",
    "# ax.plot(xx1,Te1[30],'-r',\n",
    "       # label='with coll. at t = {:.3f} ns'.format(tt1[30]))\n",
    "\n",
    "# ax.legend(loc='upper right')\n",
    "# ax.set_xlim([1,4])\n",
    "ax.set_ylim([20,100])\n",
    "# ax.set_xlim([0.35,1.35])\n",
    "# ax.set_ylim([50,110])\n",
    "# plt.title('time = '+str(tt[ts])+' fs')\n",
    "ax.grid(which='both',linestyle='--',alpha=0.5)\n",
    "ax.set_xlabel('x (mm)')\n",
    "ax.set_ylabel(r'$T_e$ (eV)')\n",
    "fig.set_size_inches(width, height)\n",
    "fig.tight_layout()\n"
   ]
  },
  {
   "cell_type": "code",
   "execution_count": 196,
   "id": "77125d11-a1a9-4cba-a745-c671fc031e88",
   "metadata": {},
   "outputs": [],
   "source": [
    "fig.savefig('/Users/yao/Desktop/Te_3.png',dpi=600)"
   ]
  },
  {
   "cell_type": "code",
   "execution_count": 17,
   "id": "069f4762-7812-47e7-be24-7a837ae5e320",
   "metadata": {},
   "outputs": [],
   "source": [
    "Ti0 = np.array(S0.ParticleBinning(\"(#8+#9)/(#10+#11)\", units=['mm','ns','cm^-3','km/s','eV']).getData())\n",
    "tt0 = np.array(S0.ParticleBinning(\"(#8+#9)/(#10+#11)\", units=['mm','ns','cm^-3','km/s','eV']).getTimes())\n",
    "xx0 = np.array(S0.ParticleBinning(\"(#8+#9)/(#10+#11)\", units=['mm','ns','cm^-3','km/s','eV']).getAxis('x'))\n"
   ]
  },
  {
   "cell_type": "code",
   "execution_count": null,
   "id": "115effa3",
   "metadata": {},
   "outputs": [],
   "source": [
    "\n",
    "Ti1 = np.array(S1.ParticleBinning(\"(#8+#9)/(#10+#11)\", units=['mm','ns','cm^-3','km/s','eV']).getData())\n",
    "tt1 = np.array(S1.ParticleBinning(\"(#8+#9)/(#10+#11)\", units=['mm','ns','cm^-3','km/s','eV']).getTimes())\n",
    "xx1 = np.array(S1.ParticleBinning(\"(#8+#9)/(#10+#11)\", units=['mm','ns','cm^-3','km/s','eV']).getAxis('x'))"
   ]
  },
  {
   "cell_type": "code",
   "execution_count": 19,
   "id": "59248e04-8415-470f-a7a5-27373af4d5cf",
   "metadata": {},
   "outputs": [],
   "source": [
    "width  = 3.487\n",
    "height = width / 1.618 * 1.5\n",
    "\n",
    "fig, ax = plt.subplots()\n",
    "fig.subplots_adjust(left=.15, bottom=.16, right=.99, top=.97)\n",
    "\n",
    "ax.plot(xx0,Ti0[-1],'--b',\n",
    "       label='w/o coll. at t = {:.2f} ns'.format(tt0[-1]))\n",
    "\n",
    "# ax.plot(xx1,Ti1[-1]/1e3,'-r',\n",
    "       # label='with coll. at t = {:.2f} ns'.format(tt1[-1]))\n",
    "\n",
    "# ax.legend(loc='upper right')\n",
    "# ax.set_xlim([1,4])\n",
    "ax.set_ylim([0,100])\n",
    "# ax.set_xlim([0.35,1.35])\n",
    "# ax.set_ylim([50,110])\n",
    "# plt.title('time = '+str(tt[ts])+' fs')\n",
    "ax.grid(which='both',linestyle='--',alpha=0.5)\n",
    "ax.set_xlabel('x (mm)')\n",
    "ax.set_ylabel(r'$T_i$ (eV)')\n",
    "fig.set_size_inches(width, height)\n",
    "fig.tight_layout()\n"
   ]
  },
  {
   "cell_type": "code",
   "execution_count": 54,
   "id": "45a3dd2b",
   "metadata": {},
   "outputs": [],
   "source": [
    "width  = 3.487\n",
    "height = width / 1.618 * 1.5\n",
    "\n",
    "fig, ax = plt.subplots()\n",
    "fig.subplots_adjust(left=.15, bottom=.16, right=.99, top=.97)\n",
    "\n",
    "ax.plot(xx0,Ti0[-1],'--b',\n",
    "       label='Ti')\n",
    "\n",
    "ax.plot(xx0,Te0[-1],'-r',\n",
    "       label='Te')\n",
    "\n",
    "# ax.plot(xx1,Ti1[-1]/1e3,'-r',\n",
    "       # label='with coll. at t = {:.2f} ns'.format(tt1[-1]))\n",
    "\n",
    "ax.legend(loc='best')\n",
    "ax.set_xlim([0.9,4.5])\n",
    "ax.set_ylim([0,100])\n",
    "# ax.set_xlim([0.35,1.35])\n",
    "# ax.set_ylim([50,110])\n",
    "# plt.title('time = '+str(tt[ts])+' fs')\n",
    "ax.grid(which='both',linestyle='--',alpha=0.5)\n",
    "ax.set_xlabel('x (mm)')\n",
    "ax.set_ylabel(r'$T$ (eV)')\n",
    "fig.set_size_inches(width, height)\n",
    "fig.tight_layout()\n"
   ]
  },
  {
   "cell_type": "code",
   "execution_count": 158,
   "id": "879c37b3-ac46-4be3-a148-7cc848d8cc7e",
   "metadata": {},
   "outputs": [],
   "source": [
    "fig.savefig('/Users/yao/Desktop/Ti_2.png',dpi=600)"
   ]
  },
  {
   "cell_type": "code",
   "execution_count": null,
   "id": "3439973f-964f-4e06-8cd9-04231127af94",
   "metadata": {},
   "outputs": [],
   "source": []
  },
  {
   "cell_type": "code",
   "execution_count": 21,
   "id": "690465a1-0626-4dc0-af8e-e8ae756dbdf2",
   "metadata": {},
   "outputs": [],
   "source": [
    "Te00 = S0.ParticleBinning('(#4+#5)/(#6+#7)',\n",
    "                         units=['mm','ns','cm^-3','km/s','eV'],\n",
    "                         color='red',\n",
    "                         linestyle='-',\n",
    "                          vmin=0,\n",
    "                          vmax=100,\n",
    "                            # xmin=0.4,\n",
    "                            # xmax=1.4,\n",
    "                          # vmax=1200.,\n",
    "                         label='Te')\n",
    "\n",
    "Ti00 = S0.ParticleBinning('(#8+#9)/(#10+#11)',\n",
    "                         units=['mm','ns','cm^-3','km/s','eV'],\n",
    "                         color='blue',\n",
    "                         linestyle='--',\n",
    "                          vmin=0,\n",
    "                          vmax=100,\n",
    "                            # xmin=0.4,\n",
    "                            # xmax=1.4,\n",
    "                          # vmax=1200.,\n",
    "                         label='Ti')\n",
    "\n",
    "# Te01 = S1.ParticleBinning('(#4+#5)/(#6+#7)',\n",
    "#                          units=['mm','ns','cm^-3','km/s','eV'],\n",
    "#                          color='black',\n",
    "#                          linestyle='-.',\n",
    "#                           vmin=40,\n",
    "#                           vmax=90,\n",
    "#                             xmin=0.4,\n",
    "#                             xmax=1.4,\n",
    "#                           # vmax=1200.,\n",
    "#                          label='with coll.')\n",
    "\n",
    "# Te02 = S2.ParticleBinning('(#4+#5)/(#6+#7)',\n",
    "#                          units=['mm','ns','cm^-3','km/s','eV'],\n",
    "#                          color='red',\n",
    "#                          linestyle='--',\n",
    "#                           vmin=50,\n",
    "#                           vmax=120,\n",
    "#                             # xmin=0,\n",
    "#                             # xmax=2.66,\n",
    "#                           # vmax=1200.,\n",
    "#                          label='ni=4.3e18, Z=7')\n",
    "\n",
    "happi.multiSlide(Te00, Ti00)#, Te01)#,Te02)"
   ]
  },
  {
   "cell_type": "code",
   "execution_count": null,
   "id": "2e91b741-4630-46ee-ac99-e208366d441b",
   "metadata": {},
   "outputs": [],
   "source": []
  },
  {
   "cell_type": "code",
   "execution_count": null,
   "id": "d13aaf9a-cd2b-4c75-a098-2e0337bf702f",
   "metadata": {},
   "outputs": [],
   "source": []
  },
  {
   "cell_type": "code",
   "execution_count": null,
   "id": "853feb4b-f2db-4cdb-b4a1-f6463c74689a",
   "metadata": {},
   "outputs": [],
   "source": []
  },
  {
   "cell_type": "code",
   "execution_count": null,
   "id": "f0ff1059-d2c4-4650-8316-fc9944d20ca3",
   "metadata": {},
   "outputs": [],
   "source": []
  },
  {
   "cell_type": "code",
   "execution_count": 63,
   "id": "46b66fc3-d7a4-4be7-80e3-87f9137ad148",
   "metadata": {},
   "outputs": [],
   "source": [
    "xpx00 = S0.ParticleBinning(\"#0+#1\",units=['mm','ns','cm^-3','km/s'],\n",
    "                          data_log=True,\n",
    "                           vmin=-5,\n",
    "                           vmax=5,\n",
    "                           # xmin=4,\n",
    "                           # xmax=7,\n",
    "                          cmap=newcmap)\n",
    "\n",
    "xpx01 = S1.ParticleBinning(\"#0+#1\",units=['mm','ns','cm^-3','km/s'],\n",
    "                          data_log=True,\n",
    "                            vmin=-5,\n",
    "                            vmax=5,\n",
    "                           # xmin=4,\n",
    "                           # xmax=7,\n",
    "                          cmap=newcmap\n",
    "                          )\n",
    "\n",
    "happi.multiSlide(xpx00,xpx01,\n",
    "                 # xpx02, \n",
    "                 shape=[2,1])"
   ]
  },
  {
   "cell_type": "code",
   "execution_count": 67,
   "id": "ea17e00a-279c-4610-9643-93bb46eb6ec8",
   "metadata": {},
   "outputs": [],
   "source": [
    "ps0 = np.array(S0.ParticleBinning(\"#0+#1\", \n",
    "                                  units=['mm','ns','cm^-3','km/s'],\n",
    "                                  data_log=True).getData()\n",
    "              )\n",
    "pst0  = np.array(S0.ParticleBinning(\"#0+#1\", units=['mm','ns','cm^-3','km/s'],).getTimes())\n",
    "psx0  = np.array(S0.ParticleBinning(\"#0+#1\", units=['mm','ns','cm^-3','km/s'],).getAxis('x'))\n",
    "psv0  = np.array(S0.ParticleBinning(\"#0+#1\", units=['mm','ns','cm^-3','km/s'],).getAxis('vx'))"
   ]
  },
  {
   "cell_type": "code",
   "execution_count": 73,
   "id": "56656330-9bce-40ca-a925-a206c8df303f",
   "metadata": {},
   "outputs": [],
   "source": [
    "ps1 = np.array(S1.ParticleBinning(\"#0+#1\", \n",
    "                                  units=['mm','ns','cm^-3','km/s'],\n",
    "                                  data_log=True).getData()\n",
    "              )\n",
    "pst1  = np.array(S1.ParticleBinning(\"#0+#1\", units=['mm','ns','cm^-3','km/s'],).getTimes())\n",
    "psx1  = np.array(S1.ParticleBinning(\"#0+#1\", units=['mm','ns','cm^-3','km/s'],).getAxis('x'))\n",
    "psv1  = np.array(S1.ParticleBinning(\"#0+#1\", units=['mm','ns','cm^-3','km/s'],).getAxis('vx'))"
   ]
  },
  {
   "cell_type": "code",
   "execution_count": 100,
   "id": "e8c5bdb0-72f0-4528-8657-ddb493151d14",
   "metadata": {},
   "outputs": [
    {
     "name": "stderr",
     "output_type": "stream",
     "text": [
      "/var/folders/2t/97rc3fl92tg15k2l_4sk5hsh0000gn/T/ipykernel_41756/1901853167.py:55: MatplotlibDeprecationWarning: The toggle_label function was deprecated in Matplotlib 3.8 and will be removed two minor releases later. Use ax.tick_params and colorbar.set_label instead.\n",
      "  grid[1].cax.toggle_label(True)\n"
     ]
    }
   ],
   "source": [
    "from mpl_toolkits.axes_grid1 import make_axes_locatable\n",
    "from mpl_toolkits.axes_grid1 import ImageGrid\n",
    "\n",
    "\n",
    "width  = 3.487 * 1.5\n",
    "height = width / 1.618\n",
    "\n",
    "fig = plt.figure(figsize=(width, height))\n",
    "\n",
    "# fig, ax = plt.subplots()\n",
    "# fig.subplots_adjust(left=.15, bottom=.16, right=.99, top=.97)\n",
    "\n",
    "grid = ImageGrid(fig, 111,          # as in plt.subplot(111)\n",
    "                 nrows_ncols=(2,1),\n",
    "                 axes_pad=0.25,\n",
    "                 share_all=True,\n",
    "                 cbar_location=\"right\",\n",
    "                 cbar_mode=\"single\",\n",
    "                 cbar_size=\"2%\",\n",
    "                 cbar_pad=0.1,\n",
    "                 )\n",
    "\n",
    "im0 = grid[0].imshow(ps0[60].T,\n",
    "           cmap=newcmap,\n",
    "           origin='lower',\n",
    "           extent=[psx0[0],psx0[-1],psv0[0],psv0[-1]],\n",
    "           vmin=0,\n",
    "           vmax=4,\n",
    "           aspect=0.001,\n",
    "          )\n",
    "\n",
    "im1 = grid[1].imshow(ps1[-1].T,\n",
    "           cmap=newcmap,\n",
    "           origin='lower',\n",
    "           extent=[psx1[0],psx1[-1],psv1[0],psv1[-1]],\n",
    "           vmin=0,\n",
    "           vmax=4,\n",
    "           aspect=0.001,\n",
    "          )\n",
    "\n",
    "# grid[0].set_xlim(0,35)\n",
    "# grid[1].set_xlim(0,35)\n",
    "# grid[1].set_ylim(5,35)\n",
    "grid[0].set_xlabel('x (mm)')\n",
    "grid[1].set_xlabel('x (mm)')\n",
    "grid[0].set_ylabel(r'$v_x$ (km/s)')\n",
    "grid[1].set_ylabel(r'$v_x$ (km/s)')\n",
    "grid[0].grid(linestyle='--',color='grey',alpha=0.5)\n",
    "grid[1].grid(linestyle='--',color='grey',alpha=0.5)\n",
    "\n",
    "# Colorbar\n",
    "grid[1].cax.colorbar(im1)\n",
    "grid[1].cax.cla()\n",
    "mpl.colorbar.Colorbar(grid[1].cax,im1)\n",
    "grid[1].cax.toggle_label(True)\n",
    "# grid[1].cax.tick_params(size=0)\n",
    "# grid[1].cax.toggle_label(True)\n",
    "# fig.tight_layout()\n",
    "plt.show()"
   ]
  },
  {
   "cell_type": "code",
   "execution_count": 101,
   "id": "fede9eea-9a72-4519-a89f-ddd7626b3677",
   "metadata": {},
   "outputs": [],
   "source": [
    "fig.savefig('/Users/yao/Desktop/ps.png',dpi=600)"
   ]
  },
  {
   "cell_type": "code",
   "execution_count": 160,
   "id": "c46f7b72-b2c3-411e-ad4e-195b3ef6f94c",
   "metadata": {},
   "outputs": [],
   "source": [
    "pxy0 = np.array(S0.ParticleBinning(\"#12+#13\", \n",
    "                                  units=['mm','ns','cm^-3','km/s'],\n",
    "                                  data_log=True).getData()\n",
    "              )\n",
    "pxyt0  = np.array(S0.ParticleBinning(\"#12+#13\", units=['mm','ns','cm^-3','km/s'],).getTimes())\n",
    "pxyvx0 = np.array(S0.ParticleBinning(\"#12+#13\", units=['mm','ns','cm^-3','km/s'],).getAxis('vx'))\n",
    "pxyvy0 = np.array(S0.ParticleBinning(\"#12+#13\", units=['mm','ns','cm^-3','km/s'],).getAxis('vy'))"
   ]
  },
  {
   "cell_type": "code",
   "execution_count": 161,
   "id": "8a9c81b5-0999-4d9b-933e-3e6eb5c11955",
   "metadata": {},
   "outputs": [],
   "source": [
    "pxy1 = np.array(S1.ParticleBinning(\"#12+#13\", \n",
    "                                  units=['mm','ns','cm^-3','km/s'],\n",
    "                                  data_log=True).getData()\n",
    "              )\n",
    "pxyt1  = np.array(S1.ParticleBinning(\"#12+#13\", units=['mm','ns','cm^-3','km/s'],).getTimes())\n",
    "pxyvx1 = np.array(S1.ParticleBinning(\"#12+#13\", units=['mm','ns','cm^-3','km/s'],).getAxis('vx'))\n",
    "pxyvy1 = np.array(S1.ParticleBinning(\"#12+#13\", units=['mm','ns','cm^-3','km/s'],).getAxis('vy'))"
   ]
  },
  {
   "cell_type": "code",
   "execution_count": 173,
   "id": "8680f000-0594-49b6-9eef-a4b0f3f0f58a",
   "metadata": {},
   "outputs": [
    {
     "name": "stderr",
     "output_type": "stream",
     "text": [
      "/var/folders/2t/97rc3fl92tg15k2l_4sk5hsh0000gn/T/ipykernel_41756/1340777399.py:55: MatplotlibDeprecationWarning: The toggle_label function was deprecated in Matplotlib 3.8 and will be removed two minor releases later. Use ax.tick_params and colorbar.set_label instead.\n",
      "  grid[1].cax.toggle_label(True)\n",
      "/var/folders/2t/97rc3fl92tg15k2l_4sk5hsh0000gn/T/ipykernel_41756/1340777399.py:58: UserWarning: This figure includes Axes that are not compatible with tight_layout, so results might be incorrect.\n",
      "  fig.tight_layout()\n"
     ]
    }
   ],
   "source": [
    "from mpl_toolkits.axes_grid1 import make_axes_locatable\n",
    "from mpl_toolkits.axes_grid1 import ImageGrid\n",
    "\n",
    "\n",
    "width  = 3.487 * 2\n",
    "height = width / 1.618 #* 0.8\n",
    "\n",
    "fig = plt.figure(figsize=(width, height))\n",
    "\n",
    "# fig, ax = plt.subplots()\n",
    "# fig.subplots_adjust(left=.15, bottom=.16, right=.99, top=.97)\n",
    "\n",
    "grid = ImageGrid(fig, 111,          # as in plt.subplot(111)\n",
    "                 nrows_ncols=(1,2),\n",
    "                 axes_pad=0.25,\n",
    "                 share_all=True,\n",
    "                 cbar_location=\"right\",\n",
    "                 cbar_mode=\"single\",\n",
    "                 cbar_size=\"3%\",\n",
    "                 cbar_pad=0.1,\n",
    "                 )\n",
    "\n",
    "im0 = grid[0].imshow(pxy0[60].T,\n",
    "           cmap=newcmap,\n",
    "           origin='lower',\n",
    "           extent=[pxyvx0[0],pxyvx0[-1],pxyvy0[0],pxyvy0[-1]],\n",
    "           vmin=-1,\n",
    "           vmax=7,\n",
    "           # aspect=0.001,\n",
    "          )\n",
    "\n",
    "im1 = grid[1].imshow(pxy1[-1].T,\n",
    "           cmap=newcmap,\n",
    "           origin='lower',\n",
    "           extent=[pxyvx1[0],pxyvx1[-1],pxyvy1[0],pxyvy1[-1]],\n",
    "           vmin=-1,\n",
    "           vmax=7,\n",
    "           # aspect=0.001,\n",
    "          )\n",
    "\n",
    "# grid[0].set_xlim(0,35)\n",
    "# grid[1].set_xlim(0,35)\n",
    "# grid[1].set_ylim(5,35)\n",
    "grid[0].set_xlabel(r'$v_x$ (km/s)')\n",
    "grid[1].set_xlabel(r'$v_x$ (km/s)')\n",
    "grid[0].set_ylabel(r'$v_y$ (km/s)')\n",
    "grid[1].set_ylabel(r'$v_y$ (km/s)')\n",
    "grid[0].grid(linestyle='--',color='grey',alpha=0.5)\n",
    "grid[1].grid(linestyle='--',color='grey',alpha=0.5)\n",
    "\n",
    "# Colorbar\n",
    "grid[1].cax.colorbar(im1)\n",
    "grid[1].cax.cla()\n",
    "mpl.colorbar.Colorbar(grid[1].cax,im1)\n",
    "grid[1].cax.toggle_label(True)\n",
    "# grid[1].cax.tick_params(size=0)\n",
    "# grid[1].cax.toggle_label(True)\n",
    "fig.tight_layout()\n",
    "# plt.show()"
   ]
  },
  {
   "cell_type": "code",
   "execution_count": 174,
   "id": "baebe0f3-1f9b-40b1-b170-e3dbbb43ee3e",
   "metadata": {},
   "outputs": [],
   "source": [
    "fig.savefig('/Users/yao/Desktop/pxy.png',dpi=600)"
   ]
  },
  {
   "cell_type": "code",
   "execution_count": 105,
   "id": "ab6bc497-ae16-49b7-b9f2-964424a8eb33",
   "metadata": {},
   "outputs": [],
   "source": [
    "pxyvy0  = np.array(S0.ParticleBinning(\"#2+#3\", units=['mm','ns','cm^-3','km/s'],).getAxis('vy'))"
   ]
  },
  {
   "cell_type": "code",
   "execution_count": 106,
   "id": "05d406b6-1ffe-4209-a39d-580f75869ce3",
   "metadata": {},
   "outputs": [
    {
     "data": {
      "text/plain": [
       "array([], dtype=float64)"
      ]
     },
     "execution_count": 106,
     "metadata": {},
     "output_type": "execute_result"
    }
   ],
   "source": [
    "pxyvy0"
   ]
  },
  {
   "cell_type": "code",
   "execution_count": 109,
   "id": "29f03d00-59b2-4204-88a6-c3e1d61e8178",
   "metadata": {},
   "outputs": [],
   "source": [
    "xpx00 = S0.ParticleBinning(\"#6+#7\",\n",
    "                           units=['mm','ns','cm^-3','km/s'],\n",
    "                           label='w/o coll.',\n",
    "                           xmin=0.4,\n",
    "                           xmax=1.4,\n",
    "                          # data_log=True,\n",
    "                            vmin=1.0e19,\n",
    "                            vmax=3.5e19,\n",
    "                           # xmin=4,\n",
    "                           # xmax=7,\n",
    "                          # cmap=newcmap\n",
    "                          )\n",
    "\n",
    "xpx01 = S1.ParticleBinning(\"#6+#7\",\n",
    "                           units=['mm','ns','cm^-3','km/s'],\n",
    "                           label='with coll.',\n",
    "                           xmin=0.4,\n",
    "                           xmax=1.4,\n",
    "                            vmin=1.0e19,\n",
    "                            vmax=3.5e19,\n",
    "                          # data_log=True,\n",
    "                            # vmin=-3,\n",
    "                           # vmax=3,\n",
    "                           # xmin=4,\n",
    "                           # xmax=7,\n",
    "                          # cmap=newcmap\n",
    "                          )#.slide()\n",
    "\n",
    "# xpx02 = S2.ParticleBinning(\"#1\",units=['mm','ns','cm^-3','km/s'],\n",
    "#                           data_log=True,\n",
    "#                            vmin=2,\n",
    "#                            vmax=5,\n",
    "#                            # xmin=4,\n",
    "#                            # xmax=7,\n",
    "#                           cmap=newcmap)#.slide()\n",
    "\n",
    "happi.multiSlide(xpx00,xpx01,\n",
    "                 # xpx02, \n",
    "                 # shape=[2,1]\n",
    "                 )"
   ]
  },
  {
   "cell_type": "code",
   "execution_count": null,
   "id": "02dc229f-4c35-4967-8f7d-e606b756f04b",
   "metadata": {},
   "outputs": [],
   "source": []
  }
 ],
 "metadata": {
  "kernelspec": {
   "display_name": "Python 3",
   "language": "python",
   "name": "python3"
  },
  "language_info": {
   "codemirror_mode": {
    "name": "ipython",
    "version": 3
   },
   "file_extension": ".py",
   "mimetype": "text/x-python",
   "name": "python",
   "nbconvert_exporter": "python",
   "pygments_lexer": "ipython3",
   "version": "3.9.22"
  }
 },
 "nbformat": 4,
 "nbformat_minor": 5
}
