{
 "cells": [
  {
   "cell_type": "code",
   "execution_count": 1,
   "id": "cc5f15e6-90f0-4f79-acbe-5c2d4c76815a",
   "metadata": {},
   "outputs": [],
   "source": [
    "%matplotlib qt"
   ]
  },
  {
   "cell_type": "code",
   "execution_count": 2,
   "id": "61ec8fba-3f7b-4c6d-9f00-1d9a5a9c6d9d",
   "metadata": {},
   "outputs": [
    {
     "name": "stderr",
     "output_type": "stream",
     "text": [
      "/var/folders/2t/97rc3fl92tg15k2l_4sk5hsh0000gn/T/ipykernel_61565/616493249.py:6: MatplotlibDeprecationWarning: The get_cmap function was deprecated in Matplotlib 3.7 and will be removed two minor releases later. Use ``matplotlib.colormaps[name]`` or ``matplotlib.colormaps.get_cmap(obj)`` instead.\n",
      "  jetcmap = plt.cm.get_cmap(\"jet\", 9) #generate a jet map with 10 values \"rainbow\", \"jet\", YlOrRd\n"
     ]
    }
   ],
   "source": [
    "import matplotlib as mpl\n",
    "import happi\n",
    "import numpy as np\n",
    "import matplotlib.pyplot as plt\n",
    "\n",
    "jetcmap = plt.cm.get_cmap(\"jet\", 9) #generate a jet map with 10 values \"rainbow\", \"jet\", YlOrRd\n",
    "jet_vals = jetcmap(np.arange(9)) #extract those values as an array \n",
    "jet_vals[0] = [1.0, 1, 1.0, 1] #change the first value \n",
    "jet_vals[8] = [0.0, 0, 0.0, 1] #change the first value \n",
    "newcmap = mpl.colors.LinearSegmentedColormap.from_list(\"mine\", jet_vals) "
   ]
  },
  {
   "cell_type": "code",
   "execution_count": 35,
   "id": "28ed7a25-582a-495d-9b95-24c46b86d123",
   "metadata": {},
   "outputs": [],
   "source": [
    "plt.rc('font', family='sans-serif', serif='Arial')\n",
    "plt.rc('text', usetex=False)\n",
    "plt.rc('xtick', labelsize=13)\n",
    "plt.rc('ytick', labelsize=13)\n",
    "plt.rc('axes', labelsize=13)\n",
    "plt.rc('legend', fontsize=12)"
   ]
  },
  {
   "cell_type": "code",
   "execution_count": 4,
   "id": "ca1228c8-7850-41de-8eb1-8197a8a86a43",
   "metadata": {},
   "outputs": [],
   "source": [
    "import pandas as pd"
   ]
  },
  {
   "cell_type": "code",
   "execution_count": 5,
   "id": "7f3ebd8a-434e-4add-98f0-fa3bd21ef114",
   "metadata": {},
   "outputs": [],
   "source": [
    "data = pd.read_excel('/Users/yao/Nextcloud/PROJECTS/Apollon/F2-2021/figs/VH_ave.xlsx')"
   ]
  },
  {
   "cell_type": "code",
   "execution_count": 6,
   "id": "ee4efca6-bd97-43ef-a339-3126e20a757e",
   "metadata": {},
   "outputs": [],
   "source": [
    "ave = np.array(pd.DataFrame(data, columns=[\"ave\"]))\n",
    "ms1 = np.array(pd.DataFrame(data, columns=[\"measure 1\"]))\n",
    "ms2 = np.array(pd.DataFrame(data, columns=[\"measure 2\"]))\n",
    "ms3 = np.array(pd.DataFrame(data, columns=[\"measure 3\"]))\n",
    "str = np.array(pd.DataFrame(data, columns=[\"str_mat\"]))\n"
   ]
  },
  {
   "cell_type": "code",
   "execution_count": 21,
   "id": "57f99c21-4cef-40e1-8a49-b2ec5f9f56d5",
   "metadata": {},
   "outputs": [],
   "source": [
    "# read the theoretical deposited energy in each RCF layer\n",
    "\n",
    "import scipy.io\n",
    "in_layer = scipy.io.loadmat('/Users/yao/Nextcloud/PROJECTS/Apollon/F2-2021/figs/inlayer.mat')\n",
    "# in_layer = scipy.io.loadmat('/Users/yao/Desktop/in_layer_F1.mat')\n",
    "inlayer = np.array(in_layer['in_layer'])\n"
   ]
  },
  {
   "cell_type": "code",
   "execution_count": 10,
   "id": "9072df6b-0a0a-42e4-b394-3fee9d85f154",
   "metadata": {
    "scrolled": true
   },
   "outputs": [],
   "source": [
    "# use the data of F1 to check the absolute value of the spectrum\n",
    "\n",
    "in_layer = scipy.io.loadmat('/Users/yao/Nextcloud/PROJECTS/Apollon/F2-2021/figs/in_layer_F1.mat')\n",
    "inlayer = np.array(in_layer['in_layer'])\n",
    "\n",
    "sommeOD = scipy.io.loadmat('/Users/yao/Nextcloud/PROJECTS/Apollon/F2-2021/figs/dose_F1.mat')\n",
    "dose = np.array(sommeOD['sommeOD'])"
   ]
  },
  {
   "cell_type": "code",
   "execution_count": 22,
   "id": "0f849242-a624-474e-b1ac-17ce5f559259",
   "metadata": {},
   "outputs": [
    {
     "data": {
      "text/plain": [
       "(450, 20)"
      ]
     },
     "execution_count": 22,
     "metadata": {},
     "output_type": "execute_result"
    }
   ],
   "source": [
    "inlayer.shape"
   ]
  },
  {
   "cell_type": "code",
   "execution_count": 23,
   "id": "00e0bda4-7510-4f0a-ba96-b30765584c63",
   "metadata": {},
   "outputs": [
    {
     "ename": "ValueError",
     "evalue": "operands could not be broadcast together with shapes (450,) (800,) ",
     "output_type": "error",
     "traceback": [
      "\u001b[0;31m---------------------------------------------------------------------------\u001b[0m",
      "\u001b[0;31mValueError\u001b[0m                                Traceback (most recent call last)",
      "Cell \u001b[0;32mIn[23], line 19\u001b[0m\n\u001b[1;32m     17\u001b[0m couche      \u001b[38;5;241m=\u001b[39m np\u001b[38;5;241m.\u001b[39mzeros_like(np\u001b[38;5;241m.\u001b[39mlinspace(\u001b[38;5;241m1\u001b[39m,\u001b[38;5;241m12\u001b[39m,\u001b[38;5;241m12\u001b[39m))\n\u001b[1;32m     18\u001b[0m \u001b[38;5;28;01mfor\u001b[39;00m f \u001b[38;5;129;01min\u001b[39;00m \u001b[38;5;28mrange\u001b[39m(\u001b[38;5;241m12\u001b[39m):\n\u001b[0;32m---> 19\u001b[0m     couche[f]      \u001b[38;5;241m=\u001b[39m np\u001b[38;5;241m.\u001b[39mtrapz(\u001b[43minlayer\u001b[49m\u001b[43m[\u001b[49m\u001b[43m:\u001b[49m\u001b[43m,\u001b[49m\u001b[43mf\u001b[49m\u001b[43m]\u001b[49m\u001b[38;5;241;43m*\u001b[39;49m\u001b[43mspectre\u001b[49m\u001b[43m[\u001b[49m\u001b[43m:\u001b[49m\u001b[43m]\u001b[49m)\n\u001b[1;32m     21\u001b[0m ax\u001b[38;5;241m.\u001b[39mplot(np\u001b[38;5;241m.\u001b[39mlinspace(\u001b[38;5;241m1\u001b[39m,\u001b[38;5;241m12\u001b[39m,\u001b[38;5;241m12\u001b[39m), couche, \u001b[38;5;124m'\u001b[39m\u001b[38;5;124m-r\u001b[39m\u001b[38;5;124m'\u001b[39m, label\u001b[38;5;241m=\u001b[39m\u001b[38;5;124m'\u001b[39m\u001b[38;5;124mSim.\u001b[39m\u001b[38;5;124m'\u001b[39m)\n\u001b[1;32m     23\u001b[0m \u001b[38;5;66;03m# # ax.set_yscale('log')\u001b[39;00m\n",
      "\u001b[0;31mValueError\u001b[0m: operands could not be broadcast together with shapes (450,) (800,) "
     ]
    }
   ],
   "source": [
    "width  = 3.487 * 1.5\n",
    "height = width / 1.618 \n",
    "\n",
    "fig, ax = plt.subplots()\n",
    "fig.subplots_adjust(left=.15, bottom=.16, right=.99, top=.97)\n",
    "\n",
    "# experiment\n",
    "\n",
    "ax.plot(np.linspace(1,12,12), dose[0], label='Exp')\n",
    "\n",
    "\n",
    "e_inc = np.linspace(1,60,800)\n",
    "spectre = np.zeros_like(e_inc)\n",
    "for p in range (e_inc.size):\n",
    "    spectre[p] = 800*np.exp(-1.*np.sqrt(2*e_inc[p]/2))\n",
    "\n",
    "couche      = np.zeros_like(np.linspace(1,12,12))\n",
    "for f in range(12):\n",
    "    couche[f]      = np.trapz(inlayer[:,f]*spectre[:])\n",
    "    \n",
    "ax.plot(np.linspace(1,12,12), couche, '-r', label='Sim.')\n",
    "\n",
    "# # ax.set_yscale('log')\n",
    "\n",
    "ax.set_xlim([0,13])\n",
    "ax.set_xticks([0,2,4,6,8,10,12,14])\n",
    "ax.set_ylim([0,1000])\n",
    "ax.grid(linestyle='--',alpha=0.5)\n",
    "ax.set_xlabel('No. of RCF')\n",
    "ax.set_ylabel('Dose (Gy)')\n",
    "ax.legend(fancybox=False, reverse=True, frameon=False)\n",
    "fig.set_size_inches(width, height)\n",
    "fig.tight_layout()\n",
    "\n",
    "# fig.savefig('/Users/yao/Desktop/Spec1.pdf',dpi=600)\n",
    "\n",
    "fig, ax = plt.subplots()\n",
    "fig.subplots_adjust(left=.15, bottom=.16, right=.99, top=.97)\n",
    "\n",
    "ax.plot(e_inc, spectre*factor, '-r', label='Spectrum')\n",
    "ax.set_yscale('log')\n",
    "\n",
    "ax.set_xlim([0,60])\n",
    "# ax.set_ylim([1e-1,1e3])\n",
    "ax.grid(linestyle='--',alpha=0.5)\n",
    "ax.set_xlabel('Energy (MeV)')\n",
    "ax.set_ylabel(r'dN/dE/d$\\Omega$')\n",
    "ax.legend(fancybox=False, reverse=True, frameon=False)\n",
    "fig.set_size_inches(width, height)\n",
    "fig.tight_layout()\n",
    "# fig.savefig('/Users/yao/Desktop/Spec2.pdf',dpi=600)\n",
    "\n",
    "\n",
    "\n",
    "plt.show()"
   ]
  },
  {
   "cell_type": "code",
   "execution_count": 14,
   "id": "c2b8223e-c210-4d98-86a9-4223b4a67f12",
   "metadata": {},
   "outputs": [],
   "source": [
    "factor = 2.0e10 / 32"
   ]
  },
  {
   "cell_type": "code",
   "execution_count": 24,
   "id": "15f5856a-f4b1-4b79-b134-6e87553dc9b8",
   "metadata": {},
   "outputs": [
    {
     "data": {
      "text/plain": [
       "(450, 20)"
      ]
     },
     "execution_count": 24,
     "metadata": {},
     "output_type": "execute_result"
    }
   ],
   "source": [
    "inlayer.shape"
   ]
  },
  {
   "cell_type": "code",
   "execution_count": 25,
   "id": "cbcdc610-4d19-4ddc-ac62-1d591a031bcf",
   "metadata": {},
   "outputs": [
    {
     "data": {
      "text/plain": [
       "43.42103468995119"
      ]
     },
     "execution_count": 25,
     "metadata": {},
     "output_type": "execute_result"
    }
   ],
   "source": [
    "np.trapz(inlayer[:,1])"
   ]
  },
  {
   "cell_type": "code",
   "execution_count": 26,
   "id": "ba6692c8-e351-43dc-9392-0cd671cc6d43",
   "metadata": {},
   "outputs": [],
   "source": [
    "yerr0=[np.abs(np.minimum(ave[:,0]-ms1[:,0], ave[:,0]-ms2[:,0], ave[:,0]-ms3[:,0]))/ave[0,0],\n",
    "       np.maximum(ave[:,0]-ms1[:,0], ave[:,0]-ms2[:,0], ave[:,0]-ms3[:,0])/ave[0,0]\n",
    "      ]"
   ]
  },
  {
   "cell_type": "code",
   "execution_count": 27,
   "id": "da9e4b40-6835-473d-8764-28e1fd8c979f",
   "metadata": {},
   "outputs": [],
   "source": [
    "width  = 3.487 * 1.5\n",
    "height = width / 1.618 \n",
    "\n",
    "fig, ax = plt.subplots()\n",
    "fig.subplots_adjust(left=.15, bottom=.16, right=.99, top=.97)\n",
    "\n",
    "# experiment\n",
    "ax.errorbar(np.linspace(1,14,14),\n",
    "            ave[:,0]/ave[11,0],\n",
    "            yerr=yerr0, \n",
    "            fmt='-k',markersize=8,\n",
    "            mfc='none',\n",
    "            ecolor='k',elinewidth=2.0,\n",
    "            capsize=2.0, capthick = 2.0,\n",
    "            label='Exp.'\n",
    "           )\n",
    "\n",
    "\n",
    "e_inc = np.linspace(1,45,450)\n",
    "spectre = np.zeros_like(e_inc)\n",
    "spectre_low  = np.zeros_like(e_inc)\n",
    "spectre_high1 = np.zeros_like(e_inc)\n",
    "spectre_high2 = np.zeros_like(e_inc)\n",
    "for p in range (e_inc.size):\n",
    "    spectre_low[p] = 20*np.exp(-1.*np.sqrt(2*e_inc[p]/0.5))\n",
    "    # if e_inc[p] > 20:\n",
    "    spectre_high1[p] = 0.1*np.exp(-0.5*((e_inc[p]-27.)/3.5)**4)\n",
    "    # else:\n",
    "    spectre_high2[p] = 0.03*np.exp(-0.5*((e_inc[p]-22.)/5)**4)\n",
    "    spectre[p] =  spectre_low[p] + spectre_high1[p] + spectre_high2[p]\n",
    "\n",
    "couche_low  = np.zeros_like(np.linspace(1,14,14))\n",
    "couche_high1 = np.zeros_like(np.linspace(1,14,14))\n",
    "couche_high2 = np.zeros_like(np.linspace(1,14,14))\n",
    "couche      = np.zeros_like(np.linspace(1,14,14))\n",
    "for f in range(14):\n",
    "    couche_low[f]  = np.trapz(inlayer[:,f]*spectre_low[:])\n",
    "    couche_high1[f] = np.trapz(inlayer[:,f]*spectre_high1[:])\n",
    "    couche_high2[f] = np.trapz(inlayer[:,f]*spectre_high2[:])\n",
    "    couche[f]      = np.trapz(inlayer[:,f]*spectre[:])\n",
    "    \n",
    "ax.plot(np.linspace(1,14,14), couche/couche[11], '-r', label='Sim. low+highs')\n",
    "ax.plot(np.linspace(1,14,14), couche_low/couche[11],  '--b', label='Sim. low')\n",
    "ax.plot(np.linspace(1,14,14), couche_high1/couche[11], ':c', label='Sim. high1')\n",
    "ax.plot(np.linspace(1,14,14), couche_high2/couche[11], ':m', label='Sim. high2')\n",
    "\n",
    "# ax.set_yscale('log')\n",
    "\n",
    "ax.set_xlim([0,15])\n",
    "ax.set_xticks([0,2,4,6,8,10,12,14])\n",
    "ax.set_ylim([0,5])\n",
    "ax.grid(linestyle='--',alpha=0.5)\n",
    "ax.set_xlabel('No. of RCF')\n",
    "ax.set_ylabel('Normalized dose')\n",
    "ax.legend(fancybox=False, reverse=True, frameon=False)\n",
    "fig.set_size_inches(width, height)\n",
    "fig.tight_layout()\n",
    "\n",
    "fig.savefig('/Users/yao/Desktop/Spec1.pdf',dpi=600)\n",
    "\n",
    "fig, ax = plt.subplots()\n",
    "fig.subplots_adjust(left=.15, bottom=.16, right=.99, top=.97)\n",
    "\n",
    "ax.plot(e_inc, spectre, '-r', label='Spectrum low+highs')\n",
    "ax.plot(e_inc, spectre_low,  '--b', label='Spectrum low')\n",
    "ax.plot(e_inc, spectre_high1, ':c', label='Spectrum high1')\n",
    "ax.plot(e_inc, spectre_high2, ':m', label='Spectrum high2')\n",
    "ax.set_yscale('log')\n",
    "\n",
    "ax.set_xlim([0,45])\n",
    "ax.set_ylim([1e-5,1e2])\n",
    "ax.grid(linestyle='--',alpha=0.5)\n",
    "ax.set_xlabel('Energy (MeV)')\n",
    "ax.set_ylabel('dN/dE')\n",
    "ax.legend(fancybox=False, reverse=True, frameon=False)\n",
    "fig.set_size_inches(width, height)\n",
    "fig.tight_layout()\n",
    "fig.savefig('/Users/yao/Desktop/Spec2.pdf',dpi=600)\n",
    "\n",
    "\n",
    "\n",
    "# plt.show()"
   ]
  },
  {
   "cell_type": "code",
   "execution_count": 14,
   "id": "a60b73c8-9847-40ac-9ff8-74f79219bd08",
   "metadata": {},
   "outputs": [],
   "source": [
    "fig, ax = plt.subplots()\n",
    "fig.subplots_adjust(left=.15, bottom=.16, right=.99, top=.97)\n",
    "\n",
    "yerr0=[np.abs(np.minimum(ave[:,0]-ms1[:,0], ave[:,0]-ms2[:,0], ave[:,0]-ms3[:,0])),\n",
    "       np.maximum(ave[:,0]-ms1[:,0], ave[:,0]-ms2[:,0], ave[:,0]-ms3[:,0])\n",
    "      ]\n",
    "\n",
    "ax.errorbar(np.linspace(1,14,14),\n",
    "            ave[:,0],\n",
    "            yerr=yerr0, \n",
    "            fmt='-k',markersize=8,\n",
    "            mfc='none',\n",
    "            ecolor='k',elinewidth=2.0,\n",
    "            capsize=2.0, capthick = 2.0,\n",
    "            label='Exp.'\n",
    "           )\n",
    "\n",
    "ax.plot(np.linspace(1,14,14), 500*couche, '-r', label='Sim.')\n",
    "\n",
    "\n",
    "\n",
    "ax.set_xlim([0,15])\n",
    "ax.set_xticks([0,2,4,6,8,10,12,14])\n",
    "ax.set_ylim([0,3000])\n",
    "ax.grid(linestyle='--',alpha=0.5)\n",
    "ax.set_xlabel('No. of RCF')\n",
    "ax.set_ylabel('Dose (Gy)')\n",
    "ax.legend(fancybox=False, reverse=True, frameon=False)\n",
    "fig.set_size_inches(width, height)\n",
    "fig.tight_layout()\n",
    "\n",
    "fig.savefig('/Users/yao/Desktop/Dose.pdf',dpi=600)"
   ]
  },
  {
   "cell_type": "code",
   "execution_count": 28,
   "id": "3e709458-0251-40e4-804f-32272bc238fb",
   "metadata": {},
   "outputs": [],
   "source": [
    "width  = 3.487 * 1.5\n",
    "height = width / 1.618 \n",
    "\n",
    "fig, ax = plt.subplots()\n",
    "fig.subplots_adjust(left=.15, bottom=.16, right=.99, top=.97)\n",
    "\n",
    "# experiment\n",
    "ax.errorbar(np.linspace(1,14,14),\n",
    "            ave[:,0],\n",
    "            yerr=yerr0, \n",
    "            fmt='-k',markersize=8,\n",
    "            mfc='none',\n",
    "            ecolor='k',elinewidth=2.0,\n",
    "            capsize=2.0, capthick = 2.0,\n",
    "            label='Exp.'\n",
    "           )\n",
    "\n",
    "factor = 500\n",
    "\n",
    "e_inc = np.linspace(1,45,450)\n",
    "spectre = np.zeros_like(e_inc)\n",
    "spectre_low  = np.zeros_like(e_inc)\n",
    "spectre_high1 = np.zeros_like(e_inc)\n",
    "spectre_high2 = np.zeros_like(e_inc)\n",
    "for p in range (e_inc.size):\n",
    "    spectre_low[p] = 20*np.exp(-1.*np.sqrt(2*e_inc[p]/0.5))*factor\n",
    "    # if e_inc[p] > 20:\n",
    "    spectre_high1[p] = 0.1*np.exp(-0.5*((e_inc[p]-27.)/3.5)**4)*factor\n",
    "    # else:\n",
    "    spectre_high2[p] = 0.03*np.exp(-0.5*((e_inc[p]-22.)/5)**4)*factor\n",
    "    spectre[p] =  spectre_low[p] + spectre_high1[p] + spectre_high2[p]\n",
    "\n",
    "couche_low  = np.zeros_like(np.linspace(1,14,14))\n",
    "couche_high1 = np.zeros_like(np.linspace(1,14,14))\n",
    "couche_high2 = np.zeros_like(np.linspace(1,14,14))\n",
    "couche      = np.zeros_like(np.linspace(1,14,14))\n",
    "\n",
    "for f in range(14):\n",
    "    couche_low[f]  = np.trapz(inlayer[:,f]*spectre_low[:])\n",
    "    couche_high1[f] = np.trapz(inlayer[:,f]*spectre_high1[:])\n",
    "    couche_high2[f] = np.trapz(inlayer[:,f]*spectre_high2[:])\n",
    "    couche[f]      = np.trapz(inlayer[:,f]*spectre[:])\n",
    "    \n",
    "ax.plot(np.linspace(1,14,14), couche, '-r', label='Sim. low+high')\n",
    "ax.plot(np.linspace(1,14,14), couche_low,  '--b', label='Sim. low')\n",
    "ax.plot(np.linspace(1,14,14), couche_high1, ':c', label='Sim. high1')\n",
    "ax.plot(np.linspace(1,14,14), couche_high2, ':m', label='Sim. high2')\n",
    "\n",
    "# ax.set_yscale('log')\n",
    "\n",
    "ax.set_xlim([0,15])\n",
    "ax.set_xticks([0,2,4,6,8,10,12,14])\n",
    "ax.set_ylim([0,3000])\n",
    "ax.grid(linestyle='--',alpha=0.5)\n",
    "ax.set_xlabel('No. of RCF')\n",
    "ax.set_ylabel('Dose (Gy)')\n",
    "ax.legend(fancybox=False, reverse=True, frameon=False)\n",
    "fig.set_size_inches(width, height)\n",
    "fig.tight_layout()\n",
    "\n",
    "fig.savefig('/Users/yao/Desktop/Dose2.pdf',dpi=600)\n",
    "\n",
    "fig, ax = plt.subplots()\n",
    "fig.subplots_adjust(left=.15, bottom=.16, right=.99, top=.97)\n",
    "\n",
    "factor2 = 2.0e10 / 32 / factor * 20\n",
    "\n",
    "ax.plot(e_inc, spectre*factor2, '-r', label='low+high')\n",
    "ax.plot(e_inc, spectre_low*factor2,  '--b', label='low')\n",
    "ax.plot(e_inc, spectre_high1*factor2, ':c', label='high1')\n",
    "ax.plot(e_inc, spectre_high2*factor2, ':m', label='high2')\n",
    "ax.set_yscale('log')\n",
    "\n",
    "ax.set_xlim([0,45])\n",
    "ax.set_ylim([1e4,1e10])\n",
    "ax.grid(linestyle='--',alpha=0.5)\n",
    "ax.set_xlabel('Energy (MeV)')\n",
    "ax.set_ylabel(r'dN/dE/d$\\Omega$ (Part./MeV/sr)')\n",
    "ax.legend(fancybox=False, reverse=True, frameon=False)\n",
    "fig.set_size_inches(width, height)\n",
    "fig.tight_layout()\n",
    "\n",
    "fig.savefig('/Users/yao/Desktop/Spec_fixed.pdf',dpi=600)\n",
    "\n",
    "# plt.show()"
   ]
  },
  {
   "cell_type": "code",
   "execution_count": 36,
   "id": "d2ebef0c-7099-47dc-a7d9-e6cc06f7f873",
   "metadata": {},
   "outputs": [],
   "source": [
    "width  = 3.487 * 1.2\n",
    "height = width / 1.618 \n",
    "\n",
    "fig, ax = plt.subplots()\n",
    "fig.subplots_adjust(left=.15, bottom=.16, right=.99, top=.97)\n",
    "\n",
    "factor2 = 2.0e10 / 32 / factor * 20\n",
    "\n",
    "ax.plot(e_inc, spectre*factor2, '-r', label='low+high')\n",
    "# ax.plot(e_inc, spectre_low*factor2,  '--b', label='low')\n",
    "# ax.plot(e_inc, spectre_high1*factor2, ':c', label='high1')\n",
    "# ax.plot(e_inc, spectre_high2*factor2, ':m', label='high2')\n",
    "ax.set_yscale('log')\n",
    "\n",
    "ax.set_xlim([0,40])\n",
    "ax.set_ylim([1e5,1e11])\n",
    "ax.grid(linestyle='--',alpha=0.5)\n",
    "ax.set_xlabel('Energy (MeV)',fontsize=13)\n",
    "ax.set_ylabel(r'dN/dE/d$\\Omega$ (Part./MeV/sr)',fontsize=13)\n",
    "# ax.legend(fancybox=False, reverse=True, frameon=False)\n",
    "fig.set_size_inches(width, height)\n",
    "fig.tight_layout()\n",
    "\n",
    "fig.savefig('/Users/yao/Desktop/Spec_fixed.pdf',dpi=600)"
   ]
  },
  {
   "cell_type": "code",
   "execution_count": 14,
   "id": "ff4775db-8327-4be5-91ac-529023a711d1",
   "metadata": {},
   "outputs": [],
   "source": [
    "# calculate the deposited energy in each layer from the dose\n",
    "\n",
    "surf_indiv = 7.168444444444446e-05                    # d'un pixel carre en cm^2       cm^2/px^2\n",
    "energy = ave*1.2e-3*surf_indiv*28e-4\n",
    "doseAvg = energy / ((str/29.6)*1.2e-3* 28e-4)"
   ]
  },
  {
   "cell_type": "code",
   "execution_count": 144,
   "id": "d075d1c0-d161-424a-988b-feda07c94bb9",
   "metadata": {},
   "outputs": [
    {
     "data": {
      "text/plain": [
       "(450, 20)"
      ]
     },
     "execution_count": 144,
     "metadata": {},
     "output_type": "execute_result"
    }
   ],
   "source": [
    "inlayer.shape"
   ]
  },
  {
   "cell_type": "code",
   "execution_count": 90,
   "id": "e751daa4-f3ae-40dd-9ed2-c1326f064623",
   "metadata": {},
   "outputs": [
    {
     "data": {
      "text/plain": [
       "<ErrorbarContainer object of 3 artists>"
      ]
     },
     "execution_count": 90,
     "metadata": {},
     "output_type": "execute_result"
    }
   ],
   "source": [
    "plt.errorbar(np.linspace(1,14,14), \n",
    "             ave[:,0]/ave[0,0], \n",
    "             yerr=[\n",
    "                 np.abs(np.minimum(ave[:,0]-ms1[:,0], ave[:,0]-ms2[:,0], ave[:,0]-ms3[:,0]))/ave[0,0],\n",
    "                 np.maximum(ave[:,0]-ms1[:,0], ave[:,0]-ms2[:,0], ave[:,0]-ms3[:,0])/ave[0,0]\n",
    "             ],\n",
    "             \n",
    "            )"
   ]
  },
  {
   "cell_type": "code",
   "execution_count": 74,
   "id": "568ac7d9-5ac1-46f0-a75a-2b16e8070a20",
   "metadata": {},
   "outputs": [],
   "source": [
    "low  = np.minimum(ms1, ms2, ms3)"
   ]
  },
  {
   "cell_type": "code",
   "execution_count": 85,
   "id": "5c265ded-8608-4512-a0ca-fe802a214262",
   "metadata": {},
   "outputs": [
    {
     "data": {
      "text/plain": [
       "array([-186.23744515,  -77.365929  , -114.73655506,  -42.2234008 ,\n",
       "        -23.50512548, -138.60547616,  -71.09474857,  -27.63012019,\n",
       "        -87.9669561 ,  -75.82240763, -130.98869403, -181.63762359,\n",
       "        -65.95378782,  -25.39352261])"
      ]
     },
     "execution_count": 85,
     "metadata": {},
     "output_type": "execute_result"
    }
   ],
   "source": [
    "np.minimum(ave[:,0]-ms1[:,0], ave[:,0]-ms2[:,0], ave[:,0]-ms3[:,0])"
   ]
  },
  {
   "cell_type": "code",
   "execution_count": 86,
   "id": "c6d4da07-1460-4aff-95c7-ba92a4f2851a",
   "metadata": {},
   "outputs": [
    {
     "data": {
      "text/plain": [
       "array([369.60180877,  92.33607411,  16.61178473,  49.72990619,\n",
       "        32.34563251, 282.56277812, 259.65144513,  10.72448624,\n",
       "        72.22100005, 105.37962636,  80.77528031, 159.89465705,\n",
       "        32.31268567,  45.42755249])"
      ]
     },
     "execution_count": 86,
     "metadata": {},
     "output_type": "execute_result"
    }
   ],
   "source": [
    "np.maximum(ave[:,0]-ms1[:,0], ave[:,0]-ms2[:,0], ave[:,0]-ms3[:,0])"
   ]
  },
  {
   "cell_type": "code",
   "execution_count": 128,
   "id": "0e5324c3-5b9d-4cc9-85a9-c5d3b2ece535",
   "metadata": {},
   "outputs": [
    {
     "data": {
      "text/plain": [
       "array([[0.00169805],\n",
       "       [0.00166092],\n",
       "       [0.00162501],\n",
       "       [0.00157801],\n",
       "       [0.00153302],\n",
       "       [0.00148993],\n",
       "       [0.00143799],\n",
       "       [0.00138872],\n",
       "       [0.00134194],\n",
       "       [0.00129748],\n",
       "       [0.0012552 ],\n",
       "       [0.00120678],\n",
       "       [0.0011611 ],\n",
       "       [0.00111797]])"
      ]
     },
     "execution_count": 128,
     "metadata": {},
     "output_type": "execute_result"
    }
   ],
   "source": [
    "str/29.6"
   ]
  },
  {
   "cell_type": "code",
   "execution_count": 129,
   "id": "0ef189e1-f587-4947-afea-09c0d2a72e56",
   "metadata": {},
   "outputs": [
    {
     "data": {
      "text/plain": [
       "array([[2394.28463259],\n",
       "       [ 984.2862809 ],\n",
       "       [ 454.72419868],\n",
       "       [ 431.72447414],\n",
       "       [ 653.94814051],\n",
       "       [ 736.69173443],\n",
       "       [ 727.3221996 ],\n",
       "       [ 839.72821632],\n",
       "       [ 837.22632113],\n",
       "       [ 605.51620901],\n",
       "       [ 660.8480854 ],\n",
       "       [ 512.43371426],\n",
       "       [ 538.98209985],\n",
       "       [ 370.16078141]])"
      ]
     },
     "execution_count": 129,
     "metadata": {},
     "output_type": "execute_result"
    }
   ],
   "source": [
    "ave"
   ]
  },
  {
   "cell_type": "code",
   "execution_count": null,
   "id": "9abf7350-f6bd-4c2a-90eb-ba6a69e551c7",
   "metadata": {},
   "outputs": [],
   "source": []
  }
 ],
 "metadata": {
  "kernelspec": {
   "display_name": "Python 3 (ipykernel)",
   "language": "python",
   "name": "python3"
  },
  "language_info": {
   "codemirror_mode": {
    "name": "ipython",
    "version": 3
   },
   "file_extension": ".py",
   "mimetype": "text/x-python",
   "name": "python",
   "nbconvert_exporter": "python",
   "pygments_lexer": "ipython3",
   "version": "3.9.18"
  }
 },
 "nbformat": 4,
 "nbformat_minor": 5
}
