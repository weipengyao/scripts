{
 "cells": [
  {
   "cell_type": "code",
   "execution_count": 1,
   "id": "575921e5-6b27-488f-a17a-e8c288b4045a",
   "metadata": {},
   "outputs": [],
   "source": [
    "%matplotlib qt"
   ]
  },
  {
   "cell_type": "code",
   "execution_count": 7,
   "id": "fb6d30b9-ac47-4d4a-ae78-1491e6ab5d07",
   "metadata": {},
   "outputs": [
    {
     "name": "stderr",
     "output_type": "stream",
     "text": [
      "/var/folders/2t/97rc3fl92tg15k2l_4sk5hsh0000gn/T/ipykernel_96392/616493249.py:6: MatplotlibDeprecationWarning: The get_cmap function was deprecated in Matplotlib 3.7 and will be removed two minor releases later. Use ``matplotlib.colormaps[name]`` or ``matplotlib.colormaps.get_cmap(obj)`` instead.\n",
      "  jetcmap = plt.cm.get_cmap(\"jet\", 9) #generate a jet map with 10 values \"rainbow\", \"jet\", YlOrRd\n"
     ]
    }
   ],
   "source": [
    "import matplotlib as mpl\n",
    "import happi\n",
    "import numpy as np\n",
    "import matplotlib.pyplot as plt\n",
    "\n",
    "jetcmap = plt.cm.get_cmap(\"jet\", 9) #generate a jet map with 10 values \"rainbow\", \"jet\", YlOrRd\n",
    "jet_vals = jetcmap(np.arange(9)) #extract those values as an array \n",
    "jet_vals[0] = [1.0, 1, 1.0, 1] #change the first value \n",
    "jet_vals[8] = [0.0, 0, 0.0, 1] #change the first value \n",
    "newcmap = mpl.colors.LinearSegmentedColormap.from_list(\"mine\", jet_vals) "
   ]
  },
  {
   "cell_type": "code",
   "execution_count": 28,
   "id": "60d7580f-f217-4f10-a506-1aca12c1ccbe",
   "metadata": {},
   "outputs": [],
   "source": [
    "wkdir = [\n",
    "    '/Users/yao/Desktop/CODE/Smilei/',\n",
    "    # '/Users/yao/Desktop/Data/DPM_Si200nm_Al50nm_t13/DPM_Si200nm_Al50nm_t13_r1/', # 70% laser energy\n",
    "    # '/Volumes/LaCie_Yao23/Apollon_Neutron_2022_2023/DPM_Si200nm_Al50nm_t10_r1/',  # 50%\n",
    "    ]"
   ]
  },
  {
   "cell_type": "code",
   "execution_count": 36,
   "id": "10e9b194-deae-4649-897a-b4534090a099",
   "metadata": {},
   "outputs": [
    {
     "name": "stdout",
     "output_type": "stream",
     "text": [
      "a_0 =  0.005997590757171662\n",
      "I_0 = 4.0e+14 W/cm2\n",
      "Loaded simulation '/Users/yao/Desktop/CODE/Smilei/'\n",
      "Scanning for Scalar diagnostics\n",
      "Scanning for Field diagnostics\n",
      "Scanning for Probe diagnostics\n",
      "Scanning for ParticleBinning diagnostics\n",
      "Scanning for RadiationSpectrum diagnostics\n",
      "Scanning for Performance diagnostics\n",
      "Scanning for Screen diagnostics\n",
      "Scanning for Tracked particle diagnostics\n"
     ]
    }
   ],
   "source": [
    "S0 = happi.Open(wkdir[0], reference_angular_frequency_SI = 2.*np.pi*3e8/0.351e-6)"
   ]
  },
  {
   "cell_type": "code",
   "execution_count": 37,
   "id": "4eb880f2-32bd-4302-9640-083855edfbe7",
   "metadata": {},
   "outputs": [
    {
     "name": "stdout",
     "output_type": "stream",
     "text": [
      "Field diagnostic #0: Ez\n"
     ]
    }
   ],
   "source": [
    "S0.Field(0,'Ez',vsym=True,cmap='smileiD',units=['um','fs'],aspect=True,\n",
    "        xmin=1,xmax=5,ymin=6,ymax=10).slide()"
   ]
  }
 ],
 "metadata": {
  "kernelspec": {
   "display_name": "Python 3 (ipykernel)",
   "language": "python",
   "name": "python3"
  },
  "language_info": {
   "codemirror_mode": {
    "name": "ipython",
    "version": 3
   },
   "file_extension": ".py",
   "mimetype": "text/x-python",
   "name": "python",
   "nbconvert_exporter": "python",
   "pygments_lexer": "ipython3",
   "version": "3.9.18"
  }
 },
 "nbformat": 4,
 "nbformat_minor": 5
}
