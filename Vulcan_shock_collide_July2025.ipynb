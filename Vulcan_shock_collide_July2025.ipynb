{
 "cells": [
  {
   "cell_type": "code",
   "execution_count": 1,
   "id": "86267a80",
   "metadata": {},
   "outputs": [],
   "source": [
    "%matplotlib qt"
   ]
  },
  {
   "cell_type": "code",
   "execution_count": 17,
   "id": "640eb1fe",
   "metadata": {},
   "outputs": [],
   "source": [
    "import matplotlib as mpl\n",
    "import happi\n",
    "import numpy as np\n",
    "import matplotlib.pyplot as plt\n",
    "\n",
    "jetcmap = plt.get_cmap(\"jet\", 9) #generate a jet map with 10 values \"rainbow\", \"jet\", YlOrRd\n",
    "jet_vals = jetcmap(np.arange(9)) #extract those values as an array \n",
    "jet_vals[0] = [1.0, 1, 1.0, 1] #change the first value \n",
    "jet_vals[8] = [0.0, 0, 0.0, 1] #change the first value \n",
    "newcmap = mpl.colors.LinearSegmentedColormap.from_list(\"mine\", jet_vals) \n",
    "\n",
    "from matplotlib import font_manager\n",
    "\n",
    "font_dirs = ['/Users/yao/Documents/Calibri and Cambria Fonts/']\n",
    "font_files = font_manager.findSystemFonts(fontpaths=font_dirs)\n",
    "\n",
    "for font_file in font_files:\n",
    "    font_manager.fontManager.addfont(font_file)\n",
    "\n",
    "# set font\n",
    "plt.rcParams['font.family'] = 'Calibri'\n",
    "\n",
    "plt.rc('text', usetex=False)\n",
    "plt.rc('xtick', labelsize=14)\n",
    "plt.rc('ytick', labelsize=14)\n",
    "plt.rc('axes', labelsize=14)\n",
    "plt.rc('legend', fontsize=12)"
   ]
  },
  {
   "cell_type": "code",
   "execution_count": 18,
   "id": "e6ae8152",
   "metadata": {},
   "outputs": [],
   "source": [
    "wkdir = [\n",
    "    '/Users/yao/Documents/Data/Vulcan2023/SS_12_v2000_r*/', # the one presented in the manuscript 21/07/2025\n",
    "    '/Users/yao/Documents/Data/Vulcan2023/DS_12_v2000_r*/',\n",
    "    # '/Users/yao/Documents/Data/Vulcan2023/v2500/SS_11_v2500_r*/',\n",
    "    # '/Users/yao/Documents/Data/Vulcan2023/v2500/DS_11_v2500_r*/', # the one presented in the manuscript\n",
    "    ]"
   ]
  },
  {
   "cell_type": "code",
   "execution_count": 19,
   "id": "253afbb4",
   "metadata": {},
   "outputs": [
    {
     "name": "stdout",
     "output_type": "stream",
     "text": [
      "Loaded simulation '/Users/yao/Documents/Data/Vulcan2023/SS_12_v2000_r0/'\n",
      "Loaded simulation '/Users/yao/Documents/Data/Vulcan2023/SS_12_v2000_r1/'\n",
      "Scanning for Scalar diagnostics\n",
      "Scanning for Field diagnostics\n",
      "Scanning for Probe diagnostics\n",
      "Scanning for ParticleBinning diagnostics\n",
      "Scanning for RadiationSpectrum diagnostics\n",
      "Scanning for Performance diagnostics\n",
      "Scanning for Screen diagnostics\n",
      "Scanning for Tracked particle diagnostics\n",
      "Scanning for new particle diagnostics\n",
      "Loaded simulation '/Users/yao/Documents/Data/Vulcan2023/DS_12_v2000_r0/'\n",
      "Loaded simulation '/Users/yao/Documents/Data/Vulcan2023/DS_12_v2000_r1/'\n",
      "Scanning for Scalar diagnostics\n",
      "Scanning for Field diagnostics\n",
      "Scanning for Probe diagnostics\n",
      "Scanning for ParticleBinning diagnostics\n",
      "Scanning for RadiationSpectrum diagnostics\n",
      "Scanning for Performance diagnostics\n",
      "Scanning for Screen diagnostics\n",
      "Scanning for Tracked particle diagnostics\n",
      "Scanning for new particle diagnostics\n"
     ]
    }
   ],
   "source": [
    "S0 = happi.Open(wkdir[0], reference_angular_frequency_SI = 56375055300167.87)\n",
    "S1 = happi.Open(wkdir[1], reference_angular_frequency_SI = 56375055300167.87)"
   ]
  },
  {
   "cell_type": "code",
   "execution_count": 20,
   "id": "0fd7d38b",
   "metadata": {},
   "outputs": [],
   "source": [
    "# prepare constants, units\n",
    "\n",
    "me = 9.1e-31\n",
    "mp = 1836.*me\n",
    "qe = 1.6e-19\n",
    "ep = 8.9e-12  # epsilon_0\n",
    "c  = 3.0e8\n",
    "wr = S0.namelist.w_r\n",
    "de = c / wr\n",
    "Lx = S0.namelist.L_x.real * de * 1e3      # in mm\n",
    "dx = S0.namelist.d_x * de * 1e3           # in mm\n",
    "\n",
    "Te = S0.namelist.T_e * 511.e3             # in eV\n",
    "ne = 1.0e18                              # in cm-3\n",
    "ld = 7.43e2 * Te**0.5 * ne**(-0.5) * 10. # in mm\n",
    "dt = S0.namelist.d_t\n",
    "\n",
    "B0 = S0.namelist.B_z * (me * wr / qe)\n",
    "wc = qe * B0 / me\n",
    "\n",
    "# conversion constants for fields and momentum (when taken from TrackParticle)\n",
    "kE = me*c*wr/qe  # V/m\n",
    "kp = me*c        # kg m/s\n",
    "kB = me*wr/qe    # T\n",
    "conv_MeV_J = 10**6*qe"
   ]
  },
  {
   "cell_type": "code",
   "execution_count": 21,
   "id": "d7d838e2",
   "metadata": {},
   "outputs": [],
   "source": [
    "# energy spectra with errorbars\n",
    "\n",
    "# averaged over 6 shots\n",
    "\n",
    "data_directory = '/Users/yao/Nextcloud/PROJECTS/Vulcan/RAL_Shock_collide_August2023/'\n",
    "data_file_double = 'double_spectra_combined_sigma2.txt'\n",
    "data_file_single = 'single_spectra_combined.txt'\n",
    "\n",
    "ene_exp_db = np.loadtxt(data_directory+data_file_double,usecols=0) # in keV\n",
    "num_exp_db = np.loadtxt(data_directory+data_file_double,usecols=1) # in part/(MeV.sr)\n",
    "err_exp_db = np.loadtxt(data_directory+data_file_double,usecols=2) # in keV\n",
    "\n",
    "ene_exp_sg = np.loadtxt(data_directory+data_file_single,usecols=0) # in keV\n",
    "num_exp_sg = np.loadtxt(data_directory+data_file_single,usecols=1) # in part/(MeV.sr)\n",
    "err_exp_sg = np.loadtxt(data_directory+data_file_single,usecols=2) # in keV\n",
    "\n"
   ]
  },
  {
   "cell_type": "code",
   "execution_count": 35,
   "id": "0abd0a02",
   "metadata": {},
   "outputs": [
    {
     "name": "stdout",
     "output_type": "stream",
     "text": [
      "Total energy [mJ] = 2.741371515271099\n",
      "Total protons    = 180533051929.8674\n",
      "Total charge [nC] = 28.924583746674212\n"
     ]
    }
   ],
   "source": [
    "import numpy as np\n",
    "\n",
    "# load data (E_keV, dN/dE [protons/MeV/sr], sigma)\n",
    "E_keV, dNdE_perMeV_per_sr, _ = np.loadtxt(data_directory+data_file_double,\n",
    "                                          usecols=(0,1,2), unpack=True)\n",
    "\n",
    "# E_keV, dNdE_perMeV_per_sr, _ = np.loadtxt(data_directory+data_file_single,\n",
    "#                                           usecols=(0,1,2), unpack=True)\n",
    "\n",
    "\n",
    "# convert dN/dE to per keV per sr\n",
    "dNdE_perkeV_per_sr = dNdE_perMeV_per_sr / 1e3\n",
    "\n",
    "# constants\n",
    "keV_to_J   = 1.602176634e-16   # 1 keV  → Joule\n",
    "e_charge   = 1.602176634e-19   # proton charge in Coulombs\n",
    "Omega_sr   = 2.0 * np.pi       # solid angle (2π sr)\n",
    "\n",
    "# integrals\n",
    "W_keV_sr = np.trapz(E_keV * dNdE_perkeV_per_sr, E_keV)\n",
    "W_J      = W_keV_sr * keV_to_J * Omega_sr\n",
    "\n",
    "N_sr     = np.trapz(dNdE_perkeV_per_sr, E_keV)\n",
    "N_total  = N_sr * Omega_sr\n",
    "Q_C      = N_total * e_charge           # total charge in Coulombs\n",
    "\n",
    "# output\n",
    "print(\"Total energy [mJ] =\", W_J*1e3)\n",
    "print(\"Total protons    =\", N_total)\n",
    "print(\"Total charge [nC] =\", Q_C*1e9)"
   ]
  },
  {
   "cell_type": "code",
   "execution_count": 36,
   "id": "9bfa4f2c",
   "metadata": {},
   "outputs": [
    {
     "name": "stdout",
     "output_type": "stream",
     "text": [
      "Total energy [mJ] = 0.18518353612929783\n",
      "Total protons    = 31656323392.71525\n",
      "Total charge [nC] = 5.071902165815597\n"
     ]
    }
   ],
   "source": [
    "import numpy as np\n",
    "\n",
    "# load data (E_keV, dN/dE [protons/MeV/sr], sigma)\n",
    "# E_keV, dNdE_perMeV_per_sr, _ = np.loadtxt(data_directory+data_file_double,\n",
    "#                                           usecols=(0,1,2), unpack=True)\n",
    "\n",
    "E_keV, dNdE_perMeV_per_sr, _ = np.loadtxt(data_directory+data_file_single,\n",
    "                                          usecols=(0,1,2), unpack=True)\n",
    "\n",
    "\n",
    "# convert dN/dE to per keV per sr\n",
    "dNdE_perkeV_per_sr = dNdE_perMeV_per_sr / 1e3\n",
    "\n",
    "# constants\n",
    "keV_to_J   = 1.602176634e-16   # 1 keV  → Joule\n",
    "e_charge   = 1.602176634e-19   # proton charge in Coulombs\n",
    "Omega_sr   = 2.0 * np.pi       # solid angle (2π sr)\n",
    "\n",
    "# integrals\n",
    "W_keV_sr = np.trapz(E_keV * dNdE_perkeV_per_sr, E_keV)\n",
    "W_J      = W_keV_sr * keV_to_J * Omega_sr\n",
    "\n",
    "N_sr     = np.trapz(dNdE_perkeV_per_sr, E_keV)\n",
    "N_total  = N_sr * Omega_sr\n",
    "Q_C      = N_total * e_charge           # total charge in Coulombs\n",
    "\n",
    "# output\n",
    "print(\"Total energy [mJ] =\", W_J*1e3)\n",
    "print(\"Total protons    =\", N_total)\n",
    "print(\"Total charge [nC] =\", Q_C*1e9)"
   ]
  },
  {
   "cell_type": "code",
   "execution_count": 14,
   "id": "bcb6a52e",
   "metadata": {},
   "outputs": [
    {
     "data": {
      "text/plain": [
       "0.09"
      ]
     },
     "execution_count": 14,
     "metadata": {},
     "output_type": "execute_result"
    }
   ],
   "source": [
    "0.18 / 200. * 100"
   ]
  },
  {
   "cell_type": "code",
   "execution_count": 34,
   "id": "6c090e44",
   "metadata": {},
   "outputs": [
    {
     "data": {
      "text/plain": [
       "0.675"
      ]
     },
     "execution_count": 34,
     "metadata": {},
     "output_type": "execute_result"
    }
   ],
   "source": [
    "2.7 / 400. * 100"
   ]
  },
  {
   "cell_type": "code",
   "execution_count": 22,
   "id": "801762c6",
   "metadata": {},
   "outputs": [],
   "source": [
    "# add the simulation data onto the exp. spectra\n",
    "# but here note that we need to be careful with the \"time\"\n",
    "\n",
    "def spect_load_1d_iter(wkdir,iteration,species,xmin,xmax):\n",
    "    \"\"\"\n",
    "    Inputs ----\n",
    "    wkdir      : string, data directory\n",
    "    iteration  : int,    number of timesteps used \n",
    "    species    : int,    which species you want to plot\n",
    "                         according to your own diagnostic in the Namelist\n",
    "    xmin, xmax : float,  spatial selections, NOTE: in unit of de\n",
    "    \n",
    "    Outputs ---\n",
    "    ekin       : float,  x-axis, energy(E) in MeV\n",
    "    num        : float,  y-axis, E \\frac{dN}{dE} \\frac{1}{N}\n",
    "                                 N  is the total number of particles\n",
    "                                 dN is the number of particles in each energy range (dE)\n",
    "                                 dE is the energy range\n",
    "    simu_time  : float,  simulation time\n",
    "    \"\"\"\n",
    "    S = happi.Open(wkdir)                        # No need to open the data again.\n",
    "    dt = S.namelist.d_t                            # get simulation timestep\n",
    "    ts = S.ParticleBinning(species).getTimesteps() # get all the timesteps available for this diag.\n",
    "    # iteration = int(ts[-2] * time)                 # choose the time you want by a factor of [0,1]*T_end\n",
    "    simu_time = iteration * dt / wr                # convert it into real unit\n",
    "    pb = S.ParticleBinning(species).get(iteration) # get the diag. data from the chosen timestep\n",
    "    \n",
    "    xx   = pb['x'] * de * 1e3                      # get position information and convert the unit to mm\n",
    "    ekin = pb['ekin'] * 0.511                      # get energy information (E) and convert the unit to MeV -- the x-axis\n",
    "    data = pb['data'][0]                           # get the particle number information\n",
    "    data_selected = data[(xx>xmin) & (xx<xmax),:]  # select particle number according to position\n",
    "                                                   # for our case now, this doesn't make much difference.\n",
    "    \n",
    "    data_ekin = np.sum(data_selected,axis=0)       # dN, ?? can't remember... you might want to check what it does\n",
    "    dE = ekin[1]-ekin[0]                           # dE, energy range\n",
    "    total_weight = np.sum(data)                    # N, total number of the selected portion\n",
    "    num = data_ekin * ekin / total_weight / dE     # E \\frac{dN}{dE} \\frac{1}{N} -- the y-axis\n",
    "    \n",
    "    return ekin, num, simu_time"
   ]
  },
  {
   "cell_type": "code",
   "execution_count": 23,
   "id": "a703c8f3",
   "metadata": {},
   "outputs": [
    {
     "name": "stdout",
     "output_type": "stream",
     "text": [
      "4.138780862522813\n",
      "Loaded simulation '/Users/yao/Documents/Data/Vulcan2023/DS_12_v2000_r0/'\n",
      "Loaded simulation '/Users/yao/Documents/Data/Vulcan2023/DS_12_v2000_r1/'\n",
      "Scanning for Scalar diagnostics\n",
      "Scanning for Field diagnostics\n",
      "Scanning for Probe diagnostics\n",
      "Scanning for ParticleBinning diagnostics\n",
      "Scanning for RadiationSpectrum diagnostics\n",
      "Scanning for Performance diagnostics\n",
      "Scanning for Screen diagnostics\n",
      "Scanning for Tracked particle diagnostics\n",
      "Scanning for new particle diagnostics\n",
      "Loaded simulation '/Users/yao/Documents/Data/Vulcan2023/SS_12_v2000_r0/'\n",
      "Loaded simulation '/Users/yao/Documents/Data/Vulcan2023/SS_12_v2000_r1/'\n",
      "Scanning for Scalar diagnostics\n",
      "Scanning for Field diagnostics\n",
      "Scanning for Probe diagnostics\n",
      "Scanning for ParticleBinning diagnostics\n",
      "Scanning for RadiationSpectrum diagnostics\n",
      "Scanning for Performance diagnostics\n",
      "Scanning for Screen diagnostics\n",
      "Scanning for Tracked particle diagnostics\n",
      "Scanning for new particle diagnostics\n"
     ]
    }
   ],
   "source": [
    "num = 140 \n",
    "time_snap = S1.ParticleBinning(2).getTimesteps()[num]\n",
    "time_ns = S1.ParticleBinning(2,units=['ns']).getTimes()[num]\n",
    "print(time_ns)\n",
    "\n",
    "ekin1, num1, t_end1 = spect_load_1d_iter(wkdir[1], time_snap, 2, 0.0, Lx)\n",
    "ekin0, num0, t_end0 = spect_load_1d_iter(wkdir[0], time_snap, 2, 0.0, Lx)"
   ]
  },
  {
   "cell_type": "code",
   "execution_count": 31,
   "id": "a3cb4621",
   "metadata": {},
   "outputs": [
    {
     "data": {
      "image/png": "[encoded data removed]",
      "text/plain": [
       "<Figure size 1099x679.234 with 1 Axes>"
      ]
     },
     "metadata": {},
     "output_type": "display_data"
    }
   ],
   "source": [
    "width  = 3.14 *3.5 # single column, 8cm\n",
    "height = width / 1.618\n",
    "fig, ax = plt.subplots()\n",
    "\n",
    "plt.ticklabel_format(axis='both', style='sci',useMathText=True)\n",
    "\n",
    "fig.subplots_adjust(left=.2, bottom=.2, right=.9, top=.9)\n",
    "\n",
    "ax.set_yscale('log')\n",
    "\n",
    "ax.errorbar(ene_exp_db[0:-1:8], num_exp_db[0:-1:8]/1e3, yerr=err_exp_db[0:-1:8]/1e3, \n",
    "            fmt='or',markersize=3,\n",
    "            ecolor='r',elinewidth=1.0,\n",
    "            # capsize=2.0, capthick = 1.0,\n",
    "            label='Exp. double')\n",
    "\n",
    "ax.errorbar(ene_exp_sg[0:-1:4], num_exp_sg[0:-1:4]/1e3, yerr=err_exp_sg[0:-1:4]/1e3, \n",
    "            fmt='sb',markersize=3,\n",
    "            ecolor='b',elinewidth=1.0,\n",
    "            # capsize=2.0, capthick = 1.0,\n",
    "            label='Exp. single')\n",
    "\n",
    "ax.plot(ekin1*1e3, num1*3e9, '--r',  label='Sim. double', lw=1.5)\n",
    "ax.plot(ekin0*1e3, num0*7e8, '--b',  label='Sim. single', lw=1.5)\n",
    "\n",
    "ax.tick_params(axis='both',which='major', direction='out',labelsize=12)\n",
    "ax.minorticks_off()\n",
    "\n",
    "ax.set_xlabel(r'Energy (keV)',fontsize=12)\n",
    "ax.set_ylabel(r'dN/dE/d$\\Omega$ (keV$\\cdot$sr)$^{-1}$',fontsize=12)\n",
    "\n",
    "\n",
    "ax.set_xlim([0, 400])\n",
    "ax.set_ylim([1e5, 1e10])\n",
    "\n",
    "energy_range = np.linspace(1,500)\n",
    "noise_base = 10**(-0.0083*energy_range+10.3)\n",
    "ax.semilogy(energy_range, noise_base/1e3, ':k', lw=1.0,label='noise')\n",
    "\n",
    "leg = ax.legend(loc='best', numpoints=1, fancybox=False, fontsize=8, frameon=False)\n",
    "leg._legend_box.align = \"right\"\n",
    "fig.set_size_inches(width, height)\n",
    "plt.show()\n",
    "\n",
    "### note that here the simulation data used is 2500 km/s cases.\n"
   ]
  },
  {
   "cell_type": "code",
   "execution_count": null,
   "id": "728ecf97",
   "metadata": {},
   "outputs": [],
   "source": []
  }
 ],
 "metadata": {
  "kernelspec": {
   "display_name": "Python 3",
   "language": "python",
   "name": "python3"
  },
  "language_info": {
   "codemirror_mode": {
    "name": "ipython",
    "version": 3
   },
   "file_extension": ".py",
   "mimetype": "text/x-python",
   "name": "python",
   "nbconvert_exporter": "python",
   "pygments_lexer": "ipython3",
   "version": "3.9.22"
  }
 },
 "nbformat": 4,
 "nbformat_minor": 5
}
