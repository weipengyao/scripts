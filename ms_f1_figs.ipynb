{
 "cells": [
  {
   "cell_type": "code",
   "execution_count": 1,
   "id": "1ed2fb10-a455-4cca-966f-0cc2898ec02c",
   "metadata": {},
   "outputs": [
    {
     "name": "stderr",
     "output_type": "stream",
     "text": [
      "/var/folders/2t/97rc3fl92tg15k2l_4sk5hsh0000gn/T/ipykernel_5531/616493249.py:6: MatplotlibDeprecationWarning: The get_cmap function was deprecated in Matplotlib 3.7 and will be removed two minor releases later. Use ``matplotlib.colormaps[name]`` or ``matplotlib.colormaps.get_cmap(obj)`` instead.\n",
      "  jetcmap = plt.cm.get_cmap(\"jet\", 9) #generate a jet map with 10 values \"rainbow\", \"jet\", YlOrRd\n"
     ]
    }
   ],
   "source": [
    "import matplotlib as mpl\n",
    "import happi\n",
    "import numpy as np\n",
    "import matplotlib.pyplot as plt\n",
    "\n",
    "jetcmap = plt.cm.get_cmap(\"jet\", 9) #generate a jet map with 10 values \"rainbow\", \"jet\", YlOrRd\n",
    "jet_vals = jetcmap(np.arange(9)) #extract those values as an array \n",
    "jet_vals[0] = [1.0, 1, 1.0, 1] #change the first value \n",
    "jet_vals[8] = [0.0, 0, 0.0, 1] #change the first value \n",
    "newcmap = mpl.colors.LinearSegmentedColormap.from_list(\"mine\", jet_vals) "
   ]
  },
  {
   "cell_type": "code",
   "execution_count": 55,
   "id": "6c4043f6-bc70-4c01-ab7a-e6d5d35c83ac",
   "metadata": {},
   "outputs": [],
   "source": [
    "plt.rc('font', family='sans-serif', serif='Arial')\n",
    "plt.rc('text', usetex=False)\n",
    "plt.rc('xtick', labelsize=8)\n",
    "plt.rc('ytick', labelsize=8)\n",
    "plt.rc('axes', labelsize=8)\n",
    "plt.rc('legend', fontsize=8)\n",
    "\n",
    "width  = 3.487\n",
    "height = width / 1.618 * 1.2"
   ]
  },
  {
   "cell_type": "code",
   "execution_count": 16,
   "id": "68659799-21d8-4898-98fb-c46915db280a",
   "metadata": {},
   "outputs": [],
   "source": [
    "## thickness scan for maximum cut-off energy\n",
    "\n",
    "thickness = np.loadtxt('/Users/yao/Nextcloud/PROJECTS/Apollon/F1-2023/thickness_max_energy_F1.txt',\n",
    "                      delimiter=',',skiprows=1, usecols=0)\n",
    "\n",
    "maxi_ene  = np.loadtxt('/Users/yao/Nextcloud/PROJECTS/Apollon/F1-2023/thickness_max_energy_F1.txt',\n",
    "                      delimiter=',',skiprows=1, usecols=1)"
   ]
  },
  {
   "cell_type": "code",
   "execution_count": 34,
   "id": "130aaca8-c099-4261-88a0-19a410b1e7b0",
   "metadata": {},
   "outputs": [],
   "source": [
    "## average over different thicknesses -- with Excel...\n",
    "\n",
    "thkn = np.array([  1.5,     3,     6,     8,    10,    12,    15])\n",
    "avee = np.array([17.35, 45.97, 48.84, 51.35, 44.63, 40.15, 39.55])\n",
    "mine = np.array([15.60, 40.90, 39.90, 49.10, 40.90, 35.20, 34.00])\n",
    "maxe = np.array([19.10, 49.10, 54.70, 53.60, 47.90, 45.10, 45.10])"
   ]
  },
  {
   "cell_type": "code",
   "execution_count": 62,
   "id": "962dbdb2-3e6c-4b6f-9afa-dce6171044d0",
   "metadata": {},
   "outputs": [
    {
     "data": {
      "image/png": "[encoded data removed]",
      "text/plain": [
       "<Figure size 348.7x258.616 with 1 Axes>"
      ]
     },
     "metadata": {},
     "output_type": "display_data"
    }
   ],
   "source": [
    "fig, ax = plt.subplots()\n",
    "fig.subplots_adjust(left=.15, bottom=.16, right=.99, top=.97)\n",
    "\n",
    "e_err = np.stack([avee - mine, maxe - avee])\n",
    "\n",
    "ax.errorbar(thkn, avee, yerr=e_err, linewidth=1, \n",
    "            # marker='s', \n",
    "            markersize=5, \n",
    "            marker='s', markerfacecolor='blue', markeredgecolor='blue', linestyle='-', color='red', capsize=3,\n",
    "            # color='blue', \n",
    "            label='Exp.')\n",
    "\n",
    "ax.set_xlim([0,16])\n",
    "ax.set_ylim([0,60])\n",
    "ax.grid(linestyle='--',alpha=0.5)\n",
    "ax.set_xlabel('Thickness (um)')\n",
    "ax.set_ylabel('Max. Energy (MeV)')\n",
    "ax.legend()\n",
    "fig.set_size_inches(width, height)\n",
    "fig.tight_layout()\n",
    "\n",
    "plt.show()"
   ]
  },
  {
   "cell_type": "code",
   "execution_count": 64,
   "id": "b83a800c-aaf1-4c54-9ac7-fb0dfcf122a6",
   "metadata": {},
   "outputs": [],
   "source": [
    "fig.savefig('/Users/yao/Desktop/figX_tkn_e.png', dpi=600)"
   ]
  },
  {
   "cell_type": "code",
   "execution_count": null,
   "id": "b2c26368-ef63-4792-8f91-9ffe8683c240",
   "metadata": {},
   "outputs": [],
   "source": [
    " "
   ]
  }
 ],
 "metadata": {
  "kernelspec": {
   "display_name": "Python 3 (ipykernel)",
   "language": "python",
   "name": "python3"
  },
  "language_info": {
   "codemirror_mode": {
    "name": "ipython",
    "version": 3
   },
   "file_extension": ".py",
   "mimetype": "text/x-python",
   "name": "python",
   "nbconvert_exporter": "python",
   "pygments_lexer": "ipython3",
   "version": "3.9.18"
  }
 },
 "nbformat": 4,
 "nbformat_minor": 5
}
