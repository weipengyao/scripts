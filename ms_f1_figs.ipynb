{
 "cells": [
  {
   "cell_type": "code",
   "execution_count": 1,
   "id": "1ed2fb10-a455-4cca-966f-0cc2898ec02c",
   "metadata": {},
   "outputs": [
    {
     "name": "stderr",
     "output_type": "stream",
     "text": [
      "/var/folders/2t/97rc3fl92tg15k2l_4sk5hsh0000gn/T/ipykernel_5531/616493249.py:6: MatplotlibDeprecationWarning: The get_cmap function was deprecated in Matplotlib 3.7 and will be removed two minor releases later. Use ``matplotlib.colormaps[name]`` or ``matplotlib.colormaps.get_cmap(obj)`` instead.\n",
      "  jetcmap = plt.cm.get_cmap(\"jet\", 9) #generate a jet map with 10 values \"rainbow\", \"jet\", YlOrRd\n"
     ]
    }
   ],
   "source": [
    "import matplotlib as mpl\n",
    "import happi\n",
    "import numpy as np\n",
    "import matplotlib.pyplot as plt\n",
    "\n",
    "jetcmap = plt.cm.get_cmap(\"jet\", 9) #generate a jet map with 10 values \"rainbow\", \"jet\", YlOrRd\n",
    "jet_vals = jetcmap(np.arange(9)) #extract those values as an array \n",
    "jet_vals[0] = [1.0, 1, 1.0, 1] #change the first value \n",
    "jet_vals[8] = [0.0, 0, 0.0, 1] #change the first value \n",
    "newcmap = mpl.colors.LinearSegmentedColormap.from_list(\"mine\", jet_vals) "
   ]
  },
  {
   "cell_type": "code",
   "execution_count": 2,
   "id": "6c4043f6-bc70-4c01-ab7a-e6d5d35c83ac",
   "metadata": {},
   "outputs": [],
   "source": [
    "plt.rc('font', family='sans-serif', serif='Arial')\n",
    "plt.rc('text', usetex=False)\n",
    "plt.rc('xtick', labelsize=8)\n",
    "plt.rc('ytick', labelsize=8)\n",
    "plt.rc('axes', labelsize=8)\n",
    "plt.rc('legend', fontsize=8)\n",
    "\n",
    "width  = 3.487\n",
    "height = width / 1.618 * 1.5"
   ]
  },
  {
   "cell_type": "code",
   "execution_count": 16,
   "id": "68659799-21d8-4898-98fb-c46915db280a",
   "metadata": {},
   "outputs": [],
   "source": [
    "## thickness scan for maximum cut-off energy\n",
    "\n",
    "thickness = np.loadtxt('/Users/yao/Nextcloud/PROJECTS/Apollon/F1-2023/thickness_max_energy_F1.txt',\n",
    "                      delimiter=',',skiprows=1, usecols=0)\n",
    "\n",
    "maxi_ene  = np.loadtxt('/Users/yao/Nextcloud/PROJECTS/Apollon/F1-2023/thickness_max_energy_F1.txt',\n",
    "                      delimiter=',',skiprows=1, usecols=1)"
   ]
  },
  {
   "cell_type": "code",
   "execution_count": 15,
   "id": "5023e243-cbe3-49eb-946e-372d0712a7cd",
   "metadata": {},
   "outputs": [
    {
     "name": "stdout",
     "output_type": "stream",
     "text": [
      "[ 1.5  1.5  3.   3.   3.   3.   3.   6.   6.   6.   6.   6.   6.   6.\n",
      "  6.   6.   6.   6.   6.   6.   6.   6.   8.   8.  10.  10.  10.  10.\n",
      " 10.  10.  10.  10.  10.  12.  12.  15.  15. ]\n"
     ]
    }
   ],
   "source": [
    "thickness.sort()\n",
    "print(thickness)"
   ]
  },
  {
   "cell_type": "code",
   "execution_count": 17,
   "id": "ea00fff5-a643-4acf-8078-f5820b0b3dff",
   "metadata": {},
   "outputs": [
    {
     "name": "stdout",
     "output_type": "stream",
     "text": [
      "[12.  12.  10.   6.   3.   6.  10.   6.  10.  15.  15.   3.   3.   6.\n",
      "  6.   6.   6.  10.  10.  10.  10.   6.   1.5  3.   6.   8.  10.  10.\n",
      "  8.   6.   1.5  3.   6.   6.   6.   6.   6. ]\n"
     ]
    }
   ],
   "source": [
    "print(thickness)"
   ]
  },
  {
   "cell_type": "code",
   "execution_count": 18,
   "id": "ac2fde00-8eb3-4637-b271-49a5c48ec27f",
   "metadata": {},
   "outputs": [
    {
     "name": "stdout",
     "output_type": "stream",
     "text": [
      "[35.2 45.1 45.1 51.7 34.  45.1 45.1 39.9 34.  34.  45.1 47.9 40.9 54.7\n",
      " 54.7 54.7 47.9 47.9 40.9 40.9 47.9 35.  19.1 49.1 53.6 53.6 44.6 44.6\n",
      " 49.1 56.6 15.6 19.1 49.  27.  42.  40.  45. ]\n"
     ]
    }
   ],
   "source": [
    "print(maxi_ene)"
   ]
  },
  {
   "cell_type": "code",
   "execution_count": 31,
   "id": "c96131b2-9054-47b5-a8d4-5ea7708bf90b",
   "metadata": {},
   "outputs": [],
   "source": [
    "data = np.array([thickness, maxi_ene])"
   ]
  },
  {
   "cell_type": "code",
   "execution_count": 29,
   "id": "b2c62e4b-8062-470b-9e39-0fad181acf85",
   "metadata": {},
   "outputs": [],
   "source": [
    "data1 = data.sort(axis=1)"
   ]
  },
  {
   "cell_type": "code",
   "execution_count": 30,
   "id": "84f96230-aa50-4510-8152-966c4c13bde1",
   "metadata": {},
   "outputs": [
    {
     "name": "stdout",
     "output_type": "stream",
     "text": [
      "None\n"
     ]
    }
   ],
   "source": [
    "print(data1)"
   ]
  },
  {
   "cell_type": "code",
   "execution_count": 32,
   "id": "3e75902c-d41c-4b03-8cc8-1f6ef4538e51",
   "metadata": {},
   "outputs": [
    {
     "data": {
      "text/plain": [
       "array([[12. , 12. , 10. ,  6. ,  3. ,  6. , 10. ,  6. , 10. , 15. , 15. ,\n",
       "         3. ,  3. ,  6. ,  6. ,  6. ,  6. , 10. , 10. , 10. , 10. ,  6. ,\n",
       "         1.5,  3. ,  6. ,  8. , 10. , 10. ,  8. ,  6. ,  1.5,  3. ,  6. ,\n",
       "         6. ,  6. ,  6. ,  6. ],\n",
       "       [35.2, 45.1, 45.1, 51.7, 34. , 45.1, 45.1, 39.9, 34. , 34. , 45.1,\n",
       "        47.9, 40.9, 54.7, 54.7, 54.7, 47.9, 47.9, 40.9, 40.9, 47.9, 35. ,\n",
       "        19.1, 49.1, 53.6, 53.6, 44.6, 44.6, 49.1, 56.6, 15.6, 19.1, 49. ,\n",
       "        27. , 42. , 40. , 45. ]])"
      ]
     },
     "execution_count": 32,
     "metadata": {},
     "output_type": "execute_result"
    }
   ],
   "source": [
    "data"
   ]
  },
  {
   "cell_type": "code",
   "execution_count": null,
   "id": "962dbdb2-3e6c-4b6f-9afa-dce6171044d0",
   "metadata": {},
   "outputs": [],
   "source": []
  }
 ],
 "metadata": {
  "kernelspec": {
   "display_name": "Python 3 (ipykernel)",
   "language": "python",
   "name": "python3"
  },
  "language_info": {
   "codemirror_mode": {
    "name": "ipython",
    "version": 3
   },
   "file_extension": ".py",
   "mimetype": "text/x-python",
   "name": "python",
   "nbconvert_exporter": "python",
   "pygments_lexer": "ipython3",
   "version": "3.9.18"
  }
 },
 "nbformat": 4,
 "nbformat_minor": 5
}
