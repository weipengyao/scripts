{
 "cells": [
  {
   "cell_type": "code",
   "execution_count": 1,
   "id": "01df7072",
   "metadata": {},
   "outputs": [],
   "source": [
    "%matplotlib qt"
   ]
  },
  {
   "cell_type": "code",
   "execution_count": 2,
   "id": "1ed2fb10-a455-4cca-966f-0cc2898ec02c",
   "metadata": {},
   "outputs": [
    {
     "name": "stderr",
     "output_type": "stream",
     "text": [
      "/var/folders/2t/97rc3fl92tg15k2l_4sk5hsh0000gn/T/ipykernel_30660/616493249.py:6: MatplotlibDeprecationWarning: The get_cmap function was deprecated in Matplotlib 3.7 and will be removed two minor releases later. Use ``matplotlib.colormaps[name]`` or ``matplotlib.colormaps.get_cmap(obj)`` instead.\n",
      "  jetcmap = plt.cm.get_cmap(\"jet\", 9) #generate a jet map with 10 values \"rainbow\", \"jet\", YlOrRd\n"
     ]
    }
   ],
   "source": [
    "import matplotlib as mpl\n",
    "import happi\n",
    "import numpy as np\n",
    "import matplotlib.pyplot as plt\n",
    "\n",
    "jetcmap = plt.cm.get_cmap(\"jet\", 9) #generate a jet map with 10 values \"rainbow\", \"jet\", YlOrRd\n",
    "jet_vals = jetcmap(np.arange(9)) #extract those values as an array \n",
    "jet_vals[0] = [1.0, 1, 1.0, 1] #change the first value \n",
    "jet_vals[8] = [0.0, 0, 0.0, 1] #change the first value \n",
    "newcmap = mpl.colors.LinearSegmentedColormap.from_list(\"mine\", jet_vals) "
   ]
  },
  {
   "cell_type": "code",
   "execution_count": 3,
   "id": "6c4043f6-bc70-4c01-ab7a-e6d5d35c83ac",
   "metadata": {},
   "outputs": [],
   "source": [
    "from matplotlib import font_manager\n",
    "\n",
    "font_dirs = ['/Users/yao/Documents/Calibri and Cambria Fonts/']\n",
    "font_files = font_manager.findSystemFonts(fontpaths=font_dirs)\n",
    "\n",
    "for font_file in font_files:\n",
    "    font_manager.fontManager.addfont(font_file)\n",
    "\n",
    "# set font\n",
    "plt.rcParams['font.family'] = 'Calibri'\n",
    "\n",
    "plt.rc('text', usetex=False)\n",
    "plt.rc('xtick', labelsize=12)\n",
    "plt.rc('ytick', labelsize=12)\n",
    "plt.rc('axes', labelsize=12)\n",
    "plt.rc('legend', fontsize=9)\n",
    "\n",
    "width  = 3.487\n",
    "height = width / 1.618 * 1.0"
   ]
  },
  {
   "cell_type": "code",
   "execution_count": 3,
   "id": "68659799-21d8-4898-98fb-c46915db280a",
   "metadata": {},
   "outputs": [],
   "source": [
    "## thickness scan for maximum cut-off energy\n",
    "\n",
    "thickness = np.loadtxt('/Users/yao/Nextcloud/PROJECTS/Apollon/F1-2023/thickness_max_energy_F1.txt',\n",
    "                      delimiter=',',skiprows=1, usecols=0)\n",
    "\n",
    "maxi_ene  = np.loadtxt('/Users/yao/Nextcloud/PROJECTS/Apollon/F1-2023/thickness_max_energy_F1.txt',\n",
    "                      delimiter=',',skiprows=1, usecols=1)"
   ]
  },
  {
   "cell_type": "code",
   "execution_count": 4,
   "id": "130aaca8-c099-4261-88a0-19a410b1e7b0",
   "metadata": {},
   "outputs": [],
   "source": [
    "## average over different thicknesses -- with Excel...\n",
    "\n",
    "thkn = np.array([  1.5,     3,     6,     8,    10,    12,    15])\n",
    "avee = np.array([17.35, 45.97, 48.84, 51.35, 44.63, 40.15, 39.55])\n",
    "mine = np.array([15.60, 40.90, 39.90, 49.10, 40.90, 35.20, 34.00])\n",
    "maxe = np.array([19.10, 49.10, 54.70, 53.60, 47.90, 45.10, 45.10])"
   ]
  },
  {
   "cell_type": "code",
   "execution_count": 5,
   "id": "962dbdb2-3e6c-4b6f-9afa-dce6171044d0",
   "metadata": {},
   "outputs": [
    {
     "data": {
      "image/png": "[encoded data removed]",
      "text/plain": [
       "<Figure size 348.7x215.513 with 1 Axes>"
      ]
     },
     "metadata": {},
     "output_type": "display_data"
    }
   ],
   "source": [
    "fig, ax = plt.subplots()\n",
    "fig.subplots_adjust(left=.15, bottom=.16, right=.99, top=.97)\n",
    "\n",
    "e_err = np.stack([avee - mine, maxe - avee])\n",
    "\n",
    "ax.errorbar(thkn, avee, yerr=e_err, linewidth=1, \n",
    "            # marker='s', \n",
    "            markersize=5, \n",
    "            marker='s', markerfacecolor='blue', markeredgecolor='blue', linestyle='-', color='red', capsize=3,\n",
    "            # color='blue', \n",
    "            label='Exp.')\n",
    "\n",
    "ax.set_xlim([0,16])\n",
    "ax.set_ylim([0,60])\n",
    "ax.grid(linestyle='--',alpha=0.5)\n",
    "ax.set_xlabel('Thickness (um)')\n",
    "ax.set_ylabel('Max. Energy (MeV)')\n",
    "# ax.legend()\n",
    "fig.set_size_inches(width, height)\n",
    "fig.tight_layout()\n",
    "\n",
    "plt.show()"
   ]
  },
  {
   "cell_type": "code",
   "execution_count": 21,
   "id": "b83a800c-aaf1-4c54-9ac7-fb0dfcf122a6",
   "metadata": {},
   "outputs": [],
   "source": [
    "fig.savefig('/Users/yao/Desktop/figX_tkn_e.pdf', dpi=600)"
   ]
  },
  {
   "cell_type": "code",
   "execution_count": 3,
   "id": "b2c26368-ef63-4792-8f91-9ffe8683c240",
   "metadata": {},
   "outputs": [],
   "source": [
    "import numpy as np\n",
    "import matplotlib.pyplot as plt"
   ]
  },
  {
   "cell_type": "code",
   "execution_count": 7,
   "id": "74e16778-cd04-4472-9180-1131a16e2d6b",
   "metadata": {},
   "outputs": [
    {
     "ename": "FileNotFoundError",
     "evalue": "/Users/yao/Desktop/Encircled_Energy_r14,45um.txt not found.",
     "output_type": "error",
     "traceback": [
      "\u001b[0;31m---------------------------------------------------------------------------\u001b[0m",
      "\u001b[0;31mFileNotFoundError\u001b[0m                         Traceback (most recent call last)",
      "Cell \u001b[0;32mIn[7], line 1\u001b[0m\n\u001b[0;32m----> 1\u001b[0m distance   \u001b[38;5;241m=\u001b[39m \u001b[43mnp\u001b[49m\u001b[38;5;241;43m.\u001b[39;49m\u001b[43mloadtxt\u001b[49m\u001b[43m(\u001b[49m\u001b[38;5;124;43m'\u001b[39;49m\u001b[38;5;124;43m/Users/yao/Desktop/Encircled_Energy_r14,45um.txt\u001b[39;49m\u001b[38;5;124;43m'\u001b[39;49m\u001b[43m,\u001b[49m\u001b[43mdelimiter\u001b[49m\u001b[38;5;241;43m=\u001b[39;49m\u001b[38;5;124;43m'\u001b[39;49m\u001b[38;5;124;43m \u001b[39;49m\u001b[38;5;124;43m'\u001b[39;49m\u001b[43m,\u001b[49m\u001b[43m \u001b[49m\u001b[43musecols\u001b[49m\u001b[38;5;241;43m=\u001b[39;49m\u001b[38;5;241;43m0\u001b[39;49m\u001b[43m)\u001b[49m\n\u001b[1;32m      2\u001b[0m proportion \u001b[38;5;241m=\u001b[39m np\u001b[38;5;241m.\u001b[39mloadtxt(\u001b[38;5;124m'\u001b[39m\u001b[38;5;124m/Users/yao/Desktop/Encircled_Energy_r14,45um.txt\u001b[39m\u001b[38;5;124m'\u001b[39m,delimiter\u001b[38;5;241m=\u001b[39m\u001b[38;5;124m'\u001b[39m\u001b[38;5;124m \u001b[39m\u001b[38;5;124m'\u001b[39m, usecols\u001b[38;5;241m=\u001b[39m\u001b[38;5;241m1\u001b[39m)\n",
      "File \u001b[0;32m~/Library/Python/3.9/lib/python/site-packages/numpy/lib/npyio.py:1373\u001b[0m, in \u001b[0;36mloadtxt\u001b[0;34m(fname, dtype, comments, delimiter, converters, skiprows, usecols, unpack, ndmin, encoding, max_rows, quotechar, like)\u001b[0m\n\u001b[1;32m   1370\u001b[0m \u001b[38;5;28;01mif\u001b[39;00m \u001b[38;5;28misinstance\u001b[39m(delimiter, \u001b[38;5;28mbytes\u001b[39m):\n\u001b[1;32m   1371\u001b[0m     delimiter \u001b[38;5;241m=\u001b[39m delimiter\u001b[38;5;241m.\u001b[39mdecode(\u001b[38;5;124m'\u001b[39m\u001b[38;5;124mlatin1\u001b[39m\u001b[38;5;124m'\u001b[39m)\n\u001b[0;32m-> 1373\u001b[0m arr \u001b[38;5;241m=\u001b[39m \u001b[43m_read\u001b[49m\u001b[43m(\u001b[49m\u001b[43mfname\u001b[49m\u001b[43m,\u001b[49m\u001b[43m \u001b[49m\u001b[43mdtype\u001b[49m\u001b[38;5;241;43m=\u001b[39;49m\u001b[43mdtype\u001b[49m\u001b[43m,\u001b[49m\u001b[43m \u001b[49m\u001b[43mcomment\u001b[49m\u001b[38;5;241;43m=\u001b[39;49m\u001b[43mcomment\u001b[49m\u001b[43m,\u001b[49m\u001b[43m \u001b[49m\u001b[43mdelimiter\u001b[49m\u001b[38;5;241;43m=\u001b[39;49m\u001b[43mdelimiter\u001b[49m\u001b[43m,\u001b[49m\n\u001b[1;32m   1374\u001b[0m \u001b[43m            \u001b[49m\u001b[43mconverters\u001b[49m\u001b[38;5;241;43m=\u001b[39;49m\u001b[43mconverters\u001b[49m\u001b[43m,\u001b[49m\u001b[43m \u001b[49m\u001b[43mskiplines\u001b[49m\u001b[38;5;241;43m=\u001b[39;49m\u001b[43mskiprows\u001b[49m\u001b[43m,\u001b[49m\u001b[43m \u001b[49m\u001b[43musecols\u001b[49m\u001b[38;5;241;43m=\u001b[39;49m\u001b[43musecols\u001b[49m\u001b[43m,\u001b[49m\n\u001b[1;32m   1375\u001b[0m \u001b[43m            \u001b[49m\u001b[43munpack\u001b[49m\u001b[38;5;241;43m=\u001b[39;49m\u001b[43munpack\u001b[49m\u001b[43m,\u001b[49m\u001b[43m \u001b[49m\u001b[43mndmin\u001b[49m\u001b[38;5;241;43m=\u001b[39;49m\u001b[43mndmin\u001b[49m\u001b[43m,\u001b[49m\u001b[43m \u001b[49m\u001b[43mencoding\u001b[49m\u001b[38;5;241;43m=\u001b[39;49m\u001b[43mencoding\u001b[49m\u001b[43m,\u001b[49m\n\u001b[1;32m   1376\u001b[0m \u001b[43m            \u001b[49m\u001b[43mmax_rows\u001b[49m\u001b[38;5;241;43m=\u001b[39;49m\u001b[43mmax_rows\u001b[49m\u001b[43m,\u001b[49m\u001b[43m \u001b[49m\u001b[43mquote\u001b[49m\u001b[38;5;241;43m=\u001b[39;49m\u001b[43mquotechar\u001b[49m\u001b[43m)\u001b[49m\n\u001b[1;32m   1378\u001b[0m \u001b[38;5;28;01mreturn\u001b[39;00m arr\n",
      "File \u001b[0;32m~/Library/Python/3.9/lib/python/site-packages/numpy/lib/npyio.py:992\u001b[0m, in \u001b[0;36m_read\u001b[0;34m(fname, delimiter, comment, quote, imaginary_unit, usecols, skiplines, max_rows, converters, ndmin, unpack, dtype, encoding)\u001b[0m\n\u001b[1;32m    990\u001b[0m     fname \u001b[38;5;241m=\u001b[39m os\u001b[38;5;241m.\u001b[39mfspath(fname)\n\u001b[1;32m    991\u001b[0m \u001b[38;5;28;01mif\u001b[39;00m \u001b[38;5;28misinstance\u001b[39m(fname, \u001b[38;5;28mstr\u001b[39m):\n\u001b[0;32m--> 992\u001b[0m     fh \u001b[38;5;241m=\u001b[39m \u001b[43mnp\u001b[49m\u001b[38;5;241;43m.\u001b[39;49m\u001b[43mlib\u001b[49m\u001b[38;5;241;43m.\u001b[39;49m\u001b[43m_datasource\u001b[49m\u001b[38;5;241;43m.\u001b[39;49m\u001b[43mopen\u001b[49m\u001b[43m(\u001b[49m\u001b[43mfname\u001b[49m\u001b[43m,\u001b[49m\u001b[43m \u001b[49m\u001b[38;5;124;43m'\u001b[39;49m\u001b[38;5;124;43mrt\u001b[39;49m\u001b[38;5;124;43m'\u001b[39;49m\u001b[43m,\u001b[49m\u001b[43m \u001b[49m\u001b[43mencoding\u001b[49m\u001b[38;5;241;43m=\u001b[39;49m\u001b[43mencoding\u001b[49m\u001b[43m)\u001b[49m\n\u001b[1;32m    993\u001b[0m     \u001b[38;5;28;01mif\u001b[39;00m encoding \u001b[38;5;129;01mis\u001b[39;00m \u001b[38;5;28;01mNone\u001b[39;00m:\n\u001b[1;32m    994\u001b[0m         encoding \u001b[38;5;241m=\u001b[39m \u001b[38;5;28mgetattr\u001b[39m(fh, \u001b[38;5;124m'\u001b[39m\u001b[38;5;124mencoding\u001b[39m\u001b[38;5;124m'\u001b[39m, \u001b[38;5;124m'\u001b[39m\u001b[38;5;124mlatin1\u001b[39m\u001b[38;5;124m'\u001b[39m)\n",
      "File \u001b[0;32m~/Library/Python/3.9/lib/python/site-packages/numpy/lib/_datasource.py:193\u001b[0m, in \u001b[0;36mopen\u001b[0;34m(path, mode, destpath, encoding, newline)\u001b[0m\n\u001b[1;32m    156\u001b[0m \u001b[38;5;250m\u001b[39m\u001b[38;5;124;03m\"\"\"\u001b[39;00m\n\u001b[1;32m    157\u001b[0m \u001b[38;5;124;03mOpen `path` with `mode` and return the file object.\u001b[39;00m\n\u001b[1;32m    158\u001b[0m \n\u001b[0;32m   (...)\u001b[0m\n\u001b[1;32m    189\u001b[0m \n\u001b[1;32m    190\u001b[0m \u001b[38;5;124;03m\"\"\"\u001b[39;00m\n\u001b[1;32m    192\u001b[0m ds \u001b[38;5;241m=\u001b[39m DataSource(destpath)\n\u001b[0;32m--> 193\u001b[0m \u001b[38;5;28;01mreturn\u001b[39;00m \u001b[43mds\u001b[49m\u001b[38;5;241;43m.\u001b[39;49m\u001b[43mopen\u001b[49m\u001b[43m(\u001b[49m\u001b[43mpath\u001b[49m\u001b[43m,\u001b[49m\u001b[43m \u001b[49m\u001b[43mmode\u001b[49m\u001b[43m,\u001b[49m\u001b[43m \u001b[49m\u001b[43mencoding\u001b[49m\u001b[38;5;241;43m=\u001b[39;49m\u001b[43mencoding\u001b[49m\u001b[43m,\u001b[49m\u001b[43m \u001b[49m\u001b[43mnewline\u001b[49m\u001b[38;5;241;43m=\u001b[39;49m\u001b[43mnewline\u001b[49m\u001b[43m)\u001b[49m\n",
      "File \u001b[0;32m~/Library/Python/3.9/lib/python/site-packages/numpy/lib/_datasource.py:533\u001b[0m, in \u001b[0;36mDataSource.open\u001b[0;34m(self, path, mode, encoding, newline)\u001b[0m\n\u001b[1;32m    530\u001b[0m     \u001b[38;5;28;01mreturn\u001b[39;00m _file_openers[ext](found, mode\u001b[38;5;241m=\u001b[39mmode,\n\u001b[1;32m    531\u001b[0m                               encoding\u001b[38;5;241m=\u001b[39mencoding, newline\u001b[38;5;241m=\u001b[39mnewline)\n\u001b[1;32m    532\u001b[0m \u001b[38;5;28;01melse\u001b[39;00m:\n\u001b[0;32m--> 533\u001b[0m     \u001b[38;5;28;01mraise\u001b[39;00m \u001b[38;5;167;01mFileNotFoundError\u001b[39;00m(\u001b[38;5;124mf\u001b[39m\u001b[38;5;124m\"\u001b[39m\u001b[38;5;132;01m{\u001b[39;00mpath\u001b[38;5;132;01m}\u001b[39;00m\u001b[38;5;124m not found.\u001b[39m\u001b[38;5;124m\"\u001b[39m)\n",
      "\u001b[0;31mFileNotFoundError\u001b[0m: /Users/yao/Desktop/Encircled_Energy_r14,45um.txt not found."
     ]
    }
   ],
   "source": [
    "distance   = np.loadtxt('/Users/yao/Desktop/Encircled_Energy_r14,45um.txt',delimiter=' ', usecols=0)\n",
    "proportion = np.loadtxt('/Users/yao/Desktop/Encircled_Energy_r14,45um.txt',delimiter=' ', usecols=1)"
   ]
  },
  {
   "cell_type": "code",
   "execution_count": 8,
   "id": "334277ec-1ea0-4f23-a51d-ba17a7641b31",
   "metadata": {},
   "outputs": [
    {
     "ename": "NameError",
     "evalue": "name 'distance' is not defined",
     "output_type": "error",
     "traceback": [
      "\u001b[0;31m---------------------------------------------------------------------------\u001b[0m",
      "\u001b[0;31mNameError\u001b[0m                                 Traceback (most recent call last)",
      "Cell \u001b[0;32mIn[8], line 7\u001b[0m\n\u001b[1;32m      4\u001b[0m fig, ax \u001b[38;5;241m=\u001b[39m plt\u001b[38;5;241m.\u001b[39msubplots()\n\u001b[1;32m      5\u001b[0m fig\u001b[38;5;241m.\u001b[39msubplots_adjust(left\u001b[38;5;241m=\u001b[39m\u001b[38;5;241m.15\u001b[39m, bottom\u001b[38;5;241m=\u001b[39m\u001b[38;5;241m.16\u001b[39m, right\u001b[38;5;241m=\u001b[39m\u001b[38;5;241m.99\u001b[39m, top\u001b[38;5;241m=\u001b[39m\u001b[38;5;241m.97\u001b[39m)\n\u001b[0;32m----> 7\u001b[0m ax\u001b[38;5;241m.\u001b[39mplot(\u001b[43mdistance\u001b[49m, proportion\u001b[38;5;241m*\u001b[39m\u001b[38;5;241m100\u001b[39m, color\u001b[38;5;241m=\u001b[39m\u001b[38;5;124m'\u001b[39m\u001b[38;5;124mr\u001b[39m\u001b[38;5;124m'\u001b[39m,lw\u001b[38;5;241m=\u001b[39m\u001b[38;5;241m1.5\u001b[39m,\n\u001b[1;32m      8\u001b[0m              linestyle\u001b[38;5;241m=\u001b[39m\u001b[38;5;124m'\u001b[39m\u001b[38;5;124m-\u001b[39m\u001b[38;5;124m'\u001b[39m,\n\u001b[1;32m      9\u001b[0m              \u001b[38;5;66;03m# label=r'$n_e$ (100$n_c$)',\u001b[39;00m\n\u001b[1;32m     10\u001b[0m            )\n\u001b[1;32m     12\u001b[0m ax\u001b[38;5;241m.\u001b[39mset_xlim([\u001b[38;5;241m0\u001b[39m,\u001b[38;5;241m15\u001b[39m])\n\u001b[1;32m     13\u001b[0m ax\u001b[38;5;241m.\u001b[39mset_ylim([\u001b[38;5;241m0\u001b[39m,\u001b[38;5;241m100\u001b[39m])\n",
      "\u001b[0;31mNameError\u001b[0m: name 'distance' is not defined"
     ]
    },
    {
     "data": {
      "image/png": "[encoded data removed]",
      "text/plain": [
       "<Figure size 640x480 with 1 Axes>"
      ]
     },
     "metadata": {},
     "output_type": "display_data"
    }
   ],
   "source": [
    "width  = 3.487 * 1.0\n",
    "height = width / 1.618 * 1.5\n",
    "\n",
    "fig, ax = plt.subplots()\n",
    "fig.subplots_adjust(left=.15, bottom=.16, right=.99, top=.97)\n",
    "\n",
    "ax.plot(distance, proportion*100, color='r',lw=1.5,\n",
    "             linestyle='-',\n",
    "             # label=r'$n_e$ (100$n_c$)',\n",
    "           )\n",
    "\n",
    "ax.set_xlim([0,15])\n",
    "ax.set_ylim([0,100])\n",
    "# ax.set_xticks([6,11,16])\n",
    "# plt.title('time = {:.1f} fs'.format(ttf[idt]))\n",
    "ax.grid(which='both',linestyle='--',alpha=0.5)\n",
    "ax.set_xlabel(r'Radius (micron)')\n",
    "ax.set_ylabel('Energy fraction (%)')\n",
    "# ax.legend(fancybox=False, frameon=False, loc='best',fontsize=10)\n",
    "fig.set_size_inches(width, height)\n",
    "fig.tight_layout()"
   ]
  },
  {
   "cell_type": "code",
   "execution_count": 17,
   "id": "83c59655-ff80-48f1-8039-deb737765e82",
   "metadata": {},
   "outputs": [],
   "source": [
    "fig.savefig('/Users/yao/Desktop/energy_fraction.pdf',dpi=600) # 保存文件"
   ]
  },
  {
   "cell_type": "code",
   "execution_count": 4,
   "id": "bcff1e9d-ba05-4d31-8e2f-e0e10aa8b81e",
   "metadata": {},
   "outputs": [],
   "source": [
    "import pandas as pd\n",
    "\n",
    "# fwhm = pd.read_excel('/Users/yao/Nextcloud/PROJECTS/Apollon/F1-2023/Focal Spot scan 20.4.23.xlsx')\n",
    "fwhm = pd.read_excel('/Users/yao/Nextcloud/PROJECTS/Apollon/F1-2023/Focal Spot scan 20.4.23-2.xlsx')"
   ]
  },
  {
   "cell_type": "code",
   "execution_count": 5,
   "id": "6c12bab5-2266-43f3-9b08-c2a25403758b",
   "metadata": {},
   "outputs": [],
   "source": [
    "z = np.array(fwhm.loc[:,'pos um'])\n",
    "fx = np.array(fwhm.loc[:,'FWHM_X [um]'])\n",
    "fy = np.array(fwhm.loc[:,'FWHM_Y [um]'])"
   ]
  },
  {
   "cell_type": "code",
   "execution_count": 10,
   "id": "4f8065c6-5618-4897-b91e-f7bcc347cc9f",
   "metadata": {},
   "outputs": [],
   "source": [
    "width  = 3.487\n",
    "height = width / 1.618 * 1.0\n",
    "\n",
    "fig, ax = plt.subplots()\n",
    "fig.subplots_adjust(left=.15, bottom=.16, right=.99, top=.97)\n",
    "\n",
    "ax.scatter(z-14,fx, color='b', marker='x', s=20, lw=1.0,\n",
    "             # label='PIC at t = {:.1f} fs'.format(tt[-1]),\n",
    "            label=r'FWHM X',\n",
    "           )\n",
    "\n",
    "ax.scatter(z-14,fy, color='r', marker='+', s=30, lw=1.0,\n",
    "             # label='PIC at t = {:.1f} fs'.format(tt[-1]),\n",
    "            label=r'FWHM Y',\n",
    "           )\n",
    "\n",
    "ax.set_xlim([-50,50])\n",
    "ax.set_ylim([0,15])\n",
    "# plt.title('time = '+str(tt[ts])+' fs')\n",
    "ax.grid(which='both',linestyle='--',alpha=0.5)\n",
    "ax.set_xlabel(r'z (micron)')\n",
    "ax.set_ylabel(r'Size (micron)')\n",
    "\n",
    "ax.legend(\n",
    "    # fancybox=False, reverse=False, frameon=False,\n",
    "          loc='best', \n",
    "          fontsize=8,)\n",
    "fig.set_size_inches(width, height)\n",
    "fig.tight_layout()"
   ]
  },
  {
   "cell_type": "code",
   "execution_count": 11,
   "id": "c879af11-bfe7-404c-a46b-6364be5bd410",
   "metadata": {},
   "outputs": [],
   "source": [
    "fig.savefig('/Users/yao/Desktop/focal_line.pdf',dpi=600)"
   ]
  },
  {
   "cell_type": "code",
   "execution_count": 7,
   "id": "58d95078-9770-4268-abca-c39454b0cb94",
   "metadata": {},
   "outputs": [],
   "source": [
    "# fig.7 proton energy spectrum\n",
    "\n",
    "# load experiment data for proton\n",
    "\n",
    "import numpy as np\n",
    "data_energy = np.loadtxt('/Users/yao/Nextcloud/PROJECTS/Apollon/F1-2023/Proton_Spectrum_RCF_MeV_Avg.dat',usecols=0)\n",
    "data_dnde   = np.loadtxt('/Users/yao/Nextcloud/PROJECTS/Apollon/F1-2023/Proton_Spectrum_RCF_MeV_Avg.dat',usecols=1)\n",
    "data_error  = np.loadtxt('/Users/yao/Nextcloud/PROJECTS/Apollon/F1-2023/Proton_Spectrum_RCF_MeV_Avg.dat',usecols=2)"
   ]
  },
  {
   "cell_type": "code",
   "execution_count": 8,
   "id": "661d4f30",
   "metadata": {},
   "outputs": [],
   "source": [
    "# load proton spectrum data that is deduced from the neutron measurement\n",
    "\n",
    "data_proton_neutron_energy = np.loadtxt('/Users/yao/Nextcloud/PROJECTS/Apollon/F1-2023/Proton Spectrum E0 4.25 MeV.txt',usecols=0)\n",
    "data_proton_neutron_number = np.loadtxt('/Users/yao/Nextcloud/PROJECTS/Apollon/F1-2023/Proton Spectrum E0 4.25 MeV.txt',usecols=1)"
   ]
  },
  {
   "cell_type": "code",
   "execution_count": 6,
   "id": "91bdf2de-9d78-4722-9b90-f661bf35111b",
   "metadata": {},
   "outputs": [
    {
     "name": "stdout",
     "output_type": "stream",
     "text": [
      "Loaded simulation '/Users/yao/Documents/Data/ANR_LIOR_2024/LIOR_x4_r0/'\n",
      "Loaded simulation '/Users/yao/Documents/Data/ANR_LIOR_2024/LIOR_x4_r1/'\n",
      "Scanning for Scalar diagnostics\n",
      "Scanning for Field diagnostics\n",
      "Scanning for Probe diagnostics\n",
      "Scanning for ParticleBinning diagnostics\n",
      "Scanning for RadiationSpectrum diagnostics\n",
      "Scanning for Performance diagnostics\n",
      "Scanning for Screen diagnostics\n",
      "Scanning for Tracked particle diagnostics\n",
      "Scanning for new particle diagnostics\n",
      "Loaded simulation '/Users/yao/Documents/Data/ANR_LIOR_2024/LIOR_x3_r0/'\n",
      "Loaded simulation '/Users/yao/Documents/Data/ANR_LIOR_2024/LIOR_x3_r1/'\n",
      "Scanning for Scalar diagnostics\n",
      "Scanning for Field diagnostics\n",
      "Scanning for Probe diagnostics\n",
      "Scanning for ParticleBinning diagnostics\n",
      "Scanning for RadiationSpectrum diagnostics\n",
      "Scanning for Performance diagnostics\n",
      "Scanning for Screen diagnostics\n",
      "Scanning for Tracked particle diagnostics\n",
      "Scanning for new particle diagnostics\n",
      "Loaded simulation '/Users/yao/Documents/Data/ANR_LIOR_2024/LIOR_x8/'\n",
      "Scanning for Scalar diagnostics\n",
      "Scanning for Field diagnostics\n",
      "Scanning for Probe diagnostics\n",
      "Scanning for ParticleBinning diagnostics\n",
      "Scanning for RadiationSpectrum diagnostics\n",
      "Scanning for Performance diagnostics\n",
      "Scanning for Screen diagnostics\n",
      "Scanning for Tracked particle diagnostics\n",
      "Scanning for new particle diagnostics\n"
     ]
    }
   ],
   "source": [
    "# get simulation data for proton\n",
    "\n",
    "import happi\n",
    "\n",
    "wkdir = [\n",
    "        '/Users/yao/Documents/Data/ANR_LIOR_2024/LIOR_x4_r*/', # a0=50, Al\n",
    "        '/Users/yao/Documents/Data/ANR_LIOR_2024/LIOR_x3_r*/', # a0=100, Al\n",
    "        '/Users/yao/Documents/Data/ANR_LIOR_2024/LIOR_x8/', # a0=100, W, Z=14, density the same\n",
    "        ]\n",
    "\n",
    "S0 = happi.Open(wkdir[0], reference_angular_frequency_SI = 2.*np.pi*3e8/0.8e-6)\n",
    "S1 = happi.Open(wkdir[1], reference_angular_frequency_SI = 2.*np.pi*3e8/0.8e-6)\n",
    "S2 = happi.Open(wkdir[2], reference_angular_frequency_SI = 2.*np.pi*3e8/0.8e-6)\n",
    "\n",
    "# simu_energy0 = np.array(S0.Screen(0, units=['mm','fs','MeV','cm^-3']).getAxis('ekin')) # MeV\n",
    "# simu_dnde0   = np.array(S0.Screen(0, units=['mm','fs','MeV','cm^-3']).getData()[-1])   # simulation unit, will be adjusted to experiments\n",
    "\n",
    "simu_energy0 = np.array(S0.ParticleBinning(3,units=['mm','fs','MeV','cm^-3'],timesteps=14529).getAxis('ekin'))\n",
    "simu_dnde0   = np.array(S0.ParticleBinning(3,units=['mm','fs','MeV','cm^-3'],timesteps=14529).getData()[0])\n",
    "\n",
    "simu_energy1 = np.array(S1.Screen(0, units=['mm','fs','MeV','cm^-3']).getAxis('ekin')) # MeV\n",
    "simu_dnde1   = np.array(S1.Screen(0, units=['mm','fs','MeV','cm^-3']).getData()[-1])   # simulation unit, will be adjusted to experiments\n",
    "\n",
    "simu_energy2 = np.array(S2.Screen(0, units=['mm','fs','MeV','cm^-3']).getAxis('ekin')) # MeV\n",
    "simu_dnde2   = np.array(S2.Screen(0, units=['mm','fs','MeV','cm^-3']).getData()[-1])   # simulation unit, will be adjusted to experiments\n",
    "\n"
   ]
  },
  {
   "cell_type": "code",
   "execution_count": 9,
   "id": "a3f23cd4-450e-44d5-aa43-b113162c9aa1",
   "metadata": {},
   "outputs": [],
   "source": [
    "# plot panel (a) with proton energy spectra\n",
    "\n",
    "width  = 3.14 *1.0\n",
    "height = width / 1.618 * 1.2\n",
    "fig, ax = plt.subplots()\n",
    "\n",
    "plt.ticklabel_format(axis='both', style='sci',useMathText=True)\n",
    "\n",
    "fig.subplots_adjust(left=.2, bottom=.2, right=.9, top=.9)\n",
    "ax.set_yscale('log')\n",
    "\n",
    "scaling_factor = 7.79e+12  # 2.3e12\n",
    "\n",
    "# ax.errorbar(data_energy,\n",
    "#              data_dnde,\n",
    "#              yerr=data_error, \n",
    "#              label='Exp.',\n",
    "#              fmt='ok',markersize=6,\n",
    "#              ecolor='k',elinewidth=2.0,\n",
    "#             #  mfc='none',\n",
    "#              capsize=2.0, capthick = 2.0,\n",
    "#             )\n",
    "\n",
    "ax.plot(simu_energy0,\n",
    "        simu_dnde0*scaling_factor, \n",
    "        label=\"Sim.\",\n",
    "        linewidth=2.0,\n",
    "        color='red')\n",
    "\n",
    "# ax.plot(data_proton_neutron_energy,\n",
    "#         data_proton_neutron_number, \n",
    "#         label=\"Inferred\",\n",
    "#         linewidth=2.0,\n",
    "#         linestyle='--',\n",
    "#         color='green')\n",
    "\n",
    "# handles, labels = ax.get_legend_handles_labels()\n",
    "# handles.reverse()\n",
    "# labels.reverse()\n",
    "ax.legend(\n",
    "#     handles, labels, \n",
    "          fancybox=False, reverse=False, frameon=False,\n",
    "          loc='best', \n",
    "          fontsize=10,\n",
    "         )\n",
    "\n",
    "ax.set_xlim([0,60])\n",
    "ax.set_ylim([1e6, 1e11])\n",
    "ax.set_xlabel('Proton energy (MeV)')\n",
    "# ax.set_ylabel(r'$d^2N/(dEd\\Omega (MeV^{-1}sr^{-1})$')\n",
    "ax.set_ylabel(r'dN/dE (Part./MeV)')\n",
    "\n",
    "\n",
    "fig.set_size_inches(width, height)\n",
    "fig.tight_layout()\n",
    "\n",
    "# fig.savefig('/Users/yao/Desktop/Spectrum_RCF.pdf',dpi=600)\n"
   ]
  },
  {
   "cell_type": "code",
   "execution_count": 23,
   "id": "69ec8a03",
   "metadata": {},
   "outputs": [],
   "source": [
    "fig.savefig('/Users/yao/Desktop/Spectrum_RCF.pdf',dpi=600)\n"
   ]
  },
  {
   "cell_type": "code",
   "execution_count": 32,
   "id": "619b4ec2",
   "metadata": {},
   "outputs": [
    {
     "data": {
      "image/png": "[encoded data removed]",
      "text/plain": [
       "<Figure size 314x314 with 1 Axes>"
      ]
     },
     "metadata": {},
     "output_type": "display_data"
    }
   ],
   "source": [
    "# plot panel (a) with proton energy spectra\n",
    "\n",
    "width  = 3.14 *1.0\n",
    "height = width\n",
    "fig, ax = plt.subplots()\n",
    "\n",
    "plt.ticklabel_format(axis='both', style='sci',useMathText=True)\n",
    "\n",
    "fig.subplots_adjust(left=.2, bottom=.2, right=.9, top=.9)\n",
    "ax.set_yscale('log')\n",
    "\n",
    "scaling_factor = 7.79e+12  # 2.3e12\n",
    "\n",
    "ax.errorbar(data_energy,\n",
    "             data_dnde,\n",
    "             yerr=data_error, \n",
    "             label='Exp.',\n",
    "             fmt='ok',markersize=6,\n",
    "             ecolor='k',elinewidth=2.0,\n",
    "            #  mfc='none',\n",
    "             capsize=2.0, capthick = 2.0,\n",
    "            )\n",
    "\n",
    "ax.plot(simu_energy2,\n",
    "        simu_dnde2*scaling_factor, \n",
    "        label=\"Proj.: W\",\n",
    "        color='green',\n",
    "        linewidth=2.0,\n",
    "        linestyle=':')\n",
    "\n",
    "\n",
    "ax.plot(simu_energy1,\n",
    "        simu_dnde1*scaling_factor, \n",
    "        label=\"Proj.: Al\",\n",
    "        color='blue',\n",
    "        linewidth=2.0,\n",
    "        linestyle='--')\n",
    "\n",
    "ax.plot(simu_energy0,\n",
    "        simu_dnde0*scaling_factor, \n",
    "        label=\"Sim.\",\n",
    "        linewidth=2.0,\n",
    "        color='red')\n",
    "\n",
    "handles, labels = ax.get_legend_handles_labels()\n",
    "handles.reverse()\n",
    "labels.reverse()\n",
    "ax.legend(handles, labels, \n",
    "          fancybox=False, reverse=False, frameon=False,\n",
    "          loc='upper right',\n",
    "         )\n",
    "\n",
    "ax.set_xlim([15,100])\n",
    "ax.set_ylim([1e6, 1e10])\n",
    "ax.set_xlabel('Proton energy (MeV)')\n",
    "# ax.set_ylabel(r'$d^2N/(dEd\\Omega (MeV^{-1}sr^{-1})$')\n",
    "ax.set_ylabel(r'dN/dE (Part./MeV)')\n",
    "\n",
    "\n",
    "fig.set_size_inches(width, height)\n",
    "fig.tight_layout()\n",
    "\n",
    "# fig.savefig('/Users/yao/Desktop/Spectrum_RCF.pdf',dpi=600)\n"
   ]
  },
  {
   "cell_type": "code",
   "execution_count": 24,
   "id": "0256b91c",
   "metadata": {},
   "outputs": [],
   "source": [
    "from lmfit import Model, Parameters, report_fit\n",
    "\n",
    "def temp(xdata, A, kT):\n",
    "    return np.exp(-xdata/kT)*A\n",
    "\n",
    "def fitting(case, start, end):\n",
    "    gmod = Model(temp)\n",
    "    gmod.set_param_hint('kT', value=3, vary=True, min=1.0e-2, max=1.0e1)\n",
    "    gmod.set_param_hint('A', value=3.0, vary=True, min=1.0e-6, max=1.0e2)\n",
    "    pars = gmod.make_params()\n",
    "    result = gmod.fit(case[start:end], xdata=xx[start:end], method=fitmethod, nan_policy='omit')\n",
    "    print(result.fit_report())\n",
    "    print(\"kT: \", result.values['kT'])\n",
    "    print(\"Reduced chi square: \", result.redchi)\n",
    "    return result.best_fit, result.values['kT'], result.redchi"
   ]
  },
  {
   "cell_type": "code",
   "execution_count": 25,
   "id": "d1d12966-280c-4f56-be38-03fcd23d2390",
   "metadata": {},
   "outputs": [],
   "source": [
    "# get simulation data for electron\n",
    "\n",
    "simu_energy_e0 = np.array(S0.Screen(3, units=['mm','fs','MeV','cm^-3']).getAxis('ekin')) # MeV\n",
    "simu_dnde_e0   = np.array(S0.Screen(3, units=['mm','fs','MeV','cm^-3']).getData()[-1])   # simulation unit, will be adjusted to experiments\n",
    "\n",
    "ene = S0.Screen(3, units=['um','fs','MeV'],).getData()\n",
    "xx  = S0.Screen(3, units=['um','fs','MeV']).getAxis('ekin')\n",
    "tt  = S0.Screen(3, units=['um','fs','MeV']).getTimes()\n",
    "\n",
    "simu_energy_e1 = np.array(S1.Screen(3, units=['mm','fs','MeV','cm^-3']).getAxis('ekin')) # MeV\n",
    "simu_dnde_e1   = np.array(S1.Screen(3, units=['mm','fs','MeV','cm^-3']).getData()[-1])   # simulation unit, will be adjusted to experiments\n",
    "\n",
    "simu_energy_e2 = np.array(S2.Screen(3, units=['mm','fs','MeV','cm^-3']).getAxis('ekin')) # MeV\n",
    "simu_dnde_e2   = np.array(S2.Screen(3, units=['mm','fs','MeV','cm^-3']).getData()[-1])   # simulation unit, will be adjusted to experiments\n"
   ]
  },
  {
   "cell_type": "code",
   "execution_count": 26,
   "id": "327cdee7",
   "metadata": {},
   "outputs": [
    {
     "name": "stdout",
     "output_type": "stream",
     "text": [
      "[[Model]]\n",
      "    Model(temp)\n",
      "[[Fit Statistics]]\n",
      "    # fitting method   = leastsq\n",
      "    # function evals   = 28\n",
      "    # data points      = 75\n",
      "    # variables        = 2\n",
      "    chi-square         = 6.5104e-09\n",
      "    reduced chi-square = 8.9184e-11\n",
      "    Akaike info crit   = -1733.55135\n",
      "    Bayesian info crit = -1728.91637\n",
      "    R-squared          = 0.99797370\n",
      "[[Variables]]\n",
      "    A:   0.00420786 +/- 6.8334e-05 (1.62%) (init = 3)\n",
      "    kT:  5.34428460 +/- 0.03933769 (0.74%) (init = 3)\n",
      "[[Correlations]] (unreported correlations are < 0.100)\n",
      "    C(A, kT) = -0.9752\n",
      "kT:  5.344284597902917\n",
      "Reduced chi square:  8.91837176334148e-11\n"
     ]
    }
   ],
   "source": [
    "start_point = 35  # 5 MeV \n",
    "end_point = 110    # 24 MeV\n",
    "fitmethod =  'leastsq' #'leastsq' #'tnc' 'cg' 'differential_evolution'\n",
    "ttt = -1\n",
    "\n",
    "y_ndpm, kT_ndpm, redchi_ndpm = fitting(ene[ttt], start_point, end_point)"
   ]
  },
  {
   "cell_type": "code",
   "execution_count": 27,
   "id": "3e24c87d",
   "metadata": {},
   "outputs": [
    {
     "name": "stdout",
     "output_type": "stream",
     "text": [
      "[[Model]]\n",
      "    Model(temp)\n",
      "[[Fit Statistics]]\n",
      "    # fitting method   = leastsq\n",
      "    # function evals   = 95\n",
      "    # data points      = 230\n",
      "    # variables        = 2\n",
      "    chi-square         = 4.0081e-09\n",
      "    reduced chi-square = 1.7579e-11\n",
      "    Akaike info crit   = -5693.79904\n",
      "    Bayesian info crit = -5686.92288\n",
      "    R-squared          = 0.63065506\n",
      "[[Variables]]\n",
      "    A:   7.3183e-04 +/- 1.3467e-04 (18.40%) (init = 3)\n",
      "    kT: 10.00000000 +/- 0.14073377 (1.41%) (init = 3)\n",
      "[[Correlations]] (unreported correlations are < 0.100)\n",
      "    C(A, kT) = +0.9900\n",
      "kT:  9.999999999993008\n",
      "Reduced chi square:  1.7579184591901424e-11\n"
     ]
    }
   ],
   "source": [
    "start_point2 = 120  # 5 MeV \n",
    "end_point2 = 350    # 24 MeV\n",
    "fitmethod =  'leastsq' #'leastsq' #'tnc' 'cg' 'differential_evolution'\n",
    "ttt = -1\n",
    "\n",
    "y_ndpm2, kT_ndpm2, redchi_ndpm2 = fitting(ene[ttt], start_point2, end_point2)\n",
    "\n",
    "kt = 20\n",
    "yy = temp(xx[start_point2:end_point2], 1.2e-4, kt)"
   ]
  },
  {
   "cell_type": "code",
   "execution_count": 34,
   "id": "f3afb803",
   "metadata": {},
   "outputs": [
    {
     "data": {
      "image/png": "[encoded data removed]",
      "text/plain": [
       "<Figure size 314x232.88 with 1 Axes>"
      ]
     },
     "metadata": {},
     "output_type": "display_data"
    }
   ],
   "source": [
    "width  = 3.14 *1.0\n",
    "height = width / 1.618 * 1.2\n",
    "\n",
    "fig, ax = plt.subplots()\n",
    "fig.subplots_adjust(left=.15, bottom=.16, right=.99, top=.97)\n",
    "\n",
    "ax.semilogy(xx,ene[ttt]/ene[ttt].max(), color='r',lw=1.0,\n",
    "             linestyle='-',\n",
    "             label='Sim.',\n",
    "           )\n",
    "\n",
    "ax.semilogy(xx[start_point:end_point], y_ndpm/ene[ttt].max(), \n",
    "            '-.c', linewidth=2.0, markersize=6, \n",
    "            mfc='none',mew=1, \n",
    "            label='Fit {:.1f} MeV'.format(kT_ndpm))\n",
    "\n",
    "ax.semilogy(xx[start_point2:end_point2], yy/ene[ttt].max(), \n",
    "            '-.g', linewidth=2.0, markersize=6, \n",
    "            mfc='none',mew=1, \n",
    "            label='Fit {:.1f} MeV'.format(kt))\n",
    "\n",
    "\n",
    "ax.set_xlim([0,100])\n",
    "ax.set_ylim([1e-4,1e0])\n",
    "# ax.set_yticks([1, 1e-2, 1e-4])\n",
    "# plt.title('time = '+str(tt[ts])+' fs')\n",
    "# ax.grid(which='both',linestyle='--',alpha=0.5)\n",
    "ax.set_xlabel('Energy (MeV)')\n",
    "ax.set_ylabel('Normalized dN/dE')\n",
    "\n",
    "ax.legend(fancybox=False, frameon=False, fontsize=10)\n",
    "fig.set_size_inches(width, height)\n",
    "fig.tight_layout()\n",
    "\n",
    "# fig.savefig('/Users/yao/Desktop/spec_e.pdf',dpi=600)"
   ]
  },
  {
   "cell_type": "code",
   "execution_count": 35,
   "id": "956e6e3f",
   "metadata": {},
   "outputs": [],
   "source": [
    "fig.savefig('/Users/yao/Desktop/spec_e.pdf',dpi=600)"
   ]
  },
  {
   "cell_type": "code",
   "execution_count": 45,
   "id": "d0e7a7ce-aae0-469d-b9db-f37abe3c6387",
   "metadata": {},
   "outputs": [
    {
     "data": {
      "image/png": "[encoded data removed]",
      "text/plain": [
       "<Figure size 314x314 with 1 Axes>"
      ]
     },
     "metadata": {},
     "output_type": "display_data"
    }
   ],
   "source": [
    "# plot panel (b) with electron energy spectra\n",
    "\n",
    "width  = 3.14 *1.0\n",
    "height = width\n",
    "fig, ax = plt.subplots()\n",
    "\n",
    "plt.ticklabel_format(axis='both', style='sci',useMathText=True)\n",
    "\n",
    "fig.subplots_adjust(left=.2, bottom=.2, right=.9, top=.9)\n",
    "ax.set_yscale('log')\n",
    "\n",
    "ax.plot(simu_energy_e2,\n",
    "        simu_dnde_e2*2.3e+12, \n",
    "        label=\"Proj.: W\",\n",
    "        color='green',\n",
    "        linewidth=1,\n",
    "        linestyle=':')\n",
    "\n",
    "ax.plot(simu_energy_e1,\n",
    "        simu_dnde_e1*2.3e+12, \n",
    "        label=\"Proj.: Al\",\n",
    "        color='blue',\n",
    "        linewidth=1,\n",
    "        linestyle='--')\n",
    "\n",
    "ax.plot(simu_energy_e0,\n",
    "        simu_dnde_e0*2.3e+12, \n",
    "        label=\"Sim.\",\n",
    "        linewidth=1,\n",
    "        color='red')\n",
    "\n",
    "handles, labels = ax.get_legend_handles_labels()\n",
    "handles.reverse()\n",
    "labels.reverse()\n",
    "ax.legend(handles, labels, \n",
    "          fancybox=False, reverse=False, frameon=False\n",
    "         )\n",
    "\n",
    "ax.set_xlim([0,200])\n",
    "ax.set_ylim([1e6, 1e10])\n",
    "ax.set_xlabel('Electron energy (MeV)')\n",
    "# ax.set_ylabel(r'$d^2N/(dEd\\Omega (MeV^{-1}sr^{-1})$')\n",
    "ax.set_ylabel(r'dN/dE (Part./MeV)')\n",
    "\n",
    "fig.set_size_inches(width, height)\n",
    "fig.tight_layout()\n",
    "\n",
    "fig.savefig('/Users/yao/Desktop/spectra_electron2.pdf',dpi=600)"
   ]
  },
  {
   "cell_type": "code",
   "execution_count": 14,
   "id": "5d5855cb-1ce9-4092-8417-accdbb5af638",
   "metadata": {},
   "outputs": [
    {
     "data": {
      "text/plain": [
       "array([-280.2, -274.2, -262.2, -257.4, -249. , -241.8, -238.2, -237. ,\n",
       "       -235.8, -232.2, -230.4, -225. , -216.6, -209.4, -202.8, -195. ,\n",
       "       -192. , -187.8, -186. , -184.2, -180.6, -175.8, -173.4, -169.8,\n",
       "       -167.4, -164.4, -157.8, -153.6, -144.6, -135. , -129.6, -121.8,\n",
       "       -114.6, -102.6,  -90.6,  -85.8,  -82.2,  -78.6,  -75. ,  -69. ,\n",
       "        -61.8,  -57.6,  -54. ,  -51. ,  -45.6,  -37.8,  -31.2,  -25.8,\n",
       "        -22.8,  -18.6,  -14.4,  -10.2,   -4.8,    1.8,    4.2,    8.4,\n",
       "         12.6,   16.2,   18.6,   22.2,   25.8,   31.8,   46.2,   54.6,\n",
       "         60. ,   63.6,   66.6,   71.4,   78.6,   88.2,   94.2,  103.8,\n",
       "        118.2,  127.8,  132.6,  138.6,  145.8,  153.6,  163.8,  177. ,\n",
       "        187.8,  199.8,  210.6,  220.8,  237. ,  246.6,  255.6,  264.6,\n",
       "        270.6,  280.2])"
      ]
     },
     "execution_count": 14,
     "metadata": {},
     "output_type": "execute_result"
    }
   ],
   "source": [
    "np.loadtxt('/Users/yao/Desktop/wizzler_data_time_profile_log.txt',delimiter=',',usecols=0)"
   ]
  },
  {
   "cell_type": "code",
   "execution_count": 15,
   "id": "94437bf7-6230-4ab7-bbf5-6c50424cdfbf",
   "metadata": {},
   "outputs": [],
   "source": [
    "axis_time = np.loadtxt('/Users/yao/Desktop/wizzler_data_time_profile_log.txt',delimiter=',',usecols=0)\n",
    "axis_ampl = np.loadtxt('/Users/yao/Desktop/wizzler_data_time_profile_log.txt',delimiter=',',usecols=1)"
   ]
  },
  {
   "cell_type": "code",
   "execution_count": 35,
   "id": "6974c6d4-c0cb-436b-9850-d3707ee7dded",
   "metadata": {},
   "outputs": [
    {
     "data": {
      "image/png": "[encoded data removed]",
      "text/plain": [
       "<Figure size 348.7x215.513 with 1 Axes>"
      ]
     },
     "metadata": {},
     "output_type": "display_data"
    }
   ],
   "source": [
    "width  = 3.487 * 1.0\n",
    "height = width / 1.618 * 1.0\n",
    "\n",
    "fig, ax = plt.subplots()\n",
    "fig.subplots_adjust(left=.15, bottom=.16, right=.99, top=.97)\n",
    "\n",
    "ax.semilogy(axis_time, axis_ampl)\n",
    "\n",
    "ax.set_xlim([-300,300])\n",
    "# ax.set_xticks([-250, -200, -150, -100, -50, 0, 50, 100, 150, 200, 250])\n",
    "# ax.set_xticklabels([-250, -150,  -50,  50,  150,  250])\n",
    "ax.set_ylim([1e-5,1])\n",
    "ax.grid(linestyle='--',alpha=0.5)\n",
    "ax.set_xlabel('Time (fs)')\n",
    "ax.set_ylabel('Intensity (a.u.)')\n",
    "# ax.legend()\n",
    "fig.set_size_inches(width, height)\n",
    "fig.tight_layout()\n",
    "\n",
    "# plt.show()\n",
    "plt.savefig('/Users/yao/Desktop/wizzler.pdf',dpi=600) # 保存文件"
   ]
  },
  {
   "cell_type": "code",
   "execution_count": 38,
   "id": "dfb7dda0-8840-41cc-9f96-6bf36714aac1",
   "metadata": {},
   "outputs": [],
   "source": [
    "axis_wl = np.loadtxt('/Users/yao/Desktop/wizzler_data_spectra_profile.txt',delimiter=',',usecols=0)\n",
    "axis_ampl = np.loadtxt('/Users/yao/Desktop/wizzler_data_spectra_profile.txt',delimiter=',',usecols=1)"
   ]
  },
  {
   "cell_type": "code",
   "execution_count": 43,
   "id": "8b7beb0f-ecdb-43c4-9246-f438e7c7b470",
   "metadata": {},
   "outputs": [
    {
     "data": {
      "image/png": "[encoded data removed]",
      "text/plain": [
       "<Figure size 348.7x215.513 with 1 Axes>"
      ]
     },
     "metadata": {},
     "output_type": "display_data"
    }
   ],
   "source": [
    "width  = 3.487 * 1.0\n",
    "height = width / 1.618 * 1.0\n",
    "\n",
    "fig, ax = plt.subplots()\n",
    "fig.subplots_adjust(left=.15, bottom=.16, right=.99, top=.97)\n",
    "\n",
    "ax.plot(axis_wl, axis_ampl)\n",
    "\n",
    "ax.set_xlim([700,900])\n",
    "# ax.set_xticks([-250, -200, -150, -100, -50, 0, 50, 100, 150, 200, 250])\n",
    "# ax.set_xticklabels([-250, -150,  -50,  50,  150,  250])\n",
    "ax.set_ylim([0,1])\n",
    "ax.grid(linestyle='--',alpha=0.5)\n",
    "ax.set_xlabel('Wavelength (nm)')\n",
    "ax.set_ylabel('Spectrum')\n",
    "# ax.legend()\n",
    "fig.set_size_inches(width, height)\n",
    "fig.tight_layout()\n",
    "\n",
    "# plt.show()\n",
    "plt.savefig('/Users/yao/Desktop/wizzler_spec.pdf',dpi=600) # 保存文件"
   ]
  },
  {
   "cell_type": "code",
   "execution_count": 10,
   "id": "9d0a2177-217e-43f0-be6c-a4b94d0319c5",
   "metadata": {},
   "outputs": [
    {
     "name": "stdout",
     "output_type": "stream",
     "text": [
      "WARNING: units unknown: 1 / ( 1 )\n",
      "WARNING: units unknown: 1 / ( 1 )\n",
      "WARNING: units unknown: 1 / ( 1 )\n",
      "WARNING: units unknown: 1 / ( 1 )\n",
      "WARNING: units unknown: 1 / ( 1 )\n",
      "WARNING: units unknown: 1 / ( 1 )\n",
      "WARNING: units unknown: 1 / ( 1 )\n",
      "WARNING: units unknown: 1 / ( 1 )\n",
      "WARNING: units unknown: 1 / ( 1 )\n"
     ]
    }
   ],
   "source": [
    "# get (and calculate) simulation data for photon from inverse compton scattering (ICS)\n",
    "\n",
    "def get_calc_photon_spectrum(case):\n",
    "    P_rad      = np.array(case.RadiationSpectrum(1).getData())\n",
    "    dgamma     = np.array(case.RadiationSpectrum(1).getAxis('gamma'))\n",
    "    ene_photon = dgamma*0.511 # [MeV]\n",
    "\n",
    "    Lx         = case.namelist.Lsim[0]\n",
    "    Ly         = case.namelist.Lsim[1]\n",
    "    Prad_unit  = 5.11e5 * 1.6e-19 * 3e10 * 1.1e21 / 0.8 / 6.28 * 1e-4 * 1e-4 # J/s/um [the last 1e-4 is cm->um]\n",
    "\n",
    "    P_rad_time = np.array(case.RadiationSpectrum(1,units=['s']).getTimes())\n",
    "    P_rad_dt   = P_rad_time[1] - P_rad_time[0] # s\n",
    "\n",
    "    U_rad      = np.sum(P_rad,axis=0)*Lx*Ly*Prad_unit/0.511*P_rad_dt\n",
    "\n",
    "    U_rad_dg   = np.gradient(U_rad, ene_photon)\n",
    "\n",
    "    return ene_photon, U_rad, U_rad_dg\n",
    "\n",
    "ene_photon0, U_rad0, U_rad_dg0 = get_calc_photon_spectrum(S0)\n",
    "ene_photon1, U_rad1, U_rad_dg1 = get_calc_photon_spectrum(S1)\n",
    "ene_photon2, U_rad2, U_rad_dg2 = get_calc_photon_spectrum(S2)\n",
    "# ene_photon3, U_rad3, U_rad_dg3 = get_calc_photon_spectrum(S3)"
   ]
  },
  {
   "cell_type": "code",
   "execution_count": 11,
   "id": "be4bce97",
   "metadata": {},
   "outputs": [],
   "source": [
    "# get theoretical estimate data for photon from Bremstrahlung (Bre)\n",
    "\n",
    "# the available case (40 J, a0=50, with Al target, Z=3)\n",
    "# brems0 = np.loadtxt('/Users/yao/Nextcloud/PROJECTS/Apollon/LIOR_2025/ICS_vs_Brems/Bremsstrahlung_Energy_Spectra_a50_Al.txt',skiprows=1)\n",
    "brems0 = np.loadtxt('/Users/yao/Nextcloud/PROJECTS/Apollon/LIOR_2025/ICS_vs_Brems/Brem_Al_3_a50.txt',skiprows=1)\n",
    "\n",
    "# the promised case (140 J, a0=100, with Al target, Z=3)\n",
    "# brems1 = np.loadtxt('/Users/yao/Nextcloud/PROJECTS/Apollon/LIOR_2025/ICS_vs_Brems/Bremsstrahlung_Energy_Spectrum_a100_Al.txt',skiprows=1)\n",
    "brems1 = np.loadtxt('/Users/yao/Nextcloud/PROJECTS/Apollon/LIOR_2025/ICS_vs_Brems/Brem_Al_3_a100.txt',skiprows=1)\n",
    "\n",
    "# the promised case (140 J, a0=100, with W target, Z=14)\n",
    "brems2 = np.loadtxt('/Users/yao/Nextcloud/PROJECTS/Apollon/LIOR_2025/ICS_vs_Brems/Brem_W_14_a100.txt',skiprows=1)"
   ]
  },
  {
   "cell_type": "code",
   "execution_count": 12,
   "id": "b0784190",
   "metadata": {},
   "outputs": [],
   "source": [
    "# to have a sum of the ICS and the Brems, we need to do interpolation\n",
    "\n",
    "from scipy.interpolate import interp1d\n",
    "\n",
    "common_energy = np.linspace(0.1, 100, 1000)  # 1000 points from 0.1 MeV to 100 MeV\n",
    "\n",
    "interp_spectrum_ICS2 = interp1d(ene_photon2, U_rad2*3,      kind='cubic', fill_value=\"extrapolate\")\n",
    "interp_spectrum_Bre2 = interp1d(brems2[:,0], brems2[:,1]*3, kind='cubic', fill_value=\"extrapolate\")\n",
    "\n",
    "common_spectrum_ICS2 = interp_spectrum_ICS2(common_energy)\n",
    "common_spectrum_ICS2[common_spectrum_ICS2<0] = 0\n",
    "common_spectrum_Bre2 = interp_spectrum_Bre2(common_energy)\n",
    "common_spectrum_Bre2[common_spectrum_Bre2<0] = 0\n",
    "\n",
    "interp_spectrum_ICS1 = interp1d(ene_photon1, U_rad1*3,      kind='cubic', fill_value=\"extrapolate\")\n",
    "interp_spectrum_Bre1 = interp1d(brems1[:,0], brems1[:,1]*3, kind='cubic', fill_value=\"extrapolate\")\n",
    "\n",
    "common_spectrum_ICS1 = interp_spectrum_ICS1(common_energy)\n",
    "common_spectrum_ICS1[common_spectrum_ICS1<0] = 0\n",
    "common_spectrum_Bre1 = interp_spectrum_Bre1(common_energy)\n",
    "common_spectrum_Bre1[common_spectrum_Bre1<0] = 0\n",
    "\n",
    "\n",
    "interp_spectrum_ICS0 = interp1d(ene_photon0, U_rad0*3,      kind='cubic', fill_value=\"extrapolate\")\n",
    "interp_spectrum_Bre0 = interp1d(brems0[:,0], brems0[:,1]*3, kind='cubic', fill_value=\"extrapolate\")\n",
    "\n",
    "common_spectrum_ICS0 = interp_spectrum_ICS0(common_energy)\n",
    "common_spectrum_ICS0[common_spectrum_ICS0<0] = 0\n",
    "common_spectrum_Bre0 = interp_spectrum_Bre0(common_energy)\n",
    "common_spectrum_Bre0[common_spectrum_Bre0<0] = 0\n",
    "\n",
    "total_spectrum_2 = common_spectrum_ICS2 + common_spectrum_Bre2\n",
    "total_spectrum_1 = common_spectrum_ICS1 + common_spectrum_Bre1\n",
    "total_spectrum_0 = common_spectrum_ICS0 + common_spectrum_Bre0\n"
   ]
  },
  {
   "cell_type": "code",
   "execution_count": 13,
   "id": "04de95dd",
   "metadata": {},
   "outputs": [],
   "source": [
    "# plot photon energy spectra\n",
    "\n",
    "width  = 3.14 *1.0\n",
    "height = width / 1.618 * 1.2\n",
    "fig, ax = plt.subplots()\n",
    "\n",
    "plt.ticklabel_format(axis='both', style='sci',useMathText=True)\n",
    "\n",
    "fig.subplots_adjust(left=.2, bottom=.2, right=.9, top=.9)\n",
    "ax.set_yscale('log')\n",
    "ax.set_xscale('log')\n",
    "\n",
    "\n",
    "ax.plot(common_energy,\n",
    "        total_spectrum_0, \n",
    "        label=\"Total\",\n",
    "        # label=r\"$a_0=100$: Brems.\",\n",
    "        linestyle='-',\n",
    "        linewidth=2.0,\n",
    "        color='red')\n",
    "\n",
    "ax.plot(common_energy,\n",
    "        common_spectrum_Bre0,  \n",
    "        label=\"Brems.\",\n",
    "        # label=r\"$a_0=50$: Brems.\",\n",
    "        linestyle=':',\n",
    "        linewidth=2.0,\n",
    "        color='blue')\n",
    "\n",
    "ax.plot(common_energy,\n",
    "        common_spectrum_ICS0, \n",
    "        label=\"EM\",\n",
    "        linestyle='--',\n",
    "        linewidth=2.0,\n",
    "        # label=r\"$a_0=50$: ICS\",\n",
    "        color='green')\n",
    "\n",
    "# handles, labels = ax.get_legend_handles_labels()\n",
    "# handles.reverse()\n",
    "# labels.reverse()\n",
    "ax.legend(\n",
    "#     handles, labels, \n",
    "          fancybox=False, reverse=False, frameon=False, fontsize=9,\n",
    "          loc='upper right',\n",
    "         )\n",
    "\n",
    "ax.set_xlim([0.1, 100])\n",
    "ax.set_ylim([1e-3,1])\n",
    "ax.set_xlabel(r'Photon Energy $\\varepsilon_{\\gamma}$ (MeV)')\n",
    "ax.set_ylabel(r'dU/d$\\varepsilon_{\\gamma}$ (J/MeV)')\n",
    "\n",
    "fig.set_size_inches(width, height)\n",
    "fig.tight_layout()\n",
    "\n",
    "# fig.savefig('/Users/yao/Desktop/spectra_photon.pdf',dpi=600)\n"
   ]
  },
  {
   "cell_type": "code",
   "execution_count": 46,
   "id": "57edba71",
   "metadata": {},
   "outputs": [],
   "source": [
    "fig.savefig('/Users/yao/Desktop/spectra_photon.pdf',dpi=600)"
   ]
  },
  {
   "cell_type": "code",
   "execution_count": 18,
   "id": "0caa2fb8",
   "metadata": {},
   "outputs": [],
   "source": [
    "# extract the data\n",
    "\n",
    "np.savetxt('/Users/yao/Desktop/energy_axis.txt',common_energy)\n",
    "np.savetxt('/Users/yao/Desktop/dUdE_EM.txt',common_spectrum_ICS0) \n",
    "np.savetxt('/Users/yao/Desktop/dUdE_Brems.txt',common_spectrum_Bre0) \n",
    "\n"
   ]
  },
  {
   "cell_type": "code",
   "execution_count": 17,
   "id": "b3ead6d5",
   "metadata": {},
   "outputs": [
    {
     "data": {
      "text/plain": [
       "(0.001, 1)"
      ]
     },
     "execution_count": 17,
     "metadata": {},
     "output_type": "execute_result"
    }
   ],
   "source": [
    "plt.loglog(common_energy,common_spectrum_ICS0)\n",
    "plt.xlim([0.1, 100])\n",
    "plt.ylim([1e-3,1])"
   ]
  },
  {
   "cell_type": "code",
   "execution_count": 57,
   "id": "89449be6",
   "metadata": {},
   "outputs": [
    {
     "data": {
      "image/png": "[encoded data removed]",
      "text/plain": [
       "<Figure size 314x314 with 1 Axes>"
      ]
     },
     "metadata": {},
     "output_type": "display_data"
    }
   ],
   "source": [
    "# plot panel (c) with photon energy spectra\n",
    "\n",
    "width  = 3.14 *1.0\n",
    "height = width\n",
    "fig, ax = plt.subplots()\n",
    "\n",
    "plt.ticklabel_format(axis='both', style='sci',useMathText=True)\n",
    "\n",
    "fig.subplots_adjust(left=.2, bottom=.2, right=.9, top=.9)\n",
    "ax.set_yscale('log')\n",
    "ax.set_xscale('log')\n",
    "\n",
    "ax.plot(common_energy,\n",
    "        total_spectrum_2, \n",
    "        label=\"W: Total\",\n",
    "        # label=r\"$a_0=100$: Brems.\",\n",
    "        linestyle='-',\n",
    "        linewidth=1.0,\n",
    "        color='green')\n",
    "\n",
    "ax.plot(common_energy,\n",
    "        common_spectrum_Bre2,  \n",
    "        label=\"W: Brems\",\n",
    "        linewidth=1.0,\n",
    "        # label=r\"$a_0=50$: Brems.\",\n",
    "        linestyle=':',\n",
    "        color='green')\n",
    "\n",
    "ax.plot(common_energy,\n",
    "        common_spectrum_ICS2, \n",
    "        linewidth=1.0,\n",
    "        label=\"W: EM\",\n",
    "        linestyle='--',\n",
    "        # label=r\"$a_0=50$: ICS\",\n",
    "        color='green')\n",
    "\n",
    "ax.plot(common_energy,\n",
    "        total_spectrum_1, \n",
    "        label=\"Al: Total\",\n",
    "        # label=r\"$a_0=100$: Brems.\",\n",
    "        linestyle='-',\n",
    "        linewidth=1.0,\n",
    "        color='blue')\n",
    "\n",
    "ax.plot(common_energy,\n",
    "        common_spectrum_Bre1, \n",
    "        label=\"Al: Brems\",\n",
    "        linewidth=1.0,\n",
    "        # label=r\"$a_0=100$: Brems.\",\n",
    "        linestyle=':',\n",
    "        color='blue')\n",
    "\n",
    "ax.plot(common_energy,\n",
    "        common_spectrum_ICS1, \n",
    "        linewidth=1.0,\n",
    "        label=\"Al: EM\",\n",
    "        # label=r\"$a_0=100$: ICS\",\n",
    "        color='blue',\n",
    "        linestyle='--')\n",
    "\n",
    "# ax.plot(common_energy,\n",
    "#         total_spectrum_0, \n",
    "#         label=\"Avail. (Al): Total\",\n",
    "#         # label=r\"$a_0=100$: Brems.\",\n",
    "#         linestyle='-',\n",
    "#         linewidth=3.0,\n",
    "#         color='red')\n",
    "\n",
    "# ax.plot(common_energy,\n",
    "#         common_spectrum_Bre0,  \n",
    "#         label=\"Avail. (Al): Brems\",\n",
    "#         # label=r\"$a_0=50$: Brems.\",\n",
    "#         linestyle=':',\n",
    "#         color='red')\n",
    "\n",
    "# ax.plot(common_energy,\n",
    "#         common_spectrum_ICS0, \n",
    "#         label=\"Avail. (Al): EM\",\n",
    "#         linestyle='--',\n",
    "#         # label=r\"$a_0=50$: ICS\",\n",
    "#         color='red')\n",
    "\n",
    "handles, labels = ax.get_legend_handles_labels()\n",
    "handles.reverse()\n",
    "labels.reverse()\n",
    "ax.legend(handles, labels, \n",
    "          fancybox=False, reverse=False, frameon=False, fontsize=8\n",
    "         )\n",
    "\n",
    "ax.set_xlim([0.1, 100])\n",
    "ax.set_ylim([2e-3,20])\n",
    "ax.set_xlabel(r'Photon Energy $\\varepsilon_{\\gamma}$ (MeV)')\n",
    "ax.set_ylabel(r'dU/d$\\varepsilon_{\\gamma}$ (J/MeV)')\n",
    "\n",
    "fig.set_size_inches(width, height)\n",
    "fig.tight_layout()\n",
    "\n",
    "fig.savefig('/Users/yao/Desktop/spectra_photon_pros.pdf',dpi=600)\n"
   ]
  },
  {
   "cell_type": "code",
   "execution_count": 6,
   "id": "5b84a81d",
   "metadata": {},
   "outputs": [],
   "source": [
    "import happi"
   ]
  },
  {
   "cell_type": "code",
   "execution_count": 5,
   "id": "05ec0aeb",
   "metadata": {},
   "outputs": [
    {
     "name": "stdout",
     "output_type": "stream",
     "text": [
      "Loaded simulation '/Users/yao/Desktop/Data/x9/'\n",
      "Scanning for Scalar diagnostics\n",
      "Scanning for Field diagnostics\n",
      "Scanning for Probe diagnostics\n",
      "Scanning for ParticleBinning diagnostics\n",
      "Scanning for RadiationSpectrum diagnostics\n",
      "Scanning for Performance diagnostics\n",
      "Scanning for Screen diagnostics\n",
      "Scanning for Tracked particle diagnostics\n",
      "Scanning for new particle diagnostics\n"
     ]
    }
   ],
   "source": [
    "wkdir = [\n",
    "        '/Users/yao/Desktop/Data/x9/', # electron spatial distribution right at the target rear side\n",
    "        ]\n",
    "\n",
    "S0 = happi.Open(wkdir[0], reference_angular_frequency_SI = 2.*np.pi*3e8/0.8e-6)"
   ]
  },
  {
   "cell_type": "code",
   "execution_count": 8,
   "id": "91de2a5c",
   "metadata": {},
   "outputs": [],
   "source": [
    "eon_y = np.array(S0.Screen(6,units=['fs','um','cm^-3','MeV'],sum={'ekin':'all'}).getData()[-1])\n",
    "axis_y = np.array(S0.Screen(6,units=['fs','um','cm^-3','MeV'],sum={'ekin':'all'}).getAxis('y'))"
   ]
  },
  {
   "cell_type": "code",
   "execution_count": 17,
   "id": "347e8003",
   "metadata": {},
   "outputs": [],
   "source": [
    "# plot photon energy spectra\n",
    "\n",
    "width  = 3.14 *1.2\n",
    "height = width / 1.618 * 1.2\n",
    "fig, ax = plt.subplots()\n",
    "\n",
    "plt.ticklabel_format(axis='both', style='sci',useMathText=True)\n",
    "\n",
    "fig.subplots_adjust(left=.2, bottom=.2, right=.9, top=.9)\n",
    "# ax.set_yscale('log')\n",
    "# ax.set_xscale('log')\n",
    "\n",
    "\n",
    "ax.plot(axis_y,\n",
    "        eon_y, \n",
    "        # label=\"Total\",\n",
    "        # label=r\"$a_0=100$: Brems.\",\n",
    "        linestyle='-',\n",
    "        linewidth=1.0,\n",
    "        color='black')\n",
    "\n",
    "ax.grid(which='major',linestyle='--',alpha=0.5)\n",
    "# handles, labels = ax.get_legend_handles_labels()\n",
    "# handles.reverse()\n",
    "# labels.reverse()\n",
    "# ax.legend(\n",
    "#     handles, labels, \n",
    "        #   fancybox=False, reverse=False, frameon=False, fontsize=9,\n",
    "        #   loc='upper right',\n",
    "        #  )\n",
    "\n",
    "ax.set_xlim([0, 40])\n",
    "ax.set_ylim([6e20,1.6e21])\n",
    "ax.set_xlabel(r'y ($\\mu$m)')\n",
    "ax.set_ylabel(r'$n_e$ (cm$^{-3}$)')\n",
    "\n",
    "fig.set_size_inches(width, height)\n",
    "fig.tight_layout()\n",
    "\n",
    "fig.savefig('/Users/yao/Desktop/eon_y.pdf',dpi=600)\n"
   ]
  },
  {
   "cell_type": "code",
   "execution_count": 1,
   "id": "4f3b2849",
   "metadata": {},
   "outputs": [
    {
     "ename": "NameError",
     "evalue": "name 'S0' is not defined",
     "output_type": "error",
     "traceback": [
      "\u001b[0;31m---------------------------------------------------------------------------\u001b[0m",
      "\u001b[0;31mNameError\u001b[0m                                 Traceback (most recent call last)",
      "Cell \u001b[0;32mIn[1], line 1\u001b[0m\n\u001b[0;32m----> 1\u001b[0m \u001b[43mS0\u001b[49m\u001b[38;5;241m.\u001b[39mScreen(\u001b[38;5;241m6\u001b[39m,units\u001b[38;5;241m=\u001b[39m[\u001b[38;5;124m'\u001b[39m\u001b[38;5;124mfs\u001b[39m\u001b[38;5;124m'\u001b[39m,\u001b[38;5;124m'\u001b[39m\u001b[38;5;124mum\u001b[39m\u001b[38;5;124m'\u001b[39m,\u001b[38;5;124m'\u001b[39m\u001b[38;5;124mcm^-3\u001b[39m\u001b[38;5;124m'\u001b[39m,\u001b[38;5;124m'\u001b[39m\u001b[38;5;124mMeV\u001b[39m\u001b[38;5;124m'\u001b[39m],\n\u001b[1;32m      2\u001b[0m         \u001b[38;5;66;03m#   data_log=True,\u001b[39;00m\n\u001b[1;32m      3\u001b[0m         \u001b[38;5;66;03m#   vmin=-6,\u001b[39;00m\n\u001b[1;32m      4\u001b[0m         \u001b[38;5;66;03m#   vmax=1,\u001b[39;00m\n\u001b[1;32m      5\u001b[0m           cmap\u001b[38;5;241m=\u001b[39mnewcmap,\n\u001b[1;32m      6\u001b[0m           \u001b[38;5;28msum\u001b[39m\u001b[38;5;241m=\u001b[39m{\u001b[38;5;124m'\u001b[39m\u001b[38;5;124mekin\u001b[39m\u001b[38;5;124m'\u001b[39m:\u001b[38;5;124m'\u001b[39m\u001b[38;5;124mall\u001b[39m\u001b[38;5;124m'\u001b[39m},\n\u001b[1;32m      7\u001b[0m         \u001b[38;5;66;03m#   xmin=0,\u001b[39;00m\n\u001b[1;32m      8\u001b[0m         \u001b[38;5;66;03m#   xmax=200,\u001b[39;00m\n\u001b[1;32m      9\u001b[0m           )\u001b[38;5;241m.\u001b[39mplot()\n",
      "\u001b[0;31mNameError\u001b[0m: name 'S0' is not defined"
     ]
    }
   ],
   "source": [
    "S0.Screen(6,units=['fs','um','cm^-3','MeV'],\n",
    "        #   data_log=True,\n",
    "        #   vmin=-6,\n",
    "        #   vmax=1,\n",
    "          cmap=newcmap,\n",
    "          sum={'ekin':'all'},\n",
    "        #   xmin=0,\n",
    "        #   xmax=200,\n",
    "          ).plot()"
   ]
  },
  {
   "cell_type": "code",
   "execution_count": 7,
   "id": "0fbe0207",
   "metadata": {},
   "outputs": [
    {
     "data": {
      "text/plain": [
       "array([6.65685888e+20, 6.66614937e+20, 6.74653022e+20, 7.05028012e+20,\n",
       "       7.18238263e+20, 7.19704927e+20, 7.30781637e+20, 7.37583274e+20,\n",
       "       7.31544790e+20, 7.43514200e+20, 7.55684191e+20, 7.55330694e+20,\n",
       "       7.46115183e+20, 7.42350230e+20, 7.45367022e+20, 7.73630097e+20,\n",
       "       7.94821493e+20, 8.02280204e+20, 8.15376098e+20, 8.26883183e+20,\n",
       "       8.29873626e+20, 8.33568828e+20, 8.33049452e+20, 8.40412422e+20,\n",
       "       8.70484618e+20, 8.60391387e+20, 8.49427194e+20, 8.42164059e+20,\n",
       "       8.17287983e+20, 8.26808380e+20, 8.21246994e+20, 8.42118512e+20,\n",
       "       8.45501345e+20, 8.46645218e+20, 8.48276739e+20, 8.71287380e+20,\n",
       "       8.86687305e+20, 8.58700150e+20, 8.53717097e+20, 8.60056465e+20,\n",
       "       8.72124085e+20, 8.60264001e+20, 8.71301083e+20, 8.86353944e+20,\n",
       "       8.89275036e+20, 8.93848262e+20, 8.99281052e+20, 9.12601027e+20,\n",
       "       9.19680777e+20, 9.17447016e+20, 9.11062620e+20, 9.06999652e+20,\n",
       "       8.72378135e+20, 8.51081171e+20, 8.39202346e+20, 8.18673898e+20,\n",
       "       8.24577622e+20, 8.52843674e+20, 8.85753676e+20, 8.76988910e+20,\n",
       "       8.56021280e+20, 8.67586287e+20, 8.89483826e+20, 8.92755256e+20,\n",
       "       8.81896618e+20, 8.75969130e+20, 8.89612160e+20, 9.11315398e+20,\n",
       "       9.21766592e+20, 9.08317784e+20, 8.83280967e+20, 9.00541289e+20,\n",
       "       9.23435561e+20, 9.20579371e+20, 9.12839897e+20, 9.39828397e+20,\n",
       "       9.62338689e+20, 9.66949582e+20, 9.50086302e+20, 9.34184330e+20,\n",
       "       9.28403907e+20, 9.43534280e+20, 9.42572877e+20, 9.41298463e+20,\n",
       "       9.28226340e+20, 9.29653773e+20, 9.25504928e+20, 9.09077090e+20,\n",
       "       8.95790601e+20, 8.96245289e+20, 9.19116012e+20, 9.32431429e+20,\n",
       "       9.52296414e+20, 9.59604638e+20, 9.56490980e+20, 9.56252700e+20,\n",
       "       9.53934067e+20, 9.67964507e+20, 9.75851219e+20, 9.85120543e+20,\n",
       "       9.95274225e+20, 9.97767006e+20, 1.00740096e+21, 9.99306420e+20,\n",
       "       9.96423782e+20, 9.91414274e+20, 9.90587338e+20, 9.77746378e+20,\n",
       "       9.59470055e+20, 9.88415638e+20, 1.00746913e+21, 1.00562768e+21,\n",
       "       1.01981582e+21, 1.03631398e+21, 1.03913904e+21, 1.03253001e+21,\n",
       "       1.04660843e+21, 1.03420103e+21, 1.03638629e+21, 1.03576451e+21,\n",
       "       1.03874366e+21, 1.05212784e+21, 1.08644687e+21, 1.10681274e+21,\n",
       "       1.08024963e+21, 1.07792816e+21, 1.06952742e+21, 1.06895845e+21,\n",
       "       1.11414706e+21, 1.14478384e+21, 1.13271523e+21, 1.12482729e+21,\n",
       "       1.13810365e+21, 1.09861394e+21, 1.10126667e+21, 1.11602514e+21,\n",
       "       1.13999559e+21, 1.11206619e+21, 1.11083067e+21, 1.10884016e+21,\n",
       "       1.11284900e+21, 1.11885391e+21, 1.13402842e+21, 1.14277803e+21,\n",
       "       1.17725230e+21, 1.18679295e+21, 1.20106900e+21, 1.18663303e+21,\n",
       "       1.17409595e+21, 1.16685896e+21, 1.15702374e+21, 1.15174584e+21,\n",
       "       1.17032875e+21, 1.18771003e+21, 1.18649553e+21, 1.19677809e+21,\n",
       "       1.20782881e+21, 1.23246867e+21, 1.24879973e+21, 1.25450944e+21,\n",
       "       1.24390928e+21, 1.24171276e+21, 1.24456008e+21, 1.26848148e+21,\n",
       "       1.26232907e+21, 1.28027163e+21, 1.28235404e+21, 1.27730184e+21,\n",
       "       1.30502890e+21, 1.31210533e+21, 1.32051241e+21, 1.31434360e+21,\n",
       "       1.33099463e+21, 1.32922095e+21, 1.34864027e+21, 1.34424767e+21,\n",
       "       1.35511977e+21, 1.37069111e+21, 1.38561657e+21, 1.37625359e+21,\n",
       "       1.38705604e+21, 1.38980235e+21, 1.39413049e+21, 1.40287856e+21,\n",
       "       1.40743406e+21, 1.41122002e+21, 1.41031393e+21, 1.41086567e+21,\n",
       "       1.40724247e+21, 1.40630123e+21, 1.42080227e+21, 1.41686798e+21,\n",
       "       1.40826664e+21, 1.39955163e+21, 1.40114096e+21, 1.40171894e+21,\n",
       "       1.39681324e+21, 1.40451064e+21, 1.39524099e+21, 1.39779494e+21,\n",
       "       1.39125487e+21, 1.38689154e+21, 1.39074533e+21, 1.38689905e+21,\n",
       "       1.38510086e+21, 1.40939601e+21, 1.40295447e+21, 1.39658961e+21,\n",
       "       1.40071147e+21, 1.41362647e+21, 1.40816527e+21, 1.41578689e+21,\n",
       "       1.42010334e+21, 1.39485080e+21, 1.42271199e+21, 1.41536632e+21,\n",
       "       1.41074499e+21, 1.42421802e+21, 1.43587597e+21, 1.42623927e+21,\n",
       "       1.43186162e+21, 1.44679142e+21, 1.44563113e+21, 1.41548079e+21,\n",
       "       1.40148158e+21, 1.40873189e+21, 1.39716630e+21, 1.39537842e+21,\n",
       "       1.41698799e+21, 1.43711881e+21, 1.43386956e+21, 1.42389961e+21,\n",
       "       1.42435690e+21, 1.41878397e+21, 1.42967448e+21, 1.41778725e+21,\n",
       "       1.42432243e+21, 1.43540063e+21, 1.43227752e+21, 1.42833254e+21,\n",
       "       1.42777960e+21, 1.43581786e+21, 1.45041164e+21, 1.46288867e+21,\n",
       "       1.45850024e+21, 1.49318599e+21, 1.49591268e+21, 1.49503846e+21,\n",
       "       1.51017773e+21, 1.50861733e+21, 1.52310322e+21, 1.53274548e+21,\n",
       "       1.50835016e+21, 1.52658939e+21, 1.52384930e+21, 1.53803729e+21,\n",
       "       1.54537441e+21, 1.54507661e+21, 1.52405423e+21, 1.54050140e+21,\n",
       "       1.55833246e+21, 1.56791776e+21, 1.56623635e+21, 1.57960637e+21,\n",
       "       1.58880313e+21, 1.59614430e+21, 1.57029658e+21, 1.57632003e+21,\n",
       "       1.56419370e+21, 1.54707985e+21, 1.54777139e+21, 1.52088637e+21,\n",
       "       1.52454411e+21, 1.51752287e+21, 1.50724531e+21, 1.51037773e+21,\n",
       "       1.51073154e+21, 1.50962192e+21, 1.50340003e+21, 1.50136611e+21,\n",
       "       1.47878202e+21, 1.48223314e+21, 1.47779497e+21, 1.47953706e+21,\n",
       "       1.47811100e+21, 1.45435106e+21, 1.45828402e+21, 1.44980515e+21,\n",
       "       1.44364245e+21, 1.42309272e+21, 1.41625937e+21, 1.39244442e+21,\n",
       "       1.39959074e+21, 1.40475570e+21, 1.39649352e+21, 1.38431663e+21,\n",
       "       1.37257764e+21, 1.38193169e+21, 1.36830845e+21, 1.37996412e+21,\n",
       "       1.37641492e+21, 1.40555620e+21, 1.41586815e+21, 1.41804614e+21,\n",
       "       1.41720503e+21, 1.40398113e+21, 1.34551967e+21, 1.32761665e+21,\n",
       "       1.31731597e+21, 1.28399633e+21, 1.27625331e+21, 1.27352314e+21,\n",
       "       1.26695731e+21, 1.29823247e+21, 1.31665274e+21, 1.32100993e+21,\n",
       "       1.27496779e+21, 1.28528070e+21, 1.27630418e+21, 1.29164024e+21,\n",
       "       1.25848652e+21, 1.28761042e+21, 1.30812091e+21, 1.32963371e+21,\n",
       "       1.32109448e+21, 1.27174361e+21, 1.22972277e+21, 1.20057850e+21,\n",
       "       1.20638597e+21, 1.20413241e+21, 1.23184967e+21, 1.28223820e+21,\n",
       "       1.27485627e+21, 1.21781517e+21, 1.19946744e+21, 1.21981231e+21,\n",
       "       1.27175892e+21, 1.22903346e+21, 1.14280753e+21, 1.16266321e+21,\n",
       "       1.18306131e+21, 1.18158278e+21, 1.18890661e+21, 1.14446509e+21,\n",
       "       1.13862342e+21, 1.13267405e+21, 1.12751413e+21, 1.12776638e+21,\n",
       "       1.07804354e+21, 1.09137228e+21, 1.12295287e+21, 1.10591391e+21,\n",
       "       1.16103944e+21, 1.16982353e+21, 1.12435038e+21, 1.08024709e+21,\n",
       "       1.02931280e+21, 1.00613509e+21, 1.02058227e+21, 1.04399326e+21,\n",
       "       1.00634023e+21, 9.79624588e+20, 9.79658245e+20, 9.97786111e+20,\n",
       "       1.06702705e+21, 1.07786092e+21, 9.94431585e+20, 1.00114073e+21,\n",
       "       1.04197441e+21, 1.08349432e+21, 1.03573633e+21, 9.47684433e+20,\n",
       "       8.91528969e+20, 8.97318783e+20, 8.89397497e+20, 9.78592519e+20,\n",
       "       9.99732266e+20, 9.00554389e+20, 8.41826479e+20, 8.22005911e+20,\n",
       "       8.38499520e+20, 8.76419134e+20, 9.22670500e+20, 9.53959845e+20,\n",
       "       8.84991966e+20, 8.37645480e+20, 8.08307890e+20, 8.57317890e+20,\n",
       "       9.51579344e+20, 9.62019495e+20, 8.89065909e+20, 8.08354767e+20,\n",
       "       7.77640806e+20, 7.87729263e+20, 7.95639286e+20, 8.16795018e+20,\n",
       "       7.83281956e+20, 7.63005293e+20, 7.93771957e+20, 8.47447011e+20,\n",
       "       8.51957680e+20, 8.71568580e+20, 8.50010626e+20, 8.01534975e+20,\n",
       "       7.62154746e+20, 7.71055206e+20, 8.40282937e+20, 8.88885861e+20,\n",
       "       9.05990006e+20, 8.69664372e+20, 7.87638503e+20, 7.41394913e+20,\n",
       "       7.32852119e+20, 7.46059861e+20, 7.68848953e+20, 7.24212628e+20,\n",
       "       7.20914454e+20, 7.52734804e+20, 7.82073912e+20, 7.87584973e+20,\n",
       "       7.40203397e+20, 6.90529036e+20, 6.87059051e+20, 6.97418957e+20,\n",
       "       7.30894692e+20, 7.32376156e+20, 7.14814386e+20, 7.32193164e+20,\n",
       "       7.48400097e+20, 6.99091625e+20, 6.56119325e+20, 6.52067654e+20,\n",
       "       6.47908011e+20, 6.64054131e+20, 6.89609425e+20, 6.91591552e+20,\n",
       "       7.14723680e+20, 7.48632419e+20, 7.53496491e+20, 7.60141646e+20,\n",
       "       6.88899661e+20, 6.65514280e+20, 6.75996025e+20, 6.90607713e+20,\n",
       "       7.14191143e+20, 7.30230537e+20, 7.50704755e+20, 7.29590858e+20,\n",
       "       7.54391312e+20, 7.74998220e+20, 7.89043226e+20, 8.12852770e+20,\n",
       "       7.88718573e+20, 7.55820205e+20, 7.53017215e+20, 7.23685347e+20,\n",
       "       6.70314467e+20, 6.41232998e+20, 6.30533103e+20, 6.33670004e+20,\n",
       "       6.37647981e+20, 6.31798973e+20, 6.25578091e+20, 6.37622788e+20,\n",
       "       6.42501148e+20, 6.55512637e+20, 6.57421720e+20, 6.21006544e+20,\n",
       "       6.17358120e+20, 6.20384427e+20, 6.28054663e+20, 6.42673039e+20,\n",
       "       6.61394452e+20, 6.78728214e+20, 7.17893388e+20, 7.56247248e+20,\n",
       "       7.01110249e+20, 6.52638730e+20, 6.40146967e+20, 6.41660077e+20,\n",
       "       6.80685089e+20, 7.12883651e+20, 6.88817111e+20, 6.57881033e+20,\n",
       "       6.34786268e+20, 6.15486638e+20, 6.00634998e+20, 6.03247901e+20,\n",
       "       6.04871674e+20, 6.10526206e+20, 6.33423549e+20, 6.35950848e+20,\n",
       "       5.93827841e+20, 5.62717193e+20, 5.54707094e+20, 5.69015596e+20,\n",
       "       5.58209370e+20, 5.21575757e+20, 5.04377456e+20, 5.02005944e+20])"
      ]
     },
     "execution_count": 7,
     "metadata": {},
     "output_type": "execute_result"
    }
   ],
   "source": [
    "eon_y"
   ]
  },
  {
   "cell_type": "code",
   "execution_count": 23,
   "id": "82f907e8",
   "metadata": {},
   "outputs": [],
   "source": [
    "E  = 10.e6 # eV\n",
    "qe = 1.6e-19\n",
    "me = 9.1e-31\n",
    "mp = 1836*me\n",
    "B  = 20.\n",
    "\n",
    "rp  = np.sqrt(2.*E*qe*mp)/qe/B\n",
    "re  = np.sqrt(2.*E*qe*me)/qe/B\n",
    "tp  = mp/qe/B\n",
    "te  = me/qe/B"
   ]
  },
  {
   "cell_type": "code",
   "execution_count": 26,
   "id": "18a22591",
   "metadata": {},
   "outputs": [
    {
     "name": "stdout",
     "output_type": "stream",
     "text": [
      "rp=22.8 mm\n",
      "re=533.3 um\n",
      "tp=0.5 ns\n",
      "te=284.4 fs\n"
     ]
    }
   ],
   "source": [
    "print('rp={:.1f} mm'.format(rp*1e3))\n",
    "print('re={:.1f} um'.format(re*1e6))\n",
    "print('tp={:.1f} ns'.format(tp*1e9))\n",
    "print('te={:.1f} fs'.format(te*1e15))"
   ]
  },
  {
   "cell_type": "code",
   "execution_count": null,
   "id": "ed2a39f7",
   "metadata": {},
   "outputs": [],
   "source": []
  }
 ],
 "metadata": {
  "kernelspec": {
   "display_name": "Python 3",
   "language": "python",
   "name": "python3"
  },
  "language_info": {
   "codemirror_mode": {
    "name": "ipython",
    "version": 3
   },
   "file_extension": ".py",
   "mimetype": "text/x-python",
   "name": "python",
   "nbconvert_exporter": "python",
   "pygments_lexer": "ipython3",
   "version": "3.9.21"
  }
 },
 "nbformat": 4,
 "nbformat_minor": 5
}
