{
 "cells": [
  {
   "cell_type": "code",
   "execution_count": 1,
   "id": "8c0e9b3c-938d-4258-a46d-4c3d9d877640",
   "metadata": {},
   "outputs": [],
   "source": [
    "%matplotlib qt"
   ]
  },
  {
   "cell_type": "code",
   "execution_count": 2,
   "id": "6208d723-3424-4850-bc13-d6bd5ac87fa7",
   "metadata": {},
   "outputs": [
    {
     "name": "stderr",
     "output_type": "stream",
     "text": [
      "/var/folders/2t/97rc3fl92tg15k2l_4sk5hsh0000gn/T/ipykernel_47739/616493249.py:6: MatplotlibDeprecationWarning: The get_cmap function was deprecated in Matplotlib 3.7 and will be removed two minor releases later. Use ``matplotlib.colormaps[name]`` or ``matplotlib.colormaps.get_cmap(obj)`` instead.\n",
      "  jetcmap = plt.cm.get_cmap(\"jet\", 9) #generate a jet map with 10 values \"rainbow\", \"jet\", YlOrRd\n",
      "2024-05-05 09:03:09.548 Python[47739:927837] WARNING: Secure coding is not enabled for restorable state! Enable secure coding by implementing NSApplicationDelegate.applicationSupportsSecureRestorableState: and returning YES.\n"
     ]
    }
   ],
   "source": [
    "import matplotlib as mpl\n",
    "import happi\n",
    "import numpy as np\n",
    "import matplotlib.pyplot as plt\n",
    "\n",
    "jetcmap = plt.cm.get_cmap(\"jet\", 9) #generate a jet map with 10 values \"rainbow\", \"jet\", YlOrRd\n",
    "jet_vals = jetcmap(np.arange(9)) #extract those values as an array \n",
    "jet_vals[0] = [1.0, 1, 1.0, 1] #change the first value \n",
    "jet_vals[8] = [0.0, 0, 0.0, 1] #change the first value \n",
    "newcmap = mpl.colors.LinearSegmentedColormap.from_list(\"mine\", jet_vals) "
   ]
  },
  {
   "cell_type": "code",
   "execution_count": 3,
   "id": "877cce73-7029-469e-bc92-cac7f3b1e770",
   "metadata": {},
   "outputs": [],
   "source": [
    "# plt.rc('font', family='sans-serif', serif='Arial')\n",
    "# plt.rc('text', usetex=False)\n",
    "# plt.rc('xtick', labelsize=12)\n",
    "# plt.rc('ytick', labelsize=12)\n",
    "# plt.rc('axes', labelsize=12)\n",
    "# plt.rc('legend', fontsize=12)\n",
    "\n",
    "# plt.rc('font', family='sans-serif', serif='Arial')\n",
    "\n",
    "from matplotlib import font_manager\n",
    "\n",
    "font_dirs = ['/Users/yao/Documents/Calibri and Cambria Fonts/']\n",
    "font_files = font_manager.findSystemFonts(fontpaths=font_dirs)\n",
    "\n",
    "for font_file in font_files:\n",
    "    font_manager.fontManager.addfont(font_file)\n",
    "\n",
    "# set font\n",
    "plt.rcParams['font.family'] = 'Calibri'\n",
    "\n",
    "plt.rc('text', usetex=False)\n",
    "plt.rc('xtick', labelsize=10)\n",
    "plt.rc('ytick', labelsize=10)\n",
    "plt.rc('axes', labelsize=10)\n",
    "plt.rc('legend', fontsize=9)\n",
    "\n",
    "width  = 3.487\n",
    "height = width / 1.618 * 1.0"
   ]
  },
  {
   "cell_type": "code",
   "execution_count": 20,
   "id": "f8c2c484-8aaa-478c-8854-41d4dbeeaffa",
   "metadata": {},
   "outputs": [],
   "source": [
    "wkdir = [\n",
    "    '/Users/yao/Desktop/test/',\n",
    "    '/Users/yao/Desktop/test1/',\n",
    "    ]"
   ]
  },
  {
   "cell_type": "code",
   "execution_count": 103,
   "id": "9e5f55d5-239f-4fa8-bae4-6b345919bb90",
   "metadata": {},
   "outputs": [
    {
     "name": "stdout",
     "output_type": "stream",
     "text": [
      "Loaded simulation '/Users/yao/Desktop/test/'\n",
      "Scanning for Scalar diagnostics\n",
      "Scanning for Field diagnostics\n",
      "Scanning for Probe diagnostics\n",
      "Scanning for ParticleBinning diagnostics\n",
      "Scanning for RadiationSpectrum diagnostics\n",
      "Scanning for Performance diagnostics\n",
      "Scanning for Screen diagnostics\n",
      "Scanning for Tracked particle diagnostics\n",
      "Scanning for new particle diagnostics\n",
      "Loaded simulation '/Users/yao/Desktop/test1/'\n",
      "Scanning for Scalar diagnostics\n",
      "Scanning for Field diagnostics\n",
      "Scanning for Probe diagnostics\n",
      "Scanning for ParticleBinning diagnostics\n",
      "Scanning for RadiationSpectrum diagnostics\n",
      "Scanning for Performance diagnostics\n",
      "Scanning for Screen diagnostics\n",
      "Scanning for Tracked particle diagnostics\n",
      "Scanning for new particle diagnostics\n"
     ]
    }
   ],
   "source": [
    "S0 = happi.Open(wkdir[0], reference_angular_frequency_SI = 2.*np.pi*3e8/1.058e-6)\n",
    "S1 = happi.Open(wkdir[1], reference_angular_frequency_SI = 2.*np.pi*3e8/1.058e-6)"
   ]
  },
  {
   "cell_type": "code",
   "execution_count": 22,
   "id": "fa19c979-cc41-4a04-b07a-d934f21fbb63",
   "metadata": {},
   "outputs": [],
   "source": [
    "# prepare constants, units\n",
    "\n",
    "me = 9.1e-31\n",
    "mp = 1836.*me\n",
    "qe = 1.6e-19\n",
    "ep = 8.9e-12  # epsilon_0\n",
    "c  = 3.0e8\n",
    "wr = 2.*np.pi*3e8/1.058e-6\n",
    "de = c / wr\n",
    "# Lx = S0.namelist.L_x.real * de * 1e3      # in mm\n",
    "# dx = S0.namelist.d_x * de * 1e3           # in mm\n",
    "\n",
    "Te = S0.namelist.temp_e * 511.e3             # in eV\n",
    "ne = S0.namelist.n0 * 1.1e21                 # in cm-3\n",
    "ld = 7.43e2 * Te**0.5 * ne**(-0.5) * 10. # in mm\n",
    "# dt = S0.namelist.d_t\n",
    "\n",
    "# B0 = S0.namelist.B_z * (me * wr / qe)\n",
    "# wc = qe * B0 / me\n"
   ]
  },
  {
   "cell_type": "code",
   "execution_count": 124,
   "id": "b284ab14-4425-430f-a80c-bbdb0e895a38",
   "metadata": {},
   "outputs": [
    {
     "name": "stdout",
     "output_type": "stream",
     "text": [
      "WARNING: units unknown: 1 / ( 1 * 1 )\n",
      "\n",
      "#0 -  of species # 0\n",
      "    user_function0 from -90 to 90 in 200 steps \n",
      "    gamma from 1e-07 to 195.695 in 100 steps  [ LOG SCALE ]  [ INCLUDING EDGES ] \n",
      "\n",
      "The value in each bin is the sum of the `deposited_quantity` divided by the bin size and by grid_length[0] * grid_length[1]\n",
      "\n"
     ]
    },
    {
     "name": "stderr",
     "output_type": "stream",
     "text": [
      "/Users/yao/Smilei/happi/_Diagnostics/Diagnostic.py:857: RuntimeWarning: divide by zero encountered in log10\n",
      "  return self._np.log10( self._dataLinAtTime(t) )\n"
     ]
    }
   ],
   "source": [
    "S1.RadiationSpectrum(0,units=['fs','um'],\n",
    "                     data_log=True,\n",
    "                     cmap=newcmap,\n",
    "                    vmin=-7,\n",
    "                    vmax=-4,\n",
    "                    ).slide()"
   ]
  },
  {
   "cell_type": "code",
   "execution_count": 30,
   "id": "30b00a37-3aac-4bcc-809a-4df570f9c783",
   "metadata": {},
   "outputs": [
    {
     "name": "stdout",
     "output_type": "stream",
     "text": [
      "WARNING: units unknown: 1 / ( 1 * 1 )\n",
      "WARNING: units unknown: 1 / ( 1 * 1 )\n"
     ]
    }
   ],
   "source": [
    "dpm = S1.RadiationSpectrum(0, units=['fs','um'],\n",
    "                           data_log=True,\n",
    "                           cmap=newcmap,\n",
    "                           vmin=-7,\n",
    "                           vmax=-4,\n",
    "                          )\n",
    "\n",
    "ndp = S0.RadiationSpectrum(0, units=['fs','um'],\n",
    "                           data_log=True,\n",
    "                           cmap=newcmap,\n",
    "                           vmin=-7,\n",
    "                           vmax=-4,\n",
    "                          )\n",
    "\n",
    "happi.multiSlide(dpm,ndp,shape=[2,1])"
   ]
  },
  {
   "cell_type": "code",
   "execution_count": 107,
   "id": "9da400e6-1bc1-4bc0-99f7-7259e9166a13",
   "metadata": {},
   "outputs": [
    {
     "name": "stdout",
     "output_type": "stream",
     "text": [
      "WARNING: units unknown: 1 / ( 1 * 1 )\n",
      "\n",
      "#0 -  of species # 0\n",
      "    user_function0 from -90 to 90 in 200 steps \n",
      "    gamma from 1e-07 to 195.695 in 100 steps  [ LOG SCALE ]  [ INCLUDING EDGES ] \n",
      "\n",
      "The value in each bin is the sum of the `deposited_quantity` divided by the bin size and by grid_length[0] * grid_length[1]\n",
      "\n"
     ]
    }
   ],
   "source": [
    "S1.RadiationSpectrum(0,units=['fs','um'],\n",
    "                     data_log=True,\n",
    "                     cmap=newcmap,\n",
    "                    vmin=-7,\n",
    "                    vmax=-4,\n",
    "                    ).slide()"
   ]
  },
  {
   "cell_type": "code",
   "execution_count": 8,
   "id": "859e835d-257a-44a3-b34b-a3659aab19a6",
   "metadata": {},
   "outputs": [
    {
     "name": "stdout",
     "output_type": "stream",
     "text": [
      "WARNING: units unknown: 1 / ( 1 * 1 )\n"
     ]
    }
   ],
   "source": [
    "aa = np.array( S0.RadiationSpectrum(0).getData() )"
   ]
  },
  {
   "cell_type": "code",
   "execution_count": 9,
   "id": "02fa941b-1776-4293-9092-23dbfa45e1f8",
   "metadata": {},
   "outputs": [
    {
     "data": {
      "text/plain": [
       "5.4713481406869605e-05"
      ]
     },
     "execution_count": 9,
     "metadata": {},
     "output_type": "execute_result"
    }
   ],
   "source": [
    "aa.max()"
   ]
  },
  {
   "cell_type": "code",
   "execution_count": 100,
   "id": "bfc8378b-e1a8-4470-a254-00163676e929",
   "metadata": {},
   "outputs": [
    {
     "name": "stdout",
     "output_type": "stream",
     "text": [
      "WARNING: units unknown: 1 / ( 1 * 1 )\n",
      "WARNING: units unknown: 1 / ( 1 * 1 )\n"
     ]
    }
   ],
   "source": [
    "time0 = np.array(S0.RadiationSpectrum(0,\n",
    "                   # data_log=True,\n",
    "                   units=['um','fs','keV cm^-3'\n",
    "                         ],\n",
    "                   # sum={'ekin':[0.8,2]},\n",
    "                   # cmap='inferno_r',\n",
    "                   # vmin=22,\n",
    "                   # vmax=27,\n",
    "                        ).getTimes())\n",
    "\n",
    "time2 = np.array(S1.RadiationSpectrum(0,\n",
    "                   # data_log=True,\n",
    "                   units=['um','fs','keV cm^-3'\n",
    "                         ],\n",
    "                   # sum={'ekin':[0.8,2]},\n",
    "                   # cmap='inferno_r',\n",
    "                   # vmin=22,\n",
    "                   # vmax=27,\n",
    "                        ).getTimes())"
   ]
  },
  {
   "cell_type": "code",
   "execution_count": 108,
   "id": "615f4f92-5c4b-4c5f-aee7-8c111fa25f8a",
   "metadata": {},
   "outputs": [
    {
     "name": "stdout",
     "output_type": "stream",
     "text": [
      "WARNING: units unknown: 1 / ( 1 * 1 )\n",
      "WARNING: units unknown: 1 / ( 1 * 1 )\n"
     ]
    }
   ],
   "source": [
    "ed0 = np.array(S0.RadiationSpectrum(0,\n",
    "                   # data_log=True,\n",
    "                   units=['um','fs','keV cm^-3'\n",
    "                         ],\n",
    "                   sum={'photon_energy_axis':'all'},\n",
    "                   cmap='inferno_r',\n",
    "                   # vmin=-7,\n",
    "                   # vmax=-4,\n",
    "                        ).getData())\n",
    "                  # ).animate(movie='/Users/yao/Desktop/ene_dens_ndpm.gif')\n",
    "                  # ).slide()\n",
    "\n",
    "ed2 = np.array(S1.RadiationSpectrum(0,\n",
    "                   # data_log=True,\n",
    "                   units=['um','fs','keV cm^-3'\n",
    "                         ],\n",
    "                   sum={'photon_energy_axis':'all'},\n",
    "                   cmap='inferno_r',\n",
    "                   # vmin=-7,\n",
    "                   # vmax=-4,\n",
    "                        ).getData())"
   ]
  },
  {
   "cell_type": "code",
   "execution_count": 81,
   "id": "b166eb83-0696-43e4-93a3-3dd23bb343f2",
   "metadata": {},
   "outputs": [],
   "source": [
    "ed0_sum = np.sum(ed0,axis=2)\n",
    "ed2_sum = np.sum(ed2,axis=2)"
   ]
  },
  {
   "cell_type": "code",
   "execution_count": 82,
   "id": "00ee5dd1-c578-491c-bcf0-35ec70e1abb1",
   "metadata": {},
   "outputs": [
    {
     "name": "stdout",
     "output_type": "stream",
     "text": [
      "WARNING: units unknown: 1 / ( 1 * 1 )\n"
     ]
    }
   ],
   "source": [
    "angles = np.array(S1.RadiationSpectrum(0).getAxis('user_function0'))"
   ]
  },
  {
   "cell_type": "code",
   "execution_count": 83,
   "id": "2237119d-9ca2-4825-8905-0e447f863591",
   "metadata": {},
   "outputs": [
    {
     "data": {
      "text/plain": [
       "array([[0.00000000e+00, 0.00000000e+00, 0.00000000e+00, ...,\n",
       "        0.00000000e+00, 0.00000000e+00, 0.00000000e+00],\n",
       "       [1.11776924e-04, 1.12850999e-04, 1.13329167e-04, ...,\n",
       "        1.10264859e-04, 1.14226634e-04, 1.12298299e-04],\n",
       "       [7.56291796e-05, 7.61194672e-05, 7.68928808e-05, ...,\n",
       "        7.84044398e-05, 7.84066320e-05, 7.75608790e-05],\n",
       "       ...,\n",
       "       [4.52280909e-04, 4.43310043e-04, 4.52729474e-04, ...,\n",
       "        4.72418469e-04, 4.58194832e-04, 4.63732588e-04],\n",
       "       [4.13776366e-04, 4.17010368e-04, 4.16855071e-04, ...,\n",
       "        4.35554003e-04, 4.32594150e-04, 4.37682583e-04],\n",
       "       [3.81991100e-04, 3.89129443e-04, 3.84209459e-04, ...,\n",
       "        3.98586020e-04, 4.04476139e-04, 3.96795550e-04]])"
      ]
     },
     "execution_count": 83,
     "metadata": {},
     "output_type": "execute_result"
    }
   ],
   "source": [
    "ed0_sum"
   ]
  },
  {
   "cell_type": "code",
   "execution_count": 85,
   "id": "728277fb-35e8-4f7e-a464-2171bd7bbec5",
   "metadata": {},
   "outputs": [],
   "source": [
    "width  = 3.487 * 1.3\n",
    "height = width / 1.618 * 1.2\n",
    "\n",
    "fig, ax = plt.subplots()\n",
    "fig.subplots_adjust(left=.15, bottom=.16, right=.99, top=.97)\n",
    "\n",
    "ax.plot(angles,ed0_sum[id0], color='b',lw=1.0,\n",
    "             linestyle='-',\n",
    "             label='Sim. no DPM',\n",
    "           )\n",
    "\n",
    "ax.plot(angles,ed2_sum[id2], color='r',lw=1.0,\n",
    "             linestyle='--',\n",
    "             label='Sim. w/ DPM',\n",
    "           )\n",
    "\n",
    "\n",
    "ax.set_xlim([-90,90])\n",
    "# ax.set_ylim([1e-5,1e0])\n",
    "# ax.set_yticks([1, 1e-2, 1e-4])\n",
    "# plt.title('time = '+str(tt[ts])+' fs')\n",
    "# ax.grid(which='both',linestyle='--',alpha=0.5)\n",
    "ax.set_xlabel(r'Angles ($\\degree$)')\n",
    "# ax.set_ylabel('Normalized dN/dE')\n",
    "\n",
    "ax.legend(fancybox=False, frameon=False)\n",
    "fig.set_size_inches(width, height)\n",
    "fig.tight_layout()"
   ]
  },
  {
   "cell_type": "code",
   "execution_count": 87,
   "id": "7a83fdcc-d1b4-4057-a3bc-bfb04f6abc72",
   "metadata": {},
   "outputs": [
    {
     "name": "stderr",
     "output_type": "stream",
     "text": [
      "/var/folders/2t/97rc3fl92tg15k2l_4sk5hsh0000gn/T/ipykernel_47739/4289739412.py:25: RuntimeWarning: divide by zero encountered in log10\n",
      "  im0 = grid[0].imshow((np.log10(ed2[id2].T)),\n",
      "/var/folders/2t/97rc3fl92tg15k2l_4sk5hsh0000gn/T/ipykernel_47739/4289739412.py:34: RuntimeWarning: divide by zero encountered in log10\n",
      "  im1 = grid[1].imshow((np.log10(ed0[id0].T)),\n",
      "/var/folders/2t/97rc3fl92tg15k2l_4sk5hsh0000gn/T/ipykernel_47739/4289739412.py:69: UserWarning: This figure includes Axes that are not compatible with tight_layout, so results might be incorrect.\n",
      "  fig.tight_layout()\n"
     ]
    }
   ],
   "source": [
    "from mpl_toolkits.axes_grid1 import make_axes_locatable\n",
    "from mpl_toolkits.axes_grid1 import ImageGrid\n",
    "\n",
    "id0 = 30\n",
    "id2 = 28\n",
    "\n",
    "width  = 3.487 * 2.0\n",
    "height = width / 1.618 * 1.0\n",
    "\n",
    "fig = plt.figure(figsize=(width, height))\n",
    "\n",
    "# fig, ax = plt.subplots()\n",
    "# fig.subplots_adjust(left=.15, bottom=.16, right=.99, top=.97)\n",
    "\n",
    "grid = ImageGrid(fig, 111,          # as in plt.subplot(111)\n",
    "                 nrows_ncols=(1,2),\n",
    "                 axes_pad=0.35,\n",
    "                 share_all=True,\n",
    "                 cbar_location=\"right\",\n",
    "                 cbar_mode=\"single\",\n",
    "                 cbar_size=\"5%\",\n",
    "                 cbar_pad=0.1,\n",
    "                 )\n",
    "\n",
    "im0 = grid[0].imshow((np.log10(ed2[id2].T)),\n",
    "           cmap='inferno_r',\n",
    "           origin='lower',\n",
    "           extent=[-90,90,-7,2],\n",
    "           vmin=-7,\n",
    "           vmax=-4,\n",
    "           aspect=10,\n",
    "          )\n",
    "\n",
    "im1 = grid[1].imshow((np.log10(ed0[id0].T)),\n",
    "           cmap='inferno_r',\n",
    "           origin='lower',\n",
    "           extent=[-90,90,-7,2],\n",
    "           vmin=-7,\n",
    "           vmax=-4,\n",
    "           aspect=10,\n",
    "          )\n",
    "\n",
    "# grid[0].set_xlim(1,21)\n",
    "# grid[1].set_xlim(1,21)\n",
    "# grid[1].set_ylim(7,35)\n",
    "# grid[0].set_ylim(7,35)\n",
    "# grid[0].set_xlabel(r'x ($\\mu$m)')\n",
    "# grid[1].set_xlabel(r'x ($\\mu$m)')\n",
    "# grid[0].set_ylabel(r'y ($\\mu$m)')\n",
    "# # grid[0].set_xticks([0, 7, 14,  21])\n",
    "# grid[1].set_xticks([1, 6, 11, 16, 21])\n",
    "# # grid[0].set_yticks([0, 7, 14, 21, 28, 35, 42])\n",
    "# grid[0].set_yticks([7, 14, 21, 28, 35])\n",
    "grid[1].set_title('time = {:.1f} fs'.format(time0[id0]))\n",
    "grid[0].set_title('time = {:.1f} fs'.format(time2[id2]))\n",
    "grid[0].grid(linestyle='--',color='grey',alpha=0.5)\n",
    "grid[1].grid(linestyle='--',color='grey',alpha=0.5)\n",
    "\n",
    "# Colorbar\n",
    "grid[1].cax.colorbar(im1)\n",
    "grid[1].cax.cla()\n",
    "mpl.colorbar.Colorbar(grid[1].cax,im1)\n",
    "cax = grid.cbar_axes[0]\n",
    "axis = cax.axis[cax.orientation]\n",
    "# axis.label.set_text(r'$n_e$ $\\varepsilon_{kin}$ (cm$^{-3}$ $\\cdot$ keV)')\n",
    "# grid[1].cax.toggle_label(r'$n_p (cm^{-3})$')\n",
    "# grid[1].cax.tick_params(size=0)\n",
    "# grid[1].cax.toggle_label(True)\n",
    "fig.tight_layout()\n",
    "fig.set_size_inches(width, height)\n",
    "plt.show()"
   ]
  },
  {
   "cell_type": "code",
   "execution_count": 101,
   "id": "c073a18f-805d-4881-b283-5234414436a7",
   "metadata": {},
   "outputs": [
    {
     "data": {
      "text/plain": [
       "array([  0.        ,  19.46554688,  38.93109375,  58.39664063,\n",
       "        77.8621875 ,  97.32773438, 116.79328125, 136.25882813,\n",
       "       155.724375  , 175.18992188, 194.65546875, 214.12101563,\n",
       "       233.5865625 , 253.05210938, 272.51765625, 291.98320312,\n",
       "       311.44875   , 330.91429687, 350.37984375, 369.84539062,\n",
       "       389.3109375 , 408.77648437, 428.24203125, 447.70757812,\n",
       "       467.173125  , 486.63867188, 506.10421875, 525.56976563,\n",
       "       545.0353125 , 564.50085938, 583.96640625, 603.43195313,\n",
       "       622.8975    , 642.36304688, 661.82859375, 681.29414063,\n",
       "       700.7596875 , 720.22523438, 739.69078125, 759.15632813,\n",
       "       778.621875  ])"
      ]
     },
     "execution_count": 101,
     "metadata": {},
     "output_type": "execute_result"
    }
   ],
   "source": [
    "time0"
   ]
  },
  {
   "cell_type": "code",
   "execution_count": 102,
   "id": "160fad27-ab49-452b-a112-554195160d9b",
   "metadata": {},
   "outputs": [
    {
     "data": {
      "text/plain": [
       "array([  0.        ,   3.23736979,   6.47473958,   9.71210938,\n",
       "        12.94947917,  16.18684896,  19.42421875,  22.66158854,\n",
       "        25.89895833,  29.13632813,  32.37369792,  35.61106771,\n",
       "        38.8484375 ,  42.08580729,  45.32317708,  48.56054688,\n",
       "        51.79791667,  55.03528646,  58.27265625,  61.51002604,\n",
       "        64.74739583,  67.98476563,  71.22213542,  74.45950521,\n",
       "        77.696875  ,  80.93424479,  84.17161458,  87.40898438,\n",
       "        90.64635417,  93.88372396,  97.12109375, 100.35846354,\n",
       "       103.59583333, 106.83320313, 110.07057292, 113.30794271,\n",
       "       116.5453125 , 119.78268229, 123.02005208, 126.25742188,\n",
       "       129.49479167, 132.73216146, 135.96953125, 139.20690104,\n",
       "       142.44427083, 145.68164062, 148.91901042, 152.15638021,\n",
       "       155.39375   , 158.63111979, 161.86848958, 165.10585937,\n",
       "       168.34322917, 171.58059896, 174.81796875, 178.05533854,\n",
       "       181.29270833, 184.53007813, 187.76744792, 191.00481771,\n",
       "       194.2421875 , 197.47955729, 200.71692708, 203.95429688,\n",
       "       207.19166667, 210.42903646, 213.66640625, 216.90377604,\n",
       "       220.14114583, 223.37851563, 226.61588542, 229.85325521,\n",
       "       233.090625  , 236.32799479, 239.56536458, 242.80273438,\n",
       "       246.04010417, 249.27747396, 252.51484375, 255.75221354,\n",
       "       258.98958333, 262.22695313, 265.46432292, 268.70169271,\n",
       "       271.9390625 , 275.17643229])"
      ]
     },
     "execution_count": 102,
     "metadata": {},
     "output_type": "execute_result"
    }
   ],
   "source": [
    "time2"
   ]
  },
  {
   "cell_type": "code",
   "execution_count": 67,
   "id": "a8b06dfc-0987-4fd8-bf49-6af804564645",
   "metadata": {},
   "outputs": [
    {
     "data": {
      "text/plain": [
       "array([  0.        ,  19.46554688,  38.93109375,  58.39664063,\n",
       "        77.8621875 ,  97.32773438, 116.79328125, 136.25882813,\n",
       "       155.724375  , 175.18992188, 194.65546875, 214.12101563,\n",
       "       233.5865625 , 253.05210938])"
      ]
     },
     "execution_count": 67,
     "metadata": {},
     "output_type": "execute_result"
    }
   ],
   "source": [
    "time0[0:14:1]"
   ]
  },
  {
   "cell_type": "code",
   "execution_count": 66,
   "id": "b68b5beb-f399-4190-af1e-3ef34a8caa8c",
   "metadata": {},
   "outputs": [
    {
     "data": {
      "text/plain": [
       "array([  0.        ,  19.42421875,  38.8484375 ,  58.27265625,\n",
       "        77.696875  ,  97.12109375, 116.5453125 , 135.96953125,\n",
       "       155.39375   , 174.81796875, 194.2421875 , 213.66640625,\n",
       "       233.090625  , 252.51484375])"
      ]
     },
     "execution_count": 66,
     "metadata": {},
     "output_type": "execute_result"
    }
   ],
   "source": [
    "time2[0:84:6]"
   ]
  },
  {
   "cell_type": "code",
   "execution_count": 98,
   "id": "064b8636-0bd4-4f34-ad9e-bb31e66e4365",
   "metadata": {},
   "outputs": [
    {
     "name": "stdout",
     "output_type": "stream",
     "text": [
      "WARNING: units unknown: 1 / ( 1 * 1 )\n"
     ]
    },
    {
     "data": {
      "text/plain": [
       "array([  0.        ,  19.46554688,  38.93109375,  58.39664063,\n",
       "        77.8621875 ,  97.32773438, 116.79328125, 136.25882813,\n",
       "       155.724375  , 175.18992188, 194.65546875, 214.12101563,\n",
       "       233.5865625 , 253.05210938, 272.51765625, 291.98320312,\n",
       "       311.44875   , 330.91429687, 350.37984375, 369.84539062,\n",
       "       389.3109375 , 408.77648437, 428.24203125, 447.70757812,\n",
       "       467.173125  , 486.63867188, 506.10421875, 525.56976563,\n",
       "       545.0353125 , 564.50085938, 583.96640625, 603.43195313,\n",
       "       622.8975    , 642.36304688, 661.82859375, 681.29414063,\n",
       "       700.7596875 , 720.22523438, 739.69078125, 759.15632813,\n",
       "       778.621875  ])"
      ]
     },
     "execution_count": 98,
     "metadata": {},
     "output_type": "execute_result"
    }
   ],
   "source": [
    "t0 = S0.RadiationSpectrum(0, units=['fs']).getTimes()\n",
    "t0"
   ]
  },
  {
   "cell_type": "code",
   "execution_count": 99,
   "id": "29451ea3-0de1-44ba-808d-1b26728be130",
   "metadata": {},
   "outputs": [
    {
     "name": "stdout",
     "output_type": "stream",
     "text": [
      "WARNING: units unknown: 1 / ( 1 * 1 )\n"
     ]
    },
    {
     "data": {
      "text/plain": [
       "86"
      ]
     },
     "execution_count": 99,
     "metadata": {},
     "output_type": "execute_result"
    }
   ],
   "source": [
    "t1 = S1.RadiationSpectrum(0, units=['fs']).getTimes()\n",
    "t1.size"
   ]
  },
  {
   "cell_type": "code",
   "execution_count": null,
   "id": "b948a7d6-d76e-447d-a8f9-7953d3f1a1c2",
   "metadata": {},
   "outputs": [],
   "source": [
    "S0."
   ]
  },
  {
   "cell_type": "code",
   "execution_count": 68,
   "id": "5eda0d58-1b90-4a9f-872a-3d5b54bfccf9",
   "metadata": {},
   "outputs": [
    {
     "data": {
      "text/plain": [
       "(41, 200)"
      ]
     },
     "execution_count": 68,
     "metadata": {},
     "output_type": "execute_result"
    }
   ],
   "source": [
    "ed0_sum.shape"
   ]
  },
  {
   "cell_type": "code",
   "execution_count": 69,
   "id": "3e5fa77b-42a6-4583-8abd-c41d2a6a404f",
   "metadata": {},
   "outputs": [
    {
     "data": {
      "text/plain": [
       "(86, 200)"
      ]
     },
     "execution_count": 69,
     "metadata": {},
     "output_type": "execute_result"
    }
   ],
   "source": [
    "ed2_sum.shape"
   ]
  },
  {
   "cell_type": "code",
   "execution_count": 116,
   "id": "82853bba-d11d-4af8-972f-ffa3455d1b8d",
   "metadata": {},
   "outputs": [],
   "source": [
    "ed0_sumt = np.zeros(200)\n",
    "ed2_sumt = np.zeros(200)\n",
    "\n",
    "for t in range(41):\n",
    "    ed0_sumt = ed0_sumt + ed0_sum[t,:]\n",
    "\n",
    "for t in range(41):\n",
    "    t = t + 2\n",
    "    ed2_sumt = ed2_sumt + ed2_sum[t*2,:]"
   ]
  },
  {
   "cell_type": "code",
   "execution_count": 122,
   "id": "9b4eec5d-4ce9-4d53-833b-a2f8dc6e5fa9",
   "metadata": {},
   "outputs": [],
   "source": [
    "width  = 3.487 * 1.3\n",
    "height = width / 1.618 * 1.2\n",
    "\n",
    "fig, ax = plt.subplots()\n",
    "fig.subplots_adjust(left=.15, bottom=.16, right=.99, top=.97)\n",
    "\n",
    "ax.plot(angles,ed0_sumt/ed0_sumt.max(), color='b',lw=1.0,\n",
    "             linestyle='-',\n",
    "             label='w/o. DPM',\n",
    "           )\n",
    "\n",
    "ax.plot(angles,ed2_sumt/ed0_sumt.max(), color='r',lw=1.0,\n",
    "             linestyle='--',\n",
    "             label='with DPM',\n",
    "           )\n",
    "\n",
    "\n",
    "ax.set_xlim([-90,90])\n",
    "ax.set_ylim([0,1])\n",
    "ax.set_xticks([-90, -60, -30, 0, 30, 60, 90])\n",
    "# plt.title('time = '+str(tt[ts])+' fs')\n",
    "ax.grid(which='both',linestyle='--',alpha=0.5)\n",
    "ax.set_xlabel(r'Angles ($\\degree$)')\n",
    "ax.set_ylabel('Normalized time-integrated Radiation')\n",
    "\n",
    "ax.legend(fancybox=False, frameon=False)\n",
    "fig.set_size_inches(width, height)\n",
    "fig.tight_layout()"
   ]
  },
  {
   "cell_type": "code",
   "execution_count": 123,
   "id": "954209a9-3d04-4964-afc2-489ae109d6b1",
   "metadata": {},
   "outputs": [],
   "source": [
    "fig.savefig('/Users/yao/Desktop/rad.pdf',dpi=600)"
   ]
  },
  {
   "cell_type": "code",
   "execution_count": 104,
   "id": "899a39c9-e9a7-4d43-8ff9-39e12c168151",
   "metadata": {},
   "outputs": [
    {
     "name": "stdout",
     "output_type": "stream",
     "text": [
      "\n",
      "#0 - Number density of species # 0,1\n",
      "    user_function0 from -90 to 90 in 200 steps \n",
      "    ekin from 0 to 195.695 in 100 steps \n",
      "\n",
      "The value in each bin is the sum of the `deposited_quantity` divided by the bin size and by grid_length[0] * grid_length[1]\n",
      "\n"
     ]
    }
   ],
   "source": [
    "S0.ParticleBinning(0,units=['fs','um','V/m']).slide()"
   ]
  },
  {
   "cell_type": "code",
   "execution_count": null,
   "id": "51ba10c9-c67a-4878-b7b5-6b2f9b67639a",
   "metadata": {},
   "outputs": [],
   "source": []
  }
 ],
 "metadata": {
  "kernelspec": {
   "display_name": "Python 3 (ipykernel)",
   "language": "python",
   "name": "python3"
  },
  "language_info": {
   "codemirror_mode": {
    "name": "ipython",
    "version": 3
   },
   "file_extension": ".py",
   "mimetype": "text/x-python",
   "name": "python",
   "nbconvert_exporter": "python",
   "pygments_lexer": "ipython3",
   "version": "3.9.18"
  }
 },
 "nbformat": 4,
 "nbformat_minor": 5
}
