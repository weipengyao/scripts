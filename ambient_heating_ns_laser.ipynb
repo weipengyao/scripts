{
 "cells": [
  {
   "cell_type": "code",
   "execution_count": 1,
   "metadata": {},
   "outputs": [],
   "source": [
    "## Estimate of the electron temperature evolution heating by nanosecond lasers\n",
    "##\n",
    "## for low temperature and low density experiment (Te < 300 eV, ne/nc = 1e-2)\n",
    "## neglecting the electron thermal diffusion\n",
    "## accounting only for the inverse Bremsstrahlung laser absorption\n",
    "##\n",
    "## Equation:\n",
    "## (3/2) n_e dT_e / dt = \\nu_B I_0 / qe\n",
    "##\n",
    "## Parameters:\n",
    "##     n_e   : number density of electron [cm^-3]\n",
    "##     T_e0  : you need an initial value for T_e [eV]\n",
    "##     \\nu_B : bremsstrahlung laser absorption coefficient [cm^-1]\n",
    "##     I_0   : laser intensity, usually assume a Gaussian time profile [W/cm^2]\n",
    "##     qe    : elementry charge, [eV = J / 1.6e-19]\n",
    "\n",
    "import numpy as np\n",
    "import matplotlib.pyplot as plt\n",
    "\n",
    "# constants in CGS\n",
    "c    = 3e10            # cm/s, light speed\n",
    "qe   = 4.8e-10         # elementary charge\n",
    "hbar = 1.0e-27         # Planck constant\n",
    "me   = 9.1e-28         # electron mass, g\n",
    "\n",
    "from matplotlib import font_manager\n",
    "\n",
    "font_dirs = ['/Users/yao/Documents/Calibri and Cambria Fonts/']\n",
    "font_files = font_manager.findSystemFonts(fontpaths=font_dirs)\n",
    "\n",
    "for font_file in font_files:\n",
    "    font_manager.fontManager.addfont(font_file)\n",
    "\n",
    "# set font\n",
    "plt.rcParams['font.family'] = 'Calibri'\n",
    "\n",
    "plt.rc('text', usetex=False)\n",
    "plt.rc('xtick', labelsize=12)\n",
    "plt.rc('ytick', labelsize=12)\n",
    "plt.rc('axes', labelsize=12)\n",
    "plt.rc('legend', fontsize=9)\n",
    "\n",
    "width  = 3.487\n",
    "height = width / 1.618 * 1.0"
   ]
  },
  {
   "cell_type": "code",
   "execution_count": 19,
   "metadata": {},
   "outputs": [
    {
     "name": "stdout",
     "output_type": "stream",
     "text": [
      "Laser intensity for TS = 9.95e+12 W/cm2\n",
      "Laser angular frequency for TS = 1.88e+15 rad/s\n"
     ]
    }
   ],
   "source": [
    "## for the ns-laser, we use 0.6 ns, 20 J, 2x0.5 mm (in ellipse) in 1w:\n",
    "E_ts   = 100.0  # J\n",
    "tau_ts = 2.0e-9  # s [?]\n",
    "d_ts   = 800e-4 # cm\n",
    "S_ts   = np.pi * (d_ts/2.)**2 # cm^2\n",
    "# S_ts   = np.pi* 2.0/2. * 0.5/2. * 1e-2 # cm^2\n",
    "I_ts   = E_ts / tau_ts / S_ts # W/cm2\n",
    "# I_ts   = 3.8e13          # W/cm2,  Here I just took the parameter in the paper\n",
    "print('Laser intensity for TS = {:.2e} W/cm2'.format(I_ts))\n",
    "\n",
    "\n",
    "lmd_ts = 1.0*1e-4 # cm, 1 omega laser (1 um)\n",
    "omg_ts = 2.*np.pi*c/lmd_ts\n",
    "print('Laser angular frequency for TS = {:.2e} rad/s'.format(omg_ts))"
   ]
  },
  {
   "cell_type": "code",
   "execution_count": 28,
   "metadata": {},
   "outputs": [
    {
     "name": "stdout",
     "output_type": "stream",
     "text": [
      "plasma electron angular frequency = 1.13e+14 rad/s\n"
     ]
    }
   ],
   "source": [
    "Te = [10.]            # initial temperature\n",
    "Te2 = [10.]\n",
    "Z0 = 1.               # material\n",
    "fwhm = tau_ts     # equals to tau_ts above\n",
    "ne = 4.e18      # cm^-3\n",
    "\n",
    "order = 8.            # order of gaussian profile\n",
    "t_end = 5.0e-9        # estimation time\n",
    "center = t_end / 2.0  # center of gaussian profile\n",
    "\n",
    "omg_pe  = 5.64e4 * ne**0.5\n",
    "print('plasma electron angular frequency = {:.2e} rad/s'.format(omg_pe))\n",
    "\n",
    "\n",
    "# create the array for time evolution\n",
    "num = 100\n",
    "time = np.linspace(0,t_end,num)\n",
    "d_time = time[1] - time[0]\n",
    "\n",
    "\n",
    "# Gaussian profile for the Laser time-evolution\n",
    "def tgaussian(fwhm,order,center):\n",
    "    import numpy as np\n",
    "    sigma = (0.5*fwhm)**order/np.log(2.)\n",
    "    return np.exp(-(time-center)**order / sigma)\n",
    "\n",
    "def LMD1(temp):\n",
    "    import numpy as np\n",
    "    vte  = 4.19e7 * temp**0.5              # cm/s\n",
    "    V_d1 = hbar/np.sqrt(me*temp*1.6e-12)   # cm, erg s / (g erg)^(1/2), erg -> g cm^2 s^-2, Note here eV -> erg by a factor of 1.6e-12\n",
    "    V_d2 = Z0*qe**2 / (temp*1.6e-12)       # cm, qe -> m^1/2 l^3/2 / t, \n",
    "#     V    = np.maximum(omg_ts,omg_pe) * np.maximum(V_d1, V_d2)   # cm/s, from NRL (2019) P58 Eq.32\n",
    "    V    = np.maximum(omg_ts,omg_pe) * V_d2 \n",
    "    return np.log(vte/V)\n",
    "\n",
    "def LMD2(temp):\n",
    "    import numpy as np\n",
    "    Ld = 7.43e2 * temp**0.5 * ne**(-0.5)  # cm\n",
    "    ni = ne/Z0  # cm^-3\n",
    "    Ri = ni**(-1./3.)  # cm\n",
    "    vte  = 4.19e7 * temp**0.5              # cm/s\n",
    "    bmax = np.minimum(np.maximum(Ld, Ri), vte/omg_ts)\n",
    "    bmin = np.minimum(np.maximum(Z0*qe**2 / (temp*1.6e-12), hbar/np.sqrt(me*temp*1.6e-12)), Ri)  # bug from SI->CGS ???\n",
    "    return np.log(1 + 0.7 * bmax/bmin)\n",
    "\n",
    "# Inverse bremsstrahlung absorption coefficient for radiation of angular frequency 𝜔:\n",
    "# Considered the temperature dependence\n",
    "def nu_B(temp,coul_alog):\n",
    "    return 3.1e-7 * Z0 * ne**2 * coul_alog(temp) * temp**(-1.5) * omg_ts**-2. * (1.-omg_pe**2/omg_ts**2)**(-0.5)   # cm^-1, how to get cm^-1 from this equation????\n",
    "\n",
    "I_laser = I_ts*tgaussian(fwhm,order,center)\n",
    "\n",
    "# here's the integration, a typo in the formula (2 or e)?\n",
    "for t in range(num): \n",
    "    dt = (nu_B(Te[t],LMD1)*I_laser[t]/1.5/ne)/1.6e-19 * d_time\n",
    "    Te.append(Te[t]+dt)\n",
    "    dt2 = (nu_B(Te2[t],LMD2)*I_laser[t]/1.5/ne)/1.6e-19 * d_time\n",
    "    Te2.append(Te2[t]+dt2)"
   ]
  },
  {
   "cell_type": "code",
   "execution_count": 29,
   "metadata": {},
   "outputs": [
    {
     "data": {
      "image/png": "[encoded data removed]",
      "text/plain": [
       "<Figure size 314x314 with 2 Axes>"
      ]
     },
     "metadata": {},
     "output_type": "display_data"
    }
   ],
   "source": [
    "# import matplotlib as mpl\n",
    "# import matplotlib.pyplot as plt\n",
    "# plt.rc('text', usetex=False)\n",
    "# mpl.rcParams['font.family'] = 'Arial'\n",
    "# mpl.rcParams['axes.labelsize'] = 18\n",
    "# mpl.rcParams['legend.fontsize'] = 16#20\n",
    "# # mpl.rcParams['legend.fontname'] = 'Comic Sans MS'\n",
    "# mpl.rcParams['xtick.labelsize'] = 16\n",
    "# mpl.rcParams['ytick.labelsize'] = 16\n",
    "# mpl.rcParams['lines.linewidth'] = 1.2\n",
    "\n",
    "width  = 3.14*1. # single column, 8cm\n",
    "height = width\n",
    "fig, ax1 = plt.subplots()\n",
    "ax2 = ax1.twinx()\n",
    "\n",
    "p1,  = ax1.plot(time,Te[:-1],'-b',label=r'$T_e$')\n",
    "# p12, = ax1.plot(time,Te2[:-1],'--b',label='Te, with LMD2')\n",
    "# p2,  = ax2.semilogy(time,I_laser,'-r',label='I')\n",
    "p2,  = ax2.plot(time,I_laser,'--r',label=r'$I_0$')\n",
    "\n",
    "lines = [p1, p2]\n",
    "ax1.legend(lines, [l.get_label() for l in lines])\n",
    "ax1.yaxis.label.set_color(p1.get_color())\n",
    "ax2.yaxis.label.set_color(p2.get_color())\n",
    "\n",
    "# ax1.spines[\"left\"].set_edgecolor(p1.get_color())\n",
    "ax2.spines[\"right\"].set_edgecolor(p2.get_color())\n",
    "ax2.spines[\"left\"].set_edgecolor(p1.get_color())\n",
    "\n",
    "ax1.set_xlabel('Time (s)')\n",
    "ax1.set_ylabel('Te (eV)')\n",
    "ax2.set_ylabel(r'$I_0$ (W/cm$^2$)')\n",
    "ax2.set_ylim([0,4e14])\n",
    "# ax1.set_ylim([0,1200])\n",
    "# ax1.set_yticks([0,30,60,90,120,150])\n",
    "# ax1.set_yticklabels([0,30,60,90,120,150])\n",
    "ax1.set_xlim([0,5e-9])\n",
    "\n",
    "ax1.grid(linestyle=':', alpha=0.5)\n",
    "\n",
    "ax1.tick_params(axis='y', colors=p1.get_color())\n",
    "ax2.tick_params(axis='y', which='both', colors=p2.get_color())\n",
    "# fig.legend(loc=\"upper left\", bbox_to_anchor=(0,1), bbox_transform=ax1.transAxes)\n",
    "fig.set_size_inches(width, height)\n"
   ]
  },
  {
   "cell_type": "code",
   "execution_count": 6,
   "metadata": {},
   "outputs": [],
   "source": [
    "fig.savefig('/Users/yao/Desktop/'+'TS_heating_estimation'+'.pdf',bbox_inches='tight',dpi=600,transparent=False)"
   ]
  },
  {
   "cell_type": "code",
   "execution_count": null,
   "metadata": {},
   "outputs": [],
   "source": []
  },
  {
   "cell_type": "code",
   "execution_count": 30,
   "metadata": {},
   "outputs": [
    {
     "data": {
      "image/png": "[encoded data removed]",
      "text/plain": [
       "<Figure size 432x288 with 1 Axes>"
      ]
     },
     "metadata": {
      "needs_background": "light"
     },
     "output_type": "display_data"
    }
   ],
   "source": [
    "Z0   = 2\n",
    "qe   = 4.8e-10         # CGS\n",
    "hbar = 1.0e-27         # Planck constant\n",
    "me   = 9.1e-28         # electron mass, g\n",
    "\n",
    "temp = np.linspace(10,500,1000)\n",
    "V_d1 = hbar/np.sqrt(me*temp*1.6e-12)   # cm, erg s / (g erg)^(1/2), erg -> g cm^2 s^-2, Note here eV -> erg by a factor of 1.6e-12\n",
    "V_d2 = Z0*qe**2 / (temp*1.6e-12)       # cm, qe -> m^1/2 l^3/2 / t, \n",
    "plt.plot(temp, V_d2, '-r', label='Ze^2/kT')\n",
    "plt.plot(temp, V_d1, '-b', label='hbar/(mkT)')\n",
    "plt.xlabel('temperature [eV]')\n",
    "plt.legend()\n",
    "plt.grid()\n",
    "plt.show()"
   ]
  },
  {
   "cell_type": "code",
   "execution_count": 51,
   "metadata": {},
   "outputs": [
    {
     "data": {
      "text/plain": [
       "Text(0, 0.5, 'nu_B [cm^-1 ?]')"
      ]
     },
     "execution_count": 51,
     "metadata": {},
     "output_type": "execute_result"
    },
    {
     "data": {
      "image/png": "[encoded data removed]",
      "text/plain": [
       "<Figure size 432x288 with 1 Axes>"
      ]
     },
     "metadata": {
      "needs_background": "light"
     },
     "output_type": "display_data"
    }
   ],
   "source": [
    "plt.plot(temp, nu_B(temp))\n",
    "plt.xlabel('temp [eV]')\n",
    "plt.ylabel('nu_B [cm^-1 ?]')"
   ]
  },
  {
   "cell_type": "code",
   "execution_count": 5,
   "metadata": {},
   "outputs": [
    {
     "name": "stdout",
     "output_type": "stream",
     "text": [
      "plasma electron angular frequency = 1.78e+14 rad/s\n"
     ]
    }
   ],
   "source": [
    "qe   = 4.8e-10         # CGS\n",
    "hbar = 1.0e-27         # Planck constant\n",
    "me   = 9.1e-28         # electron mass, g\n",
    "\n",
    "ne   = 1e-2*1.0e21     # cm^-3,  in our case, 1e18\n",
    "Te0  = 10              # eV,     in our case, ?\n",
    "tau  = 600e-12         # s,      in our case, ?\n",
    "I0   = 3.8e13          # W/cm2,  in our case, ?\n",
    "Z0   = 1.0             # Hydrogen\n",
    "# nu_B calculated separately below according to other parameters\n",
    "c   = 3e10            # cm/s\n",
    "\n",
    "omg_pe  = 5.64e4 * ne**0.5\n",
    "print('plasma electron angular frequency = {:.2e} rad/s'.format(omg_pe))\n"
   ]
  },
  {
   "cell_type": "code",
   "execution_count": 31,
   "metadata": {},
   "outputs": [
    {
     "name": "stdout",
     "output_type": "stream",
     "text": [
      "Inverse bremsstrahlung absorption coefficient \n",
      " for radiation of angular frequency 1.88e+15 rad/s \n",
      " at initial temperature Te0 = 100.0 eV is 1.03e+00 cm^-1\n"
     ]
    }
   ],
   "source": [
    "## for \\nu_B, in NRL:\n",
    "# Te   = np.linspace(Te0,300,100)\n",
    "Te0 = 100.\n",
    "vte  = 4.19e7 * Te0**0.5   # cm/s\n",
    "V    = np.maximum(omg_ts,omg_pe) * (hbar/np.sqrt(me*Te0))\n",
    "nu_B = 3.1e-7 * Z0 * ne**2 * np.log(vte/V) * Te0**(-1.5) * omg_ts**-2. * (1.-omg_pe**2/omg_ts**2)**(-0.5)   # cm^-1\n",
    "print(\n",
    "'Inverse bremsstrahlung absorption coefficient \\n \\\n",
    "for radiation of angular frequency {:.2e} rad/s \\n \\\n",
    "at initial temperature Te0 = {:.1f} eV is {:.2e} cm^-1'.format(omg_ts,Te0, nu_B)\n",
    ")"
   ]
  },
  {
   "cell_type": "code",
   "execution_count": null,
   "metadata": {},
   "outputs": [],
   "source": []
  }
 ],
 "metadata": {
  "kernelspec": {
   "display_name": "Python 3",
   "language": "python",
   "name": "python3"
  },
  "language_info": {
   "codemirror_mode": {
    "name": "ipython",
    "version": 3
   },
   "file_extension": ".py",
   "mimetype": "text/x-python",
   "name": "python",
   "nbconvert_exporter": "python",
   "pygments_lexer": "ipython3",
   "version": "3.9.21"
  }
 },
 "nbformat": 4,
 "nbformat_minor": 4
}
