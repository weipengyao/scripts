{
 "cells": [
  {
   "cell_type": "code",
   "execution_count": 1,
   "id": "aa7a60cd",
   "metadata": {},
   "outputs": [],
   "source": [
    "%matplotlib qt"
   ]
  },
  {
   "cell_type": "code",
   "execution_count": 2,
   "id": "0b3d9b18",
   "metadata": {},
   "outputs": [
    {
     "name": "stderr",
     "output_type": "stream",
     "text": [
      "/var/folders/2t/97rc3fl92tg15k2l_4sk5hsh0000gn/T/ipykernel_24606/621321092.py:8: MatplotlibDeprecationWarning: The get_cmap function was deprecated in Matplotlib 3.7 and will be removed two minor releases later. Use ``matplotlib.colormaps[name]`` or ``matplotlib.colormaps.get_cmap(obj)`` instead.\n",
      "  jetcmap = plt.cm.get_cmap(\"jet\", 9) #generate a jet map with 10 values \"rainbow\", \"jet\", YlOrRd\n"
     ]
    }
   ],
   "source": [
    "import matplotlib as mpl\n",
    "import sys\n",
    "sys.path.append(\"/Users/yao/Smilei\")\n",
    "import happi\n",
    "import numpy as np\n",
    "import matplotlib.pyplot as plt\n",
    "\n",
    "jetcmap = plt.cm.get_cmap(\"jet\", 9) #generate a jet map with 10 values \"rainbow\", \"jet\", YlOrRd\n",
    "jet_vals = jetcmap(np.arange(9)) #extract those values as an array \n",
    "jet_vals[0] = [1.0, 1, 1.0, 1] #change the first value \n",
    "jet_vals[8] = [0.0, 0, 0.0, 1] #change the first value \n",
    "newcmap = mpl.colors.LinearSegmentedColormap.from_list(\"mine\", jet_vals) \n",
    "\n",
    "from matplotlib import font_manager\n",
    "\n",
    "font_dirs = ['/Users/yao/Documents/Calibri and Cambria Fonts/']\n",
    "font_files = font_manager.findSystemFonts(fontpaths=font_dirs)\n",
    "\n",
    "for font_file in font_files:\n",
    "    font_manager.fontManager.addfont(font_file)\n",
    "\n",
    "# set font\n",
    "plt.rcParams['font.family'] = 'Calibri'\n",
    "\n",
    "plt.rc('text', usetex=False)\n",
    "plt.rc('xtick', labelsize=14)\n",
    "plt.rc('ytick', labelsize=14)\n",
    "plt.rc('axes', labelsize=14)\n",
    "plt.rc('legend', fontsize=12)"
   ]
  },
  {
   "cell_type": "code",
   "execution_count": 6,
   "id": "b5f81778",
   "metadata": {},
   "outputs": [
    {
     "name": "stdout",
     "output_type": "stream",
     "text": [
      "Loaded simulation '/Users/yao/Desktop/IFE_FlatTop_3D/'\n",
      "Scanning for Scalar diagnostics\n",
      "Scanning for Field diagnostics\n",
      "Scanning for Probe diagnostics\n",
      "Scanning for ParticleBinning diagnostics\n",
      "Scanning for RadiationSpectrum diagnostics\n",
      "Scanning for Performance diagnostics\n",
      "Scanning for Screen diagnostics\n",
      "Scanning for Tracked particle diagnostics\n",
      "Scanning for new particle diagnostics\n",
      "Loaded simulation '/Users/yao/Desktop/ife_yao0/'\n",
      "Scanning for Scalar diagnostics\n",
      "Scanning for Field diagnostics\n",
      "Scanning for Probe diagnostics\n",
      "Scanning for ParticleBinning diagnostics\n",
      "Scanning for RadiationSpectrum diagnostics\n",
      "Scanning for Performance diagnostics\n",
      "Scanning for Screen diagnostics\n",
      "Scanning for Tracked particle diagnostics\n",
      "Scanning for new particle diagnostics\n"
     ]
    }
   ],
   "source": [
    "## prepare simulation data\n",
    "\n",
    "wkdir = [\n",
    "    #  '/Users/yao/Documents/Data/IFE/test0/laser_propagation_3d', # with only test particles\n",
    "    #  '/Users/yao/Documents/Data/IFE/test0/laser_propagation_3d_target/', # with a thin foil target\n",
    "    #  '/Users/yao/Desktop/test1/',\n",
    "     '/Users/yao/Desktop/IFE_FlatTop_3D/',\n",
    "     '/Users/yao/Desktop/ife_yao0/',\n",
    "    ]\n",
    "\n",
    "S0 = happi.Open(wkdir[0], reference_angular_frequency_SI = 2.0*np.pi*3e8/(1.0*1e-6))\n",
    "S1 = happi.Open(wkdir[1], reference_angular_frequency_SI = 2.0*np.pi*3e8/(1.0*1e-6))\n"
   ]
  },
  {
   "cell_type": "code",
   "execution_count": 7,
   "id": "17857266",
   "metadata": {},
   "outputs": [
    {
     "name": "stdout",
     "output_type": "stream",
     "text": [
      "Lx =  80.0\n",
      "Ly =  25.6\n",
      "Lz =  25.6\n"
     ]
    }
   ],
   "source": [
    "Lx = S0.namelist.Lx / 2 / np.pi      # in um\n",
    "print(\"Lx = \", Lx)\n",
    "Ly = S0.namelist.Ly / 2 / np.pi      # in um\n",
    "print(\"Ly = \", Ly)\n",
    "Lz = S0.namelist.Lz / 2 / np.pi      # in um\n",
    "print(\"Lz = \", Lz)"
   ]
  },
  {
   "cell_type": "code",
   "execution_count": 9,
   "id": "f289c408",
   "metadata": {},
   "outputs": [],
   "source": [
    "Bxm0 = S0.Field(0,\"Bx_m\",subset={'z':Lz/2.},\n",
    "         units=['um','fs','T'],\n",
    "         vsym=True,\n",
    "         cmap='smileiD',\n",
    "         aspect='equal',\n",
    "         )\n",
    "# Bxm.set(layout='tight')\n",
    "Bxm1 = S1.Field(0,\"Bx_m\",subset={'z':Lz/2.},\n",
    "         units=['um','fs','T'],\n",
    "         vsym=True,\n",
    "         cmap='smileiD',\n",
    "         aspect='equal',\n",
    "         )\n",
    "\n",
    "happi.multiSlide(Bxm0, Bxm1,shape=(2,1))"
   ]
  },
  {
   "cell_type": "code",
   "execution_count": 37,
   "id": "0e02bc47",
   "metadata": {},
   "outputs": [],
   "source": [
    "def fft_field_analysis(S, diag_num, field_name, slice_direction, slice_position, timestep, k_filter_x, k_filter_y):\n",
    "    \"\"\"\n",
    "    Perform FFT analysis on a given field from the simulation data.\n",
    "    \n",
    "    Parameters:\n",
    "    S : happi.Simulation\n",
    "        The simulation object.\n",
    "    diag_num : int\n",
    "        The diagnostic number of the field.\n",
    "    field_name : str\n",
    "        The name of the field to analyze.\n",
    "    slice_direction : str\n",
    "        e.g., 'x', 'y', 'z', etc.\n",
    "    slice_position : float\n",
    "        The position to slice the field (e.g., Lz/2).\n",
    "    timestep : int\n",
    "        The timestep at which to perform the analysis.\n",
    "    k_filter_x, k_filter_y : float\n",
    "        The mask to filter out the signals. Laser is 1.\n",
    "    \n",
    "    Returns:\n",
    "    kx : np.ndarray\n",
    "        The wave numbers in the x-direction.\n",
    "    ky : np.ndarray\n",
    "        The wave numbers in the y-direction.\n",
    "    spectrum : np.ndarray\n",
    "        The FFT spectrum of the field.\n",
    "    \"\"\"\n",
    "    field = S.Field(diag_num, field_name, subset={slice_direction:slice_position},\n",
    "                    units=['um','fs','T'],\n",
    "                    vsym=True)\n",
    "    \n",
    "    data = np.array(field.getData()[timestep])\n",
    "    field_x = np.array(field.getAxis('x'))\n",
    "    field_y = np.array(field.getAxis('y'))\n",
    "    Nx = data.shape[0]\n",
    "    Ny = data.shape[1]\n",
    "    dx = field_x[1] - field_x[0]\n",
    "    dy = field_y[1] - field_y[0]\n",
    "    kx = np.fft.fftfreq(Nx, d=dx) * 2 * np.pi #spatial freq extents\n",
    "    ky = np.fft.fftfreq(Ny, d=dy) * 2 * np.pi\n",
    "    KX, KY = np.meshgrid(kx, ky, indexing='ij')\n",
    "\n",
    "    pwr=12 #super gaussian power\n",
    "    # k_filter_x = 0.8\n",
    "    # k_filter_y = 15\n",
    "    mask = np.exp(- np.sqrt((KX / k_filter_x)**2 + (KY / k_filter_y)**2)**pwr)\n",
    "\n",
    "    data_fft  = np.fft.fft2(data, axes=(0,1))   # shape (Nx, Ny)\n",
    "    Diag_data = np.real(np.fft.ifft2(data_fft* mask[:,:]))\n",
    "    \n",
    "    return kx, ky, data, Diag_data\n"
   ]
  },
  {
   "cell_type": "code",
   "execution_count": 45,
   "id": "11e99211",
   "metadata": {},
   "outputs": [],
   "source": [
    "kx0, ky0, Bx0, Bx0_masked = fft_field_analysis(S0, 0, \"Bx_m\", 'z', Lz/2., -1, 0.9, 15)\n",
    "kx1, ky1, Bx1, Bx1_masked = fft_field_analysis(S1, 0, \"Bx_m\", 'z', Lz/2., -1, 0.9, 15)"
   ]
  },
  {
   "cell_type": "code",
   "execution_count": 47,
   "id": "1d18a970",
   "metadata": {},
   "outputs": [],
   "source": [
    "import matplotlib.pyplot as plt\n",
    "from mpl_toolkits.axes_grid1 import make_axes_locatable\n",
    "\n",
    "fig, ax = plt.subplots(figsize=(6, 5))\n",
    "\n",
    "im = ax.imshow(Bx0_masked.T,\n",
    "               origin='lower',\n",
    "               extent=[0, Lx/2, 0, Ly],\n",
    "            #    vmin=-8000, vmax=8000,\n",
    "               aspect='equal',\n",
    "               cmap='bwr')\n",
    "\n",
    "# Make a colorbar axis that exactly matches the height of `ax`\n",
    "divider = make_axes_locatable(ax)\n",
    "cax = divider.append_axes(\"right\", size=\"5%\", pad=0.05)  # width & gap\n",
    "cb = fig.colorbar(im, cax=cax)\n",
    "\n",
    "ax.set_xlabel('x (um)')\n",
    "ax.set_ylabel('y (um)')\n",
    "\n",
    "plt.tight_layout()"
   ]
  },
  {
   "cell_type": "code",
   "execution_count": 13,
   "id": "996a69e7",
   "metadata": {},
   "outputs": [
    {
     "name": "stdout",
     "output_type": "stream",
     "text": [
      "\n",
      "#0 - user_function of species # 1\n",
      "    y from 0 to 160.85 in 128 steps \n",
      "    z from 0 to 160.85 in 128 steps \n",
      "\n",
      "The value in each bin is the sum of the `deposited_quantity` divided by the bin size and by grid_length[0]\n",
      "\n"
     ]
    }
   ],
   "source": [
    "S0.ParticleBinning(0,units=['um','fs','T','V/m','cm^-3'],\n",
    "                   aspect='equal',\n",
    "                #    data_log=True,\n",
    "                   cmap='smileiD',\n",
    "                   vsym=True,\n",
    "                #    vmin=19,\n",
    "                #    vmax=23,\n",
    "                #    subset={'z':S0.namelist.Ltrans/2.},\n",
    "                #    subset={'x':S0.namelist.Ltrans/2.},\n",
    "                   ).slide()    "
   ]
  },
  {
   "cell_type": "code",
   "execution_count": 14,
   "id": "ee3fa364",
   "metadata": {},
   "outputs": [
    {
     "name": "stdout",
     "output_type": "stream",
     "text": [
      "\n",
      "#1 - user_function of species # 0\n",
      "    y from 0 to 160.85 in 128 steps \n",
      "    z from 0 to 160.85 in 128 steps \n",
      "\n",
      "The value in each bin is the sum of the `deposited_quantity` divided by the bin size and by grid_length[0]\n",
      "\n"
     ]
    }
   ],
   "source": [
    "S0.ParticleBinning(1,units=['um','fs','T','V/m','cm^-3'],\n",
    "                   aspect='equal',\n",
    "                #    data_log=True,\n",
    "                   cmap='smileiD',\n",
    "                   vsym=True,\n",
    "                #    vmin=19,\n",
    "                #    vmax=23,\n",
    "                #    subset={'z':S0.namelist.Ltrans/2.},\n",
    "                #    subset={'x':S0.namelist.Ltrans/2.},\n",
    "                   ).slide()    "
   ]
  },
  {
   "cell_type": "code",
   "execution_count": 15,
   "id": "800adedd",
   "metadata": {},
   "outputs": [
    {
     "name": "stdout",
     "output_type": "stream",
     "text": [
      "\n",
      "#2 - user_function of species # 2\n",
      "    y from 0 to 160.85 in 128 steps \n",
      "    z from 0 to 160.85 in 128 steps \n",
      "\n",
      "The value in each bin is the sum of the `deposited_quantity` divided by the bin size and by grid_length[0]\n",
      "\n"
     ]
    }
   ],
   "source": [
    "S0.ParticleBinning(2,units=['um','fs','T','V/m','cm^-3'],\n",
    "                   aspect='equal',\n",
    "                #    data_log=True,\n",
    "                   cmap='smileiD',\n",
    "                   vsym=True,\n",
    "                #    vmin=19,\n",
    "                #    vmax=23,\n",
    "                #    subset={'z':S0.namelist.Ltrans/2.},\n",
    "                #    subset={'x':S0.namelist.Ltrans/2.},\n",
    "                   ).slide()    "
   ]
  },
  {
   "cell_type": "code",
   "execution_count": null,
   "id": "53303a71",
   "metadata": {},
   "outputs": [],
   "source": []
  }
 ],
 "metadata": {
  "kernelspec": {
   "display_name": "Python 3",
   "language": "python",
   "name": "python3"
  },
  "language_info": {
   "codemirror_mode": {
    "name": "ipython",
    "version": 3
   },
   "file_extension": ".py",
   "mimetype": "text/x-python",
   "name": "python",
   "nbconvert_exporter": "python",
   "pygments_lexer": "ipython3",
   "version": "3.9.22"
  }
 },
 "nbformat": 4,
 "nbformat_minor": 5
}
