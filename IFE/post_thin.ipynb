{
 "cells": [
  {
   "cell_type": "code",
   "execution_count": 1,
   "id": "c4f50ce5",
   "metadata": {},
   "outputs": [],
   "source": [
    "%matplotlib qt"
   ]
  },
  {
   "cell_type": "code",
   "execution_count": 2,
   "id": "c6b5e7f9",
   "metadata": {},
   "outputs": [
    {
     "name": "stderr",
     "output_type": "stream",
     "text": [
      "/var/folders/2t/97rc3fl92tg15k2l_4sk5hsh0000gn/T/ipykernel_55415/621321092.py:8: MatplotlibDeprecationWarning: The get_cmap function was deprecated in Matplotlib 3.7 and will be removed two minor releases later. Use ``matplotlib.colormaps[name]`` or ``matplotlib.colormaps.get_cmap(obj)`` instead.\n",
      "  jetcmap = plt.cm.get_cmap(\"jet\", 9) #generate a jet map with 10 values \"rainbow\", \"jet\", YlOrRd\n"
     ]
    }
   ],
   "source": [
    "import matplotlib as mpl\n",
    "import sys\n",
    "sys.path.append(\"/Users/yao/Smilei\")\n",
    "import happi\n",
    "import numpy as np\n",
    "import matplotlib.pyplot as plt\n",
    "\n",
    "jetcmap = plt.cm.get_cmap(\"jet\", 9) #generate a jet map with 10 values \"rainbow\", \"jet\", YlOrRd\n",
    "jet_vals = jetcmap(np.arange(9)) #extract those values as an array \n",
    "jet_vals[0] = [1.0, 1, 1.0, 1] #change the first value \n",
    "jet_vals[8] = [0.0, 0, 0.0, 1] #change the first value \n",
    "newcmap = mpl.colors.LinearSegmentedColormap.from_list(\"mine\", jet_vals) \n",
    "\n",
    "from matplotlib import font_manager\n",
    "\n",
    "font_dirs = ['/Users/yao/Documents/Calibri and Cambria Fonts/']\n",
    "font_files = font_manager.findSystemFonts(fontpaths=font_dirs)\n",
    "\n",
    "for font_file in font_files:\n",
    "    font_manager.fontManager.addfont(font_file)\n",
    "\n",
    "# set font\n",
    "plt.rcParams['font.family'] = 'Calibri'\n",
    "\n",
    "plt.rc('text', usetex=False)\n",
    "plt.rc('xtick', labelsize=14)\n",
    "plt.rc('ytick', labelsize=14)\n",
    "plt.rc('axes', labelsize=14)\n",
    "plt.rc('legend', fontsize=12)"
   ]
  },
  {
   "cell_type": "code",
   "execution_count": 3,
   "id": "401b922b",
   "metadata": {},
   "outputs": [
    {
     "name": "stdout",
     "output_type": "stream",
     "text": [
      "Loaded simulation '/Users/yao/Desktop/data/ife_yao2_cp2/'\n",
      "Scanning for Scalar diagnostics\n",
      "Scanning for Field diagnostics\n",
      "Scanning for Probe diagnostics\n",
      "Scanning for ParticleBinning diagnostics\n",
      "Scanning for RadiationSpectrum diagnostics\n",
      "Scanning for Performance diagnostics\n",
      "Scanning for Screen diagnostics\n",
      "Scanning for Tracked particle diagnostics\n",
      "Scanning for new particle diagnostics\n"
     ]
    }
   ],
   "source": [
    "## prepare simulation data\n",
    "\n",
    "wkdir = [\n",
    "    #  '/Users/yao/Documents/Data/IFE/test0/laser_propagation_3d', # with only test particles\n",
    "    #  '/Users/yao/Documents/Data/IFE/test0/laser_propagation_3d_target/', # with a thin foil target\n",
    "    #  '/Users/yao/Desktop/test1/',\n",
    "    #  '/Users/yao/Desktop/test2/',\n",
    "     '/Users/yao/Desktop/data/ife_yao2_cp2/',\n",
    "    ]\n",
    "\n",
    "S0 = happi.Open(wkdir[0], reference_angular_frequency_SI = 2.0*np.pi*3e8/(1.0*1e-6))\n",
    "# S1 = happi.Open(wkdir[1], reference_angular_frequency_SI = 2.0*np.pi*3e8/(1.0*1e-6))\n"
   ]
  },
  {
   "cell_type": "code",
   "execution_count": 4,
   "id": "58ea23d9",
   "metadata": {},
   "outputs": [
    {
     "ename": "AttributeError",
     "evalue": "'Namelist' object has no attribute 'grid_length'",
     "output_type": "error",
     "traceback": [
      "\u001b[0;31m---------------------------------------------------------------------------\u001b[0m",
      "\u001b[0;31mAttributeError\u001b[0m                            Traceback (most recent call last)",
      "Cell \u001b[0;32mIn[4], line 1\u001b[0m\n\u001b[0;32m----> 1\u001b[0m Lx \u001b[38;5;241m=\u001b[39m \u001b[43mS0\u001b[49m\u001b[38;5;241;43m.\u001b[39;49m\u001b[43mnamelist\u001b[49m\u001b[38;5;241;43m.\u001b[39;49m\u001b[43mgrid_length\u001b[49m[\u001b[38;5;241m0\u001b[39m]\u001b[38;5;241m.\u001b[39mreal \u001b[38;5;241m/\u001b[39m \u001b[38;5;241m2\u001b[39m \u001b[38;5;241m/\u001b[39m np\u001b[38;5;241m.\u001b[39mpi      \u001b[38;5;66;03m# in um\u001b[39;00m\n\u001b[1;32m      2\u001b[0m \u001b[38;5;28mprint\u001b[39m(\u001b[38;5;124m\"\u001b[39m\u001b[38;5;124mLx = \u001b[39m\u001b[38;5;124m\"\u001b[39m, Lx)\n\u001b[1;32m      3\u001b[0m Ly \u001b[38;5;241m=\u001b[39m S0\u001b[38;5;241m.\u001b[39mnamelist\u001b[38;5;241m.\u001b[39mgrid_length[\u001b[38;5;241m1\u001b[39m]\u001b[38;5;241m.\u001b[39mreal \u001b[38;5;241m/\u001b[39m \u001b[38;5;241m2\u001b[39m \u001b[38;5;241m/\u001b[39m np\u001b[38;5;241m.\u001b[39mpi      \u001b[38;5;66;03m# in um\u001b[39;00m\n",
      "\u001b[0;31mAttributeError\u001b[0m: 'Namelist' object has no attribute 'grid_length'"
     ]
    }
   ],
   "source": [
    "Lx = S0.namelist.grid_length[0].real / 2 / np.pi      # in um\n",
    "print(\"Lx = \", Lx)\n",
    "Ly = S0.namelist.grid_length[1].real / 2 / np.pi      # in um\n",
    "print(\"Ly = \", Ly)\n",
    "Lz = S0.namelist.grid_length[1].real / 2 / np.pi      # in um\n",
    "print(\"Lz = \", Lz)"
   ]
  },
  {
   "cell_type": "code",
   "execution_count": 6,
   "id": "51e0c062",
   "metadata": {},
   "outputs": [],
   "source": [
    "## here, I check probe 0 and 1\n",
    "\n",
    "Ex_probe = S0.Probe(0, \"Ex\",\n",
    "         units=['um','fs','V/m'],\n",
    "        #  subset={'r':0.}\n",
    "        # modes=1,\n",
    "        # theta=0,  \n",
    "         ).getData()[:]"
   ]
  },
  {
   "cell_type": "code",
   "execution_count": 7,
   "id": "857caaad",
   "metadata": {},
   "outputs": [
    {
     "data": {
      "text/plain": [
       "(68, 125, 123, 100)"
      ]
     },
     "execution_count": 7,
     "metadata": {},
     "output_type": "execute_result"
    }
   ],
   "source": [
    "Ex_probe = np.array(Ex_probe)\n",
    "Ex_probe.shape"
   ]
  },
  {
   "cell_type": "code",
   "execution_count": 8,
   "id": "c58bf817",
   "metadata": {},
   "outputs": [
    {
     "data": {
      "text/plain": [
       "Text(0, 0.5, 'y (um)')"
      ]
     },
     "execution_count": 8,
     "metadata": {},
     "output_type": "execute_result"
    }
   ],
   "source": [
    "plt.imshow(Ex_probe[20, :,:,40].T,\n",
    "           origin='lower',\n",
    "           extent=[0, Lx, 0, Ly],\n",
    "           vmin=-5e11, vmax=5e11,\n",
    "           cmap='bwr')\n",
    "plt.colorbar(label='Ex (V/m)')\n",
    "plt.xlabel('x (um)')\n",
    "plt.ylabel('y (um)')"
   ]
  },
  {
   "cell_type": "code",
   "execution_count": 112,
   "id": "b79fa5de",
   "metadata": {},
   "outputs": [],
   "source": [
    "## here, I check probe 2\n",
    "\n",
    "Ex_probe = S1.Probe(2, \"Ey\",\n",
    "         units=['um','fs','V/m'],\n",
    "        #  subset={'r':0.}\n",
    "        # modes=1,\n",
    "        # theta=0,  \n",
    "         ).getData()[:]"
   ]
  },
  {
   "cell_type": "code",
   "execution_count": 113,
   "id": "7f20aa1b",
   "metadata": {},
   "outputs": [
    {
     "data": {
      "text/plain": [
       "(397, 5, 123, 100)"
      ]
     },
     "execution_count": 113,
     "metadata": {},
     "output_type": "execute_result"
    }
   ],
   "source": [
    "Ex_probe = np.array(Ex_probe)\n",
    "Ex_probe.shape"
   ]
  },
  {
   "cell_type": "code",
   "execution_count": 122,
   "id": "ae6f76bd",
   "metadata": {},
   "outputs": [
    {
     "data": {
      "text/plain": [
       "Text(0, 0.5, 'z (um)')"
      ]
     },
     "execution_count": 122,
     "metadata": {},
     "output_type": "execute_result"
    },
    {
     "data": {
      "image/png": "[encoded data removed]",
      "text/plain": [
       "<Figure size 640x480 with 2 Axes>"
      ]
     },
     "metadata": {},
     "output_type": "display_data"
    }
   ],
   "source": [
    "plt.imshow(Ex_probe[100, 4,:,:].T,\n",
    "           origin='lower',\n",
    "           extent=[0, Ly, 0, Lz],\n",
    "        #    vmin=-3e12, vmax=3e12,\n",
    "           cmap='bwr')\n",
    "plt.colorbar(label='Ey (V/m)')\n",
    "plt.xlabel('y (um)')\n",
    "plt.ylabel('z (um)')"
   ]
  },
  {
   "cell_type": "code",
   "execution_count": 9,
   "id": "e8f59fe4",
   "metadata": {},
   "outputs": [
    {
     "name": "stdout",
     "output_type": "stream",
     "text": [
      "Field diagnostic #0: Bx_m\n",
      "\tTime_average: 28 timesteps\n",
      "\tGrid offset: 0.0, 0.0, 157.07963267948966\n",
      "\tGrid spacing: 0.7853981633974483, 1.1780972450961724, 0.39269908169872414\n",
      "\tsubset at z = [157.07963268] L_r\n"
     ]
    }
   ],
   "source": [
    "Bxm = S0.Field(0, \"Bx_m\",subset={'z':Lz/2.},\n",
    "         units=['um','fs','T'],\n",
    "         vsym=True,\n",
    "         cmap='smileiD',\n",
    "         aspect='equal',\n",
    "         )\n",
    "# Bxm.set(layout='tight')\n",
    "Bxm.slide()"
   ]
  },
  {
   "cell_type": "code",
   "execution_count": 11,
   "id": "cebd0934",
   "metadata": {},
   "outputs": [
    {
     "name": "stdout",
     "output_type": "stream",
     "text": [
      "Probe #0: 3-dimensional, with fields Ex,Ey,Ez,Bx,By,Bz\n",
      "\tp0 = 0.0 0.0 0.0\n",
      "\tp1 = 376.99111843077515 0.0 0.0\n",
      "\tp2 = 0.0 314.1592653589793 0.0\n",
      "\tp3 = 0.0 0.0 314.1592653589793\n",
      "\tnumber = 125 123 100\n",
      "\tsubset at axis3 = [25.3866073] L_r\n"
     ]
    }
   ],
   "source": [
    "S0.Probe(0, 'Bx',\n",
    "         subset={'axis3':Lz/2.},\n",
    "        # subset={'axis3':50},\n",
    "         units=['um','fs','T','V/m'],\n",
    "         vsym=True,\n",
    "         cmap='smileiD',\n",
    "         aspect='equal',\n",
    "         ).slide()\n",
    "\n",
    "#try to check with getData()"
   ]
  },
  {
   "cell_type": "code",
   "execution_count": 12,
   "id": "cb8b9272",
   "metadata": {},
   "outputs": [],
   "source": [
    "B_probe = S0.Probe(0, \"Bx\",\n",
    "         units=['um','fs','V/m','T'],\n",
    "        #  subset={'r':0.}\n",
    "        # modes=1,\n",
    "        # theta=0,  \n",
    "         ).getData()[:]"
   ]
  },
  {
   "cell_type": "code",
   "execution_count": 13,
   "id": "d988a12c",
   "metadata": {},
   "outputs": [
    {
     "data": {
      "text/plain": [
       "(68, 125, 123, 100)"
      ]
     },
     "execution_count": 13,
     "metadata": {},
     "output_type": "execute_result"
    }
   ],
   "source": [
    "B_probe = np.array(B_probe)\n",
    "B_probe.shape"
   ]
  },
  {
   "cell_type": "code",
   "execution_count": 28,
   "id": "ca59d03c",
   "metadata": {},
   "outputs": [],
   "source": [
    "import matplotlib.pyplot as plt\n",
    "from mpl_toolkits.axes_grid1 import make_axes_locatable\n",
    "\n",
    "fig, ax = plt.subplots(figsize=(6, 5))\n",
    "\n",
    "im = ax.imshow(B_probe[67, :,:,50].T,\n",
    "               origin='lower',\n",
    "               extent=[0, Lx, 0, Ly],\n",
    "               vmin=-4000, vmax=4000,\n",
    "               cmap='bwr')\n",
    "\n",
    "# Make a colorbar axis that exactly matches the height of `ax`\n",
    "divider = make_axes_locatable(ax)\n",
    "cax = divider.append_axes(\"right\", size=\"5%\", pad=0.05)  # width & gap\n",
    "cb = fig.colorbar(im, cax=cax)\n",
    "\n",
    "ax.set_xlabel('x (um)')\n",
    "ax.set_ylabel('y (um)')\n",
    "\n",
    "plt.tight_layout()"
   ]
  },
  {
   "cell_type": "code",
   "execution_count": 29,
   "id": "eaa1b694",
   "metadata": {},
   "outputs": [
    {
     "name": "stdout",
     "output_type": "stream",
     "text": [
      "Probe #2: 2-dimensional, with fields Bx,Jy,Jz,Jx\n",
      "\tp0 = 0.0 0.0 157.07963267948966\n",
      "\tp1 = 376.99111843077515 0.0 157.07963267948966\n",
      "\tp2 = 0.0 314.1592653589793 157.07963267948966\n",
      "\tnumber = 500 323\n"
     ]
    }
   ],
   "source": [
    "S0.Probe('long', 'Bx',\n",
    "        #  subset={'axis3':Lz/2.},\n",
    "        # subset={'axis3':49},\n",
    "         units=['um','fs','T','V/m'],\n",
    "         vsym=True,\n",
    "         cmap='smileiD',\n",
    "         aspect='equal',\n",
    "         ).slide()"
   ]
  },
  {
   "cell_type": "code",
   "execution_count": 33,
   "id": "751e5377",
   "metadata": {},
   "outputs": [
    {
     "name": "stdout",
     "output_type": "stream",
     "text": [
      "Probe #1: 3-dimensional, with fields Bx,Jy,Jz,Jx\n",
      "\tp0 = 37.69911184307752 0.0 0.0\n",
      "\tp1 = 339.29200658769764 0.0 0.0\n",
      "\tp2 = 37.69911184307752 314.1592653589793 0.0\n",
      "\tp3 = 37.69911184307752 0.0 314.1592653589793\n",
      "\tnumber = 5 323 300\n",
      "\tsubset at axis1 = [150.79644737] L_r\n"
     ]
    }
   ],
   "source": [
    "S0.Probe('trans', 'Bx',\n",
    "         subset={'axis1':Lz/2.*5.},\n",
    "        # subset={'axis1':4},\n",
    "         units=['um','fs','T','V/m'],\n",
    "         vsym=True,\n",
    "         cmap='smileiD',\n",
    "         aspect='equal',\n",
    "         ).slide()"
   ]
  },
  {
   "cell_type": "code",
   "execution_count": 34,
   "id": "27e6a7df",
   "metadata": {},
   "outputs": [
    {
     "name": "stdout",
     "output_type": "stream",
     "text": [
      "\n",
      "#0 - Number density of species # 0\n",
      "    x from 0 to 376.991 in 500 steps \n",
      "    y from 0 to 314.159 in 323 steps \n",
      "    z from 156.294 to 157.865 in 3 steps \n",
      "\n",
      "subset at z = [157.0795] L_r\n",
      "The value in each bin is the sum of the `deposited_quantity` divided by the bin size\n",
      "\n"
     ]
    },
    {
     "name": "stderr",
     "output_type": "stream",
     "text": [
      "/Users/yao/Smilei/happi/_Diagnostics/Diagnostic.py:857: RuntimeWarning: divide by zero encountered in log10\n",
      "  return self._np.log10( self._dataLinAtTime(t) )\n"
     ]
    }
   ],
   "source": [
    "S0.ParticleBinning(0,units=['um','fs','T','V/m','cm^-3'],\n",
    "                   aspect='equal',\n",
    "                   data_log=True,\n",
    "                   cmap=newcmap,\n",
    "                   vmin=19,\n",
    "                   vmax=23,\n",
    "                   subset={'z':S0.namelist.Ltrans/2.},\n",
    "                #    subset={'x':S0.namelist.Ltrans/2.},\n",
    "                   ).slide()    "
   ]
  },
  {
   "cell_type": "code",
   "execution_count": 36,
   "id": "91686410",
   "metadata": {},
   "outputs": [
    {
     "name": "stdout",
     "output_type": "stream",
     "text": [
      "\n",
      "#1 - Number density of species # 0\n",
      "    Averaging over 28 timesteps\n",
      "    x from 0 to 376.991 in 500 steps \n",
      "    y from 0 to 314.159 in 323 steps \n",
      "    z from 156.294 to 157.865 in 3 steps \n",
      "\n",
      "subset at z = [157.0795] L_r\n",
      "The value in each bin is the sum of the `deposited_quantity` divided by the bin size\n",
      "\n"
     ]
    }
   ],
   "source": [
    "S0.ParticleBinning(1,units=['um','fs','T','V/m','cm^-3'],\n",
    "                   aspect='equal',\n",
    "                   data_log=True,\n",
    "                   cmap=newcmap,\n",
    "                   vmin=17,\n",
    "                   vmax=23,\n",
    "                   subset={'z':S0.namelist.Ltrans/2.},\n",
    "                #    subset={'x':S0.namelist.Ltrans/2.},\n",
    "                   ).slide()    "
   ]
  },
  {
   "cell_type": "code",
   "execution_count": 40,
   "id": "49c30a64",
   "metadata": {},
   "outputs": [
    {
     "name": "stdout",
     "output_type": "stream",
     "text": [
      "\n",
      "#2 - Number density of species # 0\n",
      "    x from 0 to 376.991 in 5 steps \n",
      "    y from 0 to 314.159 in 323 steps \n",
      "    z from 0 to 314.159 in 300 steps \n",
      "\n",
      "subset at x = [263.8937] L_r\n",
      "The value in each bin is the sum of the `deposited_quantity` divided by the bin size\n",
      "\n"
     ]
    }
   ],
   "source": [
    "S0.ParticleBinning(2,units=['um','fs','T','V/m','cm^-3'],\n",
    "                   aspect='equal',\n",
    "                   data_log=True,\n",
    "                   cmap=newcmap,\n",
    "                   vmin=17,\n",
    "                   vmax=23,\n",
    "                #    subset={'z':S0.namelist.Ltrans/2.},\n",
    "                   subset={'x':S0.namelist.Llong*3./5.},\n",
    "                   ).slide()   "
   ]
  },
  {
   "cell_type": "code",
   "execution_count": 43,
   "id": "c85a4886",
   "metadata": {},
   "outputs": [
    {
     "name": "stdout",
     "output_type": "stream",
     "text": [
      "\n",
      "#3 - user_function of species # 0\n",
      "    Averaging over 28 timesteps\n",
      "    x from 0 to 376.991 in 500 steps \n",
      "    y from 0 to 314.159 in 323 steps \n",
      "    z from 156.294 to 157.865 in 3 steps \n",
      "\n",
      "subset at z = [157.0795] L_r\n",
      "The value in each bin is the sum of the `deposited_quantity` divided by the bin size\n",
      "\n"
     ]
    }
   ],
   "source": [
    "S0.ParticleBinning(\"vr_W\",units=['um','fs','T','V/m','cm^-3'],\n",
    "                   aspect='equal',\n",
    "                #    data_log=True,\n",
    "                   cmap='smileiD',\n",
    "                   vmin=-0.1,\n",
    "                   vmax=0.1,\n",
    "                   subset={'z':S0.namelist.Ltrans/2.},\n",
    "                #    subset={'x':S0.namelist.Ltrans/2.},\n",
    "                   ).slide()    "
   ]
  },
  {
   "cell_type": "code",
   "execution_count": 44,
   "id": "80370eb8",
   "metadata": {},
   "outputs": [
    {
     "name": "stdout",
     "output_type": "stream",
     "text": [
      "\n",
      "#4 - user_function of species # 0\n",
      "    x from 0 to 376.991 in 5 steps \n",
      "    y from 0 to 314.159 in 323 steps \n",
      "    z from 0 to 314.159 in 300 steps \n",
      "\n",
      "subset at x = [113.0973] L_r\n",
      "The value in each bin is the sum of the `deposited_quantity` divided by the bin size\n",
      "\n"
     ]
    }
   ],
   "source": [
    "S0.ParticleBinning(\"vr_W_trans\",units=['um','fs','T','V/m','cm^-3'],\n",
    "                   aspect='equal',\n",
    "                #    data_log=True,\n",
    "                   cmap='smileiD',\n",
    "                   vmin=-0.01,\n",
    "                   vmax=0.01,\n",
    "                #    subset={'z':S0.namelist.Ltrans/2.},\n",
    "                   subset={'x':S0.namelist.Llong*1./5.},\n",
    "                   ).slide()    "
   ]
  },
  {
   "cell_type": "code",
   "execution_count": 45,
   "id": "953fca5b",
   "metadata": {},
   "outputs": [
    {
     "name": "stdout",
     "output_type": "stream",
     "text": [
      "\n",
      "#5 - user_function of species # 0\n",
      "    Averaging over 28 timesteps\n",
      "    x from 0 to 376.991 in 500 steps \n",
      "    y from 0 to 314.159 in 323 steps \n",
      "    z from 156.294 to 157.865 in 3 steps \n",
      "\n",
      "subset at z = [157.0795] L_r\n",
      "The value in each bin is the sum of the `deposited_quantity` divided by the bin size\n",
      "\n"
     ]
    }
   ],
   "source": [
    "S0.ParticleBinning(\"Lx_W\",units=['um','fs','T','V/m','cm^-3'],\n",
    "                   aspect='equal',\n",
    "                #    data_log=True,\n",
    "                   cmap='smileiD',\n",
    "                   vmin=-5,\n",
    "                   vmax=5,\n",
    "                   subset={'z':S0.namelist.Ltrans/2.},\n",
    "                #    subset={'x':S0.namelist.Ltrans/2.},\n",
    "                   ).slide()   "
   ]
  },
  {
   "cell_type": "code",
   "execution_count": 48,
   "id": "17cd4be2",
   "metadata": {},
   "outputs": [
    {
     "name": "stdout",
     "output_type": "stream",
     "text": [
      "\n",
      "#6 - user_function of species # 0\n",
      "    x from 0 to 376.991 in 5 steps \n",
      "    y from 0 to 314.159 in 323 steps \n",
      "    z from 0 to 314.159 in 300 steps \n",
      "\n",
      "subset at x = [263.8937] L_r\n",
      "The value in each bin is the sum of the `deposited_quantity` divided by the bin size\n",
      "\n"
     ]
    }
   ],
   "source": [
    "S0.ParticleBinning(\"Lx_W_trans\",units=['um','fs','T','V/m','cm^-3'],\n",
    "                   aspect='equal',\n",
    "                #    data_log=True,\n",
    "                   cmap='smileiD',\n",
    "                  #  vmin=-5,\n",
    "                  #  vmax=5,\n",
    "                #    subset={'z':S0.namelist.Ltrans/2.},\n",
    "                   subset={'x':S0.namelist.Llong*3./5.},\n",
    "                   ).slide()    "
   ]
  },
  {
   "cell_type": "code",
   "execution_count": 50,
   "id": "270c86d9",
   "metadata": {},
   "outputs": [
    {
     "name": "stdout",
     "output_type": "stream",
     "text": [
      "\n",
      "#7 - user_function of species # 0\n",
      "    x from 0 to 376.991 in 5 steps \n",
      "    y from 0 to 314.159 in 323 steps \n",
      "    z from 0 to 314.159 in 300 steps \n",
      "\n",
      "subset at x = [263.8937] L_r\n",
      "The value in each bin is the sum of the `deposited_quantity` divided by the bin size\n",
      "\n"
     ]
    }
   ],
   "source": [
    "S0.ParticleBinning(\"Lx_trans\",units=['um','fs','T','V/m','cm^-3'],\n",
    "                   aspect='equal',\n",
    "                #    data_log=True,\n",
    "                   cmap='smileiD',\n",
    "                   vmin=-10,\n",
    "                   vmax=10,\n",
    "                #    subset={'z':S0.namelist.Ltrans/2.},\n",
    "                   subset={'x':S0.namelist.Llong*3./5.},\n",
    "                   ).slide()   "
   ]
  },
  {
   "cell_type": "code",
   "execution_count": 54,
   "id": "e374e362",
   "metadata": {},
   "outputs": [
    {
     "name": "stdout",
     "output_type": "stream",
     "text": [
      "\n",
      "#8 - Energy density of species # 0\n",
      "    x from 0 to 376.991 in 500 steps \n",
      "    y from 0 to 314.159 in 323 steps \n",
      "    z from 156.294 to 157.865 in 3 steps \n",
      "\n",
      "subset at z = [157.0795] L_r\n",
      "The value in each bin is the sum of the `deposited_quantity` divided by the bin size\n",
      "\n"
     ]
    }
   ],
   "source": [
    "S0.ParticleBinning(\"ekin_W\",units=['um','fs','T','V/m','cm^-3','keV cm^-3'],\n",
    "                   aspect='equal',\n",
    "                   data_log=True,\n",
    "                   cmap=newcmap,\n",
    "                   vmin=21,\n",
    "                   vmax=24,\n",
    "                   subset={'z':S0.namelist.Ltrans/2.},\n",
    "                #    subset={'x':S0.namelist.Ltrans/2.},\n",
    "                   ).slide()  "
   ]
  },
  {
   "cell_type": "code",
   "execution_count": 55,
   "id": "580f149e",
   "metadata": {},
   "outputs": [
    {
     "name": "stdout",
     "output_type": "stream",
     "text": [
      "\n",
      "#9 - Energy density of species # 0\n",
      "    x from 0 to 376.991 in 5 steps \n",
      "    y from 0 to 314.159 in 323 steps \n",
      "    z from 0 to 314.159 in 300 steps \n",
      "\n",
      "subset at x = [113.0973] L_r\n",
      "The value in each bin is the sum of the `deposited_quantity` divided by the bin size\n",
      "\n"
     ]
    },
    {
     "name": "stderr",
     "output_type": "stream",
     "text": [
      "/Users/yao/Smilei/happi/_Diagnostics/Diagnostic.py:857: RuntimeWarning: divide by zero encountered in log10\n",
      "  return self._np.log10( self._dataLinAtTime(t) )\n"
     ]
    }
   ],
   "source": [
    "S0.ParticleBinning(\"ekin_W_trans\",units=['um','fs','T','V/m','cm^-3','keV cm^-3'],\n",
    "                   aspect='equal',\n",
    "                   data_log=True,\n",
    "                   cmap=newcmap,\n",
    "                   vmin=22,\n",
    "                   vmax=25,\n",
    "                #    subset={'z':S0.namelist.Ltrans/2.},\n",
    "                 subset={'x':S0.namelist.Llong*1./5.},\n",
    "                   ).slide()  "
   ]
  },
  {
   "cell_type": "code",
   "execution_count": 58,
   "id": "b782941a",
   "metadata": {},
   "outputs": [
    {
     "name": "stdout",
     "output_type": "stream",
     "text": [
      "\n",
      "#10 - Number density of species # 1\n",
      "    x from 0 to 376.991 in 500 steps \n",
      "    y from 0 to 314.159 in 323 steps \n",
      "    z from 156.294 to 157.865 in 3 steps \n",
      "\n",
      "Operation : #10\n",
      "subset at z = [157.0795] L_r\n",
      "The value in each bin is the sum of the `deposited_quantity` divided by the bin size\n",
      "\n"
     ]
    }
   ],
   "source": [
    "S0.ParticleBinning(\"weight_H\",units=['um','fs','T','V/m','cm^-3','keV cm^-3'],\n",
    "                   aspect='equal',\n",
    "                   data_log=True,\n",
    "                   cmap=newcmap,\n",
    "                   vmin=16,\n",
    "                   vmax=22,\n",
    "                   subset={'z':S0.namelist.Ltrans/2.},\n",
    "                #    subset={'x':S0.namelist.Ltrans/2.},\n",
    "                   ).slide()  "
   ]
  },
  {
   "cell_type": "code",
   "execution_count": 59,
   "id": "49936ce2",
   "metadata": {},
   "outputs": [
    {
     "name": "stdout",
     "output_type": "stream",
     "text": [
      "\n",
      "#11 - Number density of species # 2\n",
      "    x from 0 to 376.991 in 500 steps \n",
      "    y from 0 to 314.159 in 323 steps \n",
      "    z from 156.294 to 157.865 in 3 steps \n",
      "\n",
      "Operation : #11\n",
      "subset at z = [157.0795] L_r\n",
      "The value in each bin is the sum of the `deposited_quantity` divided by the bin size\n",
      "\n"
     ]
    },
    {
     "name": "stderr",
     "output_type": "stream",
     "text": [
      "/Users/yao/Smilei/happi/_Diagnostics/Diagnostic.py:857: RuntimeWarning: divide by zero encountered in log10\n",
      "  return self._np.log10( self._dataLinAtTime(t) )\n"
     ]
    }
   ],
   "source": [
    "S0.ParticleBinning(\"weight_C\",units=['um','fs','T','V/m','cm^-3','keV cm^-3'],\n",
    "                   aspect='equal',\n",
    "                   data_log=True,\n",
    "                   cmap=newcmap,\n",
    "                   vmin=16,\n",
    "                   vmax=22,\n",
    "                   subset={'z':S0.namelist.Ltrans/2.},\n",
    "                #    subset={'x':S0.namelist.Ltrans/2.},\n",
    "                   ).slide()  "
   ]
  },
  {
   "cell_type": "code",
   "execution_count": 23,
   "id": "d4af105a",
   "metadata": {},
   "outputs": [
    {
     "data": {
      "text/plain": [
       "[<matplotlib.lines.Line2D at 0x11c8af550>]"
      ]
     },
     "execution_count": 23,
     "metadata": {},
     "output_type": "execute_result"
    }
   ],
   "source": [
    "Lx = 60\n",
    "\n",
    "x = np.linspace(0, Lx, 1000)\n",
    "\n",
    "plasma_ramp = 1.\n",
    "ne = 1.0e22\n",
    "\n",
    "def fne_plasma(x):\n",
    "    # return ne*np.exp( -(x-Lx/2)**12/(Lx/2-plasma_ramp)**12 )\n",
    "    return ne*np.exp( -(x-Lx/2)**12/(1.5-plasma_ramp)**12 )\n",
    "\n",
    "plt.plot(x, fne_plasma(x))"
   ]
  },
  {
   "cell_type": "code",
   "execution_count": null,
   "id": "98f64ec4",
   "metadata": {},
   "outputs": [],
   "source": []
  }
 ],
 "metadata": {
  "kernelspec": {
   "display_name": "Python 3",
   "language": "python",
   "name": "python3"
  },
  "language_info": {
   "codemirror_mode": {
    "name": "ipython",
    "version": 3
   },
   "file_extension": ".py",
   "mimetype": "text/x-python",
   "name": "python",
   "nbconvert_exporter": "python",
   "pygments_lexer": "ipython3",
   "version": "3.9.22"
  }
 },
 "nbformat": 4,
 "nbformat_minor": 5
}
