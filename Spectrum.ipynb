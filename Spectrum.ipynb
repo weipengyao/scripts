{
 "cells": [
  {
   "cell_type": "code",
   "execution_count": 1,
   "metadata": {},
   "outputs": [],
   "source": [
    "import happi\n",
    "import numpy as np\n",
    "import matplotlib.pyplot as plt\n",
    "import matplotlib as mpl\n",
    "from scipy.special import kv\n",
    "from scipy.integrate import quad\n",
    "import scipy.integrate as integrate\n",
    "\n",
    "# plt.rc('text', usetex=True)\n",
    "\n",
    "mpl.rcParams['axes.labelsize'] = 18\n",
    "mpl.rcParams['legend.fontsize'] = 16#20\n",
    "mpl.rcParams['xtick.labelsize'] = 16\n",
    "mpl.rcParams['ytick.labelsize'] = 16\n",
    "mpl.rcParams['lines.linewidth'] = 1.2\n",
    "\n",
    "colors = ['#0036A6', '#FF6319', '#00933C', '#FC0009', '#60269E', '#996633',\n",
    "          '#B933AD', '#808183', '#FFBE00', '#6CBE45', '#A7A9AC', '#000000']\n",
    "cnames = ['blue', 'orange', 'green', 'red', 'violet', 'brown', 'magenta',\n",
    "          'grey', 'yellow', 'lightgreen', ' lightgrey']"
   ]
  },
  {
   "cell_type": "code",
   "execution_count": 3,
   "metadata": {},
   "outputs": [
    {
     "name": "stdout",
     "output_type": "stream",
     "text": [
      "Loaded simulation '/Volumes/LaCie/Data_Smilei/shock_2d_ne2e18_v1300_Bz0_angle90_Te400_Ti200_Lx3200_mi1/'\n",
      "Scanning for Scalar diagnostics\n",
      "Scanning for Field diagnostics\n",
      "Scanning for Probe diagnostics\n",
      "Scanning for ParticleBinning diagnostics\n",
      "Scanning for Screen diagnostics\n",
      "Scanning for Tracked particle diagnostics\n"
     ]
    }
   ],
   "source": [
    "S = happi.Open('/Volumes/LaCie/Data_Smilei/shock_2d_ne2e18_v1300_Bz0_angle90_Te400_Ti200_Lx3200_mi1/', reference_angular_frequency_SI=56375055300167.87)"
   ]
  },
  {
   "cell_type": "code",
   "execution_count": 4,
   "metadata": {},
   "outputs": [],
   "source": [
    "m = 9.10938356e-31 # (*kg*)\n",
    "c = 3e8 # (* m/s *)\n",
    "e = 1.6e-19 # (*coulombs*)\n",
    "ptive_inf = float('inf')\n",
    "\n",
    "Units = happi.Units(\"um\", \"cm^{-3}\", \"ns\", \"V/m\", \"T\", \"um/ns\",\"eV\")"
   ]
  },
  {
   "cell_type": "code",
   "execution_count": 5,
   "metadata": {},
   "outputs": [],
   "source": [
    "dx = S.namelist.Main.cell_length[0]\n",
    "dy = S.namelist.Main.cell_length[1]\n",
    "Lx = S.namelist.Main.grid_length[0]\n",
    "Ly = S.namelist.Main.grid_length[1]\n",
    "V  = Lx * Ly\n",
    "wr = S.namelist.w_r\n",
    "# wr = 56375055300167.87  # Reference_SI\n",
    "dt = S.namelist.d_t"
   ]
  },
  {
   "cell_type": "code",
   "execution_count": 6,
   "metadata": {},
   "outputs": [],
   "source": [
    "ts = S.ParticleBinning(1).getTimesteps()"
   ]
  },
  {
   "cell_type": "code",
   "execution_count": 8,
   "metadata": {},
   "outputs": [
    {
     "data": {
      "text/plain": [
       "433316"
      ]
     },
     "execution_count": 8,
     "metadata": {},
     "output_type": "execute_result"
    }
   ],
   "source": [
    "ts[-1]"
   ]
  },
  {
   "cell_type": "code",
   "execution_count": 28,
   "metadata": {},
   "outputs": [
    {
     "name": "stdout",
     "output_type": "stream",
     "text": [
      "5.63750553002e+13\n",
      "0.0\n"
     ]
    }
   ],
   "source": [
    "iteration = ts[0]\n",
    "simulation_time = iteration * dt / wr\n",
    "print wr\n",
    "print simulation_time"
   ]
  },
  {
   "cell_type": "code",
   "execution_count": 29,
   "metadata": {},
   "outputs": [],
   "source": [
    "pb = S.ParticleBinning(1).get(iteration)"
   ]
  },
  {
   "cell_type": "code",
   "execution_count": 30,
   "metadata": {},
   "outputs": [],
   "source": [
    "ekin =  pb['ekin'] * 0.511 # Unit of MeV\n",
    "data = pb['data'][0] # N_r / K_r\n",
    "de = ekin[1]-ekin[0]\n",
    "total_weight = sum(data*de)*V\n",
    "# total_weight = sum(data)\n",
    "# data_norm = data/norm_s\n",
    "data_norm = data  #* (c/S.namelist.wr)**2"
   ]
  },
  {
   "cell_type": "code",
   "execution_count": 31,
   "metadata": {},
   "outputs": [
    {
     "name": "stdout",
     "output_type": "stream",
     "text": [
      "Data from Particle Binning energy distribution\n",
      "Bin size: 0.0002044\n",
      "Total kinetic energy: 3016.89094753\n",
      "Integration: 490560.0\n"
     ]
    }
   ],
   "source": [
    "print(\"Data from Particle Binning energy distribution\")\n",
    "print('Bin size: {}'.format(de))\n",
    "print(\"Total kinetic energy: {}\".format(sum(data*de*ekin*V)))\n",
    "print(\"Integration: {}\".format(total_weight))"
   ]
  },
  {
   "cell_type": "code",
   "execution_count": 32,
   "metadata": {},
   "outputs": [
    {
     "data": {
      "image/png": "[encoded data removed]",
      "text/plain": [
       "<Figure size 460.8x284.796 with 1 Axes>"
      ]
     },
     "metadata": {
      "needs_background": "light"
     },
     "output_type": "display_data"
    }
   ],
   "source": [
    "width = 3.2 * 2\n",
    "height = width / 1.618\n",
    "\n",
    "fig, ax = plt.subplots()\n",
    "fig.subplots_adjust(left=.2, bottom=.2, right=.9, top=.9)\n",
    "\n",
    "ax.tick_params(axis='major', direction='out')\n",
    "plt.xlabel(r'$E_{p}$ (MeV)')\n",
    "plt.ylabel(r'$E\\frac{dN}{dE}\\frac{1}{N}$')\n",
    "plt.xlim([0.0, 0.15])\n",
    "plt.xticks([0.0, 0.05, 0.1, 0.15])\n",
    "plt.ylim([1e-4, 1])\n",
    "ax.semilogy(ekin, data_norm * ekin * V / total_weight, '-', color = colors[1], label='t=4.4ns', linewidth=2)\n",
    "# ax.set_xscale('log')\n",
    "plt.legend()\n",
    "plt.tight_layout()\n",
    "fig.set_size_inches(width, height)\n",
    "# plt.savefig('test.png')\n",
    "# plt.clf()"
   ]
  },
  {
   "cell_type": "code",
   "execution_count": 50,
   "metadata": {},
   "outputs": [
    {
     "data": {
      "text/plain": [
       "20.440000000000005"
      ]
     },
     "execution_count": 50,
     "metadata": {},
     "output_type": "execute_result"
    }
   ],
   "source": [
    "de"
   ]
  },
  {
   "cell_type": "code",
   "execution_count": 52,
   "metadata": {},
   "outputs": [
    {
     "data": {
      "text/plain": [
       "(100,)"
      ]
     },
     "execution_count": 52,
     "metadata": {},
     "output_type": "execute_result"
    }
   ],
   "source": [
    "ekin.shape"
   ]
  },
  {
   "cell_type": "code",
   "execution_count": 107,
   "metadata": {},
   "outputs": [
    {
     "name": "stdout",
     "output_type": "stream",
     "text": [
      "Diag#1 - weight of species # 0 2 \n",
      "    ekin from 0.0 to 0.4 in 1000 steps \n",
      "\n",
      "\n"
     ]
    },
    {
     "data": {
      "image/png": "[encoded data removed]",
      "text/plain": [
       "<Figure size 432x288 with 1 Axes>"
      ]
     },
     "metadata": {},
     "output_type": "display_data"
    }
   ],
   "source": [
    "S.ParticleBinning(1,units=Units).plot()"
   ]
  },
  {
   "cell_type": "code",
   "execution_count": 55,
   "metadata": {},
   "outputs": [
    {
     "data": {
      "text/plain": [
       "100"
      ]
     },
     "execution_count": 55,
     "metadata": {},
     "output_type": "execute_result"
    }
   ],
   "source": [
    "data.size"
   ]
  },
  {
   "cell_type": "code",
   "execution_count": 108,
   "metadata": {},
   "outputs": [],
   "source": [
    "nbin = ekin.size\n",
    "gmax = ekin.max()\n",
    "gmin = ekin.min()\n",
    "dg   = (gmax - gmin) / nbin\n",
    "we   = data"
   ]
  },
  {
   "cell_type": "code",
   "execution_count": 109,
   "metadata": {},
   "outputs": [],
   "source": [
    "gg = np.linspace(gmin, gmax, nbin+1)\n",
    "# gg = np.logspace(np.log10(gmin),np.log10(gmax),nbin+1)\n",
    "nn = np.zeros(nbin)"
   ]
  },
  {
   "cell_type": "code",
   "execution_count": 110,
   "metadata": {},
   "outputs": [],
   "source": [
    "for j in range(1,nbin+1):\n",
    "        rr = np.where((ekin > gg[j-1]) & (ekin < gg[j]))\n",
    "        nn[j-1] = np.sum(we[rr])\n",
    "N = np.sum(nn)"
   ]
  },
  {
   "cell_type": "code",
   "execution_count": 112,
   "metadata": {},
   "outputs": [
    {
     "data": {
      "image/png": "[encoded data removed]",
      "text/plain": [
       "<Figure size 345.6x213.597 with 1 Axes>"
      ]
     },
     "metadata": {
      "needs_background": "light"
     },
     "output_type": "display_data"
    }
   ],
   "source": [
    "width = 3.2 * 1.5\n",
    "height = width / 1.618\n",
    "fig, ax0 = plt.subplots()\n",
    "fig.subplots_adjust(left=.2, bottom=.2, right=.9, top=.9)\n",
    "# plt.loglog(gg[0:-1],gg[0:-1]*(nn)/(gg[1:]-gg[0:-1])/N,lw=2,color='red',linestyle='-')\n",
    "plt.semilogy(gg[0:-1],gg[0:-1]*(nn)/(gg[1:]-gg[0:-1])/N,lw=2,color='red',linestyle='-')\n",
    "\n",
    "plt.margins(0,0)\n",
    "axes = plt.gca()\n",
    "# axes.set_xlim(1e0,1e4)\n",
    "# axes.set_ylim(1e-4,1e0)\n",
    "plt.xlabel('E (MeV)')\n",
    "plt.ylabel('$EdN/dE/N$') \n",
    "fig.set_size_inches(width, height)\n",
    "\n",
    "plt.legend(loc='best', numpoints=1, fancybox=True)\n",
    "plt.show()"
   ]
  },
  {
   "cell_type": "code",
   "execution_count": null,
   "metadata": {},
   "outputs": [],
   "source": []
  }
 ],
 "metadata": {
  "kernelspec": {
   "display_name": "Python 3 (ipykernel)",
   "language": "python",
   "name": "python3"
  },
  "language_info": {
   "codemirror_mode": {
    "name": "ipython",
    "version": 3
   },
   "file_extension": ".py",
   "mimetype": "text/x-python",
   "name": "python",
   "nbconvert_exporter": "python",
   "pygments_lexer": "ipython3",
   "version": "3.8.9"
  }
 },
 "nbformat": 4,
 "nbformat_minor": 4
}
