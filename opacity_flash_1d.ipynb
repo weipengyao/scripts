{
 "cells": [
  {
   "cell_type": "code",
   "execution_count": 1,
   "metadata": {},
   "outputs": [],
   "source": [
    "%matplotlib qt\n",
    "\n",
    "\n",
    "import yt\n",
    "import matplotlib.pyplot  as plt\n",
    "import numpy as np\n"
   ]
  },
  {
   "cell_type": "code",
   "execution_count": 2,
   "metadata": {},
   "outputs": [
    {
     "name": "stderr",
     "output_type": "stream",
     "text": [
      "/var/folders/2t/97rc3fl92tg15k2l_4sk5hsh0000gn/T/ipykernel_53033/2096950246.py:3: MatplotlibDeprecationWarning: The get_cmap function was deprecated in Matplotlib 3.7 and will be removed two minor releases later. Use ``matplotlib.colormaps[name]`` or ``matplotlib.colormaps.get_cmap(obj)`` instead.\n",
      "  jetcmap = plt.cm.get_cmap(\"jet\", 9) #generate a jet map with 10 values \"rainbow\", \"jet\", YlOrRd\n"
     ]
    }
   ],
   "source": [
    "import matplotlib as mpl\n",
    "\n",
    "jetcmap = plt.cm.get_cmap(\"jet\", 9) #generate a jet map with 10 values \"rainbow\", \"jet\", YlOrRd\n",
    "jet_vals = jetcmap(np.arange(9)) #extract those values as an array \n",
    "jet_vals[0] = [1.0, 1, 1.0, 1] #change the first value \n",
    "jet_vals[8] = [0.0, 0, 0.0, 1] #change the first value \n",
    "newcmap = mpl.colors.LinearSegmentedColormap.from_list(\"mine\", jet_vals) \n",
    "\n",
    "plt.rc('text', usetex=False)\n",
    "plt.rc('xtick', labelsize=12)\n",
    "plt.rc('ytick', labelsize=12)\n",
    "plt.rc('axes', labelsize=12)\n",
    "plt.rc('legend', fontsize=10)"
   ]
  },
  {
   "cell_type": "code",
   "execution_count": 25,
   "metadata": {},
   "outputs": [],
   "source": [
    "filedir = [\n",
    "            # '/Users/yao/Desktop/job.82842/', # [-2,2] um, fixed grid\n",
    "            '/Users/yao/Desktop/Data/Opacity/job.153776/', # [-5,5] um, fixed grid\n",
    "          ] \n",
    "\n",
    "filename = 'radslab_hdf5_chk_0000'  # check the mass fraction for the negative energy"
   ]
  },
  {
   "cell_type": "code",
   "execution_count": 26,
   "metadata": {},
   "outputs": [],
   "source": [
    "def get_yt_data_1d(filename):\n",
    "    j_idx = 0\n",
    "    k_idx = 0\n",
    "    fields_list = [\"x\", \"dens\", \"tele\", \"tion\", \"trad\",\n",
    "                   \"pres\", \"temp\", \"cham\", \"targ\", \"tar2\",\n",
    "                   \"velx\", \"ye\", \n",
    "                #    \"magz\"\n",
    "                   ]\n",
    "\n",
    "    data_yt = yt.load(filename)\n",
    "    data_yt_map = data_yt.covering_grid(\n",
    "        level=0, left_edge=[data_yt.domain_left_edge[0], \n",
    "                            data_yt.domain_left_edge[1], \n",
    "                            data_yt.domain_left_edge[2]\n",
    "                            ], \n",
    "                            dims=data_yt.domain_dimensions\n",
    "    )\n",
    "    time_now = np.array(data_yt.current_time)*1e9\n",
    "    xx = np.linspace(data_yt.domain_left_edge[0]*1e4, \n",
    "                     data_yt.domain_right_edge[0]*1e4,\n",
    "                     data_yt.domain_dimensions[0])\n",
    "\n",
    "    data_dict = {}\n",
    "    for f in fields_list:\n",
    "        data_dict[f] = data_yt_map[f][:,j_idx,k_idx]\n",
    "    return data_dict, time_now, xx"
   ]
  },
  {
   "cell_type": "code",
   "execution_count": 27,
   "metadata": {},
   "outputs": [
    {
     "name": "stderr",
     "output_type": "stream",
     "text": [
      "yt : [INFO     ] 2025-03-25 12:26:59,206 Particle file found: radslab_hdf5_chk_0000\n"
     ]
    },
    {
     "name": "stderr",
     "output_type": "stream",
     "text": [
      "yt : [INFO     ] 2025-03-25 12:26:59,238 Parameters: current_time              = 0.0\n",
      "yt : [INFO     ] 2025-03-25 12:26:59,238 Parameters: domain_dimensions         = [8192    1    1]\n",
      "yt : [INFO     ] 2025-03-25 12:26:59,239 Parameters: domain_left_edge          = [-0.04   0.    -0.004]\n",
      "yt : [INFO     ] 2025-03-25 12:26:59,240 Parameters: domain_right_edge         = [0.04  0.032 0.004]\n",
      "yt : [INFO     ] 2025-03-25 12:26:59,240 Parameters: cosmological_simulation   = 0\n"
     ]
    }
   ],
   "source": [
    "data_dict, time_now, xx = get_yt_data_1d(filedir[0]+filename)"
   ]
  },
  {
   "cell_type": "code",
   "execution_count": 28,
   "metadata": {},
   "outputs": [],
   "source": [
    "width  = 3.487 * 1.5\n",
    "height = width / 1.618 #* 0.8\n",
    "\n",
    "fig, ax = plt.subplots()\n",
    "fig.subplots_adjust(left=.15, bottom=.16, right=.99, top=.97)\n",
    "\n",
    "ax.semilogy(xx, data_dict['dens'],'-k',label='density')\n",
    "# ax.plot(xx, data_dict['targ'],'--k',label='CH')\n",
    "# ax.plot(xx, data_dict['tar2'],'-r',label='Si')\n",
    "ax.set_xlabel(r'x (um)')\n",
    "ax.set_xlim([-4,4])\n",
    "ax.set_ylabel('Mass density (g/cc)')\n",
    "ax.grid(linestyle=':', alpha=0.5)\n",
    "# ax.set_ylim([1e-3,3])\n",
    "# ax.legend()\n",
    "ax.set_title('time = {:.2f} ns'.format(time_now))\n",
    "fig.tight_layout()\n",
    "fig.set_size_inches(width, height)"
   ]
  },
  {
   "cell_type": "code",
   "execution_count": 14,
   "metadata": {},
   "outputs": [],
   "source": [
    "width  = 3.487 * 1.5\n",
    "height = width / 1.618 #* 0.8\n",
    "\n",
    "fig, ax = plt.subplots()\n",
    "fig.subplots_adjust(left=.15, bottom=.16, right=.99, top=.97)\n",
    "\n",
    "ax.plot(xx, data_dict['velx'],'-k')\n",
    "# ax.plot(xx, data_dict['targ'],'--k',label='CH')\n",
    "# ax.plot(xx, data_dict['tar2'],'-r',label='Si')\n",
    "ax.set_xlabel(r'x (um)')\n",
    "ax.set_xlim([-4,4])\n",
    "ax.set_ylabel('Velocity (cm/s)')\n",
    "ax.grid(linestyle=':', alpha=0.5)\n",
    "# ax.set_ylim([-1e4,1e4])\n",
    "# ax.legend()\n",
    "ax.set_title('time = {:.2f} ns'.format(time_now))\n",
    "\n",
    "fig.tight_layout()\n",
    "fig.set_size_inches(width, height)"
   ]
  },
  {
   "cell_type": "code",
   "execution_count": 21,
   "metadata": {},
   "outputs": [],
   "source": [
    "width  = 3.487 * 1.5\n",
    "height = width / 1.618 #* 0.8\n",
    "\n",
    "fig, ax = plt.subplots()\n",
    "fig.subplots_adjust(left=.15, bottom=.16, right=.99, top=.97)\n",
    "\n",
    "ax.plot(xx, data_dict['tele']/11600,'-k')\n",
    "# ax.plot(xx, data_dict['targ'],'--k',label='CH')\n",
    "# ax.plot(xx, data_dict['tar2'],'-r',label='Si')\n",
    "ax.set_xlabel(r'x (um)')\n",
    "ax.set_xlim([-4,4])\n",
    "ax.set_ylabel('Tele (eV)')\n",
    "ax.grid(linestyle=':', alpha=0.5)\n",
    "# ax.set_ylim([1e6,1e10])\n",
    "# ax.legend()\n",
    "ax.set_title('time = {:.2f} ns'.format(time_now))\n",
    "\n",
    "fig.set_size_inches(width, height)\n",
    "fig.tight_layout()\n",
    "\n",
    "\n"
   ]
  },
  {
   "cell_type": "code",
   "execution_count": 22,
   "metadata": {},
   "outputs": [],
   "source": [
    "width  = 3.487 * 1.5\n",
    "height = width / 1.618 #* 0.8\n",
    "\n",
    "fig, ax = plt.subplots()\n",
    "fig.subplots_adjust(left=.15, bottom=.16, right=.99, top=.97)\n",
    "\n",
    "ax.plot(xx, data_dict['tion']/11600,'-k')\n",
    "# ax.plot(xx, data_dict['targ'],'--k',label='CH')\n",
    "# ax.plot(xx, data_dict['tar2'],'-r',label='Si')\n",
    "ax.set_xlabel(r'x (um)')\n",
    "ax.set_xlim([-4,4])\n",
    "ax.set_ylabel('Tion (eV)')\n",
    "ax.grid(linestyle=':', alpha=0.5)\n",
    "# ax.set_ylim([1e6,1e10])\n",
    "# ax.legend()\n",
    "ax.set_title('time = {:.2f} ns'.format(time_now))\n",
    "\n",
    "fig.set_size_inches(width, height)\n",
    "fig.tight_layout()\n"
   ]
  },
  {
   "cell_type": "code",
   "execution_count": 29,
   "metadata": {},
   "outputs": [],
   "source": [
    "width  = 3.487 * 1.5\n",
    "height = width / 1.618 #* 0.8\n",
    "\n",
    "fig, ax = plt.subplots()\n",
    "fig.subplots_adjust(left=.15, bottom=.16, right=.99, top=.97)\n",
    "\n",
    "ax.plot(xx, data_dict['cham'],':b',label='Helium')\n",
    "ax.plot(xx, data_dict['targ'],'--k',label='CH')\n",
    "ax.plot(xx, data_dict['tar2'],'-r',label='Si')\n",
    "ax.set_xlabel(r'x (um)')\n",
    "ax.set_xlim([-4,4])\n",
    "ax.set_ylabel('Mass fraction')\n",
    "ax.set_ylim([-0.01,1.01])\n",
    "ax.legend(loc='best', numpoints=1, fancybox=False, fontsize=10, frameon=False)\n",
    "ax.set_title('time = {:.2f} ns'.format(time_now))\n",
    "\n",
    "fig.tight_layout()\n",
    "fig.set_size_inches(width, height)\n"
   ]
  },
  {
   "cell_type": "code",
   "execution_count": 24,
   "metadata": {},
   "outputs": [],
   "source": [
    "width  = 3.487 * 1.5\n",
    "height = width / 1.618 #* 0.8\n",
    "\n",
    "fig, ax = plt.subplots()\n",
    "fig.subplots_adjust(left=.15, bottom=.16, right=.99, top=.97)\n",
    "\n",
    "ax.semilogy(xx, data_dict['pres'],'-k')\n",
    "# ax.plot(xx, data_dict['targ'],'--k',label='CH')\n",
    "# ax.plot(xx, data_dict['tar2'],'-r',label='Si')\n",
    "ax.set_xlabel(r'x (um)')\n",
    "ax.set_xlim([-4,4])\n",
    "ax.set_ylabel('Pressure (?)')\n",
    "ax.grid(linestyle=':', alpha=0.5)\n",
    "# ax.set_ylim([1e6,1e10])\n",
    "# ax.legend()\n",
    "ax.set_title('time = {:.2f} ns'.format(time_now))\n",
    "\n",
    "\n",
    "fig.tight_layout()\n",
    "fig.set_size_inches(width, height)"
   ]
  },
  {
   "cell_type": "code",
   "execution_count": null,
   "metadata": {},
   "outputs": [],
   "source": []
  },
  {
   "cell_type": "code",
   "execution_count": null,
   "metadata": {},
   "outputs": [],
   "source": []
  },
  {
   "cell_type": "code",
   "execution_count": null,
   "metadata": {},
   "outputs": [],
   "source": []
  }
 ],
 "metadata": {
  "kernelspec": {
   "display_name": "Python 3",
   "language": "python",
   "name": "python3"
  },
  "language_info": {
   "codemirror_mode": {
    "name": "ipython",
    "version": 3
   },
   "file_extension": ".py",
   "mimetype": "text/x-python",
   "name": "python",
   "nbconvert_exporter": "python",
   "pygments_lexer": "ipython3",
   "version": "3.9.21"
  }
 },
 "nbformat": 4,
 "nbformat_minor": 2
}
