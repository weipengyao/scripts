{
 "cells": [
  {
   "cell_type": "code",
   "execution_count": 1,
   "metadata": {},
   "outputs": [],
   "source": [
    "%matplotlib qt"
   ]
  },
  {
   "cell_type": "code",
   "execution_count": 2,
   "metadata": {},
   "outputs": [
    {
     "name": "stderr",
     "output_type": "stream",
     "text": [
      "/var/folders/2t/97rc3fl92tg15k2l_4sk5hsh0000gn/T/ipykernel_71388/2005029716.py:6: MatplotlibDeprecationWarning: The get_cmap function was deprecated in Matplotlib 3.7 and will be removed two minor releases later. Use ``matplotlib.colormaps[name]`` or ``matplotlib.colormaps.get_cmap(obj)`` instead.\n",
      "  jetcmap = plt.cm.get_cmap(\"jet\", 9) #generate a jet map with 10 values \"rainbow\", \"jet\", YlOrRd\n"
     ]
    }
   ],
   "source": [
    "import matplotlib as mpl\n",
    "import happi\n",
    "import numpy as np\n",
    "import matplotlib.pyplot as plt\n",
    "\n",
    "jetcmap = plt.cm.get_cmap(\"jet\", 9) #generate a jet map with 10 values \"rainbow\", \"jet\", YlOrRd\n",
    "jet_vals = jetcmap(np.arange(9)) #extract those values as an array \n",
    "jet_vals[0] = [1.0, 1, 1.0, 1] #change the first value \n",
    "jet_vals[8] = [0.0, 0, 0.0, 1] #change the first value \n",
    "newcmap = mpl.colors.LinearSegmentedColormap.from_list(\"mine\", jet_vals) \n",
    "\n",
    "from matplotlib import font_manager\n",
    "\n",
    "font_dirs = ['/Users/yao/Documents/Calibri and Cambria Fonts/']\n",
    "font_files = font_manager.findSystemFonts(fontpaths=font_dirs)\n",
    "\n",
    "for font_file in font_files:\n",
    "    font_manager.fontManager.addfont(font_file)\n",
    "\n",
    "# set font\n",
    "plt.rcParams['font.family'] = 'Calibri'\n",
    "\n",
    "plt.rc('text', usetex=False)\n",
    "plt.rc('xtick', labelsize=12)\n",
    "plt.rc('ytick', labelsize=12)\n",
    "plt.rc('axes', labelsize=12)\n",
    "plt.rc('legend', fontsize=10)"
   ]
  },
  {
   "cell_type": "code",
   "execution_count": 3,
   "metadata": {},
   "outputs": [],
   "source": [
    "wkdir = [\n",
    "    # '/Users/yao/Desktop/Data/apollon23_shock_t02/',\n",
    "    # '/Users/yao/Desktop/Data/apollon23_shock_t03/',\n",
    "    # '/Users/yao/Desktop/Data/apollon23_shock_t04/',\n",
    "    # '/Users/yao/Desktop/Data/apo23_ne5e19_v8200_Bz60_angle90_dx01_2/',\n",
    "    # '/Users/yao/Desktop/Data/apo23_2D_Bz0/',\n",
    "    # '/Users/yao/Desktop/Data/apo23_ne5e19_v8200_Bz60_angle90_dx005_3/',\n",
    "    # '/Users/yao/Desktop/Data/resolution/Bz60/',\n",
    "    # '/Users/yao/Desktop/Data/resolution/Bz0/'\n",
    "    # '/Users/yao/Desktop/Data/dx0.025/apo23_ne5e19_v8200_Bz0_dx0.025_4/',\n",
    "    # '/Users/yao/Desktop/Data/dx0.025/apo23_ne5e19_v8200_Bz60_dx0.025_4_r2/'\n",
    "    # '/Users/yao/Desktop/Data/Gabriel_2024/B60_5e19_1um-Copy2/',\n",
    "    # '/Users/yao/Desktop/F1_test1/F1_test1/',\n",
    "    # '/Users/yao/Documents/Data/F1_test2_r*/',\n",
    "    '/Users/yao/Desktop/F1_test3/'\n",
    "    # '/Users/yao/Documents/Data/Gabriel_2024/F1_Al6um_preplasma_r*'\n",
    "    ]"
   ]
  },
  {
   "cell_type": "code",
   "execution_count": 4,
   "metadata": {},
   "outputs": [
    {
     "name": "stdout",
     "output_type": "stream",
     "text": [
      "Loaded simulation '/Users/yao/Desktop/F1_test3/'\n",
      "Scanning for Scalar diagnostics\n",
      "Scanning for Field diagnostics\n",
      "Scanning for Probe diagnostics\n",
      "Scanning for ParticleBinning diagnostics\n",
      "Scanning for RadiationSpectrum diagnostics\n",
      "Scanning for Performance diagnostics\n",
      "Scanning for Screen diagnostics\n",
      "Scanning for Tracked particle diagnostics\n",
      "Scanning for new particle diagnostics\n"
     ]
    }
   ],
   "source": [
    "S0 = happi.Open(wkdir[0], reference_angular_frequency_SI = 2.*np.pi*3e8/0.8e-6)\n",
    "# S1 = happi.Open(wkdir[1], reference_angular_frequency_SI = 2.*np.pi*3e8/0.8e-6)"
   ]
  },
  {
   "cell_type": "code",
   "execution_count": 14,
   "metadata": {},
   "outputs": [
    {
     "name": "stdout",
     "output_type": "stream",
     "text": [
      "WARNING: units unknown: 1 / ( 1 )\n",
      "WARNING: units unknown: 1 / ( 1 )\n"
     ]
    }
   ],
   "source": [
    "P_rad0 = np.array(S0.RadiationSpectrum(1).getData())\n",
    "# P_rad1 = np.array(S1.RadiationSpectrum(1).getData())\n",
    "\n",
    "dgamma0 = np.array(S0.RadiationSpectrum(1).getAxis('gamma'))"
   ]
  },
  {
   "cell_type": "code",
   "execution_count": 10,
   "metadata": {},
   "outputs": [
    {
     "name": "stdout",
     "output_type": "stream",
     "text": [
      "WARNING: units unknown: 1 / ( 1 )\n"
     ]
    }
   ],
   "source": [
    "P_rad0_time = np.array(S0.RadiationSpectrum(1).getTimes())\n",
    "P_rad0_dt = P_rad0_time[1] - P_rad0_time[0]"
   ]
  },
  {
   "cell_type": "code",
   "execution_count": 13,
   "metadata": {},
   "outputs": [],
   "source": [
    "U_rad0 = np.sum(P_rad0,axis=0)*P_rad0_dt"
   ]
  },
  {
   "cell_type": "code",
   "execution_count": 18,
   "metadata": {},
   "outputs": [
    {
     "data": {
      "text/plain": [
       "[<matplotlib.lines.Line2D at 0x17bff6040>]"
      ]
     },
     "execution_count": 18,
     "metadata": {},
     "output_type": "execute_result"
    },
    {
     "ename": "",
     "evalue": "",
     "output_type": "error",
     "traceback": [
      "\u001b[1;31mThe Kernel crashed while executing code in the current cell or a previous cell. \n",
      "\u001b[1;31mPlease review the code in the cell(s) to identify a possible cause of the failure. \n",
      "\u001b[1;31mClick <a href='https://aka.ms/vscodeJupyterKernelCrash'>here</a> for more info. \n",
      "\u001b[1;31mView Jupyter <a href='command:jupyter.viewOutput'>log</a> for further details."
     ]
    }
   ],
   "source": [
    "plt.semilogx(dgamma0,U_rad0)"
   ]
  },
  {
   "cell_type": "code",
   "execution_count": 26,
   "metadata": {},
   "outputs": [
    {
     "name": "stdout",
     "output_type": "stream",
     "text": [
      "WARNING: units unknown: 1 / ( 1 )\n",
      "\n",
      "#1 -  of species # 0\n",
      "    gamma from 0.01 to 100.0 in 400 steps \n",
      "\n",
      "The value in each bin is the sum of the `deposited_quantity` divided by the bin size and by grid_length[0] * grid_length[1]\n",
      "\n"
     ]
    },
    {
     "name": "stderr",
     "output_type": "stream",
     "text": [
      "/Users/yao/Smilei/happi/_Diagnostics/Diagnostic.py:857: RuntimeWarning: divide by zero encountered in log10\n",
      "  return self._np.log10( self._dataLinAtTime(t) )\n"
     ]
    }
   ],
   "source": [
    "S1.RadiationSpectrum(1,units=['fs'],data_log=True).slide()"
   ]
  },
  {
   "cell_type": "code",
   "execution_count": 10,
   "metadata": {},
   "outputs": [
    {
     "name": "stdout",
     "output_type": "stream",
     "text": [
      "WARNING: units unknown: 1 / ( 1 )\n",
      "WARNING: units unknown: 1 / ( 1 )\n"
     ]
    }
   ],
   "source": [
    "dgamma0 = np.array(S0.RadiationSpectrum(1).getAxis('gamma'))\n",
    "dgamma1 = np.array(S1.RadiationSpectrum(1).getAxis('gamma'))"
   ]
  },
  {
   "cell_type": "code",
   "execution_count": 11,
   "metadata": {},
   "outputs": [],
   "source": [
    "Urad0 = np.array(S0.Scalar(\"Urad\").getData())\n",
    "Urad1 = np.array(S1.Scalar(\"Urad\").getData())"
   ]
  },
  {
   "cell_type": "code",
   "execution_count": 12,
   "metadata": {},
   "outputs": [],
   "source": [
    "Urad_time0 = np.array(S0.Scalar(\"Urad\").getTimes())\n",
    "dt0 = Urad_time0[2] - Urad_time0[1]  # in s\n",
    "\n",
    "Urad_time1 = np.array(S1.Scalar(\"Urad\").getTimes())\n",
    "dt1 = Urad_time1[2] - Urad_time1[1]  # in s"
   ]
  },
  {
   "cell_type": "code",
   "execution_count": 13,
   "metadata": {},
   "outputs": [],
   "source": [
    "N0 = Urad0.size\n",
    "P_Scalar0 = np.zeros(N0)\n",
    "P_Bin0    = np.zeros(N0)\n",
    "\n",
    "for i in range(N0-1):\n",
    "    P_Scalar0[i] = (Urad0[i+1] - Urad0[i]) / dt0\n",
    "    P_Bin0[i] = (dgamma0[2] - dgamma0[1]) * np.sum(P_rad0[i,:]) \n",
    "\n",
    "\n",
    "N1 = Urad1.size\n",
    "P_Scalar1 = np.zeros(N1)\n",
    "P_Bin1    = np.zeros(N1)\n",
    "\n",
    "for i in range(N1-1):\n",
    "    P_Scalar1[i] = (Urad1[i+1] - Urad1[i]) / dt1\n",
    "    P_Bin1[i] = (dgamma1[2] - dgamma1[1]) * np.sum(P_rad1[i,:]) "
   ]
  },
  {
   "cell_type": "code",
   "execution_count": 14,
   "metadata": {},
   "outputs": [],
   "source": [
    "Lx0 = S0.namelist.Lsim[0]\n",
    "Ly0 = S0.namelist.Lsim[1]\n",
    "\n",
    "Lx1 = S1.namelist.Lsim[0]\n",
    "Ly1 = S1.namelist.Lsim[1]"
   ]
  },
  {
   "cell_type": "code",
   "execution_count": 15,
   "metadata": {},
   "outputs": [
    {
     "data": {
      "text/plain": [
       "<matplotlib.legend.Legend at 0x168810a30>"
      ]
     },
     "execution_count": 15,
     "metadata": {},
     "output_type": "execute_result"
    }
   ],
   "source": [
    "plt.plot(Urad_time0, P_Scalar0,'-r',label='Scalar: w=1.25')\n",
    "plt.plot(Urad_time0, P_Bin0*Lx0*Ly0,'-b',label='Binning: w=1.25')\n",
    "\n",
    "plt.plot(Urad_time1, P_Scalar1,'--r',label='Scalar: w=1')\n",
    "plt.plot(Urad_time1, P_Bin1*Lx1*Ly1,'--b',label='Binning: w=1')\n",
    "\n",
    "plt.legend()"
   ]
  },
  {
   "cell_type": "code",
   "execution_count": 16,
   "metadata": {},
   "outputs": [],
   "source": [
    "P_Bin_fix0 = P_Bin0*Lx0*Ly0 # proper nomralized value needs to be multiplied by the system sizes\n",
    "P_Bin_fix1 = P_Bin1*Lx1*Ly1\n",
    "\n",
    "# for energy density:\n",
    "# K_r * k_0^{-D} * N_r\n",
    "# K_r -> m_e c^2 -> 5.11e5 * 1.6e-19 [J]\n",
    "# k_0 -> 2*pi/lmd -> lmd = 0.8 [um]\n",
    "# N_r -> 1.1e21 / lmd[um]^2 [cm^-3]\n",
    "\n",
    "# for power density:\n",
    "# m_e c^2 * c * n_c / k_0 (in 2D)\n",
    "# m_e c^2 = 5.11e5 * 1.6e-19 [J]\n",
    "# c       = 3e10 [cm/s]\n",
    "# n_c     = 1.1e21 / 0.8^2 [cm^-3]\n",
    "# k_0     = 2*pi/0.8e-4 [cm^-1]\n",
    "Prad_unit = 5.11e5 * 1.6e-19 * 3e10 * 1.1e21 / 0.8 / 6.28 * 1e-4 * 1e-4 # J/s/um [the last 1e-4 is cm->um]\n",
    "\n",
    "P_Bin_abs0 = P_Bin_fix0 * Prad_unit\n",
    "P_Bin_abs1 = P_Bin_fix1 * Prad_unit\n"
   ]
  },
  {
   "cell_type": "code",
   "execution_count": 17,
   "metadata": {},
   "outputs": [
    {
     "name": "stdout",
     "output_type": "stream",
     "text": [
      "WARNING: units unknown: 1 / ( 1 )\n",
      "WARNING: units unknown: 1 / ( 1 )\n"
     ]
    }
   ],
   "source": [
    "R_time0 = np.array(S0.RadiationSpectrum(1,units=['fs']).getTimes())\n",
    "R_time1 = np.array(S1.RadiationSpectrum(1,units=['fs']).getTimes())"
   ]
  },
  {
   "cell_type": "code",
   "execution_count": 41,
   "metadata": {},
   "outputs": [
    {
     "data": {
      "text/plain": [
       "<matplotlib.legend.Legend at 0x1759daf10>"
      ]
     },
     "execution_count": 41,
     "metadata": {},
     "output_type": "execute_result"
    }
   ],
   "source": [
    "plt.plot(R_time0, P_Bin_abs0, '-r', label='w=1.25')\n",
    "plt.plot(R_time1, P_Bin_abs1, '--b', label='w=1')\n",
    "plt.xlabel('Time (fs)')\n",
    "plt.ylabel('Radiation Power \"density\" (J/s/um)')\n",
    "plt.xlim([0,200])\n",
    "plt.ylim([0,5e13])\n",
    "plt.grid(linestyle=':',alpha=0.5)\n",
    "plt.legend()\n",
    "# plt.savefig('/Users/yao/Desktop/power.png',dpi=600)"
   ]
  },
  {
   "cell_type": "code",
   "execution_count": 25,
   "metadata": {},
   "outputs": [
    {
     "data": {
      "text/plain": [
       "(164,)"
      ]
     },
     "execution_count": 25,
     "metadata": {},
     "output_type": "execute_result"
    }
   ],
   "source": [
    "P_Bin_abs.shape"
   ]
  },
  {
   "cell_type": "code",
   "execution_count": 26,
   "metadata": {},
   "outputs": [
    {
     "data": {
      "text/plain": [
       "(164,)"
      ]
     },
     "execution_count": 26,
     "metadata": {},
     "output_type": "execute_result"
    }
   ],
   "source": [
    "R_time.shape"
   ]
  },
  {
   "cell_type": "code",
   "execution_count": 42,
   "metadata": {},
   "outputs": [
    {
     "data": {
      "text/plain": [
       "<matplotlib.legend.Legend at 0x17594d1f0>"
      ]
     },
     "execution_count": 42,
     "metadata": {},
     "output_type": "execute_result"
    }
   ],
   "source": [
    "# dP/dE_gam = dP/dgma * dgam/dE_gam\n",
    "# E_gam = gam * m_e c^2\n",
    "# dE_gam / dgam = m_e c^2\n",
    "# dP/dE_gam = dP/dgma / (m_e c^2)\n",
    "\n",
    "ene_photon0 = dgamma0*0.511 # [MeV]\n",
    "ene_photon1 = dgamma1*0.511 # [MeV]\n",
    "plt.semilogx(ene_photon0,P_rad0[43,:]*Lx0*Ly0*Prad_unit/0.511, '-r', label='w=1.25') # [J/s/um/MeV]\n",
    "plt.semilogx(ene_photon1,P_rad1[43,:]*Lx1*Ly1*Prad_unit/0.511, '--b', label='w=1') # [J/s/um/MeV]\n",
    "plt.xlabel(r'Photon Energy $\\varepsilon_{\\gamma}$ (MeV)')\n",
    "plt.ylabel(r'dP/d$\\varepsilon_{\\gamma}$ (W/MeV/um)')\n",
    "plt.xlim([0.05,60])\n",
    "plt.ylim([0,8e12])\n",
    "plt.grid(which='both',linestyle=':',alpha=0.5)\n",
    "plt.legend()\n",
    "# plt.savefig('/Users/yao/Desktop/spectrum.png',dpi=600)"
   ]
  },
  {
   "cell_type": "code",
   "execution_count": 45,
   "metadata": {},
   "outputs": [
    {
     "name": "stdout",
     "output_type": "stream",
     "text": [
      "WARNING: units unknown: 1 / ( 1 )\n"
     ]
    }
   ],
   "source": [
    "dtime = np.array(S0.RadiationSpectrum(1).getTimes())\n",
    "deltat = dtime[2] - dtime[1]"
   ]
  },
  {
   "cell_type": "code",
   "execution_count": 47,
   "metadata": {},
   "outputs": [
    {
     "data": {
      "text/plain": [
       "[<matplotlib.lines.Line2D at 0x16ac63a60>]"
      ]
     },
     "execution_count": 47,
     "metadata": {},
     "output_type": "execute_result"
    }
   ],
   "source": [
    "plt.semilogx(np.sum(P_rad0,axis=0)*deltat)"
   ]
  },
  {
   "cell_type": "code",
   "execution_count": 50,
   "metadata": {},
   "outputs": [
    {
     "data": {
      "text/plain": [
       "47.902490491428026"
      ]
     },
     "execution_count": 50,
     "metadata": {},
     "output_type": "execute_result"
    }
   ],
   "source": [
    "np.sum(P_rad0)*deltat"
   ]
  },
  {
   "cell_type": "code",
   "execution_count": 39,
   "metadata": {},
   "outputs": [
    {
     "data": {
      "text/plain": [
       "1.3020833333333332e-15"
      ]
     },
     "execution_count": 39,
     "metadata": {},
     "output_type": "execute_result"
    }
   ],
   "source": [
    "deltat"
   ]
  },
  {
   "cell_type": "code",
   "execution_count": 43,
   "metadata": {},
   "outputs": [
    {
     "data": {
      "text/plain": [
       "[<matplotlib.lines.Line2D at 0x17545f970>]"
      ]
     },
     "execution_count": 43,
     "metadata": {},
     "output_type": "execute_result"
    }
   ],
   "source": [
    "plt.plot(ene_photon0,P_rad0[43,:]*Lx0*Ly0*Prad_unit/0.511, '-r', label='w=1.25') # [J/s/um/MeV]\n"
   ]
  },
  {
   "cell_type": "code",
   "execution_count": null,
   "metadata": {},
   "outputs": [],
   "source": []
  }
 ],
 "metadata": {
  "kernelspec": {
   "display_name": "Python 3",
   "language": "python",
   "name": "python3"
  },
  "language_info": {
   "codemirror_mode": {
    "name": "ipython",
    "version": 3
   },
   "file_extension": ".py",
   "mimetype": "text/x-python",
   "name": "python",
   "nbconvert_exporter": "python",
   "pygments_lexer": "ipython3",
   "version": "3.9.20"
  }
 },
 "nbformat": 4,
 "nbformat_minor": 2
}
