{
 "cells": [
  {
   "cell_type": "code",
   "execution_count": 1,
   "id": "0abf7980-2e2d-42a5-843e-a631d446c019",
   "metadata": {},
   "outputs": [],
   "source": [
    "%matplotlib qt"
   ]
  },
  {
   "cell_type": "code",
   "execution_count": 2,
   "id": "56db5c81-8a8f-42a0-8196-f224d2d960ec",
   "metadata": {},
   "outputs": [
    {
     "name": "stderr",
     "output_type": "stream",
     "text": [
      "/var/folders/2t/97rc3fl92tg15k2l_4sk5hsh0000gn/T/ipykernel_69721/2005029716.py:6: MatplotlibDeprecationWarning: The get_cmap function was deprecated in Matplotlib 3.7 and will be removed two minor releases later. Use ``matplotlib.colormaps[name]`` or ``matplotlib.colormaps.get_cmap(obj)`` instead.\n",
      "  jetcmap = plt.cm.get_cmap(\"jet\", 9) #generate a jet map with 10 values \"rainbow\", \"jet\", YlOrRd\n"
     ]
    }
   ],
   "source": [
    "import matplotlib as mpl\n",
    "import happi\n",
    "import numpy as np\n",
    "import matplotlib.pyplot as plt\n",
    "\n",
    "jetcmap = plt.cm.get_cmap(\"jet\", 9) #generate a jet map with 10 values \"rainbow\", \"jet\", YlOrRd\n",
    "jet_vals = jetcmap(np.arange(9)) #extract those values as an array \n",
    "jet_vals[0] = [1.0, 1, 1.0, 1] #change the first value \n",
    "jet_vals[8] = [0.0, 0, 0.0, 1] #change the first value \n",
    "newcmap = mpl.colors.LinearSegmentedColormap.from_list(\"mine\", jet_vals) \n",
    "\n",
    "from matplotlib import font_manager\n",
    "\n",
    "font_dirs = ['/Users/yao/Documents/Calibri and Cambria Fonts/']\n",
    "font_files = font_manager.findSystemFonts(fontpaths=font_dirs)\n",
    "\n",
    "for font_file in font_files:\n",
    "    font_manager.fontManager.addfont(font_file)\n",
    "\n",
    "# set font\n",
    "plt.rcParams['font.family'] = 'Calibri'\n",
    "\n",
    "plt.rc('text', usetex=False)\n",
    "plt.rc('xtick', labelsize=12)\n",
    "plt.rc('ytick', labelsize=12)\n",
    "plt.rc('axes', labelsize=12)\n",
    "plt.rc('legend', fontsize=10)"
   ]
  },
  {
   "cell_type": "code",
   "execution_count": 6,
   "id": "c355dd54-10b0-4840-842a-61fe0df05e92",
   "metadata": {},
   "outputs": [],
   "source": [
    "wkdir = [\n",
    "    # '/Users/yao/Desktop/Data/apollon23_shock_t02/',\n",
    "    # '/Users/yao/Desktop/Data/apollon23_shock_t03/',\n",
    "    # '/Users/yao/Desktop/Data/apollon23_shock_t04/',\n",
    "    # '/Users/yao/Desktop/Data/apo23_ne5e19_v8200_Bz60_angle90_dx01_2/',\n",
    "    # '/Users/yao/Desktop/Data/apo23_2D_Bz0/',\n",
    "    # '/Users/yao/Desktop/Data/apo23_ne5e19_v8200_Bz60_angle90_dx005_3/',\n",
    "    # '/Users/yao/Desktop/Data/resolution/Bz60/',\n",
    "    # '/Users/yao/Desktop/Data/resolution/Bz0/'\n",
    "    # '/Users/yao/Desktop/Data/dx0.025/apo23_ne5e19_v8200_Bz0_dx0.025_4/',\n",
    "    # '/Users/yao/Desktop/Data/dx0.025/apo23_ne5e19_v8200_Bz60_dx0.025_4_r2/'\n",
    "    # '/Volumes/LaCie_Yao23/Apollon_Prop_shock_2023-24/apollon23_shock_t03/',\n",
    "    '/Volumes/LaCie_Yao23/Apollon_Prop_shock_2023-24/apollon23_shock_t04/',\n",
    "    # '/Users/yao/Documents/Data/Gabriel_2024/B60_5e19_1um-Copy2/',\n",
    "    # \"/Users/yao/Desktop/apollon23_shock_ps_prepulse_t1\" # short pre-pulse\n",
    "    # \"/Users/yao/Desktop/apollon23_shock_ps_prepulse_t2/\" # short pre-pulse\n",
    "    ]"
   ]
  },
  {
   "cell_type": "code",
   "execution_count": 9,
   "id": "f8a30974-4519-41f3-b494-01e2683f2c72",
   "metadata": {},
   "outputs": [
    {
     "name": "stdout",
     "output_type": "stream",
     "text": [
      "a_0 =  113.45689409385798\n",
      "I_0 = 1.6e+22 W/cm2\n",
      "Loaded simulation '/Volumes/LaCie_Yao23/Apollon_Prop_shock_2023-24/apollon23_shock_t04/'\n",
      "Scanning for Scalar diagnostics\n",
      "Scanning for Field diagnostics\n",
      "Scanning for Probe diagnostics\n",
      "Scanning for ParticleBinning diagnostics\n",
      "Scanning for RadiationSpectrum diagnostics\n",
      "Scanning for Performance diagnostics\n",
      "Scanning for Screen diagnostics\n",
      "Scanning for Tracked particle diagnostics\n",
      "Scanning for new particle diagnostics\n"
     ]
    }
   ],
   "source": [
    "# S0 = happi.Open(wkdir[0], reference_angular_frequency_SI = 56375055300167.87)\n",
    "# S1 = happi.Open(wkdir[1], reference_angular_frequency_SI = 56375055300167.87)\n",
    "\n",
    "S0 = happi.Open(wkdir[0], reference_angular_frequency_SI = 2.*np.pi*3e8/1.0e-6)\n",
    "# S1 = happi.Open(wkdir[1], reference_angular_frequency_SI = 2.*np.pi*3e8/0.8e-6)"
   ]
  },
  {
   "cell_type": "code",
   "execution_count": 10,
   "id": "d70de0ad",
   "metadata": {},
   "outputs": [
    {
     "name": "stdout",
     "output_type": "stream",
     "text": [
      "\n",
      "#3 - Number density of species # 0\n",
      "    x from 0 to 25132.7 in 200 steps \n",
      "    px from -100 to 100 in 200 steps \n",
      "\n",
      "average for all px\n",
      "The value in each bin is the sum of the `deposited_quantity` divided by the bin size\n",
      "\n"
     ]
    }
   ],
   "source": [
    "S0.ParticleBinning(3,units=['um','fs','MeV','cm^-3'],\n",
    "                   data_log=True,\n",
    "                   sum={'px':'all'},\n",
    "                   ).slide()"
   ]
  },
  {
   "cell_type": "code",
   "execution_count": 49,
   "id": "b45a5954",
   "metadata": {},
   "outputs": [
    {
     "name": "stderr",
     "output_type": "stream",
     "text": [
      "/Users/yao/Smilei/happi/_Diagnostics/Diagnostic.py:857: RuntimeWarning: divide by zero encountered in log10\n",
      "  return self._np.log10( self._dataLinAtTime(t) )\n"
     ]
    }
   ],
   "source": [
    "prop = S0.ParticleBinning(1,units=['um','fs','MeV','cm^-3'],\n",
    "                   data_log=True,\n",
    "                   label='proposal',\n",
    "                   )#.slide()\n",
    "\n",
    "now = S1.ParticleBinning(3,units=['um','fs','MeV','cm^-3'],\n",
    "                   data_log=True,\n",
    "                   sum={'px':'all'},\n",
    "                   label='Gabriel',\n",
    "                   )\n",
    "\n",
    "happi.multiSlide(prop, now)\n",
    "\n"
   ]
  },
  {
   "cell_type": "code",
   "execution_count": 12,
   "id": "b7bf8d5e",
   "metadata": {},
   "outputs": [
    {
     "name": "stdout",
     "output_type": "stream",
     "text": [
      "\n",
      "#3 - Number density of species # 1,3,5\n",
      "    x from 0 to 25735.9 in 2000 steps \n",
      "    px from -1 to 8 in 200 steps \n",
      "\n",
      "average for all px\n",
      "The value in each bin is the sum of the `deposited_quantity` divided by the bin size\n",
      "\n"
     ]
    }
   ],
   "source": [
    "S0.ParticleBinning(3,units=['um','fs','MeV','cm^-3'],\n",
    "                   data_log=True,\n",
    "                   sum={'px':'all'},\n",
    "                #    label='ps pre-pulse',\n",
    "                   ).slide()"
   ]
  },
  {
   "cell_type": "code",
   "execution_count": 21,
   "id": "caac7b39-8d17-4a86-83e2-81c97cc9e2d4",
   "metadata": {},
   "outputs": [],
   "source": [
    "# 3 for ion2, 0 for ion1+ion2\n",
    "\n",
    "ps_b0 = S0.ParticleBinning(0,units=['mm','ns','km/s'],\n",
    "                           data_log=True,\n",
    "                           cmap=newcmap,\n",
    "                           # xmin=2.0,\n",
    "                           # xmax=8.0,\n",
    "                           ymin=-5000,\n",
    "                           ymax=15000,\n",
    "                           vmin=0,\n",
    "                           vmax=6,\n",
    "                          )\n",
    "ps_b60 = S1.ParticleBinning(0,units=['mm','ns','km/s'],\n",
    "                           data_log=True,\n",
    "                           cmap=newcmap,\n",
    "                           # xmin=2.0,\n",
    "                           # xmax=8.0,\n",
    "                           ymin=-5000,\n",
    "                           ymax=15000,\n",
    "                           vmin=0,\n",
    "                           vmax=6,\n",
    "                          )\n",
    "\n",
    "happi.multiSlide(ps_b0, ps_b60, shape=[2,1])"
   ]
  },
  {
   "cell_type": "code",
   "execution_count": 8,
   "id": "5b509538-b485-438d-b4ae-b41c77323488",
   "metadata": {},
   "outputs": [],
   "source": [
    "es_b0 = S0.ParticleBinning(1,units=['mm','ns','km/s','keV'],\n",
    "                           data_log=True,\n",
    "                           sum={\"x\":\"all\"},\n",
    "                           vmin=-4,\n",
    "                           vmax=3,\n",
    "                           # xmin=0,\n",
    "                           # xmax=2000,\n",
    "                           color='blue',\n",
    "                           label='B = 0',\n",
    "                           linestyle='--',\n",
    "                          )\n",
    "\n",
    "es_b60 = S1.ParticleBinning(1,units=['mm','ns','km/s','keV'],\n",
    "                            data_log=True,\n",
    "                            sum={\"x\":\"all\"},\n",
    "                            vmin=-4,\n",
    "                            vmax=3,\n",
    "                            # xmin=0,\n",
    "                            # xmax=2000,\n",
    "                            color='red',\n",
    "                            label='Bz = 60 T',\n",
    "                            linestyle='-',\n",
    "                           )\n",
    "\n",
    "happi.multiSlide(es_b0, es_b60)"
   ]
  },
  {
   "cell_type": "code",
   "execution_count": 10,
   "id": "7d17f57b-e055-4b0f-a2b3-88914a525051",
   "metadata": {},
   "outputs": [
    {
     "name": "stdout",
     "output_type": "stream",
     "text": [
      "\n",
      "#10 - Number density of species # 0,2\n",
      "    vx from -0.0825 to 0.0825 in 500 steps \n",
      "    vy from -0.0825 to 0.0825 in 500 steps \n",
      "\n",
      "Operation : #10\n",
      "The value in each bin is the sum of the `deposited_quantity` divided by the bin size and by grid_length[0]\n",
      "\n"
     ]
    }
   ],
   "source": [
    "S1.ParticleBinning(10,units=['mm','ns','km/s'],\n",
    "                   data_log=True,\n",
    "                   cmap=newcmap,\n",
    "                   # xmin=1.0,\n",
    "                   # xmax=5.0,\n",
    "                   # ymin=0,\n",
    "                   # ymax=15000,\n",
    "                   # vmin=0,\n",
    "                   # vmax=6,\n",
    "                  ).slide()"
   ]
  },
  {
   "cell_type": "code",
   "execution_count": 13,
   "id": "39e6ba2c-f987-4871-82d5-552c81647781",
   "metadata": {},
   "outputs": [
    {
     "name": "stdout",
     "output_type": "stream",
     "text": [
      "\n",
      "#9 - Number density of species # 0,2\n",
      "    x from 0 to 4096 in 1500 steps \n",
      "\n",
      "The value in each bin is the sum of the `deposited_quantity` divided by the bin size\n",
      "\n"
     ]
    }
   ],
   "source": [
    "S1.ParticleBinning(9,units=['mm','ns','km/s','keV','cm^-3'],\n",
    "                   # xmin=1.0,\n",
    "                   # xmax=5.0,\n",
    "                  ).slide()"
   ]
  },
  {
   "cell_type": "code",
   "execution_count": 15,
   "id": "191aefc3-b769-4e1a-b3fc-03d97b576824",
   "metadata": {},
   "outputs": [],
   "source": [
    "ni1 = S1.ParticleBinning(5,\n",
    "              units=['mm','ns','km/s','keV','cm^-3','T'],\n",
    "                         sum={'ekin':'all'},\n",
    "              # xmin=1.0,\n",
    "              # xmax=5.0,\n",
    "             )\n",
    "\n",
    "bz1 = S1.Field(0,'Bz',units=['mm','ns','km/s','keV','cm^-3','T'],\n",
    "              # xmin=1.0,\n",
    "              # xmax=5.0,\n",
    "               # vmin=0,\n",
    "               # vmax=1200,\n",
    "             )\n",
    "\n",
    "happi.multiSlide(ni1, bz1, shape=[2,1])"
   ]
  },
  {
   "cell_type": "code",
   "execution_count": 55,
   "id": "867def6f-bafe-4801-84c9-76a5e3526d59",
   "metadata": {},
   "outputs": [
    {
     "data": {
      "text/plain": [
       "18.53658536585366"
      ]
     },
     "execution_count": 55,
     "metadata": {},
     "output_type": "execute_result"
    }
   ],
   "source": [
    "(10e-3 / 8200e3 * 1e9) / (1.0 / (1.52e3 * 1000 * 1e4) * 1e9)"
   ]
  },
  {
   "cell_type": "code",
   "execution_count": 57,
   "id": "b7f1316d-113a-40ea-a31b-fa7664ab228f",
   "metadata": {},
   "outputs": [
    {
     "data": {
      "text/plain": [
       "4.053333333333333"
      ]
     },
     "execution_count": 57,
     "metadata": {},
     "output_type": "execute_result"
    }
   ],
   "source": [
    "(5e-3 / 1500e3 * 1e9) / (1.0 / (1.52e3 * 80 * 1e4) * 1e9)"
   ]
  },
  {
   "cell_type": "code",
   "execution_count": 54,
   "id": "a5b57d4e-8c39-4d24-a987-d0a7267ed309",
   "metadata": {},
   "outputs": [
    {
     "data": {
      "text/plain": [
       "20.0"
      ]
     },
     "execution_count": 54,
     "metadata": {},
     "output_type": "execute_result"
    }
   ],
   "source": [
    "1.2 / 0.06"
   ]
  },
  {
   "cell_type": "code",
   "execution_count": 115,
   "id": "947ba3c3-8bc5-4f47-8397-5ae2ecdc626d",
   "metadata": {},
   "outputs": [],
   "source": [
    "x    = np.array(S0.ParticleBinning(1, units=['mm','ps','MeV','cm^-3'],).getAxis('x'))\n",
    "dens = np.array(S0.ParticleBinning(1, units=['mm','ps','MeV','cm^-3'],).getData()[-1])\n",
    "data = np.array(S0.ParticleBinning(0, units=['mm','ps','MeV','cm^-3'],).getData()[-1])\n",
    "px   = np.array(S0.ParticleBinning(0, units=['mm','ps','MeV','cm^-3'],).getAxis('px'))\n",
    "xx   = np.array(S0.ParticleBinning(0, units=['mm','ps','MeV','cm^-3'],).getAxis('x'))\n",
    "\n"
   ]
  },
  {
   "cell_type": "code",
   "execution_count": 145,
   "id": "26942496",
   "metadata": {},
   "outputs": [],
   "source": [
    "x    = np.array(S1.ParticleBinning(0, units=['mm','ps','MeV','cm^-3'],).getAxis('x'))\n",
    "dens = np.array(S1.ParticleBinning(0, units=['mm','ps','MeV','cm^-3'],\n",
    "                                   sum={'vx':'all'}).getData()[-1])\n",
    "data = np.array(S1.ParticleBinning(0, units=['mm','ps','MeV','cm^-3'],).getData()[-1])\n",
    "vx   = np.array(S1.ParticleBinning(0, units=['mm','ps','MeV','cm^-3'],).getAxis('vx'))\n",
    "xx   = np.array(S1.ParticleBinning(0, units=['mm','ps','MeV','cm^-3'],).getAxis('x'))"
   ]
  },
  {
   "cell_type": "code",
   "execution_count": 118,
   "id": "1acc1cbf",
   "metadata": {},
   "outputs": [],
   "source": [
    "me=9.1e-31\n",
    "c = 3e8\n",
    "mi = 1836*me"
   ]
  },
  {
   "cell_type": "code",
   "execution_count": 146,
   "id": "5c0b7ae1-219a-4ca2-95d7-d8f3ecb911cc",
   "metadata": {},
   "outputs": [
    {
     "name": "stderr",
     "output_type": "stream",
     "text": [
      "/var/folders/2t/97rc3fl92tg15k2l_4sk5hsh0000gn/T/ipykernel_68786/4153156315.py:28: RuntimeWarning: divide by zero encountered in log10\n",
      "  im1 = grid[1].imshow(np.log10(data.T),\n"
     ]
    }
   ],
   "source": [
    "from mpl_toolkits.axes_grid1 import make_axes_locatable\n",
    "from mpl_toolkits.axes_grid1 import ImageGrid\n",
    "\n",
    "\n",
    "width  = 3.487 * 1.6\n",
    "height = width \n",
    "\n",
    "fig = plt.figure(figsize=(width, height))\n",
    "\n",
    "# fig, ax = plt.subplots()\n",
    "# fig.subplots_adjust(left=.15, bottom=.16, right=.99, top=.97)\n",
    "\n",
    "grid = ImageGrid(fig, 111,          # as in plt.subplot(111)\n",
    "                 nrows_ncols=(2,1),\n",
    "                 axes_pad=0.2,\n",
    "                 label_mode=\"L\",\n",
    "                 share_all=False,\n",
    "                 aspect=False,\n",
    "                 cbar_location=\"right\",\n",
    "                 cbar_mode=\"single\",\n",
    "                 cbar_size=\"2%\",\n",
    "                 cbar_pad=0.1,\n",
    "                 )\n",
    "\n",
    "im0 = grid[0].plot(x, dens/1e18, color='blue',linestyle='-', lw=1.0, label='density (1e18 cc)'\n",
    "          )\n",
    "\n",
    "im1 = grid[1].imshow(np.log10(data.T),\n",
    "           cmap=newcmap,\n",
    "           origin='lower',\n",
    "           extent=[xx[0],xx[-1],vx[0],vx[-1]],\n",
    "           vmin=-5,\n",
    "           vmax=-1,\n",
    "           aspect='auto',\n",
    "          )\n",
    "\n",
    "grid[1].hlines(50.,0.5, 2.5, linestyles='--', color='black', lw=1.0, label='8200 km/s')\n",
    "\n",
    "grid[0].set_xlim(0.5,2.5)\n",
    "grid[0].set_ylim(0,1200)\n",
    "grid[1].set_xlim(0.5,2.5)\n",
    "grid[1].set_ylim(-200,1000)\n",
    "grid[1].set_xlabel('x (mm)')\n",
    "grid[0].set_ylabel('Dens (1e18 cc)')\n",
    "grid[1].set_ylabel('Px (mc)')\n",
    "grid[0].grid(linestyle=':',color='grey',alpha=0.5)\n",
    "grid[1].grid(linestyle=':',color='grey',alpha=0.5)\n",
    "\n",
    "# Colorbar\n",
    "# grid[0].cax.colorbar(im0)\n",
    "grid[1].cax.colorbar(im1)\n",
    "# grid[1].cax.cla()\n",
    "# mpl.colorbar.Colorbar(grid[1].cax,im1)\n",
    "# grid[1].cax.toggle_label(True)\n",
    "# grid[1].cax.tick_params(size=0)\n",
    "# grid[1].cax.toggle_label(True)\n",
    "# fig.tight_layout()\n",
    "grid[1].legend()\n",
    "plt.show()\n",
    "\n",
    "# fig.savefig('/Users/yao/Desktop/dens_px.png',dpi=600)"
   ]
  },
  {
   "cell_type": "code",
   "execution_count": 158,
   "id": "008fabef-fabb-485a-8943-10625a3095a1",
   "metadata": {},
   "outputs": [
    {
     "name": "stdout",
     "output_type": "stream",
     "text": [
      "\n",
      "#2 - Number density of species # 2\n",
      "    x from 0 to 25735.9 in 2000 steps \n",
      "    vx from -0.6 to 1 in 400 steps \n",
      "\n",
      "The value in each bin is the sum of the `deposited_quantity` divided by the bin size\n",
      "\n"
     ]
    }
   ],
   "source": [
    "S1.ParticleBinning(2, units=['mm','ps','MeV','cm^-3','1e3 km/s'],\n",
    "                   data_log=True,\n",
    "                   cmap=newcmap,\n",
    "                  #  sum={'vx':'all'},\n",
    "                   xmin=0.5,xmax=2.5,\n",
    "                #    ymin=0.0,ymax=1.2e21,\n",
    "                  vmin=-5, vmax=-1\n",
    "                  ).slide()\n",
    "# plot(saveAs=\"/Users/yao/Desktop/density2.png\")"
   ]
  },
  {
   "cell_type": "code",
   "execution_count": 13,
   "id": "3a57381a-d582-400d-a503-e1eba4e03aae",
   "metadata": {},
   "outputs": [
    {
     "name": "stdout",
     "output_type": "stream",
     "text": [
      "\n",
      "#1 - Number density of species # 0\n",
      "    x from 0 to 25132.7 in 1000 steps \n",
      "\n",
      "The value in each bin is the sum of the `deposited_quantity` divided by the bin size\n",
      "\n"
     ]
    }
   ],
   "source": [
    "fig = plt.figure(figsize=(3.487*1.5, 3.487*1.5))\n",
    "A = S0.ParticleBinning(1, units=['mm','ps','MeV','cm^-3'],\n",
    "               #     data_log=True,\n",
    "                   cmap=newcmap,\n",
    "                  # vmin=-5, vmax=-1,\n",
    "                       xmin=0.5, xmax=2.5,\n",
    "                       vmin=0, vmax=1.2e21,\n",
    "                  ).slide()\n",
    "A.plot(saveAs=\"/Users/yao/Desktop/density.png\",dpi=600)"
   ]
  },
  {
   "cell_type": "code",
   "execution_count": 58,
   "id": "dafe2940",
   "metadata": {},
   "outputs": [
    {
     "name": "stdout",
     "output_type": "stream",
     "text": [
      "\n",
      "#1 - Number density of species # 1\n",
      "    x from 0 to 25132.7 in 1000 steps \n",
      "\n",
      "The value in each bin is the sum of the `deposited_quantity` divided by the bin size\n",
      "\n"
     ]
    }
   ],
   "source": [
    "fig = plt.figure(figsize=(3.487*1.5, 3.487*1.5))\n",
    "A = S0.ParticleBinning(1, units=['mm','ps','MeV','cm^-3'],\n",
    "               #     data_log=True,\n",
    "                   cmap=newcmap,\n",
    "                  # vmin=-5, vmax=-1,\n",
    "                       xmin=0.5, xmax=2.5,\n",
    "                       vmin=0, vmax=1.2e21,\n",
    "                  )\n",
    "fig.tight_layout()\n",
    "A.plot(saveAs=\"/Users/yao/Desktop/density.png\",dpi=600)"
   ]
  },
  {
   "cell_type": "code",
   "execution_count": 60,
   "id": "2171a93a",
   "metadata": {},
   "outputs": [
    {
     "name": "stdout",
     "output_type": "stream",
     "text": [
      "\n",
      "#0 - Number density of species # 1\n",
      "    x from 0 to 25132.7 in 400 steps \n",
      "    px from -600 to 1200 in 800 steps \n",
      "\n",
      "The value in each bin is the sum of the `deposited_quantity` divided by the bin size\n",
      "\n"
     ]
    },
    {
     "name": "stderr",
     "output_type": "stream",
     "text": [
      "/Users/yao/Smilei/happi/_Diagnostics/Diagnostic.py:857: RuntimeWarning: divide by zero encountered in log10\n",
      "  return self._np.log10( self._dataLinAtTime(t) )\n"
     ]
    }
   ],
   "source": [
    "fig = plt.figure(figsize=(3.487*1.5, 3.487*1.5))\n",
    "A = S0.ParticleBinning(0, units=['mm','ps','MeV','cm^-3'],\n",
    "                   data_log=True,\n",
    "                   cmap=newcmap,\n",
    "                   vmin=-5, vmax=-1,\n",
    "                   ymin=-200,ymax=1000,\n",
    "                   xmin=0.5, xmax=2.5,\n",
    "                #    vmin=0, vmax=1.2e21,\n",
    "                  )\n",
    "fig.tight_layout()\n",
    "A.plot(saveAs=\"/Users/yao/Desktop/x-px.png\",dpi=600)"
   ]
  },
  {
   "cell_type": "code",
   "execution_count": null,
   "id": "5f053cc5-3949-4153-9247-d82c76b3e21b",
   "metadata": {},
   "outputs": [],
   "source": [
    "fig.tight_layout()\n",
    "fig.savefig('/Users/yao/Desktop/dens3.png',dpi=600)"
   ]
  },
  {
   "cell_type": "code",
   "execution_count": 20,
   "id": "9f2464d1-68ee-478d-b41c-4b3ae04b517e",
   "metadata": {},
   "outputs": [
    {
     "name": "stdout",
     "output_type": "stream",
     "text": [
      "\n",
      "#0 - Number density of species # 0,2\n",
      "    x from 0 to 4096 in 500 steps \n",
      "    vx from -0.0275 to 0.0825 in 500 steps \n",
      "\n",
      "The value in each bin is the sum of the `deposited_quantity` divided by the bin size\n",
      "\n"
     ]
    }
   ],
   "source": [
    "S0.ParticleBinning(0, units=['mm','ps','MeV','cm^-3'],\n",
    "                   data_log=True,\n",
    "                   cmap=newcmap,\n",
    "                  vmin=-5, vmax=-1,\n",
    "                   ymin=-500, ymax=1000,\n",
    "                   xmin=1, xmax=2,\n",
    "                  ).slide()"
   ]
  },
  {
   "cell_type": "code",
   "execution_count": 19,
   "id": "53241190",
   "metadata": {},
   "outputs": [
    {
     "name": "stdout",
     "output_type": "stream",
     "text": [
      "\n",
      "#4 - Number density of species # 2\n",
      "    x from 0 to 25132.7 in 1000 steps \n",
      "\n",
      "The value in each bin is the sum of the `deposited_quantity` divided by the bin size\n",
      "\n"
     ]
    }
   ],
   "source": [
    "# carbon (1) and hydrogen (4) density\n",
    "S0.ParticleBinning(4, units=['mm','ps','MeV','cm^-3'],\n",
    "               #     data_log=True,\n",
    "                   cmap=newcmap,\n",
    "                  # vmin=-5, vmax=-1,\n",
    "                       xmin=0.0, xmax=2.0,\n",
    "                    #    vmin=0, vmax=1.2e21,\n",
    "                  ).slide()"
   ]
  },
  {
   "cell_type": "code",
   "execution_count": 20,
   "id": "c5b7c364",
   "metadata": {},
   "outputs": [
    {
     "name": "stdout",
     "output_type": "stream",
     "text": [
      "\n",
      "#3 - Number density of species # 2\n",
      "    x from 0 to 25132.7 in 400 steps \n",
      "    px from -600 to 1200 in 800 steps \n",
      "\n",
      "The value in each bin is the sum of the `deposited_quantity` divided by the bin size\n",
      "\n"
     ]
    }
   ],
   "source": [
    "# carbon (0) and hydrogen (3) phase-space\n",
    "S0.ParticleBinning(3, units=['mm','ps','MeV','cm^-3'],\n",
    "                   data_log=True,\n",
    "                   cmap=newcmap,\n",
    "                  vmin=-5, vmax=-1,\n",
    "                       xmin=0.0, xmax=2.0,\n",
    "                    #    vmin=0, vmax=1.2e21,\n",
    "                  ).slide()"
   ]
  },
  {
   "cell_type": "code",
   "execution_count": 74,
   "id": "47282227-2b54-4136-b170-2dd9b7b1afa2",
   "metadata": {},
   "outputs": [
    {
     "name": "stdout",
     "output_type": "stream",
     "text": [
      "vi = 8.2e+03 km/s\n",
      "vi = 8.2e+08 cm/s\n"
     ]
    }
   ],
   "source": [
    "me = 9.1e-31\n",
    "c  = 3e8\n",
    "mp = me * 1836\n",
    "pi = 50. * me * c\n",
    "vi = pi / mp\n",
    "\n",
    "print('vi = {:.1e} km/s'.format(vi/1e3))\n",
    "print('vi = {:.1e} cm/s'.format(vi*1e2))"
   ]
  },
  {
   "cell_type": "code",
   "execution_count": 83,
   "id": "07b6f4ef-bdfe-446d-88a0-96eb7ad7e6fd",
   "metadata": {},
   "outputs": [
    {
     "data": {
      "text/plain": [
       "50.0"
      ]
     },
     "execution_count": 83,
     "metadata": {},
     "output_type": "execute_result"
    }
   ],
   "source": [
    "5e19 / 1e18"
   ]
  },
  {
   "cell_type": "code",
   "execution_count": 84,
   "id": "97bb7599-f727-41fa-a8dd-2253e58d9686",
   "metadata": {},
   "outputs": [
    {
     "data": {
      "text/plain": [
       "1.25"
      ]
     },
     "execution_count": 84,
     "metadata": {},
     "output_type": "execute_result"
    }
   ],
   "source": [
    "10e-3 / 8000e3 * 1e9"
   ]
  },
  {
   "cell_type": "code",
   "execution_count": 16,
   "id": "1f3c6005-42d5-4899-806f-147487aa2340",
   "metadata": {},
   "outputs": [
    {
     "name": "stdout",
     "output_type": "stream",
     "text": [
      "\n",
      "#0 - Number density of species # 1\n",
      "    x from 0 to 25132.7 in 400 steps \n",
      "    px from -600 to 1200 in 800 steps \n",
      "\n",
      "The value in each bin is the sum of the `deposited_quantity` divided by the bin size\n",
      "\n"
     ]
    },
    {
     "ename": "KeyError",
     "evalue": "0",
     "output_type": "error",
     "traceback": [
      "\u001b[0;31m---------------------------------------------------------------------------\u001b[0m",
      "\u001b[0;31mKeyError\u001b[0m                                  Traceback (most recent call last)",
      "Cell \u001b[0;32mIn[16], line 11\u001b[0m\n\u001b[1;32m      9\u001b[0m A\u001b[38;5;241m.\u001b[39mset(cbaspect\u001b[38;5;241m=\u001b[39m\u001b[38;5;241m0\u001b[39m)\n\u001b[1;32m     10\u001b[0m fig\u001b[38;5;241m.\u001b[39mtight_layout()\n\u001b[0;32m---> 11\u001b[0m \u001b[43mA\u001b[49m\u001b[38;5;241;43m.\u001b[39;49m\u001b[43mplot\u001b[49m\u001b[43m(\u001b[49m\u001b[43msaveAs\u001b[49m\u001b[38;5;241;43m=\u001b[39;49m\u001b[38;5;124;43m\"\u001b[39;49m\u001b[38;5;124;43m/Users/yao/Desktop/phase_space.png\u001b[39;49m\u001b[38;5;124;43m\"\u001b[39;49m\u001b[43m)\u001b[49m\n",
      "File \u001b[0;32m~/Smilei/happi/_Diagnostics/Diagnostic.py:281\u001b[0m, in \u001b[0;36mDiagnostic.plot\u001b[0;34m(self, timestep, saveAs, axes, dpi, **kwargs)\u001b[0m\n\u001b[1;32m    278\u001b[0m \t\u001b[38;5;28;01mreturn\u001b[39;00m\n\u001b[1;32m    280\u001b[0m save \u001b[38;5;241m=\u001b[39m SaveAs(saveAs, fig, dpi)\n\u001b[0;32m--> 281\u001b[0m \u001b[38;5;28;43mself\u001b[39;49m\u001b[38;5;241;43m.\u001b[39;49m\u001b[43m_plotOnAxes\u001b[49m\u001b[43m(\u001b[49m\u001b[43max\u001b[49m\u001b[43m,\u001b[49m\u001b[43m \u001b[49m\u001b[43mtimestep\u001b[49m\u001b[43m)\u001b[49m\n\u001b[1;32m    282\u001b[0m \u001b[38;5;28mself\u001b[39m\u001b[38;5;241m.\u001b[39m_plt\u001b[38;5;241m.\u001b[39mdraw()\n\u001b[1;32m    283\u001b[0m \u001b[38;5;28mself\u001b[39m\u001b[38;5;241m.\u001b[39m_plt\u001b[38;5;241m.\u001b[39mpause(\u001b[38;5;241m0.00001\u001b[39m)\n",
      "File \u001b[0;32m~/Smilei/happi/_Diagnostics/Diagnostic.py:751\u001b[0m, in \u001b[0;36mDiagnostic._plotOnAxes_2D\u001b[0;34m(self, ax, t, cax_id)\u001b[0m\n\u001b[1;32m    749\u001b[0m vmin, vmax \u001b[38;5;241m=\u001b[39m \u001b[38;5;28mself\u001b[39m\u001b[38;5;241m.\u001b[39m_setVlimits(A)\n\u001b[1;32m    750\u001b[0m \u001b[38;5;28mself\u001b[39m\u001b[38;5;241m.\u001b[39m_plot\u001b[38;5;241m.\u001b[39mset_clim(vmin, vmax)\n\u001b[0;32m--> 751\u001b[0m \u001b[43max\u001b[49m\u001b[38;5;241;43m.\u001b[39;49m\u001b[43mcax\u001b[49m\u001b[43m[\u001b[49m\u001b[43mcax_id\u001b[49m\u001b[43m]\u001b[49m\u001b[38;5;241m.\u001b[39mmappable\u001b[38;5;241m.\u001b[39mset_clim(vmin, vmax)\n\u001b[1;32m    752\u001b[0m \u001b[38;5;28mself\u001b[39m\u001b[38;5;241m.\u001b[39m_setTitle(ax, t)\n\u001b[1;32m    753\u001b[0m \u001b[38;5;28mself\u001b[39m\u001b[38;5;241m.\u001b[39m_setAxesOptions(ax)\n",
      "\u001b[0;31mKeyError\u001b[0m: 0"
     ]
    }
   ],
   "source": [
    "fig = plt.figure(figsize=(3.487, 3.487))\n",
    "A = S0.ParticleBinning(0, units=['mm','ps','MeV','cm^-3'],\n",
    "                   data_log=True,\n",
    "                   cmap=newcmap,\n",
    "                  vmin=-5, vmax=-1,\n",
    "                       xmin=0.5, xmax=2.5,\n",
    "                       ymin=-200, ymax=1000,\n",
    "                  )\n",
    "A.set(cbaspect=0)\n",
    "fig.tight_layout()\n",
    "A.plot(saveAs=\"/Users/yao/Desktop/phase_space.png\")"
   ]
  },
  {
   "cell_type": "code",
   "execution_count": null,
   "id": "436e5f0d-fd94-4233-a39f-a0fb2c06103b",
   "metadata": {},
   "outputs": [],
   "source": [
    "fig.tight_layout()\n",
    "fig.savefig('/Users/yao/Desktop/ps3.png',dpi=600)"
   ]
  },
  {
   "cell_type": "code",
   "execution_count": null,
   "id": "f2e85fc3-83da-482e-a7cc-94a1d2ae0df6",
   "metadata": {},
   "outputs": [],
   "source": [
    "S0.Field(0,'Ey',\n",
    "         units=['mm','ps','MeV','cm^-3','V/m'],\n",
    "         vsym=True).slide()"
   ]
  },
  {
   "cell_type": "code",
   "execution_count": null,
   "id": "17fda777-c8eb-4f57-93cd-bcc7b2f431ef",
   "metadata": {},
   "outputs": [],
   "source": [
    "## get the experimental data\n",
    "## which is analyzed from the RCF Matlab script\n",
    "\n",
    "## Note that here the data is already dN/dE/dsr\n",
    "\n",
    "shot32 = np.loadtxt('/Users/yao/Nextcloud/PROJECTS/Apollon/F1-2023/Apollon_RCF_F12023/2023-10-24-s32/DN_DE_str.txt')\n",
    "de_32  = shot32[:,1]  # dE\n",
    "dn_32  = shot32[:,0]  # dN/dsr\n",
    "\n",
    "shot33 = np.loadtxt('/Users/yao/Nextcloud/PROJECTS/Apollon/F1-2023/Apollon_RCF_F12023/2023-10-24-s33/DN_DE_str.txt')\n",
    "de_33  = shot33[:,1]  # dE\n",
    "dn_33  = shot33[:,0]  # dN/dsr\n",
    "\n",
    "shot37 = np.loadtxt('/Users/yao/Nextcloud/PROJECTS/Apollon/F1-2023/Apollon_RCF_F12023/2023-10-24-s37/DN_DE_str.txt')\n",
    "de_37  = shot37[:,1]  # dE\n",
    "dn_37  = shot37[:,0]  # dN/dsr\n",
    "\n",
    "# shot32_dnde = np.loadtxt('/Users/yao/Nextcloud/PROJECTS/Apollon/F1-2023/Apollon_RCF_F12023/2023-10-03-s32/DN_DE.txt')\n",
    "# dn_de = shot32_dnde[:,0]\n",
    "\n"
   ]
  },
  {
   "cell_type": "code",
   "execution_count": null,
   "id": "cc035bec-c944-4e33-9a7a-60bd93ff6703",
   "metadata": {},
   "outputs": [],
   "source": [
    "## get the simulation data\n",
    "l0 = S0.namelist.l0\n",
    "ekin = np.array(S0.Screen(2, units=['um','fs','MeV']).getAxis('ekin'))\n",
    "time = np.array(S0.Screen(2, units=['um','fs','MeV']).getTimes())\n",
    "numb = np.array(S0.Screen(2, units=['um','fs','MeV'],sum={'y':[5.*l0,37.*l0]}).getData())  \n",
    "# NOTE: there is another axis along y, which allow us to get the dN/dE/dsr\n"
   ]
  },
  {
   "cell_type": "code",
   "execution_count": null,
   "id": "d3620448-0513-48a4-87fd-453bdd04d8f4",
   "metadata": {
    "jupyter": {
     "source_hidden": true
    }
   },
   "outputs": [],
   "source": [
    "## find the cut-off energy (of the simulation data) -- this is to transform the dN/dE into dN/dE/dsr\n",
    "## we have a better way to do so now.\n",
    "\n",
    "dNdE = np.sum(numb[-1],axis=1)\n",
    "index_cutoff = np.where(dNdE == 0.)[0][0]\n",
    "ekin_cutoff = ekin[index_cutoff]\n",
    "\n",
    "print(ekin_cutoff)"
   ]
  },
  {
   "cell_type": "code",
   "execution_count": null,
   "id": "5aa204d8-8108-4685-b356-1ddec1c00729",
   "metadata": {
    "jupyter": {
     "source_hidden": true
    }
   },
   "outputs": [],
   "source": [
    "## find the cut-off energy (of the exp. data) -- this is to transform the dN/dE into dN/dE/dsr\n",
    "## we get it directly from the RCF analyzing code.\n",
    "\n",
    "ekin_cutoff = de_32[-1]\n",
    "\n",
    "print(ekin_cutoff)"
   ]
  },
  {
   "cell_type": "code",
   "execution_count": null,
   "id": "b3bbbaa7-f6fe-4940-9451-979d76ecc905",
   "metadata": {
    "jupyter": {
     "source_hidden": true
    }
   },
   "outputs": [],
   "source": [
    "## now - we need to transform the simulation data\n",
    "## from dN/dE to dN/dE/dsr\n",
    "\n",
    "## we need to assume that the protons follows the typical angular distribution (???)\n",
    "## Ref: Mancic, A., et al. High Energy Density Physics 6.1 (2010): 21-28. (Fig.4)\n",
    "## Is this assumption appropriate, since here we are not exactly TNSA?\n",
    "\n",
    "def func(x, par):\n",
    "\t[a,b,c,d,e] = par\n",
    "\treturn a + b*x + c*x**2 + d*x**3 +e*x**4\n",
    "\n",
    "maxE = 20.4           # the maximum proton energy from A. Mancic\n",
    "maxE3 = ekin_cutoff   # the maximum proton energy from our SIMULATION\n",
    "par3 =[7.08445636e+00,  \n",
    "       4.94911721e+00*maxE/maxE3, \n",
    "       -6.00922396e-01*(maxE/maxE3)**2,  \n",
    "       2.99448952e-02*(maxE/maxE3)**3, \n",
    "       -6.47401643e-04*(maxE/maxE3)**4]\n",
    "\n",
    "dNdEdsr = np.zeros_like(dNdE)\n",
    "ang     = np.zeros_like(dNdE)\n",
    "\n",
    "# own calculation\n",
    "for i in range(len(dNdEdsr)):\n",
    "    ang[i] = func(ekin[i],par3)*np.pi/180.0\n",
    "    if i > index_cutoff:\n",
    "        ang[i] = 0.\n",
    "    dNdEdsr[i] = dNdE[i]/(2*np.pi*(1-np.cos(ang[i])))"
   ]
  },
  {
   "cell_type": "code",
   "execution_count": null,
   "id": "b2a08f64-af07-434d-ad90-e410887e4a9e",
   "metadata": {
    "jupyter": {
     "source_hidden": true
    }
   },
   "outputs": [],
   "source": [
    "## now - we need to transform the exp. data\n",
    "## from dN/dE/dsr to dN/dE\n",
    "\n",
    "## we need to assume that the protons follows the typical angular distribution (???)\n",
    "## Ref: Mancic, A., et al. High Energy Density Physics 6.1 (2010): 21-28. (Fig.4)\n",
    "## Is this assumption appropriate, since here we are not exactly TNSA?\n",
    "\n",
    "def func(x, par):\n",
    "\t[a,b,c,d,e] = par\n",
    "\treturn a + b*x + c*x**2 + d*x**3 +e*x**4\n",
    "\n",
    "maxE = 20.4           # the maximum proton energy from A. Mancic\n",
    "maxE3 = ekin_cutoff   # the maximum proton energy from our SIMULATION\n",
    "par3 =[7.08445636e+00,  \n",
    "       4.94911721e+00*maxE/maxE3, \n",
    "       -6.00922396e-01*(maxE/maxE3)**2,  \n",
    "       2.99448952e-02*(maxE/maxE3)**3, \n",
    "       -6.47401643e-04*(maxE/maxE3)**4]\n",
    "\n",
    "dNdE = np.zeros_like(de_32)\n",
    "ang  = np.zeros_like(de_32)\n",
    "\n",
    "# own calculation\n",
    "for i in range(len(de_32)):\n",
    "    ang[i]  = func(de_32[i],par3)*np.pi/180.0\n",
    "    dNdE[i] = dn_dsr[i]*(2*np.pi*(1-np.cos(ang[i])))"
   ]
  },
  {
   "cell_type": "code",
   "execution_count": null,
   "id": "68711795-75cf-44f1-b508-3a2e5272e25a",
   "metadata": {
    "jupyter": {
     "source_hidden": true
    }
   },
   "outputs": [],
   "source": [
    "## plot and check\n",
    "\n",
    "plt.semilogy(ekin,dNdE, '--r', label='dN/dE')\n",
    "plt.semilogy(ekin,dNdEdsr, '-b', label='dN/(dEdsr)')\n",
    "plt.xlabel('Energy (MeV)')\n",
    "plt.legend()\n",
    "plt.xlim([0,60])"
   ]
  },
  {
   "cell_type": "code",
   "execution_count": null,
   "id": "3855459b-b340-4a3b-840c-33c22a7c41fb",
   "metadata": {
    "jupyter": {
     "source_hidden": true
    }
   },
   "outputs": [],
   "source": [
    "## plot and check\n",
    "\n",
    "\n",
    "# plt.semilogy(de_32,dn_de, '*r', label='dN/dE - raw')\n",
    "plt.semilogy(de_32,dn_dsr, 'sr', label='dN/(dEdsr) - raw')\n",
    "plt.semilogy(ekin,dNdE*3e10, '--b', label='dN/dE - transformed')\n",
    "plt.xlabel('Energy (MeV)')\n",
    "plt.legend()\n",
    "plt.xlim([0,60])"
   ]
  },
  {
   "cell_type": "code",
   "execution_count": null,
   "id": "68c49ab5-6952-43c6-b9df-d47a1d058541",
   "metadata": {},
   "outputs": [],
   "source": [
    "# energy spectrum from screen vs. experimental data\n",
    "# use dN/dE/dsr of simulation (with an extra y-axis)\n",
    "# and dN/dE/dsr of experiment (directly from the RCF analyzing code)\n",
    "\n",
    "plt.rc('font', family='sans-serif', serif='Arial')\n",
    "plt.rc('text', usetex=False)\n",
    "plt.rc('xtick', labelsize=8)\n",
    "plt.rc('ytick', labelsize=8)\n",
    "plt.rc('axes', labelsize=8)\n",
    "plt.rc('legend', fontsize=8)\n",
    "\n",
    "width  = 3.487\n",
    "height = width / 1.618 * 1.5\n",
    "\n",
    "fig, ax = plt.subplots()\n",
    "fig.subplots_adjust(left=.15, bottom=.16, right=.99, top=.97)\n",
    "\n",
    "# # experiment\n",
    "# x = (de_33 + de_37[:-1]) / 2.\n",
    "# y1 = np.asarray([dn_33, dn_37[:-1]]).min(0)\n",
    "# y2 = np.asarray([dn_33, dn_37[:-1]]).max(0)\n",
    "# ax.fill_between(x, y1, y2, alpha=0.3, color='blue', lw=0)\n",
    "# ax.plot(x, (y1 + y2)/2, linewidth=0, marker='s', markersize=4, color='blue', label='Exp.')\n",
    "\n",
    "# ax.semilogy(ekin,np.sum(numb[-1],axis=1)*2e10, color='k',lw=2.0,\n",
    "#              linestyle='--',\n",
    "#             label=r'Sim.',\n",
    "#            )\n",
    "ax.semilogy(de_32, dn_32, '^g', \n",
    "            label='Exp. #32')\n",
    "\n",
    "ax.semilogy(de_33, dn_33, 'sb', \n",
    "            label='Exp. #33')\n",
    "\n",
    "ax.semilogy(de_37, dn_37, 'or', \n",
    "            label='Exp. #37')\n",
    "\n",
    "# ax.semilogy(ekin,numb[-1]*1.5e13, color='k',lw=1.0,\n",
    "#              linestyle='-',\n",
    "#             label='Sim.',\n",
    "#            )\n",
    "\n",
    "ax.set_xlim([0,60])\n",
    "ax.set_ylim([1e8,1e11])\n",
    "# plt.title('time = '+str(tt[ts])+' fs')\n",
    "ax.grid(which='both',linestyle='--',alpha=0.3)\n",
    "ax.set_xlabel('Energy (MeV)')\n",
    "ax.set_ylabel('dN/dE/dsr')\n",
    "\n",
    "\n",
    "\n",
    "\n",
    "ax.legend()\n",
    "fig.set_size_inches(width, height)\n",
    "fig.tight_layout()\n",
    "\n",
    "# plt.show()"
   ]
  },
  {
   "cell_type": "code",
   "execution_count": null,
   "id": "4d2f581f-21cb-4c69-9ef4-d13986c02094",
   "metadata": {},
   "outputs": [],
   "source": [
    "fig.savefig('/Users/yao/Desktop/f1_es_rcf.png',dpi=600)"
   ]
  },
  {
   "cell_type": "code",
   "execution_count": null,
   "id": "61493b4c-7378-4e7f-b492-4ed166f5b441",
   "metadata": {},
   "outputs": [],
   "source": [
    "E = 10.e6 # eV\n",
    "qe = 1.6e-19\n",
    "me = 9.1e-31\n",
    "mp = 1836.*me\n",
    "v = np.sqrt(2.*E*qe/mp)\n",
    "print('v = {:.2e} m/s'.format(v))\n",
    "\n",
    "l = 20e-6 # m\n",
    "t = l / v\n",
    "print('t = {:.2f} fs'.format(t*1e15))"
   ]
  },
  {
   "cell_type": "code",
   "execution_count": null,
   "id": "7e9fc53a-c86f-4c3b-a59c-71fbf63744ca",
   "metadata": {},
   "outputs": [],
   "source": [
    "time[-1]"
   ]
  },
  {
   "cell_type": "code",
   "execution_count": null,
   "id": "13398e7f-41fb-41c1-b866-afb37384f5c3",
   "metadata": {},
   "outputs": [],
   "source": [
    "ene1 = np.array(S0.Screen(2, units=['um','fs','MeV']).getData()[-1]) # last timestep\n",
    "yy = np.array(S0.Screen(2, units=['um','fs','MeV']).getAxis('y'))\n",
    "ee = np.array(S0.Screen(2, units=['um','fs','MeV']).getAxis('ekin'))"
   ]
  },
  {
   "cell_type": "code",
   "execution_count": null,
   "id": "74b22572-3449-4e26-9210-6996867f1b3a",
   "metadata": {},
   "outputs": [],
   "source": [
    "plt.rc('font', family='sans-serif', serif='Arial')\n",
    "plt.rc('text', usetex=False)\n",
    "plt.rc('xtick', labelsize=8)\n",
    "plt.rc('ytick', labelsize=8)\n",
    "plt.rc('axes', labelsize=8)\n",
    "plt.rc('legend', fontsize=8)\n",
    "\n",
    "from mpl_toolkits.axes_grid1 import make_axes_locatable\n",
    "\n",
    "\n",
    "width  = 3.487\n",
    "height = width / 1.618 * 1.2\n",
    "\n",
    "fig, ax = plt.subplots()\n",
    "fig.subplots_adjust(left=.15, bottom=.16, right=.99, top=.97)\n",
    "divider = make_axes_locatable(ax)\n",
    "cax = divider.append_axes('right', size='5%', pad=0.05)\n",
    "\n",
    "yekin = ax.imshow(np.log10(ene1.T),\n",
    "           cmap=newcmap,\n",
    "           origin='lower',\n",
    "           extent=[ee[0],ee[-1],yy[0],yy[-1]],\n",
    "           vmin=-4,\n",
    "           vmax=-2,\n",
    "           aspect='equal',\n",
    "          )\n",
    "cbar = fig.colorbar(yekin, cax=cax)\n",
    "cbar.minorticks_on()\n",
    "ax.set_xlim(2,60)\n",
    "ax.set_ylim(5,50)\n",
    "ax.set_yticks([5, 15,25,35,45])\n",
    "ax.set_xlabel('ekin (MeV)')\n",
    "ax.set_ylabel('y (um)')\n",
    "ax.grid(linestyle='--',color='grey',alpha=0.5)\n",
    "fig.set_size_inches(width, height)\n",
    "fig.tight_layout()"
   ]
  },
  {
   "cell_type": "code",
   "execution_count": null,
   "id": "4cc78746-0368-4211-8266-232499d94bc4",
   "metadata": {},
   "outputs": [],
   "source": [
    "fig.savefig('/Users/yao/Desktop/yekin_t04.png',dpi=600)"
   ]
  },
  {
   "cell_type": "code",
   "execution_count": null,
   "id": "36f9a559-06fa-4c4b-ad47-39da3999369f",
   "metadata": {},
   "outputs": [],
   "source": [
    "angene1 = np.array(S0.Screen(6, units=['um','fs','MeV']).getData()[-1]) # last timestep\n",
    "ang = np.array(S0.Screen(6, units=['um','fs','MeV']).getAxis('user_function0'))\n",
    "ee = np.array(S0.Screen(6, units=['um','fs','MeV']).getAxis('ekin'))"
   ]
  },
  {
   "cell_type": "code",
   "execution_count": null,
   "id": "bc1457ed-82ae-4182-8c14-36578e73df65",
   "metadata": {},
   "outputs": [],
   "source": [
    "plt.rc('font', family='sans-serif', serif='Arial')\n",
    "plt.rc('text', usetex=False)\n",
    "plt.rc('xtick', labelsize=8)\n",
    "plt.rc('ytick', labelsize=8)\n",
    "plt.rc('axes', labelsize=8)\n",
    "plt.rc('legend', fontsize=8)\n",
    "\n",
    "from mpl_toolkits.axes_grid1 import make_axes_locatable\n",
    "\n",
    "\n",
    "width  = 3.487\n",
    "height = width / 1.618 * 1.2\n",
    "\n",
    "fig, ax = plt.subplots()\n",
    "fig.subplots_adjust(left=.15, bottom=.16, right=.99, top=.97)\n",
    "divider = make_axes_locatable(ax)\n",
    "cax = divider.append_axes('right', size='5%', pad=0.05)\n",
    "\n",
    "yekin = ax.imshow(np.log10(angene1.T),\n",
    "           cmap=newcmap,\n",
    "           origin='lower',\n",
    "           extent=[ang[0],ang[-1],ee[0],ee[-1]],\n",
    "           vmin=-7,\n",
    "           vmax=-3,\n",
    "           aspect='equal',\n",
    "          )\n",
    "cbar = fig.colorbar(yekin, cax=cax)\n",
    "cbar.minorticks_on()\n",
    "ax.set_xlim(-40,40)\n",
    "ax.set_ylim(0,60)\n",
    "ax.set_xlabel(r'angle ($\\degree$)')\n",
    "ax.set_ylabel('Energy (MeV)')\n",
    "ax.grid(linestyle='--',color='grey',alpha=0.5)\n",
    "fig.set_size_inches(width, height)\n",
    "fig.tight_layout()"
   ]
  },
  {
   "cell_type": "code",
   "execution_count": null,
   "id": "eeb8a492-22ee-4f7b-be3f-4020b6caa9a8",
   "metadata": {},
   "outputs": [],
   "source": [
    "fig.savefig('/Users/yao/Desktop/ang_ene_p.png',dpi=600)"
   ]
  },
  {
   "cell_type": "code",
   "execution_count": null,
   "id": "bd66ffd3-b49e-4961-bcda-1c5a3d75bcb6",
   "metadata": {},
   "outputs": [],
   "source": [
    "angene1 = np.array(S0.Screen(7, units=['um','fs','MeV']).getData()[-1]) # last timestep\n",
    "ang = np.array(S0.Screen(7, units=['um','fs','MeV']).getAxis('user_function0'))\n",
    "ee = np.array(S0.Screen(7, units=['um','fs','MeV']).getAxis('ekin'))"
   ]
  },
  {
   "cell_type": "code",
   "execution_count": null,
   "id": "7207c52d-8309-4be9-8c5f-ba6d2f1bbecd",
   "metadata": {},
   "outputs": [],
   "source": [
    "plt.rc('font', family='sans-serif', serif='Arial')\n",
    "plt.rc('text', usetex=False)\n",
    "plt.rc('xtick', labelsize=8)\n",
    "plt.rc('ytick', labelsize=8)\n",
    "plt.rc('axes', labelsize=8)\n",
    "plt.rc('legend', fontsize=8)\n",
    "\n",
    "from mpl_toolkits.axes_grid1 import make_axes_locatable\n",
    "\n",
    "\n",
    "width  = 3.487\n",
    "height = width / 1.618 * 1.2\n",
    "\n",
    "fig, ax = plt.subplots()\n",
    "fig.subplots_adjust(left=.15, bottom=.16, right=.99, top=.97)\n",
    "divider = make_axes_locatable(ax)\n",
    "cax = divider.append_axes('right', size='5%', pad=0.05)\n",
    "\n",
    "yekin = ax.imshow(np.log10(angene1.T),\n",
    "           cmap=newcmap,\n",
    "           origin='lower',\n",
    "           extent=[ang[0],ang[-1],ee[0],ee[-1]],\n",
    "           vmin=-7,\n",
    "           vmax=-3,\n",
    "           aspect='auto',\n",
    "          )\n",
    "cbar = fig.colorbar(yekin, cax=cax)\n",
    "cbar.minorticks_on()\n",
    "ax.set_xlim(-90,90)\n",
    "ax.set_xticks([-90, -45, 0, 45, 90])\n",
    "ax.set_ylim(0,16)\n",
    "ax.set_xlabel(r'angle ($\\degree$)')\n",
    "ax.set_ylabel('ekin (MeV)')\n",
    "ax.grid(linestyle='--',color='grey',alpha=0.5)\n",
    "fig.set_size_inches(width, height)\n",
    "fig.tight_layout()"
   ]
  },
  {
   "cell_type": "code",
   "execution_count": null,
   "id": "2a809fb4-7e32-4090-aec2-1b6256d9afc1",
   "metadata": {},
   "outputs": [],
   "source": [
    "fig.savefig('/Users/yao/Desktop/ang_ene_e.pdf')"
   ]
  },
  {
   "cell_type": "code",
   "execution_count": null,
   "id": "dc1c4685-27c1-4545-889c-8866921a1476",
   "metadata": {},
   "outputs": [],
   "source": [
    "xx[660]"
   ]
  },
  {
   "cell_type": "code",
   "execution_count": null,
   "id": "5cdf133e-2324-44c5-a9f4-ec0ceca8b35b",
   "metadata": {},
   "outputs": [],
   "source": [
    "from lmfit import Model, Parameters, report_fit\n",
    "\n",
    "def temp(xdata, A, kT):\n",
    "    return np.exp(-xdata/kT)*A\n",
    "    \n",
    "start_point = 500  # 3 MeV \n",
    "end_point = 660    # 25 MeV\n",
    "fitmethod =  'leastsq' #'leastsq' #'tnc' 'cg' 'differential_evolution'\n",
    "\n",
    "def fitting(case, start, end):\n",
    "    gmod = Model(temp)\n",
    "    gmod.set_param_hint('kT', value=1.8, vary=True, min=1.0e-2, max=1.0e1)\n",
    "    gmod.set_param_hint('A', value=3.0, vary=True, min=1.0e-5, max=1.0e5)\n",
    "    pars = gmod.make_params()\n",
    "    result = gmod.fit(case[start:end], xdata=xx[start:end], method=fitmethod, nan_policy='omit')\n",
    "    print(result.fit_report())\n",
    "    print(\"kT: \", result.values['kT'])\n",
    "    print(\"Reduced chi square: \", result.redchi)\n",
    "    return result.best_fit, result.values['kT'], result.redchi\n",
    "\n",
    "y, kT, redchi = fitting(ene3[-1], start_point, end_point)"
   ]
  },
  {
   "cell_type": "code",
   "execution_count": null,
   "id": "e9ed2aad-a6e0-40a9-88d8-ef3f31d048dd",
   "metadata": {},
   "outputs": [],
   "source": [
    "# eon energy spectrum from screen -- check the electron temperature and thus X-rays\n",
    "\n",
    "plt.rc('font', family='sans-serif', serif='Arial')\n",
    "plt.rc('text', usetex=False)\n",
    "plt.rc('xtick', labelsize=8)\n",
    "plt.rc('ytick', labelsize=8)\n",
    "plt.rc('axes', labelsize=8)\n",
    "plt.rc('legend', fontsize=8)\n",
    "\n",
    "# plt.rc('text', usetex=False)\n",
    "# mpl.rcParams['font.family'] = 'Arial'\n",
    "# mpl.rcParams['axes.labelsize'] = 12\n",
    "# mpl.rcParams['legend.fontsize'] = 16\n",
    "# mpl.rcParams['xtick.labelsize'] = 12\n",
    "# mpl.rcParams['ytick.labelsize'] = 12\n",
    "# mpl.rcParams['lines.linewidth'] = 2\n",
    "\n",
    "width  = 3.487\n",
    "height = width / 1.618 * 1.5\n",
    "\n",
    "# yrange3 = [0*S0.namelist.l0, 40*S0.namelist.l0]   # 22.76\n",
    "# fitting_factor3 = 5e10 * 50\n",
    "ene3 = S0.Screen(3, units=['um','fs','MeV'],\n",
    "                 # data_log=True,\n",
    "                 # ,sum={'y':yrange3},\n",
    "                ).getData()\n",
    "\n",
    "xx  = S0.Screen(3, units=['um','fs','MeV']).getAxis('ekin')\n",
    "tt  = S0.Screen(3, units=['um','fs','MeV']).getTimes()\n",
    "\n",
    "# index = (xx < 30.0)*(xx > 3.0)\n",
    "# x2 = xx[index]\n",
    "# y2 = func(x2,0.02,5)\n",
    "\n",
    "\n",
    "\n",
    "\n",
    "fig, ax = plt.subplots()\n",
    "fig.subplots_adjust(left=.15, bottom=.16, right=.99, top=.97)\n",
    "\n",
    "ax.semilogy(xx,ene3[-1], color='k',lw=1.0,\n",
    "             linestyle='-',\n",
    "             # label='PIC at t = {:.1f} fs'.format(tt[-1]),\n",
    "            label=r'eon',\n",
    "           )\n",
    "\n",
    "ax.semilogy(xx[start_point:end_point], y, '--r', linewidth=2.0, markersize=6, mfc='none',mew=1, label='{:.1f} MeV (R.C.={:.1e})'.format(kT, redchi))\n",
    "\n",
    "\n",
    "ax.set_xlim([0.1,10])\n",
    "ax.set_ylim([1e-6,1e-1])\n",
    "# plt.title('time = '+str(tt[ts])+' fs')\n",
    "# ax.grid(which='both',linestyle='--',alpha=0.5)\n",
    "ax.set_xlabel('Energy (MeV)')\n",
    "ax.set_ylabel('dN/dE (No./MeV)')\n",
    "\n",
    "ax.legend()\n",
    "fig.set_size_inches(width, height)\n",
    "fig.tight_layout()\n",
    "\n",
    "# plt.show()"
   ]
  },
  {
   "cell_type": "code",
   "execution_count": null,
   "id": "ecd1fee1-cfdf-4cd3-a705-ad112b311ab0",
   "metadata": {},
   "outputs": [],
   "source": [
    "fig.savefig('/Users/yao/Desktop/spec_e_temp.pdf')"
   ]
  },
  {
   "cell_type": "code",
   "execution_count": null,
   "id": "1fb815d6-e6ff-4286-b5d1-fabd2503adf7",
   "metadata": {},
   "outputs": [],
   "source": []
  },
  {
   "cell_type": "code",
   "execution_count": null,
   "id": "80870c47-8992-47c1-bfda-da5583ab5d98",
   "metadata": {},
   "outputs": [],
   "source": []
  },
  {
   "cell_type": "code",
   "execution_count": null,
   "id": "5c668a0a-e42d-4883-9ac2-5e0fbedbfbe3",
   "metadata": {},
   "outputs": [],
   "source": []
  },
  {
   "cell_type": "code",
   "execution_count": null,
   "id": "8a0ee871-3d69-4c6e-89fd-a51f9595eb1d",
   "metadata": {},
   "outputs": [],
   "source": [
    "# energy spectrum from screen vs. experimental data\n",
    "\n",
    "ene = S0.Screen(0, units=['um','fs','MeV']).getData()\n",
    "xx  = S0.Screen(0, units=['um','fs','MeV']).getAxis('ekin')\n",
    "tt  = S0.Screen(0, units=['um','fs','MeV']).getTimes()\n",
    "\n",
    "fitting_factor = 9e11\n",
    "\n",
    "plt.semilogy(xx,ene[-1]*fitting_factor, color='black',\n",
    "             linestyle='--',\n",
    "             label='2D PIC at t = '+str(tt[-1])+' fs')\n",
    "# plt.semilogy(xx,ene[ts[1]]*fitting_factor, color='black',\n",
    "#              label='2D PIC at t = '+str(round(tt[ts[1]]))+' fs')\n",
    "\n",
    "plt.xlim([0,35])\n",
    "# plt.ylim([1e-7,1])\n",
    "# plt.title('time = '+str(tt[ts])+' fs')\n",
    "plt.grid(which='both',linestyle='--',alpha=0.5)\n",
    "plt.xlabel('Energy (MeV)')\n",
    "plt.ylabel('fitted dN/dE')\n",
    "\n",
    "#shot 115\n",
    "# exp_energy = np.array([4.47, 7.42, 9.55, 11.92, 13.71, 15.12])\n",
    "# exp_number = np.array([2.263e9, 1.185e9, 5.523e8, 1.790e8, 5.399e7, 3.149e7])\n",
    "\n",
    "#shot 111\n",
    "exp_energy = np.array([4.49, 7.74, 10.01, 12.67, 14.87, 16.88, 19.33, 21.47, 23.42, 25.23, 26.90, 28.75, 30.37, 32.03, 33.67, 35.17])\n",
    "exp_number = np.array([4.333e9, 4.103e9, 2.892e9, 1.386e9, 1.074e9, 4.606e8, 2.639e8, 1.605e8, 9.902e7, 7.454e7, 4.993e7, 2.849e7, 2.184e7, 1.170e7, 5.565e6, 5.165e6])\n",
    "plt.scatter(exp_energy, exp_number, color='red', marker='*',\n",
    "            s=72,\n",
    "            label='Experiment #111')\n",
    "plt.legend()\n",
    "\n",
    "plt.show()"
   ]
  },
  {
   "cell_type": "code",
   "execution_count": null,
   "id": "cb60fd19-65b8-4262-842f-39586070c9d0",
   "metadata": {},
   "outputs": [],
   "source": []
  },
  {
   "cell_type": "code",
   "execution_count": null,
   "id": "758b5838-f4c6-403e-9367-2f8d7e1fadbd",
   "metadata": {},
   "outputs": [],
   "source": [
    "fig.savefig('/Users/yao/Desktop/spectrum.png',dpi=600)"
   ]
  },
  {
   "cell_type": "code",
   "execution_count": null,
   "id": "9f67971f-aa22-4f8e-a628-5ad1a003bb55",
   "metadata": {},
   "outputs": [],
   "source": [
    "# energy spectrum from Particle Bin vs. experimental data\n",
    "\n",
    "ene = np.array(S0.ParticleBinning(3, units=['um','fs','MeV']).getData())\n",
    "xx  = np.array(S0.ParticleBinning(3, units=['um','fs','MeV']).getAxis('ekin'))\n",
    "tt  = np.array(S0.ParticleBinning(3, units=['um','fs','MeV']).getTimes())\n",
    "\n",
    "fitting_factor = 9e11\n",
    "timestep = -1 #93\n",
    "\n",
    "plt.semilogy(xx,ene[timestep]*fitting_factor, color='black',\n",
    "             linestyle='--',\n",
    "             label='2D PIC at t = '+str(tt[-1])+' fs')\n",
    "# plt.semilogy(xx,ene[ts[1]]*fitting_factor, color='black',\n",
    "#              label='2D PIC at t = '+str(round(tt[ts[1]]))+' fs')\n",
    "\n",
    "# plt.xlim([0,40])\n",
    "# plt.ylim([1e-7,1])\n",
    "# plt.title('time = '+str(tt[ts])+' fs')\n",
    "plt.grid(which='both',linestyle='--',alpha=0.5)\n",
    "plt.xlabel('Energy (MeV)')\n",
    "plt.ylabel('fitted dN/dE')\n",
    "\n",
    "#shot 115\n",
    "# exp_energy = np.array([4.47, 7.42, 9.55, 11.92, 13.71, 15.12])\n",
    "# exp_number = np.array([2.263e9, 1.185e9, 5.523e8, 1.790e8, 5.399e7, 3.149e7])\n",
    "\n",
    "#shot 111\n",
    "exp_energy = np.array([4.49, 7.74, 10.01, 12.67, 14.87, 16.88, 19.33, 21.47, 23.42, 25.23, 26.90, 28.75, 30.37, 32.03, 33.67, 35.17])\n",
    "exp_number = np.array([4.333e9, 4.103e9, 2.892e9, 1.386e9, 1.074e9, 4.606e8, 2.639e8, 1.605e8, 9.902e7, 7.454e7, 4.993e7, 2.849e7, 2.184e7, 1.170e7, 5.565e6, 5.165e6])\n",
    "plt.scatter(exp_energy, exp_number, color='red', marker='*',\n",
    "            s=72,\n",
    "            label='Experiment #111')\n",
    "plt.legend()\n",
    "\n",
    "plt.show()"
   ]
  },
  {
   "cell_type": "code",
   "execution_count": null,
   "id": "1df08392-747c-4f7d-92ac-2b8315b1fee4",
   "metadata": {},
   "outputs": [],
   "source": [
    "ene = np.array(ene)"
   ]
  },
  {
   "cell_type": "code",
   "execution_count": null,
   "id": "6d19c8bd-d2c5-4295-978e-3985d6df22fb",
   "metadata": {},
   "outputs": [],
   "source": [
    "tt[93]"
   ]
  },
  {
   "cell_type": "code",
   "execution_count": null,
   "id": "29003f19-c3e1-466a-b8a2-dc899c555959",
   "metadata": {},
   "outputs": [],
   "source": [
    "#%% energy spectrum of H from screen \n",
    "\n",
    "xmin0 = 2\n",
    "xmax0 = 20.0\n",
    "vmin0 = -6\n",
    "vmax0 = -3\n",
    "\n",
    "ene10 = S0.Screen(0, units=['um','fs','MeV'],\n",
    "                  data_log=True,\n",
    "                  label=\"10 nm\",\n",
    "                  color='red',\n",
    "                  linestyle='-',\n",
    "                    # vmin=vmin0,\n",
    "                   # vmax=vmax0,\n",
    "                   # xmin=xmin0,\n",
    "                   # xmax=xmax0,\n",
    "                  ).slide()"
   ]
  },
  {
   "cell_type": "code",
   "execution_count": null,
   "id": "52b6f571-02ac-4e0c-8953-36d694680b36",
   "metadata": {},
   "outputs": [],
   "source": [
    "#%% px-py distribution for H from screen\n",
    "\n",
    "vmin0 = -8\n",
    "vmax0 = 0\n",
    "xmin0 = -20\n",
    "xmax0 = 20\n",
    "ymin0 = -20\n",
    "ymax0 = 20\n",
    "\n",
    "ene10 = S0.Screen(1, units=['um','fs','MeV'],\n",
    "                  data_log=True,\n",
    "                  cmap=newcmap,\n",
    "                  # label=\"10 nm\",\n",
    "                  # color='red',\n",
    "                  # linestyle='-',\n",
    "                  vmin=vmin0,\n",
    "                  vmax=vmax0,\n",
    "                  # xmin=xmin0,\n",
    "                  # xmax=xmax0,\n",
    "                  # ymin=ymin0,\n",
    "                  # ymax=ymax0,\n",
    "                  ).slide()"
   ]
  },
  {
   "cell_type": "code",
   "execution_count": null,
   "id": "216bf481-dfc0-4b20-9405-df2df5e040b4",
   "metadata": {},
   "outputs": [],
   "source": [
    "#%% energy spectrum of H from screen with resolution in y\n",
    "# %matplotlib widget\n",
    "xmin0 = 2\n",
    "xmax0 = 36\n",
    "vmin0 = -4\n",
    "vmax0 = -2\n",
    "ymin0 = 5\n",
    "ymax0 = 35\n",
    "\n",
    "ene10 = S0.Screen(2, units=['um','fs','MeV'],\n",
    "                  data_log=True,\n",
    "                  cmap=newcmap,\n",
    "                  label=\"10 nm\",\n",
    "                  color='red',\n",
    "                  linestyle='-',\n",
    "                  # sum={'y':'all'},\n",
    "                    vmin=vmin0,\n",
    "                   vmax=vmax0,\n",
    "                   xmin=xmin0,\n",
    "                   xmax=xmax0,\n",
    "                  ymin=ymin0,\n",
    "                   ymax=ymax0,\n",
    "                  ).slide()"
   ]
  },
  {
   "cell_type": "code",
   "execution_count": null,
   "id": "9f123d0e-834d-4ad1-9107-20980b1497db",
   "metadata": {},
   "outputs": [],
   "source": [
    "#%% energy spectrum of eon from screen to the right\n",
    "xmin0 = 2\n",
    "xmax0 = 20.0\n",
    "vmin0 = -6\n",
    "vmax0 = -3\n",
    "\n",
    "ene10 = S0.Screen(3, units=['um','fs','MeV'],\n",
    "                  data_log=True,\n",
    "                  label=\"10 nm\",\n",
    "                  color='red',\n",
    "                  linestyle='-',\n",
    "                    # vmin=vmin0,\n",
    "                   # vmax=vmax0,\n",
    "                   # xmin=xmin0,\n",
    "                   # xmax=xmax0,\n",
    "                  ).slide()"
   ]
  },
  {
   "cell_type": "code",
   "execution_count": null,
   "id": "e82c8a77-21ba-42ac-9c48-84f82674fdb4",
   "metadata": {},
   "outputs": [],
   "source": [
    "#%% energy spectrum of eon from screen to the left\n",
    "\n",
    "xmin0 = 2\n",
    "xmax0 = 20.0\n",
    "vmin0 = -6\n",
    "vmax0 = -3\n",
    "\n",
    "ene10 = S0.Screen(4, units=['um','fs','MeV'],\n",
    "                  data_log=True,\n",
    "                  label=\"10 nm\",\n",
    "                  color='red',\n",
    "                  linestyle='-',\n",
    "                    # vmin=vmin0,\n",
    "                   # vmax=vmax0,\n",
    "                   # xmin=xmin0,\n",
    "                   # xmax=xmax0,\n",
    "                  ).slide()"
   ]
  },
  {
   "cell_type": "code",
   "execution_count": null,
   "id": "83284eb5-ee21-4fdb-83e9-ef5ff2a846c0",
   "metadata": {},
   "outputs": [],
   "source": [
    "#%% px-py distribution for eon\n",
    "%matplotlib widget\n",
    "vmin0 = -8\n",
    "vmax0 = 0\n",
    "xmin0 = -20\n",
    "xmax0 = 20\n",
    "ymin0 = -20\n",
    "ymax0 = 20\n",
    "\n",
    "ene10 = S0.Screen(5, units=['um','fs','MeV'],\n",
    "                  data_log=True,\n",
    "                  cmap=newcmap,\n",
    "                  # label=\"10 nm\",\n",
    "                  # color='red',\n",
    "                  # linestyle='-',\n",
    "                  vmin=vmin0,\n",
    "                  vmax=vmax0,\n",
    "                  # xmin=xmin0,\n",
    "                  # xmax=xmax0,\n",
    "                  # ymin=ymin0,\n",
    "                  # ymax=ymax0,\n",
    "                  ).slide()"
   ]
  },
  {
   "cell_type": "code",
   "execution_count": null,
   "id": "079203b0-3083-4cae-a809-c73933509984",
   "metadata": {},
   "outputs": [],
   "source": [
    "#%% angular vs. energy distribution for H from screen\n",
    "\n",
    "vmin0 = -7\n",
    "vmax0 = -3\n",
    "xmin0 = -20\n",
    "xmax0 = 20\n",
    "ymin0 = 2\n",
    "ymax0 = 36\n",
    "\n",
    "ene10 = S0.Screen(6, units=['um','fs','MeV'],\n",
    "                  data_log=True,\n",
    "                  cmap=newcmap,\n",
    "                  # label=\"10 nm\",\n",
    "                  # color='red',\n",
    "                  # linestyle='-',\n",
    "                  vmin=vmin0,\n",
    "                  vmax=vmax0,\n",
    "                  xmin=xmin0,\n",
    "                  xmax=xmax0,\n",
    "                  ymin=ymin0,\n",
    "                  ymax=ymax0,\n",
    "                  ).plot()"
   ]
  },
  {
   "cell_type": "code",
   "execution_count": null,
   "id": "40b2e6d9-6c8c-492c-9788-2092270774d7",
   "metadata": {},
   "outputs": [],
   "source": [
    "#%% angular vs. energy distribution for eon from screen\n",
    "\n",
    "vmin0 = -7\n",
    "vmax0 = -3\n",
    "xmin0 = -90\n",
    "xmax0 = 90\n",
    "ymin0 = 0\n",
    "ymax0 = 15\n",
    "\n",
    "ene10 = S0.Screen(7, units=['um','fs','MeV'],\n",
    "                  data_log=True,\n",
    "                  cmap=newcmap,\n",
    "                  # label=\"10 nm\",\n",
    "                  # color='red',\n",
    "                  # linestyle='-',\n",
    "                  vmin=vmin0,\n",
    "                  vmax=vmax0,\n",
    "                  xmin=xmin0,\n",
    "                  xmax=xmax0,\n",
    "                  ymin=ymin0,\n",
    "                  ymax=ymax0,\n",
    "                  ).plot()"
   ]
  },
  {
   "cell_type": "code",
   "execution_count": null,
   "id": "7b4a39ce-8e1d-4db0-8220-88ff356e00cc",
   "metadata": {},
   "outputs": [],
   "source": []
  },
  {
   "cell_type": "code",
   "execution_count": null,
   "id": "a1257212-7c63-4a7a-8f25-16bdff721ebb",
   "metadata": {},
   "outputs": [],
   "source": []
  },
  {
   "cell_type": "code",
   "execution_count": null,
   "id": "87198777-adf3-489e-8386-a8125b25c3cc",
   "metadata": {},
   "outputs": [],
   "source": [
    "#%% x-px distribution for H\n",
    "\n",
    "vmin0 = -6\n",
    "vmax0 = -2\n",
    "xmin0 = 12\n",
    "xmax0 = 22\n",
    "ymin0 = 0\n",
    "ymax0 = 200\n",
    "\n",
    "ene10 = S0.ParticleBinning(0, units=['um','fs','MeV'],\n",
    "                  data_log=True,\n",
    "                  cmap=newcmap,\n",
    "                  # label=\"10 nm\",\n",
    "                  # color='red',\n",
    "                  # linestyle='-',\n",
    "                  vmin=vmin0,\n",
    "                  vmax=vmax0,\n",
    "                  xmin=xmin0,\n",
    "                  xmax=xmax0,\n",
    "                  ymin=ymin0,\n",
    "                  ymax=ymax0,\n",
    "                  ).plot(cbaspect=0)"
   ]
  },
  {
   "cell_type": "code",
   "execution_count": null,
   "id": "8d6c92fb-5964-4b5d-9126-447fef650d07",
   "metadata": {},
   "outputs": [],
   "source": [
    "#%% density distribution for H\n",
    "# %matplotlib widget\n",
    "vmin0 = 16\n",
    "vmax0 = 21\n",
    "xmin0 = 12\n",
    "xmax0 = 22\n",
    "ymin0 = -20\n",
    "ymax0 = 20\n",
    "\n",
    "ene20 = S0.ParticleBinning(1, units=['um','fs','MeV','cm^-3', 'kg*km/s'],\n",
    "                  data_log=True,\n",
    "                           sum={'y':'all'},\n",
    "                  cmap=newcmap,\n",
    "                           aspect='equal',\n",
    "                  # label=\"10 nm\",\n",
    "                  # color='red',\n",
    "                  # linestyle='-',\n",
    "                  vmin=vmin0,\n",
    "                  vmax=vmax0,\n",
    "                  xmin=xmin0,\n",
    "                  xmax=xmax0,\n",
    "                  # ymin=ymin0,\n",
    "                  # ymax=ymax0,\n",
    "                  ).plot()"
   ]
  },
  {
   "cell_type": "code",
   "execution_count": null,
   "id": "e4eae281-92eb-4821-a8eb-54f38de65569",
   "metadata": {},
   "outputs": [],
   "source": [
    "happi.multiSlide(ene10,ene20,shape=[2,1])"
   ]
  },
  {
   "cell_type": "code",
   "execution_count": null,
   "id": "729b55aa-7543-4610-9d11-269fae4ff7be",
   "metadata": {},
   "outputs": [],
   "source": [
    "#%% px-py distribution for H\n",
    "\n",
    "vmin0 = -8\n",
    "vmax0 = 0\n",
    "xmin0 = -20\n",
    "xmax0 = 20\n",
    "ymin0 = -20\n",
    "ymax0 = 20\n",
    "\n",
    "ene10 = S0.ParticleBinning(2, units=['um','fs','MeV'],\n",
    "                  data_log=True,\n",
    "                  cmap=newcmap,\n",
    "                  # label=\"10 nm\",\n",
    "                  # color='red',\n",
    "                  # linestyle='-',\n",
    "                  vmin=vmin0,\n",
    "                  vmax=vmax0,\n",
    "                  # xmin=xmin0,\n",
    "                  # xmax=xmax0,\n",
    "                  # ymin=ymin0,\n",
    "                  # ymax=ymax0,\n",
    "                  ).slide()"
   ]
  },
  {
   "cell_type": "code",
   "execution_count": null,
   "id": "07a0fe5d-a54a-436a-a860-1561661a54d4",
   "metadata": {},
   "outputs": [],
   "source": [
    "#%% energy spectrum of H from Particle Bin \n",
    "\n",
    "xmin0 = 2\n",
    "xmax0 = 20.0\n",
    "vmin0 = -6\n",
    "vmax0 = -3\n",
    "\n",
    "ene10 = S0.ParticleBinning(3, units=['um','fs','MeV'],\n",
    "                  data_log=True,\n",
    "                  label=\"10 nm\",\n",
    "                  color='red',\n",
    "                  linestyle='-',\n",
    "                    # vmin=vmin0,\n",
    "                   # vmax=vmax0,\n",
    "                   # xmin=xmin0,\n",
    "                   # xmax=xmax0,\n",
    "                  ).slide()"
   ]
  },
  {
   "cell_type": "code",
   "execution_count": null,
   "id": "c2acf2b3-5d38-4ea9-a582-5cf8af6cc51c",
   "metadata": {},
   "outputs": [],
   "source": [
    "#%% x-px distribution for eon\n",
    "%matplotlib widget\n",
    "vmin0 = -8\n",
    "vmax0 = 0\n",
    "xmin0 = -20\n",
    "xmax0 = 20\n",
    "ymin0 = -20\n",
    "ymax0 = 20\n",
    "\n",
    "ene10 = S0.ParticleBinning(4, units=['um','fs','MeV'],\n",
    "                  data_log=True,\n",
    "                  cmap=newcmap,\n",
    "                  # label=\"10 nm\",\n",
    "                  # color='red',\n",
    "                  # linestyle='-',\n",
    "                  vmin=vmin0,\n",
    "                  vmax=vmax0,\n",
    "                  # xmin=xmin0,\n",
    "                  # xmax=xmax0,\n",
    "                  # ymin=ymin0,\n",
    "                  # ymax=ymax0,\n",
    "                  ).slide()"
   ]
  },
  {
   "cell_type": "code",
   "execution_count": null,
   "id": "77d3a8c9-7230-4342-b8c9-bb2b00ee9f2b",
   "metadata": {},
   "outputs": [],
   "source": [
    "#%% density distribution for eon\n",
    "\n",
    "vmin0 = 17\n",
    "vmax0 = 23\n",
    "xmin0 = -20\n",
    "xmax0 = 20\n",
    "ymin0 = -20\n",
    "ymax0 = 20\n",
    "\n",
    "ene10 = S0.ParticleBinning(5, units=['um','fs','MeV','cm^-3'],\n",
    "                  data_log=True,\n",
    "                  cmap=newcmap,\n",
    "                           aspect='equal',\n",
    "                  # label=\"10 nm\",\n",
    "                  # color='red',\n",
    "                  # linestyle='-',\n",
    "                  vmin=vmin0,\n",
    "                  vmax=vmax0,\n",
    "                  # xmin=xmin0,\n",
    "                  # xmax=xmax0,\n",
    "                  # ymin=ymin0,\n",
    "                  # ymax=ymax0,\n",
    "                  ).slide()"
   ]
  },
  {
   "cell_type": "code",
   "execution_count": null,
   "id": "3029075e-4b5e-47c8-9afe-9588e636f085",
   "metadata": {},
   "outputs": [],
   "source": [
    "#%% px-py distribution for eon\n",
    "%matplotlib widget\n",
    "vmin0 = -8\n",
    "vmax0 = 0\n",
    "xmin0 = -20\n",
    "xmax0 = 20\n",
    "ymin0 = -20\n",
    "ymax0 = 20\n",
    "\n",
    "ene10 = S0.ParticleBinning(6, units=['um','fs','MeV'],\n",
    "                  data_log=True,\n",
    "                  cmap=newcmap,\n",
    "                  # label=\"10 nm\",\n",
    "                  # color='red',\n",
    "                  # linestyle='-',\n",
    "                  vmin=vmin0,\n",
    "                  vmax=vmax0,\n",
    "                  # xmin=xmin0,\n",
    "                  # xmax=xmax0,\n",
    "                  # ymin=ymin0,\n",
    "                  # ymax=ymax0,\n",
    "                  ).slide()"
   ]
  },
  {
   "cell_type": "code",
   "execution_count": null,
   "id": "0167a7e0-fd32-4c2a-bb55-413f175baa1b",
   "metadata": {},
   "outputs": [],
   "source": [
    "#%% energy spectrum of eon from Particle Bin \n",
    "\n",
    "xmin0 = 2\n",
    "xmax0 = 20.0\n",
    "vmin0 = -6\n",
    "vmax0 = -3\n",
    "\n",
    "ene10 = S0.ParticleBinning(7, units=['um','fs','MeV'],\n",
    "                  data_log=True,\n",
    "                  label=\"10 nm\",\n",
    "                  color='red',\n",
    "                  linestyle='-',\n",
    "                    # vmin=vmin0,\n",
    "                   # vmax=vmax0,\n",
    "                   # xmin=xmin0,\n",
    "                   # xmax=xmax0,\n",
    "                  ).slide()"
   ]
  },
  {
   "cell_type": "code",
   "execution_count": null,
   "id": "5e3204c5-f551-499f-8cd8-06680fac3685",
   "metadata": {},
   "outputs": [],
   "source": [
    "#%% angular vs. energy distribution for H\n",
    "%matplotlib widget\n",
    "vmin0 = -8\n",
    "vmax0 = 0\n",
    "xmin0 = -20\n",
    "xmax0 = 20\n",
    "ymin0 = -20\n",
    "ymax0 = 20\n",
    "\n",
    "ene10 = S0.ParticleBinning(8, units=['um','fs','MeV'],\n",
    "                  data_log=True,\n",
    "                  cmap=newcmap,\n",
    "                  # label=\"10 nm\",\n",
    "                  # color='red',\n",
    "                  # linestyle='-',\n",
    "                  vmin=vmin0,\n",
    "                  vmax=vmax0,\n",
    "                  # xmin=xmin0,\n",
    "                  # xmax=xmax0,\n",
    "                  # ymin=ymin0,\n",
    "                  # ymax=ymax0,\n",
    "                  ).slide()"
   ]
  },
  {
   "cell_type": "code",
   "execution_count": null,
   "id": "e65f60db-150e-4ec2-b4c2-de89e59d42d8",
   "metadata": {},
   "outputs": [],
   "source": [
    "#%% angular vs. energy distribution for eon\n",
    "%matplotlib widget\n",
    "vmin0 = -8\n",
    "vmax0 = 0\n",
    "xmin0 = -20\n",
    "xmax0 = 20\n",
    "ymin0 = -20\n",
    "ymax0 = 20\n",
    "\n",
    "ene10 = S0.ParticleBinning(9, units=['um','fs','MeV'],\n",
    "                  data_log=True,\n",
    "                  cmap=newcmap,\n",
    "                  # label=\"10 nm\",\n",
    "                  # color='red',\n",
    "                  # linestyle='-',\n",
    "                  vmin=vmin0,\n",
    "                  vmax=vmax0,\n",
    "                  # xmin=xmin0,\n",
    "                  # xmax=xmax0,\n",
    "                  # ymin=ymin0,\n",
    "                  # ymax=ymax0,\n",
    "                  ).slide()"
   ]
  },
  {
   "cell_type": "code",
   "execution_count": null,
   "id": "559c4ec0-1c6d-4331-90bd-96be1e5593d1",
   "metadata": {},
   "outputs": [],
   "source": [
    "#%% xy vs. energy distribution for eon\n",
    "%matplotlib widget\n",
    "vmin0 = 18\n",
    "vmax0 = 23\n",
    "xmin0 = -20\n",
    "xmax0 = 20\n",
    "ymin0 = -20\n",
    "ymax0 = 20\n",
    "\n",
    "ene10 = S0.ParticleBinning(10, units=['um','fs','MeV','cm^-3 MeV'],\n",
    "                  data_log=True,\n",
    "                  cmap=newcmap,\n",
    "                  # label=\"10 nm\",\n",
    "                  # color='red',\n",
    "                  # linestyle='-',\n",
    "                           sum={'ekin':[0.1/0.511]},\n",
    "                  vmin=vmin0,\n",
    "                  vmax=vmax0,\n",
    "                  # xmin=xmin0,\n",
    "                  # xmax=xmax0,\n",
    "                  # ymin=ymin0,\n",
    "                  # ymax=ymax0,\n",
    "                  ).slide()"
   ]
  },
  {
   "cell_type": "code",
   "execution_count": null,
   "id": "6087b8a3-e1d2-4241-aaa1-929aed46baca",
   "metadata": {},
   "outputs": [],
   "source": []
  },
  {
   "cell_type": "code",
   "execution_count": null,
   "id": "c4c5766f-1fe6-4237-94a6-7fbe7ca61101",
   "metadata": {},
   "outputs": [],
   "source": [
    "\n",
    "vsym0 = 1e12\n",
    "\n",
    "Ey10 = S0.Field(1, 'Ex', units=['um','fs','V/m'],\n",
    "                # vsym=True,\n",
    "                vsym=vsym0,\n",
    "                aspect='equal',\n",
    "                ).slide()"
   ]
  },
  {
   "cell_type": "code",
   "execution_count": null,
   "id": "0c38a800-62e6-487d-8d3a-b63befb1b41e",
   "metadata": {},
   "outputs": [],
   "source": [
    "\n",
    "vsym0 = 1e12\n",
    "\n",
    "Ey10 = S0.Field(0, 'Ey', units=['um','fs','V/m'],\n",
    "                # vsym=True,\n",
    "                vsym=vsym0,\n",
    "                aspect='equal',\n",
    "                ).slide()"
   ]
  },
  {
   "cell_type": "code",
   "execution_count": null,
   "id": "b00d8c40-5068-45f7-9c73-3ec3b90f0293",
   "metadata": {},
   "outputs": [],
   "source": []
  },
  {
   "cell_type": "code",
   "execution_count": null,
   "id": "96f0c028-d74b-4f96-8805-034dfc9bb4ad",
   "metadata": {},
   "outputs": [],
   "source": [
    "qe = 1.6e-19\n",
    "E  = 1e12\n",
    "l  = 1e-6\n",
    "ene = qe*E*l / qe /1e6\n",
    "print('ene = {:.2e} MeV'.format(ene))"
   ]
  },
  {
   "cell_type": "code",
   "execution_count": null,
   "id": "7a709f20-0e7b-4593-8392-6ea1d44c4d00",
   "metadata": {},
   "outputs": [],
   "source": [
    "np.arctan2(-1,1) * 180 / np.pi"
   ]
  },
  {
   "cell_type": "code",
   "execution_count": null,
   "id": "c09f9b87-2d1d-494b-8a91-547c08978166",
   "metadata": {},
   "outputs": [],
   "source": [
    "# check the normalized laser intensity\n",
    "import numpy as np\n",
    "E = 45.0\n",
    "tau = 22e-15 \n",
    "d = 3.e-4\n",
    "I = E / tau / (np.pi * (d/2)**2)\n",
    "print(I)"
   ]
  },
  {
   "cell_type": "code",
   "execution_count": null,
   "id": "3b411d58-8116-43fb-9cbc-c78599ebd4fe",
   "metadata": {},
   "outputs": [],
   "source": [
    "I = 2e22 # W/cm2\n",
    "lmd = 1.058 # um\n",
    "a0 = 0.86*lmd*np.sqrt(I/1e18)"
   ]
  },
  {
   "cell_type": "code",
   "execution_count": null,
   "id": "aaebe4b7-7908-416d-a55c-38338d36acb8",
   "metadata": {},
   "outputs": [],
   "source": [
    "a0"
   ]
  },
  {
   "cell_type": "code",
   "execution_count": null,
   "id": "e87355eb-e9e7-4e2f-a7ae-c4aa5218110e",
   "metadata": {},
   "outputs": [],
   "source": [
    "a0 / np.pi / 100 * lmd"
   ]
  },
  {
   "cell_type": "code",
   "execution_count": null,
   "id": "e2473c3b-65f6-4f59-a7dc-6f44c9d00fdb",
   "metadata": {},
   "outputs": [],
   "source": [
    "## analyze the focal spot\n",
    "\n",
    "from PIL import Image\n",
    "im = Image.open('/Users/yao/Desktop/SFA_SFIC1_SAD_TCC_CCD_230420_131626.tif')"
   ]
  },
  {
   "cell_type": "code",
   "execution_count": null,
   "id": "dc9ab6c8-2557-43c6-be1d-dc537684276b",
   "metadata": {},
   "outputs": [],
   "source": [
    "imarray = np.array(im)"
   ]
  },
  {
   "cell_type": "code",
   "execution_count": null,
   "id": "285457ed-ed54-4535-8125-47c5ec2a3547",
   "metadata": {},
   "outputs": [],
   "source": [
    "plt.imshow(imarray)"
   ]
  },
  {
   "cell_type": "code",
   "execution_count": null,
   "id": "65f8da1c-5254-482b-a57f-9ad6d12d69b4",
   "metadata": {},
   "outputs": [],
   "source": [
    "plt.rc('font', family='sans-serif', serif='Arial')\n",
    "plt.rc('text', usetex=False)\n",
    "plt.rc('xtick', labelsize=8)\n",
    "plt.rc('ytick', labelsize=8)\n",
    "plt.rc('axes', labelsize=8)\n",
    "plt.rc('legend', fontsize=8)\n",
    "\n",
    "from mpl_toolkits.axes_grid1 import make_axes_locatable\n",
    "\n",
    "\n",
    "width  = 3.487\n",
    "height = width / 1.618 * 1.5\n",
    "\n",
    "fig, ax = plt.subplots()\n",
    "fig.subplots_adjust(left=.15, bottom=.16, right=.99, top=.97)\n",
    "divider = make_axes_locatable(ax)\n",
    "cax = divider.append_axes('right', size='5%', pad=0.05)\n",
    "\n",
    "yekin = ax.imshow(imarray,\n",
    "           cmap='hot',\n",
    "           origin='lower',\n",
    "           extent=[-6, 6, -6, 6],\n",
    "           vmin=0,\n",
    "           vmax=200,\n",
    "           aspect='equal',\n",
    "          )\n",
    "cbar = fig.colorbar(yekin, cax=cax)\n",
    "cbar.minorticks_on()\n",
    "ax.set_xlim(-6,6)\n",
    "ax.set_ylim(-6,6)\n",
    "ax.set_xlabel(r'x ($\\mu$m)')\n",
    "ax.set_ylabel(r'y ($\\mu$m)')\n",
    "# ax.grid(linestyle='--',color='grey',alpha=0.5)\n",
    "fig.set_size_inches(width, height)\n",
    "fig.tight_layout()"
   ]
  },
  {
   "cell_type": "code",
   "execution_count": null,
   "id": "d5cce4ff-f9c5-4224-a420-326d8d4d9544",
   "metadata": {},
   "outputs": [],
   "source": [
    "fig.savefig('/Users/yao/Desktop/focal.png',dpi=600)"
   ]
  },
  {
   "cell_type": "code",
   "execution_count": null,
   "id": "fab0e63f-f174-4683-8875-7243fa75ea49",
   "metadata": {},
   "outputs": [],
   "source": [
    "import pandas as pd"
   ]
  },
  {
   "cell_type": "code",
   "execution_count": null,
   "id": "3b2bbb51-e380-47ff-814e-d83b1da76ef2",
   "metadata": {},
   "outputs": [],
   "source": [
    "fwhm = pd.read_excel('/Users/yao/Nextcloud/PROJECTS/Apollon/F1-2023/Focal Spot scan 20.4.23.xlsx')"
   ]
  },
  {
   "cell_type": "code",
   "execution_count": null,
   "id": "77ebbbfe-4801-48ee-ac59-32ad193d405b",
   "metadata": {},
   "outputs": [],
   "source": [
    "z = np.array(fwhm.loc[:,'pos um'])\n",
    "fx = np.array(fwhm.loc[:,'FWHM_X [um]'])\n",
    "fy = np.array(fwhm.loc[:,'FWHM_Y [um]'])"
   ]
  },
  {
   "cell_type": "code",
   "execution_count": null,
   "id": "51235b30-510f-448c-b1aa-a2add573e54d",
   "metadata": {},
   "outputs": [],
   "source": [
    "# eon energy spectrum from screen -- check the electron temperature and thus X-rays\n",
    "\n",
    "plt.rc('font', family='sans-serif', serif='Arial')\n",
    "plt.rc('text', usetex=False)\n",
    "plt.rc('xtick', labelsize=8)\n",
    "plt.rc('ytick', labelsize=8)\n",
    "plt.rc('axes', labelsize=8)\n",
    "plt.rc('legend', fontsize=8)\n",
    "\n",
    "width  = 3.487\n",
    "height = width / 1.618 * 1.5\n",
    "\n",
    "fig, ax = plt.subplots()\n",
    "fig.subplots_adjust(left=.15, bottom=.16, right=.99, top=.97)\n",
    "\n",
    "ax.scatter(z,fx, color='b', marker='x', s=20, lw=1.0,\n",
    "             # label='PIC at t = {:.1f} fs'.format(tt[-1]),\n",
    "            label=r'FWHM X',\n",
    "           )\n",
    "\n",
    "ax.scatter(z,fy, color='r', marker='+', s=30, lw=1.0,\n",
    "             # label='PIC at t = {:.1f} fs'.format(tt[-1]),\n",
    "            label=r'FWHM Y',\n",
    "           )\n",
    "\n",
    "ax.set_xlim([-60,60])\n",
    "ax.set_ylim([0,20])\n",
    "# plt.title('time = '+str(tt[ts])+' fs')\n",
    "ax.grid(which='both',linestyle='--',alpha=0.5)\n",
    "ax.set_xlabel(r'z ($\\mu$m)')\n",
    "ax.set_ylabel(r'Size ($\\mu$m)')\n",
    "\n",
    "ax.legend()\n",
    "fig.set_size_inches(width, height)\n",
    "fig.tight_layout()\n",
    "\n",
    "# plt.show()"
   ]
  },
  {
   "cell_type": "code",
   "execution_count": null,
   "id": "f10b94b2-2a4a-42c8-8b0f-f113a9f3249e",
   "metadata": {},
   "outputs": [],
   "source": [
    "fig.savefig('/Users/yao/Desktop/focal_line.pdf',dpi=600)"
   ]
  },
  {
   "cell_type": "code",
   "execution_count": null,
   "id": "992773aa-ac5e-4cad-b727-16e640bdbaf7",
   "metadata": {},
   "outputs": [],
   "source": [
    "E = 45.0 * 0.3\n",
    "tau = 22e-15 \n",
    "S = np.pi*(2.8e-4/2)**2\n",
    "\n",
    "I = E / tau / S\n",
    "\n",
    "print('I = {:.1e} W/cm2'.format(I))"
   ]
  },
  {
   "cell_type": "code",
   "execution_count": 10,
   "id": "e27553c0-334c-4295-8440-63b601cf9d83",
   "metadata": {},
   "outputs": [],
   "source": [
    "a = np.loadtxt('/Users/yao/Desktop/Data/Gabriel_2024/dat_rho_5.56e+15.txt')\n",
    "b = np.loadtxt('/Users/yao/Desktop/Data/Gabriel_2024/1um2ns.txt')"
   ]
  },
  {
   "cell_type": "code",
   "execution_count": 11,
   "id": "55385988",
   "metadata": {},
   "outputs": [
    {
     "data": {
      "text/plain": [
       "(402603, 4)"
      ]
     },
     "execution_count": 11,
     "metadata": {},
     "output_type": "execute_result"
    }
   ],
   "source": [
    "b.shape"
   ]
  },
  {
   "cell_type": "code",
   "execution_count": 9,
   "id": "7a536f08",
   "metadata": {},
   "outputs": [
    {
     "data": {
      "text/plain": [
       "[<matplotlib.lines.Line2D at 0x13aefe3d0>]"
      ]
     },
     "execution_count": 9,
     "metadata": {},
     "output_type": "execute_result"
    }
   ],
   "source": [
    "plt.semilogy(a[:,0],a[:,2])"
   ]
  },
  {
   "cell_type": "code",
   "execution_count": 14,
   "id": "68a85653",
   "metadata": {},
   "outputs": [
    {
     "data": {
      "text/plain": [
       "[<matplotlib.lines.Line2D at 0x13e48f370>]"
      ]
     },
     "execution_count": 14,
     "metadata": {},
     "output_type": "execute_result"
    }
   ],
   "source": [
    "plt.semilogy(b[:,0],b[:,3]/)"
   ]
  },
  {
   "cell_type": "code",
   "execution_count": 23,
   "id": "74a2c4e2",
   "metadata": {},
   "outputs": [],
   "source": [
    "# check the pre-plasma:\n",
    "\n",
    "X0, time, ionization0,density0 = np.transpose(np.loadtxt('/Users/yao/Desktop/Data/ps_prepulse_CH.txt'))\n"
   ]
  },
  {
   "cell_type": "code",
   "execution_count": 24,
   "id": "9d6f78d4",
   "metadata": {},
   "outputs": [],
   "source": [
    "mask = (time==5.000000e-02) # just take the last timestep of the input file\n",
    "X=X0[mask]-1                #change!!\n",
    "Z = ionization0[mask]\n",
    "density = density0[mask]"
   ]
  },
  {
   "cell_type": "code",
   "execution_count": 26,
   "id": "89123927",
   "metadata": {},
   "outputs": [
    {
     "data": {
      "text/plain": [
       "array([-4.93949200e+00, -4.21882500e+00, -3.98913500e+00, -3.85230800e+00,\n",
       "       -3.75422600e+00, -3.67728800e+00, -3.61363700e+00, -3.55909000e+00,\n",
       "       -3.51115400e+00, -3.46823400e+00, -3.42924700e+00, -3.39342000e+00,\n",
       "       -3.36018100e+00, -3.32909900e+00, -3.29984200e+00, -3.27214700e+00,\n",
       "       -3.24580000e+00, -3.22062900e+00, -3.19649000e+00, -3.17326300e+00,\n",
       "       -3.15084800e+00, -3.12916000e+00, -3.10812500e+00, -3.08768100e+00,\n",
       "       -3.06777300e+00, -3.04835300e+00, -3.02938000e+00, -3.01081700e+00,\n",
       "       -2.99263300e+00, -2.97479700e+00, -2.95728400e+00, -2.94007200e+00,\n",
       "       -2.92313900e+00, -2.90646800e+00, -2.89004100e+00, -2.87384300e+00,\n",
       "       -2.85786000e+00, -2.84207800e+00, -2.82648800e+00, -2.81107600e+00,\n",
       "       -2.79583400e+00, -2.78075100e+00, -2.76581900e+00, -2.75103000e+00,\n",
       "       -2.73637500e+00, -2.72184800e+00, -2.70744000e+00, -2.69314600e+00,\n",
       "       -2.67895900e+00, -2.66487300e+00, -2.65088100e+00, -2.63697900e+00,\n",
       "       -2.62316000e+00, -2.60942000e+00, -2.59575300e+00, -2.58215400e+00,\n",
       "       -2.56862000e+00, -2.55514500e+00, -2.54172600e+00, -2.52835800e+00,\n",
       "       -2.51503700e+00, -2.50176000e+00, -2.48852300e+00, -2.47532300e+00,\n",
       "       -2.46215600e+00, -2.44902000e+00, -2.43591000e+00, -2.42282400e+00,\n",
       "       -2.40976000e+00, -2.39671400e+00, -2.38368300e+00, -2.37066500e+00,\n",
       "       -2.35765700e+00, -2.34465600e+00, -2.33166100e+00, -2.31866800e+00,\n",
       "       -2.30567400e+00, -2.29267800e+00, -2.27967700e+00, -2.26666800e+00,\n",
       "       -2.25365000e+00, -2.24061900e+00, -2.22757400e+00, -2.21451200e+00,\n",
       "       -2.20143100e+00, -2.18832800e+00, -2.17520200e+00, -2.16205000e+00,\n",
       "       -2.14887000e+00, -2.13565900e+00, -2.12241600e+00, -2.10913800e+00,\n",
       "       -2.09582300e+00, -2.08246900e+00, -2.06907400e+00, -2.05563500e+00,\n",
       "       -2.04215000e+00, -2.02861600e+00, -2.01503200e+00, -2.00139500e+00,\n",
       "       -1.98770240e+00, -1.97395180e+00, -1.96014060e+00, -1.94626630e+00,\n",
       "       -1.93232630e+00, -1.91831780e+00, -1.90423810e+00, -1.89008420e+00,\n",
       "       -1.87585310e+00, -1.86154200e+00, -1.84714790e+00, -1.83266830e+00,\n",
       "       -1.81810000e+00, -1.80344000e+00, -1.78868480e+00, -1.77383110e+00,\n",
       "       -1.75887510e+00, -1.74381310e+00, -1.72864110e+00, -1.71335490e+00,\n",
       "       -1.69795020e+00, -1.68242240e+00, -1.66676660e+00, -1.65097780e+00,\n",
       "       -1.63505080e+00, -1.61898000e+00, -1.60275960e+00, -1.58638370e+00,\n",
       "       -1.56984590e+00, -1.55313940e+00, -1.53625730e+00, -1.51919220e+00,\n",
       "       -1.50193630e+00, -1.48448150e+00, -1.46681910e+00, -1.44894020e+00,\n",
       "       -1.43083480e+00, -1.41249290e+00, -1.39390370e+00, -1.37505590e+00,\n",
       "       -1.35593710e+00, -1.33653400e+00, -1.31683270e+00, -1.29681810e+00,\n",
       "       -1.27647460e+00, -1.25578540e+00, -1.23473260e+00, -1.21329720e+00,\n",
       "       -1.19145880e+00, -1.16919530e+00, -1.14648250e+00, -1.12329580e+00,\n",
       "       -1.09960937e+00, -1.07539407e+00, -1.05061677e+00, -1.02524071e+00,\n",
       "       -9.99225990e-01, -9.72529060e-01, -9.45103010e-01, -9.16896550e-01,\n",
       "       -8.87851200e-01, -8.57905800e-01, -8.26997900e-01, -7.95058800e-01,\n",
       "       -7.62009200e-01, -7.27759500e-01, -6.92211000e-01, -6.55255700e-01,\n",
       "       -6.16773600e-01, -5.76631600e-01, -5.34683900e-01, -4.90763800e-01,\n",
       "       -4.44678400e-01, -3.96194600e-01, -3.45054100e-01, -2.90923100e-01,\n",
       "       -2.33428800e-01, -1.72176500e-01, -1.06687400e-01, -3.63633000e-02,\n",
       "        3.96300000e-02,  1.22404000e-01,  2.13253000e-01,  3.13695000e-01,\n",
       "        4.25638000e-01,  5.51556000e-01,  6.94506000e-01,  8.58036000e-01,\n",
       "        1.04707000e+00,  1.26802400e+00,  1.52904300e+00,  1.84082900e+00,\n",
       "        2.21947100e+00,  2.68838500e+00,  3.28457300e+00,  4.06854800e+00,\n",
       "        5.14658300e+00,  6.73595500e+00,  9.39054000e+00,  1.49438200e+01,\n",
       "        4.06951800e+01])"
      ]
     },
     "execution_count": 26,
     "metadata": {},
     "output_type": "execute_result"
    }
   ],
   "source": [
    "X"
   ]
  },
  {
   "cell_type": "code",
   "execution_count": 19,
   "id": "b50dbb2a",
   "metadata": {},
   "outputs": [],
   "source": [
    "from scipy.interpolate import interp1d\n",
    "f = interp1d(X,density,kind='linear',fill_value='extrapolate')\n",
    "Zfunc = interp1d(X,Z,kind='linear',fill_value='extrapolate')"
   ]
  },
  {
   "cell_type": "code",
   "execution_count": 27,
   "id": "23aae5e0",
   "metadata": {},
   "outputs": [],
   "source": [
    "plt.semilogy(X, density*34.45/1.044*1.1e21)\n",
    "plt.grid()"
   ]
  },
  {
   "cell_type": "code",
   "execution_count": 20,
   "id": "b0c08019",
   "metadata": {},
   "outputs": [],
   "source": [
    "dens_prop = np.array(S0.ParticleBinning(3,units=['um','fs','MeV','cm^-3'],\n",
    "                #    data_log=True,\n",
    "                   sum={'px':'all'},\n",
    "                   ).getData()[0])\n",
    "\n",
    "dens_x = np.array(S0.ParticleBinning(3,units=['um','fs','MeV','cm^-3'],\n",
    "                   data_log=True,\n",
    "                   sum={'px':'all'},\n",
    "                   ).getAxis('x'))"
   ]
  },
  {
   "cell_type": "code",
   "execution_count": 43,
   "id": "8639b3fd",
   "metadata": {},
   "outputs": [],
   "source": [
    "n_1e12_x = np.loadtxt('/Users/yao/Desktop/1e12_10ns.txt',usecols=0,skiprows=0)\n",
    "n_1e12_y = np.loadtxt('/Users/yao/Desktop/1e12_10ns.txt',usecols=1,skiprows=0)\n",
    "\n",
    "n_1e12_1um_x = np.loadtxt('/Users/yao/Desktop/1e12_10ns_1um.txt',usecols=0,skiprows=0)\n",
    "n_1e12_1um_y = np.loadtxt('/Users/yao/Desktop/1e12_10ns_1um.txt',usecols=1,skiprows=0)\n",
    "\n",
    "n_1e12_1p2um_x = np.loadtxt('/Users/yao/Desktop/1e12_10ns_1.2um.txt',usecols=0,skiprows=0)\n",
    "n_1e12_1p2um_y = np.loadtxt('/Users/yao/Desktop/1e12_10ns_1.2um.txt',usecols=1,skiprows=0)"
   ]
  },
  {
   "cell_type": "code",
   "execution_count": 49,
   "id": "b4e9f0ec",
   "metadata": {},
   "outputs": [
    {
     "data": {
      "text/plain": [
       "(-5000.0, 5000.0)"
      ]
     },
     "execution_count": 49,
     "metadata": {},
     "output_type": "execute_result"
    }
   ],
   "source": [
    "plt.semilogy(dens_x,dens_prop,label='proposal')\n",
    "plt.semilogy(n_1e12_1um_x*-1,n_1e12_1um_y,label='1e12, 10 ns, 1 um')\n",
    "plt.semilogy(n_1e12_1p2um_x*-1,n_1e12_1p2um_y,label='1e12, 10 ns, 1.2 um')\n",
    "plt.legend()\n",
    "plt.xlabel('x (um)')\n",
    "plt.ylabel('Electron number density (cc)')\n",
    "plt.grid(linestyle=':',alpha=0.5)\n",
    "plt.ylim([1e18,1e21])\n",
    "plt.xlim([-5000,5000])"
   ]
  },
  {
   "cell_type": "code",
   "execution_count": 31,
   "id": "8c797a75",
   "metadata": {},
   "outputs": [
    {
     "data": {
      "text/plain": [
       "[<matplotlib.lines.Line2D at 0x12fd210d0>]"
      ]
     },
     "execution_count": 31,
     "metadata": {},
     "output_type": "execute_result"
    }
   ],
   "source": [
    "plt.semilogy(np.flip(n_1e12_x),np.flip(n_1e12_y),label='1e12, 10 ns')\n",
    "plt.semilogy((n_1e12_x),(n_1e12_y),label='1e12, 10 ns',linestyle='--')\n"
   ]
  },
  {
   "cell_type": "code",
   "execution_count": 32,
   "id": "16d47014",
   "metadata": {},
   "outputs": [
    {
     "data": {
      "text/plain": [
       "array([-7376.195  , -6106.494  , -5683.402  , -5399.584  , -5176.472  ,\n",
       "       -4987.294  , -4819.588  , -4666.59   , -4524.118  , -4389.345  ,\n",
       "       -4260.279  , -4135.459  , -4013.744  , -3894.247  , -3776.299  ,\n",
       "       -3659.359  , -3542.96   , -3426.678  , -3310.143  , -3193.032  ,\n",
       "       -3075.064  , -2955.964  , -2835.471  , -2713.345  , -2589.353  ,\n",
       "       -2463.266  , -2334.84   , -2203.824  , -2069.97   , -1933.015  ,\n",
       "       -1792.665  , -1648.6    , -1500.456  , -1347.818  , -1190.2    ,\n",
       "       -1027.03   ,  -857.5959 ,  -680.9862 ,  -496.0384 ,  -301.2816 ,\n",
       "         -94.83651,   125.725  ,   363.5785 ,   623.1132 ,   910.6205 ,\n",
       "        1235.575  ,  1613.39   ,  2071.85   ,  2672.11   ,  3606.139  ])"
      ]
     },
     "execution_count": 32,
     "metadata": {},
     "output_type": "execute_result"
    }
   ],
   "source": [
    "n_1e12_x"
   ]
  },
  {
   "cell_type": "code",
   "execution_count": 33,
   "id": "84319fef",
   "metadata": {},
   "outputs": [
    {
     "data": {
      "text/plain": [
       "array([ 3606.139  ,  2672.11   ,  2071.85   ,  1613.39   ,  1235.575  ,\n",
       "         910.6205 ,   623.1132 ,   363.5785 ,   125.725  ,   -94.83651,\n",
       "        -301.2816 ,  -496.0384 ,  -680.9862 ,  -857.5959 , -1027.03   ,\n",
       "       -1190.2    , -1347.818  , -1500.456  , -1648.6    , -1792.665  ,\n",
       "       -1933.015  , -2069.97   , -2203.824  , -2334.84   , -2463.266  ,\n",
       "       -2589.353  , -2713.345  , -2835.471  , -2955.964  , -3075.064  ,\n",
       "       -3193.032  , -3310.143  , -3426.678  , -3542.96   , -3659.359  ,\n",
       "       -3776.299  , -3894.247  , -4013.744  , -4135.459  , -4260.279  ,\n",
       "       -4389.345  , -4524.118  , -4666.59   , -4819.588  , -4987.294  ,\n",
       "       -5176.472  , -5399.584  , -5683.402  , -6106.494  , -7376.195  ])"
      ]
     },
     "execution_count": 33,
     "metadata": {},
     "output_type": "execute_result"
    }
   ],
   "source": [
    "np.flip(n_1e12_x)"
   ]
  },
  {
   "cell_type": "code",
   "execution_count": 34,
   "id": "21257b2d",
   "metadata": {},
   "outputs": [
    {
     "data": {
      "text/plain": [
       "array([1.138862e+17, 7.382119e+17, 1.317307e+18, 1.882692e+18,\n",
       "       2.443460e+18, 3.003381e+18, 3.568585e+18, 4.142781e+18,\n",
       "       4.725740e+18, 5.317742e+18, 5.919887e+18, 6.532324e+18,\n",
       "       7.154030e+18, 7.788875e+18, 8.439494e+18, 9.106954e+18,\n",
       "       9.790124e+18, 1.048875e+19, 1.120435e+19, 1.193876e+19,\n",
       "       1.269235e+19, 1.346403e+19, 1.425505e+19, 1.506621e+19,\n",
       "       1.589755e+19, 1.674807e+19, 1.761532e+19, 1.849947e+19,\n",
       "       1.939997e+19, 2.031323e+19, 2.123506e+19, 2.216103e+19,\n",
       "       2.308362e+19, 2.399454e+19, 2.488257e+19, 2.573233e+19,\n",
       "       2.651961e+19, 2.721486e+19, 2.778573e+19, 2.819644e+19,\n",
       "       2.840574e+19, 2.837274e+19, 2.804545e+19, 2.735129e+19,\n",
       "       2.621623e+19, 2.453657e+19, 2.218896e+19, 1.898933e+19,\n",
       "       1.459656e+19, 8.430729e+18])"
      ]
     },
     "execution_count": 34,
     "metadata": {},
     "output_type": "execute_result"
    }
   ],
   "source": [
    "n_1e12_y"
   ]
  },
  {
   "cell_type": "code",
   "execution_count": 35,
   "id": "8b2d4e79",
   "metadata": {},
   "outputs": [
    {
     "data": {
      "text/plain": [
       "array([8.430729e+18, 1.459656e+19, 1.898933e+19, 2.218896e+19,\n",
       "       2.453657e+19, 2.621623e+19, 2.735129e+19, 2.804545e+19,\n",
       "       2.837274e+19, 2.840574e+19, 2.819644e+19, 2.778573e+19,\n",
       "       2.721486e+19, 2.651961e+19, 2.573233e+19, 2.488257e+19,\n",
       "       2.399454e+19, 2.308362e+19, 2.216103e+19, 2.123506e+19,\n",
       "       2.031323e+19, 1.939997e+19, 1.849947e+19, 1.761532e+19,\n",
       "       1.674807e+19, 1.589755e+19, 1.506621e+19, 1.425505e+19,\n",
       "       1.346403e+19, 1.269235e+19, 1.193876e+19, 1.120435e+19,\n",
       "       1.048875e+19, 9.790124e+18, 9.106954e+18, 8.439494e+18,\n",
       "       7.788875e+18, 7.154030e+18, 6.532324e+18, 5.919887e+18,\n",
       "       5.317742e+18, 4.725740e+18, 4.142781e+18, 3.568585e+18,\n",
       "       3.003381e+18, 2.443460e+18, 1.882692e+18, 1.317307e+18,\n",
       "       7.382119e+17, 1.138862e+17])"
      ]
     },
     "execution_count": 35,
     "metadata": {},
     "output_type": "execute_result"
    }
   ],
   "source": [
    "np.flip(n_1e12_y)"
   ]
  },
  {
   "cell_type": "code",
   "execution_count": null,
   "id": "25851c0c",
   "metadata": {},
   "outputs": [],
   "source": []
  }
 ],
 "metadata": {
  "kernelspec": {
   "display_name": "Python 3",
   "language": "python",
   "name": "python3"
  },
  "language_info": {
   "codemirror_mode": {
    "name": "ipython",
    "version": 3
   },
   "file_extension": ".py",
   "mimetype": "text/x-python",
   "name": "python",
   "nbconvert_exporter": "python",
   "pygments_lexer": "ipython3",
   "version": "3.9.20"
  }
 },
 "nbformat": 4,
 "nbformat_minor": 5
}
