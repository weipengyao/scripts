{
 "cells": [
  {
   "cell_type": "code",
   "execution_count": null,
   "id": "0abf7980-2e2d-42a5-843e-a631d446c019",
   "metadata": {},
   "outputs": [],
   "source": [
    "%matplotlib qt\n",
    "# %matplotlib # not working even in VS code for me, don't know why."
   ]
  },
  {
   "cell_type": "code",
   "execution_count": null,
   "id": "56db5c81-8a8f-42a0-8196-f224d2d960ec",
   "metadata": {},
   "outputs": [],
   "source": [
    "import matplotlib as mpl\n",
    "import happi\n",
    "import numpy as np\n",
    "import matplotlib.pyplot as plt\n",
    "\n",
    "jetcmap = plt.cm.get_cmap(\"jet\", 9) #generate a jet map with 10 values \"rainbow\", \"jet\", YlOrRd\n",
    "jet_vals = jetcmap(np.arange(9)) #extract those values as an array \n",
    "jet_vals[0] = [1.0, 1, 1.0, 1] #change the first value \n",
    "jet_vals[8] = [0.0, 0, 0.0, 1] #change the first value \n",
    "newcmap = mpl.colors.LinearSegmentedColormap.from_list(\"mine\", jet_vals) "
   ]
  },
  {
   "cell_type": "code",
   "execution_count": null,
   "id": "31b0ffd3-015e-4f0a-809a-8c2debb0e28c",
   "metadata": {},
   "outputs": [],
   "source": [
    "from matplotlib import font_manager\n",
    "\n",
    "font_dirs = ['/Users/yao/Documents/Calibri and Cambria Fonts/']\n",
    "font_files = font_manager.findSystemFonts(fontpaths=font_dirs)\n",
    "\n",
    "for font_file in font_files:\n",
    "    font_manager.fontManager.addfont(font_file)\n",
    "\n",
    "# set font\n",
    "plt.rcParams['font.family'] = 'Calibri'\n",
    "\n",
    "plt.rc('text', usetex=False)\n",
    "plt.rc('xtick', labelsize=10)\n",
    "plt.rc('ytick', labelsize=10)\n",
    "plt.rc('axes', labelsize=10)\n",
    "plt.rc('legend', fontsize=9)"
   ]
  },
  {
   "cell_type": "code",
   "execution_count": null,
   "id": "c355dd54-10b0-4840-842a-61fe0df05e92",
   "metadata": {},
   "outputs": [],
   "source": [
    "wkdir = [\n",
    "    # '/Users/yao/Desktop/Data/F1_Al6um_t04/',\n",
    "    '/Users/yao/Desktop/Data/F1_150J_a0_103/',\n",
    "    # '/Users/yao/Desktop/Data/F1_Al6um_t05/',\n",
    "    # '/Users/yao/Desktop/DPM_3D_t0/'\n",
    "    ]"
   ]
  },
  {
   "cell_type": "code",
   "execution_count": null,
   "id": "f8a30974-4519-41f3-b494-01e2683f2c72",
   "metadata": {},
   "outputs": [],
   "source": [
    "S0 = happi.Open(wkdir[0], reference_angular_frequency_SI = 2.*np.pi*3e8/1.058e-6)\n",
    "# S1 = happi.Open(wkdir[1], reference_angular_frequency_SI = 2.*np.pi*3e8/1.058e-6)"
   ]
  },
  {
   "cell_type": "code",
   "execution_count": null,
   "id": "008fabef-fabb-485a-8943-10625a3095a1",
   "metadata": {},
   "outputs": [],
   "source": [
    "\n",
    "S0.ParticleBinning(1, units=['um','fs','MeV','cm^-3'],\n",
    "                   data_log=True,\n",
    "                   cmap=newcmap,\n",
    "                  vmin=18, vmax=22,\n",
    "                   aspect='equal',\n",
    "                   xmin=10,xmax=20,\n",
    "                   ymin=15,ymax=45,\n",
    "                  ).slide()"
   ]
  },
  {
   "cell_type": "code",
   "execution_count": null,
   "id": "c6ffb589-1854-4c0e-af23-f36b73386fe5",
   "metadata": {},
   "outputs": [],
   "source": [
    "S0.Field(1,'Ex',\n",
    "         units=['um','fs','MeV','cm^-3','V/m'],\n",
    "         vsym=True,\n",
    "        ).slide()"
   ]
  },
  {
   "cell_type": "code",
   "execution_count": null,
   "id": "765ec2d6-2796-4d78-bc18-18c7b2a3323c",
   "metadata": {},
   "outputs": [],
   "source": [
    "S0.ParticleBinning(0,\n",
    "         units=['um','fs','MeV','cm^-3','V/m'],\n",
    "                   data_log=True,\n",
    "                   cmap=newcmap,\n",
    "                   vmin=-4,\n",
    "                   vmax=0,\n",
    "         # vsym=True,\n",
    "        ).slide()"
   ]
  },
  {
   "cell_type": "code",
   "execution_count": null,
   "id": "9027496a-0820-441d-a867-390351517391",
   "metadata": {},
   "outputs": [],
   "source": [
    "S0.ParticleBinning(4,\n",
    "         units=['um','fs','MeV','cm^-3','V/m'],\n",
    "                   data_log=True,\n",
    "                   cmap=newcmap,\n",
    "                   vmin=-4,\n",
    "                   vmax=0,\n",
    "         # vsym=True,\n",
    "        ).slide()"
   ]
  },
  {
   "cell_type": "code",
   "execution_count": null,
   "id": "2cb21668-ae11-4b4f-86af-b666f790f2c7",
   "metadata": {},
   "outputs": [],
   "source": [
    "S0.ParticleBinning(5,\n",
    "         units=['um','fs','MeV','cm^-3','V/m'],\n",
    "                   data_log=True,\n",
    "                   cmap=newcmap,\n",
    "                   vmin=18,\n",
    "                   vmax=26,\n",
    "         # vsym=True,\n",
    "        ).slide()"
   ]
  },
  {
   "cell_type": "code",
   "execution_count": null,
   "id": "407af470-6872-4511-bb9f-d6187aa1186f",
   "metadata": {},
   "outputs": [],
   "source": [
    "# electron spectrum, needed for spectrometer design\n",
    "\n",
    "S0.ParticleBinning(7,\n",
    "         units=['um','fs','MeV','cm^-3','V/m'],\n",
    "                   data_log=True,\n",
    "                   vmin=-7,vmax=0,\n",
    "                   xmin=0,xmax=400,\n",
    "                   # cmap=newcmap,\n",
    "                   # vmin=18,\n",
    "                   # vmax=26,\n",
    "         # vsym=True,\n",
    "        ).plot()"
   ]
  },
  {
   "cell_type": "code",
   "execution_count": null,
   "id": "8da501f6-9e43-48e9-b67b-759203c57434",
   "metadata": {},
   "outputs": [],
   "source": [
    "S0.ParticleBinning(3,\n",
    "         units=['um','fs','MeV','cm^-3','V/m'],\n",
    "                   data_log=True,\n",
    "                   # cmap=newcmap,\n",
    "                   # vmin=-4,\n",
    "                   # vmax=0,\n",
    "         # vsym=True,\n",
    "        ).slide()"
   ]
  },
  {
   "cell_type": "code",
   "execution_count": null,
   "id": "f2e85fc3-83da-482e-a7cc-94a1d2ae0df6",
   "metadata": {},
   "outputs": [],
   "source": [
    "By = S0.Field(0,'Ey',\n",
    "         units=['um','fs','MeV','cm^-3','V/m'],\n",
    "         # aspect='equal',\n",
    "         average={\"y\":S0.namelist.Lsim[1]/2.},\n",
    "         vsym=True)\n",
    "\n",
    "Bz = S0.Field(1,'Bz',\n",
    "         units=['um','fs','MeV','cm^-3','V/m'],\n",
    "         # aspect='equal',\n",
    "         average={\"y\":S0.namelist.Lsim[1]/2.},\n",
    "         vsym=True)\n",
    "\n",
    "happi.multiSlide(By, Bz, shape=[1,2])"
   ]
  },
  {
   "cell_type": "code",
   "execution_count": null,
   "id": "17fda777-c8eb-4f57-93cd-bcc7b2f431ef",
   "metadata": {},
   "outputs": [],
   "source": [
    "## get the experimental data\n",
    "## which is analyzed from the RCF Matlab script\n",
    "\n",
    "## Note that here the data is already dN/dE/dsr\n",
    "\n",
    "shot32 = np.loadtxt('/Users/yao/Nextcloud/PROJECTS/Apollon/F1-2023/Apollon_RCF_F12023/2023-10-24-s32/DN_DE_str.txt')\n",
    "de_32  = shot32[:,1]  # dE\n",
    "dn_32  = shot32[:,0]  # dN/dsr\n",
    "\n",
    "shot33 = np.loadtxt('/Users/yao/Nextcloud/PROJECTS/Apollon/F1-2023/Apollon_RCF_F12023/2023-10-24-s33/DN_DE_str.txt')\n",
    "de_33  = shot33[:,1]  # dE\n",
    "dn_33  = shot33[:,0]  # dN/dsr\n",
    "\n",
    "shot37 = np.loadtxt('/Users/yao/Nextcloud/PROJECTS/Apollon/F1-2023/Apollon_RCF_F12023/2023-10-24-s37/DN_DE_str.txt')\n",
    "de_37  = shot37[:,1]  # dE\n",
    "dn_37  = shot37[:,0]  # dN/dsr\n",
    "\n",
    "# shot32_dnde = np.loadtxt('/Users/yao/Nextcloud/PROJECTS/Apollon/F1-2023/Apollon_RCF_F12023/2023-10-03-s32/DN_DE.txt')\n",
    "# dn_de = shot32_dnde[:,0]\n",
    "\n"
   ]
  },
  {
   "cell_type": "code",
   "execution_count": null,
   "id": "cc035bec-c944-4e33-9a7a-60bd93ff6703",
   "metadata": {},
   "outputs": [],
   "source": [
    "## get the simulation data\n",
    "l0 = S0.namelist.l0\n",
    "ekin = np.array(S0.Screen(2, units=['um','fs','MeV']).getAxis('ekin'))\n",
    "time = np.array(S0.Screen(2, units=['um','fs','MeV']).getTimes())\n",
    "numb = np.array(S0.Screen(2, units=['um','fs','MeV'],sum={'y':[5.*l0,37.*l0]}).getData())  \n",
    "# NOTE: there is another axis along y, which allow us to get the dN/dE/dsr\n"
   ]
  },
  {
   "cell_type": "code",
   "execution_count": null,
   "id": "546d531c-d2ab-4797-82b2-97698f15f1b7",
   "metadata": {},
   "outputs": [],
   "source": [
    "## get the simulation data -- for S1\n",
    "l0 = S1.namelist.l0\n",
    "ekin1 = np.array(S1.Screen(2, units=['um','fs','MeV']).getAxis('ekin'))\n",
    "time1 = np.array(S1.Screen(2, units=['um','fs','MeV']).getTimes())\n",
    "numb1 = np.array(S1.Screen(2, units=['um','fs','MeV'],sum={'y':[5.*l0,37.*l0]}).getData())  \n",
    "# NOTE: there is another axis along y, which allow us to get the dN/dE/dsr\n"
   ]
  },
  {
   "cell_type": "code",
   "execution_count": null,
   "id": "d3620448-0513-48a4-87fd-453bdd04d8f4",
   "metadata": {},
   "outputs": [],
   "source": [
    "## find the cut-off energy (of the simulation data) -- this is to transform the dN/dE into dN/dE/dsr\n",
    "## we have a better way to do so now.\n",
    "\n",
    "dNdE = np.sum(numb[-1])#,axis=1)\n",
    "index_cutoff = np.where(dNdE == 0.)[0]#[0]\n",
    "ekin_cutoff = ekin[index_cutoff]\n",
    "\n",
    "print(ekin_cutoff)"
   ]
  },
  {
   "cell_type": "code",
   "execution_count": null,
   "id": "4caa8dc2-5e97-43ee-beac-19ee29815b78",
   "metadata": {},
   "outputs": [],
   "source": [
    "dNdE"
   ]
  },
  {
   "cell_type": "code",
   "execution_count": null,
   "id": "5aa204d8-8108-4685-b356-1ddec1c00729",
   "metadata": {},
   "outputs": [],
   "source": [
    "## find the cut-off energy (of the exp. data) -- this is to transform the dN/dE into dN/dE/dsr\n",
    "## we get it directly from the RCF analyzing code.\n",
    "\n",
    "ekin_cutoff = de_32[-1]\n",
    "\n",
    "print(ekin_cutoff)"
   ]
  },
  {
   "cell_type": "code",
   "execution_count": null,
   "id": "b3bbbaa7-f6fe-4940-9451-979d76ecc905",
   "metadata": {},
   "outputs": [],
   "source": [
    "## now - we need to transform the simulation data\n",
    "## from dN/dE to dN/dE/dsr\n",
    "\n",
    "## we need to assume that the protons follows the typical angular distribution (???)\n",
    "## Ref: Mancic, A., et al. High Energy Density Physics 6.1 (2010): 21-28. (Fig.4)\n",
    "## Is this assumption appropriate, since here we are not exactly TNSA?\n",
    "\n",
    "def func(x, par):\n",
    "\t[a,b,c,d,e] = par\n",
    "\treturn a + b*x + c*x**2 + d*x**3 +e*x**4\n",
    "\n",
    "maxE = 20.4           # the maximum proton energy from A. Mancic\n",
    "maxE3 = ekin_cutoff   # the maximum proton energy from our SIMULATION\n",
    "par3 =[7.08445636e+00,  \n",
    "       4.94911721e+00*maxE/maxE3, \n",
    "       -6.00922396e-01*(maxE/maxE3)**2,  \n",
    "       2.99448952e-02*(maxE/maxE3)**3, \n",
    "       -6.47401643e-04*(maxE/maxE3)**4]\n",
    "\n",
    "dNdEdsr = np.zeros_like(dNdE)\n",
    "ang     = np.zeros_like(dNdE)\n",
    "\n",
    "# own calculation\n",
    "for i in range(len(dNdEdsr)):\n",
    "    ang[i] = func(ekin[i],par3)*np.pi/180.0\n",
    "    if i > index_cutoff:\n",
    "        ang[i] = 0.\n",
    "    dNdEdsr[i] = dNdE[i]/(2*np.pi*(1-np.cos(ang[i])))"
   ]
  },
  {
   "cell_type": "code",
   "execution_count": null,
   "id": "b2a08f64-af07-434d-ad90-e410887e4a9e",
   "metadata": {
    "jupyter": {
     "source_hidden": true
    }
   },
   "outputs": [],
   "source": [
    "## now - we need to transform the exp. data\n",
    "## from dN/dE/dsr to dN/dE\n",
    "\n",
    "## we need to assume that the protons follows the typical angular distribution (???)\n",
    "## Ref: Mancic, A., et al. High Energy Density Physics 6.1 (2010): 21-28. (Fig.4)\n",
    "## Is this assumption appropriate, since here we are not exactly TNSA?\n",
    "\n",
    "def func(x, par):\n",
    "\t[a,b,c,d,e] = par\n",
    "\treturn a + b*x + c*x**2 + d*x**3 +e*x**4\n",
    "\n",
    "maxE = 20.4           # the maximum proton energy from A. Mancic\n",
    "maxE3 = ekin_cutoff   # the maximum proton energy from our SIMULATION\n",
    "par3 =[7.08445636e+00,  \n",
    "       4.94911721e+00*maxE/maxE3, \n",
    "       -6.00922396e-01*(maxE/maxE3)**2,  \n",
    "       2.99448952e-02*(maxE/maxE3)**3, \n",
    "       -6.47401643e-04*(maxE/maxE3)**4]\n",
    "\n",
    "dNdE = np.zeros_like(de_32)\n",
    "ang  = np.zeros_like(de_32)\n",
    "\n",
    "# own calculation\n",
    "for i in range(len(de_32)):\n",
    "    ang[i]  = func(de_32[i],par3)*np.pi/180.0\n",
    "    dNdE[i] = dn_dsr[i]*(2*np.pi*(1-np.cos(ang[i])))"
   ]
  },
  {
   "cell_type": "code",
   "execution_count": null,
   "id": "68711795-75cf-44f1-b508-3a2e5272e25a",
   "metadata": {
    "jupyter": {
     "source_hidden": true
    }
   },
   "outputs": [],
   "source": [
    "## plot and check\n",
    "\n",
    "plt.semilogy(ekin,dNdE, '--r', label='dN/dE')\n",
    "plt.semilogy(ekin,dNdEdsr, '-b', label='dN/(dEdsr)')\n",
    "plt.xlabel('Energy (MeV)')\n",
    "plt.legend()\n",
    "plt.xlim([0,60])"
   ]
  },
  {
   "cell_type": "code",
   "execution_count": null,
   "id": "3855459b-b340-4a3b-840c-33c22a7c41fb",
   "metadata": {},
   "outputs": [],
   "source": [
    "## plot and check\n",
    "\n",
    "\n",
    "# plt.semilogy(de_32,dn_de, '*r', label='dN/dE - raw')\n",
    "plt.semilogy(de_32,dn_dsr, 'sr', label='dN/(dEdsr) - raw')\n",
    "plt.semilogy(ekin,dNdE*3e10, '--b', label='dN/dE - transformed')\n",
    "plt.xlabel('Energy (MeV)')\n",
    "plt.legend()\n",
    "plt.xlim([0,60])"
   ]
  },
  {
   "cell_type": "code",
   "execution_count": null,
   "id": "ca877b35-c2bc-42e1-b634-3ab6be9d4ffa",
   "metadata": {
    "collapsed": true,
    "jupyter": {
     "outputs_hidden": true,
     "source_hidden": true
    },
    "scrolled": true
   },
   "outputs": [],
   "source": [
    "from matplotlib import font_manager\n",
    "font_manager.findSystemFonts(fontpaths=\"/Users/yao/Library/Fonts/\", fontext=\"ttf\")"
   ]
  },
  {
   "cell_type": "code",
   "execution_count": null,
   "id": "0f8c23ce-0007-4dcc-ba04-1e4ed162bda4",
   "metadata": {
    "collapsed": true,
    "jupyter": {
     "outputs_hidden": true
    }
   },
   "outputs": [],
   "source": [
    "font_manager.findfont(\"Calibri\")"
   ]
  },
  {
   "cell_type": "code",
   "execution_count": null,
   "id": "50024bee-ef68-4368-9578-41fa9da8957a",
   "metadata": {
    "collapsed": true,
    "jupyter": {
     "outputs_hidden": true,
     "source_hidden": true
    },
    "scrolled": true
   },
   "outputs": [],
   "source": [
    "import matplotlib.font_manager\n",
    "from IPython.core.display import HTML\n",
    "\n",
    "def make_html(fontname):\n",
    "    return \"<p>{font}: <span style='font-family:{font}; font-size: 24px;'>{font}</p>\".format(font=fontname)\n",
    "\n",
    "code = \"\\n\".join([make_html(font) for font in sorted(set([f.name for f in matplotlib.font_manager.fontManager.ttflist]))])\n",
    "\n",
    "HTML(\"<div style='column-count: 2;'>{}</div>\".format(code))"
   ]
  },
  {
   "cell_type": "code",
   "execution_count": null,
   "id": "68c49ab5-6952-43c6-b9df-d47a1d058541",
   "metadata": {},
   "outputs": [],
   "source": [
    "# energy spectrum from screen vs. experimental data\n",
    "# use dN/dE/dsr of simulation (with an extra y-axis)\n",
    "# and dN/dE/dsr of experiment (directly from the RCF analyzing code)\n",
    "\n",
    "# plt.rc('font', family='sans-serif', serif='Arial')\n",
    "# plt.rcParams['font.family'] = 'Calibri'\n",
    "plt.rc('font', family='calibri')\n",
    "plt.rc('text', usetex=False)\n",
    "plt.rc('xtick', labelsize=9)\n",
    "plt.rc('ytick', labelsize=9)\n",
    "plt.rc('axes', labelsize=9)\n",
    "plt.rc('legend', fontsize=8)\n",
    "\n",
    "width  = 3.487 * 1.0\n",
    "height = width / 1.618 * 1.5\n",
    "\n",
    "fig, ax = plt.subplots()\n",
    "fig.subplots_adjust(left=.15, bottom=.16, right=.99, top=.97)\n",
    "\n",
    "# # experiment\n",
    "# x = (de_33 + de_37[:-1]) / 2.\n",
    "# y1 = np.asarray([dn_33, dn_37[:-1]]).min(0)\n",
    "# y2 = np.asarray([dn_33, dn_37[:-1]]).max(0)\n",
    "# ax.fill_between(x, y1, y2, alpha=0.3, color='blue', lw=0)\n",
    "# ax.plot(x, (y1 + y2)/2, linewidth=0, marker='s', markersize=4, color='blue', label='Exp.')\n",
    "\n",
    "# ax.semilogy(ekin,np.sum(numb[-1],axis=1)*2e10, color='k',lw=2.0,\n",
    "#              linestyle='--',\n",
    "#             label=r'Sim.',\n",
    "#            )\n",
    "ax.semilogy(de_32, dn_32, '^g', \n",
    "            label='Exp. #32')\n",
    "\n",
    "ax.semilogy(de_33, dn_33, 'sb', \n",
    "            label='Exp. #33')\n",
    "\n",
    "ax.semilogy(de_37, dn_37, 'or', \n",
    "            label='Exp. #37')\n",
    "\n",
    "ax.semilogy(ekin,numb[-1]*1.5e13, color='k',lw=1.0,\n",
    "             linestyle='-',\n",
    "            label='Simulation',\n",
    "           )\n",
    "\n",
    "# ax.semilogy(ekin1,numb1[-1]*1.5e13, color='r',lw=1.0,\n",
    "#              linestyle='--',\n",
    "#             label='Sim: 40 nm H, 41 J',\n",
    "#            )\n",
    "\n",
    "ax.set_xlim([0,60])\n",
    "ax.set_ylim([1e8,1e11])\n",
    "# plt.title('time = '+str(tt[ts])+' fs')\n",
    "# ax.grid(which='both',linestyle='--',alpha=0.3)\n",
    "ax.set_xlabel('Energy (MeV)')\n",
    "ax.set_ylabel('dN/dE/dsr')\n",
    "\n",
    "\n",
    "\n",
    "\n",
    "ax.legend(fancybox=False, reverse=True, frameon=False)\n",
    "fig.set_size_inches(width, height)\n",
    "fig.tight_layout()\n",
    "\n",
    "# plt.show()"
   ]
  },
  {
   "cell_type": "code",
   "execution_count": null,
   "id": "4d2f581f-21cb-4c69-9ef4-d13986c02094",
   "metadata": {},
   "outputs": [],
   "source": [
    "fig.savefig('/Users/yao/Desktop/f1_es_rcf.pdf',dpi=600)"
   ]
  },
  {
   "cell_type": "code",
   "execution_count": null,
   "id": "61493b4c-7378-4e7f-b492-4ed166f5b441",
   "metadata": {},
   "outputs": [],
   "source": [
    "E = 10.e6 # eV\n",
    "qe = 1.6e-19\n",
    "me = 9.1e-31\n",
    "mp = 1836.*me\n",
    "v = np.sqrt(2.*E*qe/mp)\n",
    "print('v = {:.2e} m/s'.format(v))\n",
    "\n",
    "l = 20e-6 # m\n",
    "t = l / v\n",
    "print('t = {:.2f} fs'.format(t*1e15))"
   ]
  },
  {
   "cell_type": "code",
   "execution_count": null,
   "id": "7e9fc53a-c86f-4c3b-a59c-71fbf63744ca",
   "metadata": {},
   "outputs": [],
   "source": [
    "time[-1]"
   ]
  },
  {
   "cell_type": "code",
   "execution_count": null,
   "id": "13398e7f-41fb-41c1-b866-afb37384f5c3",
   "metadata": {},
   "outputs": [],
   "source": [
    "ene1 = np.array(S0.Screen(2, units=['um','fs','MeV']).getData()[-1]) # last timestep\n",
    "yy = np.array(S0.Screen(2, units=['um','fs','MeV']).getAxis('y'))\n",
    "ee = np.array(S0.Screen(2, units=['um','fs','MeV']).getAxis('ekin'))"
   ]
  },
  {
   "cell_type": "code",
   "execution_count": null,
   "id": "74b22572-3449-4e26-9210-6996867f1b3a",
   "metadata": {},
   "outputs": [],
   "source": [
    "plt.rc('font', family='sans-serif', serif='Arial')\n",
    "plt.rc('text', usetex=False)\n",
    "plt.rc('xtick', labelsize=8)\n",
    "plt.rc('ytick', labelsize=8)\n",
    "plt.rc('axes', labelsize=8)\n",
    "plt.rc('legend', fontsize=8)\n",
    "\n",
    "from mpl_toolkits.axes_grid1 import make_axes_locatable\n",
    "\n",
    "\n",
    "width  = 3.487\n",
    "height = width / 1.618 * 1.2\n",
    "\n",
    "fig, ax = plt.subplots()\n",
    "fig.subplots_adjust(left=.15, bottom=.16, right=.99, top=.97)\n",
    "divider = make_axes_locatable(ax)\n",
    "cax = divider.append_axes('right', size='5%', pad=0.05)\n",
    "\n",
    "yekin = ax.imshow(np.log10(ene1.T),\n",
    "           cmap=newcmap,\n",
    "           origin='lower',\n",
    "           extent=[ee[0],ee[-1],yy[0],yy[-1]],\n",
    "           vmin=-4,\n",
    "           vmax=-2,\n",
    "           aspect='equal',\n",
    "          )\n",
    "cbar = fig.colorbar(yekin, cax=cax)\n",
    "cbar.minorticks_on()\n",
    "ax.set_xlim(2,60)\n",
    "ax.set_ylim(5,50)\n",
    "ax.set_yticks([5, 15,25,35,45])\n",
    "ax.set_xlabel('ekin (MeV)')\n",
    "ax.set_ylabel('y (um)')\n",
    "ax.grid(linestyle='--',color='grey',alpha=0.5)\n",
    "fig.set_size_inches(width, height)\n",
    "fig.tight_layout()"
   ]
  },
  {
   "cell_type": "code",
   "execution_count": null,
   "id": "4cc78746-0368-4211-8266-232499d94bc4",
   "metadata": {},
   "outputs": [],
   "source": [
    "fig.savefig('/Users/yao/Desktop/yekin_t04.png',dpi=600)"
   ]
  },
  {
   "cell_type": "code",
   "execution_count": null,
   "id": "36f9a559-06fa-4c4b-ad47-39da3999369f",
   "metadata": {},
   "outputs": [],
   "source": [
    "angene1 = np.array(S0.Screen(6, units=['um','fs','MeV']).getData()[-1]) # last timestep\n",
    "ang = np.array(S0.Screen(6, units=['um','fs','MeV']).getAxis('user_function0'))\n",
    "ee = np.array(S0.Screen(6, units=['um','fs','MeV']).getAxis('ekin'))"
   ]
  },
  {
   "cell_type": "code",
   "execution_count": null,
   "id": "bc1457ed-82ae-4182-8c14-36578e73df65",
   "metadata": {},
   "outputs": [],
   "source": [
    "plt.rc('font', family='sans-serif', serif='Arial')\n",
    "plt.rc('text', usetex=False)\n",
    "plt.rc('xtick', labelsize=12)\n",
    "plt.rc('ytick', labelsize=12)\n",
    "plt.rc('axes', labelsize=12)\n",
    "plt.rc('legend', fontsize=12)\n",
    "\n",
    "from mpl_toolkits.axes_grid1 import make_axes_locatable\n",
    "\n",
    "\n",
    "width  = 3.487\n",
    "height = width / 1.618 * 1.2\n",
    "\n",
    "fig, ax = plt.subplots()\n",
    "fig.subplots_adjust(left=.15, bottom=.16, right=.99, top=.97)\n",
    "divider = make_axes_locatable(ax)\n",
    "cax = divider.append_axes('right', size='5%', pad=0.05)\n",
    "\n",
    "yekin = ax.imshow(np.log10(angene1.T),\n",
    "           cmap=newcmap,\n",
    "           origin='lower',\n",
    "           extent=[ang[0],ang[-1],ee[0],ee[-1]],\n",
    "           vmin=-7,\n",
    "           vmax=-3,\n",
    "           aspect='auto',\n",
    "          )\n",
    "cbar = fig.colorbar(yekin, cax=cax)\n",
    "cbar.minorticks_on()\n",
    "ax.set_xlim(-15,15)\n",
    "# ax.set_xticks([-20, 0, 10, 20])\n",
    "ax.set_ylim(0,60)\n",
    "ax.set_xlabel(r'angle ($\\degree$)')\n",
    "ax.set_ylabel('Energy (MeV)')\n",
    "ax.grid(linestyle='--',color='grey',alpha=0.5)\n",
    "fig.set_size_inches(width, height)\n",
    "fig.tight_layout()"
   ]
  },
  {
   "cell_type": "code",
   "execution_count": null,
   "id": "eeb8a492-22ee-4f7b-be3f-4020b6caa9a8",
   "metadata": {},
   "outputs": [],
   "source": [
    "fig.savefig('/Users/yao/Desktop/ang_ene_p.png',dpi=600)"
   ]
  },
  {
   "cell_type": "code",
   "execution_count": null,
   "id": "95ec1e7c-ea58-476e-b095-7a258bd991e2",
   "metadata": {},
   "outputs": [],
   "source": [
    "np.arctan(8./31) * 180 / np.pi"
   ]
  },
  {
   "cell_type": "code",
   "execution_count": null,
   "id": "bd66ffd3-b49e-4961-bcda-1c5a3d75bcb6",
   "metadata": {},
   "outputs": [],
   "source": [
    "angene1 = np.array(S0.Screen(7, units=['um','fs','MeV']).getData()[-1]) # last timestep\n",
    "ang = np.array(S0.Screen(7, units=['um','fs','MeV']).getAxis('user_function0'))\n",
    "ee = np.array(S0.Screen(7, units=['um','fs','MeV']).getAxis('ekin'))"
   ]
  },
  {
   "cell_type": "code",
   "execution_count": null,
   "id": "7207c52d-8309-4be9-8c5f-ba6d2f1bbecd",
   "metadata": {},
   "outputs": [],
   "source": [
    "plt.rc('font', family='sans-serif', serif='Arial')\n",
    "plt.rc('text', usetex=False)\n",
    "plt.rc('xtick', labelsize=8)\n",
    "plt.rc('ytick', labelsize=8)\n",
    "plt.rc('axes', labelsize=8)\n",
    "plt.rc('legend', fontsize=8)\n",
    "\n",
    "from mpl_toolkits.axes_grid1 import make_axes_locatable\n",
    "\n",
    "\n",
    "width  = 3.487\n",
    "height = width / 1.618 * 1.2\n",
    "\n",
    "fig, ax = plt.subplots()\n",
    "fig.subplots_adjust(left=.15, bottom=.16, right=.99, top=.97)\n",
    "divider = make_axes_locatable(ax)\n",
    "cax = divider.append_axes('right', size='5%', pad=0.05)\n",
    "\n",
    "yekin = ax.imshow(np.log10(angene1.T),\n",
    "           cmap=newcmap,\n",
    "           origin='lower',\n",
    "           extent=[ang[0],ang[-1],ee[0],ee[-1]],\n",
    "           vmin=-7,\n",
    "           vmax=-3,\n",
    "           aspect='auto',\n",
    "          )\n",
    "cbar = fig.colorbar(yekin, cax=cax)\n",
    "cbar.minorticks_on()\n",
    "ax.set_xlim(-90,90)\n",
    "ax.set_xticks([-90, -45, 0, 45, 90])\n",
    "ax.set_ylim(0,16)\n",
    "ax.set_xlabel(r'angle ($\\degree$)')\n",
    "ax.set_ylabel('ekin (MeV)')\n",
    "ax.grid(linestyle='--',color='grey',alpha=0.5)\n",
    "fig.set_size_inches(width, height)\n",
    "fig.tight_layout()"
   ]
  },
  {
   "cell_type": "code",
   "execution_count": null,
   "id": "2a809fb4-7e32-4090-aec2-1b6256d9afc1",
   "metadata": {},
   "outputs": [],
   "source": [
    "fig.savefig('/Users/yao/Desktop/ang_ene_e.pdf')"
   ]
  },
  {
   "cell_type": "code",
   "execution_count": null,
   "id": "dc1c4685-27c1-4545-889c-8866921a1476",
   "metadata": {},
   "outputs": [],
   "source": [
    "xx[660]"
   ]
  },
  {
   "cell_type": "code",
   "execution_count": null,
   "id": "2b90778e-c3b2-4933-815b-2b450a504281",
   "metadata": {},
   "outputs": [],
   "source": [
    "ene = S0.Screen(3, units=['um','fs','MeV'],).getData()\n",
    "\n",
    "xx  = S0.Screen(3, units=['um','fs','MeV']).getAxis('ekin')\n",
    "tt  = S0.Screen(3, units=['um','fs','MeV']).getTimes()"
   ]
  },
  {
   "cell_type": "code",
   "execution_count": null,
   "id": "47eae532-5adc-4d8d-9b76-c3a532c017a8",
   "metadata": {},
   "outputs": [],
   "source": [
    "xx[120]"
   ]
  },
  {
   "cell_type": "code",
   "execution_count": null,
   "id": "d102dd26-9c82-4d8d-b723-dd2dd10fdca1",
   "metadata": {},
   "outputs": [],
   "source": [
    "from lmfit import Model, Parameters, report_fit\n",
    "\n",
    "def temp(xdata, A, kT):\n",
    "    return np.exp(-xdata/kT)*A\n",
    "\n",
    "def fitting(case, start, end):\n",
    "    gmod = Model(temp)\n",
    "    gmod.set_param_hint('kT', value=3, vary=True, min=1.0e-2, max=1.0e1)\n",
    "    gmod.set_param_hint('A', value=3.0, vary=True, min=1.0e-6, max=1.0e2)\n",
    "    pars = gmod.make_params()\n",
    "    result = gmod.fit(case[start:end], xdata=xx[start:end], method=fitmethod, nan_policy='omit')\n",
    "    print(result.fit_report())\n",
    "    print(\"kT: \", result.values['kT'])\n",
    "    print(\"Reduced chi square: \", result.redchi)\n",
    "    return result.best_fit, result.values['kT'], result.redchi"
   ]
  },
  {
   "cell_type": "code",
   "execution_count": null,
   "id": "39bcfeb9-3460-41ad-bd66-d8cca93ca643",
   "metadata": {},
   "outputs": [],
   "source": [
    "start_point = 35  # 5 MeV \n",
    "end_point = 150    # 24 MeV\n",
    "fitmethod =  'leastsq' #'leastsq' #'tnc' 'cg' 'differential_evolution'\n",
    "ttt = -1\n",
    "\n",
    "y_ndpm, kT_ndpm, redchi_ndpm = fitting(ene[ttt], start_point, end_point)"
   ]
  },
  {
   "cell_type": "code",
   "execution_count": null,
   "id": "608b47c5-7609-4a93-b240-7ed9af37d734",
   "metadata": {},
   "outputs": [],
   "source": [
    "width  = 3.487 * 1.0\n",
    "height = width / 1.618 * 1.0\n",
    "\n",
    "fig, ax = plt.subplots()\n",
    "fig.subplots_adjust(left=.15, bottom=.16, right=.99, top=.97)\n",
    "\n",
    "ax.semilogy(xx,ene[ttt]/ene[ttt].max(), color='b',lw=1.0,\n",
    "             linestyle='-',\n",
    "             label='Sim.',\n",
    "           )\n",
    "\n",
    "ax.semilogy(xx[start_point:end_point], y_ndpm/ene[ttt].max(), \n",
    "            '-.m', linewidth=2.0, markersize=6, \n",
    "            mfc='none',mew=1, \n",
    "            label='fit {:.1f} MeV'.format(kT_ndpm))\n",
    "\n",
    "\n",
    "ax.set_xlim([0,40])\n",
    "ax.set_ylim([1e-4,1e0])\n",
    "# ax.set_yticks([1, 1e-2, 1e-4])\n",
    "# plt.title('time = '+str(tt[ts])+' fs')\n",
    "# ax.grid(which='both',linestyle='--',alpha=0.5)\n",
    "ax.set_xlabel('Energy (MeV)')\n",
    "ax.set_ylabel('Normalized dN/dE')\n",
    "\n",
    "ax.legend(fancybox=False, frameon=False)\n",
    "fig.set_size_inches(width, height)\n",
    "fig.tight_layout()"
   ]
  },
  {
   "cell_type": "code",
   "execution_count": null,
   "id": "a101a79f-3607-4826-b9ac-4ece5aa09f21",
   "metadata": {},
   "outputs": [],
   "source": [
    "fig.savefig('/Users/yao/Desktop/spec_e.pdf')"
   ]
  },
  {
   "cell_type": "code",
   "execution_count": null,
   "id": "e9ed2aad-a6e0-40a9-88d8-ef3f31d048dd",
   "metadata": {},
   "outputs": [],
   "source": [
    "# eon energy spectrum from screen -- check the electron temperature and thus X-rays\n",
    "\n",
    "plt.rc('font', family='sans-serif', serif='Arial')\n",
    "plt.rc('text', usetex=False)\n",
    "plt.rc('xtick', labelsize=8)\n",
    "plt.rc('ytick', labelsize=8)\n",
    "plt.rc('axes', labelsize=8)\n",
    "plt.rc('legend', fontsize=8)\n",
    "\n",
    "# plt.rc('text', usetex=False)\n",
    "# mpl.rcParams['font.family'] = 'Arial'\n",
    "# mpl.rcParams['axes.labelsize'] = 12\n",
    "# mpl.rcParams['legend.fontsize'] = 16\n",
    "# mpl.rcParams['xtick.labelsize'] = 12\n",
    "# mpl.rcParams['ytick.labelsize'] = 12\n",
    "# mpl.rcParams['lines.linewidth'] = 2\n",
    "\n",
    "width  = 3.487\n",
    "height = width / 1.618 * 1.5\n",
    "\n",
    "# yrange3 = [0*S0.namelist.l0, 40*S0.namelist.l0]   # 22.76\n",
    "# fitting_factor3 = 5e10 * 50\n",
    "ene3 = S0.Screen(3, units=['um','fs','MeV'],\n",
    "                 # data_log=True,\n",
    "                 # ,sum={'y':yrange3},\n",
    "                ).getData()\n",
    "\n",
    "xx  = S0.Screen(3, units=['um','fs','MeV']).getAxis('ekin')\n",
    "tt  = S0.Screen(3, units=['um','fs','MeV']).getTimes()\n",
    "\n",
    "# index = (xx < 30.0)*(xx > 3.0)\n",
    "# x2 = xx[index]\n",
    "# y2 = func(x2,0.02,5)\n",
    "\n",
    "\n",
    "\n",
    "\n",
    "fig, ax = plt.subplots()\n",
    "fig.subplots_adjust(left=.15, bottom=.16, right=.99, top=.97)\n",
    "\n",
    "ax.semilogy(xx,ene3[-1], color='k',lw=1.0,\n",
    "             linestyle='-',\n",
    "             # label='PIC at t = {:.1f} fs'.format(tt[-1]),\n",
    "            label=r'eon',\n",
    "           )\n",
    "\n",
    "ax.semilogy(xx[start_point:end_point], y, '--r', linewidth=2.0, markersize=6, mfc='none',mew=1, label='{:.1f} MeV (R.C.={:.1e})'.format(kT, redchi))\n",
    "\n",
    "\n",
    "ax.set_xlim([0.1,10])\n",
    "ax.set_ylim([1e-6,1e-1])\n",
    "# plt.title('time = '+str(tt[ts])+' fs')\n",
    "# ax.grid(which='both',linestyle='--',alpha=0.5)\n",
    "ax.set_xlabel('Energy (MeV)')\n",
    "ax.set_ylabel('dN/dE (No./MeV)')\n",
    "\n",
    "ax.legend()\n",
    "fig.set_size_inches(width, height)\n",
    "fig.tight_layout()\n",
    "\n",
    "# plt.show()"
   ]
  },
  {
   "cell_type": "code",
   "execution_count": null,
   "id": "ecd1fee1-cfdf-4cd3-a705-ad112b311ab0",
   "metadata": {},
   "outputs": [],
   "source": [
    "fig.savefig('/Users/yao/Desktop/spec_e_temp.pdf')"
   ]
  },
  {
   "cell_type": "code",
   "execution_count": null,
   "id": "1fb815d6-e6ff-4286-b5d1-fabd2503adf7",
   "metadata": {},
   "outputs": [],
   "source": []
  },
  {
   "cell_type": "code",
   "execution_count": null,
   "id": "80870c47-8992-47c1-bfda-da5583ab5d98",
   "metadata": {},
   "outputs": [],
   "source": []
  },
  {
   "cell_type": "code",
   "execution_count": null,
   "id": "5c668a0a-e42d-4883-9ac2-5e0fbedbfbe3",
   "metadata": {},
   "outputs": [],
   "source": []
  },
  {
   "cell_type": "code",
   "execution_count": null,
   "id": "8a0ee871-3d69-4c6e-89fd-a51f9595eb1d",
   "metadata": {},
   "outputs": [],
   "source": [
    "# energy spectrum from screen vs. experimental data\n",
    "\n",
    "ene = S0.Screen(0, units=['um','fs','MeV']).getData()\n",
    "xx  = S0.Screen(0, units=['um','fs','MeV']).getAxis('ekin')\n",
    "tt  = S0.Screen(0, units=['um','fs','MeV']).getTimes()\n",
    "\n",
    "fitting_factor = 9e11\n",
    "\n",
    "plt.semilogy(xx,ene[-1]*fitting_factor, color='black',\n",
    "             linestyle='--',\n",
    "             label='2D PIC at t = '+str(tt[-1])+' fs')\n",
    "# plt.semilogy(xx,ene[ts[1]]*fitting_factor, color='black',\n",
    "#              label='2D PIC at t = '+str(round(tt[ts[1]]))+' fs')\n",
    "\n",
    "plt.xlim([0,35])\n",
    "# plt.ylim([1e-7,1])\n",
    "# plt.title('time = '+str(tt[ts])+' fs')\n",
    "plt.grid(which='both',linestyle='--',alpha=0.5)\n",
    "plt.xlabel('Energy (MeV)')\n",
    "plt.ylabel('fitted dN/dE')\n",
    "\n",
    "#shot 115\n",
    "# exp_energy = np.array([4.47, 7.42, 9.55, 11.92, 13.71, 15.12])\n",
    "# exp_number = np.array([2.263e9, 1.185e9, 5.523e8, 1.790e8, 5.399e7, 3.149e7])\n",
    "\n",
    "#shot 111\n",
    "exp_energy = np.array([4.49, 7.74, 10.01, 12.67, 14.87, 16.88, 19.33, 21.47, 23.42, 25.23, 26.90, 28.75, 30.37, 32.03, 33.67, 35.17])\n",
    "exp_number = np.array([4.333e9, 4.103e9, 2.892e9, 1.386e9, 1.074e9, 4.606e8, 2.639e8, 1.605e8, 9.902e7, 7.454e7, 4.993e7, 2.849e7, 2.184e7, 1.170e7, 5.565e6, 5.165e6])\n",
    "plt.scatter(exp_energy, exp_number, color='red', marker='*',\n",
    "            s=72,\n",
    "            label='Experiment #111')\n",
    "plt.legend()\n",
    "\n",
    "plt.show()"
   ]
  },
  {
   "cell_type": "code",
   "execution_count": null,
   "id": "cb60fd19-65b8-4262-842f-39586070c9d0",
   "metadata": {},
   "outputs": [],
   "source": []
  },
  {
   "cell_type": "code",
   "execution_count": null,
   "id": "758b5838-f4c6-403e-9367-2f8d7e1fadbd",
   "metadata": {},
   "outputs": [],
   "source": [
    "fig.savefig('/Users/yao/Desktop/spectrum.png',dpi=600)"
   ]
  },
  {
   "cell_type": "code",
   "execution_count": null,
   "id": "9f67971f-aa22-4f8e-a628-5ad1a003bb55",
   "metadata": {},
   "outputs": [],
   "source": [
    "# energy spectrum from Particle Bin vs. experimental data\n",
    "\n",
    "ene = np.array(S0.ParticleBinning(3, units=['um','fs','MeV']).getData())\n",
    "xx  = np.array(S0.ParticleBinning(3, units=['um','fs','MeV']).getAxis('ekin'))\n",
    "tt  = np.array(S0.ParticleBinning(3, units=['um','fs','MeV']).getTimes())\n",
    "\n",
    "fitting_factor = 9e11\n",
    "timestep = -1 #93\n",
    "\n",
    "plt.semilogy(xx,ene[timestep]*fitting_factor, color='black',\n",
    "             linestyle='--',\n",
    "             label='2D PIC at t = '+str(tt[-1])+' fs')\n",
    "# plt.semilogy(xx,ene[ts[1]]*fitting_factor, color='black',\n",
    "#              label='2D PIC at t = '+str(round(tt[ts[1]]))+' fs')\n",
    "\n",
    "# plt.xlim([0,40])\n",
    "# plt.ylim([1e-7,1])\n",
    "# plt.title('time = '+str(tt[ts])+' fs')\n",
    "plt.grid(which='both',linestyle='--',alpha=0.5)\n",
    "plt.xlabel('Energy (MeV)')\n",
    "plt.ylabel('fitted dN/dE')\n",
    "\n",
    "#shot 115\n",
    "# exp_energy = np.array([4.47, 7.42, 9.55, 11.92, 13.71, 15.12])\n",
    "# exp_number = np.array([2.263e9, 1.185e9, 5.523e8, 1.790e8, 5.399e7, 3.149e7])\n",
    "\n",
    "#shot 111\n",
    "exp_energy = np.array([4.49, 7.74, 10.01, 12.67, 14.87, 16.88, 19.33, 21.47, 23.42, 25.23, 26.90, 28.75, 30.37, 32.03, 33.67, 35.17])\n",
    "exp_number = np.array([4.333e9, 4.103e9, 2.892e9, 1.386e9, 1.074e9, 4.606e8, 2.639e8, 1.605e8, 9.902e7, 7.454e7, 4.993e7, 2.849e7, 2.184e7, 1.170e7, 5.565e6, 5.165e6])\n",
    "plt.scatter(exp_energy, exp_number, color='red', marker='*',\n",
    "            s=72,\n",
    "            label='Experiment #111')\n",
    "plt.legend()\n",
    "\n",
    "plt.show()"
   ]
  },
  {
   "cell_type": "code",
   "execution_count": null,
   "id": "1df08392-747c-4f7d-92ac-2b8315b1fee4",
   "metadata": {},
   "outputs": [],
   "source": [
    "ene = np.array(ene)"
   ]
  },
  {
   "cell_type": "code",
   "execution_count": null,
   "id": "6d19c8bd-d2c5-4295-978e-3985d6df22fb",
   "metadata": {},
   "outputs": [],
   "source": [
    "tt[93]"
   ]
  },
  {
   "cell_type": "code",
   "execution_count": null,
   "id": "29003f19-c3e1-466a-b8a2-dc899c555959",
   "metadata": {},
   "outputs": [],
   "source": [
    "#%% energy spectrum of H from screen \n",
    "\n",
    "xmin0 = 2\n",
    "xmax0 = 20.0\n",
    "vmin0 = -6\n",
    "vmax0 = -3\n",
    "\n",
    "ene10 = S0.Screen(0, units=['um','fs','MeV'],\n",
    "                  data_log=True,\n",
    "                  label=\"10 nm\",\n",
    "                  color='red',\n",
    "                  linestyle='-',\n",
    "                    # vmin=vmin0,\n",
    "                   # vmax=vmax0,\n",
    "                   # xmin=xmin0,\n",
    "                   # xmax=xmax0,\n",
    "                  ).slide()"
   ]
  },
  {
   "cell_type": "code",
   "execution_count": null,
   "id": "52b6f571-02ac-4e0c-8953-36d694680b36",
   "metadata": {},
   "outputs": [],
   "source": [
    "#%% px-py distribution for H from screen\n",
    "\n",
    "vmin0 = -8\n",
    "vmax0 = 0\n",
    "xmin0 = -20\n",
    "xmax0 = 20\n",
    "ymin0 = -20\n",
    "ymax0 = 20\n",
    "\n",
    "ene10 = S0.Screen(1, units=['um','fs','MeV'],\n",
    "                  data_log=True,\n",
    "                  cmap=newcmap,\n",
    "                  # label=\"10 nm\",\n",
    "                  # color='red',\n",
    "                  # linestyle='-',\n",
    "                  vmin=vmin0,\n",
    "                  vmax=vmax0,\n",
    "                  # xmin=xmin0,\n",
    "                  # xmax=xmax0,\n",
    "                  # ymin=ymin0,\n",
    "                  # ymax=ymax0,\n",
    "                  ).slide()"
   ]
  },
  {
   "cell_type": "code",
   "execution_count": null,
   "id": "216bf481-dfc0-4b20-9405-df2df5e040b4",
   "metadata": {},
   "outputs": [],
   "source": [
    "#%% energy spectrum of H from screen with resolution in y\n",
    "# %matplotlib widget\n",
    "xmin0 = 2\n",
    "xmax0 = 36\n",
    "vmin0 = -4\n",
    "vmax0 = -2\n",
    "ymin0 = 5\n",
    "ymax0 = 35\n",
    "\n",
    "ene10 = S0.Screen(2, units=['um','fs','MeV'],\n",
    "                  data_log=True,\n",
    "                  cmap=newcmap,\n",
    "                  label=\"10 nm\",\n",
    "                  color='red',\n",
    "                  linestyle='-',\n",
    "                  # sum={'y':'all'},\n",
    "                    vmin=vmin0,\n",
    "                   vmax=vmax0,\n",
    "                   xmin=xmin0,\n",
    "                   xmax=xmax0,\n",
    "                  ymin=ymin0,\n",
    "                   ymax=ymax0,\n",
    "                  ).slide()"
   ]
  },
  {
   "cell_type": "code",
   "execution_count": null,
   "id": "9f123d0e-834d-4ad1-9107-20980b1497db",
   "metadata": {},
   "outputs": [],
   "source": [
    "#%% energy spectrum of eon from screen to the right\n",
    "xmin0 = 2\n",
    "xmax0 = 20.0\n",
    "vmin0 = -6\n",
    "vmax0 = -3\n",
    "\n",
    "ene10 = S0.Screen(3, units=['um','fs','MeV'],\n",
    "                  data_log=True,\n",
    "                  label=\"10 nm\",\n",
    "                  color='red',\n",
    "                  linestyle='-',\n",
    "                    # vmin=vmin0,\n",
    "                   # vmax=vmax0,\n",
    "                   # xmin=xmin0,\n",
    "                   # xmax=xmax0,\n",
    "                  ).slide()"
   ]
  },
  {
   "cell_type": "code",
   "execution_count": null,
   "id": "e82c8a77-21ba-42ac-9c48-84f82674fdb4",
   "metadata": {},
   "outputs": [],
   "source": [
    "#%% energy spectrum of eon from screen to the left\n",
    "\n",
    "xmin0 = 2\n",
    "xmax0 = 20.0\n",
    "vmin0 = -6\n",
    "vmax0 = -3\n",
    "\n",
    "ene10 = S0.Screen(4, units=['um','fs','MeV'],\n",
    "                  data_log=True,\n",
    "                  label=\"10 nm\",\n",
    "                  color='red',\n",
    "                  linestyle='-',\n",
    "                    # vmin=vmin0,\n",
    "                   # vmax=vmax0,\n",
    "                   # xmin=xmin0,\n",
    "                   # xmax=xmax0,\n",
    "                  ).slide()"
   ]
  },
  {
   "cell_type": "code",
   "execution_count": null,
   "id": "83284eb5-ee21-4fdb-83e9-ef5ff2a846c0",
   "metadata": {},
   "outputs": [],
   "source": [
    "#%% px-py distribution for eon\n",
    "%matplotlib widget\n",
    "vmin0 = -8\n",
    "vmax0 = 0\n",
    "xmin0 = -20\n",
    "xmax0 = 20\n",
    "ymin0 = -20\n",
    "ymax0 = 20\n",
    "\n",
    "ene10 = S0.Screen(5, units=['um','fs','MeV'],\n",
    "                  data_log=True,\n",
    "                  cmap=newcmap,\n",
    "                  # label=\"10 nm\",\n",
    "                  # color='red',\n",
    "                  # linestyle='-',\n",
    "                  vmin=vmin0,\n",
    "                  vmax=vmax0,\n",
    "                  # xmin=xmin0,\n",
    "                  # xmax=xmax0,\n",
    "                  # ymin=ymin0,\n",
    "                  # ymax=ymax0,\n",
    "                  ).slide()"
   ]
  },
  {
   "cell_type": "code",
   "execution_count": null,
   "id": "079203b0-3083-4cae-a809-c73933509984",
   "metadata": {},
   "outputs": [],
   "source": [
    "#%% angular vs. energy distribution for H from screen\n",
    "\n",
    "vmin0 = -7\n",
    "vmax0 = -3\n",
    "xmin0 = -20\n",
    "xmax0 = 20\n",
    "ymin0 = 2\n",
    "ymax0 = 36\n",
    "\n",
    "ene10 = S0.Screen(6, units=['um','fs','MeV'],\n",
    "                  data_log=True,\n",
    "                  cmap=newcmap,\n",
    "                  # label=\"10 nm\",\n",
    "                  # color='red',\n",
    "                  # linestyle='-',\n",
    "                  vmin=vmin0,\n",
    "                  vmax=vmax0,\n",
    "                  xmin=xmin0,\n",
    "                  xmax=xmax0,\n",
    "                  ymin=ymin0,\n",
    "                  ymax=ymax0,\n",
    "                  ).plot()"
   ]
  },
  {
   "cell_type": "code",
   "execution_count": null,
   "id": "40b2e6d9-6c8c-492c-9788-2092270774d7",
   "metadata": {},
   "outputs": [],
   "source": [
    "#%% angular vs. energy distribution for eon from screen\n",
    "\n",
    "vmin0 = -7\n",
    "vmax0 = -3\n",
    "xmin0 = -90\n",
    "xmax0 = 90\n",
    "ymin0 = 0\n",
    "ymax0 = 15\n",
    "\n",
    "ene10 = S0.Screen(7, units=['um','fs','MeV'],\n",
    "                  data_log=True,\n",
    "                  cmap=newcmap,\n",
    "                  # label=\"10 nm\",\n",
    "                  # color='red',\n",
    "                  # linestyle='-',\n",
    "                  vmin=vmin0,\n",
    "                  vmax=vmax0,\n",
    "                  xmin=xmin0,\n",
    "                  xmax=xmax0,\n",
    "                  ymin=ymin0,\n",
    "                  ymax=ymax0,\n",
    "                  ).plot()"
   ]
  },
  {
   "cell_type": "code",
   "execution_count": null,
   "id": "7b4a39ce-8e1d-4db0-8220-88ff356e00cc",
   "metadata": {},
   "outputs": [],
   "source": []
  },
  {
   "cell_type": "code",
   "execution_count": null,
   "id": "a1257212-7c63-4a7a-8f25-16bdff721ebb",
   "metadata": {},
   "outputs": [],
   "source": []
  },
  {
   "cell_type": "code",
   "execution_count": null,
   "id": "87198777-adf3-489e-8386-a8125b25c3cc",
   "metadata": {},
   "outputs": [],
   "source": [
    "#%% x-px distribution for H\n",
    "\n",
    "vmin0 = -6\n",
    "vmax0 = -2\n",
    "xmin0 = 12\n",
    "xmax0 = 22\n",
    "ymin0 = 0\n",
    "ymax0 = 200\n",
    "\n",
    "ene10 = S0.ParticleBinning(0, units=['um','fs','MeV'],\n",
    "                  data_log=True,\n",
    "                  cmap=newcmap,\n",
    "                  # label=\"10 nm\",\n",
    "                  # color='red',\n",
    "                  # linestyle='-',\n",
    "                  vmin=vmin0,\n",
    "                  vmax=vmax0,\n",
    "                  xmin=xmin0,\n",
    "                  xmax=xmax0,\n",
    "                  ymin=ymin0,\n",
    "                  ymax=ymax0,\n",
    "                  ).plot(cbaspect=0)"
   ]
  },
  {
   "cell_type": "code",
   "execution_count": null,
   "id": "8d6c92fb-5964-4b5d-9126-447fef650d07",
   "metadata": {},
   "outputs": [],
   "source": [
    "#%% density distribution for H\n",
    "# %matplotlib widget\n",
    "vmin0 = 16\n",
    "vmax0 = 21\n",
    "xmin0 = 12\n",
    "xmax0 = 22\n",
    "ymin0 = -20\n",
    "ymax0 = 20\n",
    "\n",
    "ene20 = S0.ParticleBinning(1, units=['um','fs','MeV','cm^-3', 'kg*km/s'],\n",
    "                  data_log=True,\n",
    "                           sum={'y':'all'},\n",
    "                  cmap=newcmap,\n",
    "                           aspect='equal',\n",
    "                  # label=\"10 nm\",\n",
    "                  # color='red',\n",
    "                  # linestyle='-',\n",
    "                  vmin=vmin0,\n",
    "                  vmax=vmax0,\n",
    "                  xmin=xmin0,\n",
    "                  xmax=xmax0,\n",
    "                  # ymin=ymin0,\n",
    "                  # ymax=ymax0,\n",
    "                  ).plot()"
   ]
  },
  {
   "cell_type": "code",
   "execution_count": null,
   "id": "e4eae281-92eb-4821-a8eb-54f38de65569",
   "metadata": {},
   "outputs": [],
   "source": [
    "happi.multiSlide(ene10,ene20,shape=[2,1])"
   ]
  },
  {
   "cell_type": "code",
   "execution_count": null,
   "id": "729b55aa-7543-4610-9d11-269fae4ff7be",
   "metadata": {},
   "outputs": [],
   "source": [
    "#%% px-py distribution for H\n",
    "\n",
    "vmin0 = -8\n",
    "vmax0 = 0\n",
    "xmin0 = -20\n",
    "xmax0 = 20\n",
    "ymin0 = -20\n",
    "ymax0 = 20\n",
    "\n",
    "ene10 = S0.ParticleBinning(2, units=['um','fs','MeV'],\n",
    "                  data_log=True,\n",
    "                  cmap=newcmap,\n",
    "                  # label=\"10 nm\",\n",
    "                  # color='red',\n",
    "                  # linestyle='-',\n",
    "                  vmin=vmin0,\n",
    "                  vmax=vmax0,\n",
    "                  # xmin=xmin0,\n",
    "                  # xmax=xmax0,\n",
    "                  # ymin=ymin0,\n",
    "                  # ymax=ymax0,\n",
    "                  ).slide()"
   ]
  },
  {
   "cell_type": "code",
   "execution_count": null,
   "id": "07a0fe5d-a54a-436a-a860-1561661a54d4",
   "metadata": {},
   "outputs": [],
   "source": [
    "#%% energy spectrum of H from Particle Bin \n",
    "\n",
    "xmin0 = 2\n",
    "xmax0 = 20.0\n",
    "vmin0 = -6\n",
    "vmax0 = -3\n",
    "\n",
    "ene10 = S0.ParticleBinning(3, units=['um','fs','MeV'],\n",
    "                  data_log=True,\n",
    "                  label=\"10 nm\",\n",
    "                  color='red',\n",
    "                  linestyle='-',\n",
    "                    # vmin=vmin0,\n",
    "                   # vmax=vmax0,\n",
    "                   # xmin=xmin0,\n",
    "                   # xmax=xmax0,\n",
    "                  ).slide()"
   ]
  },
  {
   "cell_type": "code",
   "execution_count": null,
   "id": "c2acf2b3-5d38-4ea9-a582-5cf8af6cc51c",
   "metadata": {},
   "outputs": [],
   "source": [
    "#%% x-px distribution for eon\n",
    "%matplotlib widget\n",
    "vmin0 = -8\n",
    "vmax0 = 0\n",
    "xmin0 = -20\n",
    "xmax0 = 20\n",
    "ymin0 = -20\n",
    "ymax0 = 20\n",
    "\n",
    "ene10 = S0.ParticleBinning(4, units=['um','fs','MeV'],\n",
    "                  data_log=True,\n",
    "                  cmap=newcmap,\n",
    "                  # label=\"10 nm\",\n",
    "                  # color='red',\n",
    "                  # linestyle='-',\n",
    "                  vmin=vmin0,\n",
    "                  vmax=vmax0,\n",
    "                  # xmin=xmin0,\n",
    "                  # xmax=xmax0,\n",
    "                  # ymin=ymin0,\n",
    "                  # ymax=ymax0,\n",
    "                  ).slide()"
   ]
  },
  {
   "cell_type": "code",
   "execution_count": null,
   "id": "77d3a8c9-7230-4342-b8c9-bb2b00ee9f2b",
   "metadata": {},
   "outputs": [],
   "source": [
    "#%% density distribution for eon\n",
    "\n",
    "vmin0 = 17\n",
    "vmax0 = 23\n",
    "xmin0 = -20\n",
    "xmax0 = 20\n",
    "ymin0 = -20\n",
    "ymax0 = 20\n",
    "\n",
    "ene10 = S0.ParticleBinning(5, units=['um','fs','MeV','cm^-3'],\n",
    "                  data_log=True,\n",
    "                  cmap=newcmap,\n",
    "                           aspect='equal',\n",
    "                  # label=\"10 nm\",\n",
    "                  # color='red',\n",
    "                  # linestyle='-',\n",
    "                  vmin=vmin0,\n",
    "                  vmax=vmax0,\n",
    "                  # xmin=xmin0,\n",
    "                  # xmax=xmax0,\n",
    "                  # ymin=ymin0,\n",
    "                  # ymax=ymax0,\n",
    "                  ).slide()"
   ]
  },
  {
   "cell_type": "code",
   "execution_count": null,
   "id": "3029075e-4b5e-47c8-9afe-9588e636f085",
   "metadata": {},
   "outputs": [],
   "source": [
    "#%% px-py distribution for eon\n",
    "%matplotlib widget\n",
    "vmin0 = -8\n",
    "vmax0 = 0\n",
    "xmin0 = -20\n",
    "xmax0 = 20\n",
    "ymin0 = -20\n",
    "ymax0 = 20\n",
    "\n",
    "ene10 = S0.ParticleBinning(6, units=['um','fs','MeV'],\n",
    "                  data_log=True,\n",
    "                  cmap=newcmap,\n",
    "                  # label=\"10 nm\",\n",
    "                  # color='red',\n",
    "                  # linestyle='-',\n",
    "                  vmin=vmin0,\n",
    "                  vmax=vmax0,\n",
    "                  # xmin=xmin0,\n",
    "                  # xmax=xmax0,\n",
    "                  # ymin=ymin0,\n",
    "                  # ymax=ymax0,\n",
    "                  ).slide()"
   ]
  },
  {
   "cell_type": "code",
   "execution_count": null,
   "id": "0167a7e0-fd32-4c2a-bb55-413f175baa1b",
   "metadata": {},
   "outputs": [],
   "source": [
    "#%% energy spectrum of eon from Particle Bin \n",
    "\n",
    "xmin0 = 2\n",
    "xmax0 = 20.0\n",
    "vmin0 = -6\n",
    "vmax0 = -3\n",
    "\n",
    "ene10 = S0.ParticleBinning(7, units=['um','fs','MeV'],\n",
    "                  data_log=True,\n",
    "                  label=\"10 nm\",\n",
    "                  color='red',\n",
    "                  linestyle='-',\n",
    "                    # vmin=vmin0,\n",
    "                   # vmax=vmax0,\n",
    "                   # xmin=xmin0,\n",
    "                   # xmax=xmax0,\n",
    "                  ).slide()"
   ]
  },
  {
   "cell_type": "code",
   "execution_count": null,
   "id": "5e3204c5-f551-499f-8cd8-06680fac3685",
   "metadata": {},
   "outputs": [],
   "source": [
    "#%% angular vs. energy distribution for H\n",
    "%matplotlib widget\n",
    "vmin0 = -8\n",
    "vmax0 = 0\n",
    "xmin0 = -20\n",
    "xmax0 = 20\n",
    "ymin0 = -20\n",
    "ymax0 = 20\n",
    "\n",
    "ene10 = S0.ParticleBinning(8, units=['um','fs','MeV'],\n",
    "                  data_log=True,\n",
    "                  cmap=newcmap,\n",
    "                  # label=\"10 nm\",\n",
    "                  # color='red',\n",
    "                  # linestyle='-',\n",
    "                  vmin=vmin0,\n",
    "                  vmax=vmax0,\n",
    "                  # xmin=xmin0,\n",
    "                  # xmax=xmax0,\n",
    "                  # ymin=ymin0,\n",
    "                  # ymax=ymax0,\n",
    "                  ).slide()"
   ]
  },
  {
   "cell_type": "code",
   "execution_count": null,
   "id": "e65f60db-150e-4ec2-b4c2-de89e59d42d8",
   "metadata": {},
   "outputs": [],
   "source": [
    "#%% angular vs. energy distribution for eon\n",
    "%matplotlib widget\n",
    "vmin0 = -8\n",
    "vmax0 = 0\n",
    "xmin0 = -20\n",
    "xmax0 = 20\n",
    "ymin0 = -20\n",
    "ymax0 = 20\n",
    "\n",
    "ene10 = S0.ParticleBinning(9, units=['um','fs','MeV'],\n",
    "                  data_log=True,\n",
    "                  cmap=newcmap,\n",
    "                  # label=\"10 nm\",\n",
    "                  # color='red',\n",
    "                  # linestyle='-',\n",
    "                  vmin=vmin0,\n",
    "                  vmax=vmax0,\n",
    "                  # xmin=xmin0,\n",
    "                  # xmax=xmax0,\n",
    "                  # ymin=ymin0,\n",
    "                  # ymax=ymax0,\n",
    "                  ).slide()"
   ]
  },
  {
   "cell_type": "code",
   "execution_count": null,
   "id": "559c4ec0-1c6d-4331-90bd-96be1e5593d1",
   "metadata": {},
   "outputs": [],
   "source": [
    "#%% xy vs. energy distribution for eon\n",
    "%matplotlib widget\n",
    "vmin0 = 18\n",
    "vmax0 = 23\n",
    "xmin0 = -20\n",
    "xmax0 = 20\n",
    "ymin0 = -20\n",
    "ymax0 = 20\n",
    "\n",
    "ene10 = S0.ParticleBinning(10, units=['um','fs','MeV','cm^-3 MeV'],\n",
    "                  data_log=True,\n",
    "                  cmap=newcmap,\n",
    "                  # label=\"10 nm\",\n",
    "                  # color='red',\n",
    "                  # linestyle='-',\n",
    "                           sum={'ekin':[0.1/0.511]},\n",
    "                  vmin=vmin0,\n",
    "                  vmax=vmax0,\n",
    "                  # xmin=xmin0,\n",
    "                  # xmax=xmax0,\n",
    "                  # ymin=ymin0,\n",
    "                  # ymax=ymax0,\n",
    "                  ).slide()"
   ]
  },
  {
   "cell_type": "code",
   "execution_count": null,
   "id": "6087b8a3-e1d2-4241-aaa1-929aed46baca",
   "metadata": {},
   "outputs": [],
   "source": []
  },
  {
   "cell_type": "code",
   "execution_count": null,
   "id": "c4c5766f-1fe6-4237-94a6-7fbe7ca61101",
   "metadata": {},
   "outputs": [],
   "source": [
    "\n",
    "vsym0 = 1e12\n",
    "\n",
    "Ey10 = S0.Field(1, 'Ex', units=['um','fs','V/m'],\n",
    "                # vsym=True,\n",
    "                vsym=vsym0,\n",
    "                aspect='equal',\n",
    "                ).slide()"
   ]
  },
  {
   "cell_type": "code",
   "execution_count": null,
   "id": "0c38a800-62e6-487d-8d3a-b63befb1b41e",
   "metadata": {},
   "outputs": [],
   "source": [
    "\n",
    "vsym0 = 1e12\n",
    "\n",
    "Ey10 = S0.Field(0, 'Ey', units=['um','fs','V/m'],\n",
    "                # vsym=True,\n",
    "                vsym=vsym0,\n",
    "                aspect='equal',\n",
    "                ).slide()"
   ]
  },
  {
   "cell_type": "code",
   "execution_count": null,
   "id": "b00d8c40-5068-45f7-9c73-3ec3b90f0293",
   "metadata": {},
   "outputs": [],
   "source": []
  },
  {
   "cell_type": "code",
   "execution_count": null,
   "id": "96f0c028-d74b-4f96-8805-034dfc9bb4ad",
   "metadata": {},
   "outputs": [],
   "source": [
    "qe = 1.6e-19\n",
    "E  = 1e12\n",
    "l  = 1e-6\n",
    "ene = qe*E*l / qe /1e6\n",
    "print('ene = {:.2e} MeV'.format(ene))"
   ]
  },
  {
   "cell_type": "code",
   "execution_count": null,
   "id": "7a709f20-0e7b-4593-8392-6ea1d44c4d00",
   "metadata": {},
   "outputs": [],
   "source": [
    "np.arctan2(-1,1) * 180 / np.pi"
   ]
  },
  {
   "cell_type": "code",
   "execution_count": null,
   "id": "c09f9b87-2d1d-494b-8a91-547c08978166",
   "metadata": {},
   "outputs": [],
   "source": [
    "# check the normalized laser intensity\n",
    "import numpy as np\n",
    "E = 45.0\n",
    "tau = 22e-15 \n",
    "d = 3.e-4\n",
    "I = E / tau / (np.pi * (d/2)**2)\n",
    "print(I)"
   ]
  },
  {
   "cell_type": "code",
   "execution_count": null,
   "id": "3b411d58-8116-43fb-9cbc-c78599ebd4fe",
   "metadata": {},
   "outputs": [],
   "source": [
    "I = 2e22 # W/cm2\n",
    "lmd = 1.058 # um\n",
    "a0 = 0.86*lmd*np.sqrt(I/1e18)"
   ]
  },
  {
   "cell_type": "code",
   "execution_count": null,
   "id": "aaebe4b7-7908-416d-a55c-38338d36acb8",
   "metadata": {},
   "outputs": [],
   "source": [
    "a0"
   ]
  },
  {
   "cell_type": "code",
   "execution_count": null,
   "id": "e87355eb-e9e7-4e2f-a7ae-c4aa5218110e",
   "metadata": {},
   "outputs": [],
   "source": [
    "a0 / np.pi / 100 * lmd"
   ]
  },
  {
   "cell_type": "code",
   "execution_count": null,
   "id": "e2473c3b-65f6-4f59-a7dc-6f44c9d00fdb",
   "metadata": {},
   "outputs": [],
   "source": [
    "## analyze the focal spot\n",
    "\n",
    "from PIL import Image\n",
    "im = Image.open('/Users/yao/Nextcloud/PROJECTS/Apollon/F1-2023/Apollon_F1_focal_spot/SFA_SFIC1_SAD_TCC_CCD_230420_131626.tif')"
   ]
  },
  {
   "cell_type": "code",
   "execution_count": null,
   "id": "dc9ab6c8-2557-43c6-be1d-dc537684276b",
   "metadata": {},
   "outputs": [],
   "source": [
    "imarray = np.array(im)"
   ]
  },
  {
   "cell_type": "code",
   "execution_count": null,
   "id": "285457ed-ed54-4535-8125-47c5ec2a3547",
   "metadata": {},
   "outputs": [],
   "source": [
    "plt.imshow(imarray)"
   ]
  },
  {
   "cell_type": "code",
   "execution_count": null,
   "id": "65f8da1c-5254-482b-a57f-9ad6d12d69b4",
   "metadata": {},
   "outputs": [],
   "source": [
    "plt.rc('font', family='sans-serif', serif='Arial')\n",
    "plt.rc('text', usetex=False)\n",
    "plt.rc('xtick', labelsize=8)\n",
    "plt.rc('ytick', labelsize=8)\n",
    "plt.rc('axes', labelsize=8)\n",
    "plt.rc('legend', fontsize=8)\n",
    "\n",
    "from mpl_toolkits.axes_grid1 import make_axes_locatable\n",
    "\n",
    "\n",
    "width  = 3.487\n",
    "height = width / 1.618 * 1.5\n",
    "\n",
    "fig, ax = plt.subplots()\n",
    "fig.subplots_adjust(left=.15, bottom=.16, right=.99, top=.97)\n",
    "divider = make_axes_locatable(ax)\n",
    "cax = divider.append_axes('right', size='5%', pad=0.05)\n",
    "\n",
    "yekin = ax.imshow(imarray/200.,\n",
    "           cmap='hot',\n",
    "           origin='lower',\n",
    "           extent=[-6, 6, -6, 6],\n",
    "           vmin=0,\n",
    "           vmax=1,\n",
    "           aspect='equal',\n",
    "          )\n",
    "cbar = fig.colorbar(yekin, cax=cax)\n",
    "cbar.minorticks_on()\n",
    "ax.set_xlim(-6,6)\n",
    "ax.set_ylim(-6,6)\n",
    "ax.set_xlabel(r'x ($\\mu$m)')\n",
    "ax.set_ylabel(r'y ($\\mu$m)')\n",
    "# ax.grid(linestyle='--',color='grey',alpha=0.5)\n",
    "fig.set_size_inches(width, height)\n",
    "fig.tight_layout()"
   ]
  },
  {
   "cell_type": "code",
   "execution_count": null,
   "id": "d5cce4ff-f9c5-4224-a420-326d8d4d9544",
   "metadata": {},
   "outputs": [],
   "source": [
    "fig.savefig('/Users/yao/Desktop/focal.pdf',dpi=600)"
   ]
  },
  {
   "cell_type": "code",
   "execution_count": null,
   "id": "fab0e63f-f174-4683-8875-7243fa75ea49",
   "metadata": {},
   "outputs": [],
   "source": [
    "import numpy as np\n",
    "import pandas as pd"
   ]
  },
  {
   "cell_type": "code",
   "execution_count": null,
   "id": "3b2bbb51-e380-47ff-814e-d83b1da76ef2",
   "metadata": {},
   "outputs": [],
   "source": [
    "fwhm = pd.read_excel('/Users/yao/Nextcloud/PROJECTS/Apollon/F1-2023/Focal Spot scan 20.4.23.xlsx')"
   ]
  },
  {
   "cell_type": "code",
   "execution_count": null,
   "id": "77ebbbfe-4801-48ee-ac59-32ad193d405b",
   "metadata": {},
   "outputs": [],
   "source": [
    "z = np.array(fwhm.loc[:,'pos um'])\n",
    "fx = np.array(fwhm.loc[:,'FWHM_X [um]'])\n",
    "fy = np.array(fwhm.loc[:,'FWHM_Y [um]'])"
   ]
  },
  {
   "cell_type": "code",
   "execution_count": null,
   "id": "51235b30-510f-448c-b1aa-a2add573e54d",
   "metadata": {},
   "outputs": [],
   "source": [
    "# eon energy spectrum from screen -- check the electron temperature and thus X-rays\n",
    "\n",
    "plt.rc('font', family='sans-serif', serif='Arial')\n",
    "plt.rc('text', usetex=False)\n",
    "plt.rc('xtick', labelsize=12)\n",
    "plt.rc('ytick', labelsize=12)\n",
    "plt.rc('axes', labelsize=12)\n",
    "plt.rc('legend', fontsize=12)\n",
    "\n",
    "width  = 3.487\n",
    "height = width / 1.618 * 1.5\n",
    "\n",
    "fig, ax = plt.subplots()\n",
    "fig.subplots_adjust(left=.15, bottom=.16, right=.99, top=.97)\n",
    "\n",
    "ax.scatter(z,fx, color='b', marker='x', s=20, lw=1.0,\n",
    "             # label='PIC at t = {:.1f} fs'.format(tt[-1]),\n",
    "            label=r'FWHM X',\n",
    "           )\n",
    "\n",
    "ax.scatter(z,fy, color='r', marker='+', s=30, lw=1.0,\n",
    "             # label='PIC at t = {:.1f} fs'.format(tt[-1]),\n",
    "            label=r'FWHM Y',\n",
    "           )\n",
    "\n",
    "ax.set_xlim([-60,60])\n",
    "ax.set_ylim([0,20])\n",
    "# plt.title('time = '+str(tt[ts])+' fs')\n",
    "ax.grid(which='both',linestyle='--',alpha=0.5)\n",
    "ax.set_xlabel(r'z ($\\mu$m)')\n",
    "ax.set_ylabel(r'Size ($\\mu$m)')\n",
    "\n",
    "ax.legend()\n",
    "fig.set_size_inches(width, height)\n",
    "fig.tight_layout()\n",
    "\n",
    "# plt.show()"
   ]
  },
  {
   "cell_type": "code",
   "execution_count": null,
   "id": "f10b94b2-2a4a-42c8-8b0f-f113a9f3249e",
   "metadata": {},
   "outputs": [],
   "source": [
    "fig.savefig('/Users/yao/Desktop/focal_line.pdf',dpi=600)"
   ]
  },
  {
   "cell_type": "code",
   "execution_count": null,
   "id": "992773aa-ac5e-4cad-b727-16e640bdbaf7",
   "metadata": {},
   "outputs": [],
   "source": [
    "E = 10\n",
    "tau = 24e-15 \n",
    "S = np.pi*(3.0e-4/2)**2\n",
    "\n",
    "I = E / tau / S\n",
    "\n",
    "print('I = {:.1e} W/cm2'.format(I))"
   ]
  },
  {
   "cell_type": "code",
   "execution_count": null,
   "id": "e27553c0-334c-4295-8440-63b601cf9d83",
   "metadata": {},
   "outputs": [],
   "source": [
    "1. / 128 * 1e3"
   ]
  },
  {
   "cell_type": "code",
   "execution_count": null,
   "id": "9b4e5e45-83dd-48a1-b7ce-6b819098249d",
   "metadata": {},
   "outputs": [],
   "source": []
  }
 ],
 "metadata": {
  "kernelspec": {
   "display_name": "Python 3 (ipykernel)",
   "language": "python",
   "name": "python3"
  },
  "language_info": {
   "codemirror_mode": {
    "name": "ipython",
    "version": 3
   },
   "file_extension": ".py",
   "mimetype": "text/x-python",
   "name": "python",
   "nbconvert_exporter": "python",
   "pygments_lexer": "ipython3",
   "version": "3.9.18"
  }
 },
 "nbformat": 4,
 "nbformat_minor": 5
}
