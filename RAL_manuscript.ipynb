{
 "cells": [
  {
   "cell_type": "code",
   "execution_count": 1,
   "metadata": {},
   "outputs": [
    {
     "name": "stdout",
     "output_type": "stream",
     "text": [
      "Using matplotlib backend: MacOSX\n",
      "Populating the interactive namespace from numpy and matplotlib\n"
     ]
    }
   ],
   "source": [
    "%pylab\n",
    "import happi\n",
    "\n",
    "jetcmap = plt.cm.get_cmap(\"jet\", 9) #generate a jet map with 10 values \"rainbow\", \"jet\", YlOrRd\n",
    "jet_vals = jetcmap(np.arange(9)) #extract those values as an array \n",
    "jet_vals[0] = [1.0, 1, 1.0, 1] #change the first value \n",
    "jet_vals[8] = [0.0, 0, 0.0, 1] #change the first value \n",
    "newcmap = mpl.colors.LinearSegmentedColormap.from_list(\"mine\", jet_vals) "
   ]
  },
  {
   "cell_type": "code",
   "execution_count": null,
   "metadata": {},
   "outputs": [],
   "source": []
  },
  {
   "cell_type": "code",
   "execution_count": 52,
   "metadata": {},
   "outputs": [
    {
     "name": "stdout",
     "output_type": "stream",
     "text": [
      "Loaded simulation '/Volumes/LaCie2020/Data_Smilei/2020/RAL/SO3d_Ang15_Waist2_Dist5p5_Width3_IonHe_Lz30_Screen/'\n",
      "Scanning for Scalar diagnostics\n",
      "Scanning for Field diagnostics\n",
      "Scanning for Probe diagnostics\n",
      "Scanning for ParticleBinning diagnostics\n",
      "Scanning for RadiationSpectrum diagnostics\n",
      "Scanning for Performance diagnostics\n",
      "Scanning for Screen diagnostics\n",
      "Scanning for Tracked particle diagnostics\n",
      "Loaded simulation '/Volumes/LaCie2020/Data_Smilei/2020/RAL/DO3d_Ang15_Waist2_Dist5p5_Width3_IonHe_Lz30_Screen/'\n",
      "Scanning for Scalar diagnostics\n",
      "Scanning for Field diagnostics\n",
      "Scanning for Probe diagnostics\n",
      "Scanning for ParticleBinning diagnostics\n",
      "Scanning for RadiationSpectrum diagnostics\n",
      "Scanning for Performance diagnostics\n",
      "Scanning for Screen diagnostics\n",
      "Scanning for Tracked particle diagnostics\n",
      "Loaded simulation '/Volumes/LaCie2020/Data_Smilei/2020/RAL/DO3d_Dist20_ScreenSphere/'\n",
      "Scanning for Scalar diagnostics\n",
      "Scanning for Field diagnostics\n",
      "Scanning for Probe diagnostics\n",
      "Scanning for ParticleBinning diagnostics\n",
      "Scanning for RadiationSpectrum diagnostics\n",
      "Scanning for Performance diagnostics\n",
      "Scanning for Screen diagnostics\n",
      "Scanning for Tracked particle diagnostics\n",
      "Loaded simulation '/Volumes/LaCie2020/Data_Smilei/2022/DO3d_Ang15_Waist2_Dist5p5_Width3_IonHe_Lz30_Screen_pre24/'\n",
      "Scanning for Scalar diagnostics\n",
      "Scanning for Field diagnostics\n",
      "Scanning for Probe diagnostics\n",
      "Scanning for ParticleBinning diagnostics\n",
      "Scanning for RadiationSpectrum diagnostics\n",
      "Scanning for Performance diagnostics\n",
      "Scanning for Screen diagnostics\n",
      "Scanning for Tracked particle diagnostics\n",
      "Loaded simulation '/Volumes/LaCie2020/Data_Smilei/2020/RAL/DO3d_Distn5p5_Ang15_TwoSingle_ScreenSphere/'\n",
      "Scanning for Scalar diagnostics\n",
      "Scanning for Field diagnostics\n",
      "Scanning for Probe diagnostics\n",
      "Scanning for ParticleBinning diagnostics\n",
      "Scanning for RadiationSpectrum diagnostics\n",
      "Scanning for Performance diagnostics\n",
      "Scanning for Screen diagnostics\n",
      "Scanning for Tracked particle diagnostics\n"
     ]
    }
   ],
   "source": [
    "wkdir = [\n",
    "#     '/Users/yz/Desktop/test/',\n",
    "        '/Volumes/LaCie2020/Data_Smilei/2020/RAL/SO3d_Ang15_Waist2_Dist5p5_Width3_IonHe_Lz30_Screen/',\n",
    "        '/Volumes/LaCie2020/Data_Smilei/2020/RAL/DO3d_Ang15_Waist2_Dist5p5_Width3_IonHe_Lz30_Screen/',\n",
    "#         '/Volumes/LaCie2020/Data_Smilei/2020/RAL/DO3d_Ang15_Waist2_Dist20_Width3_IonHe_Lz30/',\n",
    "#         '/Volumes/LaCie2020/Data_Smilei/2020/RAL/FO3d_Ang15_Waist2_Dist5p5_Width3_IonHe_Lz30/',\n",
    "#         '/Volumes/LaCie/Data_Smilei/2020/RAL/FO3d_Ang15_Waist2_Dist20_Width3_IonHe_Lz30/',\n",
    "#         '/Volumes/LaCie/Data_Smilei/2020/RAL/DO3d_Distn0p63_Ang36_ScreenSphere/',\n",
    "#         '/Volumes/LaCie/Data_Smilei/2020/RAL/SO3d_Ang36_Waist2_Dist5p5_Width3_IonHe_Lz30_Screen_HEB/',\n",
    "#         '/Volumes/LaCie/Data_Smilei/2020/RAL/DO3d_Ang36_Waist2_Dist5p5_Width3_IonHe_Lz30_Screen_HEB/',\n",
    "        '/Volumes/LaCie2020/Data_Smilei/2020/RAL/DO3d_Dist20_ScreenSphere/',\n",
    "#         '/Volumes/LaCie/Data_Smilei/2020/RAL/DO3d_Dist0_Ang36_ScreenSphere/',\n",
    "            '/Volumes/LaCie2020/Data_Smilei/2022/DO3d_Ang15_Waist2_Dist5p5_Width3_IonHe_Lz30_Screen_pre24/',\n",
    "    '/Volumes/LaCie2020/Data_Smilei/2020/RAL/DO3d_Distn5p5_Ang15_TwoSingle_ScreenSphere/',\n",
    "        \n",
    "#         '/Volumes/LaCie/Data_Smilei/2020/RAL/DO3d_Dist20_ScreenSphere/',\n",
    "\n",
    "        ]\n",
    "S0 = happi.Open(wkdir[0], reference_angular_frequency_SI = 2.*np.pi*3e8/1e-6)\n",
    "S1 = happi.Open(wkdir[1], reference_angular_frequency_SI = 2.*np.pi*3e8/1e-6)\n",
    "S2 = happi.Open(wkdir[2], reference_angular_frequency_SI = 2.*np.pi*3e8/1e-6)\n",
    "S3 = happi.Open(wkdir[3], reference_angular_frequency_SI = 2.*np.pi*3e8/1e-6)\n",
    "S4 = happi.Open(wkdir[4], reference_angular_frequency_SI = 2.*np.pi*3e8/1e-6)\n",
    "# S5 = happi.Open(wkdir[5], reference_angular_frequency_SI = 2.*np.pi*3e8/1e-6)\n",
    "# S6 = happi.Open(wkdir[6], reference_angular_frequency_SI = 2.*np.pi*3e8/1e-6)\n",
    "# S7 = happi.Open(wkdir[7], reference_angular_frequency_SI = 2.*np.pi*3e8/1e-6)\n",
    "# S8 = happi.Open(wkdir[8], reference_angular_frequency_SI = 2.*np.pi*3e8/1e-6)\n"
   ]
  },
  {
   "cell_type": "code",
   "execution_count": null,
   "metadata": {},
   "outputs": [],
   "source": []
  },
  {
   "cell_type": "code",
   "execution_count": 53,
   "metadata": {},
   "outputs": [
    {
     "name": "stdout",
     "output_type": "stream",
     "text": [
      "ne = 7.5 nc\n",
      "wpe = 5.11e+15\n",
      "w0 = 1.88e+15\n",
      "de = 0.0587 um\n",
      "dx = 0.059 um\n",
      "dy = 0.059 um\n",
      "dx / de = 1.000\n",
      "dy / de = 1.000\n"
     ]
    }
   ],
   "source": [
    "# check for resolution dx <= de\n",
    "\n",
    "ep = 8.9e-12\n",
    "me = 9.1e-31\n",
    "qe = 1.6e-19\n",
    "c  = 3.0e8\n",
    "nc = 1.1e27\n",
    "\n",
    "lmd = 1.0e-6   # laser wavelength\n",
    "\n",
    "ni = S0.namelist.deni * nc\n",
    "Z0 = 2.0\n",
    "# ne = Z0*ni\n",
    "ne = S0.namelist.dene * nc\n",
    "print('ne = {:.1f} nc'.format(ne/nc))\n",
    "\n",
    "# lambdal = 1.0\n",
    "# I0 = 35.\n",
    "# amp0 = 0.85 * lambdal * np.sqrt(I0)\n",
    "# print('a0 =', amp0)\n",
    "\n",
    "wpe = np.sqrt(ne * qe**2 / ep / me)  # relativistic effect \\gamma \\sim a_0\n",
    "w0  = c/lmd * 2 * pi\n",
    "print('wpe = {:.2e}'.format(wpe))\n",
    "print('w0 = {:.2e}'.format(w0))\n",
    "de  = c / wpe * 1e6\n",
    "print('de = {:.4f} um'.format(de))\n",
    "dx = S0.namelist.Main.cell_length[0]/2./pi\n",
    "dy = S0.namelist.Main.cell_length[1]/2./pi\n",
    "# dx = 1.0/64\n",
    "print('dx = {:.3f} um'.format(dx))\n",
    "print('dy = {:.3f} um'.format(dy))\n",
    "# print(1./24)\n",
    "\n",
    "print('dx / de = {:.3f}'.format(dx/de)) # this should at least be 1, so that the surface current can be reasonably resolved.\n",
    "print('dy / de = {:.3f}'.format(dy/de)) # this should at least be 1, so that the surface current can be reasonably resolved.\n",
    "\n",
    "# dee = (ne/nc)**(-0.5)\n",
    "# print('dee = {:.3f} um'.format(dee))\n"
   ]
  },
  {
   "cell_type": "code",
   "execution_count": null,
   "metadata": {},
   "outputs": [],
   "source": []
  },
  {
   "cell_type": "code",
   "execution_count": null,
   "metadata": {},
   "outputs": [],
   "source": []
  },
  {
   "cell_type": "code",
   "execution_count": null,
   "metadata": {},
   "outputs": [],
   "source": []
  },
  {
   "cell_type": "code",
   "execution_count": null,
   "metadata": {},
   "outputs": [],
   "source": []
  },
  {
   "cell_type": "code",
   "execution_count": null,
   "metadata": {},
   "outputs": [],
   "source": []
  },
  {
   "cell_type": "code",
   "execution_count": null,
   "metadata": {},
   "outputs": [],
   "source": []
  },
  {
   "cell_type": "code",
   "execution_count": null,
   "metadata": {},
   "outputs": [],
   "source": []
  },
  {
   "cell_type": "code",
   "execution_count": null,
   "metadata": {},
   "outputs": [],
   "source": []
  },
  {
   "cell_type": "code",
   "execution_count": null,
   "metadata": {},
   "outputs": [],
   "source": []
  },
  {
   "cell_type": "code",
   "execution_count": null,
   "metadata": {},
   "outputs": [],
   "source": []
  },
  {
   "cell_type": "code",
   "execution_count": null,
   "metadata": {},
   "outputs": [],
   "source": []
  },
  {
   "cell_type": "code",
   "execution_count": null,
   "metadata": {},
   "outputs": [],
   "source": []
  },
  {
   "cell_type": "code",
   "execution_count": null,
   "metadata": {},
   "outputs": [],
   "source": []
  },
  {
   "cell_type": "code",
   "execution_count": null,
   "metadata": {},
   "outputs": [],
   "source": []
  },
  {
   "cell_type": "code",
   "execution_count": null,
   "metadata": {},
   "outputs": [],
   "source": []
  },
  {
   "cell_type": "code",
   "execution_count": null,
   "metadata": {},
   "outputs": [],
   "source": []
  },
  {
   "cell_type": "code",
   "execution_count": null,
   "metadata": {},
   "outputs": [],
   "source": []
  },
  {
   "cell_type": "code",
   "execution_count": null,
   "metadata": {},
   "outputs": [],
   "source": []
  },
  {
   "cell_type": "code",
   "execution_count": null,
   "metadata": {},
   "outputs": [],
   "source": []
  },
  {
   "cell_type": "code",
   "execution_count": null,
   "metadata": {},
   "outputs": [],
   "source": []
  },
  {
   "cell_type": "code",
   "execution_count": null,
   "metadata": {},
   "outputs": [],
   "source": []
  },
  {
   "cell_type": "code",
   "execution_count": null,
   "metadata": {},
   "outputs": [],
   "source": []
  },
  {
   "cell_type": "code",
   "execution_count": null,
   "metadata": {},
   "outputs": [],
   "source": []
  },
  {
   "cell_type": "code",
   "execution_count": null,
   "metadata": {},
   "outputs": [],
   "source": []
  },
  {
   "cell_type": "code",
   "execution_count": null,
   "metadata": {},
   "outputs": [],
   "source": []
  },
  {
   "cell_type": "code",
   "execution_count": null,
   "metadata": {},
   "outputs": [],
   "source": []
  },
  {
   "cell_type": "code",
   "execution_count": null,
   "metadata": {},
   "outputs": [],
   "source": []
  },
  {
   "cell_type": "code",
   "execution_count": null,
   "metadata": {},
   "outputs": [],
   "source": []
  },
  {
   "cell_type": "code",
   "execution_count": null,
   "metadata": {},
   "outputs": [],
   "source": []
  },
  {
   "cell_type": "code",
   "execution_count": null,
   "metadata": {},
   "outputs": [],
   "source": []
  },
  {
   "cell_type": "code",
   "execution_count": null,
   "metadata": {},
   "outputs": [],
   "source": []
  },
  {
   "cell_type": "code",
   "execution_count": null,
   "metadata": {},
   "outputs": [],
   "source": []
  },
  {
   "cell_type": "code",
   "execution_count": null,
   "metadata": {},
   "outputs": [],
   "source": []
  },
  {
   "cell_type": "code",
   "execution_count": null,
   "metadata": {},
   "outputs": [],
   "source": []
  },
  {
   "cell_type": "code",
   "execution_count": null,
   "metadata": {},
   "outputs": [],
   "source": []
  },
  {
   "cell_type": "code",
   "execution_count": null,
   "metadata": {},
   "outputs": [],
   "source": []
  },
  {
   "cell_type": "code",
   "execution_count": null,
   "metadata": {},
   "outputs": [],
   "source": []
  },
  {
   "cell_type": "code",
   "execution_count": null,
   "metadata": {},
   "outputs": [],
   "source": []
  },
  {
   "cell_type": "code",
   "execution_count": null,
   "metadata": {},
   "outputs": [],
   "source": []
  },
  {
   "cell_type": "code",
   "execution_count": null,
   "metadata": {},
   "outputs": [],
   "source": []
  },
  {
   "cell_type": "code",
   "execution_count": null,
   "metadata": {},
   "outputs": [],
   "source": []
  },
  {
   "cell_type": "code",
   "execution_count": null,
   "metadata": {},
   "outputs": [],
   "source": []
  },
  {
   "cell_type": "code",
   "execution_count": null,
   "metadata": {},
   "outputs": [],
   "source": []
  },
  {
   "cell_type": "code",
   "execution_count": null,
   "metadata": {},
   "outputs": [],
   "source": []
  },
  {
   "cell_type": "code",
   "execution_count": null,
   "metadata": {},
   "outputs": [],
   "source": []
  },
  {
   "cell_type": "code",
   "execution_count": null,
   "metadata": {},
   "outputs": [],
   "source": []
  },
  {
   "cell_type": "code",
   "execution_count": null,
   "metadata": {},
   "outputs": [],
   "source": []
  },
  {
   "cell_type": "code",
   "execution_count": null,
   "metadata": {},
   "outputs": [],
   "source": []
  },
  {
   "cell_type": "code",
   "execution_count": null,
   "metadata": {},
   "outputs": [],
   "source": []
  },
  {
   "cell_type": "code",
   "execution_count": null,
   "metadata": {},
   "outputs": [],
   "source": []
  },
  {
   "cell_type": "code",
   "execution_count": null,
   "metadata": {},
   "outputs": [],
   "source": []
  },
  {
   "cell_type": "code",
   "execution_count": null,
   "metadata": {},
   "outputs": [],
   "source": []
  },
  {
   "cell_type": "code",
   "execution_count": null,
   "metadata": {},
   "outputs": [],
   "source": []
  },
  {
   "cell_type": "code",
   "execution_count": null,
   "metadata": {},
   "outputs": [],
   "source": []
  },
  {
   "cell_type": "code",
   "execution_count": null,
   "metadata": {},
   "outputs": [],
   "source": []
  },
  {
   "cell_type": "code",
   "execution_count": null,
   "metadata": {},
   "outputs": [],
   "source": []
  },
  {
   "cell_type": "code",
   "execution_count": null,
   "metadata": {},
   "outputs": [],
   "source": []
  },
  {
   "cell_type": "code",
   "execution_count": null,
   "metadata": {},
   "outputs": [],
   "source": []
  },
  {
   "cell_type": "code",
   "execution_count": null,
   "metadata": {},
   "outputs": [],
   "source": []
  },
  {
   "cell_type": "code",
   "execution_count": null,
   "metadata": {},
   "outputs": [],
   "source": []
  },
  {
   "cell_type": "code",
   "execution_count": null,
   "metadata": {},
   "outputs": [],
   "source": []
  },
  {
   "cell_type": "code",
   "execution_count": null,
   "metadata": {},
   "outputs": [],
   "source": []
  },
  {
   "cell_type": "code",
   "execution_count": null,
   "metadata": {},
   "outputs": [],
   "source": []
  },
  {
   "cell_type": "code",
   "execution_count": null,
   "metadata": {},
   "outputs": [],
   "source": []
  },
  {
   "cell_type": "code",
   "execution_count": null,
   "metadata": {},
   "outputs": [],
   "source": []
  },
  {
   "cell_type": "code",
   "execution_count": null,
   "metadata": {},
   "outputs": [],
   "source": []
  },
  {
   "cell_type": "code",
   "execution_count": null,
   "metadata": {},
   "outputs": [],
   "source": []
  },
  {
   "cell_type": "code",
   "execution_count": null,
   "metadata": {},
   "outputs": [],
   "source": []
  },
  {
   "cell_type": "code",
   "execution_count": null,
   "metadata": {},
   "outputs": [],
   "source": []
  },
  {
   "cell_type": "code",
   "execution_count": null,
   "metadata": {},
   "outputs": [],
   "source": []
  },
  {
   "cell_type": "code",
   "execution_count": null,
   "metadata": {},
   "outputs": [],
   "source": []
  },
  {
   "cell_type": "code",
   "execution_count": null,
   "metadata": {},
   "outputs": [],
   "source": []
  },
  {
   "cell_type": "code",
   "execution_count": null,
   "metadata": {},
   "outputs": [],
   "source": []
  },
  {
   "cell_type": "code",
   "execution_count": null,
   "metadata": {},
   "outputs": [],
   "source": []
  },
  {
   "cell_type": "code",
   "execution_count": null,
   "metadata": {},
   "outputs": [],
   "source": []
  },
  {
   "cell_type": "code",
   "execution_count": null,
   "metadata": {},
   "outputs": [],
   "source": []
  },
  {
   "cell_type": "code",
   "execution_count": null,
   "metadata": {},
   "outputs": [],
   "source": []
  },
  {
   "cell_type": "code",
   "execution_count": null,
   "metadata": {},
   "outputs": [],
   "source": []
  },
  {
   "cell_type": "code",
   "execution_count": null,
   "metadata": {},
   "outputs": [],
   "source": []
  },
  {
   "cell_type": "code",
   "execution_count": null,
   "metadata": {},
   "outputs": [],
   "source": []
  },
  {
   "cell_type": "code",
   "execution_count": null,
   "metadata": {},
   "outputs": [],
   "source": []
  },
  {
   "cell_type": "code",
   "execution_count": null,
   "metadata": {},
   "outputs": [],
   "source": []
  },
  {
   "cell_type": "code",
   "execution_count": null,
   "metadata": {},
   "outputs": [],
   "source": []
  },
  {
   "cell_type": "code",
   "execution_count": null,
   "metadata": {},
   "outputs": [],
   "source": []
  },
  {
   "cell_type": "code",
   "execution_count": null,
   "metadata": {},
   "outputs": [],
   "source": []
  },
  {
   "cell_type": "code",
   "execution_count": null,
   "metadata": {},
   "outputs": [],
   "source": []
  },
  {
   "cell_type": "code",
   "execution_count": null,
   "metadata": {},
   "outputs": [],
   "source": []
  },
  {
   "cell_type": "code",
   "execution_count": null,
   "metadata": {},
   "outputs": [],
   "source": []
  },
  {
   "cell_type": "code",
   "execution_count": null,
   "metadata": {},
   "outputs": [],
   "source": []
  },
  {
   "cell_type": "code",
   "execution_count": null,
   "metadata": {},
   "outputs": [],
   "source": []
  },
  {
   "cell_type": "code",
   "execution_count": null,
   "metadata": {},
   "outputs": [],
   "source": []
  },
  {
   "cell_type": "code",
   "execution_count": null,
   "metadata": {},
   "outputs": [],
   "source": []
  },
  {
   "cell_type": "code",
   "execution_count": null,
   "metadata": {},
   "outputs": [],
   "source": []
  },
  {
   "cell_type": "code",
   "execution_count": null,
   "metadata": {},
   "outputs": [],
   "source": []
  },
  {
   "cell_type": "code",
   "execution_count": null,
   "metadata": {},
   "outputs": [],
   "source": []
  },
  {
   "cell_type": "code",
   "execution_count": null,
   "metadata": {},
   "outputs": [],
   "source": []
  },
  {
   "cell_type": "code",
   "execution_count": null,
   "metadata": {},
   "outputs": [],
   "source": []
  },
  {
   "cell_type": "code",
   "execution_count": null,
   "metadata": {},
   "outputs": [],
   "source": []
  },
  {
   "cell_type": "code",
   "execution_count": null,
   "metadata": {},
   "outputs": [],
   "source": []
  },
  {
   "cell_type": "code",
   "execution_count": null,
   "metadata": {},
   "outputs": [],
   "source": []
  },
  {
   "cell_type": "code",
   "execution_count": null,
   "metadata": {},
   "outputs": [],
   "source": []
  },
  {
   "cell_type": "code",
   "execution_count": null,
   "metadata": {},
   "outputs": [],
   "source": []
  },
  {
   "cell_type": "code",
   "execution_count": 8,
   "metadata": {},
   "outputs": [],
   "source": [
    "# IP along the laser axis:\n",
    "## RAW data from Julien.\n",
    "\n",
    "ips   = np.array([1, 2, 3, 4, 5])\n",
    "\n",
    "case0 = np.array([1, 0.679439449400631, 0.448752808229499, 0.303145430458318, 0.168143829321444 ])\n",
    "err0  = np.array([0, 0.120476137982459, 0.110123403568811, 0.104658345063295, 0.0339581150274794])\n",
    "\n",
    "case1 = np.array([1, 0.637016107159718,  0.417507385586861,  0.269685852853091,  0.131690496958403 ])\n",
    "err1  = np.array([0, 0.0563170186963797, 0.0639180717261328, 0.0686966815066784, 0.0429522783341202])\n",
    "\n",
    "case2 = np.array([1, 0.730183061309843,  0.460908653780042, 0.33307742987439, 0.175076884222154 ])\n",
    "err2  = np.array([0, 0.0896853005352096, 0.137744841646173, 0.11642698895526, 0.0635286344420021])"
   ]
  },
  {
   "cell_type": "code",
   "execution_count": 9,
   "metadata": {},
   "outputs": [],
   "source": [
    "# IP along the laser normal:\n",
    "## RAW data from Julien.\n",
    "\n",
    "case0n = np.array([1, 0.117964973273847,  0.0836081782139392, 0.0403293764141002, 0.0353635650628234 ])\n",
    "err0n  = np.array([0, 0.0124360634992001, 0.0122305389749934, 0.0076343516603618, 0.00320306648278395])\n",
    "\n",
    "case1n = np.array([1, 0.222716867181705,  0.163799647395826,  0.0777990490456396,  0.0682549938690638 ])\n",
    "err1n  = np.array([0, 0.0112209596987097, 0.0118950946742179, 0.00971452511713796, 0.00727870753667924])\n",
    "\n",
    "case2n = np.array([1, 0.632793917168324,  0.562449094852821, 0.379068118018584, 0.267766162335159 ])\n",
    "err2n  = np.array([0, 0.127510792448097,  0.143594483535056, 0.0996187552424526, 0.0667478365312559])"
   ]
  },
  {
   "cell_type": "code",
   "execution_count": 2,
   "metadata": {},
   "outputs": [],
   "source": [
    "### Useful function that decorate the figure with lots of lines...\n",
    "\n",
    "def label_line(ax, line, label, color='0.5', fs=14, halign='left'):\n",
    "    \"\"\"Add an annotation to the given line with appropriate placement and rotation.\n",
    "    Based on code from:\n",
    "        [How to rotate matplotlib annotation to match a line?]\n",
    "        (http://stackoverflow.com/a/18800233/230468)\n",
    "        User: [Adam](http://stackoverflow.com/users/321772/adam)\n",
    "    Arguments\n",
    "    ---------\n",
    "    ax : `matplotlib.axes.Axes` object\n",
    "        Axes on which the label should be added.\n",
    "    line : `matplotlib.lines.Line2D` object\n",
    "        Line which is being labeled.\n",
    "    label : str\n",
    "        Text which should be drawn as the label.\n",
    "    ...\n",
    "    Returns\n",
    "    -------\n",
    "    text : `matplotlib.text.Text` object\n",
    "    \"\"\"\n",
    "    xdata, ydata = line.get_data()\n",
    "    x1 = xdata[0]\n",
    "    x2 = xdata[-1]\n",
    "    y1 = ydata[0]\n",
    "    y2 = ydata[-1]\n",
    "\n",
    "    if halign.startswith('l'):\n",
    "        xx = x1\n",
    "        halign = 'left'\n",
    "    elif halign.startswith('r'):\n",
    "        xx = x2\n",
    "        halign = 'right'\n",
    "    elif halign.startswith('c'):\n",
    "        xx = 0.5*(x1 + x2)\n",
    "        halign = 'center'\n",
    "    else:\n",
    "        raise ValueError(\"Unrecogznied `halign` = '{}'.\".format(halign))\n",
    "\n",
    "    yy = np.interp(xx, xdata, ydata)\n",
    "\n",
    "    ylim = ax.get_ylim()\n",
    "    # xytext = (10, 10)\n",
    "    xytext = (0, 0)\n",
    "    text = ax.annotate(label, xy=(xx, yy), xytext=xytext, textcoords='offset points',\n",
    "                       size=fs, color=color, zorder=1,\n",
    "                       horizontalalignment=halign, verticalalignment='center_baseline')\n",
    "\n",
    "    sp1 = ax.transData.transform_point((x1, y1))\n",
    "    sp2 = ax.transData.transform_point((x2, y2))\n",
    "\n",
    "    rise = (sp2[1] - sp1[1])\n",
    "    run = (sp2[0] - sp1[0])\n",
    "\n",
    "    slope_degrees = np.degrees(np.arctan2(rise, run))\n",
    "    text.set_rotation_mode('anchor')\n",
    "    text.set_rotation(slope_degrees)\n",
    "    ax.set_ylim(ylim)\n",
    "    return text"
   ]
  },
  {
   "cell_type": "code",
   "execution_count": 14,
   "metadata": {},
   "outputs": [],
   "source": [
    "plt.rc('text', usetex=False)\n",
    "mpl.rcParams['font.family'] = 'Arial'\n",
    "mpl.rcParams['axes.labelsize'] = 18\n",
    "mpl.rcParams['legend.fontsize'] = 16#20\n",
    "# mpl.rcParams['legend.fontname'] = 'Comic Sans MS'\n",
    "mpl.rcParams['xtick.labelsize'] = 16\n",
    "mpl.rcParams['ytick.labelsize'] = 16\n",
    "mpl.rcParams['lines.linewidth'] = 1.2\n",
    "\n",
    "width  = 3.14 # single column, 8cm\n",
    "height = width\n",
    "fig, ax = plt.subplots()\n",
    "\n",
    "plt.ticklabel_format(axis='both', style='sci',useMathText=True)\n",
    "\n",
    "fig.subplots_adjust(left=.2, bottom=.2, right=.9, top=.9)\n",
    "\n",
    "# ax.set_xscale('log')\n",
    "ax.set_yscale('log')\n",
    "\n",
    "ax.errorbar(ips, case0, yerr=err0,\n",
    "            marker='v',mfc='b',fillstyle='none',\n",
    "            fmt='vb',\n",
    "            markersize=4,\n",
    "#             ecolor='b',\n",
    "            elinewidth=1.0,\n",
    "            capsize=2.0, capthick = 1.0,   \n",
    "#             marker = 'v',\n",
    "#             fillstyle='none',\n",
    "            label='Case 0',\n",
    "           )\n",
    "\n",
    "ax.errorbar(ips, case1, yerr=err1,\n",
    "            marker='o',mfc='g',fillstyle='none',\n",
    "            fmt='og',markersize=4,\n",
    "#             ecolor='g',\n",
    "            elinewidth=1.0,\n",
    "            capsize=2.0, capthick = 1.0,  \n",
    "#             marker = '^',\n",
    "            label='Case 1',\n",
    "           )\n",
    "\n",
    "ax.errorbar(ips, case2, yerr=err2,\n",
    "            marker='s',mfc='r',fillstyle='none',\n",
    "            fmt='sr',markersize=4,\n",
    "#             ecolor='r',\n",
    "            elinewidth=1.0,\n",
    "            capsize=2.0, capthick = 1.0,\n",
    "#             marker = 's',\n",
    "            label='Case 2',\n",
    "           )\n",
    "\n",
    "line4,      = ax.plot(ips, Temp_4mev/Temp_4mev[0],       linestyle = ':', linewidth=1.0)\n",
    "label_line(ax, line4,      \"4.00\",        color=line4.get_color(),    fs=8, halign='right')\n",
    "line3,      = ax.plot(ips, Temp_3mev/Temp_3mev[0],       linestyle = ':', linewidth=1.0)\n",
    "label_line(ax, line3,      \"3.00\",        color=line3.get_color(),    fs=8, halign='right')\n",
    "line2,      = ax.plot(ips, Temp_2mev/Temp_2mev[0],       linestyle = ':', linewidth=1.0)\n",
    "label_line(ax, line2,      \"2.00\",        color=line4.get_color(),    fs=8, halign='right')\n",
    "line1,      = ax.plot(ips, Temp_1mev/Temp_1mev[0],       linestyle = ':', linewidth=1.0)\n",
    "label_line(ax, line1,      \"1.00\",        color=line1.get_color(),    fs=8, halign='center')\n",
    "linep5,     = ax.plot(ips, Temp_p5mev/Temp_p5mev[0],       linestyle = ':', linewidth=1.0)\n",
    "label_line(ax, linep5,      \"0.50\",        color=linep5.get_color(),    fs=8, halign='center')\n",
    "\n",
    "noise = 0.05*np.ones(5)\n",
    "line_noise, = ax.plot(ips, noise,                         linestyle = ':', linewidth=0.5)\n",
    "label_line(ax, line_noise, \"noise level\", color=line_noise.get_color(),    fs=8, halign='left')\n",
    "\n",
    "\n",
    "# ax.plot(ekin0, num0, '-c',  label='time = {:.1f} ns'.format(t_end0*1e9), lw=1.0)\n",
    "# ax.plot(ekin1, num1, '-m',  label='time = {:.1f} ns'.format(t_end1*1e9), lw=1.0)\n",
    "\n",
    "ax.tick_params(axis='both',which='major', direction='out',labelsize=8)\n",
    "ax.minorticks_off()\n",
    "\n",
    "# ax.set_xlabel(r'IP #',fontsize=10)\n",
    "ax.set_ylabel(r'Normalized Elec. Num.',fontsize=10)\n",
    "\n",
    "ax.set_xlim([0.8,5.2])\n",
    "ax.set_xticks(ticks = [1, 2, 3, 4, 5])\n",
    "ax.set_xticklabels(['IP1', 'IP2', 'IP3', 'IP4', 'IP5'],fontsize=10)\n",
    "\n",
    "# ax.set_xlim([1, 5])\n",
    "# formatter = ScalarFormatter()\n",
    "# formatter.set_scientific(False)\n",
    "# ax.xaxis.set_major_formatter(formatter)\n",
    "# ax.set_xticks([0.02, 0.05, 0.08])\n",
    "# ax.set_xticklabels([0.01, 0.05, 0.10],fontsize=8)\n",
    "\n",
    "\n",
    "ax.set_ylim([0.01, 1])\n",
    "# ax.set_yticks([1, 0.01, 0.0001])\n",
    "# ax.set_yticklabels([1, 0.01, 1],fontsize=8)\n",
    "\n",
    "# ax.ticklabel_format(axis='both', style='sci',useMathText=True)\n",
    "ax.set_title('IPs along laser axis')\n",
    "\n",
    "# ax.yaxis.set_major_formatter(plt.FormatStrFormatter(useMathText))\n",
    "\n",
    "leg = ax.legend(loc='best', numpoints=1, fancybox=False, fontsize=10, frameon=False)\n",
    "leg._legend_box.align = \"right\"\n",
    "# ax.grid(which='both')\n",
    "fig.set_size_inches(width, height)\n",
    "fig.savefig('/Users/yz/Desktop/'+'IP_laser_axis_logy'+'.pdf',bbox_inches='tight',dpi=600)"
   ]
  },
  {
   "cell_type": "code",
   "execution_count": 20,
   "metadata": {},
   "outputs": [],
   "source": [
    "## laser along the target normal\n",
    "\n",
    "plt.rc('text', usetex=False)\n",
    "mpl.rcParams['font.family'] = 'Arial'\n",
    "mpl.rcParams['axes.labelsize'] = 18\n",
    "mpl.rcParams['legend.fontsize'] = 16#20\n",
    "# mpl.rcParams['legend.fontname'] = 'Comic Sans MS'\n",
    "mpl.rcParams['xtick.labelsize'] = 16\n",
    "mpl.rcParams['ytick.labelsize'] = 16\n",
    "mpl.rcParams['lines.linewidth'] = 1.2\n",
    "\n",
    "width  = 3.14 # single column, 8cm\n",
    "height = width\n",
    "fig, ax = plt.subplots()\n",
    "\n",
    "plt.ticklabel_format(axis='both', style='sci',useMathText=True)\n",
    "\n",
    "fig.subplots_adjust(left=.2, bottom=.2, right=.9, top=.9)\n",
    "\n",
    "# ax.set_xscale('log')\n",
    "ax.set_yscale('log')\n",
    "\n",
    "ax.errorbar(ips, case0n, yerr=err0n,\n",
    "            marker='v',mfc='b',fillstyle='none',\n",
    "            fmt='vb',\n",
    "            markersize=4,\n",
    "#             ecolor='b',\n",
    "            elinewidth=1.0,\n",
    "            capsize=2.0, capthick = 1.0,   \n",
    "#             marker = 'v',\n",
    "#             fillstyle='none',\n",
    "            label='Case 0',\n",
    "           )\n",
    "\n",
    "ax.errorbar(ips, case1n, yerr=err1n,\n",
    "            marker='o',mfc='g',fillstyle='none',\n",
    "            fmt='og',markersize=4,\n",
    "#             ecolor='g',\n",
    "            elinewidth=1.0,\n",
    "            capsize=2.0, capthick = 1.0,  \n",
    "#             marker = '^',\n",
    "            label='Case 1',\n",
    "           )\n",
    "\n",
    "ax.errorbar(ips, case2n, yerr=err2n,\n",
    "            marker='s',mfc='r',fillstyle='none',\n",
    "            fmt='sr',markersize=4,\n",
    "#             ecolor='r',\n",
    "            elinewidth=1.0,\n",
    "            capsize=2.0, capthick = 1.0,\n",
    "#             marker = 's',\n",
    "            label='Case 2',\n",
    "           )\n",
    "\n",
    "line4,      = ax.plot(ips, Temp_4mev/Temp_4mev[0],       linestyle = ':', linewidth=1.0)\n",
    "label_line(ax, line4,      \"4.00\",        color=line4.get_color(),    fs=8, halign='right')\n",
    "line3,      = ax.plot(ips, Temp_3mev/Temp_3mev[0],       linestyle = ':', linewidth=1.0)\n",
    "label_line(ax, line3,      \"3.00\",        color=line3.get_color(),    fs=8, halign='right')\n",
    "line2,      = ax.plot(ips, Temp_2mev/Temp_2mev[0],       linestyle = ':', linewidth=1.0)\n",
    "label_line(ax, line2,      \"2.00\",        color=line2.get_color(),    fs=8, halign='right')\n",
    "line1,      = ax.plot(ips, Temp_1mev/Temp_1mev[0],       linestyle = ':', linewidth=1.0)\n",
    "label_line(ax, line1,      \"1.00\",        color=line1.get_color(),    fs=8, halign='center')\n",
    "linep5,     = ax.plot(ips, Temp_p5mev/Temp_p5mev[0],       linestyle = ':', linewidth=1.0)\n",
    "label_line(ax, linep5,      \"0.50\",       color=linep5.get_color(),   fs=8, halign='center')\n",
    "line1p5,    = ax.plot(ips, Temp_1p5mev/Temp_1p5mev[0],       linestyle = ':', linewidth=1.0)\n",
    "label_line(ax, line1p5,      \"1.50\",      color=line1p5.get_color(),  fs=8, halign='center')\n",
    "\n",
    "noise = 0.03*np.ones(5)\n",
    "line_noise, = ax.plot(ips, noise,                         linestyle = ':', linewidth=0.5)\n",
    "label_line(ax, line_noise, \"noise level\", color=line_noise.get_color(),    fs=8, halign='left')\n",
    "\n",
    "\n",
    "# ax.plot(ekin0, num0, '-c',  label='time = {:.1f} ns'.format(t_end0*1e9), lw=1.0)\n",
    "# ax.plot(ekin1, num1, '-m',  label='time = {:.1f} ns'.format(t_end1*1e9), lw=1.0)\n",
    "\n",
    "ax.tick_params(axis='both',which='major', direction='out',labelsize=8)\n",
    "ax.minorticks_off()\n",
    "\n",
    "# ax.set_xlabel(r'IP #',fontsize=10)\n",
    "ax.set_ylabel(r'Normalized Elec. Num.',fontsize=10)\n",
    "\n",
    "ax.set_xlim([0.8,5.2])\n",
    "ax.set_xticks(ticks = [1, 2, 3, 4, 5])\n",
    "ax.set_xticklabels(['IP1', 'IP2', 'IP3', 'IP4', 'IP5'],fontsize=10)\n",
    "\n",
    "# ax.set_xlim([1, 5])\n",
    "# formatter = ScalarFormatter()\n",
    "# formatter.set_scientific(False)\n",
    "# ax.xaxis.set_major_formatter(formatter)\n",
    "# ax.set_xticks([0.02, 0.05, 0.08])\n",
    "# ax.set_xticklabels([0.01, 0.05, 0.10],fontsize=8)\n",
    "\n",
    "\n",
    "ax.set_ylim([0.01, 1])\n",
    "# ax.set_yticks([1, 0.01, 0.0001])\n",
    "# ax.set_yticklabels([1, 0.01, 1],fontsize=8)\n",
    "\n",
    "# ax.ticklabel_format(axis='both', style='sci',useMathText=True)\n",
    "ax.set_title('IPs along target normal')\n",
    "\n",
    "# ax.yaxis.set_major_formatter(plt.FormatStrFormatter(useMathText))\n",
    "\n",
    "leg = ax.legend(loc='best', numpoints=1, fancybox=False, fontsize=10, frameon=False)\n",
    "leg._legend_box.align = \"right\"\n",
    "# ax.grid(which='both')\n",
    "fig.set_size_inches(width, height)\n",
    "fig.savefig('/Users/yz/Desktop/'+'IP_target_normal_logy2'+'.pdf',bbox_inches='tight',dpi=600)"
   ]
  },
  {
   "cell_type": "code",
   "execution_count": 15,
   "metadata": {},
   "outputs": [],
   "source": [
    "## read the FLUKA simulation results\n",
    "## -- Note that how to run these simulations and analysis the results, I forget about them completely.\n",
    "## -- so it is very very important to have some sort of summaries now and then.\n",
    "\n",
    "Temp_4mev = np.loadtxt('/Users/yz/Nextcloud/PROJECTS/RAL_2020/ExpDataAnalysis/Fluence_4MeV.txt')\n",
    "Temp_3mev = np.loadtxt('/Users/yz/Nextcloud/PROJECTS/RAL_2020/ExpDataAnalysis/Fluence_3MeV.txt')\n",
    "Temp_2mev = np.loadtxt('/Users/yz/Nextcloud/PROJECTS/RAL_2020/ExpDataAnalysis/Fluence_2MeV.txt')\n",
    "Temp_1p5mev = np.loadtxt('/Users/yz/Nextcloud/PROJECTS/RAL_2020/ExpDataAnalysis/Fluence_1p5MeV.txt')\n",
    "Temp_1mev = np.loadtxt('/Users/yz/Nextcloud/PROJECTS/RAL_2020/ExpDataAnalysis/Fluence_1MeV.txt')\n",
    "Temp_p5mev = np.loadtxt('/Users/yz/Nextcloud/PROJECTS/RAL_2020/ExpDataAnalysis/Fluence_0p5MeV.txt')"
   ]
  },
  {
   "cell_type": "code",
   "execution_count": 47,
   "metadata": {},
   "outputs": [],
   "source": [
    "noise = 0.05*np.ones(5)"
   ]
  },
  {
   "cell_type": "code",
   "execution_count": 48,
   "metadata": {},
   "outputs": [
    {
     "data": {
      "text/plain": [
       "array([0.05, 0.05, 0.05, 0.05, 0.05])"
      ]
     },
     "execution_count": 48,
     "metadata": {},
     "output_type": "execute_result"
    }
   ],
   "source": [
    "noise"
   ]
  },
  {
   "cell_type": "code",
   "execution_count": null,
   "metadata": {},
   "outputs": [],
   "source": [
    "def func(x,A,kT):\n",
    "    return np.exp(-x/kT)*A\n",
    "\n",
    "index = (esx4 < 20.0)*(esx0 > 5.0)\n",
    "x2 = esx4[index]\n",
    "y2 = func(x2,0.02,2.3)"
   ]
  },
  {
   "cell_type": "code",
   "execution_count": null,
   "metadata": {},
   "outputs": [],
   "source": []
  },
  {
   "cell_type": "code",
   "execution_count": null,
   "metadata": {},
   "outputs": [],
   "source": []
  },
  {
   "cell_type": "code",
   "execution_count": null,
   "metadata": {},
   "outputs": [],
   "source": []
  },
  {
   "cell_type": "code",
   "execution_count": null,
   "metadata": {},
   "outputs": [],
   "source": []
  },
  {
   "cell_type": "code",
   "execution_count": null,
   "metadata": {},
   "outputs": [],
   "source": []
  },
  {
   "cell_type": "code",
   "execution_count": 54,
   "metadata": {},
   "outputs": [],
   "source": [
    "## Define the function to get the data\n",
    "\n",
    "from lmfit import Model, Parameters, report_fit\n",
    "from scipy.special import kn    # modified Bessel function of the second kind\n",
    "\n",
    "def postScreen(case,num,time,direction):\n",
    "    '''\n",
    "    INPUTS:\n",
    "    case: which simulation do you want to process\n",
    "    num:  which one of the screen diag. do you want to use\n",
    "    time: what time of the data do you want to get\n",
    "    OUTPUTS:\n",
    "    Data: the final data you get to plot the spectrum\n",
    "    '''\n",
    "    obj = case.Screen(num,units=['um','fs','MeV'])\n",
    "    rawData = obj.getData()[time]\n",
    "    sumData = np.sum(rawData,axis=2)\n",
    "    if direction == 'normal':\n",
    "        Data = np.sum(sumData[:,37:54],axis=1)  # for 15 degree\n",
    "#         Data = np.sum(sumData[:,27:64],axis=1)  # for 36 degree\n",
    "    elif direction == 'laser':\n",
    "#         Data = np.sum(sumData[:,:37],axis=1) + np.sum(sumData[:,54:],axis=1)  # for 15 degree\n",
    "        Data = np.sum(sumData[:,54:],axis=1)  # for 15 degree\n",
    "#         Data = np.sum(sumData[:,:27],axis=1) + np.sum(sumData[:,64:],axis=1)\n",
    "    else:\n",
    "        print('\"direction\" should be either \"nomral\" or \"laser\"')\n",
    "    return Data"
   ]
  },
  {
   "cell_type": "code",
   "execution_count": 71,
   "metadata": {},
   "outputs": [],
   "source": [
    "## get the data out of the screen diagnostics -- 15 degree case\n",
    "\n",
    "ekin    = S0.Screen(0,units=['um','fs','MeV']).getAxis('ekin')\n",
    "\n",
    "es0_18_laser_15    = postScreen(S0,3,10,'laser')   # single beam case\n",
    "# es0_18_normal_15   = postScreen(S0,3,10,'normal')\n",
    "\n",
    "es2_18_normal_15   = postScreen(S2,3,10,'normal')  # double beam without overlap\n",
    "\n",
    "es1_18_normal_15   = postScreen(S1,3,10,'normal')  # double beam with overlap\n",
    "\n",
    "es3_18_normal_15   = postScreen(S3,6,5,'normal') # double beam with overlap, for 24 um\n",
    "es3_18_normal_m1   = postScreen(S3,6,-1,'normal') # double beam with overlap, for 24 um\n"
   ]
  },
  {
   "cell_type": "code",
   "execution_count": 84,
   "metadata": {},
   "outputs": [],
   "source": [
    "plt.rc('text', usetex=False)\n",
    "mpl.rcParams['font.family'] = 'Arial'\n",
    "mpl.rcParams['axes.labelsize'] = 12\n",
    "mpl.rcParams['legend.fontsize'] = 16\n",
    "mpl.rcParams['xtick.labelsize'] = 12\n",
    "mpl.rcParams['ytick.labelsize'] = 12\n",
    "mpl.rcParams['lines.linewidth'] = 2\n",
    "\n",
    "width  = 3.14*1.5  # single column, 8cm\n",
    "height = width\n",
    "\n",
    "fig, ax = plt.subplots()\n",
    "fig.subplots_adjust(left=.2, bottom=.2, right=.9, top=.9)\n",
    "\n",
    "ax.semilogy(ekin, es0_18_laser_15/es0_18_laser_15.max(), '-b', label='Case 0')\n",
    "ax.semilogy(ekin, es2_18_normal_15/es2_18_normal_15.max(), '-g', label='Case 1')\n",
    "ax.semilogy(ekin, es1_18_normal_15/es1_18_normal_15.max(), '-r', label='Case 2')\n",
    "ax.semilogy(ekin, es3_18_normal_15/es3_18_normal_15.max()*3.1, '--k', label='Case 2 with double pre-plasma at the same time')\n",
    "ax.semilogy(ekin, es3_18_normal_m1/es3_18_normal_m1.max()*1.7, '-k', label='Case 2 with double pre-plasma at 1 ps')\n",
    "\n",
    "\n",
    "\n",
    "ax.set_xlim(1.0, 30.0)\n",
    "ax.set_ylim(1e-4, 1)\n",
    "leg = ax.legend(loc='best', numpoints=1, fancybox=False, fontsize=8, frameon=False)\n",
    "leg._legend_box.align = \"right\"\n",
    "ax.set_xlabel(r'$E_k$ (MeV)',fontsize=12)\n",
    "ax.set_ylabel('dN/dE (No./MeV)',fontsize=12)\n",
    "ax.tick_params(axis='both',which='both', direction='out',labelsize=12)\n",
    "# ax.grid(linestyle='--')\n",
    "\n",
    "# ax.minorticks_off()\n",
    "fig.set_size_inches(width, height)\n",
    "\n",
    "fig.savefig('/Users/yz/Desktop/'+'EneSpec_Screen18_2temp_pre24_330fs'+'.pdf',bbox_inches='tight',dpi=600)\n",
    "# plt.show()"
   ]
  },
  {
   "cell_type": "code",
   "execution_count": 81,
   "metadata": {},
   "outputs": [],
   "source": [
    "# at > 500 fs, after the MR process:\n",
    "\n",
    "es0_18_laser_16    = postScreen(S0,3,16,'laser')   # single beam case\n",
    "es2_18_normal_16   = postScreen(S2,3,16,'normal')  # double beam without overlap\n",
    "es1_18_normal_16   = postScreen(S1,3,16,'normal')  # double beam with overlap\n",
    "es3_18_normal_16   = postScreen(S3,6,8,'normal') # double beam with overlap, for 24 um\n",
    "# es3_18_normal_m1   = postScreen(S3,6,-1,'normal') # double beam with overlap, for 24 um"
   ]
  },
  {
   "cell_type": "code",
   "execution_count": 83,
   "metadata": {},
   "outputs": [],
   "source": [
    "plt.rc('text', usetex=False)\n",
    "mpl.rcParams['font.family'] = 'Arial'\n",
    "mpl.rcParams['axes.labelsize'] = 12\n",
    "mpl.rcParams['legend.fontsize'] = 16\n",
    "mpl.rcParams['xtick.labelsize'] = 12\n",
    "mpl.rcParams['ytick.labelsize'] = 12\n",
    "mpl.rcParams['lines.linewidth'] = 2\n",
    "\n",
    "width  = 3.14*1.5  # single column, 8cm\n",
    "height = width\n",
    "\n",
    "fig, ax = plt.subplots()\n",
    "fig.subplots_adjust(left=.2, bottom=.2, right=.9, top=.9)\n",
    "\n",
    "ax.semilogy(ekin, es0_18_laser_16/es0_18_laser_16.max(), '-b', label='Case 0 at ~ 500 fs')\n",
    "ax.semilogy(ekin, es2_18_normal_16/es2_18_normal_16.max(), '-g', label='Case 1')\n",
    "ax.semilogy(ekin, es1_18_normal_16/es1_18_normal_16.max(), '-r', label='Case 2')\n",
    "ax.semilogy(ekin, es3_18_normal_16/es3_18_normal_16.max()*3.1, '--k', label='Case 2 with double pre-plasma at the same time')\n",
    "ax.semilogy(ekin, es3_18_normal_m1/es3_18_normal_m1.max()*1.7, '-k', label='Case 2 with double pre-plasma at 1 ps')\n",
    "\n",
    "\n",
    "\n",
    "ax.set_xlim(1.0, 30.0)\n",
    "ax.set_ylim(1e-4, 1)\n",
    "leg = ax.legend(loc='best', numpoints=1, fancybox=False, fontsize=8, frameon=False)\n",
    "leg._legend_box.align = \"right\"\n",
    "ax.set_xlabel(r'$E_k$ (MeV)',fontsize=12)\n",
    "ax.set_ylabel('dN/dE (No./MeV)',fontsize=12)\n",
    "ax.tick_params(axis='both',which='both', direction='out',labelsize=12)\n",
    "# ax.grid(linestyle='--')\n",
    "\n",
    "# ax.minorticks_off()\n",
    "fig.set_size_inches(width, height)\n",
    "\n",
    "fig.savefig('/Users/yz/Desktop/'+'EneSpec_Screen18_2temp_pre24_500fs'+'.pdf',bbox_inches='tight',dpi=600)\n",
    "# plt.show()"
   ]
  },
  {
   "cell_type": "code",
   "execution_count": 86,
   "metadata": {},
   "outputs": [],
   "source": [
    "# at ~ 1 ps, since it will be time-integrated:\n",
    "\n",
    "es0_18_laser_m1    = postScreen(S0,3,-1,'laser')   # single beam case\n",
    "es2_18_normal_m1   = postScreen(S2,3,-1,'normal')  # double beam without overlap\n",
    "es1_18_normal_m1   = postScreen(S1,3,-1,'normal')  # double beam with overlap\n",
    "# es3_18_normal_16   = postScreen(S3,6,-1,'normal') # double beam with overlap, for 24 um"
   ]
  },
  {
   "cell_type": "code",
   "execution_count": 90,
   "metadata": {},
   "outputs": [],
   "source": [
    "plt.rc('text', usetex=False)\n",
    "mpl.rcParams['font.family'] = 'Arial'\n",
    "mpl.rcParams['axes.labelsize'] = 12\n",
    "mpl.rcParams['legend.fontsize'] = 16\n",
    "mpl.rcParams['xtick.labelsize'] = 12\n",
    "mpl.rcParams['ytick.labelsize'] = 12\n",
    "mpl.rcParams['lines.linewidth'] = 2\n",
    "\n",
    "width  = 3.14*1.5  # single column, 8cm\n",
    "height = width\n",
    "\n",
    "fig, ax = plt.subplots()\n",
    "fig.subplots_adjust(left=.2, bottom=.2, right=.9, top=.9)\n",
    "\n",
    "ax.semilogy(ekin, es0_18_laser_m1/es0_18_laser_m1.max(), '-b', label='Case 0 at ~ 1 ps')\n",
    "ax.semilogy(ekin, es2_18_normal_m1/es2_18_normal_m1.max(), '-g', label='Case 1')\n",
    "ax.semilogy(ekin, es1_18_normal_m1/es1_18_normal_m1.max(), '-r', label='Case 2')\n",
    "# ax.semilogy(ekin, es3_18_normal_16/es3_18_normal_16.max()*3.1, '--k', label='Case 2 with double pre-plasma at the same time')\n",
    "ax.semilogy(ekin, es3_18_normal_m1/es3_18_normal_m1.max()*1.7, '-k', label='Case 2 with double pre-plasma at 1 ps')\n",
    "\n",
    "\n",
    "\n",
    "ax.set_xlim(1.0, 30.0)\n",
    "ax.set_ylim(1e-4, 1)\n",
    "leg = ax.legend(loc='best', numpoints=1, fancybox=False, fontsize=8, frameon=False)\n",
    "leg._legend_box.align = \"right\"\n",
    "ax.set_xlabel(r'$E_k$ (MeV)',fontsize=12)\n",
    "ax.set_ylabel('dN/dE (No./MeV)',fontsize=12)\n",
    "ax.tick_params(axis='both',which='both', direction='out',labelsize=12)\n",
    "# ax.grid(linestyle='--')\n",
    "\n",
    "# ax.minorticks_off()\n",
    "fig.set_size_inches(width, height)\n",
    "\n",
    "fig.savefig('/Users/yz/Desktop/'+'EneSpec_Screen18_2temp_pre24_1ps'+'.pdf',bbox_inches='tight',dpi=600)\n",
    "# plt.show()"
   ]
  },
  {
   "cell_type": "code",
   "execution_count": 91,
   "metadata": {},
   "outputs": [],
   "source": [
    "plt.rc('text', usetex=False)\n",
    "mpl.rcParams['font.family'] = 'Arial'\n",
    "mpl.rcParams['axes.labelsize'] = 12\n",
    "mpl.rcParams['legend.fontsize'] = 16\n",
    "mpl.rcParams['xtick.labelsize'] = 12\n",
    "mpl.rcParams['ytick.labelsize'] = 12\n",
    "mpl.rcParams['lines.linewidth'] = 2\n",
    "\n",
    "width  = 3.14*1.5  # single column, 8cm\n",
    "height = width\n",
    "\n",
    "fig, ax = plt.subplots()\n",
    "fig.subplots_adjust(left=.2, bottom=.2, right=.9, top=.9)\n",
    "\n",
    "ax.loglog(ekin, es0_18_laser_m1/es0_18_laser_m1.max(), '-b', label='Case 0 at ~ 1 ps')\n",
    "ax.loglog(ekin, es2_18_normal_m1/es2_18_normal_m1.max(), '-g', label='Case 1')\n",
    "ax.loglog(ekin, es1_18_normal_m1/es1_18_normal_m1.max(), '-r', label='Case 2')\n",
    "# ax.semilogy(ekin, es3_18_normal_16/es3_18_normal_16.max()*3.1, '--k', label='Case 2 with double pre-plasma at the same time')\n",
    "ax.loglog(ekin, es3_18_normal_m1/es3_18_normal_m1.max()*1.7, '-k', label='Case 2 with double pre-plasma at 1 ps')\n",
    "\n",
    "\n",
    "\n",
    "ax.set_xlim(1.0, 30.0)\n",
    "ax.set_ylim(1e-4, 1)\n",
    "leg = ax.legend(loc='best', numpoints=1, fancybox=False, fontsize=8, frameon=False)\n",
    "leg._legend_box.align = \"right\"\n",
    "ax.set_xlabel(r'$E_k$ (MeV)',fontsize=12)\n",
    "ax.set_ylabel('dN/dE (No./MeV)',fontsize=12)\n",
    "ax.tick_params(axis='both',which='both', direction='out',labelsize=12)\n",
    "# ax.grid(linestyle='--')\n",
    "\n",
    "# ax.minorticks_off()\n",
    "fig.set_size_inches(width, height)\n",
    "\n",
    "fig.savefig('/Users/yz/Desktop/'+'EneSpec_Screen18_2temp_pre24_1ps_loglog'+'.pdf',bbox_inches='tight',dpi=600)\n",
    "# plt.show()"
   ]
  },
  {
   "cell_type": "code",
   "execution_count": null,
   "metadata": {},
   "outputs": [],
   "source": []
  },
  {
   "cell_type": "code",
   "execution_count": null,
   "metadata": {},
   "outputs": [],
   "source": []
  },
  {
   "cell_type": "code",
   "execution_count": 7,
   "metadata": {},
   "outputs": [],
   "source": [
    "## compare pre-plasma length 24 um vs. 12 um:\n",
    "\n",
    "## Functions that get the data out for plotting the MR features and HEB enhancement\n",
    "\n",
    "def Field_Data_Get(case, num, var, Vsym, Side, ts, xl, xr):\n",
    "    '''\n",
    "    INPUT:\n",
    "    case: simulation case, e.g., S0, S1, S2, S3\n",
    "    num:  number of diag., e.g. 0, 1, etc.\n",
    "    var: variables to get, e.g., Ex, Bx, Jx*Ex\n",
    "    Vsym: maximum & minimum value of var\n",
    "    Side: y-axis, 'left' or 'right'\n",
    "    ts: timestep\n",
    "    OUTPUT:\n",
    "    out: name of the output\n",
    "    '''\n",
    "    out = case.Field(num, var,\n",
    "                     timesteps = ts,\n",
    "                     units=['um','fs'],\n",
    "                     subset={'y':[yl,yr],\n",
    "                             'z':[zl,zr],\n",
    "                            },\n",
    "                     average={'x':[xl,xr]},\n",
    "                     aspect='equal',\n",
    "                     cmap='seismic',\n",
    "                     vsym=Vsym,\n",
    "                     side=Side,\n",
    "                     xlabel_font={'size':16,'family':'arial'},\n",
    "                     ylabel_font={'size':16,'family':'arial'},\n",
    "                     xticklabels_font={'size':12,'family':'arial'},\n",
    "                     yticklabels_font={'size':12,'family':'arial'},\n",
    "                     colorbar_font={'size':12,'family':'arial'},\n",
    "                     title='', \n",
    "                     pad = 0.8, \n",
    "#                     orientation='horizontal',\n",
    "#                     location='top'\n",
    "                    )\n",
    "    return out\n",
    "\n",
    "def PartBin_Data_Get(case, num, Side, ts, xl, xr):\n",
    "    '''\n",
    "    INPUT:\n",
    "    case: simulation case, e.g., S0, S1, S2, S3\n",
    "    num:  number of diag., e.g. 3, 4, etc., determining the variable\n",
    "    Side: y-axis, 'left' or 'right'\n",
    "    ts: timestep\n",
    "    OUTPUT:\n",
    "    out: name of the output\n",
    "    '''\n",
    "    out = case.ParticleBinning(num,\n",
    "                               timesteps = ts,\n",
    "                               units=['um','fs','cm^-3','MeV cm^-3'],\n",
    "                               subset={'y':[yl,yr],\n",
    "                                       'z':[zl,zr],\n",
    "                                       },\n",
    "                               sum={'x':[xl,xr],\n",
    "                                    'ekin':[2.0,20.0]\n",
    "                                   },\n",
    "                               aspect='equal',\n",
    "                               cmap=newcmap,\n",
    "                               data_log=True,\n",
    "                               vmin=20, vmax=22,\n",
    "                               side=Side,\n",
    "                               xlabel_font={'size':16,'family':'arial'},\n",
    "                               ylabel_font={'size':16,'family':'arial'},\n",
    "                               xticklabels_font={'size':12,'family':'arial'},\n",
    "                               yticklabels_font={'size':12,'family':'arial'},\n",
    "                               colorbar_font={'size':12,'family':'arial'},\n",
    "                               title='', \n",
    "                               pad = 0.8, \n",
    "                              )\n",
    "    return out\n",
    "\n",
    "\n"
   ]
  },
  {
   "cell_type": "code",
   "execution_count": 23,
   "metadata": {},
   "outputs": [
    {
     "ename": "TypeError",
     "evalue": "Field_Data_Get() missing 1 required positional argument: 'xr'",
     "output_type": "error",
     "traceback": [
      "\u001b[0;31m---------------------------------------------------------------------------\u001b[0m",
      "\u001b[0;31mTypeError\u001b[0m                                 Traceback (most recent call last)",
      "\u001b[0;32m<ipython-input-23-21ae73934c2d>\u001b[0m in \u001b[0;36m<module>\u001b[0;34m\u001b[0m\n\u001b[1;32m      7\u001b[0m \u001b[0mBxmax\u001b[0m \u001b[0;34m=\u001b[0m \u001b[0;36m0.5\u001b[0m\u001b[0;34m\u001b[0m\u001b[0;34m\u001b[0m\u001b[0m\n\u001b[1;32m      8\u001b[0m \u001b[0;34m\u001b[0m\u001b[0m\n\u001b[0;32m----> 9\u001b[0;31m \u001b[0mex0\u001b[0m \u001b[0;34m=\u001b[0m \u001b[0mField_Data_Get\u001b[0m\u001b[0;34m(\u001b[0m\u001b[0mS0\u001b[0m\u001b[0;34m,\u001b[0m \u001b[0;36m1\u001b[0m\u001b[0;34m,\u001b[0m \u001b[0;34m'Ex'\u001b[0m\u001b[0;34m,\u001b[0m \u001b[0mExmax\u001b[0m\u001b[0;34m,\u001b[0m \u001b[0;34m'right'\u001b[0m\u001b[0;34m,\u001b[0m  \u001b[0;36m8.0\u001b[0m\u001b[0;34m*\u001b[0m\u001b[0mdl\u001b[0m\u001b[0;34m,\u001b[0m \u001b[0;36m10.0\u001b[0m\u001b[0;34m*\u001b[0m\u001b[0mdl\u001b[0m\u001b[0;34m)\u001b[0m\u001b[0;34m\u001b[0m\u001b[0;34m\u001b[0m\u001b[0m\n\u001b[0m\u001b[1;32m     10\u001b[0m \u001b[0mex1\u001b[0m \u001b[0;34m=\u001b[0m \u001b[0mField_Data_Get\u001b[0m\u001b[0;34m(\u001b[0m\u001b[0mS1\u001b[0m\u001b[0;34m,\u001b[0m \u001b[0;36m1\u001b[0m\u001b[0;34m,\u001b[0m \u001b[0;34m'Ex'\u001b[0m\u001b[0;34m,\u001b[0m \u001b[0mExmax\u001b[0m\u001b[0;34m,\u001b[0m \u001b[0;34m'right'\u001b[0m\u001b[0;34m,\u001b[0m  \u001b[0;36m18.0\u001b[0m\u001b[0;34m*\u001b[0m\u001b[0mdl\u001b[0m\u001b[0;34m,\u001b[0m \u001b[0;36m20.0\u001b[0m\u001b[0;34m*\u001b[0m\u001b[0mdl\u001b[0m\u001b[0;34m)\u001b[0m\u001b[0;34m\u001b[0m\u001b[0;34m\u001b[0m\u001b[0m\n\u001b[1;32m     11\u001b[0m \u001b[0;34m\u001b[0m\u001b[0m\n",
      "\u001b[0;31mTypeError\u001b[0m: Field_Data_Get() missing 1 required positional argument: 'xr'"
     ]
    }
   ],
   "source": [
    "## Run the functions for three cases (i.e., single, double and four beams)\n",
    "## Here pay attention to the MR-zone defined above and the timestep.\n",
    "## Choosing a \"right\" MR region and a MR time to demonstrate more clearly.\n",
    "\n",
    "Exmax = 0.5\n",
    "JEmax = 0.1\n",
    "Bxmax = 0.5\n",
    "\n",
    "ex0 = Field_Data_Get(S0, 1, 'Ex', Exmax, 'right', 7781,  8.0*dl, 10.0*dl)\n",
    "ex1 = Field_Data_Get(S1, 1, 'Ex', Exmax, 'right', 7781, 18.0*dl, 20.0*dl)\n",
    "\n",
    "\n",
    "je0 = Field_Data_Get(S0, 1, 'Jx*Ex', JEmax, 'right', 7781,  8.0*dl, 10.0*dl)\n",
    "je1 = Field_Data_Get(S1, 1, 'Jx*Ex', JEmax, 'right', 7781, 18.0*dl, 20.0*dl)\n",
    "\n",
    "bx0 = Field_Data_Get(S0, 1, 'Bx', Bxmax, 'right', 7781,  8.0*dl, 10.0*dl)\n",
    "bx1 = Field_Data_Get(S1, 1, 'Bx', Bxmax, 'right', 7781, 18.0*dl, 20.0*dl)\n",
    "\n",
    "\n",
    "ne0 = PartBin_Data_Get(S0, 3, 'right', 7665,  8.0*dl, 10.0*dl)\n",
    "ne1 = PartBin_Data_Get(S1, 3, 'right', 7665, 18.0*dl, 20.0*dl)\n",
    "\n",
    "\n",
    "ke0 = PartBin_Data_Get(S0, 4, 'right', 7665,  8.0*dl, 10.0*dl)\n",
    "ke1 = PartBin_Data_Get(S1, 4, 'right', 7665, 18.0*dl, 20.0*dl)"
   ]
  },
  {
   "cell_type": "code",
   "execution_count": 22,
   "metadata": {},
   "outputs": [],
   "source": [
    "happi.multiSlide(ex0, je0, ne0, ke0,\n",
    "                 ex1, je1, ne1, ke1,\n",
    "#                 ex5, je5, bx5, ne5, ke5,\n",
    "#                 ex7, je7, bx7, ne7, ke7,\n",
    "#                 ex3, je3, bx3, ne3, ke3,\n",
    "                shape=[2,4],\n",
    "                figsize=[12,5] ,\n",
    "#                 saveAs='/Users/yz/Desktop/MR_All.pdf'\n",
    "               )"
   ]
  },
  {
   "cell_type": "code",
   "execution_count": 30,
   "metadata": {},
   "outputs": [],
   "source": [
    "\n",
    "\n",
    "pre24 = S0.Field(1,'Ex',units=['um','fs'],\n",
    "#         subset={'y':[yl,yr],\n",
    "#                 'z':[zl,zr],\n",
    "#                },\n",
    "#          average={'x':[8.0*dl, 10.0*dl]},\n",
    "         average={'x':[14.0*dl, 16.0*dl]},\n",
    "#          average={'z':'all'},\n",
    "         aspect='equal',\n",
    "         cmap='seismic',\n",
    "         xlabel_font={'size':16,'family':'arial'},\n",
    "         ylabel_font={'size':16,'family':'arial'},\n",
    "         xticklabels_font={'size':12,'family':'arial'},\n",
    "         yticklabels_font={'size':12,'family':'arial'},\n",
    "         colorbar_font={'size':12,'family':'arial'},\n",
    "#          pad = 0.8,\n",
    "         vsym=0.5,\n",
    "        )\n",
    "\n",
    "\n",
    "pre12 = S1.Field(1,'Ex',units=['um','fs'],\n",
    "#         subset={'y':[yl,yr],\n",
    "#                 'z':[zl,zr],\n",
    "#                },\n",
    "         average={'x':[8.0*dl, 10.0*dl]},\n",
    "#          average={'x':[18.0*dl, 20.0*dl]},\n",
    "#          average={'z':'all'},\n",
    "         aspect='equal',\n",
    "         cmap='seismic',\n",
    "         xlabel_font={'size':16,'family':'arial'},\n",
    "         ylabel_font={'size':16,'family':'arial'},\n",
    "         xticklabels_font={'size':12,'family':'arial'},\n",
    "         yticklabels_font={'size':12,'family':'arial'},\n",
    "         colorbar_font={'size':12,'family':'arial'},\n",
    "#          pad = 0.8,\n",
    "         vsym=0.5,\n",
    "        )\n",
    "\n",
    "happi.multiSlide(pre12,pre24,shape=[1,2],figsize=[12,5])"
   ]
  },
  {
   "cell_type": "code",
   "execution_count": null,
   "metadata": {},
   "outputs": [],
   "source": [
    "happi.multiSlide(ex0, je0, bx0, ne0, ke0,\n",
    "                 ex2, je2, bx2, ne2, ke2,\n",
    "                 ex1, je1, bx1, ne1, ke1,\n",
    "#                 ex5, je5, bx5, ne5, ke5,\n",
    "#                 ex7, je7, bx7, ne7, ke7,\n",
    "#                 ex3, je3, bx3, ne3, ke3,\n",
    "                shape=[3,5],\n",
    "                figsize=[12,5] ,\n",
    "#                 saveAs='/Users/yz/Desktop/MR_All.pdf'\n",
    "               )"
   ]
  },
  {
   "cell_type": "code",
   "execution_count": null,
   "metadata": {},
   "outputs": [],
   "source": []
  },
  {
   "cell_type": "code",
   "execution_count": null,
   "metadata": {},
   "outputs": [],
   "source": []
  },
  {
   "cell_type": "code",
   "execution_count": 80,
   "metadata": {},
   "outputs": [
    {
     "name": "stdout",
     "output_type": "stream",
     "text": [
      "Cannot format x ticks (typically happens with log-scale)\n",
      "#3 - Number density of species # 3\n",
      "    ekin from 0.0195695 to 58.7084 in 200 steps  [ LOG SCALE ]  [ INCLUDING EDGES ] \n",
      "    user_function0 from -90 to 90 in 90 steps \n",
      "    user_function1 from -90 to 90 in 90 steps \n",
      "\n",
      "average for all user_function0\n",
      "average for all user_function1\n",
      "\n"
     ]
    },
    {
     "name": "stderr",
     "output_type": "stream",
     "text": [
      "/Users/yz/Documents/Smilei/happi/_Diagnostics/Diagnostic.py:864: RuntimeWarning: divide by zero encountered in log10\n",
      "  return self._np.log10( self._vfactor*self._getDataAtTime(t) )\n",
      "/Users/yz/Documents/Smilei/happi/_Diagnostics/Diagnostic.py:864: RuntimeWarning: divide by zero encountered in log10\n",
      "  return self._np.log10( self._vfactor*self._getDataAtTime(t) )\n"
     ]
    }
   ],
   "source": [
    "S0.Screen(3,units=['um','fs','J/m^3'],\n",
    "                  sum={\n",
    "                      'user_function0':'all',\n",
    "                      'user_function1':'all'\n",
    "                  },\n",
    "                   data_log=True,\n",
    "                  ).slide()"
   ]
  },
  {
   "cell_type": "code",
   "execution_count": 7,
   "metadata": {},
   "outputs": [
    {
     "name": "stdout",
     "output_type": "stream",
     "text": [
      "#3 - Number density of species # 3\n",
      "    x from 0 to 141.743 in 192 steps \n",
      "    y from 0 to 188.99 in 256 steps \n",
      "    z from 0 to 188.99 in 256 steps \n",
      "\n",
      "average for all y\n",
      "average for all z\n",
      "\n"
     ]
    },
    {
     "name": "stderr",
     "output_type": "stream",
     "text": [
      "/Users/yz/Documents/Smilei/happi/_Diagnostics/Diagnostic.py:864: RuntimeWarning: divide by zero encountered in log10\n",
      "  return self._np.log10( self._vfactor*self._getDataAtTime(t) )\n"
     ]
    }
   ],
   "source": [
    "S1.ParticleBinning(3,units=['um','fs','J/m^3'],\n",
    "                  sum={\n",
    "                      'y':'all',\n",
    "                      'z':'all'\n",
    "                  },\n",
    "                   data_log=True,\n",
    "                  ).slide()"
   ]
  },
  {
   "cell_type": "code",
   "execution_count": 17,
   "metadata": {},
   "outputs": [
    {
     "data": {
      "text/plain": [
       "30.07876206350134"
      ]
     },
     "execution_count": 17,
     "metadata": {},
     "output_type": "execute_result"
    }
   ],
   "source": [
    "S1.namelist.grid_length[0]/1.5*2.0/2/np.pi"
   ]
  },
  {
   "cell_type": "code",
   "execution_count": 6,
   "metadata": {},
   "outputs": [],
   "source": [
    "dl = S0.namelist.l0\n",
    "xl = 6.0*dl;  xr = 10.0*dl;\n",
    "yl = 13*dl; yr = 17*dl;\n",
    "zl = 13*dl; zr = 17*dl;   # the box size is increased"
   ]
  },
  {
   "cell_type": "code",
   "execution_count": 5,
   "metadata": {},
   "outputs": [],
   "source": [
    "enden0 = S1.ParticleBinning(4, \n",
    "         figsize=[3,4],\n",
    "         units=['um','fs','J/m^3'],\n",
    "#          timesteps=ts,\n",
    "#          subset={\n",
    "#              'x':[xl,xr],\n",
    "#              'y':[yl,yr],\n",
    "#              'z':[zl,zr],\n",
    "#          },\n",
    "         sum={\n",
    "             'x':[xl,xr],\n",
    "             'y':[yl,yr],\n",
    "             'z':[zl,zr],\n",
    "             'ekin':[2,20],\n",
    "         },\n",
    "         aspect='equal',\n",
    "#          data_log=True,\n",
    "         cmap='smilei_r',\n",
    "               xlabel_font={'size':16,'family':'arial'},\n",
    "               ylabel_font={'size':16,'family':'arial'},\n",
    "               xticklabels_font={'size':12,'family':'arial'},\n",
    "               yticklabels_font={'size':12,'family':'arial'},\n",
    "               colorbar_font={'size':12,'family':'arial'},\n",
    "               title='HEB: ne Ekin [MeV cm^-3]',\n",
    "               title_font = {'size': 16, 'weight': 'regular', 'family':'arial', 'color': 'k'},\n",
    "               ylabel='',\n",
    "#          vmin=0, vmax=30,\n",
    "#          ymin=0, ymax=30,\n",
    "#          xmin=0, xmax=30,\n",
    "#                             timesteps=ts,\n",
    "        ).getData()\n",
    "\n",
    "enden1 = S2.ParticleBinning(4, \n",
    "         figsize=[3,4],\n",
    "         units=['um','fs','J/m^3'],\n",
    "#          timesteps=ts,\n",
    "#          subset={\n",
    "#              'x':[xl,xr],\n",
    "#              'y':[yl,yr],\n",
    "#              'z':[zl,zr],\n",
    "#          },\n",
    "         sum={\n",
    "             'x':[xl,xr],\n",
    "             'y':[yl,yr],\n",
    "             'z':[zl,zr],\n",
    "             'ekin':[2,20],\n",
    "         },\n",
    "         aspect='equal',\n",
    "#          data_log=True,\n",
    "         cmap='smilei_r',\n",
    "               xlabel_font={'size':16,'family':'arial'},\n",
    "               ylabel_font={'size':16,'family':'arial'},\n",
    "               xticklabels_font={'size':12,'family':'arial'},\n",
    "               yticklabels_font={'size':12,'family':'arial'},\n",
    "               colorbar_font={'size':12,'family':'arial'},\n",
    "               title='HEB: ne Ekin [MeV cm^-3]',\n",
    "               title_font = {'size': 16, 'weight': 'regular', 'family':'arial', 'color': 'k'},\n",
    "               ylabel='',\n",
    "#          vmin=0, vmax=30,\n",
    "#          ymin=0, ymax=30,\n",
    "#          xmin=0, xmax=30,\n",
    "#                             timesteps=ts,\n",
    "        ).getData()"
   ]
  },
  {
   "cell_type": "code",
   "execution_count": 6,
   "metadata": {},
   "outputs": [
    {
     "data": {
      "text/plain": [
       "Text(0, 0.5, 'Energy [mJ]')"
      ]
     },
     "execution_count": 6,
     "metadata": {},
     "output_type": "execute_result"
    }
   ],
   "source": [
    "Ttot0 = S0.Scalar('Utot',units=['fs','J'],color='red').getTimes()[:]\n",
    "\n",
    "enden0 = np.array(enden0)\n",
    "enden1 = np.array(enden1)\n",
    "\n",
    "plot(Ttot0,enden0*1e-15,'-r',linestyle='--',label='Double Beams')\n",
    "plot(Ttot0,enden1*1e-15,'-b',label='Four Beams')\n",
    "xlabel('time [fs]')\n",
    "ylabel('Energy [mJ]')"
   ]
  },
  {
   "cell_type": "code",
   "execution_count": 7,
   "metadata": {},
   "outputs": [
    {
     "name": "stderr",
     "output_type": "stream",
     "text": [
      "<ipython-input-7-e21f4ef8278c>:6: RuntimeWarning: divide by zero encountered in true_divide\n",
      "  plot(Ttot0,enden1/enden0,'-k',linestyle='-')\n",
      "<ipython-input-7-e21f4ef8278c>:6: RuntimeWarning: invalid value encountered in true_divide\n",
      "  plot(Ttot0,enden1/enden0,'-k',linestyle='-')\n"
     ]
    },
    {
     "data": {
      "text/plain": [
       "Text(0, 0.5, 'Energy enhancement factor')"
      ]
     },
     "execution_count": 7,
     "metadata": {},
     "output_type": "execute_result"
    }
   ],
   "source": [
    "Ttot0 = S0.Scalar('Utot',units=['fs','J'],color='red').getTimes()[:]\n",
    "\n",
    "enden0 = np.array(enden0)\n",
    "enden1 = np.array(enden1)\n",
    "\n",
    "plot(Ttot0,enden1/enden0,'-k',linestyle='-')\n",
    "# plot(Ttot0,enden1,'-b',label='Four Beams')\n",
    "xlabel('time [fs]')\n",
    "ylim([0,4])\n",
    "xlim([0,1000])\n",
    "grid()\n",
    "ylabel('Energy enhancement factor')"
   ]
  },
  {
   "cell_type": "code",
   "execution_count": 40,
   "metadata": {},
   "outputs": [
    {
     "data": {
      "text/plain": [
       "2.4"
      ]
     },
     "execution_count": 40,
     "metadata": {},
     "output_type": "execute_result"
    }
   ],
   "source": [
    "(1.8+3.0)/2.0"
   ]
  },
  {
   "cell_type": "code",
   "execution_count": 48,
   "metadata": {},
   "outputs": [],
   "source": [
    "# Fig. Diagram, Laser pulse + hot electron beam + self-generated B-field [+ MR Scheme Diagram]\n",
    "# Fontsize needs to be enlarged, probably.\n",
    "\n",
    "ts = 1179\n",
    "\n",
    "Bz0 = S3.Field(0, 'Bz', \n",
    "         figsize=[3,4],\n",
    "         units=['um','fs'],\n",
    "         subset={'z':S0.namelist.grid_length[2]/2.},\n",
    "#          subset={'y':S0.namelist.grid_length[1]/2.},\n",
    "         aspect='equal',\n",
    "         cmap='smileiD',\n",
    "               vsym=True,\n",
    "#          vmin=-5, vmax=5,\n",
    "               xlabel_font={'size':16,'family':'arial'},\n",
    "               ylabel_font={'size':16,'family':'arial'},\n",
    "               xticklabels_font={'size':12,'family':'arial'},\n",
    "               yticklabels_font={'size':12,'family':'arial'},\n",
    "               colorbar_font={'size':12,'family':'arial'},\n",
    "               title='Laser: Bz [T]',\n",
    "               title_font = {'size': 16, 'weight': 'regular', 'family':'arial', 'color': 'k'},\n",
    "               ymin=0, ymax=30,\n",
    "         xmin=0, xmax=20,\n",
    "#                timesteps=ts,\n",
    "        )\n",
    "# .plot(timestep=4422)\n",
    "\n",
    "enden0 = S3.ParticleBinning(4, \n",
    "         figsize=[3,4],\n",
    "         units=['um','fs'],\n",
    "#          timesteps=ts,\n",
    "         subset={\n",
    "             'z':S0.namelist.grid_length[2]/2.\n",
    "#              'y':[yl,yr],\n",
    "#              'z':[zl,zr],\n",
    "         },\n",
    "         sum={\n",
    "#              'x':[xl,xr],\n",
    "             'ekin':[2,20],\n",
    "         },\n",
    "         aspect='equal',\n",
    "#          data_log=True,\n",
    "         cmap='smilei_r',\n",
    "               xlabel_font={'size':16,'family':'arial'},\n",
    "               ylabel_font={'size':16,'family':'arial'},\n",
    "               xticklabels_font={'size':12,'family':'arial'},\n",
    "               yticklabels_font={'size':12,'family':'arial'},\n",
    "               colorbar_font={'size':12,'family':'arial'},\n",
    "               title='HEB: ne Ekin [MeV cm^-3]',\n",
    "               title_font = {'size': 16, 'weight': 'regular', 'family':'arial', 'color': 'k'},\n",
    "               ylabel='',\n",
    "#          vmin=0, vmax=30,\n",
    "         ymin=0, ymax=30,\n",
    "         xmin=0, xmax=20,\n",
    "#                             timesteps=ts,\n",
    "        )\n",
    "\n",
    "Bz1 = S3.Field(1, 'Bz', \n",
    "         figsize=[2,4],\n",
    "         units=['um','fs','T'],\n",
    "         subset={'z':S0.namelist.grid_length[2]/2.},\n",
    "#          subset={'y':S0.namelist.grid_length[1]/2.},\n",
    "         aspect='equal',\n",
    "         cmap='smileiD',\n",
    "               vsym=True,\n",
    "#          vmin=-5, vmax=5,\n",
    "               xlabel_font={'size':16,'family':'arial'},\n",
    "               ylabel_font={'size':16,'family':'arial'},\n",
    "               xticklabels_font={'size':12,'family':'arial'},\n",
    "               yticklabels_font={'size':12,'family':'arial'},\n",
    "               colorbar_font={'size':12,'family':'arial'},\n",
    "               title='Self-generated Bz [T]',\n",
    "               title_font = {'size': 16, 'weight': 'regular', 'family':'arial', 'color': 'k'},\n",
    "               ylabel='',\n",
    "               ymin=0, ymax=30,\n",
    "         xmin=0, xmax=20,\n",
    "#                timesteps=ts,\n",
    "        )\n",
    "\n",
    "happi.multiSlide(Bz0, enden0, Bz1, \n",
    "                shape=[1,3], \n",
    "                figsize=[12,4],\n",
    "#                 movie='/Users/yz/Desktop/Las_HEB_SelfB.mp4', fps=10, dpi=300,\n",
    "#                 saveAs='/Users/yz/Desktop/Las_HEB_SelfB.pdf'\n",
    "               )"
   ]
  },
  {
   "cell_type": "code",
   "execution_count": 50,
   "metadata": {},
   "outputs": [],
   "source": [
    "# Fig. Diagram, Laser pulse + hot electron beam + self-generated B-field [+ MR Scheme Diagram]\n",
    "# Fontsize needs to be enlarged, probably.\n",
    "\n",
    "ts = 1179\n",
    "\n",
    "Bz1 = S1.Field(0, 'Bz', \n",
    "         figsize=[3,4],\n",
    "         units=['um','fs'],\n",
    "         subset={'z':S0.namelist.grid_length[2]/2.},\n",
    "#          subset={'y':S0.namelist.grid_length[1]/2.},\n",
    "         aspect='equal',\n",
    "         cmap='smileiD',\n",
    "               vsym=True,\n",
    "#          vmin=-5, vmax=5,\n",
    "               xlabel_font={'size':16,'family':'arial'},\n",
    "               ylabel_font={'size':16,'family':'arial'},\n",
    "               xticklabels_font={'size':12,'family':'arial'},\n",
    "               yticklabels_font={'size':12,'family':'arial'},\n",
    "               colorbar_font={'size':12,'family':'arial'},\n",
    "               title='Laser: Bz [T]',\n",
    "               title_font = {'size': 16, 'weight': 'regular', 'family':'arial', 'color': 'k'},\n",
    "               ymin=0, ymax=30,\n",
    "         xmin=0, xmax=20,\n",
    "#                timesteps=ts,\n",
    "        )\n",
    "# .plot(timestep=4422)\n",
    "\n",
    "enden1 = S1.ParticleBinning(4, \n",
    "         figsize=[3,4],\n",
    "         units=['um','fs'],\n",
    "#          timesteps=ts,\n",
    "         subset={\n",
    "             'z':S0.namelist.grid_length[2]/2.\n",
    "#              'y':[yl,yr],\n",
    "#              'z':[zl,zr],\n",
    "         },\n",
    "         sum={\n",
    "#              'x':[xl,xr],\n",
    "             'ekin':[2,20],\n",
    "         },\n",
    "         aspect='equal',\n",
    "#          data_log=True,\n",
    "         cmap='smilei_r',\n",
    "               xlabel_font={'size':16,'family':'arial'},\n",
    "               ylabel_font={'size':16,'family':'arial'},\n",
    "               xticklabels_font={'size':12,'family':'arial'},\n",
    "               yticklabels_font={'size':12,'family':'arial'},\n",
    "               colorbar_font={'size':12,'family':'arial'},\n",
    "               title='HEB: ne Ekin [MeV cm^-3]',\n",
    "               title_font = {'size': 16, 'weight': 'regular', 'family':'arial', 'color': 'k'},\n",
    "               ylabel='',\n",
    "#          vmin=0, vmax=30,\n",
    "         ymin=0, ymax=30,\n",
    "         xmin=0, xmax=20,\n",
    "#                             timesteps=ts,\n",
    "        )\n",
    "\n",
    "Bz3 = S3.Field(0, 'Bz', \n",
    "         figsize=[3,4],\n",
    "         units=['um','fs'],\n",
    "         subset={'z':S0.namelist.grid_length[2]/2.},\n",
    "#          subset={'y':S0.namelist.grid_length[1]/2.},\n",
    "         aspect='equal',\n",
    "         cmap='smileiD',\n",
    "               vsym=True,\n",
    "#          vmin=-5, vmax=5,\n",
    "               xlabel_font={'size':16,'family':'arial'},\n",
    "               ylabel_font={'size':16,'family':'arial'},\n",
    "               xticklabels_font={'size':12,'family':'arial'},\n",
    "               yticklabels_font={'size':12,'family':'arial'},\n",
    "               colorbar_font={'size':12,'family':'arial'},\n",
    "               title='Laser: Bz [T]',\n",
    "               title_font = {'size': 16, 'weight': 'regular', 'family':'arial', 'color': 'k'},\n",
    "               ymin=0, ymax=30,\n",
    "         xmin=0, xmax=20,\n",
    "#                timesteps=ts,\n",
    "        )\n",
    "# .plot(timestep=4422)\n",
    "\n",
    "enden3 = S3.ParticleBinning(4, \n",
    "         figsize=[3,4],\n",
    "         units=['um','fs'],\n",
    "#          timesteps=ts,\n",
    "         subset={\n",
    "             'z':S0.namelist.grid_length[2]/2.\n",
    "#              'y':[yl,yr],\n",
    "#              'z':[zl,zr],\n",
    "         },\n",
    "         sum={\n",
    "#              'x':[xl,xr],\n",
    "             'ekin':[2,20],\n",
    "         },\n",
    "         aspect='equal',\n",
    "#          data_log=True,\n",
    "         cmap='smilei_r',\n",
    "               xlabel_font={'size':16,'family':'arial'},\n",
    "               ylabel_font={'size':16,'family':'arial'},\n",
    "               xticklabels_font={'size':12,'family':'arial'},\n",
    "               yticklabels_font={'size':12,'family':'arial'},\n",
    "               colorbar_font={'size':12,'family':'arial'},\n",
    "               title='HEB: ne Ekin [MeV cm^-3]',\n",
    "               title_font = {'size': 16, 'weight': 'regular', 'family':'arial', 'color': 'k'},\n",
    "               ylabel='',\n",
    "#          vmin=0, vmax=30,\n",
    "         ymin=0, ymax=30,\n",
    "         xmin=0, xmax=20,\n",
    "#                             timesteps=ts,\n",
    "        )\n",
    "\n",
    "# Bz1 = S3.Field(1, 'Bz', \n",
    "#          figsize=[2,4],\n",
    "#          units=['um','fs','T'],\n",
    "#          subset={'z':S0.namelist.grid_length[2]/2.},\n",
    "# #          subset={'y':S0.namelist.grid_length[1]/2.},\n",
    "#          aspect='equal',\n",
    "#          cmap='smileiD',\n",
    "#                vsym=True,\n",
    "# #          vmin=-5, vmax=5,\n",
    "#                xlabel_font={'size':16,'family':'arial'},\n",
    "#                ylabel_font={'size':16,'family':'arial'},\n",
    "#                xticklabels_font={'size':12,'family':'arial'},\n",
    "#                yticklabels_font={'size':12,'family':'arial'},\n",
    "#                colorbar_font={'size':12,'family':'arial'},\n",
    "#                title='Self-generated Bz [T]',\n",
    "#                title_font = {'size': 16, 'weight': 'regular', 'family':'arial', 'color': 'k'},\n",
    "#                ylabel='',\n",
    "#                ymin=0, ymax=30,\n",
    "#          xmin=0, xmax=20,\n",
    "# #                timesteps=ts,\n",
    "#         )\n",
    "\n",
    "happi.multiSlide(Bz1, enden1, Bz3, enden3, \n",
    "                shape=[2,2], \n",
    "                figsize=[8,6],\n",
    "#                 skipAnimation=True,\n",
    "#                 movie='/Users/yz/Desktop/Las_HEB_SelfB.mp4', fps=10, dpi=300,\n",
    "#                 saveAs='/Users/yz/Desktop/Las_HEB_SelfB.pdf'\n",
    "               )"
   ]
  },
  {
   "cell_type": "code",
   "execution_count": 14,
   "metadata": {},
   "outputs": [
    {
     "data": {
      "text/plain": [
       "array([    0.,   590.,  1179.,  1769.,  2359.,  2948.,  3538.,  4127.,\n",
       "        4717.,  5307.,  5896.,  6486.,  7076.,  7665.,  8255.,  8845.,\n",
       "        9434., 10024., 10613., 11203., 11793., 12382., 12972., 13562.,\n",
       "       14151., 14741., 15330., 15920., 16510., 17099., 17689.])"
      ]
     },
     "execution_count": 14,
     "metadata": {},
     "output_type": "execute_result"
    }
   ],
   "source": [
    "Bz0.getAvailableTimesteps()"
   ]
  },
  {
   "cell_type": "code",
   "execution_count": 8,
   "metadata": {},
   "outputs": [],
   "source": [
    "## Set the MR region **very** critical\n",
    "\n",
    "dl = S0.namelist.l0\n",
    "xl = 4.0*dl;  xr = 6.0*dl;\n",
    "yl = 10*dl; yr = 20*dl;\n",
    "zl = 10*dl; zr = 20*dl;   # the box size is increased"
   ]
  },
  {
   "cell_type": "code",
   "execution_count": 9,
   "metadata": {},
   "outputs": [],
   "source": [
    "## Functions that get the data out for plotting the MR features and HEB enhancement\n",
    "\n",
    "def Field_Data_Get(case, num, var, Vsym, Side, ts, xl, xr):\n",
    "    '''\n",
    "    INPUT:\n",
    "    case: simulation case, e.g., S0, S1, S2, S3\n",
    "    num:  number of diag., e.g. 0, 1, etc.\n",
    "    var: variables to get, e.g., Ex, Bx, Jx*Ex\n",
    "    Vsym: maximum & minimum value of var\n",
    "    Side: y-axis, 'left' or 'right'\n",
    "    ts: timestep\n",
    "    OUTPUT:\n",
    "    out: name of the output\n",
    "    '''\n",
    "    out = case.Field(num, var,\n",
    "                     timesteps = ts,\n",
    "                     units=['um','fs'],\n",
    "                     subset={'y':[yl,yr],\n",
    "                             'z':[zl,zr],\n",
    "                            },\n",
    "                     average={'x':[xl,xr]},\n",
    "                     aspect='equal',\n",
    "                     cmap='seismic',\n",
    "                     vsym=Vsym,\n",
    "                     side=Side,\n",
    "                     xlabel_font={'size':16,'family':'arial'},\n",
    "                     ylabel_font={'size':16,'family':'arial'},\n",
    "                     xticklabels_font={'size':12,'family':'arial'},\n",
    "                     yticklabels_font={'size':12,'family':'arial'},\n",
    "                     colorbar_font={'size':12,'family':'arial'},\n",
    "                     title='', \n",
    "                     pad = 0.8, \n",
    "#                     orientation='horizontal',\n",
    "#                     location='top'\n",
    "                    )\n",
    "    return out\n",
    "\n",
    "def PartBin_Data_Get(case, num, Side, ts, xl, xr):\n",
    "    '''\n",
    "    INPUT:\n",
    "    case: simulation case, e.g., S0, S1, S2, S3\n",
    "    num:  number of diag., e.g. 3, 4, etc., determining the variable\n",
    "    Side: y-axis, 'left' or 'right'\n",
    "    ts: timestep\n",
    "    OUTPUT:\n",
    "    out: name of the output\n",
    "    '''\n",
    "    out = case.ParticleBinning(num,\n",
    "                               timesteps = ts,\n",
    "                               units=['um','fs','cm^-3','MeV cm^-3'],\n",
    "                               subset={'y':[yl,yr],\n",
    "                                       'z':[zl,zr],\n",
    "                                       },\n",
    "                               sum={'x':[xl,xr],\n",
    "                                    'ekin':[2.0,20.0]\n",
    "                                   },\n",
    "                               aspect='equal',\n",
    "                               cmap=newcmap,\n",
    "                               data_log=True,\n",
    "                               vmin=20, vmax=22,\n",
    "                               side=Side,\n",
    "                               xlabel_font={'size':16,'family':'arial'},\n",
    "                               ylabel_font={'size':16,'family':'arial'},\n",
    "                               xticklabels_font={'size':12,'family':'arial'},\n",
    "                               yticklabels_font={'size':12,'family':'arial'},\n",
    "                               colorbar_font={'size':12,'family':'arial'},\n",
    "                               title='', \n",
    "                               pad = 0.8, \n",
    "                              )\n",
    "    return out"
   ]
  },
  {
   "cell_type": "code",
   "execution_count": 10,
   "metadata": {},
   "outputs": [],
   "source": [
    "## Run the functions for three cases (i.e., single, double and four beams)\n",
    "## Here pay attention to the MR-zone defined above and the timestep.\n",
    "## Choosing a \"right\" MR region and a MR time to demonstrate more clearly.\n",
    "\n",
    "Exmax = 0.5\n",
    "JEmax = 0.1\n",
    "Bxmax = 0.5\n",
    "\n",
    "ex0 = Field_Data_Get(S0, 1, 'Ex', Exmax, 'right', 7781, 8.0*dl, 10.0*dl)\n",
    "ex1 = Field_Data_Get(S1, 1, 'Ex', Exmax, 'right', 7781, 8.0*dl, 10.0*dl)\n",
    "ex2 = Field_Data_Get(S2, 1, 'Ex', Exmax, 'right', 7781, 8.0*dl, 10.0*dl)\n",
    "# ex5 = Field_Data_Get(S5, 1, 'Ex', Exmax, 'right', 7781, 8.0*dl, 10.0*dl)\n",
    "# ex3 = Field_Data_Get(S3, 1, 'Ex', Exmax, 'right', 7781, 8.0*dl, 10.0*dl)\n",
    "# ex7 = Field_Data_Get(S7, 1, 'Ex', Exmax, 'right', 7781, 8.0*dl, 10.0*dl)\n",
    "# ex8 = Field_Data_Get(S8, 1, 'Ex', Exmax, 'right', 7781, 5.0*dl,  7.0*dl)\n",
    "\n",
    "je0 = Field_Data_Get(S0, 1, 'Jx*Ex', JEmax, 'right', 7781, 8.0*dl, 10.0*dl)\n",
    "je1 = Field_Data_Get(S1, 1, 'Jx*Ex', JEmax, 'right', 7781, 8.0*dl, 10.0*dl)\n",
    "je2 = Field_Data_Get(S2, 1, 'Jx*Ex', JEmax, 'right', 7781, 8.0*dl, 10.0*dl)\n",
    "# je5 = Field_Data_Get(S5, 1, 'Jx*Ex', JEmax, 'right', 7781, 8.0*dl, 10.0*dl)\n",
    "# je3 = Field_Data_Get(S3, 1, 'Jx*Ex', JEmax, 'right', 7781, 8.0*dl, 10.0*dl)\n",
    "# je7 = Field_Data_Get(S7, 1, 'Jx*Ex', JEmax, 'right', 7781, 8.0*dl, 10.0*dl)\n",
    "# je8 = Field_Data_Get(S8, 1, 'Jx*Ex', JEmax, 'right', 7781, 5.0*dl,  7.0*dl)\n",
    "\n",
    "bx0 = Field_Data_Get(S0, 1, 'Bx', Bxmax, 'right', 7781, 8.0*dl, 10.0*dl)\n",
    "bx1 = Field_Data_Get(S1, 1, 'Bx', Bxmax, 'right', 7781, 8.0*dl, 10.0*dl)\n",
    "bx2 = Field_Data_Get(S2, 1, 'Bx', Bxmax, 'right', 7781, 8.0*dl, 10.0*dl)\n",
    "# bx5 = Field_Data_Get(S5, 1, 'Bx', Bxmax, 'right', 7781, 8.0*dl, 10.0*dl)\n",
    "# bx3 = Field_Data_Get(S3, 1, 'Bx', Bxmax, 'right', 7781, 8.0*dl, 10.0*dl)\n",
    "# bx7 = Field_Data_Get(S7, 1, 'Bx', Bxmax, 'right', 7781, 8.0*dl, 10.0*dl)\n",
    "# bx8 = Field_Data_Get(S8, 1, 'Bx', Bxmax, 'right', 7781, 5.0*dl,  7.0*dl)\n",
    "\n",
    "ne0 = PartBin_Data_Get(S0, 3, 'right', 7665, 8.0*dl, 10.0*dl)\n",
    "ne1 = PartBin_Data_Get(S1, 3, 'right', 7665, 8.0*dl, 10.0*dl)\n",
    "ne2 = PartBin_Data_Get(S2, 3, 'right', 7665, 8.0*dl, 10.0*dl)\n",
    "# ne5 = PartBin_Data_Get(S5, 3, 'right', 7665, 8.0*dl, 10.0*dl)\n",
    "# ne3 = PartBin_Data_Get(S3, 3, 'right', 7665, 8.0*dl, 10.0*dl)\n",
    "# ne7 = PartBin_Data_Get(S7, 3, 'right', 7665, 8.0*dl, 10.0*dl)\n",
    "# ne8 = PartBin_Data_Get(S8, 3, 'right', 7665, 5.0*dl,  7.0*dl)\n",
    "\n",
    "ke0 = PartBin_Data_Get(S0, 4, 'right', 7665, 8.0*dl, 10.0*dl)\n",
    "ke1 = PartBin_Data_Get(S1, 4, 'right', 7665, 8.0*dl, 10.0*dl)\n",
    "ke2 = PartBin_Data_Get(S2, 4, 'right', 7665, 8.0*dl, 10.0*dl)\n",
    "# ke5 = PartBin_Data_Get(S5, 4, 'right', 7665, 8.0*dl, 10.0*dl)\n",
    "# ke3 = PartBin_Data_Get(S3, 4, 'right', 7665, 8.0*dl, 10.0*dl)\n",
    "# ke7 = PartBin_Data_Get(S7, 4, 'right', 7665, 8.0*dl, 10.0*dl)\n",
    "# ke8 = PartBin_Data_Get(S8, 4, 'right', 7665, 5.0*dl,  7.0*dl)\n",
    "\n",
    "    "
   ]
  },
  {
   "cell_type": "code",
   "execution_count": 11,
   "metadata": {},
   "outputs": [],
   "source": [
    "## Make the drawing.\n",
    "\n",
    "happi.multiSlide(ex0, je0, bx0, ne0, ke0,\n",
    "                 ex2, je2, bx2, ne2, ke2,\n",
    "                 ex1, je1, bx1, ne1, ke1,\n",
    "#                 ex5, je5, bx5, ne5, ke5,\n",
    "#                 ex7, je7, bx7, ne7, ke7,\n",
    "#                 ex3, je3, bx3, ne3, ke3,\n",
    "                shape=[3,5],\n",
    "                figsize=[12,5] ,\n",
    "#                 saveAs='/Users/yz/Desktop/MR_All.pdf'\n",
    "               )"
   ]
  },
  {
   "cell_type": "markdown",
   "metadata": {},
   "source": [
    "## confusion about the direction of Ex and Jx"
   ]
  },
  {
   "cell_type": "code",
   "execution_count": 145,
   "metadata": {},
   "outputs": [],
   "source": [
    "x1 = S0.namelist.l0*6.0\n",
    "x2 = S0.namelist.l0*11.0\n",
    "y0 = S0.namelist.l0*15.0\n",
    "y1 = S0.namelist.l0*12.5\n",
    "y2 = S0.namelist.l0*17.5\n",
    "z0 = S0.namelist.l0*15.0\n",
    "z1 = S0.namelist.l0*10.0\n",
    "z2 = S0.namelist.l0*20.0\n",
    "\n",
    "Exy = S1.Field(1, 'Ex', \n",
    "#          figsize=[7,3],\n",
    "         units=['um','fs'],\n",
    "#          timesteps=ts,\n",
    "         subset={\n",
    "             'x':[x1,x2],\n",
    "             'y':[y1,y2],\n",
    "             'z':z0,\n",
    "         },\n",
    "         average={\n",
    "#              'x':[x1,x2],\n",
    "#              'y':[y1,y2],\n",
    "#              'z':z0,\n",
    "         },\n",
    "#          aspect='equal',\n",
    "         cmap='seismic',\n",
    "#          cmap='hot_r',\n",
    "#          vmin = -0.2, vmax=0.2,\n",
    "         vsym=True,\n",
    "               xlabel_font={'size':16,'family':'arial'},\n",
    "               ylabel_font={'size':16,'family':'arial'},\n",
    "               xticklabels_font={'size':12,'family':'arial'},\n",
    "               yticklabels_font={'size':12,'family':'arial'},\n",
    "               colorbar_font={'size':12,'family':'arial'},\n",
    "               title='',\n",
    "        )#.slide()\n",
    "\n",
    "Jxy = S1.Field(1, 'Jx', \n",
    "#          figsize=[7,3],\n",
    "         units=['um','fs'],\n",
    "#          timesteps=ts,\n",
    "         subset={\n",
    "             'x':[x1,x2],\n",
    "             'y':[y1,y2],\n",
    "             'z':z0,\n",
    "         },\n",
    "         average={\n",
    "#              'x':[x1,x2],\n",
    "#              'y':[y1,y2],\n",
    "#              'z':z0,\n",
    "         },\n",
    "#          aspect='equal',\n",
    "         cmap='seismic',\n",
    "#          cmap='hot_r',\n",
    "#          vmin = -0.2, vmax=0.2,\n",
    "         vsym=True,\n",
    "               xlabel_font={'size':16,'family':'arial'},\n",
    "               ylabel_font={'size':16,'family':'arial'},\n",
    "               xticklabels_font={'size':12,'family':'arial'},\n",
    "               yticklabels_font={'size':12,'family':'arial'},\n",
    "               colorbar_font={'size':12,'family':'arial'},\n",
    "               title='',\n",
    "        )\n",
    "\n",
    "JE = S1.Field(1, 'Jx*Ex', \n",
    "#          figsize=[7,3],\n",
    "         units=['um','fs'],\n",
    "#          timesteps=ts,\n",
    "         subset={\n",
    "             'x':[x1,x2],\n",
    "             'y':[y1,y2],\n",
    "             'z':z0,\n",
    "         },\n",
    "         average={\n",
    "#              'x':[x1,x2],\n",
    "#              'y':[y1,y2],\n",
    "#              'z':z0,\n",
    "         },\n",
    "#          aspect='equal',\n",
    "         cmap='seismic',\n",
    "#          cmap='hot_r',\n",
    "#          vmin = -0.2, vmax=0.2,\n",
    "         vsym=True,\n",
    "               xlabel_font={'size':16,'family':'arial'},\n",
    "               ylabel_font={'size':16,'family':'arial'},\n",
    "               xticklabels_font={'size':12,'family':'arial'},\n",
    "               yticklabels_font={'size':12,'family':'arial'},\n",
    "               colorbar_font={'size':12,'family':'arial'},\n",
    "               title='',\n",
    "        )\n",
    "\n",
    "happi.multiSlide(Exy, Jxy, JE, shape=[3,1])"
   ]
  },
  {
   "cell_type": "code",
   "execution_count": null,
   "metadata": {},
   "outputs": [],
   "source": []
  },
  {
   "cell_type": "code",
   "execution_count": null,
   "metadata": {},
   "outputs": [],
   "source": []
  },
  {
   "cell_type": "code",
   "execution_count": null,
   "metadata": {},
   "outputs": [],
   "source": []
  },
  {
   "cell_type": "code",
   "execution_count": null,
   "metadata": {},
   "outputs": [],
   "source": []
  },
  {
   "cell_type": "markdown",
   "metadata": {},
   "source": [
    "## Energy spectrum from Screen diagnostics with angular resolution"
   ]
  },
  {
   "cell_type": "code",
   "execution_count": 12,
   "metadata": {},
   "outputs": [],
   "source": [
    "## Define the function to get the data\n",
    "\n",
    "from lmfit import Model, Parameters, report_fit\n",
    "from scipy.special import kn    # modified Bessel function of the second kind\n",
    "\n",
    "def postScreen(case,num,time,direction):\n",
    "    '''\n",
    "    INPUTS:\n",
    "    case: which simulation do you want to process\n",
    "    num:  which one of the screen diag. do you want to use\n",
    "    time: what time of the data do you want to get\n",
    "    OUTPUTS:\n",
    "    Data: the final data you get to plot the spectrum\n",
    "    '''\n",
    "    obj = case.Screen(num,units=['um','fs','MeV'])\n",
    "    rawData = obj.getData()[time]\n",
    "    sumData = np.sum(rawData,axis=2)\n",
    "    if direction == 'normal':\n",
    "        Data = np.sum(sumData[:,37:54],axis=1)  # for 15 degree\n",
    "#         Data = np.sum(sumData[:,27:64],axis=1)  # for 36 degree\n",
    "    elif direction == 'laser':\n",
    "#         Data = np.sum(sumData[:,:37],axis=1) + np.sum(sumData[:,54:],axis=1)  # for 15 degree\n",
    "        Data = np.sum(sumData[:,54:],axis=1)  # for 15 degree\n",
    "#         Data = np.sum(sumData[:,:27],axis=1) + np.sum(sumData[:,64:],axis=1)\n",
    "    else:\n",
    "        print('\"direction\" should be either \"nomral\" or \"laser\"')\n",
    "    return Data"
   ]
  },
  {
   "cell_type": "code",
   "execution_count": 22,
   "metadata": {},
   "outputs": [
    {
     "data": {
      "text/plain": [
       "array([    0,   590,  1179,  1769,  2359,  2948,  3538,  4127,  4717,\n",
       "        5307,  5896,  6486,  7076,  7665,  8255,  8845,  9434, 10024,\n",
       "       10613, 11203, 11793, 12382, 12972, 13562, 14151, 14741, 15330,\n",
       "       15920, 16510, 17099, 17689])"
      ]
     },
     "execution_count": 22,
     "metadata": {},
     "output_type": "execute_result"
    }
   ],
   "source": [
    "S0.Screen(3).getTimesteps()"
   ]
  },
  {
   "cell_type": "code",
   "execution_count": 13,
   "metadata": {},
   "outputs": [],
   "source": [
    "## get the data out of the screen diagnostics -- 15 degree case\n",
    "\n",
    "ekin    = S0.Screen(0,units=['um','fs','MeV']).getAxis('ekin')\n",
    "\n",
    "es0_18_laser    = postScreen(S0,3,-1,'laser')   # single beam case\n",
    "es0_18_normal   = postScreen(S0,3,-1,'normal')\n",
    "\n",
    "es1_18_normal   = postScreen(S1,3,-1,'normal')  # double beam with overlap\n",
    "# es1_18_laser    = postScreen(S1,3,-1,'laser')\n",
    "\n",
    "es2_18_normal   = postScreen(S2,3,-1,'normal')  # double beam w/o overlap\n",
    "es2_18_laser    = postScreen(S2,3,-1,'laser')"
   ]
  },
  {
   "cell_type": "code",
   "execution_count": 42,
   "metadata": {},
   "outputs": [],
   "source": [
    "es0_18_laser_15    = postScreen(S0,3,10,'laser')   # single beam case\n",
    "# es0_18_normal_15   = postScreen(S0,3,10,'normal')\n",
    "\n",
    "es2_18_normal_15   = postScreen(S2,3,10,'normal')  # double beam without overlap\n",
    "\n",
    "es1_18_normal_15   = postScreen(S1,3,10,'normal')  # double beam with overlap\n",
    "\n",
    "es3_18_normal_15   = postScreen(S3,3,10,'normal')\n",
    "es3_18_laser_15    = postScreen(S3,3,10,'laser')    # single beam case x 2"
   ]
  },
  {
   "cell_type": "code",
   "execution_count": 17,
   "metadata": {},
   "outputs": [],
   "source": [
    "# es0_18_laser_15    = postScreen(S0,3,10,'laser')   # single beam case\n",
    "# es0_18_normal_15   = postScreen(S0,3,10,'normal')\n",
    "\n",
    "# es2_18_laser_15    = postScreen(S2,3,10,'laser')   # single two beam case\n",
    "# es2_18_normal_15   = postScreen(S2,3,10,'normal')  # single two beam case\n",
    "\n",
    "# es1_18_normal_15   = postScreen(S1,3,10,'normal')  # double beam with overlap\n",
    "\n",
    "es3_18_normal_15   = postScreen(S3,3,10,'normal')  # double beam without overlap"
   ]
  },
  {
   "cell_type": "code",
   "execution_count": 16,
   "metadata": {},
   "outputs": [],
   "source": [
    "## get the data out of the screen diagnostics -- 36 degree case\n",
    "\n",
    "es5_18_laser    = postScreen(S5,3,-1,'laser')  # single beam with 36 degree -- this one serves as the not-overlapped case\n",
    "es5_18_normal   = postScreen(S5,3,-1,'normal')\n",
    "\n",
    "es6_18_laser    = postScreen(S6,3,-1,'laser')  # double beam with 36 degree & overlap\n",
    "es6_18_normal   = postScreen(S6,3,-1,'normal')"
   ]
  },
  {
   "cell_type": "code",
   "execution_count": 24,
   "metadata": {},
   "outputs": [],
   "source": [
    "## Try other times [0,30]\n",
    "\n",
    "es1_18_t15_laser    = postScreen(S0,3,15,'laser')   # single beam case\n",
    "es1_18_t15_normal   = postScreen(S0,3,15,'normal')\n",
    "\n",
    "es2_18_t15_normal   = postScreen(S1,3,15,'normal')  # double beam with overlap\n",
    "es2_18_t15_laser    = postScreen(S1,3,15,'laser')\n",
    "\n",
    "es7_18_t15_normal   = postScreen(S7,3,15,'normal')  # double beam w/o overlap\n",
    "es7_18_t15_laser    = postScreen(S7,3,15,'laser')\n",
    "\n"
   ]
  },
  {
   "cell_type": "code",
   "execution_count": 45,
   "metadata": {},
   "outputs": [
    {
     "name": "stdout",
     "output_type": "stream",
     "text": [
      "[[Model]]\n",
      "    Model(temp)\n",
      "[[Fit Statistics]]\n",
      "    # fitting method   = leastsq\n",
      "    # function evals   = 40\n",
      "    # data points      = 70\n",
      "    # variables        = 2\n",
      "    chi-square         = 4.9200e-11\n",
      "    reduced chi-square = 7.2353e-13\n",
      "    Akaike info crit   = -1954.85363\n",
      "    Bayesian info crit = -1950.35664\n",
      "[[Variables]]\n",
      "    A:   8.0321e-05 +/- 8.8369e-07 (1.10%) (init = 3)\n",
      "    kT:  3.03296287 +/- 0.03682703 (1.21%) (init = 2.5)\n",
      "[[Correlations]] (unreported correlations are < 0.100)\n",
      "    C(A, kT) = -0.914\n",
      "kT:  3.032962869293299\n",
      "Reduced chi square:  7.235290332563368e-13\n",
      "[[Model]]\n",
      "    Model(temp)\n",
      "[[Fit Statistics]]\n",
      "    # fitting method   = leastsq\n",
      "    # function evals   = 49\n",
      "    # data points      = 70\n",
      "    # variables        = 2\n",
      "    chi-square         = 3.9367e-10\n",
      "    reduced chi-square = 5.7892e-12\n",
      "    Akaike info crit   = -1809.28103\n",
      "    Bayesian info crit = -1804.78404\n",
      "[[Variables]]\n",
      "    A:   4.9674e-05 +/- 9.8544e-07 (1.98%) (init = 3)\n",
      "    kT:  7.88548153 +/- 0.27925257 (3.54%) (init = 2.5)\n",
      "[[Correlations]] (unreported correlations are < 0.100)\n",
      "    C(A, kT) = -0.823\n",
      "kT:  7.885481529656797\n",
      "Reduced chi square:  5.789198652578811e-12\n",
      "[[Model]]\n",
      "    Model(temp)\n",
      "[[Fit Statistics]]\n",
      "    # fitting method   = leastsq\n",
      "    # function evals   = 43\n",
      "    # data points      = 70\n",
      "    # variables        = 2\n",
      "    chi-square         = 4.6336e-11\n",
      "    reduced chi-square = 6.8140e-13\n",
      "    Akaike info crit   = -1959.05252\n",
      "    Bayesian info crit = -1954.55553\n",
      "[[Variables]]\n",
      "    A:   4.4635e-05 +/- 6.7204e-07 (1.51%) (init = 3)\n",
      "    kT:  3.70968974 +/- 0.06908365 (1.86%) (init = 2.5)\n",
      "[[Correlations]] (unreported correlations are < 0.100)\n",
      "    C(A, kT) = -0.897\n",
      "kT:  3.709689740336308\n",
      "Reduced chi square:  6.814047581437152e-13\n",
      "[[Model]]\n",
      "    Model(temp)\n",
      "[[Fit Statistics]]\n",
      "    # fitting method   = leastsq\n",
      "    # function evals   = 43\n",
      "    # data points      = 70\n",
      "    # variables        = 2\n",
      "    chi-square         = 1.4369e-11\n",
      "    reduced chi-square = 2.1131e-13\n",
      "    Akaike info crit   = -2041.01138\n",
      "    Bayesian info crit = -2036.51438\n",
      "[[Variables]]\n",
      "    A:   3.1321e-05 +/- 2.2325e-07 (0.71%) (init = 3)\n",
      "    kT:  6.29735304 +/- 0.07237176 (1.15%) (init = 2.5)\n",
      "[[Correlations]] (unreported correlations are < 0.100)\n",
      "    C(A, kT) = -0.845\n",
      "kT:  6.297353036102459\n",
      "Reduced chi square:  2.1130777405526845e-13\n"
     ]
    }
   ],
   "source": [
    "me    = 9.1e-31                       # kg\n",
    "qe    = 1.6e-19                       # C\n",
    "c     = 3.0e8                         # m/s\n",
    "E0    = 0.511                         # MeV\n",
    "\n",
    "def temp(xdata, A, kT):\n",
    "    return np.exp(-xdata/kT)*A\n",
    "\n",
    "\n",
    "fitmethod =  'leastsq' #'leastsq' #'tnc' 'cg' 'differential_evolution'\n",
    "\n",
    "def fitting(case, start, end):\n",
    "    gmod = Model(temp)\n",
    "    gmod.set_param_hint('kT', value=2.5, vary=True, min=1.0e-3, max=1.0e1)\n",
    "    gmod.set_param_hint('A', value=3.0, vary=True, min=1.0e-5, max=1.0e5)\n",
    "    pars = gmod.make_params()\n",
    "    result = gmod.fit(case[start:end], xdata=ekin[start:end], method=fitmethod, nan_policy='omit')\n",
    "    print(result.fit_report())\n",
    "    print(\"kT: \", result.values['kT'])\n",
    "    print(\"Reduced chi square: \", result.redchi)\n",
    "    return result.best_fit, result.values['kT'], result.redchi\n",
    "\n",
    "high_l = 125\n",
    "high_r = 195\n",
    "\n",
    "SBS_high_y, SDS_high_kT, SDS_high_redchi = fitting(es0_18_laser_15,  high_l, high_r)   # single beam laser with 15\n",
    "\n",
    "SBN_high_y, SDN_high_kT, SDN_high_redchi = fitting(es2_18_normal,  high_l, high_r)  # double beam with overlap with 15\n",
    "# SBN_high_y, SDN_high_kT, SDN_high_redchi = fitting(es3_18_normal_15,  high_l, high_r)  # single two beam case\n",
    "\n",
    "\n",
    "# DBS_high_y, BDS_high_kT, BDS_high_redchi = fitting(es2_18_laser, high_l, high_r)\n",
    "DBN_high_y, BDN_high_kT, BDN_high_redchi = fitting(es1_18_normal_15, high_l, high_r)  # double beam w/o overlap with 15\n",
    "\n",
    "TBN_high_y, TDN_high_kT, TDN_high_redchi = fitting(es3_18_normal_15,  high_l, high_r)  # single two beam case\n"
   ]
  },
  {
   "cell_type": "code",
   "execution_count": 47,
   "metadata": {},
   "outputs": [],
   "source": [
    "plt.rc('text', usetex=False)\n",
    "mpl.rcParams['font.family'] = 'Arial'\n",
    "mpl.rcParams['axes.labelsize'] = 12\n",
    "mpl.rcParams['legend.fontsize'] = 16\n",
    "mpl.rcParams['xtick.labelsize'] = 12\n",
    "mpl.rcParams['ytick.labelsize'] = 12\n",
    "mpl.rcParams['lines.linewidth'] = 2\n",
    "\n",
    "width  = 3.14*1.0  # single column, 8cm\n",
    "height = width\n",
    "\n",
    "fig, ax = plt.subplots()\n",
    "fig.subplots_adjust(left=.2, bottom=.2, right=.9, top=.9)\n",
    "\n",
    "# ax.semilogy(ekin, es0_18_laser_15/es0_18_laser_15.max(), '-b', label='Case 0')\n",
    "# ax.semilogy(ekin[high_l:high_r], SBS_high_y/es0_18_laser_15.max(), '--b', linewidth=1.0, markersize=6, mfc='none',mew=1, label='Best Fit {:.1f} MeV'.format(SDS_high_kT))\n",
    "\n",
    "# ax.semilogy(ekin, es2_18_normal_15/es2_18_normal_15.max(), '-g', label='Case 1')\n",
    "# ax.semilogy(ekin[high_l:high_r], SBN_high_y/es2_18_normal_15.max(), '--g', linewidth=1.0, markersize=6, mfc='none',mew=1, label='Best Fit {:.1f} MeV'.format(SDN_high_kT))\n",
    "\n",
    "\n",
    "\n",
    "# ax.semilogy(ekin, es5_18_laser/es5_18_laser.max(), '-b', label='Case 5: laser axis')\n",
    "# ax.semilogy(ekin[high_l:high_r], SBS_high_y/es5_18_laser.max(), '--b', linewidth=3.0, markersize=6, mfc='none',mew=1, label='Best Fit {:.1f} MeV'.format(SDS_high_kT))\n",
    "\n",
    "\n",
    "\n",
    "ax.semilogy(ekin, es1_18_normal_15/es1_18_normal_15.max(), '-r', label='Case 2')\n",
    "ax.semilogy(ekin[high_l:high_r], DBN_high_y/es1_18_normal_15.max(), '--r', linewidth=1.0, markersize=6, mfc='none',mew=1, label='Best Fit {:.1f} MeV'.format(BDN_high_kT))\n",
    "\n",
    "ax.semilogy(ekin, es3_18_normal_15/es3_18_normal_15.max(), '-k', label='Case 0 x2')\n",
    "ax.semilogy(ekin[high_l:high_r], TBN_high_y/es3_18_normal_15.max(), '--k', linewidth=1.0, markersize=6, mfc='none',mew=1, label='Best Fit {:.1f} MeV'.format(TDN_high_kT))\n",
    "\n",
    "\n",
    "# ax.semilogy(ekin, es2_18_laser/es2_18_laser.max(), '-k', label='Case 3: laser axis')\n",
    "# ax.semilogy(ekin[high_l:high_r], DBS_high_y/es2_18_laser.max(), '--k', linewidth=2.0, markersize=6, mfc='none',mew=1, label='Best Fit {:.1f} MeV'.format(BDS_high_kT))\n",
    "\n",
    "ax.set_xlim(1.0, 10.0)\n",
    "ax.set_ylim(5e-2, 1)\n",
    "leg = ax.legend(loc='best', numpoints=1, fancybox=False, fontsize=8, frameon=False)\n",
    "leg._legend_box.align = \"right\"\n",
    "ax.set_xlabel(r'$E_k$ (MeV)',fontsize=12)\n",
    "ax.set_ylabel('dN/dE (No./MeV)',fontsize=12)\n",
    "ax.tick_params(axis='both',which='both', direction='out',labelsize=12)\n",
    "ax.grid(linestyle='--')\n",
    "\n",
    "# ax.minorticks_off()\n",
    "fig.set_size_inches(width, height)\n",
    "\n",
    "fig.savefig('/Users/yz/Desktop/'+'EneSpec_Screen18_Angular_test'+'.pdf',bbox_inches='tight',dpi=600)\n",
    "# plt.show()"
   ]
  },
  {
   "cell_type": "markdown",
   "metadata": {},
   "source": [
    "## Try to use the Sphere Screen diag."
   ]
  },
  {
   "cell_type": "code",
   "execution_count": 319,
   "metadata": {},
   "outputs": [],
   "source": [
    "def postScreenSphere(case,time,direction):\n",
    "    '''\n",
    "    INPUTS:\n",
    "    case: which simulation do you want to process\n",
    "    num:  which one of the screen diag. do you want to use\n",
    "    time: what time of the data do you want to get\n",
    "    OUTPUTS:\n",
    "    Data: the final data you get to plot the spectrum\n",
    "    '''\n",
    "    obj = case.Screen(5,units=['um','fs','MeV'])\n",
    "    rawData = obj.getData()[time]\n",
    "    sumData = np.sum(rawData,axis=2)\n",
    "    if direction == 'normal':\n",
    "        Data = np.sum(sumData[:,0:8],axis=1)\n",
    "    elif direction == 'laser':\n",
    "        Data = np.sum(sumData[:,8:45],axis=1)\n",
    "    else:\n",
    "        print('\"direction\" should be either \"nomral\" or \"laser\"')\n",
    "    return Data"
   ]
  },
  {
   "cell_type": "code",
   "execution_count": 320,
   "metadata": {},
   "outputs": [],
   "source": [
    "es1_sphere_laser    = postScreenSphere(S0,-1,'laser')\n",
    "es2_sphere_laser    = postScreenSphere(S1,-1,'laser')\n",
    "es1_sphere_normal    = postScreenSphere(S0,-1,'normal')\n",
    "es2_sphere_normal    = postScreenSphere(S1,-1,'normal')"
   ]
  },
  {
   "cell_type": "code",
   "execution_count": 321,
   "metadata": {},
   "outputs": [],
   "source": [
    "plt.rc('text', usetex=False)\n",
    "mpl.rcParams['font.family'] = 'Arial'\n",
    "mpl.rcParams['axes.labelsize'] = 12\n",
    "mpl.rcParams['legend.fontsize'] = 16\n",
    "mpl.rcParams['xtick.labelsize'] = 12\n",
    "mpl.rcParams['ytick.labelsize'] = 12\n",
    "mpl.rcParams['lines.linewidth'] = 2\n",
    "\n",
    "width  = 3.14*1.5  # single column, 8cm\n",
    "height = width\n",
    "\n",
    "fig, ax = plt.subplots()\n",
    "fig.subplots_adjust(left=.2, bottom=.2, right=.9, top=.9)\n",
    "\n",
    "ax.semilogy(ekin, -es1_sphere_laser, '-b', label='Case 0: laser axis')\n",
    "ax.semilogy(ekin, -es2_sphere_laser, '--b', label='Case 0: laser axis')\n",
    "\n",
    "# ax.semilogy(ekin[high_l:high_r], SBS_high_y/es1_18_laser.max(), '--b', linewidth=3.0, markersize=6, mfc='none',mew=1, label='Best Fit {:.0f} MeV'.format(SDS_high_kT))\n",
    "\n",
    "ax.semilogy(ekin, -es1_sphere_normal, '-r', label='Case 0: target normal')\n",
    "ax.semilogy(ekin, -es2_sphere_normal, '--r', label='Case 0: target normal')\n",
    "\n",
    "# ax.semilogy(ekin[high_l:high_r], DBN_high_y/es2_18_normal.max(), '--r', linewidth=3.0, markersize=6, mfc='none',mew=1, label='Best Fit {:.0f} MeV'.format(BDN_high_kT))\n",
    "\n",
    "\n",
    "ax.set_xlim(0.1, 30.0)\n",
    "# ax.set_ylim(1e-4, 1)\n",
    "leg = ax.legend(loc='best', numpoints=1, fancybox=False, fontsize=12, frameon=False)\n",
    "leg._legend_box.align = \"right\"\n",
    "ax.set_xlabel(r'$E_k$ (MeV)',fontsize=12)\n",
    "ax.set_ylabel('dN/dE (No./MeV)',fontsize=12)\n",
    "ax.tick_params(axis='both',which='both', direction='out',labelsize=12)\n",
    "ax.grid(linestyle='--')\n",
    "\n",
    "# ax.minorticks_off()\n",
    "fig.set_size_inches(width, height)\n",
    "\n",
    "# fig.savefig('/Users/yz/Desktop/'+'EneSpec_Screen18_Angular'+'.pdf',bbox_inches='tight',dpi=600)\n",
    "# plt.show()"
   ]
  },
  {
   "cell_type": "markdown",
   "metadata": {},
   "source": [
    "## Angular distribution"
   ]
  },
  {
   "cell_type": "code",
   "execution_count": 340,
   "metadata": {},
   "outputs": [
    {
     "name": "stdout",
     "output_type": "stream",
     "text": [
      "#3 - Number density of species # 3\n",
      "    ekin from 0.0195695 to 58.7084 in 200 steps  [ LOG SCALE ]  [ INCLUDING EDGES ] \n",
      "    user_function0 from -90 to 90 in 90 steps \n",
      "    user_function1 from -90 to 90 in 90 steps \n",
      "\n",
      "sum for ekin from 10.290264371731121 K_r to infinity\n",
      "sum for all user_function1\n",
      "\n"
     ]
    }
   ],
   "source": [
    "S0.Screen(3,\n",
    "         sum={\n",
    "             'user_function1':'all',\n",
    "             'ekin':[10,60]\n",
    "         },\n",
    "         data_log=True).plot(figure=3)"
   ]
  },
  {
   "cell_type": "code",
   "execution_count": 23,
   "metadata": {},
   "outputs": [],
   "source": [
    "def angularScreen(case, num, time):\n",
    "    '''\n",
    "    INPUTS:\n",
    "    case: which simulation do you want to process\n",
    "    num:  which one of the screen diag. do you want to use\n",
    "    time: what time of the data do you want to get\n",
    "    OUTPUTS:\n",
    "    Data: the final data you get to plot the spectrum\n",
    "    '''\n",
    "    obj = case.Screen(num,units=['um','fs','MeV'])\n",
    "    rawData = obj.getData()[time]\n",
    "    sumData = np.sum(rawData,axis=2)\n",
    "    return sumData"
   ]
  },
  {
   "cell_type": "code",
   "execution_count": 24,
   "metadata": {},
   "outputs": [],
   "source": [
    "ad0 = angularScreen(S0,3,-1)\n",
    "ad1 = angularScreen(S3,3,-1)\n",
    "ad2 = angularScreen(S1,3,-1)\n",
    "ad3 = angularScreen(S2,3,-1)"
   ]
  },
  {
   "cell_type": "code",
   "execution_count": 113,
   "metadata": {},
   "outputs": [
    {
     "data": {
      "text/plain": [
       "<matplotlib.colorbar.Colorbar at 0x14b966430>"
      ]
     },
     "execution_count": 113,
     "metadata": {},
     "output_type": "execute_result"
    }
   ],
   "source": [
    "## Try polar diagram\n",
    "\n",
    "fig=plt.figure()\n",
    "ax = fig.add_subplot(111, polar=True)\n",
    "\n",
    "\n",
    "pc = ax.imshow(ad2,cmap=newcmap,\n",
    "              origin='upper',\n",
    "              extent=[-90,90,0.1,30],\n",
    "              aspect='auto')\n",
    "\n",
    "fig.colorbar(pc)\n"
   ]
  },
  {
   "cell_type": "code",
   "execution_count": 26,
   "metadata": {},
   "outputs": [],
   "source": [
    "plt.rc('text', usetex=False)\n",
    "mpl.rcParams['font.family'] = 'Arial'\n",
    "mpl.rcParams['axes.labelsize'] = 12\n",
    "mpl.rcParams['legend.fontsize'] = 16\n",
    "mpl.rcParams['xtick.labelsize'] = 12\n",
    "mpl.rcParams['ytick.labelsize'] = 12\n",
    "mpl.rcParams['lines.linewidth'] = 2\n",
    "\n",
    "width  = 3.14*1.0  # single column, 8cm\n",
    "height = width\n",
    "\n",
    "bazbins = np.linspace(-np.pi/2., np.pi/2., 90)\n",
    "fbins = np.logspace(np.log10(0.01), np.log10(30), 200)\n",
    "# fbins = np.linspace(0, 30, 200)\n",
    "theta, r = np.meshgrid(bazbins, fbins) \n",
    "\n",
    "# Set up plot window\n",
    "fig, ax = plt.subplots(figsize=(width,height), subplot_kw=dict(projection='polar'))\n",
    "fig.subplots_adjust(left=.2, bottom=.2, right=.9, top=.9)\n",
    "\n",
    "# polar\n",
    "ax.set_theta_zero_location('E')\n",
    "ax.set_rlim([1,13])\n",
    "ax.set_thetamin(-90)\n",
    "ax.set_thetamax(90)\n",
    "ax.set_thetagrids([-90, -45, 0, 45, 90])\n",
    "ax.set_rticks([1, 5, 9, 13])  # Less radial ticks\n",
    "\n",
    "pc = ax.pcolormesh(theta, r, np.log10(ad3/ad3.max()+1e-3),\n",
    "# pc = ax.pcolormesh(theta, r, ad1/ad1.max(),\n",
    "                   cmap=newcmap,\n",
    "                   vmin=-1.0,vmax=0.0,\n",
    "                  shading='nearest',)\n",
    "ax.grid(True, linestyle='--', alpha=0.8, linewidth=1.0)\n",
    "fig.colorbar(pc)\n",
    "\n",
    "# ax.set_ylim((np.log10(10), np.log10(30)))\n",
    "plt.show() \n"
   ]
  },
  {
   "cell_type": "code",
   "execution_count": 362,
   "metadata": {},
   "outputs": [],
   "source": [
    "plt.figure()\n",
    "plt.imshow(ad1.T/ad1.max(),\n",
    "          origin='lower',\n",
    "          extent=[0.01,30,-90,90],\n",
    "          aspect='auto',\n",
    "          cmap=newcmap)\n",
    "plt.colorbar()\n",
    "plt.grid(color='k',linestyle='--',alpha=0.5)"
   ]
  },
  {
   "cell_type": "code",
   "execution_count": 363,
   "metadata": {},
   "outputs": [],
   "source": [
    "plt.figure()\n",
    "plt.imshow(ad2.T/ad2.max(),\n",
    "          origin='lower',\n",
    "          extent=[0.01,30,-90,90],\n",
    "          aspect='auto',\n",
    "          cmap=newcmap)\n",
    "plt.colorbar()\n",
    "plt.grid(color='k',linestyle='--',alpha=0.5)"
   ]
  },
  {
   "cell_type": "code",
   "execution_count": 44,
   "metadata": {},
   "outputs": [],
   "source": [
    "plt.figure()\n",
    "plt.imshow(ad5.T/ad5.max(),\n",
    "          origin='lower',\n",
    "          extent=[0.01,30,-90,90],\n",
    "          aspect='auto',\n",
    "          cmap=newcmap)\n",
    "plt.colorbar()\n",
    "plt.grid(color='k',linestyle='--',alpha=0.5)"
   ]
  },
  {
   "cell_type": "code",
   "execution_count": 83,
   "metadata": {},
   "outputs": [],
   "source": [
    "plt.figure()\n",
    "plt.imshow(ad6.T/ad6.max(),\n",
    "          origin='lower',\n",
    "          extent=[0.01,30,-90,90],\n",
    "          aspect='auto',\n",
    "          cmap=newcmap)\n",
    "plt.colorbar()\n",
    "plt.grid(color='k',linestyle='--',alpha=0.5)"
   ]
  },
  {
   "cell_type": "code",
   "execution_count": 371,
   "metadata": {},
   "outputs": [
    {
     "data": {
      "text/plain": [
       "<matplotlib.legend.Legend at 0x198341340>"
      ]
     },
     "execution_count": 371,
     "metadata": {},
     "output_type": "execute_result"
    }
   ],
   "source": [
    "angle = np.linspace(-90,90,90)\n",
    "plt.plot(angle, np.sum(ad1,axis=0)/np.sum(ad1,axis=0).max(), '-b', label='Case 0')\n",
    "plt.plot(angle, np.sum(ad2,axis=0)/np.sum(ad2,axis=0).max(), '-r', label='Case 3')\n",
    "plt.grid(color='k',linestyle='--',alpha=0.5)\n",
    "plt.legend()"
   ]
  },
  {
   "cell_type": "code",
   "execution_count": 104,
   "metadata": {},
   "outputs": [],
   "source": [
    "angle = np.linspace(-90,90,90)\n",
    "\n",
    "plt.rc('text', usetex=False)\n",
    "mpl.rcParams['font.family'] = 'Arial'\n",
    "mpl.rcParams['axes.labelsize'] = 12\n",
    "mpl.rcParams['legend.fontsize'] = 16\n",
    "mpl.rcParams['xtick.labelsize'] = 12\n",
    "mpl.rcParams['ytick.labelsize'] = 12\n",
    "mpl.rcParams['lines.linewidth'] = 2\n",
    "\n",
    "width  = 3.14*1.0  # single column, 8cm\n",
    "height = width\n",
    "\n",
    "fig, ax = plt.subplots()\n",
    "fig.subplots_adjust(left=.2, bottom=.2, right=.9, top=.9)\n",
    "\n",
    "# start = 132  # corresponding to an energy of 2 MeV\n",
    "start = 172  # corresponding to an energy of 10 MeV\n",
    "# start = 189  # corresponding to an energy of 20 MeV\n",
    "# ax.plot(angle, np.sum(ad1[start:],axis=0)/np.sum(ad1[start:],axis=0).max(), '-b', label='Case 0')\n",
    "ax.plot(angle, np.sum(ad2[start:],axis=0)/np.sum(ad2[start:],axis=0).max(), '-r', label='double beam')\n",
    "ax.plot(angle, np.sum(ad5[start:],axis=0)/np.sum(ad5[start:],axis=0).max(), '-g', label=r'single beam 36$\\degree$')\n",
    "# ax.plot(angle, np.sum(ad6[start:],axis=0)/np.sum(ad6[start:],axis=0).max(), '-k', label='Case 6')\n",
    "\n",
    "# ax.plot(angle, np.sum(ad1,axis=0), '-b', label='Case 0')\n",
    "# ax.plot(angle, np.sum(ad2,axis=0), '-r', label='Case 3')\n",
    "# ax.plot(angle, np.sum(ad5,axis=0), '-g', label='Case 5')\n",
    "\n",
    "ax.set_xlim(-90, 90)\n",
    "ax.set_ylim(0, 1)\n",
    "leg = ax.legend(loc='best', numpoints=1, fancybox=False, fontsize=8, frameon=False)\n",
    "leg._legend_box.align = \"right\"\n",
    "ax.set_xlabel(r'$\\theta=arctan(P_y/P_x)$ (degree)',fontsize=12)\n",
    "ax.set_ylabel('Relative Part. Number',fontsize=12)\n",
    "ax.tick_params(axis='both',which='both', direction='out',labelsize=12)\n",
    "ax.grid(linestyle='--')\n",
    "\n",
    "# ax.minorticks_off()\n",
    "fig.set_size_inches(width, height)\n",
    "\n",
    "fig.savefig('/Users/yz/Desktop/'+'AngularDist_above10MeV'+'.pdf',bbox_inches='tight',dpi=600)\n",
    "# plt.show()"
   ]
  },
  {
   "cell_type": "markdown",
   "metadata": {},
   "source": [
    "## Energy partition"
   ]
  },
  {
   "cell_type": "code",
   "execution_count": 3,
   "metadata": {},
   "outputs": [],
   "source": [
    "Ttot0 = S0.Scalar('Utot',units=['fs','J'],color='red').getTimes()[:]\n",
    "# Ttot2 = S2.Scalar('Utot',units=['fs','J'],color='red').getTimes()[:]\n",
    "\n",
    "utot0 = S0.Scalar('Utot',units=['fs','J'],color='red').getData()[:]\n",
    "ukin0 = S0.Scalar('Ukin',units=['fs','J'],color='red').getData()[:]\n",
    "upre0 = S0.Scalar('Ukin_pree',units=['fs','J'],color='red').getData()[:]\n",
    "uem0  = S0.Scalar('Uelm',units=['fs','J'],color='red').getData()[:]\n",
    "ulas0 = S0.Scalar('Uelm_bnd',units=['fs','J'],color='red',linestyle='solid').getData()[:]\n",
    "ubx0  = S0.Scalar('Uelm_Bx_m',units=['fs','J'],color='red',linestyle='solid').getData()[:]\n",
    "uby0  = S0.Scalar('Uelm_By_m',units=['fs','J'],color='red',linestyle='solid').getData()[:]\n",
    "ubz0  = S0.Scalar('Uelm_Bz_m',units=['fs','J'],color='red',linestyle='solid').getData()[:]\n",
    "uex0  = S0.Scalar('Uelm_Ex',units=['fs','J'],color='red',linestyle='solid').getData()[:]\n",
    "uey0  = S0.Scalar('Uelm_Ey',units=['fs','J'],color='red',linestyle='solid').getData()[:]\n",
    "uez0  = S0.Scalar('Uelm_Ez',units=['fs','J'],color='red',linestyle='solid').getData()[:]\n",
    "\n",
    "utot1 = S1.Scalar('Utot',units=['fs','J'],color='red').getData()[:]\n",
    "ukin1 = S1.Scalar('Ukin',units=['fs','J'],color='red').getData()[:]\n",
    "upre1 = S1.Scalar('Ukin_pree',units=['fs','J'],color='red').getData()[:]\n",
    "uem1  = S1.Scalar('Uelm',units=['fs','J'],color='red').getData()[:]\n",
    "ulas1 = S1.Scalar('Uelm_bnd',units=['fs','J'],color='red',linestyle='solid').getData()[:]\n",
    "ubx1  = S1.Scalar('Uelm_Bx_m',units=['fs','J'],color='red',linestyle='solid').getData()[:]\n",
    "uby1  = S1.Scalar('Uelm_By_m',units=['fs','J'],color='red',linestyle='solid').getData()[:]\n",
    "ubz1  = S1.Scalar('Uelm_Bz_m',units=['fs','J'],color='red',linestyle='solid').getData()[:]\n",
    "uex1  = S1.Scalar('Uelm_Ex',units=['fs','J'],color='red',linestyle='solid').getData()[:]\n",
    "uey1  = S1.Scalar('Uelm_Ey',units=['fs','J'],color='red',linestyle='solid').getData()[:]\n",
    "uez1  = S1.Scalar('Uelm_Ez',units=['fs','J'],color='red',linestyle='solid').getData()[:]\n",
    "\n",
    "# utot5 = S3.Scalar('Utot',units=['fs','J'],color='red').getData()[:]\n",
    "# ukin5 = S3.Scalar('Ukin',units=['fs','J'],color='red').getData()[:]\n",
    "# upre5 = S3.Scalar('Ukin_pree',units=['fs','J'],color='red').getData()[:]\n",
    "# uem5  = S3.Scalar('Uelm',units=['fs','J'],color='red').getData()[:]\n",
    "# ulas5 = S3.Scalar('Uelm_bnd',units=['fs','J'],color='red',linestyle='solid').getData()[:]\n",
    "# ubx5  = S3.Scalar('Uelm_Bx_m',units=['fs','J'],color='red',linestyle='solid').getData()[:]\n",
    "# uby5  = S3.Scalar('Uelm_By_m',units=['fs','J'],color='red',linestyle='solid').getData()[:]\n",
    "# ubz5  = S3.Scalar('Uelm_Bz_m',units=['fs','J'],color='red',linestyle='solid').getData()[:]\n",
    "# uex5  = S3.Scalar('Uelm_Ex',units=['fs','J'],color='red',linestyle='solid').getData()[:]\n",
    "# uey5  = S3.Scalar('Uelm_Ey',units=['fs','J'],color='red',linestyle='solid').getData()[:]\n",
    "# uez5  = S3.Scalar('Uelm_Ez',units=['fs','J'],color='red',linestyle='solid').getData()[:]\n",
    "\n",
    "utot2 = S2.Scalar('Utot',units=['fs','J'],color='red').getData()[:]\n",
    "ukin2 = S2.Scalar('Ukin',units=['fs','J'],color='red').getData()[:]\n",
    "upre2 = S2.Scalar('Ukin_pree',units=['fs','J'],color='red').getData()[:]\n",
    "uem2  = S2.Scalar('Uelm',units=['fs','J'],color='red').getData()[:]\n",
    "ulas2 = S2.Scalar('Uelm_bnd',units=['fs','J'],color='red',linestyle='solid').getData()[:]\n",
    "ubx2  = S2.Scalar('Uelm_Bx_m',units=['fs','J'],color='red',linestyle='solid').getData()[:]\n",
    "uby2  = S2.Scalar('Uelm_By_m',units=['fs','J'],color='red',linestyle='solid').getData()[:]\n",
    "ubz2  = S2.Scalar('Uelm_Bz_m',units=['fs','J'],color='red',linestyle='solid').getData()[:]\n",
    "uex2  = S2.Scalar('Uelm_Ex',units=['fs','J'],color='red',linestyle='solid').getData()[:]\n",
    "uey2  = S2.Scalar('Uelm_Ey',units=['fs','J'],color='red',linestyle='solid').getData()[:]\n",
    "uez2  = S2.Scalar('Uelm_Ez',units=['fs','J'],color='red',linestyle='solid').getData()[:]"
   ]
  },
  {
   "cell_type": "code",
   "execution_count": 5,
   "metadata": {},
   "outputs": [],
   "source": [
    "plt.rc('text', usetex=False)\n",
    "mpl.rcParams['font.family'] = 'Arial'\n",
    "mpl.rcParams['axes.labelsize'] = 12\n",
    "mpl.rcParams['legend.fontsize'] = 16\n",
    "# mpl.rcParams['legend.fontname'] = 'Comic Sans MS'\n",
    "mpl.rcParams['xtick.labelsize'] = 12\n",
    "mpl.rcParams['ytick.labelsize'] = 12\n",
    "mpl.rcParams['lines.linewidth'] = 2\n",
    "\n",
    "width  = 3.14*1.0  # single column, 8cm\n",
    "height = width\n",
    "\n",
    "fig, ax = plt.subplots()\n",
    "fig.subplots_adjust(left=.2, bottom=.2, right=.9, top=.9)\n",
    "\n",
    "norm = np.array(ubz1).max()\n",
    "# norm = np.array(ubz2).max()\n",
    "\n",
    "ax.plot(Ttot0,ubz0/norm,'-b', label='Case 0: Bz')\n",
    "# ax.plot(Ttot0,ubz2/norm,'-g', label='Case 1: Bz')\n",
    "ax.plot(Ttot0,ubz1/norm,'-r', label='Case 2: Bz')\n",
    "# ax.plot(Ttot0,ubz2/norm,'-k', label='Case 0 x2: Bz')\n",
    "ax.plot(Ttot0,uby0/norm,'--b',label='Case 0: By')\n",
    "# ax.plot(Ttot0,uby2/norm,'--g',label='Case 1: By')\n",
    "ax.plot(Ttot0,uby1/norm,'--r',label='Case 2: By')\n",
    "# ax.plot(Ttot0,uby2/norm,'--k',label='Case 0 x2: By')\n",
    "\n",
    "\n",
    "ax.set_xlim(0, 800)\n",
    "ax.set_ylim(0, 1)\n",
    "leg = ax.legend(loc='best', numpoints=1, fancybox=False, fontsize=8, frameon=False)\n",
    "leg._legend_box.align = \"right\"\n",
    "ax.set_xlabel('time (fs)',fontsize=12)\n",
    "ax.set_ylabel('Normalized Energy',fontsize=12)\n",
    "ax.tick_params(axis='both',which='both', direction='out',labelsize=12)\n",
    "# ax.grid(linestyle='--')\n",
    "\n",
    "# ax.minorticks_off()\n",
    "fig.set_size_inches(width, height)\n",
    "\n",
    "fig.savefig('/Users/yz/Desktop/'+'EnergyPartition5'+'.pdf',bbox_inches='tight',dpi=600)\n",
    "# plt.show()"
   ]
  },
  {
   "cell_type": "code",
   "execution_count": 42,
   "metadata": {},
   "outputs": [
    {
     "data": {
      "text/plain": [
       "[<matplotlib.lines.Line2D at 0x1260da400>]"
      ]
     },
     "execution_count": 42,
     "metadata": {},
     "output_type": "execute_result"
    }
   ],
   "source": [
    "plt.figure()\n",
    "plt.plot(uey1,'-r')\n",
    "plt.plot(ubz1,'-b')"
   ]
  },
  {
   "cell_type": "code",
   "execution_count": 56,
   "metadata": {},
   "outputs": [],
   "source": [
    "def EM_ave_evo(case, num, field):\n",
    "    data = case.Field(num,field).getData()\n",
    "    data_arr = np.array(data)\n",
    "    data_evo = np.sum(data_arr**2,axis=(2,3))\n",
    "    return data_evo"
   ]
  },
  {
   "cell_type": "code",
   "execution_count": 57,
   "metadata": {},
   "outputs": [],
   "source": [
    "Bz1_x = EM_ave_evo(S1, 1, 'Bz')\n",
    "By1_x = EM_ave_evo(S1, 1, 'By')"
   ]
  },
  {
   "cell_type": "code",
   "execution_count": 99,
   "metadata": {},
   "outputs": [],
   "source": [
    "Bz1_pre = np.sum(Bz1_x[:,:124],axis=1)\n",
    "By1_pre = np.sum(By1_x[:,:124],axis=1)"
   ]
  },
  {
   "cell_type": "code",
   "execution_count": 103,
   "metadata": {},
   "outputs": [],
   "source": [
    "Bz1_pre_bd = np.sum(Bz1_x[:,32:124],axis=1)\n",
    "By1_pre_bd = np.sum(By1_x[:,32:124],axis=1)"
   ]
  },
  {
   "cell_type": "code",
   "execution_count": 105,
   "metadata": {},
   "outputs": [],
   "source": [
    "Bz1_xyzt = S1.Field(1, 'Bz').getData()"
   ]
  },
  {
   "cell_type": "code",
   "execution_count": 106,
   "metadata": {},
   "outputs": [],
   "source": [
    "Bz1_xyzt = np.array(Bz1_xyzt)\n",
    "Bz1_yzt = np.sum(Bz1_xyzt[:,32:124,:,:],axis=1)"
   ]
  },
  {
   "cell_type": "code",
   "execution_count": 111,
   "metadata": {},
   "outputs": [],
   "source": [
    "Bz1_t = np.sum(Bz1_yzt[:,85:170,85:170],axis=(1,2))"
   ]
  },
  {
   "cell_type": "code",
   "execution_count": 112,
   "metadata": {},
   "outputs": [
    {
     "data": {
      "text/plain": [
       "[<matplotlib.lines.Line2D at 0x125e3a8b0>]"
      ]
     },
     "execution_count": 112,
     "metadata": {},
     "output_type": "execute_result"
    }
   ],
   "source": [
    "plt.figure()\n",
    "plt.plot(Bz1_t)\n"
   ]
  },
  {
   "cell_type": "code",
   "execution_count": null,
   "metadata": {},
   "outputs": [],
   "source": []
  },
  {
   "cell_type": "code",
   "execution_count": null,
   "metadata": {},
   "outputs": [],
   "source": []
  },
  {
   "cell_type": "code",
   "execution_count": null,
   "metadata": {},
   "outputs": [],
   "source": []
  },
  {
   "cell_type": "code",
   "execution_count": null,
   "metadata": {},
   "outputs": [],
   "source": []
  },
  {
   "cell_type": "code",
   "execution_count": null,
   "metadata": {},
   "outputs": [],
   "source": []
  },
  {
   "cell_type": "code",
   "execution_count": 52,
   "metadata": {},
   "outputs": [],
   "source": [
    "Bz0 = EM_ave_evo(S0, 1, 'Bz')\n",
    "By0 = EM_ave_evo(S0, 1, 'By')\n",
    "\n",
    "Bz1 = EM_ave_evo(S1, 1, 'Bz')\n",
    "By1 = EM_ave_evo(S1, 1, 'By')\n",
    "\n",
    "Bz2 = EM_ave_evo(S2, 1, 'Bz')\n",
    "By2 = EM_ave_evo(S2, 1, 'By')"
   ]
  },
  {
   "cell_type": "code",
   "execution_count": 104,
   "metadata": {},
   "outputs": [
    {
     "data": {
      "text/plain": [
       "[<matplotlib.lines.Line2D at 0x12653d2e0>]"
      ]
     },
     "execution_count": 104,
     "metadata": {},
     "output_type": "execute_result"
    }
   ],
   "source": [
    "plt.figure()\n",
    "# plt.plot(Bz0,'-b')\n",
    "# plt.plot(By0,'--b')\n",
    "plt.plot(Bz1,'-r')\n",
    "plt.plot(By1,'--r')\n",
    "plt.plot(Bz1_pre,'-b')\n",
    "plt.plot(By1_pre,'--b')\n",
    "plt.plot(Bz1_pre_bd,'-g')\n",
    "plt.plot(By1_pre_bd,'--g')\n",
    "# plt.plot(Bz2,'-g')\n",
    "# plt.plot(By2,'--g')"
   ]
  },
  {
   "cell_type": "code",
   "execution_count": 100,
   "metadata": {},
   "outputs": [
    {
     "data": {
      "text/plain": [
       "array([   653.68747937,  11949.19432333,  24700.72174754,  22853.70995301,\n",
       "        21704.1441698 ,  27041.35969946,  37270.06134992,  55427.88785097,\n",
       "        80869.26697806, 105138.14623657, 130751.38445982, 155878.03348291,\n",
       "       179479.99356482, 200655.17589823, 216153.87806367, 220288.25551657,\n",
       "       217864.14360606, 213740.60784631, 207172.75147856, 201439.512551  ,\n",
       "       194306.24482562, 189180.0757946 , 186487.83759419, 185570.79573826,\n",
       "       183013.36821539, 181658.15263619, 178918.43811778, 178023.07118122,\n",
       "       176669.07418121, 176470.25341206])"
      ]
     },
     "execution_count": 100,
     "metadata": {},
     "output_type": "execute_result"
    }
   ],
   "source": [
    "Bz1_pre"
   ]
  },
  {
   "cell_type": "code",
   "execution_count": 40,
   "metadata": {},
   "outputs": [],
   "source": [
    "Bz1 = EM_ave_evo(S1, 1, 'Bz')\n",
    "By1 = EM_ave_evo(S1, 1, 'By')"
   ]
  },
  {
   "cell_type": "code",
   "execution_count": 49,
   "metadata": {},
   "outputs": [],
   "source": [
    "Bz1_inst = EM_ave_evo(S1, 0, 'Bz')"
   ]
  },
  {
   "cell_type": "code",
   "execution_count": 55,
   "metadata": {},
   "outputs": [
    {
     "data": {
      "text/plain": [
       "[<matplotlib.lines.Line2D at 0x125e87df0>]"
      ]
     },
     "execution_count": 55,
     "metadata": {},
     "output_type": "execute_result"
    }
   ],
   "source": [
    "plt.figure()\n",
    "plt.plot(Bz1/Bz1.max(),'-r')\n",
    "# plt.plot(Bz1_inst,'--r')\n",
    "# plt.plot(By1,'-b')\n",
    "uby1_arr = np.array(uby1)\n",
    "plt.plot(uby1_arr/uby1_arr.max(),'-g')"
   ]
  },
  {
   "cell_type": "code",
   "execution_count": 47,
   "metadata": {},
   "outputs": [
    {
     "name": "stdout",
     "output_type": "stream",
     "text": [
      "***ERROR*** - Diagnostic is invalid\n",
      "Error: no field chosen\n",
      "Printing available fields:\n",
      "--------------------------\n",
      "\n",
      "    Bz\n"
     ]
    },
    {
     "data": {
      "text/plain": []
     },
     "execution_count": 47,
     "metadata": {},
     "output_type": "execute_result"
    }
   ],
   "source": [
    "S1.Field(0)"
   ]
  },
  {
   "cell_type": "code",
   "execution_count": 34,
   "metadata": {},
   "outputs": [],
   "source": [
    "dd = cc/cc.max()"
   ]
  },
  {
   "cell_type": "code",
   "execution_count": 36,
   "metadata": {},
   "outputs": [
    {
     "data": {
      "text/plain": [
       "[<matplotlib.lines.Line2D at 0x124547760>]"
      ]
     },
     "execution_count": 36,
     "metadata": {},
     "output_type": "execute_result"
    }
   ],
   "source": [
    "plt.figure()\n",
    "uby2_arr = np.array(uby2)\n",
    "plt.plot(uby2_arr/uby2_arr.max(),'-r')\n",
    "plt.plot(dd,'-b')"
   ]
  },
  {
   "cell_type": "code",
   "execution_count": 37,
   "metadata": {},
   "outputs": [
    {
     "name": "stdout",
     "output_type": "stream",
     "text": [
      "***ERROR*** - Diagnostic is invalid\n",
      "Error: no field chosen\n",
      "Printing available fields:\n",
      "--------------------------\n",
      "    Bx    By    Bz\n",
      "    Ex    Jx    Jy\n",
      "\n",
      "    Jz\n"
     ]
    },
    {
     "data": {
      "text/plain": []
     },
     "execution_count": 37,
     "metadata": {},
     "output_type": "execute_result"
    }
   ],
   "source": [
    "S2.Field(1)"
   ]
  },
  {
   "cell_type": "code",
   "execution_count": null,
   "metadata": {},
   "outputs": [],
   "source": []
  },
  {
   "cell_type": "code",
   "execution_count": null,
   "metadata": {},
   "outputs": [],
   "source": []
  },
  {
   "cell_type": "code",
   "execution_count": null,
   "metadata": {},
   "outputs": [],
   "source": []
  },
  {
   "cell_type": "code",
   "execution_count": 34,
   "metadata": {},
   "outputs": [],
   "source": [
    "plt.rc('text', usetex=False)\n",
    "mpl.rcParams['font.family'] = 'Arial'\n",
    "mpl.rcParams['axes.labelsize'] = 12\n",
    "mpl.rcParams['legend.fontsize'] = 16\n",
    "# mpl.rcParams['legend.fontname'] = 'Comic Sans MS'\n",
    "mpl.rcParams['xtick.labelsize'] = 12\n",
    "mpl.rcParams['ytick.labelsize'] = 12\n",
    "mpl.rcParams['lines.linewidth'] = 2\n",
    "\n",
    "width  = 3.14*1.0  # single column, 8cm\n",
    "height = width\n",
    "\n",
    "fig, ax = plt.subplots()\n",
    "fig.subplots_adjust(left=.2, bottom=.2, right=.9, top=.9)\n",
    "\n",
    "# norm = np.array(ubz5).max()\n",
    "norm = np.array(ubz2).max()\n",
    "\n",
    "ax.plot(Ttot0,uey0/norm,'-b', label='Case 0: Ey')\n",
    "ax.plot(Ttot0,uey5/norm,'-g', label='Case 1: Ey')\n",
    "ax.plot(Ttot0,uey1/norm,'-r', label='Case 2: Ey')\n",
    "ax.plot(Ttot0,uey2/norm,'-k', label='Case 0 x2: Ey')\n",
    "# ax.plot(Ttot0,uby0/norm,'--b',label='Case 0: By')\n",
    "# ax.plot(Ttot0,uby5/norm,'--g',label='Case 1: By')\n",
    "# ax.plot(Ttot0,uby1/norm,'--r',label='Case 2: By')\n",
    "# ax.plot(Ttot0,uby2/norm,'--k',label='Case 0 x2: By')\n",
    "\n",
    "\n",
    "ax.set_xlim(0, 1000)\n",
    "ax.set_ylim(0, 1)\n",
    "leg = ax.legend(loc='best', numpoints=1, fancybox=False, fontsize=8, frameon=False)\n",
    "leg._legend_box.align = \"right\"\n",
    "ax.set_xlabel('time (fs)',fontsize=12)\n",
    "ax.set_ylabel('Normalized Energy',fontsize=12)\n",
    "ax.tick_params(axis='both',which='both', direction='out',labelsize=12)\n",
    "# ax.grid(linestyle='--')\n",
    "\n",
    "# ax.minorticks_off()\n",
    "fig.set_size_inches(width, height)\n",
    "\n",
    "# fig.savefig('/Users/yz/Desktop/'+'EnergyPartition4'+'.pdf',bbox_inches='tight',dpi=600)\n",
    "# plt.show()"
   ]
  },
  {
   "cell_type": "code",
   "execution_count": 37,
   "metadata": {},
   "outputs": [
    {
     "name": "stderr",
     "output_type": "stream",
     "text": [
      "<ipython-input-37-dd4da8cc4121>:1: RuntimeWarning: divide by zero encountered in true_divide\n",
      "  absorption0 = np.array(ukin0)/np.array(ulas0)*100\n",
      "<ipython-input-37-dd4da8cc4121>:3: RuntimeWarning: divide by zero encountered in true_divide\n",
      "  absorption1 = np.array(ukin1)/np.array(ulas1)*100\n",
      "<ipython-input-37-dd4da8cc4121>:5: RuntimeWarning: divide by zero encountered in true_divide\n",
      "  absorption5 = np.array(ukin5)/np.array(ulas5)*100\n",
      "<ipython-input-37-dd4da8cc4121>:7: RuntimeWarning: divide by zero encountered in true_divide\n",
      "  absorption2 = np.array(ukin2)/np.array(ulas2)*100\n",
      "<ipython-input-37-dd4da8cc4121>:10: RuntimeWarning: divide by zero encountered in true_divide\n",
      "  absorption0_pre = np.array(upre0)/np.array(ulas0)*100\n",
      "<ipython-input-37-dd4da8cc4121>:12: RuntimeWarning: divide by zero encountered in true_divide\n",
      "  absorption1_pre = np.array(upre1)/np.array(ulas1)*100\n",
      "<ipython-input-37-dd4da8cc4121>:14: RuntimeWarning: divide by zero encountered in true_divide\n",
      "  absorption5_pre = np.array(upre5)/np.array(ulas5)*100\n",
      "<ipython-input-37-dd4da8cc4121>:16: RuntimeWarning: divide by zero encountered in true_divide\n",
      "  absorption2_pre = np.array(upre2)/np.array(ulas2)*100\n"
     ]
    }
   ],
   "source": [
    "absorption0 = np.array(ukin0)/np.array(ulas0)*100\n",
    "absorption0[0] = 0.\n",
    "absorption1 = np.array(ukin1)/np.array(ulas1)*100\n",
    "absorption1[0] = 0.\n",
    "absorption5 = np.array(ukin5)/np.array(ulas5)*100\n",
    "absorption1[0] = 0.\n",
    "absorption2 = np.array(ukin2)/np.array(ulas2)*100\n",
    "absorption2[0] = 0.\n",
    "\n",
    "absorption0_pre = np.array(upre0)/np.array(ulas0)*100\n",
    "absorption0_pre[0] = 0.\n",
    "absorption1_pre = np.array(upre1)/np.array(ulas1)*100\n",
    "absorption1_pre[0] = 0.\n",
    "absorption5_pre = np.array(upre5)/np.array(ulas5)*100\n",
    "absorption5_pre[0] = 0.\n",
    "absorption2_pre = np.array(upre2)/np.array(ulas2)*100\n",
    "absorption2_pre[0] = 0.\n",
    "\n",
    "plt.rc('text', usetex=False)\n",
    "mpl.rcParams['font.family'] = 'Arial'\n",
    "mpl.rcParams['axes.labelsize'] = 12\n",
    "mpl.rcParams['legend.fontsize'] = 16\n",
    "# mpl.rcParams['legend.fontname'] = 'Comic Sans MS'\n",
    "mpl.rcParams['xtick.labelsize'] = 12\n",
    "mpl.rcParams['ytick.labelsize'] = 12\n",
    "mpl.rcParams['lines.linewidth'] = 2\n",
    "\n",
    "width  = 3.14*1.0  # single column, 8cm\n",
    "height = width\n",
    "\n",
    "fig, ax = plt.subplots()\n",
    "fig.subplots_adjust(left=.2, bottom=.2, right=.9, top=.9)\n",
    "\n",
    "norm = np.array(ubz1).max()\n",
    "\n",
    "ax.plot(Ttot0,absorption0,'-b', label='Case 0: all plasma')\n",
    "ax.plot(Ttot0,absorption5,'-g', label='Case 1: all plasma')\n",
    "ax.plot(Ttot0,absorption1,'-r', label='Case 2: all plasma')\n",
    "ax.plot(Ttot0,absorption2,'-k', label='Case 0x2: all plasma')\n",
    "\n",
    "ax.plot(Ttot0,absorption0_pre,'--b',label='Case 0: electron')\n",
    "ax.plot(Ttot0,absorption5_pre,'--g',label='Case 1: electron')\n",
    "ax.plot(Ttot0,absorption1_pre,'--r',label='Case 2: electron')\n",
    "ax.plot(Ttot0,absorption2_pre,'--k',label='Case 0x2: electron')\n",
    "\n",
    "\n",
    "ax.set_xlim(0, 1000)\n",
    "ax.set_ylim(30, 80)\n",
    "leg = ax.legend(loc='best', numpoints=1, fancybox=False, fontsize=8, frameon=False)\n",
    "leg._legend_box.align = \"right\"\n",
    "ax.set_xlabel('time (fs)',fontsize=12)\n",
    "ax.set_ylabel('Ekin / Elaser (%)',fontsize=12)\n",
    "ax.tick_params(axis='both',which='both', direction='out',labelsize=12)\n",
    "# ax.grid(linestyle='--')\n",
    "\n",
    "# ax.minorticks_off()\n",
    "fig.set_size_inches(width, height)\n",
    "\n",
    "fig.savefig('/Users/yz/Desktop/'+'LaserAbsorption2'+'.pdf',bbox_inches='tight',dpi=600)\n",
    "# plt.show()"
   ]
  },
  {
   "cell_type": "code",
   "execution_count": null,
   "metadata": {},
   "outputs": [],
   "source": []
  },
  {
   "cell_type": "markdown",
   "metadata": {},
   "source": [
    "## 3D rendering"
   ]
  },
  {
   "cell_type": "code",
   "execution_count": 5,
   "metadata": {},
   "outputs": [
    {
     "name": "stdout",
     "output_type": "stream",
     "text": [
      "* Processing /Volumes/LaCie/Data_Smilei/2020/RAL/DO3d_Ang15_Waist2_Dist5p5_Width3_IonHe_Lz30_Screen//Field1_Bz/Field1_Bz_00000116.pvti\n",
      "* Processing /Volumes/LaCie/Data_Smilei/2020/RAL/DO3d_Ang15_Waist2_Dist5p5_Width3_IonHe_Lz30_Screen//Field1_Bz/Field1_Bz_00000706.pvti\n",
      "* Processing /Volumes/LaCie/Data_Smilei/2020/RAL/DO3d_Ang15_Waist2_Dist5p5_Width3_IonHe_Lz30_Screen//Field1_Bz/Field1_Bz_00001295.pvti\n",
      "* Processing /Volumes/LaCie/Data_Smilei/2020/RAL/DO3d_Ang15_Waist2_Dist5p5_Width3_IonHe_Lz30_Screen//Field1_Bz/Field1_Bz_00001885.pvti\n",
      "* Processing /Volumes/LaCie/Data_Smilei/2020/RAL/DO3d_Ang15_Waist2_Dist5p5_Width3_IonHe_Lz30_Screen//Field1_Bz/Field1_Bz_00002475.pvti\n",
      "* Processing /Volumes/LaCie/Data_Smilei/2020/RAL/DO3d_Ang15_Waist2_Dist5p5_Width3_IonHe_Lz30_Screen//Field1_Bz/Field1_Bz_00003064.pvti\n",
      "* Processing /Volumes/LaCie/Data_Smilei/2020/RAL/DO3d_Ang15_Waist2_Dist5p5_Width3_IonHe_Lz30_Screen//Field1_Bz/Field1_Bz_00003654.pvti\n",
      "* Processing /Volumes/LaCie/Data_Smilei/2020/RAL/DO3d_Ang15_Waist2_Dist5p5_Width3_IonHe_Lz30_Screen//Field1_Bz/Field1_Bz_00004243.pvti\n",
      "* Processing /Volumes/LaCie/Data_Smilei/2020/RAL/DO3d_Ang15_Waist2_Dist5p5_Width3_IonHe_Lz30_Screen//Field1_Bz/Field1_Bz_00004833.pvti\n",
      "* Processing /Volumes/LaCie/Data_Smilei/2020/RAL/DO3d_Ang15_Waist2_Dist5p5_Width3_IonHe_Lz30_Screen//Field1_Bz/Field1_Bz_00005423.pvti\n",
      "* Processing /Volumes/LaCie/Data_Smilei/2020/RAL/DO3d_Ang15_Waist2_Dist5p5_Width3_IonHe_Lz30_Screen//Field1_Bz/Field1_Bz_00006012.pvti\n",
      "* Processing /Volumes/LaCie/Data_Smilei/2020/RAL/DO3d_Ang15_Waist2_Dist5p5_Width3_IonHe_Lz30_Screen//Field1_Bz/Field1_Bz_00006602.pvti\n",
      "* Processing /Volumes/LaCie/Data_Smilei/2020/RAL/DO3d_Ang15_Waist2_Dist5p5_Width3_IonHe_Lz30_Screen//Field1_Bz/Field1_Bz_00007192.pvti\n",
      "* Processing /Volumes/LaCie/Data_Smilei/2020/RAL/DO3d_Ang15_Waist2_Dist5p5_Width3_IonHe_Lz30_Screen//Field1_Bz/Field1_Bz_00007781.pvti\n",
      "* Processing /Volumes/LaCie/Data_Smilei/2020/RAL/DO3d_Ang15_Waist2_Dist5p5_Width3_IonHe_Lz30_Screen//Field1_Bz/Field1_Bz_00008371.pvti\n",
      "* Processing /Volumes/LaCie/Data_Smilei/2020/RAL/DO3d_Ang15_Waist2_Dist5p5_Width3_IonHe_Lz30_Screen//Field1_Bz/Field1_Bz_00008961.pvti\n",
      "* Processing /Volumes/LaCie/Data_Smilei/2020/RAL/DO3d_Ang15_Waist2_Dist5p5_Width3_IonHe_Lz30_Screen//Field1_Bz/Field1_Bz_00009550.pvti\n",
      "* Processing /Volumes/LaCie/Data_Smilei/2020/RAL/DO3d_Ang15_Waist2_Dist5p5_Width3_IonHe_Lz30_Screen//Field1_Bz/Field1_Bz_00010140.pvti\n",
      "* Processing /Volumes/LaCie/Data_Smilei/2020/RAL/DO3d_Ang15_Waist2_Dist5p5_Width3_IonHe_Lz30_Screen//Field1_Bz/Field1_Bz_00010729.pvti\n",
      "* Processing /Volumes/LaCie/Data_Smilei/2020/RAL/DO3d_Ang15_Waist2_Dist5p5_Width3_IonHe_Lz30_Screen//Field1_Bz/Field1_Bz_00011319.pvti\n",
      "* Processing /Volumes/LaCie/Data_Smilei/2020/RAL/DO3d_Ang15_Waist2_Dist5p5_Width3_IonHe_Lz30_Screen//Field1_Bz/Field1_Bz_00011909.pvti\n",
      "* Processing /Volumes/LaCie/Data_Smilei/2020/RAL/DO3d_Ang15_Waist2_Dist5p5_Width3_IonHe_Lz30_Screen//Field1_Bz/Field1_Bz_00012498.pvti\n",
      "* Processing /Volumes/LaCie/Data_Smilei/2020/RAL/DO3d_Ang15_Waist2_Dist5p5_Width3_IonHe_Lz30_Screen//Field1_Bz/Field1_Bz_00013088.pvti\n",
      "* Processing /Volumes/LaCie/Data_Smilei/2020/RAL/DO3d_Ang15_Waist2_Dist5p5_Width3_IonHe_Lz30_Screen//Field1_Bz/Field1_Bz_00013678.pvti\n",
      "* Processing /Volumes/LaCie/Data_Smilei/2020/RAL/DO3d_Ang15_Waist2_Dist5p5_Width3_IonHe_Lz30_Screen//Field1_Bz/Field1_Bz_00014267.pvti\n",
      "* Processing /Volumes/LaCie/Data_Smilei/2020/RAL/DO3d_Ang15_Waist2_Dist5p5_Width3_IonHe_Lz30_Screen//Field1_Bz/Field1_Bz_00014857.pvti\n",
      "* Processing /Volumes/LaCie/Data_Smilei/2020/RAL/DO3d_Ang15_Waist2_Dist5p5_Width3_IonHe_Lz30_Screen//Field1_Bz/Field1_Bz_00015446.pvti\n",
      "* Processing /Volumes/LaCie/Data_Smilei/2020/RAL/DO3d_Ang15_Waist2_Dist5p5_Width3_IonHe_Lz30_Screen//Field1_Bz/Field1_Bz_00016036.pvti\n",
      "* Processing /Volumes/LaCie/Data_Smilei/2020/RAL/DO3d_Ang15_Waist2_Dist5p5_Width3_IonHe_Lz30_Screen//Field1_Bz/Field1_Bz_00016626.pvti\n",
      "* Processing /Volumes/LaCie/Data_Smilei/2020/RAL/DO3d_Ang15_Waist2_Dist5p5_Width3_IonHe_Lz30_Screen//Field1_Bz/Field1_Bz_00017215.pvti\n",
      "Successfully exported 3D plot to VTK, folder='/Volumes/LaCie/Data_Smilei/2020/RAL/DO3d_Ang15_Waist2_Dist5p5_Width3_IonHe_Lz30_Screen//Field1_Bz/\n"
     ]
    }
   ],
   "source": [
    "S1.Field(1,'Bz').toVTK(numberOfPieces=1)"
   ]
  },
  {
   "cell_type": "code",
   "execution_count": 6,
   "metadata": {},
   "outputs": [
    {
     "name": "stdout",
     "output_type": "stream",
     "text": [
      "* Processing /Volumes/LaCie/Data_Smilei/2020/RAL/DO3d_Ang15_Waist2_Dist5p5_Width3_IonHe_Lz30_Screen//Field0_Bz/Field0_Bz_00000000.pvti\n",
      "* Processing /Volumes/LaCie/Data_Smilei/2020/RAL/DO3d_Ang15_Waist2_Dist5p5_Width3_IonHe_Lz30_Screen//Field0_Bz/Field0_Bz_00000590.pvti\n",
      "* Processing /Volumes/LaCie/Data_Smilei/2020/RAL/DO3d_Ang15_Waist2_Dist5p5_Width3_IonHe_Lz30_Screen//Field0_Bz/Field0_Bz_00001179.pvti\n",
      "* Processing /Volumes/LaCie/Data_Smilei/2020/RAL/DO3d_Ang15_Waist2_Dist5p5_Width3_IonHe_Lz30_Screen//Field0_Bz/Field0_Bz_00001769.pvti\n",
      "* Processing /Volumes/LaCie/Data_Smilei/2020/RAL/DO3d_Ang15_Waist2_Dist5p5_Width3_IonHe_Lz30_Screen//Field0_Bz/Field0_Bz_00002359.pvti\n",
      "* Processing /Volumes/LaCie/Data_Smilei/2020/RAL/DO3d_Ang15_Waist2_Dist5p5_Width3_IonHe_Lz30_Screen//Field0_Bz/Field0_Bz_00002948.pvti\n",
      "* Processing /Volumes/LaCie/Data_Smilei/2020/RAL/DO3d_Ang15_Waist2_Dist5p5_Width3_IonHe_Lz30_Screen//Field0_Bz/Field0_Bz_00003538.pvti\n",
      "* Processing /Volumes/LaCie/Data_Smilei/2020/RAL/DO3d_Ang15_Waist2_Dist5p5_Width3_IonHe_Lz30_Screen//Field0_Bz/Field0_Bz_00004127.pvti\n",
      "* Processing /Volumes/LaCie/Data_Smilei/2020/RAL/DO3d_Ang15_Waist2_Dist5p5_Width3_IonHe_Lz30_Screen//Field0_Bz/Field0_Bz_00004717.pvti\n",
      "* Processing /Volumes/LaCie/Data_Smilei/2020/RAL/DO3d_Ang15_Waist2_Dist5p5_Width3_IonHe_Lz30_Screen//Field0_Bz/Field0_Bz_00005307.pvti\n",
      "* Processing /Volumes/LaCie/Data_Smilei/2020/RAL/DO3d_Ang15_Waist2_Dist5p5_Width3_IonHe_Lz30_Screen//Field0_Bz/Field0_Bz_00005896.pvti\n",
      "* Processing /Volumes/LaCie/Data_Smilei/2020/RAL/DO3d_Ang15_Waist2_Dist5p5_Width3_IonHe_Lz30_Screen//Field0_Bz/Field0_Bz_00006486.pvti\n",
      "* Processing /Volumes/LaCie/Data_Smilei/2020/RAL/DO3d_Ang15_Waist2_Dist5p5_Width3_IonHe_Lz30_Screen//Field0_Bz/Field0_Bz_00007076.pvti\n",
      "* Processing /Volumes/LaCie/Data_Smilei/2020/RAL/DO3d_Ang15_Waist2_Dist5p5_Width3_IonHe_Lz30_Screen//Field0_Bz/Field0_Bz_00007665.pvti\n",
      "* Processing /Volumes/LaCie/Data_Smilei/2020/RAL/DO3d_Ang15_Waist2_Dist5p5_Width3_IonHe_Lz30_Screen//Field0_Bz/Field0_Bz_00008255.pvti\n",
      "* Processing /Volumes/LaCie/Data_Smilei/2020/RAL/DO3d_Ang15_Waist2_Dist5p5_Width3_IonHe_Lz30_Screen//Field0_Bz/Field0_Bz_00008845.pvti\n",
      "* Processing /Volumes/LaCie/Data_Smilei/2020/RAL/DO3d_Ang15_Waist2_Dist5p5_Width3_IonHe_Lz30_Screen//Field0_Bz/Field0_Bz_00009434.pvti\n",
      "* Processing /Volumes/LaCie/Data_Smilei/2020/RAL/DO3d_Ang15_Waist2_Dist5p5_Width3_IonHe_Lz30_Screen//Field0_Bz/Field0_Bz_00010024.pvti\n",
      "* Processing /Volumes/LaCie/Data_Smilei/2020/RAL/DO3d_Ang15_Waist2_Dist5p5_Width3_IonHe_Lz30_Screen//Field0_Bz/Field0_Bz_00010613.pvti\n",
      "* Processing /Volumes/LaCie/Data_Smilei/2020/RAL/DO3d_Ang15_Waist2_Dist5p5_Width3_IonHe_Lz30_Screen//Field0_Bz/Field0_Bz_00011203.pvti\n",
      "* Processing /Volumes/LaCie/Data_Smilei/2020/RAL/DO3d_Ang15_Waist2_Dist5p5_Width3_IonHe_Lz30_Screen//Field0_Bz/Field0_Bz_00011793.pvti\n",
      "* Processing /Volumes/LaCie/Data_Smilei/2020/RAL/DO3d_Ang15_Waist2_Dist5p5_Width3_IonHe_Lz30_Screen//Field0_Bz/Field0_Bz_00012382.pvti\n",
      "* Processing /Volumes/LaCie/Data_Smilei/2020/RAL/DO3d_Ang15_Waist2_Dist5p5_Width3_IonHe_Lz30_Screen//Field0_Bz/Field0_Bz_00012972.pvti\n",
      "* Processing /Volumes/LaCie/Data_Smilei/2020/RAL/DO3d_Ang15_Waist2_Dist5p5_Width3_IonHe_Lz30_Screen//Field0_Bz/Field0_Bz_00013562.pvti\n",
      "* Processing /Volumes/LaCie/Data_Smilei/2020/RAL/DO3d_Ang15_Waist2_Dist5p5_Width3_IonHe_Lz30_Screen//Field0_Bz/Field0_Bz_00014151.pvti\n",
      "* Processing /Volumes/LaCie/Data_Smilei/2020/RAL/DO3d_Ang15_Waist2_Dist5p5_Width3_IonHe_Lz30_Screen//Field0_Bz/Field0_Bz_00014741.pvti\n",
      "* Processing /Volumes/LaCie/Data_Smilei/2020/RAL/DO3d_Ang15_Waist2_Dist5p5_Width3_IonHe_Lz30_Screen//Field0_Bz/Field0_Bz_00015330.pvti\n",
      "* Processing /Volumes/LaCie/Data_Smilei/2020/RAL/DO3d_Ang15_Waist2_Dist5p5_Width3_IonHe_Lz30_Screen//Field0_Bz/Field0_Bz_00015920.pvti\n",
      "* Processing /Volumes/LaCie/Data_Smilei/2020/RAL/DO3d_Ang15_Waist2_Dist5p5_Width3_IonHe_Lz30_Screen//Field0_Bz/Field0_Bz_00016510.pvti\n",
      "* Processing /Volumes/LaCie/Data_Smilei/2020/RAL/DO3d_Ang15_Waist2_Dist5p5_Width3_IonHe_Lz30_Screen//Field0_Bz/Field0_Bz_00017099.pvti\n",
      "* Processing /Volumes/LaCie/Data_Smilei/2020/RAL/DO3d_Ang15_Waist2_Dist5p5_Width3_IonHe_Lz30_Screen//Field0_Bz/Field0_Bz_00017689.pvti\n",
      "Successfully exported 3D plot to VTK, folder='/Volumes/LaCie/Data_Smilei/2020/RAL/DO3d_Ang15_Waist2_Dist5p5_Width3_IonHe_Lz30_Screen//Field0_Bz/\n"
     ]
    }
   ],
   "source": [
    "S1.Field(0,'Bz').toVTK(numberOfPieces=1)"
   ]
  },
  {
   "cell_type": "code",
   "execution_count": 7,
   "metadata": {},
   "outputs": [
    {
     "name": "stdout",
     "output_type": "stream",
     "text": [
      "* Processing /Volumes/LaCie/Data_Smilei/2020/RAL/DO3d_Ang15_Waist2_Dist5p5_Width3_IonHe_Lz30_Screen//ParticleBinning_3/ParticleBinning_3_00000000.pvti\n",
      "* Processing /Volumes/LaCie/Data_Smilei/2020/RAL/DO3d_Ang15_Waist2_Dist5p5_Width3_IonHe_Lz30_Screen//ParticleBinning_3/ParticleBinning_3_00000590.pvti\n",
      "* Processing /Volumes/LaCie/Data_Smilei/2020/RAL/DO3d_Ang15_Waist2_Dist5p5_Width3_IonHe_Lz30_Screen//ParticleBinning_3/ParticleBinning_3_00001179.pvti\n",
      "* Processing /Volumes/LaCie/Data_Smilei/2020/RAL/DO3d_Ang15_Waist2_Dist5p5_Width3_IonHe_Lz30_Screen//ParticleBinning_3/ParticleBinning_3_00001769.pvti\n",
      "* Processing /Volumes/LaCie/Data_Smilei/2020/RAL/DO3d_Ang15_Waist2_Dist5p5_Width3_IonHe_Lz30_Screen//ParticleBinning_3/ParticleBinning_3_00002359.pvti\n",
      "* Processing /Volumes/LaCie/Data_Smilei/2020/RAL/DO3d_Ang15_Waist2_Dist5p5_Width3_IonHe_Lz30_Screen//ParticleBinning_3/ParticleBinning_3_00002948.pvti\n",
      "* Processing /Volumes/LaCie/Data_Smilei/2020/RAL/DO3d_Ang15_Waist2_Dist5p5_Width3_IonHe_Lz30_Screen//ParticleBinning_3/ParticleBinning_3_00003538.pvti\n",
      "* Processing /Volumes/LaCie/Data_Smilei/2020/RAL/DO3d_Ang15_Waist2_Dist5p5_Width3_IonHe_Lz30_Screen//ParticleBinning_3/ParticleBinning_3_00004127.pvti\n",
      "* Processing /Volumes/LaCie/Data_Smilei/2020/RAL/DO3d_Ang15_Waist2_Dist5p5_Width3_IonHe_Lz30_Screen//ParticleBinning_3/ParticleBinning_3_00004717.pvti\n",
      "* Processing /Volumes/LaCie/Data_Smilei/2020/RAL/DO3d_Ang15_Waist2_Dist5p5_Width3_IonHe_Lz30_Screen//ParticleBinning_3/ParticleBinning_3_00005307.pvti\n",
      "* Processing /Volumes/LaCie/Data_Smilei/2020/RAL/DO3d_Ang15_Waist2_Dist5p5_Width3_IonHe_Lz30_Screen//ParticleBinning_3/ParticleBinning_3_00005896.pvti\n",
      "* Processing /Volumes/LaCie/Data_Smilei/2020/RAL/DO3d_Ang15_Waist2_Dist5p5_Width3_IonHe_Lz30_Screen//ParticleBinning_3/ParticleBinning_3_00006486.pvti\n",
      "* Processing /Volumes/LaCie/Data_Smilei/2020/RAL/DO3d_Ang15_Waist2_Dist5p5_Width3_IonHe_Lz30_Screen//ParticleBinning_3/ParticleBinning_3_00007076.pvti\n",
      "* Processing /Volumes/LaCie/Data_Smilei/2020/RAL/DO3d_Ang15_Waist2_Dist5p5_Width3_IonHe_Lz30_Screen//ParticleBinning_3/ParticleBinning_3_00007665.pvti\n",
      "* Processing /Volumes/LaCie/Data_Smilei/2020/RAL/DO3d_Ang15_Waist2_Dist5p5_Width3_IonHe_Lz30_Screen//ParticleBinning_3/ParticleBinning_3_00008255.pvti\n",
      "* Processing /Volumes/LaCie/Data_Smilei/2020/RAL/DO3d_Ang15_Waist2_Dist5p5_Width3_IonHe_Lz30_Screen//ParticleBinning_3/ParticleBinning_3_00008845.pvti\n",
      "* Processing /Volumes/LaCie/Data_Smilei/2020/RAL/DO3d_Ang15_Waist2_Dist5p5_Width3_IonHe_Lz30_Screen//ParticleBinning_3/ParticleBinning_3_00009434.pvti\n",
      "* Processing /Volumes/LaCie/Data_Smilei/2020/RAL/DO3d_Ang15_Waist2_Dist5p5_Width3_IonHe_Lz30_Screen//ParticleBinning_3/ParticleBinning_3_00010024.pvti\n",
      "* Processing /Volumes/LaCie/Data_Smilei/2020/RAL/DO3d_Ang15_Waist2_Dist5p5_Width3_IonHe_Lz30_Screen//ParticleBinning_3/ParticleBinning_3_00010613.pvti\n",
      "* Processing /Volumes/LaCie/Data_Smilei/2020/RAL/DO3d_Ang15_Waist2_Dist5p5_Width3_IonHe_Lz30_Screen//ParticleBinning_3/ParticleBinning_3_00011203.pvti\n",
      "* Processing /Volumes/LaCie/Data_Smilei/2020/RAL/DO3d_Ang15_Waist2_Dist5p5_Width3_IonHe_Lz30_Screen//ParticleBinning_3/ParticleBinning_3_00011793.pvti\n",
      "* Processing /Volumes/LaCie/Data_Smilei/2020/RAL/DO3d_Ang15_Waist2_Dist5p5_Width3_IonHe_Lz30_Screen//ParticleBinning_3/ParticleBinning_3_00012382.pvti\n",
      "* Processing /Volumes/LaCie/Data_Smilei/2020/RAL/DO3d_Ang15_Waist2_Dist5p5_Width3_IonHe_Lz30_Screen//ParticleBinning_3/ParticleBinning_3_00012972.pvti\n",
      "* Processing /Volumes/LaCie/Data_Smilei/2020/RAL/DO3d_Ang15_Waist2_Dist5p5_Width3_IonHe_Lz30_Screen//ParticleBinning_3/ParticleBinning_3_00013562.pvti\n",
      "* Processing /Volumes/LaCie/Data_Smilei/2020/RAL/DO3d_Ang15_Waist2_Dist5p5_Width3_IonHe_Lz30_Screen//ParticleBinning_3/ParticleBinning_3_00014151.pvti\n",
      "* Processing /Volumes/LaCie/Data_Smilei/2020/RAL/DO3d_Ang15_Waist2_Dist5p5_Width3_IonHe_Lz30_Screen//ParticleBinning_3/ParticleBinning_3_00014741.pvti\n",
      "* Processing /Volumes/LaCie/Data_Smilei/2020/RAL/DO3d_Ang15_Waist2_Dist5p5_Width3_IonHe_Lz30_Screen//ParticleBinning_3/ParticleBinning_3_00015330.pvti\n",
      "* Processing /Volumes/LaCie/Data_Smilei/2020/RAL/DO3d_Ang15_Waist2_Dist5p5_Width3_IonHe_Lz30_Screen//ParticleBinning_3/ParticleBinning_3_00015920.pvti\n",
      "* Processing /Volumes/LaCie/Data_Smilei/2020/RAL/DO3d_Ang15_Waist2_Dist5p5_Width3_IonHe_Lz30_Screen//ParticleBinning_3/ParticleBinning_3_00016510.pvti\n",
      "* Processing /Volumes/LaCie/Data_Smilei/2020/RAL/DO3d_Ang15_Waist2_Dist5p5_Width3_IonHe_Lz30_Screen//ParticleBinning_3/ParticleBinning_3_00017099.pvti\n",
      "* Processing /Volumes/LaCie/Data_Smilei/2020/RAL/DO3d_Ang15_Waist2_Dist5p5_Width3_IonHe_Lz30_Screen//ParticleBinning_3/ParticleBinning_3_00017689.pvti\n",
      "Successfully exported 3D plot to VTK, folder='/Volumes/LaCie/Data_Smilei/2020/RAL/DO3d_Ang15_Waist2_Dist5p5_Width3_IonHe_Lz30_Screen//ParticleBinning_3/\n"
     ]
    }
   ],
   "source": [
    "S1.ParticleBinning(3).toVTK(numberOfPieces=1)"
   ]
  },
  {
   "cell_type": "code",
   "execution_count": 15,
   "metadata": {},
   "outputs": [
    {
     "name": "stdout",
     "output_type": "stream",
     "text": [
      "* Processing /Volumes/LaCie/Data_Smilei/2020/RAL/DO3d_Ang15_Waist2_Dist5p5_Width3_IonHe_Lz30_Screen//ParticleBinning_4/ParticleBinning_4_00000000.pvti\n",
      "* Processing /Volumes/LaCie/Data_Smilei/2020/RAL/DO3d_Ang15_Waist2_Dist5p5_Width3_IonHe_Lz30_Screen//ParticleBinning_4/ParticleBinning_4_00000590.pvti\n",
      "* Processing /Volumes/LaCie/Data_Smilei/2020/RAL/DO3d_Ang15_Waist2_Dist5p5_Width3_IonHe_Lz30_Screen//ParticleBinning_4/ParticleBinning_4_00001179.pvti\n",
      "* Processing /Volumes/LaCie/Data_Smilei/2020/RAL/DO3d_Ang15_Waist2_Dist5p5_Width3_IonHe_Lz30_Screen//ParticleBinning_4/ParticleBinning_4_00001769.pvti\n",
      "* Processing /Volumes/LaCie/Data_Smilei/2020/RAL/DO3d_Ang15_Waist2_Dist5p5_Width3_IonHe_Lz30_Screen//ParticleBinning_4/ParticleBinning_4_00002359.pvti\n",
      "* Processing /Volumes/LaCie/Data_Smilei/2020/RAL/DO3d_Ang15_Waist2_Dist5p5_Width3_IonHe_Lz30_Screen//ParticleBinning_4/ParticleBinning_4_00002948.pvti\n",
      "* Processing /Volumes/LaCie/Data_Smilei/2020/RAL/DO3d_Ang15_Waist2_Dist5p5_Width3_IonHe_Lz30_Screen//ParticleBinning_4/ParticleBinning_4_00003538.pvti\n",
      "* Processing /Volumes/LaCie/Data_Smilei/2020/RAL/DO3d_Ang15_Waist2_Dist5p5_Width3_IonHe_Lz30_Screen//ParticleBinning_4/ParticleBinning_4_00004127.pvti\n",
      "* Processing /Volumes/LaCie/Data_Smilei/2020/RAL/DO3d_Ang15_Waist2_Dist5p5_Width3_IonHe_Lz30_Screen//ParticleBinning_4/ParticleBinning_4_00004717.pvti\n",
      "* Processing /Volumes/LaCie/Data_Smilei/2020/RAL/DO3d_Ang15_Waist2_Dist5p5_Width3_IonHe_Lz30_Screen//ParticleBinning_4/ParticleBinning_4_00005307.pvti\n",
      "* Processing /Volumes/LaCie/Data_Smilei/2020/RAL/DO3d_Ang15_Waist2_Dist5p5_Width3_IonHe_Lz30_Screen//ParticleBinning_4/ParticleBinning_4_00005896.pvti\n",
      "* Processing /Volumes/LaCie/Data_Smilei/2020/RAL/DO3d_Ang15_Waist2_Dist5p5_Width3_IonHe_Lz30_Screen//ParticleBinning_4/ParticleBinning_4_00006486.pvti\n",
      "* Processing /Volumes/LaCie/Data_Smilei/2020/RAL/DO3d_Ang15_Waist2_Dist5p5_Width3_IonHe_Lz30_Screen//ParticleBinning_4/ParticleBinning_4_00007076.pvti\n",
      "* Processing /Volumes/LaCie/Data_Smilei/2020/RAL/DO3d_Ang15_Waist2_Dist5p5_Width3_IonHe_Lz30_Screen//ParticleBinning_4/ParticleBinning_4_00007665.pvti\n",
      "* Processing /Volumes/LaCie/Data_Smilei/2020/RAL/DO3d_Ang15_Waist2_Dist5p5_Width3_IonHe_Lz30_Screen//ParticleBinning_4/ParticleBinning_4_00008255.pvti\n",
      "* Processing /Volumes/LaCie/Data_Smilei/2020/RAL/DO3d_Ang15_Waist2_Dist5p5_Width3_IonHe_Lz30_Screen//ParticleBinning_4/ParticleBinning_4_00008845.pvti\n",
      "* Processing /Volumes/LaCie/Data_Smilei/2020/RAL/DO3d_Ang15_Waist2_Dist5p5_Width3_IonHe_Lz30_Screen//ParticleBinning_4/ParticleBinning_4_00009434.pvti\n",
      "* Processing /Volumes/LaCie/Data_Smilei/2020/RAL/DO3d_Ang15_Waist2_Dist5p5_Width3_IonHe_Lz30_Screen//ParticleBinning_4/ParticleBinning_4_00010024.pvti\n",
      "* Processing /Volumes/LaCie/Data_Smilei/2020/RAL/DO3d_Ang15_Waist2_Dist5p5_Width3_IonHe_Lz30_Screen//ParticleBinning_4/ParticleBinning_4_00010613.pvti\n",
      "* Processing /Volumes/LaCie/Data_Smilei/2020/RAL/DO3d_Ang15_Waist2_Dist5p5_Width3_IonHe_Lz30_Screen//ParticleBinning_4/ParticleBinning_4_00011203.pvti\n",
      "* Processing /Volumes/LaCie/Data_Smilei/2020/RAL/DO3d_Ang15_Waist2_Dist5p5_Width3_IonHe_Lz30_Screen//ParticleBinning_4/ParticleBinning_4_00011793.pvti\n",
      "* Processing /Volumes/LaCie/Data_Smilei/2020/RAL/DO3d_Ang15_Waist2_Dist5p5_Width3_IonHe_Lz30_Screen//ParticleBinning_4/ParticleBinning_4_00012382.pvti\n",
      "* Processing /Volumes/LaCie/Data_Smilei/2020/RAL/DO3d_Ang15_Waist2_Dist5p5_Width3_IonHe_Lz30_Screen//ParticleBinning_4/ParticleBinning_4_00012972.pvti\n",
      "* Processing /Volumes/LaCie/Data_Smilei/2020/RAL/DO3d_Ang15_Waist2_Dist5p5_Width3_IonHe_Lz30_Screen//ParticleBinning_4/ParticleBinning_4_00013562.pvti\n",
      "* Processing /Volumes/LaCie/Data_Smilei/2020/RAL/DO3d_Ang15_Waist2_Dist5p5_Width3_IonHe_Lz30_Screen//ParticleBinning_4/ParticleBinning_4_00014151.pvti\n",
      "* Processing /Volumes/LaCie/Data_Smilei/2020/RAL/DO3d_Ang15_Waist2_Dist5p5_Width3_IonHe_Lz30_Screen//ParticleBinning_4/ParticleBinning_4_00014741.pvti\n",
      "* Processing /Volumes/LaCie/Data_Smilei/2020/RAL/DO3d_Ang15_Waist2_Dist5p5_Width3_IonHe_Lz30_Screen//ParticleBinning_4/ParticleBinning_4_00015330.pvti\n",
      "* Processing /Volumes/LaCie/Data_Smilei/2020/RAL/DO3d_Ang15_Waist2_Dist5p5_Width3_IonHe_Lz30_Screen//ParticleBinning_4/ParticleBinning_4_00015920.pvti\n",
      "* Processing /Volumes/LaCie/Data_Smilei/2020/RAL/DO3d_Ang15_Waist2_Dist5p5_Width3_IonHe_Lz30_Screen//ParticleBinning_4/ParticleBinning_4_00016510.pvti\n",
      "* Processing /Volumes/LaCie/Data_Smilei/2020/RAL/DO3d_Ang15_Waist2_Dist5p5_Width3_IonHe_Lz30_Screen//ParticleBinning_4/ParticleBinning_4_00017099.pvti\n",
      "* Processing /Volumes/LaCie/Data_Smilei/2020/RAL/DO3d_Ang15_Waist2_Dist5p5_Width3_IonHe_Lz30_Screen//ParticleBinning_4/ParticleBinning_4_00017689.pvti\n",
      "Successfully exported 3D plot to VTK, folder='/Volumes/LaCie/Data_Smilei/2020/RAL/DO3d_Ang15_Waist2_Dist5p5_Width3_IonHe_Lz30_Screen//ParticleBinning_4/\n"
     ]
    }
   ],
   "source": [
    "S1.ParticleBinning(4,sum={'ekin':[5,20]}).toVTK(numberOfPieces=1)"
   ]
  },
  {
   "cell_type": "code",
   "execution_count": 14,
   "metadata": {},
   "outputs": [
    {
     "name": "stdout",
     "output_type": "stream",
     "text": [
      "#4 - Energy density of species # 3\n",
      "    x from 0 to 141.743 in 96 steps \n",
      "    y from 0 to 188.99 in 128 steps \n",
      "    z from 0 to 188.99 in 128 steps \n",
      "    ekin from 0 to 19.5695 in 10 steps  [ INCLUDING EDGES ] \n",
      "\n",
      "sum for ekin from 10.763225 K_r to infinity\n",
      "\n"
     ]
    },
    {
     "data": {
      "text/plain": []
     },
     "execution_count": 14,
     "metadata": {},
     "output_type": "execute_result"
    }
   ],
   "source": [
    "S1.ParticleBinning(4,sum={'ekin':[5,20]})"
   ]
  },
  {
   "cell_type": "code",
   "execution_count": 12,
   "metadata": {},
   "outputs": [
    {
     "name": "stdout",
     "output_type": "stream",
     "text": [
      "* Processing /Volumes/LaCie/Data_Smilei/2020/RAL/DO3d_Ang15_Waist2_Dist5p5_Width3_IonHe_Lz30_Screen//Field1_Ex/Field1_Ex_00000116.pvti\n",
      "* Processing /Volumes/LaCie/Data_Smilei/2020/RAL/DO3d_Ang15_Waist2_Dist5p5_Width3_IonHe_Lz30_Screen//Field1_Ex/Field1_Ex_00000706.pvti\n",
      "* Processing /Volumes/LaCie/Data_Smilei/2020/RAL/DO3d_Ang15_Waist2_Dist5p5_Width3_IonHe_Lz30_Screen//Field1_Ex/Field1_Ex_00001295.pvti\n",
      "* Processing /Volumes/LaCie/Data_Smilei/2020/RAL/DO3d_Ang15_Waist2_Dist5p5_Width3_IonHe_Lz30_Screen//Field1_Ex/Field1_Ex_00001885.pvti\n",
      "* Processing /Volumes/LaCie/Data_Smilei/2020/RAL/DO3d_Ang15_Waist2_Dist5p5_Width3_IonHe_Lz30_Screen//Field1_Ex/Field1_Ex_00002475.pvti\n",
      "* Processing /Volumes/LaCie/Data_Smilei/2020/RAL/DO3d_Ang15_Waist2_Dist5p5_Width3_IonHe_Lz30_Screen//Field1_Ex/Field1_Ex_00003064.pvti\n",
      "* Processing /Volumes/LaCie/Data_Smilei/2020/RAL/DO3d_Ang15_Waist2_Dist5p5_Width3_IonHe_Lz30_Screen//Field1_Ex/Field1_Ex_00003654.pvti\n",
      "* Processing /Volumes/LaCie/Data_Smilei/2020/RAL/DO3d_Ang15_Waist2_Dist5p5_Width3_IonHe_Lz30_Screen//Field1_Ex/Field1_Ex_00004243.pvti\n",
      "* Processing /Volumes/LaCie/Data_Smilei/2020/RAL/DO3d_Ang15_Waist2_Dist5p5_Width3_IonHe_Lz30_Screen//Field1_Ex/Field1_Ex_00004833.pvti\n",
      "* Processing /Volumes/LaCie/Data_Smilei/2020/RAL/DO3d_Ang15_Waist2_Dist5p5_Width3_IonHe_Lz30_Screen//Field1_Ex/Field1_Ex_00005423.pvti\n",
      "* Processing /Volumes/LaCie/Data_Smilei/2020/RAL/DO3d_Ang15_Waist2_Dist5p5_Width3_IonHe_Lz30_Screen//Field1_Ex/Field1_Ex_00006012.pvti\n",
      "* Processing /Volumes/LaCie/Data_Smilei/2020/RAL/DO3d_Ang15_Waist2_Dist5p5_Width3_IonHe_Lz30_Screen//Field1_Ex/Field1_Ex_00006602.pvti\n",
      "* Processing /Volumes/LaCie/Data_Smilei/2020/RAL/DO3d_Ang15_Waist2_Dist5p5_Width3_IonHe_Lz30_Screen//Field1_Ex/Field1_Ex_00007192.pvti\n",
      "* Processing /Volumes/LaCie/Data_Smilei/2020/RAL/DO3d_Ang15_Waist2_Dist5p5_Width3_IonHe_Lz30_Screen//Field1_Ex/Field1_Ex_00007781.pvti\n",
      "* Processing /Volumes/LaCie/Data_Smilei/2020/RAL/DO3d_Ang15_Waist2_Dist5p5_Width3_IonHe_Lz30_Screen//Field1_Ex/Field1_Ex_00008371.pvti\n",
      "* Processing /Volumes/LaCie/Data_Smilei/2020/RAL/DO3d_Ang15_Waist2_Dist5p5_Width3_IonHe_Lz30_Screen//Field1_Ex/Field1_Ex_00008961.pvti\n",
      "* Processing /Volumes/LaCie/Data_Smilei/2020/RAL/DO3d_Ang15_Waist2_Dist5p5_Width3_IonHe_Lz30_Screen//Field1_Ex/Field1_Ex_00009550.pvti\n",
      "* Processing /Volumes/LaCie/Data_Smilei/2020/RAL/DO3d_Ang15_Waist2_Dist5p5_Width3_IonHe_Lz30_Screen//Field1_Ex/Field1_Ex_00010140.pvti\n",
      "* Processing /Volumes/LaCie/Data_Smilei/2020/RAL/DO3d_Ang15_Waist2_Dist5p5_Width3_IonHe_Lz30_Screen//Field1_Ex/Field1_Ex_00010729.pvti\n",
      "* Processing /Volumes/LaCie/Data_Smilei/2020/RAL/DO3d_Ang15_Waist2_Dist5p5_Width3_IonHe_Lz30_Screen//Field1_Ex/Field1_Ex_00011319.pvti\n",
      "* Processing /Volumes/LaCie/Data_Smilei/2020/RAL/DO3d_Ang15_Waist2_Dist5p5_Width3_IonHe_Lz30_Screen//Field1_Ex/Field1_Ex_00011909.pvti\n",
      "* Processing /Volumes/LaCie/Data_Smilei/2020/RAL/DO3d_Ang15_Waist2_Dist5p5_Width3_IonHe_Lz30_Screen//Field1_Ex/Field1_Ex_00012498.pvti\n",
      "* Processing /Volumes/LaCie/Data_Smilei/2020/RAL/DO3d_Ang15_Waist2_Dist5p5_Width3_IonHe_Lz30_Screen//Field1_Ex/Field1_Ex_00013088.pvti\n",
      "* Processing /Volumes/LaCie/Data_Smilei/2020/RAL/DO3d_Ang15_Waist2_Dist5p5_Width3_IonHe_Lz30_Screen//Field1_Ex/Field1_Ex_00013678.pvti\n",
      "* Processing /Volumes/LaCie/Data_Smilei/2020/RAL/DO3d_Ang15_Waist2_Dist5p5_Width3_IonHe_Lz30_Screen//Field1_Ex/Field1_Ex_00014267.pvti\n",
      "* Processing /Volumes/LaCie/Data_Smilei/2020/RAL/DO3d_Ang15_Waist2_Dist5p5_Width3_IonHe_Lz30_Screen//Field1_Ex/Field1_Ex_00014857.pvti\n",
      "* Processing /Volumes/LaCie/Data_Smilei/2020/RAL/DO3d_Ang15_Waist2_Dist5p5_Width3_IonHe_Lz30_Screen//Field1_Ex/Field1_Ex_00015446.pvti\n",
      "* Processing /Volumes/LaCie/Data_Smilei/2020/RAL/DO3d_Ang15_Waist2_Dist5p5_Width3_IonHe_Lz30_Screen//Field1_Ex/Field1_Ex_00016036.pvti\n",
      "* Processing /Volumes/LaCie/Data_Smilei/2020/RAL/DO3d_Ang15_Waist2_Dist5p5_Width3_IonHe_Lz30_Screen//Field1_Ex/Field1_Ex_00016626.pvti\n",
      "* Processing /Volumes/LaCie/Data_Smilei/2020/RAL/DO3d_Ang15_Waist2_Dist5p5_Width3_IonHe_Lz30_Screen//Field1_Ex/Field1_Ex_00017215.pvti\n",
      "Successfully exported 3D plot to VTK, folder='/Volumes/LaCie/Data_Smilei/2020/RAL/DO3d_Ang15_Waist2_Dist5p5_Width3_IonHe_Lz30_Screen//Field1_Ex/\n"
     ]
    }
   ],
   "source": [
    "S1.Field(1,'Ex').toVTK(numberOfPieces=1)"
   ]
  },
  {
   "cell_type": "code",
   "execution_count": null,
   "metadata": {},
   "outputs": [],
   "source": []
  },
  {
   "cell_type": "markdown",
   "metadata": {},
   "source": [
    "## check diagnostics:"
   ]
  },
  {
   "cell_type": "code",
   "execution_count": 85,
   "metadata": {},
   "outputs": [
    {
     "name": "stdout",
     "output_type": "stream",
     "text": [
      "***ERROR*** - Diagnostic is invalid\n",
      "Printing available Screen:\n",
      "------------------------------------------------\n",
      "#0 - Number density of species # 3\n",
      "    ekin from 0.0195695 to 58.7084 in 200 steps  [ LOG SCALE ]  [ INCLUDING EDGES ] \n",
      "    user_function0 from -90 to 90 in 90 steps \n",
      "    user_function1 from -90 to 90 in 90 steps \n",
      "\n",
      "#1 - Number density of species # 3\n",
      "    ekin from 0.0195695 to 58.7084 in 200 steps  [ LOG SCALE ]  [ INCLUDING EDGES ] \n",
      "    user_function0 from -90 to 90 in 90 steps \n",
      "    user_function1 from -90 to 90 in 90 steps \n",
      "\n",
      "#2 - Number density of species # 3\n",
      "    ekin from 0.0195695 to 58.7084 in 200 steps  [ LOG SCALE ]  [ INCLUDING EDGES ] \n",
      "    user_function0 from -90 to 90 in 90 steps \n",
      "    user_function1 from -90 to 90 in 90 steps \n",
      "\n",
      "#3 - Number density of species # 3\n",
      "    ekin from 0.0195695 to 58.7084 in 200 steps  [ LOG SCALE ]  [ INCLUDING EDGES ] \n",
      "    user_function0 from -90 to 90 in 90 steps \n",
      "    user_function1 from -90 to 90 in 90 steps \n",
      "\n",
      "#4 - Number density of species # 3\n",
      "    ekin from 0.0195695 to 58.7084 in 200 steps  [ LOG SCALE ]  [ INCLUDING EDGES ] \n",
      "    user_function0 from -90 to 90 in 90 steps \n",
      "    user_function1 from -90 to 90 in 90 steps \n",
      "\n",
      "#5 - Number density of species # 3\n",
      "    ekin from 0 to 58.7084 in 200 steps \n",
      "    theta from -1.5708 to 1.5708 in 180 steps \n",
      "\n",
      "#6 - Energy density of species # 3\n",
      "    ekin from 0 to 58.7084 in 200 steps \n",
      "    theta from -1.5708 to 1.5708 in 180 steps \n",
      "\n",
      "#7 - Number density of species # 3\n",
      "    ekin from 0 to 58.7084 in 200 steps \n",
      "    user_function0 from -90 to 90 in 90 steps \n",
      "    y from 0 to 188.496 in 30 steps \n",
      "\n",
      "#8 - Energy density of species # 3\n",
      "    ekin from 0 to 58.7084 in 200 steps \n",
      "    user_function0 from -90 to 90 in 90 steps \n",
      "    y from 0 to 188.496 in 30 steps \n",
      "\n"
     ]
    },
    {
     "data": {
      "text/plain": []
     },
     "execution_count": 85,
     "metadata": {},
     "output_type": "execute_result"
    }
   ],
   "source": [
    "S7.Screen()"
   ]
  },
  {
   "cell_type": "code",
   "execution_count": 123,
   "metadata": {},
   "outputs": [
    {
     "name": "stdout",
     "output_type": "stream",
     "text": [
      "#5 - Number density of species # 3\n",
      "    ekin from 0 to 58.7084 in 100 steps \n",
      "    theta from 0 to 3.14159 in 90 steps \n",
      "    phi from -1.5708 to 1.5708 in 90 steps \n",
      "\n",
      "sum for all ekin\n",
      "\n"
     ]
    }
   ],
   "source": [
    "S8.Screen(5,units=['fs','um','MeV','degree'],\n",
    "          sum={\n",
    "#               \"theta\":\"all\",\n",
    "#               \"phi\":\"all\",\n",
    "                \"ekin\":\"all\",\n",
    "          },\n",
    "          data_log=False\n",
    "         ).plot()"
   ]
  },
  {
   "cell_type": "code",
   "execution_count": 94,
   "metadata": {},
   "outputs": [
    {
     "name": "stdout",
     "output_type": "stream",
     "text": [
      "#6 - Energy density of species # 3\n",
      "    ekin from 0 to 58.7084 in 200 steps \n",
      "    theta from -1.5708 to 1.5708 in 180 steps \n",
      "\n",
      "\n"
     ]
    }
   ],
   "source": [
    "S7.Screen(6,units=['fs','um','MeV','degree']).plot()"
   ]
  },
  {
   "cell_type": "code",
   "execution_count": 98,
   "metadata": {},
   "outputs": [
    {
     "name": "stdout",
     "output_type": "stream",
     "text": [
      "#7 - Number density of species # 3\n",
      "    ekin from 0 to 58.7084 in 200 steps \n",
      "    user_function0 from -90 to 90 in 90 steps \n",
      "    y from 0 to 188.496 in 30 steps \n",
      "\n",
      "sum for all y\n",
      "\n"
     ]
    }
   ],
   "source": [
    "S7.Screen(7,units=['fs','um','MeV','degree'],\n",
    "          sum={\n",
    "              \"y\":\"all\",\n",
    "#               \"user_function0\":\"all\"\n",
    "          },\n",
    "          data_log=True\n",
    "         ).plot()"
   ]
  },
  {
   "cell_type": "code",
   "execution_count": 100,
   "metadata": {},
   "outputs": [
    {
     "name": "stdout",
     "output_type": "stream",
     "text": [
      "#8 - Energy density of species # 3\n",
      "    ekin from 0 to 58.7084 in 200 steps \n",
      "    user_function0 from -90 to 90 in 90 steps \n",
      "    y from 0 to 188.496 in 30 steps \n",
      "\n",
      "sum for all user_function0\n",
      "\n"
     ]
    }
   ],
   "source": [
    "S7.Screen(8,units=['fs','um','MeV','degree'],\n",
    "          sum={\n",
    "#               \"y\":\"all\",\n",
    "              \"user_function0\":\"all\"\n",
    "          },\n",
    "          data_log=True\n",
    "         ).plot()"
   ]
  },
  {
   "cell_type": "code",
   "execution_count": 3,
   "metadata": {},
   "outputs": [],
   "source": [
    "import numpy as np"
   ]
  },
  {
   "cell_type": "code",
   "execution_count": 4,
   "metadata": {},
   "outputs": [],
   "source": [
    "Bz = 1e4\n",
    "me = 9.1e-31\n",
    "qe = 1.6e-19\n",
    "E  = 10.0 # MeV\n",
    "## E = 0.5*me*ve**2 / qe\n",
    "ve = np.sqrt(E*1e6 * qe * 2. / me)"
   ]
  },
  {
   "cell_type": "code",
   "execution_count": 5,
   "metadata": {},
   "outputs": [],
   "source": [
    "r = me * ve / qe / Bz"
   ]
  },
  {
   "cell_type": "code",
   "execution_count": 39,
   "metadata": {},
   "outputs": [],
   "source": [
    "ne = 1e21 * 1e6 # m^-3\n",
    "nc = 1e21 * 1e6\n",
    "eps = 8.9e-12\n",
    "wpe = np.sqrt(ne * qe**2 / me / eps)\n",
    "c = 3e8\n",
    "lmd = 1.0e-6\n",
    "w0 = 2*np.pi*c/lmd"
   ]
  },
  {
   "cell_type": "code",
   "execution_count": null,
   "metadata": {},
   "outputs": [],
   "source": [
    "J = qe * ne * ve"
   ]
  },
  {
   "cell_type": "code",
   "execution_count": 49,
   "metadata": {},
   "outputs": [
    {
     "data": {
      "text/plain": [
       "9.100561780412303"
      ]
     },
     "execution_count": 49,
     "metadata": {},
     "output_type": "execute_result"
    }
   ],
   "source": [
    "0.1 * (me * c * c * wpe * nc) / ne * 100e-15 / qe / 1e6"
   ]
  },
  {
   "cell_type": "code",
   "execution_count": 44,
   "metadata": {},
   "outputs": [
    {
     "data": {
      "text/plain": [
       "6.477612661452802e-23"
      ]
     },
     "execution_count": 44,
     "metadata": {},
     "output_type": "execute_result"
    }
   ],
   "source": [
    "0.1 / (me * c**2 * w0 * nc) * (qe * ne) * 100e-15 / qe / 1e6"
   ]
  },
  {
   "cell_type": "code",
   "execution_count": 45,
   "metadata": {},
   "outputs": [
    {
     "data": {
      "text/plain": [
       "1884955592153876.0"
      ]
     },
     "execution_count": 45,
     "metadata": {},
     "output_type": "execute_result"
    }
   ],
   "source": [
    "w0"
   ]
  },
  {
   "cell_type": "code",
   "execution_count": 47,
   "metadata": {},
   "outputs": [
    {
     "data": {
      "text/plain": [
       "3033520593470.7676"
      ]
     },
     "execution_count": 47,
     "metadata": {},
     "output_type": "execute_result"
    }
   ],
   "source": [
    "me * c * wpe / qe * 0.1"
   ]
  },
  {
   "cell_type": "code",
   "execution_count": 48,
   "metadata": {},
   "outputs": [
    {
     "data": {
      "text/plain": [
       "10111.735311569224"
      ]
     },
     "execution_count": 48,
     "metadata": {},
     "output_type": "execute_result"
    }
   ],
   "source": [
    "me * wpe / qe"
   ]
  },
  {
   "cell_type": "code",
   "execution_count": null,
   "metadata": {},
   "outputs": [],
   "source": []
  }
 ],
 "metadata": {
  "kernelspec": {
   "display_name": "Python 3 (ipykernel)",
   "language": "python",
   "name": "python3"
  },
  "language_info": {
   "codemirror_mode": {
    "name": "ipython",
    "version": 3
   },
   "file_extension": ".py",
   "mimetype": "text/x-python",
   "name": "python",
   "nbconvert_exporter": "python",
   "pygments_lexer": "ipython3",
   "version": "3.9.18"
  }
 },
 "nbformat": 4,
 "nbformat_minor": 4
}
