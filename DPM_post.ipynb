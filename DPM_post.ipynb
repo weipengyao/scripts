{
 "cells": [
  {
   "cell_type": "code",
   "execution_count": 11,
   "id": "0abf7980-2e2d-42a5-843e-a631d446c019",
   "metadata": {},
   "outputs": [],
   "source": [
    "%matplotlib qt"
   ]
  },
  {
   "cell_type": "code",
   "execution_count": 12,
   "id": "56db5c81-8a8f-42a0-8196-f224d2d960ec",
   "metadata": {},
   "outputs": [
    {
     "name": "stderr",
     "output_type": "stream",
     "text": [
      "/var/folders/2t/97rc3fl92tg15k2l_4sk5hsh0000gn/T/ipykernel_24239/616493249.py:6: MatplotlibDeprecationWarning: The get_cmap function was deprecated in Matplotlib 3.7 and will be removed two minor releases later. Use ``matplotlib.colormaps[name]`` or ``matplotlib.colormaps.get_cmap(obj)`` instead.\n",
      "  jetcmap = plt.cm.get_cmap(\"jet\", 9) #generate a jet map with 10 values \"rainbow\", \"jet\", YlOrRd\n"
     ]
    }
   ],
   "source": [
    "import matplotlib as mpl\n",
    "import happi\n",
    "import numpy as np\n",
    "import matplotlib.pyplot as plt\n",
    "\n",
    "jetcmap = plt.cm.get_cmap(\"jet\", 9) #generate a jet map with 10 values \"rainbow\", \"jet\", YlOrRd\n",
    "jet_vals = jetcmap(np.arange(9)) #extract those values as an array \n",
    "jet_vals[0] = [1.0, 1, 1.0, 1] #change the first value \n",
    "jet_vals[8] = [0.0, 0, 0.0, 1] #change the first value \n",
    "newcmap = mpl.colors.LinearSegmentedColormap.from_list(\"mine\", jet_vals) "
   ]
  },
  {
   "cell_type": "code",
   "execution_count": 13,
   "id": "c355dd54-10b0-4840-842a-61fe0df05e92",
   "metadata": {},
   "outputs": [],
   "source": [
    "wkdir = [\n",
    "    '/Users/yao/Desktop/Data/DPM_Al1.5um_diag_t18/', # direct shot\n",
    "    '/Users/yao/Desktop/Data/DPM_Si200nm_Al50nm_t10_r0/',\n",
    "    # '/Users/yao/Desktop/Data/DPM_Si200nm_Al50nm_t10_r1/', # 50% of laser energy after DPM\n",
    "    # '/Users/yao/Desktop/Data/dpm/DPM_Si20nm_t0/',  # 20 nm\n",
    "    # '/Users/yao/Desktop/Data/dpm/DPM_Si50nm_t0/',  # 50 nm\n",
    "    ]"
   ]
  },
  {
   "cell_type": "code",
   "execution_count": 14,
   "id": "f8a30974-4519-41f3-b494-01e2683f2c72",
   "metadata": {},
   "outputs": [
    {
     "name": "stdout",
     "output_type": "stream",
     "text": [
      "Loaded simulation '/Users/yao/Desktop/Data/DPM_Al1.5um_diag_t18/'\n",
      "Scanning for Scalar diagnostics\n",
      "Scanning for Field diagnostics\n",
      "Scanning for Probe diagnostics\n",
      "Scanning for ParticleBinning diagnostics\n",
      "Scanning for RadiationSpectrum diagnostics\n",
      "Scanning for Performance diagnostics\n",
      "Scanning for Screen diagnostics\n",
      "Scanning for Tracked particle diagnostics\n",
      "Scanning for new particle diagnostics\n",
      "Loaded simulation '/Users/yao/Desktop/Data/DPM_Si200nm_Al50nm_t10_r0/'\n",
      "Scanning for Scalar diagnostics\n",
      "Scanning for Field diagnostics\n",
      "Scanning for Probe diagnostics\n",
      "Scanning for ParticleBinning diagnostics\n",
      "Scanning for RadiationSpectrum diagnostics\n",
      "Scanning for Performance diagnostics\n",
      "Scanning for Screen diagnostics\n",
      "Scanning for Tracked particle diagnostics\n",
      "Scanning for new particle diagnostics\n"
     ]
    }
   ],
   "source": [
    "S0 = happi.Open(wkdir[0], reference_angular_frequency_SI = 2.*np.pi*3e8/1.058e-6)\n",
    "S1 = happi.Open(wkdir[1], reference_angular_frequency_SI = 2.*np.pi*3e8/1.058e-6)\n",
    "# S2 = happi.Open(wkdir[2], reference_angular_frequency_SI = 2.*np.pi*3e8/1.058e-6)\n",
    "# S3 = happi.Open(wkdir[3], reference_angular_frequency_SI = 2.*np.pi*3e8/1.058e-6)\n",
    "# S4 = happi.Open(wkdir[4], reference_angular_frequency_SI = 2.*np.pi*3e8/1.058e-6)\n"
   ]
  },
  {
   "cell_type": "code",
   "execution_count": 15,
   "id": "e5c406cb-eb3b-472e-9006-4cfcb7c2cbec",
   "metadata": {},
   "outputs": [
    {
     "name": "stdout",
     "output_type": "stream",
     "text": [
      "\n",
      "#15 - Number density of species # 0,1\n",
      "    x from 0 to 125.664 in 200 steps \n",
      "    y from 0 to 251.327 in 200 steps \n",
      "\n",
      "Operation : #15\n",
      "The value in each bin is the sum of the `deposited_quantity` divided by the bin size\n",
      "\n"
     ]
    }
   ],
   "source": [
    "S0.ParticleBinning(15,units=['um','fs','cm^-3'],\n",
    "                   data_log=True,\n",
    "                   # xmin=10,\n",
    "                   # xmax=20,\n",
    "                   # ymin=0,\n",
    "                   # ymax=500,\n",
    "                   vmin=19,\n",
    "                   vmax=24,\n",
    "                   cmap=newcmap,\n",
    "                   aspect='equal',\n",
    "                  ).slide()"
   ]
  },
  {
   "cell_type": "code",
   "execution_count": 10,
   "id": "032fd0a5-281d-4347-9514-a6b665bf1de1",
   "metadata": {},
   "outputs": [
    {
     "name": "stdout",
     "output_type": "stream",
     "text": [
      "Field diagnostic #3: Ex\n",
      "\tTime_average: 128 timesteps\n"
     ]
    }
   ],
   "source": [
    "S0.Field(3, 'Ex', units=['um', 'fs', 'T','V/m'],\n",
    "        # vsym=1e12,\n",
    "         vsym=True,\n",
    "         cmap='smileiD',\n",
    "         aspect='equal',\n",
    "        ).slide()"
   ]
  },
  {
   "cell_type": "code",
   "execution_count": 38,
   "id": "4da6c744-2c54-4a62-bdf7-4c434001cd97",
   "metadata": {},
   "outputs": [
    {
     "data": {
      "text/plain": [
       "array([    0.,   940.,  1880.,  2820.,  3760.,  4700.,  5640.,  6580.,\n",
       "        7520.,  8460.,  9400., 10340., 11280., 12220., 13160., 14100.,\n",
       "       15040., 15980., 16920., 17860., 18800., 19740., 20680.])"
      ]
     },
     "execution_count": 38,
     "metadata": {},
     "output_type": "execute_result"
    }
   ],
   "source": [
    "S1.Field(0, 'Ey').getTimesteps()"
   ]
  },
  {
   "cell_type": "code",
   "execution_count": 5,
   "id": "68c49ab5-6952-43c6-b9df-d47a1d058541",
   "metadata": {},
   "outputs": [],
   "source": [
    "# energy spectrum from screen vs. experimental data\n",
    "\n",
    "plt.rc('font', family='sans-serif', serif='Arial')\n",
    "plt.rc('text', usetex=False)\n",
    "plt.rc('xtick', labelsize=8)\n",
    "plt.rc('ytick', labelsize=8)\n",
    "plt.rc('axes', labelsize=8)\n",
    "plt.rc('legend', fontsize=8)\n",
    "\n",
    "width  = 3.487\n",
    "height = width / 1.618 * 1.5\n",
    "\n",
    "\n",
    "\n",
    "yrange1 = [23.5*S0.namelist.l0, 40*S0.namelist.l0]   # 22.76\n",
    "fitting_factor1 = 5e11 * 4\n",
    "ene1 = S0.Screen(2, units=['um','fs','MeV'],sum={'y':yrange1},).getData()\n",
    "\n",
    "yrange2 = [20*S0.namelist.l0, 40*S0.namelist.l0]   # 22.76\n",
    "fitting_factor2 = 5e10 * 5\n",
    "ene2 = S0.Screen(2, units=['um','fs','MeV'],sum={'y':yrange2},).getData()\n",
    "\n",
    "yrange3 = [0*S0.namelist.l0, 40*S0.namelist.l0]   # 22.76\n",
    "fitting_factor3 = 5e10 * 80 #5e10 * 50\n",
    "ene3 = S0.Screen(2, units=['um','fs','MeV'],sum={'y':yrange3},).getData()\n",
    "\n",
    "xx  = S0.Screen(2, units=['um','fs','MeV']).getAxis('ekin')\n",
    "tt  = S0.Screen(2, units=['um','fs','MeV']).getTimes()\n",
    "\n",
    "\n",
    "\n",
    "fig, ax = plt.subplots()\n",
    "fig.subplots_adjust(left=.15, bottom=.16, right=.99, top=.97)\n",
    "\n",
    "\n",
    "# ax.semilogy(xx,ene1[-1]*fitting_factor1, color='black',\n",
    "#              linestyle='--',\n",
    "#              # label='PIC at t = {:.1f} fs'.format(tt[-1]),\n",
    "#             label=r'PIC: [23.5, 40]',\n",
    "#            )\n",
    "\n",
    "# ax.semilogy(xx,ene2[-1]*fitting_factor2, color='m',\n",
    "#              linestyle='-.',\n",
    "#              # label='PIC at t = {:.1f} fs'.format(tt[-1]),\n",
    "#             label=r'PIC: [20.0, 40]',\n",
    "#            )\n",
    "\n",
    "ax.semilogy(xx,ene3[-1]*fitting_factor3, color='k',lw=2.0,\n",
    "             linestyle='--',\n",
    "             # label='PIC at t = {:.1f} fs'.format(tt[-1]),\n",
    "            label=r'PIC',\n",
    "           )\n",
    "# plt.semilogy(xx,ene[ts[1]]*fitting_factor, color='black',\n",
    "#              label='2D PIC at t = '+str(round(tt[ts[1]]))+' fs')\n",
    "\n",
    "ax.set_xlim([0,36])\n",
    "ax.set_ylim([1e6,1e10])\n",
    "# plt.title('time = '+str(tt[ts])+' fs')\n",
    "ax.grid(which='both',linestyle='--',alpha=0.5)\n",
    "ax.set_xlabel('Energy (MeV)')\n",
    "ax.set_ylabel('fitted dN/dE')\n",
    "\n",
    "## with DPM - 200 nm Si + 50 nm Al\n",
    "#shot 115\n",
    "# exp_energy = np.array([4.47, 7.42, 9.55, 11.92, 13.71, 15.12])\n",
    "# exp_number = np.array([2.263e9, 1.185e9, 5.523e8, 1.790e8, 5.399e7, 3.149e7])\n",
    "\n",
    "#shot 56\n",
    "exp_energy_56  = np.array([4.9,    8.0,    10.3,   13.0,   15.1,   17.1,   19.5,   21.5,   23.4,   25.0,   26.5,   28.1,   29.5,   30.9]) \n",
    "exp_number_56  = np.array([2.71e9, 2.29e9, 1.30e9, 8.10e8, 6.20e8, 2.78e8, 2.53e8, 1.10e8, 7.93e7, 5.87e7, 3.91e7, 1.96e7, 1.25e7, 1.01e7]) \n",
    "\n",
    "#shot 111\n",
    "exp_energy_111 = np.array([4.49, 7.74, 10.01, 12.67, 14.87, 16.88, 19.33, 21.47, 23.42, 25.23, 26.90, 28.75, 30.37, 32.03, 33.67, 35.17])\n",
    "exp_number_111 = np.array([4.333e9, 4.103e9, 2.892e9, 1.386e9, 1.074e9, 4.606e8, 2.639e8, 1.605e8, 9.902e7, 7.454e7, 4.993e7, 2.849e7, 2.184e7, 1.170e7, 5.565e6, 5.165e6])\n",
    "\n",
    "#shot 112\n",
    "exp_energy_112 = np.array([4.76,    7.83,    10.10,   12.76,   14.95,   16.94,   19.34,   21.41,   23.26,   24.95,   26.48,   28.14,   29.57,   30.95])\n",
    "exp_number_112 = np.array([3.252e9, 2.844e9, 1.888e9, 1.286e9, 8.366e8, 3.199e8, 2.005e8, 1.081e8, 6.068e7, 3.840e7, 3.108e7, 1.871e7, 1.021e7, 1.428e7])\n",
    "\n",
    "#shot 216\n",
    "exp_energy_216  = np.array([4.54,    7.53,    9.73,  12.27,   14.3,  16.05,  17.99,  19.48]) \n",
    "exp_number_216  = np.array([2.25e9, 1.36e9, 7.65e8, 2.76e8, 1.01e8, 5.01e7, 1.74e7, 1.20e7]) \n",
    "\n",
    "## w/o DPM - 1.5 um Al\n",
    "#shot 193\n",
    "exp_energy_193  = np.array([4.71,    7.76,   10.01,  12.64,  14.78,  16.70,  18.97,  20.89,  22.55,  24.00,  25.25]) \n",
    "exp_number_193  = np.array([6.79e9, 4.92e9, 2.51e9, 1.39e9, 4.73e8, 3.53e8, 9.26e7, 5.53e7, 4.00e7, 2.91e7, 2.15e7]) \n",
    "\n",
    "#shot 194\n",
    "exp_energy_194  = np.array([4.83,    7.90,   10.16,  12.79,  14.92,  16.82,  19.07,  20.95,  22.58,  24.01,  25.25]) \n",
    "exp_number_194  = np.array([5.78e9, 4.54e9, 1.63e9, 9.77e8, 6.50e8, 4.35e8, 2.09e8, 7.92e7, 5.43e7, 4.37e7, 3.35e7]) \n",
    "\n",
    "\n",
    "# ax.scatter(exp_energy_56, exp_number_56, color='green', marker='s',\n",
    "#             s=24,\n",
    "#             label='Exp. 56')\n",
    "# ax.scatter(exp_energy_111, exp_number_111, color='red', marker='o',\n",
    "#             s=24,\n",
    "#             label='Exp. 111')\n",
    "# ax.scatter(exp_energy_112, exp_number_112, color='blue', marker='*',\n",
    "#             s=24,\n",
    "#             label='Exp. 112')\n",
    "# ax.scatter(exp_energy_216, exp_number_216, color='c', marker='d',\n",
    "#             s=24,\n",
    "#             label='Exp. 216')\n",
    "\n",
    "ax.scatter(exp_energy_193, exp_number_193, color='red', marker='o',\n",
    "            s=24,\n",
    "            label='Exp. 193')\n",
    "\n",
    "ax.scatter(exp_energy_194, exp_number_194, color='green', marker='s',\n",
    "            s=24,\n",
    "            label='Exp. 194')\n",
    "\n",
    "\n",
    "ax.legend()\n",
    "fig.set_size_inches(width, height)\n",
    "fig.tight_layout()\n",
    "\n",
    "# plt.show()"
   ]
  },
  {
   "cell_type": "code",
   "execution_count": 33,
   "id": "4d2f581f-21cb-4c69-9ef4-d13986c02094",
   "metadata": {},
   "outputs": [],
   "source": [
    "fig.savefig('/Users/yao/Desktop/spectrum_50.pdf')"
   ]
  },
  {
   "cell_type": "code",
   "execution_count": null,
   "id": "61493b4c-7378-4e7f-b492-4ed166f5b441",
   "metadata": {},
   "outputs": [],
   "source": []
  },
  {
   "cell_type": "code",
   "execution_count": 11,
   "id": "13398e7f-41fb-41c1-b866-afb37384f5c3",
   "metadata": {},
   "outputs": [],
   "source": [
    "ene1 = np.array(S3.Screen(2, units=['um','fs','MeV']).getData()[-1]) # last timestep\n",
    "yy = np.array(S3.Screen(2, units=['um','fs','MeV']).getAxis('y'))\n",
    "ee = np.array(S3.Screen(2, units=['um','fs','MeV']).getAxis('ekin'))"
   ]
  },
  {
   "cell_type": "code",
   "execution_count": 12,
   "id": "74b22572-3449-4e26-9210-6996867f1b3a",
   "metadata": {},
   "outputs": [
    {
     "name": "stderr",
     "output_type": "stream",
     "text": [
      "/var/folders/2t/97rc3fl92tg15k2l_4sk5hsh0000gn/T/ipykernel_17133/4026294312.py:19: RuntimeWarning: divide by zero encountered in log10\n",
      "  yekin = ax.imshow(np.log10(ene1.T),\n"
     ]
    }
   ],
   "source": [
    "plt.rc('font', family='sans-serif', serif='Arial')\n",
    "plt.rc('text', usetex=False)\n",
    "plt.rc('xtick', labelsize=8)\n",
    "plt.rc('ytick', labelsize=8)\n",
    "plt.rc('axes', labelsize=8)\n",
    "plt.rc('legend', fontsize=8)\n",
    "\n",
    "from mpl_toolkits.axes_grid1 import make_axes_locatable\n",
    "\n",
    "\n",
    "width  = 3.487\n",
    "height = width / 1.618 * 1.2\n",
    "\n",
    "fig, ax = plt.subplots()\n",
    "fig.subplots_adjust(left=.15, bottom=.16, right=.99, top=.97)\n",
    "divider = make_axes_locatable(ax)\n",
    "cax = divider.append_axes('right', size='5%', pad=0.05)\n",
    "\n",
    "yekin = ax.imshow(np.log10(ene1.T),\n",
    "           cmap=newcmap,\n",
    "           origin='lower',\n",
    "           extent=[ee[0],ee[-1],yy[0],yy[-1]],\n",
    "           vmin=-4,\n",
    "           vmax=-2,\n",
    "           aspect='equal',\n",
    "          )\n",
    "cbar = fig.colorbar(yekin, cax=cax)\n",
    "cbar.minorticks_on()\n",
    "ax.set_xlim(2,36)\n",
    "ax.set_ylim(5,35)\n",
    "ax.set_xlabel('ekin (MeV)')\n",
    "ax.set_ylabel('y (um)')\n",
    "ax.grid(linestyle='--',color='grey',alpha=0.5)\n",
    "fig.set_size_inches(width, height)\n",
    "fig.tight_layout()"
   ]
  },
  {
   "cell_type": "code",
   "execution_count": 36,
   "id": "4cc78746-0368-4211-8266-232499d94bc4",
   "metadata": {},
   "outputs": [],
   "source": [
    "fig.savefig('/Users/yao/Desktop/yekin.pdf')"
   ]
  },
  {
   "cell_type": "code",
   "execution_count": 25,
   "id": "141efd7c-84c5-47fb-81f8-7600e7d44975",
   "metadata": {},
   "outputs": [
    {
     "data": {
      "text/plain": [
       "0.5434782608695652"
      ]
     },
     "execution_count": 25,
     "metadata": {},
     "output_type": "execute_result"
    }
   ],
   "source": [
    "E0 = 30.\n",
    "E1 = 15.\n",
    "\n",
    "l0 = 250.\n",
    "l1 = 20\n",
    "\n",
    "(E0 - E1) / E0 / ((l0 - l1)/l0)"
   ]
  },
  {
   "cell_type": "code",
   "execution_count": 26,
   "id": "48c9f451-95d1-4ed8-b496-8155fb60171d",
   "metadata": {},
   "outputs": [
    {
     "data": {
      "text/plain": [
       "0.46583850931677007"
      ]
     },
     "execution_count": 26,
     "metadata": {},
     "output_type": "execute_result"
    }
   ],
   "source": [
    "C0 = 1.4\n",
    "C1 = .8\n",
    "\n",
    "l0 = 250.\n",
    "l1 = 20\n",
    "\n",
    "(C0 - C1) / C0 / ((l0 - l1)/l0)"
   ]
  },
  {
   "cell_type": "code",
   "execution_count": 8,
   "id": "36f9a559-06fa-4c4b-ad47-39da3999369f",
   "metadata": {},
   "outputs": [],
   "source": [
    "angene1 = np.array(S0.Screen(6, units=['um','fs','MeV']).getData()[-1]) # last timestep\n",
    "ang = np.array(S0.Screen(6, units=['um','fs','MeV']).getAxis('user_function0'))\n",
    "ee = np.array(S0.Screen(6, units=['um','fs','MeV']).getAxis('ekin'))"
   ]
  },
  {
   "cell_type": "code",
   "execution_count": 9,
   "id": "bc1457ed-82ae-4182-8c14-36578e73df65",
   "metadata": {},
   "outputs": [
    {
     "name": "stderr",
     "output_type": "stream",
     "text": [
      "/var/folders/2t/97rc3fl92tg15k2l_4sk5hsh0000gn/T/ipykernel_33675/3712685788.py:19: RuntimeWarning: divide by zero encountered in log10\n",
      "  yekin = ax.imshow(np.log10(angene1.T),\n"
     ]
    }
   ],
   "source": [
    "plt.rc('font', family='sans-serif', serif='Arial')\n",
    "plt.rc('text', usetex=False)\n",
    "plt.rc('xtick', labelsize=8)\n",
    "plt.rc('ytick', labelsize=8)\n",
    "plt.rc('axes', labelsize=8)\n",
    "plt.rc('legend', fontsize=8)\n",
    "\n",
    "from mpl_toolkits.axes_grid1 import make_axes_locatable\n",
    "\n",
    "\n",
    "width  = 3.487\n",
    "height = width / 1.618 * 1.2\n",
    "\n",
    "fig, ax = plt.subplots()\n",
    "fig.subplots_adjust(left=.15, bottom=.16, right=.99, top=.97)\n",
    "divider = make_axes_locatable(ax)\n",
    "cax = divider.append_axes('right', size='5%', pad=0.05)\n",
    "\n",
    "yekin = ax.imshow(np.log10(angene1.T),\n",
    "           cmap=newcmap,\n",
    "           origin='lower',\n",
    "           extent=[ang[0],ang[-1],ee[0],ee[-1]],\n",
    "           vmin=-7,\n",
    "           vmax=-3,\n",
    "           aspect='equal',\n",
    "          )\n",
    "cbar = fig.colorbar(yekin, cax=cax)\n",
    "cbar.minorticks_on()\n",
    "ax.set_xlim(-20,20)\n",
    "ax.set_ylim(2,36)\n",
    "ax.set_xlabel(r'angle ($\\degree$)')\n",
    "ax.set_ylabel('ekin (MeV)')\n",
    "ax.grid(linestyle='--',color='grey',alpha=0.5)\n",
    "fig.set_size_inches(width, height)\n",
    "fig.tight_layout()"
   ]
  },
  {
   "cell_type": "code",
   "execution_count": 52,
   "id": "eeb8a492-22ee-4f7b-be3f-4020b6caa9a8",
   "metadata": {},
   "outputs": [],
   "source": [
    "fig.savefig('/Users/yao/Desktop/ang_ene_p.pdf')"
   ]
  },
  {
   "cell_type": "code",
   "execution_count": 10,
   "id": "bd66ffd3-b49e-4961-bcda-1c5a3d75bcb6",
   "metadata": {},
   "outputs": [],
   "source": [
    "angene1 = np.array(S0.Screen(7, units=['um','fs','MeV']).getData()[-1]) # last timestep\n",
    "ang = np.array(S0.Screen(7, units=['um','fs','MeV']).getAxis('user_function0'))\n",
    "ee = np.array(S0.Screen(7, units=['um','fs','MeV']).getAxis('ekin'))"
   ]
  },
  {
   "cell_type": "code",
   "execution_count": 11,
   "id": "7207c52d-8309-4be9-8c5f-ba6d2f1bbecd",
   "metadata": {},
   "outputs": [
    {
     "name": "stderr",
     "output_type": "stream",
     "text": [
      "/var/folders/2t/97rc3fl92tg15k2l_4sk5hsh0000gn/T/ipykernel_33675/3828763420.py:19: RuntimeWarning: divide by zero encountered in log10\n",
      "  yekin = ax.imshow(np.log10(angene1.T),\n"
     ]
    }
   ],
   "source": [
    "plt.rc('font', family='sans-serif', serif='Arial')\n",
    "plt.rc('text', usetex=False)\n",
    "plt.rc('xtick', labelsize=8)\n",
    "plt.rc('ytick', labelsize=8)\n",
    "plt.rc('axes', labelsize=8)\n",
    "plt.rc('legend', fontsize=8)\n",
    "\n",
    "from mpl_toolkits.axes_grid1 import make_axes_locatable\n",
    "\n",
    "\n",
    "width  = 3.487\n",
    "height = width / 1.618 * 1.2\n",
    "\n",
    "fig, ax = plt.subplots()\n",
    "fig.subplots_adjust(left=.15, bottom=.16, right=.99, top=.97)\n",
    "divider = make_axes_locatable(ax)\n",
    "cax = divider.append_axes('right', size='5%', pad=0.05)\n",
    "\n",
    "yekin = ax.imshow(np.log10(angene1.T),\n",
    "           cmap=newcmap,\n",
    "           origin='lower',\n",
    "           extent=[ang[0],ang[-1],ee[0],ee[-1]],\n",
    "           vmin=-7,\n",
    "           vmax=-3,\n",
    "           aspect='auto',\n",
    "          )\n",
    "cbar = fig.colorbar(yekin, cax=cax)\n",
    "cbar.minorticks_on()\n",
    "ax.set_xlim(-90,90)\n",
    "ax.set_xticks([-90, -45, 0, 45, 90])\n",
    "ax.set_ylim(0,16)\n",
    "ax.set_xlabel(r'angle ($\\degree$)')\n",
    "ax.set_ylabel('ekin (MeV)')\n",
    "ax.grid(linestyle='--',color='grey',alpha=0.5)\n",
    "fig.set_size_inches(width, height)\n",
    "fig.tight_layout()"
   ]
  },
  {
   "cell_type": "code",
   "execution_count": 55,
   "id": "2a809fb4-7e32-4090-aec2-1b6256d9afc1",
   "metadata": {},
   "outputs": [],
   "source": [
    "fig.savefig('/Users/yao/Desktop/ang_ene_e.pdf')"
   ]
  },
  {
   "cell_type": "code",
   "execution_count": 39,
   "id": "78f69d54-fc43-40e5-9a4f-0ed429ec7063",
   "metadata": {},
   "outputs": [],
   "source": [
    "pxpy = np.array(S0.Screen(1, units=['um','fs','MeV']).getData()[-1]) # last timestep\n",
    "px = np.array(S0.Screen(1, units=['um','fs','MeV']).getAxis('px'))\n",
    "py = np.array(S0.Screen(1, units=['um','fs','MeV']).getAxis('py'))"
   ]
  },
  {
   "cell_type": "code",
   "execution_count": 48,
   "id": "6c4c04e5-fceb-4993-aa42-c87407ac995a",
   "metadata": {},
   "outputs": [],
   "source": [
    "plt.rc('font', family='sans-serif', serif='Arial')\n",
    "plt.rc('text', usetex=False)\n",
    "plt.rc('xtick', labelsize=12)\n",
    "plt.rc('ytick', labelsize=12)\n",
    "plt.rc('axes', labelsize=12)\n",
    "plt.rc('legend', fontsize=12)\n",
    "\n",
    "from mpl_toolkits.axes_grid1 import make_axes_locatable\n",
    "\n",
    "\n",
    "width  = 3.487\n",
    "height = width / 1.618 * 1.2\n",
    "\n",
    "fig, ax = plt.subplots()\n",
    "fig.subplots_adjust(left=.15, bottom=.16, right=.99, top=.97)\n",
    "divider = make_axes_locatable(ax)\n",
    "cax = divider.append_axes('right', size='5%', pad=0.05)\n",
    "\n",
    "yekin = ax.imshow(np.log10(pxpy.T),\n",
    "           cmap=newcmap,\n",
    "           origin='lower',\n",
    "           extent=[px[0],px[-1],py[0],py[-1]],\n",
    "           vmin=-7,\n",
    "           vmax=-4,\n",
    "           aspect='equal',\n",
    "          )\n",
    "cbar = fig.colorbar(yekin, cax=cax)\n",
    "cbar.minorticks_on()\n",
    "ax.set_xlim(100,400)\n",
    "# ax.set_xticks([-90, -45, 0, 45, 90])\n",
    "ax.set_ylim(-100,100)\n",
    "ax.set_xlabel(r'$p_x$ ($m_e c$)')\n",
    "ax.set_ylabel(r'$p_y$ ($m_e c$)')\n",
    "ax.grid(linestyle='--',color='grey',alpha=0.5)\n",
    "fig.set_size_inches(width, height)\n",
    "fig.tight_layout()"
   ]
  },
  {
   "cell_type": "code",
   "execution_count": 113,
   "id": "dc1c4685-27c1-4545-889c-8866921a1476",
   "metadata": {},
   "outputs": [
    {
     "data": {
      "text/plain": [
       "9.582961367237239"
      ]
     },
     "execution_count": 113,
     "metadata": {},
     "output_type": "execute_result"
    }
   ],
   "source": [
    "xx[660]"
   ]
  },
  {
   "cell_type": "code",
   "execution_count": 12,
   "id": "5cdf133e-2324-44c5-a9f4-ec0ceca8b35b",
   "metadata": {},
   "outputs": [
    {
     "ename": "TypeError",
     "evalue": "Improper input: func input vector length N=2 must not exceed func output vector length M=0",
     "output_type": "error",
     "traceback": [
      "\u001b[0;31m---------------------------------------------------------------------------\u001b[0m",
      "\u001b[0;31mTypeError\u001b[0m                                 Traceback (most recent call last)",
      "Cell \u001b[0;32mIn[12], line 21\u001b[0m\n\u001b[1;32m     18\u001b[0m     \u001b[38;5;28mprint\u001b[39m(\u001b[38;5;124m\"\u001b[39m\u001b[38;5;124mReduced chi square: \u001b[39m\u001b[38;5;124m\"\u001b[39m, result\u001b[38;5;241m.\u001b[39mredchi)\n\u001b[1;32m     19\u001b[0m     \u001b[38;5;28;01mreturn\u001b[39;00m result\u001b[38;5;241m.\u001b[39mbest_fit, result\u001b[38;5;241m.\u001b[39mvalues[\u001b[38;5;124m'\u001b[39m\u001b[38;5;124mkT\u001b[39m\u001b[38;5;124m'\u001b[39m], result\u001b[38;5;241m.\u001b[39mredchi\n\u001b[0;32m---> 21\u001b[0m y, kT, redchi \u001b[38;5;241m=\u001b[39m \u001b[43mfitting\u001b[49m\u001b[43m(\u001b[49m\u001b[43mene3\u001b[49m\u001b[43m[\u001b[49m\u001b[38;5;241;43m-\u001b[39;49m\u001b[38;5;241;43m1\u001b[39;49m\u001b[43m]\u001b[49m\u001b[43m,\u001b[49m\u001b[43m \u001b[49m\u001b[43mstart_point\u001b[49m\u001b[43m,\u001b[49m\u001b[43m \u001b[49m\u001b[43mend_point\u001b[49m\u001b[43m)\u001b[49m\n",
      "Cell \u001b[0;32mIn[12], line 15\u001b[0m, in \u001b[0;36mfitting\u001b[0;34m(case, start, end)\u001b[0m\n\u001b[1;32m     13\u001b[0m gmod\u001b[38;5;241m.\u001b[39mset_param_hint(\u001b[38;5;124m'\u001b[39m\u001b[38;5;124mA\u001b[39m\u001b[38;5;124m'\u001b[39m, value\u001b[38;5;241m=\u001b[39m\u001b[38;5;241m3.0\u001b[39m, vary\u001b[38;5;241m=\u001b[39m\u001b[38;5;28;01mTrue\u001b[39;00m, \u001b[38;5;28mmin\u001b[39m\u001b[38;5;241m=\u001b[39m\u001b[38;5;241m1.0e-5\u001b[39m, \u001b[38;5;28mmax\u001b[39m\u001b[38;5;241m=\u001b[39m\u001b[38;5;241m1.0e5\u001b[39m)\n\u001b[1;32m     14\u001b[0m pars \u001b[38;5;241m=\u001b[39m gmod\u001b[38;5;241m.\u001b[39mmake_params()\n\u001b[0;32m---> 15\u001b[0m result \u001b[38;5;241m=\u001b[39m \u001b[43mgmod\u001b[49m\u001b[38;5;241;43m.\u001b[39;49m\u001b[43mfit\u001b[49m\u001b[43m(\u001b[49m\u001b[43mcase\u001b[49m\u001b[43m[\u001b[49m\u001b[43mstart\u001b[49m\u001b[43m:\u001b[49m\u001b[43mend\u001b[49m\u001b[43m]\u001b[49m\u001b[43m,\u001b[49m\u001b[43m \u001b[49m\u001b[43mxdata\u001b[49m\u001b[38;5;241;43m=\u001b[39;49m\u001b[43mxx\u001b[49m\u001b[43m[\u001b[49m\u001b[43mstart\u001b[49m\u001b[43m:\u001b[49m\u001b[43mend\u001b[49m\u001b[43m]\u001b[49m\u001b[43m,\u001b[49m\u001b[43m \u001b[49m\u001b[43mmethod\u001b[49m\u001b[38;5;241;43m=\u001b[39;49m\u001b[43mfitmethod\u001b[49m\u001b[43m,\u001b[49m\u001b[43m \u001b[49m\u001b[43mnan_policy\u001b[49m\u001b[38;5;241;43m=\u001b[39;49m\u001b[38;5;124;43m'\u001b[39;49m\u001b[38;5;124;43momit\u001b[39;49m\u001b[38;5;124;43m'\u001b[39;49m\u001b[43m)\u001b[49m\n\u001b[1;32m     16\u001b[0m \u001b[38;5;28mprint\u001b[39m(result\u001b[38;5;241m.\u001b[39mfit_report())\n\u001b[1;32m     17\u001b[0m \u001b[38;5;28mprint\u001b[39m(\u001b[38;5;124m\"\u001b[39m\u001b[38;5;124mkT: \u001b[39m\u001b[38;5;124m\"\u001b[39m, result\u001b[38;5;241m.\u001b[39mvalues[\u001b[38;5;124m'\u001b[39m\u001b[38;5;124mkT\u001b[39m\u001b[38;5;124m'\u001b[39m])\n",
      "File \u001b[0;32m/opt/homebrew/lib/python3.9/site-packages/lmfit/model.py:1103\u001b[0m, in \u001b[0;36mModel.fit\u001b[0;34m(self, data, params, weights, method, iter_cb, scale_covar, verbose, fit_kws, nan_policy, calc_covar, max_nfev, coerce_farray, **kwargs)\u001b[0m\n\u001b[1;32m   1097\u001b[0m     fit_kws \u001b[38;5;241m=\u001b[39m {}\n\u001b[1;32m   1099\u001b[0m output \u001b[38;5;241m=\u001b[39m ModelResult(\u001b[38;5;28mself\u001b[39m, params, method\u001b[38;5;241m=\u001b[39mmethod, iter_cb\u001b[38;5;241m=\u001b[39miter_cb,\n\u001b[1;32m   1100\u001b[0m                      scale_covar\u001b[38;5;241m=\u001b[39mscale_covar, fcn_kws\u001b[38;5;241m=\u001b[39mkwargs,\n\u001b[1;32m   1101\u001b[0m                      nan_policy\u001b[38;5;241m=\u001b[39m\u001b[38;5;28mself\u001b[39m\u001b[38;5;241m.\u001b[39mnan_policy, calc_covar\u001b[38;5;241m=\u001b[39mcalc_covar,\n\u001b[1;32m   1102\u001b[0m                      max_nfev\u001b[38;5;241m=\u001b[39mmax_nfev, \u001b[38;5;241m*\u001b[39m\u001b[38;5;241m*\u001b[39mfit_kws)\n\u001b[0;32m-> 1103\u001b[0m \u001b[43moutput\u001b[49m\u001b[38;5;241;43m.\u001b[39;49m\u001b[43mfit\u001b[49m\u001b[43m(\u001b[49m\u001b[43mdata\u001b[49m\u001b[38;5;241;43m=\u001b[39;49m\u001b[43mdata\u001b[49m\u001b[43m,\u001b[49m\u001b[43m \u001b[49m\u001b[43mweights\u001b[49m\u001b[38;5;241;43m=\u001b[39;49m\u001b[43mweights\u001b[49m\u001b[43m)\u001b[49m\n\u001b[1;32m   1104\u001b[0m output\u001b[38;5;241m.\u001b[39mcomponents \u001b[38;5;241m=\u001b[39m \u001b[38;5;28mself\u001b[39m\u001b[38;5;241m.\u001b[39mcomponents\n\u001b[1;32m   1105\u001b[0m \u001b[38;5;28;01mreturn\u001b[39;00m output\n",
      "File \u001b[0;32m/opt/homebrew/lib/python3.9/site-packages/lmfit/model.py:1467\u001b[0m, in \u001b[0;36mModelResult.fit\u001b[0;34m(self, data, params, weights, method, nan_policy, **kwargs)\u001b[0m\n\u001b[1;32m   1465\u001b[0m \u001b[38;5;28mself\u001b[39m\u001b[38;5;241m.\u001b[39muserkws\u001b[38;5;241m.\u001b[39mupdate(kwargs)\n\u001b[1;32m   1466\u001b[0m \u001b[38;5;28mself\u001b[39m\u001b[38;5;241m.\u001b[39minit_fit \u001b[38;5;241m=\u001b[39m \u001b[38;5;28mself\u001b[39m\u001b[38;5;241m.\u001b[39mmodel\u001b[38;5;241m.\u001b[39meval(params\u001b[38;5;241m=\u001b[39m\u001b[38;5;28mself\u001b[39m\u001b[38;5;241m.\u001b[39mparams, \u001b[38;5;241m*\u001b[39m\u001b[38;5;241m*\u001b[39m\u001b[38;5;28mself\u001b[39m\u001b[38;5;241m.\u001b[39muserkws)\n\u001b[0;32m-> 1467\u001b[0m _ret \u001b[38;5;241m=\u001b[39m \u001b[38;5;28;43mself\u001b[39;49m\u001b[38;5;241;43m.\u001b[39;49m\u001b[43mminimize\u001b[49m\u001b[43m(\u001b[49m\u001b[43mmethod\u001b[49m\u001b[38;5;241;43m=\u001b[39;49m\u001b[38;5;28;43mself\u001b[39;49m\u001b[38;5;241;43m.\u001b[39;49m\u001b[43mmethod\u001b[49m\u001b[43m)\u001b[49m\n\u001b[1;32m   1468\u001b[0m \u001b[38;5;28mself\u001b[39m\u001b[38;5;241m.\u001b[39mmodel\u001b[38;5;241m.\u001b[39mpost_fit(_ret)\n\u001b[1;32m   1469\u001b[0m _ret\u001b[38;5;241m.\u001b[39mparams\u001b[38;5;241m.\u001b[39mcreate_uvars(covar\u001b[38;5;241m=\u001b[39m_ret\u001b[38;5;241m.\u001b[39mcovar)\n",
      "File \u001b[0;32m/opt/homebrew/lib/python3.9/site-packages/lmfit/minimizer.py:2345\u001b[0m, in \u001b[0;36mMinimizer.minimize\u001b[0;34m(self, method, params, **kws)\u001b[0m\n\u001b[1;32m   2342\u001b[0m         \u001b[38;5;28;01mif\u001b[39;00m (key\u001b[38;5;241m.\u001b[39mlower()\u001b[38;5;241m.\u001b[39mstartswith(user_method) \u001b[38;5;129;01mor\u001b[39;00m\n\u001b[1;32m   2343\u001b[0m                 val\u001b[38;5;241m.\u001b[39mlower()\u001b[38;5;241m.\u001b[39mstartswith(user_method)):\n\u001b[1;32m   2344\u001b[0m             kwargs[\u001b[38;5;124m'\u001b[39m\u001b[38;5;124mmethod\u001b[39m\u001b[38;5;124m'\u001b[39m] \u001b[38;5;241m=\u001b[39m val\n\u001b[0;32m-> 2345\u001b[0m \u001b[38;5;28;01mreturn\u001b[39;00m \u001b[43mfunction\u001b[49m\u001b[43m(\u001b[49m\u001b[38;5;241;43m*\u001b[39;49m\u001b[38;5;241;43m*\u001b[39;49m\u001b[43mkwargs\u001b[49m\u001b[43m)\u001b[49m\n",
      "File \u001b[0;32m/opt/homebrew/lib/python3.9/site-packages/lmfit/minimizer.py:1651\u001b[0m, in \u001b[0;36mMinimizer.leastsq\u001b[0;34m(self, params, max_nfev, **kws)\u001b[0m\n\u001b[1;32m   1649\u001b[0m result\u001b[38;5;241m.\u001b[39mcall_kws \u001b[38;5;241m=\u001b[39m lskws\n\u001b[1;32m   1650\u001b[0m \u001b[38;5;28;01mtry\u001b[39;00m:\n\u001b[0;32m-> 1651\u001b[0m     lsout \u001b[38;5;241m=\u001b[39m \u001b[43mscipy_leastsq\u001b[49m\u001b[43m(\u001b[49m\u001b[38;5;28;43mself\u001b[39;49m\u001b[38;5;241;43m.\u001b[39;49m\u001b[43m__residual\u001b[49m\u001b[43m,\u001b[49m\u001b[43m \u001b[49m\u001b[43mvariables\u001b[49m\u001b[43m,\u001b[49m\u001b[43m \u001b[49m\u001b[38;5;241;43m*\u001b[39;49m\u001b[38;5;241;43m*\u001b[39;49m\u001b[43mlskws\u001b[49m\u001b[43m)\u001b[49m\n\u001b[1;32m   1652\u001b[0m \u001b[38;5;28;01mexcept\u001b[39;00m AbortFitException:\n\u001b[1;32m   1653\u001b[0m     \u001b[38;5;28;01mpass\u001b[39;00m\n",
      "File \u001b[0;32m/opt/homebrew/lib/python3.9/site-packages/scipy/optimize/_minpack_py.py:419\u001b[0m, in \u001b[0;36mleastsq\u001b[0;34m(func, x0, args, Dfun, full_output, col_deriv, ftol, xtol, gtol, maxfev, epsfcn, factor, diag)\u001b[0m\n\u001b[1;32m    416\u001b[0m m \u001b[38;5;241m=\u001b[39m shape[\u001b[38;5;241m0\u001b[39m]\n\u001b[1;32m    418\u001b[0m \u001b[38;5;28;01mif\u001b[39;00m n \u001b[38;5;241m>\u001b[39m m:\n\u001b[0;32m--> 419\u001b[0m     \u001b[38;5;28;01mraise\u001b[39;00m \u001b[38;5;167;01mTypeError\u001b[39;00m(\u001b[38;5;124mf\u001b[39m\u001b[38;5;124m\"\u001b[39m\u001b[38;5;124mImproper input: func input vector length N=\u001b[39m\u001b[38;5;132;01m{\u001b[39;00mn\u001b[38;5;132;01m}\u001b[39;00m\u001b[38;5;124m must\u001b[39m\u001b[38;5;124m\"\u001b[39m\n\u001b[1;32m    420\u001b[0m                     \u001b[38;5;124mf\u001b[39m\u001b[38;5;124m\"\u001b[39m\u001b[38;5;124m not exceed func output vector length M=\u001b[39m\u001b[38;5;132;01m{\u001b[39;00mm\u001b[38;5;132;01m}\u001b[39;00m\u001b[38;5;124m\"\u001b[39m)\n\u001b[1;32m    422\u001b[0m \u001b[38;5;28;01mif\u001b[39;00m epsfcn \u001b[38;5;129;01mis\u001b[39;00m \u001b[38;5;28;01mNone\u001b[39;00m:\n\u001b[1;32m    423\u001b[0m     epsfcn \u001b[38;5;241m=\u001b[39m finfo(dtype)\u001b[38;5;241m.\u001b[39meps\n",
      "\u001b[0;31mTypeError\u001b[0m: Improper input: func input vector length N=2 must not exceed func output vector length M=0"
     ]
    }
   ],
   "source": [
    "from lmfit import Model, Parameters, report_fit\n",
    "\n",
    "def temp(xdata, A, kT):\n",
    "    return np.exp(-xdata/kT)*A\n",
    "    \n",
    "start_point = 500  # 3 MeV \n",
    "end_point = 660    # 25 MeV\n",
    "fitmethod =  'leastsq' #'leastsq' #'tnc' 'cg' 'differential_evolution'\n",
    "\n",
    "def fitting(case, start, end):\n",
    "    gmod = Model(temp)\n",
    "    gmod.set_param_hint('kT', value=1.8, vary=True, min=1.0e-2, max=1.0e1)\n",
    "    gmod.set_param_hint('A', value=3.0, vary=True, min=1.0e-5, max=1.0e5)\n",
    "    pars = gmod.make_params()\n",
    "    result = gmod.fit(case[start:end], xdata=xx[start:end], method=fitmethod, nan_policy='omit')\n",
    "    print(result.fit_report())\n",
    "    print(\"kT: \", result.values['kT'])\n",
    "    print(\"Reduced chi square: \", result.redchi)\n",
    "    return result.best_fit, result.values['kT'], result.redchi\n",
    "\n",
    "y, kT, redchi = fitting(ene3[-1], start_point, end_point)"
   ]
  },
  {
   "cell_type": "code",
   "execution_count": 13,
   "id": "e9ed2aad-a6e0-40a9-88d8-ef3f31d048dd",
   "metadata": {},
   "outputs": [
    {
     "ename": "NameError",
     "evalue": "name 'y' is not defined",
     "output_type": "error",
     "traceback": [
      "\u001b[0;31m---------------------------------------------------------------------------\u001b[0m",
      "\u001b[0;31mNameError\u001b[0m                                 Traceback (most recent call last)",
      "Cell \u001b[0;32mIn[13], line 47\u001b[0m\n\u001b[1;32m     39\u001b[0m fig\u001b[38;5;241m.\u001b[39msubplots_adjust(left\u001b[38;5;241m=\u001b[39m\u001b[38;5;241m.15\u001b[39m, bottom\u001b[38;5;241m=\u001b[39m\u001b[38;5;241m.16\u001b[39m, right\u001b[38;5;241m=\u001b[39m\u001b[38;5;241m.99\u001b[39m, top\u001b[38;5;241m=\u001b[39m\u001b[38;5;241m.97\u001b[39m)\n\u001b[1;32m     41\u001b[0m ax\u001b[38;5;241m.\u001b[39msemilogy(xx,ene3[\u001b[38;5;241m-\u001b[39m\u001b[38;5;241m1\u001b[39m], color\u001b[38;5;241m=\u001b[39m\u001b[38;5;124m'\u001b[39m\u001b[38;5;124mk\u001b[39m\u001b[38;5;124m'\u001b[39m,lw\u001b[38;5;241m=\u001b[39m\u001b[38;5;241m1.0\u001b[39m,\n\u001b[1;32m     42\u001b[0m              linestyle\u001b[38;5;241m=\u001b[39m\u001b[38;5;124m'\u001b[39m\u001b[38;5;124m-\u001b[39m\u001b[38;5;124m'\u001b[39m,\n\u001b[1;32m     43\u001b[0m              \u001b[38;5;66;03m# label='PIC at t = {:.1f} fs'.format(tt[-1]),\u001b[39;00m\n\u001b[1;32m     44\u001b[0m             label\u001b[38;5;241m=\u001b[39m\u001b[38;5;124mr\u001b[39m\u001b[38;5;124m'\u001b[39m\u001b[38;5;124meon\u001b[39m\u001b[38;5;124m'\u001b[39m,\n\u001b[1;32m     45\u001b[0m            )\n\u001b[0;32m---> 47\u001b[0m ax\u001b[38;5;241m.\u001b[39msemilogy(xx[start_point:end_point], \u001b[43my\u001b[49m, \u001b[38;5;124m'\u001b[39m\u001b[38;5;124m--r\u001b[39m\u001b[38;5;124m'\u001b[39m, linewidth\u001b[38;5;241m=\u001b[39m\u001b[38;5;241m2.0\u001b[39m, markersize\u001b[38;5;241m=\u001b[39m\u001b[38;5;241m6\u001b[39m, mfc\u001b[38;5;241m=\u001b[39m\u001b[38;5;124m'\u001b[39m\u001b[38;5;124mnone\u001b[39m\u001b[38;5;124m'\u001b[39m,mew\u001b[38;5;241m=\u001b[39m\u001b[38;5;241m1\u001b[39m, label\u001b[38;5;241m=\u001b[39m\u001b[38;5;124m'\u001b[39m\u001b[38;5;132;01m{:.1f}\u001b[39;00m\u001b[38;5;124m MeV (R.C.=\u001b[39m\u001b[38;5;132;01m{:.1e}\u001b[39;00m\u001b[38;5;124m)\u001b[39m\u001b[38;5;124m'\u001b[39m\u001b[38;5;241m.\u001b[39mformat(kT, redchi))\n\u001b[1;32m     50\u001b[0m ax\u001b[38;5;241m.\u001b[39mset_xlim([\u001b[38;5;241m0.1\u001b[39m,\u001b[38;5;241m10\u001b[39m])\n\u001b[1;32m     51\u001b[0m ax\u001b[38;5;241m.\u001b[39mset_ylim([\u001b[38;5;241m1e-6\u001b[39m,\u001b[38;5;241m1e-1\u001b[39m])\n",
      "\u001b[0;31mNameError\u001b[0m: name 'y' is not defined"
     ]
    }
   ],
   "source": [
    "# eon energy spectrum from screen -- check the electron temperature and thus X-rays\n",
    "\n",
    "plt.rc('font', family='sans-serif', serif='Arial')\n",
    "plt.rc('text', usetex=False)\n",
    "plt.rc('xtick', labelsize=8)\n",
    "plt.rc('ytick', labelsize=8)\n",
    "plt.rc('axes', labelsize=8)\n",
    "plt.rc('legend', fontsize=8)\n",
    "\n",
    "# plt.rc('text', usetex=False)\n",
    "# mpl.rcParams['font.family'] = 'Arial'\n",
    "# mpl.rcParams['axes.labelsize'] = 12\n",
    "# mpl.rcParams['legend.fontsize'] = 16\n",
    "# mpl.rcParams['xtick.labelsize'] = 12\n",
    "# mpl.rcParams['ytick.labelsize'] = 12\n",
    "# mpl.rcParams['lines.linewidth'] = 2\n",
    "\n",
    "width  = 3.487\n",
    "height = width / 1.618 * 1.5\n",
    "\n",
    "# yrange3 = [0*S0.namelist.l0, 40*S0.namelist.l0]   # 22.76\n",
    "# fitting_factor3 = 5e10 * 50\n",
    "ene3 = S0.Screen(3, units=['um','fs','MeV'],\n",
    "                 # data_log=True,\n",
    "                 # ,sum={'y':yrange3},\n",
    "                ).getData()\n",
    "\n",
    "xx  = S0.Screen(3, units=['um','fs','MeV']).getAxis('ekin')\n",
    "tt  = S0.Screen(3, units=['um','fs','MeV']).getTimes()\n",
    "\n",
    "# index = (xx < 30.0)*(xx > 3.0)\n",
    "# x2 = xx[index]\n",
    "# y2 = func(x2,0.02,5)\n",
    "\n",
    "\n",
    "\n",
    "\n",
    "fig, ax = plt.subplots()\n",
    "fig.subplots_adjust(left=.15, bottom=.16, right=.99, top=.97)\n",
    "\n",
    "ax.semilogy(xx,ene3[-1], color='k',lw=1.0,\n",
    "             linestyle='-',\n",
    "             # label='PIC at t = {:.1f} fs'.format(tt[-1]),\n",
    "            label=r'eon',\n",
    "           )\n",
    "\n",
    "ax.semilogy(xx[start_point:end_point], y, '--r', linewidth=2.0, markersize=6, mfc='none',mew=1, label='{:.1f} MeV (R.C.={:.1e})'.format(kT, redchi))\n",
    "\n",
    "\n",
    "ax.set_xlim([0.1,10])\n",
    "ax.set_ylim([1e-6,1e-1])\n",
    "# plt.title('time = '+str(tt[ts])+' fs')\n",
    "# ax.grid(which='both',linestyle='--',alpha=0.5)\n",
    "ax.set_xlabel('Energy (MeV)')\n",
    "ax.set_ylabel('dN/dE (No./MeV)')\n",
    "\n",
    "ax.legend()\n",
    "fig.set_size_inches(width, height)\n",
    "fig.tight_layout()\n",
    "\n",
    "# plt.show()"
   ]
  },
  {
   "cell_type": "code",
   "execution_count": 122,
   "id": "ecd1fee1-cfdf-4cd3-a705-ad112b311ab0",
   "metadata": {},
   "outputs": [],
   "source": [
    "fig.savefig('/Users/yao/Desktop/spec_e_temp.pdf')"
   ]
  },
  {
   "cell_type": "code",
   "execution_count": null,
   "id": "1fb815d6-e6ff-4286-b5d1-fabd2503adf7",
   "metadata": {},
   "outputs": [],
   "source": []
  },
  {
   "cell_type": "code",
   "execution_count": null,
   "id": "80870c47-8992-47c1-bfda-da5583ab5d98",
   "metadata": {},
   "outputs": [],
   "source": []
  },
  {
   "cell_type": "code",
   "execution_count": null,
   "id": "5c668a0a-e42d-4883-9ac2-5e0fbedbfbe3",
   "metadata": {},
   "outputs": [],
   "source": []
  },
  {
   "cell_type": "code",
   "execution_count": 16,
   "id": "29003f19-c3e1-466a-b8a2-dc899c555959",
   "metadata": {},
   "outputs": [
    {
     "name": "stdout",
     "output_type": "stream",
     "text": [
      "Cannot format x ticks (typically happens with log-scale)\n",
      "Cannot format x ticks (typically happens with log-scale)\n"
     ]
    }
   ],
   "source": [
    "#%% energy spectrum of H from screen \n",
    "\n",
    "ID = 3 # 0: proton; 3: electron\n",
    "\n",
    "xmin0 = 2\n",
    "xmax0 = 20.0\n",
    "vmin0 = -6\n",
    "vmax0 = -3\n",
    "\n",
    "ene20 = S0.Screen(ID, units=['um','fs','MeV'],\n",
    "                  data_log=True,\n",
    "                  label=\"20 nm\",\n",
    "                  color='red',\n",
    "                  linestyle='-',\n",
    "                    # vmin=vmin0,\n",
    "                   # vmax=vmax0,\n",
    "                   # xmin=xmin0,\n",
    "                   # xmax=xmax0,\n",
    "                  )\n",
    "\n",
    "ene50 = S1.Screen(ID, units=['um','fs','MeV'],\n",
    "                  data_log=True,\n",
    "                  label=\"50 nm\",\n",
    "                  color='blue',\n",
    "                  linestyle='--',\n",
    "                    # vmin=vmin0,\n",
    "                   # vmax=vmax0,\n",
    "                   # xmin=xmin0,\n",
    "                   # xmax=xmax0,\n",
    "                  )\n",
    "\n",
    "happi.multiSlide(ene20, ene50)"
   ]
  },
  {
   "cell_type": "code",
   "execution_count": 34,
   "id": "52b6f571-02ac-4e0c-8953-36d694680b36",
   "metadata": {},
   "outputs": [],
   "source": [
    "#%% px-py distribution for H from screen\n",
    "\n",
    "vmin0 = -8\n",
    "vmax0 = 0\n",
    "xmin0 = -20\n",
    "xmax0 = 20\n",
    "ymin0 = -20\n",
    "ymax0 = 20\n",
    "\n",
    "ene20 = S0.Screen(1, units=['um','fs','MeV'],\n",
    "                  data_log=True,\n",
    "                  cmap=newcmap,\n",
    "                  # label=\"10 nm\",\n",
    "                  # color='red',\n",
    "                  # linestyle='-',\n",
    "                  vmin=vmin0,\n",
    "                  vmax=vmax0,\n",
    "                  # xmin=xmin0,\n",
    "                  # xmax=xmax0,\n",
    "                  # ymin=ymin0,\n",
    "                  # ymax=ymax0,\n",
    "                  )\n",
    "\n",
    "ene50 = S1.Screen(1, units=['um','fs','MeV'],\n",
    "                  data_log=True,\n",
    "                  cmap=newcmap,\n",
    "                  # label=\"10 nm\",\n",
    "                  # color='red',\n",
    "                  # linestyle='-',\n",
    "                  vmin=vmin0,\n",
    "                  vmax=vmax0,\n",
    "                  # xmin=xmin0,\n",
    "                  # xmax=xmax0,\n",
    "                  # ymin=ymin0,\n",
    "                  # ymax=ymax0,\n",
    "                  )\n",
    "\n",
    "happi.multiSlide(ene20, ene50, shape=[1,2])"
   ]
  },
  {
   "cell_type": "code",
   "execution_count": 17,
   "id": "216bf481-dfc0-4b20-9405-df2df5e040b4",
   "metadata": {
    "scrolled": true
   },
   "outputs": [],
   "source": [
    "#%% energy spectrum of H from screen with resolution in y\n",
    "# %matplotlib widget\n",
    "xmin0 = 2\n",
    "xmax0 = 40\n",
    "vmin0 = -4\n",
    "vmax0 = -2\n",
    "ymin0 = 5\n",
    "ymax0 = 35\n",
    "\n",
    "ene20 = S0.Screen(2, units=['um','fs','MeV'],\n",
    "                  data_log=True,\n",
    "                  cmap=newcmap,\n",
    "                  label=\"10 nm\",\n",
    "                  color='red',\n",
    "                  linestyle='-',\n",
    "                  # sum={'y':'all'},\n",
    "                    vmin=vmin0,\n",
    "                   vmax=vmax0,\n",
    "                   xmin=xmin0,\n",
    "                   xmax=xmax0,\n",
    "                  ymin=ymin0,\n",
    "                   ymax=ymax0,\n",
    "                  )\n",
    "\n",
    "ene50 = S1.Screen(2, units=['um','fs','MeV'],\n",
    "                  data_log=True,\n",
    "                  cmap=newcmap,\n",
    "                  label=\"10 nm\",\n",
    "                  color='red',\n",
    "                  linestyle='-',\n",
    "                  # sum={'y':'all'},\n",
    "                    vmin=vmin0,\n",
    "                   vmax=vmax0,\n",
    "                   xmin=xmin0,\n",
    "                   xmax=xmax0,\n",
    "                  ymin=ymin0,\n",
    "                   ymax=ymax0,\n",
    "                  )\n",
    "\n",
    "happi.multiSlide(ene20, ene50, shape=[1,2])"
   ]
  },
  {
   "cell_type": "code",
   "execution_count": 7,
   "id": "9f123d0e-834d-4ad1-9107-20980b1497db",
   "metadata": {},
   "outputs": [
    {
     "name": "stdout",
     "output_type": "stream",
     "text": [
      "Cannot format x ticks (typically happens with log-scale)\n",
      "\n",
      "#3 - Number density of species # 0\n",
      "    ekin from 0.195695 to 195.695 in 1000 steps  [ LOG SCALE ] \n",
      "\n",
      "The value in each bin is the sum of the `deposited_quantity` divided by the bin size and by grid_length[0] * grid_length[1]\n",
      "\n"
     ]
    }
   ],
   "source": [
    "#%% energy spectrum of eon from screen to the right\n",
    "xmin0 = 2\n",
    "xmax0 = 20.0\n",
    "vmin0 = -6\n",
    "vmax0 = -3\n",
    "\n",
    "ene10 = S0.Screen(3, units=['um','fs','MeV'],\n",
    "                  data_log=True,\n",
    "                  label=\"10 nm\",\n",
    "                  color='red',\n",
    "                  linestyle='-',\n",
    "                    # vmin=vmin0,\n",
    "                   # vmax=vmax0,\n",
    "                   # xmin=xmin0,\n",
    "                   # xmax=xmax0,\n",
    "                  ).slide()"
   ]
  },
  {
   "cell_type": "code",
   "execution_count": 13,
   "id": "e82c8a77-21ba-42ac-9c48-84f82674fdb4",
   "metadata": {},
   "outputs": [
    {
     "name": "stdout",
     "output_type": "stream",
     "text": [
      "Cannot format x ticks (typically happens with log-scale)\n",
      "\n",
      "#4 - Number density of species # 0\n",
      "    ekin from 0.195695 to 195.695 in 1000 steps  [ LOG SCALE ] \n",
      "\n",
      "The value in each bin is the sum of the `deposited_quantity` divided by the bin size and by grid_length[0] * grid_length[1]\n",
      "\n"
     ]
    }
   ],
   "source": [
    "#%% energy spectrum of eon from screen to the left\n",
    "\n",
    "xmin0 = 2\n",
    "xmax0 = 20.0\n",
    "vmin0 = -6\n",
    "vmax0 = -3\n",
    "\n",
    "ene10 = S0.Screen(4, units=['um','fs','MeV'],\n",
    "                  data_log=True,\n",
    "                  label=\"10 nm\",\n",
    "                  color='red',\n",
    "                  linestyle='-',\n",
    "                    # vmin=vmin0,\n",
    "                   # vmax=vmax0,\n",
    "                   # xmin=xmin0,\n",
    "                   # xmax=xmax0,\n",
    "                  ).slide()"
   ]
  },
  {
   "cell_type": "code",
   "execution_count": 10,
   "id": "83284eb5-ee21-4fdb-83e9-ef5ff2a846c0",
   "metadata": {},
   "outputs": [
    {
     "name": "stdout",
     "output_type": "stream",
     "text": [
      "Warning: Cannot change to a different GUI toolkit: widget. Using qt instead.\n",
      "\n",
      "#5 - Number density of species # 0,1\n",
      "    px from 0 to 100 in 200 steps \n",
      "    py from -50 to 50 in 200 steps \n",
      "\n",
      "The value in each bin is the sum of the `deposited_quantity` divided by the bin size and by grid_length[0] * grid_length[1]\n",
      "\n"
     ]
    }
   ],
   "source": [
    "#%% px-py distribution for eon\n",
    "%matplotlib widget\n",
    "vmin0 = -8\n",
    "vmax0 = 0\n",
    "xmin0 = -20\n",
    "xmax0 = 20\n",
    "ymin0 = -20\n",
    "ymax0 = 20\n",
    "\n",
    "ene10 = S0.Screen(5, units=['um','fs','MeV'],\n",
    "                  data_log=True,\n",
    "                  cmap=newcmap,\n",
    "                  # label=\"10 nm\",\n",
    "                  # color='red',\n",
    "                  # linestyle='-',\n",
    "                  vmin=vmin0,\n",
    "                  vmax=vmax0,\n",
    "                  # xmin=xmin0,\n",
    "                  # xmax=xmax0,\n",
    "                  # ymin=ymin0,\n",
    "                  # ymax=ymax0,\n",
    "                  ).slide()"
   ]
  },
  {
   "cell_type": "code",
   "execution_count": 27,
   "id": "079203b0-3083-4cae-a809-c73933509984",
   "metadata": {},
   "outputs": [],
   "source": [
    "#%% angular vs. energy distribution for H from screen\n",
    "\n",
    "vmin0 = -7\n",
    "vmax0 = -3\n",
    "xmin0 = -20\n",
    "xmax0 = 20\n",
    "ymin0 = 2\n",
    "ymax0 = 40\n",
    "\n",
    "ene20 = S0.Screen(6, units=['um','fs','MeV'],\n",
    "                  data_log=True,\n",
    "                  cmap=newcmap,\n",
    "                  # label=\"10 nm\",\n",
    "                  # color='red',\n",
    "                  # linestyle='-',\n",
    "                  vmin=vmin0,\n",
    "                  vmax=vmax0,\n",
    "                  xmin=xmin0,\n",
    "                  xmax=xmax0,\n",
    "                  ymin=ymin0,\n",
    "                  ymax=ymax0,\n",
    "                  )\n",
    "\n",
    "ene50 = S1.Screen(6, units=['um','fs','MeV'],\n",
    "                  data_log=True,\n",
    "                  cmap=newcmap,\n",
    "                  # label=\"10 nm\",\n",
    "                  # color='red',\n",
    "                  # linestyle='-',\n",
    "                  vmin=vmin0,\n",
    "                  vmax=vmax0,\n",
    "                  xmin=xmin0,\n",
    "                  xmax=xmax0,\n",
    "                  ymin=ymin0,\n",
    "                  ymax=ymax0,\n",
    "                  )\n",
    "\n",
    "happi.multiSlide(ene20, ene50, shape=[2,1])"
   ]
  },
  {
   "cell_type": "code",
   "execution_count": 16,
   "id": "40b2e6d9-6c8c-492c-9788-2092270774d7",
   "metadata": {},
   "outputs": [
    {
     "name": "stdout",
     "output_type": "stream",
     "text": [
      "\n",
      "#7 - Number density of species # 0,1\n",
      "    user_function0 from -90 to 90 in 200 steps \n",
      "    ekin from 0 to 97.8474 in 200 steps \n",
      "\n",
      "The value in each bin is the sum of the `deposited_quantity` divided by the bin size and by grid_length[0] * grid_length[1]\n",
      "\n"
     ]
    }
   ],
   "source": [
    "#%% angular vs. energy distribution for eon from screen\n",
    "\n",
    "vmin0 = -7\n",
    "vmax0 = -3\n",
    "xmin0 = -90\n",
    "xmax0 = 90\n",
    "ymin0 = 0\n",
    "ymax0 = 15\n",
    "\n",
    "ene10 = S1.Screen(7, units=['um','fs','MeV'],\n",
    "                  data_log=True,\n",
    "                  cmap=newcmap,\n",
    "                  # label=\"10 nm\",\n",
    "                  # color='red',\n",
    "                  # linestyle='-',\n",
    "                  vmin=vmin0,\n",
    "                  vmax=vmax0,\n",
    "                  xmin=xmin0,\n",
    "                  xmax=xmax0,\n",
    "                  ymin=ymin0,\n",
    "                  ymax=ymax0,\n",
    "                  ).slide()"
   ]
  },
  {
   "cell_type": "code",
   "execution_count": null,
   "id": "7b4a39ce-8e1d-4db0-8220-88ff356e00cc",
   "metadata": {},
   "outputs": [],
   "source": []
  },
  {
   "cell_type": "code",
   "execution_count": null,
   "id": "a1257212-7c63-4a7a-8f25-16bdff721ebb",
   "metadata": {},
   "outputs": [],
   "source": []
  },
  {
   "cell_type": "code",
   "execution_count": 18,
   "id": "87198777-adf3-489e-8386-a8125b25c3cc",
   "metadata": {},
   "outputs": [
    {
     "name": "stdout",
     "output_type": "stream",
     "text": [
      "\n",
      "#0 - Number density of species # 3\n",
      "    x from 0 to 125.664 in 200 steps \n",
      "    px from -200 to 600 in 400 steps \n",
      "\n",
      "The value in each bin is the sum of the `deposited_quantity` divided by the bin size and by grid_length[1]\n",
      "\n"
     ]
    }
   ],
   "source": [
    "#%% x-px distribution for H\n",
    "\n",
    "vmin0 = -6\n",
    "vmax0 = 0\n",
    "xmin0 = -20\n",
    "xmax0 = 20\n",
    "ymin0 = -20\n",
    "ymax0 = 20\n",
    "\n",
    "ene10 = S0.ParticleBinning(0, units=['um','fs','MeV'],\n",
    "                  data_log=True,\n",
    "                  cmap=newcmap,\n",
    "                  # label=\"10 nm\",\n",
    "                  # color='red',\n",
    "                  # linestyle='-',\n",
    "                  vmin=vmin0,\n",
    "                  vmax=vmax0,\n",
    "                  # xmin=xmin0,\n",
    "                  # xmax=xmax0,\n",
    "                  # ymin=ymin0,\n",
    "                  # ymax=ymax0,\n",
    "                  ).slide()"
   ]
  },
  {
   "cell_type": "code",
   "execution_count": 37,
   "id": "8d6c92fb-5964-4b5d-9126-447fef650d07",
   "metadata": {},
   "outputs": [
    {
     "name": "stdout",
     "output_type": "stream",
     "text": [
      "\n",
      "#5 - Number density of species # 0\n",
      "    x from 0 to 125.664 in 200 steps \n",
      "    y from 0 to 251.327 in 200 steps \n",
      "\n",
      "average at y = [126.2918175] L_r\n",
      "The value in each bin is the sum of the `deposited_quantity` divided by the bin size\n",
      "\n"
     ]
    }
   ],
   "source": [
    "#%% density distribution for H (1) and e- (5)\n",
    "vmin0 = 18\n",
    "vmax0 = 25\n",
    "# vmin0 = -4\n",
    "# vmax0 = 0\n",
    "xmin0 = -20\n",
    "xmax0 = 20\n",
    "ymin0 = -20\n",
    "ymax0 = 20\n",
    "\n",
    "ne = S2.ParticleBinning(5, units=['um','fs','MeV','cm^-3'],\n",
    "                  data_log=True,\n",
    "                  cmap=newcmap,\n",
    "                           # aspect='equal',\n",
    "                  # label=\"10 nm\",\n",
    "                  # color='red',\n",
    "                  # linestyle='-',\n",
    "                  vmin=vmin0,\n",
    "                  vmax=vmax0,\n",
    "                           average={'y':S2.namelist.Lsim[1]/2.},\n",
    "                        color='blue',\n",
    "                        linestyle='--',\n",
    "                        label='ne (nc)',\n",
    "                  # xmin=xmin0,\n",
    "                  # xmax=xmax0,\n",
    "                  # ymin=ymin0,\n",
    "                  # ymax=ymax0,\n",
    "                  ).slide()\n",
    "# Ey = S2.Field(0, 'Ey', units=['um','fs','MeV'],\n",
    "#              vsym=True,\n",
    "#              average={'y':S2.namelist.Lsim[1]/2.},\n",
    "#              color='red',\n",
    "#                         linestyle='-',\n",
    "#                         label='Ey (E0)',)\n",
    "\n",
    "# happi.multiSlide(ne, Ey)"
   ]
  },
  {
   "cell_type": "code",
   "execution_count": null,
   "id": "53801d68-e8a5-4f6d-bce5-348565e087a1",
   "metadata": {},
   "outputs": [],
   "source": []
  },
  {
   "cell_type": "code",
   "execution_count": 34,
   "id": "4fdfbf74-f6fc-4d0e-8d4f-30be006a4ada",
   "metadata": {},
   "outputs": [
    {
     "name": "stdout",
     "output_type": "stream",
     "text": [
      "Field diagnostic #1: Ex\n",
      "\tTime_average: 128 timesteps\n",
      "\tGrid spacing: 0.19634954084936207, 0.19634954084936207\n"
     ]
    }
   ],
   "source": [
    "Ey = S1.Field(1, 'Ex', units=['um','fs','MeV'],\n",
    "             vsym=True,\n",
    "             # average={'y':S2.namelist.Lsim[1]/2.},\n",
    "             color='red',\n",
    "                        linestyle='-',\n",
    "                        label='Ey (E0)',).slide()"
   ]
  },
  {
   "cell_type": "code",
   "execution_count": 29,
   "id": "d779e3b6-b997-46b3-8653-aa750fc9c9b9",
   "metadata": {},
   "outputs": [],
   "source": [
    "## Check the temporal laser profile \n",
    "\n",
    "laser = S1.namelist.Laser[0]\n",
    "\n",
    "t0 = 3.3 # fs\n",
    "\n",
    "from numpy import array, arange\n",
    "tstop = S1.namelist.Main.simulation_time / (2.0*np.pi) * t0    # simulation final time, in fs\n",
    "tstep = S1.namelist.Main.timestep        / (2.0*np.pi) * t0    # simulation timestep, in fs\n",
    "times = arange(0.,tstop, tstep)\n",
    "\n",
    "laser_profile = array([laser.time_envelope(t) for t in times])\n",
    "# plt.plot( times, laser_profile**2 / 2 )\n",
    "plt.plot( times, laser_profile**2 )\n",
    "plt.xlabel('time [fs]')\n",
    "plt.grid()\n",
    "# savefig(wkdir[0]+'laser_evolution.png')"
   ]
  },
  {
   "cell_type": "code",
   "execution_count": 10,
   "id": "729b55aa-7543-4610-9d11-269fae4ff7be",
   "metadata": {},
   "outputs": [
    {
     "name": "stdout",
     "output_type": "stream",
     "text": [
      "\n",
      "#2 - Number density of species # 3\n",
      "    px from 0 to 800 in 400 steps \n",
      "    py from -200 to 200 in 200 steps \n",
      "\n",
      "The value in each bin is the sum of the `deposited_quantity` divided by the bin size and by grid_length[0] * grid_length[1]\n",
      "\n"
     ]
    }
   ],
   "source": [
    "#%% px-py distribution for H\n",
    "\n",
    "vmin0 = -8\n",
    "vmax0 = 0\n",
    "xmin0 = -20\n",
    "xmax0 = 20\n",
    "ymin0 = -20\n",
    "ymax0 = 20\n",
    "\n",
    "ene10 = S1.ParticleBinning(2, units=['um','fs','MeV','cm^-3'],\n",
    "                  data_log=True,\n",
    "                  cmap=newcmap,\n",
    "                  # label=\"10 nm\",\n",
    "                  # color='red',\n",
    "                  # linestyle='-',\n",
    "                  vmin=vmin0,\n",
    "                  vmax=vmax0,\n",
    "                  # xmin=xmin0,\n",
    "                  # xmax=xmax0,\n",
    "                  # ymin=ymin0,\n",
    "                  # ymax=ymax0,\n",
    "                  ).slide()"
   ]
  },
  {
   "cell_type": "code",
   "execution_count": 11,
   "id": "07a0fe5d-a54a-436a-a860-1561661a54d4",
   "metadata": {},
   "outputs": [
    {
     "name": "stdout",
     "output_type": "stream",
     "text": [
      "\n",
      "#3 - Number density of species # 3\n",
      "    ekin from 0.000391389 to 117.417 in 1000 steps \n",
      "\n",
      "The value in each bin is the sum of the `deposited_quantity` divided by the bin size and by grid_length[0] * grid_length[1]\n",
      "\n"
     ]
    }
   ],
   "source": [
    "#%% energy spectrum of H from Particle Bin \n",
    "\n",
    "xmin0 = 2\n",
    "xmax0 = 20.0\n",
    "vmin0 = -6\n",
    "vmax0 = -3\n",
    "\n",
    "ene10 = S0.ParticleBinning(3, units=['um','fs','MeV'],\n",
    "                  data_log=True,\n",
    "                  label=\"10 nm\",\n",
    "                  color='red',\n",
    "                  linestyle='-',\n",
    "                    # vmin=vmin0,\n",
    "                   # vmax=vmax0,\n",
    "                   # xmin=xmin0,\n",
    "                   # xmax=xmax0,\n",
    "                  ).slide()"
   ]
  },
  {
   "cell_type": "code",
   "execution_count": 15,
   "id": "c2acf2b3-5d38-4ea9-a582-5cf8af6cc51c",
   "metadata": {},
   "outputs": [
    {
     "name": "stdout",
     "output_type": "stream",
     "text": [
      "Warning: Cannot change to a different GUI toolkit: widget. Using qt instead.\n",
      "\n",
      "#4 - Number density of species # 0,1\n",
      "    x from 0 to 125.664 in 200 steps \n",
      "    px from -50 to 50 in 200 steps \n",
      "\n",
      "The value in each bin is the sum of the `deposited_quantity` divided by the bin size and by grid_length[1]\n",
      "\n"
     ]
    }
   ],
   "source": [
    "#%% x-px distribution for eon\n",
    "%matplotlib widget\n",
    "vmin0 = -8\n",
    "vmax0 = 0\n",
    "xmin0 = -20\n",
    "xmax0 = 20\n",
    "ymin0 = -20\n",
    "ymax0 = 20\n",
    "\n",
    "ene10 = S0.ParticleBinning(4, units=['um','fs','MeV'],\n",
    "                  data_log=True,\n",
    "                  cmap=newcmap,\n",
    "                  # label=\"10 nm\",\n",
    "                  # color='red',\n",
    "                  # linestyle='-',\n",
    "                  vmin=vmin0,\n",
    "                  vmax=vmax0,\n",
    "                  # xmin=xmin0,\n",
    "                  # xmax=xmax0,\n",
    "                  # ymin=ymin0,\n",
    "                  # ymax=ymax0,\n",
    "                  ).slide()"
   ]
  },
  {
   "cell_type": "code",
   "execution_count": 16,
   "id": "77d3a8c9-7230-4342-b8c9-bb2b00ee9f2b",
   "metadata": {},
   "outputs": [
    {
     "name": "stdout",
     "output_type": "stream",
     "text": [
      "\n",
      "#5 - Number density of species # 0,1\n",
      "    x from 0 to 125.664 in 200 steps \n",
      "    y from 0 to 251.327 in 200 steps \n",
      "\n",
      "The value in each bin is the sum of the `deposited_quantity` divided by the bin size\n",
      "\n"
     ]
    }
   ],
   "source": [
    "#%% density distribution for eon\n",
    "\n",
    "vmin0 = 17\n",
    "vmax0 = 23\n",
    "xmin0 = -20\n",
    "xmax0 = 20\n",
    "ymin0 = -20\n",
    "ymax0 = 20\n",
    "\n",
    "ene10 = S0.ParticleBinning(5, units=['um','fs','MeV','cm^-3'],\n",
    "                  data_log=True,\n",
    "                  cmap=newcmap,\n",
    "                           aspect='equal',\n",
    "                  # label=\"10 nm\",\n",
    "                  # color='red',\n",
    "                  # linestyle='-',\n",
    "                  vmin=vmin0,\n",
    "                  vmax=vmax0,\n",
    "                  # xmin=xmin0,\n",
    "                  # xmax=xmax0,\n",
    "                  # ymin=ymin0,\n",
    "                  # ymax=ymax0,\n",
    "                  ).slide()"
   ]
  },
  {
   "cell_type": "code",
   "execution_count": 13,
   "id": "c4c5766f-1fe6-4237-94a6-7fbe7ca61101",
   "metadata": {},
   "outputs": [
    {
     "name": "stdout",
     "output_type": "stream",
     "text": [
      "Field diagnostic #1: Ex\n",
      "\tTime_average: 256.0 timesteps\n",
      "\tGrid spacing: 0.09817477042468103, 0.09817477042468103\n"
     ]
    }
   ],
   "source": [
    "\n",
    "vsym0 = 1e12\n",
    "\n",
    "Ey10 = S0.Field(1, 'Ex', units=['um','fs','V/m'],\n",
    "                # vsym=True,\n",
    "                vsym=vsym0,\n",
    "                aspect='equal',\n",
    "                ).slide()"
   ]
  },
  {
   "cell_type": "code",
   "execution_count": 7,
   "id": "0c38a800-62e6-487d-8d3a-b63befb1b41e",
   "metadata": {},
   "outputs": [
    {
     "name": "stdout",
     "output_type": "stream",
     "text": [
      "Field diagnostic #0: Ey\n",
      "\tGrid spacing: 0.19634954084936207, 0.19634954084936207\n"
     ]
    }
   ],
   "source": [
    "\n",
    "vsym0 = 1e12\n",
    "\n",
    "Ey10 = S1.Field(0, 'Ey', units=['um','fs','V/m'],\n",
    "                vsym=True,\n",
    "                # vsym=vsym0,\n",
    "                aspect='equal',\n",
    "                ).slide()"
   ]
  },
  {
   "cell_type": "code",
   "execution_count": null,
   "id": "b00d8c40-5068-45f7-9c73-3ec3b90f0293",
   "metadata": {},
   "outputs": [],
   "source": []
  },
  {
   "cell_type": "code",
   "execution_count": null,
   "id": "96f0c028-d74b-4f96-8805-034dfc9bb4ad",
   "metadata": {},
   "outputs": [],
   "source": [
    "qe = 1.6e-19\n",
    "E  = 1e12\n",
    "l  = 1e-6\n",
    "ene = qe*E*l / qe /1e6\n",
    "print('ene = {:.2e} MeV'.format(ene))"
   ]
  },
  {
   "cell_type": "code",
   "execution_count": null,
   "id": "7a709f20-0e7b-4593-8392-6ea1d44c4d00",
   "metadata": {},
   "outputs": [],
   "source": [
    "np.arctan2(-1,1) * 180 / np.pi"
   ]
  },
  {
   "cell_type": "code",
   "execution_count": 5,
   "id": "c09f9b87-2d1d-494b-8a91-547c08978166",
   "metadata": {},
   "outputs": [
    {
     "name": "stdout",
     "output_type": "stream",
     "text": [
      "2.893726238034461e+22\n"
     ]
    }
   ],
   "source": [
    "# check the normalized laser intensity\n",
    "import numpy as np\n",
    "E = 45.0\n",
    "tau = 22e-15 \n",
    "d = 3.e-4\n",
    "I = E / tau / (np.pi * (d/2)**2)\n",
    "print(I)"
   ]
  },
  {
   "cell_type": "code",
   "execution_count": null,
   "id": "3b411d58-8116-43fb-9cbc-c78599ebd4fe",
   "metadata": {},
   "outputs": [],
   "source": [
    "I = 2e22 # W/cm2\n",
    "lmd = 1.058 # um\n",
    "a0 = 0.86*lmd*np.sqrt(I/1e18)"
   ]
  },
  {
   "cell_type": "code",
   "execution_count": 247,
   "id": "aaebe4b7-7908-416d-a55c-38338d36acb8",
   "metadata": {},
   "outputs": [
    {
     "data": {
      "text/plain": [
       "128.67646361320317"
      ]
     },
     "execution_count": 247,
     "metadata": {},
     "output_type": "execute_result"
    }
   ],
   "source": [
    "a0"
   ]
  },
  {
   "cell_type": "code",
   "execution_count": 252,
   "id": "e87355eb-e9e7-4e2f-a7ae-c4aa5218110e",
   "metadata": {},
   "outputs": [
    {
     "data": {
      "text/plain": [
       "0.4333461193551197"
      ]
     },
     "execution_count": 252,
     "metadata": {},
     "output_type": "execute_result"
    }
   ],
   "source": [
    "a0 / np.pi / 100 * lmd"
   ]
  },
  {
   "cell_type": "code",
   "execution_count": null,
   "id": "e2473c3b-65f6-4f59-a7dc-6f44c9d00fdb",
   "metadata": {},
   "outputs": [],
   "source": []
  }
 ],
 "metadata": {
  "kernelspec": {
   "display_name": "Python 3 (ipykernel)",
   "language": "python",
   "name": "python3"
  },
  "language_info": {
   "codemirror_mode": {
    "name": "ipython",
    "version": 3
   },
   "file_extension": ".py",
   "mimetype": "text/x-python",
   "name": "python",
   "nbconvert_exporter": "python",
   "pygments_lexer": "ipython3",
   "version": "3.9.18"
  }
 },
 "nbformat": 4,
 "nbformat_minor": 5
}
