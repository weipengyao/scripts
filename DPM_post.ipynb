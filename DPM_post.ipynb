{
 "cells": [
  {
   "cell_type": "code",
   "execution_count": 1,
   "id": "56db5c81-8a8f-42a0-8196-f224d2d960ec",
   "metadata": {},
   "outputs": [
    {
     "name": "stderr",
     "output_type": "stream",
     "text": [
      "/var/folders/2t/97rc3fl92tg15k2l_4sk5hsh0000gn/T/ipykernel_48233/616493249.py:6: MatplotlibDeprecationWarning: The get_cmap function was deprecated in Matplotlib 3.7 and will be removed two minor releases later. Use ``matplotlib.colormaps[name]`` or ``matplotlib.colormaps.get_cmap(obj)`` instead.\n",
      "  jetcmap = plt.cm.get_cmap(\"jet\", 9) #generate a jet map with 10 values \"rainbow\", \"jet\", YlOrRd\n"
     ]
    }
   ],
   "source": [
    "import matplotlib as mpl\n",
    "import happi\n",
    "import numpy as np\n",
    "import matplotlib.pyplot as plt\n",
    "\n",
    "jetcmap = plt.cm.get_cmap(\"jet\", 9) #generate a jet map with 10 values \"rainbow\", \"jet\", YlOrRd\n",
    "jet_vals = jetcmap(np.arange(9)) #extract those values as an array \n",
    "jet_vals[0] = [1.0, 1, 1.0, 1] #change the first value \n",
    "jet_vals[8] = [0.0, 0, 0.0, 1] #change the first value \n",
    "newcmap = mpl.colors.LinearSegmentedColormap.from_list(\"mine\", jet_vals) "
   ]
  },
  {
   "cell_type": "code",
   "execution_count": 2,
   "id": "c355dd54-10b0-4840-842a-61fe0df05e92",
   "metadata": {},
   "outputs": [],
   "source": [
    "wkdir = [\n",
    "    # \"/Users/yao/Desktop/DPM_5e-2_Si150nm_Al50nm/\",\n",
    "    # '/Volumes/LaCie/Apollon_Neutron_2022_2023/DPM_5e-2_Si150nm_Al50nm_t02',\n",
    "    # '/Volumes/LaCie/Apollon_Neutron_2022_2023/DPM_5e-2_Si150nm_Al50nm_t03',\n",
    "    # '/Users/yao/Desktop/DPM_5e-2_Si150nm_Al50nm_t04/',\n",
    "    '/Volumes/LaCie/Apollon_Neutron_2022_2023/DPM_Si150nm_Al50nm_t07/',\n",
    "    ]"
   ]
  },
  {
   "cell_type": "code",
   "execution_count": 3,
   "id": "f8a30974-4519-41f3-b494-01e2683f2c72",
   "metadata": {},
   "outputs": [
    {
     "name": "stdout",
     "output_type": "stream",
     "text": [
      "Loaded simulation '/Volumes/LaCie/Apollon_Neutron_2022_2023/DPM_Si150nm_Al50nm_t07/'\n",
      "Scanning for Scalar diagnostics\n",
      "Scanning for Field diagnostics\n",
      "Scanning for Probe diagnostics\n",
      "Scanning for ParticleBinning diagnostics\n",
      "Scanning for RadiationSpectrum diagnostics\n",
      "Scanning for Performance diagnostics\n",
      "Scanning for Screen diagnostics\n",
      "Scanning for Tracked particle diagnostics\n"
     ]
    }
   ],
   "source": [
    "S0 = happi.Open(wkdir[0], reference_angular_frequency_SI = 2.*np.pi*3e8/1.058e-6)\n"
   ]
  },
  {
   "cell_type": "code",
   "execution_count": 22,
   "id": "68c49ab5-6952-43c6-b9df-d47a1d058541",
   "metadata": {},
   "outputs": [
    {
     "data": {
      "image/png": "[encoded data removed]",
      "text/plain": [
       "<Figure size 348.7x215.513 with 1 Axes>"
      ]
     },
     "metadata": {},
     "output_type": "display_data"
    }
   ],
   "source": [
    "# energy spectrum from screen vs. experimental data\n",
    "\n",
    "plt.rc('font', family='sans-serif', serif='Arial')\n",
    "plt.rc('text', usetex=True)\n",
    "plt.rc('xtick', labelsize=8)\n",
    "plt.rc('ytick', labelsize=8)\n",
    "plt.rc('axes', labelsize=8)\n",
    "plt.rc('legend', fontsize=8)\n",
    "\n",
    "width  = 3.487\n",
    "height = width / 1.618\n",
    "\n",
    "\n",
    "yrange = 'all'\n",
    "# yrange = [22.76*S0.namelist.l0, 50*S0.namelist.l0]\n",
    "# yrange = [20*S0.namelist.l0, 50*S0.namelist.l0]\n",
    "\n",
    "ene = S0.Screen(2, units=['um','fs','MeV'],sum={'y':yrange},).getData()\n",
    "xx  = S0.Screen(2, units=['um','fs','MeV'],sum={'y':yrange},).getAxis('ekin')\n",
    "tt  = S0.Screen(2, units=['um','fs','MeV'],sum={'y':yrange},).getTimes()\n",
    "\n",
    "fitting_factor = 9e11 * 5\n",
    "\n",
    "fig, ax = plt.subplots()\n",
    "fig.subplots_adjust(left=.15, bottom=.16, right=.99, top=.97)\n",
    "\n",
    "\n",
    "ax.semilogy(xx,ene[-1]*fitting_factor, color='black',\n",
    "             linestyle='--',\n",
    "             # label='PIC at t = {:.1f} fs'.format(tt[-1]),\n",
    "            label='2D PIC',\n",
    "           )\n",
    "# plt.semilogy(xx,ene[ts[1]]*fitting_factor, color='black',\n",
    "#              label='2D PIC at t = '+str(round(tt[ts[1]]))+' fs')\n",
    "\n",
    "ax.set_xlim([0,36])\n",
    "ax.set_ylim([1e6,1e10])\n",
    "# plt.title('time = '+str(tt[ts])+' fs')\n",
    "ax.grid(which='both',linestyle='--',alpha=0.5)\n",
    "ax.set_xlabel('Energy (MeV)')\n",
    "ax.set_ylabel('fitted dN/dE')\n",
    "\n",
    "#shot 115\n",
    "# exp_energy = np.array([4.47, 7.42, 9.55, 11.92, 13.71, 15.12])\n",
    "# exp_number = np.array([2.263e9, 1.185e9, 5.523e8, 1.790e8, 5.399e7, 3.149e7])\n",
    "\n",
    "#shot 111\n",
    "exp_energy = np.array([4.49, 7.74, 10.01, 12.67, 14.87, 16.88, 19.33, 21.47, 23.42, 25.23, 26.90, 28.75, 30.37, 32.03, 33.67, 35.17])\n",
    "exp_number = np.array([4.333e9, 4.103e9, 2.892e9, 1.386e9, 1.074e9, 4.606e8, 2.639e8, 1.605e8, 9.902e7, 7.454e7, 4.993e7, 2.849e7, 2.184e7, 1.170e7, 5.565e6, 5.165e6])\n",
    "ax.scatter(exp_energy, exp_number, color='red', marker='o',\n",
    "            s=36,\n",
    "            label='Exp. 111')\n",
    "ax.legend()\n",
    "fig.set_size_inches(width, height)\n",
    "fig.tight_layout()\n",
    "\n",
    "# plt.show()"
   ]
  },
  {
   "cell_type": "code",
   "execution_count": 20,
   "id": "4d2f581f-21cb-4c69-9ef4-d13986c02094",
   "metadata": {},
   "outputs": [],
   "source": [
    "fig.savefig('/Users/yao/Desktop/spectrum.pdf')"
   ]
  },
  {
   "cell_type": "code",
   "execution_count": null,
   "id": "8a0ee871-3d69-4c6e-89fd-a51f9595eb1d",
   "metadata": {},
   "outputs": [],
   "source": [
    "# energy spectrum from screen vs. experimental data\n",
    "\n",
    "ene = S0.Screen(0, units=['um','fs','MeV']).getData()\n",
    "xx  = S0.Screen(0, units=['um','fs','MeV']).getAxis('ekin')\n",
    "tt  = S0.Screen(0, units=['um','fs','MeV']).getTimes()\n",
    "\n",
    "fitting_factor = 9e11\n",
    "\n",
    "plt.semilogy(xx,ene[-1]*fitting_factor, color='black',\n",
    "             linestyle='--',\n",
    "             label='2D PIC at t = '+str(tt[-1])+' fs')\n",
    "# plt.semilogy(xx,ene[ts[1]]*fitting_factor, color='black',\n",
    "#              label='2D PIC at t = '+str(round(tt[ts[1]]))+' fs')\n",
    "\n",
    "plt.xlim([0,35])\n",
    "# plt.ylim([1e-7,1])\n",
    "# plt.title('time = '+str(tt[ts])+' fs')\n",
    "plt.grid(which='both',linestyle='--',alpha=0.5)\n",
    "plt.xlabel('Energy (MeV)')\n",
    "plt.ylabel('fitted dN/dE')\n",
    "\n",
    "#shot 115\n",
    "# exp_energy = np.array([4.47, 7.42, 9.55, 11.92, 13.71, 15.12])\n",
    "# exp_number = np.array([2.263e9, 1.185e9, 5.523e8, 1.790e8, 5.399e7, 3.149e7])\n",
    "\n",
    "#shot 111\n",
    "exp_energy = np.array([4.49, 7.74, 10.01, 12.67, 14.87, 16.88, 19.33, 21.47, 23.42, 25.23, 26.90, 28.75, 30.37, 32.03, 33.67, 35.17])\n",
    "exp_number = np.array([4.333e9, 4.103e9, 2.892e9, 1.386e9, 1.074e9, 4.606e8, 2.639e8, 1.605e8, 9.902e7, 7.454e7, 4.993e7, 2.849e7, 2.184e7, 1.170e7, 5.565e6, 5.165e6])\n",
    "plt.scatter(exp_energy, exp_number, color='red', marker='*',\n",
    "            s=72,\n",
    "            label='Experiment #111')\n",
    "plt.legend()\n",
    "\n",
    "plt.show()"
   ]
  },
  {
   "cell_type": "code",
   "execution_count": 36,
   "id": "cb60fd19-65b8-4262-842f-39586070c9d0",
   "metadata": {},
   "outputs": [
    {
     "data": {
      "image/png": "[encoded data removed]",
      "text/plain": [
       "<Figure size 640x480 with 1 Axes>"
      ]
     },
     "metadata": {},
     "output_type": "display_data"
    }
   ],
   "source": []
  },
  {
   "cell_type": "code",
   "execution_count": 37,
   "id": "758b5838-f4c6-403e-9367-2f8d7e1fadbd",
   "metadata": {},
   "outputs": [
    {
     "ename": "NameError",
     "evalue": "name 'fig' is not defined",
     "output_type": "error",
     "traceback": [
      "\u001b[0;31m---------------------------------------------------------------------------\u001b[0m",
      "\u001b[0;31mNameError\u001b[0m                                 Traceback (most recent call last)",
      "Cell \u001b[0;32mIn[37], line 1\u001b[0m\n\u001b[0;32m----> 1\u001b[0m \u001b[43mfig\u001b[49m\u001b[38;5;241m.\u001b[39msavefig(\u001b[38;5;124m'\u001b[39m\u001b[38;5;124m/Users/yao/Desktop/spectrum.png\u001b[39m\u001b[38;5;124m'\u001b[39m,dpi\u001b[38;5;241m=\u001b[39m\u001b[38;5;241m600\u001b[39m)\n",
      "\u001b[0;31mNameError\u001b[0m: name 'fig' is not defined"
     ]
    }
   ],
   "source": [
    "fig.savefig('/Users/yao/Desktop/spectrum.png',dpi=600)"
   ]
  },
  {
   "cell_type": "code",
   "execution_count": null,
   "id": "9f67971f-aa22-4f8e-a628-5ad1a003bb55",
   "metadata": {},
   "outputs": [],
   "source": [
    "# energy spectrum from Particle Bin vs. experimental data\n",
    "\n",
    "ene = np.array(S0.ParticleBinning(3, units=['um','fs','MeV']).getData())\n",
    "xx  = np.array(S0.ParticleBinning(3, units=['um','fs','MeV']).getAxis('ekin'))\n",
    "tt  = np.array(S0.ParticleBinning(3, units=['um','fs','MeV']).getTimes())\n",
    "\n",
    "fitting_factor = 9e11\n",
    "timestep = 103 #93\n",
    "\n",
    "plt.semilogy(xx,ene[timestep]*fitting_factor, color='black',\n",
    "             linestyle='--',\n",
    "             label='2D PIC at t = '+str(tt[-1])+' fs')\n",
    "# plt.semilogy(xx,ene[ts[1]]*fitting_factor, color='black',\n",
    "#              label='2D PIC at t = '+str(round(tt[ts[1]]))+' fs')\n",
    "\n",
    "# plt.xlim([0,40])\n",
    "# plt.ylim([1e-7,1])\n",
    "# plt.title('time = '+str(tt[ts])+' fs')\n",
    "plt.grid(which='both',linestyle='--',alpha=0.5)\n",
    "plt.xlabel('Energy (MeV)')\n",
    "plt.ylabel('fitted dN/dE')\n",
    "\n",
    "#shot 115\n",
    "# exp_energy = np.array([4.47, 7.42, 9.55, 11.92, 13.71, 15.12])\n",
    "# exp_number = np.array([2.263e9, 1.185e9, 5.523e8, 1.790e8, 5.399e7, 3.149e7])\n",
    "\n",
    "#shot 111\n",
    "exp_energy = np.array([4.49, 7.74, 10.01, 12.67, 14.87, 16.88, 19.33, 21.47, 23.42, 25.23, 26.90, 28.75, 30.37, 32.03, 33.67, 35.17])\n",
    "exp_number = np.array([4.333e9, 4.103e9, 2.892e9, 1.386e9, 1.074e9, 4.606e8, 2.639e8, 1.605e8, 9.902e7, 7.454e7, 4.993e7, 2.849e7, 2.184e7, 1.170e7, 5.565e6, 5.165e6])\n",
    "plt.scatter(exp_energy, exp_number, color='red', marker='*',\n",
    "            s=72,\n",
    "            label='Experiment #111')\n",
    "plt.legend()\n",
    "\n",
    "plt.show()"
   ]
  },
  {
   "cell_type": "code",
   "execution_count": null,
   "id": "1df08392-747c-4f7d-92ac-2b8315b1fee4",
   "metadata": {},
   "outputs": [],
   "source": [
    "ene = np.array(ene)"
   ]
  },
  {
   "cell_type": "code",
   "execution_count": null,
   "id": "6d19c8bd-d2c5-4295-978e-3985d6df22fb",
   "metadata": {},
   "outputs": [],
   "source": [
    "tt[93]"
   ]
  },
  {
   "cell_type": "code",
   "execution_count": 4,
   "id": "29003f19-c3e1-466a-b8a2-dc899c555959",
   "metadata": {},
   "outputs": [
    {
     "name": "stdout",
     "output_type": "stream",
     "text": [
      "\n",
      "#0 - Number density of species # 2\n",
      "    ekin from 0.391389 to 117.417 in 1000 steps \n",
      "\n",
      "The value in each bin is the sum of the `deposited_quantity` divided by the bin size and by grid_length[0] * grid_length[1]\n",
      "\n"
     ]
    },
    {
     "name": "stderr",
     "output_type": "stream",
     "text": [
      "/Users/yao/Smilei/happi/_Diagnostics/Diagnostic.py:868: RuntimeWarning: divide by zero encountered in log10\n",
      "  return self._np.log10( self._dataLinAtTime(t) )\n"
     ]
    },
    {
     "data": {
      "application/vnd.jupyter.widget-view+json": {
       "model_id": "9fd6a0fddfd8417ab898705a156bf6e4",
       "version_major": 2,
       "version_minor": 0
      },
      "image/png": "[encoded data removed]",
      "text/html": [
       "\n",
       "            <div style=\"display: inline-block;\">\n",
       "                <div class=\"jupyter-widgets widget-label\" style=\"text-align: center;\">\n",
       "                    Figure\n",
       "                </div>\n",
       "                <img src='data:image/png;base64,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' width=640.0/>\n",
       "            </div>\n",
       "        "
      ],
      "text/plain": [
       "Canvas(toolbar=Toolbar(toolitems=[('Home', 'Reset original view', 'home', 'home'), ('Back', 'Back to previous …"
      ]
     },
     "metadata": {},
     "output_type": "display_data"
    }
   ],
   "source": [
    "#%% energy spectrum of H from screen \n",
    "%matplotlib widget\n",
    "xmin0 = 2\n",
    "xmax0 = 20.0\n",
    "vmin0 = -6\n",
    "vmax0 = -3\n",
    "\n",
    "ene10 = S0.Screen(0, units=['um','fs','MeV'],\n",
    "                  data_log=True,\n",
    "                  label=\"10 nm\",\n",
    "                  color='red',\n",
    "                  linestyle='-',\n",
    "                    # vmin=vmin0,\n",
    "                   # vmax=vmax0,\n",
    "                   # xmin=xmin0,\n",
    "                   # xmax=xmax0,\n",
    "                  ).slide()"
   ]
  },
  {
   "cell_type": "code",
   "execution_count": null,
   "id": "52b6f571-02ac-4e0c-8953-36d694680b36",
   "metadata": {},
   "outputs": [],
   "source": [
    "#%% px-py distribution for H from screen\n",
    "%matplotlib widget\n",
    "vmin0 = -8\n",
    "vmax0 = 0\n",
    "xmin0 = -20\n",
    "xmax0 = 20\n",
    "ymin0 = -20\n",
    "ymax0 = 20\n",
    "\n",
    "ene10 = S0.Screen(1, units=['um','fs','MeV'],\n",
    "                  data_log=True,\n",
    "                  cmap=newcmap,\n",
    "                  # label=\"10 nm\",\n",
    "                  # color='red',\n",
    "                  # linestyle='-',\n",
    "                  vmin=vmin0,\n",
    "                  vmax=vmax0,\n",
    "                  # xmin=xmin0,\n",
    "                  # xmax=xmax0,\n",
    "                  # ymin=ymin0,\n",
    "                  # ymax=ymax0,\n",
    "                  ).slide()"
   ]
  },
  {
   "cell_type": "code",
   "execution_count": 5,
   "id": "216bf481-dfc0-4b20-9405-df2df5e040b4",
   "metadata": {},
   "outputs": [
    {
     "name": "stdout",
     "output_type": "stream",
     "text": [
      "\n",
      "#2 - Number density of species # 2\n",
      "    ekin from 0.391389 to 117.417 in 400 steps \n",
      "    y from 25.1327 to 226.195 in 200 steps \n",
      "\n",
      "The value in each bin is the sum of the `deposited_quantity` divided by the bin size and by grid_length[0]\n",
      "\n"
     ]
    }
   ],
   "source": [
    "#%% energy spectrum of H from screen with resolution in y\n",
    "%matplotlib widget\n",
    "xmin0 = 2\n",
    "xmax0 = 20.0\n",
    "vmin0 = -5\n",
    "vmax0 = -2\n",
    "\n",
    "ene10 = S0.Screen(2, units=['um','fs','MeV'],\n",
    "                  data_log=True,\n",
    "                  cmap=newcmap,\n",
    "                  label=\"10 nm\",\n",
    "                  color='red',\n",
    "                  linestyle='-',\n",
    "                  # sum={'y':'all'},\n",
    "                    vmin=vmin0,\n",
    "                   vmax=vmax0,\n",
    "                   # xmin=xmin0,\n",
    "                   # xmax=xmax0,\n",
    "                  ).slide()"
   ]
  },
  {
   "cell_type": "code",
   "execution_count": null,
   "id": "9f123d0e-834d-4ad1-9107-20980b1497db",
   "metadata": {},
   "outputs": [],
   "source": [
    "#%% energy spectrum of eon from screen to the right\n",
    "%matplotlib widget\n",
    "xmin0 = 2\n",
    "xmax0 = 20.0\n",
    "vmin0 = -6\n",
    "vmax0 = -3\n",
    "\n",
    "ene10 = S0.Screen(3, units=['um','fs','MeV'],\n",
    "                  data_log=True,\n",
    "                  label=\"10 nm\",\n",
    "                  color='red',\n",
    "                  linestyle='-',\n",
    "                    # vmin=vmin0,\n",
    "                   # vmax=vmax0,\n",
    "                   # xmin=xmin0,\n",
    "                   # xmax=xmax0,\n",
    "                  ).slide()"
   ]
  },
  {
   "cell_type": "code",
   "execution_count": null,
   "id": "e82c8a77-21ba-42ac-9c48-84f82674fdb4",
   "metadata": {},
   "outputs": [],
   "source": [
    "#%% energy spectrum of eon from screen to the left\n",
    "%matplotlib widget\n",
    "xmin0 = 2\n",
    "xmax0 = 20.0\n",
    "vmin0 = -6\n",
    "vmax0 = -3\n",
    "\n",
    "ene10 = S0.Screen(4, units=['um','fs','MeV'],\n",
    "                  data_log=True,\n",
    "                  label=\"10 nm\",\n",
    "                  color='red',\n",
    "                  linestyle='-',\n",
    "                    # vmin=vmin0,\n",
    "                   # vmax=vmax0,\n",
    "                   # xmin=xmin0,\n",
    "                   # xmax=xmax0,\n",
    "                  ).slide()"
   ]
  },
  {
   "cell_type": "code",
   "execution_count": null,
   "id": "83284eb5-ee21-4fdb-83e9-ef5ff2a846c0",
   "metadata": {},
   "outputs": [],
   "source": [
    "#%% px-py distribution for eon\n",
    "%matplotlib widget\n",
    "vmin0 = -8\n",
    "vmax0 = 0\n",
    "xmin0 = -20\n",
    "xmax0 = 20\n",
    "ymin0 = -20\n",
    "ymax0 = 20\n",
    "\n",
    "ene10 = S0.Screen(5, units=['um','fs','MeV'],\n",
    "                  data_log=True,\n",
    "                  cmap=newcmap,\n",
    "                  # label=\"10 nm\",\n",
    "                  # color='red',\n",
    "                  # linestyle='-',\n",
    "                  vmin=vmin0,\n",
    "                  vmax=vmax0,\n",
    "                  # xmin=xmin0,\n",
    "                  # xmax=xmax0,\n",
    "                  # ymin=ymin0,\n",
    "                  # ymax=ymax0,\n",
    "                  ).slide()"
   ]
  },
  {
   "cell_type": "code",
   "execution_count": null,
   "id": "079203b0-3083-4cae-a809-c73933509984",
   "metadata": {},
   "outputs": [],
   "source": [
    "#%% angular vs. energy distribution for H from screen\n",
    "%matplotlib widget\n",
    "vmin0 = -8\n",
    "vmax0 = 0\n",
    "xmin0 = -20\n",
    "xmax0 = 20\n",
    "ymin0 = -20\n",
    "ymax0 = 20\n",
    "\n",
    "ene10 = S0.Screen(6, units=['um','fs','MeV'],\n",
    "                  data_log=True,\n",
    "                  cmap=newcmap,\n",
    "                  # label=\"10 nm\",\n",
    "                  # color='red',\n",
    "                  # linestyle='-',\n",
    "                  vmin=vmin0,\n",
    "                  vmax=vmax0,\n",
    "                  # xmin=xmin0,\n",
    "                  # xmax=xmax0,\n",
    "                  # ymin=ymin0,\n",
    "                  # ymax=ymax0,\n",
    "                  ).slide()"
   ]
  },
  {
   "cell_type": "code",
   "execution_count": null,
   "id": "40b2e6d9-6c8c-492c-9788-2092270774d7",
   "metadata": {},
   "outputs": [],
   "source": [
    "#%% angular vs. energy distribution for eon from screen\n",
    "%matplotlib widget\n",
    "vmin0 = -8\n",
    "vmax0 = 0\n",
    "xmin0 = -20\n",
    "xmax0 = 20\n",
    "ymin0 = -20\n",
    "ymax0 = 20\n",
    "\n",
    "ene10 = S0.Screen(7, units=['um','fs','MeV'],\n",
    "                  data_log=True,\n",
    "                  cmap=newcmap,\n",
    "                  # label=\"10 nm\",\n",
    "                  # color='red',\n",
    "                  # linestyle='-',\n",
    "                  vmin=vmin0,\n",
    "                  vmax=vmax0,\n",
    "                  # xmin=xmin0,\n",
    "                  # xmax=xmax0,\n",
    "                  # ymin=ymin0,\n",
    "                  # ymax=ymax0,\n",
    "                  ).slide()"
   ]
  },
  {
   "cell_type": "code",
   "execution_count": null,
   "id": "7b4a39ce-8e1d-4db0-8220-88ff356e00cc",
   "metadata": {},
   "outputs": [],
   "source": []
  },
  {
   "cell_type": "code",
   "execution_count": null,
   "id": "a1257212-7c63-4a7a-8f25-16bdff721ebb",
   "metadata": {},
   "outputs": [],
   "source": []
  },
  {
   "cell_type": "code",
   "execution_count": null,
   "id": "87198777-adf3-489e-8386-a8125b25c3cc",
   "metadata": {},
   "outputs": [],
   "source": [
    "#%% x-px distribution for H\n",
    "%matplotlib widget\n",
    "vmin0 = -6\n",
    "vmax0 = 0\n",
    "xmin0 = -20\n",
    "xmax0 = 20\n",
    "ymin0 = -20\n",
    "ymax0 = 20\n",
    "\n",
    "ene10 = S0.ParticleBinning(0, units=['um','fs','MeV'],\n",
    "                  data_log=True,\n",
    "                  cmap=newcmap,\n",
    "                  # label=\"10 nm\",\n",
    "                  # color='red',\n",
    "                  # linestyle='-',\n",
    "                  vmin=vmin0,\n",
    "                  vmax=vmax0,\n",
    "                  # xmin=xmin0,\n",
    "                  # xmax=xmax0,\n",
    "                  # ymin=ymin0,\n",
    "                  # ymax=ymax0,\n",
    "                  ).slide()"
   ]
  },
  {
   "cell_type": "code",
   "execution_count": null,
   "id": "8d6c92fb-5964-4b5d-9126-447fef650d07",
   "metadata": {},
   "outputs": [],
   "source": [
    "#%% density distribution for H\n",
    "%matplotlib widget\n",
    "vmin0 = 18\n",
    "vmax0 = 23\n",
    "xmin0 = -20\n",
    "xmax0 = 20\n",
    "ymin0 = -20\n",
    "ymax0 = 20\n",
    "\n",
    "ene10 = S0.ParticleBinning(1, units=['um','fs','MeV','cm^-3'],\n",
    "                  data_log=True,\n",
    "                  cmap=newcmap,\n",
    "                           aspect='equal',\n",
    "                  # label=\"10 nm\",\n",
    "                  # color='red',\n",
    "                  # linestyle='-',\n",
    "                  vmin=vmin0,\n",
    "                  vmax=vmax0,\n",
    "                  # xmin=xmin0,\n",
    "                  # xmax=xmax0,\n",
    "                  # ymin=ymin0,\n",
    "                  # ymax=ymax0,\n",
    "                  ).slide()"
   ]
  },
  {
   "cell_type": "code",
   "execution_count": null,
   "id": "729b55aa-7543-4610-9d11-269fae4ff7be",
   "metadata": {},
   "outputs": [],
   "source": [
    "#%% px-py distribution for H\n",
    "%matplotlib widget\n",
    "vmin0 = -8\n",
    "vmax0 = 0\n",
    "xmin0 = -20\n",
    "xmax0 = 20\n",
    "ymin0 = -20\n",
    "ymax0 = 20\n",
    "\n",
    "ene10 = S0.ParticleBinning(2, units=['um','fs','MeV'],\n",
    "                  data_log=True,\n",
    "                  cmap=newcmap,\n",
    "                  # label=\"10 nm\",\n",
    "                  # color='red',\n",
    "                  # linestyle='-',\n",
    "                  vmin=vmin0,\n",
    "                  vmax=vmax0,\n",
    "                  # xmin=xmin0,\n",
    "                  # xmax=xmax0,\n",
    "                  # ymin=ymin0,\n",
    "                  # ymax=ymax0,\n",
    "                  ).slide()"
   ]
  },
  {
   "cell_type": "code",
   "execution_count": null,
   "id": "07a0fe5d-a54a-436a-a860-1561661a54d4",
   "metadata": {},
   "outputs": [],
   "source": [
    "#%% energy spectrum of H from Particle Bin \n",
    "%matplotlib widget\n",
    "xmin0 = 2\n",
    "xmax0 = 20.0\n",
    "vmin0 = -6\n",
    "vmax0 = -3\n",
    "\n",
    "ene10 = S0.ParticleBinning(3, units=['um','fs','MeV'],\n",
    "                  data_log=True,\n",
    "                  label=\"10 nm\",\n",
    "                  color='red',\n",
    "                  linestyle='-',\n",
    "                    # vmin=vmin0,\n",
    "                   # vmax=vmax0,\n",
    "                   # xmin=xmin0,\n",
    "                   # xmax=xmax0,\n",
    "                  ).slide()"
   ]
  },
  {
   "cell_type": "code",
   "execution_count": null,
   "id": "c2acf2b3-5d38-4ea9-a582-5cf8af6cc51c",
   "metadata": {},
   "outputs": [],
   "source": [
    "#%% x-px distribution for eon\n",
    "%matplotlib widget\n",
    "vmin0 = -8\n",
    "vmax0 = 0\n",
    "xmin0 = -20\n",
    "xmax0 = 20\n",
    "ymin0 = -20\n",
    "ymax0 = 20\n",
    "\n",
    "ene10 = S0.ParticleBinning(4, units=['um','fs','MeV'],\n",
    "                  data_log=True,\n",
    "                  cmap=newcmap,\n",
    "                  # label=\"10 nm\",\n",
    "                  # color='red',\n",
    "                  # linestyle='-',\n",
    "                  vmin=vmin0,\n",
    "                  vmax=vmax0,\n",
    "                  # xmin=xmin0,\n",
    "                  # xmax=xmax0,\n",
    "                  # ymin=ymin0,\n",
    "                  # ymax=ymax0,\n",
    "                  ).slide()"
   ]
  },
  {
   "cell_type": "code",
   "execution_count": null,
   "id": "77d3a8c9-7230-4342-b8c9-bb2b00ee9f2b",
   "metadata": {},
   "outputs": [],
   "source": [
    "#%% density distribution for eon\n",
    "%matplotlib widget\n",
    "vmin0 = 17\n",
    "vmax0 = 23\n",
    "xmin0 = -20\n",
    "xmax0 = 20\n",
    "ymin0 = -20\n",
    "ymax0 = 20\n",
    "\n",
    "ene10 = S0.ParticleBinning(5, units=['um','fs','MeV','cm^-3'],\n",
    "                  data_log=True,\n",
    "                  cmap=newcmap,\n",
    "                           aspect='equal',\n",
    "                  # label=\"10 nm\",\n",
    "                  # color='red',\n",
    "                  # linestyle='-',\n",
    "                  vmin=vmin0,\n",
    "                  vmax=vmax0,\n",
    "                  # xmin=xmin0,\n",
    "                  # xmax=xmax0,\n",
    "                  # ymin=ymin0,\n",
    "                  # ymax=ymax0,\n",
    "                  ).slide()"
   ]
  },
  {
   "cell_type": "code",
   "execution_count": null,
   "id": "3029075e-4b5e-47c8-9afe-9588e636f085",
   "metadata": {},
   "outputs": [],
   "source": [
    "#%% px-py distribution for eon\n",
    "%matplotlib widget\n",
    "vmin0 = -8\n",
    "vmax0 = 0\n",
    "xmin0 = -20\n",
    "xmax0 = 20\n",
    "ymin0 = -20\n",
    "ymax0 = 20\n",
    "\n",
    "ene10 = S0.ParticleBinning(6, units=['um','fs','MeV'],\n",
    "                  data_log=True,\n",
    "                  cmap=newcmap,\n",
    "                  # label=\"10 nm\",\n",
    "                  # color='red',\n",
    "                  # linestyle='-',\n",
    "                  vmin=vmin0,\n",
    "                  vmax=vmax0,\n",
    "                  # xmin=xmin0,\n",
    "                  # xmax=xmax0,\n",
    "                  # ymin=ymin0,\n",
    "                  # ymax=ymax0,\n",
    "                  ).slide()"
   ]
  },
  {
   "cell_type": "code",
   "execution_count": null,
   "id": "0167a7e0-fd32-4c2a-bb55-413f175baa1b",
   "metadata": {},
   "outputs": [],
   "source": [
    "#%% energy spectrum of eon from Particle Bin \n",
    "%matplotlib widget\n",
    "xmin0 = 2\n",
    "xmax0 = 20.0\n",
    "vmin0 = -6\n",
    "vmax0 = -3\n",
    "\n",
    "ene10 = S0.ParticleBinning(7, units=['um','fs','MeV'],\n",
    "                  data_log=True,\n",
    "                  label=\"10 nm\",\n",
    "                  color='red',\n",
    "                  linestyle='-',\n",
    "                    # vmin=vmin0,\n",
    "                   # vmax=vmax0,\n",
    "                   # xmin=xmin0,\n",
    "                   # xmax=xmax0,\n",
    "                  ).slide()"
   ]
  },
  {
   "cell_type": "code",
   "execution_count": null,
   "id": "5e3204c5-f551-499f-8cd8-06680fac3685",
   "metadata": {},
   "outputs": [],
   "source": [
    "#%% angular vs. energy distribution for H\n",
    "%matplotlib widget\n",
    "vmin0 = -8\n",
    "vmax0 = 0\n",
    "xmin0 = -20\n",
    "xmax0 = 20\n",
    "ymin0 = -20\n",
    "ymax0 = 20\n",
    "\n",
    "ene10 = S0.ParticleBinning(8, units=['um','fs','MeV'],\n",
    "                  data_log=True,\n",
    "                  cmap=newcmap,\n",
    "                  # label=\"10 nm\",\n",
    "                  # color='red',\n",
    "                  # linestyle='-',\n",
    "                  vmin=vmin0,\n",
    "                  vmax=vmax0,\n",
    "                  # xmin=xmin0,\n",
    "                  # xmax=xmax0,\n",
    "                  # ymin=ymin0,\n",
    "                  # ymax=ymax0,\n",
    "                  ).slide()"
   ]
  },
  {
   "cell_type": "code",
   "execution_count": null,
   "id": "e65f60db-150e-4ec2-b4c2-de89e59d42d8",
   "metadata": {},
   "outputs": [],
   "source": [
    "#%% angular vs. energy distribution for eon\n",
    "%matplotlib widget\n",
    "vmin0 = -8\n",
    "vmax0 = 0\n",
    "xmin0 = -20\n",
    "xmax0 = 20\n",
    "ymin0 = -20\n",
    "ymax0 = 20\n",
    "\n",
    "ene10 = S0.ParticleBinning(9, units=['um','fs','MeV'],\n",
    "                  data_log=True,\n",
    "                  cmap=newcmap,\n",
    "                  # label=\"10 nm\",\n",
    "                  # color='red',\n",
    "                  # linestyle='-',\n",
    "                  vmin=vmin0,\n",
    "                  vmax=vmax0,\n",
    "                  # xmin=xmin0,\n",
    "                  # xmax=xmax0,\n",
    "                  # ymin=ymin0,\n",
    "                  # ymax=ymax0,\n",
    "                  ).slide()"
   ]
  },
  {
   "cell_type": "code",
   "execution_count": null,
   "id": "559c4ec0-1c6d-4331-90bd-96be1e5593d1",
   "metadata": {},
   "outputs": [],
   "source": [
    "#%% xy vs. energy distribution for eon\n",
    "%matplotlib widget\n",
    "vmin0 = 18\n",
    "vmax0 = 23\n",
    "xmin0 = -20\n",
    "xmax0 = 20\n",
    "ymin0 = -20\n",
    "ymax0 = 20\n",
    "\n",
    "ene10 = S0.ParticleBinning(10, units=['um','fs','MeV','cm^-3 MeV'],\n",
    "                  data_log=True,\n",
    "                  cmap=newcmap,\n",
    "                  # label=\"10 nm\",\n",
    "                  # color='red',\n",
    "                  # linestyle='-',\n",
    "                           sum={'ekin':[0.1/0.511]},\n",
    "                  vmin=vmin0,\n",
    "                  vmax=vmax0,\n",
    "                  # xmin=xmin0,\n",
    "                  # xmax=xmax0,\n",
    "                  # ymin=ymin0,\n",
    "                  # ymax=ymax0,\n",
    "                  ).slide()"
   ]
  },
  {
   "cell_type": "code",
   "execution_count": null,
   "id": "6087b8a3-e1d2-4241-aaa1-929aed46baca",
   "metadata": {},
   "outputs": [],
   "source": []
  },
  {
   "cell_type": "code",
   "execution_count": null,
   "id": "c4c5766f-1fe6-4237-94a6-7fbe7ca61101",
   "metadata": {},
   "outputs": [],
   "source": [
    "%matplotlib widget\n",
    "vsym0 = 1e12\n",
    "\n",
    "Ey10 = S0.Field(1, 'Ex', units=['um','fs','V/m'],\n",
    "                # vsym=True,\n",
    "                vsym=vsym0,\n",
    "                aspect='equal',\n",
    "                ).slide()"
   ]
  },
  {
   "cell_type": "code",
   "execution_count": null,
   "id": "0c38a800-62e6-487d-8d3a-b63befb1b41e",
   "metadata": {},
   "outputs": [],
   "source": [
    "%matplotlib widget\n",
    "vsym0 = 1e12\n",
    "\n",
    "Ey10 = S0.Field(1, 'Ex', units=['um','fs','V/m'],\n",
    "                # vsym=True,\n",
    "                vsym=vsym0,\n",
    "                aspect='equal',\n",
    "                ).slide()"
   ]
  },
  {
   "cell_type": "code",
   "execution_count": null,
   "id": "b00d8c40-5068-45f7-9c73-3ec3b90f0293",
   "metadata": {},
   "outputs": [],
   "source": []
  },
  {
   "cell_type": "code",
   "execution_count": null,
   "id": "96f0c028-d74b-4f96-8805-034dfc9bb4ad",
   "metadata": {},
   "outputs": [],
   "source": [
    "qe = 1.6e-19\n",
    "E  = 1e12\n",
    "l  = 1e-6\n",
    "ene = qe*E*l / qe /1e6\n",
    "print('ene = {:.2e} MeV'.format(ene))"
   ]
  },
  {
   "cell_type": "code",
   "execution_count": null,
   "id": "7a709f20-0e7b-4593-8392-6ea1d44c4d00",
   "metadata": {},
   "outputs": [],
   "source": [
    "np.arctan2(-1,1) * 180 / np.pi"
   ]
  },
  {
   "cell_type": "code",
   "execution_count": null,
   "id": "f37cb087-7de2-42b3-8244-abe260b6e806",
   "metadata": {},
   "outputs": [],
   "source": []
  }
 ],
 "metadata": {
  "kernelspec": {
   "display_name": "Python 3 (ipykernel)",
   "language": "python",
   "name": "python3"
  },
  "language_info": {
   "codemirror_mode": {
    "name": "ipython",
    "version": 3
   },
   "file_extension": ".py",
   "mimetype": "text/x-python",
   "name": "python",
   "nbconvert_exporter": "python",
   "pygments_lexer": "ipython3",
   "version": "3.8.17"
  }
 },
 "nbformat": 4,
 "nbformat_minor": 5
}
