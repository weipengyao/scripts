{
 "cells": [
  {
   "cell_type": "code",
   "execution_count": 1,
   "metadata": {},
   "outputs": [],
   "source": [
    "%matplotlib qt"
   ]
  },
  {
   "cell_type": "code",
   "execution_count": 2,
   "metadata": {},
   "outputs": [
    {
     "name": "stderr",
     "output_type": "stream",
     "text": [
      "/var/folders/2t/97rc3fl92tg15k2l_4sk5hsh0000gn/T/ipykernel_95875/616493249.py:6: MatplotlibDeprecationWarning: The get_cmap function was deprecated in Matplotlib 3.7 and will be removed two minor releases later. Use ``matplotlib.colormaps[name]`` or ``matplotlib.colormaps.get_cmap(obj)`` instead.\n",
      "  jetcmap = plt.cm.get_cmap(\"jet\", 9) #generate a jet map with 10 values \"rainbow\", \"jet\", YlOrRd\n"
     ]
    }
   ],
   "source": [
    "import matplotlib as mpl\n",
    "import happi\n",
    "import numpy as np\n",
    "import matplotlib.pyplot as plt\n",
    "\n",
    "jetcmap = plt.cm.get_cmap(\"jet\", 9) #generate a jet map with 10 values \"rainbow\", \"jet\", YlOrRd\n",
    "jet_vals = jetcmap(np.arange(9)) #extract those values as an array \n",
    "jet_vals[0] = [1.0, 1, 1.0, 1] #change the first value \n",
    "jet_vals[8] = [0.0, 0, 0.0, 1] #change the first value \n",
    "newcmap = mpl.colors.LinearSegmentedColormap.from_list(\"mine\", jet_vals) "
   ]
  },
  {
   "cell_type": "code",
   "execution_count": 3,
   "metadata": {},
   "outputs": [],
   "source": [
    "from matplotlib import font_manager\n",
    "\n",
    "font_dirs = ['/Users/yao/Documents/Calibri and Cambria Fonts/']\n",
    "font_files = font_manager.findSystemFonts(fontpaths=font_dirs)\n",
    "\n",
    "for font_file in font_files:\n",
    "    font_manager.fontManager.addfont(font_file)\n",
    "\n",
    "# set font\n",
    "plt.rcParams['font.family'] = 'Calibri'\n",
    "\n",
    "plt.rc('text', usetex=False)\n",
    "plt.rc('xtick', labelsize=12)\n",
    "plt.rc('ytick', labelsize=12)\n",
    "plt.rc('axes', labelsize=12)\n",
    "plt.rc('legend', fontsize=9)\n",
    "\n",
    "width  = 3.487\n",
    "height = width / 1.618 * 1.0"
   ]
  },
  {
   "cell_type": "code",
   "execution_count": 4,
   "metadata": {},
   "outputs": [
    {
     "name": "stdout",
     "output_type": "stream",
     "text": [
      "Loaded simulation '/Users/yao/Desktop/Data/GRAIL3D_test1'\n",
      "Scanning for Scalar diagnostics\n",
      "Scanning for Field diagnostics\n",
      "Scanning for Probe diagnostics\n",
      "Scanning for ParticleBinning diagnostics\n",
      "Scanning for RadiationSpectrum diagnostics\n",
      "Scanning for Performance diagnostics\n",
      "Scanning for Screen diagnostics\n",
      "Scanning for Tracked particle diagnostics\n",
      "Scanning for new particle diagnostics\n"
     ]
    }
   ],
   "source": [
    "wkdir = [\n",
    "        '/Users/yao/Desktop/Data/GRAIL3D_test1', \n",
    "        ]\n",
    "\n",
    "S0 = happi.Open(wkdir[0], reference_angular_frequency_SI = 2.*np.pi*3e8/0.8e-6)"
   ]
  },
  {
   "cell_type": "code",
   "execution_count": 12,
   "metadata": {},
   "outputs": [
    {
     "name": "stdout",
     "output_type": "stream",
     "text": [
      "Nx = 1280.0\n",
      "Ny = 640.0\n",
      "Nz = 640.0\n"
     ]
    }
   ],
   "source": [
    "Nx = S0.namelist.Main.grid_length[0] / S0.namelist.Main.cell_length[0]\n",
    "Ny = S0.namelist.Main.grid_length[1] / S0.namelist.Main.cell_length[1]\n",
    "Nz = S0.namelist.Main.grid_length[2] / S0.namelist.Main.cell_length[2]\n",
    "\n",
    "print('Nx =', Nx)\n",
    "print('Ny =', Ny)\n",
    "print('Nz =', Nz)"
   ]
  },
  {
   "cell_type": "code",
   "execution_count": null,
   "metadata": {},
   "outputs": [
    {
     "name": "stdout",
     "output_type": "stream",
     "text": [
      "Field diagnostic #0: Ex\n",
      "\tGrid spacing: 0.39269908169872414, 0.39269908169872414, 0.39269908169872414\n",
      "\taverage at z = [125.66370614] L_r\n"
     ]
    }
   ],
   "source": [
    "S0.Field(0,'Ex',units=['um','fs','MeV','cm^-3','V/m'],vsym=True,\n",
    "         cmap='smileiD',\n",
    "         average={'z':int(Nz/2)}, # need in 3D\n",
    "         ).slide()"
   ]
  },
  {
   "cell_type": "code",
   "execution_count": 20,
   "metadata": {},
   "outputs": [
    {
     "name": "stdout",
     "output_type": "stream",
     "text": [
      "Field diagnostic #1: Bz\n",
      "\tTime_average: 64.0 timesteps\n",
      "\tGrid spacing: 0.39269908169872414, 0.39269908169872414, 0.39269908169872414\n",
      "\taverage at z = [125.66370614] L_r\n"
     ]
    }
   ],
   "source": [
    "S0.Field(1,'Bz',units=['um','fs','MeV','cm^-3','V/m'],vsym=True,\n",
    "         cmap='smileiD',\n",
    "         average={'z':int(Nz/2)}, # need in 3D\n",
    "         ).slide()"
   ]
  },
  {
   "cell_type": "code",
   "execution_count": null,
   "metadata": {},
   "outputs": [
    {
     "name": "stdout",
     "output_type": "stream",
     "text": [
      "\n",
      "#0 - Number density of species # 1\n",
      "    x from 0 to 251.327 in 200 steps \n",
      "    px from -1000 to 2500 in 500 steps \n",
      "\n",
      "The value in each bin is the sum of the `deposited_quantity` divided by the bin size and by grid_length[1] * grid_length[-1]\n",
      "\n"
     ]
    }
   ],
   "source": [
    "# phase-space distribution x-px for ions\n",
    "\n",
    "S0.ParticleBinning(0, units=['um','fs','MeV','cm^-3','V/m'],\n",
    "                   cmap=newcmap,\n",
    "                   data_log=True,\n",
    "                   vmin=-5,\n",
    "                   vmax=1,\n",
    "                   ymin=-500,\n",
    "                   ymax=1500,\n",
    "                   ).slide()"
   ]
  },
  {
   "cell_type": "code",
   "execution_count": 42,
   "metadata": {},
   "outputs": [
    {
     "name": "stdout",
     "output_type": "stream",
     "text": [
      "\n",
      "#1 - Number density of species # 1\n",
      "    x from 0 to 251.327 in 100 steps \n",
      "    y from 0 to 125.664 in 100 steps \n",
      "    z from 0 to 125.664 in 100 steps \n",
      "\n",
      "average at y = [49.63728] L_r\n",
      "The value in each bin is the sum of the `deposited_quantity` divided by the bin size\n",
      "\n"
     ]
    }
   ],
   "source": [
    "# density distribution for ions\n",
    "\n",
    "S0.ParticleBinning(1, units=['um','fs','MeV','cm^-3','V/m'],\n",
    "                   cmap=newcmap,\n",
    "                   data_log=True,\n",
    "                   vmin=19,\n",
    "                   vmax=23,\n",
    "                   average={'y':50}, # need in 3D\n",
    "                #    ymin=0,\n",
    "                #    ymax=40,\n",
    "                   ).slide()"
   ]
  },
  {
   "cell_type": "code",
   "execution_count": 41,
   "metadata": {},
   "outputs": [
    {
     "name": "stdout",
     "output_type": "stream",
     "text": [
      "\n",
      "#2 - Number density of species # 1\n",
      "    px from -1000 to 2500 in 100 steps \n",
      "    py from -200 to 200 in 100 steps \n",
      "    pz from -200 to 200 in 100 steps \n",
      "\n",
      "average at px = [32.5] P_r\n",
      "The value in each bin is the sum of the `deposited_quantity` divided by the bin size and by grid_length[0] * grid_length[1] * grid_length[-1]\n",
      "\n"
     ]
    }
   ],
   "source": [
    "# px-py-pz distribution for ions\n",
    "\n",
    "S0.ParticleBinning(2, units=['um','fs','MeV','cm^-3','V/m'],\n",
    "                   data_log=True,\n",
    "                   cmap=newcmap,\n",
    "                   average={'px':50}, # need in 3D\n",
    "                   vmin=-10,\n",
    "                   vmax=-5,\n",
    "                #    ymin=0,\n",
    "                #    ymax=40,\n",
    "                   ).slide()"
   ]
  },
  {
   "cell_type": "code",
   "execution_count": null,
   "metadata": {},
   "outputs": [
    {
     "name": "stdout",
     "output_type": "stream",
     "text": [
      "\n",
      "#3 - Number density of species # 1\n",
      "    ekin from 0.000195695 to 489.237 in 2000 steps \n",
      "\n",
      "The value in each bin is the sum of the `deposited_quantity` divided by the bin size and by grid_length[0] * grid_length[1] * grid_length[-1]\n",
      "\n"
     ]
    }
   ],
   "source": [
    "# energy distribution for ions\n",
    "\n",
    "S0.ParticleBinning(3, units=['um','fs','MeV','cm^-3','V/m'],\n",
    "                   cmap=newcmap,\n",
    "                   data_log=True,\n",
    "                #    vmin=16,\n",
    "                #    vmax=24,\n",
    "                #    ymin=0,\n",
    "                #    ymax=40,\n",
    "                   ).slide()"
   ]
  },
  {
   "cell_type": "code",
   "execution_count": null,
   "metadata": {},
   "outputs": [],
   "source": []
  },
  {
   "cell_type": "code",
   "execution_count": 11,
   "metadata": {},
   "outputs": [
    {
     "name": "stdout",
     "output_type": "stream",
     "text": [
      "\n",
      "#4 - Number density of species # 0\n",
      "    x from 0 to 125.664 in 200 steps \n",
      "    px from -5000 to 10000 in 300 steps \n",
      "\n",
      "The value in each bin is the sum of the `deposited_quantity` divided by the bin size and by grid_length[1]\n",
      "\n"
     ]
    }
   ],
   "source": [
    "S0.ParticleBinning(4, units=['um','fs','MeV','cm^-3','V/m'],\n",
    "                   cmap=newcmap,\n",
    "                   data_log=True,\n",
    "                   vmin=-6,\n",
    "                   vmax=0,\n",
    "                   ymin=-1000,\n",
    "                   ymax=1000,\n",
    "                   ).slide()"
   ]
  },
  {
   "cell_type": "code",
   "execution_count": 21,
   "metadata": {},
   "outputs": [
    {
     "name": "stdout",
     "output_type": "stream",
     "text": [
      "\n",
      "#6 - Number density of species # 0\n",
      "    px from -5000 to 10000 in 300 steps \n",
      "    py from -1000 to 1000 in 100 steps \n",
      "\n",
      "The value in each bin is the sum of the `deposited_quantity` divided by the bin size and by grid_length[0] * grid_length[1]\n",
      "\n"
     ]
    }
   ],
   "source": [
    "S0.ParticleBinning(6, units=['um','fs','MeV','cm^-3','V/m'],\n",
    "                   cmap=newcmap,\n",
    "                   data_log=True,\n",
    "                   vmin=-6,\n",
    "                   vmax=0,\n",
    "                   ymin=-300,\n",
    "                   ymax=300,\n",
    "                   ).slide()"
   ]
  },
  {
   "cell_type": "code",
   "execution_count": 14,
   "metadata": {},
   "outputs": [
    {
     "name": "stdout",
     "output_type": "stream",
     "text": [
      "\n",
      "#7 - Number density of species # 0\n",
      "    ekin from 0.195695 to 978.474 in 2000 steps \n",
      "\n",
      "The value in each bin is the sum of the `deposited_quantity` divided by the bin size and by grid_length[0] * grid_length[1]\n",
      "\n"
     ]
    }
   ],
   "source": [
    "S0.ParticleBinning(7, units=['um','fs','MeV','cm^-3','V/m'],\n",
    "                   cmap=newcmap,\n",
    "                   data_log=True,\n",
    "                #    vmin=-6,\n",
    "                #    vmax=0,\n",
    "                #    ymin=-300,\n",
    "                #    ymax=300,\n",
    "                   ).slide()"
   ]
  },
  {
   "cell_type": "code",
   "execution_count": 15,
   "metadata": {},
   "outputs": [
    {
     "name": "stdout",
     "output_type": "stream",
     "text": [
      "\n",
      "#0 - Number density of species # 1\n",
      "    ekin from 0.195695 to 3913.89 in 2000 steps \n",
      "\n",
      "The value in each bin is the sum of the `deposited_quantity` divided by the bin size and by grid_length[0] * grid_length[1]\n",
      "\n"
     ]
    },
    {
     "name": "stderr",
     "output_type": "stream",
     "text": [
      "/Users/yao/Smilei/happi/_Diagnostics/Diagnostic.py:857: RuntimeWarning: divide by zero encountered in log10\n",
      "  return self._np.log10( self._dataLinAtTime(t) )\n"
     ]
    }
   ],
   "source": [
    "S0.Screen(0,units=['um','fs','MeV','cm^-3','V/m'],\n",
    "                   cmap=newcmap,\n",
    "                   data_log=True,\n",
    "                   ).slide()"
   ]
  },
  {
   "cell_type": "code",
   "execution_count": 17,
   "metadata": {},
   "outputs": [
    {
     "name": "stdout",
     "output_type": "stream",
     "text": [
      "\n",
      "#2 - Number density of species # 1\n",
      "    ekin from 0.195695 to 3913.89 in 500 steps \n",
      "    y from 15.708 to 298.451 in 500 steps \n",
      "\n",
      "The value in each bin is the sum of the `deposited_quantity` divided by the bin size and by grid_length[0]\n",
      "\n"
     ]
    },
    {
     "name": "stderr",
     "output_type": "stream",
     "text": [
      "/Users/yao/Smilei/happi/_Diagnostics/Diagnostic.py:857: RuntimeWarning: divide by zero encountered in log10\n",
      "  return self._np.log10( self._dataLinAtTime(t) )\n"
     ]
    }
   ],
   "source": [
    "S0.Screen(2,units=['um','fs','MeV','cm^-3','V/m'],\n",
    "                   cmap=newcmap,\n",
    "                   data_log=True,\n",
    "                   vmin=-6,\n",
    "                   vmax=0,\n",
    "                   ).slide()"
   ]
  },
  {
   "cell_type": "code",
   "execution_count": 18,
   "metadata": {},
   "outputs": [
    {
     "name": "stdout",
     "output_type": "stream",
     "text": [
      "\n",
      "#3 - Number density of species # 0\n",
      "    ekin from 0.195695 to 9784.74 in 2000 steps \n",
      "\n",
      "The value in each bin is the sum of the `deposited_quantity` divided by the bin size and by grid_length[0] * grid_length[1]\n",
      "\n"
     ]
    }
   ],
   "source": [
    "S0.Screen(3,units=['um','fs','MeV','cm^-3','V/m'],\n",
    "                   cmap=newcmap,\n",
    "                   data_log=True,\n",
    "                #    vmin=-6,\n",
    "                #    vmax=0,\n",
    "                   ).slide()"
   ]
  },
  {
   "cell_type": "code",
   "execution_count": 19,
   "metadata": {},
   "outputs": [
    {
     "name": "stdout",
     "output_type": "stream",
     "text": [
      "\n",
      "#4 - Number density of species # 0\n",
      "    ekin from 0.195695 to 9784.74 in 2000 steps \n",
      "\n",
      "The value in each bin is the sum of the `deposited_quantity` divided by the bin size and by grid_length[0] * grid_length[1]\n",
      "\n"
     ]
    }
   ],
   "source": [
    "S0.Screen(4,units=['um','fs','MeV','cm^-3','V/m'],\n",
    "                   cmap=newcmap,\n",
    "                   data_log=True,\n",
    "                #    vmin=-6,\n",
    "                #    vmax=0,\n",
    "                   ).slide()"
   ]
  },
  {
   "cell_type": "code",
   "execution_count": 20,
   "metadata": {},
   "outputs": [
    {
     "name": "stdout",
     "output_type": "stream",
     "text": [
      "\n",
      "#5 - Number density of species # 0\n",
      "    px from 0 to 5000 in 200 steps \n",
      "    py from -500 to 500 in 200 steps \n",
      "\n",
      "The value in each bin is the sum of the `deposited_quantity` divided by the bin size and by grid_length[0] * grid_length[1]\n",
      "\n"
     ]
    }
   ],
   "source": [
    "S0.Screen(5,units=['um','fs','MeV','cm^-3','V/m'],\n",
    "                   cmap=newcmap,\n",
    "                   data_log=True,\n",
    "                   vmin=-6,\n",
    "                   vmax=0,\n",
    "                   ).slide()"
   ]
  },
  {
   "cell_type": "code",
   "execution_count": 22,
   "metadata": {},
   "outputs": [
    {
     "name": "stdout",
     "output_type": "stream",
     "text": [
      "WARNING: units unknown: 1 / ( 1 )\n",
      "WARNING: units unknown: 1 / ( 1 )\n",
      "WARNING: units unknown: 1 / ( 1 )\n"
     ]
    }
   ],
   "source": [
    "# get (and calculate) simulation data for photon from inverse compton scattering (ICS)\n",
    "\n",
    "def get_calc_photon_spectrum(case):\n",
    "    P_rad      = np.array(case.RadiationSpectrum(1).getData())\n",
    "    dgamma     = np.array(case.RadiationSpectrum(1).getAxis('gamma'))\n",
    "    ene_photon = dgamma*0.511 # [MeV]\n",
    "\n",
    "    Lx         = case.namelist.Lsim[0]\n",
    "    Ly         = case.namelist.Lsim[1]\n",
    "    Prad_unit  = 5.11e5 * 1.6e-19 * 3e10 * 1.1e21 / 0.8 / 6.28 * 1e-4 * 1e-4 # J/s/um [the last 1e-4 is cm->um]\n",
    "\n",
    "    P_rad_time = np.array(case.RadiationSpectrum(1,units=['s']).getTimes())\n",
    "    P_rad_dt   = P_rad_time[1] - P_rad_time[0] # s\n",
    "\n",
    "    U_rad      = np.sum(P_rad,axis=0)*Lx*Ly*Prad_unit/0.511*P_rad_dt\n",
    "\n",
    "    U_rad_dg   = np.gradient(U_rad, ene_photon)\n",
    "\n",
    "    return ene_photon, U_rad, U_rad_dg\n",
    "\n",
    "ene_photon0, U_rad0, U_rad_dg0 = get_calc_photon_spectrum(S0)"
   ]
  },
  {
   "cell_type": "code",
   "execution_count": 26,
   "metadata": {},
   "outputs": [
    {
     "name": "stderr",
     "output_type": "stream",
     "text": [
      "2024-12-18 08:11:56.955 Python[50953:2925083] error messaging the mach port for IMKCFRunLoopWakeUpReliable\n"
     ]
    }
   ],
   "source": [
    "# plot panel (c) with photon energy spectra\n",
    "\n",
    "width  = 3.14 *2.0\n",
    "height = width / 1.618\n",
    "fig, ax = plt.subplots()\n",
    "\n",
    "plt.ticklabel_format(axis='both', style='sci',useMathText=True)\n",
    "\n",
    "fig.subplots_adjust(left=.2, bottom=.2, right=.9, top=.9)\n",
    "ax.set_yscale('log')\n",
    "ax.set_xscale('log')\n",
    "\n",
    "ax.plot(ene_photon0,\n",
    "        U_rad0, \n",
    "        # label=\"W: Total\",\n",
    "        # label=r\"$a_0=100$: Brems.\",\n",
    "        linestyle='-',\n",
    "        linewidth=3.0,\n",
    "        color='blue')\n",
    "\n",
    "\n",
    "handles, labels = ax.get_legend_handles_labels()\n",
    "handles.reverse()\n",
    "labels.reverse()\n",
    "ax.legend(handles, labels, \n",
    "          fancybox=False, reverse=False, frameon=False, fontsize=14\n",
    "         )\n",
    "\n",
    "ax.set_xlim([0.1, 100])\n",
    "ax.set_ylim([1e-4,10])\n",
    "ax.set_xlabel(r'Photon Energy $\\varepsilon_{\\gamma}$ (MeV)')\n",
    "ax.set_ylabel(r'dU/d$\\varepsilon_{\\gamma}$ (J/MeV)')\n",
    "\n",
    "fig.set_size_inches(width, height)\n",
    "fig.tight_layout()\n",
    "\n",
    "# fig.savefig('/Users/yao/Desktop/spectra_photon_a0.pdf',dpi=600)\n"
   ]
  },
  {
   "cell_type": "code",
   "execution_count": null,
   "metadata": {},
   "outputs": [],
   "source": []
  }
 ],
 "metadata": {
  "kernelspec": {
   "display_name": "Python 3",
   "language": "python",
   "name": "python3"
  },
  "language_info": {
   "codemirror_mode": {
    "name": "ipython",
    "version": 3
   },
   "file_extension": ".py",
   "mimetype": "text/x-python",
   "name": "python",
   "nbconvert_exporter": "python",
   "pygments_lexer": "ipython3",
   "version": "3.9.21"
  }
 },
 "nbformat": 4,
 "nbformat_minor": 2
}
