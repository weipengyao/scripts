{
 "cells": [
  {
   "cell_type": "code",
   "execution_count": 7,
   "id": "2603fd1c",
   "metadata": {},
   "outputs": [],
   "source": [
    "%matplotlib qt"
   ]
  },
  {
   "cell_type": "code",
   "execution_count": 8,
   "id": "8a30efff",
   "metadata": {},
   "outputs": [
    {
     "name": "stderr",
     "output_type": "stream",
     "text": [
      "/var/folders/2t/97rc3fl92tg15k2l_4sk5hsh0000gn/T/ipykernel_6511/3671413861.py:6: MatplotlibDeprecationWarning: The get_cmap function was deprecated in Matplotlib 3.7 and will be removed two minor releases later. Use ``matplotlib.colormaps[name]`` or ``matplotlib.colormaps.get_cmap(obj)`` instead.\n",
      "  jetcmap = plt.cm.get_cmap(\"jet\", 9) #generate a jet map with 10 values \"rainbow\", \"jet\", YlOrRd\n"
     ]
    }
   ],
   "source": [
    "import matplotlib as mpl\n",
    "import happi\n",
    "import numpy as np\n",
    "import matplotlib.pyplot as plt\n",
    "\n",
    "jetcmap = plt.cm.get_cmap(\"jet\", 9) #generate a jet map with 10 values \"rainbow\", \"jet\", YlOrRd\n",
    "jet_vals = jetcmap(np.arange(9)) #extract those values as an array \n",
    "jet_vals[0] = [1.0, 1, 1.0, 1] #change the first value \n",
    "jet_vals[8] = [0.0, 0, 0.0, 1] #change the first value \n",
    "newcmap = mpl.colors.LinearSegmentedColormap.from_list(\"mine\", jet_vals) \n",
    "\n",
    "from matplotlib import font_manager\n",
    "\n",
    "font_dirs = ['/Users/yao/Documents/Calibri and Cambria Fonts/']\n",
    "font_files = font_manager.findSystemFonts(fontpaths=font_dirs)\n",
    "\n",
    "for font_file in font_files:\n",
    "    font_manager.fontManager.addfont(font_file)\n",
    "\n",
    "# set font\n",
    "plt.rcParams['font.family'] = 'Calibri'\n",
    "\n",
    "plt.rc('text', usetex=False)\n",
    "plt.rc('xtick', labelsize=14)\n",
    "plt.rc('ytick', labelsize=14)\n",
    "plt.rc('axes', labelsize=14)\n",
    "plt.rc('legend', fontsize=11)"
   ]
  },
  {
   "cell_type": "code",
   "execution_count": 9,
   "id": "e10438f7",
   "metadata": {},
   "outputs": [],
   "source": [
    "wkdir = [\n",
    "    '/Users/yao/Documents/Data/Apollon2024/stage2_t0',\n",
    "    '/Users/yao/Documents/Data/Apollon2024/stage2_t1',\n",
    "    ]"
   ]
  },
  {
   "cell_type": "code",
   "execution_count": 10,
   "id": "33c5b05f",
   "metadata": {},
   "outputs": [
    {
     "name": "stdout",
     "output_type": "stream",
     "text": [
      "Loaded simulation '/Users/yao/Documents/Data/Apollon2024/stage2_t0'\n",
      "Scanning for Scalar diagnostics\n",
      "Scanning for Field diagnostics\n",
      "Scanning for Probe diagnostics\n",
      "Scanning for ParticleBinning diagnostics\n",
      "Scanning for RadiationSpectrum diagnostics\n",
      "Scanning for Performance diagnostics\n",
      "Scanning for Screen diagnostics\n",
      "Scanning for Tracked particle diagnostics\n",
      "Scanning for new particle diagnostics\n",
      "Loaded simulation '/Users/yao/Documents/Data/Apollon2024/stage2_t1'\n",
      "Scanning for Scalar diagnostics\n",
      "Scanning for Field diagnostics\n",
      "Scanning for Probe diagnostics\n",
      "Scanning for ParticleBinning diagnostics\n",
      "Scanning for RadiationSpectrum diagnostics\n",
      "Scanning for Performance diagnostics\n",
      "Scanning for Screen diagnostics\n",
      "Scanning for Tracked particle diagnostics\n",
      "Scanning for new particle diagnostics\n"
     ]
    }
   ],
   "source": [
    "S0 = happi.Open(wkdir[0], reference_angular_frequency_SI = 56375055300167.87)\n",
    "S1 = happi.Open(wkdir[1], reference_angular_frequency_SI = 56375055300167.87)"
   ]
  },
  {
   "cell_type": "code",
   "execution_count": 11,
   "id": "a28683b5",
   "metadata": {},
   "outputs": [],
   "source": [
    "# prepare constants, units\n",
    "\n",
    "me = 9.1e-31\n",
    "mp = 1836.*me\n",
    "qe = 1.6e-19\n",
    "ep = 8.9e-12  # epsilon_0\n",
    "c  = 3.0e8\n",
    "wr = S0.namelist.w_r\n",
    "de = c / wr\n",
    "Lx = S0.namelist.L_x.real * de * 1e3      # in mm\n",
    "dx = S0.namelist.d_x * de * 1e3           # in mm\n",
    "\n",
    "Te = S0.namelist.T_e * 511.e3             # in eV\n",
    "ne = 1.0e18                              # in cm-3\n",
    "ld = 7.43e2 * Te**0.5 * ne**(-0.5) * 10. # in mm\n",
    "dt = S0.namelist.d_t\n",
    "\n",
    "B0 = S0.namelist.B_z * (me * wr / qe)\n",
    "wc = qe * B0 / me\n",
    "\n",
    "# conversion constants for fields and momentum (when taken from TrackParticle)\n",
    "kE = me*c*wr/qe  # V/m\n",
    "kp = me*c        # kg m/s\n",
    "kB = me*wr/qe    # T\n",
    "conv_MeV_J = 10**6*qe"
   ]
  },
  {
   "cell_type": "code",
   "execution_count": 6,
   "id": "f6dab2bc",
   "metadata": {},
   "outputs": [
    {
     "name": "stdout",
     "output_type": "stream",
     "text": [
      "Field diagnostic #0: Ex\n"
     ]
    }
   ],
   "source": [
    "Ex0 = S0.Field(0, 'Ex',units=['V/m','ps','mm'],\n",
    "         cmap=newcmap,\n",
    "         color='blue',\n",
    "         vsym=True,\n",
    "         label='with gap',\n",
    "         xmin=-0.1,xmax=11,\n",
    "         ).slide()\n",
    "\n",
    "# Ex1 = S1.Field(0, 'Ex',units=['V/m','ps','mm'],\n",
    "#          cmap=newcmap,\n",
    "#          vsym=True,\n",
    "#          color='red',\n",
    "#          linestyle='--',\n",
    "#          label='no gap',\n",
    "#          xmin=-0.1,xmax=11,\n",
    "#          )#.slide()\n",
    "\n",
    "# happi.multiSlide(Ex0, Ex1,)"
   ]
  },
  {
   "cell_type": "code",
   "execution_count": 13,
   "id": "3937c1cb",
   "metadata": {},
   "outputs": [
    {
     "name": "stdout",
     "output_type": "stream",
     "text": [
      "\n",
      "#0 - Number density of species # 0,1,3,6\n",
      "    x from 0 to 6144 in 500 steps \n",
      "    vx from -0.416667 to 0.416667 in 500 steps \n",
      "\n",
      "The value in each bin is the sum of the `deposited_quantity` divided by the bin size\n",
      "\n"
     ]
    }
   ],
   "source": [
    "# ion phase space (all species)\n",
    "# 0: all species\n",
    "# 9: protons from the piston in stage 1\n",
    "# 10 : protons from the ambient in stage 2\n",
    "S0.ParticleBinning(0,\n",
    "                   units=['mm','keV','ps','km/s'],\n",
    "                   data_log=True,\n",
    "                   cmap=newcmap,\n",
    "                   vmin=-4,\n",
    "                   vmax=4,\n",
    "                  # ).animate(movie='/Users/yao/Desktop/ps.gif',dpi=100,saveAs='/Users/yao/Desktop/tmp/ps.png')\n",
    "                  ).slide(figsize=(12, 6))\n"
   ]
  },
  {
   "cell_type": "code",
   "execution_count": 8,
   "id": "92b74101",
   "metadata": {},
   "outputs": [
    {
     "name": "stdout",
     "output_type": "stream",
     "text": [
      "\n",
      "#1 - Number density of species # 2,5,8\n",
      "    x from 0 to 2048 in 500 steps \n",
      "    vx from -4.16667 to 4.16667 in 500 steps \n",
      "\n",
      "The value in each bin is the sum of the `deposited_quantity` divided by the bin size\n",
      "\n"
     ]
    }
   ],
   "source": [
    "# electron phase space\n",
    "S0.ParticleBinning(1,\n",
    "                   units=['mm','keV','ps','km/s'],\n",
    "                   data_log=True,\n",
    "                   cmap=newcmap,\n",
    "                   vmin=-4,\n",
    "                   vmax=4,\n",
    "                  # ).animate(movie='/Users/yao/Desktop/ps.gif',dpi=100,saveAs='/Users/yao/Desktop/tmp/ps.png')\n",
    "                  ).slide(figsize=(12, 6))"
   ]
  },
  {
   "cell_type": "code",
   "execution_count": 24,
   "id": "b8fe4a63",
   "metadata": {},
   "outputs": [
    {
     "name": "stdout",
     "output_type": "stream",
     "text": [
      "\n",
      "#7 - Number density of species # 1\n",
      "    x from 0 to 2048 in 500 steps \n",
      "    ekin from 0 to 80 in 500 steps \n",
      "\n",
      "Operation : #7/0.02\n",
      "average for all x\n",
      "The value in each bin is the sum of the `deposited_quantity` divided by the bin size\n",
      "\n"
     ]
    }
   ],
   "source": [
    "# ion energy spectrum\n",
    "# 6: C; 7: H1; 8: H2+H3\n",
    "S0.ParticleBinning(\n",
    "                  # '#8/0.002',\n",
    "                  '#7/0.02',\n",
    "                   units=['mm','MeV','ps','km/s'],\n",
    "                  #  data_log=True,\n",
    "                   cmap=newcmap,\n",
    "                #    vmin=-4,\n",
    "                #    vmax=4,\n",
    "                   sum={'x':'all'},\n",
    "                  xmin=0,xmax=25,\n",
    "                   vmin=0,vmax=1,\n",
    "                  # ).animate(movie='/Users/yao/Desktop/ps.gif',dpi=100,saveAs='/Users/yao/Desktop/tmp/ps.png')\n",
    "                  ).slide()\n"
   ]
  },
  {
   "cell_type": "code",
   "execution_count": 18,
   "id": "a9870dc5",
   "metadata": {},
   "outputs": [
    {
     "name": "stdout",
     "output_type": "stream",
     "text": [
      "\n",
      "#0 - Number density of species # 0,1,3,6\n",
      "    x from 0 to 2048 in 500 steps \n",
      "    vx from -0.416667 to 0.416667 in 500 steps \n",
      "\n",
      "average for all vx\n",
      "The value in each bin is the sum of the `deposited_quantity` divided by the bin size\n",
      "\n"
     ]
    },
    {
     "name": "stderr",
     "output_type": "stream",
     "text": [
      "/Users/yao/Smilei/happi/_Diagnostics/Diagnostic.py:857: RuntimeWarning: divide by zero encountered in log10\n",
      "  return self._np.log10( self._dataLinAtTime(t) )\n"
     ]
    }
   ],
   "source": [
    "# ion phase space (all species)\n",
    "S0.ParticleBinning(0,\n",
    "                   units=['mm','keV','ps','km/s','cm^-3'],\n",
    "                   data_log=True,\n",
    "                   cmap=newcmap,\n",
    "                #    vmin=-4,\n",
    "                #    vmax=4,\n",
    "                   sum={'vx':'all'},\n",
    "                   xmin=0,xmax=25,\n",
    "                   vmin=0,vmax=1,\n",
    "                  # ).animate(movie='/Users/yao/Desktop/ps.gif',dpi=100,saveAs='/Users/yao/Desktop/tmp/ps.png')\n",
    "                  ).slide()"
   ]
  },
  {
   "cell_type": "code",
   "execution_count": null,
   "id": "6242db98",
   "metadata": {},
   "outputs": [],
   "source": []
  }
 ],
 "metadata": {
  "kernelspec": {
   "display_name": "Python 3",
   "language": "python",
   "name": "python3"
  },
  "language_info": {
   "codemirror_mode": {
    "name": "ipython",
    "version": 3
   },
   "file_extension": ".py",
   "mimetype": "text/x-python",
   "name": "python",
   "nbconvert_exporter": "python",
   "pygments_lexer": "ipython3",
   "version": "3.9.22"
  }
 },
 "nbformat": 4,
 "nbformat_minor": 5
}
