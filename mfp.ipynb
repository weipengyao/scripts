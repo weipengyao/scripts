{
 "cells": [
  {
   "cell_type": "markdown",
   "metadata": {},
   "source": [
    "## estimation of the minimum mean-free-path for H/C/F to be collisionless\n",
    "\n",
    "So that we can optimize the injection energies of H/C/F.\n",
    "\n",
    "Note that their injection energies are not necessarily to be the same (e.g., 1 keV)"
   ]
  },
  {
   "cell_type": "markdown",
   "metadata": {},
   "source": [
    "### To deal with this estimation, the first thing to do is to decide which collision rate equation we should use (considering that there are so many of those equations)\n",
    "\n",
    "From NRL (2019, P31):\n",
    "\n",
    "$\\chi^{\\alpha/\\beta} = m_{\\beta} v_{\\alpha}^2 / 2kT_{\\beta}$\n",
    "\n",
    "in which $\\alpha$ is the test particles, streaming with velocity $\\mathbf{v}_{\\alpha}$ through a background of field particles ($\\beta$) with a temperature $T$.\n",
    "\n",
    "note that $v_{\\alpha} = |\\mathbf{v}_{\\alpha}|$ is the average velocity over an ensemble of test particles."
   ]
  },
  {
   "cell_type": "markdown",
   "metadata": {},
   "source": [
    "### we are dealing with fast test particles, i.e.,\n",
    "\n",
    "$\\chi^{\\alpha / \\beta} \\gg 1$"
   ]
  },
  {
   "cell_type": "markdown",
   "metadata": {},
   "source": [
    "### we care more about one of the relaxation processes (i.e., slowing down, transverse diffusion, parallel diffusion, or energy loss)???\n",
    "\n",
    "### first take slowing down as an example:\n",
    "\n",
    "$\\nu^{i|i^{\\prime}}_{S} = 9.0 \\times 10^{-8} \\left( \\frac{1}{\\mu} + \\frac{1}{\\mu^{\\prime}} \\right) \\frac{\\mu^{1/2}}{\\epsilon^{3/2}} n_{i^{\\prime}} Z^2 Z^{\\prime 2} \\lambda_{ii^{\\prime}}$"
   ]
  },
  {
   "cell_type": "markdown",
   "metadata": {},
   "source": [
    "### we still need to decide the species of $i$ and $i^{\\prime}$ for our mix-ion case (H/C/F).\n",
    "\n",
    "In GORGON-PIC, we first consider an effective ion specie CF2, composed of C & F:\n",
    "\n",
    "$A_{CF2} = 0.76*19+0.24*12$\n",
    "\n",
    "$\\rho_{CF2} = \\rho_C + \\rho_F$\n",
    "\n",
    "$Z_{CF2} = 0.24*\\bar{Z_{C}} + 0.76*\\bar{Z_{F}}$\n",
    "\n",
    "Then, we compute the impurity factor (from *Callen, \"Fundamentals of plasma physics\" (2006) P20-23*) [**Can't find it**]\n",
    "\n",
    "$IF_p = \\frac{1}{A_{CF2}} \\frac{\\rho_{CF2}}{\\rho_{p}} (\\frac{Z_{CF2}}{Z_p})^2 (\\frac{2}{A_{CF2}})^{1/2} + 1.0$"
   ]
  },
  {
   "cell_type": "code",
   "execution_count": 203,
   "metadata": {},
   "outputs": [
    {
     "data": {
      "text/plain": [
       "Text(0, 0.5, 'Impurity factor')"
      ]
     },
     "execution_count": 203,
     "metadata": {},
     "output_type": "execute_result"
    },
    {
     "data": {
      "image/png": "[encoded data removed]",
      "text/plain": [
       "<Figure size 432x288 with 1 Axes>"
      ]
     },
     "metadata": {
      "needs_background": "light"
     },
     "output_type": "display_data"
    }
   ],
   "source": [
    "import numpy as np\n",
    "import matplotlib.pyplot as plt\n",
    "\n",
    "A_CF2 = 0.76 * 19 + 0.24 * 12\n",
    "# r_CF2 = r_C + r_F           # a reasonable estimate ???\n",
    "Z_CF2 = 0.24*6 + 0.76*9     # assume fully ionized\n",
    "Z_p   = 1.0                 # no value between 0-1\n",
    "\n",
    "r_ratio = np.logspace(-2,2,100)\n",
    "# r_ratio = np.linspace(0,10,100)\n",
    "IF_p = 1.0/A_CF2 * r_ratio * (Z_CF2/Z_p)**2 * (2.0/A_CF2)**(0.5) + 1.0\n",
    "\n",
    "plt.loglog(r_ratio, IF_p)\n",
    "plt.grid()\n",
    "plt.xlabel(r'$\\rho_{CF2} / \\rho_p$')\n",
    "plt.ylabel('Impurity factor')\n",
    "# plt.plot(r_ratio, IF_p)\n"
   ]
  },
  {
   "cell_type": "markdown",
   "metadata": {},
   "source": [
    "#### After this, a coefficient in the mfp equation considering the above impurity factor:\n",
    "\n",
    "$Coeff = \\frac{\\sqrt{2q_e/m_p}}{IF_p \\times 2.9\\times 10^{13} \\lambda} $\n",
    "\n",
    "$\\lambda$ is the Coulomb logarithm."
   ]
  },
  {
   "cell_type": "code",
   "execution_count": 204,
   "metadata": {},
   "outputs": [
    {
     "data": {
      "text/plain": [
       "Text(0, 0.5, 'Coefficient')"
      ]
     },
     "execution_count": 204,
     "metadata": {},
     "output_type": "execute_result"
    },
    {
     "data": {
      "image/png": "[encoded data removed]",
      "text/plain": [
       "<Figure size 432x288 with 1 Axes>"
      ]
     },
     "metadata": {
      "needs_background": "light"
     },
     "output_type": "display_data"
    }
   ],
   "source": [
    "qe = 1.6e-19        # C\n",
    "mp = 1836*9.1e-31   # kg\n",
    "coeff = np.sqrt(2.0*qe/mp) / (IF_p * 2.9e13 * 10.0)  # here the Coulomb algarithm is assumed to be 10. Optimize it later. \n",
    "plt.loglog(r_ratio, coeff)\n",
    "plt.grid()\n",
    "plt.xlabel(r'$\\rho_{CF2} / \\rho_p$')\n",
    "plt.ylabel('Coefficient')"
   ]
  },
  {
   "cell_type": "markdown",
   "metadata": {},
   "source": [
    "#### Finally, the mfp of fast proton crossing a CF2 fluid is:\n",
    "\n",
    "$\\lambda_{mfp,p} = Coeff. \\frac{T_i^2}{\\rho_p Z_p^4} $\n",
    "\n",
    "With $Z_p = 1$, the mfp will be strongly dependent on the fluid ion temperature over proton mass density $T_i^2/\\rho_p$.\n",
    "\n",
    "Consider in our case, ion temperature [10,1000] eV, and proton mass density [1e-4,1] kg/m3."
   ]
  },
  {
   "cell_type": "code",
   "execution_count": 113,
   "metadata": {},
   "outputs": [],
   "source": [
    "Ti = np.logspace(2,3,100)\n",
    "rho = np.logspace(-3,-2,100)\n",
    "# Ti2r = Ti**2/rho\n",
    "\n",
    "Ti2r = np.logspace(np.log10(Ti.min()**2/rho.max()), np.log10(Ti.max()**2/rho.min()), 100)"
   ]
  },
  {
   "cell_type": "markdown",
   "metadata": {},
   "source": [
    "For simplicity, we consider a very low impurity factor (almost pure H2) of 1;\n",
    "\n",
    "the corresponding coefficient becomes 5.0e-11.\n",
    "\n",
    "Then the mfp of proton becomes:"
   ]
  },
  {
   "cell_type": "code",
   "execution_count": 114,
   "metadata": {},
   "outputs": [
    {
     "data": {
      "text/plain": [
       "Text(0, 0.5, 'mfp [um]')"
      ]
     },
     "execution_count": 114,
     "metadata": {},
     "output_type": "execute_result"
    },
    {
     "data": {
      "image/png": "[encoded data removed]",
      "text/plain": [
       "<Figure size 432x288 with 1 Axes>"
      ]
     },
     "metadata": {
      "needs_background": "light"
     },
     "output_type": "display_data"
    }
   ],
   "source": [
    "plt.loglog(Ti2r, 5.0e-11*Ti2r*1e6,'-r')\n",
    "plt.xlabel(r'$T_i^2/\\rho_p$')\n",
    "# plt.xlim([1e3,1e10])\n",
    "# plt.ylim([1e0,1e6])\n",
    "plt.grid()\n",
    "plt.ylabel('mfp [um]')"
   ]
  },
  {
   "cell_type": "markdown",
   "metadata": {},
   "source": [
    "## It lies in an reasonable range of [50,+] um, and our simulation grid size is 40 um."
   ]
  },
  {
   "cell_type": "markdown",
   "metadata": {},
   "source": [
    "## To get the minimum energy of proton that is collisionless, we need the corresponding mfp to be the minimum, i.e., 40 um.\n",
    "\n",
    "## Still need the ion (proton) collision rate, to calculate the collision time range.\n",
    "\n",
    "## With the simplest case, from NRL (2019) P28:\n",
    "\n",
    "$\\nu_i = 4.80 \\times 10^{-8} Z^4 \\mu^{-1/2} n_i \\ln\\Lambda T_i^{-3/2}$ (s$^{-1}$)"
   ]
  },
  {
   "cell_type": "code",
   "execution_count": 138,
   "metadata": {},
   "outputs": [],
   "source": [
    "Z_p = 1.0\n",
    "mu  = 1.0  # in unit of mp\n",
    "ln  = 10.0 # Coulomb logarithm, for simplicity\n",
    "Ti = np.logspace(2,3,100)    # eV\n",
    "ni = np.logspace(-3,-2,100)*1e-3/(mp*1e3)  # cm^-3\n",
    "\n",
    "# nu_i = 4.8e-8 * Z_p**4 * mu**(-0.5) * ni * ln * Ti**(-1.5)\n",
    "r2Ti = np.logspace(np.log10(ni.min()/Ti.max()**1.5), np.log10(ni.max()/Ti.min()**1.5), 100)\n",
    "nu_i = 4.8e-8 * Z_p**4 * mu**(-0.5) * ln * r2Ti"
   ]
  },
  {
   "cell_type": "code",
   "execution_count": 143,
   "metadata": {},
   "outputs": [
    {
     "data": {
      "image/png": "[encoded data removed]",
      "text/plain": [
       "<Figure size 432x288 with 1 Axes>"
      ]
     },
     "metadata": {
      "needs_background": "light"
     },
     "output_type": "display_data"
    }
   ],
   "source": [
    "t_col = 1.0/nu_i*1e9 # collision time in ns\n",
    "plt.loglog(Ti, t_col)\n",
    "plt.xlabel('Ti [eV]')\n",
    "plt.ylabel('collisional time [ns]')\n",
    "plt.ylim([0.1,100])\n",
    "plt.grid(which='both')"
   ]
  },
  {
   "cell_type": "markdown",
   "metadata": {},
   "source": [
    "### The collision time range: [0.3, 100] ns, which is reasonable.\n",
    "\n",
    "### So the minimum energy/velocity of proton to be collisionless corresponds to the minimum mfp & the maximum collision time."
   ]
  },
  {
   "cell_type": "code",
   "execution_count": 145,
   "metadata": {},
   "outputs": [
    {
     "name": "stdout",
     "output_type": "stream",
     "text": [
      "vel_min =  133333.33333333334\n",
      "ene_min =  92.82000000000001\n"
     ]
    }
   ],
   "source": [
    "mfp_min = 40e-6 # m, minimum of mfp\n",
    "clt_max = 0.3e-9 # s, maximun of collision time\n",
    "vel_min = mfp_min / clt_max\n",
    "print('vel_min = ', vel_min)\n",
    "ene_min = 0.5 * mp * vel_min**2 / qe # eV, minimum proton energy\n",
    "print('ene_min = ', ene_min)"
   ]
  },
  {
   "cell_type": "code",
   "execution_count": 149,
   "metadata": {},
   "outputs": [
    {
     "data": {
      "image/png": "[encoded data removed]",
      "text/plain": [
       "<Figure size 432x288 with 1 Axes>"
      ]
     },
     "metadata": {
      "needs_background": "light"
     },
     "output_type": "display_data"
    }
   ],
   "source": [
    "mfp_all_um = 5.0e-11*Ti2r*1e6\n",
    "clt_all_ns = 1.0/nu_i*1e9\n",
    "vel_all_kms = np.logspace(np.log10(mfp_all_um.min()/clt_all_ns.max()),np.log10(mfp_all_um.max()/clt_all_ns.min()), 100)\n",
    "ene_all_eV = 0.5 * mp * (vel_all_kms*1e3)**2 / qe\n",
    "\n",
    "\n",
    "plt.loglog(Ti, ene_all_eV)\n",
    "plt.xlabel('Ti [eV]')\n",
    "plt.ylabel('Proton energy [eV]')\n",
    "# plt.ylim([0.1,100])\n",
    "plt.grid(which='both')"
   ]
  },
  {
   "cell_type": "code",
   "execution_count": null,
   "metadata": {},
   "outputs": [],
   "source": []
  },
  {
   "cell_type": "markdown",
   "metadata": {},
   "source": [
    "#### Note that for C6+, an initialization of 1 keV, corresponding to a velocity of 130 km/s, which in fact seems to be low for a piston propagation after 6 ns.\n",
    "\n",
    "#### usually the piston velocity (with a parallel B-field) is around: $v_{exp} = 4.6 \\times 10^{5} I_{14}^{1/3} \\lambda_{\\mu m}^{2/3}$ (m/s) [Ciardi2013](https://journals.aps.org/prl/pdf/10.1103/PhysRevLett.110.025002)\n",
    "\n",
    "With the laser intensity $I = 10^{13}$, the expansion velocity is:"
   ]
  },
  {
   "cell_type": "code",
   "execution_count": 19,
   "metadata": {},
   "outputs": [
    {
     "name": "stdout",
     "output_type": "stream",
     "text": [
      "213.51308634618783 km/s\n"
     ]
    }
   ],
   "source": [
    "I = 1.0e13 / 1.0e14\n",
    "lmd = 1.0\n",
    "v_exp = 4.6e5 * I**(1./3.) * lmd**(2./3.)  # m/s\n",
    "print(v_exp/1e3, \"km/s\")"
   ]
  },
  {
   "cell_type": "code",
   "execution_count": 22,
   "metadata": {},
   "outputs": [
    {
     "name": "stdout",
     "output_type": "stream",
     "text": [
      "initial energy: 2.8562376107064713 keV\n"
     ]
    }
   ],
   "source": [
    "qe   = 1.6e-19       # C\n",
    "me   = 9.1e-31       # kg\n",
    "mp   = 1836 * me     # kg\n",
    "m_C6 = mp * 12.0     # kg\n",
    "v_C6 = v_exp   # m/s\n",
    "E_C6 = 0.5 * m_C6 * v_C6**2 / qe # eV\n",
    "print('initial energy of C6+:', E_C6/1e3, 'keV')"
   ]
  },
  {
   "cell_type": "markdown",
   "metadata": {},
   "source": [
    "#### Corresponding to an initial energy of 2.9 keV for C6+.\n",
    "\n",
    "#### Similarly, for F9+: the initial energy is around 4.5 keV"
   ]
  },
  {
   "cell_type": "code",
   "execution_count": 25,
   "metadata": {},
   "outputs": [
    {
     "name": "stdout",
     "output_type": "stream",
     "text": [
      "initial energy of F9+ 4.522376216951912 keV\n"
     ]
    }
   ],
   "source": [
    "m_F9 = mp * 19   # kg\n",
    "v_F9 = v_exp     # m/s\n",
    "E_F9 = 0.5 * m_F9 * v_F9**2 / qe # eV\n",
    "print('initial energy of F9+', E_F9/1e3, 'keV')"
   ]
  },
  {
   "cell_type": "code",
   "execution_count": null,
   "metadata": {},
   "outputs": [],
   "source": []
  },
  {
   "cell_type": "code",
   "execution_count": null,
   "metadata": {},
   "outputs": [],
   "source": []
  },
  {
   "cell_type": "code",
   "execution_count": 20,
   "metadata": {},
   "outputs": [],
   "source": [
    "qe   = 1.6e-19       # C\n",
    "me   = 9.1e-31       # kg\n",
    "mp   = 1836 * me     # kg\n",
    "m_C6 = mp * 12.0     # kg\n",
    "# E_C6 = 1.0e3         # eV\n",
    "v_C6 = 200.0 * 1e3   # m/s\n",
    "E_C6 = 0.5 * m_C6 * v_C6**2 / qe # eV\n",
    "# v_C6 = (E_C6 * qe * 2.0 / m_C6)**(0.5)"
   ]
  },
  {
   "cell_type": "code",
   "execution_count": 21,
   "metadata": {},
   "outputs": [
    {
     "data": {
      "text/plain": [
       "2.5061400000000003"
      ]
     },
     "execution_count": 21,
     "metadata": {},
     "output_type": "execute_result"
    }
   ],
   "source": [
    "E_C6 / 1e3"
   ]
  },
  {
   "cell_type": "code",
   "execution_count": 15,
   "metadata": {},
   "outputs": [
    {
     "data": {
      "text/plain": [
       "126.33606086357831"
      ]
     },
     "execution_count": 15,
     "metadata": {},
     "output_type": "execute_result"
    }
   ],
   "source": [
    "v_C6 / 1e3"
   ]
  },
  {
   "cell_type": "markdown",
   "metadata": {},
   "source": [
    "## A better way to do this, is a meshgrid with (ni, Ti);\n",
    "\n",
    "## Calculate the mfp using the equation from Callen with impurity factor simplified to be 1;\n",
    "\n",
    "## Calculate the clt using the equation from NRL\n",
    "\n",
    "## velocity (and energy) is just mfp / clt"
   ]
  },
  {
   "cell_type": "code",
   "execution_count": 209,
   "metadata": {},
   "outputs": [],
   "source": [
    "## Define the range should be optimized later\n",
    "# Ti  = np.logspace(1,3,100)     # eV\n",
    "# rho = np.logspace(-3,-1,100)   # kg/m^3\n",
    "\n",
    "Ti  = np.logspace(0,4,100)     # eV\n",
    "rho = np.logspace(-4,0,100)   # kg/m^3\n",
    "\n",
    "rr, tti = np.meshgrid(rho,Ti)"
   ]
  },
  {
   "cell_type": "code",
   "execution_count": 215,
   "metadata": {},
   "outputs": [
    {
     "name": "stderr",
     "output_type": "stream",
     "text": [
      "<ipython-input-215-697378dbd1a7>:6: MatplotlibDeprecationWarning: shading='flat' when X and Y have the same dimensions as C is deprecated since 3.3.  Either specify the corners of the quadrilaterals with X and Y, or pass shading='auto', 'nearest' or 'gouraud', or set rcParams['pcolor.shading'].  This will become an error two minor releases later.\n",
      "  plt.pcolor(np.log10(rr),np.log10(tti),lnn,cmap='jet')\n"
     ]
    },
    {
     "data": {
      "text/plain": [
       "([<matplotlib.axis.YTick at 0x16bd6a4f0>,\n",
       "  <matplotlib.axis.YTick at 0x16bd61c70>,\n",
       "  <matplotlib.axis.YTick at 0x16bd61d00>,\n",
       "  <matplotlib.axis.YTick at 0x16c2836a0>,\n",
       "  <matplotlib.axis.YTick at 0x16c283bb0>],\n",
       " [Text(0, 0, ''),\n",
       "  Text(0, 0, ''),\n",
       "  Text(0, 0, ''),\n",
       "  Text(0, 0, ''),\n",
       "  Text(0, 0, '')])"
      ]
     },
     "execution_count": 215,
     "metadata": {},
     "output_type": "execute_result"
    },
    {
     "data": {
      "image/png": "[encoded data removed]",
      "text/plain": [
       "<Figure size 432x288 with 2 Axes>"
      ]
     },
     "metadata": {
      "needs_background": "light"
     },
     "output_type": "display_data"
    }
   ],
   "source": [
    "# Coulomb Logarith for proton-proton collisions\n",
    "\n",
    "lnn = 23 - np.log(tti**(-1) * (2.0*rr*1e-3/(mp*1e3)/tti)**0.5)\n",
    "lnn[lnn<0] = np.NaN  # the negative values are assumed to be 0\n",
    "\n",
    "plt.pcolor(np.log10(rr),np.log10(tti),lnn,cmap='jet')\n",
    "cb = plt.colorbar()\n",
    "cb.ax.tick_params(labelsize=12)\n",
    "plt.xlabel('Log10(rho) [kg/m^3]',fontsize=16)\n",
    "plt.ylabel('Log10(Ti) [eV]',fontsize=16)\n",
    "plt.title('Coulomb Logarith for p-p',fontsize=20)\n",
    "# plt.xticks([-3, -2.5, -2, -1.5, -1], fontsize=12)\n",
    "# plt.yticks([1, 1.5, 2, 2.5, 3], fontsize=12)\n",
    "plt.xticks([-4, -3, -2, -1, 0], fontsize=12)\n",
    "plt.yticks([0, 1, 2, 3, 4], fontsize=12)\n"
   ]
  },
  {
   "cell_type": "code",
   "execution_count": 216,
   "metadata": {},
   "outputs": [
    {
     "name": "stderr",
     "output_type": "stream",
     "text": [
      "<ipython-input-216-3d60b4931052>:8: MatplotlibDeprecationWarning: shading='flat' when X and Y have the same dimensions as C is deprecated since 3.3.  Either specify the corners of the quadrilaterals with X and Y, or pass shading='auto', 'nearest' or 'gouraud', or set rcParams['pcolor.shading'].  This will become an error two minor releases later.\n",
      "  plt.pcolor(np.log10(rr),np.log10(tti),np.log10(mfp_mm),cmap='jet')\n"
     ]
    },
    {
     "data": {
      "text/plain": [
       "([<matplotlib.axis.YTick at 0x16c2b2730>,\n",
       "  <matplotlib.axis.YTick at 0x16c2a9e20>,\n",
       "  <matplotlib.axis.YTick at 0x16c2a9eb0>,\n",
       "  <matplotlib.axis.YTick at 0x16c7ca8e0>,\n",
       "  <matplotlib.axis.YTick at 0x16c7cadf0>],\n",
       " [Text(0, 0, ''),\n",
       "  Text(0, 0, ''),\n",
       "  Text(0, 0, ''),\n",
       "  Text(0, 0, ''),\n",
       "  Text(0, 0, '')])"
      ]
     },
     "execution_count": 216,
     "metadata": {},
     "output_type": "execute_result"
    },
    {
     "data": {
      "image/png": "[encoded data removed]",
      "text/plain": [
       "<Figure size 432x288 with 2 Axes>"
      ]
     },
     "metadata": {
      "needs_background": "light"
     },
     "output_type": "display_data"
    }
   ],
   "source": [
    "\n",
    "\n",
    "IF_p = 1.0\n",
    "\n",
    "\n",
    "coeff = np.sqrt(2.0*qe/mp) / (IF_p * 2.9e13 * lnn)\n",
    "mfp_mm = tti**2/rr * coeff * 1e3\n",
    "# mfp_mm = tti**2/rr * 5e-11 * 1e3\n",
    "\n",
    "plt.pcolor(np.log10(rr),np.log10(tti),np.log10(mfp_mm),cmap='jet')\n",
    "cb = plt.colorbar()\n",
    "cb.ax.tick_params(labelsize=12)\n",
    "plt.xlabel('Log10(rho) [kg/m^3]',fontsize=16)\n",
    "plt.ylabel('Log10(Ti) [eV]',fontsize=16)\n",
    "plt.title('Log10(mfp) [mm]',fontsize=20)\n",
    "# plt.xticks([-3, -2.5, -2, -1.5, -1], fontsize=12)\n",
    "# plt.yticks([1, 1.5, 2, 2.5, 3], fontsize=12)\n",
    "plt.xticks([-4, -3, -2, -1, 0], fontsize=12)\n",
    "plt.yticks([0, 1, 2, 3, 4], fontsize=12)"
   ]
  },
  {
   "cell_type": "code",
   "execution_count": 218,
   "metadata": {},
   "outputs": [
    {
     "name": "stderr",
     "output_type": "stream",
     "text": [
      "<ipython-input-218-104335601432>:5: MatplotlibDeprecationWarning: shading='flat' when X and Y have the same dimensions as C is deprecated since 3.3.  Either specify the corners of the quadrilaterals with X and Y, or pass shading='auto', 'nearest' or 'gouraud', or set rcParams['pcolor.shading'].  This will become an error two minor releases later.\n",
      "  plt.pcolor(np.log10(rr),np.log10(tti),np.log10(clt_ns),cmap='jet')\n"
     ]
    },
    {
     "data": {
      "text/plain": [
       "([<matplotlib.axis.YTick at 0x16cd2bfa0>,\n",
       "  <matplotlib.axis.YTick at 0x16cd2b6d0>,\n",
       "  <matplotlib.axis.YTick at 0x16cd2b760>,\n",
       "  <matplotlib.axis.YTick at 0x16d2500d0>,\n",
       "  <matplotlib.axis.YTick at 0x16d2505e0>],\n",
       " [Text(0, 0, ''),\n",
       "  Text(0, 0, ''),\n",
       "  Text(0, 0, ''),\n",
       "  Text(0, 0, ''),\n",
       "  Text(0, 0, '')])"
      ]
     },
     "execution_count": 218,
     "metadata": {},
     "output_type": "execute_result"
    },
    {
     "data": {
      "image/png": "[encoded data removed]",
      "text/plain": [
       "<Figure size 432x288 with 2 Axes>"
      ]
     },
     "metadata": {
      "needs_background": "light"
     },
     "output_type": "display_data"
    }
   ],
   "source": [
    "# ni  = rho*1e-3/(mp*1e3)        # cm^-3\n",
    "\n",
    "clr = 4.8e-8 * Z_p**4 * mu**(-0.5) * lnn * rr*1e-3/(mp*1e3)/tti**1.5  # s^-1, with optimized Coulomb Logarithm\n",
    "clt_ns = 1.0/clr*1e9     # ns\n",
    "plt.pcolor(np.log10(rr),np.log10(tti),np.log10(clt_ns),cmap='jet')\n",
    "cb = plt.colorbar()\n",
    "cb.ax.tick_params(labelsize=12)\n",
    "plt.xlabel('Log10(rho) [kg/m^3]',fontsize=16)\n",
    "plt.ylabel('Log10(Ti) [eV]',fontsize=16)\n",
    "plt.title('Log10(collision time) [ns]',fontsize=20)\n",
    "# plt.xticks([-3, -2.5, -2, -1.5, -1], fontsize=12)\n",
    "# plt.yticks([1, 1.5, 2, 2.5, 3], fontsize=12)\n",
    "plt.xticks([-4, -3, -2, -1, 0], fontsize=12)\n",
    "plt.yticks([0, 1, 2, 3, 4], fontsize=12)"
   ]
  },
  {
   "cell_type": "code",
   "execution_count": 219,
   "metadata": {},
   "outputs": [
    {
     "name": "stderr",
     "output_type": "stream",
     "text": [
      "<ipython-input-219-c1afc970f391>:2: MatplotlibDeprecationWarning: shading='flat' when X and Y have the same dimensions as C is deprecated since 3.3.  Either specify the corners of the quadrilaterals with X and Y, or pass shading='auto', 'nearest' or 'gouraud', or set rcParams['pcolor.shading'].  This will become an error two minor releases later.\n",
      "  plt.pcolor(np.log10(rr),np.log10(tti),np.log10(vel_kms),cmap='jet')\n"
     ]
    },
    {
     "data": {
      "text/plain": [
       "([<matplotlib.axis.YTick at 0x16d271dc0>,\n",
       "  <matplotlib.axis.YTick at 0x16d271460>,\n",
       "  <matplotlib.axis.YTick at 0x16d278e80>,\n",
       "  <matplotlib.axis.YTick at 0x16d790e20>,\n",
       "  <matplotlib.axis.YTick at 0x16d795370>],\n",
       " [Text(0, 0, ''),\n",
       "  Text(0, 0, ''),\n",
       "  Text(0, 0, ''),\n",
       "  Text(0, 0, ''),\n",
       "  Text(0, 0, '')])"
      ]
     },
     "execution_count": 219,
     "metadata": {},
     "output_type": "execute_result"
    },
    {
     "data": {
      "image/png": "[encoded data removed]",
      "text/plain": [
       "<Figure size 432x288 with 2 Axes>"
      ]
     },
     "metadata": {
      "needs_background": "light"
     },
     "output_type": "display_data"
    }
   ],
   "source": [
    "vel_kms = mfp_mm / clt_ns * 1e3\n",
    "plt.pcolor(np.log10(rr),np.log10(tti),np.log10(vel_kms),cmap='jet')\n",
    "cb = plt.colorbar()\n",
    "cb.ax.tick_params(labelsize=12)\n",
    "plt.xlabel('Log10(rho) [kg/m^3]',fontsize=16)\n",
    "plt.ylabel('Log10(Ti) [eV]',fontsize=16)\n",
    "plt.title('Log10(Velocity) [km/s]',fontsize=20)\n",
    "# plt.xticks([-3, -2.5, -2, -1.5, -1], fontsize=12)\n",
    "# plt.yticks([1, 1.5, 2, 2.5, 3], fontsize=12)\n",
    "plt.xticks([-4, -3, -2, -1, 0], fontsize=12)\n",
    "plt.yticks([0, 1, 2, 3, 4], fontsize=12)"
   ]
  },
  {
   "cell_type": "code",
   "execution_count": 220,
   "metadata": {},
   "outputs": [
    {
     "name": "stderr",
     "output_type": "stream",
     "text": [
      "<ipython-input-220-c451fe30e0a7>:2: MatplotlibDeprecationWarning: shading='flat' when X and Y have the same dimensions as C is deprecated since 3.3.  Either specify the corners of the quadrilaterals with X and Y, or pass shading='auto', 'nearest' or 'gouraud', or set rcParams['pcolor.shading'].  This will become an error two minor releases later.\n",
      "  plt.pcolor(np.log10(rr),np.log10(tti),np.log10(ene_ev),cmap='jet')\n"
     ]
    },
    {
     "data": {
      "text/plain": [
       "([<matplotlib.axis.YTick at 0x16d7bf100>,\n",
       "  <matplotlib.axis.YTick at 0x16d7b8850>,\n",
       "  <matplotlib.axis.YTick at 0x16d7b88b0>,\n",
       "  <matplotlib.axis.YTick at 0x16dcdb250>,\n",
       "  <matplotlib.axis.YTick at 0x16dcdb760>],\n",
       " [Text(0, 0, ''),\n",
       "  Text(0, 0, ''),\n",
       "  Text(0, 0, ''),\n",
       "  Text(0, 0, ''),\n",
       "  Text(0, 0, '')])"
      ]
     },
     "execution_count": 220,
     "metadata": {},
     "output_type": "execute_result"
    },
    {
     "data": {
      "image/png": "[encoded data removed]",
      "text/plain": [
       "<Figure size 432x288 with 2 Axes>"
      ]
     },
     "metadata": {
      "needs_background": "light"
     },
     "output_type": "display_data"
    }
   ],
   "source": [
    "ene_ev = 0.5 * mp * (vel_kms*1e3)**2 / qe\n",
    "plt.pcolor(np.log10(rr),np.log10(tti),np.log10(ene_ev),cmap='jet')\n",
    "cb = plt.colorbar()\n",
    "cb.ax.tick_params(labelsize=12)\n",
    "plt.xlabel('Log10(rho) [kg/m^3]',fontsize=16)\n",
    "plt.ylabel('Log10(Ti) [eV]',fontsize=16)\n",
    "plt.title('Log10(Energy) [eV]',fontsize=20)\n",
    "# plt.xticks([-3, -2.5, -2, -1.5, -1], fontsize=12)\n",
    "# plt.yticks([1, 1.5, 2, 2.5, 3], fontsize=12)\n",
    "plt.xticks([-4, -3, -2, -1, 0], fontsize=12)\n",
    "plt.yticks([0, 1, 2, 3, 4], fontsize=12)"
   ]
  },
  {
   "cell_type": "code",
   "execution_count": null,
   "metadata": {},
   "outputs": [],
   "source": [
    "1.224E+00 # g/cm2\n",
    "2.7       # g/cm3\n",
    "\n",
    "1.224E+00"
   ]
  },
  {
   "cell_type": "code",
   "execution_count": 222,
   "metadata": {},
   "outputs": [
    {
     "data": {
      "text/plain": [
       "0.4533333333333333"
      ]
     },
     "execution_count": 222,
     "metadata": {},
     "output_type": "execute_result"
    }
   ],
   "source": [
    "1.224E+00 / 2.7  # cm"
   ]
  },
  {
   "cell_type": "code",
   "execution_count": null,
   "metadata": {},
   "outputs": [],
   "source": [
    "4.5 # mm\n",
    "1.5 # mm of Al"
   ]
  },
  {
   "cell_type": "code",
   "execution_count": 223,
   "metadata": {},
   "outputs": [
    {
     "data": {
      "text/plain": [
       "0.405"
      ]
     },
     "execution_count": 223,
     "metadata": {},
     "output_type": "execute_result"
    }
   ],
   "source": [
    "0.15 * 2.7\n"
   ]
  },
  {
   "cell_type": "code",
   "execution_count": null,
   "metadata": {},
   "outputs": [],
   "source": []
  }
 ],
 "metadata": {
  "kernelspec": {
   "display_name": "Python 3 (ipykernel)",
   "language": "python",
   "name": "python3"
  },
  "language_info": {
   "codemirror_mode": {
    "name": "ipython",
    "version": 3
   },
   "file_extension": ".py",
   "mimetype": "text/x-python",
   "name": "python",
   "nbconvert_exporter": "python",
   "pygments_lexer": "ipython3",
   "version": "3.9.18"
  }
 },
 "nbformat": 4,
 "nbformat_minor": 4
}
