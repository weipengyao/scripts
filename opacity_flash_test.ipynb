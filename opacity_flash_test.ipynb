{
 "cells": [
  {
   "cell_type": "code",
   "execution_count": 1,
   "metadata": {},
   "outputs": [],
   "source": [
    "import yt\n",
    "import matplotlib.pyplot  as plt\n",
    "import numpy as np"
   ]
  },
  {
   "cell_type": "code",
   "execution_count": 2,
   "metadata": {},
   "outputs": [],
   "source": [
    "def get_yt_data_2d(filename):\n",
    "\n",
    "    k_idx = 0\n",
    "    fields_list = [\"dens\", \"tele\", \"tion\",\n",
    "                #    \"depo\",\n",
    "                   # \"pres\", \"temp\", \"cham\", \"targ\", \n",
    "                #    \"velx\", \n",
    "                   \"ye\"]\n",
    "\n",
    "    data_yt = yt.load(filename)\n",
    "    data_yt_map = data_yt.covering_grid(\n",
    "        level=0, left_edge=[-0.04, 0.0, -0.004], dims=data_yt.domain_dimensions\n",
    "    ) # note here about the left_edge in x,y,z.\n",
    "    time_now = np.array(data_yt.current_time)*1e9\n",
    "\n",
    "    data_dict = {}\n",
    "    for f in fields_list:\n",
    "        # data_dict[f] = data_yt_map[f][k_idx,:] # careful here about which axis is which\n",
    "        data_dict[f] = data_yt_map[f][:,:,k_idx] # careful here about which axis is which\n",
    "    return data_dict, time_now"
   ]
  },
  {
   "cell_type": "code",
   "execution_count": 3,
   "metadata": {},
   "outputs": [],
   "source": [
    "filedir = [\n",
    "            '/Users/yao/Desktop/Data/Opacity/job.75734/', # v4.8 \n",
    "          ] \n",
    "\n",
    "filename = 'radslab_hdf5_chk_0001'  # check the mass fraction for the negative energy"
   ]
  },
  {
   "cell_type": "code",
   "execution_count": 4,
   "metadata": {},
   "outputs": [
    {
     "name": "stderr",
     "output_type": "stream",
     "text": [
      "yt : [INFO     ] 2024-07-05 14:01:14,355 Particle file found: radslab_hdf5_chk_0001\n",
      "yt : [INFO     ] 2024-07-05 14:01:14,386 Parameters: current_time              = 2.0075291644898736e-10\n",
      "yt : [INFO     ] 2024-07-05 14:01:14,386 Parameters: domain_dimensions         = [64 64  1]\n",
      "yt : [INFO     ] 2024-07-05 14:01:14,387 Parameters: domain_left_edge          = [-0.04   0.    -0.004]\n",
      "yt : [INFO     ] 2024-07-05 14:01:14,387 Parameters: domain_right_edge         = [0.04  0.08  0.004]\n",
      "yt : [INFO     ] 2024-07-05 14:01:14,387 Parameters: cosmological_simulation   = 0\n"
     ]
    }
   ],
   "source": [
    "data_yt = yt.load(filedir[0]+filename)\n",
    "data_yt_map = data_yt.covering_grid(level=0, left_edge=[0, 0.0, 0.0], dims=data_yt.domain_dimensions)\n",
    "time_now = np.array(data_yt.current_time)*1e9"
   ]
  },
  {
   "cell_type": "code",
   "execution_count": 5,
   "metadata": {},
   "outputs": [
    {
     "data": {
      "text/plain": [
       "[('flash', 'absr'),\n",
       " ('flash', 'cham'),\n",
       " ('flash', 'cond'),\n",
       " ('flash', 'dbgs'),\n",
       " ('flash', 'dens'),\n",
       " ('flash', 'dfcf'),\n",
       " ('flash', 'eele'),\n",
       " ('flash', 'eint'),\n",
       " ('flash', 'eion'),\n",
       " ('flash', 'emis'),\n",
       " ('flash', 'ener'),\n",
       " ('flash', 'erad'),\n",
       " ('flash', 'fllm'),\n",
       " ('flash', 'gamc'),\n",
       " ('flash', 'game'),\n",
       " ('flash', 'mgdc'),\n",
       " ('flash', 'pele'),\n",
       " ('flash', 'pion'),\n",
       " ('flash', 'pipe'),\n",
       " ('flash', 'prad'),\n",
       " ('flash', 'pres'),\n",
       " ('flash', 'r001'),\n",
       " ('flash', 'r002'),\n",
       " ('flash', 'r003'),\n",
       " ('flash', 'r004'),\n",
       " ('flash', 'r005'),\n",
       " ('flash', 'r006'),\n",
       " ('flash', 'shok'),\n",
       " ('flash', 'sumy'),\n",
       " ('flash', 'targ'),\n",
       " ('flash', 'tele'),\n",
       " ('flash', 'temp'),\n",
       " ('flash', 'tion'),\n",
       " ('flash', 'tite'),\n",
       " ('flash', 'trad'),\n",
       " ('flash', 'velx'),\n",
       " ('flash', 'vely'),\n",
       " ('flash', 'velz'),\n",
       " ('flash', 'volx'),\n",
       " ('flash', 'voly'),\n",
       " ('flash', 'volz'),\n",
       " ('flash', 'ye')]"
      ]
     },
     "execution_count": 5,
     "metadata": {},
     "output_type": "execute_result"
    }
   ],
   "source": [
    "data_yt.field_list"
   ]
  },
  {
   "cell_type": "code",
   "execution_count": 17,
   "metadata": {},
   "outputs": [
    {
     "name": "stderr",
     "output_type": "stream",
     "text": [
      "yt : [INFO     ] 2024-07-05 14:15:15,346 Particle file found: radslab_hdf5_chk_0001\n",
      "yt : [INFO     ] 2024-07-05 14:15:15,374 Parameters: current_time              = 2.0075291644898736e-10\n",
      "yt : [INFO     ] 2024-07-05 14:15:15,374 Parameters: domain_dimensions         = [64 64  1]\n",
      "yt : [INFO     ] 2024-07-05 14:15:15,374 Parameters: domain_left_edge          = [-0.04   0.    -0.004]\n",
      "yt : [INFO     ] 2024-07-05 14:15:15,375 Parameters: domain_right_edge         = [0.04  0.08  0.004]\n",
      "yt : [INFO     ] 2024-07-05 14:15:15,375 Parameters: cosmological_simulation   = 0\n"
     ]
    },
    {
     "name": "stdout",
     "output_type": "stream",
     "text": [
      "dict_keys(['dens', 'tele', 'tion', 'ye'])\n"
     ]
    }
   ],
   "source": [
    "data_dict, time_now = get_yt_data_2d(filedir[0]+filename)\n",
    "print(data_dict.keys())"
   ]
  },
  {
   "cell_type": "code",
   "execution_count": 21,
   "metadata": {},
   "outputs": [
    {
     "name": "stdout",
     "output_type": "stream",
     "text": [
      "(64, 64)\n"
     ]
    },
    {
     "name": "stderr",
     "output_type": "stream",
     "text": [
      "/var/folders/2t/97rc3fl92tg15k2l_4sk5hsh0000gn/T/ipykernel_38989/1344430252.py:3: MatplotlibDeprecationWarning: The get_cmap function was deprecated in Matplotlib 3.7 and will be removed two minor releases later. Use ``matplotlib.colormaps[name]`` or ``matplotlib.colormaps.get_cmap(obj)`` instead.\n",
      "  jetcmap = plt.cm.get_cmap(\"jet\", 9) #generate a jet map with 10 values \"rainbow\", \"jet\", YlOrRd\n"
     ]
    },
    {
     "data": {
      "image/png": "[encoded data removed]",
      "text/plain": [
       "<Figure size 348.7x348.7 with 2 Axes>"
      ]
     },
     "metadata": {},
     "output_type": "display_data"
    }
   ],
   "source": [
    "import matplotlib as mpl\n",
    "\n",
    "jetcmap = plt.cm.get_cmap(\"jet\", 9) #generate a jet map with 10 values \"rainbow\", \"jet\", YlOrRd\n",
    "jet_vals = jetcmap(np.arange(9)) #extract those values as an array \n",
    "jet_vals[0] = [1.0, 1, 1.0, 1] #change the first value \n",
    "jet_vals[8] = [0.0, 0, 0.0, 1] #change the first value \n",
    "newcmap = mpl.colors.LinearSegmentedColormap.from_list(\"mine\", jet_vals) \n",
    "\n",
    "width  = 3.487 * 1.0\n",
    "height = width #/ 1.618 * 0.8\n",
    "\n",
    "# fig = plt.figure(figsize=(width, height))\n",
    "\n",
    "fig, ax = plt.subplots()\n",
    "fig.subplots_adjust(left=.15, bottom=.16, right=.99, top=.97)\n",
    "print(data_dict['dens'].shape)\n",
    "f1 = ax.imshow(np.log10(data_dict['dens'].T),\n",
    "           # cmap='magma_r',\n",
    "               cmap=newcmap,\n",
    "           origin='lower',\n",
    "        #    extent=[0,1,0,2],\n",
    "        #    vmin=-6,\n",
    "        #    vmax=-2,\n",
    "           aspect='equal',\n",
    "          )\n",
    "\n",
    "# ax.set_xlim(0,1)\n",
    "# ax.set_ylim(0,2)\n",
    "# ax.set_xlabel('r (cm)')\n",
    "# ax.set_ylabel('z (cm)')\n",
    "ax.set_title('Time = {:.1f} ns'.format(time_now))\n",
    "\n",
    "cbar = fig.colorbar(f1)\n",
    "cbar.ax.set_ylabel(r'Log$_{10}$ $\\rho$ (g/cm$^{-3}$)')\n",
    "# cbar.minorticks_on()\n",
    "cbar.cmap.set_under('white')\n",
    "cbar.cmap.set_over('black')\n",
    "# cbar\n",
    "\n",
    "# Colorbar\n",
    "# grid[1].cax.colorbar(im1)\n",
    "# grid[1].cax.cla()\n",
    "# mpl.colorbar.Colorbar(grid[1].cax,im1)\n",
    "# grid[1].cax.toggle_label(True)\n",
    "# grid[1].cax.tick_params(size=0)\n",
    "# grid[1].cax.toggle_label(True)\n",
    "# fig.tight_layout()\n",
    "\n",
    "fig.set_size_inches(width, height)\n",
    "fig.tight_layout()\n",
    "plt.show()"
   ]
  },
  {
   "cell_type": "code",
   "execution_count": 9,
   "metadata": {},
   "outputs": [
    {
     "ename": "TypeError",
     "evalue": "tuple indices must be integers or slices, not str",
     "output_type": "error",
     "traceback": [
      "\u001b[0;31m---------------------------------------------------------------------------\u001b[0m",
      "\u001b[0;31mTypeError\u001b[0m                                 Traceback (most recent call last)",
      "Cell \u001b[0;32mIn[9], line 1\u001b[0m\n\u001b[0;32m----> 1\u001b[0m \u001b[43mdata_dict\u001b[49m\u001b[43m[\u001b[49m\u001b[38;5;124;43m'\u001b[39;49m\u001b[38;5;124;43mdens\u001b[39;49m\u001b[38;5;124;43m'\u001b[39;49m\u001b[43m]\u001b[49m\n",
      "\u001b[0;31mTypeError\u001b[0m: tuple indices must be integers or slices, not str"
     ]
    }
   ],
   "source": [
    "data_dict['dens']"
   ]
  },
  {
   "cell_type": "code",
   "execution_count": null,
   "metadata": {},
   "outputs": [],
   "source": []
  }
 ],
 "metadata": {
  "kernelspec": {
   "display_name": "Python 3",
   "language": "python",
   "name": "python3"
  },
  "language_info": {
   "codemirror_mode": {
    "name": "ipython",
    "version": 3
   },
   "file_extension": ".py",
   "mimetype": "text/x-python",
   "name": "python",
   "nbconvert_exporter": "python",
   "pygments_lexer": "ipython3",
   "version": "3.9.19"
  }
 },
 "nbformat": 4,
 "nbformat_minor": 2
}
