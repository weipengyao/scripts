{
 "cells": [
  {
   "cell_type": "code",
   "execution_count": 1,
   "metadata": {},
   "outputs": [],
   "source": [
    "import yt\n",
    "import matplotlib.pyplot  as plt\n",
    "import numpy as np"
   ]
  },
  {
   "cell_type": "code",
   "execution_count": 2,
   "metadata": {},
   "outputs": [],
   "source": [
    "def get_yt_data_1d(filename):\n",
    "\n",
    "    j_idx = 0\n",
    "    k_idx = 0\n",
    "    fields_list = [\"x\", \"dens\", \"tele\", \"tion\", \"trad\",\n",
    "                   \"ye\", \"sumy\"]\n",
    "\n",
    "    data_yt = yt.load(filename)\n",
    "    data_yt_map = data_yt.covering_grid(\n",
    "        level=0, left_edge=[0, 0.0, 0.0], dims=data_yt.domain_dimensions\n",
    "    )\n",
    "\n",
    "    data_dict = {}\n",
    "    for f in fields_list:\n",
    "        data_dict[f] = data_yt_map[f][:,j_idx,k_idx]\n",
    "    return data_dict"
   ]
  },
  {
   "cell_type": "code",
   "execution_count": 13,
   "metadata": {},
   "outputs": [],
   "source": [
    "def get_yt_data_2d(filename):\n",
    "\n",
    "    k_idx = 0\n",
    "    fields_list = [\"x\", \"dens\", \"tele\", \"tion\", \"trad\",\n",
    "                   \"ye\", \"sumy\"]\n",
    "\n",
    "    data_yt = yt.load(filename)\n",
    "    data_yt_map = data_yt.covering_grid(\n",
    "        level=0, left_edge=[0, 0.0, 0.0], dims=data_yt.domain_dimensions\n",
    "    )\n",
    "\n",
    "    data_dict = {}\n",
    "    for f in fields_list:\n",
    "        data_dict[f] = data_yt_map[f][:,:,k_idx]\n",
    "    return data_dict"
   ]
  },
  {
   "cell_type": "code",
   "execution_count": 3,
   "metadata": {},
   "outputs": [],
   "source": [
    "filedir = [\n",
    "            '/Users/yao/Desktop/Data/Opacity/job.75645/', # v4.8 \n",
    "          ] \n",
    "\n",
    "filename = 'radslab_hdf5_chk_0001'  # check the mass fraction for the negative energy"
   ]
  },
  {
   "cell_type": "code",
   "execution_count": 4,
   "metadata": {},
   "outputs": [
    {
     "name": "stderr",
     "output_type": "stream",
     "text": [
      "yt : [INFO     ] 2024-07-04 14:57:15,475 Particle file found: radslab_hdf5_chk_0001\n",
      "yt : [INFO     ] 2024-07-04 14:57:15,504 Parameters: current_time              = 1.0068787299791537e-10\n",
      "yt : [INFO     ] 2024-07-04 14:57:15,505 Parameters: domain_dimensions         = [64 64  1]\n",
      "yt : [INFO     ] 2024-07-04 14:57:15,505 Parameters: domain_left_edge          = [-0.004  0.    -0.004]\n",
      "yt : [INFO     ] 2024-07-04 14:57:15,505 Parameters: domain_right_edge         = [0.004 0.04  0.004]\n",
      "yt : [INFO     ] 2024-07-04 14:57:15,506 Parameters: cosmological_simulation   = 0\n"
     ]
    }
   ],
   "source": [
    "data_yt = yt.load(filedir[0]+filename)\n",
    "data_yt_map = data_yt.covering_grid(level=0, left_edge=[0, 0.0, 0.0], dims=data_yt.domain_dimensions)\n",
    "time_now = np.array(data_yt.current_time)*1e9"
   ]
  },
  {
   "cell_type": "code",
   "execution_count": 5,
   "metadata": {},
   "outputs": [
    {
     "data": {
      "text/plain": [
       "[('flash', 'absr'),\n",
       " ('flash', 'cham'),\n",
       " ('flash', 'cond'),\n",
       " ('flash', 'dbgs'),\n",
       " ('flash', 'dens'),\n",
       " ('flash', 'dfcf'),\n",
       " ('flash', 'eele'),\n",
       " ('flash', 'eint'),\n",
       " ('flash', 'eion'),\n",
       " ('flash', 'emis'),\n",
       " ('flash', 'ener'),\n",
       " ('flash', 'erad'),\n",
       " ('flash', 'fllm'),\n",
       " ('flash', 'gamc'),\n",
       " ('flash', 'game'),\n",
       " ('flash', 'mgdc'),\n",
       " ('flash', 'pele'),\n",
       " ('flash', 'pion'),\n",
       " ('flash', 'pipe'),\n",
       " ('flash', 'prad'),\n",
       " ('flash', 'pres'),\n",
       " ('flash', 'r001'),\n",
       " ('flash', 'r002'),\n",
       " ('flash', 'r003'),\n",
       " ('flash', 'r004'),\n",
       " ('flash', 'r005'),\n",
       " ('flash', 'r006'),\n",
       " ('flash', 'shok'),\n",
       " ('flash', 'sumy'),\n",
       " ('flash', 'targ'),\n",
       " ('flash', 'tele'),\n",
       " ('flash', 'temp'),\n",
       " ('flash', 'tion'),\n",
       " ('flash', 'tite'),\n",
       " ('flash', 'trad'),\n",
       " ('flash', 'velx'),\n",
       " ('flash', 'vely'),\n",
       " ('flash', 'velz'),\n",
       " ('flash', 'volx'),\n",
       " ('flash', 'voly'),\n",
       " ('flash', 'volz'),\n",
       " ('flash', 'ye')]"
      ]
     },
     "execution_count": 5,
     "metadata": {},
     "output_type": "execute_result"
    }
   ],
   "source": [
    "data_yt.field_list"
   ]
  },
  {
   "cell_type": "code",
   "execution_count": 17,
   "metadata": {},
   "outputs": [
    {
     "name": "stderr",
     "output_type": "stream",
     "text": [
      "yt : [INFO     ] 2024-07-04 15:03:40,471 Particle file found: radslab_hdf5_chk_0001\n"
     ]
    },
    {
     "name": "stderr",
     "output_type": "stream",
     "text": [
      "yt : [INFO     ] 2024-07-04 15:03:40,536 Parameters: current_time              = 1.0068787299791537e-10\n",
      "yt : [INFO     ] 2024-07-04 15:03:40,536 Parameters: domain_dimensions         = [64 64  1]\n",
      "yt : [INFO     ] 2024-07-04 15:03:40,536 Parameters: domain_left_edge          = [-0.004  0.    -0.004]\n",
      "yt : [INFO     ] 2024-07-04 15:03:40,537 Parameters: domain_right_edge         = [0.004 0.04  0.004]\n",
      "yt : [INFO     ] 2024-07-04 15:03:40,537 Parameters: cosmological_simulation   = 0\n"
     ]
    },
    {
     "ename": "RuntimeError",
     "evalue": "yt attempted to read outside the boundaries of a non-periodic domain along dimension 0.\nRegion left edge = 0.0 code_length, Region right edge = 0.008 code_length\nDataset left edge = -0.004 code_length, Dataset right edge = 0.004 code_length\n\nThis commonly happens when trying to compute ghost cells up to the domain boundary. Two possible solutions are to select a smaller region that does not border domain edge (see https://yt-project.org/docs/analyzing/objects.html?highlight=region)\nor override the periodicity with\nds.force_periodicity()",
     "output_type": "error",
     "traceback": [
      "\u001b[0;31m---------------------------------------------------------------------------\u001b[0m",
      "\u001b[0;31mRuntimeError\u001b[0m                              Traceback (most recent call last)",
      "Cell \u001b[0;32mIn[17], line 1\u001b[0m\n\u001b[0;32m----> 1\u001b[0m data_dict \u001b[38;5;241m=\u001b[39m \u001b[43mget_yt_data_2d\u001b[49m\u001b[43m(\u001b[49m\u001b[43mfiledir\u001b[49m\u001b[43m[\u001b[49m\u001b[38;5;241;43m0\u001b[39;49m\u001b[43m]\u001b[49m\u001b[38;5;241;43m+\u001b[39;49m\u001b[43mfilename\u001b[49m\u001b[43m)\u001b[49m\n",
      "Cell \u001b[0;32mIn[13], line 14\u001b[0m, in \u001b[0;36mget_yt_data_2d\u001b[0;34m(filename)\u001b[0m\n\u001b[1;32m     12\u001b[0m data_dict \u001b[38;5;241m=\u001b[39m {}\n\u001b[1;32m     13\u001b[0m \u001b[38;5;28;01mfor\u001b[39;00m f \u001b[38;5;129;01min\u001b[39;00m fields_list:\n\u001b[0;32m---> 14\u001b[0m     data_dict[f] \u001b[38;5;241m=\u001b[39m \u001b[43mdata_yt_map\u001b[49m\u001b[43m[\u001b[49m\u001b[43mf\u001b[49m\u001b[43m]\u001b[49m[:,:,k_idx]\n\u001b[1;32m     15\u001b[0m \u001b[38;5;28;01mreturn\u001b[39;00m data_dict\n",
      "File \u001b[0;32m/opt/homebrew/lib/python3.9/site-packages/yt/data_objects/data_containers.py:235\u001b[0m, in \u001b[0;36mYTDataContainer.__getitem__\u001b[0;34m(self, key)\u001b[0m\n\u001b[1;32m    233\u001b[0m         \u001b[38;5;28;01mreturn\u001b[39;00m \u001b[38;5;28mself\u001b[39m\u001b[38;5;241m.\u001b[39mfield_data[f]\n\u001b[1;32m    234\u001b[0m     \u001b[38;5;28;01melse\u001b[39;00m:\n\u001b[0;32m--> 235\u001b[0m         \u001b[38;5;28;43mself\u001b[39;49m\u001b[38;5;241;43m.\u001b[39;49m\u001b[43mget_data\u001b[49m\u001b[43m(\u001b[49m\u001b[43mf\u001b[49m\u001b[43m)\u001b[49m\n\u001b[1;32m    236\u001b[0m \u001b[38;5;66;03m# fi.units is the unit expression string. We depend on the registry\u001b[39;00m\n\u001b[1;32m    237\u001b[0m \u001b[38;5;66;03m# hanging off the dataset to define this unit object.\u001b[39;00m\n\u001b[1;32m    238\u001b[0m \u001b[38;5;66;03m# Note that this is less succinct so that we can account for the case\u001b[39;00m\n\u001b[1;32m    239\u001b[0m \u001b[38;5;66;03m# when there are, for example, no elements in the object.\u001b[39;00m\n\u001b[1;32m    240\u001b[0m \u001b[38;5;28;01mtry\u001b[39;00m:\n",
      "File \u001b[0;32m/opt/homebrew/lib/python3.9/site-packages/yt/data_objects/construction_data_containers.py:907\u001b[0m, in \u001b[0;36mYTCoveringGrid.get_data\u001b[0;34m(self, fields)\u001b[0m\n\u001b[1;32m    904\u001b[0m         \u001b[38;5;28mself\u001b[39m\u001b[38;5;241m.\u001b[39m_fill_particles(part)\n\u001b[1;32m    906\u001b[0m \u001b[38;5;28;01mif\u001b[39;00m \u001b[38;5;28mlen\u001b[39m(fill) \u001b[38;5;241m>\u001b[39m \u001b[38;5;241m0\u001b[39m:\n\u001b[0;32m--> 907\u001b[0m     \u001b[38;5;28;43mself\u001b[39;49m\u001b[38;5;241;43m.\u001b[39;49m\u001b[43m_fill_fields\u001b[49m\u001b[43m(\u001b[49m\u001b[43mfill\u001b[49m\u001b[43m)\u001b[49m\n\u001b[1;32m    908\u001b[0m \u001b[38;5;28;01mfor\u001b[39;00m a, f \u001b[38;5;129;01min\u001b[39;00m \u001b[38;5;28msorted\u001b[39m(alias\u001b[38;5;241m.\u001b[39mitems()):\n\u001b[1;32m    909\u001b[0m     \u001b[38;5;28;01mif\u001b[39;00m f\u001b[38;5;241m.\u001b[39msampling_type \u001b[38;5;241m==\u001b[39m \u001b[38;5;124m\"\u001b[39m\u001b[38;5;124mparticle\u001b[39m\u001b[38;5;124m\"\u001b[39m \u001b[38;5;129;01mand\u001b[39;00m \u001b[38;5;129;01mnot\u001b[39;00m is_sph_field:\n",
      "File \u001b[0;32m/opt/homebrew/lib/python3.9/site-packages/yt/data_objects/construction_data_containers.py:1107\u001b[0m, in \u001b[0;36mYTCoveringGrid._fill_fields\u001b[0;34m(self, fields)\u001b[0m\n\u001b[1;32m   1105\u001b[0m     refine_by \u001b[38;5;241m=\u001b[39m [refine_by, refine_by, refine_by]\n\u001b[1;32m   1106\u001b[0m refine_by \u001b[38;5;241m=\u001b[39m np\u001b[38;5;241m.\u001b[39marray(refine_by, dtype\u001b[38;5;241m=\u001b[39m\u001b[38;5;124m\"\u001b[39m\u001b[38;5;124mi8\u001b[39m\u001b[38;5;124m\"\u001b[39m)\n\u001b[0;32m-> 1107\u001b[0m \u001b[38;5;28;01mfor\u001b[39;00m chunk \u001b[38;5;129;01min\u001b[39;00m parallel_objects(\u001b[38;5;28mself\u001b[39m\u001b[38;5;241m.\u001b[39m_data_source\u001b[38;5;241m.\u001b[39mchunks(fields, \u001b[38;5;124m\"\u001b[39m\u001b[38;5;124mio\u001b[39m\u001b[38;5;124m\"\u001b[39m)):\n\u001b[1;32m   1108\u001b[0m     input_fields \u001b[38;5;241m=\u001b[39m [chunk[field] \u001b[38;5;28;01mfor\u001b[39;00m field \u001b[38;5;129;01min\u001b[39;00m fields]\n\u001b[1;32m   1109\u001b[0m     \u001b[38;5;66;03m# NOTE: This usage of \"refine_by\" is actually *okay*, because it's\u001b[39;00m\n\u001b[1;32m   1110\u001b[0m     \u001b[38;5;66;03m# being used with respect to iref, which is *already* scaled!\u001b[39;00m\n",
      "File \u001b[0;32m/opt/homebrew/lib/python3.9/site-packages/yt/utilities/parallel_tools/parallel_analysis_interface.py:562\u001b[0m, in \u001b[0;36mparallel_objects\u001b[0;34m(objects, njobs, storage, barrier, dynamic)\u001b[0m\n\u001b[1;32m    559\u001b[0m \u001b[38;5;66;03m# If our objects object is slice-aware, like time series data objects are,\u001b[39;00m\n\u001b[1;32m    560\u001b[0m \u001b[38;5;66;03m# this will prevent intermediate objects from being created.\u001b[39;00m\n\u001b[1;32m    561\u001b[0m oiter \u001b[38;5;241m=\u001b[39m itertools\u001b[38;5;241m.\u001b[39mislice(\u001b[38;5;28menumerate\u001b[39m(objects), my_new_id, \u001b[38;5;28;01mNone\u001b[39;00m, njobs)\n\u001b[0;32m--> 562\u001b[0m \u001b[38;5;28;01mfor\u001b[39;00m result_id, obj \u001b[38;5;129;01min\u001b[39;00m oiter:\n\u001b[1;32m    563\u001b[0m     \u001b[38;5;28;01mif\u001b[39;00m storage \u001b[38;5;129;01mis\u001b[39;00m \u001b[38;5;129;01mnot\u001b[39;00m \u001b[38;5;28;01mNone\u001b[39;00m:\n\u001b[1;32m    564\u001b[0m         rstore \u001b[38;5;241m=\u001b[39m ResultsStorage()\n",
      "File \u001b[0;32m/opt/homebrew/lib/python3.9/site-packages/yt/data_objects/selection_objects/data_selection_objects.py:94\u001b[0m, in \u001b[0;36mYTSelectionContainer.chunks\u001b[0;34m(self, fields, chunking_style, **kwargs)\u001b[0m\n\u001b[1;32m     92\u001b[0m \u001b[38;5;28;01mdef\u001b[39;00m \u001b[38;5;21mchunks\u001b[39m(\u001b[38;5;28mself\u001b[39m, fields, chunking_style, \u001b[38;5;241m*\u001b[39m\u001b[38;5;241m*\u001b[39mkwargs):\n\u001b[1;32m     93\u001b[0m     \u001b[38;5;66;03m# This is an iterator that will yield the necessary chunks.\u001b[39;00m\n\u001b[0;32m---> 94\u001b[0m     \u001b[38;5;28;43mself\u001b[39;49m\u001b[38;5;241;43m.\u001b[39;49m\u001b[43mget_data\u001b[49m\u001b[43m(\u001b[49m\u001b[43m)\u001b[49m  \u001b[38;5;66;03m# Ensure we have built ourselves\u001b[39;00m\n\u001b[1;32m     95\u001b[0m     \u001b[38;5;28;01mif\u001b[39;00m fields \u001b[38;5;129;01mis\u001b[39;00m \u001b[38;5;28;01mNone\u001b[39;00m:\n\u001b[1;32m     96\u001b[0m         fields \u001b[38;5;241m=\u001b[39m []\n",
      "File \u001b[0;32m/opt/homebrew/lib/python3.9/site-packages/yt/data_objects/selection_objects/data_selection_objects.py:139\u001b[0m, in \u001b[0;36mYTSelectionContainer.get_data\u001b[0;34m(self, fields)\u001b[0m\n\u001b[1;32m    137\u001b[0m \u001b[38;5;28;01mdef\u001b[39;00m \u001b[38;5;21mget_data\u001b[39m(\u001b[38;5;28mself\u001b[39m, fields\u001b[38;5;241m=\u001b[39m\u001b[38;5;28;01mNone\u001b[39;00m):\n\u001b[1;32m    138\u001b[0m     \u001b[38;5;28;01mif\u001b[39;00m \u001b[38;5;28mself\u001b[39m\u001b[38;5;241m.\u001b[39m_current_chunk \u001b[38;5;129;01mis\u001b[39;00m \u001b[38;5;28;01mNone\u001b[39;00m:\n\u001b[0;32m--> 139\u001b[0m         \u001b[38;5;28;43mself\u001b[39;49m\u001b[38;5;241;43m.\u001b[39;49m\u001b[43mindex\u001b[49m\u001b[38;5;241;43m.\u001b[39;49m\u001b[43m_identify_base_chunk\u001b[49m\u001b[43m(\u001b[49m\u001b[38;5;28;43mself\u001b[39;49m\u001b[43m)\u001b[49m\n\u001b[1;32m    140\u001b[0m     \u001b[38;5;28;01mif\u001b[39;00m fields \u001b[38;5;129;01mis\u001b[39;00m \u001b[38;5;28;01mNone\u001b[39;00m:\n\u001b[1;32m    141\u001b[0m         \u001b[38;5;28;01mreturn\u001b[39;00m\n",
      "File \u001b[0;32m/opt/homebrew/lib/python3.9/site-packages/yt/geometry/grid_geometry_handler.py:333\u001b[0m, in \u001b[0;36mGridIndex._identify_base_chunk\u001b[0;34m(self, dobj)\u001b[0m\n\u001b[1;32m    331\u001b[0m     dobj\u001b[38;5;241m.\u001b[39m_chunk_info[\u001b[38;5;241m0\u001b[39m] \u001b[38;5;241m=\u001b[39m weakref\u001b[38;5;241m.\u001b[39mproxy(dobj)\n\u001b[1;32m    332\u001b[0m \u001b[38;5;28;01melif\u001b[39;00m \u001b[38;5;28mgetattr\u001b[39m(dobj, \u001b[38;5;124m\"\u001b[39m\u001b[38;5;124m_grids\u001b[39m\u001b[38;5;124m\"\u001b[39m, \u001b[38;5;28;01mNone\u001b[39;00m) \u001b[38;5;129;01mis\u001b[39;00m \u001b[38;5;28;01mNone\u001b[39;00m:\n\u001b[0;32m--> 333\u001b[0m     gi \u001b[38;5;241m=\u001b[39m \u001b[43mdobj\u001b[49m\u001b[38;5;241;43m.\u001b[39;49m\u001b[43mselector\u001b[49m\u001b[38;5;241m.\u001b[39mselect_grids(\n\u001b[1;32m    334\u001b[0m         \u001b[38;5;28mself\u001b[39m\u001b[38;5;241m.\u001b[39mgrid_left_edge, \u001b[38;5;28mself\u001b[39m\u001b[38;5;241m.\u001b[39mgrid_right_edge, \u001b[38;5;28mself\u001b[39m\u001b[38;5;241m.\u001b[39mgrid_levels\n\u001b[1;32m    335\u001b[0m     )\n\u001b[1;32m    336\u001b[0m     \u001b[38;5;28;01mif\u001b[39;00m \u001b[38;5;28many\u001b[39m(g\u001b[38;5;241m.\u001b[39mfilename \u001b[38;5;129;01mis\u001b[39;00m \u001b[38;5;129;01mnot\u001b[39;00m \u001b[38;5;28;01mNone\u001b[39;00m \u001b[38;5;28;01mfor\u001b[39;00m g \u001b[38;5;129;01min\u001b[39;00m \u001b[38;5;28mself\u001b[39m\u001b[38;5;241m.\u001b[39mgrids[gi]):\n\u001b[1;32m    337\u001b[0m         _gsort \u001b[38;5;241m=\u001b[39m _grid_sort_mixed\n",
      "File \u001b[0;32m/opt/homebrew/lib/python3.9/site-packages/yt/data_objects/selection_objects/data_selection_objects.py:89\u001b[0m, in \u001b[0;36mYTSelectionContainer.selector\u001b[0;34m(self)\u001b[0m\n\u001b[1;32m     85\u001b[0m     \u001b[38;5;28mself\u001b[39m\u001b[38;5;241m.\u001b[39m_selector \u001b[38;5;241m=\u001b[39m compose_selector(\n\u001b[1;32m     86\u001b[0m         \u001b[38;5;28mself\u001b[39m, \u001b[38;5;28mself\u001b[39m\u001b[38;5;241m.\u001b[39m_data_source\u001b[38;5;241m.\u001b[39mselector, sclass(\u001b[38;5;28mself\u001b[39m)\n\u001b[1;32m     87\u001b[0m     )\n\u001b[1;32m     88\u001b[0m \u001b[38;5;28;01melse\u001b[39;00m:\n\u001b[0;32m---> 89\u001b[0m     \u001b[38;5;28mself\u001b[39m\u001b[38;5;241m.\u001b[39m_selector \u001b[38;5;241m=\u001b[39m \u001b[43msclass\u001b[49m\u001b[43m(\u001b[49m\u001b[38;5;28;43mself\u001b[39;49m\u001b[43m)\u001b[49m\n\u001b[1;32m     90\u001b[0m \u001b[38;5;28;01mreturn\u001b[39;00m \u001b[38;5;28mself\u001b[39m\u001b[38;5;241m.\u001b[39m_selector\n",
      "File \u001b[0;32m/opt/homebrew/lib/python3.9/site-packages/yt/geometry/_selection_routines/region_selector.pxi:60\u001b[0m, in \u001b[0;36myt.geometry.selection_routines.RegionSelector.__init__\u001b[0;34m()\u001b[0m\n",
      "\u001b[0;31mRuntimeError\u001b[0m: yt attempted to read outside the boundaries of a non-periodic domain along dimension 0.\nRegion left edge = 0.0 code_length, Region right edge = 0.008 code_length\nDataset left edge = -0.004 code_length, Dataset right edge = 0.004 code_length\n\nThis commonly happens when trying to compute ghost cells up to the domain boundary. Two possible solutions are to select a smaller region that does not border domain edge (see https://yt-project.org/docs/analyzing/objects.html?highlight=region)\nor override the periodicity with\nds.force_periodicity()"
     ]
    }
   ],
   "source": [
    "data_dict = get_yt_data_2d(filedir[0]+filename)"
   ]
  },
  {
   "cell_type": "code",
   "execution_count": 18,
   "metadata": {},
   "outputs": [
    {
     "ename": "ModuleNotFoundError",
     "evalue": "No module named 'flash'",
     "output_type": "error",
     "traceback": [
      "\u001b[0;31m---------------------------------------------------------------------------\u001b[0m",
      "\u001b[0;31mModuleNotFoundError\u001b[0m                       Traceback (most recent call last)",
      "Cell \u001b[0;32mIn[18], line 1\u001b[0m\n\u001b[0;32m----> 1\u001b[0m \u001b[38;5;28;01mfrom\u001b[39;00m \u001b[38;5;21;01mflash\u001b[39;00m \u001b[38;5;28;01mimport\u001b[39;00m output\n",
      "\u001b[0;31mModuleNotFoundError\u001b[0m: No module named 'flash'"
     ]
    }
   ],
   "source": [
    "from flash import output"
   ]
  },
  {
   "cell_type": "code",
   "execution_count": null,
   "metadata": {},
   "outputs": [],
   "source": []
  }
 ],
 "metadata": {
  "kernelspec": {
   "display_name": "Python 3",
   "language": "python",
   "name": "python3"
  },
  "language_info": {
   "codemirror_mode": {
    "name": "ipython",
    "version": 3
   },
   "file_extension": ".py",
   "mimetype": "text/x-python",
   "name": "python",
   "nbconvert_exporter": "python",
   "pygments_lexer": "ipython3",
   "version": "3.9.undefined"
  }
 },
 "nbformat": 4,
 "nbformat_minor": 2
}
