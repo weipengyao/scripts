{
 "cells": [
  {
   "cell_type": "code",
   "execution_count": 1,
   "metadata": {},
   "outputs": [],
   "source": [
    "import yt\n",
    "import matplotlib.pyplot  as plt\n",
    "import numpy as np"
   ]
  },
  {
   "cell_type": "code",
   "execution_count": 22,
   "metadata": {},
   "outputs": [
    {
     "name": "stderr",
     "output_type": "stream",
     "text": [
      "/var/folders/2t/97rc3fl92tg15k2l_4sk5hsh0000gn/T/ipykernel_56637/1482973336.py:3: MatplotlibDeprecationWarning: The get_cmap function was deprecated in Matplotlib 3.7 and will be removed two minor releases later. Use ``matplotlib.colormaps[name]`` or ``matplotlib.colormaps.get_cmap(obj)`` instead.\n",
      "  jetcmap = plt.cm.get_cmap(\"jet\", 9) #generate a jet map with 10 values \"rainbow\", \"jet\", YlOrRd\n"
     ]
    }
   ],
   "source": [
    "import matplotlib as mpl\n",
    "\n",
    "jetcmap = plt.cm.get_cmap(\"jet\", 9) #generate a jet map with 10 values \"rainbow\", \"jet\", YlOrRd\n",
    "jet_vals = jetcmap(np.arange(9)) #extract those values as an array \n",
    "jet_vals[0] = [1.0, 1, 1.0, 1] #change the first value \n",
    "jet_vals[8] = [0.0, 0, 0.0, 1] #change the first value \n",
    "newcmap = mpl.colors.LinearSegmentedColormap.from_list(\"mine\", jet_vals) \n",
    "\n",
    "from matplotlib import font_manager\n",
    "\n",
    "font_dirs = ['/Users/yao/Documents/Calibri and Cambria Fonts/']\n",
    "font_files = font_manager.findSystemFonts(fontpaths=font_dirs)\n",
    "\n",
    "for font_file in font_files:\n",
    "    font_manager.fontManager.addfont(font_file)\n",
    "\n",
    "# set font\n",
    "plt.rcParams['font.family'] = 'Calibri'\n",
    "\n",
    "plt.rc('text', usetex=False)\n",
    "plt.rc('xtick', labelsize=12)\n",
    "plt.rc('ytick', labelsize=12)\n",
    "plt.rc('axes', labelsize=12)\n",
    "plt.rc('legend', fontsize=10)"
   ]
  },
  {
   "cell_type": "code",
   "execution_count": 46,
   "metadata": {},
   "outputs": [],
   "source": [
    "filedir = [\n",
    "            '/Users/yao/Desktop/job.78228/', # v4.8 \n",
    "          ] \n",
    "\n",
    "filename = 'radslab_hdf5_chk_0001'  # check the mass fraction for the negative energy"
   ]
  },
  {
   "cell_type": "code",
   "execution_count": 48,
   "metadata": {},
   "outputs": [
    {
     "name": "stderr",
     "output_type": "stream",
     "text": [
      "yt : [INFO     ] 2024-09-24 21:54:54,938 Particle file found: radslab_hdf5_chk_0001\n"
     ]
    },
    {
     "name": "stderr",
     "output_type": "stream",
     "text": [
      "yt : [INFO     ] 2024-09-24 21:54:54,962 Parameters: current_time              = 1.0176451422381804e-10\n",
      "yt : [INFO     ] 2024-09-24 21:54:54,962 Parameters: domain_dimensions         = [512   1   1]\n",
      "yt : [INFO     ] 2024-09-24 21:54:54,962 Parameters: domain_left_edge          = [-0.0002  0.     -0.004 ]\n",
      "yt : [INFO     ] 2024-09-24 21:54:54,963 Parameters: domain_right_edge         = [0.0002 0.032  0.004 ]\n",
      "yt : [INFO     ] 2024-09-24 21:54:54,963 Parameters: cosmological_simulation   = 0\n"
     ]
    }
   ],
   "source": [
    "data_yt = yt.load(filedir[0]+filename)\n",
    "data_yt_map = data_yt.covering_grid(level=0, left_edge=[0, 0.0, 0.0], dims=data_yt.domain_dimensions)\n",
    "time_now = np.array(data_yt.current_time)*1e9"
   ]
  },
  {
   "cell_type": "code",
   "execution_count": 39,
   "metadata": {},
   "outputs": [],
   "source": [
    "# read the domain_left_edge info from the output above\n",
    "# and fix the left_edge down there\n",
    "\n",
    "def get_yt_data_1d(filename):\n",
    "\n",
    "    j_idx = 0\n",
    "    k_idx = 0\n",
    "    fields_list = [\"x\", \"dens\", \"tele\", \"tion\", \"trad\",\n",
    "                   \"pres\", \"temp\", \"cham\", \"targ\", \"tar2\",\n",
    "                   \"velx\", \"ye\", \n",
    "                #    \"magz\"\n",
    "                   ]\n",
    "\n",
    "    data_yt = yt.load(filename)\n",
    "    data_yt_map = data_yt.covering_grid(\n",
    "        level=0, left_edge=[-0.0002, 0.0, -0.004], dims=data_yt.domain_dimensions\n",
    "    )\n",
    "    time_now = np.array(data_yt.current_time)*1e9\n",
    "\n",
    "    data_dict = {}\n",
    "    for f in fields_list:\n",
    "        data_dict[f] = data_yt_map[f][:,j_idx,k_idx]\n",
    "    return data_dict, time_now"
   ]
  },
  {
   "cell_type": "code",
   "execution_count": 6,
   "metadata": {},
   "outputs": [],
   "source": [
    "def get_yt_data_2d(filename):\n",
    "\n",
    "    k_idx = 0\n",
    "    fields_list = [\"dens\", \"tele\", \"tion\",'trad', 'pres',\n",
    "                #    \"depo\",\n",
    "                #    \"pres\", \"temp\", \"cham\", \"targ\", \n",
    "                #    \"velx\", \n",
    "                   \"ye\"]\n",
    "\n",
    "    data_yt = yt.load(filename)\n",
    "    data_yt_map = data_yt.covering_grid(\n",
    "        level=0, left_edge=[-0.0002, 0.0, -0.004], dims=data_yt.domain_dimensions\n",
    "    ) # note here about the left_edge in x,y,z.\n",
    "    time_now = np.array(data_yt.current_time)*1e9\n",
    "\n",
    "    data_dict = {}\n",
    "    for f in fields_list:\n",
    "        # data_dict[f] = data_yt_map[f][k_idx,:] # careful here about which axis is which\n",
    "        data_dict[f] = data_yt_map[f][:,:,k_idx] # careful here about which axis is which\n",
    "    return data_dict, time_now"
   ]
  },
  {
   "cell_type": "code",
   "execution_count": 18,
   "metadata": {},
   "outputs": [
    {
     "data": {
      "text/plain": [
       "[('flash', 'absr'),\n",
       " ('flash', 'cham'),\n",
       " ('flash', 'cond'),\n",
       " ('flash', 'dbgs'),\n",
       " ('flash', 'dens'),\n",
       " ('flash', 'dfcf'),\n",
       " ('flash', 'eele'),\n",
       " ('flash', 'eint'),\n",
       " ('flash', 'eion'),\n",
       " ('flash', 'emis'),\n",
       " ('flash', 'ener'),\n",
       " ('flash', 'erad'),\n",
       " ('flash', 'fllm'),\n",
       " ('flash', 'gamc'),\n",
       " ('flash', 'game'),\n",
       " ('flash', 'mgdc'),\n",
       " ('flash', 'pele'),\n",
       " ('flash', 'pion'),\n",
       " ('flash', 'pipe'),\n",
       " ('flash', 'prad'),\n",
       " ('flash', 'pres'),\n",
       " ('flash', 'r001'),\n",
       " ('flash', 'r002'),\n",
       " ('flash', 'r003'),\n",
       " ('flash', 'r004'),\n",
       " ('flash', 'r005'),\n",
       " ('flash', 'r006'),\n",
       " ('flash', 'shok'),\n",
       " ('flash', 'sumy'),\n",
       " ('flash', 'tar2'),\n",
       " ('flash', 'targ'),\n",
       " ('flash', 'tele'),\n",
       " ('flash', 'temp'),\n",
       " ('flash', 'tion'),\n",
       " ('flash', 'tite'),\n",
       " ('flash', 'trad'),\n",
       " ('flash', 'velx'),\n",
       " ('flash', 'vely'),\n",
       " ('flash', 'velz'),\n",
       " ('flash', 'volx'),\n",
       " ('flash', 'voly'),\n",
       " ('flash', 'volz'),\n",
       " ('flash', 'ye')]"
      ]
     },
     "execution_count": 18,
     "metadata": {},
     "output_type": "execute_result"
    }
   ],
   "source": [
    "data_yt.field_list"
   ]
  },
  {
   "cell_type": "code",
   "execution_count": 49,
   "metadata": {},
   "outputs": [
    {
     "name": "stderr",
     "output_type": "stream",
     "text": [
      "yt : [INFO     ] 2024-09-24 21:55:00,635 Particle file found: radslab_hdf5_chk_0001\n",
      "yt : [INFO     ] 2024-09-24 21:55:00,659 Parameters: current_time              = 1.0176451422381804e-10\n",
      "yt : [INFO     ] 2024-09-24 21:55:00,659 Parameters: domain_dimensions         = [512   1   1]\n",
      "yt : [INFO     ] 2024-09-24 21:55:00,659 Parameters: domain_left_edge          = [-0.0002  0.     -0.004 ]\n",
      "yt : [INFO     ] 2024-09-24 21:55:00,660 Parameters: domain_right_edge         = [0.0002 0.032  0.004 ]\n",
      "yt : [INFO     ] 2024-09-24 21:55:00,660 Parameters: cosmological_simulation   = 0\n"
     ]
    },
    {
     "name": "stdout",
     "output_type": "stream",
     "text": [
      "dict_keys(['x', 'dens', 'tele', 'tion', 'trad', 'pres', 'temp', 'cham', 'targ', 'tar2', 'velx', 'ye'])\n"
     ]
    }
   ],
   "source": [
    "data_dict, time_now = get_yt_data_1d(filedir[0]+filename)\n",
    "print(data_dict.keys())"
   ]
  },
  {
   "cell_type": "code",
   "execution_count": 34,
   "metadata": {},
   "outputs": [],
   "source": [
    "xx = np.linspace(data_yt.domain_left_edge[0]*1e4, data_yt.domain_right_edge[0]*1e4,data_yt.domain_dimensions[0])"
   ]
  },
  {
   "cell_type": "code",
   "execution_count": 53,
   "metadata": {},
   "outputs": [
    {
     "data": {
      "text/plain": [
       "Text(0.5, 0, 'x (um)')"
      ]
     },
     "execution_count": 53,
     "metadata": {},
     "output_type": "execute_result"
    },
    {
     "data": {
      "image/png": "[encoded data removed]",
      "text/plain": [
       "<Figure size 640x480 with 1 Axes>"
      ]
     },
     "metadata": {},
     "output_type": "display_data"
    }
   ],
   "source": [
    "width  = 3.487 * 1.0\n",
    "height = width #/ 1.618 * 0.8\n",
    "\n",
    "fig, ax = plt.subplots()\n",
    "fig.subplots_adjust(left=.15, bottom=.16, right=.99, top=.97)\n",
    "\n",
    "ax.plot(xx, data_dict['tar2'])\n",
    "ax.set_xlabel(r'x (um)')"
   ]
  },
  {
   "cell_type": "code",
   "execution_count": 37,
   "metadata": {},
   "outputs": [
    {
     "name": "stderr",
     "output_type": "stream",
     "text": [
      "/var/folders/2t/97rc3fl92tg15k2l_4sk5hsh0000gn/T/ipykernel_49981/2268557412.py:3: MatplotlibDeprecationWarning: The get_cmap function was deprecated in Matplotlib 3.7 and will be removed two minor releases later. Use ``matplotlib.colormaps[name]`` or ``matplotlib.colormaps.get_cmap(obj)`` instead.\n",
      "  jetcmap = plt.cm.get_cmap(\"jet\", 9) #generate a jet map with 10 values \"rainbow\", \"jet\", YlOrRd\n"
     ]
    },
    {
     "data": {
      "image/png": "[encoded data removed]",
      "text/plain": [
       "<Figure size 348.7x348.7 with 2 Axes>"
      ]
     },
     "metadata": {},
     "output_type": "display_data"
    }
   ],
   "source": [
    "import matplotlib as mpl\n",
    "\n",
    "jetcmap = plt.cm.get_cmap(\"jet\", 9) #generate a jet map with 10 values \"rainbow\", \"jet\", YlOrRd\n",
    "jet_vals = jetcmap(np.arange(9)) #extract those values as an array \n",
    "jet_vals[0] = [1.0, 1, 1.0, 1] #change the first value \n",
    "jet_vals[8] = [0.0, 0, 0.0, 1] #change the first value \n",
    "newcmap = mpl.colors.LinearSegmentedColormap.from_list(\"mine\", jet_vals) \n",
    "\n",
    "width  = 3.487 * 1.0\n",
    "height = width #/ 1.618 * 0.8\n",
    "\n",
    "# fig,ax = plt.figure(figsize=(width, height))\n",
    "\n",
    "fig, ax = plt.subplots()\n",
    "fig.subplots_adjust(left=.15, bottom=.16, right=.99, top=.97)\n",
    "# print(data_dict['dens'].shape)\n",
    "# f1 = ax.imshow(((data_dict['tele']/11600).T),\n",
    "# f1 = ax.imshow((np.log10(data_dict['dens']).T),\n",
    "f1 = ax.imshow((np.log10(data_dict['pres']).T),\n",
    "           # cmap='magma_r',\n",
    "               cmap=newcmap,\n",
    "           origin='lower',\n",
    "        #    extent=[0,1,0,2],\n",
    "        #    vmin=-6,\n",
    "        #    vmax=-2,\n",
    "        #    aspect='equal',\n",
    "           aspect='auto',\n",
    "          )\n",
    "\n",
    "# ax.set_xlim(0,1)\n",
    "# ax.set_ylim(0,2)\n",
    "# ax.set_xlabel('r (cm)')\n",
    "# ax.set_ylabel('z (cm)')\n",
    "ax.set_title('Time = {:.1f} ns'.format(time_now))\n",
    "\n",
    "cbar = fig.colorbar(f1)\n",
    "# cbar.ax.set_ylabel(r'Log$_{10}$ $\\rho$ (g/cm$^{-3}$)')\n",
    "# cbar.ax.set_ylabel(r'$T_e$ (eV)')\n",
    "# cbar.minorticks_on()\n",
    "cbar.cmap.set_under('white')\n",
    "cbar.cmap.set_over('black')\n",
    "# cbar\n",
    "\n",
    "# Colorbar\n",
    "# grid[1].cax.colorbar(im1)\n",
    "# grid[1].cax.cla()\n",
    "# mpl.colorbar.Colorbar(grid[1].cax,im1)\n",
    "# grid[1].cax.toggle_label(True)\n",
    "# grid[1].cax.tick_params(size=0)\n",
    "# grid[1].cax.toggle_label(True)\n",
    "# fig.tight_layout()\n",
    "\n",
    "fig.set_size_inches(width, height)\n",
    "fig.tight_layout()\n",
    "plt.show()"
   ]
  },
  {
   "cell_type": "code",
   "execution_count": 32,
   "metadata": {},
   "outputs": [],
   "source": [
    "data_dict['tele'][32,16]"
   ]
  },
  {
   "cell_type": "code",
   "execution_count": 73,
   "metadata": {},
   "outputs": [
    {
     "name": "stderr",
     "output_type": "stream",
     "text": [
      "yt : [INFO     ] 2024-09-06 12:48:37,378 Particle file found: radslab_hdf5_chk_0000\n",
      "yt : [INFO     ] 2024-09-06 12:48:37,404 Parameters: current_time              = 0.0\n",
      "yt : [INFO     ] 2024-09-06 12:48:37,405 Parameters: domain_dimensions         = [64 32  1]\n",
      "yt : [INFO     ] 2024-09-06 12:48:37,405 Parameters: domain_left_edge          = [-6.5e-05  0.0e+00 -4.0e-03]\n",
      "yt : [INFO     ] 2024-09-06 12:48:37,405 Parameters: domain_right_edge         = [6.5e-05 3.2e-02 4.0e-03]\n",
      "yt : [INFO     ] 2024-09-06 12:48:37,406 Parameters: cosmological_simulation   = 0\n",
      "yt : [INFO     ] 2024-09-06 12:48:37,564 Particle file found: radslab_hdf5_chk_0001\n",
      "yt : [INFO     ] 2024-09-06 12:48:37,585 Parameters: current_time              = 1.0001686964995931e-10\n",
      "yt : [INFO     ] 2024-09-06 12:48:37,585 Parameters: domain_dimensions         = [64 32  1]\n",
      "yt : [INFO     ] 2024-09-06 12:48:37,586 Parameters: domain_left_edge          = [-6.5e-05  0.0e+00 -4.0e-03]\n",
      "yt : [INFO     ] 2024-09-06 12:48:37,586 Parameters: domain_right_edge         = [6.5e-05 3.2e-02 4.0e-03]\n",
      "yt : [INFO     ] 2024-09-06 12:48:37,587 Parameters: cosmological_simulation   = 0\n",
      "yt : [INFO     ] 2024-09-06 12:48:37,834 Particle file found: radslab_hdf5_chk_0002\n",
      "yt : [INFO     ] 2024-09-06 12:48:37,855 Parameters: current_time              = 2.0006850746761547e-10\n",
      "yt : [INFO     ] 2024-09-06 12:48:37,856 Parameters: domain_dimensions         = [64 32  1]\n",
      "yt : [INFO     ] 2024-09-06 12:48:37,856 Parameters: domain_left_edge          = [-6.5e-05  0.0e+00 -4.0e-03]\n",
      "yt : [INFO     ] 2024-09-06 12:48:37,856 Parameters: domain_right_edge         = [6.5e-05 3.2e-02 4.0e-03]\n",
      "yt : [INFO     ] 2024-09-06 12:48:37,857 Parameters: cosmological_simulation   = 0\n",
      "yt : [INFO     ] 2024-09-06 12:48:38,022 Particle file found: radslab_hdf5_chk_0003\n",
      "yt : [INFO     ] 2024-09-06 12:48:38,045 Parameters: current_time              = 3.0006736386899716e-10\n",
      "yt : [INFO     ] 2024-09-06 12:48:38,045 Parameters: domain_dimensions         = [64 32  1]\n",
      "yt : [INFO     ] 2024-09-06 12:48:38,045 Parameters: domain_left_edge          = [-6.5e-05  0.0e+00 -4.0e-03]\n",
      "yt : [INFO     ] 2024-09-06 12:48:38,046 Parameters: domain_right_edge         = [6.5e-05 3.2e-02 4.0e-03]\n",
      "yt : [INFO     ] 2024-09-06 12:48:38,046 Parameters: cosmological_simulation   = 0\n",
      "yt : [INFO     ] 2024-09-06 12:48:38,210 Particle file found: radslab_hdf5_chk_0004\n",
      "yt : [INFO     ] 2024-09-06 12:48:38,233 Parameters: current_time              = 4.0000705613586297e-10\n",
      "yt : [INFO     ] 2024-09-06 12:48:38,233 Parameters: domain_dimensions         = [64 32  1]\n",
      "yt : [INFO     ] 2024-09-06 12:48:38,233 Parameters: domain_left_edge          = [-6.5e-05  0.0e+00 -4.0e-03]\n",
      "yt : [INFO     ] 2024-09-06 12:48:38,234 Parameters: domain_right_edge         = [6.5e-05 3.2e-02 4.0e-03]\n",
      "yt : [INFO     ] 2024-09-06 12:48:38,234 Parameters: cosmological_simulation   = 0\n",
      "yt : [INFO     ] 2024-09-06 12:48:38,495 Particle file found: radslab_hdf5_chk_0005\n",
      "yt : [INFO     ] 2024-09-06 12:48:38,517 Parameters: current_time              = 5.000189211582367e-10\n",
      "yt : [INFO     ] 2024-09-06 12:48:38,518 Parameters: domain_dimensions         = [64 32  1]\n",
      "yt : [INFO     ] 2024-09-06 12:48:38,518 Parameters: domain_left_edge          = [-6.5e-05  0.0e+00 -4.0e-03]\n",
      "yt : [INFO     ] 2024-09-06 12:48:38,519 Parameters: domain_right_edge         = [6.5e-05 3.2e-02 4.0e-03]\n",
      "yt : [INFO     ] 2024-09-06 12:48:38,519 Parameters: cosmological_simulation   = 0\n",
      "yt : [INFO     ] 2024-09-06 12:48:38,684 Particle file found: radslab_hdf5_chk_0006\n",
      "yt : [INFO     ] 2024-09-06 12:48:38,706 Parameters: current_time              = 6.000020596672197e-10\n",
      "yt : [INFO     ] 2024-09-06 12:48:38,707 Parameters: domain_dimensions         = [64 32  1]\n",
      "yt : [INFO     ] 2024-09-06 12:48:38,707 Parameters: domain_left_edge          = [-6.5e-05  0.0e+00 -4.0e-03]\n",
      "yt : [INFO     ] 2024-09-06 12:48:38,707 Parameters: domain_right_edge         = [6.5e-05 3.2e-02 4.0e-03]\n",
      "yt : [INFO     ] 2024-09-06 12:48:38,708 Parameters: cosmological_simulation   = 0\n",
      "yt : [INFO     ] 2024-09-06 12:48:38,872 Particle file found: radslab_hdf5_chk_0007\n",
      "yt : [INFO     ] 2024-09-06 12:48:38,896 Parameters: current_time              = 7.000023387406736e-10\n",
      "yt : [INFO     ] 2024-09-06 12:48:38,896 Parameters: domain_dimensions         = [64 32  1]\n",
      "yt : [INFO     ] 2024-09-06 12:48:38,896 Parameters: domain_left_edge          = [-6.5e-05  0.0e+00 -4.0e-03]\n",
      "yt : [INFO     ] 2024-09-06 12:48:38,897 Parameters: domain_right_edge         = [6.5e-05 3.2e-02 4.0e-03]\n",
      "yt : [INFO     ] 2024-09-06 12:48:38,897 Parameters: cosmological_simulation   = 0\n",
      "yt : [INFO     ] 2024-09-06 12:48:39,189 Particle file found: radslab_hdf5_chk_0008\n",
      "yt : [INFO     ] 2024-09-06 12:48:39,210 Parameters: current_time              = 8.000280878460816e-10\n",
      "yt : [INFO     ] 2024-09-06 12:48:39,211 Parameters: domain_dimensions         = [64 32  1]\n",
      "yt : [INFO     ] 2024-09-06 12:48:39,211 Parameters: domain_left_edge          = [-6.5e-05  0.0e+00 -4.0e-03]\n",
      "yt : [INFO     ] 2024-09-06 12:48:39,211 Parameters: domain_right_edge         = [6.5e-05 3.2e-02 4.0e-03]\n",
      "yt : [INFO     ] 2024-09-06 12:48:39,212 Parameters: cosmological_simulation   = 0\n",
      "yt : [INFO     ] 2024-09-06 12:48:39,374 Particle file found: radslab_hdf5_chk_0009\n",
      "yt : [INFO     ] 2024-09-06 12:48:39,395 Parameters: current_time              = 9.000329481948599e-10\n",
      "yt : [INFO     ] 2024-09-06 12:48:39,395 Parameters: domain_dimensions         = [64 32  1]\n",
      "yt : [INFO     ] 2024-09-06 12:48:39,396 Parameters: domain_left_edge          = [-6.5e-05  0.0e+00 -4.0e-03]\n",
      "yt : [INFO     ] 2024-09-06 12:48:39,396 Parameters: domain_right_edge         = [6.5e-05 3.2e-02 4.0e-03]\n",
      "yt : [INFO     ] 2024-09-06 12:48:39,396 Parameters: cosmological_simulation   = 0\n",
      "yt : [INFO     ] 2024-09-06 12:48:39,558 Particle file found: radslab_hdf5_chk_0010\n",
      "yt : [INFO     ] 2024-09-06 12:48:39,580 Parameters: current_time              = 1.0000249066964857e-09\n",
      "yt : [INFO     ] 2024-09-06 12:48:39,581 Parameters: domain_dimensions         = [64 32  1]\n",
      "yt : [INFO     ] 2024-09-06 12:48:39,581 Parameters: domain_left_edge          = [-6.5e-05  0.0e+00 -4.0e-03]\n",
      "yt : [INFO     ] 2024-09-06 12:48:39,581 Parameters: domain_right_edge         = [6.5e-05 3.2e-02 4.0e-03]\n",
      "yt : [INFO     ] 2024-09-06 12:48:39,582 Parameters: cosmological_simulation   = 0\n",
      "yt : [INFO     ] 2024-09-06 12:48:39,846 Particle file found: radslab_hdf5_chk_0011\n",
      "yt : [INFO     ] 2024-09-06 12:48:39,869 Parameters: current_time              = 1.1000065818268121e-09\n",
      "yt : [INFO     ] 2024-09-06 12:48:39,870 Parameters: domain_dimensions         = [64 32  1]\n",
      "yt : [INFO     ] 2024-09-06 12:48:39,870 Parameters: domain_left_edge          = [-6.5e-05  0.0e+00 -4.0e-03]\n",
      "yt : [INFO     ] 2024-09-06 12:48:39,870 Parameters: domain_right_edge         = [6.5e-05 3.2e-02 4.0e-03]\n",
      "yt : [INFO     ] 2024-09-06 12:48:39,871 Parameters: cosmological_simulation   = 0\n",
      "yt : [INFO     ] 2024-09-06 12:48:40,042 Particle file found: radslab_hdf5_chk_0012\n",
      "yt : [INFO     ] 2024-09-06 12:48:40,064 Parameters: current_time              = 1.2000005718165931e-09\n",
      "yt : [INFO     ] 2024-09-06 12:48:40,064 Parameters: domain_dimensions         = [64 32  1]\n",
      "yt : [INFO     ] 2024-09-06 12:48:40,065 Parameters: domain_left_edge          = [-6.5e-05  0.0e+00 -4.0e-03]\n",
      "yt : [INFO     ] 2024-09-06 12:48:40,065 Parameters: domain_right_edge         = [6.5e-05 3.2e-02 4.0e-03]\n",
      "yt : [INFO     ] 2024-09-06 12:48:40,065 Parameters: cosmological_simulation   = 0\n",
      "yt : [INFO     ] 2024-09-06 12:48:40,226 Particle file found: radslab_hdf5_chk_0013\n",
      "yt : [INFO     ] 2024-09-06 12:48:40,249 Parameters: current_time              = 1.300015386073989e-09\n",
      "yt : [INFO     ] 2024-09-06 12:48:40,249 Parameters: domain_dimensions         = [64 32  1]\n",
      "yt : [INFO     ] 2024-09-06 12:48:40,250 Parameters: domain_left_edge          = [-6.5e-05  0.0e+00 -4.0e-03]\n",
      "yt : [INFO     ] 2024-09-06 12:48:40,250 Parameters: domain_right_edge         = [6.5e-05 3.2e-02 4.0e-03]\n",
      "yt : [INFO     ] 2024-09-06 12:48:40,250 Parameters: cosmological_simulation   = 0\n",
      "yt : [INFO     ] 2024-09-06 12:48:40,505 Particle file found: radslab_hdf5_chk_0014\n",
      "yt : [INFO     ] 2024-09-06 12:48:40,527 Parameters: current_time              = 1.4000088594567374e-09\n",
      "yt : [INFO     ] 2024-09-06 12:48:40,527 Parameters: domain_dimensions         = [64 32  1]\n",
      "yt : [INFO     ] 2024-09-06 12:48:40,528 Parameters: domain_left_edge          = [-6.5e-05  0.0e+00 -4.0e-03]\n",
      "yt : [INFO     ] 2024-09-06 12:48:40,528 Parameters: domain_right_edge         = [6.5e-05 3.2e-02 4.0e-03]\n",
      "yt : [INFO     ] 2024-09-06 12:48:40,528 Parameters: cosmological_simulation   = 0\n",
      "yt : [INFO     ] 2024-09-06 12:48:40,687 Particle file found: radslab_hdf5_chk_0015\n",
      "yt : [INFO     ] 2024-09-06 12:48:40,708 Parameters: current_time              = 1.5000075852209068e-09\n",
      "yt : [INFO     ] 2024-09-06 12:48:40,708 Parameters: domain_dimensions         = [64 32  1]\n",
      "yt : [INFO     ] 2024-09-06 12:48:40,708 Parameters: domain_left_edge          = [-6.5e-05  0.0e+00 -4.0e-03]\n",
      "yt : [INFO     ] 2024-09-06 12:48:40,709 Parameters: domain_right_edge         = [6.5e-05 3.2e-02 4.0e-03]\n",
      "yt : [INFO     ] 2024-09-06 12:48:40,709 Parameters: cosmological_simulation   = 0\n",
      "yt : [INFO     ] 2024-09-06 12:48:40,863 Particle file found: radslab_hdf5_chk_0016\n",
      "yt : [INFO     ] 2024-09-06 12:48:40,884 Parameters: current_time              = 1.6000004895078486e-09\n",
      "yt : [INFO     ] 2024-09-06 12:48:40,885 Parameters: domain_dimensions         = [64 32  1]\n",
      "yt : [INFO     ] 2024-09-06 12:48:40,885 Parameters: domain_left_edge          = [-6.5e-05  0.0e+00 -4.0e-03]\n",
      "yt : [INFO     ] 2024-09-06 12:48:40,886 Parameters: domain_right_edge         = [6.5e-05 3.2e-02 4.0e-03]\n",
      "yt : [INFO     ] 2024-09-06 12:48:40,886 Parameters: cosmological_simulation   = 0\n",
      "yt : [INFO     ] 2024-09-06 12:48:41,039 Particle file found: radslab_hdf5_chk_0017\n",
      "yt : [INFO     ] 2024-09-06 12:48:41,062 Parameters: current_time              = 1.7000028175786633e-09\n",
      "yt : [INFO     ] 2024-09-06 12:48:41,062 Parameters: domain_dimensions         = [64 32  1]\n",
      "yt : [INFO     ] 2024-09-06 12:48:41,063 Parameters: domain_left_edge          = [-6.5e-05  0.0e+00 -4.0e-03]\n",
      "yt : [INFO     ] 2024-09-06 12:48:41,063 Parameters: domain_right_edge         = [6.5e-05 3.2e-02 4.0e-03]\n",
      "yt : [INFO     ] 2024-09-06 12:48:41,063 Parameters: cosmological_simulation   = 0\n",
      "yt : [INFO     ] 2024-09-06 12:48:41,329 Particle file found: radslab_hdf5_chk_0018\n",
      "yt : [INFO     ] 2024-09-06 12:48:41,350 Parameters: current_time              = 1.8000075415051584e-09\n",
      "yt : [INFO     ] 2024-09-06 12:48:41,350 Parameters: domain_dimensions         = [64 32  1]\n",
      "yt : [INFO     ] 2024-09-06 12:48:41,350 Parameters: domain_left_edge          = [-6.5e-05  0.0e+00 -4.0e-03]\n",
      "yt : [INFO     ] 2024-09-06 12:48:41,350 Parameters: domain_right_edge         = [6.5e-05 3.2e-02 4.0e-03]\n",
      "yt : [INFO     ] 2024-09-06 12:48:41,351 Parameters: cosmological_simulation   = 0\n",
      "yt : [INFO     ] 2024-09-06 12:48:41,503 Particle file found: radslab_hdf5_chk_0019\n",
      "yt : [INFO     ] 2024-09-06 12:48:41,526 Parameters: current_time              = 1.9000037310043316e-09\n",
      "yt : [INFO     ] 2024-09-06 12:48:41,526 Parameters: domain_dimensions         = [64 32  1]\n",
      "yt : [INFO     ] 2024-09-06 12:48:41,526 Parameters: domain_left_edge          = [-6.5e-05  0.0e+00 -4.0e-03]\n",
      "yt : [INFO     ] 2024-09-06 12:48:41,527 Parameters: domain_right_edge         = [6.5e-05 3.2e-02 4.0e-03]\n",
      "yt : [INFO     ] 2024-09-06 12:48:41,527 Parameters: cosmological_simulation   = 0\n",
      "yt : [INFO     ] 2024-09-06 12:48:41,679 Particle file found: radslab_hdf5_chk_0020\n",
      "yt : [INFO     ] 2024-09-06 12:48:41,700 Parameters: current_time              = 2.000001954378504e-09\n",
      "yt : [INFO     ] 2024-09-06 12:48:41,701 Parameters: domain_dimensions         = [64 32  1]\n",
      "yt : [INFO     ] 2024-09-06 12:48:41,701 Parameters: domain_left_edge          = [-6.5e-05  0.0e+00 -4.0e-03]\n",
      "yt : [INFO     ] 2024-09-06 12:48:41,701 Parameters: domain_right_edge         = [6.5e-05 3.2e-02 4.0e-03]\n",
      "yt : [INFO     ] 2024-09-06 12:48:41,701 Parameters: cosmological_simulation   = 0\n",
      "yt : [INFO     ] 2024-09-06 12:48:41,994 Particle file found: radslab_hdf5_chk_0021\n",
      "yt : [INFO     ] 2024-09-06 12:48:42,017 Parameters: current_time              = 2.100000838437563e-09\n",
      "yt : [INFO     ] 2024-09-06 12:48:42,017 Parameters: domain_dimensions         = [64 32  1]\n",
      "yt : [INFO     ] 2024-09-06 12:48:42,018 Parameters: domain_left_edge          = [-6.5e-05  0.0e+00 -4.0e-03]\n",
      "yt : [INFO     ] 2024-09-06 12:48:42,018 Parameters: domain_right_edge         = [6.5e-05 3.2e-02 4.0e-03]\n",
      "yt : [INFO     ] 2024-09-06 12:48:42,018 Parameters: cosmological_simulation   = 0\n",
      "yt : [INFO     ] 2024-09-06 12:48:42,177 Particle file found: radslab_hdf5_chk_0022\n",
      "yt : [INFO     ] 2024-09-06 12:48:42,199 Parameters: current_time              = 2.2000030930823138e-09\n",
      "yt : [INFO     ] 2024-09-06 12:48:42,199 Parameters: domain_dimensions         = [64 32  1]\n",
      "yt : [INFO     ] 2024-09-06 12:48:42,200 Parameters: domain_left_edge          = [-6.5e-05  0.0e+00 -4.0e-03]\n",
      "yt : [INFO     ] 2024-09-06 12:48:42,200 Parameters: domain_right_edge         = [6.5e-05 3.2e-02 4.0e-03]\n",
      "yt : [INFO     ] 2024-09-06 12:48:42,200 Parameters: cosmological_simulation   = 0\n",
      "yt : [INFO     ] 2024-09-06 12:48:42,353 Particle file found: radslab_hdf5_chk_0023\n",
      "yt : [INFO     ] 2024-09-06 12:48:42,373 Parameters: current_time              = 2.3000021061839065e-09\n",
      "yt : [INFO     ] 2024-09-06 12:48:42,374 Parameters: domain_dimensions         = [64 32  1]\n",
      "yt : [INFO     ] 2024-09-06 12:48:42,374 Parameters: domain_left_edge          = [-6.5e-05  0.0e+00 -4.0e-03]\n",
      "yt : [INFO     ] 2024-09-06 12:48:42,375 Parameters: domain_right_edge         = [6.5e-05 3.2e-02 4.0e-03]\n",
      "yt : [INFO     ] 2024-09-06 12:48:42,375 Parameters: cosmological_simulation   = 0\n",
      "yt : [INFO     ] 2024-09-06 12:48:42,522 Particle file found: radslab_hdf5_chk_0024\n",
      "yt : [INFO     ] 2024-09-06 12:48:42,543 Parameters: current_time              = 2.4000052617701664e-09\n",
      "yt : [INFO     ] 2024-09-06 12:48:42,543 Parameters: domain_dimensions         = [64 32  1]\n",
      "yt : [INFO     ] 2024-09-06 12:48:42,544 Parameters: domain_left_edge          = [-6.5e-05  0.0e+00 -4.0e-03]\n",
      "yt : [INFO     ] 2024-09-06 12:48:42,544 Parameters: domain_right_edge         = [6.5e-05 3.2e-02 4.0e-03]\n",
      "yt : [INFO     ] 2024-09-06 12:48:42,544 Parameters: cosmological_simulation   = 0\n",
      "yt : [INFO     ] 2024-09-06 12:48:42,793 Particle file found: radslab_hdf5_chk_0025\n",
      "yt : [INFO     ] 2024-09-06 12:48:42,814 Parameters: current_time              = 2.5000025240478787e-09\n",
      "yt : [INFO     ] 2024-09-06 12:48:42,814 Parameters: domain_dimensions         = [64 32  1]\n",
      "yt : [INFO     ] 2024-09-06 12:48:42,815 Parameters: domain_left_edge          = [-6.5e-05  0.0e+00 -4.0e-03]\n",
      "yt : [INFO     ] 2024-09-06 12:48:42,815 Parameters: domain_right_edge         = [6.5e-05 3.2e-02 4.0e-03]\n",
      "yt : [INFO     ] 2024-09-06 12:48:42,815 Parameters: cosmological_simulation   = 0\n",
      "yt : [INFO     ] 2024-09-06 12:48:42,963 Particle file found: radslab_hdf5_chk_0026\n",
      "yt : [INFO     ] 2024-09-06 12:48:42,984 Parameters: current_time              = 2.600009158088875e-09\n",
      "yt : [INFO     ] 2024-09-06 12:48:42,985 Parameters: domain_dimensions         = [64 32  1]\n",
      "yt : [INFO     ] 2024-09-06 12:48:42,985 Parameters: domain_left_edge          = [-6.5e-05  0.0e+00 -4.0e-03]\n",
      "yt : [INFO     ] 2024-09-06 12:48:42,985 Parameters: domain_right_edge         = [6.5e-05 3.2e-02 4.0e-03]\n",
      "yt : [INFO     ] 2024-09-06 12:48:42,985 Parameters: cosmological_simulation   = 0\n",
      "yt : [INFO     ] 2024-09-06 12:48:43,130 Particle file found: radslab_hdf5_chk_0027\n",
      "yt : [INFO     ] 2024-09-06 12:48:43,152 Parameters: current_time              = 2.7000088984807154e-09\n",
      "yt : [INFO     ] 2024-09-06 12:48:43,152 Parameters: domain_dimensions         = [64 32  1]\n",
      "yt : [INFO     ] 2024-09-06 12:48:43,153 Parameters: domain_left_edge          = [-6.5e-05  0.0e+00 -4.0e-03]\n",
      "yt : [INFO     ] 2024-09-06 12:48:43,153 Parameters: domain_right_edge         = [6.5e-05 3.2e-02 4.0e-03]\n",
      "yt : [INFO     ] 2024-09-06 12:48:43,153 Parameters: cosmological_simulation   = 0\n",
      "yt : [INFO     ] 2024-09-06 12:48:43,303 Particle file found: radslab_hdf5_chk_0028\n",
      "yt : [INFO     ] 2024-09-06 12:48:43,324 Parameters: current_time              = 2.800006403755148e-09\n",
      "yt : [INFO     ] 2024-09-06 12:48:43,325 Parameters: domain_dimensions         = [64 32  1]\n",
      "yt : [INFO     ] 2024-09-06 12:48:43,325 Parameters: domain_left_edge          = [-6.5e-05  0.0e+00 -4.0e-03]\n",
      "yt : [INFO     ] 2024-09-06 12:48:43,325 Parameters: domain_right_edge         = [6.5e-05 3.2e-02 4.0e-03]\n",
      "yt : [INFO     ] 2024-09-06 12:48:43,326 Parameters: cosmological_simulation   = 0\n",
      "yt : [INFO     ] 2024-09-06 12:48:43,474 Particle file found: radslab_hdf5_chk_0029\n",
      "yt : [INFO     ] 2024-09-06 12:48:43,495 Parameters: current_time              = 2.90002311748885e-09\n",
      "yt : [INFO     ] 2024-09-06 12:48:43,495 Parameters: domain_dimensions         = [64 32  1]\n",
      "yt : [INFO     ] 2024-09-06 12:48:43,496 Parameters: domain_left_edge          = [-6.5e-05  0.0e+00 -4.0e-03]\n",
      "yt : [INFO     ] 2024-09-06 12:48:43,496 Parameters: domain_right_edge         = [6.5e-05 3.2e-02 4.0e-03]\n",
      "yt : [INFO     ] 2024-09-06 12:48:43,496 Parameters: cosmological_simulation   = 0\n",
      "yt : [INFO     ] 2024-09-06 12:48:43,741 Particle file found: radslab_hdf5_chk_0030\n",
      "yt : [INFO     ] 2024-09-06 12:48:43,763 Parameters: current_time              = 3.0001039770842677e-09\n",
      "yt : [INFO     ] 2024-09-06 12:48:43,763 Parameters: domain_dimensions         = [64 32  1]\n",
      "yt : [INFO     ] 2024-09-06 12:48:43,763 Parameters: domain_left_edge          = [-6.5e-05  0.0e+00 -4.0e-03]\n",
      "yt : [INFO     ] 2024-09-06 12:48:43,764 Parameters: domain_right_edge         = [6.5e-05 3.2e-02 4.0e-03]\n",
      "yt : [INFO     ] 2024-09-06 12:48:43,764 Parameters: cosmological_simulation   = 0\n"
     ]
    }
   ],
   "source": [
    "time_ns = np.linspace(0,3,31)\n",
    "\n",
    "Te_center   = np.zeros_like(time_ns)\n",
    "Tr_boundary = np.zeros_like(time_ns)\n",
    "rho_center  = np.zeros_like(time_ns)\n",
    "\n",
    "filedir = [\n",
    "            '/Users/yao/Desktop/job.77664/', # v4.8 \n",
    "          ] \n",
    "\n",
    "for i in range(time_ns.size):\n",
    "    filename = 'radslab_hdf5_chk_' +str(i).zfill(4)\n",
    "    data_dict, time_now = get_yt_data_2d(filedir[0]+filename)\n",
    "    Te_center[i]   = data_dict['tele'][32,16]\n",
    "    Tr_boundary[i] = data_dict['trad'][1,16]\n",
    "    rho_center[i]  = data_dict['dens'][32,16]\n",
    "    \n",
    "    \n",
    "    "
   ]
  },
  {
   "cell_type": "code",
   "execution_count": 50,
   "metadata": {},
   "outputs": [
    {
     "data": {
      "text/plain": [
       "31"
      ]
     },
     "execution_count": 50,
     "metadata": {},
     "output_type": "execute_result"
    }
   ],
   "source": [
    "Te_center.size"
   ]
  },
  {
   "cell_type": "code",
   "execution_count": 87,
   "metadata": {},
   "outputs": [
    {
     "data": {
      "image/png": "[encoded data removed]",
      "text/plain": [
       "<Figure size 640x480 with 1 Axes>"
      ]
     },
     "metadata": {},
     "output_type": "display_data"
    }
   ],
   "source": [
    "time_ns = np.linspace(0,3,31)\n",
    "\n",
    "plt.plot(time_ns,Te_center/11600,   '--b', label='Te_center (eV)')\n",
    "plt.plot(time_ns,Tr_boundary/11600, '-r',  label='Tr_boundary (eV))')\n",
    "plt.plot(time_ns,rho_center*3e3,    '-.g', label=r'$\\rho$_center $\\times$ 3$\\cdot$10$^3$ (g/cc)')\n",
    "plt.xlabel('Time (ns)')\n",
    "plt.ylabel(r'T and $\\rho$')\n",
    "# plt.title('Temperatures ')\n",
    "plt.xlim([0,3])\n",
    "plt.ylim([0,100])\n",
    "plt.grid(linestyle=':',alpha=0.5)\n",
    "plt.legend()\n",
    "plt.savefig('/Users/yao/Desktop/Temp_profile.pdf',dpi=600)"
   ]
  },
  {
   "cell_type": "code",
   "execution_count": 69,
   "metadata": {},
   "outputs": [],
   "source": [
    "np.savetxt('/Users/yao/Desktop/Tr.txt', Tr_boundary/11600)"
   ]
  },
  {
   "cell_type": "code",
   "execution_count": 70,
   "metadata": {},
   "outputs": [],
   "source": [
    "np.savetxt('/Users/yao/Desktop/Te.txt', Te_center/11600)"
   ]
  },
  {
   "cell_type": "code",
   "execution_count": 76,
   "metadata": {},
   "outputs": [],
   "source": [
    "np.savetxt('/Users/yao/Desktop/rho.txt', rho_center)"
   ]
  },
  {
   "cell_type": "code",
   "execution_count": null,
   "metadata": {},
   "outputs": [],
   "source": []
  }
 ],
 "metadata": {
  "kernelspec": {
   "display_name": "Python 3",
   "language": "python",
   "name": "python3"
  },
  "language_info": {
   "codemirror_mode": {
    "name": "ipython",
    "version": 3
   },
   "file_extension": ".py",
   "mimetype": "text/x-python",
   "name": "python",
   "nbconvert_exporter": "python",
   "pygments_lexer": "ipython3",
   "version": "3.9.20"
  }
 },
 "nbformat": 4,
 "nbformat_minor": 2
}
