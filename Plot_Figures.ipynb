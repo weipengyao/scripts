{
 "cells": [
  {
   "cell_type": "code",
   "execution_count": 2,
   "metadata": {},
   "outputs": [
    {
     "name": "stdout",
     "output_type": "stream",
     "text": [
      "Using matplotlib backend: MacOSX\n",
      "Populating the interactive namespace from numpy and matplotlib\n",
      "Loaded simulation '/Volumes/LaCie/Data_Smilei/single_shock_1d_ne2e18_v1500_Bz20_angle90_Te100_Ti200_Lx2048_dx02_ppc1024_2/'\n",
      "Scanning for Scalar diagnostics\n",
      "Scanning for Field diagnostics\n",
      "Scanning for Probe diagnostics\n",
      "Scanning for ParticleBinning diagnostics\n",
      "Scanning for RadiationSpectrum diagnostics\n",
      "Scanning for Performance diagnostics\n",
      "Scanning for Screen diagnostics\n",
      "Scanning for Tracked particle diagnostics\n",
      "Loaded simulation '/Volumes/LaCie/Data_Smilei/single_shock_1d_ne2e18_v1500_Bz20_angle90_Te100_Ti200_Lx2048_dx02_ppc512_time2x'\n",
      "Scanning for Scalar diagnostics\n",
      "Scanning for Field diagnostics\n",
      "Scanning for Probe diagnostics\n",
      "Scanning for ParticleBinning diagnostics\n",
      "Scanning for RadiationSpectrum diagnostics\n",
      "Scanning for Performance diagnostics\n",
      "Scanning for Screen diagnostics\n",
      "Scanning for Tracked particle diagnostics\n"
     ]
    }
   ],
   "source": [
    "# Load packages and Open data\n",
    "\n",
    "%pylab\n",
    "import happi\n",
    "\n",
    "plt.rc('text', usetex=False)\n",
    "mpl.rcParams['font.family'] = 'Arial'\n",
    "mpl.rcParams['axes.labelsize'] = 18\n",
    "mpl.rcParams['legend.fontsize'] = 16#20\n",
    "# mpl.rcParams['legend.fontname'] = 'Comic Sans MS'\n",
    "mpl.rcParams['xtick.labelsize'] = 16\n",
    "mpl.rcParams['ytick.labelsize'] = 16\n",
    "mpl.rcParams['lines.linewidth'] = 1.2\n",
    "\n",
    "jetcmap = plt.cm.get_cmap(\"jet\", 9) #generate a jet map with 10 values \"rainbow\", \"jet\"\n",
    "jet_vals = jetcmap(np.arange(9)) #extract those values as an array \n",
    "jet_vals[0] = [1.0, 1, 1.0, 1] #change the first value \n",
    "newcmap = mpl.colors.LinearSegmentedColormap.from_list(\"mine\", jet_vals) \n",
    "\n",
    "Units = happi.Units(\"mm\", \"cm^{-3}\", \"ns\", \"V/m\", \"T\", \"km/s\",\"MeV\")\n",
    "\n",
    "# wkdir = '/Volumes/LaCie/Data_Smilei/single_shock_1d_ne2e18_v1500_Bz20_angle90_Te100_Ti200_Lx2048_dx02_ppc1024/'\n",
    "wkdir = ['/Volumes/LaCie/Data_Smilei/single_shock_1d_ne2e18_v1500_Bz20_angle90_Te100_Ti200_Lx2048_dx02_ppc1024_2/',\n",
    "         '/Volumes/LaCie/Data_Smilei/single_shock_1d_ne2e18_v1500_Bz20_angle90_Te100_Ti200_Lx2048_dx02_ppc512_time2x',\n",
    "         '/Volumes/LaCie/Data_Smilei/single_shock_1d_ne2e18_v1500_Bz20_angle90_Te60_Ti20_Lx2048_dx02_ppc1024/',\n",
    "         '/Volumes/LaCie/Data_Smilei/single_shock_1d_ne2e18_v1500_Bz20_angle90_Te600_Ti200_Lx2048_dx02_ppc1024/'\n",
    "        ]\n",
    "# wkdir = '/Volumes/LaCie/Data_Smilei/single_shock_1d_ne2e18_v1500_Bz20_angle90_Te600_Ti200_Lx2048_dx02_ppc1024/'\n",
    "\n",
    "\n",
    "S0 = happi.Open(wkdir[0], reference_angular_frequency_SI=56375055300167.87)\n",
    "S1 = happi.Open(wkdir[1], reference_angular_frequency_SI=56375055300167.87)\n",
    "# S2 = happi.Open(wkdir[2], reference_angular_frequency_SI=56375055300167.87)"
   ]
  },
  {
   "cell_type": "code",
   "execution_count": 3,
   "metadata": {},
   "outputs": [
    {
     "name": "stdout",
     "output_type": "stream",
     "text": [
      "dx / ld = 5.60\n"
     ]
    }
   ],
   "source": [
    "# prepare constants, units\n",
    "\n",
    "me = 9.1e-31\n",
    "mp = 1836.*me\n",
    "qe = 1.6e-19\n",
    "ep = 8.9e-12  # epsilon_0\n",
    "c  = 3.0e8\n",
    "wr = S0.namelist.w_r\n",
    "de = c / wr\n",
    "Lx = S0.namelist.L_x.real * de * 1e3      # in mm\n",
    "dx = S0.namelist.d_x * de * 1e3           # in mm\n",
    "\n",
    "Te = S0.namelist.T_e * 511.e3             # in eV\n",
    "Ti = S0.namelist.T_i * 511.e3             # in eV\n",
    "ne = 1.0e18                              # in cm-3\n",
    "ni = 1.0e18\n",
    "ld = 7.43e2 * (Te**0.5 * ne**(-0.5) + Ti**0.5 * ni**(-0.5)) * 10. # in mm\n",
    "dt = S0.namelist.d_t\n",
    "\n",
    "B0 = S0.namelist.B_z * (me * wr / qe)\n",
    "wc = qe * B0 / me\n",
    "\n",
    "print('dx / ld = {:.2f}'.format(dx/ld))"
   ]
  },
  {
   "cell_type": "code",
   "execution_count": 55,
   "metadata": {},
   "outputs": [
    {
     "name": "stdout",
     "output_type": "stream",
     "text": [
      "Scalar Ubal_norm\n"
     ]
    },
    {
     "data": {
      "text/plain": []
     },
     "execution_count": 55,
     "metadata": {},
     "output_type": "execute_result"
    }
   ],
   "source": [
    "plt.rc('text', usetex=False)\n",
    "mpl.rcParams['font.family'] = 'Arial'\n",
    "mpl.rcParams['axes.labelsize'] = 18\n",
    "mpl.rcParams['legend.fontsize'] = 16#20\n",
    "# mpl.rcParams['legend.fontname'] = 'Comic Sans MS'\n",
    "mpl.rcParams['xtick.labelsize'] = 16\n",
    "mpl.rcParams['ytick.labelsize'] = 16\n",
    "mpl.rcParams['lines.linewidth'] = 1.2\n",
    "\n",
    "nbal0 = S0.Scalar('Ubal_norm',units=['V/m','um','ns','cm^-3','J'],color='y',label='Te=50eV, lmd=0.05dx')\n",
    "nbal1 = S1.Scalar('Ubal_norm',units=['V/m','um','ns','cm^-3','J'],color='m',label='Te=30eV, lmd=0.04dx')\n",
    "nbal2 = S2.Scalar('Ubal_norm',units=['V/m','um','ns','cm^-3','J'],color='g',label='Te=300eV, lmd=0.12dx')\n",
    "\n",
    "happi.multiPlot(\n",
    "                nbal1,\n",
    "                nbal0,\n",
    "                nbal2,\n",
    "                figsize=[3.14*2,3.14*2],\n",
    "                xmax=2.5\n",
    "               )\n",
    "legend()\n",
    "grid()\n",
    "nbal1.set(xmax=2.5)\n",
    "# savefig('/Users/yz/Desktop/Debye_energy_conservation.pdf')"
   ]
  },
  {
   "cell_type": "code",
   "execution_count": 72,
   "metadata": {},
   "outputs": [
    {
     "data": {
      "text/plain": [
       "array([      0,   10000,   20000,   30000,   40000,   50000,   60000,\n",
       "         70000,   80000,   90000,  100000,  110000,  120000,  130000,\n",
       "        140000,  150000,  160000,  170000,  180000,  190000,  200000,\n",
       "        210000,  220000,  230000,  240000,  250000,  260000,  270000,\n",
       "        280000,  290000,  300000,  310000,  320000,  330000,  340000,\n",
       "        350000,  360000,  370000,  380000,  390000,  400000,  410000,\n",
       "        420000,  430000,  440000,  450000,  460000,  470000,  480000,\n",
       "        490000,  500000,  510000,  520000,  530000,  540000,  550000,\n",
       "        560000,  570000,  580000,  590000,  600000,  610000,  620000,\n",
       "        630000,  640000,  650000,  660000,  670000,  680000,  690000,\n",
       "        700000,  710000,  720000,  730000,  740000,  750000,  760000,\n",
       "        770000,  780000,  790000,  800000,  810000,  820000,  830000,\n",
       "        840000,  850000,  860000,  870000,  880000,  890000,  900000,\n",
       "        910000,  920000,  930000,  940000,  950000,  960000,  970000,\n",
       "        980000,  990000, 1000000, 1010000, 1020000, 1030000, 1040000,\n",
       "       1050000, 1060000, 1070000, 1080000, 1090000, 1100000, 1110000,\n",
       "       1120000, 1130000, 1140000, 1150000, 1160000, 1170000, 1180000,\n",
       "       1190000, 1200000, 1210000, 1220000, 1230000, 1240000, 1250000,\n",
       "       1260000, 1270000, 1280000, 1290000, 1300000, 1310000, 1320000,\n",
       "       1330000, 1340000, 1350000, 1360000, 1370000, 1380000, 1390000,\n",
       "       1400000, 1410000, 1420000, 1430000, 1440000, 1450000, 1460000,\n",
       "       1470000, 1480000, 1490000, 1500000, 1510000, 1520000, 1530000,\n",
       "       1540000, 1550000, 1560000, 1570000, 1580000, 1590000, 1600000,\n",
       "       1610000, 1620000, 1630000, 1640000, 1650000, 1660000, 1670000,\n",
       "       1680000, 1690000, 1700000, 1710000, 1720000, 1730000, 1740000,\n",
       "       1750000, 1760000, 1770000, 1780000, 1790000, 1800000, 1810000,\n",
       "       1820000, 1830000, 1840000, 1850000, 1860000, 1870000])"
      ]
     },
     "execution_count": 72,
     "metadata": {},
     "output_type": "execute_result"
    }
   ],
   "source": [
    "ts = S1.ParticleBinning(1).getAvailableTimesteps()\n",
    "ts"
   ]
  },
  {
   "cell_type": "code",
   "execution_count": 73,
   "metadata": {},
   "outputs": [],
   "source": [
    "# Function for spectrum\n",
    "\n",
    "def spect_load_1d(wkdir,time,species,xmin,xmax):\n",
    "    \"\"\"\n",
    "    Inputs ----\n",
    "    wkdir      : string, data directory\n",
    "    time       : float,  [0,1] of the time_end \n",
    "    species    : int,    which species you want to plot\n",
    "                         according to your own diagnostic in the Namelist\n",
    "    xmin, xmax : float,  spatial selections, NOTE: in unit of de\n",
    "    \n",
    "    Outputs ---\n",
    "    ekin       : float,  x-axis, energy(E) in MeV\n",
    "    num        : float,  y-axis, E \\frac{dN}{dE} \\frac{1}{N}\n",
    "                                 N  is the total number of particles\n",
    "                                 dN is the number of particles in each energy range (dE)\n",
    "                                 dE is the energy range\n",
    "    simu_time  : float,  simulation time\n",
    "    \"\"\"\n",
    "    S = happi.Open(wkdir)                        # No need to open the data again.\n",
    "    dt = S.namelist.d_t                            # get simulation timestep\n",
    "    ts = S.ParticleBinning(species).getTimesteps() # get all the timesteps available for this diag.\n",
    "    iteration = int(ts[-2] * time)                 # choose the time you want by a factor of [0,1]*T_end\n",
    "    simu_time = iteration * dt / wr                # convert it into real unit\n",
    "    pb = S.ParticleBinning(species).get(iteration) # get the diag. data from the chosen timestep\n",
    "    \n",
    "    xx   = pb['x'] * de * 1e3                      # get position information and convert the unit to mm\n",
    "    ekin = pb['ekin'] * 0.511                      # get energy information (E) and convert the unit to MeV\n",
    "    data = pb['data'][0]                           # get the particle number information\n",
    "    data_selected = data[(xx>xmin) & (xx<xmax),:]  # select particle number according to position\n",
    "                                                   # for our case now, this doesn't make much difference.\n",
    "    data_ekin = np.sum(data_selected,axis=0)       # dN, ?? can't remember...\n",
    "    dE = ekin[1]-ekin[0]                           # dE, energy range\n",
    "    total_weight = np.sum(data)                    # N, total number of the selected portion\n",
    "    num = data_ekin * ekin / total_weight / dE     # E \\frac{dN}{dE} \\frac{1}{N}\n",
    "    \n",
    "    return ekin, num, simu_time\n",
    "\n",
    "# Function for 2D streak map\n",
    "\n",
    "def prepare_streak_2D(case, num, field_name, frame):\n",
    "    \n",
    "    \"\"\"\n",
    "    case: string, Smilei case\n",
    "    num: '0', instant; '1', averaged \n",
    "    field_name: string, name of the field\n",
    "    frame: float, velocity of the reference frame\n",
    "    \"\"\"\n",
    "    var = case.Field(num,field_name,units=[\"mm\",\"ns\",\"cm^{-3}\"]) # find the data\n",
    "    data_var = var.getData()                           # get the data out\n",
    "    data_var_2D = np.vstack(data_var)                  # transform it into 2D with (t,x)\n",
    "    data_var_t = var.getTimes()                        # get the t-axis\n",
    "    data_var_x = var.getAxis('x')                      # get the x-axis\n",
    "    \n",
    "    data_var_x_2D, data_var_t_2D = np.meshgrid(data_var_x, data_var_t, indexing='xy') # make the interpolation\n",
    "    \n",
    "    Lx = case.namelist.L_x.real * de * 1e3      # in mm\n",
    "    \n",
    "    data_var_x_2D_frame = data_var_x_2D - frame * data_var_t_2D - Lx/2.               # change the reference frame (and the label) \n",
    "                                                                                      # note the unit used\n",
    "    return data_var_x_2D, data_var_x_2D_frame, data_var_t_2D, data_var_2D\n",
    "\n",
    "def Particle_trajectory(case, species, mass, condition):\n",
    "    \n",
    "    \"\"\"\n",
    "    case: string, Smilei case\n",
    "    species: string, name of the traced particle\n",
    "    mass: float, mass of the traced particle, used when calcuating momentum/energy etc.\n",
    "    condition: string, Smilei formatted, to select particles satisfying a certain conditions.\n",
    "    frame: float, velocity of the reference frame\n",
    "    \"\"\"\n",
    "    \n",
    "#     me = 9.1e-31\n",
    "#     c  = 3.0e8\n",
    "#     wr = S.namelist.w_r\n",
    "#     de = c / wr \n",
    "    \n",
    "    tp = case.TrackParticles(species,\n",
    "                             select = condition,\n",
    "                             axes=['x','px','py','pz','Ex','Ey','Bz','w'],\n",
    "#                              units=['mm','ns'],                     # TODO: Use normalized unit during calculation\n",
    "                             sort=True,\n",
    "                            )\n",
    "    data = tp.getData()                                           # get data\n",
    "    time_tmp = data['times']                                      # get time, in unit of wpe^{-1}\n",
    "    time_ns = np.linspace(0,tp.getTimes()[-1],time_tmp.size)      # transform time array into unit of ns.\n",
    "    \n",
    "    tp_px = data['px']                                            # extract all kinds of data\n",
    "    tp_py = data['py']\n",
    "    tp_pz = data['pz']\n",
    "    tp_Ex = data['Ex']\n",
    "    tp_Ey = data['Ey']\n",
    "    tp_Bz = data['Bz']\n",
    "    tp_x  = data['x']\n",
    "    tp_weight = data['w']\n",
    "    \n",
    "#     tp_x_frame = tp_x * de * 1e3 - frame * time_ns              # change reference frame, do it later.\n",
    "    \n",
    "    tp_E  = (tp_px**2 + tp_py**2 + tp_pz**2)*(me*c)**2 / 2. / mass / qe / 1e6  # energy, in Unit of MeV\n",
    "    tp_E = np.where(np.isfinite(tp_E),tp_E,0.)                                 # replace the inf/nan with 0.\n",
    "    \n",
    "    # find the particle with the highest energy at the last timestep \n",
    "    # (end of the simulation)\n",
    "    [timestep, particle_number] = np.unravel_index(tp_E[-1].argmax(), tp_E.shape)\n",
    "    \n",
    "    tp_x_sub = tp_x[:,particle_number]\n",
    "    tp_E_sub = tp_E[:,particle_number]\n",
    "    \n",
    "    return tp_x, tp_E, tp_px, tp_py, tp_pz, time_ns, tp_x_sub, tp_E_sub, tp_Ex, tp_Ey, tp_Bz, tp_weight, timestep, particle_number\n"
   ]
  },
  {
   "cell_type": "code",
   "execution_count": 13,
   "metadata": {},
   "outputs": [
    {
     "name": "stderr",
     "output_type": "stream",
     "text": [
      "/Users/yz/Documents/Smilei/happi/_Diagnostics/Diagnostic.py:850: RuntimeWarning: divide by zero encountered in log10\n",
      "  return self._np.log10( self._vfactor*self._getDataAtTime(t) )\n"
     ]
    }
   ],
   "source": [
    "# Fig.1, Start with phase space evolution\n",
    "\n",
    "ps0 = S0.ParticleBinning(0,\n",
    "                       units=Units, \n",
    "                       cmap=newcmap,\n",
    "                       vmin=-1,vmax=3,\n",
    "                       ymin=-2000, ymax=4000,\n",
    "                       xmin=Lx/2,xmax=Lx*1.5,\n",
    "                       data_log=True,\n",
    "                      )\n",
    "\n",
    "ps1 = S1.ParticleBinning(0,\n",
    "                       units=Units, \n",
    "                       cmap=newcmap,\n",
    "                       vmin=-1,vmax=3,\n",
    "                       ymin=-2000, ymax=4000,\n",
    "                       xmin=Lx,xmax=2.0*Lx,\n",
    "                       data_log=True,\n",
    "                      )\n",
    "\n",
    "happi.multiPlot(ps0,ps1, \n",
    "                shape=[2,1],\n",
    "                figsize=[8,6],\n",
    "                skipAnimation=False,\n",
    "                movie='/Users/yz/Desktop/x-vx-time2x.mp4',\n",
    "                fps=15,\n",
    "                dpi=300,\n",
    "               )"
   ]
  },
  {
   "cell_type": "code",
   "execution_count": 74,
   "metadata": {},
   "outputs": [
    {
     "name": "stdout",
     "output_type": "stream",
     "text": [
      "Loaded simulation '/Volumes/LaCie/Data_Smilei/single_shock_1d_ne2e18_v1500_Bz20_angle90_Te100_Ti200_Lx2048_dx02_ppc512_time2x'\n",
      "Scanning for Scalar diagnostics\n",
      "Scanning for Field diagnostics\n",
      "Scanning for Probe diagnostics\n",
      "Scanning for ParticleBinning diagnostics\n",
      "Scanning for RadiationSpectrum diagnostics\n",
      "Scanning for Performance diagnostics\n",
      "Scanning for Screen diagnostics\n",
      "Scanning for Tracked particle diagnostics\n"
     ]
    }
   ],
   "source": [
    "ekin0, num0, t_end0 = spect_load_1d(wkdir[1], 1.0, 1, 0.0, S1.namelist.L_x.real * de * 1e3)"
   ]
  },
  {
   "cell_type": "code",
   "execution_count": 75,
   "metadata": {},
   "outputs": [
    {
     "name": "stdout",
     "output_type": "stream",
     "text": [
      "Loaded simulation '/Volumes/LaCie/Data_Smilei/single_shock_1d_ne2e18_v1500_Bz20_angle90_Te100_Ti200_Lx2048_dx02_ppc512_time2x'\n",
      "Scanning for Scalar diagnostics\n",
      "Scanning for Field diagnostics\n",
      "Scanning for Probe diagnostics\n",
      "Scanning for ParticleBinning diagnostics\n",
      "Scanning for RadiationSpectrum diagnostics\n",
      "Scanning for Performance diagnostics\n",
      "Scanning for Screen diagnostics\n",
      "Scanning for Tracked particle diagnostics\n"
     ]
    }
   ],
   "source": [
    "ekin1, num1, t_end1 = spect_load_1d(wkdir[1], 0.5, 1, 0.0, S1.namelist.L_x.real * de * 1e3)"
   ]
  },
  {
   "cell_type": "code",
   "execution_count": 39,
   "metadata": {},
   "outputs": [
    {
     "name": "stdout",
     "output_type": "stream",
     "text": [
      "Loaded simulation '/Volumes/LaCie/Data_Smilei/single_shock_1d_ne2e18_v1500_Bz20_angle90_Te600_Ti200_Lx2048_dx02_ppc1024/'\n",
      "Scanning for Scalar diagnostics\n",
      "Scanning for Field diagnostics\n",
      "Scanning for Probe diagnostics\n",
      "Scanning for ParticleBinning diagnostics\n",
      "Scanning for RadiationSpectrum diagnostics\n",
      "Scanning for Performance diagnostics\n",
      "Scanning for Screen diagnostics\n",
      "Scanning for Tracked particle diagnostics\n"
     ]
    }
   ],
   "source": [
    "ekin2, num2, t_end2 = spect_load_1d(wkdir[2], 0.75, 1, 0.0, Lx)"
   ]
  },
  {
   "cell_type": "code",
   "execution_count": 77,
   "metadata": {},
   "outputs": [],
   "source": [
    "plt.rc('text', usetex=False)\n",
    "mpl.rcParams['font.family'] = 'Arial'\n",
    "mpl.rcParams['axes.labelsize'] = 18\n",
    "mpl.rcParams['legend.fontsize'] = 16#20\n",
    "# mpl.rcParams['legend.fontname'] = 'Comic Sans MS'\n",
    "mpl.rcParams['xtick.labelsize'] = 16\n",
    "mpl.rcParams['ytick.labelsize'] = 16\n",
    "mpl.rcParams['lines.linewidth'] = 1.2\n",
    "\n",
    "width  = 3.14 # single column, 8cm\n",
    "height = width\n",
    "fig, ax = plt.subplots()\n",
    "\n",
    "plt.ticklabel_format(axis='both', style='sci',useMathText=True)\n",
    "\n",
    "fig.subplots_adjust(left=.2, bottom=.2, right=.9, top=.9)\n",
    "\n",
    "ax.set_xscale('log')\n",
    "ax.set_yscale('log')\n",
    "\n",
    "exp = np.loadtxt('/Users/yz/Nextcloud/PROJECTS/Shock_2020/Shock_MS2020/Materials_For_Main/Fig_PIC_results_v2/spectres_av.txt')\n",
    "ax.errorbar(exp[0:-1:4,0], exp[0:-1:4,1]/1e14, yerr=exp[0:-1:4,2]/1e14, \n",
    "            fmt='or',markersize=4,\n",
    "            ecolor='b',elinewidth=1.0,\n",
    "            capsize=2.0, capthick = 1.0,\n",
    "            \n",
    "            label='Exp. Data')\n",
    "\n",
    "# ax.plot(ekin0, num0, '-b',  label='2D, ppc=256,  Ly=128, dx=1.0de, time = {:.1f} ns'.format(t_end0*1e9), lw=1.0)\n",
    "# ax.plot(ekin1, num1, '-r',  label='1D, ppc=1024, Ly=1,   dx=0.2de, time = {:.1f} ns'.format(t_end1*1e9), lw=1.0)\n",
    "# ax.plot(ekin2, num2, '-g',  label='2D, ppc=256,  Ly=32,  dx=0.5de, time = {:.1f} ns'.format(t_end2*1e9), lw=1.0)\n",
    "\n",
    "# ax.plot(ekin1, num1, '-m',  label='Te=30eV, lmd=0.04dx', lw=1.0)\n",
    "# ax.plot(ekin0, num0, '-y',  label='Te=50eV, lmd=0.05dx', lw=1.0)\n",
    "# ax.plot(ekin2, num2, '-g',  label='Te=300eV, lmd=0.12dx', lw=1.0)\n",
    "\n",
    "ax.plot(ekin0, num0, '-c',  label='time = {:.1f} ns'.format(t_end0*1e9), lw=1.0)\n",
    "ax.plot(ekin1, num1, '-m',  label='time = {:.1f} ns'.format(t_end1*1e9), lw=1.0)\n",
    "# ax.plot(ekin4, num4, '-r',  label='time = {:.1f} ns'.format(t_end4*1e9), lw=1.0)\n",
    "\n",
    "# def mypower(x, ampl, expo):\n",
    "#     return ampl * x**expo\n",
    "\n",
    "# ampl = 8.7197e-06\n",
    "# expo = -2.23034800\n",
    "\n",
    "# num6 = mypower(ekin4[90:1500], ampl, expo)\n",
    "# ax.plot(ekin4[90:1500], num6, '--r',  label='fitted with p = {:.2f}'.format(expo), lw=2.0)\n",
    "\n",
    "ax.tick_params(axis='both',which='major', direction='out',labelsize=8)\n",
    "ax.minorticks_off()\n",
    "\n",
    "ax.set_xlabel(r'$E_{p}$ [MeV]',fontsize=10)\n",
    "ax.set_ylabel(r'$E\\frac{dN}{dE}\\frac{1}{N}$',fontsize=10)\n",
    "\n",
    "\n",
    "ax.set_xlim([0.02, 0.1])\n",
    "formatter = ScalarFormatter()\n",
    "formatter.set_scientific(False)\n",
    "ax.xaxis.set_major_formatter(formatter)\n",
    "ax.set_xticks([0.02, 0.05, 0.08])\n",
    "# ax.set_xticklabels([0.01, 0.05, 0.10],fontsize=8)\n",
    "\n",
    "\n",
    "ax.set_ylim([1e-5, 1])\n",
    "ax.set_yticks([1, 0.01, 0.0001])\n",
    "# ax.set_yticklabels([1, 0.01, 1],fontsize=8)\n",
    "\n",
    "# ax.ticklabel_format(axis='both', style='sci',useMathText=True)\n",
    "\n",
    "\n",
    "# ax.yaxis.set_major_formatter(plt.FormatStrFormatter(useMathText))\n",
    "\n",
    "leg = ax.legend(loc='best', numpoints=1, fancybox=False, fontsize=6, frameon=False)\n",
    "leg._legend_box.align = \"right\"\n",
    "# ax.grid(which='both')\n",
    "fig.set_size_inches(width, height)\n",
    "fig.savefig('/Users/yz/Desktop/'+'Long_spe'+'.pdf',bbox_inches='tight',dpi=300)"
   ]
  },
  {
   "cell_type": "code",
   "execution_count": 40,
   "metadata": {},
   "outputs": [],
   "source": [
    "# Fig.2, followed by proton energy spectrum\n",
    "\n",
    "# Get the spectrum of three different times\n",
    "\n",
    "# ekin0, num0, t_end0 = spect_load_1d(wkdir, 1.0, 1, 0.0, Lx)\n",
    "# ekin1, num1, t_end1 = spect_load_1d(wkdir, 0.4, 1, 0.0, Lx)\n",
    "# ekin2, num2, t_end2 = spect_load_1d(wkdir, 0.2, 1, 0.0, Lx)\n",
    "\n",
    "# Plot the figure\n",
    "\n",
    "width  = 3.2 * 2\n",
    "height = width / 1.618\n",
    "fig, ax = plt.subplots()\n",
    "fig.subplots_adjust(left=.2, bottom=.2, right=.9, top=.9)\n",
    "ax.loglog(ekin2, num2, '-g', label='{:.1f} ns'.format(t_end2*1e9), lw=2.0)\n",
    "ax.loglog(ekin1, num1, '-b', label='{:.1f} ns'.format(t_end1*1e9), lw=2.0)\n",
    "ax.loglog(ekin0, num0, '-r', label='{:.1f} ns'.format(t_end0*1e9), lw=2.0)\n",
    "ax.tick_params(axis='both',which='both', direction='in')\n",
    "ax.set_xlabel(r'$E_{p}$ (MeV)')\n",
    "ax.set_ylabel(r'$E\\frac{dN}{dE}\\frac{1}{N}$')\n",
    "ax.set_xlim([0.009, 0.1])\n",
    "ax.set_xticks([0.01, 0.05, 0.10])\n",
    "ax.set_xticklabels([0.01, 0.05, 0.10])\n",
    "ax.set_ylim([1e-5, 1])\n",
    "ax.legend(loc='best', numpoints=1, fancybox=True, fontsize=12)\n",
    "ax.grid(which='both')\n",
    "fig.set_size_inches(width, height)\n",
    "# fig.savefig('/Users/yz/Desktop/'+'spe_latest'+'.png',bbox_inches='tight',dpi=300)"
   ]
  },
  {
   "cell_type": "code",
   "execution_count": 29,
   "metadata": {},
   "outputs": [],
   "source": [
    "# Fig.3, particle trajectories illustrating the acceleration mechanism\n",
    "\n",
    "# prepare packages\n",
    "\n",
    "import numpy as np\n",
    "import matplotlib.pyplot as plt\n",
    "import matplotlib as mpl\n",
    "\n",
    "from matplotlib.collections import LineCollection\n",
    "from matplotlib.colors import ListedColormap, BoundaryNorm, LogNorm\n",
    "\n",
    "from mpl_toolkits.axes_grid1 import make_axes_locatable\n",
    "from matplotlib.ticker import LogLocator\n",
    "\n",
    "# prepare to convert to center-of-mass reference frame \n",
    "n1   = 2e18     # drifting plasma, number density\n",
    "n2   = 1e18     # ambient plasma, number density\n",
    "v1   = 1.5e6    # drifting velocity, m/s\n",
    "v2   = 0.0\n",
    "vcom = (n1*v1 + n2*v2) / (n1+n2) # center-of-mass reference frame, m/s\n",
    "vcom_mm_ns = vcom * 1e-6         # in unit of mm/ns\n",
    "\n",
    "# prepare to convert to discontinuity reference frame\n",
    "vcd = 0.86 # mm/ns, read from the x-t plot.\n",
    "\n",
    "# # get data for 2D streak map\n",
    "# Bz_x_0, Bz_x, Bz_t, Bz = prepare_streak_2D(S, 0, 'Bz', vcom_mm_ns)\n",
    "# ni_x_0, ni_x, ni_t, ni = prepare_streak_2D(S, 0, 'Rho_ion1+Rho_ion2', vcom_mm_ns)\n",
    "\n",
    "# Bz_x_1, Bz_x_cd,  Bz_t_cd,  Bz_cd  = prepare_streak_2D(S1, 0, 'Bz', vcd)\n",
    "ni_x_1, ni_x_cd,  ni_t_cd,  ni_cd  = prepare_streak_2D(S1, 0, 'Rho_ion1+Rho_ion2', vcd)\n",
    "# Ex_x_2, Ex_x_cd2, Ex_t_cd2, Ex_cd2 = prepare_streak_2D(S, 1, 'Ex', vcd)\n",
    "# Ey_x_2, Ey_x_cd2, Ey_t_cd2, Ey_cd2 = prepare_streak_2D(S, 1, 'Ey', vcd)\n",
    "Bz_x_2, Bz_x_cd2, Bz_t_cd2, Bz_cd2 = prepare_streak_2D(S1, 1, 'Bz', vcd)"
   ]
  },
  {
   "cell_type": "code",
   "execution_count": null,
   "metadata": {},
   "outputs": [],
   "source": [
    "# particle selection condition\n",
    "# TODO: in this Smilei formatted string, you can't use the self-defined constants.\n",
    "condition_p1 = \"any(t>0, ((px**2+py**2+pz**2)*(9.1e-31*3.0e8)**2/2./(1836*9.1e-31)/1.6e-19/1e6 > 0.04) * ((px**2+py**2+pz**2)*(9.1e-31*3.0e8)**2/2./(1836*9.1e-31)/1.6e-19/1e6 < 0.05))\"\n",
    "condition_p2 = \"any(t>0, ((px**2+py**2+pz**2)*(9.1e-31*3.0e8)**2/2./(1836*9.1e-31)/1.6e-19/1e6 > 0.04) * ((px**2+py**2+pz**2)*(9.1e-31*3.0e8)**2/2./(1836*9.1e-31)/1.6e-19/1e6 < 0.05))\"\n",
    "\n",
    "# get particle tracer data\n",
    "\n",
    "ion1t_x, ion1t_E, \\\n",
    "ion1t_px, ion1t_py, ion1t_pz, \\\n",
    "ion1t_time_ns, ion1t_x_sub, ion1t_E_sub, \\\n",
    "ion1t_Ex, ion1t_Ey, ion1t_Bz, \\\n",
    "ion1t_weight, ion1t_ts, ion1t_id = Particle_trajectory(S1, 'ion1t', mp, condition_p1)\n",
    "\n",
    "ion2t_x, ion2t_E, \\\n",
    "ion2t_px, ion2t_py, ion2t_pz, \\\n",
    "ion2t_time_ns, ion2t_x_sub, ion2t_E_sub, \\\n",
    "ion2t_Ex, ion2t_Ey, ion2t_Bz, \\\n",
    "ion2t_weight, ion2t_ts, ion2t_id = Particle_trajectory(S1, 'ion2t', mp, condition_p2)"
   ]
  },
  {
   "cell_type": "code",
   "execution_count": null,
   "metadata": {},
   "outputs": [],
   "source": [
    "# particle selection condition\n",
    "# TODO: in this Smilei formatted string, you can't use the self-defined constants.\n",
    "condition_p1 = \"any(t>0, ((px**2+py**2+pz**2)*(9.1e-31*3.0e8)**2/2./(1836*9.1e-31)/1.6e-19/1e6 > 0.04))\"\n",
    "condition_p2 = \"any(t>0, ((px**2+py**2+pz**2)*(9.1e-31*3.0e8)**2/2./(1836*9.1e-31)/1.6e-19/1e6 > 0.03))\"\n",
    "\n",
    "# get particle tracer data\n",
    "\n",
    "# ion1t_x, ion1t_E, \\\n",
    "# ion1t_px, ion1t_py, ion1t_pz, \\\n",
    "# ion1t_time_ns, ion1t_x_sub, ion1t_E_sub, \\\n",
    "# ion1t_Ex, ion1t_Ey, ion1t_Bz, \\\n",
    "# ion1t_weight, ion1t_ts, ion1t_id = Particle_trajectory(S0, 'ion1t', mp, condition_p1)\n",
    "\n",
    "ion2t_x, ion2t_E, \\\n",
    "ion2t_px, ion2t_py, ion2t_pz, \\\n",
    "ion2t_time_ns, ion2t_x_sub, ion2t_E_sub, \\\n",
    "ion2t_Ex, ion2t_Ey, ion2t_Bz, \\\n",
    "ion2t_weight, ion2t_ts, ion2t_id = Particle_trajectory(S0, 'ion2t', mp, condition_p2)"
   ]
  },
  {
   "cell_type": "code",
   "execution_count": 30,
   "metadata": {},
   "outputs": [],
   "source": [
    "## TOFIX: into a well written function\n",
    "\n",
    "nt = ion2t_time_ns.size\n",
    "t_end = S1.namelist.t_end / wr * 1e9\n",
    "time_ns = np.linspace(0.,t_end,nt)\n",
    "\n",
    "Lx = S1.namelist.L_x.real * de * 1e3\n",
    "\n",
    "ion2t_x_frame = zeros_like(ion2t_x)\n",
    "ion2t_x_vcd   = zeros_like(ion2t_x)\n",
    "# ion2t_px_vcd  = zeros_like(ion2t_px)\n",
    "# ion2t_E_vcd  = zeros_like(ion2t_E)\n",
    "for i in range(349):     # Note that here the loop-number should be the num. of particles.\n",
    "    ion2t_x_frame[:,i] = ion2t_x[:,i]*de*1e3 - vcom_mm_ns*time_ns - Lx/2.\n",
    "    ion2t_x_vcd[:,i]   = ion2t_x[:,i]*de*1e3 - vcd       *time_ns - Lx/2.\n",
    "#     ion2t_px_vcd[:,i]  = ion2t_px[:,i]*me*c - vcd*1e6*mp   # in the unit of kgm/s\n",
    "#     ion2t_E_vcd[:,i]   = (ion2t_px_vcd[:,i]**2 + (ion2t_py[:,i]*me*c)**2 + (ion2t_pz[:,i]*me*c)**2) / 2. / mp / qe / 1e6\n",
    "    \n",
    "# ion1t_x_frame = zeros_like(ion1t_x)\n",
    "# ion1t_x_vcd   = zeros_like(ion1t_x)\n",
    "# ion1t_px_vcd  = zeros_like(ion1t_px)\n",
    "# ion1t_E_vcd   = zeros_like(ion1t_E)\n",
    "# for i in range(34):\n",
    "#     ion1t_x_frame[:,i] = ion1t_x[:,i]*de*1e3 - vcom_mm_ns*time_ns - Lx/2.\n",
    "#     ion1t_x_vcd[:,i]   = ion1t_x[:,i]*de*1e3 - vcd       *time_ns - Lx/2.\n",
    "# #     ion1t_px_vcd[:,i]  = ion1t_px[:,i]*me*c - vcd*1e6*mp   # in the unit of kgm/s\n",
    "# #     ion1t_E_vcd[:,i]   = (ion1t_px_vcd[:,i]**2 + (ion1t_py[:,i]*me*c)**2 + (ion1t_pz[:,i]*me*c)**2) / 2. / mp / qe / 1e6"
   ]
  },
  {
   "cell_type": "code",
   "execution_count": null,
   "metadata": {},
   "outputs": [],
   "source": [
    "nt = ion2t_time_ns.size\n",
    "t_end = S1.namelist.t_end / wr * 1e9\n",
    "time_ns = np.linspace(0.,t_end,nt)\n",
    "# plt.plot(ion2t_x_vcd[:,5],  time_ns, lw=2.0, label='{:.1f}'.format(ion2t_id))\n",
    "# plt.plot(ion2t_x_vcd[:,20],  time_ns, lw=2.0, label='{:.1f}'.format(ion2t_id))\n",
    "# plt.plot(ion2t_x[:,40],  time_ns, lw=2.0, label='{:.1f}'.format(ion2t_id))\n",
    "# plt.plot(ion1t_x_vcd[:,1],  time_ns, lw=2.0)\n",
    "# plt.legend()\n",
    "plist = np.arange(349)\n",
    "print(np.where(np.max(ion2t_E[:,:])))\n",
    "for p in plist:\n",
    "#     print(p)\n",
    "    print(np.max(ion2t_E[:,p]))\n",
    "#     plt.plot(ion2t_x_vcd[:,p],time_ns)\n",
    "plt.xlabel('x [mm]')\n",
    "plt.ylabel('t [ns]')"
   ]
  },
  {
   "cell_type": "code",
   "execution_count": 63,
   "metadata": {},
   "outputs": [
    {
     "data": {
      "text/plain": [
       "(17, 1564)"
      ]
     },
     "execution_count": 63,
     "metadata": {},
     "output_type": "execute_result"
    }
   ],
   "source": [
    "a = ion2t_E[:,:]\n",
    "\n",
    "b = np.r_[ion2t_E[:,:19].T,ion2t_E[:,21:].T]\n",
    "\n",
    "unravel_index(b.argmax(), b.shape)"
   ]
  },
  {
   "cell_type": "code",
   "execution_count": null,
   "metadata": {},
   "outputs": [],
   "source": [
    "plt.plot(ion2t_x_vcd[:,:],  time_ns, lw=2.0)"
   ]
  },
  {
   "cell_type": "code",
   "execution_count": 66,
   "metadata": {},
   "outputs": [
    {
     "name": "stderr",
     "output_type": "stream",
     "text": [
      "<ipython-input-66-3af14c5fd5d7>:11: MatplotlibDeprecationWarning: shading='flat' when X and Y have the same dimensions as C is deprecated since 3.3.  Either specify the corners of the quadrilaterals with X and Y, or pass shading='auto', 'nearest' or 'gouraud', or set rcParams['pcolor.shading'].  This will become an error two minor releases later.\n",
      "  cs1 = axs.pcolormesh(ni_x_cd, ni_t_cd, ni_cd,cmap=plt.cm.jet,vmin=0,vmax=6.0e18)\n",
      "<ipython-input-66-3af14c5fd5d7>:12: MatplotlibDeprecationWarning: You are modifying the state of a globally registered colormap. In future versions, you will not be able to modify a registered colormap in-place. To remove this warning, you can make a copy of the colormap first. cmap = copy.copy(mpl.cm.get_cmap(\"jet\"))\n",
      "  cs1.cmap.set_under(color='white')\n",
      "<ipython-input-66-3af14c5fd5d7>:13: MatplotlibDeprecationWarning: You are modifying the state of a globally registered colormap. In future versions, you will not be able to modify a registered colormap in-place. To remove this warning, you can make a copy of the colormap first. cmap = copy.copy(mpl.cm.get_cmap(\"jet\"))\n",
      "  cs1.cmap.set_over(color='black')\n"
     ]
    }
   ],
   "source": [
    "# From this point, the post-process will become quite customized.\n",
    "# It will be highly dependent on what you want to show.\n",
    "\n",
    "# Draw the figure of x-t-ni/Bz\n",
    "width = 3.2 * 1.5\n",
    "height = width / 1.618 * 2\n",
    "fig, axs = plt.subplots()\n",
    "\n",
    "# cs1 = axs.pcolormesh(Bz_x_cd2, Bz_t_cd2, np.log10(Bz_cd2**2),cmap=plt.cm.Greys)\n",
    "# cs1 = axs.pcolormesh(ni_x, ni_t, ni,cmap=plt.cm.jet,vmin=0,vmax=6.0e18)\n",
    "cs1 = axs.pcolormesh(ni_x_cd, ni_t_cd, ni_cd,cmap=plt.cm.jet,vmin=0,vmax=6.0e18)\n",
    "cs1.cmap.set_under(color='white')\n",
    "cs1.cmap.set_over(color='black')\n",
    "ax1_divider = make_axes_locatable(axs)\n",
    "cax1=ax1_divider.append_axes(\"right\", size=\"4%\", pad=\"2%\")\n",
    "# cbar1=fig.colorbar(cs1, ax=fig, cax=cax1, orientation=\"vertical\", label=r'$log_{10}(|B_z|^2)$')\n",
    "cbar1=fig.colorbar(cs1, ax=fig, cax=cax1, orientation=\"vertical\", label=r'$n_i [cm^{-3}]$ ')\n",
    "cbar1.ax.tick_params()\n",
    "cax1.xaxis.set_ticks_position(\"top\")\n",
    "axs.tick_params(axis='both')\n",
    "axs.set_xlabel('x [mm]')\n",
    "axs.set_ylabel('t [ns]')\n",
    "\n",
    "axs.plot(ion2t_x_vcd[:,0:300:50],  time_ns, lw=2.0)\n",
    "\n",
    "# # axs.plot(ion2t_x_frame[:,0],  time_ns, lw=2.0, color='blue',   ls='--')\n",
    "# # axs.plot(ion2t_x_frame[:,7],  time_ns, lw=2.0, color='red',  ls='--')\n",
    "# # axs.plot(ion2t_x_frame[:,14], time_ns, lw=2.0, color='green', ls='--')\n",
    "# # axs.plot(ion1t_x_frame[:,0],  time_ns, lw=2.0, color='black')\n",
    "# # axs.plot(ion1t_x_frame[:,2],  time_ns, lw=2.0, color='m')\n",
    "\n",
    "# # axs.plot(ion2t_x_vcd[:,0],  time_ns, lw=2.0, color='blue',   ls='--')\n",
    "# axs.plot(ion2t_x_vcd[:,7],  time_ns, lw=2.0, color='red',  ls='--')\n",
    "# # axs.plot(ion2t_x_vcd[:,14], time_ns, lw=2.0, color='green', ls='--')\n",
    "# axs.plot(ion1t_x_vcd[:,0],  time_ns, lw=2.0, color='black')\n",
    "# axs.plot(ion1t_x_vcd[:,2],  time_ns, lw=2.0, color='m')\n",
    "\n",
    "\n",
    "axs.set_xlim([-2,2])\n",
    "axs.set_ylim([0,5.3])\n",
    "\n",
    "fig.set_size_inches(width,height)\n",
    "\n",
    "fig.savefig('/Users/yz/Desktop/'+'trace_ni_xt2'+'.png',bbox_inches='tight',dpi=300)"
   ]
  },
  {
   "cell_type": "code",
   "execution_count": 53,
   "metadata": {},
   "outputs": [],
   "source": [
    "# Draw the figure of x-E\n",
    "\n",
    "width = 3.2 * 2\n",
    "height = width / 1.618\n",
    "fig, axs = plt.subplots()\n",
    "part_id = 20\n",
    "# axs.plot(ion2t_x_frame[:,0],  ion2t_E[:,0],  lw=2.0, ls='--', color='blue')\n",
    "# axs.plot(ion2t_x_frame[:,7],  ion2t_E[:,7],  lw=2.0, ls='--', color='red')\n",
    "# axs.plot(ion2t_x_frame[:,14], ion2t_E[:,14], lw=2.0, ls='--', color='green')\n",
    "# axs.plot(ion1t_x_frame[:,0],  ion1t_E[:,0],  lw=2.0, color='black')\n",
    "# axs.plot(ion1t_x_frame[:,2],  ion1t_E[:,2],  lw=2.0, color='m')\n",
    "\n",
    "# axs.plot(ion2t_x_vcd[:,0],  ion2t_E[:,0],  lw=2.0, color='blue',   ls='--')\n",
    "# axs.plot(ion2t_x_vcd[:,7],  ion2t_E[:,7],  lw=2.0, color='red',  ls='--')\n",
    "# axs.plot(ion2t_x_vcd[:,14], ion2t_E[:,14], lw=2.0, color='green', ls='--')\n",
    "# axs.plot(ion1t_x_vcd[:,0],  ion1t_E[:,0],  lw=2.0, color='black')\n",
    "# axs.plot(ion1t_x_vcd[:,3],  ion1t_E[:,3],  lw=2.0, color='m')\n",
    "\n",
    "# axs.plot(ion2t_x_vcd[:,0],  ion2t_E[:,0],  lw=2.0, color='blue',   ls='--')\n",
    "# axs.plot(ion2t_x_vcd[:,7],  ion2t_E[:,7],  lw=2.0, color='red',  ls='--')\n",
    "# axs.plot(ion2t_x_vcd[:,14], ion2t_E[:,14], lw=2.0, color='green', ls='--')\n",
    "axs.plot(ion2t_x[:,part_id],  ion2t_px[:,part_id]*(me*c)/mp/1e3,  lw=2.0, color='blue', label=r'$V_x$')\n",
    "axs.plot(ion2t_x[:,part_id],  ion2t_py[:,part_id]*(me*c)/mp/1e3,  lw=2.0, color='red', label=r'$V_y$')\n",
    "# axs.plot(ion1t_x_vcd[:,3],  ion1t_E[:,3],  lw=2.0, color='m')\n",
    "\n",
    "# axs.set_xlim([-2,2])\n",
    "# axs.set_ylim([0,0.08])\n",
    "axs.legend()\n",
    "axs.set_xlabel('x [mm]')\n",
    "axs.set_ylabel('v [km/s]')\n",
    "\n",
    "\n",
    "fig.set_size_inches(width,height)\n",
    "fig.savefig('/Users/yz/Desktop/'+'trace_x_vx_vy'+'.png',bbox_inches='tight',dpi=300)"
   ]
  },
  {
   "cell_type": "code",
   "execution_count": 64,
   "metadata": {},
   "outputs": [],
   "source": [
    "# Draw the figure of x-px-py\n",
    "\n",
    "width = 3.2 * 2\n",
    "height = width \n",
    "fig, axs = plt.subplots()\n",
    "\n",
    "id1 = 20\n",
    "id2 = 17\n",
    "# axs.plot(ion2t_px_vcd[:,0],  ion2t_py[:,0],  lw=2.0, ls='--', color='blue')\n",
    "axs.plot(ion2t_px[:,20]*(me*c)/mp/1e3,   ion2t_py[:,20]*(me*c)/mp/1e3,  lw=2.0, ls='-', color='red')\n",
    "axs.plot(ion2t_px[:,id2]*(me*c)/mp/1e3,   ion2t_py[:,id2]*(me*c)/mp/1e3,  lw=2.0, ls='--', color='blue')\n",
    "# axs.plot(ion2t_px[:,14], ion2t_py[:,14], lw=2.0, ls='--', color='green')\n",
    "# axs.plot(ion1t_px[:,0]*(me*c)/mp/1e3,  ion1t_py[:,0]*(me*c)/mp/1e3,  lw=3.0, color='black')\n",
    "# axs.plot(ion1t_px[:,2]*(me*c)/mp/1e3,  ion1t_py[:,2]*(me*c)/mp/1e3,  lw=2.0, color='m')\n",
    "\n",
    "# axs.plot(ion2t_x_vcd[:,0],  ion2t_px[:,0],  lw=2.0, color='blue',   ls='--')\n",
    "# axs.plot(ion2t_x_vcd[:,7],  ion2t_px[:,7],  lw=2.0, color='red',  ls='--')\n",
    "# axs.plot(ion2t_x_vcd[:,14], ion2t_px[:,14], lw=2.0, color='green', ls='--')\n",
    "# axs.plot(ion1t_x_vcd[:,0],  ion1t_px[:,0],  lw=2.0, color='black')\n",
    "# # axs.plot(ion1t_x_vcd[:,3],  ion1t_px[:,3],  lw=2.0, color='m')\n",
    "# axs.plot(ion1t_x_vcd[:,0],  ion1t_py[:,0],  lw=2.0, color='black', ls='--')\n",
    "\n",
    "# axs.plot(time_ns,  ion1t_px[:,0],  lw=2.0, color='black')\n",
    "# # axs.plot(ion1t_x_vcd[:,3],  ion1t_px[:,3],  lw=2.0, color='m')\n",
    "# axs.plot(time_ns,  ion1t_py[:,0],  lw=2.0, color='black', ls='--')\n",
    "\n",
    "# axs.plot(time_ns,  ion2t_px[:,0],  lw=2.0, color='blue',   ls='-')\n",
    "# axs.plot(time_ns,  ion2t_py[:,0],  lw=2.0, color='blue',   ls='--')\n",
    "\n",
    "# axs.plot(ion1t_px[:,0],  ion1t_py[:,0],  lw=2.0, color='black')\n",
    "\n",
    "\n",
    "axs.set_xlim([-3000,5000])\n",
    "axs.set_ylim([-4000,4000])\n",
    "axs.grid()\n",
    "\n",
    "axs.set_xlabel(r'$V_x [km/s]$')\n",
    "axs.set_ylabel(r'$V_y [km/s]$')\n",
    "\n",
    "fig.set_size_inches(width,height)\n",
    "\n",
    "fig.savefig('/Users/yz/Desktop/'+'trace_vx-vy1'+'.png',bbox_inches='tight',dpi=300)"
   ]
  },
  {
   "cell_type": "code",
   "execution_count": null,
   "metadata": {},
   "outputs": [],
   "source": [
    "ion1t_E_vcd = np.zeros_like(ion1t_E)\n",
    "ion1t_px_vcd = np.zeros_like(ion1t_px)\n",
    "ion1t_py_vcd = np.zeros_like(ion1t_py)\n",
    "ion1t_pz_vcd = np.zeros_like(ion1t_pz)\n",
    "\n",
    "ion1t_px_vcd"
   ]
  },
  {
   "cell_type": "code",
   "execution_count": 48,
   "metadata": {},
   "outputs": [
    {
     "name": "stderr",
     "output_type": "stream",
     "text": [
      "<ipython-input-48-3281db579d65>:7: MatplotlibDeprecationWarning: shading='flat' when X and Y have the same dimensions as C is deprecated since 3.3.  Either specify the corners of the quadrilaterals with X and Y, or pass shading='auto', 'nearest' or 'gouraud', or set rcParams['pcolor.shading'].  This will become an error two minor releases later.\n",
      "  cs1 = axs.pcolormesh(Bz_x_cd2, Bz_t_cd2, np.log10(Bz_cd2**2),cmap=plt.cm.Greys)\n",
      "<ipython-input-48-3281db579d65>:10: MatplotlibDeprecationWarning: You are modifying the state of a globally registered colormap. In future versions, you will not be able to modify a registered colormap in-place. To remove this warning, you can make a copy of the colormap first. cmap = copy.copy(mpl.cm.get_cmap(\"Greys\"))\n",
      "  cs1.cmap.set_under(color='white')\n",
      "<ipython-input-48-3281db579d65>:11: MatplotlibDeprecationWarning: You are modifying the state of a globally registered colormap. In future versions, you will not be able to modify a registered colormap in-place. To remove this warning, you can make a copy of the colormap first. cmap = copy.copy(mpl.cm.get_cmap(\"Greys\"))\n",
      "  cs1.cmap.set_over(color='black')\n"
     ]
    }
   ],
   "source": [
    "# Draw the figure of x-t-ni-E\n",
    "\n",
    "width = 3.2 * 3\n",
    "height = width / 1.618 \n",
    "fig, axs = plt.subplots()\n",
    "\n",
    "cs1 = axs.pcolormesh(Bz_x_cd2, Bz_t_cd2, np.log10(Bz_cd2**2),cmap=plt.cm.Greys)\n",
    "# cs1 = axs.pcolormesh(ni_x, ni_t, ni,cmap=plt.cm.Greys,vmin=0,vmax=6.0e18)\n",
    "# cs1 = axs.pcolormesh(ni_x_cd, ni_t_cd, ni_cd,cmap=plt.cm.Greys,vmin=0,vmax=6.0e18)\n",
    "cs1.cmap.set_under(color='white')\n",
    "cs1.cmap.set_over(color='black')\n",
    "ax1_divider = make_axes_locatable(axs)\n",
    "cax1=ax1_divider.append_axes(\"right\", size=\"4%\", pad=\"2%\")\n",
    "cbar1=fig.colorbar(cs1, ax=fig, cax=cax1, orientation=\"vertical\", label=r'$log_{10}(|B_z|^2)$')\n",
    "# cbar1=fig.colorbar(cs1, ax=fig, cax=cax1, orientation=\"vertical\", label=r'$n_i [cm^{-3}]$ ')\n",
    "cbar1.ax.tick_params()\n",
    "cax1.xaxis.set_ticks_position(\"top\")\n",
    "axs.tick_params(axis='both')\n",
    "axs.set_xlabel('x [mm]',fontsize=18)\n",
    "axs.set_ylabel('t [ns]',fontsize=18)\n",
    "\n",
    "axs.set_xlim([-2,2])\n",
    "axs.set_ylim([0,5.3])\n",
    "\n",
    "\n",
    "id = 20\n",
    "# points = np.array([ion2t_x_frame[:,0], time_ns]).T.reshape(-1, 1, 2)\n",
    "points = np.array([ion2t_x_vcd[:,id], time_ns]).T.reshape(-1, 1, 2)\n",
    "segments = np.concatenate([points[:-1], points[1:]], axis=1)\n",
    "\n",
    "norm = plt.Normalize(ion1t_E[:,id].min(), ion1t_E[:,id].max())\n",
    "lc = LineCollection(segments, norm=norm,cmap=plt.cm.jet)\n",
    "# Set the values used for colormapping\n",
    "lc.set_array(ion1t_E[:,id])\n",
    "lc.set_linewidth(3)\n",
    "line = axs.add_collection(lc)\n",
    "\n",
    "id = 100\n",
    "points2 = np.array([ion2t_x_vcd[:,id], time_ns]).T.reshape(-1, 1, 2)\n",
    "segments2 = np.concatenate([points2[:-1], points2[1:]], axis=1)\n",
    "\n",
    "norm2 = plt.Normalize(ion2t_E[:,id].min(), ion2t_E[:,id].max())\n",
    "lc2 = LineCollection(segments2, norm=norm2,cmap=plt.cm.jet)\n",
    "# Set the values used for colormapping\n",
    "lc2.set_array(ion2t_E[:,id])\n",
    "lc2.set_linewidth(3)\n",
    "line2 = axs.add_collection(lc2)\n",
    "\n",
    "# id = 25\n",
    "# points3 = np.array([ion2t_x_vcd[:,id], time_ns]).T.reshape(-1, 1, 2)\n",
    "# segments3 = np.concatenate([points3[:-1], points3[1:]], axis=1)\n",
    "\n",
    "# norm3 = plt.Normalize(ion2t_E[:,id].min(), ion2t_E[:,id].max())\n",
    "# lc3 = LineCollection(segments3, norm=norm3,cmap=plt.cm.jet)\n",
    "# # Set the values used for colormapping\n",
    "# lc3.set_array(ion2t_E[:,id])\n",
    "# lc3.set_linewidth(3)\n",
    "# line3 = axs.add_collection(lc3)\n",
    "\n",
    "# id = 35\n",
    "# points4= np.array([ion2t_x_vcd[:,id], time_ns]).T.reshape(-1, 1, 2)\n",
    "# segments4 = np.concatenate([points4[:-1], points4[1:]], axis=1)\n",
    "\n",
    "# norm4 = plt.Normalize(ion2t_E[:,id].min(), ion2t_E[:,id].max())\n",
    "# lc4 = LineCollection(segments4, norm=norm4,cmap=plt.cm.jet)\n",
    "# # Set the values used for colormapping\n",
    "# lc4.set_array(ion2t_E[:,id])\n",
    "# lc4.set_linewidth(3)\n",
    "# line4 = axs.add_collection(lc4)\n",
    "\n",
    "cax0=fig.add_axes([0.12,0.93,0.72,0.02])\n",
    "cbar0=fig.colorbar(lc, ax=fig, cax=cax0, orientation=\"horizontal\")\n",
    "cbar0.ax.tick_params()\n",
    "cax0.xaxis.set_ticks_position(\"bottom\")\n",
    "cbar0.ax.set_title('E [MeV]',fontsize=18)\n",
    "\n",
    "# fig.set_size_inches(width, height)\n",
    "fig.savefig('/Users/yz/Desktop/'+'trace_latest1'+'.png',bbox_inches='tight',dpi=300)"
   ]
  },
  {
   "cell_type": "code",
   "execution_count": 236,
   "metadata": {},
   "outputs": [
    {
     "data": {
      "text/plain": [
       "Text(0.5,1,'Wx [A.U.]')"
      ]
     },
     "execution_count": 236,
     "metadata": {},
     "output_type": "execute_result"
    }
   ],
   "source": [
    "# Draw the figure of x-t-ni-Fx\n",
    "\n",
    "# prepare Lorentz force\n",
    "# Here, the Ex contribution is not small, but high-frequency.\n",
    "# fx = qe * (ion2t_Ex[:,0]*me*wr*c/qe + ion2t_py[:,0]*me*c/mp * ion2t_Bz[:,0]*me*wr/qe)\n",
    "fx = qe * (ion2t_py[:,0]*me*c/mp * ion2t_Bz[:,0]*me*wr/qe)\n",
    "fy = qe * (ion2t_px[:,0]*me*c/mp * ion2t_Bz[:,0]*me*wr/qe) * -1.0\n",
    "\n",
    "# Prepare the work done by Lorentz force\n",
    "xx  = ion2t_x[:,0] * de\n",
    "# ddx = zeros_like(xx)\n",
    "# wx  = zeros_like(xx)\n",
    "# for i in range(xx.size-1):\n",
    "#     ddx[i+1] = xx[i+1] - xx[i]\n",
    "#     wx[i+1]  = wx[i] + fx[i+1] * ddx[i+1]\n",
    "wx = fx * xx\n",
    "wx_norm = wx / wx.max()\n",
    "wx_mev = wx / qe / 1e6  # convert it into MeV\n",
    "# dde = zeros_like(ion2t_E[:,0])\n",
    "# for i in range(dde.size-1):\n",
    "#     dde[i+1] = ion2t_E[i+1,0] - ion2t_E[i,0]\n",
    "\n",
    "width = 3.2 * 3\n",
    "height = width / 1.618 / 2 \n",
    "fig, axs = plt.subplots()\n",
    "\n",
    "# cs1 = axs.pcolormesh(Bz_x, Bz_t, np.log10(Bz**2),cmap=plt.cm.Greys)\n",
    "# cs1 = axs.pcolormesh(ni_x, ni_t, ni,cmap=plt.cm.Greys,vmin=0,vmax=6.0e18)\n",
    "cs1 = axs.pcolormesh(ni_x_cd, ni_t_cd, ni_cd,cmap=plt.cm.Greys,vmin=0,vmax=6.0e18)\n",
    "# cs1 = axs.pcolormesh(ni_x_0, ni_t_0, ni_0,cmap=plt.cm.Greys,vmin=0,vmax=6.0e18)\n",
    "cs1.cmap.set_under(color='white')\n",
    "cs1.cmap.set_over(color='black')\n",
    "ax1_divider = make_axes_locatable(axs)\n",
    "cax1=ax1_divider.append_axes(\"right\", size=\"4%\", pad=\"2%\")\n",
    "# cbar1=fig.colorbar(cs1, ax=fig, cax=cax1, orientation=\"vertical\", label=r'$log_{10}(|B_z|^2)$')\n",
    "cbar1=fig.colorbar(cs1, ax=fig, cax=cax1, orientation=\"vertical\", label=r'$n_i [cm^{-3}]$ ')\n",
    "cbar1.ax.tick_params()\n",
    "cax1.xaxis.set_ticks_position(\"top\")\n",
    "axs.tick_params(axis='both')\n",
    "axs.set_xlabel('x [mm]')\n",
    "axs.set_ylabel('t [ns]')\n",
    "\n",
    "axs.set_xlim([-2,2])\n",
    "axs.set_ylim([0,3.5])\n",
    "\n",
    "# points = np.array([ion2t_x_frame[:,0], time_ns]).T.reshape(-1, 1, 2)\n",
    "points = np.array([ion2t_x_vcd[:,0], time_ns]).T.reshape(-1, 1, 2)\n",
    "# points = np.array([ion2t_x[:,0]*de*1e3, time_ns]).T.reshape(-1, 1, 2)\n",
    "segments = np.concatenate([points[:-1], points[1:]], axis=1)\n",
    "\n",
    "norm = plt.Normalize(-1.0, 1.0)\n",
    "# norm = plt.Normalize(ion2t_E[:,0].min(), ion2t_E[:,0].max())\n",
    "lc = LineCollection(segments, norm=norm,cmap=plt.cm.seismic)\n",
    "# lc = LineCollection(segments, norm=norm,cmap=newcmap)\n",
    "# Set the values used for colormapping\n",
    "# lc.set_array(dde)\n",
    "lc.set_array(wx_norm)\n",
    "lc.set_linewidth(5)\n",
    "line = axs.add_collection(lc)\n",
    "\n",
    "cax0=fig.add_axes([0.12,0.93,0.72,0.02])\n",
    "cbar0=fig.colorbar(lc, ax=fig, cax=cax0, orientation=\"horizontal\")\n",
    "cbar0.ax.tick_params()\n",
    "cax0.xaxis.set_ticks_position(\"bottom\")\n",
    "cbar0.ax.set_title('Wx [A.U.]',fontsize=18)\n",
    "# cbar0.ax.set_title('Fx [kgm/s2]',fontsize=18)\n",
    "# fig.set_size_inches(width, height)"
   ]
  },
  {
   "cell_type": "code",
   "execution_count": 142,
   "metadata": {},
   "outputs": [
    {
     "data": {
      "text/plain": [
       "Text(0,0.5,'Energy (MeV)')"
      ]
     },
     "execution_count": 142,
     "metadata": {},
     "output_type": "execute_result"
    }
   ],
   "source": [
    "# Draw the figure of t-E\n",
    "\n",
    "width = 3.2 * 3\n",
    "height = width / 1.618 / 2\n",
    "fig, axs = plt.subplots()\n",
    "\n",
    "axs.plot(time_ns,  ion2t_E[:,0],  lw=2.0, ls='--', color='blue', label='ID:0, from gas')\n",
    "axs.plot(time_ns,  ion2t_E[:,7],  lw=2.0, ls='--', color='red', label='ID:7, from gas')\n",
    "axs.plot(time_ns, ion2t_E[:,14], lw=2.0, ls='--', color='green', label='ID:14, from gas')\n",
    "axs.plot(time_ns,  ion1t_E[:,0],  lw=2.0, color='black', label='ID:0, from drift plasma')\n",
    "axs.plot(time_ns,  ion1t_E[:,2],  lw=2.0, color='m', label='ID:2, from drift plasma')\n",
    "\n",
    "axs.legend()\n",
    "axs.set_xlim([0,3.5])\n",
    "axs.set_ylim([0,0.08])\n",
    "axs.set_xlabel('time (ns)')\n",
    "axs.set_ylabel('Energy (MeV)')"
   ]
  },
  {
   "cell_type": "code",
   "execution_count": 397,
   "metadata": {},
   "outputs": [
    {
     "name": "stderr",
     "output_type": "stream",
     "text": [
      "/usr/local/Tools/anaconda2/lib/python2.7/site-packages/ipykernel_launcher.py:28: RuntimeWarning: divide by zero encountered in log10\n"
     ]
    },
    {
     "data": {
      "text/plain": [
       "Text(0.5,0.98,'time = 2.66 ns')"
      ]
     },
     "execution_count": 397,
     "metadata": {},
     "output_type": "execute_result"
    }
   ],
   "source": [
    "# Draw the figure of x-Bz-Ex-Vx\n",
    "\n",
    "time_to_plot = 2.66 # in ns\n",
    "time_cell = int(time_to_plot * Bz_x_cd2[:,0].size / t_end)\n",
    "\n",
    "# kw = {'height_ratios':[13,4]}\n",
    "fig, (ax0,ax1,ax2,ax3,ax4) = plt.subplots(5,1, sharex=True)\n",
    "\n",
    "\n",
    "ax0.plot(Bz_x_cd2[time_cell,:],Bz_cd2[time_cell,:])\n",
    "ax0.set_ylabel(r'$B_z/B_0$')\n",
    "ax1.plot(Ex_x_cd2[time_cell,:],Ex_cd2[time_cell,:])\n",
    "ax1.set_ylabel(r'$E_x/E_0$')\n",
    "ax2.plot(Ey_x_cd2[time_cell,:],Ey_cd2[time_cell,:])\n",
    "ax2.set_ylabel(r'$E_y/E_0$')\n",
    "ax3.plot(ni_x_cd[time_cell,:],ni_cd[time_cell,:]/1e18)\n",
    "ax3.set_ylabel(r'$n_i/n_0$')\n",
    "\n",
    "# find the same timestep for phase-space data\n",
    "ts = S.ParticleBinning(0).getTimesteps()\n",
    "# it = int(ts[-1]*time_to_plot/t_end)    # here, not exactly the timestep, try to fix.\n",
    "it = 1499850\n",
    "\n",
    "# get the acorresponding data out\n",
    "ps = S.ParticleBinning(0).get(it)\n",
    "xx = ps['x']*de*1e3 - time_to_plot*vcd - Lx/2.   # convert unit to mm\n",
    "vx = ps['vx']*c*1e-3  # convert unit to km/s\n",
    "da = np.log10(ps['data'][0])\n",
    "\n",
    "xmin = 6.4 - time_to_plot*vcd - Lx/2.\n",
    "xmax = 7.0 - time_to_plot*vcd - Lx/2.\n",
    "xcmi = int((xmin-xx.min())*xx.size/(xx.max()-xx.min()))\n",
    "xcma = int((xmax-xx.max())*xx.size/(xx.max()-xx.min()))\n",
    "\n",
    "vmin = -200.0\n",
    "vmax = 2200.0\n",
    "vcmi = int((vmin-vx.min())*vx.size/(vx.max()-vx.min()))\n",
    "vcma = int((vmax-vx.min())*vx.size/(vx.max()-vx.min()))\n",
    "ax4.imshow(da[xcmi:xcma,vcmi:vcma].T,\n",
    "          extent=[xmin,xmax,vmin,vmax],\n",
    "          origin='lower',\n",
    "          aspect='auto',\n",
    "          cmap=newcmap)\n",
    "ax4.set_ylabel(r'$v_x$ [km/s]')\n",
    "\n",
    "ax4.set_xlabel('x [mm]')\n",
    "fig.suptitle('time = {:.2f} ns'.format(time_to_plot))\n"
   ]
  },
  {
   "cell_type": "code",
   "execution_count": 410,
   "metadata": {},
   "outputs": [],
   "source": [
    "xmi = 6.4\n",
    "xma = 7.2\n",
    "vmi = -200.0\n",
    "vma = 2000.0\n",
    "\n",
    "Bz0 = S.Field(1,'Bz',units=['ns','mm'],xmin=xmi,xmax=xma)\n",
    "Bz0.set(xlabel='')\n",
    "Ex0 = S.Field(1,'Ex',units=['ns','mm'],xmin=xmi,xmax=xma)\n",
    "Ex0.set(xlabel='',title='')\n",
    "ni0 = S.Field(0,'Rho_ion1+Rho_ion2',units=['ns','mm'],xmin=xmi,xmax=xma)\n",
    "ni0.set(xlabel='',title='',ylabel='Ni(N_0)')\n",
    "xpx = S.ParticleBinning(0,units=['ns','mm','km/s'],cmap=newcmap,\n",
    "                        xmin=xmi,xmax=xma, \n",
    "                        ymin=vmi,ymax=vma,\n",
    "                        cbaspect=0,                \n",
    "                        data_log=True)\n",
    "xpx.set(title='')\n",
    "\n",
    "happi.multiPlot(Bz0, Ex0, ni0, xpx, skipAnimation=True, shape=[4,1],timesteps=1500000)"
   ]
  },
  {
   "cell_type": "code",
   "execution_count": 413,
   "metadata": {},
   "outputs": [
    {
     "data": {
      "text/plain": [
       "Text(0,0.5,'t [ns]')"
      ]
     },
     "execution_count": 413,
     "metadata": {},
     "output_type": "execute_result"
    }
   ],
   "source": [
    "plt.pcolormesh(ni_x_1, ni_t_cd, ni_cd,cmap=newcmap,vmin=0,vmax=6.0e18)\n",
    "plt.colorbar()\n",
    "plt.xlabel('x [mm]')\n",
    "plt.ylabel('t [ns]')"
   ]
  },
  {
   "cell_type": "code",
   "execution_count": 394,
   "metadata": {},
   "outputs": [
    {
     "data": {
      "text/plain": [
       "2.2876000000000003"
      ]
     },
     "execution_count": 394,
     "metadata": {},
     "output_type": "execute_result"
    }
   ],
   "source": [
    "time_to_plot*vcd"
   ]
  },
  {
   "cell_type": "code",
   "execution_count": 310,
   "metadata": {},
   "outputs": [
    {
     "data": {
      "text/plain": [
       "Text(0.5,1,'time = 2.66 ns')"
      ]
     },
     "execution_count": 310,
     "metadata": {},
     "output_type": "execute_result"
    }
   ],
   "source": [
    "plt.plot(Ex_x_cd2[228,:],Ex_cd2[228,:])\n",
    "plt.plot(Bz_x_cd2[228,:],Bz_cd2[228,:])\n",
    "\n",
    "plt.title('time = {:.2f} ns'.format(3.5*228/300))"
   ]
  },
  {
   "cell_type": "code",
   "execution_count": 311,
   "metadata": {},
   "outputs": [],
   "source": [
    "b = S.ParticleBinning(0)"
   ]
  },
  {
   "cell_type": "code",
   "execution_count": 386,
   "metadata": {},
   "outputs": [
    {
     "data": {
      "text/plain": [
       "2.6604851951170216e-09"
      ]
     },
     "execution_count": 386,
     "metadata": {},
     "output_type": "execute_result"
    }
   ],
   "source": [
    "ts = b.getTimesteps()\n",
    "it = 1499850\n",
    "st = it * dt / wr\n",
    "st"
   ]
  },
  {
   "cell_type": "code",
   "execution_count": 320,
   "metadata": {},
   "outputs": [],
   "source": [
    "ps = b.get(it)"
   ]
  },
  {
   "cell_type": "code",
   "execution_count": 359,
   "metadata": {},
   "outputs": [
    {
     "name": "stderr",
     "output_type": "stream",
     "text": [
      "/usr/local/Tools/anaconda2/lib/python2.7/site-packages/ipykernel_launcher.py:3: RuntimeWarning: divide by zero encountered in log10\n",
      "  This is separate from the ipykernel package so we can avoid doing imports until\n"
     ]
    }
   ],
   "source": [
    "xx = ps['x']*de*1e3\n",
    "vx = ps['vx']*c*1e-3\n",
    "da = np.log10(ps['data'][0])"
   ]
  },
  {
   "cell_type": "code",
   "execution_count": 380,
   "metadata": {},
   "outputs": [],
   "source": [
    "ts = b.getTimesteps()"
   ]
  },
  {
   "cell_type": "code",
   "execution_count": 384,
   "metadata": {},
   "outputs": [
    {
     "data": {
      "text/plain": [
       "1499426.513337367"
      ]
     },
     "execution_count": 384,
     "metadata": {},
     "output_type": "execute_result"
    }
   ],
   "source": [
    "it = int(ts[-1]*time_to_plot/t_end)\n"
   ]
  },
  {
   "cell_type": "code",
   "execution_count": 75,
   "metadata": {},
   "outputs": [
    {
     "data": {
      "text/plain": [
       "10.898437202919613"
      ]
     },
     "execution_count": 75,
     "metadata": {},
     "output_type": "execute_result"
    }
   ],
   "source": [
    "Lx"
   ]
  },
  {
   "cell_type": "code",
   "execution_count": 76,
   "metadata": {},
   "outputs": [
    {
     "data": {
      "text/plain": [
       "3.5476683603253947"
      ]
     },
     "execution_count": 76,
     "metadata": {},
     "output_type": "execute_result"
    }
   ],
   "source": [
    "t_end"
   ]
  },
  {
   "cell_type": "code",
   "execution_count": null,
   "metadata": {},
   "outputs": [],
   "source": [
    "import matplotlib.font_manager\n",
    "from IPython.core.display import HTML\n",
    "\n",
    "def make_html(fontname):\n",
    "    return \"<p>{font}: <span style='font-family:{font}; font-size: 24px;'>{font}</p>\".format(font=fontname)\n",
    "\n",
    "code = \"\\n\".join([make_html(font) for font in sorted(set([f.name for f in matplotlib.font_manager.fontManager.ttflist]))])\n",
    "\n",
    "HTML(\"<div style='column-count: 2;'>{}</div>\".format(code))\n"
   ]
  },
  {
   "cell_type": "code",
   "execution_count": null,
   "metadata": {},
   "outputs": [],
   "source": []
  }
 ],
 "metadata": {
  "kernelspec": {
   "display_name": "Python 3 (ipykernel)",
   "language": "python",
   "name": "python3"
  },
  "language_info": {
   "codemirror_mode": {
    "name": "ipython",
    "version": 3
   },
   "file_extension": ".py",
   "mimetype": "text/x-python",
   "name": "python",
   "nbconvert_exporter": "python",
   "pygments_lexer": "ipython3",
   "version": "3.9.18"
  }
 },
 "nbformat": 4,
 "nbformat_minor": 4
}
