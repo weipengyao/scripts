{
 "cells": [
  {
   "cell_type": "code",
   "execution_count": 1,
   "id": "a69446f1",
   "metadata": {},
   "outputs": [],
   "source": [
    "%matplotlib qt"
   ]
  },
  {
   "cell_type": "code",
   "execution_count": 1,
   "id": "168bd685",
   "metadata": {},
   "outputs": [
    {
     "name": "stderr",
     "output_type": "stream",
     "text": [
      "/var/folders/2t/97rc3fl92tg15k2l_4sk5hsh0000gn/T/ipykernel_55392/621321092.py:8: MatplotlibDeprecationWarning: The get_cmap function was deprecated in Matplotlib 3.7 and will be removed in 3.11. Use ``matplotlib.colormaps[name]`` or ``matplotlib.colormaps.get_cmap()`` or ``pyplot.get_cmap()`` instead.\n",
      "  jetcmap = plt.cm.get_cmap(\"jet\", 9) #generate a jet map with 10 values \"rainbow\", \"jet\", YlOrRd\n"
     ]
    }
   ],
   "source": [
    "import matplotlib as mpl\n",
    "import sys\n",
    "sys.path.append(\"/Users/yao/Smilei\")\n",
    "import happi\n",
    "import numpy as np\n",
    "import matplotlib.pyplot as plt\n",
    "\n",
    "jetcmap = plt.cm.get_cmap(\"jet\", 9) #generate a jet map with 10 values \"rainbow\", \"jet\", YlOrRd\n",
    "jet_vals = jetcmap(np.arange(9)) #extract those values as an array \n",
    "jet_vals[0] = [1.0, 1, 1.0, 1] #change the first value \n",
    "jet_vals[8] = [0.0, 0, 0.0, 1] #change the first value \n",
    "newcmap = mpl.colors.LinearSegmentedColormap.from_list(\"mine\", jet_vals) \n",
    "\n",
    "from matplotlib import font_manager\n",
    "\n",
    "font_dirs = ['/Users/yao/Documents/Calibri and Cambria Fonts/']\n",
    "font_files = font_manager.findSystemFonts(fontpaths=font_dirs)\n",
    "\n",
    "for font_file in font_files:\n",
    "    font_manager.fontManager.addfont(font_file)\n",
    "\n",
    "# set font\n",
    "plt.rcParams['font.family'] = 'Calibri'\n",
    "\n",
    "plt.rc('text', usetex=False)\n",
    "plt.rc('xtick', labelsize=14)\n",
    "plt.rc('ytick', labelsize=14)\n",
    "plt.rc('axes', labelsize=14)\n",
    "plt.rc('legend', fontsize=12)"
   ]
  },
  {
   "cell_type": "code",
   "execution_count": 2,
   "id": "b4119492",
   "metadata": {},
   "outputs": [],
   "source": [
    "wkdir = [\n",
    "     # '/Users/yao/Documents/Data/ELI2025/eli_Aug27_2um/',\n",
    "     # '/Users/yao/Documents/Data/ELI2025/eli_Aug28_0.8um/',\n",
    "     # '/Users/yao/Documents/Data/ELI2025/eli_Aug29_0.8um/',\n",
    "     # '/Users/yao/Documents/Data/ELI2025/eli_Sep01_0.8um/',\n",
    "     # '/Users/yao/Documents/Data/ELI2025/eli_Sep03_0.8um/',\n",
    "     # '/Users/yao/Documents/Data/ELI2025/eli_Sep04_0.8um/',\n",
    "     # '/Users/yao/Documents/Data/ELI2025/eli_Sep02_0.8um/',\n",
    "     '/Users/yao/Desktop/eli_Sep05_2um/',\n",
    "     '/Users/yao/Desktop/eli_Sep05_0.8um/',\n",
    "    ]"
   ]
  },
  {
   "cell_type": "code",
   "execution_count": 3,
   "id": "571fb322",
   "metadata": {},
   "outputs": [
    {
     "name": "stdout",
     "output_type": "stream",
     "text": [
      "I_0 = 1.5e+21 W/cm2\n",
      "a_0 =  26.88270100135983\n",
      "Loaded simulation '/Users/yao/Desktop/eli_Sep05_2um/'\n",
      "Scanning for Scalar diagnostics\n",
      "Scanning for Field diagnostics\n",
      "Scanning for Probe diagnostics\n",
      "Scanning for ParticleBinning diagnostics\n",
      "Scanning for RadiationSpectrum diagnostics\n",
      "Scanning for Performance diagnostics\n",
      "Scanning for Screen diagnostics\n",
      "Scanning for Tracked particle diagnostics\n",
      "Scanning for new particle diagnostics\n",
      "I_0 = 1.5e+21 W/cm2\n",
      "a_0 =  26.88270100135983\n",
      "Loaded simulation '/Users/yao/Desktop/eli_Sep05_0.8um/'\n",
      "Scanning for Scalar diagnostics\n",
      "Scanning for Field diagnostics\n",
      "Scanning for Probe diagnostics\n",
      "Scanning for ParticleBinning diagnostics\n",
      "Scanning for RadiationSpectrum diagnostics\n",
      "Scanning for Performance diagnostics\n",
      "Scanning for Screen diagnostics\n",
      "Scanning for Tracked particle diagnostics\n",
      "Scanning for new particle diagnostics\n"
     ]
    }
   ],
   "source": [
    "S0 = happi.Open(wkdir[0], reference_angular_frequency_SI = 2.0*np.pi*3e8/(0.810*1e-6))\n",
    "S1 = happi.Open(wkdir[1], reference_angular_frequency_SI = 2.0*np.pi*3e8/(0.810*1e-6))\n",
    "# S2 = happi.Open(wkdir[2], reference_angular_frequency_SI = 2.0*np.pi*3e8/(0.810*1e-6))\n",
    "# S3 = happi.Open(wkdir[3], reference_angular_frequency_SI = 2.0*np.pi*3e8/(0.810*1e-6))\n",
    "# S4 = happi.Open(wkdir[4], reference_angular_frequency_SI = 2.0*np.pi*3e8/(0.810*1e-6))\n",
    "# S5 = happi.Open(wkdir[5], reference_angular_frequency_SI = 2.0*np.pi*3e8/(0.810*1e-6))\n",
    "# S6 = happi.Open(wkdir[6], reference_angular_frequency_SI = 2.0*np.pi*3e8/(0.810*1e-6))"
   ]
  },
  {
   "cell_type": "code",
   "execution_count": 4,
   "id": "be7005cf",
   "metadata": {},
   "outputs": [
    {
     "name": "stdout",
     "output_type": "stream",
     "text": [
      "B0 =  20.0\n"
     ]
    }
   ],
   "source": [
    "# prepare constants, units\n",
    "\n",
    "me = 9.1e-31\n",
    "mp = 1836.*me\n",
    "qe = 1.6e-19\n",
    "ep = 8.9e-12  # epsilon_0\n",
    "c  = 3.0e8\n",
    "wr = S0.namelist.wr\n",
    "de = c / wr\n",
    "Lx = S0.namelist.Lsim[0].real / 2 / np.pi      # in um\n",
    "dx = Lx/S0.namelist.resx           # in mm\n",
    "\n",
    "Te = S0.namelist.temp_e * 511.e3             # in eV\n",
    "ne = 1e20 #S0.namelist.n0                              # in cm-3\n",
    "ld = 7.43e2 * Te**0.5 * ne**(-0.5) * 10. # in mm\n",
    "dt = S0.namelist.Tsim / S0.namelist.rest\n",
    "\n",
    "B0 = S0.namelist.B0 * (me * wr / qe)\n",
    "wc = qe * B0 / me\n",
    "print(\"B0 = \", B0)"
   ]
  },
  {
   "cell_type": "code",
   "execution_count": 5,
   "id": "4f51a24a",
   "metadata": {},
   "outputs": [
    {
     "name": "stdout",
     "output_type": "stream",
     "text": [
      "Lx =  160.0\n",
      "Ly =  160.0\n"
     ]
    }
   ],
   "source": [
    "Lx = S0.namelist.Lsim[0].real / 2 / np.pi      # in um\n",
    "print(\"Lx = \", Lx)\n",
    "Ly = S0.namelist.Lsim[1].real / 2 / np.pi      # in um\n",
    "print(\"Ly = \", Ly)"
   ]
  },
  {
   "cell_type": "code",
   "execution_count": 11,
   "id": "290f6650",
   "metadata": {},
   "outputs": [],
   "source": [
    "np0 = S0.ParticleBinning('#1+#2', units=['fs','um','1/cm^3'],\n",
    "                         data_log='True',\n",
    "                         # ymin=0,ymax=32,\n",
    "                         vmin=18,vmax=24,\n",
    "                         xmin=30, xmax=70,\n",
    "                         cmap=newcmap,\n",
    "                         timesteps=[0],\n",
    "                         subset={'y':Ly/2},\n",
    "                   color='blue',\n",
    "              label='2 um',\n",
    "                   )#.slide()\n",
    "\n",
    "np1 = S1.ParticleBinning('#1+#2', units=['fs','um','1/cm^3'],\n",
    "                         data_log='True',\n",
    "                        #  ymin=0,ymax=32,\n",
    "                         vmin=18,vmax=24,\n",
    "                         xmin=30, xmax=70,\n",
    "                         cmap=newcmap,\n",
    "                         timesteps=[0],\n",
    "                         subset={'y':Ly/2},\n",
    "                   color='red',\n",
    "                   linestyle='--',\n",
    "              label='0.8 um',\n",
    "                   )#.slide()\n",
    "\n",
    "# np2 = S2.ParticleBinning('#1+#2', units=['fs','um','1/cm^3'],\n",
    "#                          data_log='True',\n",
    "#                         #  ymin=0,ymax=32,\n",
    "#                          # vmin=17,vmax=23,\n",
    "#                          xmin=50, xmax=80,\n",
    "#                          cmap=newcmap,\n",
    "#                          timesteps=[0],\n",
    "#                          subset={'y':Ly/2},\n",
    "#                    color='orange',\n",
    "#                    linestyle=':',\n",
    "#               label='0.8 um - case 2',\n",
    "#                    )#.slide()\n",
    "\n",
    "# np3 = S3.ParticleBinning('#1+#2', units=['fs','um','1/cm^3'],\n",
    "#                          data_log='True',\n",
    "#                         #  ymin=0,ymax=32,\n",
    "#                          # vmin=17,vmax=23,\n",
    "#                          xmin=50, xmax=80,\n",
    "#                          cmap=newcmap,\n",
    "#                          timesteps=[0],\n",
    "#                          subset={'y':Ly/2},\n",
    "#                    color='cyan',\n",
    "#                    linestyle=':',\n",
    "#               label='0.8 um - case 3',\n",
    "#                    )#.slide()\n",
    "\n",
    "# np4 = S4.ParticleBinning('#1+#2', units=['fs','um','1/cm^3'],\n",
    "#                          data_log='True',\n",
    "#                         #  ymin=0,ymax=32,\n",
    "#                          # vmin=17,vmax=23,\n",
    "#                          xmin=50, xmax=80,\n",
    "#                          cmap=newcmap,\n",
    "#                          timesteps=[0],\n",
    "#                          subset={'y':Ly/2},\n",
    "#                    color='magenta',\n",
    "#                    linestyle='-.',\n",
    "#               label='0.8 um - case 4',\n",
    "#                    )#.slide()\n",
    "\n",
    "# np5 = S5.ParticleBinning('#1+#2', units=['fs','um','1/cm^3'],\n",
    "#                          data_log='True',\n",
    "#                         #  ymin=0,ymax=32,\n",
    "#                          # vmin=17,vmax=23,\n",
    "#                          xmin=50, xmax=80,\n",
    "#                          cmap=newcmap,\n",
    "#                          timesteps=[0],\n",
    "#                          subset={'y':Ly/2},\n",
    "#                    color='green',\n",
    "#                    linestyle='-.',\n",
    "#               label='0.8 um - case 5',\n",
    "#                    )#.slide()\n",
    "\n",
    "# np6 = S6.ParticleBinning('#1+#2', units=['fs','um','1/cm^3'],\n",
    "#                          data_log='True',\n",
    "#                         #  ymin=0,ymax=32,\n",
    "#                          # vmin=17,vmax=23,\n",
    "#                          xmin=50, xmax=80,\n",
    "#                          timesteps=[0],\n",
    "#                          cmap=newcmap,\n",
    "#                          subset={'y':Ly/2},\n",
    "#                    color='black',\n",
    "#                    linestyle='-.',\n",
    "#               label='0.8 um - case 6',\n",
    "#                    )#.slide()\n",
    "\n",
    "happi.multiPlot(np0, np1, \n",
    "               #  np2, np3, np4, np5, np6,\n",
    "                skipAnimation=True)"
   ]
  },
  {
   "cell_type": "code",
   "execution_count": 24,
   "id": "7d063c07",
   "metadata": {},
   "outputs": [],
   "source": [
    "## note that here we need to use the num to locate the time of about 500 fs, instead of using the last timestep.\n",
    "\n",
    "num = -15\n",
    "\n",
    "es0 = S0.ParticleBinning('#6', units=['fs','um','1/cm^3','MeV'],\n",
    "                   data_log='True',\n",
    "                   xmin=0,xmax=35,\n",
    "                   timestep_indices=[num],\n",
    "                #    vmin=-7,vmax=-2,\n",
    "                   color='blue',\n",
    "                   label='2 um',\n",
    "                   linestyle='-',\n",
    "                   )#.slide()\n",
    "\n",
    "es1 = S1.ParticleBinning('#6', units=['fs','um','1/cm^3','MeV'],\n",
    "                   data_log='True',\n",
    "                   xmin=0,xmax=35,\n",
    "                   timestep_indices=[num],\n",
    "                #    vmin=-7,vmax=-2,\n",
    "                   color='red',\n",
    "                   label='0.8 um',\n",
    "                   linestyle='--',\n",
    "                   )#.slide()\n",
    "\n",
    "# es2 = S2.ParticleBinning('#6', units=['fs','um','1/cm^3','MeV'],\n",
    "#                    data_log='True',\n",
    "#                    xmin=0,xmax=30,\n",
    "#                 #    vmin=-7,vmax=-2,\n",
    "#                    color='orange',\n",
    "#                    label='0.8 um - case 2',\n",
    "#                    linestyle=':',\n",
    "#                    )#.slide()\n",
    "\n",
    "# es3 = S3.ParticleBinning('#6', units=['fs','um','1/cm^3','MeV'],\n",
    "#                    data_log='True',\n",
    "#                    xmin=0,xmax=30,\n",
    "#                 #    vmin=-7,vmax=-2,\n",
    "#                    color='cyan',\n",
    "#                    label='0.8 um - case 3',\n",
    "#                    linestyle=':',\n",
    "#                    )#.slide()\n",
    "\n",
    "# es4 = S4.ParticleBinning('#6', units=['fs','um','1/cm^3','MeV'],\n",
    "#                    data_log='True',\n",
    "#                    xmin=0,xmax=30,\n",
    "#                 #    vmin=-7,vmax=-2,\n",
    "#                    color='magenta',\n",
    "#                    label='0.8 um - case 4',\n",
    "#                    linestyle='-.',\n",
    "#                    )#.slide()\n",
    "\n",
    "# es5 = S5.ParticleBinning('#6', units=['fs','um','1/cm^3','MeV'],\n",
    "#                    data_log='True',\n",
    "#                    xmin=0,xmax=30,\n",
    "#                 #    vmin=-7,vmax=-2,\n",
    "#                    color='green',\n",
    "#                    label='0.8 um - case 5',\n",
    "#                    linestyle='-.',\n",
    "#                    )#.slide()\n",
    "\n",
    "# es6 = S6.ParticleBinning('#6', units=['fs','um','1/cm^3','MeV'],\n",
    "#                    data_log='True',\n",
    "#                    xmin=0,xmax=30,\n",
    "#                 #    vmin=-7,vmax=-2,\n",
    "#                    color='black',\n",
    "#                    label='0.8 um - case 4',\n",
    "#                    linestyle='-.',\n",
    "#                    )#.slide()\n",
    "\n",
    "happi.multiPlot(es0, es1, \n",
    "               #  es2, es3, es4, es5, es6,\n",
    "                skipAnimation=True)"
   ]
  },
  {
   "cell_type": "code",
   "execution_count": 9,
   "id": "f43ae0b5",
   "metadata": {},
   "outputs": [],
   "source": [
    "Ex0 = S0.Field(1,'Ex',units=['fs','um','V/m'],\n",
    "               vsym=5e12,\n",
    "               subset={'y':Ly/2},\n",
    "               # subset={'y':640},\n",
    "               color='blue',\n",
    "               label='2 um',\n",
    "               )#.slide(figure=3)\n",
    "\n",
    "Ex1 = S1.Field(1,'Ex',units=['fs','um','V/m'],\n",
    "               vsym=5e12,\n",
    "               subset={'y':Ly/2},\n",
    "               # subset={'y':640},\n",
    "               color='red',\n",
    "               linestyle='--',\n",
    "                label='0.8 um',\n",
    "               )#.slide(figure=3)\n",
    "\n",
    "Ex2 = S2.Field(1,'Ex',units=['fs','um','V/m'],\n",
    "               vsym=5e12,\n",
    "               subset={'y':Ly/2},\n",
    "               # subset={'y':640},\n",
    "               color='orange',\n",
    "               linestyle=':',\n",
    "                label='0.8 um, rear-plasma',\n",
    "               )#.slide(figure=3)\n",
    "\n",
    "happi.multiSlide(Ex0, Ex1, Ex2)"
   ]
  },
  {
   "cell_type": "code",
   "execution_count": 8,
   "id": "591110b4",
   "metadata": {},
   "outputs": [
    {
     "name": "stderr",
     "output_type": "stream",
     "text": [
      "/Users/yao/Smilei/happi/_Utils.py:602: UserWarning: Ignoring specified arguments in this call because figure with num: 1 already exists\n",
      "  self.fig = self.plt.figure(**self.options.figure0)\n",
      "/Users/yao/Smilei/happi/_Diagnostics/Diagnostic.py:857: RuntimeWarning: divide by zero encountered in log10\n",
      "  return self._np.log10( self._dataLinAtTime(t) )\n"
     ]
    }
   ],
   "source": [
    "# Phase space distribution -- protons\n",
    "\n",
    "ps0 = S0.ParticleBinning('#3', units=['fs','um','1/cm^3'],\n",
    "                   data_log='True',\n",
    "                   cmap=newcmap,\n",
    "                   vmin=-5,\n",
    "                   vmax=1,\n",
    "                  #  aspect=1.0,\n",
    "                   xmin=50,xmax=100,\n",
    "                   ymin=-200,ymax=600,\n",
    "                   aspect='auto',\n",
    "                  #  layout='tight',\n",
    "                #    sum={'px':'all'}\n",
    "                   )#.slide()\n",
    "\n",
    "ps1 = S1.ParticleBinning('#3', units=['fs','um','1/cm^3'],\n",
    "                   data_log='True',\n",
    "                   cmap=newcmap,\n",
    "                   vmin=-5,\n",
    "                   vmax=1,\n",
    "                  #  aspect=1.0,\n",
    "                   xmin=50,xmax=100,\n",
    "                   ymin=-200,ymax=600,\n",
    "                   aspect='auto',\n",
    "                  #  layout='tight',\n",
    "                #    sum={'px':'all'}\n",
    "                   )#.slide()\n",
    "\n",
    "ps2 = S2.ParticleBinning('#3', units=['fs','um','1/cm^3'],\n",
    "                   data_log='True',\n",
    "                   cmap=newcmap,\n",
    "                   vmin=-5,\n",
    "                   vmax=1,\n",
    "                  #  aspect=1.0,\n",
    "                   xmin=50,xmax=100,\n",
    "                   ymin=-200,ymax=600,\n",
    "                   aspect='auto',\n",
    "                  #  layout='tight',\n",
    "                #    sum={'px':'all'}\n",
    "                   )#.slide()\n",
    "\n",
    "# ps0.set(set_layout_engine='tight')\n",
    "# ps0.slide()\n",
    "\n",
    "# happi.multiSlide(ps0, ps1, ps2, shape=(1,3))\n",
    "happi.multiPlot(ps0, ps1, ps2, shape=(1,3),\n",
    "                figsize=(16,5),\n",
    "                # skipAnimation=True,\n",
    "                movie=\"es.mp4\",\n",
    "                dpi=200,\n",
    "                )"
   ]
  },
  {
   "cell_type": "code",
   "execution_count": 6,
   "id": "8a652b22",
   "metadata": {},
   "outputs": [
    {
     "name": "stderr",
     "output_type": "stream",
     "text": [
      "/Users/yao/Smilei/happi/_Diagnostics/Diagnostic.py:857: RuntimeWarning: divide by zero encountered in log10\n",
      "  return self._np.log10( self._dataLinAtTime(t) )\n"
     ]
    }
   ],
   "source": [
    "np1 = np.array(S1.ParticleBinning('#1+#2', \n",
    "                                  units=['fs','um','1/cm^3'],\n",
    "                                  data_log='True',\n",
    "                                  ).getData()[0])"
   ]
  },
  {
   "cell_type": "code",
   "execution_count": 11,
   "id": "f51cf8fe",
   "metadata": {},
   "outputs": [],
   "source": [
    "np1_x = np.array(S1.ParticleBinning('#1+#2', \n",
    "                                  units=['fs','um','1/cm^3'],\n",
    "                                  data_log='True',\n",
    "                                  ).getAxis('x'))"
   ]
  },
  {
   "cell_type": "code",
   "execution_count": 14,
   "id": "58b85bd8",
   "metadata": {},
   "outputs": [
    {
     "data": {
      "text/plain": [
       "[<matplotlib.lines.Line2D at 0x118ddbd10>]"
      ]
     },
     "execution_count": 14,
     "metadata": {},
     "output_type": "execute_result"
    },
    {
     "data": {
      "image/png": "[encoded data removed]",
      "text/plain": [
       "<Figure size 640x480 with 1 Axes>"
      ]
     },
     "metadata": {},
     "output_type": "display_data"
    }
   ],
   "source": [
    "plt.plot(np1_x, np1[:,200])"
   ]
  },
  {
   "cell_type": "code",
   "execution_count": 57,
   "id": "5eb74497",
   "metadata": {},
   "outputs": [],
   "source": [
    "multi_den = np.loadtxt('/Users/yao/Desktop/I3e31_0.8um_500ps.csv')\n",
    "multi_den2 = np.loadtxt('/Users/yao/Desktop/I1e32_0.8um_600ps.csv')\n",
    "multi_den3 = np.loadtxt('/Users/yao/Desktop/I3e30_0.8um_600ps.csv')"
   ]
  },
  {
   "cell_type": "code",
   "execution_count": 58,
   "id": "baf04b2c",
   "metadata": {},
   "outputs": [],
   "source": [
    "multi_den_x = multi_den[:,0] # position in um\n",
    "multi_den_y = multi_den[:,1] # density in cm-3\n",
    "\n",
    "multi_den_x2 = multi_den2[:,0] # position in um\n",
    "multi_den_y2 = multi_den2[:,1] # density in cm-3\n",
    "\n",
    "multi_den_x3 = multi_den3[:,0] # position in um\n",
    "multi_den_y3 = multi_den3[:,1] # density in cm-3"
   ]
  },
  {
   "cell_type": "code",
   "execution_count": 72,
   "id": "add8cc1d",
   "metadata": {},
   "outputs": [
    {
     "name": "stderr",
     "output_type": "stream",
     "text": [
      "/var/folders/2t/97rc3fl92tg15k2l_4sk5hsh0000gn/T/ipykernel_55392/2702990305.py:1: RuntimeWarning: divide by zero encountered in log10\n",
      "  plt.plot(-(multi_den_x-30.5), np.log10(multi_den_y),'--',color='blue',label='MULTI@3e14')\n",
      "/var/folders/2t/97rc3fl92tg15k2l_4sk5hsh0000gn/T/ipykernel_55392/2702990305.py:2: RuntimeWarning: divide by zero encountered in log10\n",
      "  plt.plot(-(multi_den_x2-3), np.log10(multi_den_y2),':',color='cyan',label='MULTI@1e15')\n",
      "/var/folders/2t/97rc3fl92tg15k2l_4sk5hsh0000gn/T/ipykernel_55392/2702990305.py:3: RuntimeWarning: divide by zero encountered in log10\n",
      "  plt.plot(-(multi_den_x3-54), np.log10(multi_den_y3),'-.',color='green',label='MULTI@3e13')\n"
     ]
    },
    {
     "data": {
      "text/plain": [
       "<matplotlib.legend.Legend at 0x11a9dc830>"
      ]
     },
     "execution_count": 72,
     "metadata": {},
     "output_type": "execute_result"
    },
    {
     "data": {
      "image/png": "[encoded data removed]",
      "text/plain": [
       "<Figure size 640x480 with 1 Axes>"
      ]
     },
     "metadata": {},
     "output_type": "display_data"
    }
   ],
   "source": [
    "plt.plot(-(multi_den_x-30.5), np.log10(multi_den_y),'--',color='blue',label='MULTI@3e14')\n",
    "plt.plot(-(multi_den_x2-3), np.log10(multi_den_y2),':',color='cyan',label='MULTI@1e15')\n",
    "plt.plot(-(multi_den_x3-54), np.log10(multi_den_y3),'-.',color='green',label='MULTI@3e13')\n",
    "plt.plot(np1_x, np1[:,200],'-',color='red',label='Smilei',linewidth=2)\n",
    "plt.xlim(60,70)\n",
    "plt.xlabel('Position (um)')\n",
    "plt.ylabel('log10(Density) (cm$^{-3}$)')\n",
    "plt.ylim(18,24)\n",
    "plt.grid(alpha=0.5, linestyle='--')\n",
    "plt.legend()"
   ]
  },
  {
   "cell_type": "code",
   "execution_count": null,
   "id": "10c09841",
   "metadata": {},
   "outputs": [],
   "source": []
  }
 ],
 "metadata": {
  "kernelspec": {
   "display_name": ".venv",
   "language": "python",
   "name": "python3"
  },
  "language_info": {
   "codemirror_mode": {
    "name": "ipython",
    "version": 3
   },
   "file_extension": ".py",
   "mimetype": "text/x-python",
   "name": "python",
   "nbconvert_exporter": "python",
   "pygments_lexer": "ipython3",
   "version": "3.12.8"
  }
 },
 "nbformat": 4,
 "nbformat_minor": 5
}
