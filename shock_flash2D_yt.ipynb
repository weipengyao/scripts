{
 "cells": [
  {
   "cell_type": "code",
   "execution_count": 1,
   "id": "e932a538-bf2b-42e3-9c3f-009d8ab1c9fd",
   "metadata": {
    "scrolled": true
   },
   "outputs": [],
   "source": [
    "%matplotlib qt\n"
   ]
  },
  {
   "cell_type": "code",
   "execution_count": 11,
   "id": "cbce3f9d",
   "metadata": {},
   "outputs": [
    {
     "name": "stderr",
     "output_type": "stream",
     "text": [
      "/var/folders/2t/97rc3fl92tg15k2l_4sk5hsh0000gn/T/ipykernel_27602/358127010.py:6: MatplotlibDeprecationWarning: The get_cmap function was deprecated in Matplotlib 3.7 and will be removed two minor releases later. Use ``matplotlib.colormaps[name]`` or ``matplotlib.colormaps.get_cmap(obj)`` instead.\n",
      "  jetcmap = plt.cm.get_cmap(\"jet\", 9) #generate a jet map with 10 values \"rainbow\", \"jet\", YlOrRd\n"
     ]
    }
   ],
   "source": [
    "import yt\n",
    "import matplotlib as mpl\n",
    "import numpy as np\n",
    "import matplotlib.pyplot as plt\n",
    "\n",
    "jetcmap = plt.cm.get_cmap(\"jet\", 9) #generate a jet map with 10 values \"rainbow\", \"jet\", YlOrRd\n",
    "jet_vals = jetcmap(np.arange(9)) #extract those values as an array \n",
    "jet_vals[0] = [1.0, 1, 1.0, 1] #change the first value \n",
    "jet_vals[8] = [0.0, 0, 0.0, 1] #change the first value \n",
    "newcmap = mpl.colors.LinearSegmentedColormap.from_list(\"mine\", jet_vals) \n",
    "\n",
    "# plt.rc('font', family='sans-serif', serif='Arial')\n",
    "# plt.rc('text', usetex=False)\n",
    "# plt.rc('xtick', labelsize=13)\n",
    "# plt.rc('ytick', labelsize=13)\n",
    "# plt.rc('axes', labelsize=13)\n",
    "# plt.rc('legend', fontsize=10)\n",
    "\n",
    "from matplotlib import font_manager\n",
    "\n",
    "font_dirs = ['/Users/yao/Documents/Calibri and Cambria Fonts/']\n",
    "font_files = font_manager.findSystemFonts(fontpaths=font_dirs)\n",
    "\n",
    "for font_file in font_files:\n",
    "    font_manager.fontManager.addfont(font_file)\n",
    "\n",
    "# set font\n",
    "plt.rcParams['font.family'] = 'Calibri'\n",
    "\n",
    "plt.rc('text', usetex=False)\n",
    "plt.rc('xtick', labelsize=16)\n",
    "plt.rc('ytick', labelsize=16)\n",
    "plt.rc('axes', labelsize=20)\n",
    "plt.rc('axes', titlesize=22)\n",
    "plt.rc('legend', fontsize=14)"
   ]
  },
  {
   "cell_type": "code",
   "execution_count": 3,
   "id": "2f30a0a9-ca36-4dc8-b7b6-4d5ac700ea0a",
   "metadata": {},
   "outputs": [],
   "source": [
    "def get_yt_data_2d(filename):\n",
    "\n",
    "    k_idx = 0\n",
    "    fields_list = [\"dens\", \"tele\", \"tion\",\n",
    "                   \"depo\",\n",
    "                   # \"pres\", \"temp\", \"cham\", \"targ\", \n",
    "                   \"velx\", \n",
    "                   \"ye\"]\n",
    "\n",
    "    data_yt = yt.load(filename)\n",
    "    data_yt_map = data_yt.covering_grid(\n",
    "        level=0, left_edge=[0, 0.0, 0.0], dims=data_yt.domain_dimensions\n",
    "    )\n",
    "    time_now = np.array(data_yt.current_time)*1e9\n",
    "\n",
    "    data_dict = {}\n",
    "    for f in fields_list:\n",
    "        # data_dict[f] = data_yt_map[f][k_idx,:] # careful here about which axis is which\n",
    "        data_dict[f] = data_yt_map[f]\n",
    "    return data_dict, time_now"
   ]
  },
  {
   "cell_type": "code",
   "execution_count": 35,
   "id": "3451cb05-20ec-4828-8dd2-ed02605cbe2f",
   "metadata": {},
   "outputs": [],
   "source": [
    "filedir = [\n",
    "            '/Users/yao/Desktop/Data/test/',  # test\n",
    "          ] \n",
    "\n",
    "filename = 'lasslab_hdf5_plt_cnt_0005'  # check the mass fraction for the negative energy\n",
    "# filename = 'lasslab_hdf5_chk_0032'  # check the mass fraction for the negative energy"
   ]
  },
  {
   "cell_type": "code",
   "execution_count": 36,
   "id": "43600789-345d-48ec-a7c3-b3cdf21b7992",
   "metadata": {},
   "outputs": [
    {
     "name": "stderr",
     "output_type": "stream",
     "text": [
      "yt : [WARNING  ] 2025-03-13 13:00:51,726 Extending theta dimension to 2PI + left edge.\n",
      "yt : [INFO     ] 2025-03-13 13:00:51,750 Parameters: current_time              = 5.0005015319952836e-09\n",
      "yt : [INFO     ] 2025-03-13 13:00:51,750 Parameters: domain_dimensions         = [128 256   1]\n",
      "yt : [INFO     ] 2025-03-13 13:00:51,752 Parameters: domain_left_edge          = [0. 0. 0.]\n",
      "yt : [INFO     ] 2025-03-13 13:00:51,752 Parameters: domain_right_edge         = [1.         4.         6.28318531]\n",
      "yt : [INFO     ] 2025-03-13 13:00:51,754 Parameters: cosmological_simulation   = 0\n"
     ]
    }
   ],
   "source": [
    "data_dict, time_now = get_yt_data_2d(filedir[0]+filename)"
   ]
  },
  {
   "cell_type": "code",
   "execution_count": 37,
   "id": "7e89ac45-38ff-48ad-9bad-6324e564de72",
   "metadata": {},
   "outputs": [],
   "source": [
    "# from mpl_toolkits.axes_grid1 import make_axes_locatable\n",
    "\n",
    "\n",
    "width  = 3.487 * 1\n",
    "height = width * 2 #/ 1.618 * 0.8\n",
    "\n",
    "# fig = plt.figure(figsize=(width, height))\n",
    "\n",
    "fig, ax = plt.subplots()\n",
    "fig.subplots_adjust(left=.15, bottom=.16, right=.99, top=.97)\n",
    "\n",
    "# divider = make_axes_locatable(ax)\n",
    "# cax = divider.append_axes('right', size='5%', pad=0.05)\n",
    "\n",
    "f1 = ax.imshow(\n",
    "    # np.log10(data_dict['dens'][:,:,0].T),\n",
    "    # data_dict['ye'][:,:,0].T*14,\n",
    "    data_dict['tele'][:,:,0].T/11600,\n",
    "    # data_dict['tion'][:,:,0].T/11600,\n",
    "           # cmap='magma_r',\n",
    "               cmap=newcmap,\n",
    "           origin='lower',\n",
    "           extent=[0,1,0,4],\n",
    "        #    vmin=-6,vmax=1,\n",
    "        #    vmin=0,\n",
    "        #    vmax=100,\n",
    "           aspect='equal',\n",
    "          )\n",
    "\n",
    "# ax.set_xlim(0,1)\n",
    "# ax.set_ylim(0,2)\n",
    "ax.set_xlabel('r (cm)')\n",
    "ax.set_ylabel('z (cm)')\n",
    "ax.set_title('Time = {:.1f} ns'.format(time_now))\n",
    "\n",
    "cbar = fig.colorbar(f1)\n",
    "# cbar.ax.set_ylabel(r'Log$_{10}$ $\\rho$ (g/cm$^{-3}$)')\n",
    "cbar.ax.set_ylabel(r'T$_e$ (eV)')\n",
    "# cbar.ax.set_ylabel(r'T$_i$ (eV)')\n",
    "# cbar.ax.set_ylabel(r'Z$_{eff}$')\n",
    "# cbar.minorticks_on()\n",
    "cbar.cmap.set_under('white')\n",
    "cbar.cmap.set_over('black')\n",
    "# cbar\n",
    "\n",
    "# Colorbar\n",
    "# grid[1].cax.colorbar(im1)\n",
    "# grid[1].cax.cla()\n",
    "# mpl.colorbar.Colorbar(grid[1].cax,im1)\n",
    "# grid[1].cax.toggle_label(True)\n",
    "# grid[1].cax.tick_params(size=0)\n",
    "# grid[1].cax.toggle_label(True)\n",
    "# fig.tight_layout()\n",
    "\n",
    "fig.set_size_inches(width, height)\n",
    "fig.tight_layout()\n",
    "plt.show()"
   ]
  },
  {
   "cell_type": "code",
   "execution_count": 7,
   "id": "533d6e45-9e74-4c0c-b188-c2af76cb03a4",
   "metadata": {},
   "outputs": [
    {
     "data": {
      "image/png": "[encoded data removed]",
      "text/plain": [
       "<Figure size 640x480 with 4 Axes>"
      ]
     },
     "metadata": {},
     "output_type": "display_data"
    }
   ],
   "source": [
    "fig, axs = plt.subplots(2, 1, sharex=True)\n",
    "\n",
    "xx = np.linspace(0,1,256)\n",
    "\n",
    "axs[0].semilogy(xx, data_dict['tele'][0,:]/11600, '-r', label='Te', lw=1.5)\n",
    "# axs[0].semilogy(xx, data_dict['tion'][0,:]/11600, '--b', label='Ti', lw=1.5)\n",
    "axs[0].set_ylabel(r'$T_e$ (eV)', color='r', fontsize=12)\n",
    "axs[0].tick_params(axis='y',which='both', color='r', labelcolor='r')\n",
    "axs[0].spines['right'].set_color('b')\n",
    "axs[0].spines['left'].set_color('r')\n",
    "axs[0].grid(which='major', alpha=0.5,linestyle=':', lw=1.0)\n",
    "axs[0].set_ylim([1e0, 1e4])\n",
    "# axs[0].invert_xaxis()\n",
    "\n",
    "ax2 = axs[0].twinx()\n",
    "ax2.semilogy(xx, data_dict['tion'][0,:]/11600, '--b', label='Ti', lw=1.5)\n",
    "ax2.set_ylabel(r'$T_i$ (eV)', color='b', fontsize=12)\n",
    "ax2.tick_params(axis='y',which='both', color='b', labelcolor='b')\n",
    "ax2.set_ylim([1e0, 1e4])\n",
    "# ax2.set_xlim([0,1])\n",
    "ax2.set_xlabel('z (cm)', fontsize=12)\n",
    "ax2.spines['right'].set_color('b')\n",
    "ax2.spines['left'].set_color('r')\n",
    "# ax2.set_xticks([0,1])\n",
    "\n",
    "# fig.legend(['Te','Ti', r'$\\rho$'], \n",
    "#            bbox_to_anchor=(0.87, 0.84),\n",
    "#            fontsize=12, \n",
    "#            fancybox=False, \n",
    "#            frameon=False)\n",
    "axs[0].set_title('Time = {:.1f} ns'.format(time_now))\n",
    "\n",
    "axs[1].plot(xx, data_dict['ye'][0,:]*14, '-c', lw=1.0)\n",
    "axs[1].set_ylabel(r'Zeff', color='c', fontsize=12)\n",
    "axs[1].tick_params(axis='y', which='both', color='c', labelcolor='c')\n",
    "axs[1].set_ylim([0,7])\n",
    "# axs[1].set_xlim([0.4,1.2])\n",
    "axs[1].set_xlabel('z (cm)', fontsize=12)\n",
    "axs[1].grid(which='both', alpha=0.5,linestyle=':', lw=1.0)\n",
    "\n",
    "ax3 = axs[1].twinx()\n",
    "ax3.semilogy(xx, data_dict['dens'][0,:], '--m', lw=1.5)\n",
    "ax3.tick_params(axis='y', which='both', color='m', labelcolor='m')\n",
    "ax3.set_ylabel(r'$\\rho$ (g/cm$^3$)', color='m', fontsize=12)\n",
    "ax3.spines['right'].set_color('m')\n",
    "ax3.spines['left'].set_color('c')\n",
    "ax3.set_ylim([1e-6, 1e-2])\n",
    "\n",
    "fig.tight_layout()"
   ]
  },
  {
   "cell_type": "code",
   "execution_count": 119,
   "id": "23a60c5f-473e-4f06-8ef4-b0c9da9c987b",
   "metadata": {},
   "outputs": [],
   "source": [
    "fig.savefig('/Users/yao/Desktop/lineouts.pdf',dpi=300)"
   ]
  },
  {
   "cell_type": "code",
   "execution_count": 121,
   "id": "e918f1e2-7e0a-4cde-ad33-8b0443bc27b9",
   "metadata": {},
   "outputs": [],
   "source": [
    "fig.savefig('/Users/yao/Desktop/map.pdf',dpi=300)"
   ]
  },
  {
   "cell_type": "code",
   "execution_count": 6,
   "id": "8bee4b1e-e9d3-4aaf-aad5-3e2fbf0e7479",
   "metadata": {},
   "outputs": [],
   "source": [
    "pressure_in_bar = 1e-3 # 10 mbar\n",
    "kb = 1.4e-23           # J/K\n",
    "T0 = 300               # K\n",
    "pressure_in_Pa  = pressure_in_bar * 1e5\n",
    "number_density  = pressure_in_Pa / (kb * T0)  # m^-3"
   ]
  },
  {
   "cell_type": "code",
   "execution_count": 7,
   "id": "1dd38308-ae05-44e8-8e60-bac76e6a8bb3",
   "metadata": {},
   "outputs": [
    {
     "data": {
      "text/plain": [
       "2.3809523809523812e+16"
      ]
     },
     "execution_count": 7,
     "metadata": {},
     "output_type": "execute_result"
    }
   ],
   "source": [
    "number_density/1e6"
   ]
  },
  {
   "cell_type": "code",
   "execution_count": 11,
   "id": "1df400d9-ee13-4952-abaa-3d17f606cc53",
   "metadata": {},
   "outputs": [
    {
     "data": {
      "text/plain": [
       "1.5912000000000004e-07"
      ]
     },
     "execution_count": 11,
     "metadata": {},
     "output_type": "execute_result"
    }
   ],
   "source": [
    "rho = number_density * mp * 4 # kg/m^3\n",
    "rho*1e-3 # g/cm^3"
   ]
  },
  {
   "cell_type": "code",
   "execution_count": 12,
   "id": "4f9e819c-ba05-4615-8604-878454d5ad3e",
   "metadata": {},
   "outputs": [
    {
     "data": {
      "text/plain": [
       "3.978000000000001e-08"
      ]
     },
     "execution_count": 12,
     "metadata": {},
     "output_type": "execute_result"
    }
   ],
   "source": [
    "rho = number_density * mp * 1 # kg/m^3\n",
    "rho*1e-3 # g/cm^3"
   ]
  },
  {
   "cell_type": "code",
   "execution_count": null,
   "id": "e694ff37-9cf7-4ec9-b028-443050da923e",
   "metadata": {},
   "outputs": [],
   "source": []
  }
 ],
 "metadata": {
  "kernelspec": {
   "display_name": "Python 3",
   "language": "python",
   "name": "python3"
  },
  "language_info": {
   "codemirror_mode": {
    "name": "ipython",
    "version": 3
   },
   "file_extension": ".py",
   "mimetype": "text/x-python",
   "name": "python",
   "nbconvert_exporter": "python",
   "pygments_lexer": "ipython3",
   "version": "3.9.21"
  }
 },
 "nbformat": 4,
 "nbformat_minor": 5
}
