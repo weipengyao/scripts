{
 "cells": [
  {
   "cell_type": "code",
   "execution_count": 1,
   "metadata": {},
   "outputs": [],
   "source": [
    "%matplotlib qt"
   ]
  },
  {
   "cell_type": "code",
   "execution_count": 2,
   "metadata": {},
   "outputs": [],
   "source": [
    "import numpy as np\n",
    "import matplotlib.pyplot as plt"
   ]
  },
  {
   "cell_type": "code",
   "execution_count": 74,
   "metadata": {},
   "outputs": [],
   "source": [
    "from matplotlib import font_manager\n",
    "\n",
    "font_dirs = ['/Users/yao/Documents/Calibri and Cambria Fonts/']\n",
    "font_files = font_manager.findSystemFonts(fontpaths=font_dirs)\n",
    "\n",
    "for font_file in font_files:\n",
    "    font_manager.fontManager.addfont(font_file)\n",
    "\n",
    "# set font\n",
    "plt.rcParams['font.family'] = 'Calibri'\n",
    "\n",
    "plt.rc('text', usetex=False)\n",
    "plt.rc('xtick', labelsize=16)\n",
    "plt.rc('ytick', labelsize=16)\n",
    "plt.rc('axes', labelsize=16)\n",
    "plt.rc('legend', fontsize=14)"
   ]
  },
  {
   "cell_type": "code",
   "execution_count": 86,
   "metadata": {},
   "outputs": [],
   "source": [
    "E = np.linspace(0.1, 300, 10000) # keV\n",
    "\n",
    "beta = 0.57\n",
    "E_r  = 0.5 # keV\n",
    "A    = 1e3 # integration constant \n",
    "\n",
    "N_E = A * (E/E_r)**(beta - 1.) * np.exp(-((E/E_r)**beta))\n"
   ]
  },
  {
   "cell_type": "code",
   "execution_count": 87,
   "metadata": {},
   "outputs": [],
   "source": [
    "width  = 3.487 * 1.0\n",
    "height = width / 1.618 * 1.5\n",
    "\n",
    "fig, ax = plt.subplots()\n",
    "fig.subplots_adjust(left=.15, bottom=.16, right=.99, top=.97)\n",
    "\n",
    "ax.loglog(E, N_E)\n",
    "ax.set_xlim(1e0, 1e2)\n",
    "ax.set_ylim(5e-3, 2e2)\n",
    "ax.grid(linestyle='--',alpha=0.4)\n",
    "# ax.\n",
    "\n",
    "ax.set_xlabel('Energy (keV)')\n",
    "ax.set_ylabel('dN/dE')\n",
    "\n",
    "fig.set_size_inches(width, height)\n",
    "fig.tight_layout()"
   ]
  },
  {
   "cell_type": "code",
   "execution_count": 88,
   "metadata": {},
   "outputs": [],
   "source": [
    "E = np.linspace(0.001, 1e3, 10000) # keV\n",
    "def Spectrum_Weibull(beta, E_r, A):\n",
    "    return A * (E/E_r)**(beta - 1.) * np.exp(-((E/E_r)**beta))\n",
    "    "
   ]
  },
  {
   "cell_type": "code",
   "execution_count": 94,
   "metadata": {},
   "outputs": [],
   "source": [
    "beta = [0.2, 0.4, 0.57, 0.8, 1.0]\n",
    "E_r  = [0.1, 1.0, 10.0, 100, 1000]\n",
    "A    = [np.e, 1e3]\n",
    "\n",
    "width  = 3.487 * 2.0\n",
    "height = width / 1.618 * 1.2\n",
    "\n",
    "fig, ax = plt.subplots()\n",
    "fig.subplots_adjust(left=.15, bottom=.16, right=.99, top=.97)\n",
    "\n",
    "for i in range(5):\n",
    "    ax.loglog(E, Spectrum_Weibull(beta[2], E_r[i], A[0]), label='beta={:.2f}, Er={:.1f} keV, A={:.0e}'.format(beta[2], E_r[i], A[0]))\n",
    "ax.grid(linestyle='--',alpha=0.4)\n",
    "ax.set_xlabel('Energy (keV)')\n",
    "ax.set_ylabel('dN/dE')\n",
    "ax.set_xlim(1e-3, 1e3)\n",
    "ax.set_ylim(1e-3, 1e5)\n",
    "ax.legend()\n",
    "fig.set_size_inches(width, height)\n",
    "fig.tight_layout()\n"
   ]
  },
  {
   "cell_type": "code",
   "execution_count": 92,
   "metadata": {},
   "outputs": [
    {
     "data": {
      "text/plain": [
       "2.718281828459045"
      ]
     },
     "execution_count": 92,
     "metadata": {},
     "output_type": "execute_result"
    }
   ],
   "source": [
    "np.e"
   ]
  },
  {
   "cell_type": "code",
   "execution_count": null,
   "metadata": {},
   "outputs": [],
   "source": []
  }
 ],
 "metadata": {
  "kernelspec": {
   "display_name": "Python 3",
   "language": "python",
   "name": "python3"
  },
  "language_info": {
   "codemirror_mode": {
    "name": "ipython",
    "version": 3
   },
   "file_extension": ".py",
   "mimetype": "text/x-python",
   "name": "python",
   "nbconvert_exporter": "python",
   "pygments_lexer": "ipython3",
   "version": "3.9.19"
  }
 },
 "nbformat": 4,
 "nbformat_minor": 2
}
