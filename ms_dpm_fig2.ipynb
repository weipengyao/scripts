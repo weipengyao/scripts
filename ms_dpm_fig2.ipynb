{
 "cells": [
  {
   "cell_type": "code",
   "execution_count": 1,
   "id": "d99eb5fc-b4ba-4920-8ae3-a9f11ec2f9f8",
   "metadata": {},
   "outputs": [],
   "source": [
    "%matplotlib qt"
   ]
  },
  {
   "cell_type": "code",
   "execution_count": 2,
   "id": "fb6d30b9-ac47-4d4a-ae78-1491e6ab5d07",
   "metadata": {},
   "outputs": [
    {
     "name": "stderr",
     "output_type": "stream",
     "text": [
      "2024-05-22 17:17:07.835 Python[24424:1003783] WARNING: Secure coding is not enabled for restorable state! Enable secure coding by implementing NSApplicationDelegate.applicationSupportsSecureRestorableState: and returning YES.\n",
      "/var/folders/2t/97rc3fl92tg15k2l_4sk5hsh0000gn/T/ipykernel_24424/616493249.py:6: MatplotlibDeprecationWarning: The get_cmap function was deprecated in Matplotlib 3.7 and will be removed two minor releases later. Use ``matplotlib.colormaps[name]`` or ``matplotlib.colormaps.get_cmap(obj)`` instead.\n",
      "  jetcmap = plt.cm.get_cmap(\"jet\", 9) #generate a jet map with 10 values \"rainbow\", \"jet\", YlOrRd\n"
     ]
    }
   ],
   "source": [
    "import matplotlib as mpl\n",
    "import happi\n",
    "import numpy as np\n",
    "import matplotlib.pyplot as plt\n",
    "\n",
    "jetcmap = plt.cm.get_cmap(\"jet\", 9) #generate a jet map with 10 values \"rainbow\", \"jet\", YlOrRd\n",
    "jet_vals = jetcmap(np.arange(9)) #extract those values as an array \n",
    "jet_vals[0] = [1.0, 1, 1.0, 1] #change the first value \n",
    "jet_vals[8] = [0.0, 0, 0.0, 1] #change the first value \n",
    "newcmap = mpl.colors.LinearSegmentedColormap.from_list(\"mine\", jet_vals) "
   ]
  },
  {
   "cell_type": "code",
   "execution_count": 3,
   "id": "60d7580f-f217-4f10-a506-1aca12c1ccbe",
   "metadata": {},
   "outputs": [],
   "source": [
    "wkdir = [\n",
    "    '/Users/yao/Desktop/Data/DPM_Al1.5um_diag_t18/',\n",
    "    # '/Users/yao/Desktop/Data/DPM_Si200nm_Al50nm_t13/DPM_Si200nm_Al50nm_t13_r1/', # 70% laser energy\n",
    "    '/Users/yao/Desktop/Data/DPM_Si200nm_Al50nm_t10_r1/',  # 50%\n",
    "    '/Users/yao/Desktop/Data/DPM_Si200nm_Al50nm_t10_r0/',\n",
    "    ]"
   ]
  },
  {
   "cell_type": "code",
   "execution_count": 4,
   "id": "10e9b194-deae-4649-897a-b4534090a099",
   "metadata": {},
   "outputs": [
    {
     "name": "stdout",
     "output_type": "stream",
     "text": [
      "Loaded simulation '/Users/yao/Desktop/Data/DPM_Al1.5um_diag_t18/'\n",
      "Scanning for Scalar diagnostics\n",
      "Scanning for Field diagnostics\n",
      "Scanning for Probe diagnostics\n",
      "Scanning for ParticleBinning diagnostics\n",
      "Scanning for RadiationSpectrum diagnostics\n",
      "Scanning for Performance diagnostics\n",
      "Scanning for Screen diagnostics\n",
      "Scanning for Tracked particle diagnostics\n",
      "Scanning for new particle diagnostics\n",
      "Loaded simulation '/Users/yao/Desktop/Data/DPM_Si200nm_Al50nm_t10_r1/'\n",
      "Scanning for Scalar diagnostics\n",
      "Scanning for Field diagnostics\n",
      "Scanning for Probe diagnostics\n",
      "Scanning for ParticleBinning diagnostics\n",
      "Scanning for RadiationSpectrum diagnostics\n",
      "Scanning for Performance diagnostics\n",
      "Scanning for Screen diagnostics\n",
      "Scanning for Tracked particle diagnostics\n",
      "Scanning for new particle diagnostics\n",
      "Loaded simulation '/Users/yao/Desktop/Data/DPM_Si200nm_Al50nm_t10_r0/'\n",
      "Scanning for Scalar diagnostics\n",
      "Scanning for Field diagnostics\n",
      "Scanning for Probe diagnostics\n",
      "Scanning for ParticleBinning diagnostics\n",
      "Scanning for RadiationSpectrum diagnostics\n",
      "Scanning for Performance diagnostics\n",
      "Scanning for Screen diagnostics\n",
      "Scanning for Tracked particle diagnostics\n",
      "Scanning for new particle diagnostics\n"
     ]
    }
   ],
   "source": [
    "S0 = happi.Open(wkdir[0], reference_angular_frequency_SI = 2.*np.pi*3e8/1.058e-6)\n",
    "S1 = happi.Open(wkdir[1], reference_angular_frequency_SI = 2.*np.pi*3e8/1.058e-6)\n",
    "S2 = happi.Open(wkdir[2], reference_angular_frequency_SI = 2.*np.pi*3e8/1.058e-6)"
   ]
  },
  {
   "cell_type": "code",
   "execution_count": 5,
   "id": "dcd11327-b0d9-4896-a424-97903c96081c",
   "metadata": {},
   "outputs": [],
   "source": [
    "# prepare constants, units\n",
    "\n",
    "me = 9.1e-31\n",
    "mp = 1836.*me\n",
    "qe = 1.6e-19\n",
    "ep = 8.9e-12  # epsilon_0\n",
    "c  = 3.0e8\n",
    "wr = 2.*np.pi*3e8/1.058e-6\n",
    "de = c / wr\n",
    "# Lx = S0.namelist.L_x.real * de * 1e3      # in mm\n",
    "# dx = S0.namelist.d_x * de * 1e3           # in mm\n",
    "\n",
    "Te = S0.namelist.temp_e * 511.e3             # in eV\n",
    "ne = S0.namelist.n0 * 1.1e21                 # in cm-3\n",
    "ld = 7.43e2 * Te**0.5 * ne**(-0.5) * 10. # in mm\n",
    "# dt = S0.namelist.d_t\n",
    "\n",
    "# B0 = S0.namelist.B_z * (me * wr / qe)\n",
    "# wc = qe * B0 / me\n"
   ]
  },
  {
   "cell_type": "code",
   "execution_count": 6,
   "id": "f09468d6-ed6b-47ce-a104-794c92862f46",
   "metadata": {},
   "outputs": [
    {
     "name": "stdout",
     "output_type": "stream",
     "text": [
      "Debye length ld = 9e-02 nm\n"
     ]
    }
   ],
   "source": [
    "print('Debye length ld = {:.0e} nm'.format(ld*1e6))"
   ]
  },
  {
   "cell_type": "code",
   "execution_count": 7,
   "id": "6b1a4ace-a0d1-440d-bba2-f3b2f337ec65",
   "metadata": {},
   "outputs": [],
   "source": [
    "# plt.rc('font', family='sans-serif', serif='Arial')\n",
    "# plt.rc('text', usetex=False)\n",
    "# plt.rc('xtick', labelsize=12)\n",
    "# plt.rc('ytick', labelsize=12)\n",
    "# plt.rc('axes', labelsize=12)\n",
    "# plt.rc('legend', fontsize=12)\n",
    "\n",
    "# plt.rc('font', family='sans-serif', serif='Arial')\n",
    "\n",
    "from matplotlib import font_manager\n",
    "\n",
    "font_dirs = ['/Users/yao/Documents/Calibri and Cambria Fonts/']\n",
    "font_files = font_manager.findSystemFonts(fontpaths=font_dirs)\n",
    "\n",
    "for font_file in font_files:\n",
    "    font_manager.fontManager.addfont(font_file)\n",
    "\n",
    "# set font\n",
    "plt.rcParams['font.family'] = 'Calibri'\n",
    "\n",
    "plt.rc('text', usetex=False)\n",
    "plt.rc('xtick', labelsize=10)\n",
    "plt.rc('ytick', labelsize=10)\n",
    "plt.rc('axes', labelsize=10)\n",
    "plt.rc('legend', fontsize=9)\n",
    "\n",
    "width  = 3.487\n",
    "height = width / 1.618 * 1.0"
   ]
  },
  {
   "cell_type": "code",
   "execution_count": 8,
   "id": "6ed71c24-e4ef-4060-a4d1-272dd494fbb3",
   "metadata": {},
   "outputs": [],
   "source": [
    "## w/o DPM - 1.5 um Al\n",
    "#shot 193\n",
    "exp_energy_193  = np.array([4.71,    7.76,   10.01,  12.64,  14.78,  16.70,  18.97,  20.89,  22.55,  24.00,  25.25]) \n",
    "exp_number_193  = np.array([6.79e9, 4.92e9, 2.51e9, 1.39e9, 4.73e8, 3.53e8, 9.26e7, 5.53e7, 4.00e7, 2.91e7, 2.15e7]) \n",
    "\n",
    "#shot 194\n",
    "exp_energy_194  = np.array([4.83,    7.90,   10.16,  12.79,  14.92,  16.82,  19.07,  20.95,  22.58,  24.01,  25.25]) \n",
    "exp_number_194  = np.array([5.78e9, 4.54e9, 1.63e9, 9.77e8, 6.50e8, 4.35e8, 2.09e8, 7.92e7, 5.43e7, 4.37e7, 3.35e7]) "
   ]
  },
  {
   "cell_type": "code",
   "execution_count": 9,
   "id": "b7dc49ee-141b-49b2-b212-beab034ed78b",
   "metadata": {},
   "outputs": [],
   "source": [
    "exp_energy_nodpm = np.mean(np.stack((exp_energy_193, exp_energy_194)), axis=0)\n",
    "exp_energy_nodpm_xerr_min = np.stack((exp_energy_193, exp_energy_194)).min(axis=0)\n",
    "exp_energy_nodpm_xerr_max = np.stack((exp_energy_193, exp_energy_194)).max(axis=0)\n",
    "exp_energy_nodpm_xerr = np.stack((np.abs(exp_energy_nodpm_xerr_min - exp_energy_nodpm), \n",
    "                                  np.abs(exp_energy_nodpm_xerr_max - exp_energy_nodpm))\n",
    "                                ).min(axis=0)\n",
    "\n",
    "exp_number_nodpm = np.mean(np.stack((exp_number_193, exp_number_194)), axis=0)\n",
    "exp_number_nodpm_yerr_min = np.stack((exp_number_193, exp_number_194)).min(axis=0)\n",
    "exp_number_nodpm_yerr_max = np.stack((exp_number_193, exp_number_194)).max(axis=0)\n",
    "exp_number_nodpm_yerr = np.stack((np.abs(exp_number_nodpm_yerr_min - exp_number_nodpm), \n",
    "                                  np.abs(exp_number_nodpm_yerr_max - exp_number_nodpm))\n",
    "                                ).min(axis=0)"
   ]
  },
  {
   "cell_type": "code",
   "execution_count": 10,
   "id": "7f51cdd5-aaf2-45ac-918e-03dc15cbdb55",
   "metadata": {},
   "outputs": [],
   "source": [
    "## with DPM - 200 nm Si + 50 nm Al\n",
    "# #shot 115\n",
    "# exp_energy_115 = np.array([4.47, 7.42, 9.55, 11.92, 13.71, 15.12])\n",
    "# exp_number_115 = np.array([2.263e9, 1.185e9, 5.523e8, 1.790e8, 5.399e7, 3.149e7])\n",
    "\n",
    "#shot 56\n",
    "exp_energy_56  = np.array([4.9,         8.0,    10.3,    13.0,    15.1,    17.1,    19.5,    21.5,    23.4,    25.0,    26.5,    28.1,    29.5,   30.9,   33.67,   35.17]) \n",
    "exp_number_56  = np.array([2.71e9,   2.29e9,  1.30e9,  8.10e8,  6.20e8,  2.78e8,  2.53e8,  1.10e8,  7.93e7,  5.87e7,  3.91e7,  1.96e7,  1.25e7, 1.01e7, 5.565e6, 5.165e6]) \n",
    "\n",
    "#shot 111\n",
    "exp_energy_111 = np.array([4.49,       7.74,   10.01,   12.67,   14.87,   16.88,   19.33,   21.47,   23.42,   25.23,   26.90,   28.75,   30.37,   32.03,   33.67,   35.17])\n",
    "exp_number_111 = np.array([4.333e9, 4.103e9, 2.892e9, 1.386e9, 1.074e9, 4.606e8, 2.639e8, 1.605e8, 9.902e7, 7.454e7, 4.993e7, 2.849e7, 2.184e7, 1.170e7, 5.565e6, 5.165e6])\n",
    "\n",
    "#shot 112\n",
    "exp_energy_112 = np.array([4.76,       7.83,   10.10,   12.76,   14.95,   16.94,   19.34,   21.41,   23.26,   24.95,   26.48,   28.14,   29.57,   30.95,   33.67,   35.17])\n",
    "exp_number_112 = np.array([3.252e9, 2.844e9, 1.888e9, 1.286e9, 8.366e8, 3.199e8, 2.005e8, 1.081e8, 6.068e7, 3.840e7, 3.108e7, 1.871e7, 1.021e7, 1.428e7, 5.565e6, 5.165e6])\n",
    "\n",
    "# #shot 216\n",
    "# exp_energy_216  = np.array([4.54,      7.53,    9.73,   12.27,    14.3,   16.05,   17.99,   19.48,]) \n",
    "# exp_number_216  = np.array([2.25e9,  1.36e9,  7.65e8,  2.76e8,  1.01e8,  5.01e7,  1.74e7,  1.20e7,]) "
   ]
  },
  {
   "cell_type": "code",
   "execution_count": 11,
   "id": "c5958f32-69b5-4bf5-931a-dff88f99be2f",
   "metadata": {},
   "outputs": [],
   "source": [
    "exp_energy_dpm_data     = np.stack((exp_energy_56, exp_energy_111, exp_energy_112))\n",
    "exp_energy_dpm          = np.mean(exp_energy_dpm_data, axis=0)\n",
    "exp_energy_dpm_xerr_min = exp_energy_dpm_data.min(axis=0)\n",
    "exp_energy_dpm_xerr_max = exp_energy_dpm_data.max(axis=0)\n",
    "exp_energy_dpm_xerr     = np.stack((np.abs(exp_energy_dpm_xerr_min - exp_energy_dpm), \n",
    "                                    np.abs(exp_energy_dpm_xerr_max - exp_energy_dpm))\n",
    "                                  ).min(axis=0)\n",
    "\n",
    "exp_number_dpm_data     = np.stack((exp_number_56, exp_number_111, exp_number_112))\n",
    "exp_number_dpm          = np.mean(exp_number_dpm_data, axis=0)\n",
    "exp_number_dpm_yerr_min = exp_number_dpm_data.min(axis=0)\n",
    "exp_number_dpm_yerr_max = exp_number_dpm_data.max(axis=0)\n",
    "exp_number_dpm_yerr     = np.stack((np.abs(exp_number_dpm_yerr_min - exp_number_dpm), \n",
    "                                    np.abs(exp_number_dpm_yerr_max - exp_number_dpm))\n",
    "                                  ).min(axis=0)"
   ]
  },
  {
   "cell_type": "code",
   "execution_count": 12,
   "id": "4636b051-3bb5-4e26-8e72-ab5e6f0f694a",
   "metadata": {},
   "outputs": [],
   "source": [
    "## prepare the simulation data\n",
    "\n",
    "yrange_ndpm = [0*S0.namelist.l0, 40*S0.namelist.l0]   # 22.76\n",
    "fitting_factor_ndpm = 5e10 * 70 #5e10 * 50\n",
    "ene_ndpm = S0.Screen(2, units=['um','fs','MeV'],sum={'y':yrange_ndpm},).getData()\n",
    "\n",
    "yrange_wdpm = [0*S1.namelist.l0, 40*S1.namelist.l0]   # 22.76\n",
    "fitting_factor_wdpm = 5e11 * 4.5\n",
    "ene_wdpm = S1.Screen(2, units=['um','fs','MeV'],sum={'y':yrange_wdpm},).getData()\n",
    "\n",
    "xx  = S0.Screen(2, units=['um','fs','MeV']).getAxis('ekin')\n",
    "tt  = S0.Screen(2, units=['um','fs','MeV']).getTimes()"
   ]
  },
  {
   "cell_type": "code",
   "execution_count": 89,
   "id": "a7963f8a-079b-4498-9a76-c6eebe09dd55",
   "metadata": {},
   "outputs": [],
   "source": [
    "np.savetxt('/Users/yao/Desktop/energy.txt',xx)"
   ]
  },
  {
   "cell_type": "code",
   "execution_count": 90,
   "id": "c34c08bf-9710-4841-9b2c-3f8cbe51f918",
   "metadata": {},
   "outputs": [],
   "source": [
    "np.savetxt('/Users/yao/Desktop/dNdE_woDPM.txt',ene_ndpm[-1]*fitting_factor_ndpm)"
   ]
  },
  {
   "cell_type": "code",
   "execution_count": 91,
   "id": "12ac3dfc-91bb-4617-bd62-f5ba84e63fb7",
   "metadata": {},
   "outputs": [],
   "source": [
    "np.savetxt('/Users/yao/Desktop/dNdE_withDPM.txt',ene_wdpm[-1]*fitting_factor_wdpm)"
   ]
  },
  {
   "cell_type": "code",
   "execution_count": 13,
   "id": "87d85126-6fd0-44f7-a50f-62dc8a6b9c5b",
   "metadata": {},
   "outputs": [],
   "source": [
    "width  = 3.487 * 1.3\n",
    "height = width / 1.618 * 1.2\n",
    "\n",
    "fig, ax = plt.subplots()\n",
    "fig.subplots_adjust(left=.15, bottom=.16, right=.99, top=.97)\n",
    "\n",
    "# experiment\n",
    "ax.errorbar(exp_energy_nodpm, exp_number_nodpm, \n",
    "            yerr=exp_number_nodpm_yerr, \n",
    "            xerr=exp_energy_nodpm_xerr,\n",
    "            fmt='.b',markersize=4,\n",
    "            mfc='none',\n",
    "            ecolor='b',elinewidth=1.0,\n",
    "            capsize=2.0, capthick = 1.0,\n",
    "            label='Exp. no DPM'\n",
    "           )\n",
    "ax.set_yscale('log')\n",
    "\n",
    "# fitting\n",
    "xf = np.linspace(0,25, 100)\n",
    "yf = 7.104e10 * np.exp(-3.302e-1 * xf)\n",
    "ax.plot(xf, yf, linewidth=1, linestyle='-.', color='m', label='Fit    no DPM')\n",
    "\n",
    "# simulation\n",
    "ax.semilogy(xx,ene_ndpm[-1]*fitting_factor_ndpm, color='b',lw=1.0,\n",
    "             linestyle='-',\n",
    "             # label='PIC at t = {:.1f} fs'.format(tt[-1]),\n",
    "            label='Sim. no DPM',\n",
    "           )\n",
    "\n",
    "\n",
    "\n",
    "# x = (exp_energy_193 + exp_energy_194) / 2.\n",
    "# y1 = np.asarray([exp_number_193, exp_number_194]).min(0)\n",
    "# y2 = np.asarray([exp_number_193, exp_number_194]).max(0)\n",
    "# ax.fill_between(x, y1, y2, alpha=0.3, color='blue', lw=0)\n",
    "# ax.plot(x, (y1 + y2)/2, linewidth=0, marker='s', markersize=4, color='blue', label='Exp. no DPM')\n",
    "\n",
    "\n",
    "ax.errorbar(exp_energy_dpm, exp_number_dpm, \n",
    "            yerr=exp_number_dpm_yerr, \n",
    "            xerr=exp_energy_dpm_xerr,\n",
    "            fmt='.r',markersize=4,\n",
    "            mfc='none',mew=1.0,\n",
    "            ecolor='r',elinewidth=1.0,\n",
    "            capsize=2.0, capthick = 1.0,\n",
    "            label='Exp. w/ DPM'\n",
    "           )\n",
    "\n",
    "# fitting\n",
    "xf = np.linspace(0,36, 100)\n",
    "yf = 3.369e10 * np.exp(-2.482e-1 * xf)\n",
    "ax.plot(xf, yf, linewidth=1, linestyle=':', color='k', label='Fit    w/ DPM')\n",
    "\n",
    "\n",
    "# simulation\n",
    "ax.semilogy(xx,ene_wdpm[-1]*fitting_factor_wdpm, color='r',lw=1.0,\n",
    "             linestyle='--',\n",
    "            label='Sim. w/ DPM',\n",
    "           )\n",
    "\n",
    "# experiment\n",
    "# x = (exp_energy_56 + exp_energy_111[:-2] + exp_energy_112) / 3.\n",
    "# y1 = np.asarray([exp_number_56, exp_number_111[:-2], exp_number_112]).min(0)\n",
    "# y2 = np.asarray([exp_number_56, exp_number_111[:-2], exp_number_112]).max(0)\n",
    "# ax.fill_between(x, y1, y2, alpha=0.3, color='red', lw=0)\n",
    "# ax.plot(x, (y1 + y2)/2, linewidth=0, marker='^', markersize=4, color='red', label='Exp. w/ DPM')\n",
    "\n",
    "\n",
    "\n",
    "\n",
    "\n",
    "\n",
    "ax.set_xlim([0,40])\n",
    "ax.set_ylim([1e6,1e11])\n",
    "# ax.grid(linestyle='--',alpha=0.5)\n",
    "ax.set_xlabel('Energy (MeV)')\n",
    "ax.set_ylabel('dN/dE (No./MeV)')\n",
    "ax.legend(fancybox=False, reverse=True, frameon=False)\n",
    "fig.set_size_inches(width, height)\n",
    "fig.tight_layout()\n",
    "\n",
    "plt.show()"
   ]
  },
  {
   "cell_type": "code",
   "execution_count": 58,
   "id": "db3917a2-c163-436c-990d-c36e4e34d737",
   "metadata": {},
   "outputs": [],
   "source": [
    "fig.savefig('/Users/yao/Desktop/energy_spec.pdf',dpi=600)"
   ]
  },
  {
   "cell_type": "code",
   "execution_count": 14,
   "id": "ea889f6e-e4a4-4d14-912b-003907c1ca07",
   "metadata": {},
   "outputs": [],
   "source": [
    "width  = 3.487 * 1.2\n",
    "height = width / 1.618 * 1.2\n",
    "\n",
    "fig, ax = plt.subplots()\n",
    "fig.subplots_adjust(left=.15, bottom=.16, right=.99, top=.97)\n",
    "\n",
    "# simulation\n",
    "ax.semilogy(xx,ene_ndpm[-1]*fitting_factor_ndpm, color='b',lw=1.0,\n",
    "             linestyle='-',\n",
    "             # label='PIC at t = {:.1f} fs'.format(tt[-1]),\n",
    "            label=r'Sim. no DPM',\n",
    "           )\n",
    "\n",
    "# # experiment\n",
    "# x = (exp_energy_193 + exp_energy_194) / 2.\n",
    "# y1 = np.asarray([exp_number_193, exp_number_194]).min(0)\n",
    "# y2 = np.asarray([exp_number_193, exp_number_194]).max(0)\n",
    "# ax.fill_between(x, y1, y2, alpha=0.3, color='blue', lw=0)\n",
    "# ax.plot(x, (y1 + y2)/2, linewidth=0, marker='s', markersize=4, color='blue', label='Exp. no DPM')\n",
    "\n",
    "# fitting\n",
    "xf = np.linspace(0,25, 100)\n",
    "yf = 7.104e10 * np.exp(-3.302e-1 * xf)\n",
    "ax.plot(xf, yf, linewidth=1, linestyle='--', color='blue', label='Fit. no DPM')\n",
    "\n",
    "\n",
    "# simulation\n",
    "ax.semilogy(xx,ene_wdpm[-1]*fitting_factor_wdpm, color='r',lw=1.0,\n",
    "             linestyle='-',\n",
    "            label=r'Sim. w/ DPM',\n",
    "           )\n",
    "\n",
    "# # experiment\n",
    "# x = (exp_energy_56 + exp_energy_111[:-2] + exp_energy_112) / 3.\n",
    "# y1 = np.asarray([exp_number_56, exp_number_111[:-2], exp_number_112]).min(0)\n",
    "# y2 = np.asarray([exp_number_56, exp_number_111[:-2], exp_number_112]).max(0)\n",
    "# ax.fill_between(x, y1, y2, alpha=0.3, color='red', lw=0)\n",
    "# ax.plot(x, (y1 + y2)/2, linewidth=0, marker='^', markersize=4, color='red', label='Exp. w/ DPM')\n",
    "\n",
    "# fitting\n",
    "xf = np.linspace(0,35, 100)\n",
    "yf = 3.369e10 * np.exp(-2.482e-1 * xf)\n",
    "ax.plot(xf, yf, linewidth=1, linestyle='--', color='red', label='Fit w. DPM')\n",
    "\n",
    "\n",
    "ax.scatter(exp_energy_56, exp_number_56, color='green', marker='s',\n",
    "            s=24,\n",
    "            label='#56 w. DPM')\n",
    "ax.scatter(exp_energy_111, exp_number_111, color='red', marker='o',\n",
    "            s=24,\n",
    "            label='#111 w. DPM')\n",
    "ax.scatter(exp_energy_112, exp_number_112, color='blue', marker='*',\n",
    "            s=24,\n",
    "            label='#112 w. DPM')\n",
    "\n",
    "ax.scatter(exp_energy_193, exp_number_193, color='c', marker='^',\n",
    "            s=24,\n",
    "            label='#193 no DPM')\n",
    "\n",
    "ax.scatter(exp_energy_194, exp_number_194, color='m', marker='d',\n",
    "            s=24,\n",
    "            label='#194 no DPM')\n",
    "\n",
    "ax.set_xlim([0,35])\n",
    "ax.set_ylim([1e6,1e11])\n",
    "ax.grid(linestyle='--',alpha=0.5)\n",
    "ax.set_xlabel('Energy (MeV)')\n",
    "ax.set_ylabel('dN/dE')\n",
    "ax.legend(loc='upper right', bbox_to_anchor=(1.3, 1))\n",
    "fig.set_size_inches(width, height)\n",
    "fig.tight_layout()\n",
    "\n",
    "plt.show()"
   ]
  },
  {
   "cell_type": "code",
   "execution_count": 18,
   "id": "ca9e6508-f77b-4332-9754-ea7108f8e11e",
   "metadata": {},
   "outputs": [],
   "source": [
    "fig.savefig('/Users/yao/Desktop/fig2_spec2.pdf')"
   ]
  },
  {
   "cell_type": "code",
   "execution_count": 60,
   "id": "8af6f2af-368f-4f65-ba4a-b7ed8a616c5a",
   "metadata": {},
   "outputs": [],
   "source": [
    "# simulation data\n",
    "\n",
    "ene_ndpm = np.array(S0.Screen(2, units=['um','fs','MeV']).getData()[-1]) # last timestep\n",
    "ene_wdpm = np.array(S1.Screen(2, units=['um','fs','MeV']).getData()[-1]) # last timestep\n",
    "\n",
    "yy = np.array(S1.Screen(2, units=['um','fs','MeV']).getAxis('y'))\n",
    "ee = np.array(S1.Screen(2, units=['um','fs','MeV']).getAxis('ekin'))"
   ]
  },
  {
   "cell_type": "code",
   "execution_count": 61,
   "id": "82311902-a733-4923-a889-2e3f9d0d8230",
   "metadata": {},
   "outputs": [
    {
     "name": "stderr",
     "output_type": "stream",
     "text": [
      "/var/folders/2t/97rc3fl92tg15k2l_4sk5hsh0000gn/T/ipykernel_95146/3911377494.py:23: RuntimeWarning: divide by zero encountered in log10\n",
      "  im0 = grid[0].imshow(np.log10(ene_ndpm.T),\n",
      "/var/folders/2t/97rc3fl92tg15k2l_4sk5hsh0000gn/T/ipykernel_95146/3911377494.py:32: RuntimeWarning: divide by zero encountered in log10\n",
      "  im1 = grid[1].imshow(np.log10(ene_wdpm.T),\n",
      "/var/folders/2t/97rc3fl92tg15k2l_4sk5hsh0000gn/T/ipykernel_95146/3911377494.py:54: MatplotlibDeprecationWarning: The toggle_label function was deprecated in Matplotlib 3.8 and will be removed two minor releases later. Use ax.tick_params and colorbar.set_label instead.\n",
      "  grid[1].cax.toggle_label(True)\n"
     ]
    }
   ],
   "source": [
    "from mpl_toolkits.axes_grid1 import make_axes_locatable\n",
    "from mpl_toolkits.axes_grid1 import ImageGrid\n",
    "\n",
    "\n",
    "width  = 3.487 * 1.2\n",
    "height = width / 1.618 * 0.8\n",
    "\n",
    "fig = plt.figure(figsize=(width, height))\n",
    "\n",
    "# fig, ax = plt.subplots()\n",
    "# fig.subplots_adjust(left=.15, bottom=.16, right=.99, top=.97)\n",
    "\n",
    "grid = ImageGrid(fig, 111,          # as in plt.subplot(111)\n",
    "                 nrows_ncols=(1,2),\n",
    "                 axes_pad=0.25,\n",
    "                 share_all=True,\n",
    "                 cbar_location=\"right\",\n",
    "                 cbar_mode=\"single\",\n",
    "                 cbar_size=\"5%\",\n",
    "                 cbar_pad=0.1,\n",
    "                 )\n",
    "\n",
    "im0 = grid[0].imshow(np.log10(ene_ndpm.T),\n",
    "           cmap=newcmap,\n",
    "           origin='lower',\n",
    "           extent=[ee[0],ee[-1],yy[0],yy[-1]],\n",
    "           vmin=-4,\n",
    "           vmax=-1,\n",
    "           aspect='equal',\n",
    "          )\n",
    "\n",
    "im1 = grid[1].imshow(np.log10(ene_wdpm.T),\n",
    "           cmap=newcmap,\n",
    "           origin='lower',\n",
    "           extent=[ee[0],ee[-1],yy[0],yy[-1]],\n",
    "           vmin=-4,\n",
    "           vmax=-1,\n",
    "           aspect='equal',\n",
    "          )\n",
    "\n",
    "grid[0].set_xlim(0,35)\n",
    "grid[1].set_xlim(0,35)\n",
    "grid[1].set_ylim(5,35)\n",
    "grid[0].set_xlabel('Energy (MeV)')\n",
    "grid[1].set_xlabel('Energy (MeV)')\n",
    "grid[0].set_ylabel('y (um)')\n",
    "grid[0].grid(linestyle='--',color='grey',alpha=0.5)\n",
    "grid[1].grid(linestyle='--',color='grey',alpha=0.5)\n",
    "\n",
    "# Colorbar\n",
    "grid[1].cax.colorbar(im1)\n",
    "grid[1].cax.cla()\n",
    "mpl.colorbar.Colorbar(grid[1].cax,im1)\n",
    "grid[1].cax.toggle_label(True)\n",
    "# grid[1].cax.tick_params(size=0)\n",
    "# grid[1].cax.toggle_label(True)\n",
    "# fig.tight_layout()\n",
    "plt.show()"
   ]
  },
  {
   "cell_type": "code",
   "execution_count": 51,
   "id": "14616a04-4470-4e99-9e88-41b31e2380cf",
   "metadata": {},
   "outputs": [],
   "source": [
    "fig.savefig('/Users/yao/Desktop/y_ekin.pdf')"
   ]
  },
  {
   "cell_type": "code",
   "execution_count": 8,
   "id": "80ccb7e0-9bae-4b38-a18f-c56bd4188714",
   "metadata": {},
   "outputs": [],
   "source": [
    "# simulation data -- px-py -- H\n",
    "\n",
    "pxpy_ndpm = np.array(S0.Screen(1, units=['um','fs','MeV']).getData()[-1]) # last timestep\n",
    "pxpy_wdpm = np.array(S1.Screen(1, units=['um','fs','MeV']).getData()[-1]) # last timestep\n",
    "\n",
    "px = np.array(S1.Screen(1, units=['um','fs','MeV']).getAxis('px'))\n",
    "py = np.array(S1.Screen(1, units=['um','fs','MeV']).getAxis('py'))"
   ]
  },
  {
   "cell_type": "code",
   "execution_count": 9,
   "id": "5edd82f8-3630-4ea3-8879-f1c368b6f039",
   "metadata": {},
   "outputs": [
    {
     "name": "stderr",
     "output_type": "stream",
     "text": [
      "/var/folders/2t/97rc3fl92tg15k2l_4sk5hsh0000gn/T/ipykernel_10102/4105506458.py:23: RuntimeWarning: divide by zero encountered in log10\n",
      "  im0 = grid[0].imshow(np.log10((pxpy_ndpm/pxpy_wdpm.max()).T),\n",
      "/var/folders/2t/97rc3fl92tg15k2l_4sk5hsh0000gn/T/ipykernel_10102/4105506458.py:32: RuntimeWarning: divide by zero encountered in log10\n",
      "  im1 = grid[1].imshow(np.log10((pxpy_wdpm/pxpy_wdpm.max()).T),\n",
      "/var/folders/2t/97rc3fl92tg15k2l_4sk5hsh0000gn/T/ipykernel_10102/4105506458.py:62: UserWarning: This figure includes Axes that are not compatible with tight_layout, so results might be incorrect.\n",
      "  fig.tight_layout()\n"
     ]
    }
   ],
   "source": [
    "from mpl_toolkits.axes_grid1 import make_axes_locatable\n",
    "from mpl_toolkits.axes_grid1 import ImageGrid\n",
    "\n",
    "\n",
    "width  = 3.487 * 1.2\n",
    "height = width / 1.618 * 1.5\n",
    "\n",
    "fig = plt.figure(figsize=(width, height))\n",
    "\n",
    "# fig, ax = plt.subplots()\n",
    "# fig.subplots_adjust(left=.15, bottom=.16, right=.99, top=.97)\n",
    "\n",
    "grid = ImageGrid(fig, 111,          # as in plt.subplot(111)\n",
    "                 nrows_ncols=(2,1),\n",
    "                 axes_pad=0.25,\n",
    "                 share_all=True,\n",
    "                 cbar_location=\"right\",\n",
    "                 cbar_mode=\"single\",\n",
    "                 cbar_size=\"2%\",\n",
    "                 cbar_pad=0.1,\n",
    "                 )\n",
    "\n",
    "im0 = grid[0].imshow(np.log10((pxpy_ndpm/pxpy_wdpm.max()).T),\n",
    "           cmap=newcmap,\n",
    "           origin='lower',\n",
    "           extent=[px[0],px[-1],py[0],py[-1]],\n",
    "           vmin=-3,\n",
    "           vmax=0,\n",
    "           aspect='equal',\n",
    "          )\n",
    "\n",
    "im1 = grid[1].imshow(np.log10((pxpy_wdpm/pxpy_wdpm.max()).T),\n",
    "           cmap=newcmap,\n",
    "           origin='lower',\n",
    "           extent=[px[0],px[-1],py[0],py[-1]],\n",
    "           vmin=-3,\n",
    "           vmax=0,\n",
    "           aspect='equal',\n",
    "          )\n",
    "\n",
    "grid[0].set_xlim(100,500)\n",
    "grid[1].set_xlim(100,500)\n",
    "grid[1].set_ylim(-100,100)\n",
    "grid[0].set_xlabel(r'$p_x$ ($m_e c$)')\n",
    "grid[1].set_xlabel(r'$p_x$ ($m_e c$)')\n",
    "grid[0].set_ylabel(r'$p_y$ ($m_e c$)')\n",
    "grid[1].set_ylabel(r'$p_y$ ($m_e c$)')\n",
    "grid[0].grid(linestyle='--',color='grey',alpha=0.5)\n",
    "grid[1].grid(linestyle='--',color='grey',alpha=0.5)\n",
    "\n",
    "# Colorbar\n",
    "grid[1].cax.colorbar(im1)\n",
    "grid[1].cax.cla()\n",
    "mpl.colorbar.Colorbar(grid[1].cax,im1)\n",
    "cax = grid.cbar_axes[0]\n",
    "axis = cax.axis[cax.orientation]\n",
    "axis.label.set_text('Normalized Particles')\n",
    "# grid[1].cax.toggle_label(r'$n_p (cm^{-3})$')\n",
    "# grid[1].cax.tick_params(size=0)\n",
    "# grid[1].cax.toggle_label(True)\n",
    "fig.set_size_inches(width, height)\n",
    "fig.tight_layout()\n",
    "plt.show()"
   ]
  },
  {
   "cell_type": "code",
   "execution_count": 41,
   "id": "df5b1499-881b-4b6b-a848-d0857cd35b96",
   "metadata": {},
   "outputs": [],
   "source": [
    "fig.savefig('/Users/yao/Desktop/pxpy.pdf',dpi=600)"
   ]
  },
  {
   "cell_type": "code",
   "execution_count": 95,
   "id": "c98a5585-e8b1-4ddb-bfa2-dbb249ac9e43",
   "metadata": {},
   "outputs": [],
   "source": [
    "# simulation data -- px-py -- e\n",
    "\n",
    "pxpy_ndpm = np.array(S0.Screen(5, units=['um','fs','MeV']).getData()[-1]) # last timestep\n",
    "pxpy_wdpm = np.array(S1.Screen(5, units=['um','fs','MeV']).getData()[-1]) # last timestep\n",
    "\n",
    "px = np.array(S1.Screen(5, units=['um','fs','MeV']).getAxis('px'))\n",
    "py = np.array(S1.Screen(5, units=['um','fs','MeV']).getAxis('py'))"
   ]
  },
  {
   "cell_type": "code",
   "execution_count": 107,
   "id": "c866b12c-a9d5-4079-b5d8-e00fcbed8d1d",
   "metadata": {},
   "outputs": [
    {
     "name": "stderr",
     "output_type": "stream",
     "text": [
      "/var/folders/2t/97rc3fl92tg15k2l_4sk5hsh0000gn/T/ipykernel_47838/1163602545.py:23: RuntimeWarning: divide by zero encountered in log10\n",
      "  im0 = grid[1].imshow(np.log10((pxpy_ndpm/pxpy_wdpm.max()).T),\n",
      "/var/folders/2t/97rc3fl92tg15k2l_4sk5hsh0000gn/T/ipykernel_47838/1163602545.py:32: RuntimeWarning: divide by zero encountered in log10\n",
      "  im1 = grid[0].imshow(np.log10((pxpy_wdpm/pxpy_wdpm.max()).T),\n",
      "/var/folders/2t/97rc3fl92tg15k2l_4sk5hsh0000gn/T/ipykernel_47838/1163602545.py:62: UserWarning: This figure includes Axes that are not compatible with tight_layout, so results might be incorrect.\n",
      "  fig.tight_layout()\n"
     ]
    }
   ],
   "source": [
    "from mpl_toolkits.axes_grid1 import make_axes_locatable\n",
    "from mpl_toolkits.axes_grid1 import ImageGrid\n",
    "\n",
    "\n",
    "width  = 3.487 *2 #* 1.2  \n",
    "height = width / 1.618 * 1.0\n",
    "\n",
    "fig = plt.figure(figsize=(width, height))\n",
    "\n",
    "# fig, ax = plt.subplots()\n",
    "# fig.subplots_adjust(left=.15, bottom=.16, right=.99, top=.97)\n",
    "\n",
    "grid = ImageGrid(fig, 111,          # as in plt.subplot(111)\n",
    "                 nrows_ncols=(1,2),\n",
    "                 axes_pad=0.3,\n",
    "                 share_all=True,\n",
    "                 cbar_location=\"right\",\n",
    "                 cbar_mode=\"single\",\n",
    "                 cbar_size=\"10%\",\n",
    "                 cbar_pad=0.1,\n",
    "                 )\n",
    "\n",
    "im0 = grid[1].imshow(np.log10((pxpy_ndpm/pxpy_wdpm.max()).T),\n",
    "           cmap=newcmap,\n",
    "           origin='lower',\n",
    "           extent=[px[0],px[-1],py[0],py[-1]],\n",
    "           vmin=-4,\n",
    "           vmax=0,\n",
    "           aspect='equal',\n",
    "          )\n",
    "\n",
    "im1 = grid[0].imshow(np.log10((pxpy_wdpm/pxpy_wdpm.max()).T),\n",
    "           cmap=newcmap,\n",
    "           origin='lower',\n",
    "           extent=[px[0],px[-1],py[0],py[-1]],\n",
    "           vmin=-4,\n",
    "           vmax=0,\n",
    "           aspect='equal',\n",
    "          )\n",
    "\n",
    "grid[0].set_xlim(0,20)\n",
    "grid[1].set_xlim(0,20)\n",
    "grid[1].set_ylim(-30,30)\n",
    "grid[0].set_xlabel(r'$p_x$ ($m_e c$)')\n",
    "grid[1].set_xlabel(r'$p_x$ ($m_e c$)')\n",
    "grid[0].set_ylabel(r'$p_y$ ($m_e c$)')\n",
    "grid[1].set_ylabel(r'$p_y$ ($m_e c$)')\n",
    "grid[0].grid(linestyle='--',color='grey',alpha=0.5)\n",
    "grid[1].grid(linestyle='--',color='grey',alpha=0.5)\n",
    "\n",
    "# Colorbar\n",
    "grid[1].cax.colorbar(im1)\n",
    "grid[1].cax.cla()\n",
    "mpl.colorbar.Colorbar(grid[1].cax,im1)\n",
    "cax = grid.cbar_axes[0]\n",
    "axis = cax.axis[cax.orientation]\n",
    "axis.label.set_text(r'Normalized Particles in $\\log_{10}$')\n",
    "# grid[1].cax.toggle_label(r'$n_p (cm^{-3})$')\n",
    "# grid[1].cax.tick_params(size=0)\n",
    "# grid[1].cax.toggle_label(True)\n",
    "fig.set_size_inches(width, height)\n",
    "fig.tight_layout()\n",
    "plt.show()"
   ]
  },
  {
   "cell_type": "code",
   "execution_count": 108,
   "id": "5baefb48-d64c-4a8b-9adc-da158143a5e2",
   "metadata": {},
   "outputs": [],
   "source": [
    "fig.savefig('/Users/yao/Desktop/pxpy_e.pdf',dpi=600)\n",
    "fig.savefig('/Users/yao/Desktop/pxpy_e.png',dpi=600)"
   ]
  },
  {
   "cell_type": "code",
   "execution_count": null,
   "id": "e15236b7-58b3-42f7-9757-df101306b6c4",
   "metadata": {},
   "outputs": [],
   "source": []
  },
  {
   "cell_type": "code",
   "execution_count": 98,
   "id": "77f37d0f-5ead-4360-adfe-d7d0e296e7a8",
   "metadata": {},
   "outputs": [],
   "source": [
    "ed0 = np.array(S0.ParticleBinning(10,\n",
    "                   # data_log=True,\n",
    "                   units=['um','fs','keV cm^-3'\n",
    "                         ],\n",
    "                   sum={'ekin':[0.8,2]},\n",
    "                   cmap='inferno_r',\n",
    "                   # vmin=22,\n",
    "                   # vmax=27,\n",
    "                        ).getData())\n",
    "                  # ).animate(movie='/Users/yao/Desktop/ene_dens_ndpm.gif')\n",
    "                  # ).slide()\n",
    "\n",
    "ed2 = np.array(S2.ParticleBinning(10,\n",
    "                   # data_log=True,\n",
    "                   units=['um','fs','keV cm^-3'\n",
    "                         ],\n",
    "                   sum={'ekin':[0.8,2]},\n",
    "                   cmap='inferno_r',\n",
    "                   # vmin=22,\n",
    "                   # vmax=27,\n",
    "                        ).getData())"
   ]
  },
  {
   "cell_type": "code",
   "execution_count": 69,
   "id": "b9d6eb17-1c14-418b-b1b6-0c6b876e5da1",
   "metadata": {},
   "outputs": [],
   "source": [
    "xx = np.array(S0.ParticleBinning(10,\n",
    "                   data_log=True,\n",
    "                   units=['um','fs','keV cm^-3'\n",
    "                         ],\n",
    "                   sum={'ekin':[0.8,2]},\n",
    "                   cmap='inferno_r',\n",
    "                   vmin=22,\n",
    "                   vmax=27,\n",
    "                        ).getAxis('x'))\n",
    "\n",
    "yy = np.array(S0.ParticleBinning(10,\n",
    "                   data_log=True,\n",
    "                   units=['um','fs','keV cm^-3'\n",
    "                         ],\n",
    "                   sum={'ekin':[0.8,2]},\n",
    "                   cmap='inferno_r',\n",
    "                   vmin=22,\n",
    "                   vmax=27,\n",
    "                        ).getAxis('y'))\n",
    "\n",
    "time0 = np.array(S0.ParticleBinning(10,\n",
    "                   data_log=True,\n",
    "                   units=['um','fs','keV cm^-3'\n",
    "                         ],\n",
    "                   sum={'ekin':[0.8,2]},\n",
    "                   cmap='inferno_r',\n",
    "                   vmin=22,\n",
    "                   vmax=27,\n",
    "                        ).getTimes())\n",
    "\n",
    "time2 = np.array(S2.ParticleBinning(10,\n",
    "                   data_log=True,\n",
    "                   units=['um','fs','keV cm^-3'\n",
    "                         ],\n",
    "                   sum={'ekin':[0.8,2]},\n",
    "                   cmap='inferno_r',\n",
    "                   vmin=22,\n",
    "                   vmax=27,\n",
    "                        ).getTimes())"
   ]
  },
  {
   "cell_type": "code",
   "execution_count": 78,
   "id": "12b1c361-0d7e-4928-bbd4-44ca19569165",
   "metadata": {},
   "outputs": [
    {
     "name": "stderr",
     "output_type": "stream",
     "text": [
      "/var/folders/2t/97rc3fl92tg15k2l_4sk5hsh0000gn/T/ipykernel_10102/1685197588.py:69: UserWarning: This figure includes Axes that are not compatible with tight_layout, so results might be incorrect.\n",
      "  fig.tight_layout()\n"
     ]
    }
   ],
   "source": [
    "from mpl_toolkits.axes_grid1 import make_axes_locatable\n",
    "from mpl_toolkits.axes_grid1 import ImageGrid\n",
    "\n",
    "id0 = 30\n",
    "id2 = 28\n",
    "\n",
    "width  = 3.487 * 2.0\n",
    "height = width / 1.618 * 1.0\n",
    "\n",
    "fig = plt.figure(figsize=(width, height))\n",
    "\n",
    "# fig, ax = plt.subplots()\n",
    "# fig.subplots_adjust(left=.15, bottom=.16, right=.99, top=.97)\n",
    "\n",
    "grid = ImageGrid(fig, 111,          # as in plt.subplot(111)\n",
    "                 nrows_ncols=(1,2),\n",
    "                 axes_pad=0.35,\n",
    "                 share_all=True,\n",
    "                 cbar_location=\"right\",\n",
    "                 cbar_mode=\"single\",\n",
    "                 cbar_size=\"5%\",\n",
    "                 cbar_pad=0.1,\n",
    "                 )\n",
    "\n",
    "im0 = grid[0].imshow((ed2[id2].T),\n",
    "           cmap='inferno_r',\n",
    "           origin='lower',\n",
    "           extent=[xx[0],xx[-1],yy[0],yy[-1]],\n",
    "           vmin=22,\n",
    "           vmax=27,\n",
    "           aspect='equal',\n",
    "          )\n",
    "\n",
    "im1 = grid[1].imshow((ed0[id0].T),\n",
    "           cmap='inferno_r',\n",
    "           origin='lower',\n",
    "           extent=[xx[0],xx[-1],yy[0],yy[-1]],\n",
    "           vmin=22,\n",
    "           vmax=27,\n",
    "           aspect='equal',\n",
    "          )\n",
    "\n",
    "grid[0].set_xlim(1,21)\n",
    "grid[1].set_xlim(1,21)\n",
    "grid[1].set_ylim(7,35)\n",
    "grid[0].set_ylim(7,35)\n",
    "grid[0].set_xlabel(r'x ($\\mu$m)')\n",
    "grid[1].set_xlabel(r'x ($\\mu$m)')\n",
    "grid[0].set_ylabel(r'y ($\\mu$m)')\n",
    "# grid[0].set_xticks([0, 7, 14,  21])\n",
    "grid[1].set_xticks([1, 6, 11, 16, 21])\n",
    "# grid[0].set_yticks([0, 7, 14, 21, 28, 35, 42])\n",
    "grid[0].set_yticks([7, 14, 21, 28, 35])\n",
    "grid[1].set_title('time = {:.1f} fs'.format(time0[id0]))\n",
    "grid[0].set_title('time = {:.1f} fs'.format(time2[id2]))\n",
    "grid[0].grid(linestyle='--',color='grey',alpha=0.5)\n",
    "grid[1].grid(linestyle='--',color='grey',alpha=0.5)\n",
    "\n",
    "# Colorbar\n",
    "grid[1].cax.colorbar(im1)\n",
    "grid[1].cax.cla()\n",
    "mpl.colorbar.Colorbar(grid[1].cax,im1)\n",
    "cax = grid.cbar_axes[0]\n",
    "axis = cax.axis[cax.orientation]\n",
    "axis.label.set_text(r'$n_e$ $\\varepsilon_{kin}$ (cm$^{-3}$ $\\cdot$ keV)')\n",
    "# grid[1].cax.toggle_label(r'$n_p (cm^{-3})$')\n",
    "# grid[1].cax.tick_params(size=0)\n",
    "# grid[1].cax.toggle_label(True)\n",
    "fig.tight_layout()\n",
    "fig.set_size_inches(width, height)\n",
    "plt.show()"
   ]
  },
  {
   "cell_type": "code",
   "execution_count": 79,
   "id": "a5a6bdba-e578-45e0-bfec-301ef09cb0d3",
   "metadata": {},
   "outputs": [],
   "source": [
    "fig.savefig('/Users/yao/Desktop/ene_dens_e.pdf',dpi=600)\n",
    "fig.savefig('/Users/yao/Desktop/ene_dens_e.png',dpi=600)"
   ]
  },
  {
   "cell_type": "code",
   "execution_count": null,
   "id": "5f5c3b40-18ca-466f-a74a-cedd0c0c03e7",
   "metadata": {},
   "outputs": [],
   "source": []
  },
  {
   "cell_type": "code",
   "execution_count": 15,
   "id": "35ee5f56-5f2f-44d4-8670-d40318cf71c0",
   "metadata": {},
   "outputs": [],
   "source": [
    "angene_ndpm = np.array(S0.Screen(6, units=['um','fs','MeV']).getData()[-1]) # last timestep\n",
    "angene_wdpm = np.array(S1.Screen(6, units=['um','fs','MeV']).getData()[-1]) # last timestep\n",
    "\n",
    "ang = np.array(S0.Screen(6, units=['um','fs','MeV']).getAxis('user_function0'))\n",
    "ee = np.array(S0.Screen(6, units=['um','fs','MeV']).getAxis('ekin'))"
   ]
  },
  {
   "cell_type": "code",
   "execution_count": null,
   "id": "b05b6436-5ca0-40cc-a767-ab85a8702b66",
   "metadata": {},
   "outputs": [],
   "source": []
  },
  {
   "cell_type": "code",
   "execution_count": 29,
   "id": "5219b665-a132-4d0c-b9ef-4e1a76df17e0",
   "metadata": {},
   "outputs": [
    {
     "name": "stderr",
     "output_type": "stream",
     "text": [
      "/var/folders/2t/97rc3fl92tg15k2l_4sk5hsh0000gn/T/ipykernel_61275/128870948.py:23: RuntimeWarning: divide by zero encountered in log10\n",
      "  im0 = grid[0].imshow(np.log10(angene_ndpm.T),\n",
      "/var/folders/2t/97rc3fl92tg15k2l_4sk5hsh0000gn/T/ipykernel_61275/128870948.py:32: RuntimeWarning: divide by zero encountered in log10\n",
      "  im1 = grid[1].imshow(np.log10(angene_wdpm.T),\n",
      "/var/folders/2t/97rc3fl92tg15k2l_4sk5hsh0000gn/T/ipykernel_61275/128870948.py:59: UserWarning: This figure includes Axes that are not compatible with tight_layout, so results might be incorrect.\n",
      "  fig.tight_layout()\n"
     ]
    }
   ],
   "source": [
    "from mpl_toolkits.axes_grid1 import make_axes_locatable\n",
    "from mpl_toolkits.axes_grid1 import ImageGrid\n",
    "\n",
    "\n",
    "width  = 3.487 * 1.5\n",
    "height = width / 1.618 * 0.8\n",
    "\n",
    "fig = plt.figure(figsize=(width, height))\n",
    "\n",
    "# fig, ax = plt.subplots()\n",
    "# fig.subplots_adjust(left=.15, bottom=.16, right=.99, top=.97)\n",
    "\n",
    "grid = ImageGrid(fig, 111,          # as in plt.subplot(111)\n",
    "                 nrows_ncols=(1,2),\n",
    "                 axes_pad=0.35,\n",
    "                 share_all=True,\n",
    "                 cbar_location=\"right\",\n",
    "                 cbar_mode=\"single\",\n",
    "                 cbar_size=\"5%\",\n",
    "                 cbar_pad=0.1,\n",
    "                 )\n",
    "\n",
    "im0 = grid[0].imshow(np.log10(angene_ndpm.T),\n",
    "           cmap=newcmap,\n",
    "           origin='lower',\n",
    "           extent=[ang[0],ang[-1],ee[0],ee[-1]],\n",
    "           vmin=-6,\n",
    "           vmax=-2,\n",
    "           aspect='equal',\n",
    "          )\n",
    "\n",
    "im1 = grid[1].imshow(np.log10(angene_wdpm.T),\n",
    "           cmap=newcmap,\n",
    "           origin='lower',\n",
    "           extent=[ang[0],ang[-1],ee[0],ee[-1]],\n",
    "           vmin=-6,\n",
    "           vmax=-2,\n",
    "           aspect='equal',\n",
    "          )\n",
    "\n",
    "grid[0].set_xlim(-20,20)\n",
    "grid[0].set_xticks([-20, -10, 0, 10, 20])\n",
    "grid[1].set_xlim(-20,20)\n",
    "grid[1].set_xticks([-20, -10, 0, 10, 20])\n",
    "grid[1].set_ylim(0, 35)\n",
    "grid[0].set_xlabel(r'angle ($\\degree$)')\n",
    "grid[1].set_xlabel(r'angle ($\\degree$)')\n",
    "grid[0].set_ylabel('Energy (MeV)')\n",
    "grid[0].grid(linestyle='--',color='grey',alpha=0.5)\n",
    "grid[1].grid(linestyle='--',color='grey',alpha=0.5)\n",
    "\n",
    "# Colorbar\n",
    "grid[1].cax.colorbar(im1)\n",
    "grid[1].cax.cla()\n",
    "mpl.colorbar.Colorbar(grid[1].cax,im1)\n",
    "# grid[1].cax.toggle_label(True)\n",
    "# grid[1].cax.tick_params(size=0)\n",
    "# grid[1].cax.toggle_label(True)\n",
    "fig.tight_layout()\n",
    "plt.show()"
   ]
  },
  {
   "cell_type": "code",
   "execution_count": 31,
   "id": "09873a8e-175b-4b77-aa74-d700f99ea0f2",
   "metadata": {},
   "outputs": [],
   "source": [
    "fig.savefig('/Users/yao/Desktop/ang_ene_p.pdf',dpi=600)"
   ]
  },
  {
   "cell_type": "code",
   "execution_count": null,
   "id": "8aaa648f-1c6c-486d-b1ac-0462619e4577",
   "metadata": {},
   "outputs": [],
   "source": []
  },
  {
   "cell_type": "code",
   "execution_count": 12,
   "id": "fdd53fd5-a5c4-46a0-80c7-87562f7f2a01",
   "metadata": {},
   "outputs": [],
   "source": [
    "angene_ndpm = np.array(S0.Screen(7, units=['um','fs','MeV']).getData()[-1]) # last timestep\n",
    "angene_wdpm = np.array(S1.Screen(7, units=['um','fs','MeV']).getData()[-1]) # last timestep\n",
    "\n",
    "ang = np.array(S0.Screen(7, units=['um','fs','MeV']).getAxis('user_function0'))\n",
    "ee = np.array(S0.Screen(7, units=['um','fs','MeV']).getAxis('ekin'))"
   ]
  },
  {
   "cell_type": "code",
   "execution_count": 13,
   "id": "085f660c-d39a-4d89-83ea-e77971d04862",
   "metadata": {},
   "outputs": [
    {
     "name": "stderr",
     "output_type": "stream",
     "text": [
      "/var/folders/2t/97rc3fl92tg15k2l_4sk5hsh0000gn/T/ipykernel_20041/2977680343.py:24: RuntimeWarning: divide by zero encountered in log10\n",
      "  im0 = grid[0].imshow(np.log10(angene_ndpm.T),\n",
      "/var/folders/2t/97rc3fl92tg15k2l_4sk5hsh0000gn/T/ipykernel_20041/2977680343.py:33: RuntimeWarning: divide by zero encountered in log10\n",
      "  im1 = grid[1].imshow(np.log10(angene_wdpm.T),\n"
     ]
    }
   ],
   "source": [
    "from mpl_toolkits.axes_grid1 import make_axes_locatable\n",
    "from mpl_toolkits.axes_grid1 import ImageGrid\n",
    "\n",
    "\n",
    "width  = 3.487 * 1.2\n",
    "height = width / 1.618 * 0.8\n",
    "\n",
    "fig = plt.figure(figsize=(width, height))\n",
    "# fig = plt.figure()\n",
    "\n",
    "# fig, ax = plt.subplots()\n",
    "# fig.subplots_adjust(left=.15, bottom=.16, right=.99, top=.97)\n",
    "\n",
    "grid = ImageGrid(fig, 111,          # as in plt.subplot(111)\n",
    "                 nrows_ncols=(1,2),\n",
    "                 axes_pad=0.25,\n",
    "                 share_all=True,\n",
    "                 cbar_location=\"right\",\n",
    "                 cbar_mode=\"single\",\n",
    "                 cbar_size=\"5%\",\n",
    "                 cbar_pad=0.1,\n",
    "                 )\n",
    "\n",
    "im0 = grid[0].imshow(np.log10(angene_ndpm.T),\n",
    "           cmap=newcmap,\n",
    "           origin='lower',\n",
    "           extent=[ang[0],ang[-1],ee[0],ee[-1]],\n",
    "           vmin=-7,\n",
    "           vmax=-3,\n",
    "           aspect=8,\n",
    "          )\n",
    "\n",
    "im1 = grid[1].imshow(np.log10(angene_wdpm.T),\n",
    "           cmap=newcmap,\n",
    "           origin='lower',\n",
    "           extent=[ang[0],ang[-1],ee[0],ee[-1]],\n",
    "           vmin=-7,\n",
    "           vmax=-3,\n",
    "           aspect=8,\n",
    "          )\n",
    "\n",
    "grid[0].set_xlim(-90,90)\n",
    "grid[1].set_xlim(-90,90)\n",
    "grid[1].set_ylim(0, 20)\n",
    "grid[0].set_xlabel(r'angle ($\\degree$)')\n",
    "grid[1].set_xlabel(r'angle ($\\degree$)')\n",
    "grid[0].set_ylabel('Energy (MeV)')\n",
    "grid[0].grid(linestyle='--',color='grey',alpha=0.5)\n",
    "grid[1].grid(linestyle='--',color='grey',alpha=0.5)\n",
    "\n",
    "# Colorbar\n",
    "grid[1].cax.colorbar(im1)\n",
    "grid[1].cax.cla()\n",
    "mpl.colorbar.Colorbar(grid[1].cax,im1)\n",
    "# grid[1].cax.toggle_label(True)\n",
    "# grid[1].cax.tick_params(size=0)\n",
    "# grid[1].cax.toggle_label(True)\n",
    "# fig.tight_layout()\n",
    "fig.set_size_inches(width, height)\n",
    "plt.show()"
   ]
  },
  {
   "cell_type": "code",
   "execution_count": 66,
   "id": "3bfd0a06-5bfa-4c46-9611-aaac35be5ea1",
   "metadata": {},
   "outputs": [],
   "source": [
    "fig.savefig('/Users/yao/Desktop/ang_ene_e.pdf')"
   ]
  },
  {
   "cell_type": "code",
   "execution_count": null,
   "id": "5910e8a8-f6e3-4d7b-99bc-79bdbb1f7522",
   "metadata": {},
   "outputs": [],
   "source": []
  },
  {
   "cell_type": "code",
   "execution_count": 26,
   "id": "ac42eafa-898b-4328-9395-25a9383b093b",
   "metadata": {},
   "outputs": [],
   "source": [
    "ene_ndpm = S0.Screen(3, units=['um','fs','MeV'],).getData()\n",
    "ene_wdpm = S1.Screen(3, units=['um','fs','MeV'],).getData()\n",
    "\n",
    "xx  = S0.Screen(3, units=['um','fs','MeV']).getAxis('ekin')\n",
    "tt  = S0.Screen(3, units=['um','fs','MeV']).getTimes()"
   ]
  },
  {
   "cell_type": "code",
   "execution_count": 27,
   "id": "bd294ca4-0c51-41ab-9501-8c9c30a80515",
   "metadata": {},
   "outputs": [],
   "source": [
    "from lmfit import Model, Parameters, report_fit\n",
    "\n",
    "def temp(xdata, A, kT):\n",
    "    return np.exp(-xdata/kT)*A\n",
    "\n",
    "def fitting(case, start, end):\n",
    "    gmod = Model(temp)\n",
    "    gmod.set_param_hint('kT', value=1.5, vary=True, min=1.0e-2, max=1.0e1)\n",
    "    gmod.set_param_hint('A', value=3.0, vary=True, min=1.0e-6, max=1.0e2)\n",
    "    pars = gmod.make_params()\n",
    "    result = gmod.fit(case[start:end], xdata=xx[start:end], method=fitmethod, nan_policy='omit')\n",
    "    print(result.fit_report())\n",
    "    print(\"kT: \", result.values['kT'])\n",
    "    print(\"Reduced chi square: \", result.redchi)\n",
    "    return result.best_fit, result.values['kT'], result.redchi"
   ]
  },
  {
   "cell_type": "code",
   "execution_count": 28,
   "id": "3c88e460-2dbd-484c-b0ca-9142f00bacf0",
   "metadata": {},
   "outputs": [
    {
     "name": "stdout",
     "output_type": "stream",
     "text": [
      "[[Model]]\n",
      "    Model(temp)\n",
      "[[Fit Statistics]]\n",
      "    # fitting method   = leastsq\n",
      "    # function evals   = 28\n",
      "    # data points      = 140\n",
      "    # variables        = 2\n",
      "    chi-square         = 1.1652e-06\n",
      "    reduced chi-square = 8.4437e-09\n",
      "    Akaike info crit   = -2600.59346\n",
      "    Bayesian info crit = -2594.71017\n",
      "    R-squared          = 0.90928568\n",
      "[[Variables]]\n",
      "    A:   0.00681855 +/- 5.8031e-04 (8.51%) (init = 3)\n",
      "    kT:  2.40204448 +/- 0.08838606 (3.68%) (init = 1.5)\n",
      "[[Correlations]] (unreported correlations are < 0.100)\n",
      "    C(A, kT) = -0.9836\n",
      "kT:  2.402044482330456\n",
      "Reduced chi square:  8.443657629950517e-09\n",
      "[[Model]]\n",
      "    Model(temp)\n",
      "[[Fit Statistics]]\n",
      "    # fitting method   = leastsq\n",
      "    # function evals   = 46\n",
      "    # data points      = 140\n",
      "    # variables        = 2\n",
      "    chi-square         = 7.9008e-10\n",
      "    reduced chi-square = 5.7252e-12\n",
      "    Akaike info crit   = -3622.07380\n",
      "    Bayesian info crit = -3616.19052\n",
      "    R-squared          = 0.97503722\n",
      "[[Variables]]\n",
      "    A:   3.1518e-04 +/- 1.2595e-05 (4.00%) (init = 3)\n",
      "    kT:  2.56126940 +/- 0.04673931 (1.82%) (init = 1.5)\n",
      "[[Correlations]] (unreported correlations are < 0.100)\n",
      "    C(A, kT) = -0.9823\n",
      "kT:  2.5612694049780957\n",
      "Reduced chi square:  5.725229800647759e-12\n"
     ]
    }
   ],
   "source": [
    "start_point = 550  # 3 MeV \n",
    "end_point = 690    # 25 MeV\n",
    "fitmethod =  'leastsq' #'leastsq' #'tnc' 'cg' 'differential_evolution'\n",
    "ttt = -1\n",
    "\n",
    "y_ndpm, kT_ndpm, redchi_ndpm = fitting(ene_ndpm[ttt], start_point, end_point)\n",
    "y_wdpm, kT_wdpm, redchi_wdpm = fitting(ene_wdpm[ttt], start_point, end_point)"
   ]
  },
  {
   "cell_type": "code",
   "execution_count": 29,
   "id": "8df55378-6271-45be-8ead-3303755e5580",
   "metadata": {},
   "outputs": [],
   "source": [
    "width  = 3.487 * 1.3\n",
    "height = width / 1.618 * 1.2\n",
    "\n",
    "fig, ax = plt.subplots()\n",
    "fig.subplots_adjust(left=.15, bottom=.16, right=.99, top=.97)\n",
    "\n",
    "ax.semilogy(xx,ene_ndpm[ttt]/ene_ndpm[ttt].max(), color='b',lw=1.0,\n",
    "             linestyle='-',\n",
    "             label='Sim. no DPM',\n",
    "           )\n",
    "\n",
    "ax.semilogy(xx[start_point:end_point], y_ndpm/ene_ndpm[ttt].max(), \n",
    "            '-.m', linewidth=2.0, markersize=6, \n",
    "            mfc='none',mew=1, \n",
    "            label='{:.1f} MeV'.format(kT_ndpm))\n",
    "\n",
    "ax.semilogy(xx,ene_wdpm[ttt]/ene_wdpm[ttt].max(), color='r',lw=1.0,\n",
    "             linestyle='--',\n",
    "             label='Sim. w/ DPM',\n",
    "           )\n",
    "\n",
    "ax.semilogy(xx[start_point:end_point], y_wdpm/ene_wdpm[ttt].max(), \n",
    "            ':k', linewidth=2.0, markersize=6, \n",
    "            mfc='none',mew=1, \n",
    "            label='{:.1f} MeV'.format(kT_wdpm))\n",
    "\n",
    "\n",
    "ax.set_xlim([0,20])\n",
    "ax.set_ylim([1e-5,1e0])\n",
    "ax.set_yticks([1, 1e-2, 1e-4])\n",
    "# plt.title('time = '+str(tt[ts])+' fs')\n",
    "# ax.grid(which='both',linestyle='--',alpha=0.5)\n",
    "ax.set_xlabel('Energy (MeV)')\n",
    "ax.set_ylabel('Normalized dN/dE')\n",
    "\n",
    "ax.legend(fancybox=False, frameon=False)\n",
    "fig.set_size_inches(width, height)\n",
    "fig.tight_layout()"
   ]
  },
  {
   "cell_type": "code",
   "execution_count": 169,
   "id": "479ee6cf-24b0-42df-80c3-f6b2f9f74c8c",
   "metadata": {},
   "outputs": [],
   "source": [
    "fig.savefig('/Users/yao/Desktop/spec_e_temp.pdf',dpi=600)"
   ]
  },
  {
   "cell_type": "code",
   "execution_count": 32,
   "id": "4fb0f480-f601-42fb-9149-d325f64073fa",
   "metadata": {},
   "outputs": [],
   "source": [
    "width  = 3.487 * 1.3\n",
    "height = width / 1.618 * 1.2\n",
    "\n",
    "fig, ax = plt.subplots()\n",
    "fig.subplots_adjust(left=.15, bottom=.16, right=.99, top=.97)\n",
    "\n",
    "ax.semilogy(xx,ene_ndpm[ttt], color='b',lw=1.0,\n",
    "             linestyle='-',\n",
    "             label='Sim. no DPM',\n",
    "           )\n",
    "\n",
    "# ax.semilogy(xx[start_point:end_point], y_ndpm/ene_ndpm[ttt].max(), \n",
    "#             '-.m', linewidth=2.0, markersize=6, \n",
    "#             mfc='none',mew=1, \n",
    "#             label='{:.1f} MeV'.format(kT_ndpm))\n",
    "\n",
    "ax.semilogy(xx,ene_wdpm[ttt], color='r',lw=1.0,\n",
    "             linestyle='--',\n",
    "             label='Sim. w/ DPM',\n",
    "           )\n",
    "\n",
    "# ax.semilogy(xx[start_point:end_point], y_wdpm/ene_wdpm[ttt].max(), \n",
    "#             ':k', linewidth=2.0, markersize=6, \n",
    "#             mfc='none',mew=1, \n",
    "#             label='{:.1f} MeV'.format(kT_wdpm))\n",
    "\n",
    "\n",
    "ax.set_xlim([0,20])\n",
    "ax.set_ylim([1e-6,1e-1])\n",
    "# ax.set_yticks([1, 1e-2, 1e-4])\n",
    "# plt.title('time = '+str(tt[ts])+' fs')\n",
    "# ax.grid(which='both',linestyle='--',alpha=0.5)\n",
    "ax.set_xlabel('Energy (MeV)')\n",
    "ax.set_ylabel('Normalized dN/dE')\n",
    "\n",
    "ax.legend(fancybox=False, frameon=False)\n",
    "fig.set_size_inches(width, height)\n",
    "fig.tight_layout()"
   ]
  },
  {
   "cell_type": "code",
   "execution_count": 73,
   "id": "db9a5406-1a13-40f4-a691-cb1b3e82b810",
   "metadata": {},
   "outputs": [],
   "source": [
    "ne0 = np.array(S0.ParticleBinning(5, units=['um','fs','MeV','cm^-3'],).getData())\n",
    "xx0 = np.array(S0.ParticleBinning(5, units=['um','fs','MeV']).getAxis('x'))\n",
    "yy0 = np.array(S0.ParticleBinning(5, units=['um','fs','MeV']).getAxis('y'))\n",
    "tt0 = np.array(S0.ParticleBinning(5, units=['um','fs','MeV']).getTimes())\n",
    "ts0 = np.array(S0.ParticleBinning(5, units=['um','fs','MeV']).getTimesteps())"
   ]
  },
  {
   "cell_type": "code",
   "execution_count": null,
   "id": "9f70e8c4-f333-41ec-b415-fd1b3cf1990f",
   "metadata": {},
   "outputs": [],
   "source": [
    "ne = np.array(S0.ParticleBinning(5, units=['um','fs','MeV','cm^-3'],).getData())\n",
    "xx = np.array(S0.ParticleBinning(5, units=['um','fs','MeV']).getAxis('x'))\n",
    "yy = np.array(S0.ParticleBinning(5, units=['um','fs','MeV']).getAxis('y'))\n",
    "tt = np.array(S0.ParticleBinning(5, units=['um','fs','MeV']).getTimes())\n",
    "ts = np.array(S0.ParticleBinning(5, units=['um','fs','MeV']).getTimesteps())"
   ]
  },
  {
   "cell_type": "code",
   "execution_count": 109,
   "id": "f5e16d71-8e4c-4622-911b-8652d6764c25",
   "metadata": {},
   "outputs": [
    {
     "name": "stderr",
     "output_type": "stream",
     "text": [
      "/var/folders/2t/97rc3fl92tg15k2l_4sk5hsh0000gn/T/ipykernel_61275/417780329.py:24: RuntimeWarning: divide by zero encountered in log10\n",
      "  im0 = grid[0].imshow(np.log10(ni[25].T),\n",
      "/var/folders/2t/97rc3fl92tg15k2l_4sk5hsh0000gn/T/ipykernel_61275/417780329.py:33: RuntimeWarning: divide by zero encountered in log10\n",
      "  im1 = grid[1].imshow(np.log10(ni[35].T),\n",
      "/var/folders/2t/97rc3fl92tg15k2l_4sk5hsh0000gn/T/ipykernel_61275/417780329.py:66: UserWarning: This figure includes Axes that are not compatible with tight_layout, so results might be incorrect.\n",
      "  fig.tight_layout()\n"
     ]
    }
   ],
   "source": [
    "from mpl_toolkits.axes_grid1 import make_axes_locatable\n",
    "from mpl_toolkits.axes_grid1 import ImageGrid\n",
    "\n",
    "\n",
    "width  = 3.487 * 1.5\n",
    "height = width / 1.618 * 1.0\n",
    "\n",
    "fig = plt.figure(figsize=(width, height))\n",
    "# fig = plt.figure()\n",
    "\n",
    "# fig, ax = plt.subplots()\n",
    "# fig.subplots_adjust(left=.15, bottom=.16, right=.99, top=.97)\n",
    "\n",
    "grid = ImageGrid(fig, 111,          # as in plt.subplot(111)\n",
    "                 nrows_ncols=(1,2),\n",
    "                 axes_pad=0.25,\n",
    "                 share_all=True,\n",
    "                 cbar_location=\"right\",\n",
    "                 cbar_mode=\"single\",\n",
    "                 cbar_size=\"5%\",\n",
    "                 cbar_pad=0.1,\n",
    "                 )\n",
    "\n",
    "im0 = grid[0].imshow(np.log10(ni[25].T),\n",
    "           cmap=newcmap,\n",
    "           origin='lower',\n",
    "           extent=[xx[0],xx[-1],yy[0],yy[-1]],\n",
    "           vmin=19,\n",
    "           vmax=22,\n",
    "           aspect=0.25,\n",
    "          )\n",
    "\n",
    "im1 = grid[1].imshow(np.log10(ni[35].T),\n",
    "           cmap=newcmap,\n",
    "           origin='lower',\n",
    "           extent=[xx[0],xx[-1],yy[0],yy[-1]],\n",
    "           vmin=19,\n",
    "           vmax=22,\n",
    "           aspect=0.25,\n",
    "          )\n",
    "\n",
    "grid[0].set_xlim(11,21)\n",
    "grid[1].set_xlim(11,21)\n",
    "grid[1].set_ylim(0, 42)\n",
    "grid[0].set_xlabel(r'x ($\\mu$m)')\n",
    "grid[1].set_xlabel(r'x ($\\mu$m)')\n",
    "grid[0].set_ylabel(r'y ($\\mu$m)')\n",
    "grid[0].set_xticks([11, 16, 21])\n",
    "grid[1].set_xticks([11, 16, 21])\n",
    "grid[0].set_yticks([0, 21, 42])\n",
    "grid[0].set_title('time = {:.1f} fs'.format(tt[25]))\n",
    "grid[1].set_title('time = {:.1f} fs'.format(tt[35]))\n",
    "grid[0].grid(linestyle='--',color='grey',alpha=0.5)\n",
    "grid[1].grid(linestyle='--',color='grey',alpha=0.5)\n",
    "\n",
    "# Colorbar\n",
    "grid[1].cax.colorbar(im1)\n",
    "grid[1].cax.cla()\n",
    "mpl.colorbar.Colorbar(grid[1].cax,im1)\n",
    "cax = grid.cbar_axes[0]\n",
    "axis = cax.axis[cax.orientation]\n",
    "axis.label.set_text(r'$n_p (cm^{-3})$')\n",
    "# grid[1].cax.toggle_label(r'$n_p (cm^{-3})$')\n",
    "# grid[1].cax.tick_params(size=0)\n",
    "# grid[1].cax.toggle_label(True)\n",
    "fig.tight_layout()\n",
    "fig.set_size_inches(width, height)\n",
    "plt.show()"
   ]
  },
  {
   "cell_type": "code",
   "execution_count": 110,
   "id": "5592d596-b548-4ac7-8f08-1579950ac33c",
   "metadata": {},
   "outputs": [],
   "source": [
    "fig.savefig('/Users/yao/Desktop/density.pdf',dpi=600)"
   ]
  },
  {
   "cell_type": "code",
   "execution_count": 99,
   "id": "1c100c8e-3b45-47f7-9ec2-1d3c2ee3faca",
   "metadata": {},
   "outputs": [],
   "source": [
    "ne2 = np.array(S2.ParticleBinning(5, units=['um','fs','MeV', 'cm^-3',\n",
    "                                            # 'cm^-3'\n",
    "                                           ],\n",
    "                                 # data_log=True,\n",
    "                                 ).getData())\n",
    "xx2 = np.array(S2.ParticleBinning(5, units=['um','fs','MeV']).getAxis('x'))\n",
    "yy2 = np.array(S2.ParticleBinning(5, units=['um','fs','MeV']).getAxis('y'))\n",
    "tt2 = np.array(S2.ParticleBinning(5, units=['um','fs','MeV']).getTimes())\n",
    "ts2 = np.array(S2.ParticleBinning(5, units=['um','fs','MeV']).getTimesteps())"
   ]
  },
  {
   "cell_type": "code",
   "execution_count": 100,
   "id": "bf354926-1edf-45c9-a099-637f74bb921a",
   "metadata": {},
   "outputs": [],
   "source": [
    "# 15 : time refined\n",
    "#  5 : time roughly\n",
    "\n",
    "ne0 = np.array(S0.ParticleBinning(5, units=['um','fs','MeV', 'cm^-3',\n",
    "                                             # 'cm^-3'\n",
    "                                            ],\n",
    "                                 # data_log=True,\n",
    "                                 ).getData())\n",
    "xx0 = np.array(S0.ParticleBinning(5, units=['um','fs','MeV']).getAxis('x'))\n",
    "yy0 = np.array(S0.ParticleBinning(5, units=['um','fs','MeV']).getAxis('y'))\n",
    "tt0 = np.array(S0.ParticleBinning(5, units=['um','fs','MeV']).getTimes())\n",
    "ts0 = np.array(S0.ParticleBinning(5, units=['um','fs','MeV']).getTimesteps())"
   ]
  },
  {
   "cell_type": "code",
   "execution_count": 92,
   "id": "483289f1-4a88-49ca-8820-12d7b320020c",
   "metadata": {},
   "outputs": [
    {
     "name": "stderr",
     "output_type": "stream",
     "text": [
      "/var/folders/2t/97rc3fl92tg15k2l_4sk5hsh0000gn/T/ipykernel_10102/1403363033.py:68: UserWarning: This figure includes Axes that are not compatible with tight_layout, so results might be incorrect.\n",
      "  fig.tight_layout()\n"
     ]
    }
   ],
   "source": [
    "from mpl_toolkits.axes_grid1 import make_axes_locatable\n",
    "from mpl_toolkits.axes_grid1 import ImageGrid\n",
    "\n",
    "\n",
    "width  = 3.487 * 2.0\n",
    "height = width / 1.618 * 1.0\n",
    "\n",
    "fig = plt.figure(figsize=(width, height))\n",
    "# fig = plt.figure()\n",
    "\n",
    "# fig, ax = plt.subplots()\n",
    "# fig.subplots_adjust(left=.15, bottom=.16, right=.99, top=.97)\n",
    "\n",
    "grid = ImageGrid(fig, 111,          # as in plt.subplot(111)\n",
    "                 nrows_ncols=(1,2),\n",
    "                 axes_pad=0.35,\n",
    "                 share_all=True,\n",
    "                 cbar_location=\"right\",\n",
    "                 cbar_mode=\"single\",\n",
    "                 cbar_size=\"5%\",\n",
    "                 cbar_pad=0.1,\n",
    "                 )\n",
    "\n",
    "im0 = grid[0].imshow((ne2[28].T),\n",
    "           cmap='inferno_r',\n",
    "           origin='lower',\n",
    "           extent=[xx2[0],xx2[-1],yy2[0],yy2[-1]],\n",
    "           vmin=19,\n",
    "           vmax=24,\n",
    "           aspect=1.,\n",
    "          )\n",
    "\n",
    "im1 = grid[1].imshow((ne0[30].T),\n",
    "           cmap='inferno_r',\n",
    "           origin='lower',\n",
    "           extent=[xx0[0],xx0[-1],yy0[0],yy0[-1]],\n",
    "           vmin=19,\n",
    "           vmax=24,\n",
    "           aspect=1.,\n",
    "          )\n",
    "\n",
    "grid[0].set_xlim(1,21)\n",
    "grid[1].set_xlim(1,21)\n",
    "grid[1].set_ylim(7,35)\n",
    "grid[0].set_ylim(7,35)\n",
    "grid[0].set_xlabel(r'x ($\\mu$m)')\n",
    "grid[1].set_xlabel(r'x ($\\mu$m)')\n",
    "grid[0].set_ylabel(r'y ($\\mu$m)')\n",
    "# grid[0].set_xticks([0, 7, 14,  21])\n",
    "grid[1].set_xticks([1, 6, 11, 16, 21])\n",
    "# grid[0].set_yticks([0, 7, 14, 21, 28, 35, 42])\n",
    "grid[0].set_yticks([7, 14, 21, 28, 35])\n",
    "grid[0].set_title('time = {:.1f} fs'.format(tt2[28]))\n",
    "grid[1].set_title('time = {:.1f} fs'.format(tt0[30]))\n",
    "grid[0].grid(linestyle='--',color='grey',alpha=0.5)\n",
    "grid[1].grid(linestyle='--',color='grey',alpha=0.5)\n",
    "\n",
    "# Colorbar\n",
    "grid[1].cax.colorbar(im1)\n",
    "grid[1].cax.cla()\n",
    "mpl.colorbar.Colorbar(grid[1].cax,im1)\n",
    "cax = grid.cbar_axes[0]\n",
    "axis = cax.axis[cax.orientation]\n",
    "axis.label.set_text(r'$n_e$ (cm$^{-3}$)')\n",
    "# grid[1].cax.toggle_label(r'$n_p (cm^{-3})$')\n",
    "# grid[1].cax.tick_params(size=0)\n",
    "# grid[1].cax.toggle_label(True)\n",
    "fig.tight_layout()\n",
    "fig.set_size_inches(width, height)\n",
    "plt.show()"
   ]
  },
  {
   "cell_type": "code",
   "execution_count": 93,
   "id": "c9959ae2-d16f-4a5d-b56c-be64518c8646",
   "metadata": {},
   "outputs": [],
   "source": [
    "fig.savefig('/Users/yao/Desktop/ne_log.pdf',dpi=600)\n",
    "fig.savefig('/Users/yao/Desktop/ne_log.png',dpi=600)"
   ]
  },
  {
   "cell_type": "code",
   "execution_count": 107,
   "id": "dcf2ea8d-731c-4310-b4a0-fa50d0029f72",
   "metadata": {},
   "outputs": [
    {
     "name": "stderr",
     "output_type": "stream",
     "text": [
      "/var/folders/2t/97rc3fl92tg15k2l_4sk5hsh0000gn/T/ipykernel_10102/3696663643.py:24: RuntimeWarning: divide by zero encountered in divide\n",
      "  im0 = grid[0].imshow((np.log10(ed2[28]/ne2[28,::2,::2]).T),\n",
      "/var/folders/2t/97rc3fl92tg15k2l_4sk5hsh0000gn/T/ipykernel_10102/3696663643.py:24: RuntimeWarning: invalid value encountered in divide\n",
      "  im0 = grid[0].imshow((np.log10(ed2[28]/ne2[28,::2,::2]).T),\n",
      "/var/folders/2t/97rc3fl92tg15k2l_4sk5hsh0000gn/T/ipykernel_10102/3696663643.py:24: RuntimeWarning: divide by zero encountered in log10\n",
      "  im0 = grid[0].imshow((np.log10(ed2[28]/ne2[28,::2,::2]).T),\n",
      "/var/folders/2t/97rc3fl92tg15k2l_4sk5hsh0000gn/T/ipykernel_10102/3696663643.py:35: RuntimeWarning: divide by zero encountered in divide\n",
      "  im1 = grid[1].imshow((np.log10(ed0[30]/ne0[30,::2,::2]).T),\n",
      "/var/folders/2t/97rc3fl92tg15k2l_4sk5hsh0000gn/T/ipykernel_10102/3696663643.py:35: RuntimeWarning: invalid value encountered in divide\n",
      "  im1 = grid[1].imshow((np.log10(ed0[30]/ne0[30,::2,::2]).T),\n",
      "/var/folders/2t/97rc3fl92tg15k2l_4sk5hsh0000gn/T/ipykernel_10102/3696663643.py:35: RuntimeWarning: divide by zero encountered in log10\n",
      "  im1 = grid[1].imshow((np.log10(ed0[30]/ne0[30,::2,::2]).T),\n",
      "/var/folders/2t/97rc3fl92tg15k2l_4sk5hsh0000gn/T/ipykernel_10102/3696663643.py:71: UserWarning: This figure includes Axes that are not compatible with tight_layout, so results might be incorrect.\n",
      "  fig.tight_layout()\n"
     ]
    }
   ],
   "source": [
    "from mpl_toolkits.axes_grid1 import make_axes_locatable\n",
    "from mpl_toolkits.axes_grid1 import ImageGrid\n",
    "\n",
    "\n",
    "width  = 3.487 * 2.0\n",
    "height = width / 1.618 * 1.0\n",
    "\n",
    "fig = plt.figure(figsize=(width, height))\n",
    "# fig = plt.figure()\n",
    "\n",
    "# fig, ax = plt.subplots()\n",
    "# fig.subplots_adjust(left=.15, bottom=.16, right=.99, top=.97)\n",
    "\n",
    "grid = ImageGrid(fig, 111,          # as in plt.subplot(111)\n",
    "                 nrows_ncols=(1,2),\n",
    "                 axes_pad=0.35,\n",
    "                 share_all=True,\n",
    "                 cbar_location=\"right\",\n",
    "                 cbar_mode=\"single\",\n",
    "                 cbar_size=\"5%\",\n",
    "                 cbar_pad=0.1,\n",
    "                 )\n",
    "\n",
    "im0 = grid[0].imshow((np.log10(ed2[28]/ne2[28,::2,::2]).T),\n",
    "           # cmap='inferno_r',\n",
    "                                          cmap=newcmap,\n",
    "\n",
    "           origin='lower',\n",
    "           extent=[xx2[0],xx2[-1],yy2[0],yy2[-1]],\n",
    "           vmin=0,\n",
    "           vmax=5,\n",
    "           aspect=1.,\n",
    "          )\n",
    "\n",
    "im1 = grid[1].imshow((np.log10(ed0[30]/ne0[30,::2,::2]).T),\n",
    "           # cmap='inferno_r',\n",
    "                     cmap=newcmap,\n",
    "           origin='lower',\n",
    "           extent=[xx0[0],xx0[-1],yy0[0],yy0[-1]],\n",
    "           vmin=0,\n",
    "           vmax=5,\n",
    "           aspect=1.,\n",
    "          )\n",
    "\n",
    "grid[0].set_xlim(1,21)\n",
    "grid[1].set_xlim(1,21)\n",
    "grid[1].set_ylim(7,35)\n",
    "grid[0].set_ylim(7,35)\n",
    "grid[0].set_xlabel(r'x ($\\mu$m)')\n",
    "grid[1].set_xlabel(r'x ($\\mu$m)')\n",
    "grid[0].set_ylabel(r'y ($\\mu$m)')\n",
    "# grid[0].set_xticks([0, 7, 14,  21])\n",
    "grid[1].set_xticks([1, 6, 11, 16, 21])\n",
    "# grid[0].set_yticks([0, 7, 14, 21, 28, 35, 42])\n",
    "grid[0].set_yticks([7, 14, 21, 28, 35])\n",
    "grid[0].set_title('time = {:.1f} fs'.format(tt2[28]))\n",
    "grid[1].set_title('time = {:.1f} fs'.format(tt0[30]))\n",
    "grid[0].grid(linestyle='--',color='grey',alpha=0.5)\n",
    "grid[1].grid(linestyle='--',color='grey',alpha=0.5)\n",
    "\n",
    "# Colorbar\n",
    "grid[1].cax.colorbar(im1)\n",
    "grid[1].cax.cla()\n",
    "mpl.colorbar.Colorbar(grid[1].cax,im1)\n",
    "cax = grid.cbar_axes[0]\n",
    "axis = cax.axis[cax.orientation]\n",
    "axis.label.set_text(r'$\\log_{10} \\varepsilon_{kin}$ (keV)')\n",
    "# grid[1].cax.toggle_label(r'$n_p (cm^{-3})$')\n",
    "# grid[1].cax.tick_params(size=0)\n",
    "# grid[1].cax.toggle_label(True)\n",
    "fig.tight_layout()\n",
    "fig.set_size_inches(width, height)\n",
    "plt.show()"
   ]
  },
  {
   "cell_type": "code",
   "execution_count": 108,
   "id": "e9306fcb-e043-464a-8e75-48df1f7e0ae5",
   "metadata": {},
   "outputs": [],
   "source": [
    "fig.savefig('/Users/yao/Desktop/ekin_log.pdf',dpi=600)\n",
    "fig.savefig('/Users/yao/Desktop/ekin_log.png',dpi=600)"
   ]
  },
  {
   "cell_type": "code",
   "execution_count": 126,
   "id": "9780d50c-5521-4b15-80c8-96952d674cbe",
   "metadata": {},
   "outputs": [
    {
     "name": "stderr",
     "output_type": "stream",
     "text": [
      "/var/folders/2t/97rc3fl92tg15k2l_4sk5hsh0000gn/T/ipykernel_44437/2965478268.py:7: RuntimeWarning: divide by zero encountered in log10\n",
      "  ax.plot(xx2,np.log10(np.mean(ne2[28][:,100:120], axis=1)), color='r',lw=1.0,\n",
      "/var/folders/2t/97rc3fl92tg15k2l_4sk5hsh0000gn/T/ipykernel_44437/2965478268.py:12: RuntimeWarning: divide by zero encountered in log10\n",
      "  ax.plot(xx0,np.log10(np.mean(ne0[8][:,100:120], axis=1)), color='b',lw=1.0,\n"
     ]
    }
   ],
   "source": [
    "width  = 3.487 * 1.2\n",
    "height = width / 1.618 * 1.5\n",
    "\n",
    "fig, ax = plt.subplots()\n",
    "fig.subplots_adjust(left=.15, bottom=.16, right=.99, top=.97)\n",
    "\n",
    "ax.plot(xx2,np.log10(np.mean(ne2[28][:,100:120], axis=1)), color='r',lw=1.0,\n",
    "             linestyle='-',\n",
    "             label=r'w/.  DPM $n_e$ ($n_c$)',\n",
    "           )\n",
    "\n",
    "ax.plot(xx0,np.log10(np.mean(ne0[8][:,100:120], axis=1)), color='b',lw=1.0,\n",
    "             linestyle='-',\n",
    "             label=r'w/o DPM $n_e$ ($n_c$)',\n",
    "           )\n",
    "\n",
    "ax.axhline(y=np.log10(S2.namelist.a_0), color='r', linestyle='--', \n",
    "           label=r'w/.  DPM $a_0n_c$')\n",
    "\n",
    "ax.axhline(y=np.log10(S0.namelist.a_0), color='b', linestyle='--', \n",
    "           label=r'w/o DPM $a_0n_c$')\n",
    "\n",
    "\n",
    "ax.set_xlim([1,21])\n",
    "ax.set_ylim([-2,3])\n",
    "ax.set_xticks([1,6,11,16,21])\n",
    "# plt.title('time = '+str(tt[ts])+' fs')\n",
    "# ax.grid(which='both',linestyle='--',alpha=0.5)\n",
    "ax.set_xlabel(r'x ($\\mu$m)')\n",
    "ax.set_ylabel(r'$\\log_{10} n_e$ ($n_c$)')\n",
    "\n",
    "ax.legend(fancybox=False, frameon=False, loc='best',fontsize=8)\n",
    "fig.set_size_inches(width, height)\n",
    "fig.tight_layout()"
   ]
  },
  {
   "cell_type": "code",
   "execution_count": 127,
   "id": "19ff6370-4e6b-4235-bda4-4a1b8b97653e",
   "metadata": {},
   "outputs": [],
   "source": [
    "fig.savefig('/Users/yao/Desktop/ne_a0.png',dpi=600)\n",
    "fig.savefig('/Users/yao/Desktop/ne_a0.pdf',dpi=600)"
   ]
  },
  {
   "cell_type": "code",
   "execution_count": 8,
   "id": "886210b8-8844-4951-8ec9-8805568e16b9",
   "metadata": {},
   "outputs": [],
   "source": [
    "ne2 = np.array(S2.ParticleBinning(5, units=['um','fs','MeV'],).getData())\n",
    "ni2 = np.array(S2.ParticleBinning(1, units=['um','fs','MeV'],).getData())\n",
    "xxe = np.array(S2.ParticleBinning(5, units=['um','fs','MeV']).getAxis('x'))\n",
    "xxi = np.array(S2.ParticleBinning(1, units=['um','fs','MeV']).getAxis('x'))\n",
    "\n",
    "Ey2 = np.array(S2.Field(0,'Ey', units=['um','fs','MeV'],).getData())\n",
    "Ex2 = np.array(S2.Field(1,'Ex', units=['um','fs','MeV'],).getData())\n",
    "xxf = np.array(S2.Field(0,'Ey', units=['um','fs','MeV']).getAxis('x'))\n",
    "ttf = np.array(S2.Field(1,'Ex', units=['um','fs','MeV'],).getTimes())\n"
   ]
  },
  {
   "cell_type": "code",
   "execution_count": 9,
   "id": "f82bac35-6e9b-49b7-b0a9-2bc0468c23d1",
   "metadata": {},
   "outputs": [],
   "source": [
    "width  = 3.487 * 1.2\n",
    "height = width / 1.618 * 1.5\n",
    "\n",
    "fig, ax = plt.subplots()\n",
    "fig.subplots_adjust(left=.15, bottom=.16, right=.99, top=.97)\n",
    "\n",
    "ax.plot(xxe,(np.mean(ne2[28][:,100:120], axis=1)/1e2), color='r',lw=1.5,\n",
    "             linestyle='-',\n",
    "             label=r'$n_e$ (100$n_c$)',\n",
    "           )\n",
    "\n",
    "ax.plot(xxi,(np.mean(ni2[28][:,200:240], axis=1)/1), color='b',lw=1.5,\n",
    "             linestyle=':',\n",
    "             label=r'$n_p$ ($n_c$)',\n",
    "           )\n",
    "\n",
    "# ax.plot(xx0,np.log10(np.mean(ne0[8][:,100:120], axis=1)), color='b',lw=1.0,\n",
    "#              linestyle='-',\n",
    "#              label=r'w/o DPM $n_e$ ($n_c$)',\n",
    "#            )\n",
    "\n",
    "ax.plot(xxf,(np.mean(Ey2[7][:,1280:1520], axis=1)), color='c',lw=1.0, \n",
    "             linestyle='--',\n",
    "             label=r'$E_y$ ($E_0$)',\n",
    "           )\n",
    "\n",
    "ax.plot(xxf,(np.mean(Ex2[3][:,1280:1520], axis=1)), color='m',lw=1.0, \n",
    "             linestyle='-.',\n",
    "             label=r'$E_x$ ($E_0$)',\n",
    "           )\n",
    "\n",
    "# ax.axhline(y=np.log10(S2.namelist.a_0), color='r', linestyle='--', \n",
    "#            label=r'w/.  DPM $a_0n_c$')\n",
    "\n",
    "# ax.axhline(y=np.log10(S0.namelist.a_0), color='b', linestyle='--', \n",
    "#            label=r'w/o DPM $a_0n_c$')\n",
    "\n",
    "\n",
    "ax.set_xlim([6,16])\n",
    "ax.set_ylim([-10,10])\n",
    "ax.set_xticks([6,11,16])\n",
    "plt.title('time = '+str(ttf[3])+' fs')\n",
    "# ax.grid(which='both',linestyle='--',alpha=0.5)\n",
    "ax.set_xlabel(r'x ($\\mu$m)')\n",
    "# ax.set_ylabel(r'$n_e$ ($n_c$)')\n",
    "\n",
    "ax.legend(fancybox=False, frameon=False, loc='best',fontsize=8)\n",
    "fig.set_size_inches(width, height)\n",
    "fig.tight_layout()"
   ]
  },
  {
   "cell_type": "code",
   "execution_count": 185,
   "id": "7b9f11cd-6421-4a0a-82c8-d98c1daec071",
   "metadata": {},
   "outputs": [],
   "source": [
    "fig.savefig('/Users/yao/Desktop/nf0.png',dpi=600)\n",
    "fig.savefig('/Users/yao/Desktop/nf0.pdf',dpi=600)"
   ]
  },
  {
   "cell_type": "code",
   "execution_count": 21,
   "id": "15326b37-a9bf-46e4-84e3-f1d0f1c9d6e7",
   "metadata": {},
   "outputs": [],
   "source": [
    "idt = 3 # 3.5 fs, fig.11a\n",
    "\n",
    "width  = 3.487 * 1.2\n",
    "height = width / 1.618 * 1.5\n",
    "\n",
    "fig, ax = plt.subplots()\n",
    "fig.subplots_adjust(left=.15, bottom=.16, right=.99, top=.97)\n",
    "\n",
    "ax.plot(xxe,(np.mean(ne2[idt*8][:,100:120], axis=1)/1e2), color='r',lw=1.5,\n",
    "             linestyle='-',\n",
    "             label=r'$n_e$ (100$n_c$)',\n",
    "           )\n",
    "\n",
    "ax.plot(xxi,(np.mean(ni2[idt*8][:,200:240], axis=1)*1), color='b',lw=1.5,\n",
    "             linestyle=':',\n",
    "             label=r'$n_p$ ($n_c$)',\n",
    "           )\n",
    "\n",
    "# ax.plot(xx0,np.log10(np.mean(ne0[8][:,100:120], axis=1)), color='b',lw=1.0,\n",
    "#              linestyle='-',\n",
    "#              label=r'w/o DPM $n_e$ ($n_c$)',\n",
    "#            )\n",
    "\n",
    "ax.plot(xxf,(np.mean(Ey2[idt*2][:,1280:1520], axis=1)), color='c',lw=1.0, \n",
    "             linestyle='--',\n",
    "             label=r'$E_y$ ($E_0$)',\n",
    "           )\n",
    "\n",
    "ax.plot(xxf,(np.mean(Ex2[idt][:,1280:1520], axis=1)*1), color='m',lw=1.0, \n",
    "             linestyle='-.',\n",
    "             label=r'$E_x$ ($E_0$)',\n",
    "           )\n",
    "\n",
    "# ax.axhline(y=np.log10(S2.namelist.a_0), color='r', linestyle='--', \n",
    "#            label=r'w/.  DPM $a_0n_c$')\n",
    "\n",
    "# ax.axhline(y=np.log10(S0.namelist.a_0), color='b', linestyle='--', \n",
    "#            label=r'w/o DPM $a_0n_c$')\n",
    "\n",
    "\n",
    "ax.set_xlim([10.0,12.0])\n",
    "ax.set_ylim([-2,10])\n",
    "# ax.set_xticks([6,11,16])\n",
    "plt.title('time = {:.1f} fs'.format(ttf[idt]))\n",
    "ax.grid(which='both',linestyle='--',alpha=0.5)\n",
    "ax.set_xlabel(r'x ($\\mu$m)')\n",
    "ax.set_ylabel('Densities and fields')\n",
    "\n",
    "ax.legend(fancybox=False, frameon=False, loc='best',fontsize=10)\n",
    "fig.set_size_inches(width, height)\n",
    "fig.tight_layout()"
   ]
  },
  {
   "cell_type": "code",
   "execution_count": 101,
   "id": "abd11f10-868c-45c1-adf4-b77d84598723",
   "metadata": {},
   "outputs": [],
   "source": [
    "idt = 3 # 3.5 fs, fig.11a\n",
    "\n",
    "width  = 3.487 * 1.2\n",
    "height = width / 1.618 * 1.5\n",
    "\n",
    "fig, ax = plt.subplots()\n",
    "fig.subplots_adjust(left=.15, bottom=.16, right=.99, top=.97)\n",
    "\n",
    "ax.semilogy(xxe,(np.mean(ne2[idt*8][:,100:120], axis=1)), color='r',lw=1.5,\n",
    "             linestyle='-',\n",
    "             label=r'$n_e$',\n",
    "           )\n",
    "\n",
    "ax.semilogy(xxi,(np.mean(ni2[idt*8][:,200:240], axis=1)*1), color='b',lw=1.5,\n",
    "             linestyle=':',\n",
    "             label=r'$n_p$',\n",
    "           )\n",
    "ax.set_xlabel(r'x ($\\mu$m)')\n",
    "ax.set_ylabel(r'Densities ($n_c$)', color='r', fontsize=12)\n",
    "\n",
    "ax.tick_params(axis='y',which='both', color='r', labelcolor='r')\n",
    "ax.spines['right'].set_color('purple')\n",
    "ax.spines['left'].set_color('r')\n",
    "\n",
    "ax.set_xlim([10.0,12.0])\n",
    "ax.set_ylim([1e-5,1e3])\n",
    "\n",
    "\n",
    "ax2 = ax.twinx()\n",
    "\n",
    "ax2.plot(xxf,(np.mean(Ey2[idt*2][:,1280:1520], axis=1)), color='c',lw=1.0, \n",
    "             linestyle='--',\n",
    "             label=r'$E_y$',\n",
    "           )\n",
    "\n",
    "ax2.plot(xxf,(np.mean(Ex2[idt][:,1280:1520], axis=1)*1), color='m',lw=1.0, \n",
    "             linestyle='-.',\n",
    "             label=r'$E_x$',\n",
    "           )\n",
    "ax2.set_xlim([10.0,12.0])\n",
    "ax2.set_ylim([-3,5])\n",
    "ax2.set_xlabel(r'x ($\\mu$m)')\n",
    "ax2.set_ylabel(r'Electric Fields ($E_0$)', color='purple', fontsize=12)\n",
    "ax2.tick_params(axis='y',which='both', color='purple', labelcolor='purple')\n",
    "ax2.spines['right'].set_color('purple')\n",
    "ax2.spines['left'].set_color('r')\n",
    "\n",
    "\n",
    "# ax.set_ylim([-2,10])\n",
    "# ax.set_xticks([6,11,16])\n",
    "plt.title('time = {:.1f} fs'.format(ttf[idt]))\n",
    "ax.grid(which='major',linestyle='--',alpha=0.5)\n",
    "\n",
    "# ax.set_ylabel('Densities and fields')\n",
    "\n",
    "ax.legend(fancybox=False, frameon=False, loc='best',fontsize=10)\n",
    "ax2.legend(fancybox=False, frameon=False, loc='lower right',fontsize=10)\n",
    "fig.set_size_inches(width, height)\n",
    "fig.tight_layout()"
   ]
  },
  {
   "cell_type": "code",
   "execution_count": 43,
   "id": "0d8203f5-7ca7-45f0-a418-9ef2622ca571",
   "metadata": {},
   "outputs": [],
   "source": [
    "fig.savefig('/Users/yao/Desktop/fig11a.pdf',dpi=600)"
   ]
  },
  {
   "cell_type": "code",
   "execution_count": 76,
   "id": "77ddff6d-968f-416e-9b99-98f19631faaf",
   "metadata": {},
   "outputs": [],
   "source": [
    "idt = 4 # \n",
    "\n",
    "width  = 3.487 * 1.2\n",
    "height = width / 1.618 * 1.5\n",
    "\n",
    "fig, ax = plt.subplots()\n",
    "fig.subplots_adjust(left=.15, bottom=.16, right=.99, top=.97)\n",
    "\n",
    "ax.semilogy(xxe,(np.mean(ne2[idt*8][:,100:120], axis=1)), color='r',lw=1.5,\n",
    "             linestyle='-',\n",
    "             label=r'$n_e$',\n",
    "           )\n",
    "\n",
    "ax.semilogy(xxi,(np.mean(ni2[idt*8][:,200:240], axis=1)*1), color='b',lw=1.5,\n",
    "             linestyle=':',\n",
    "             label=r'$n_p$',\n",
    "           )\n",
    "ax.set_xlabel(r'x ($\\mu$m)')\n",
    "ax.set_ylabel(r'Densities ($n_c$)', color='r', fontsize=12)\n",
    "\n",
    "ax.tick_params(axis='y',which='both', color='r', labelcolor='r')\n",
    "ax.spines['right'].set_color('purple')\n",
    "ax.spines['left'].set_color('r')\n",
    "\n",
    "# ax.set_xlim([10.5,12.5])\n",
    "ax.set_xlim([11,16])\n",
    "ax.set_ylim([1e-2,1e3])\n",
    "\n",
    "\n",
    "ax2 = ax.twinx()\n",
    "\n",
    "ax2.plot(xxf,(np.mean(Ey2[idt*2][:,1280:1520], axis=1)), color='c',lw=1.0, \n",
    "             linestyle='--',\n",
    "             label=r'$E_y$',\n",
    "           )\n",
    "\n",
    "ax2.plot(xxf,(np.mean(Ex2[idt][:,1280:1520], axis=1)*1), color='m',lw=1.0, \n",
    "             linestyle='-.',\n",
    "             label=r'$E_x$',\n",
    "           )\n",
    "# ax2.set_xlim([10.5,12.5])\n",
    "ax2.set_xlim([11,16])\n",
    "ax2.set_ylim([-2,3])\n",
    "ax2.set_xlabel(r'x ($\\mu$m)')\n",
    "ax2.set_ylabel(r'Electric Fields ($E_0$)', color='purple', fontsize=12)\n",
    "ax2.tick_params(axis='y',which='both', color='purple', labelcolor='purple')\n",
    "ax2.spines['right'].set_color('purple')\n",
    "ax2.spines['left'].set_color('r')\n",
    "\n",
    "\n",
    "# ax.set_ylim([-2,10])\n",
    "# ax.set_xticks([6,11,16])\n",
    "# plt.title('time = {:.1f} fs'.format(ttf[idt]))\n",
    "ax.grid(which='major',linestyle='--',alpha=0.5)\n",
    "\n",
    "# ax.set_ylabel('Densities and fields')\n",
    "\n",
    "ax.legend(fancybox=False, frameon=False, loc='best',fontsize=10)\n",
    "ax2.legend(fancybox=False, frameon=False, loc='lower right',fontsize=10)\n",
    "fig.set_size_inches(width, height)\n",
    "fig.tight_layout()"
   ]
  },
  {
   "cell_type": "code",
   "execution_count": 52,
   "id": "4f88d8d1-9b49-4b81-aaf2-b957c7b3ac8f",
   "metadata": {},
   "outputs": [],
   "source": [
    "fig.savefig('/Users/yao/Desktop/fig11b.pdf',dpi=600)"
   ]
  },
  {
   "cell_type": "code",
   "execution_count": 63,
   "id": "bf059e24-47b5-4045-80ed-a176dcb25faf",
   "metadata": {},
   "outputs": [],
   "source": [
    "idt = 5 # \n",
    "\n",
    "width  = 3.487 * 1.2\n",
    "height = width / 1.618 * 1.5\n",
    "\n",
    "fig, ax = plt.subplots()\n",
    "fig.subplots_adjust(left=.15, bottom=.16, right=.99, top=.97)\n",
    "\n",
    "ax.semilogy(xxe,(np.mean(ne2[idt*8][:,100:120], axis=1)), color='r',lw=1.5,\n",
    "             linestyle='-',\n",
    "             label=r'$n_e$',\n",
    "           )\n",
    "\n",
    "ax.semilogy(xxi,(np.mean(ni2[idt*8][:,200:240], axis=1)*1), color='b',lw=1.5,\n",
    "             linestyle=':',\n",
    "             label=r'$n_p$',\n",
    "           )\n",
    "ax.set_xlabel(r'x ($\\mu$m)')\n",
    "ax.set_ylabel(r'Densities ($n_c$)', color='r', fontsize=12)\n",
    "\n",
    "ax.tick_params(axis='y',which='both', color='r', labelcolor='r')\n",
    "ax.spines['right'].set_color('purple')\n",
    "ax.spines['left'].set_color('r')\n",
    "\n",
    "# ax.set_xlim([11.5,13.5])\n",
    "ax.set_xlim([11,16])\n",
    "# ax.set_ylim([1e-3,1e1])\n",
    "ax.set_ylim([1e-3,1e3])\n",
    "\n",
    "\n",
    "ax2 = ax.twinx()\n",
    "\n",
    "ax2.plot(xxf,(np.mean(Ey2[idt*2][:,1280:1520], axis=1)), color='c',lw=1.0, \n",
    "             linestyle='--',\n",
    "             label=r'$E_y$',\n",
    "           )\n",
    "\n",
    "ax2.plot(xxf,(np.mean(Ex2[idt][:,1280:1520], axis=1)*1), color='m',lw=1.0, \n",
    "             linestyle='-.',\n",
    "             label=r'$E_x$',\n",
    "           )\n",
    "# ax2.set_xlim([11.5,13.5])\n",
    "# ax2.set_ylim([-1,3])\n",
    "ax2.set_xlim([11,16])\n",
    "ax2.set_ylim([-1,5])\n",
    "ax2.set_xlabel(r'x ($\\mu$m)')\n",
    "ax2.set_ylabel(r'Electric Fields ($E_0$)', color='purple', fontsize=12)\n",
    "ax2.tick_params(axis='y',which='both', color='purple', labelcolor='purple')\n",
    "ax2.spines['right'].set_color('purple')\n",
    "ax2.spines['left'].set_color('r')\n",
    "\n",
    "\n",
    "# ax.set_ylim([-2,10])\n",
    "# ax.set_xticks([6,11,16])\n",
    "# plt.title('time = {:.1f} fs'.format(ttf[idt]))\n",
    "ax.grid(which='major',linestyle='--',alpha=0.5)\n",
    "\n",
    "# ax.set_ylabel('Densities and fields')\n",
    "\n",
    "ax.legend(fancybox=False, frameon=False, loc='best',fontsize=10)\n",
    "ax2.legend(fancybox=False, frameon=False, loc='lower right',fontsize=10)\n",
    "fig.set_size_inches(width, height)\n",
    "fig.tight_layout()"
   ]
  },
  {
   "cell_type": "code",
   "execution_count": 64,
   "id": "9b873d03-220f-4bde-8643-18e95ea930d1",
   "metadata": {},
   "outputs": [],
   "source": [
    "fig.savefig('/Users/yao/Desktop/fig11c_2.pdf',dpi=600)"
   ]
  },
  {
   "cell_type": "code",
   "execution_count": 35,
   "id": "8d5eb55f-22f7-435b-bc44-43e1c90438ca",
   "metadata": {},
   "outputs": [],
   "source": [
    "idt = 4 # 30 fs, fig.11b\n",
    "\n",
    "width  = 3.487 * 1.2\n",
    "height = width / 1.618 * 1.5\n",
    "\n",
    "fig, ax = plt.subplots()\n",
    "fig.subplots_adjust(left=.15, bottom=.16, right=.99, top=.97)\n",
    "\n",
    "ax.plot(xxe,(np.mean(ne2[idt*8][:,100:120], axis=1)/1e2), color='r',lw=1.5,\n",
    "             linestyle='-',\n",
    "             label=r'$n_e$ (100$n_c$)',\n",
    "           )\n",
    "\n",
    "ax.plot(xxi,(np.mean(ni2[idt*8][:,200:240], axis=1)*2), color='b',lw=1.5,\n",
    "             linestyle=':',\n",
    "             label=r'$n_p$ ($n_c$) $\\times$ 2',\n",
    "           )\n",
    "\n",
    "# ax.plot(xx0,np.log10(np.mean(ne0[8][:,100:120], axis=1)), color='b',lw=1.0,\n",
    "#              linestyle='-',\n",
    "#              label=r'w/o DPM $n_e$ ($n_c$)',\n",
    "#            )\n",
    "\n",
    "ax.plot(xxf,(np.mean(Ey2[idt*2][:,1280:1520], axis=1)), color='c',lw=1.0, \n",
    "             linestyle='--',\n",
    "             label=r'$E_y$ ($E_0$)',\n",
    "           )\n",
    "\n",
    "ax.plot(xxf,(np.mean(Ex2[idt][:,1280:1520], axis=1)*2), color='m',lw=1.0, \n",
    "             linestyle='-.',\n",
    "             label=r'$E_x$ ($E_0$) $\\times$ 2',\n",
    "           )\n",
    "\n",
    "# ax.axhline(y=np.log10(S2.namelist.a_0), color='r', linestyle='--', \n",
    "#            label=r'w/.  DPM $a_0n_c$')\n",
    "\n",
    "# ax.axhline(y=np.log10(S0.namelist.a_0), color='b', linestyle='--', \n",
    "#            label=r'w/o DPM $a_0n_c$')\n",
    "\n",
    "\n",
    "ax.set_xlim([10.5,12.5])\n",
    "ax.set_ylim([-2,10])\n",
    "# ax.set_xticks([6,11,16])\n",
    "plt.title('time = {:.1f} fs'.format(ttf[idt]))\n",
    "ax.grid(which='both',linestyle='--',alpha=0.5)\n",
    "ax.set_xlabel(r'x ($\\mu$m)')\n",
    "ax.set_ylabel('Densities and fields')\n",
    "\n",
    "ax.legend(fancybox=False, frameon=False, loc='best',fontsize=10)\n",
    "fig.set_size_inches(width, height)\n",
    "fig.tight_layout()"
   ]
  },
  {
   "cell_type": "code",
   "execution_count": 15,
   "id": "a8a5f89b-cbf7-45a6-ae6c-5760767f451b",
   "metadata": {},
   "outputs": [],
   "source": [
    "idt = 5 # 55 fs, fig.11c\n",
    "\n",
    "width  = 3.487 * 1.2\n",
    "height = width / 1.618 * 1.5\n",
    "\n",
    "fig, ax = plt.subplots()\n",
    "fig.subplots_adjust(left=.15, bottom=.16, right=.99, top=.97)\n",
    "\n",
    "ax.plot(xxe,(np.mean(ne2[idt*8][:,100:120], axis=1)/1e2), color='r',lw=1.5,\n",
    "             linestyle='-',\n",
    "             label=r'$n_e$ (100$n_c$)',\n",
    "           )\n",
    "\n",
    "ax.plot(xxi,(np.mean(ni2[idt*8][:,200:240], axis=1)*5), color='b',lw=1.5,\n",
    "             linestyle=':',\n",
    "             label=r'$n_p$ ($n_c$) $\\times$ 5',\n",
    "           )\n",
    "\n",
    "# ax.plot(xx0,np.log10(np.mean(ne0[8][:,100:120], axis=1)), color='b',lw=1.0,\n",
    "#              linestyle='-',\n",
    "#              label=r'w/o DPM $n_e$ ($n_c$)',\n",
    "#            )\n",
    "\n",
    "ax.plot(xxf,(np.mean(Ey2[idt*2][:,1280:1520], axis=1)), color='c',lw=1.0, \n",
    "             linestyle='--',\n",
    "             label=r'$E_y$ ($E_0$)',\n",
    "           )\n",
    "\n",
    "ax.plot(xxf,(np.mean(Ex2[idt][:,1280:1520], axis=1)*10), color='m',lw=1.0, \n",
    "             linestyle='-.',\n",
    "             label=r'$E_x$ ($E_0$) $\\times$ 10',\n",
    "           )\n",
    "\n",
    "# ax.axhline(y=np.log10(S2.namelist.a_0), color='r', linestyle='--', \n",
    "#            label=r'w/.  DPM $a_0n_c$')\n",
    "\n",
    "# ax.axhline(y=np.log10(S0.namelist.a_0), color='b', linestyle='--', \n",
    "#            label=r'w/o DPM $a_0n_c$')\n",
    "\n",
    "\n",
    "ax.set_xlim([11.5,13.5])\n",
    "ax.set_ylim([-2,10])\n",
    "# ax.set_xticks([6,11,16])\n",
    "plt.title('time = {:.1f} fs'.format(ttf[idt]))\n",
    "ax.grid(which='both',linestyle='--',alpha=0.5)\n",
    "ax.set_xlabel(r'x ($\\mu$m)')\n",
    "ax.set_ylabel('Densities and fields')\n",
    "\n",
    "ax.legend(fancybox=False, frameon=False, loc='best',fontsize=10)\n",
    "fig.set_size_inches(width, height)\n",
    "fig.tight_layout()"
   ]
  },
  {
   "cell_type": "code",
   "execution_count": 156,
   "id": "279662f6-91a0-4a58-9013-a944b97963fb",
   "metadata": {},
   "outputs": [],
   "source": [
    "fig.savefig('/Users/yao/Desktop/nf2_133fs.png',dpi=600)\n",
    "fig.savefig('/Users/yao/Desktop/nf2_133fs.pdf',dpi=600)"
   ]
  },
  {
   "cell_type": "code",
   "execution_count": 138,
   "id": "4aa2c2e5-404b-40c1-baac-589601b0c48b",
   "metadata": {},
   "outputs": [],
   "source": [
    "ne  = np.array(S0.ParticleBinning(15, units=['um','fs','MeV'],).getData())\n",
    "ni  = np.array(S0.ParticleBinning(12, units=['um','fs','MeV'],).getData())\n",
    "xxe = np.array(S0.ParticleBinning(15, units=['um','fs','MeV']).getAxis('x'))\n",
    "xxi = np.array(S0.ParticleBinning(12, units=['um','fs','MeV']).getAxis('x'))\n",
    "tti = np.array(S0.ParticleBinning(12, units=['um','fs','MeV']).getTimes())\n",
    "tsi = np.array(S0.ParticleBinning(12, units=['um','fs','MeV']).getTimesteps())\n",
    "tte = np.array(S0.ParticleBinning(15, units=['um','fs','MeV']).getTimes())\n",
    "tse = np.array(S0.ParticleBinning(15, units=['um','fs','MeV']).getTimesteps())\n",
    "\n",
    "Ey  = np.array(S0.Field(2,'Ey', units=['um','fs','MeV'],).getData())\n",
    "Ex  = np.array(S0.Field(3,'Ex', units=['um','fs','MeV'],).getData())\n",
    "xxf = np.array(S0.Field(2,'Ey', units=['um','fs','MeV']).getAxis('x'))\n",
    "ttf = np.array(S0.Field(3,'Ex', units=['um','fs','MeV']).getTimes())\n",
    "tsf = np.array(S0.Field(2,'Ey', units=['um','fs','MeV']).getTimesteps())"
   ]
  },
  {
   "cell_type": "code",
   "execution_count": 98,
   "id": "04771a58-b705-46df-8c4b-40c9e31ace94",
   "metadata": {},
   "outputs": [],
   "source": [
    "idt = 7 # \n",
    "\n",
    "width  = 3.487 * 1.2\n",
    "height = width / 1.618 * 1.5\n",
    "\n",
    "fig, ax = plt.subplots()\n",
    "fig.subplots_adjust(left=.15, bottom=.16, right=.99, top=.97)\n",
    "\n",
    "ax.semilogy(xxe,(np.mean(ne[idt][:,100:120], axis=1)), color='r',lw=1.5,\n",
    "             linestyle='-',\n",
    "             label=r'$n_e$',\n",
    "           )\n",
    "\n",
    "ax.semilogy(xxi,(np.mean(ni[idt][:,200:240], axis=1)*1), color='b',lw=1.5,\n",
    "             linestyle=':',\n",
    "             label=r'$n_p$',\n",
    "           )\n",
    "ax.set_xlabel(r'x ($\\mu$m)')\n",
    "ax.set_ylabel(r'Densities ($n_c$)', color='r', fontsize=12)\n",
    "\n",
    "ax.tick_params(axis='y',which='both', color='r', labelcolor='r')\n",
    "ax.spines['right'].set_color('purple')\n",
    "ax.spines['left'].set_color('r')\n",
    "\n",
    "# ax.set_xlim([11,16])\n",
    "ax.set_xlim([12,14])\n",
    "ax.set_ylim([1e-5,1e3])\n",
    "\n",
    "\n",
    "ax2 = ax.twinx()\n",
    "\n",
    "ax2.plot(xxf,(np.mean(Ey[idt][:,1280:1520], axis=1)), color='c',lw=1.0, \n",
    "             linestyle='--',\n",
    "             label=r'$E_y$',\n",
    "           )\n",
    "\n",
    "ax2.plot(xxf,(np.mean(Ex[idt][:,1280:1520], axis=1)*1), color='m',lw=1.0, \n",
    "             linestyle='-.',\n",
    "             label=r'$E_x$',\n",
    "           )\n",
    "# ax2.set_xlim([11,16])\n",
    "ax2.set_xlim([12,14])\n",
    "ax2.set_ylim([-1,3])\n",
    "ax2.set_xlabel(r'x ($\\mu$m)')\n",
    "ax2.set_ylabel(r'Electric Fields ($E_0$)', color='purple', fontsize=12)\n",
    "ax2.tick_params(axis='y',which='both', color='purple', labelcolor='purple')\n",
    "ax2.spines['right'].set_color('purple')\n",
    "ax2.spines['left'].set_color('r')\n",
    "\n",
    "\n",
    "# ax.set_ylim([-2,10])\n",
    "# ax.set_xticks([6,11,16])\n",
    "# plt.title('time = {:.1f} fs'.format(ttf[idt]))\n",
    "ax.grid(which='major',linestyle='--',alpha=0.5)\n",
    "\n",
    "# ax.set_ylabel('Densities and fields')\n",
    "\n",
    "ax.legend(fancybox=False, frameon=False, loc='best',fontsize=10)\n",
    "ax2.legend(fancybox=False, frameon=False, loc='lower right',fontsize=10)\n",
    "fig.set_size_inches(width, height)\n",
    "fig.tight_layout()"
   ]
  },
  {
   "cell_type": "code",
   "execution_count": 99,
   "id": "acce9c63-7624-4888-b1d7-d12981720e88",
   "metadata": {},
   "outputs": [],
   "source": [
    "fig.savefig('/Users/yao/Desktop/fig11d.pdf',dpi=600)"
   ]
  },
  {
   "cell_type": "code",
   "execution_count": 86,
   "id": "8f437b03-1ffc-4256-8619-2370b89b2fb2",
   "metadata": {},
   "outputs": [],
   "source": [
    "idt = 8 # \n",
    "\n",
    "width  = 3.487 * 1.2\n",
    "height = width / 1.618 * 1.5\n",
    "\n",
    "fig, ax = plt.subplots()\n",
    "fig.subplots_adjust(left=.15, bottom=.16, right=.99, top=.97)\n",
    "\n",
    "ax.semilogy(xxe,(np.mean(ne[idt][:,100:120], axis=1)), color='r',lw=1.5,\n",
    "             linestyle='-',\n",
    "             label=r'$n_e$',\n",
    "           )\n",
    "\n",
    "ax.semilogy(xxi,(np.mean(ni[idt][:,200:240], axis=1)*1), color='b',lw=1.5,\n",
    "             linestyle=':',\n",
    "             label=r'$n_p$',\n",
    "           )\n",
    "ax.set_xlabel(r'x ($\\mu$m)')\n",
    "ax.set_ylabel(r'Densities ($n_c$)', color='r', fontsize=12)\n",
    "\n",
    "ax.tick_params(axis='y',which='both', color='r', labelcolor='r')\n",
    "ax.spines['right'].set_color('purple')\n",
    "ax.spines['left'].set_color('r')\n",
    "\n",
    "# ax.set_xlim([11,16])\n",
    "ax.set_xlim([13,15])\n",
    "ax.set_ylim([1e-4,1e1])\n",
    "\n",
    "\n",
    "ax2 = ax.twinx()\n",
    "\n",
    "ax2.plot(xxf,(np.mean(Ey[idt][:,1280:1520], axis=1)), color='c',lw=1.0, \n",
    "             linestyle='--',\n",
    "             label=r'$E_y$',\n",
    "           )\n",
    "\n",
    "ax2.plot(xxf,(np.mean(Ex[idt][:,1280:1520], axis=1)*1), color='m',lw=1.0, \n",
    "             linestyle='-.',\n",
    "             label=r'$E_x$',\n",
    "           )\n",
    "# ax2.set_xlim([11,16])\n",
    "ax2.set_xlim([13,15])\n",
    "ax2.set_ylim([-1,4])\n",
    "ax2.set_xlabel(r'x ($\\mu$m)')\n",
    "ax2.set_ylabel(r'Electric Fields ($E_0$)', color='purple', fontsize=12)\n",
    "ax2.tick_params(axis='y',which='both', color='purple', labelcolor='purple')\n",
    "ax2.spines['right'].set_color('purple')\n",
    "ax2.spines['left'].set_color('r')\n",
    "\n",
    "\n",
    "# ax.set_ylim([-2,10])\n",
    "# ax.set_xticks([6,11,16])\n",
    "# plt.title('time = {:.1f} fs'.format(ttf[idt]))\n",
    "ax.grid(which='major',linestyle='--',alpha=0.5)\n",
    "\n",
    "# ax.set_ylabel('Densities and fields')\n",
    "\n",
    "ax.legend(fancybox=False, frameon=False, loc='best',fontsize=10)\n",
    "ax2.legend(fancybox=False, frameon=False, loc='lower right',fontsize=10)\n",
    "fig.set_size_inches(width, height)\n",
    "fig.tight_layout()"
   ]
  },
  {
   "cell_type": "code",
   "execution_count": 87,
   "id": "5c80ca8c-4b0c-4537-ae9d-27550f9ee4cc",
   "metadata": {},
   "outputs": [],
   "source": [
    "fig.savefig('/Users/yao/Desktop/fig11e.pdf',dpi=600)"
   ]
  },
  {
   "cell_type": "code",
   "execution_count": 80,
   "id": "0f629a1c-e2d4-4c1f-952b-e6c769f600eb",
   "metadata": {},
   "outputs": [],
   "source": [
    "idt = 9 # \n",
    "\n",
    "width  = 3.487 * 1.2\n",
    "height = width / 1.618 * 1.5\n",
    "\n",
    "fig, ax = plt.subplots()\n",
    "fig.subplots_adjust(left=.15, bottom=.16, right=.99, top=.97)\n",
    "\n",
    "ax.semilogy(xxe,(np.mean(ne[idt][:,100:120], axis=1)), color='r',lw=1.5,\n",
    "             linestyle='-',\n",
    "             label=r'$n_e$',\n",
    "           )\n",
    "\n",
    "ax.semilogy(xxi,(np.mean(ni[idt][:,200:240], axis=1)*1), color='b',lw=1.5,\n",
    "             linestyle=':',\n",
    "             label=r'$n_p$',\n",
    "           )\n",
    "ax.set_xlabel(r'x ($\\mu$m)')\n",
    "ax.set_ylabel(r'Densities ($n_c$)', color='r', fontsize=12)\n",
    "\n",
    "ax.tick_params(axis='y',which='both', color='r', labelcolor='r')\n",
    "ax.spines['right'].set_color('purple')\n",
    "ax.spines['left'].set_color('r')\n",
    "\n",
    "# ax.set_xlim([11,16])\n",
    "# ax.set_xlim([13.5,15.5])\n",
    "ax.set_ylim([1e-3,1e0])\n",
    "\n",
    "\n",
    "ax2 = ax.twinx()\n",
    "\n",
    "ax2.plot(xxf,(np.mean(Ey[idt][:,1280:1520], axis=1)), color='c',lw=1.0, \n",
    "             linestyle='--',\n",
    "             label=r'$E_y$',\n",
    "           )\n",
    "\n",
    "ax2.plot(xxf,(np.mean(Ex[idt][:,1280:1520], axis=1)*1), color='m',lw=1.0, \n",
    "             linestyle='-.',\n",
    "             label=r'$E_x$',\n",
    "           )\n",
    "# ax2.set_xlim([11,16])\n",
    "# ax.set_xlim([13.5,15.5])\n",
    "ax2.set_ylim([-1,2])\n",
    "ax2.set_xlabel(r'x ($\\mu$m)')\n",
    "ax2.set_ylabel(r'Electric Fields ($E_0$)', color='purple', fontsize=12)\n",
    "ax2.tick_params(axis='y',which='both', color='purple', labelcolor='purple')\n",
    "ax2.spines['right'].set_color('purple')\n",
    "ax2.spines['left'].set_color('r')\n",
    "\n",
    "\n",
    "# ax.set_ylim([-2,10])\n",
    "# ax.set_xticks([6,11,16])\n",
    "# plt.title('time = {:.1f} fs'.format(ttf[idt]))\n",
    "ax.grid(which='major',linestyle='--',alpha=0.5)\n",
    "\n",
    "# ax.set_ylabel('Densities and fields')\n",
    "\n",
    "ax.legend(fancybox=False, frameon=False, loc='best',fontsize=10)\n",
    "ax2.legend(fancybox=False, frameon=False, loc='lower right',fontsize=10)\n",
    "fig.set_size_inches(width, height)\n",
    "fig.tight_layout()"
   ]
  },
  {
   "cell_type": "code",
   "execution_count": 79,
   "id": "8f973500-e53d-4ce0-825e-d1b0eed81f3d",
   "metadata": {},
   "outputs": [],
   "source": [
    "fig.savefig('/Users/yao/Desktop/fig11f.pdf',dpi=600)"
   ]
  },
  {
   "cell_type": "code",
   "execution_count": null,
   "id": "7b077fa2-8e4b-44d7-bb93-81c702d16d99",
   "metadata": {},
   "outputs": [],
   "source": []
  },
  {
   "cell_type": "code",
   "execution_count": null,
   "id": "bb3600fe-3faf-47e1-a2ee-679f60120bd3",
   "metadata": {},
   "outputs": [],
   "source": []
  },
  {
   "cell_type": "code",
   "execution_count": 159,
   "id": "e843284c-c0ce-4962-bb6e-7e1aa81add0a",
   "metadata": {},
   "outputs": [
    {
     "data": {
      "text/plain": [
       "(12, 1281, 2561)"
      ]
     },
     "execution_count": 159,
     "metadata": {},
     "output_type": "execute_result"
    }
   ],
   "source": [
    "Ex2.shape"
   ]
  },
  {
   "cell_type": "code",
   "execution_count": 90,
   "id": "3bdbd27f-888b-4fa6-8a77-32e12752a578",
   "metadata": {},
   "outputs": [],
   "source": [
    "idt = 7\n",
    "\n",
    "width  = 3.487 * 1.2\n",
    "height = width / 1.618 * 1.5\n",
    "\n",
    "fig, ax = plt.subplots()\n",
    "fig.subplots_adjust(left=.15, bottom=.16, right=.99, top=.97)\n",
    "\n",
    "ax.plot(xxe,(np.mean(ne[idt][:,100:120], axis=1)/1e2), color='r',lw=1.5,\n",
    "             linestyle='-',\n",
    "             label=r'$n_e$ (100$n_c$)',\n",
    "           )\n",
    "\n",
    "ax.plot(xxi,(np.mean(ni[idt][:,200:240], axis=1)*20), color='b',lw=1.5,\n",
    "             linestyle=':',\n",
    "             label=r'$n_p$ ($n_c$) $\\times$ 20',\n",
    "           )\n",
    "\n",
    "# ax.plot(xx0,np.log10(np.mean(ne0[8][:,100:120], axis=1)), color='b',lw=1.0,\n",
    "#              linestyle='-',\n",
    "#              label=r'w/o DPM $n_e$ ($n_c$)',\n",
    "#            )\n",
    "\n",
    "ax.plot(xxf,(np.mean(Ey[idt][:,1280:1520], axis=1)), color='c',lw=1.0, \n",
    "             linestyle='--',\n",
    "             label=r'$E_y$ ($E_0$)',\n",
    "           )\n",
    "\n",
    "ax.plot(xxf,(np.mean(Ex[idt][:,1280:1520], axis=1)*2), color='m',lw=1.0, \n",
    "             linestyle='-.',\n",
    "             label=r'$E_x$ ($E_0$) $\\times$ 2',\n",
    "           )\n",
    "\n",
    "# ax.axhline(y=np.log10(S2.namelist.a_0), color='r', linestyle='--', \n",
    "#            label=r'w/.  DPM $a_0n_c$')\n",
    "\n",
    "# ax.axhline(y=np.log10(S0.namelist.a_0), color='b', linestyle='--', \n",
    "#            label=r'w/o DPM $a_0n_c$')\n",
    "\n",
    "\n",
    "ax.set_xlim([12,14])\n",
    "ax.set_ylim([-2,10])\n",
    "# ax.set_xticks([6,11,16])\n",
    "plt.title('time = {:.1f} fs'.format(ttf[idt]))\n",
    "ax.grid(which='both',linestyle='--',alpha=0.5)\n",
    "ax.set_xlabel(r'x ($\\mu$m)')\n",
    "ax.set_ylabel('Densities and fields')\n",
    "\n",
    "ax.legend(fancybox=False, frameon=False, loc='best',fontsize=10)\n",
    "fig.set_size_inches(width, height)\n",
    "fig.tight_layout()"
   ]
  },
  {
   "cell_type": "code",
   "execution_count": 189,
   "id": "c5071818-4f7b-4e1c-871d-3293eae4e37d",
   "metadata": {},
   "outputs": [],
   "source": [
    "fig.savefig('/Users/yao/Desktop/nf0_1170fs.png',dpi=600)\n",
    "fig.savefig('/Users/yao/Desktop/nf0_1170fs.pdf',dpi=600)"
   ]
  },
  {
   "cell_type": "code",
   "execution_count": null,
   "id": "9530e6f4-123d-4448-aff7-b8c2429961ed",
   "metadata": {},
   "outputs": [],
   "source": []
  },
  {
   "cell_type": "code",
   "execution_count": null,
   "id": "d6912b4a-5625-43de-ae7f-02e7b67746e4",
   "metadata": {},
   "outputs": [],
   "source": [
    "# simulation data -- px-py -- e -> the time has to be closer to the fields below\n",
    "\n",
    "pxpy_ndpm = np.array(S0.Screen(5, units=['um','fs','MeV']).getData()[-1]) # last timestep\n",
    "pxpy_wdpm = np.array(S1.Screen(5, units=['um','fs','MeV']).getData()[-1]) # last timestep\n",
    "\n",
    "px = np.array(S1.Screen(5, units=['um','fs','MeV']).getAxis('px'))\n",
    "py = np.array(S1.Screen(5, units=['um','fs','MeV']).getAxis('py'))"
   ]
  },
  {
   "cell_type": "code",
   "execution_count": null,
   "id": "e38789f1-c41a-40ba-aef6-af2801603f61",
   "metadata": {},
   "outputs": [],
   "source": []
  },
  {
   "cell_type": "code",
   "execution_count": 84,
   "id": "91720707-ced2-434f-9076-103183889a5c",
   "metadata": {},
   "outputs": [],
   "source": [
    "Ey2 = np.array(S2.Field(0,'Ey', units=['um','fs','MeV'],).getData())\n",
    "xx2 = np.array(S2.Field(0,'Ey', units=['um','fs','MeV']).getAxis('x'))\n",
    "yy2 = np.array(S2.Field(0,'Ey', units=['um','fs','MeV']).getAxis('y'))\n",
    "tt2 = np.array(S2.Field(0,'Ey', units=['um','fs','MeV']).getTimes())\n",
    "ts2 = np.array(S2.Field(0,'Ey', units=['um','fs','MeV']).getTimesteps())"
   ]
  },
  {
   "cell_type": "code",
   "execution_count": 85,
   "id": "6b55e12b-13fb-453e-a8f6-a010bad2c91b",
   "metadata": {},
   "outputs": [],
   "source": [
    "Ey0 = np.array(S0.Field(2,'Ey', units=['um','fs','MeV'],).getData())\n",
    "xx0 = np.array(S0.Field(2,'Ey', units=['um','fs','MeV']).getAxis('x'))\n",
    "yy0 = np.array(S0.Field(2,'Ey', units=['um','fs','MeV']).getAxis('y'))\n",
    "tt0 = np.array(S0.Field(2,'Ey', units=['um','fs','MeV']).getTimes())\n",
    "ts0 = np.array(S0.Field(2,'Ey', units=['um','fs','MeV']).getTimesteps())"
   ]
  },
  {
   "cell_type": "code",
   "execution_count": 70,
   "id": "5b1661d5-e976-475b-b1aa-4e135ce75446",
   "metadata": {},
   "outputs": [
    {
     "data": {
      "text/plain": [
       "55.3"
      ]
     },
     "execution_count": 70,
     "metadata": {},
     "output_type": "execute_result"
    }
   ],
   "source": [
    "133.0 - 77.7"
   ]
  },
  {
   "cell_type": "code",
   "execution_count": 67,
   "id": "3f8f70f6-5387-42de-ba67-76f5673365e4",
   "metadata": {},
   "outputs": [
    {
     "name": "stdout",
     "output_type": "stream",
     "text": [
      "Field diagnostic #0: Ey\n",
      "\tGrid spacing: 0.09817477042468103, 0.09817477042468103\n"
     ]
    }
   ],
   "source": [
    "S2.Field(0,'Ey',vsym=True,aspect='equal',cmap='smileiD',\n",
    "        units=['fs','um','V/m']).slide()"
   ]
  },
  {
   "cell_type": "code",
   "execution_count": 93,
   "id": "07de8c77-9dc1-4fa1-9d2d-8c8365355f5d",
   "metadata": {},
   "outputs": [
    {
     "name": "stderr",
     "output_type": "stream",
     "text": [
      "/var/folders/2t/97rc3fl92tg15k2l_4sk5hsh0000gn/T/ipykernel_47838/4133161498.py:70: UserWarning: This figure includes Axes that are not compatible with tight_layout, so results might be incorrect.\n",
      "  fig.tight_layout()\n"
     ]
    }
   ],
   "source": [
    "from mpl_toolkits.axes_grid1 import make_axes_locatable\n",
    "from mpl_toolkits.axes_grid1 import ImageGrid\n",
    "\n",
    "id2 = 8\n",
    "id0 = 8\n",
    "\n",
    "width  = 3.487 * 2.0\n",
    "height = width / 1.618 * 1.0\n",
    "\n",
    "fig = plt.figure(figsize=(width, height))\n",
    "# fig = plt.figure()\n",
    "\n",
    "# fig, ax = plt.subplots()\n",
    "# fig.subplots_adjust(left=.15, bottom=.16, right=.99, top=.97)\n",
    "\n",
    "grid = ImageGrid(fig, 111,          # as in plt.subplot(111)\n",
    "                 nrows_ncols=(1,2),\n",
    "                 axes_pad=0.3,\n",
    "                 share_all=True,\n",
    "                 cbar_location=\"right\",\n",
    "                 cbar_mode=\"single\",\n",
    "                 cbar_size=\"10%\",\n",
    "                 cbar_pad=0.2,\n",
    "                 )\n",
    "\n",
    "im0 = grid[0].imshow((Ey2[id2].T)/2.,\n",
    "           cmap='seismic',\n",
    "           origin='lower',\n",
    "           extent=[xx2[0],xx2[-1],yy2[0],yy2[-1]],\n",
    "           vmin=-2,\n",
    "           vmax=2,\n",
    "           aspect=1.,\n",
    "          )\n",
    "\n",
    "im1 = grid[1].imshow((Ey0[id0].T)/2.,\n",
    "           cmap='seismic',\n",
    "           origin='lower',\n",
    "           extent=[xx0[0],xx0[-1],yy0[0],yy0[-1]],\n",
    "           vmin=-2,\n",
    "           vmax=2,\n",
    "           aspect=1.,\n",
    "          )\n",
    "\n",
    "grid[0].set_xlim(11,15)\n",
    "grid[1].set_xlim(11,15)\n",
    "grid[1].set_ylim(14,28)\n",
    "grid[0].set_ylim(14,28)\n",
    "grid[0].set_xlabel(r'x ($\\mu$m)')\n",
    "grid[1].set_xlabel(r'x ($\\mu$m)')\n",
    "grid[0].set_ylabel(r'y ($\\mu$m)')\n",
    "# grid[0].set_xticks([0, 7, 14,  21])\n",
    "grid[1].set_xticks([11, 13, 15])\n",
    "# grid[0].set_yticks([0, 7, 14, 21, 28, 35, 42])\n",
    "grid[0].set_yticks([14, 21, 28])\n",
    "# grid[0].set_title('time = {:.1f} fs'.format(tt2[id2]))\n",
    "# grid[1].set_title('time = {:.1f} fs'.format(tt0[id0]))\n",
    "grid[0].grid(linestyle='--',color='grey',alpha=0.5)\n",
    "grid[1].grid(linestyle='--',color='grey',alpha=0.5)\n",
    "\n",
    "# Colorbar\n",
    "grid[1].cax.colorbar(im1)\n",
    "grid[1].cax.cla()\n",
    "mpl.colorbar.Colorbar(grid[1].cax,im1)\n",
    "cax = grid.cbar_axes[0]\n",
    "axis = cax.axis[cax.orientation]\n",
    "axis.label.set_text(r'$E_y$ ($E_0$)')\n",
    "# grid[1].cax.toggle_label(r'$n_p (cm^{-3})$')\n",
    "# grid[1].cax.tick_params(size=0)\n",
    "# grid[1].cax.toggle_label(True)\n",
    "fig.tight_layout()\n",
    "fig.set_size_inches(width, height)\n",
    "plt.show()"
   ]
  },
  {
   "cell_type": "code",
   "execution_count": 94,
   "id": "39d33e03-25ad-4623-9e14-fa30e37df8b7",
   "metadata": {},
   "outputs": [],
   "source": [
    "fig.savefig('/Users/yao/Desktop/Ey.pdf',dpi=600)"
   ]
  },
  {
   "cell_type": "code",
   "execution_count": 80,
   "id": "381dcb81-07e2-4a37-b95d-dcc40409dcfa",
   "metadata": {},
   "outputs": [],
   "source": [
    "Ex2 = np.array(S2.Field(1,'Ex', units=['um','fs','MeV','V/m'],).getData())\n",
    "xx2 = np.array(S2.Field(1,'Ex', units=['um','fs','MeV']).getAxis('x'))\n",
    "yy2 = np.array(S2.Field(1,'Ex', units=['um','fs','MeV']).getAxis('y'))\n",
    "tt2 = np.array(S2.Field(1,'Ex', units=['um','fs','MeV']).getTimes())\n",
    "ts2 = np.array(S2.Field(1,'Ex', units=['um','fs','MeV']).getTimesteps())\n",
    "\n",
    "Ex0 = np.array(S0.Field(3,'Ex', units=['um','fs','MeV','V/m'],).getData())\n",
    "xx0 = np.array(S0.Field(3,'Ex', units=['um','fs','MeV']).getAxis('x'))\n",
    "yy0 = np.array(S0.Field(3,'Ex', units=['um','fs','MeV']).getAxis('y'))\n",
    "tt0 = np.array(S0.Field(3,'Ex', units=['um','fs','MeV']).getTimes())\n",
    "ts0 = np.array(S0.Field(3,'Ex', units=['um','fs','MeV']).getTimesteps())"
   ]
  },
  {
   "cell_type": "code",
   "execution_count": 86,
   "id": "2e4541ce-0251-4837-a0cb-0aa34f26feb3",
   "metadata": {},
   "outputs": [
    {
     "name": "stderr",
     "output_type": "stream",
     "text": [
      "/var/folders/2t/97rc3fl92tg15k2l_4sk5hsh0000gn/T/ipykernel_44437/4176355614.py:68: UserWarning: This figure includes Axes that are not compatible with tight_layout, so results might be incorrect.\n",
      "  fig.tight_layout()\n"
     ]
    }
   ],
   "source": [
    "from mpl_toolkits.axes_grid1 import make_axes_locatable\n",
    "from mpl_toolkits.axes_grid1 import ImageGrid\n",
    "\n",
    "\n",
    "width  = 3.487 * 2.0\n",
    "height = width / 1.618 * 1.0\n",
    "\n",
    "fig = plt.figure(figsize=(width, height))\n",
    "# fig = plt.figure()\n",
    "\n",
    "# fig, ax = plt.subplots()\n",
    "# fig.subplots_adjust(left=.15, bottom=.16, right=.99, top=.97)\n",
    "\n",
    "grid = ImageGrid(fig, 111,          # as in plt.subplot(111)\n",
    "                 nrows_ncols=(1,2),\n",
    "                 axes_pad=0.25,\n",
    "                 share_all=True,\n",
    "                 cbar_location=\"right\",\n",
    "                 cbar_mode=\"single\",\n",
    "                 cbar_size=\"5%\",\n",
    "                 cbar_pad=0.1,\n",
    "                 )\n",
    "\n",
    "im0 = grid[0].imshow((Ex2[3].T)/1e13,\n",
    "           cmap='seismic',\n",
    "           origin='lower',\n",
    "           extent=[xx2[0],xx2[-1],yy2[0],yy2[-1]],\n",
    "           vmin=-4,\n",
    "           vmax=4,\n",
    "           aspect=1.,\n",
    "          )\n",
    "\n",
    "im1 = grid[1].imshow((Ex0[8].T)/1e13,\n",
    "           cmap='seismic',\n",
    "           origin='lower',\n",
    "           extent=[xx0[0],xx0[-1],yy0[0],yy0[-1]],\n",
    "           vmin=-4,\n",
    "           vmax=4,\n",
    "           aspect=1.,\n",
    "          )\n",
    "\n",
    "grid[0].set_xlim(6,16)\n",
    "grid[1].set_xlim(6,16)\n",
    "grid[1].set_ylim(14,28)\n",
    "grid[0].set_ylim(14,28)\n",
    "grid[0].set_xlabel(r'x ($\\mu$m)')\n",
    "grid[1].set_xlabel(r'x ($\\mu$m)')\n",
    "grid[0].set_ylabel(r'y ($\\mu$m)')\n",
    "# grid[0].set_xticks([0, 7, 14,  21])\n",
    "grid[1].set_xticks([6, 11, 16])\n",
    "# grid[0].set_yticks([0, 7, 14, 21, 28, 35, 42])\n",
    "grid[0].set_yticks([14, 21, 28])\n",
    "grid[0].set_title('time = {:.1f} fs'.format(tt2[3]))\n",
    "grid[1].set_title('time = {:.1f} fs'.format(tt0[8]))\n",
    "grid[0].grid(linestyle='--',color='grey',alpha=0.5)\n",
    "grid[1].grid(linestyle='--',color='grey',alpha=0.5)\n",
    "\n",
    "# Colorbar\n",
    "grid[1].cax.colorbar(im1)\n",
    "grid[1].cax.cla()\n",
    "mpl.colorbar.Colorbar(grid[1].cax,im1)\n",
    "cax = grid.cbar_axes[0]\n",
    "axis = cax.axis[cax.orientation]\n",
    "axis.label.set_text(r'$E_x$ (10$^{13}$ V/m)')\n",
    "# grid[1].cax.toggle_label(r'$n_p (cm^{-3})$')\n",
    "# grid[1].cax.tick_params(size=0)\n",
    "# grid[1].cax.toggle_label(True)\n",
    "fig.tight_layout()\n",
    "fig.set_size_inches(width, height)\n",
    "plt.show()"
   ]
  },
  {
   "cell_type": "code",
   "execution_count": 88,
   "id": "a0ad7926-86f8-4ff7-a084-bf7f1fce6768",
   "metadata": {},
   "outputs": [],
   "source": [
    "fig.savefig('/Users/yao/Desktop/Ex1.png',dpi=600)"
   ]
  },
  {
   "cell_type": "code",
   "execution_count": 9,
   "id": "a8ed8d1c-2c4e-468a-9588-f09f5f443363",
   "metadata": {},
   "outputs": [],
   "source": [
    "Ex0 = S0.Field(3, 'Ex', units=['um','fs', 'V/m'],\n",
    "               vsym=True,\n",
    "              )\n",
    "Ex1 = S1.Field(1, 'Ex', units=['um','fs', 'V/m'],\n",
    "               vsym=True,\n",
    "              )\n",
    "\n",
    "happi.multiSlide(Ex0, Ex1, shape=[1,2])"
   ]
  },
  {
   "cell_type": "code",
   "execution_count": 24,
   "id": "318e1da2-2fd9-4cb3-98b0-e4a9791cd470",
   "metadata": {},
   "outputs": [
    {
     "name": "stdout",
     "output_type": "stream",
     "text": [
      "Field diagnostic #0: Ey\n",
      "\tGrid spacing: 0.09817477042468103, 0.09817477042468103\n"
     ]
    }
   ],
   "source": [
    "S2.Field(0, 'Ey', units=['um','fs', 'V/m'],\n",
    "               vsym=True,\n",
    "              ).slide()"
   ]
  },
  {
   "cell_type": "code",
   "execution_count": 18,
   "id": "22b5d808-fb16-4d37-876f-7e9300f99742",
   "metadata": {},
   "outputs": [],
   "source": [
    "t0 = S0.Field(0, 'Ey', units=['fs']).getTimes()"
   ]
  },
  {
   "cell_type": "code",
   "execution_count": 19,
   "id": "2ff27593-9253-4c3a-ad24-98260f47bced",
   "metadata": {},
   "outputs": [
    {
     "data": {
      "text/plain": [
       "array([   0.      ,  155.724375,  311.44875 ,  467.173125,  622.8975  ,\n",
       "        778.621875,  934.34625 , 1090.070625, 1245.795   , 1401.519375,\n",
       "       1557.24375 ])"
      ]
     },
     "execution_count": 19,
     "metadata": {},
     "output_type": "execute_result"
    }
   ],
   "source": [
    "t0"
   ]
  },
  {
   "cell_type": "code",
   "execution_count": 20,
   "id": "43c26ae0-b018-4b32-9655-e36e7c11f645",
   "metadata": {},
   "outputs": [],
   "source": [
    "t0_pb = S0.ParticleBinning(0, units=['fs']).getTimes()"
   ]
  },
  {
   "cell_type": "code",
   "execution_count": 21,
   "id": "beb23724-fada-452d-91e1-27e65faafa7e",
   "metadata": {},
   "outputs": [
    {
     "data": {
      "text/plain": [
       "array([   0.        ,   38.93109375,   77.8621875 ,  116.79328125,\n",
       "        155.724375  ,  194.65546875,  233.5865625 ,  272.51765625,\n",
       "        311.44875   ,  350.37984375,  389.3109375 ,  428.24203125,\n",
       "        467.173125  ,  506.10421875,  545.0353125 ,  583.96640625,\n",
       "        622.8975    ,  661.82859375,  700.7596875 ,  739.69078125,\n",
       "        778.621875  ,  817.55296875,  856.4840625 ,  895.41515625,\n",
       "        934.34625   ,  973.27734375, 1012.2084375 , 1051.13953125,\n",
       "       1090.070625  , 1129.00171875, 1167.9328125 , 1206.86390625,\n",
       "       1245.795     , 1284.72609375, 1323.6571875 , 1362.58828125,\n",
       "       1401.519375  , 1440.45046875, 1479.3815625 , 1518.31265625,\n",
       "       1557.24375   ])"
      ]
     },
     "execution_count": 21,
     "metadata": {},
     "output_type": "execute_result"
    }
   ],
   "source": [
    "t0_pb"
   ]
  },
  {
   "cell_type": "code",
   "execution_count": 23,
   "id": "50279995-ca12-4615-862c-0acd3daed1f1",
   "metadata": {},
   "outputs": [
    {
     "data": {
      "text/plain": [
       "array([  0.        ,  12.94947917,  25.89895833,  38.8484375 ,\n",
       "        51.79791667,  64.74739583,  77.696875  ,  90.64635417,\n",
       "       103.59583333, 116.5453125 , 129.49479167, 142.44427083,\n",
       "       155.39375   , 168.34322917, 181.29270833, 194.2421875 ,\n",
       "       207.19166667, 220.14114583, 233.090625  , 246.04010417,\n",
       "       258.98958333, 271.9390625 , 284.88854167])"
      ]
     },
     "execution_count": 23,
     "metadata": {},
     "output_type": "execute_result"
    }
   ],
   "source": [
    "t2 = S2.Field(0, 'Ey', units=['fs']).getTimes()\n",
    "t2"
   ]
  },
  {
   "cell_type": "code",
   "execution_count": 109,
   "id": "3d76f486-acf6-4966-bbc8-da971910c6af",
   "metadata": {},
   "outputs": [],
   "source": [
    "Bz2 = np.array(S2.Field(1,'Bz', units=['um','fs','MeV','V/m','T'],).getData())\n",
    "xx2 = np.array(S2.Field(1,'Bz', units=['um','fs','MeV']).getAxis('x'))\n",
    "yy2 = np.array(S2.Field(1,'Bz', units=['um','fs','MeV']).getAxis('y'))\n",
    "tt2 = np.array(S2.Field(1,'Bz', units=['um','fs','MeV']).getTimes())\n",
    "ts2 = np.array(S2.Field(1,'Bz', units=['um','fs','MeV']).getTimesteps())\n",
    "\n",
    "Bz0 = np.array(S0.Field(3,'Bz', units=['um','fs','MeV','V/m', 'T'],).getData())\n",
    "xx0 = np.array(S0.Field(3,'Bz', units=['um','fs','MeV']).getAxis('x'))\n",
    "yy0 = np.array(S0.Field(3,'Bz', units=['um','fs','MeV']).getAxis('y'))\n",
    "tt0 = np.array(S0.Field(3,'Bz', units=['um','fs','MeV']).getTimes())\n",
    "ts0 = np.array(S0.Field(3,'Bz', units=['um','fs','MeV']).getTimesteps())"
   ]
  },
  {
   "cell_type": "code",
   "execution_count": 113,
   "id": "05dd35c0-9522-4b18-abbc-3a490ce181cb",
   "metadata": {},
   "outputs": [
    {
     "name": "stderr",
     "output_type": "stream",
     "text": [
      "/var/folders/2t/97rc3fl92tg15k2l_4sk5hsh0000gn/T/ipykernel_47838/18842228.py:70: UserWarning: This figure includes Axes that are not compatible with tight_layout, so results might be incorrect.\n",
      "  fig.tight_layout()\n"
     ]
    }
   ],
   "source": [
    "from mpl_toolkits.axes_grid1 import make_axes_locatable\n",
    "from mpl_toolkits.axes_grid1 import ImageGrid\n",
    "\n",
    "id2 = 3\n",
    "id0 = 7\n",
    "\n",
    "width  = 3.487 * 2.0\n",
    "height = width / 1.618 * 1.0\n",
    "\n",
    "fig = plt.figure(figsize=(width, height))\n",
    "# fig = plt.figure()\n",
    "\n",
    "# fig, ax = plt.subplots()\n",
    "# fig.subplots_adjust(left=.15, bottom=.16, right=.99, top=.97)\n",
    "\n",
    "grid = ImageGrid(fig, 111,          # as in plt.subplot(111)\n",
    "                 nrows_ncols=(1,2),\n",
    "                 axes_pad=0.25,\n",
    "                 share_all=True,\n",
    "                 cbar_location=\"right\",\n",
    "                 cbar_mode=\"single\",\n",
    "                 cbar_size=\"5%\",\n",
    "                 cbar_pad=0.1,\n",
    "                 )\n",
    "\n",
    "im0 = grid[0].imshow((Bz2[id2].T)/1e5,\n",
    "           cmap='seismic',\n",
    "           origin='lower',\n",
    "           extent=[xx2[0],xx2[-1],yy2[0],yy2[-1]],\n",
    "           vmin=-1,\n",
    "           vmax=1,\n",
    "           aspect=1.,\n",
    "          )\n",
    "\n",
    "im1 = grid[1].imshow((Bz0[id0].T)/1e5,\n",
    "           cmap='seismic',\n",
    "           origin='lower',\n",
    "           extent=[xx0[0],xx0[-1],yy0[0],yy0[-1]],\n",
    "           vmin=-1,\n",
    "           vmax=1,\n",
    "           aspect=1.,\n",
    "          )\n",
    "\n",
    "grid[0].set_xlim(6,16)\n",
    "grid[1].set_xlim(6,16)\n",
    "grid[1].set_ylim(14,28)\n",
    "grid[0].set_ylim(14,28)\n",
    "grid[0].set_xlabel(r'x ($\\mu$m)')\n",
    "grid[1].set_xlabel(r'x ($\\mu$m)')\n",
    "grid[0].set_ylabel(r'y ($\\mu$m)')\n",
    "# grid[0].set_xticks([0, 7, 14,  21])\n",
    "grid[1].set_xticks([6, 11, 16])\n",
    "# grid[0].set_yticks([0, 7, 14, 21, 28, 35, 42])\n",
    "grid[0].set_yticks([14, 21, 28])\n",
    "grid[0].set_title('time = {:.1f} fs'.format(tt2[id2]))\n",
    "grid[1].set_title('time = {:.1f} fs'.format(tt0[id0]))\n",
    "grid[0].grid(linestyle='--',color='grey',alpha=0.5)\n",
    "grid[1].grid(linestyle='--',color='grey',alpha=0.5)\n",
    "\n",
    "# Colorbar\n",
    "grid[1].cax.colorbar(im1)\n",
    "grid[1].cax.cla()\n",
    "mpl.colorbar.Colorbar(grid[1].cax,im1)\n",
    "cax = grid.cbar_axes[0]\n",
    "axis = cax.axis[cax.orientation]\n",
    "axis.label.set_text(r'$B_z$ (10$^{5}$ T)')\n",
    "# grid[1].cax.toggle_label(r'$n_p (cm^{-3})$')\n",
    "# grid[1].cax.tick_params(size=0)\n",
    "# grid[1].cax.toggle_label(True)\n",
    "fig.tight_layout()\n",
    "fig.set_size_inches(width, height)\n",
    "plt.show()"
   ]
  },
  {
   "cell_type": "code",
   "execution_count": 94,
   "id": "99dd9849-fe74-48c5-9baa-d7fd7a21cd40",
   "metadata": {},
   "outputs": [],
   "source": [
    "fig.savefig('/Users/yao/Desktop/Bz1.png',dpi=600)\n",
    "fig.savefig('/Users/yao/Desktop/Bz1.pdf',dpi=600)"
   ]
  },
  {
   "cell_type": "code",
   "execution_count": 2,
   "id": "10419d5f-1a63-4a52-8343-399f72d8f01b",
   "metadata": {},
   "outputs": [],
   "source": [
    "import numpy as np"
   ]
  },
  {
   "cell_type": "markdown",
   "id": "9a8ed5cb-ada2-4a34-9ea2-c7d53e067960",
   "metadata": {},
   "source": [
    "## analyze the transmission spec. image"
   ]
  },
  {
   "cell_type": "code",
   "execution_count": 1,
   "id": "9e985a8f-02e8-4862-a21e-e9be85eea60f",
   "metadata": {},
   "outputs": [],
   "source": [
    "from PIL import Image\n",
    "\n",
    "# shot 257, 50 nm,  20 MeV\n",
    "im0 = Image.open('/Users/yao/Nextcloud/PROJECTS/Apollon/F2-DPM-2022/SP_TRANS/seq_0415_001_20221115T142113.430C_APOEXP07_SP_transmis.tif')\n",
    "\n",
    "# shot 256, 10 nm Si, broken\n",
    "im1 = Image.open('/Users/yao/Nextcloud/PROJECTS/Apollon/F2-DPM-2022/SP_TRANS/seq_0414_001_20221115T141513.406C_APOEXP07_SP_transmis.tif')\n",
    "\n",
    "# shot 82, calibration\n",
    "im2 = Image.open('/Users/yao/Nextcloud/PROJECTS/Apollon/F2-DPM-2022/SP_TRANS/seq_0217_001_20221027T112113.210C_APOEXP07_SP_transmis.tif')"
   ]
  },
  {
   "cell_type": "code",
   "execution_count": 3,
   "id": "61157249-153a-47b3-b178-c052f79777b1",
   "metadata": {},
   "outputs": [],
   "source": [
    "imarray0 = np.array(im0)\n",
    "imarray1 = np.array(im1) # \n",
    "imarray2 = np.array(im2) # shot 82, calibration"
   ]
  },
  {
   "cell_type": "code",
   "execution_count": 4,
   "id": "4b1bb2bc-d6e2-4c19-a0c7-b3c9650573b7",
   "metadata": {},
   "outputs": [],
   "source": [
    "# change in OD 0.9 for 257 & 256\n",
    "imarray0_OD = imarray0 * 10**(-0.9)\n",
    "imarray1_OD = imarray1 * 10**(-0.9)\n",
    "imarray2_OD = imarray2"
   ]
  },
  {
   "cell_type": "code",
   "execution_count": 5,
   "id": "994b087f-8972-421b-bef9-630b11a00fff",
   "metadata": {},
   "outputs": [],
   "source": [
    "# background removal\n",
    "\n",
    "imarray0_OD_bg = imarray0_OD - 32800*(10**(-0.9)) #np.mean(imarray0_OD[200:220,380:400])\n",
    "imarray1_OD_bg = imarray1_OD - 32845*(10**(-0.9)) #np.mean(imarray1_OD[190:230,370:410]) # bg: [200:220,380:400]\n",
    "imarray2_OD_bg = imarray2_OD - 32810. #np.mean(imarray2_OD[820:840,30:50])   # bg: [820:840,30:50]\n",
    "\n"
   ]
  },
  {
   "cell_type": "code",
   "execution_count": 6,
   "id": "3796d3b0-7faa-42d5-a915-428066442ab0",
   "metadata": {},
   "outputs": [
    {
     "data": {
      "text/plain": [
       "array([[4127.51285511, 4127.76464019, 4127.26107003, ..., 4127.00928494,\n",
       "        4129.52713577, 4127.89053273],\n",
       "       [4127.26107003, 4128.14231781, 4127.13517748, ..., 4126.8833924 ,\n",
       "        4126.63160732, 4128.01642527],\n",
       "       [4127.38696257, 4127.76464019, 4128.51999544, ..., 4127.26107003,\n",
       "        4126.00214461, 4127.76464019],\n",
       "       ...,\n",
       "       [4127.63874765, 4127.89053273, 4128.3941029 , ..., 4129.14945814,\n",
       "        4128.14231781, 4126.8833924 ],\n",
       "       [4127.76464019, 4127.13517748, 4128.3941029 , ..., 4128.26821036,\n",
       "        4126.8833924 , 4129.0235656 ],\n",
       "       [4127.51285511, 4127.63874765, 4128.64588798, ..., 4128.64588798,\n",
       "        4127.89053273, 4127.00928494]])"
      ]
     },
     "execution_count": 6,
     "metadata": {},
     "output_type": "execute_result"
    }
   ],
   "source": [
    "imarray0_OD"
   ]
  },
  {
   "cell_type": "code",
   "execution_count": 7,
   "id": "7f2a3308-187c-45b7-8c27-333ddebbc558",
   "metadata": {},
   "outputs": [
    {
     "data": {
      "text/plain": [
       "array([[-1.76249558, -1.51071049, -2.01428066, ..., -2.26606574,\n",
       "         0.25178508, -1.38481795],\n",
       "       [-2.01428066, -1.13303287, -2.1401732 , ..., -2.39195828,\n",
       "        -2.64374336, -1.25892541],\n",
       "       [-1.88838812, -1.51071049, -0.75535525, ..., -2.01428066,\n",
       "        -3.27320607, -1.51071049],\n",
       "       ...,\n",
       "       [-1.63660304, -1.38481795, -0.88124779, ..., -0.12589254,\n",
       "        -1.13303287, -2.39195828],\n",
       "       [-1.51071049, -2.1401732 , -0.88124779, ..., -1.00714033,\n",
       "        -2.39195828, -0.25178508],\n",
       "       [-1.76249558, -1.63660304, -0.62946271, ..., -0.62946271,\n",
       "        -1.38481795, -2.26606574]])"
      ]
     },
     "execution_count": 7,
     "metadata": {},
     "output_type": "execute_result"
    }
   ],
   "source": [
    "imarray0_OD_bg"
   ]
  },
  {
   "cell_type": "code",
   "execution_count": 8,
   "id": "f803e206-0ad5-4032-b717-fc17beec7c73",
   "metadata": {},
   "outputs": [],
   "source": [
    "imarray0_OD_bg[imarray0_OD_bg<=1] = 1\n",
    "imarray1_OD_bg[imarray1_OD_bg<=1] = 1\n",
    "imarray2_OD_bg[imarray2_OD_bg<=1] = 1"
   ]
  },
  {
   "cell_type": "code",
   "execution_count": 9,
   "id": "43ee922e-cef7-4aa7-9dcf-9e112dc25db3",
   "metadata": {},
   "outputs": [
    {
     "data": {
      "text/plain": [
       "2156.0"
      ]
     },
     "execution_count": 9,
     "metadata": {},
     "output_type": "execute_result"
    }
   ],
   "source": [
    "np.max(imarray2_OD_bg)"
   ]
  },
  {
   "cell_type": "code",
   "execution_count": 10,
   "id": "9d1191b2-2423-416b-88fe-2dd40a983ab0",
   "metadata": {},
   "outputs": [
    {
     "data": {
      "text/plain": [
       "array([[0.00046382, 0.00046382, 0.00046382, ..., 0.00046382, 0.00046382,\n",
       "        0.00046382],\n",
       "       [0.00046382, 0.00046382, 0.00046382, ..., 0.00046382, 0.00046382,\n",
       "        0.00046382],\n",
       "       [0.00046382, 0.00046382, 0.00046382, ..., 0.00046382, 0.00046382,\n",
       "        0.00046382],\n",
       "       ...,\n",
       "       [0.00046382, 0.00046382, 0.00046382, ..., 0.00046382, 0.00046382,\n",
       "        0.00046382],\n",
       "       [0.00046382, 0.00046382, 0.00046382, ..., 0.00046382, 0.00046382,\n",
       "        0.00046382],\n",
       "       [0.00046382, 0.00046382, 0.00046382, ..., 0.00046382, 0.00046382,\n",
       "        0.00046382]])"
      ]
     },
     "execution_count": 10,
     "metadata": {},
     "output_type": "execute_result"
    }
   ],
   "source": [
    "imarray0_OD_bg/np.max(imarray2_OD_bg)"
   ]
  },
  {
   "cell_type": "code",
   "execution_count": 11,
   "id": "adbec98b-2db9-4a64-8376-fb611843f92e",
   "metadata": {},
   "outputs": [
    {
     "data": {
      "text/plain": [
       "4534.461123933527"
      ]
     },
     "execution_count": 11,
     "metadata": {},
     "output_type": "execute_result"
    }
   ],
   "source": [
    "np.mean(imarray1_OD[200:220,380:400])"
   ]
  },
  {
   "cell_type": "code",
   "execution_count": 12,
   "id": "faa91a1d-db72-4b05-96c6-613b459997e6",
   "metadata": {},
   "outputs": [
    {
     "data": {
      "text/plain": [
       "4134.562837414404"
      ]
     },
     "execution_count": 12,
     "metadata": {},
     "output_type": "execute_result"
    }
   ],
   "source": [
    "32842*10**(-0.9)"
   ]
  },
  {
   "cell_type": "code",
   "execution_count": 13,
   "id": "da18c355-0ad0-42c6-a2a7-04b78a2b3e4e",
   "metadata": {},
   "outputs": [],
   "source": [
    "imarray2_OD_bg = imarray2_OD - np.mean(imarray2_OD[820:840,30:50])"
   ]
  },
  {
   "cell_type": "code",
   "execution_count": 14,
   "id": "c88a4b2c-5a38-4df9-8619-83e5e4cbeb56",
   "metadata": {},
   "outputs": [
    {
     "data": {
      "text/plain": [
       "2172.8799999999974"
      ]
     },
     "execution_count": 14,
     "metadata": {},
     "output_type": "execute_result"
    }
   ],
   "source": [
    "np.max(imarray2_OD_bg)"
   ]
  },
  {
   "cell_type": "code",
   "execution_count": 18,
   "id": "dff4bcd9-23d7-4aef-8276-3284ab762ad8",
   "metadata": {},
   "outputs": [
    {
     "data": {
      "image/png": "[encoded data removed]",
      "text/plain": [
       "<Figure size 348.7x215.513 with 2 Axes>"
      ]
     },
     "metadata": {},
     "output_type": "display_data"
    }
   ],
   "source": [
    "from mpl_toolkits.axes_grid1 import make_axes_locatable\n",
    "\n",
    "\n",
    "width  = 3.487\n",
    "height = width / 1.618 #* 1.5\n",
    "\n",
    "fig, ax = plt.subplots()\n",
    "fig.subplots_adjust(left=.15, bottom=.16, right=.99, top=.97)\n",
    "divider = make_axes_locatable(ax)\n",
    "cax = divider.append_axes('right', size='5%', pad=0.05)\n",
    "\n",
    "yekin = ax.imshow(\n",
    "                  # imarray0_OD_bg,#/np.max(imarray2),\n",
    "                  # imarray1_OD_bg,\n",
    "    np.log10(imarray0_OD_bg/np.max(imarray2_OD_bg)), \n",
    "           cmap='magma',\n",
    "                  # cmap=newcmap,\n",
    "           origin='lower',\n",
    "           # extent=[-6, 6, -6, 6],\n",
    "           vmin=-3,\n",
    "           vmax=0,\n",
    "           aspect='equal',\n",
    "          )\n",
    "cbar = fig.colorbar(yekin, cax=cax)\n",
    "cbar.minorticks_on()\n",
    "cbar.cmap.set_under('white')\n",
    "# cbar.set_ticks([0.94, 0.96, 0.98, 1.00])\n",
    "# cbar.set_ticks([0.94, 0.95, 0.96])\n",
    "# ax.set_xlim(-6,6)\n",
    "ax.set_xticks([ ])\n",
    "\n",
    "ax.get_xaxis().set_visible(False)\n",
    "ax.get_yaxis().set_visible(False)\n",
    "ax.axis('off')\n",
    "# plt.axis('off')\n",
    "# ax.set_ylim(-6,6)\n",
    "ax.set_yticks([ ])\n",
    "# ax.set_xlabel(r'x ($\\mu$m)')\n",
    "# ax.set_ylabel(r'y ($\\mu$m)')\n",
    "# ax.set_title('Shot 257 (50 nm)', fontsize=16)\n",
    "# ax.set_title('Shot 256 (10 nm)', fontsize=16)\n",
    "# ax.set_title('Shot 82 (Calib.)', fontsize=16)\n",
    "# ax.grid(linestyle='--',color='grey',alpha=0.5)\n",
    "fig.set_size_inches(width, height)\n",
    "fig.tight_layout()"
   ]
  },
  {
   "cell_type": "code",
   "execution_count": null,
   "id": "02539b4c-6609-4145-b85f-95978c8ab99f",
   "metadata": {},
   "outputs": [],
   "source": []
  },
  {
   "cell_type": "code",
   "execution_count": 31,
   "id": "5ed17f6c-aceb-49b4-bd7e-9864d2aec8d9",
   "metadata": {},
   "outputs": [],
   "source": [
    "# fig.savefig('/Users/yao/Desktop/Trans_82.pdf',dpi=600)\n",
    "# fig.savefig('/Users/yao/Desktop/Trans_256.pdf',dpi=600)\n",
    "fig.savefig('/Users/yao/Desktop/Trans_257.pdf',dpi=600)"
   ]
  },
  {
   "cell_type": "markdown",
   "id": "e69f5928-3500-4fa3-b134-f98c7d9de798",
   "metadata": {},
   "source": [
    "## encircled energy graph inside the laser focal spot"
   ]
  },
  {
   "cell_type": "code",
   "execution_count": 19,
   "id": "d35886ae-bbff-4692-a1a1-91461fc9c783",
   "metadata": {},
   "outputs": [],
   "source": [
    "data = np.loadtxt('/Users/yao/Nextcloud/PROJECTS/Apollon/F2-DPM-2022/Ronan_analysis/Encircled_Energy_r28_4um.dat')"
   ]
  },
  {
   "cell_type": "code",
   "execution_count": 20,
   "id": "3ea9f1ba-d49c-46af-a5e2-545902ceac0d",
   "metadata": {},
   "outputs": [
    {
     "data": {
      "text/plain": [
       "[<matplotlib.lines.Line2D at 0x11cbf1a90>]"
      ]
     },
     "execution_count": 20,
     "metadata": {},
     "output_type": "execute_result"
    },
    {
     "data": {
      "image/png": "[encoded data removed]",
      "text/plain": [
       "<Figure size 640x480 with 1 Axes>"
      ]
     },
     "metadata": {},
     "output_type": "display_data"
    }
   ],
   "source": [
    "plt.plot(data[:][0],data[:][1])"
   ]
  },
  {
   "cell_type": "code",
   "execution_count": 21,
   "id": "1d915e96-a1cb-4337-99b0-22400356cda5",
   "metadata": {},
   "outputs": [],
   "source": [
    "distance = np.zeros(data.shape[0])\n",
    "proportion = np.zeros(data.shape[0])\n",
    "for i in range(data.shape[0]):\n",
    "    distance[i] = data[i][0]\n",
    "    proportion[i] = data[i][1]"
   ]
  },
  {
   "cell_type": "code",
   "execution_count": 32,
   "id": "06c11804-94c3-4cbf-abf6-009855b0073a",
   "metadata": {},
   "outputs": [],
   "source": [
    "plt.rc('font', family='sans-serif', serif='Arial')\n",
    "plt.rc('text', usetex=False)\n",
    "plt.rc('xtick', labelsize=16)\n",
    "plt.rc('ytick', labelsize=16)\n",
    "plt.rc('axes', labelsize=16)\n",
    "plt.rc('legend', fontsize=10)"
   ]
  },
  {
   "cell_type": "code",
   "execution_count": 24,
   "id": "b4d99135-8c00-46f7-9e81-48255229187c",
   "metadata": {},
   "outputs": [],
   "source": [
    "from matplotlib import font_manager\n",
    "\n",
    "font_dirs = ['/Users/yao/Documents/Calibri and Cambria Fonts/']\n",
    "font_files = font_manager.findSystemFonts(fontpaths=font_dirs)\n",
    "\n",
    "for font_file in font_files:\n",
    "    font_manager.fontManager.addfont(font_file)\n",
    "\n",
    "# set font\n",
    "plt.rcParams['font.family'] = 'Calibri'\n",
    "plt.rc('text', usetex=False)\n",
    "plt.rc('xtick', labelsize=16)\n",
    "plt.rc('ytick', labelsize=16)\n",
    "plt.rc('axes', labelsize=16)\n",
    "plt.rc('legend', fontsize=10)"
   ]
  },
  {
   "cell_type": "code",
   "execution_count": 26,
   "id": "05336c70-293d-4b01-9a97-13f1abd2f211",
   "metadata": {},
   "outputs": [
    {
     "data": {
      "image/png": "[encoded data removed]",
      "text/plain": [
       "<Figure size 348.7x323.269 with 1 Axes>"
      ]
     },
     "metadata": {},
     "output_type": "display_data"
    }
   ],
   "source": [
    "width  = 3.487 * 1.0\n",
    "height = width / 1.618 * 1.5\n",
    "\n",
    "fig, ax = plt.subplots()\n",
    "fig.subplots_adjust(left=.15, bottom=.16, right=.99, top=.97)\n",
    "\n",
    "ax.plot(distance, proportion, color='r',lw=1.5,\n",
    "             linestyle='-',\n",
    "             label=r'$n_e$ (100$n_c$)',\n",
    "           )\n",
    "\n",
    "ax.set_xlim([0,30])\n",
    "ax.set_ylim([0,100])\n",
    "# ax.set_xticks([6,11,16])\n",
    "# plt.title('time = {:.1f} fs'.format(ttf[idt]))\n",
    "ax.grid(which='both',linestyle='--',alpha=0.5)\n",
    "ax.set_xlabel(r'Radius ($\\mu$m)')\n",
    "ax.set_ylabel('Energy fraction (%)')\n",
    "# ax.legend(fancybox=False, frameon=False, loc='best',fontsize=10)\n",
    "fig.set_size_inches(width, height)\n",
    "fig.tight_layout()"
   ]
  },
  {
   "cell_type": "code",
   "execution_count": 27,
   "id": "c8822955-0309-4039-8a40-c2295e642ade",
   "metadata": {},
   "outputs": [],
   "source": [
    "fig.savefig('/Users/yao/Desktop/proportion.pdf',dpi=600)"
   ]
  },
  {
   "cell_type": "code",
   "execution_count": 22,
   "id": "db0e024d-01c4-431b-b6da-8e288502bb79",
   "metadata": {},
   "outputs": [
    {
     "data": {
      "text/plain": [
       "array([0., 0., 0., 0., 0., 0., 0., 0., 0., 0., 0., 0., 0., 0., 0., 0., 0.,\n",
       "       0., 0., 0., 0., 0., 0., 0., 0., 0., 0., 0., 0., 0., 0., 0., 0., 0.,\n",
       "       0., 0., 0., 0., 0., 0., 0., 0., 0., 0., 0., 0., 0., 0., 0., 0., 0.,\n",
       "       0., 0., 0., 0., 0., 0., 0., 0., 0., 0., 0., 0., 0., 0., 0., 0., 0.,\n",
       "       0., 0., 0., 0., 0., 0., 0., 0., 0., 0., 0., 0., 0., 0., 0., 0., 0.,\n",
       "       0., 0., 0., 0., 0., 0., 0., 0., 0., 0., 0., 0., 0., 0., 0., 0., 0.,\n",
       "       0., 0., 0., 0., 0., 0., 0., 0., 0., 0., 0., 0., 0., 0., 0., 0., 0.,\n",
       "       0., 0., 0., 0., 0., 0., 0., 0., 0., 0., 0., 0., 0.])"
      ]
     },
     "execution_count": 22,
     "metadata": {},
     "output_type": "execute_result"
    }
   ],
   "source": [
    "np.zeros(data.shape[0])"
   ]
  },
  {
   "cell_type": "code",
   "execution_count": 9,
   "id": "c54bca4f-9a51-48c4-86a5-6edc57c97ee5",
   "metadata": {},
   "outputs": [],
   "source": [
    "# plot E/E_max with Ronan's data\n",
    "\n",
    "# read the data\n",
    "\n",
    "# 1st column - E/E_max\n",
    "# 2nd column - angle\n",
    "# 3rd column - error bar\n",
    "\n",
    "data_folder = '/Users/yao/Nextcloud/PROJECTS/Apollon/F2-DPM-2022/Ronan_analysis/Data/'\n",
    "\n",
    "l800 = np.loadtxt(data_folder + 'Beam_Divergence_Al-800nm.txt')\n",
    "l150 = np.loadtxt(data_folder + 'Beam_Divergence_Si-100nm_Al-50nm.txt')\n",
    "l20  = np.loadtxt(data_folder + 'Beam_Divergence_Si-20nm.txt')\n",
    "mod  = np.loadtxt(data_folder + 'divergence.txt')"
   ]
  },
  {
   "cell_type": "code",
   "execution_count": 10,
   "id": "f6b6a3ce-a42a-4ad2-8fae-15c56eff7f1f",
   "metadata": {},
   "outputs": [
    {
     "data": {
      "text/plain": [
       "array([ 0.027,  2.339,  1.977,  1.317,  4.239,  7.147,  7.279,  8.924,\n",
       "       15.309])"
      ]
     },
     "execution_count": 10,
     "metadata": {},
     "output_type": "execute_result"
    }
   ],
   "source": [
    "l800[:,2]"
   ]
  },
  {
   "cell_type": "code",
   "execution_count": 11,
   "id": "4f111623-d05b-41d0-95eb-27c4a06b16d7",
   "metadata": {},
   "outputs": [],
   "source": [
    "plt.rc('text', usetex=False)\n",
    "plt.rc('xtick', labelsize=10)\n",
    "plt.rc('ytick', labelsize=10)\n",
    "plt.rc('axes', labelsize=10)\n",
    "plt.rc('legend', fontsize=8)"
   ]
  },
  {
   "cell_type": "code",
   "execution_count": 17,
   "id": "9745f5a9-1624-47e9-8cf3-5b0cc1e894e4",
   "metadata": {},
   "outputs": [],
   "source": [
    "width  = 3.487 * 1.0\n",
    "height = width #/ 1.618 * 1.0\n",
    "\n",
    "fig, ax = plt.subplots()\n",
    "fig.subplots_adjust(left=.15, bottom=.16, right=.99, top=.97)\n",
    "\n",
    "ax.errorbar(l800[:,0], l800[:,1]/2., \n",
    "            yerr=l800[:,2], \n",
    "            fmt='sb',markersize=4,\n",
    "            mfc='b',\n",
    "            ecolor='b',elinewidth=1.0,\n",
    "            capsize=2.0, capthick = 1.0,\n",
    "            label='Direct shots (800 nm)'\n",
    "           )\n",
    "\n",
    "ax.errorbar(l150[:,0], l150[:,1]/2., \n",
    "            yerr=l150[:,2], \n",
    "            fmt='or',markersize=4,\n",
    "            mfc='none',\n",
    "            ecolor='r',elinewidth=1.0,\n",
    "            capsize=2.0, capthick = 1.0,\n",
    "            label='DPM shots (150 nm)'\n",
    "           )\n",
    "\n",
    "ax.errorbar(l20[:,0], l20[:,1]/2., \n",
    "            yerr=l20[:,2], \n",
    "            fmt='or',markersize=4,\n",
    "            mfc='r',\n",
    "            ecolor='r',elinewidth=1.0,\n",
    "            capsize=2.0, capthick = 1.0,\n",
    "            label='DPM shots (20 nm)'\n",
    "           )\n",
    "\n",
    "ax.plot(mod[:,0], mod[:,1],'--k',lw=2.0)\n",
    "# ax.set_yscale('log')\n",
    "\n",
    "ax.set_xlim([0,1.2])\n",
    "ax.set_ylim([0,30])\n",
    "# ax.grid(linestyle='--',alpha=0.5)\n",
    "ax.set_xlabel(r'Normalized energy (E/E$_{\\rm max}$)')\n",
    "ax.set_ylabel(r'Beam divergence ($\\degree$)')\n",
    "ax.legend(fancybox=False, frameon=False)\n",
    "# ax.legend()\n",
    "fig.set_size_inches(width, height)\n",
    "fig.tight_layout()\n",
    "\n",
    "plt.show()"
   ]
  },
  {
   "cell_type": "code",
   "execution_count": 18,
   "id": "ab4989e0-61cd-4351-8b58-a01f1c18efaf",
   "metadata": {},
   "outputs": [],
   "source": [
    "fig.savefig('/Users/yao/Desktop/beam_divergence2.pdf',dpi=600)"
   ]
  },
  {
   "cell_type": "markdown",
   "id": "73b5bc73-dd5b-4bac-9c54-50e39637672c",
   "metadata": {},
   "source": [
    "## x-px "
   ]
  },
  {
   "cell_type": "code",
   "execution_count": 137,
   "id": "4cba89e7-12ce-481e-94e3-d78a2a692b81",
   "metadata": {},
   "outputs": [],
   "source": [
    "xpx2 = np.array(S2.ParticleBinning(0, units=['um','fs','MeV'],data_log=True).getData())\n",
    "xx2  = np.array(S2.ParticleBinning(0, units=['um','fs','MeV']).getAxis('x'))\n",
    "px2  = np.array(S2.ParticleBinning(0, units=['um','fs','MeV']).getAxis('px'))\n",
    "tt2  = np.array(S2.ParticleBinning(0, units=['um','fs','MeV']).getTimes())\n",
    "ts2  = np.array(S2.ParticleBinning(0, units=['um','fs','MeV']).getTimesteps())\n",
    "\n",
    "xpx0 = np.array(S0.ParticleBinning(0, units=['um','fs','MeV'],data_log=True).getData())\n",
    "xx0  = np.array(S0.ParticleBinning(0, units=['um','fs','MeV']).getAxis('x'))\n",
    "px0  = np.array(S0.ParticleBinning(0, units=['um','fs','MeV']).getAxis('px'))\n",
    "tt0  = np.array(S0.ParticleBinning(0, units=['um','fs','MeV']).getTimes())\n",
    "ts0  = np.array(S0.ParticleBinning(0, units=['um','fs','MeV']).getTimesteps())"
   ]
  },
  {
   "cell_type": "code",
   "execution_count": 153,
   "id": "3cc89b85-2701-4bcf-bde1-43bab4856fa1",
   "metadata": {},
   "outputs": [
    {
     "name": "stderr",
     "output_type": "stream",
     "text": [
      "/var/folders/2t/97rc3fl92tg15k2l_4sk5hsh0000gn/T/ipykernel_24424/2967060559.py:71: UserWarning: This figure includes Axes that are not compatible with tight_layout, so results might be incorrect.\n",
      "  fig.tight_layout()\n"
     ]
    }
   ],
   "source": [
    "from mpl_toolkits.axes_grid1 import make_axes_locatable\n",
    "from mpl_toolkits.axes_grid1 import ImageGrid\n",
    "\n",
    "idt = 5\n",
    "\n",
    "width  = 3.487 * 1.5\n",
    "height = width / 1.618 * 1.0\n",
    "\n",
    "fig = plt.figure(figsize=(width, height))\n",
    "# fig = plt.figure()\n",
    "\n",
    "# fig, ax = plt.subplots()\n",
    "# fig.subplots_adjust(left=.15, bottom=.16, right=.99, top=.97)\n",
    "\n",
    "grid = ImageGrid(fig, 111,          # as in plt.subplot(111)\n",
    "                 nrows_ncols=(1,2),\n",
    "                 axes_pad=0.35,\n",
    "                 share_all=True,\n",
    "                 cbar_location=\"right\",\n",
    "                 cbar_mode=\"single\",\n",
    "                 cbar_size=\"5%\",\n",
    "                 cbar_pad=0.1,\n",
    "                 )\n",
    "\n",
    "im0 = grid[0].imshow((xpx0[30].T),\n",
    "           # cmap='inferno_r',\n",
    "           cmap=newcmap,\n",
    "           origin='lower',\n",
    "           extent=[xx0[0],xx0[-1],px0[0],px0[-1]],\n",
    "           vmin=-4,\n",
    "           vmax=0,\n",
    "           aspect=0.025,\n",
    "          )\n",
    "\n",
    "im1 = grid[1].imshow((xpx2[idt*8].T),\n",
    "           # cmap='inferno_r',\n",
    "                                          cmap=newcmap,\n",
    "           origin='lower',\n",
    "           extent=[xx2[0],xx2[-1],px2[0],px2[-1]],\n",
    "           vmin=-4,\n",
    "           vmax=0,\n",
    "          aspect=0.025,\n",
    "          )\n",
    "\n",
    "grid[0].set_xlim(10,20)\n",
    "grid[1].set_xlim(10,20)\n",
    "grid[1].set_ylim(0,400)\n",
    "grid[0].set_ylim(0,400)\n",
    "grid[0].set_xlabel(r'x ($\\mu$m)')\n",
    "grid[1].set_xlabel(r'x ($\\mu$m)')\n",
    "grid[0].set_ylabel(r'$p_x$ ($m_ec$)')\n",
    "# grid[0].set_xticks([0, 7, 14,  21])\n",
    "# grid[1].set_xticks([1, 6, 11, 16, 21])\n",
    "# grid[0].set_yticks([0, 7, 14, 21, 28, 35, 42])\n",
    "# grid[0].set_yticks([7, 14, 21, 28, 35])\n",
    "# grid[0].set_title('time = {:.1f} fs'.format(tt2[3]))\n",
    "# grid[1].set_title('time = {:.1f} fs'.format(tt2[4]))\n",
    "grid[0].grid(linestyle='--',color='grey',alpha=0.5)\n",
    "grid[1].grid(linestyle='--',color='grey',alpha=0.5)\n",
    "\n",
    "# Colorbar\n",
    "grid[1].cax.colorbar(im1)\n",
    "grid[1].cax.cla()\n",
    "mpl.colorbar.Colorbar(grid[1].cax,im1)\n",
    "cax = grid.cbar_axes[0]\n",
    "axis = cax.axis[cax.orientation]\n",
    "# axis.label.set_text(r'$\\log_{10} \\varepsilon_{kin}$ (keV)')\n",
    "# grid[1].cax.toggle_label(r'$n_p (cm^{-3})$')\n",
    "# grid[1].cax.tick_params(size=0)\n",
    "# grid[1].cax.toggle_label(True)\n",
    "fig.tight_layout()\n",
    "fig.set_size_inches(width, height)\n",
    "plt.show()"
   ]
  },
  {
   "cell_type": "code",
   "execution_count": 154,
   "id": "66a45a85-b112-401d-a0a1-eaade4081e60",
   "metadata": {},
   "outputs": [],
   "source": [
    "fig.savefig('/Users/yao/Desktop/xpx_55fs.pdf',dpi=600)"
   ]
  },
  {
   "cell_type": "code",
   "execution_count": 121,
   "id": "490d2eaa-ec26-401c-b5fb-5aff0db3b06e",
   "metadata": {},
   "outputs": [
    {
     "name": "stderr",
     "output_type": "stream",
     "text": [
      "/var/folders/2t/97rc3fl92tg15k2l_4sk5hsh0000gn/T/ipykernel_24424/679647690.py:1: RuntimeWarning: divide by zero encountered in log10\n",
      "  np.log10(xpx2[3].T).max()\n"
     ]
    },
    {
     "data": {
      "text/plain": [
       "0.5460726504736202"
      ]
     },
     "execution_count": 121,
     "metadata": {},
     "output_type": "execute_result"
    }
   ],
   "source": [
    "np.log10(xpx2[3].T).max()"
   ]
  },
  {
   "cell_type": "code",
   "execution_count": 128,
   "id": "abac2358-4ae7-4d05-9ab0-93ffd0e4af04",
   "metadata": {},
   "outputs": [
    {
     "name": "stdout",
     "output_type": "stream",
     "text": [
      "\n",
      "#0 - Number density of species # 3\n",
      "    x from 0 to 125.664 in 200 steps \n",
      "    px from -200 to 600 in 400 steps \n",
      "\n",
      "The value in each bin is the sum of the `deposited_quantity` divided by the bin size and by grid_length[1]\n",
      "\n"
     ]
    }
   ],
   "source": [
    "S2.ParticleBinning(0, units=['um','fs','MeV','V/m','T'],data_log=True,\n",
    "                  cmap='jet',\n",
    "                  vmin=-4,\n",
    "                  vmax=1).slide()"
   ]
  },
  {
   "cell_type": "code",
   "execution_count": 132,
   "id": "484bd795-7871-41ee-bc70-11aabbb8a9d0",
   "metadata": {},
   "outputs": [
    {
     "data": {
      "text/plain": [
       "21.09254729094142"
      ]
     },
     "execution_count": 132,
     "metadata": {},
     "output_type": "execute_result"
    }
   ],
   "source": [
    "xx2[-1]"
   ]
  },
  {
   "cell_type": "code",
   "execution_count": 142,
   "id": "e05d54ab-f9fa-4e32-b046-ba0a751a281a",
   "metadata": {},
   "outputs": [
    {
     "data": {
      "text/plain": [
       "1168.9522395833335"
      ]
     },
     "execution_count": 142,
     "metadata": {},
     "output_type": "execute_result"
    }
   ],
   "source": [
    "ttf[9]"
   ]
  },
  {
   "cell_type": "code",
   "execution_count": 140,
   "id": "283f39af-cf63-4a3a-bab8-8044aeeb0e2d",
   "metadata": {},
   "outputs": [
    {
     "data": {
      "text/plain": [
       "array([ 991.875     , 1011.16145833, 1030.44791667, 1049.734375  ,\n",
       "       1069.02083333, 1088.30729167, 1107.59375   , 1126.88020833,\n",
       "       1146.16666667, 1165.453125  , 1184.73958333])"
      ]
     },
     "execution_count": 140,
     "metadata": {},
     "output_type": "execute_result"
    }
   ],
   "source": [
    "tti"
   ]
  },
  {
   "cell_type": "code",
   "execution_count": 141,
   "id": "c78f23e2-5409-4c93-900e-04ad17a3032a",
   "metadata": {},
   "outputs": [
    {
     "data": {
      "text/plain": [
       "array([ 991.875     , 1011.16145833, 1030.44791667, 1049.734375  ,\n",
       "       1069.02083333, 1088.30729167, 1107.59375   , 1126.88020833,\n",
       "       1146.16666667, 1165.453125  , 1184.73958333])"
      ]
     },
     "execution_count": 141,
     "metadata": {},
     "output_type": "execute_result"
    }
   ],
   "source": [
    "tte"
   ]
  },
  {
   "cell_type": "code",
   "execution_count": 144,
   "id": "d844ee46-85e6-465d-8d2c-1f405fdfd4a3",
   "metadata": {},
   "outputs": [
    {
     "data": {
      "text/plain": [
       "1167.9328125"
      ]
     },
     "execution_count": 144,
     "metadata": {},
     "output_type": "execute_result"
    }
   ],
   "source": [
    "tt0[30]"
   ]
  },
  {
   "cell_type": "code",
   "execution_count": null,
   "id": "b19f0c07-f541-4d26-941d-3b3918fcedbf",
   "metadata": {},
   "outputs": [],
   "source": []
  }
 ],
 "metadata": {
  "kernelspec": {
   "display_name": "Python 3 (ipykernel)",
   "language": "python",
   "name": "python3"
  },
  "language_info": {
   "codemirror_mode": {
    "name": "ipython",
    "version": 3
   },
   "file_extension": ".py",
   "mimetype": "text/x-python",
   "name": "python",
   "nbconvert_exporter": "python",
   "pygments_lexer": "ipython3",
   "version": "3.9.18"
  }
 },
 "nbformat": 4,
 "nbformat_minor": 5
}
