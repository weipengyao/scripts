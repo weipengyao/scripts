{
 "cells": [
  {
   "cell_type": "code",
   "execution_count": 1,
   "id": "d99eb5fc-b4ba-4920-8ae3-a9f11ec2f9f8",
   "metadata": {},
   "outputs": [
    {
     "name": "stderr",
     "output_type": "stream",
     "text": [
      "2023-11-22 15:41:07.583 Python[55182:1065990] WARNING: Secure coding is not enabled for restorable state! Enable secure coding by implementing NSApplicationDelegate.applicationSupportsSecureRestorableState: and returning YES.\n"
     ]
    }
   ],
   "source": [
    "%matplotlib qt"
   ]
  },
  {
   "cell_type": "code",
   "execution_count": 2,
   "id": "fb6d30b9-ac47-4d4a-ae78-1491e6ab5d07",
   "metadata": {},
   "outputs": [
    {
     "name": "stderr",
     "output_type": "stream",
     "text": [
      "/var/folders/2t/97rc3fl92tg15k2l_4sk5hsh0000gn/T/ipykernel_55182/616493249.py:6: MatplotlibDeprecationWarning: The get_cmap function was deprecated in Matplotlib 3.7 and will be removed two minor releases later. Use ``matplotlib.colormaps[name]`` or ``matplotlib.colormaps.get_cmap(obj)`` instead.\n",
      "  jetcmap = plt.cm.get_cmap(\"jet\", 9) #generate a jet map with 10 values \"rainbow\", \"jet\", YlOrRd\n"
     ]
    }
   ],
   "source": [
    "import matplotlib as mpl\n",
    "import happi\n",
    "import numpy as np\n",
    "import matplotlib.pyplot as plt\n",
    "\n",
    "jetcmap = plt.cm.get_cmap(\"jet\", 9) #generate a jet map with 10 values \"rainbow\", \"jet\", YlOrRd\n",
    "jet_vals = jetcmap(np.arange(9)) #extract those values as an array \n",
    "jet_vals[0] = [1.0, 1, 1.0, 1] #change the first value \n",
    "jet_vals[8] = [0.0, 0, 0.0, 1] #change the first value \n",
    "newcmap = mpl.colors.LinearSegmentedColormap.from_list(\"mine\", jet_vals) "
   ]
  },
  {
   "cell_type": "code",
   "execution_count": 3,
   "id": "60d7580f-f217-4f10-a506-1aca12c1ccbe",
   "metadata": {},
   "outputs": [],
   "source": [
    "wkdir = [\n",
    "    '/Users/yao/Desktop/Data/DPM_Al1.5um_t15/',\n",
    "    # '/Users/yao/Desktop/Data/DPM_Si200nm_Al50nm_t13/DPM_Si200nm_Al50nm_t13_r1/', # 70% laser energy\n",
    "    '/Users/yao/Desktop/Data/DPM_Si200nm_Al50nm_t10_r1/',  # 50%\n",
    "    '/Users/yao/Desktop/Data/DPM_Si200nm_Al50nm_t10_r0/',\n",
    "    ]"
   ]
  },
  {
   "cell_type": "code",
   "execution_count": 5,
   "id": "10e9b194-deae-4649-897a-b4534090a099",
   "metadata": {},
   "outputs": [
    {
     "name": "stdout",
     "output_type": "stream",
     "text": [
      "Loaded simulation '/Users/yao/Desktop/Data/DPM_Al1.5um_t15/'\n",
      "Scanning for Scalar diagnostics\n",
      "Scanning for Field diagnostics\n",
      "Scanning for Probe diagnostics\n",
      "Scanning for ParticleBinning diagnostics\n",
      "Scanning for RadiationSpectrum diagnostics\n",
      "Scanning for Performance diagnostics\n",
      "Scanning for Screen diagnostics\n",
      "Scanning for Tracked particle diagnostics\n",
      "Loaded simulation '/Users/yao/Desktop/Data/DPM_Si200nm_Al50nm_t10_r1/'\n",
      "Scanning for Scalar diagnostics\n",
      "Scanning for Field diagnostics\n",
      "Scanning for Probe diagnostics\n",
      "Scanning for ParticleBinning diagnostics\n",
      "Scanning for RadiationSpectrum diagnostics\n",
      "Scanning for Performance diagnostics\n",
      "Scanning for Screen diagnostics\n",
      "Scanning for Tracked particle diagnostics\n",
      "Loaded simulation '/Users/yao/Desktop/Data/DPM_Si200nm_Al50nm_t10_r0/'\n",
      "Scanning for Scalar diagnostics\n",
      "Scanning for Field diagnostics\n",
      "Scanning for Probe diagnostics\n",
      "Scanning for ParticleBinning diagnostics\n",
      "Scanning for RadiationSpectrum diagnostics\n",
      "Scanning for Performance diagnostics\n",
      "Scanning for Screen diagnostics\n",
      "Scanning for Tracked particle diagnostics\n"
     ]
    }
   ],
   "source": [
    "S0 = happi.Open(wkdir[0], reference_angular_frequency_SI = 2.*np.pi*3e8/1.058e-6)\n",
    "S1 = happi.Open(wkdir[1], reference_angular_frequency_SI = 2.*np.pi*3e8/1.058e-6)\n",
    "S2 = happi.Open(wkdir[2], reference_angular_frequency_SI = 2.*np.pi*3e8/1.058e-6)"
   ]
  },
  {
   "cell_type": "code",
   "execution_count": 6,
   "id": "6b1a4ace-a0d1-440d-bba2-f3b2f337ec65",
   "metadata": {},
   "outputs": [],
   "source": [
    "plt.rc('font', family='sans-serif', serif='Arial')\n",
    "plt.rc('text', usetex=False)\n",
    "plt.rc('xtick', labelsize=12)\n",
    "plt.rc('ytick', labelsize=12)\n",
    "plt.rc('axes', labelsize=12)\n",
    "plt.rc('legend', fontsize=12)\n",
    "\n",
    "width  = 3.487\n",
    "height = width / 1.618 * 1.5"
   ]
  },
  {
   "cell_type": "code",
   "execution_count": 6,
   "id": "6ed71c24-e4ef-4060-a4d1-272dd494fbb3",
   "metadata": {},
   "outputs": [],
   "source": [
    "## w/o DPM - 1.5 um Al\n",
    "#shot 193\n",
    "exp_energy_193  = np.array([4.71,    7.76,   10.01,  12.64,  14.78,  16.70,  18.97,  20.89,  22.55,  24.00,  25.25]) \n",
    "exp_number_193  = np.array([6.79e9, 4.92e9, 2.51e9, 1.39e9, 4.73e8, 3.53e8, 9.26e7, 5.53e7, 4.00e7, 2.91e7, 2.15e7]) \n",
    "\n",
    "#shot 194\n",
    "exp_energy_194  = np.array([4.83,    7.90,   10.16,  12.79,  14.92,  16.82,  19.07,  20.95,  22.58,  24.01,  25.25]) \n",
    "exp_number_194  = np.array([5.78e9, 4.54e9, 1.63e9, 9.77e8, 6.50e8, 4.35e8, 2.09e8, 7.92e7, 5.43e7, 4.37e7, 3.35e7]) "
   ]
  },
  {
   "cell_type": "code",
   "execution_count": 7,
   "id": "b7dc49ee-141b-49b2-b212-beab034ed78b",
   "metadata": {},
   "outputs": [],
   "source": [
    "exp_energy_nodpm = np.mean(np.stack((exp_energy_193, exp_energy_194)), axis=0)\n",
    "exp_energy_nodpm_xerr_min = np.stack((exp_energy_193, exp_energy_194)).min(axis=0)\n",
    "exp_energy_nodpm_xerr_max = np.stack((exp_energy_193, exp_energy_194)).max(axis=0)\n",
    "exp_energy_nodpm_xerr = np.stack((np.abs(exp_energy_nodpm_xerr_min - exp_energy_nodpm), \n",
    "                                  np.abs(exp_energy_nodpm_xerr_max - exp_energy_nodpm))\n",
    "                                ).min(axis=0)\n",
    "\n",
    "exp_number_nodpm = np.mean(np.stack((exp_number_193, exp_number_194)), axis=0)\n",
    "exp_number_nodpm_yerr_min = np.stack((exp_number_193, exp_number_194)).min(axis=0)\n",
    "exp_number_nodpm_yerr_max = np.stack((exp_number_193, exp_number_194)).max(axis=0)\n",
    "exp_number_nodpm_yerr = np.stack((np.abs(exp_number_nodpm_yerr_min - exp_number_nodpm), \n",
    "                                  np.abs(exp_number_nodpm_yerr_max - exp_number_nodpm))\n",
    "                                ).min(axis=0)"
   ]
  },
  {
   "cell_type": "code",
   "execution_count": 8,
   "id": "7f51cdd5-aaf2-45ac-918e-03dc15cbdb55",
   "metadata": {},
   "outputs": [],
   "source": [
    "## with DPM - 200 nm Si + 50 nm Al\n",
    "# #shot 115\n",
    "# exp_energy_115 = np.array([4.47, 7.42, 9.55, 11.92, 13.71, 15.12])\n",
    "# exp_number_115 = np.array([2.263e9, 1.185e9, 5.523e8, 1.790e8, 5.399e7, 3.149e7])\n",
    "\n",
    "#shot 56\n",
    "exp_energy_56  = np.array([4.9,         8.0,    10.3,    13.0,    15.1,    17.1,    19.5,    21.5,    23.4,    25.0,    26.5,    28.1,    29.5,   30.9,   33.67,   35.17]) \n",
    "exp_number_56  = np.array([2.71e9,   2.29e9,  1.30e9,  8.10e8,  6.20e8,  2.78e8,  2.53e8,  1.10e8,  7.93e7,  5.87e7,  3.91e7,  1.96e7,  1.25e7, 1.01e7, 5.565e6, 5.165e6]) \n",
    "\n",
    "#shot 111\n",
    "exp_energy_111 = np.array([4.49,       7.74,   10.01,   12.67,   14.87,   16.88,   19.33,   21.47,   23.42,   25.23,   26.90,   28.75,   30.37,   32.03,   33.67,   35.17])\n",
    "exp_number_111 = np.array([4.333e9, 4.103e9, 2.892e9, 1.386e9, 1.074e9, 4.606e8, 2.639e8, 1.605e8, 9.902e7, 7.454e7, 4.993e7, 2.849e7, 2.184e7, 1.170e7, 5.565e6, 5.165e6])\n",
    "\n",
    "#shot 112\n",
    "exp_energy_112 = np.array([4.76,       7.83,   10.10,   12.76,   14.95,   16.94,   19.34,   21.41,   23.26,   24.95,   26.48,   28.14,   29.57,   30.95,   33.67,   35.17])\n",
    "exp_number_112 = np.array([3.252e9, 2.844e9, 1.888e9, 1.286e9, 8.366e8, 3.199e8, 2.005e8, 1.081e8, 6.068e7, 3.840e7, 3.108e7, 1.871e7, 1.021e7, 1.428e7, 5.565e6, 5.165e6])\n",
    "\n",
    "# #shot 216\n",
    "# exp_energy_216  = np.array([4.54,      7.53,    9.73,   12.27,    14.3,   16.05,   17.99,   19.48,]) \n",
    "# exp_number_216  = np.array([2.25e9,  1.36e9,  7.65e8,  2.76e8,  1.01e8,  5.01e7,  1.74e7,  1.20e7,]) "
   ]
  },
  {
   "cell_type": "code",
   "execution_count": 9,
   "id": "c5958f32-69b5-4bf5-931a-dff88f99be2f",
   "metadata": {},
   "outputs": [],
   "source": [
    "exp_energy_dpm_data     = np.stack((exp_energy_56, exp_energy_111, exp_energy_112))\n",
    "exp_energy_dpm          = np.mean(exp_energy_dpm_data, axis=0)\n",
    "exp_energy_dpm_xerr_min = exp_energy_dpm_data.min(axis=0)\n",
    "exp_energy_dpm_xerr_max = exp_energy_dpm_data.max(axis=0)\n",
    "exp_energy_dpm_xerr     = np.stack((np.abs(exp_energy_dpm_xerr_min - exp_energy_dpm), \n",
    "                                    np.abs(exp_energy_dpm_xerr_max - exp_energy_dpm))\n",
    "                                  ).min(axis=0)\n",
    "\n",
    "exp_number_dpm_data     = np.stack((exp_number_56, exp_number_111, exp_number_112))\n",
    "exp_number_dpm          = np.mean(exp_number_dpm_data, axis=0)\n",
    "exp_number_dpm_yerr_min = exp_number_dpm_data.min(axis=0)\n",
    "exp_number_dpm_yerr_max = exp_number_dpm_data.max(axis=0)\n",
    "exp_number_dpm_yerr     = np.stack((np.abs(exp_number_dpm_yerr_min - exp_number_dpm), \n",
    "                                    np.abs(exp_number_dpm_yerr_max - exp_number_dpm))\n",
    "                                  ).min(axis=0)"
   ]
  },
  {
   "cell_type": "code",
   "execution_count": 10,
   "id": "4636b051-3bb5-4e26-8e72-ab5e6f0f694a",
   "metadata": {},
   "outputs": [],
   "source": [
    "## prepare the simulation data\n",
    "\n",
    "yrange_ndpm = [0*S0.namelist.l0, 40*S0.namelist.l0]   # 22.76\n",
    "fitting_factor_ndpm = 5e10 * 70 #5e10 * 50\n",
    "ene_ndpm = S0.Screen(2, units=['um','fs','MeV'],sum={'y':yrange_ndpm},).getData()\n",
    "\n",
    "yrange_wdpm = [0*S1.namelist.l0, 40*S1.namelist.l0]   # 22.76\n",
    "fitting_factor_wdpm = 5e11 * 4.5\n",
    "ene_wdpm = S1.Screen(2, units=['um','fs','MeV'],sum={'y':yrange_wdpm},).getData()\n",
    "\n",
    "xx  = S0.Screen(2, units=['um','fs','MeV']).getAxis('ekin')\n",
    "tt  = S0.Screen(2, units=['um','fs','MeV']).getTimes()"
   ]
  },
  {
   "cell_type": "code",
   "execution_count": 89,
   "id": "a7963f8a-079b-4498-9a76-c6eebe09dd55",
   "metadata": {},
   "outputs": [],
   "source": [
    "np.savetxt('/Users/yao/Desktop/energy.txt',xx)"
   ]
  },
  {
   "cell_type": "code",
   "execution_count": 90,
   "id": "c34c08bf-9710-4841-9b2c-3f8cbe51f918",
   "metadata": {},
   "outputs": [],
   "source": [
    "np.savetxt('/Users/yao/Desktop/dNdE_woDPM.txt',ene_ndpm[-1]*fitting_factor_ndpm)"
   ]
  },
  {
   "cell_type": "code",
   "execution_count": 91,
   "id": "12ac3dfc-91bb-4617-bd62-f5ba84e63fb7",
   "metadata": {},
   "outputs": [],
   "source": [
    "np.savetxt('/Users/yao/Desktop/dNdE_withDPM.txt',ene_wdpm[-1]*fitting_factor_wdpm)"
   ]
  },
  {
   "cell_type": "code",
   "execution_count": 11,
   "id": "87d85126-6fd0-44f7-a50f-62dc8a6b9c5b",
   "metadata": {},
   "outputs": [],
   "source": [
    "fig, ax = plt.subplots()\n",
    "fig.subplots_adjust(left=.15, bottom=.16, right=.99, top=.97)\n",
    "\n",
    "# experiment\n",
    "ax.errorbar(exp_energy_nodpm, exp_number_nodpm, \n",
    "            yerr=exp_number_nodpm_yerr, \n",
    "            xerr=exp_energy_nodpm_xerr,\n",
    "            fmt='.b',markersize=4,\n",
    "            mfc='none',\n",
    "            ecolor='b',elinewidth=1.0,\n",
    "            capsize=2.0, capthick = 1.0,\n",
    "            label='Exp. no DPM'\n",
    "           )\n",
    "\n",
    "# fitting\n",
    "xf = np.linspace(0,25, 100)\n",
    "yf = 7.104e10 * np.exp(-3.302e-1 * xf)\n",
    "ax.plot(xf, yf, linewidth=1, linestyle='-.', color='m', label='Fit    no DPM')\n",
    "\n",
    "# simulation\n",
    "ax.semilogy(xx,ene_ndpm[-1]*fitting_factor_ndpm, color='b',lw=1.0,\n",
    "             linestyle='-',\n",
    "             # label='PIC at t = {:.1f} fs'.format(tt[-1]),\n",
    "            label='Sim. no DPM',\n",
    "           )\n",
    "\n",
    "\n",
    "\n",
    "# x = (exp_energy_193 + exp_energy_194) / 2.\n",
    "# y1 = np.asarray([exp_number_193, exp_number_194]).min(0)\n",
    "# y2 = np.asarray([exp_number_193, exp_number_194]).max(0)\n",
    "# ax.fill_between(x, y1, y2, alpha=0.3, color='blue', lw=0)\n",
    "# ax.plot(x, (y1 + y2)/2, linewidth=0, marker='s', markersize=4, color='blue', label='Exp. no DPM')\n",
    "\n",
    "\n",
    "ax.errorbar(exp_energy_dpm, exp_number_dpm, \n",
    "            yerr=exp_number_dpm_yerr, \n",
    "            xerr=exp_energy_dpm_xerr,\n",
    "            fmt='.r',markersize=4,\n",
    "            mfc='none',mew=1.0,\n",
    "            ecolor='r',elinewidth=1.0,\n",
    "            capsize=2.0, capthick = 1.0,\n",
    "            label='Exp. w/ DPM'\n",
    "           )\n",
    "\n",
    "# fitting\n",
    "xf = np.linspace(0,36, 100)\n",
    "yf = 3.369e10 * np.exp(-2.482e-1 * xf)\n",
    "ax.plot(xf, yf, linewidth=1, linestyle=':', color='k', label='Fit    w/ DPM')\n",
    "\n",
    "\n",
    "# simulation\n",
    "ax.semilogy(xx,ene_wdpm[-1]*fitting_factor_wdpm, color='r',lw=1.0,\n",
    "             linestyle='--',\n",
    "            label='Sim. w/ DPM',\n",
    "           )\n",
    "\n",
    "# experiment\n",
    "# x = (exp_energy_56 + exp_energy_111[:-2] + exp_energy_112) / 3.\n",
    "# y1 = np.asarray([exp_number_56, exp_number_111[:-2], exp_number_112]).min(0)\n",
    "# y2 = np.asarray([exp_number_56, exp_number_111[:-2], exp_number_112]).max(0)\n",
    "# ax.fill_between(x, y1, y2, alpha=0.3, color='red', lw=0)\n",
    "# ax.plot(x, (y1 + y2)/2, linewidth=0, marker='^', markersize=4, color='red', label='Exp. w/ DPM')\n",
    "\n",
    "\n",
    "\n",
    "\n",
    "\n",
    "\n",
    "ax.set_xlim([0,36])\n",
    "ax.set_ylim([1e6,1e11])\n",
    "# ax.grid(linestyle='--',alpha=0.5)\n",
    "ax.set_xlabel('Energy (MeV)')\n",
    "ax.set_ylabel('dN/dE (No./MeV)')\n",
    "ax.legend(fancybox=False, reverse=True, frameon=False)\n",
    "fig.set_size_inches(width, height)\n",
    "fig.tight_layout()\n",
    "\n",
    "plt.show()"
   ]
  },
  {
   "cell_type": "code",
   "execution_count": 61,
   "id": "db3917a2-c163-436c-990d-c36e4e34d737",
   "metadata": {},
   "outputs": [],
   "source": [
    "fig.savefig('/Users/yao/Desktop/fig2_spec.pdf',dpi=600)"
   ]
  },
  {
   "cell_type": "code",
   "execution_count": 12,
   "id": "ea889f6e-e4a4-4d14-912b-003907c1ca07",
   "metadata": {},
   "outputs": [],
   "source": [
    "width  = 3.487 * 1.2\n",
    "height = width / 1.618 * 1.2\n",
    "\n",
    "fig, ax = plt.subplots()\n",
    "fig.subplots_adjust(left=.15, bottom=.16, right=.99, top=.97)\n",
    "\n",
    "# simulation\n",
    "ax.semilogy(xx,ene_ndpm[-1]*fitting_factor_ndpm, color='b',lw=1.0,\n",
    "             linestyle='-',\n",
    "             # label='PIC at t = {:.1f} fs'.format(tt[-1]),\n",
    "            label=r'Sim. no DPM',\n",
    "           )\n",
    "\n",
    "# # experiment\n",
    "# x = (exp_energy_193 + exp_energy_194) / 2.\n",
    "# y1 = np.asarray([exp_number_193, exp_number_194]).min(0)\n",
    "# y2 = np.asarray([exp_number_193, exp_number_194]).max(0)\n",
    "# ax.fill_between(x, y1, y2, alpha=0.3, color='blue', lw=0)\n",
    "# ax.plot(x, (y1 + y2)/2, linewidth=0, marker='s', markersize=4, color='blue', label='Exp. no DPM')\n",
    "\n",
    "# fitting\n",
    "xf = np.linspace(0,25, 100)\n",
    "yf = 7.104e10 * np.exp(-3.302e-1 * xf)\n",
    "ax.plot(xf, yf, linewidth=1, linestyle='--', color='blue', label='Fit. no DPM')\n",
    "\n",
    "\n",
    "# simulation\n",
    "ax.semilogy(xx,ene_wdpm[-1]*fitting_factor_wdpm, color='r',lw=1.0,\n",
    "             linestyle='-',\n",
    "            label=r'Sim. w/ DPM',\n",
    "           )\n",
    "\n",
    "# # experiment\n",
    "# x = (exp_energy_56 + exp_energy_111[:-2] + exp_energy_112) / 3.\n",
    "# y1 = np.asarray([exp_number_56, exp_number_111[:-2], exp_number_112]).min(0)\n",
    "# y2 = np.asarray([exp_number_56, exp_number_111[:-2], exp_number_112]).max(0)\n",
    "# ax.fill_between(x, y1, y2, alpha=0.3, color='red', lw=0)\n",
    "# ax.plot(x, (y1 + y2)/2, linewidth=0, marker='^', markersize=4, color='red', label='Exp. w/ DPM')\n",
    "\n",
    "# fitting\n",
    "xf = np.linspace(0,35, 100)\n",
    "yf = 3.369e10 * np.exp(-2.482e-1 * xf)\n",
    "ax.plot(xf, yf, linewidth=1, linestyle='--', color='red', label='Fit w. DPM')\n",
    "\n",
    "\n",
    "ax.scatter(exp_energy_56, exp_number_56, color='green', marker='s',\n",
    "            s=24,\n",
    "            label='#56 w. DPM')\n",
    "ax.scatter(exp_energy_111, exp_number_111, color='red', marker='o',\n",
    "            s=24,\n",
    "            label='#111 w. DPM')\n",
    "ax.scatter(exp_energy_112, exp_number_112, color='blue', marker='*',\n",
    "            s=24,\n",
    "            label='#112 w. DPM')\n",
    "\n",
    "ax.scatter(exp_energy_193, exp_number_193, color='c', marker='^',\n",
    "            s=24,\n",
    "            label='#193 no DPM')\n",
    "\n",
    "ax.scatter(exp_energy_194, exp_number_194, color='m', marker='d',\n",
    "            s=24,\n",
    "            label='#194 no DPM')\n",
    "\n",
    "ax.set_xlim([0,35])\n",
    "ax.set_ylim([1e6,1e11])\n",
    "ax.grid(linestyle='--',alpha=0.5)\n",
    "ax.set_xlabel('Energy (MeV)')\n",
    "ax.set_ylabel('dN/dE')\n",
    "ax.legend(loc='upper right', bbox_to_anchor=(1.3, 1))\n",
    "fig.set_size_inches(width, height)\n",
    "fig.tight_layout()\n",
    "\n",
    "plt.show()"
   ]
  },
  {
   "cell_type": "code",
   "execution_count": 18,
   "id": "ca9e6508-f77b-4332-9754-ea7108f8e11e",
   "metadata": {},
   "outputs": [],
   "source": [
    "fig.savefig('/Users/yao/Desktop/fig2_spec2.pdf')"
   ]
  },
  {
   "cell_type": "code",
   "execution_count": 13,
   "id": "8af6f2af-368f-4f65-ba4a-b7ed8a616c5a",
   "metadata": {},
   "outputs": [],
   "source": [
    "# simulation data\n",
    "\n",
    "ene_ndpm = np.array(S0.Screen(2, units=['um','fs','MeV']).getData()[-1]) # last timestep\n",
    "ene_wdpm = np.array(S1.Screen(2, units=['um','fs','MeV']).getData()[-1]) # last timestep\n",
    "\n",
    "yy = np.array(S1.Screen(2, units=['um','fs','MeV']).getAxis('y'))\n",
    "ee = np.array(S1.Screen(2, units=['um','fs','MeV']).getAxis('ekin'))"
   ]
  },
  {
   "cell_type": "code",
   "execution_count": 14,
   "id": "82311902-a733-4923-a889-2e3f9d0d8230",
   "metadata": {},
   "outputs": [
    {
     "name": "stderr",
     "output_type": "stream",
     "text": [
      "/var/folders/2t/97rc3fl92tg15k2l_4sk5hsh0000gn/T/ipykernel_61275/3911377494.py:23: RuntimeWarning: divide by zero encountered in log10\n",
      "  im0 = grid[0].imshow(np.log10(ene_ndpm.T),\n",
      "/var/folders/2t/97rc3fl92tg15k2l_4sk5hsh0000gn/T/ipykernel_61275/3911377494.py:32: RuntimeWarning: divide by zero encountered in log10\n",
      "  im1 = grid[1].imshow(np.log10(ene_wdpm.T),\n",
      "/var/folders/2t/97rc3fl92tg15k2l_4sk5hsh0000gn/T/ipykernel_61275/3911377494.py:54: MatplotlibDeprecationWarning: The toggle_label function was deprecated in Matplotlib 3.8 and will be removed two minor releases later. Use ax.tick_params and colorbar.set_label instead.\n",
      "  grid[1].cax.toggle_label(True)\n"
     ]
    }
   ],
   "source": [
    "from mpl_toolkits.axes_grid1 import make_axes_locatable\n",
    "from mpl_toolkits.axes_grid1 import ImageGrid\n",
    "\n",
    "\n",
    "width  = 3.487 * 1.2\n",
    "height = width / 1.618 * 0.8\n",
    "\n",
    "fig = plt.figure(figsize=(width, height))\n",
    "\n",
    "# fig, ax = plt.subplots()\n",
    "# fig.subplots_adjust(left=.15, bottom=.16, right=.99, top=.97)\n",
    "\n",
    "grid = ImageGrid(fig, 111,          # as in plt.subplot(111)\n",
    "                 nrows_ncols=(1,2),\n",
    "                 axes_pad=0.25,\n",
    "                 share_all=True,\n",
    "                 cbar_location=\"right\",\n",
    "                 cbar_mode=\"single\",\n",
    "                 cbar_size=\"5%\",\n",
    "                 cbar_pad=0.1,\n",
    "                 )\n",
    "\n",
    "im0 = grid[0].imshow(np.log10(ene_ndpm.T),\n",
    "           cmap=newcmap,\n",
    "           origin='lower',\n",
    "           extent=[ee[0],ee[-1],yy[0],yy[-1]],\n",
    "           vmin=-4,\n",
    "           vmax=-1,\n",
    "           aspect='equal',\n",
    "          )\n",
    "\n",
    "im1 = grid[1].imshow(np.log10(ene_wdpm.T),\n",
    "           cmap=newcmap,\n",
    "           origin='lower',\n",
    "           extent=[ee[0],ee[-1],yy[0],yy[-1]],\n",
    "           vmin=-4,\n",
    "           vmax=-1,\n",
    "           aspect='equal',\n",
    "          )\n",
    "\n",
    "grid[0].set_xlim(0,35)\n",
    "grid[1].set_xlim(0,35)\n",
    "grid[1].set_ylim(5,35)\n",
    "grid[0].set_xlabel('Energy (MeV)')\n",
    "grid[1].set_xlabel('Energy (MeV)')\n",
    "grid[0].set_ylabel('y (um)')\n",
    "grid[0].grid(linestyle='--',color='grey',alpha=0.5)\n",
    "grid[1].grid(linestyle='--',color='grey',alpha=0.5)\n",
    "\n",
    "# Colorbar\n",
    "grid[1].cax.colorbar(im1)\n",
    "grid[1].cax.cla()\n",
    "mpl.colorbar.Colorbar(grid[1].cax,im1)\n",
    "grid[1].cax.toggle_label(True)\n",
    "# grid[1].cax.tick_params(size=0)\n",
    "# grid[1].cax.toggle_label(True)\n",
    "# fig.tight_layout()\n",
    "plt.show()"
   ]
  },
  {
   "cell_type": "code",
   "execution_count": 51,
   "id": "14616a04-4470-4e99-9e88-41b31e2380cf",
   "metadata": {},
   "outputs": [],
   "source": [
    "fig.savefig('/Users/yao/Desktop/y_ekin.pdf')"
   ]
  },
  {
   "cell_type": "code",
   "execution_count": 5,
   "id": "80ccb7e0-9bae-4b38-a18f-c56bd4188714",
   "metadata": {},
   "outputs": [],
   "source": [
    "# simulation data -- px-py\n",
    "\n",
    "pxpy_ndpm = np.array(S0.Screen(1, units=['um','fs','MeV']).getData()[-1]) # last timestep\n",
    "pxpy_wdpm = np.array(S1.Screen(1, units=['um','fs','MeV']).getData()[-1]) # last timestep\n",
    "\n",
    "px = np.array(S1.Screen(1, units=['um','fs','MeV']).getAxis('px'))\n",
    "py = np.array(S1.Screen(1, units=['um','fs','MeV']).getAxis('py'))"
   ]
  },
  {
   "cell_type": "code",
   "execution_count": 40,
   "id": "5edd82f8-3630-4ea3-8879-f1c368b6f039",
   "metadata": {},
   "outputs": [
    {
     "name": "stderr",
     "output_type": "stream",
     "text": [
      "/var/folders/2t/97rc3fl92tg15k2l_4sk5hsh0000gn/T/ipykernel_33677/4105506458.py:23: RuntimeWarning: divide by zero encountered in log10\n",
      "  im0 = grid[0].imshow(np.log10((pxpy_ndpm/pxpy_wdpm.max()).T),\n",
      "/var/folders/2t/97rc3fl92tg15k2l_4sk5hsh0000gn/T/ipykernel_33677/4105506458.py:32: RuntimeWarning: divide by zero encountered in log10\n",
      "  im1 = grid[1].imshow(np.log10((pxpy_wdpm/pxpy_wdpm.max()).T),\n",
      "/var/folders/2t/97rc3fl92tg15k2l_4sk5hsh0000gn/T/ipykernel_33677/4105506458.py:62: UserWarning: This figure includes Axes that are not compatible with tight_layout, so results might be incorrect.\n",
      "  fig.tight_layout()\n"
     ]
    }
   ],
   "source": [
    "from mpl_toolkits.axes_grid1 import make_axes_locatable\n",
    "from mpl_toolkits.axes_grid1 import ImageGrid\n",
    "\n",
    "\n",
    "width  = 3.487 * 1.2\n",
    "height = width / 1.618 * 1.5\n",
    "\n",
    "fig = plt.figure(figsize=(width, height))\n",
    "\n",
    "# fig, ax = plt.subplots()\n",
    "# fig.subplots_adjust(left=.15, bottom=.16, right=.99, top=.97)\n",
    "\n",
    "grid = ImageGrid(fig, 111,          # as in plt.subplot(111)\n",
    "                 nrows_ncols=(2,1),\n",
    "                 axes_pad=0.25,\n",
    "                 share_all=True,\n",
    "                 cbar_location=\"right\",\n",
    "                 cbar_mode=\"single\",\n",
    "                 cbar_size=\"2%\",\n",
    "                 cbar_pad=0.1,\n",
    "                 )\n",
    "\n",
    "im0 = grid[0].imshow(np.log10((pxpy_ndpm/pxpy_wdpm.max()).T),\n",
    "           cmap=newcmap,\n",
    "           origin='lower',\n",
    "           extent=[px[0],px[-1],py[0],py[-1]],\n",
    "           vmin=-3,\n",
    "           vmax=0,\n",
    "           aspect='equal',\n",
    "          )\n",
    "\n",
    "im1 = grid[1].imshow(np.log10((pxpy_wdpm/pxpy_wdpm.max()).T),\n",
    "           cmap=newcmap,\n",
    "           origin='lower',\n",
    "           extent=[px[0],px[-1],py[0],py[-1]],\n",
    "           vmin=-3,\n",
    "           vmax=0,\n",
    "           aspect='equal',\n",
    "          )\n",
    "\n",
    "grid[0].set_xlim(100,500)\n",
    "grid[1].set_xlim(100,500)\n",
    "grid[1].set_ylim(-100,100)\n",
    "grid[0].set_xlabel(r'$p_x$ ($m_e c$)')\n",
    "grid[1].set_xlabel(r'$p_x$ ($m_e c$)')\n",
    "grid[0].set_ylabel(r'$p_y$ ($m_e c$)')\n",
    "grid[1].set_ylabel(r'$p_y$ ($m_e c$)')\n",
    "grid[0].grid(linestyle='--',color='grey',alpha=0.5)\n",
    "grid[1].grid(linestyle='--',color='grey',alpha=0.5)\n",
    "\n",
    "# Colorbar\n",
    "grid[1].cax.colorbar(im1)\n",
    "grid[1].cax.cla()\n",
    "mpl.colorbar.Colorbar(grid[1].cax,im1)\n",
    "cax = grid.cbar_axes[0]\n",
    "axis = cax.axis[cax.orientation]\n",
    "axis.label.set_text('Normalized Particles')\n",
    "# grid[1].cax.toggle_label(r'$n_p (cm^{-3})$')\n",
    "# grid[1].cax.tick_params(size=0)\n",
    "# grid[1].cax.toggle_label(True)\n",
    "fig.set_size_inches(width, height)\n",
    "fig.tight_layout()\n",
    "plt.show()"
   ]
  },
  {
   "cell_type": "code",
   "execution_count": 41,
   "id": "df5b1499-881b-4b6b-a848-d0857cd35b96",
   "metadata": {},
   "outputs": [],
   "source": [
    "fig.savefig('/Users/yao/Desktop/pxpy.pdf',dpi=600)"
   ]
  },
  {
   "cell_type": "code",
   "execution_count": 15,
   "id": "35ee5f56-5f2f-44d4-8670-d40318cf71c0",
   "metadata": {},
   "outputs": [],
   "source": [
    "angene_ndpm = np.array(S0.Screen(6, units=['um','fs','MeV']).getData()[-1]) # last timestep\n",
    "angene_wdpm = np.array(S1.Screen(6, units=['um','fs','MeV']).getData()[-1]) # last timestep\n",
    "\n",
    "ang = np.array(S0.Screen(6, units=['um','fs','MeV']).getAxis('user_function0'))\n",
    "ee = np.array(S0.Screen(6, units=['um','fs','MeV']).getAxis('ekin'))"
   ]
  },
  {
   "cell_type": "code",
   "execution_count": null,
   "id": "b05b6436-5ca0-40cc-a767-ab85a8702b66",
   "metadata": {},
   "outputs": [],
   "source": []
  },
  {
   "cell_type": "code",
   "execution_count": 29,
   "id": "5219b665-a132-4d0c-b9ef-4e1a76df17e0",
   "metadata": {},
   "outputs": [
    {
     "name": "stderr",
     "output_type": "stream",
     "text": [
      "/var/folders/2t/97rc3fl92tg15k2l_4sk5hsh0000gn/T/ipykernel_61275/128870948.py:23: RuntimeWarning: divide by zero encountered in log10\n",
      "  im0 = grid[0].imshow(np.log10(angene_ndpm.T),\n",
      "/var/folders/2t/97rc3fl92tg15k2l_4sk5hsh0000gn/T/ipykernel_61275/128870948.py:32: RuntimeWarning: divide by zero encountered in log10\n",
      "  im1 = grid[1].imshow(np.log10(angene_wdpm.T),\n",
      "/var/folders/2t/97rc3fl92tg15k2l_4sk5hsh0000gn/T/ipykernel_61275/128870948.py:59: UserWarning: This figure includes Axes that are not compatible with tight_layout, so results might be incorrect.\n",
      "  fig.tight_layout()\n"
     ]
    }
   ],
   "source": [
    "from mpl_toolkits.axes_grid1 import make_axes_locatable\n",
    "from mpl_toolkits.axes_grid1 import ImageGrid\n",
    "\n",
    "\n",
    "width  = 3.487 * 1.5\n",
    "height = width / 1.618 * 0.8\n",
    "\n",
    "fig = plt.figure(figsize=(width, height))\n",
    "\n",
    "# fig, ax = plt.subplots()\n",
    "# fig.subplots_adjust(left=.15, bottom=.16, right=.99, top=.97)\n",
    "\n",
    "grid = ImageGrid(fig, 111,          # as in plt.subplot(111)\n",
    "                 nrows_ncols=(1,2),\n",
    "                 axes_pad=0.35,\n",
    "                 share_all=True,\n",
    "                 cbar_location=\"right\",\n",
    "                 cbar_mode=\"single\",\n",
    "                 cbar_size=\"5%\",\n",
    "                 cbar_pad=0.1,\n",
    "                 )\n",
    "\n",
    "im0 = grid[0].imshow(np.log10(angene_ndpm.T),\n",
    "           cmap=newcmap,\n",
    "           origin='lower',\n",
    "           extent=[ang[0],ang[-1],ee[0],ee[-1]],\n",
    "           vmin=-6,\n",
    "           vmax=-2,\n",
    "           aspect='equal',\n",
    "          )\n",
    "\n",
    "im1 = grid[1].imshow(np.log10(angene_wdpm.T),\n",
    "           cmap=newcmap,\n",
    "           origin='lower',\n",
    "           extent=[ang[0],ang[-1],ee[0],ee[-1]],\n",
    "           vmin=-6,\n",
    "           vmax=-2,\n",
    "           aspect='equal',\n",
    "          )\n",
    "\n",
    "grid[0].set_xlim(-20,20)\n",
    "grid[0].set_xticks([-20, -10, 0, 10, 20])\n",
    "grid[1].set_xlim(-20,20)\n",
    "grid[1].set_xticks([-20, -10, 0, 10, 20])\n",
    "grid[1].set_ylim(0, 35)\n",
    "grid[0].set_xlabel(r'angle ($\\degree$)')\n",
    "grid[1].set_xlabel(r'angle ($\\degree$)')\n",
    "grid[0].set_ylabel('Energy (MeV)')\n",
    "grid[0].grid(linestyle='--',color='grey',alpha=0.5)\n",
    "grid[1].grid(linestyle='--',color='grey',alpha=0.5)\n",
    "\n",
    "# Colorbar\n",
    "grid[1].cax.colorbar(im1)\n",
    "grid[1].cax.cla()\n",
    "mpl.colorbar.Colorbar(grid[1].cax,im1)\n",
    "# grid[1].cax.toggle_label(True)\n",
    "# grid[1].cax.tick_params(size=0)\n",
    "# grid[1].cax.toggle_label(True)\n",
    "fig.tight_layout()\n",
    "plt.show()"
   ]
  },
  {
   "cell_type": "code",
   "execution_count": 31,
   "id": "09873a8e-175b-4b77-aa74-d700f99ea0f2",
   "metadata": {},
   "outputs": [],
   "source": [
    "fig.savefig('/Users/yao/Desktop/ang_ene_p.pdf',dpi=600)"
   ]
  },
  {
   "cell_type": "code",
   "execution_count": null,
   "id": "8aaa648f-1c6c-486d-b1ac-0462619e4577",
   "metadata": {},
   "outputs": [],
   "source": []
  },
  {
   "cell_type": "code",
   "execution_count": 12,
   "id": "fdd53fd5-a5c4-46a0-80c7-87562f7f2a01",
   "metadata": {},
   "outputs": [],
   "source": [
    "angene_ndpm = np.array(S0.Screen(7, units=['um','fs','MeV']).getData()[-1]) # last timestep\n",
    "angene_wdpm = np.array(S1.Screen(7, units=['um','fs','MeV']).getData()[-1]) # last timestep\n",
    "\n",
    "ang = np.array(S0.Screen(7, units=['um','fs','MeV']).getAxis('user_function0'))\n",
    "ee = np.array(S0.Screen(7, units=['um','fs','MeV']).getAxis('ekin'))"
   ]
  },
  {
   "cell_type": "code",
   "execution_count": 13,
   "id": "085f660c-d39a-4d89-83ea-e77971d04862",
   "metadata": {},
   "outputs": [
    {
     "name": "stderr",
     "output_type": "stream",
     "text": [
      "/var/folders/2t/97rc3fl92tg15k2l_4sk5hsh0000gn/T/ipykernel_20041/2977680343.py:24: RuntimeWarning: divide by zero encountered in log10\n",
      "  im0 = grid[0].imshow(np.log10(angene_ndpm.T),\n",
      "/var/folders/2t/97rc3fl92tg15k2l_4sk5hsh0000gn/T/ipykernel_20041/2977680343.py:33: RuntimeWarning: divide by zero encountered in log10\n",
      "  im1 = grid[1].imshow(np.log10(angene_wdpm.T),\n"
     ]
    }
   ],
   "source": [
    "from mpl_toolkits.axes_grid1 import make_axes_locatable\n",
    "from mpl_toolkits.axes_grid1 import ImageGrid\n",
    "\n",
    "\n",
    "width  = 3.487 * 1.2\n",
    "height = width / 1.618 * 0.8\n",
    "\n",
    "fig = plt.figure(figsize=(width, height))\n",
    "# fig = plt.figure()\n",
    "\n",
    "# fig, ax = plt.subplots()\n",
    "# fig.subplots_adjust(left=.15, bottom=.16, right=.99, top=.97)\n",
    "\n",
    "grid = ImageGrid(fig, 111,          # as in plt.subplot(111)\n",
    "                 nrows_ncols=(1,2),\n",
    "                 axes_pad=0.25,\n",
    "                 share_all=True,\n",
    "                 cbar_location=\"right\",\n",
    "                 cbar_mode=\"single\",\n",
    "                 cbar_size=\"5%\",\n",
    "                 cbar_pad=0.1,\n",
    "                 )\n",
    "\n",
    "im0 = grid[0].imshow(np.log10(angene_ndpm.T),\n",
    "           cmap=newcmap,\n",
    "           origin='lower',\n",
    "           extent=[ang[0],ang[-1],ee[0],ee[-1]],\n",
    "           vmin=-7,\n",
    "           vmax=-3,\n",
    "           aspect=8,\n",
    "          )\n",
    "\n",
    "im1 = grid[1].imshow(np.log10(angene_wdpm.T),\n",
    "           cmap=newcmap,\n",
    "           origin='lower',\n",
    "           extent=[ang[0],ang[-1],ee[0],ee[-1]],\n",
    "           vmin=-7,\n",
    "           vmax=-3,\n",
    "           aspect=8,\n",
    "          )\n",
    "\n",
    "grid[0].set_xlim(-90,90)\n",
    "grid[1].set_xlim(-90,90)\n",
    "grid[1].set_ylim(0, 20)\n",
    "grid[0].set_xlabel(r'angle ($\\degree$)')\n",
    "grid[1].set_xlabel(r'angle ($\\degree$)')\n",
    "grid[0].set_ylabel('Energy (MeV)')\n",
    "grid[0].grid(linestyle='--',color='grey',alpha=0.5)\n",
    "grid[1].grid(linestyle='--',color='grey',alpha=0.5)\n",
    "\n",
    "# Colorbar\n",
    "grid[1].cax.colorbar(im1)\n",
    "grid[1].cax.cla()\n",
    "mpl.colorbar.Colorbar(grid[1].cax,im1)\n",
    "# grid[1].cax.toggle_label(True)\n",
    "# grid[1].cax.tick_params(size=0)\n",
    "# grid[1].cax.toggle_label(True)\n",
    "# fig.tight_layout()\n",
    "fig.set_size_inches(width, height)\n",
    "plt.show()"
   ]
  },
  {
   "cell_type": "code",
   "execution_count": 66,
   "id": "3bfd0a06-5bfa-4c46-9611-aaac35be5ea1",
   "metadata": {},
   "outputs": [],
   "source": [
    "fig.savefig('/Users/yao/Desktop/ang_ene_e.pdf')"
   ]
  },
  {
   "cell_type": "code",
   "execution_count": null,
   "id": "5910e8a8-f6e3-4d7b-99bc-79bdbb1f7522",
   "metadata": {},
   "outputs": [],
   "source": []
  },
  {
   "cell_type": "code",
   "execution_count": 62,
   "id": "ac42eafa-898b-4328-9395-25a9383b093b",
   "metadata": {},
   "outputs": [],
   "source": [
    "ene_ndpm = S0.Screen(3, units=['um','fs','MeV'],).getData()\n",
    "ene_wdpm = S1.Screen(3, units=['um','fs','MeV'],).getData()\n",
    "\n",
    "xx  = S0.Screen(3, units=['um','fs','MeV']).getAxis('ekin')\n",
    "tt  = S0.Screen(3, units=['um','fs','MeV']).getTimes()"
   ]
  },
  {
   "cell_type": "code",
   "execution_count": 63,
   "id": "bd294ca4-0c51-41ab-9501-8c9c30a80515",
   "metadata": {},
   "outputs": [],
   "source": [
    "from lmfit import Model, Parameters, report_fit\n",
    "\n",
    "def temp(xdata, A, kT):\n",
    "    return np.exp(-xdata/kT)*A\n",
    "\n",
    "def fitting(case, start, end):\n",
    "    gmod = Model(temp)\n",
    "    gmod.set_param_hint('kT', value=1.8, vary=True, min=1.0e-2, max=1.0e1)\n",
    "    gmod.set_param_hint('A', value=3.0, vary=True, min=1.0e-5, max=1.0e5)\n",
    "    pars = gmod.make_params()\n",
    "    result = gmod.fit(case[start:end], xdata=xx[start:end], method=fitmethod, nan_policy='omit')\n",
    "    print(result.fit_report())\n",
    "    print(\"kT: \", result.values['kT'])\n",
    "    print(\"Reduced chi square: \", result.redchi)\n",
    "    return result.best_fit, result.values['kT'], result.redchi"
   ]
  },
  {
   "cell_type": "code",
   "execution_count": 64,
   "id": "3c88e460-2dbd-484c-b0ca-9142f00bacf0",
   "metadata": {},
   "outputs": [
    {
     "name": "stdout",
     "output_type": "stream",
     "text": [
      "[[Model]]\n",
      "    Model(temp)\n",
      "[[Fit Statistics]]\n",
      "    # fitting method   = leastsq\n",
      "    # function evals   = 31\n",
      "    # data points      = 180\n",
      "    # variables        = 2\n",
      "    chi-square         = 1.5527e-06\n",
      "    reduced chi-square = 8.7229e-09\n",
      "    Akaike info crit   = -3338.32710\n",
      "    Bayesian info crit = -3331.94119\n",
      "    R-squared          = 0.91805877\n",
      "[[Variables]]\n",
      "    A:   0.00888588 +/- 7.7005e-04 (8.67%) (init = 3)\n",
      "    kT:  2.17842803 +/- 0.07612716 (3.49%) (init = 1.8)\n",
      "[[Correlations]] (unreported correlations are < 0.100)\n",
      "    C(A, kT) = -0.9851\n",
      "kT:  2.178428032640551\n",
      "Reduced chi square:  8.7229302996429e-09\n",
      "[[Model]]\n",
      "    Model(temp)\n",
      "[[Fit Statistics]]\n",
      "    # fitting method   = leastsq\n",
      "    # function evals   = 43\n",
      "    # data points      = 180\n",
      "    # variables        = 2\n",
      "    chi-square         = 1.5001e-09\n",
      "    reduced chi-square = 8.4274e-12\n",
      "    Akaike info crit   = -4587.92676\n",
      "    Bayesian info crit = -4581.54084\n",
      "    R-squared          = 0.96262601\n",
      "[[Variables]]\n",
      "    A:   2.8076e-04 +/- 1.1822e-05 (4.21%) (init = 3)\n",
      "    kT:  2.70952198 +/- 0.05832179 (2.15%) (init = 1.8)\n",
      "[[Correlations]] (unreported correlations are < 0.100)\n",
      "    C(A, kT) = -0.9797\n",
      "kT:  2.7095219763303118\n",
      "Reduced chi square:  8.427416017629393e-12\n"
     ]
    }
   ],
   "source": [
    "start_point = 550  # 3 MeV \n",
    "end_point = 730    # 25 MeV\n",
    "fitmethod =  'leastsq' #'leastsq' #'tnc' 'cg' 'differential_evolution'\n",
    "\n",
    "y_ndpm, kT_ndpm, redchi_ndpm = fitting(ene_ndpm[-1], start_point, end_point)\n",
    "y_wdpm, kT_wdpm, redchi_wdpm = fitting(ene_wdpm[-1], start_point, end_point)"
   ]
  },
  {
   "cell_type": "code",
   "execution_count": 65,
   "id": "8df55378-6271-45be-8ead-3303755e5580",
   "metadata": {},
   "outputs": [],
   "source": [
    "width  = 3.487 * 1.0\n",
    "height = width / 1.618 * 1.2\n",
    "\n",
    "fig, ax = plt.subplots()\n",
    "fig.subplots_adjust(left=.15, bottom=.16, right=.99, top=.97)\n",
    "\n",
    "ax.semilogy(xx,ene_ndpm[-1], color='b',lw=1.0,\n",
    "             linestyle='-',\n",
    "             label='Sim. no DPM',\n",
    "           )\n",
    "\n",
    "ax.semilogy(xx[start_point:end_point], y_ndpm, \n",
    "            '-.m', linewidth=2.0, markersize=6, \n",
    "            mfc='none',mew=1, \n",
    "            label='{:.1f} MeV'.format(kT_ndpm))\n",
    "\n",
    "ax.semilogy(xx,ene_wdpm[-1], color='r',lw=1.0,\n",
    "             linestyle='--',\n",
    "             label='Sim. w/ DPM',\n",
    "           )\n",
    "\n",
    "ax.semilogy(xx[start_point:end_point], y_wdpm, \n",
    "            ':k', linewidth=2.0, markersize=6, \n",
    "            mfc='none',mew=1, \n",
    "            label='{:.1f} MeV'.format(kT_wdpm))\n",
    "\n",
    "\n",
    "ax.set_xlim([0.1,20])\n",
    "ax.set_ylim([1e-6,1e-1])\n",
    "# plt.title('time = '+str(tt[ts])+' fs')\n",
    "# ax.grid(which='both',linestyle='--',alpha=0.5)\n",
    "ax.set_xlabel('Energy (MeV)')\n",
    "ax.set_ylabel('Normalized dN/dE')\n",
    "\n",
    "ax.legend(fancybox=False, frameon=False)\n",
    "fig.set_size_inches(width, height)\n",
    "fig.tight_layout()"
   ]
  },
  {
   "cell_type": "code",
   "execution_count": 66,
   "id": "479ee6cf-24b0-42df-80c3-f6b2f9f74c8c",
   "metadata": {},
   "outputs": [],
   "source": [
    "fig.savefig('/Users/yao/Desktop/spec_e_temp.pdf',dpi=600)"
   ]
  },
  {
   "cell_type": "code",
   "execution_count": 75,
   "id": "db9a5406-1a13-40f4-a691-cb1b3e82b810",
   "metadata": {},
   "outputs": [],
   "source": [
    "ni = np.array(S0.ParticleBinning(1, units=['um','fs','MeV','cm^-3'],).getData())\n",
    "xx = np.array(S0.ParticleBinning(1, units=['um','fs','MeV']).getAxis('x'))\n",
    "yy = np.array(S0.ParticleBinning(1, units=['um','fs','MeV']).getAxis('y'))\n",
    "tt = np.array(S0.ParticleBinning(1, units=['um','fs','MeV']).getTimes())\n",
    "ts = np.array(S0.ParticleBinning(1, units=['um','fs','MeV']).getTimesteps())"
   ]
  },
  {
   "cell_type": "code",
   "execution_count": 109,
   "id": "f5e16d71-8e4c-4622-911b-8652d6764c25",
   "metadata": {},
   "outputs": [
    {
     "name": "stderr",
     "output_type": "stream",
     "text": [
      "/var/folders/2t/97rc3fl92tg15k2l_4sk5hsh0000gn/T/ipykernel_61275/417780329.py:24: RuntimeWarning: divide by zero encountered in log10\n",
      "  im0 = grid[0].imshow(np.log10(ni[25].T),\n",
      "/var/folders/2t/97rc3fl92tg15k2l_4sk5hsh0000gn/T/ipykernel_61275/417780329.py:33: RuntimeWarning: divide by zero encountered in log10\n",
      "  im1 = grid[1].imshow(np.log10(ni[35].T),\n",
      "/var/folders/2t/97rc3fl92tg15k2l_4sk5hsh0000gn/T/ipykernel_61275/417780329.py:66: UserWarning: This figure includes Axes that are not compatible with tight_layout, so results might be incorrect.\n",
      "  fig.tight_layout()\n"
     ]
    }
   ],
   "source": [
    "from mpl_toolkits.axes_grid1 import make_axes_locatable\n",
    "from mpl_toolkits.axes_grid1 import ImageGrid\n",
    "\n",
    "\n",
    "width  = 3.487 * 1.5\n",
    "height = width / 1.618 * 1.0\n",
    "\n",
    "fig = plt.figure(figsize=(width, height))\n",
    "# fig = plt.figure()\n",
    "\n",
    "# fig, ax = plt.subplots()\n",
    "# fig.subplots_adjust(left=.15, bottom=.16, right=.99, top=.97)\n",
    "\n",
    "grid = ImageGrid(fig, 111,          # as in plt.subplot(111)\n",
    "                 nrows_ncols=(1,2),\n",
    "                 axes_pad=0.25,\n",
    "                 share_all=True,\n",
    "                 cbar_location=\"right\",\n",
    "                 cbar_mode=\"single\",\n",
    "                 cbar_size=\"5%\",\n",
    "                 cbar_pad=0.1,\n",
    "                 )\n",
    "\n",
    "im0 = grid[0].imshow(np.log10(ni[25].T),\n",
    "           cmap=newcmap,\n",
    "           origin='lower',\n",
    "           extent=[xx[0],xx[-1],yy[0],yy[-1]],\n",
    "           vmin=19,\n",
    "           vmax=22,\n",
    "           aspect=0.25,\n",
    "          )\n",
    "\n",
    "im1 = grid[1].imshow(np.log10(ni[35].T),\n",
    "           cmap=newcmap,\n",
    "           origin='lower',\n",
    "           extent=[xx[0],xx[-1],yy[0],yy[-1]],\n",
    "           vmin=19,\n",
    "           vmax=22,\n",
    "           aspect=0.25,\n",
    "          )\n",
    "\n",
    "grid[0].set_xlim(11,21)\n",
    "grid[1].set_xlim(11,21)\n",
    "grid[1].set_ylim(0, 42)\n",
    "grid[0].set_xlabel(r'x ($\\mu$m)')\n",
    "grid[1].set_xlabel(r'x ($\\mu$m)')\n",
    "grid[0].set_ylabel(r'y ($\\mu$m)')\n",
    "grid[0].set_xticks([11, 16, 21])\n",
    "grid[1].set_xticks([11, 16, 21])\n",
    "grid[0].set_yticks([0, 21, 42])\n",
    "grid[0].set_title('time = {:.1f} fs'.format(tt[25]))\n",
    "grid[1].set_title('time = {:.1f} fs'.format(tt[35]))\n",
    "grid[0].grid(linestyle='--',color='grey',alpha=0.5)\n",
    "grid[1].grid(linestyle='--',color='grey',alpha=0.5)\n",
    "\n",
    "# Colorbar\n",
    "grid[1].cax.colorbar(im1)\n",
    "grid[1].cax.cla()\n",
    "mpl.colorbar.Colorbar(grid[1].cax,im1)\n",
    "cax = grid.cbar_axes[0]\n",
    "axis = cax.axis[cax.orientation]\n",
    "axis.label.set_text(r'$n_p (cm^{-3})$')\n",
    "# grid[1].cax.toggle_label(r'$n_p (cm^{-3})$')\n",
    "# grid[1].cax.tick_params(size=0)\n",
    "# grid[1].cax.toggle_label(True)\n",
    "fig.tight_layout()\n",
    "fig.set_size_inches(width, height)\n",
    "plt.show()"
   ]
  },
  {
   "cell_type": "code",
   "execution_count": 110,
   "id": "5592d596-b548-4ac7-8f08-1579950ac33c",
   "metadata": {},
   "outputs": [],
   "source": [
    "fig.savefig('/Users/yao/Desktop/density.pdf',dpi=600)"
   ]
  },
  {
   "cell_type": "code",
   "execution_count": 138,
   "id": "1c100c8e-3b45-47f7-9ec2-1d3c2ee3faca",
   "metadata": {},
   "outputs": [],
   "source": [
    "ne2 = np.array(S2.ParticleBinning(5, units=['um','fs','MeV'],).getData())\n",
    "xx2 = np.array(S2.ParticleBinning(5, units=['um','fs','MeV']).getAxis('x'))\n",
    "yy2 = np.array(S2.ParticleBinning(5, units=['um','fs','MeV']).getAxis('y'))\n",
    "tt2 = np.array(S2.ParticleBinning(5, units=['um','fs','MeV']).getTimes())\n",
    "ts2 = np.array(S2.ParticleBinning(5, units=['um','fs','MeV']).getTimesteps())"
   ]
  },
  {
   "cell_type": "code",
   "execution_count": 139,
   "id": "bf354926-1edf-45c9-a099-637f74bb921a",
   "metadata": {},
   "outputs": [],
   "source": [
    "ne0 = np.array(S0.ParticleBinning(5, units=['um','fs','MeV'],).getData())\n",
    "xx0 = np.array(S0.ParticleBinning(5, units=['um','fs','MeV']).getAxis('x'))\n",
    "yy0 = np.array(S0.ParticleBinning(5, units=['um','fs','MeV']).getAxis('y'))\n",
    "tt0 = np.array(S0.ParticleBinning(5, units=['um','fs','MeV']).getTimes())\n",
    "ts0 = np.array(S0.ParticleBinning(5, units=['um','fs','MeV']).getTimesteps())"
   ]
  },
  {
   "cell_type": "code",
   "execution_count": 142,
   "id": "6105da5c-c4b8-4ff1-99cc-30fed032cef0",
   "metadata": {},
   "outputs": [
    {
     "name": "stdout",
     "output_type": "stream",
     "text": [
      "1245.795\n",
      "194.2421875\n"
     ]
    }
   ],
   "source": [
    "print(tt0[32])\n",
    "print(tt2[60])"
   ]
  },
  {
   "cell_type": "code",
   "execution_count": 117,
   "id": "f9c410be-3ea0-4cb3-8cb9-3fabbbbdada0",
   "metadata": {},
   "outputs": [
    {
     "data": {
      "text/plain": [
       "array([  0.        ,   3.23736979,   6.47473958,   9.71210938,\n",
       "        12.94947917,  16.18684896,  19.42421875,  22.66158854,\n",
       "        25.89895833,  29.13632813,  32.37369792,  35.61106771,\n",
       "        38.8484375 ,  42.08580729,  45.32317708,  48.56054688,\n",
       "        51.79791667,  55.03528646,  58.27265625,  61.51002604,\n",
       "        64.74739583,  67.98476563,  71.22213542,  74.45950521,\n",
       "        77.696875  ,  80.93424479,  84.17161458,  87.40898438,\n",
       "        90.64635417,  93.88372396,  97.12109375, 100.35846354,\n",
       "       103.59583333, 106.83320313, 110.07057292, 113.30794271,\n",
       "       116.5453125 , 119.78268229, 123.02005208, 126.25742188,\n",
       "       129.49479167, 132.73216146, 135.96953125, 139.20690104,\n",
       "       142.44427083, 145.68164062, 148.91901042, 152.15638021,\n",
       "       155.39375   , 158.63111979, 161.86848958, 165.10585937,\n",
       "       168.34322917, 171.58059896, 174.81796875, 178.05533854,\n",
       "       181.29270833, 184.53007813, 187.76744792, 191.00481771,\n",
       "       194.2421875 , 197.47955729, 200.71692708, 203.95429688,\n",
       "       207.19166667, 210.42903646, 213.66640625, 216.90377604,\n",
       "       220.14114583, 223.37851563, 226.61588542, 229.85325521,\n",
       "       233.090625  , 236.32799479, 239.56536458, 242.80273438,\n",
       "       246.04010417, 249.27747396, 252.51484375, 255.75221354,\n",
       "       258.98958333, 262.22695313, 265.46432292, 268.70169271,\n",
       "       271.9390625 , 275.17643229, 278.41380208, 281.65117187,\n",
       "       284.88854167, 288.12591146])"
      ]
     },
     "execution_count": 117,
     "metadata": {},
     "output_type": "execute_result"
    }
   ],
   "source": [
    "tt2"
   ]
  },
  {
   "cell_type": "code",
   "execution_count": 143,
   "id": "9780d50c-5521-4b15-80c8-96952d674cbe",
   "metadata": {},
   "outputs": [
    {
     "name": "stderr",
     "output_type": "stream",
     "text": [
      "/var/folders/2t/97rc3fl92tg15k2l_4sk5hsh0000gn/T/ipykernel_55182/1616221540.py:7: RuntimeWarning: divide by zero encountered in log10\n",
      "  ax.plot(xx2,np.log10(np.mean(ne2[64][:,90:110], axis=1)), color='r',lw=1.0,\n",
      "/var/folders/2t/97rc3fl92tg15k2l_4sk5hsh0000gn/T/ipykernel_55182/1616221540.py:12: RuntimeWarning: divide by zero encountered in log10\n",
      "  ax.plot(xx0,np.log10(np.mean(ne0[32][:,90:110], axis=1)), color='b',lw=1.0,\n"
     ]
    }
   ],
   "source": [
    "width  = 3.487 * 1.2\n",
    "height = width / 1.618 * 1.5\n",
    "\n",
    "fig, ax = plt.subplots()\n",
    "fig.subplots_adjust(left=.15, bottom=.16, right=.99, top=.97)\n",
    "\n",
    "ax.plot(xx2,np.log10(np.mean(ne2[64][:,90:110], axis=1)), color='r',lw=1.0,\n",
    "             linestyle='-',\n",
    "             label=r'w/.  DPM $n_e$ ($n_c$)',\n",
    "           )\n",
    "\n",
    "ax.plot(xx0,np.log10(np.mean(ne0[32][:,90:110], axis=1)), color='b',lw=1.0,\n",
    "             linestyle='-',\n",
    "             label=r'w/o DPM $n_e$ ($n_c$)',\n",
    "           )\n",
    "\n",
    "ax.axhline(y=np.log10(S2.namelist.a_0), color='r', linestyle='--', \n",
    "           label=r'w/.  DPM $a_0n_c$')\n",
    "\n",
    "ax.axhline(y=np.log10(S0.namelist.a_0), color='b', linestyle='--', \n",
    "           label=r'w/o DPM $a_0n_c$')\n",
    "\n",
    "\n",
    "ax.set_xlim([0,20])\n",
    "ax.set_ylim([-3,3])\n",
    "# plt.title('time = '+str(tt[ts])+' fs')\n",
    "# ax.grid(which='both',linestyle='--',alpha=0.5)\n",
    "ax.set_xlabel(r'x ($\\mu$m)')\n",
    "ax.set_ylabel(r'$\\log_{10} n_e$ ($n_c$)')\n",
    "\n",
    "ax.legend(fancybox=False, frameon=False, loc='best',fontsize=8)\n",
    "fig.set_size_inches(width, height)\n",
    "fig.tight_layout()"
   ]
  },
  {
   "cell_type": "code",
   "execution_count": 68,
   "id": "19ff6370-4e6b-4235-bda4-4a1b8b97653e",
   "metadata": {},
   "outputs": [],
   "source": [
    "fig.savefig('/Users/yao/Desktop/ne.png',dpi=600)"
   ]
  },
  {
   "cell_type": "code",
   "execution_count": 153,
   "id": "91720707-ced2-434f-9076-103183889a5c",
   "metadata": {},
   "outputs": [],
   "source": [
    "Ey2 = np.array(S2.Field(0,'Ey', units=['um','fs','MeV','V/m'],).getData())\n",
    "xx2 = np.array(S2.Field(0,'Ey', units=['um','fs','MeV']).getAxis('x'))\n",
    "yy2 = np.array(S2.Field(0,'Ey', units=['um','fs','MeV']).getAxis('y'))\n",
    "tt2 = np.array(S2.Field(0,'Ey', units=['um','fs','MeV']).getTimes())\n",
    "ts2 = np.array(S2.Field(0,'Ey', units=['um','fs','MeV']).getTimesteps())"
   ]
  },
  {
   "cell_type": "code",
   "execution_count": 152,
   "id": "6b55e12b-13fb-453e-a8f6-a010bad2c91b",
   "metadata": {},
   "outputs": [],
   "source": [
    "Ey0 = np.array(S0.Field(0,'Ey', units=['um','fs','MeV','V/m'],).getData())\n",
    "xx0 = np.array(S0.Field(0,'Ey', units=['um','fs','MeV']).getAxis('x'))\n",
    "yy0 = np.array(S0.Field(0,'Ey', units=['um','fs','MeV']).getAxis('y'))\n",
    "tt0 = np.array(S0.Field(0,'Ey', units=['um','fs','MeV']).getTimes())\n",
    "ts0 = np.array(S0.Field(0,'Ey', units=['um','fs','MeV']).getTimesteps())"
   ]
  },
  {
   "cell_type": "code",
   "execution_count": 146,
   "id": "3f8f70f6-5387-42de-ba67-76f5673365e4",
   "metadata": {},
   "outputs": [
    {
     "name": "stdout",
     "output_type": "stream",
     "text": [
      "1245.795\n",
      "103.59583333333333\n"
     ]
    }
   ],
   "source": [
    "print(tt0[7])\n",
    "print(tt2[8])"
   ]
  },
  {
   "cell_type": "code",
   "execution_count": 157,
   "id": "07de8c77-9dc1-4fa1-9d2d-8c8365355f5d",
   "metadata": {},
   "outputs": [
    {
     "name": "stderr",
     "output_type": "stream",
     "text": [
      "/var/folders/2t/97rc3fl92tg15k2l_4sk5hsh0000gn/T/ipykernel_55182/226245938.py:66: UserWarning: This figure includes Axes that are not compatible with tight_layout, so results might be incorrect.\n",
      "  fig.tight_layout()\n"
     ]
    }
   ],
   "source": [
    "from mpl_toolkits.axes_grid1 import make_axes_locatable\n",
    "from mpl_toolkits.axes_grid1 import ImageGrid\n",
    "\n",
    "\n",
    "width  = 3.487 * 2.0\n",
    "height = width / 1.618 * 1.0\n",
    "\n",
    "fig = plt.figure(figsize=(width, height))\n",
    "# fig = plt.figure()\n",
    "\n",
    "# fig, ax = plt.subplots()\n",
    "# fig.subplots_adjust(left=.15, bottom=.16, right=.99, top=.97)\n",
    "\n",
    "grid = ImageGrid(fig, 111,          # as in plt.subplot(111)\n",
    "                 nrows_ncols=(1,2),\n",
    "                 axes_pad=0.25,\n",
    "                 share_all=True,\n",
    "                 cbar_location=\"right\",\n",
    "                 cbar_mode=\"single\",\n",
    "                 cbar_size=\"5%\",\n",
    "                 cbar_pad=0.1,\n",
    "                 )\n",
    "\n",
    "im0 = grid[0].imshow((Ey2[6].T)/1e14,\n",
    "           cmap='seismic',\n",
    "           origin='lower',\n",
    "           extent=[xx2[0],xx2[-1],yy2[0],yy2[-1]],\n",
    "           vmin=-1,\n",
    "           vmax=1,\n",
    "           aspect=1.,\n",
    "          )\n",
    "\n",
    "im1 = grid[1].imshow((Ey0[7].T)/1e14,\n",
    "           cmap='seismic',\n",
    "           origin='lower',\n",
    "           extent=[xx0[0],xx0[-1],yy0[0],yy0[-1]],\n",
    "           vmin=-1,\n",
    "           vmax=1,\n",
    "           aspect=1.,\n",
    "          )\n",
    "\n",
    "grid[0].set_xlim(0,20)\n",
    "grid[1].set_xlim(0,20)\n",
    "grid[1].set_ylim(0,42)\n",
    "grid[0].set_xlabel(r'x ($\\mu$m)')\n",
    "grid[1].set_xlabel(r'x ($\\mu$m)')\n",
    "grid[0].set_ylabel(r'y ($\\mu$m)')\n",
    "# grid[0].set_xticks([0, 7, 14,  21])\n",
    "# grid[1].set_xticks([11, 16, 21])\n",
    "grid[0].set_yticks([0, 7, 14, 21, 28, 35, 42])\n",
    "grid[0].set_title('time = {:.1f} fs'.format(tt2[6]))\n",
    "grid[1].set_title('time = {:.1f} fs'.format(tt0[7]))\n",
    "grid[0].grid(linestyle='--',color='grey',alpha=0.5)\n",
    "grid[1].grid(linestyle='--',color='grey',alpha=0.5)\n",
    "\n",
    "# Colorbar\n",
    "grid[1].cax.colorbar(im1)\n",
    "grid[1].cax.cla()\n",
    "mpl.colorbar.Colorbar(grid[1].cax,im1)\n",
    "cax = grid.cbar_axes[0]\n",
    "axis = cax.axis[cax.orientation]\n",
    "axis.label.set_text(r'$E_y$ (10$^{14}$ V/m)')\n",
    "# grid[1].cax.toggle_label(r'$n_p (cm^{-3})$')\n",
    "# grid[1].cax.tick_params(size=0)\n",
    "# grid[1].cax.toggle_label(True)\n",
    "fig.tight_layout()\n",
    "fig.set_size_inches(width, height)\n",
    "plt.show()"
   ]
  },
  {
   "cell_type": "code",
   "execution_count": 72,
   "id": "39d33e03-25ad-4623-9e14-fa30e37df8b7",
   "metadata": {},
   "outputs": [
    {
     "data": {
      "text/plain": [
       "(23, 1281, 2561)"
      ]
     },
     "execution_count": 72,
     "metadata": {},
     "output_type": "execute_result"
    }
   ],
   "source": [
    "Ey2.shape"
   ]
  },
  {
   "cell_type": "code",
   "execution_count": 158,
   "id": "2e4541ce-0251-4837-a0cb-0aa34f26feb3",
   "metadata": {},
   "outputs": [
    {
     "data": {
      "text/plain": [
       "array([  0.        ,  12.94947917,  25.89895833,  38.8484375 ,\n",
       "        51.79791667,  64.74739583,  77.696875  ,  90.64635417,\n",
       "       103.59583333, 116.5453125 , 129.49479167, 142.44427083,\n",
       "       155.39375   , 168.34322917, 181.29270833, 194.2421875 ,\n",
       "       207.19166667, 220.14114583, 233.090625  , 246.04010417,\n",
       "       258.98958333, 271.9390625 , 284.88854167])"
      ]
     },
     "execution_count": 158,
     "metadata": {},
     "output_type": "execute_result"
    }
   ],
   "source": [
    "tt2"
   ]
  },
  {
   "cell_type": "code",
   "execution_count": 134,
   "id": "a8ed8d1c-2c4e-468a-9588-f09f5f443363",
   "metadata": {},
   "outputs": [
    {
     "data": {
      "text/plain": [
       "array([   0.      ,  155.724375,  311.44875 ,  467.173125,  622.8975  ,\n",
       "        778.621875,  934.34625 , 1090.070625, 1245.795   , 1401.519375,\n",
       "       1557.24375 ])"
      ]
     },
     "execution_count": 134,
     "metadata": {},
     "output_type": "execute_result"
    }
   ],
   "source": [
    "tt0"
   ]
  },
  {
   "cell_type": "code",
   "execution_count": 159,
   "id": "d9d3c693-ac63-4760-823e-240393621b9f",
   "metadata": {},
   "outputs": [
    {
     "data": {
      "text/plain": [
       "1024"
      ]
     },
     "execution_count": 159,
     "metadata": {},
     "output_type": "execute_result"
    }
   ],
   "source": [
    "32*32"
   ]
  },
  {
   "cell_type": "code",
   "execution_count": null,
   "id": "3d76f486-acf6-4966-bbc8-da971910c6af",
   "metadata": {},
   "outputs": [],
   "source": []
  }
 ],
 "metadata": {
  "kernelspec": {
   "display_name": "Python 3 (ipykernel)",
   "language": "python",
   "name": "python3"
  },
  "language_info": {
   "codemirror_mode": {
    "name": "ipython",
    "version": 3
   },
   "file_extension": ".py",
   "mimetype": "text/x-python",
   "name": "python",
   "nbconvert_exporter": "python",
   "pygments_lexer": "ipython3",
   "version": "3.9.18"
  }
 },
 "nbformat": 4,
 "nbformat_minor": 5
}
