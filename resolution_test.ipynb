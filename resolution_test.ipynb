{
 "cells": [
  {
   "cell_type": "code",
   "execution_count": 27,
   "metadata": {},
   "outputs": [],
   "source": [
    "import numpy as np\n",
    "\n",
    "# prepare constants, units\n",
    "\n",
    "me = 9.1e-31\n",
    "mp = 1836.*me\n",
    "qe = 1.6e-19\n",
    "ep = 8.9e-12  # epsilon_0\n",
    "c  = 3.0e8\n",
    "ne = 1.0e18*1e6                              # in m-3\n",
    "wre = np.sqrt(ne*qe**2/(ep*me))  # plasma frequency in rad/s\n",
    "wri = np.sqrt(ne*qe**2/(ep*mp))  # ion plasma frequency in rad/s\n",
    "de = c / wre # in m\n",
    "di = c / wri # in m\n",
    "\n",
    "# dx = S0.namelist.d_x * de * 1e3           # in mm\n",
    "\n",
    "Te = 200             # in eV\n",
    "ld = 7.43e2 * Te**0.5 * ne**(-0.5) * 10. *1e-3 # in m\n",
    "\n",
    "v0 = 1e6  # in m/s\n",
    "B0 = 20.0  # in T\n",
    "wc = qe * B0 / me\n",
    "rle = me*v0/B0/qe  # in m\n",
    "rlp = mp*v0/B0/qe/4  # in m\n",
    "\n",
    "# conversion constants for fields and momentum (when taken from TrackParticle)\n",
    "kE = me*c*wr/qe  # V/m\n",
    "kp = me*c        # kg m/s\n",
    "kB = me*wr/qe    # T\n",
    "conv_MeV_J = 10**6*qe"
   ]
  },
  {
   "cell_type": "code",
   "execution_count": 28,
   "metadata": {},
   "outputs": [
    {
     "name": "stdout",
     "output_type": "stream",
     "text": [
      "5.336014137443791e-06\n",
      "0.00022864057833748585\n",
      "1.0507606768432097e-10\n",
      "2.84375e-07\n",
      "0.000130528125\n"
     ]
    }
   ],
   "source": [
    "print(de)\n",
    "print(di)\n",
    "print(ld)\n",
    "print(rle)\n",
    "print(rlp)\n"
   ]
  },
  {
   "cell_type": "code",
   "execution_count": null,
   "metadata": {},
   "outputs": [],
   "source": []
  }
 ],
 "metadata": {
  "kernelspec": {
   "display_name": "Python 3",
   "language": "python",
   "name": "python3"
  },
  "language_info": {
   "codemirror_mode": {
    "name": "ipython",
    "version": 3
   },
   "file_extension": ".py",
   "mimetype": "text/x-python",
   "name": "python",
   "nbconvert_exporter": "python",
   "pygments_lexer": "ipython3",
   "version": "3.9.21"
  }
 },
 "nbformat": 4,
 "nbformat_minor": 2
}
