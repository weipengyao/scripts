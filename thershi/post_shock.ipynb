{
 "cells": [
  {
   "cell_type": "code",
   "execution_count": 1,
   "id": "3f8c1c7b",
   "metadata": {},
   "outputs": [],
   "source": [
    "%matplotlib qt"
   ]
  },
  {
   "cell_type": "code",
   "execution_count": 2,
   "id": "98d328e1",
   "metadata": {},
   "outputs": [
    {
     "name": "stderr",
     "output_type": "stream",
     "text": [
      "/var/folders/2t/97rc3fl92tg15k2l_4sk5hsh0000gn/T/ipykernel_86232/621321092.py:8: MatplotlibDeprecationWarning: The get_cmap function was deprecated in Matplotlib 3.7 and will be removed two minor releases later. Use ``matplotlib.colormaps[name]`` or ``matplotlib.colormaps.get_cmap(obj)`` instead.\n",
      "  jetcmap = plt.cm.get_cmap(\"jet\", 9) #generate a jet map with 10 values \"rainbow\", \"jet\", YlOrRd\n"
     ]
    }
   ],
   "source": [
    "import matplotlib as mpl\n",
    "import sys\n",
    "sys.path.append(\"/Users/yao/Smilei\")\n",
    "import happi\n",
    "import numpy as np\n",
    "import matplotlib.pyplot as plt\n",
    "\n",
    "jetcmap = plt.cm.get_cmap(\"jet\", 9) #generate a jet map with 10 values \"rainbow\", \"jet\", YlOrRd\n",
    "jet_vals = jetcmap(np.arange(9)) #extract those values as an array \n",
    "jet_vals[0] = [1.0, 1, 1.0, 1] #change the first value \n",
    "jet_vals[8] = [0.0, 0, 0.0, 1] #change the first value \n",
    "newcmap = mpl.colors.LinearSegmentedColormap.from_list(\"mine\", jet_vals) \n",
    "\n",
    "from matplotlib import font_manager\n",
    "\n",
    "font_dirs = ['/Users/yao/Documents/Calibri and Cambria Fonts/']\n",
    "font_files = font_manager.findSystemFonts(fontpaths=font_dirs)\n",
    "\n",
    "for font_file in font_files:\n",
    "    font_manager.fontManager.addfont(font_file)\n",
    "\n",
    "# set font\n",
    "plt.rcParams['font.family'] = 'Calibri'\n",
    "\n",
    "plt.rc('text', usetex=False)\n",
    "plt.rc('xtick', labelsize=14)\n",
    "plt.rc('ytick', labelsize=14)\n",
    "plt.rc('axes', labelsize=14)\n",
    "plt.rc('legend', fontsize=12)"
   ]
  },
  {
   "cell_type": "code",
   "execution_count": 5,
   "id": "9d9f64f1",
   "metadata": {},
   "outputs": [
    {
     "name": "stdout",
     "output_type": "stream",
     "text": [
      "Loaded simulation '/Volumes/T5_EVO/Thershi/Irene/multi_species_LULI_run1'\n",
      "Loaded simulation '/Volumes/T5_EVO/Thershi/Irene/multi_species_LULI_run2'\n",
      "Loaded simulation '/Volumes/T5_EVO/Thershi/Irene/multi_species_LULI_run3'\n",
      "Scanning for Scalar diagnostics\n",
      "Scanning for Field diagnostics\n",
      "Scanning for Probe diagnostics\n",
      "Scanning for ParticleBinning diagnostics\n",
      "Scanning for RadiationSpectrum diagnostics\n",
      "Scanning for Performance diagnostics\n",
      "Scanning for Screen diagnostics\n",
      "Scanning for Tracked particle diagnostics\n",
      "Scanning for new particle diagnostics\n"
     ]
    }
   ],
   "source": [
    "## prepare simulation data\n",
    "\n",
    "wkdir = [\n",
    "     '/Volumes/T5_EVO/Thershi/Irene/multi_species_LULI_run*'\n",
    "    ]\n",
    "\n",
    "S0 = happi.Open(wkdir[0], reference_angular_frequency_SI = 178400691397710.28)\n"
   ]
  },
  {
   "cell_type": "code",
   "execution_count": 4,
   "id": "7db4ab45",
   "metadata": {},
   "outputs": [
    {
     "data": {
      "text/plain": [
       "178400691397710.28"
      ]
     },
     "execution_count": 4,
     "metadata": {},
     "output_type": "execute_result"
    }
   ],
   "source": [
    "S0.namelist.wpe"
   ]
  },
  {
   "cell_type": "code",
   "execution_count": null,
   "id": "8b4a2d3a",
   "metadata": {},
   "outputs": [
    {
     "name": "stdout",
     "output_type": "stream",
     "text": [
      "Scalar Ubal\n"
     ]
    },
    {
     "name": "stderr",
     "output_type": "stream",
     "text": [
      "/Users/yao/Smilei/happi/_Diagnostics/Diagnostic.py:857: RuntimeWarning: divide by zero encountered in log10\n",
      "  return self._np.log10( self._dataLinAtTime(t) )\n"
     ]
    }
   ],
   "source": [
    "# utot = S0.Scalar(\"Utot\",units=['ns', 'J/m^2'],data_log=True,color='k',label='total').slide()\n",
    "ukin = S0.Scalar(\"Ukin\",units=['ns', 'J/m^2'],data_log=True,color='r',label='kin')#.slide()\n",
    "uelm = S0.Scalar(\"Uelm\",units=['ns', 'J/m^2'],data_log=True,color='b',label='elm')#.slide()\n",
    "ubal = S0.Scalar(\"Ubal\",units=['ns', 'J/m^2'],data_log=True,color='g',label='bal')#.slide()\n",
    "uexp = S0.Scalar(\"Uexp\",units=['ns', 'J/m^2'],data_log=True,color='m',label='exp')#.slide()\n",
    "# ubal_norm = S0.Scalar(\"Ubal_norm\",units=['ns', 'J/m^2'],data_log=True,color='c',label='ubal_norm').slide()\n",
    "\n",
    "# happi.multiPlot(utot, ukin, uelm)"
   ]
  },
  {
   "cell_type": "code",
   "execution_count": 24,
   "id": "426e1f17",
   "metadata": {},
   "outputs": [
    {
     "name": "stdout",
     "output_type": "stream",
     "text": [
      "\n",
      "#0 - Number density of species # 1\n",
      "    x from 0 to 10543.1 in 3072 steps \n",
      "\n",
      "#2 - Number density of species # 4\n",
      "    x from 0 to 10543.1 in 3072 steps \n",
      "\n",
      "Operation : #0+#2\n",
      "The value in each bin is the sum of the `deposited_quantity` divided by the bin size\n",
      "\n"
     ]
    }
   ],
   "source": [
    "import scienceplots as splt\n",
    "plt.style.use(['nature', 'notebook', 'grid','high-vis'])\n",
    "\n",
    "S0.ParticleBinning(\"#0+#2\", units=['ns', 'mm', 'cm^-3','km/s','keV cm^-3','keV'],\n",
    "                  #  sum={'x':'all'},\n",
    "                   data_log=True,\n",
    "                   cmap=newcmap,\n",
    "                #    vmin=-1,\n",
    "                #    vmax=3,\n",
    "                   ).slide()"
   ]
  },
  {
   "cell_type": "code",
   "execution_count": 16,
   "id": "cbb6e7b7",
   "metadata": {},
   "outputs": [],
   "source": [
    "ion0 = np.array(S0.ParticleBinning(0, units=['ns', 'mm', 'cm^-3','km/s','keV cm^-3','keV']).getData()[-1])\n",
    "ion1 = np.array(S0.ParticleBinning(2, units=['ns', 'mm', 'cm^-3','km/s','keV cm^-3','keV']).getData()[-1])"
   ]
  },
  {
   "cell_type": "code",
   "execution_count": 17,
   "id": "945526f9",
   "metadata": {},
   "outputs": [],
   "source": [
    "xx = np.array(S0.ParticleBinning(0, units=['ns', 'mm', 'cm^-3','km/s','keV cm^-3','keV']).getAxis('x'))"
   ]
  },
  {
   "cell_type": "code",
   "execution_count": 30,
   "id": "0dc811db",
   "metadata": {},
   "outputs": [
    {
     "data": {
      "text/plain": [
       "(8.6, 9.2)"
      ]
     },
     "execution_count": 30,
     "metadata": {},
     "output_type": "execute_result"
    }
   ],
   "source": [
    "plt.plot(xx, ion0+ion1, label='ion0+ion1', color='k', lw=2, ls='-')\n",
    "plt.plot(xx, ion0, label='ion0', color='r', lw=2, ls='--')\n",
    "plt.plot(xx, ion1, label='ion1', color='b', lw=2, ls=':')\n",
    "# plt.yscale('log')\n",
    "plt.xlabel('x (mm)')\n",
    "plt.ylabel('ion density (cm$^{-3}$)')\n",
    "plt.legend()\n",
    "# plt.xlim(0, 18)\n",
    "# plt.ylim(1e16, 1e19)\n",
    "plt.xlim(8.6, 9.2)\n",
    "# plt.ylim(1e17, 1e19)"
   ]
  },
  {
   "cell_type": "code",
   "execution_count": null,
   "id": "3582f851",
   "metadata": {},
   "outputs": [],
   "source": []
  }
 ],
 "metadata": {
  "kernelspec": {
   "display_name": "Python 3",
   "language": "python",
   "name": "python3"
  },
  "language_info": {
   "codemirror_mode": {
    "name": "ipython",
    "version": 3
   },
   "file_extension": ".py",
   "mimetype": "text/x-python",
   "name": "python",
   "nbconvert_exporter": "python",
   "pygments_lexer": "ipython3",
   "version": "3.9.22"
  }
 },
 "nbformat": 4,
 "nbformat_minor": 5
}
