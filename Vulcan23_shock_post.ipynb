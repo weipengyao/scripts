{
 "cells": [
  {
   "cell_type": "code",
   "execution_count": 1,
   "id": "af5189ea-2d9d-4ea7-b098-ce761c7ee2ff",
   "metadata": {},
   "outputs": [],
   "source": [
    "# Linear regression"
   ]
  },
  {
   "cell_type": "code",
   "execution_count": 2,
   "id": "96795183-d71a-4d79-bbb8-664370864c68",
   "metadata": {},
   "outputs": [],
   "source": [
    "import numpy as np\n",
    "import matplotlib as mpl\n",
    "mpl.use('pdf')\n",
    "import matplotlib.pyplot as plt"
   ]
  },
  {
   "cell_type": "code",
   "execution_count": 3,
   "id": "b714a549-737f-4f9c-9545-68ef8a217265",
   "metadata": {},
   "outputs": [],
   "source": [
    "plt.rc('font', family='sans-serif', serif='Arial')\n",
    "plt.rc('text', usetex=True)\n",
    "plt.rc('xtick', labelsize=12)\n",
    "plt.rc('ytick', labelsize=12)\n",
    "plt.rc('axes', labelsize=12)"
   ]
  },
  {
   "cell_type": "code",
   "execution_count": 45,
   "id": "2fd6182a-3f58-43db-a216-b36f8cc82605",
   "metadata": {},
   "outputs": [],
   "source": [
    "time = np.array([2, 3, 4, 6, 8, 10, 12]) # ns\n",
    "size_on_screen = np.array([2.1, 2.69, 3, 5.37, 6.24, 7.15, 8.26]) # cm\n",
    "\n",
    "def rescale(x):\n",
    "    return x*17/6.79"
   ]
  },
  {
   "cell_type": "code",
   "execution_count": 46,
   "id": "cc85e495-c2d9-4a2b-aaaa-820bf61c1583",
   "metadata": {},
   "outputs": [
    {
     "name": "stdout",
     "output_type": "stream",
     "text": [
      "[ 5.25773196  6.73490427  7.51104566 13.44477172 15.62297496 17.90132548\n",
      " 20.68041237]\n"
     ]
    }
   ],
   "source": [
    "size_in_physics = rescale(size_on_screen) # in mm\n",
    "print(size_in_physics)"
   ]
  },
  {
   "cell_type": "code",
   "execution_count": 34,
   "id": "0e4e4f91-7d67-496a-8348-f16c67ed4614",
   "metadata": {},
   "outputs": [],
   "source": [
    "def lin_reg(x_data, y_data):\n",
    "    n = np.size(x_data)\n",
    "    \n",
    "    xm = np.mean(x_data)\n",
    "    ym = np.mean(y_data)\n",
    "    S1 = np.sum(x_data*y_data) - n*xm*ym\n",
    "    S2 = np.sum(x_data**2) - n*xm**2\n",
    "    \n",
    "    a1 = S1/S2\n",
    "    a0 = ym - a1*xm\n",
    "    \n",
    "    return (a0,a1)"
   ]
  },
  {
   "cell_type": "code",
   "execution_count": 47,
   "id": "412135fb-d85e-49ea-8c64-0f01dd8d6dc5",
   "metadata": {},
   "outputs": [],
   "source": [
    "a0_7bar, a1_7bar = lin_reg(time, size_in_physics/2.)"
   ]
  },
  {
   "cell_type": "code",
   "execution_count": 56,
   "id": "2450abf0-4860-4de6-839a-e14a3ca0145b",
   "metadata": {},
   "outputs": [],
   "source": [
    "width  = 3.487 \n",
    "height = width / 1.618 * 1.5\n",
    "\n",
    "fig, ax = plt.subplots()\n",
    "fig.subplots_adjust(left=.15, bottom=.16, right=.99, top=.97)\n",
    "\n",
    "\n",
    "x = np.linspace(time[0],time[-1],50)\n",
    "\n",
    "ax.plot(x, a0_7bar+a1_7bar*x, 'b-',\n",
    "        label='Expansion velocity v0 = {:.1e} km/s'.format(a1_7bar*1e3)\n",
    "       )\n",
    "\n",
    "ax.plot(time, size_in_physics/2., 'ro',\n",
    "        label='Experimental data',\n",
    "       )\n",
    "\n",
    "\n",
    "\n",
    "ax.set_xlabel(\"Time (ns)\")\n",
    "ax.set_ylabel(\"Radius (mm)\")\n",
    "ax.set_xlim([time[0],time[-1]])\n",
    "ax.set_ylim([2,12])\n",
    "# ax.set_title('Expansion velocity v = {:.1e} m/s'.format(a1*1e3))\n",
    "ax.legend()\n",
    "\n",
    "fig.set_size_inches(width, height)\n",
    "\n",
    "\n",
    "\n",
    "# fig.savefig('/Users/yao/Desktop/plot.pdf')"
   ]
  },
  {
   "cell_type": "code",
   "execution_count": 57,
   "id": "2cfb0096-f5e0-4f6d-9036-c418f02a3db0",
   "metadata": {},
   "outputs": [],
   "source": [
    "fig.savefig('/Users/yao/Desktop/plot_7bars.pdf')"
   ]
  },
  {
   "cell_type": "code",
   "execution_count": null,
   "id": "84b5cbf6-3a74-4f8b-968d-e5e530ec6faf",
   "metadata": {},
   "outputs": [],
   "source": []
  },
  {
   "cell_type": "code",
   "execution_count": null,
   "id": "1d92902a-cc02-47cf-8371-62e2c71057cf",
   "metadata": {},
   "outputs": [],
   "source": []
  },
  {
   "cell_type": "code",
   "execution_count": 58,
   "id": "259abf10-fe5c-4bad-a3c6-70056ccd9d4f",
   "metadata": {},
   "outputs": [],
   "source": [
    "# for pressure of 4 bars H2\n",
    "x_data = np.array([3.0,   5.0,   6.0,   7.0,   8.0])\n",
    "y_data = np.array([9.51, 13.97, 15.45, 18.38, 20.68])\n",
    "a0,a1 = lin_reg(x_data,y_data/2.)"
   ]
  },
  {
   "cell_type": "code",
   "execution_count": 59,
   "id": "5b3fb5fe-9ba7-463c-b257-3f5a883b58c6",
   "metadata": {},
   "outputs": [],
   "source": [
    "width  = 3.487 \n",
    "height = width / 1.618 * 1.5\n",
    "\n",
    "fig, ax = plt.subplots()\n",
    "fig.subplots_adjust(left=.15, bottom=.16, right=.99, top=.97)\n",
    "\n",
    "\n",
    "x = np.linspace(2,10,50)\n",
    "\n",
    "ax.plot(x, a0+a1*x, 'b-',\n",
    "        label='Expansion velocity v0 = {:.1e} km/s'.format(a1*1e3)\n",
    "       )\n",
    "\n",
    "ax.plot(x_data,y_data/2.,'ro',\n",
    "        label='Experimental data',\n",
    "       )\n",
    "\n",
    "\n",
    "\n",
    "ax.set_xlabel(\"Time (ns)\")\n",
    "ax.set_ylabel(\"Radius (mm)\")\n",
    "ax.set_xlim([3,8])\n",
    "ax.set_ylim([4,12])\n",
    "# ax.set_title('Expansion velocity v = {:.1e} m/s'.format(a1*1e3))\n",
    "ax.legend()\n",
    "\n",
    "fig.set_size_inches(width, height)\n",
    "\n",
    "\n",
    "\n",
    "# fig.savefig('/Users/yao/Desktop/plot.pdf')"
   ]
  },
  {
   "cell_type": "code",
   "execution_count": 60,
   "id": "d8fd390a-ce45-4765-8c5e-e71f8c84cacd",
   "metadata": {},
   "outputs": [],
   "source": [
    "fig.savefig('/Users/yao/Desktop/plot.pdf')"
   ]
  },
  {
   "cell_type": "code",
   "execution_count": 11,
   "id": "87578841-d2ac-4514-9337-7d9d96821639",
   "metadata": {},
   "outputs": [
    {
     "data": {
      "text/plain": [
       "2.729054054054103"
      ]
     },
     "execution_count": 11,
     "metadata": {},
     "output_type": "execute_result"
    }
   ],
   "source": [
    "a0"
   ]
  },
  {
   "cell_type": "code",
   "execution_count": 35,
   "id": "45122750-aa8a-40dc-8793-0a75b6fe9828",
   "metadata": {},
   "outputs": [],
   "source": [
    "# for pressure of 4 bars H2\n",
    "x_data = np.array([3.0,   5.0,   6.0,   7.0,   8.0]) # time in ns\n",
    "y_data = np.array([9.51, 13.97, 15.45, 18.38, 20.68]) # size (diameter) in mm"
   ]
  },
  {
   "cell_type": "code",
   "execution_count": null,
   "id": "9809f675-ca69-4042-b519-6e45fdd667fc",
   "metadata": {},
   "outputs": [],
   "source": []
  }
 ],
 "metadata": {
  "kernelspec": {
   "display_name": "Python 3 (ipykernel)",
   "language": "python",
   "name": "python3"
  },
  "language_info": {
   "codemirror_mode": {
    "name": "ipython",
    "version": 3
   },
   "file_extension": ".py",
   "mimetype": "text/x-python",
   "name": "python",
   "nbconvert_exporter": "python",
   "pygments_lexer": "ipython3",
   "version": "3.11.5"
  }
 },
 "nbformat": 4,
 "nbformat_minor": 5
}
