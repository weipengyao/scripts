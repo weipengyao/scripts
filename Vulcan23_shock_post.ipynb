{
 "cells": [
  {
   "cell_type": "code",
   "execution_count": 16,
   "id": "af5189ea-2d9d-4ea7-b098-ce761c7ee2ff",
   "metadata": {},
   "outputs": [],
   "source": [
    "%matplotlib qt\n",
    "# Linear regression\n"
   ]
  },
  {
   "cell_type": "code",
   "execution_count": 17,
   "id": "9420bdc2-7987-4782-97bc-bf27a47e3719",
   "metadata": {},
   "outputs": [
    {
     "name": "stderr",
     "output_type": "stream",
     "text": [
      "/var/folders/2t/97rc3fl92tg15k2l_4sk5hsh0000gn/T/ipykernel_10192/616493249.py:6: MatplotlibDeprecationWarning: The get_cmap function was deprecated in Matplotlib 3.7 and will be removed two minor releases later. Use ``matplotlib.colormaps[name]`` or ``matplotlib.colormaps.get_cmap(obj)`` instead.\n",
      "  jetcmap = plt.cm.get_cmap(\"jet\", 9) #generate a jet map with 10 values \"rainbow\", \"jet\", YlOrRd\n"
     ]
    }
   ],
   "source": [
    "import matplotlib as mpl\n",
    "import happi\n",
    "import numpy as np\n",
    "import matplotlib.pyplot as plt\n",
    "\n",
    "jetcmap = plt.cm.get_cmap(\"jet\", 9) #generate a jet map with 10 values \"rainbow\", \"jet\", YlOrRd\n",
    "jet_vals = jetcmap(np.arange(9)) #extract those values as an array \n",
    "jet_vals[0] = [1.0, 1, 1.0, 1] #change the first value \n",
    "jet_vals[8] = [0.0, 0, 0.0, 1] #change the first value \n",
    "newcmap = mpl.colors.LinearSegmentedColormap.from_list(\"mine\", jet_vals) "
   ]
  },
  {
   "cell_type": "code",
   "execution_count": 18,
   "id": "35da7c78-c70b-4fe0-89fe-7ca0d9219465",
   "metadata": {},
   "outputs": [],
   "source": [
    "wkdir = [\n",
    "    # '/Users/yao/Desktop/Data/DS_t0/', # test 0 -> needs longer plasma and time\n",
    "    '/Users/yao/Desktop/Data/DS_t1/', # test 1 -> longer plasma and time\n",
    "    ]"
   ]
  },
  {
   "cell_type": "code",
   "execution_count": 19,
   "id": "8eda47fe-7e22-4a3c-bdae-222e857de67b",
   "metadata": {},
   "outputs": [
    {
     "name": "stdout",
     "output_type": "stream",
     "text": [
      "Loaded simulation '/Users/yao/Desktop/Data/DS_t1/'\n",
      "Scanning for Scalar diagnostics\n",
      "Scanning for Field diagnostics\n",
      "Scanning for Probe diagnostics\n",
      "Scanning for ParticleBinning diagnostics\n",
      "Scanning for RadiationSpectrum diagnostics\n",
      "Scanning for Performance diagnostics\n",
      "Scanning for Screen diagnostics\n",
      "Scanning for Tracked particle diagnostics\n",
      "Scanning for new particle diagnostics\n"
     ]
    }
   ],
   "source": [
    "S0 = happi.Open(wkdir[0], reference_angular_frequency_SI = 56375055300167.87)\n"
   ]
  },
  {
   "cell_type": "code",
   "execution_count": 27,
   "id": "87f7953b-303e-4f11-8631-7fe07a7946bc",
   "metadata": {},
   "outputs": [
    {
     "name": "stdout",
     "output_type": "stream",
     "text": [
      "\n",
      "#0 - Number density of species # 0,4,8\n",
      "    x from 0 to 2048 in 500 steps \n",
      "    vx from -0.025 to 0.025 in 500 steps \n",
      "\n",
      "The value in each bin is the sum of the `deposited_quantity` divided by the bin size\n",
      "\n"
     ]
    }
   ],
   "source": [
    "# ion x-px\n",
    "S0.ParticleBinning(0,units=['mm', 'ns', 'km/s'],\n",
    "                  data_log=True,\n",
    "                  vmin=-2,\n",
    "                  vmax=4,\n",
    "                  cmap=newcmap\n",
    "                  ).animate(movie='/Users/yao/Desktop/xpx_i_t1.gif')\n",
    "                  # ).slide()"
   ]
  },
  {
   "cell_type": "code",
   "execution_count": null,
   "id": "9883ccf7-91f0-4bfd-9403-1e1aea30b233",
   "metadata": {},
   "outputs": [],
   "source": [
    "# ion x\n",
    "S0.ParticleBinning(0,units=['mm', 'ns', 'km/s','cm^-3'],\n",
    "                  # data_log=True,\n",
    "                   sum={'vx':'all'},\n",
    "                  # vmin=-2,\n",
    "                  # vmax=4,\n",
    "                  # cmap=newcmap\n",
    "                  ).animate(movie='/Users/yao/Desktop/x_i_t1.gif')\n",
    "                  # ).slide()"
   ]
  },
  {
   "cell_type": "code",
   "execution_count": 7,
   "id": "1054f1f0-c4a9-4543-a29a-c285a20f77b7",
   "metadata": {},
   "outputs": [
    {
     "name": "stdout",
     "output_type": "stream",
     "text": [
      "\n",
      "#1 - Number density of species # 2,6,10\n",
      "    x from 0 to 2048 in 500 steps \n",
      "    vx from -0.075 to 0.075 in 500 steps \n",
      "\n",
      "The value in each bin is the sum of the `deposited_quantity` divided by the bin size\n",
      "\n"
     ]
    }
   ],
   "source": [
    "# eon x-px\n",
    "S0.ParticleBinning(1,units=['mm', 'ns', 'km/s'],\n",
    "                  data_log=True,\n",
    "                  vmin=-2,\n",
    "                  vmax=4,\n",
    "                  cmap=newcmap\n",
    "                  ).slide()"
   ]
  },
  {
   "cell_type": "code",
   "execution_count": 25,
   "id": "80afce4d-f58a-4cab-81c8-6526a055d0f8",
   "metadata": {},
   "outputs": [
    {
     "name": "stdout",
     "output_type": "stream",
     "text": [
      "\n",
      "#2 - Number density of species # 0,4,8\n",
      "    x from 0 to 2048 in 500 steps \n",
      "    ekin from 0 to 10 in 500 steps \n",
      "\n",
      "average for all x\n",
      "The value in each bin is the sum of the `deposited_quantity` divided by the bin size\n",
      "\n"
     ]
    }
   ],
   "source": [
    "# ion spectrum\n",
    "S0.ParticleBinning(2,units=['mm', 'ns', 'km/s','keV'],\n",
    "                  data_log=True,\n",
    "                  # vmin=-2,\n",
    "                  # vmax=4,\n",
    "                   sum={'x':'all'},\n",
    "                   ymin=0,\n",
    "                   ymax=200,\n",
    "                  cmap=newcmap\n",
    "                  ).slide()"
   ]
  },
  {
   "cell_type": "code",
   "execution_count": 15,
   "id": "23b553af-138c-4032-ad14-cf51c45bb220",
   "metadata": {},
   "outputs": [
    {
     "name": "stdout",
     "output_type": "stream",
     "text": [
      "\n",
      "#3 - Number density of species # 2,6,10\n",
      "    x from 0 to 2048 in 500 steps \n",
      "    ekin from 0 to 1 in 500 steps \n",
      "\n",
      "average for all x\n",
      "The value in each bin is the sum of the `deposited_quantity` divided by the bin size\n",
      "\n"
     ]
    }
   ],
   "source": [
    "# eon spectrum\n",
    "S0.ParticleBinning(3,units=['mm', 'ns', 'km/s','keV'],\n",
    "                  data_log=True,\n",
    "                  # vmin=-2,\n",
    "                  # vmax=4,\n",
    "                   sum={'x':'all'},\n",
    "                   ymin=0,\n",
    "                   ymax=200,\n",
    "                  cmap=newcmap\n",
    "                  ).slide()"
   ]
  },
  {
   "cell_type": "code",
   "execution_count": 18,
   "id": "4a9cf4bc-edd7-4ebb-a7da-21c2e81521ed",
   "metadata": {},
   "outputs": [
    {
     "name": "stdout",
     "output_type": "stream",
     "text": [
      "\n",
      "#4 - Number density of species # 0,4,8\n",
      "    vx from -0.025 to 0.025 in 500 steps \n",
      "    vy from -0.025 to 0.025 in 500 steps \n",
      "\n",
      "The value in each bin is the sum of the `deposited_quantity` divided by the bin size and by grid_length[0]\n",
      "\n"
     ]
    }
   ],
   "source": [
    "# ion vx-vy\n",
    "S0.ParticleBinning(4,units=['mm', 'ns', 'km/s'],\n",
    "                  data_log=True,\n",
    "                  vmin=-2,\n",
    "                  vmax=6,\n",
    "                  cmap=newcmap,\n",
    "                   aspect='equal',\n",
    "                  ).slide()"
   ]
  },
  {
   "cell_type": "code",
   "execution_count": 19,
   "id": "dc7e0171-b626-4e39-8f47-d7e5028349f3",
   "metadata": {},
   "outputs": [
    {
     "name": "stdout",
     "output_type": "stream",
     "text": [
      "\n",
      "#5 - Number density of species # 2,6,10\n",
      "    vx from -0.075 to 0.075 in 500 steps \n",
      "    vy from -0.075 to 0.075 in 500 steps \n",
      "\n",
      "The value in each bin is the sum of the `deposited_quantity` divided by the bin size and by grid_length[0]\n",
      "\n"
     ]
    }
   ],
   "source": [
    "# eon vx-vy\n",
    "S0.ParticleBinning(5,units=['mm', 'ns', 'km/s'],\n",
    "                  data_log=True,\n",
    "                  vmin=-2,\n",
    "                  vmax=6,\n",
    "                  cmap=newcmap,\n",
    "                   aspect='equal',\n",
    "                  ).slide()"
   ]
  },
  {
   "cell_type": "code",
   "execution_count": 31,
   "id": "55c040c8-a4da-4390-99a1-cab74d7ef102",
   "metadata": {},
   "outputs": [
    {
     "ename": "TypeError",
     "evalue": "unsupported operand type(s) for /: 'ParticleBinning' and 'int'",
     "output_type": "error",
     "traceback": [
      "\u001b[0;31m---------------------------------------------------------------------------\u001b[0m",
      "\u001b[0;31mTypeError\u001b[0m                                 Traceback (most recent call last)",
      "Cell \u001b[0;32mIn[31], line 15\u001b[0m\n\u001b[1;32m      8\u001b[0m ni \u001b[38;5;241m=\u001b[39m S0\u001b[38;5;241m.\u001b[39mParticleBinning(\u001b[38;5;241m0\u001b[39m,units\u001b[38;5;241m=\u001b[39m[\u001b[38;5;124m'\u001b[39m\u001b[38;5;124mmm\u001b[39m\u001b[38;5;124m'\u001b[39m, \u001b[38;5;124m'\u001b[39m\u001b[38;5;124mns\u001b[39m\u001b[38;5;124m'\u001b[39m],\n\u001b[1;32m      9\u001b[0m                    \u001b[38;5;28msum\u001b[39m\u001b[38;5;241m=\u001b[39m{\u001b[38;5;124m'\u001b[39m\u001b[38;5;124mvx\u001b[39m\u001b[38;5;124m'\u001b[39m:\u001b[38;5;124m'\u001b[39m\u001b[38;5;124mall\u001b[39m\u001b[38;5;124m'\u001b[39m},\n\u001b[1;32m     10\u001b[0m                         label\u001b[38;5;241m=\u001b[39m\u001b[38;5;124m'\u001b[39m\u001b[38;5;124mni\u001b[39m\u001b[38;5;124m'\u001b[39m,\n\u001b[1;32m     11\u001b[0m                         color\u001b[38;5;241m=\u001b[39m\u001b[38;5;124m'\u001b[39m\u001b[38;5;124mred\u001b[39m\u001b[38;5;124m'\u001b[39m,\n\u001b[1;32m     12\u001b[0m                        )\n\u001b[1;32m     13\u001b[0m                   \u001b[38;5;66;03m# ).slide()\u001b[39;00m\n\u001b[0;32m---> 15\u001b[0m happi\u001b[38;5;241m.\u001b[39mmultiSlide(Bz, \u001b[43mni\u001b[49m\u001b[38;5;241;43m/\u001b[39;49m\u001b[38;5;241;43m50\u001b[39;49m)\n",
      "\u001b[0;31mTypeError\u001b[0m: unsupported operand type(s) for /: 'ParticleBinning' and 'int'"
     ]
    }
   ],
   "source": [
    "Bz = S0.Field(0,'Bz',units=['mm','ns'],\n",
    "         label='Bz',\n",
    "              color='blue',\n",
    "              linestyle='--',\n",
    "             )\n",
    "        # ).slide()\n",
    "\n",
    "ni = S0.ParticleBinning(0,units=['mm', 'ns'],\n",
    "                   sum={'vx':'all'},\n",
    "                        label='ni',\n",
    "                        color='red',\n",
    "                       )\n",
    "                  # ).slide()\n",
    "\n",
    "happi.multiSlide(Bz, ni)"
   ]
  },
  {
   "cell_type": "code",
   "execution_count": null,
   "id": "a626127a-9feb-43f1-bb0b-9927928a991a",
   "metadata": {},
   "outputs": [],
   "source": [
    "S0.Field(0,'(Rho_ion1+Rho_ion2+Rho_ion3)',units=['mm','ns','T','cm^-3'],\n",
    "         label='ion',\n",
    "        ).slide()"
   ]
  },
  {
   "cell_type": "code",
   "execution_count": null,
   "id": "42cef6f1-8531-4444-bbbc-90217e1c79ce",
   "metadata": {},
   "outputs": [],
   "source": [
    "S0.Field(0,'Bz',units=['mm','ns','T'],\n",
    "         label='Bz',\n",
    "              # color='blue',\n",
    "              # linestyle='--',\n",
    "             ).animate(movie='/Users/yao/Desktop/bz_t1.gif')"
   ]
  },
  {
   "cell_type": "code",
   "execution_count": null,
   "id": "48b98fdc-9c5c-40c3-9a62-a363bdcec0af",
   "metadata": {},
   "outputs": [],
   "source": []
  },
  {
   "cell_type": "code",
   "execution_count": null,
   "id": "a46ce106-c2f2-4091-860c-9fdb53960830",
   "metadata": {},
   "outputs": [],
   "source": []
  },
  {
   "cell_type": "code",
   "execution_count": 1,
   "id": "96795183-d71a-4d79-bbb8-664370864c68",
   "metadata": {},
   "outputs": [],
   "source": [
    "import numpy as np\n",
    "import matplotlib as mpl\n",
    "# mpl.use('pdf')\n",
    "import matplotlib.pyplot as plt"
   ]
  },
  {
   "cell_type": "code",
   "execution_count": 3,
   "id": "b714a549-737f-4f9c-9545-68ef8a217265",
   "metadata": {},
   "outputs": [],
   "source": [
    "plt.rc('font', family='sans-serif', serif='Arial')\n",
    "plt.rc('text', usetex=True)\n",
    "plt.rc('xtick', labelsize=12)\n",
    "plt.rc('ytick', labelsize=12)\n",
    "plt.rc('axes', labelsize=12)"
   ]
  },
  {
   "cell_type": "code",
   "execution_count": 45,
   "id": "2fd6182a-3f58-43db-a216-b36f8cc82605",
   "metadata": {},
   "outputs": [],
   "source": [
    "time = np.array([2, 3, 4, 6, 8, 10, 12]) # ns\n",
    "size_on_screen = np.array([2.1, 2.69, 3, 5.37, 6.24, 7.15, 8.26]) # cm\n",
    "\n",
    "def rescale(x):\n",
    "    return x*17/6.79"
   ]
  },
  {
   "cell_type": "code",
   "execution_count": 46,
   "id": "cc85e495-c2d9-4a2b-aaaa-820bf61c1583",
   "metadata": {},
   "outputs": [
    {
     "name": "stdout",
     "output_type": "stream",
     "text": [
      "[ 5.25773196  6.73490427  7.51104566 13.44477172 15.62297496 17.90132548\n",
      " 20.68041237]\n"
     ]
    }
   ],
   "source": [
    "size_in_physics = rescale(size_on_screen) # in mm\n",
    "print(size_in_physics)"
   ]
  },
  {
   "cell_type": "code",
   "execution_count": 34,
   "id": "0e4e4f91-7d67-496a-8348-f16c67ed4614",
   "metadata": {},
   "outputs": [],
   "source": [
    "def lin_reg(x_data, y_data):\n",
    "    n = np.size(x_data)\n",
    "    \n",
    "    xm = np.mean(x_data)\n",
    "    ym = np.mean(y_data)\n",
    "    S1 = np.sum(x_data*y_data) - n*xm*ym\n",
    "    S2 = np.sum(x_data**2) - n*xm**2\n",
    "    \n",
    "    a1 = S1/S2\n",
    "    a0 = ym - a1*xm\n",
    "    \n",
    "    return (a0,a1)"
   ]
  },
  {
   "cell_type": "code",
   "execution_count": 47,
   "id": "412135fb-d85e-49ea-8c64-0f01dd8d6dc5",
   "metadata": {},
   "outputs": [],
   "source": [
    "a0_7bar, a1_7bar = lin_reg(time, size_in_physics/2.)"
   ]
  },
  {
   "cell_type": "code",
   "execution_count": 56,
   "id": "2450abf0-4860-4de6-839a-e14a3ca0145b",
   "metadata": {},
   "outputs": [],
   "source": [
    "width  = 3.487 \n",
    "height = width / 1.618 * 1.5\n",
    "\n",
    "fig, ax = plt.subplots()\n",
    "fig.subplots_adjust(left=.15, bottom=.16, right=.99, top=.97)\n",
    "\n",
    "\n",
    "x = np.linspace(time[0],time[-1],50)\n",
    "\n",
    "ax.plot(x, a0_7bar+a1_7bar*x, 'b-',\n",
    "        label='Expansion velocity v0 = {:.1e} km/s'.format(a1_7bar*1e3)\n",
    "       )\n",
    "\n",
    "ax.plot(time, size_in_physics/2., 'ro',\n",
    "        label='Experimental data',\n",
    "       )\n",
    "\n",
    "\n",
    "\n",
    "ax.set_xlabel(\"Time (ns)\")\n",
    "ax.set_ylabel(\"Radius (mm)\")\n",
    "ax.set_xlim([time[0],time[-1]])\n",
    "ax.set_ylim([2,12])\n",
    "# ax.set_title('Expansion velocity v = {:.1e} m/s'.format(a1*1e3))\n",
    "ax.legend()\n",
    "\n",
    "fig.set_size_inches(width, height)\n",
    "\n",
    "\n",
    "\n",
    "# fig.savefig('/Users/yao/Desktop/plot.pdf')"
   ]
  },
  {
   "cell_type": "code",
   "execution_count": 57,
   "id": "2cfb0096-f5e0-4f6d-9036-c418f02a3db0",
   "metadata": {},
   "outputs": [],
   "source": [
    "fig.savefig('/Users/yao/Desktop/plot_7bars.pdf')"
   ]
  },
  {
   "cell_type": "code",
   "execution_count": null,
   "id": "84b5cbf6-3a74-4f8b-968d-e5e530ec6faf",
   "metadata": {},
   "outputs": [],
   "source": []
  },
  {
   "cell_type": "code",
   "execution_count": null,
   "id": "1d92902a-cc02-47cf-8371-62e2c71057cf",
   "metadata": {},
   "outputs": [],
   "source": []
  },
  {
   "cell_type": "code",
   "execution_count": 58,
   "id": "259abf10-fe5c-4bad-a3c6-70056ccd9d4f",
   "metadata": {},
   "outputs": [],
   "source": [
    "# for pressure of 4 bars H2\n",
    "x_data = np.array([3.0,   5.0,   6.0,   7.0,   8.0])\n",
    "y_data = np.array([9.51, 13.97, 15.45, 18.38, 20.68])\n",
    "a0,a1 = lin_reg(x_data,y_data/2.)"
   ]
  },
  {
   "cell_type": "code",
   "execution_count": 59,
   "id": "5b3fb5fe-9ba7-463c-b257-3f5a883b58c6",
   "metadata": {},
   "outputs": [],
   "source": [
    "width  = 3.487 \n",
    "height = width / 1.618 * 1.5\n",
    "\n",
    "fig, ax = plt.subplots()\n",
    "fig.subplots_adjust(left=.15, bottom=.16, right=.99, top=.97)\n",
    "\n",
    "\n",
    "x = np.linspace(2,10,50)\n",
    "\n",
    "ax.plot(x, a0+a1*x, 'b-',\n",
    "        label='Expansion velocity v0 = {:.1e} km/s'.format(a1*1e3)\n",
    "       )\n",
    "\n",
    "ax.plot(x_data,y_data/2.,'ro',\n",
    "        label='Experimental data',\n",
    "       )\n",
    "\n",
    "\n",
    "\n",
    "ax.set_xlabel(\"Time (ns)\")\n",
    "ax.set_ylabel(\"Radius (mm)\")\n",
    "ax.set_xlim([3,8])\n",
    "ax.set_ylim([4,12])\n",
    "# ax.set_title('Expansion velocity v = {:.1e} m/s'.format(a1*1e3))\n",
    "ax.legend()\n",
    "\n",
    "fig.set_size_inches(width, height)\n",
    "\n",
    "\n",
    "\n",
    "# fig.savefig('/Users/yao/Desktop/plot.pdf')"
   ]
  },
  {
   "cell_type": "code",
   "execution_count": 60,
   "id": "d8fd390a-ce45-4765-8c5e-e71f8c84cacd",
   "metadata": {},
   "outputs": [],
   "source": [
    "fig.savefig('/Users/yao/Desktop/plot.pdf')"
   ]
  },
  {
   "cell_type": "code",
   "execution_count": 11,
   "id": "87578841-d2ac-4514-9337-7d9d96821639",
   "metadata": {},
   "outputs": [
    {
     "data": {
      "text/plain": [
       "2.729054054054103"
      ]
     },
     "execution_count": 11,
     "metadata": {},
     "output_type": "execute_result"
    }
   ],
   "source": [
    "a0"
   ]
  },
  {
   "cell_type": "code",
   "execution_count": 35,
   "id": "45122750-aa8a-40dc-8793-0a75b6fe9828",
   "metadata": {},
   "outputs": [],
   "source": [
    "# for pressure of 4 bars H2\n",
    "x_data = np.array([3.0,   5.0,   6.0,   7.0,   8.0]) # time in ns\n",
    "y_data = np.array([9.51, 13.97, 15.45, 18.38, 20.68]) # size (diameter) in mm"
   ]
  },
  {
   "cell_type": "code",
   "execution_count": 6,
   "id": "9809f675-ca69-4042-b519-6e45fdd667fc",
   "metadata": {},
   "outputs": [
    {
     "data": {
      "text/plain": [
       "1500000.0"
      ]
     },
     "execution_count": 6,
     "metadata": {},
     "output_type": "execute_result"
    }
   ],
   "source": [
    "0.015 * 3e8 /3"
   ]
  },
  {
   "cell_type": "code",
   "execution_count": 8,
   "id": "ffaee5cf-8e25-480d-b299-38a3ce948691",
   "metadata": {},
   "outputs": [
    {
     "data": {
      "text/plain": [
       "1.5"
      ]
     },
     "execution_count": 8,
     "metadata": {},
     "output_type": "execute_result"
    }
   ],
   "source": [
    "4.5e-3 / 3e-9 * 1e-9 * 1e3"
   ]
  },
  {
   "cell_type": "code",
   "execution_count": null,
   "id": "9ceb213a-7580-49fa-9361-d42f4317077c",
   "metadata": {},
   "outputs": [],
   "source": []
  }
 ],
 "metadata": {
  "kernelspec": {
   "display_name": "Python 3 (ipykernel)",
   "language": "python",
   "name": "python3"
  },
  "language_info": {
   "codemirror_mode": {
    "name": "ipython",
    "version": 3
   },
   "file_extension": ".py",
   "mimetype": "text/x-python",
   "name": "python",
   "nbconvert_exporter": "python",
   "pygments_lexer": "ipython3",
   "version": "3.9.18"
  }
 },
 "nbformat": 4,
 "nbformat_minor": 5
}
