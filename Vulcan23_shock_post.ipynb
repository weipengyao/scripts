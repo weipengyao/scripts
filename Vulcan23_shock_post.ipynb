{
 "cells": [
  {
   "cell_type": "code",
   "execution_count": 1,
   "id": "af5189ea-2d9d-4ea7-b098-ce761c7ee2ff",
   "metadata": {},
   "outputs": [
    {
     "name": "stderr",
     "output_type": "stream",
     "text": [
      "2024-02-20 09:42:33.334 Python[56488:1205838] WARNING: Secure coding is not enabled for restorable state! Enable secure coding by implementing NSApplicationDelegate.applicationSupportsSecureRestorableState: and returning YES.\n"
     ]
    }
   ],
   "source": [
    "%matplotlib qt\n",
    "# Linear regression\n"
   ]
  },
  {
   "cell_type": "code",
   "execution_count": 2,
   "id": "9420bdc2-7987-4782-97bc-bf27a47e3719",
   "metadata": {},
   "outputs": [
    {
     "name": "stderr",
     "output_type": "stream",
     "text": [
      "/var/folders/2t/97rc3fl92tg15k2l_4sk5hsh0000gn/T/ipykernel_56488/1333008397.py:6: MatplotlibDeprecationWarning: The get_cmap function was deprecated in Matplotlib 3.7 and will be removed two minor releases later. Use ``matplotlib.colormaps[name]`` or ``matplotlib.colormaps.get_cmap(obj)`` instead.\n",
      "  jetcmap = plt.cm.get_cmap(\"jet\", 9) #generate a jet map with 10 values \"rainbow\", \"jet\", YlOrRd\n"
     ]
    }
   ],
   "source": [
    "import matplotlib as mpl\n",
    "import happi\n",
    "import numpy as np\n",
    "import matplotlib.pyplot as plt\n",
    "\n",
    "jetcmap = plt.cm.get_cmap(\"jet\", 9) #generate a jet map with 10 values \"rainbow\", \"jet\", YlOrRd\n",
    "jet_vals = jetcmap(np.arange(9)) #extract those values as an array \n",
    "jet_vals[0] = [1.0, 1, 1.0, 1] #change the first value \n",
    "jet_vals[8] = [0.0, 0, 0.0, 1] #change the first value \n",
    "newcmap = mpl.colors.LinearSegmentedColormap.from_list(\"mine\", jet_vals) \n",
    "\n",
    "plt.rc('font', family='sans-serif', serif='Arial')\n",
    "plt.rc('text', usetex=False)\n",
    "plt.rc('xtick', labelsize=13)\n",
    "plt.rc('ytick', labelsize=13)\n",
    "plt.rc('axes', labelsize=13)\n",
    "plt.rc('legend', fontsize=10)"
   ]
  },
  {
   "cell_type": "code",
   "execution_count": 3,
   "id": "35da7c78-c70b-4fe0-89fe-7ca0d9219465",
   "metadata": {},
   "outputs": [],
   "source": [
    "wkdir = [\n",
    "    # '/Users/yao/Desktop/Data/DS_t0/', # test 0 -> needs longer plasma and time\n",
    "    # '/Users/yao/Desktop/Data/DS_t1/', # test 1 -> longer plasma and time\n",
    "    # '/Users/yao/Desktop/Data/SS_t2/', # test 2 -> single shock with v=3000 km/s\n",
    "    # '/Users/yao/Desktop/Data/SS_t3/', # test 3 -> single shock with v=3000 km/s\n",
    "    # '/Users/yao/Desktop/Data/SS_velocities/SS_t5/',   # test 4 -> larger box size\n",
    "    '/Users/yao/Desktop/Data/SS_t3000_Nia/',\n",
    "    # '/Users/yao/Nextcloud/PROJECTS/Vulcan/RAL_August2023/Archive/'\n",
    "    ]"
   ]
  },
  {
   "cell_type": "code",
   "execution_count": 4,
   "id": "8eda47fe-7e22-4a3c-bdae-222e857de67b",
   "metadata": {},
   "outputs": [
    {
     "name": "stdout",
     "output_type": "stream",
     "text": [
      "Loaded simulation '/Users/yao/Desktop/Data/SS_t3000_Nia/'\n",
      "Scanning for Scalar diagnostics\n",
      "Scanning for Field diagnostics\n",
      "Scanning for Probe diagnostics\n",
      "Scanning for ParticleBinning diagnostics\n",
      "Scanning for RadiationSpectrum diagnostics\n",
      "Scanning for Performance diagnostics\n",
      "Scanning for Screen diagnostics\n",
      "Scanning for Tracked particle diagnostics\n",
      "Scanning for new particle diagnostics\n"
     ]
    }
   ],
   "source": [
    "S = happi.Open(wkdir[0], reference_angular_frequency_SI = 56375055300167.87)\n",
    "# S1 = happi.Open(wkdir[1], reference_angular_frequency_SI = 56375055300167.87)\n"
   ]
  },
  {
   "cell_type": "code",
   "execution_count": 5,
   "id": "b1139005-87af-46d4-852a-fa9258f241b4",
   "metadata": {},
   "outputs": [],
   "source": [
    "# prepare constants, units\n",
    "\n",
    "me = 9.1e-31\n",
    "mp = 1836.*me\n",
    "qe = 1.6e-19\n",
    "ep = 8.9e-12  # epsilon_0\n",
    "c  = 3.0e8\n",
    "wr = S.namelist.w_r\n",
    "de = c / wr\n",
    "Lx = S.namelist.L_x.real * de * 1e3      # in mm\n",
    "dx = S.namelist.d_x * de * 1e3           # in mm\n",
    "\n",
    "Te = S.namelist.T_e * 511.e3             # in eV\n",
    "ne = 1.0e18                              # in cm-3\n",
    "ld = 7.43e2 * Te**0.5 * ne**(-0.5) * 10. # in mm\n",
    "dt = S.namelist.d_t\n",
    "\n",
    "B0 = S.namelist.B_z * (me * wr / qe)\n",
    "wc = qe * B0 / me"
   ]
  },
  {
   "cell_type": "code",
   "execution_count": 6,
   "id": "8700b384-d670-4c98-8f6d-49da917812ea",
   "metadata": {},
   "outputs": [
    {
     "data": {
      "text/plain": [
       "9.939626937610848"
      ]
     },
     "execution_count": 6,
     "metadata": {},
     "output_type": "execute_result"
    }
   ],
   "source": [
    "B0 "
   ]
  },
  {
   "cell_type": "code",
   "execution_count": 6,
   "id": "83d386d7-6fec-46bc-8d03-c7fbe54e469c",
   "metadata": {},
   "outputs": [],
   "source": [
    "# Function for spectrum\n",
    "\n",
    "def spect_load_1d(wkdir,time,species,xmin,xmax):\n",
    "    \"\"\"\n",
    "    Inputs ----\n",
    "    wkdir      : string, data directory\n",
    "    time       : float,  [0,1] of the time_end \n",
    "    species    : int,    which species you want to plot\n",
    "                         according to your own diagnostic in the Namelist\n",
    "    xmin, xmax : float,  spatial selections, NOTE: in unit of de\n",
    "    \n",
    "    Outputs ---\n",
    "    ekin       : float,  x-axis, energy(E) in MeV\n",
    "    num        : float,  y-axis, E \\frac{dN}{dE} \\frac{1}{N}\n",
    "                                 N  is the total number of particles\n",
    "                                 dN is the number of particles in each energy range (dE)\n",
    "                                 dE is the energy range\n",
    "    simu_time  : float,  simulation time\n",
    "    \"\"\"\n",
    "#     S = happi.Open(wkdir)                        # No need to open the data again.\n",
    "    dt = S.namelist.d_t                            # get simulation timestep\n",
    "    ts = S.ParticleBinning(species).getTimesteps() # get all the timesteps available for this diag.\n",
    "    iteration = int(ts[-2] * time)                 # choose the time you want by a factor of [0,1]*T_end\n",
    "    simu_time = iteration * dt / wr                # convert it into real unit\n",
    "    pb = S.ParticleBinning(species).get(iteration) # get the diag. data from the chosen timestep\n",
    "    \n",
    "    xx   = pb['x'] * de * 1e3                      # get position information and convert the unit to mm\n",
    "    ekin = pb['ekin'] * 0.511                      # get energy information (E) and convert the unit to MeV -- the x-axis\n",
    "    data = pb['data'][0]                           # get the particle number information\n",
    "    data_selected = data[(xx>xmin) & (xx<xmax),:]  # select particle number according to position\n",
    "                                                   # for our case now, this doesn't make much difference.\n",
    "    \n",
    "    data_ekin = np.sum(data_selected,axis=0)       # dN, ?? can't remember... you might want to check what it does\n",
    "    dE = ekin[1]-ekin[0]                           # dE, energy range\n",
    "    total_weight = np.sum(data)                    # N, total number of the selected portion\n",
    "    num = data_ekin * ekin / total_weight / dE     # E \\frac{dN}{dE} \\frac{1}{N} -- the y-axis\n",
    "    \n",
    "    return ekin, num, simu_time\n",
    "\n",
    "# Function for 2D streak map\n",
    "\n",
    "def prepare_streak_2D(case, num, field_name, frame):\n",
    "    \n",
    "    \"\"\"\n",
    "    case: string, Smilei case\n",
    "    num: '0', instant; '1', averaged \n",
    "    field_name: string, name of the field\n",
    "    frame: float, velocity of the reference frame\n",
    "    \"\"\"\n",
    "    var = case.Field(num,field_name,units=[\"mm\",\"ns\",\"cm^-3\",\"T\"]) # find the data\n",
    "    data_var = var.getData()                           # get the data out\n",
    "    data_var_2D = np.vstack(data_var)                  # transform it into 2D with (t,x)\n",
    "    data_var_t = var.getTimes()                        # get the t-axis\n",
    "    data_var_x = var.getAxis('x')                      # get the x-axis\n",
    "    \n",
    "    data_var_x_2D, data_var_t_2D = np.meshgrid(data_var_x, data_var_t, indexing='xy') # make the interpolation\n",
    "    \n",
    "    data_var_x_2D_frame = data_var_x_2D - frame * data_var_t_2D - Lx/2.               # change the reference frame (and the label) \n",
    "                                                                                      # note the unit used\n",
    "    return data_var_x_2D, data_var_x_2D_frame, data_var_t_2D, data_var_2D\n",
    "\n",
    "def Particle_trajectory(case, species, mass, condition):\n",
    "    \n",
    "    \"\"\"\n",
    "    case: string, Smilei case\n",
    "    species: string, name of the traced particle\n",
    "    mass: float, mass of the traced particle, used when calcuating momentum/energy etc.\n",
    "    condition: string, Smilei formatted, to select particles satisfying a certain conditions.\n",
    "    frame: float, velocity of the reference frame\n",
    "    \"\"\"\n",
    "    \n",
    "#     me = 9.1e-31\n",
    "#     c  = 3.0e8\n",
    "#     wr = S.namelist.w_r\n",
    "#     de = c / wr \n",
    "    \n",
    "    tp = case.TrackParticles(species,\n",
    "                             select = condition,\n",
    "                             axes=['x','px','py','pz','Ex','Ey','Bz','w'],\n",
    "                             units=[\n",
    "                                 # 'mm',\n",
    "                                 'ns'\n",
    "                             ],                     # TODO: Use normalized unit during calculation\n",
    "                             sort=True,\n",
    "                            )\n",
    "    data = tp.getData()                                           # get data\n",
    "    time_tmp = data['times']                                      # get time, in unit of wpe^{-1}\n",
    "    time_ns = np.linspace(0,tp.getTimes()[-1],time_tmp.size)      # transform time array into unit of ns.\n",
    "    \n",
    "    tp_px = data['px']                                            # extract all kinds of data\n",
    "    tp_py = data['py']\n",
    "    tp_pz = data['pz']\n",
    "    tp_Ex = data['Ex']\n",
    "    tp_Ey = data['Ey']\n",
    "    tp_Bz = data['Bz']\n",
    "    tp_x  = data['x']\n",
    "    tp_weight = data['w']\n",
    "    \n",
    "#     tp_x_frame = tp_x * de * 1e3 - frame * time_ns              # change reference frame, do it later.\n",
    "    \n",
    "    tp_E  = (tp_px**2 + tp_py**2 + tp_pz**2)*(me*c)**2 / 2. / mass / qe / 1e6  # energy, in Unit of MeV\n",
    "    tp_E = np.where(np.isfinite(tp_E),tp_E,0.)                                 # replace the inf/nan with 0.\n",
    "    \n",
    "    # find the particle with the highest energy at the last timestep \n",
    "    # (end of the simulation)\n",
    "    [timestep, particle_number] = np.unravel_index(tp_E[-1].argmax(), tp_E.shape)\n",
    "    \n",
    "    tp_x_sub = tp_x[:,particle_number]\n",
    "    tp_E_sub = tp_E[:,particle_number]\n",
    "    \n",
    "    return tp_x, tp_E, tp_px, tp_py, tp_pz, time_ns, tp_x_sub, tp_E_sub, tp_Ex, tp_Ey, tp_Bz, tp_weight, timestep, particle_number\n",
    "\n",
    "## Calculate the kinetic energy gained by Ex, Ey, and the total.\n",
    "\n",
    "def cal_kinetic_ene(part_id, E, Ex, Ey, px, py, time_ns):\n",
    "    '''\n",
    "    calculate the kinetic energy gained by Ex, Ey, and the total.\n",
    "    '''\n",
    "#     P_Ex = qe*ion2t_Ex[:, part_id]*kE*ion2t_px[:,part_id]*kp/mp\n",
    "#     P_Ey = qe*ion2t_Ey[:, part_id]*kE*ion2t_py[:,part_id]*kp/mp\n",
    "    \n",
    "    P_Ex = qe*Ex[:, part_id]*kE*px[:,part_id]*me*c/mp\n",
    "    P_Ey = qe*Ey[:, part_id]*kE*py[:,part_id]*me*c/mp\n",
    "\n",
    "    dt = time_ns[2] - time_ns[1]\n",
    "    \n",
    "    t_P_tot5 = []\n",
    "    for i in range(len(time_ns)-1):\n",
    "        t_P_tot5.append((time_ns[i+1]+time_ns[i])/2.)\n",
    "\n",
    "    K_Ex_5 = []\n",
    "    for i in range(len(Ex[:, part_id])-1):\n",
    "        K_Ex_5.append(sum(dt*1e-9*np.array(P_Ex[0:i+1]))/conv_MeV_J*1e3)\n",
    "\n",
    "    K_Ey_5 = []\n",
    "    for i in range(len(Ex[:, part_id])-1):\n",
    "        K_Ey_5.append(sum(dt*1e-9*np.array(P_Ey[0:i+1]))/conv_MeV_J*1e3)\n",
    "\n",
    "\n",
    "    # average functions every 10 timesteps\n",
    "    def average(func):\n",
    "        av = []\n",
    "        for i in np.arange(0, len(func)-1,10):\n",
    "            av.append((func[i]+func[i+1]+func[i+2]+func[i+3]+func[i+4]+func[i+5]+func[i+6]+func[i+7]+func[i+8]+func[i+9])/10)\n",
    "        return av\n",
    "    \n",
    "    def average_3(func):\n",
    "        av_3 = []\n",
    "        for i in np.arange(0, len(func)-1,3):\n",
    "            av_3.append((func[i]+func[i+1]+func[i+2])/3)\n",
    "        return av_3\n",
    "\n",
    "    K_tot = np.array(average_3(E[:, part_id]*1e3))\n",
    "    K_tot_t = np.array(average_3(t_P_tot5))\n",
    "    \n",
    "    return t_P_tot5, K_Ex_5, K_Ey_5, K_tot, K_tot_t\n",
    "    \n",
    "\n",
    "def plot_kinetic_ene(part_id, savedir):\n",
    "    width = 3.2 * 2\n",
    "    height = width / 1.618 \n",
    "    fig, ax = plt.subplots()\n",
    "\n",
    "    ax.plot(K_tot_t,K_tot,color='green', label=r'$K_{tot}$', linewidth=2.0)\n",
    "    ax.plot(t_P_tot5,K_Ex_5,color='red', linestyle='--',label=r'$K_{Ex}$',linewidth=2.0)\n",
    "    ax.plot(t_P_tot5,K_Ey_5,color='blue',linestyle=':', label=r'$K_{Ey}$',linewidth=2.0)\n",
    "    ax.plot(t_P_tot5,np.array(K_Ex_5)+np.array(K_Ey_5)+K_tot[0],color='cyan', linestyle='-.', linewidth=1.0, label=r'$K_{Ex}+K_{Ey}+K_{tot0}$',)\n",
    "\n",
    "\n",
    "    ax.set_xlabel('time [ns]')\n",
    "    ax.set_xlim([0,2.5])\n",
    "    ax.set_ylabel('$K_{tot}$ [keV]')\n",
    "#     ax.set_ylim([-40,120])\n",
    "\n",
    "    ax.legend()\n",
    "    ax.grid(linestyle='--', alpha=0.5)\n",
    "    ax.set_title('ID = {:.0f}'.format(part_id))\n",
    "\n",
    "    fig.set_size_inches(width, height)\n",
    "    fig.savefig(savedir+'KE_ID_'+str(part_id)+'.png', bbox_inches='tight',dpi=300)\n",
    "    plt.close()\n",
    "\n",
    "# conversion constants for fields and momentum (when taken from TrackParticle)\n",
    "kE = me*c*wr/qe  # V/m\n",
    "kp = me*c        # kg m/s\n",
    "kB = me*wr/qe    # T\n",
    "conv_MeV_J = 10**6*qe"
   ]
  },
  {
   "cell_type": "code",
   "execution_count": 12,
   "id": "de6c2922-c24a-4ae6-8665-4fe2c531622f",
   "metadata": {},
   "outputs": [],
   "source": [
    "ekin0, num0, t_end0 = spect_load_1d(wkdir[0], 1.0, 2, 0.0, Lx)\n",
    "# ekin1, num1, t_end1 = spect_load_1d(wkdir, 0.5, 1, 0.0, Lx)\n",
    "# ekin2, num2, t_end2 = spect_load_1d(wkdir, 0.2, 1, 0.0, Lx)"
   ]
  },
  {
   "cell_type": "code",
   "execution_count": null,
   "id": "d2b3036a-efe1-49dd-a2db-9e25cd909e9b",
   "metadata": {},
   "outputs": [],
   "source": []
  },
  {
   "cell_type": "code",
   "execution_count": 13,
   "id": "cef3ad17-cc3e-4643-8c49-4e3c5678f9ab",
   "metadata": {},
   "outputs": [],
   "source": [
    "width  = 3.2 * 2\n",
    "height = width / 1.618\n",
    "fig, ax = plt.subplots()\n",
    "fig.subplots_adjust(left=.2, bottom=.2, right=.9, top=.9)\n",
    "# ax.loglog(ekin2, num2, '-g', label='{:.1f} ns'.format(t_end2*1e9), lw=2.0)\n",
    "# ax.loglog(ekin1, num1, '-b', label='{:.1f} ns'.format(t_end1*1e9), lw=2.0)\n",
    "ax.loglog(ekin0, num0, '-r', label='{:.1f} ns'.format(t_end0*1e9), lw=2.0)\n",
    "ax.tick_params(axis='both',which='both', direction='in')\n",
    "ax.set_xlabel(r'$E_{p}$ (MeV)')\n",
    "ax.set_ylabel(r'$E\\frac{dN}{dE}\\frac{1}{N}$')\n",
    "# ax.set_xlim([0.009, 0.2])\n",
    "ax.set_xticks([0.01, 0.05, 0.10])\n",
    "ax.set_xticklabels([0.01, 0.05, 0.10])\n",
    "# ax.set_ylim([1e-5, 1])\n",
    "ax.legend(loc='best', numpoints=1, fancybox=True, fontsize=12)\n",
    "ax.grid(which='both')\n",
    "fig.set_size_inches(width, height)"
   ]
  },
  {
   "cell_type": "code",
   "execution_count": 15,
   "id": "afe9304e-e0ee-4d96-9f98-cf15d06492a6",
   "metadata": {},
   "outputs": [],
   "source": [
    "# Fig.3, particle trajectories illustrating the acceleration mechanism\n",
    "\n",
    "# prepare packages\n",
    "\n",
    "import numpy as np\n",
    "import matplotlib.pyplot as plt\n",
    "import matplotlib as mpl\n",
    "\n",
    "from matplotlib.collections import LineCollection\n",
    "from matplotlib.colors import ListedColormap, BoundaryNorm, LogNorm\n",
    "\n",
    "from mpl_toolkits.axes_grid1 import make_axes_locatable\n",
    "from matplotlib.ticker import LogLocator\n",
    "\n",
    "# prepare to convert to center-of-mass reference frame \n",
    "n1   = 2e18     # drifting plasma, number density\n",
    "n2   = 1e18     # ambient plasma, number density\n",
    "v1   = 3.0e6    # drifting velocity, m/s\n",
    "v2   = 0.0\n",
    "vcom = (n1*v1 + n2*v2) / (n1+n2) # center-of-mass reference frame, m/s\n",
    "vcom_mm_ns = vcom * 1e-6         # in unit of mm/ns\n",
    "\n",
    "# prepare to convert to discontinuity reference frame\n",
    "vcd =0 # 0.86*2+0.25 # mm/ns, read from the x-t plot.\n",
    "\n",
    "# get data for 2D streak map\n",
    "Bz_x_0, Bz_x, Bz_t, Bz = prepare_streak_2D(S, 0, 'Bz', vcom_mm_ns)\n",
    "ni_x_0, ni_x, ni_t, ni = prepare_streak_2D(S, 0, 'Rho_ion1+Rho_ion2', vcom_mm_ns)\n",
    "\n",
    "Bz_x_1, Bz_x_cd,  Bz_t_cd,  Bz_cd  = prepare_streak_2D(S, 0, 'Bz', vcd)\n",
    "ni_x_1, ni_x_cd,  ni_t_cd,  ni_cd  = prepare_streak_2D(S, 0, 'Rho_ion1+Rho_ion2', vcd)\n",
    "Ex_x_2, Ex_x_cd2, Ex_t_cd2, Ex_cd2 = prepare_streak_2D(S, 1, 'Ex', vcd)\n",
    "Ey_x_2, Ey_x_cd2, Ey_t_cd2, Ey_cd2 = prepare_streak_2D(S, 1, 'Ey', vcd)\n",
    "Bz_x_2, Bz_x_cd2, Bz_t_cd2, Bz_cd2 = prepare_streak_2D(S, 1, 'Bz', vcd)"
   ]
  },
  {
   "cell_type": "code",
   "execution_count": null,
   "id": "cc1ac015-b9d8-4a0d-89c8-a1e378312471",
   "metadata": {},
   "outputs": [],
   "source": [
    "# particle selection condition\n",
    "# TODO: in this Smilei formatted string, you can't use the self-defined constants.\n",
    "condition_p1 = \"any(t>0, ((px**2+py**2+pz**2)*(9.1e-31*3.0e8)**2/2./(1836*9.1e-31)/1.6e-19/1e6 > 0.1) * ((px**2+py**2+pz**2)*(9.1e-31*3.0e8)**2/2./(1836*9.1e-31)/1.6e-19/1e6 < 0.15))\"\n",
    "condition_p2 = \"any(t>0, ((px**2+py**2+pz**2)*(9.1e-31*3.0e8)**2/2./(1836*9.1e-31)/1.6e-19/1e6 > 0.1) * ((px**2+py**2+pz**2)*(9.1e-31*3.0e8)**2/2./(1836*9.1e-31)/1.6e-19/1e6 > 0.15))\"\n",
    "\n",
    "# get particle tracer data\n",
    "\n",
    "ion1t_x, ion1t_E, \\\n",
    "ion1t_px, ion1t_py, ion1t_pz, \\\n",
    "ion1t_time_ns, ion1t_x_sub, ion1t_E_sub, \\\n",
    "ion1t_Ex, ion1t_Ey, ion1t_Bz, \\\n",
    "ion1t_weight, ion1t_ts, ion1t_id = Particle_trajectory(S, 'ion1t', mp, condition_p1)\n",
    "\n",
    "ion2t_x, ion2t_E, \\\n",
    "ion2t_px, ion2t_py, ion2t_pz, \\\n",
    "ion2t_time_ns, ion2t_x_sub, ion2t_E_sub, \\\n",
    "ion2t_Ex, ion2t_Ey, ion2t_Bz, \\\n",
    "ion2t_weight, ion2t_ts, ion2t_id = Particle_trajectory(S, 'ion2t', mp, condition_p2)\n",
    "\n",
    "# ss_t2: 54 for ion1t, 46 for ion2t\n",
    "\n"
   ]
  },
  {
   "cell_type": "code",
   "execution_count": 9,
   "id": "0652d90b-71fa-415c-b6fc-d3e78bf89cc6",
   "metadata": {},
   "outputs": [
    {
     "data": {
      "text/plain": [
       "array([0.00000000e+00, 1.77383418e-03, 3.54766836e-03, ...,\n",
       "       2.65720360e+00, 2.65897744e+00, 2.66075127e+00])"
      ]
     },
     "execution_count": 9,
     "metadata": {},
     "output_type": "execute_result"
    }
   ],
   "source": [
    "ion2t_time_ns"
   ]
  },
  {
   "cell_type": "code",
   "execution_count": 10,
   "id": "7fcf9f59-949f-44ab-9f4c-00a7b4e38cae",
   "metadata": {},
   "outputs": [],
   "source": [
    "## check every particle\n",
    "\n",
    "for part_id in range(46):\n",
    "    t_P_tot5, K_Ex_5, K_Ey_5, K_tot, K_tot_t = cal_kinetic_ene(part_id, ion2t_E, ion2t_Ex, \n",
    "                                                               ion2t_Ey, ion2t_px, ion2t_py, \n",
    "                                                               ion2t_time_ns)\n",
    "    plot_kinetic_ene(part_id, wkdir[0])\n",
    "\n",
    "\n"
   ]
  },
  {
   "cell_type": "code",
   "execution_count": 13,
   "id": "91fb4a8b-9270-4262-8e19-76bdeaba5758",
   "metadata": {},
   "outputs": [],
   "source": [
    "for part_id in range(54):\n",
    "    t_P_tot5, K_Ex_5, K_Ey_5, K_tot, K_tot_t = cal_kinetic_ene(part_id, ion1t_E, ion1t_Ex, \n",
    "                                                               ion1t_Ey, ion1t_px, ion1t_py, \n",
    "                                                               ion1t_time_ns)\n",
    "    plot_kinetic_ene(part_id, wkdir[0])"
   ]
  },
  {
   "cell_type": "code",
   "execution_count": 14,
   "id": "7c83a350-bf78-492e-bc71-c8fca1e1cf48",
   "metadata": {},
   "outputs": [],
   "source": [
    "nt = ion1t_time_ns.size\n",
    "t_end = S.namelist.t_end / wr * 1e9\n",
    "time_ns = np.linspace(0.,t_end,nt)\n",
    "\n",
    "ion2t_x_frame = np.zeros_like(ion2t_x)\n",
    "ion2t_x_vcd   = np.zeros_like(ion2t_x)\n",
    "# ion2t_px_vcd  = zeros_like(ion2t_px)\n",
    "# ion2t_E_vcd  = zeros_like(ion2t_E)\n",
    "for i in range(46):     # Note that here the loop-number should be the num. of particles.\n",
    "    ion2t_x_frame[:,i] = ion2t_x[:,i]*de*1e3 - vcom_mm_ns*time_ns - Lx/2.\n",
    "    ion2t_x_vcd[:,i]   = ion2t_x[:,i]*de*1e3 - vcd       *time_ns - Lx/2.\n",
    "#     ion2t_px_vcd[:,i]  = ion2t_px[:,i]*me*c - vcd*1e6*mp   # in the unit of kgm/s\n",
    "#     ion2t_E_vcd[:,i]   = (ion2t_px_vcd[:,i]**2 + (ion2t_py[:,i]*me*c)**2 + (ion2t_pz[:,i]*me*c)**2) / 2. / mp / qe / 1e6\n",
    "    \n",
    "ion1t_x_frame = np.zeros_like(ion1t_x)\n",
    "ion1t_x_vcd   = np.zeros_like(ion1t_x)\n",
    "ion1t_px_vcd  = np.zeros_like(ion1t_px)\n",
    "ion1t_E_vcd   = np.zeros_like(ion1t_E)\n",
    "for i in range(111):\n",
    "    ion1t_x_frame[:,i] = ion1t_x[:,i]*de*1e3 - vcom_mm_ns*time_ns - Lx/2.\n",
    "    ion1t_x_vcd[:,i]   = ion1t_x[:,i]*de*1e3 - vcd       *time_ns - Lx/2.\n",
    "#     ion1t_px_vcd[:,i]  = ion1t_px[:,i]*me*c - vcd*1e6*mp   # in the unit of kgm/s\n",
    "#     ion1t_E_vcd[:,i]   = (ion1t_px_vcd[:,i]**2 + (ion1t_py[:,i]*me*c)**2 + (ion1t_pz[:,i]*me*c)**2) / 2. / mp / qe / 1e6"
   ]
  },
  {
   "cell_type": "code",
   "execution_count": 15,
   "id": "91b433ab-3b7f-4f8b-beeb-a5806340c25b",
   "metadata": {},
   "outputs": [
    {
     "data": {
      "text/plain": [
       "<matplotlib.legend.Legend at 0x1277fc6d0>"
      ]
     },
     "execution_count": 15,
     "metadata": {},
     "output_type": "execute_result"
    }
   ],
   "source": [
    "plt.plot(ion2t_x_vcd[:,3],  time_ns, lw=2.0, label='{:.1f}'.format(ion2t_id))\n",
    "plt.plot(ion2t_x_vcd[:,2],  time_ns, lw=2.0, label='{:.1f}'.format(ion2t_id))\n",
    "plt.plot(ion2t_x_vcd[:,1],  time_ns, lw=2.0, label='{:.1f}'.format(ion2t_id))\n",
    "plt.plot(ion1t_x_vcd[:,1],  time_ns, lw=2.0)\n",
    "plt.legend()"
   ]
  },
  {
   "cell_type": "code",
   "execution_count": 21,
   "id": "da05aba6-7bfd-4a5f-b45d-1e00d550d258",
   "metadata": {},
   "outputs": [],
   "source": [
    "# From this point, the post-process will become quite customized.\n",
    "# It will be highly dependent on what you want to show.\n",
    "\n",
    "# Draw the figure of x-t-ni/Bz\n",
    "width = 3.2 * 2\n",
    "height = width / 1.618\n",
    "fig, axs = plt.subplots()\n",
    "\n",
    "# cs1 = axs.pcolormesh(Bz_x_cd2, Bz_t_cd2, np.log10(Bz_cd2**2),cmap=plt.cm.Greys)\n",
    "# cs1 = axs.pcolormesh(ni_x, ni_t, ni,cmap=plt.cm.jet)#,vmin=0,vmax=6.0e18)\n",
    "cs1 = axs.pcolormesh(ni_x_cd, ni_t_cd, ni_cd,cmap=plt.cm.jet,vmin=0,vmax=16.0)\n",
    "cs1.cmap.set_under(color='white')\n",
    "cs1.cmap.set_over(color='black')\n",
    "ax1_divider = make_axes_locatable(axs)\n",
    "cax1=ax1_divider.append_axes(\"right\", size=\"4%\", pad=\"2%\")\n",
    "# cbar1=fig.colorbar(cs1, ax=fig, cax=cax1, orientation=\"vertical\", label=r'$log_{10}(|B_z|^2)$')\n",
    "cbar1=fig.colorbar(cs1, ax=fig, cax=cax1, orientation=\"vertical\", label=r'$n_i$ (1e18 cm$^{-3}$)')\n",
    "cbar1.ax.tick_params()\n",
    "cax1.xaxis.set_ticks_position(\"top\")\n",
    "axs.tick_params(axis='both')\n",
    "axs.set_xlabel('x (mm)')\n",
    "axs.set_ylabel('t (ns)')\n",
    "\n",
    "axs.plot(ion2t_x_vcd[:,0:46:4],  time_ns, lw=2.0, ls='--')\n",
    "axs.plot(ion1t_x_vcd[:,0:111:10],  time_ns, lw=2.0)\n",
    "\n",
    "# # axs.plot(ion2t_x_frame[:,0],  time_ns, lw=2.0, color='blue',   ls='--')\n",
    "# # axs.plot(ion2t_x_frame[:,7],  time_ns, lw=2.0, color='red',  ls='--')\n",
    "# # axs.plot(ion2t_x_frame[:,14], time_ns, lw=2.0, color='green', ls='--')\n",
    "# # axs.plot(ion1t_x_frame[:,0],  time_ns, lw=2.0, color='black')\n",
    "# # axs.plot(ion1t_x_frame[:,2],  time_ns, lw=2.0, color='m')\n",
    "\n",
    "# # axs.plot(ion2t_x_vcd[:,0],  time_ns, lw=2.0, color='blue',   ls='--')\n",
    "# axs.plot(ion2t_x_vcd[:,7],  time_ns, lw=2.0, color='red',  ls='--')\n",
    "# # axs.plot(ion2t_x_vcd[:,14], time_ns, lw=2.0, color='green', ls='--')\n",
    "# axs.plot(ion1t_x_vcd[:,0],  time_ns, lw=2.0, color='black')\n",
    "# axs.plot(ion1t_x_vcd[:,2],  time_ns, lw=2.0, color='m')\n",
    "\n",
    "\n",
    "axs.set_xlim([-2,1.0])\n",
    "axs.set_ylim([0,2.0])\n",
    "axs.set_aspect('equal')\n",
    "\n",
    "fig.set_size_inches(width,height)\n",
    "fig.tight_layout()\n",
    "\n"
   ]
  },
  {
   "cell_type": "code",
   "execution_count": 22,
   "id": "28fea1a6-5dd7-4684-8604-ce60c7086ff7",
   "metadata": {},
   "outputs": [],
   "source": [
    "fig.savefig('/Users/yao/Desktop/'+'trace_ni_xt2'+'.png',bbox_inches='tight',dpi=600)"
   ]
  },
  {
   "cell_type": "code",
   "execution_count": 74,
   "id": "f4f6af5d-8cbc-47b6-8c5e-94bdc92153f2",
   "metadata": {},
   "outputs": [
    {
     "data": {
      "text/plain": [
       "Text(0, 0.5, 'v [km/s]')"
      ]
     },
     "execution_count": 74,
     "metadata": {},
     "output_type": "execute_result"
    }
   ],
   "source": [
    "width = 3.2 * 2\n",
    "height = width / 1.618\n",
    "fig, axs = plt.subplots()\n",
    "part_id = 3\n",
    "# axs.plot(ion2t_x_frame[:,0],  ion2t_E[:,0],  lw=2.0, ls='--', color='blue')\n",
    "# axs.plot(ion2t_x_frame[:,7],  ion2t_E[:,7],  lw=2.0, ls='--', color='red')\n",
    "# axs.plot(ion2t_x_frame[:,14], ion2t_E[:,14], lw=2.0, ls='--', color='green')\n",
    "# axs.plot(ion1t_x_frame[:,0],  ion1t_E[:,0],  lw=2.0, color='black')\n",
    "# axs.plot(ion1t_x_frame[:,2],  ion1t_E[:,2],  lw=2.0, color='m')\n",
    "\n",
    "# axs.plot(ion2t_x_vcd[:,0],  ion2t_E[:,0],  lw=2.0, color='blue',   ls='--')\n",
    "# axs.plot(ion2t_x_vcd[:,7],  ion2t_E[:,7],  lw=2.0, color='red',  ls='--')\n",
    "# axs.plot(ion2t_x_vcd[:,14], ion2t_E[:,14], lw=2.0, color='green', ls='--')\n",
    "# axs.plot(ion1t_x_vcd[:,0],  ion1t_E[:,0],  lw=2.0, color='black')\n",
    "# axs.plot(ion1t_x_vcd[:,3],  ion1t_E[:,3],  lw=2.0, color='m')\n",
    "\n",
    "# axs.plot(ion2t_x_vcd[:,0],  ion2t_E[:,0],  lw=2.0, color='blue',   ls='--')\n",
    "# axs.plot(ion2t_x_vcd[:,7],  ion2t_E[:,7],  lw=2.0, color='red',  ls='--')\n",
    "# axs.plot(ion2t_x_vcd[:,14], ion2t_E[:,14], lw=2.0, color='green', ls='--')\n",
    "axs.plot(ion1t_x[:,part_id],  ion1t_px[:,part_id]*(me*c)/mp/1e3,  lw=2.0, color='blue', label=r'$V_x$')\n",
    "axs.plot(ion1t_x[:,part_id],  ion1t_py[:,part_id]*(me*c)/mp/1e3,  lw=2.0, color='red', label=r'$V_y$')\n",
    "# axs.plot(ion1t_x_vcd[:,3],  ion1t_E[:,3],  lw=2.0, color='m')\n",
    "\n",
    "# axs.set_xlim([-2,2])\n",
    "# axs.set_ylim([0,0.08])\n",
    "axs.legend()\n",
    "axs.set_xlabel('x [mm]')\n",
    "axs.set_ylabel('v [km/s]')"
   ]
  },
  {
   "cell_type": "code",
   "execution_count": 24,
   "id": "2925222b-2f3c-441a-9352-7afe3f88fb47",
   "metadata": {},
   "outputs": [],
   "source": [
    "width = 3.2 * 2\n",
    "height = width \n",
    "fig, axs = plt.subplots()\n",
    "\n",
    "id2 = 0\n",
    "\n",
    "# axs.plot(ion2t_px_vcd[:,0],  ion2t_py[:,0],  lw=2.0, ls='--', color='blue')\n",
    "axs.plot(ion2t_px[:1400,id2]*(me*c)/mp/1e3,  ion2t_py[:1400,id2]*(me*c)/mp/1e3,  lw=2.0, ls='--', color='red')\n",
    "# axs.plot(ion2t_px[:,14], ion2t_py[:,14], lw=2.0, ls='--', color='green')\n",
    "axs.plot(ion1t_px[:,0]*(me*c)/mp/1e3,  ion1t_py[:,0]*(me*c)/mp/1e3,  lw=2.0, color='black')\n",
    "axs.plot(ion1t_px[:,40]*(me*c)/mp/1e3,  ion1t_py[:,40]*(me*c)/mp/1e3,  lw=2.0, color='m')\n",
    "\n",
    "# axs.plot(ion2t_x_vcd[:,0],  ion2t_px[:,0],  lw=2.0, color='blue',   ls='--')\n",
    "# axs.plot(ion2t_x_vcd[:,7],  ion2t_px[:,7],  lw=2.0, color='red',  ls='--')\n",
    "# axs.plot(ion2t_x_vcd[:,14], ion2t_px[:,14], lw=2.0, color='green', ls='--')\n",
    "# axs.plot(ion1t_x_vcd[:,0],  ion1t_px[:,0],  lw=2.0, color='black')\n",
    "# # axs.plot(ion1t_x_vcd[:,3],  ion1t_px[:,3],  lw=2.0, color='m')\n",
    "# axs.plot(ion1t_x_vcd[:,0],  ion1t_py[:,0],  lw=2.0, color='black', ls='--')\n",
    "\n",
    "# axs.plot(time_ns,  ion1t_px[:,0],  lw=2.0, color='black')\n",
    "# # axs.plot(ion1t_x_vcd[:,3],  ion1t_px[:,3],  lw=2.0, color='m')\n",
    "# axs.plot(time_ns,  ion1t_py[:,0],  lw=2.0, color='black', ls='--')\n",
    "\n",
    "# axs.plot(time_ns,  ion2t_px[:,0],  lw=2.0, color='blue',   ls='-')\n",
    "# axs.plot(time_ns,  ion2t_py[:,0],  lw=2.0, color='blue',   ls='--')\n",
    "\n",
    "# axs.plot(ion1t_px[:,0],  ion1t_py[:,0],  lw=2.0, color='black')\n",
    "\n",
    "\n",
    "axs.set_xlim([-4000,6000])\n",
    "axs.set_ylim([-5000,5000])\n",
    "axs.grid()\n",
    "\n",
    "axs.set_xlabel(r'$V_x (km/s)$')\n",
    "axs.set_ylabel(r'$V_y (km/s)$')\n",
    "axs.set_aspect('equal')\n",
    "fig.tight_layout()\n",
    "\n",
    "fig.set_size_inches(width,height)"
   ]
  },
  {
   "cell_type": "code",
   "execution_count": 25,
   "id": "7fe74d79-d5f0-4bf3-925a-5812938e48d1",
   "metadata": {},
   "outputs": [],
   "source": [
    "fig.savefig('/Users/yao/Desktop/'+'trace_vxvy2'+'.png',bbox_inches='tight',dpi=600)"
   ]
  },
  {
   "cell_type": "code",
   "execution_count": null,
   "id": "b8dccb22-e9ab-46cd-82ca-08acb83a2dfe",
   "metadata": {},
   "outputs": [],
   "source": [
    "# Draw the figure of x-t-ni-E\n",
    "\n",
    "width = 3.2 * 3\n",
    "height = width / 1.618 \n",
    "fig, axs = plt.subplots()\n",
    "\n",
    "cs1 = axs.pcolormesh(Bz_x_cd2, Bz_t_cd2, np.log10(Bz_cd2**2),cmap=plt.cm.Greys)\n",
    "# cs1 = axs.pcolormesh(ni_x, ni_t, ni,cmap=plt.cm.Greys,vmin=0,vmax=6.0e18)\n",
    "# cs1 = axs.pcolormesh(ni_x_cd, ni_t_cd, ni_cd,cmap=plt.cm.Greys,vmin=0,vmax=16)\n",
    "cs1.cmap.set_under(color='white')\n",
    "cs1.cmap.set_over(color='black')\n",
    "ax1_divider = make_axes_locatable(axs)\n",
    "cax1=ax1_divider.append_axes(\"right\", size=\"4%\", pad=\"2%\")\n",
    "cbar1=fig.colorbar(cs1, ax=fig, cax=cax1, orientation=\"vertical\", label=r'$log_{10}(|B_z|^2)$')\n",
    "# cbar1=fig.colorbar(cs1, ax=fig, cax=cax1, orientation=\"vertical\", label=r'$n_i \\ [1e18 \\ cm^{-3}]$ ')\n",
    "cbar1.ax.tick_params()\n",
    "cax1.xaxis.set_ticks_position(\"top\")\n",
    "axs.tick_params(axis='both')\n",
    "axs.set_xlabel('x (mm)',fontsize=18)\n",
    "axs.set_ylabel('t (ns)',fontsize=18)\n",
    "\n",
    "axs.set_xlim([-2,1])\n",
    "axs.set_ylim([0,2])\n",
    "\n",
    "\n",
    "id = 20\n",
    "# points = np.array([ion2t_x_frame[:,0], time_ns]).T.reshape(-1, 1, 2)\n",
    "points = np.array([ion2t_x_vcd[:,id], time_ns]).T.reshape(-1, 1, 2)\n",
    "segments = np.concatenate([points[:-1], points[1:]], axis=1)\n",
    "\n",
    "norm = plt.Normalize(ion2t_E[:,id].min(), ion2t_E[:,id].max())\n",
    "lc = LineCollection(segments, norm=norm4,cmap=plt.cm.jet)\n",
    "# Set the values used for colormapping\n",
    "lc.set_array(ion2t_E[:,id])\n",
    "lc.set_linewidth(3)\n",
    "line = axs.add_collection(lc)\n",
    "\n",
    "id = 50#97\n",
    "points2 = np.array([ion1t_x_vcd[:,id], time_ns]).T.reshape(-1, 1, 2)\n",
    "segments2 = np.concatenate([points2[:-1], points2[1:]], axis=1)\n",
    "\n",
    "norm2 = plt.Normalize(ion1t_E[:,id].min(), ion1t_E[:,id].max())\n",
    "lc2 = LineCollection(segments2, norm=norm4,cmap=plt.cm.jet)\n",
    "# Set the values used for colormapping\n",
    "lc2.set_array(ion1t_E[:,id])\n",
    "lc2.set_linewidth(3)\n",
    "line2 = axs.add_collection(lc2)\n",
    "\n",
    "id = 30\n",
    "points3 = np.array([ion1t_x_vcd[:,id], time_ns]).T.reshape(-1, 1, 2)\n",
    "segments3 = np.concatenate([points3[:-1], points3[1:]], axis=1)\n",
    "\n",
    "norm3 = plt.Normalize(ion1t_E[:,id].min(), ion1t_E[:,id].max())\n",
    "lc3 = LineCollection(segments3, norm=norm4,cmap=plt.cm.jet)\n",
    "# Set the values used for colormapping\n",
    "lc3.set_array(ion1t_E[:,id])\n",
    "lc3.set_linewidth(3)\n",
    "line3 = axs.add_collection(lc3)\n",
    "\n",
    "id = 10\n",
    "points4= np.array([ion1t_x_vcd[:,id], time_ns]).T.reshape(-1, 1, 2)\n",
    "segments4 = np.concatenate([points4[:-1], points4[1:]], axis=1)\n",
    "\n",
    "norm4 = plt.Normalize(ion1t_E[:,id].min(), ion1t_E[:,id].max())\n",
    "lc4 = LineCollection(segments4, norm=norm4,cmap=plt.cm.jet)\n",
    "# Set the values used for colormapping\n",
    "lc4.set_array(ion1t_E[:,id])\n",
    "lc4.set_linewidth(3)\n",
    "line4 = axs.add_collection(lc4)\n",
    "\n",
    "cax0=fig.add_axes([0.12,0.93,0.72,0.02])\n",
    "cbar0=fig.colorbar(lc4, ax=fig, cax=cax0, orientation=\"horizontal\")\n",
    "cbar0.ax.tick_params()\n",
    "cax0.xaxis.set_ticks_position(\"bottom\")\n",
    "cbar0.ax.set_title('E (MeV)',fontsize=18)\n",
    "\n",
    "# fig.tight_layout()\n",
    "fig.set_size_inches(width, height)\n",
    "\n",
    "# fig.savefig('/Users/yz/Desktop/'+'trace_latest1'+'.png',bbox_inches='tight',dpi=300)"
   ]
  },
  {
   "cell_type": "code",
   "execution_count": 49,
   "id": "3a6dffb1-a6dc-42f5-9456-c578df672d7d",
   "metadata": {},
   "outputs": [],
   "source": [
    "fig.savefig('/Users/yao/Desktop/'+'trace_latest1'+'.png',bbox_inches='tight',dpi=600)"
   ]
  },
  {
   "cell_type": "code",
   "execution_count": null,
   "id": "3c1750fd-06fb-4a22-8d74-224f91fa4c72",
   "metadata": {},
   "outputs": [],
   "source": [
    "for i in range(111):\n",
    "    print(i, np.max(ion1t_E[:,i]))"
   ]
  },
  {
   "cell_type": "code",
   "execution_count": 51,
   "id": "7da35902-fc70-4c75-a9cf-1c944194c6ca",
   "metadata": {},
   "outputs": [
    {
     "data": {
      "text/plain": [
       "Text(0.5, 1.0, 'Wx (A.U.)')"
      ]
     },
     "execution_count": 51,
     "metadata": {},
     "output_type": "execute_result"
    }
   ],
   "source": [
    "# Draw the figure of x-t-ni-Fx\n",
    "\n",
    "# prepare Lorentz force\n",
    "# Here, the Ex contribution is not small, but high-frequency.\n",
    "# fx = qe * (ion2t_Ex[:,0]*me*wr*c/qe + ion2t_py[:,0]*me*c/mp * ion2t_Bz[:,0]*me*wr/qe)\n",
    "fx = qe * (ion2t_py[:,0]*me*c/mp * ion2t_Bz[:,0]*me*wr/qe)\n",
    "fy = qe * (ion2t_px[:,0]*me*c/mp * ion2t_Bz[:,0]*me*wr/qe) * -1.0\n",
    "\n",
    "# Prepare the work done by Lorentz force\n",
    "xx  = ion2t_x[:,0] * de\n",
    "# ddx = zeros_like(xx)\n",
    "# wx  = zeros_like(xx)\n",
    "# for i in range(xx.size-1):\n",
    "#     ddx[i+1] = xx[i+1] - xx[i]\n",
    "#     wx[i+1]  = wx[i] + fx[i+1] * ddx[i+1]\n",
    "wx = fx * xx\n",
    "wx_norm = wx / wx.max()\n",
    "wx_mev = wx / qe / 1e6  # convert it into MeV\n",
    "# dde = zeros_like(ion2t_E[:,0])\n",
    "# for i in range(dde.size-1):\n",
    "#     dde[i+1] = ion2t_E[i+1,0] - ion2t_E[i,0]\n",
    "\n",
    "width = 3.2 * 3\n",
    "height = width / 1.618 / 2 \n",
    "fig, axs = plt.subplots()\n",
    "\n",
    "# cs1 = axs.pcolormesh(Bz_x, Bz_t, np.log10(Bz**2),cmap=plt.cm.Greys)\n",
    "# cs1 = axs.pcolormesh(ni_x, ni_t, ni,cmap=plt.cm.Greys,vmin=0,vmax=6.0e18)\n",
    "cs1 = axs.pcolormesh(ni_x_cd, ni_t_cd, ni_cd,cmap=plt.cm.Greys,vmin=0,vmax=16)\n",
    "# cs1 = axs.pcolormesh(ni_x_0, ni_t_0, ni_0,cmap=plt.cm.Greys,vmin=0,vmax=6.0e18)\n",
    "cs1.cmap.set_under(color='white')\n",
    "cs1.cmap.set_over(color='black')\n",
    "ax1_divider = make_axes_locatable(axs)\n",
    "cax1=ax1_divider.append_axes(\"right\", size=\"4%\", pad=\"2%\")\n",
    "# cbar1=fig.colorbar(cs1, ax=fig, cax=cax1, orientation=\"vertical\", label=r'$log_{10}(|B_z|^2)$')\n",
    "cbar1=fig.colorbar(cs1, ax=fig, cax=cax1, orientation=\"vertical\", label=r'$n_i\\ (1e18\\ cm^{-3})$ ')\n",
    "cbar1.ax.tick_params()\n",
    "cax1.xaxis.set_ticks_position(\"top\")\n",
    "axs.tick_params(axis='both')\n",
    "axs.set_xlabel('x (mm)')\n",
    "axs.set_ylabel('t (ns)')\n",
    "\n",
    "axs.set_xlim([-2,1])\n",
    "axs.set_ylim([0,2])\n",
    "\n",
    "# points = np.array([ion2t_x_frame[:,0], time_ns]).T.reshape(-1, 1, 2)\n",
    "points = np.array([ion2t_x_vcd[:,0], time_ns]).T.reshape(-1, 1, 2)\n",
    "# points = np.array([ion2t_x[:,0]*de*1e3, time_ns]).T.reshape(-1, 1, 2)\n",
    "segments = np.concatenate([points[:-1], points[1:]], axis=1)\n",
    "\n",
    "norm = plt.Normalize(-1.0, 1.0)\n",
    "# norm = plt.Normalize(ion2t_E[:,0].min(), ion2t_E[:,0].max())\n",
    "lc = LineCollection(segments, norm=norm,cmap=plt.cm.seismic)\n",
    "# lc = LineCollection(segments, norm=norm,cmap=newcmap)\n",
    "# Set the values used for colormapping\n",
    "# lc.set_array(dde)\n",
    "lc.set_array(wx_norm)\n",
    "lc.set_linewidth(5)\n",
    "line = axs.add_collection(lc)\n",
    "\n",
    "cax0=fig.add_axes([0.12,0.93,0.72,0.02])\n",
    "cbar0=fig.colorbar(lc, ax=fig, cax=cax0, orientation=\"horizontal\")\n",
    "cbar0.ax.tick_params()\n",
    "cax0.xaxis.set_ticks_position(\"bottom\")\n",
    "cbar0.ax.set_title('Wx (A.U.)',fontsize=18)\n",
    "# cbar0.ax.set_title('Fx [kgm/s2]',fontsize=18)\n",
    "# fig.set_size_inches(width, height)"
   ]
  },
  {
   "cell_type": "code",
   "execution_count": 59,
   "id": "007364ed-f76a-4bd8-a874-23bd87b4b445",
   "metadata": {},
   "outputs": [
    {
     "data": {
      "text/plain": [
       "[<matplotlib.lines.Line2D at 0x137bb13d0>]"
      ]
     },
     "execution_count": 59,
     "metadata": {},
     "output_type": "execute_result"
    }
   ],
   "source": [
    "plt.plot(ni_cd[100,:])"
   ]
  },
  {
   "cell_type": "code",
   "execution_count": 52,
   "id": "2d2b9fa8-e1be-45c6-8230-e6b3df746523",
   "metadata": {},
   "outputs": [],
   "source": [
    "ion1t_1d = 50\n",
    "\n",
    "ion1t_Fx  = ion1t_Ex[:,ion1t_id] + ion1t_py[:,ion1t_id] * ion1t_Bz[:,ion1t_id]\n",
    "ion1t_Fx1 = ion1t_Ex[:,ion1t_id] \n",
    "ion1t_Fx2 = ion1t_py[:,ion1t_id] * ion1t_Bz[:,ion1t_id]\n",
    "\n",
    "ion1t_Fy  = ion1t_Ey[:,ion1t_id] - ion1t_px[:,ion1t_id] * ion1t_Bz[:,ion1t_id]\n",
    "ion1t_Fy1 = ion1t_Ey[:,ion1t_id] \n",
    "ion1t_Fy2 = -1.0 * ion1t_px[:,ion1t_id] * ion1t_Bz[:,ion1t_id]\n",
    "\n",
    "ion2t_Fx  = ion2t_Ex[:,ion2t_id] + ion2t_py[:,ion2t_id] * ion2t_Bz[:,ion2t_id]\n",
    "ion2t_Fx1 = ion2t_Ex[:,ion2t_id] \n",
    "ion2t_Fx2 = ion2t_py[:,ion2t_id] * ion2t_Bz[:,ion2t_id]\n",
    "\n",
    "ion2t_Fy  = ion2t_Ey[:,ion2t_id] - ion2t_px[:,ion2t_id] * ion2t_Bz[:,ion2t_id]\n",
    "ion2t_Fy1 = ion2t_Ey[:,ion2t_id] \n",
    "ion2t_Fy2 = -1.0 * ion2t_px[:,ion2t_id] * ion2t_Bz[:,ion2t_id]"
   ]
  },
  {
   "cell_type": "code",
   "execution_count": 53,
   "id": "8bcd0a50-212c-4f22-84ff-ff7e29a387c3",
   "metadata": {},
   "outputs": [],
   "source": [
    "fig, ax = plt.subplots()\n",
    "\n",
    "ax.plot(ion1t_x[:,ion1t_id]*de*1e3, ion1t_Fx/(me*c*wr)/1e8, color='red', lw=2.0, label='Fx')\n",
    "ax.plot(ion1t_x[:,ion1t_id]*de*1e3, ion1t_Fy/(me*c*wr)/1e8, color='blue', lw=2.0, label='Fy')\n",
    "ax.plot(ion1t_x[:,ion1t_id]*de*1e3, ion1t_time_ns/wr*1e9, color='black', lw=2.0, label='trajectory')\n",
    "ax.set_xlabel('position x (mm)')\n",
    "ax.set_ylabel('Lorentz force (normed)')\n",
    "ax.legend()\n",
    "ax.grid()\n",
    "fig.tight_layout()\n",
    "plt.show()"
   ]
  },
  {
   "cell_type": "code",
   "execution_count": 56,
   "id": "d439a29f-208b-4dfc-9216-c4958a58f1a7",
   "metadata": {},
   "outputs": [
    {
     "data": {
      "text/plain": [
       "1501"
      ]
     },
     "execution_count": 56,
     "metadata": {},
     "output_type": "execute_result"
    }
   ],
   "source": [
    "ion1t_Fx.size"
   ]
  },
  {
   "cell_type": "code",
   "execution_count": 58,
   "id": "4f5aeeec-1e66-4aaf-9919-b4c608af1190",
   "metadata": {},
   "outputs": [],
   "source": [
    "ion1t_W  = np.zeros_like(ion1t_Fx)\n",
    "\n",
    "for i in range(ion1t_Fx.size-1):\n",
    "    ion1t_W[i+1]  = ion1t_W[i]  + (ion1t_Fx[i+1]+ion1t_Fx[i])/2.  * (ion1t_x[i+1,ion1t_id] - ion1t_x[i,ion1t_id])*1e-3/de\n",
    "#     ion1t_W[i+1]  = ion1t_W[i+1]  + ion1t_Fx[i+1]  * (ion1t_x[i+1,ion1t_id] - ion1t_x[i,ion1t_id])*1e-3/de\n",
    "\n",
    "\n",
    "ion2t_W  = np.zeros_like(ion2t_Fx)\n",
    "\n",
    "for i in range(ion1t_Fx.size-1):\n",
    "    ion2t_W[i+1]  = ion2t_W[i]  + (ion2t_Fx[i+1]+ion2t_Fx[i])/2.  * (ion2t_x[i+1,ion2t_id] - ion2t_x[i,ion2t_id])*1e-3/de\n",
    "\n"
   ]
  },
  {
   "cell_type": "code",
   "execution_count": 59,
   "id": "007a55a1-f460-46f1-931c-ba683e6cb82a",
   "metadata": {},
   "outputs": [
    {
     "ename": "NameError",
     "evalue": "name 'ion1t_W1' is not defined",
     "output_type": "error",
     "traceback": [
      "\u001b[0;31m---------------------------------------------------------------------------\u001b[0m",
      "\u001b[0;31mNameError\u001b[0m                                 Traceback (most recent call last)",
      "Cell \u001b[0;32mIn[59], line 7\u001b[0m\n\u001b[1;32m      5\u001b[0m \u001b[38;5;66;03m# ax1.set_xlabel('time (ns)')\u001b[39;00m\n\u001b[1;32m      6\u001b[0m ax1\u001b[38;5;241m.\u001b[39mset_ylabel(\u001b[38;5;124m'\u001b[39m\u001b[38;5;124mWork done by Fx\u001b[39m\u001b[38;5;124m'\u001b[39m, color\u001b[38;5;241m=\u001b[39mcolor)\n\u001b[0;32m----> 7\u001b[0m ax1\u001b[38;5;241m.\u001b[39mset_ylim(\u001b[43mion1t_W1\u001b[49m\u001b[38;5;241m.\u001b[39mmin(),\u001b[38;5;241m-\u001b[39mion1t_W1\u001b[38;5;241m.\u001b[39mmin())\n\u001b[1;32m      8\u001b[0m ax1\u001b[38;5;241m.\u001b[39mplot(ion1t_x[:,ion1t_id], ion1t_W1, color\u001b[38;5;241m=\u001b[39mcolor, lw\u001b[38;5;241m=\u001b[39m\u001b[38;5;241m2.0\u001b[39m, label\u001b[38;5;241m=\u001b[39m\u001b[38;5;124m'\u001b[39m\u001b[38;5;124mAll\u001b[39m\u001b[38;5;124m'\u001b[39m)\n\u001b[1;32m      9\u001b[0m \u001b[38;5;66;03m# ax1.plot(ion1t_x[:,ion1t_id], ion1t_Fx1, color=color, lw=2.0, ls='--', label='Ex')\u001b[39;00m\n\u001b[1;32m     10\u001b[0m \u001b[38;5;66;03m# ax1.plot(ion1t_x[:,ion1t_id], ion1t_Fx2, color=color, lw=2.0, ls='-.', label='vyBz')\u001b[39;00m\n\u001b[1;32m     11\u001b[0m \u001b[38;5;66;03m# ax1.plot(ion1t_time_ns, ion1t_E_sub, color=color)\u001b[39;00m\n",
      "\u001b[0;31mNameError\u001b[0m: name 'ion1t_W1' is not defined"
     ]
    }
   ],
   "source": [
    "fig, ax1 = plt.subplots()\n",
    "\n",
    "color = 'tab:red'\n",
    "ax1.set_xlabel('position x (mm)')\n",
    "# ax1.set_xlabel('time (ns)')\n",
    "ax1.set_ylabel('Work done by Fx', color=color)\n",
    "ax1.set_ylim(ion1t_W1.min(),-ion1t_W1.min())\n",
    "ax1.plot(ion1t_x[:,ion1t_id], ion1t_W1, color=color, lw=2.0, label='All')\n",
    "# ax1.plot(ion1t_x[:,ion1t_id], ion1t_Fx1, color=color, lw=2.0, ls='--', label='Ex')\n",
    "# ax1.plot(ion1t_x[:,ion1t_id], ion1t_Fx2, color=color, lw=2.0, ls='-.', label='vyBz')\n",
    "# ax1.plot(ion1t_time_ns, ion1t_E_sub, color=color)\n",
    "ax1.tick_params(axis='y',labelcolor=color)\n",
    "ax1.grid()\n",
    "ax2 = ax1.twinx()\n",
    "\n",
    "\n",
    "dEx = ion1t_px[:,ion1t_id]**2 / 2.0 / mp / qe / 1e6\n",
    "dEy = ion1t_py[:,ion1t_id]**2 / 2.0 / mp / qe / 1e6\n",
    "dEz = ion1t_pz[:,ion1t_id]**2 / 2.0 / mp / qe / 1e6\n",
    "color= 'tab:blue'\n",
    "ax2.set_ylabel(r'$\\delta E$', color=color)\n",
    "ax2.set_ylim(0,dEx.max())\n",
    "ax2.plot(ion1t_x[:,ion1t_id], dEx, color=color, lw=2.0, ls='-',  label=r'$\\delta E_x$')\n",
    "ax2.plot(ion1t_x[:,ion1t_id], dEy, color='black', lw=2.0, ls='-',  label=r'$\\delta E_y$')\n",
    "# ax2.plot(ion1t_x[:,ion1t_id], dEz, color='green', lw=2.0, ls='-',  label=r'$\\delta E_z$')\n",
    "# ax1.plot(ion1t_x[:,ion1t_id], ion1t_Fy1, color=color, lw=2.0, ls='--', label='Ey')\n",
    "# ax1.plot(ion1t_x[:,ion1t_id], ion1t_Fy2, color=color, lw=2.0, ls='-.', label='vxBz')\n",
    "ax2.tick_params(axis='y', labelcolor=color)\n",
    "ax2.legend()\n",
    "fig.tight_layout()\n",
    "plt.show()\n",
    "\n",
    "\n",
    "# # plt.plot(ion1t_x[:,ion1t_id], ion1t_W, '-k', lw=2.0, label='Work done by Fx')\n",
    "# plt.plot(ion1t_time_ns,ion1t_W)\n",
    "# plt.plot(ion1t_time_ns,ion1t_E_sub)\n",
    "# plt.xlabel('position x (mm)')\n",
    "# plt.ylabel('Work done by Lorentz force (Arb. Unit)')\n",
    "# plt.legend()"
   ]
  },
  {
   "cell_type": "code",
   "execution_count": 8,
   "id": "87f7953b-303e-4f11-8631-7fe07a7946bc",
   "metadata": {},
   "outputs": [
    {
     "ename": "NameError",
     "evalue": "name 'S0' is not defined",
     "output_type": "error",
     "traceback": [
      "\u001b[0;31m---------------------------------------------------------------------------\u001b[0m",
      "\u001b[0;31mNameError\u001b[0m                                 Traceback (most recent call last)",
      "Cell \u001b[0;32mIn[8], line 2\u001b[0m\n\u001b[1;32m      1\u001b[0m \u001b[38;5;66;03m# ion x-px\u001b[39;00m\n\u001b[0;32m----> 2\u001b[0m xpx0 \u001b[38;5;241m=\u001b[39m \u001b[43mS0\u001b[49m\u001b[38;5;241m.\u001b[39mParticleBinning(\u001b[38;5;241m0\u001b[39m,units\u001b[38;5;241m=\u001b[39m[\u001b[38;5;124m'\u001b[39m\u001b[38;5;124mmm\u001b[39m\u001b[38;5;124m'\u001b[39m, \u001b[38;5;124m'\u001b[39m\u001b[38;5;124mns\u001b[39m\u001b[38;5;124m'\u001b[39m, \u001b[38;5;124m'\u001b[39m\u001b[38;5;124m1000 km/s\u001b[39m\u001b[38;5;124m'\u001b[39m],\n\u001b[1;32m      3\u001b[0m                   data_log\u001b[38;5;241m=\u001b[39m\u001b[38;5;28;01mTrue\u001b[39;00m,\n\u001b[1;32m      4\u001b[0m                    \u001b[38;5;66;03m# xmin=5,\u001b[39;00m\n\u001b[1;32m      5\u001b[0m                    \u001b[38;5;66;03m# xmax=11,\u001b[39;00m\n\u001b[1;32m      6\u001b[0m                    \u001b[38;5;66;03m# ymin=-3,\u001b[39;00m\n\u001b[1;32m      7\u001b[0m                    \u001b[38;5;66;03m# ymax=6,\u001b[39;00m\n\u001b[1;32m      8\u001b[0m                   \u001b[38;5;66;03m# vmin=-1,\u001b[39;00m\n\u001b[1;32m      9\u001b[0m                   \u001b[38;5;66;03m# vmax=4,\u001b[39;00m\n\u001b[1;32m     10\u001b[0m                   cmap\u001b[38;5;241m=\u001b[39mnewcmap\n\u001b[1;32m     11\u001b[0m                   \u001b[38;5;66;03m# ).animate(movie='/Users/yao/Desktop/xpx_i_t1.gif')\u001b[39;00m\n\u001b[1;32m     12\u001b[0m                   )\u001b[38;5;66;03m#.slide()\u001b[39;00m\n\u001b[1;32m     14\u001b[0m xpx1 \u001b[38;5;241m=\u001b[39m S1\u001b[38;5;241m.\u001b[39mParticleBinning(\u001b[38;5;241m0\u001b[39m,units\u001b[38;5;241m=\u001b[39m[\u001b[38;5;124m'\u001b[39m\u001b[38;5;124mmm\u001b[39m\u001b[38;5;124m'\u001b[39m, \u001b[38;5;124m'\u001b[39m\u001b[38;5;124mns\u001b[39m\u001b[38;5;124m'\u001b[39m, \u001b[38;5;124m'\u001b[39m\u001b[38;5;124m1000 km/s\u001b[39m\u001b[38;5;124m'\u001b[39m],\n\u001b[1;32m     15\u001b[0m                   data_log\u001b[38;5;241m=\u001b[39m\u001b[38;5;28;01mTrue\u001b[39;00m,\n\u001b[1;32m     16\u001b[0m                    \u001b[38;5;66;03m# xmin=5,\u001b[39;00m\n\u001b[0;32m   (...)\u001b[0m\n\u001b[1;32m     23\u001b[0m                   \u001b[38;5;66;03m# ).animate(movie='/Users/yao/Desktop/xpx_i_t1.gif')\u001b[39;00m\n\u001b[1;32m     24\u001b[0m                   )\u001b[38;5;66;03m#.slide()\u001b[39;00m\n\u001b[1;32m     26\u001b[0m happi\u001b[38;5;241m.\u001b[39mmultiSlide(xpx0, xpx1, shape\u001b[38;5;241m=\u001b[39m[\u001b[38;5;241m2\u001b[39m,\u001b[38;5;241m1\u001b[39m])\n",
      "\u001b[0;31mNameError\u001b[0m: name 'S0' is not defined"
     ]
    }
   ],
   "source": [
    "# ion x-px\n",
    "xpx0 = S0.ParticleBinning(0,units=['mm', 'ns', '1000 km/s'],\n",
    "                  data_log=True,\n",
    "                   # xmin=5,\n",
    "                   # xmax=11,\n",
    "                   # ymin=-3,\n",
    "                   # ymax=6,\n",
    "                  # vmin=-1,\n",
    "                  # vmax=4,\n",
    "                  cmap=newcmap\n",
    "                  # ).animate(movie='/Users/yao/Desktop/xpx_i_t1.gif')\n",
    "                  )#.slide()\n",
    "\n",
    "xpx1 = S1.ParticleBinning(0,units=['mm', 'ns', '1000 km/s'],\n",
    "                  data_log=True,\n",
    "                   # xmin=5,\n",
    "                   # xmax=11,\n",
    "                   # ymin=-3,\n",
    "                   # ymax=6,\n",
    "                  # vmin=-1,\n",
    "                  # vmax=4,\n",
    "                  cmap=newcmap\n",
    "                  # ).animate(movie='/Users/yao/Desktop/xpx_i_t1.gif')\n",
    "                  )#.slide()\n",
    "\n",
    "happi.multiSlide(xpx0, xpx1, shape=[2,1])"
   ]
  },
  {
   "cell_type": "code",
   "execution_count": 8,
   "id": "9883ccf7-91f0-4bfd-9403-1e1aea30b233",
   "metadata": {},
   "outputs": [
    {
     "name": "stdout",
     "output_type": "stream",
     "text": [
      "\n",
      "#0 - Number density of species # 0,4,8\n",
      "    x from 0 to 6144 in 500 steps \n",
      "    vx from -0.05 to 0.05 in 500 steps \n",
      "\n",
      "The value in each bin is the sum of the `deposited_quantity` divided by the bin size\n",
      "\n"
     ]
    }
   ],
   "source": [
    "# ion x\n",
    "S.ParticleBinning(0,units=['mm', 'ns', 'km/s','cm^-3'],\n",
    "                  # data_log=True,\n",
    "                   # sum={'vx':'all'},\n",
    "                   # xmin=5,\n",
    "                   # xmax=11,\n",
    "                  # vmin=-2,\n",
    "                  # vmax=4,\n",
    "                  # cmap=newcmap\n",
    "                  # ).animate(movie='/Users/yao/Desktop/x_i_t1.gif')\n",
    "                  ).slide()"
   ]
  },
  {
   "cell_type": "code",
   "execution_count": 10,
   "id": "1054f1f0-c4a9-4543-a29a-c285a20f77b7",
   "metadata": {},
   "outputs": [
    {
     "name": "stdout",
     "output_type": "stream",
     "text": [
      "\n",
      "#3 - Number density of species # 4\n",
      "    x from 0 to 8192 in 200 steps \n",
      "    vx from -0.05 to 0.05 in 200 steps \n",
      "\n",
      "The value in each bin is the sum of the `deposited_quantity` divided by the bin size\n",
      "\n"
     ]
    }
   ],
   "source": [
    "# eon x-px\n",
    "S.ParticleBinning(3,units=['mm', 'ns', 'km/s'],\n",
    "                  data_log=True,\n",
    "                  vmin=-2,\n",
    "                  vmax=4,\n",
    "                  cmap=newcmap\n",
    "                  ).slide()"
   ]
  },
  {
   "cell_type": "code",
   "execution_count": 11,
   "id": "80afce4d-f58a-4cab-81c8-6526a055d0f8",
   "metadata": {},
   "outputs": [
    {
     "name": "stdout",
     "output_type": "stream",
     "text": [
      "\n",
      "#5 - Number density of species # 4\n",
      "    x from 0 to 8192 in 200 steps \n",
      "    ekin from 0 to 1 in 200 steps \n",
      "\n",
      "average for all x\n",
      "The value in each bin is the sum of the `deposited_quantity` divided by the bin size\n",
      "\n"
     ]
    }
   ],
   "source": [
    "# ion spectrum\n",
    "S.ParticleBinning(5,units=['mm', 'ns', 'km/s','MeV'],\n",
    "                  data_log=True,\n",
    "                  # vmin=-2,\n",
    "                  # vmax=4,\n",
    "                   sum={'x':'all'},\n",
    "                   # ymin=0,\n",
    "                   # ymax=200,\n",
    "                  cmap=newcmap\n",
    "                  ).slide()"
   ]
  },
  {
   "cell_type": "code",
   "execution_count": 16,
   "id": "23b553af-138c-4032-ad14-cf51c45bb220",
   "metadata": {},
   "outputs": [
    {
     "name": "stdout",
     "output_type": "stream",
     "text": [
      "\n",
      "#3 - Number density of species # 4\n",
      "    x from 0 to 8192 in 200 steps \n",
      "    vx from -0.05 to 0.05 in 200 steps \n",
      "\n",
      "average for all x\n",
      "The value in each bin is the sum of the `deposited_quantity` divided by the bin size\n",
      "\n"
     ]
    }
   ],
   "source": [
    "# eon spectrum\n",
    "S.ParticleBinning(3,units=['mm', 'ns', 'km/s','keV'],\n",
    "                  data_log=True,\n",
    "                  # vmin=-2,\n",
    "                  # vmax=4,\n",
    "                   sum={'x':'all'},\n",
    "                   ymin=0,\n",
    "                   ymax=200,\n",
    "                  cmap=newcmap\n",
    "                  ).slide()"
   ]
  },
  {
   "cell_type": "code",
   "execution_count": 22,
   "id": "4a9cf4bc-edd7-4ebb-a7da-21c2e81521ed",
   "metadata": {},
   "outputs": [
    {
     "name": "stdout",
     "output_type": "stream",
     "text": [
      "\n",
      "#4 - Number density of species # 0\n",
      "    x from 0 to 8192 in 200 steps \n",
      "    ekin from 0 to 1 in 200 steps \n",
      "\n",
      "The value in each bin is the sum of the `deposited_quantity` divided by the bin size\n",
      "\n"
     ]
    }
   ],
   "source": [
    "# ion vx-vy\n",
    "S.ParticleBinning(4,units=['mm', 'ns', 'km/s'],\n",
    "                  data_log=True,\n",
    "                  vmin=-2,\n",
    "                  vmax=6,\n",
    "                  cmap=newcmap,\n",
    "                   aspect='equal',\n",
    "                  ).slide()"
   ]
  },
  {
   "cell_type": "code",
   "execution_count": 24,
   "id": "dc7e0171-b626-4e39-8f47-d7e5028349f3",
   "metadata": {},
   "outputs": [
    {
     "name": "stdout",
     "output_type": "stream",
     "text": [
      "\n",
      "#1 - Number density of species # 0,4\n",
      "    x from 0 to 8192 in 200 steps \n",
      "    ekin from 0 to 1 in 200 steps \n",
      "\n",
      "The value in each bin is the sum of the `deposited_quantity` divided by the bin size\n",
      "\n"
     ]
    }
   ],
   "source": [
    "# eon vx-vy\n",
    "S.ParticleBinning(1,units=['mm', 'ns', 'km/s'],\n",
    "                  data_log=True,\n",
    "                  vmin=-2,\n",
    "                  vmax=6,\n",
    "                  cmap=newcmap,\n",
    "                   aspect='equal',\n",
    "                  ).slide()"
   ]
  },
  {
   "cell_type": "code",
   "execution_count": 10,
   "id": "55c040c8-a4da-4390-99a1-cab74d7ef102",
   "metadata": {},
   "outputs": [],
   "source": [
    "Bz = S.Field(0,'Bz',units=['mm','ns'],\n",
    "         label='Bz',\n",
    "              color='blue',\n",
    "              linestyle='--',\n",
    "             )\n",
    "        # ).slide()\n",
    "\n",
    "ni = S.ParticleBinning(\"#0*0.03\",units=['mm', 'ns'],\n",
    "                   sum={'vx':'all'},\n",
    "                        label='ni',\n",
    "                        color='red',\n",
    "                       )\n",
    "                  # ).slide()\n",
    "\n",
    "happi.multiSlide(Bz, ni)"
   ]
  },
  {
   "cell_type": "code",
   "execution_count": 8,
   "id": "bc883139-5ee1-4cce-8a06-1399b74f4c05",
   "metadata": {},
   "outputs": [],
   "source": [
    "Ex0 = S.Field(0,'Ex',units=['mm','ns','V/m'],\n",
    "         label='Ex0',\n",
    "              color='blue',\n",
    "              linestyle='--',\n",
    "             )\n",
    "\n",
    "Ex1 = S.Field(1,'Ex',units=['mm','ns','V/m'],\n",
    "         label='Ex0',\n",
    "              color='red',\n",
    "              linestyle='-',\n",
    "             )\n",
    "\n",
    "happi.multiSlide(Ex0,Ex1,\n",
    "                 # shape=[1,3]\n",
    "                )"
   ]
  },
  {
   "cell_type": "code",
   "execution_count": 21,
   "id": "a626127a-9feb-43f1-bb0b-9927928a991a",
   "metadata": {},
   "outputs": [
    {
     "name": "stdout",
     "output_type": "stream",
     "text": [
      "Field diagnostic #0: (Rho_ion1+Rho_ion2)\n"
     ]
    }
   ],
   "source": [
    "S.Field(0,'(Rho_ion1+Rho_ion2)',units=['mm','ns','T','cm^-3'],\n",
    "         label='ion',\n",
    "        ).slide()"
   ]
  },
  {
   "cell_type": "code",
   "execution_count": 19,
   "id": "42cef6f1-8531-4444-bbbc-90217e1c79ce",
   "metadata": {},
   "outputs": [
    {
     "name": "stdout",
     "output_type": "stream",
     "text": [
      "Field diagnostic #0: Bz\n"
     ]
    }
   ],
   "source": [
    "S.Field(0,'Bz',units=['mm','ns','T'],\n",
    "         label='Bz',\n",
    "         # xmin=5,\n",
    "                   # xmax=11,\n",
    "              # color='blue',\n",
    "              # linestyle='--',\n",
    "        ).streak()\n",
    "             # ).animate(movie='/Users/yao/Desktop/bz_t1.gif')"
   ]
  },
  {
   "cell_type": "code",
   "execution_count": 20,
   "id": "48b98fdc-9c5c-40c3-9a62-a363bdcec0af",
   "metadata": {},
   "outputs": [
    {
     "name": "stdout",
     "output_type": "stream",
     "text": [
      "\n",
      "#6 - Pressure yy of species # 2\n",
      "    x from 0 to 8192 in 1500 steps \n",
      "\n",
      "#7 - Number density of species # 2\n",
      "    x from 0 to 8192 in 1500 steps \n",
      "\n",
      "#8 - Pressure yy of species # 6\n",
      "    x from 0 to 8192 in 1500 steps \n",
      "\n",
      "#9 - Number density of species # 6\n",
      "    x from 0 to 8192 in 1500 steps \n",
      "\n",
      "Operation : (#6+#8)/(#7+#9)\n",
      "The value in each bin is the sum of the `deposited_quantity` divided by the bin size\n",
      "\n"
     ]
    },
    {
     "name": "stderr",
     "output_type": "stream",
     "text": [
      "/opt/homebrew/lib/python3.9/site-packages/pint/facets/plain/quantity.py:986: RuntimeWarning: invalid value encountered in divide\n",
      "  magnitude = magnitude_op(new_self._magnitude, other._magnitude)\n"
     ]
    }
   ],
   "source": [
    "S.ParticleBinning(\"(#6+#8)/(#7+#9)\", \n",
    "                   units=['mm','ns','cm^-3','km/s','eV'],\n",
    "                   # xmin=5,\n",
    "                   # xmax=11,\n",
    "                  ).slide()\n"
   ]
  },
  {
   "cell_type": "code",
   "execution_count": 11,
   "id": "6e885bf5-2f32-4c9b-8d01-314a865327ea",
   "metadata": {},
   "outputs": [
    {
     "ename": "Exception",
     "evalue": "`diagNumber` is not defined\nPrinting available ParticleBinning:\n------------------------------------------------\n#0 - Number density of species # 0,4\n    x from 0 to 4096 in 200 steps \n    vx from -0.05 to 0.05 in 200 steps \n\n#1 - Number density of species # 0,4\n    x from 0 to 4096 in 200 steps \n    ekin from 0 to 1 in 200 steps \n\n#2 - Number density of species # 0\n    x from 0 to 4096 in 200 steps \n    vx from -0.05 to 0.05 in 200 steps \n\n#3 - Number density of species # 4\n    x from 0 to 4096 in 200 steps \n    vx from -0.05 to 0.05 in 200 steps \n\n#4 - Number density of species # 0\n    x from 0 to 4096 in 200 steps \n    ekin from 0 to 1 in 200 steps \n\n#5 - Number density of species # 4\n    x from 0 to 4096 in 200 steps \n    ekin from 0 to 1 in 200 steps \n\n#6 - Pressure yy of species # 2\n    x from 0 to 4096 in 1500 steps \n\n#7 - Number density of species # 2\n    x from 0 to 4096 in 1500 steps \n\n#8 - Pressure yy of species # 6\n    x from 0 to 4096 in 1500 steps \n\n#9 - Number density of species # 6\n    x from 0 to 4096 in 1500 steps \n\n#10 - Pressure yy of species # 0\n    x from 0 to 4096 in 1500 steps \n\n#11 - Number density of species # 0\n    x from 0 to 4096 in 1500 steps \n\n#12 - Pressure yy of species # 4\n    x from 0 to 4096 in 1500 steps \n\n#13 - Number density of species # 4\n    x from 0 to 4096 in 1500 steps \n\n#14 - Number density of species # 0,4\n    vx from -0.05 to 0.05 in 200 steps \n    vy from -0.05 to 0.05 in 200 steps \n\n#15 - Number density of species # 0\n    vx from -0.05 to 0.05 in 200 steps \n    vy from -0.05 to 0.05 in 200 steps \n\n#16 - Number density of species # 4\n    vx from -0.05 to 0.05 in 200 steps \n    vy from -0.05 to 0.05 in 200 steps \n",
     "output_type": "error",
     "traceback": [
      "\u001b[0;31m---------------------------------------------------------------------------\u001b[0m",
      "\u001b[0;31mException\u001b[0m                                 Traceback (most recent call last)",
      "Cell \u001b[0;32mIn[11], line 1\u001b[0m\n\u001b[0;32m----> 1\u001b[0m \u001b[43mS\u001b[49m\u001b[38;5;241;43m.\u001b[39;49m\u001b[43mParticleBinning\u001b[49m\u001b[43m(\u001b[49m\u001b[43m)\u001b[49m\n",
      "File \u001b[0;32m~/Desktop/CODE/Smilei/happi/_Factories.py:287\u001b[0m, in \u001b[0;36mParticleBinningFactory.__call__\u001b[0;34m(self, *args, **kwargs)\u001b[0m\n\u001b[1;32m    286\u001b[0m \u001b[38;5;28;01mdef\u001b[39;00m \u001b[38;5;21m__call__\u001b[39m(\u001b[38;5;28mself\u001b[39m, \u001b[38;5;241m*\u001b[39margs, \u001b[38;5;241m*\u001b[39m\u001b[38;5;241m*\u001b[39mkwargs):\n\u001b[0;32m--> 287\u001b[0m \t\u001b[38;5;28;01mreturn\u001b[39;00m \u001b[43mParticleBinning\u001b[49m\u001b[43m(\u001b[49m\u001b[38;5;28;43mself\u001b[39;49m\u001b[38;5;241;43m.\u001b[39;49m\u001b[43m_simulation\u001b[49m\u001b[43m,\u001b[49m\u001b[43m \u001b[49m\u001b[38;5;241;43m*\u001b[39;49m\u001b[43m(\u001b[49m\u001b[38;5;28;43mself\u001b[39;49m\u001b[38;5;241;43m.\u001b[39;49m\u001b[43m_additionalArgs\u001b[49m\u001b[38;5;241;43m+\u001b[39;49m\u001b[43margs\u001b[49m\u001b[43m)\u001b[49m\u001b[43m,\u001b[49m\u001b[43m \u001b[49m\u001b[38;5;241;43m*\u001b[39;49m\u001b[38;5;241;43m*\u001b[39;49m\u001b[43mkwargs\u001b[49m\u001b[43m)\u001b[49m\n",
      "File \u001b[0;32m~/Desktop/CODE/Smilei/happi/_Diagnostics/Diagnostic.py:72\u001b[0m, in \u001b[0;36mDiagnostic.__init__\u001b[0;34m(self, simulation, *args, **kwargs)\u001b[0m\n\u001b[1;32m     69\u001b[0m \u001b[38;5;28mself\u001b[39m\u001b[38;5;241m.\u001b[39munits\u001b[38;5;241m.\u001b[39m_initRegistry(\u001b[38;5;28mself\u001b[39m\u001b[38;5;241m.\u001b[39m_ureg)\n\u001b[1;32m     71\u001b[0m \u001b[38;5;66;03m# Call the '_init' function of the child class\u001b[39;00m\n\u001b[0;32m---> 72\u001b[0m remaining_kwargs \u001b[38;5;241m=\u001b[39m \u001b[38;5;28;43mself\u001b[39;49m\u001b[38;5;241;43m.\u001b[39;49m\u001b[43m_init\u001b[49m\u001b[43m(\u001b[49m\u001b[38;5;241;43m*\u001b[39;49m\u001b[43margs\u001b[49m\u001b[43m,\u001b[49m\u001b[43m \u001b[49m\u001b[38;5;241;43m*\u001b[39;49m\u001b[38;5;241;43m*\u001b[39;49m\u001b[43mkwargs\u001b[49m\u001b[43m)\u001b[49m\n\u001b[1;32m     73\u001b[0m \u001b[38;5;28;01mif\u001b[39;00m remaining_kwargs \u001b[38;5;129;01mis\u001b[39;00m \u001b[38;5;129;01mnot\u001b[39;00m \u001b[38;5;28;01mNone\u001b[39;00m \u001b[38;5;129;01mand\u001b[39;00m \u001b[38;5;28mlen\u001b[39m(remaining_kwargs) \u001b[38;5;241m>\u001b[39m \u001b[38;5;241m0\u001b[39m:\n\u001b[1;32m     74\u001b[0m \t\u001b[38;5;28mself\u001b[39m\u001b[38;5;241m.\u001b[39mvalid \u001b[38;5;241m=\u001b[39m \u001b[38;5;28;01mFalse\u001b[39;00m\n",
      "File \u001b[0;32m~/Desktop/CODE/Smilei/happi/_Diagnostics/ParticleBinning.py:23\u001b[0m, in \u001b[0;36mParticleBinning._init\u001b[0;34m(self, diagNumber, timesteps, subset, average, sum, data_log, data_transform, include, **kwargs)\u001b[0m\n\u001b[1;32m     21\u001b[0m \t\u001b[38;5;28;01mif\u001b[39;00m \u001b[38;5;28mlen\u001b[39m(diag_numbers)\u001b[38;5;241m==\u001b[39m\u001b[38;5;241m0\u001b[39m:\n\u001b[1;32m     22\u001b[0m \t\terror \u001b[38;5;241m+\u001b[39m\u001b[38;5;241m=\u001b[39m [\u001b[38;5;124m\"\u001b[39m\u001b[38;5;124m      No \u001b[39m\u001b[38;5;132;01m%s\u001b[39;00m\u001b[38;5;124m found\u001b[39m\u001b[38;5;124m\"\u001b[39m \u001b[38;5;241m%\u001b[39m \u001b[38;5;28mself\u001b[39m\u001b[38;5;241m.\u001b[39m_diagType]\n\u001b[0;32m---> 23\u001b[0m \t\u001b[38;5;28;01mraise\u001b[39;00m \u001b[38;5;167;01mException\u001b[39;00m(\u001b[38;5;124m\"\u001b[39m\u001b[38;5;130;01m\\n\u001b[39;00m\u001b[38;5;124m\"\u001b[39m\u001b[38;5;241m.\u001b[39mjoin(error))\n\u001b[1;32m     25\u001b[0m \u001b[38;5;66;03m# 1 - verifications, initialization\u001b[39;00m\n\u001b[1;32m     26\u001b[0m \u001b[38;5;66;03m# -------------------------------------------------------------------\u001b[39;00m\n\u001b[1;32m     27\u001b[0m \u001b[38;5;66;03m# Check the requested diags are ok\u001b[39;00m\n\u001b[1;32m     28\u001b[0m \u001b[38;5;28;01mif\u001b[39;00m \u001b[38;5;28mtype\u001b[39m(diagNumber) \u001b[38;5;129;01mis\u001b[39;00m \u001b[38;5;28mint\u001b[39m:\n",
      "\u001b[0;31mException\u001b[0m: `diagNumber` is not defined\nPrinting available ParticleBinning:\n------------------------------------------------\n#0 - Number density of species # 0,4\n    x from 0 to 4096 in 200 steps \n    vx from -0.05 to 0.05 in 200 steps \n\n#1 - Number density of species # 0,4\n    x from 0 to 4096 in 200 steps \n    ekin from 0 to 1 in 200 steps \n\n#2 - Number density of species # 0\n    x from 0 to 4096 in 200 steps \n    vx from -0.05 to 0.05 in 200 steps \n\n#3 - Number density of species # 4\n    x from 0 to 4096 in 200 steps \n    vx from -0.05 to 0.05 in 200 steps \n\n#4 - Number density of species # 0\n    x from 0 to 4096 in 200 steps \n    ekin from 0 to 1 in 200 steps \n\n#5 - Number density of species # 4\n    x from 0 to 4096 in 200 steps \n    ekin from 0 to 1 in 200 steps \n\n#6 - Pressure yy of species # 2\n    x from 0 to 4096 in 1500 steps \n\n#7 - Number density of species # 2\n    x from 0 to 4096 in 1500 steps \n\n#8 - Pressure yy of species # 6\n    x from 0 to 4096 in 1500 steps \n\n#9 - Number density of species # 6\n    x from 0 to 4096 in 1500 steps \n\n#10 - Pressure yy of species # 0\n    x from 0 to 4096 in 1500 steps \n\n#11 - Number density of species # 0\n    x from 0 to 4096 in 1500 steps \n\n#12 - Pressure yy of species # 4\n    x from 0 to 4096 in 1500 steps \n\n#13 - Number density of species # 4\n    x from 0 to 4096 in 1500 steps \n\n#14 - Number density of species # 0,4\n    vx from -0.05 to 0.05 in 200 steps \n    vy from -0.05 to 0.05 in 200 steps \n\n#15 - Number density of species # 0\n    vx from -0.05 to 0.05 in 200 steps \n    vy from -0.05 to 0.05 in 200 steps \n\n#16 - Number density of species # 4\n    vx from -0.05 to 0.05 in 200 steps \n    vy from -0.05 to 0.05 in 200 steps \n"
     ]
    }
   ],
   "source": [
    "S.ParticleBinning()"
   ]
  },
  {
   "cell_type": "code",
   "execution_count": 21,
   "id": "a46ce106-c2f2-4091-860c-9fdb53960830",
   "metadata": {},
   "outputs": [
    {
     "name": "stdout",
     "output_type": "stream",
     "text": [
      "\n",
      "#10 - Pressure yy of species # 0\n",
      "    x from 0 to 8192 in 1500 steps \n",
      "\n",
      "#11 - Number density of species # 0\n",
      "    x from 0 to 8192 in 1500 steps \n",
      "\n",
      "#12 - Pressure yy of species # 4\n",
      "    x from 0 to 8192 in 1500 steps \n",
      "\n",
      "#13 - Number density of species # 4\n",
      "    x from 0 to 8192 in 1500 steps \n",
      "\n",
      "Operation : (#10+#12)/(#11+#13)\n",
      "The value in each bin is the sum of the `deposited_quantity` divided by the bin size\n",
      "\n"
     ]
    }
   ],
   "source": [
    "S.ParticleBinning(\"(#10+#12)/(#11+#13)\", \n",
    "                   units=['mm','ns','cm^-3','km/s','eV'],\n",
    "                   # xmin=5,\n",
    "                   # xmax=11,                   \n",
    "                  ).slide()\n"
   ]
  },
  {
   "cell_type": "code",
   "execution_count": 25,
   "id": "6e9edef3-01b0-4592-b075-a1ca9d3e77fc",
   "metadata": {},
   "outputs": [
    {
     "name": "stdout",
     "output_type": "stream",
     "text": [
      "\n",
      "#14 - Number density of species # 0,4\n",
      "    vx from -0.05 to 0.05 in 200 steps \n",
      "    vy from -0.05 to 0.05 in 200 steps \n",
      "\n",
      "Operation : #14\n",
      "The value in each bin is the sum of the `deposited_quantity` divided by the bin size and by grid_length[0]\n",
      "\n"
     ]
    }
   ],
   "source": [
    "S.ParticleBinning(14, \n",
    "                   units=['mm','ns','cm^-3','1000 km/s','keV'],\n",
    "                   data_log=True,\n",
    "                   cmap=newcmap,\n",
    "                   vmin=1,\n",
    "                   vmax=5,\n",
    "                   xmin=-6,\n",
    "                   xmax=6,\n",
    "                   ymin=-6,\n",
    "                   ymax=6,\n",
    "                   aspect=1\n",
    "                  ).slide()"
   ]
  },
  {
   "cell_type": "code",
   "execution_count": 11,
   "id": "c402d5bf-88ee-411a-8f94-5e22e308b8c3",
   "metadata": {},
   "outputs": [
    {
     "name": "stdout",
     "output_type": "stream",
     "text": [
      "\n",
      "#0 - Number density of species # 0,4,8\n",
      "    x from 0 to 6144 in 500 steps \n",
      "    vx from -0.05 to 0.05 in 500 steps \n",
      "\n",
      "The value in each bin is the sum of the `deposited_quantity` divided by the bin size\n",
      "\n"
     ]
    }
   ],
   "source": [
    "# ion x-px\n",
    "S.ParticleBinning(0,units=['mm', 'ns', '1000 km/s'],\n",
    "                  data_log=True,\n",
    "                   # xmin=5,\n",
    "                   # xmax=11,\n",
    "                   # ymin=-1,\n",
    "                   # ymax=5,\n",
    "                  # vmin=-1,\n",
    "                  # vmax=4,\n",
    "                  cmap=newcmap,\n",
    "                   # aspect=1\n",
    "                  # ).animate(movie='/Users/yao/Desktop/xpx_i_t1.gif')\n",
    "                  ).slide()"
   ]
  },
  {
   "cell_type": "code",
   "execution_count": null,
   "id": "559b346f-d86f-4a7d-8b65-9923ff375d07",
   "metadata": {},
   "outputs": [],
   "source": []
  },
  {
   "cell_type": "code",
   "execution_count": null,
   "id": "f1dec056-e0c6-4786-9f1e-ad7337d5f040",
   "metadata": {},
   "outputs": [],
   "source": []
  },
  {
   "cell_type": "code",
   "execution_count": 1,
   "id": "96795183-d71a-4d79-bbb8-664370864c68",
   "metadata": {},
   "outputs": [],
   "source": [
    "import numpy as np\n",
    "import matplotlib as mpl\n",
    "# mpl.use('pdf')\n",
    "import matplotlib.pyplot as plt"
   ]
  },
  {
   "cell_type": "code",
   "execution_count": 3,
   "id": "b714a549-737f-4f9c-9545-68ef8a217265",
   "metadata": {},
   "outputs": [],
   "source": [
    "plt.rc('font', family='sans-serif', serif='Arial')\n",
    "plt.rc('text', usetex=True)\n",
    "plt.rc('xtick', labelsize=12)\n",
    "plt.rc('ytick', labelsize=12)\n",
    "plt.rc('axes', labelsize=12)"
   ]
  },
  {
   "cell_type": "code",
   "execution_count": 45,
   "id": "2fd6182a-3f58-43db-a216-b36f8cc82605",
   "metadata": {},
   "outputs": [],
   "source": [
    "time = np.array([2, 3, 4, 6, 8, 10, 12]) # ns\n",
    "size_on_screen = np.array([2.1, 2.69, 3, 5.37, 6.24, 7.15, 8.26]) # cm\n",
    "\n",
    "def rescale(x):\n",
    "    return x*17/6.79"
   ]
  },
  {
   "cell_type": "code",
   "execution_count": 46,
   "id": "cc85e495-c2d9-4a2b-aaaa-820bf61c1583",
   "metadata": {},
   "outputs": [
    {
     "name": "stdout",
     "output_type": "stream",
     "text": [
      "[ 5.25773196  6.73490427  7.51104566 13.44477172 15.62297496 17.90132548\n",
      " 20.68041237]\n"
     ]
    }
   ],
   "source": [
    "size_in_physics = rescale(size_on_screen) # in mm\n",
    "print(size_in_physics)"
   ]
  },
  {
   "cell_type": "code",
   "execution_count": 34,
   "id": "0e4e4f91-7d67-496a-8348-f16c67ed4614",
   "metadata": {},
   "outputs": [],
   "source": [
    "def lin_reg(x_data, y_data):\n",
    "    n = np.size(x_data)\n",
    "    \n",
    "    xm = np.mean(x_data)\n",
    "    ym = np.mean(y_data)\n",
    "    S1 = np.sum(x_data*y_data) - n*xm*ym\n",
    "    S2 = np.sum(x_data**2) - n*xm**2\n",
    "    \n",
    "    a1 = S1/S2\n",
    "    a0 = ym - a1*xm\n",
    "    \n",
    "    return (a0,a1)"
   ]
  },
  {
   "cell_type": "code",
   "execution_count": 47,
   "id": "412135fb-d85e-49ea-8c64-0f01dd8d6dc5",
   "metadata": {},
   "outputs": [],
   "source": [
    "a0_7bar, a1_7bar = lin_reg(time, size_in_physics/2.)"
   ]
  },
  {
   "cell_type": "code",
   "execution_count": 56,
   "id": "2450abf0-4860-4de6-839a-e14a3ca0145b",
   "metadata": {},
   "outputs": [],
   "source": [
    "width  = 3.487 \n",
    "height = width / 1.618 * 1.5\n",
    "\n",
    "fig, ax = plt.subplots()\n",
    "fig.subplots_adjust(left=.15, bottom=.16, right=.99, top=.97)\n",
    "\n",
    "\n",
    "x = np.linspace(time[0],time[-1],50)\n",
    "\n",
    "ax.plot(x, a0_7bar+a1_7bar*x, 'b-',\n",
    "        label='Expansion velocity v0 = {:.1e} km/s'.format(a1_7bar*1e3)\n",
    "       )\n",
    "\n",
    "ax.plot(time, size_in_physics/2., 'ro',\n",
    "        label='Experimental data',\n",
    "       )\n",
    "\n",
    "\n",
    "\n",
    "ax.set_xlabel(\"Time (ns)\")\n",
    "ax.set_ylabel(\"Radius (mm)\")\n",
    "ax.set_xlim([time[0],time[-1]])\n",
    "ax.set_ylim([2,12])\n",
    "# ax.set_title('Expansion velocity v = {:.1e} m/s'.format(a1*1e3))\n",
    "ax.legend()\n",
    "\n",
    "fig.set_size_inches(width, height)\n",
    "\n",
    "\n",
    "\n",
    "# fig.savefig('/Users/yao/Desktop/plot.pdf')"
   ]
  },
  {
   "cell_type": "code",
   "execution_count": 57,
   "id": "2cfb0096-f5e0-4f6d-9036-c418f02a3db0",
   "metadata": {},
   "outputs": [],
   "source": [
    "fig.savefig('/Users/yao/Desktop/plot_7bars.pdf')"
   ]
  },
  {
   "cell_type": "code",
   "execution_count": null,
   "id": "84b5cbf6-3a74-4f8b-968d-e5e530ec6faf",
   "metadata": {},
   "outputs": [],
   "source": []
  },
  {
   "cell_type": "code",
   "execution_count": null,
   "id": "1d92902a-cc02-47cf-8371-62e2c71057cf",
   "metadata": {},
   "outputs": [],
   "source": []
  },
  {
   "cell_type": "code",
   "execution_count": 58,
   "id": "259abf10-fe5c-4bad-a3c6-70056ccd9d4f",
   "metadata": {},
   "outputs": [],
   "source": [
    "# for pressure of 4 bars H2\n",
    "x_data = np.array([3.0,   5.0,   6.0,   7.0,   8.0])\n",
    "y_data = np.array([9.51, 13.97, 15.45, 18.38, 20.68])\n",
    "a0,a1 = lin_reg(x_data,y_data/2.)"
   ]
  },
  {
   "cell_type": "code",
   "execution_count": 59,
   "id": "5b3fb5fe-9ba7-463c-b257-3f5a883b58c6",
   "metadata": {},
   "outputs": [],
   "source": [
    "width  = 3.487 \n",
    "height = width / 1.618 * 1.5\n",
    "\n",
    "fig, ax = plt.subplots()\n",
    "fig.subplots_adjust(left=.15, bottom=.16, right=.99, top=.97)\n",
    "\n",
    "\n",
    "x = np.linspace(2,10,50)\n",
    "\n",
    "ax.plot(x, a0+a1*x, 'b-',\n",
    "        label='Expansion velocity v0 = {:.1e} km/s'.format(a1*1e3)\n",
    "       )\n",
    "\n",
    "ax.plot(x_data,y_data/2.,'ro',\n",
    "        label='Experimental data',\n",
    "       )\n",
    "\n",
    "\n",
    "\n",
    "ax.set_xlabel(\"Time (ns)\")\n",
    "ax.set_ylabel(\"Radius (mm)\")\n",
    "ax.set_xlim([3,8])\n",
    "ax.set_ylim([4,12])\n",
    "# ax.set_title('Expansion velocity v = {:.1e} m/s'.format(a1*1e3))\n",
    "ax.legend()\n",
    "\n",
    "fig.set_size_inches(width, height)\n",
    "\n",
    "\n",
    "\n",
    "# fig.savefig('/Users/yao/Desktop/plot.pdf')"
   ]
  },
  {
   "cell_type": "code",
   "execution_count": 60,
   "id": "d8fd390a-ce45-4765-8c5e-e71f8c84cacd",
   "metadata": {},
   "outputs": [],
   "source": [
    "fig.savefig('/Users/yao/Desktop/plot.pdf')"
   ]
  },
  {
   "cell_type": "code",
   "execution_count": 11,
   "id": "87578841-d2ac-4514-9337-7d9d96821639",
   "metadata": {},
   "outputs": [
    {
     "data": {
      "text/plain": [
       "2.729054054054103"
      ]
     },
     "execution_count": 11,
     "metadata": {},
     "output_type": "execute_result"
    }
   ],
   "source": [
    "a0"
   ]
  },
  {
   "cell_type": "code",
   "execution_count": 35,
   "id": "45122750-aa8a-40dc-8793-0a75b6fe9828",
   "metadata": {},
   "outputs": [],
   "source": [
    "# for pressure of 4 bars H2\n",
    "x_data = np.array([3.0,   5.0,   6.0,   7.0,   8.0]) # time in ns\n",
    "y_data = np.array([9.51, 13.97, 15.45, 18.38, 20.68]) # size (diameter) in mm"
   ]
  },
  {
   "cell_type": "code",
   "execution_count": 6,
   "id": "9809f675-ca69-4042-b519-6e45fdd667fc",
   "metadata": {},
   "outputs": [
    {
     "data": {
      "text/plain": [
       "1500000.0"
      ]
     },
     "execution_count": 6,
     "metadata": {},
     "output_type": "execute_result"
    }
   ],
   "source": [
    "0.015 * 3e8 /3"
   ]
  },
  {
   "cell_type": "code",
   "execution_count": 8,
   "id": "ffaee5cf-8e25-480d-b299-38a3ce948691",
   "metadata": {},
   "outputs": [
    {
     "data": {
      "text/plain": [
       "1.5"
      ]
     },
     "execution_count": 8,
     "metadata": {},
     "output_type": "execute_result"
    }
   ],
   "source": [
    "4.5e-3 / 3e-9 * 1e-9 * 1e3"
   ]
  },
  {
   "cell_type": "code",
   "execution_count": 33,
   "id": "9ceb213a-7580-49fa-9361-d42f4317077c",
   "metadata": {},
   "outputs": [
    {
     "data": {
      "text/plain": [
       "0.006666666666666667"
      ]
     },
     "execution_count": 33,
     "metadata": {},
     "output_type": "execute_result"
    }
   ],
   "source": [
    "condition_p1 = \"any(t>0, ((px**2+py**2+pz**2)*(9.1e-31*3.0e8)**2/2./(1836*9.1e-31)/1.6e-19/1e6 > 0.1) * ((px**2+py**2+pz**2)*(9.1e-31*3.0e8)**2/2./(1836*9.1e-31)/1.6e-19/1e6 < 0.15))\"\n"
   ]
  },
  {
   "cell_type": "code",
   "execution_count": null,
   "id": "7f208e2f-02a0-40a8-85d1-9e44d9bb2628",
   "metadata": {},
   "outputs": [],
   "source": [
    "(px**2+py**2+pz**2)*(9.1e-31*3.0e8)**2/2./(1836*9.1e-31)/1.6e-19/1e6 > 0.1"
   ]
  },
  {
   "cell_type": "code",
   "execution_count": 1,
   "id": "fab8683a-473b-465f-9ecc-8a6bbf4fc84e",
   "metadata": {},
   "outputs": [
    {
     "data": {
      "text/plain": [
       "0.0001393995098039216"
      ]
     },
     "execution_count": 1,
     "metadata": {},
     "output_type": "execute_result"
    }
   ],
   "source": [
    "(9.1e-31*3.0e8)**2/2./(1836*9.1e-31)/1.6e-19/1e6"
   ]
  },
  {
   "cell_type": "code",
   "execution_count": 2,
   "id": "f27a271a-151f-4383-83e1-ddb155076c8b",
   "metadata": {},
   "outputs": [
    {
     "data": {
      "text/plain": [
       "717.3626373626372"
      ]
     },
     "execution_count": 2,
     "metadata": {},
     "output_type": "execute_result"
    }
   ],
   "source": [
    "0.1 / ((9.1e-31*3.0e8)**2/2./(1836*9.1e-31)/1.6e-19/1e6)"
   ]
  },
  {
   "cell_type": "code",
   "execution_count": 3,
   "id": "aca4b7e6-5154-4891-828f-fb7e9c81ccc3",
   "metadata": {},
   "outputs": [],
   "source": [
    "import numpy as np"
   ]
  },
  {
   "cell_type": "code",
   "execution_count": 5,
   "id": "a79c287d-c3d5-409b-b270-714b0fac6e25",
   "metadata": {},
   "outputs": [
    {
     "data": {
      "text/plain": [
       "84.69726308226478"
      ]
     },
     "execution_count": 5,
     "metadata": {},
     "output_type": "execute_result"
    }
   ],
   "source": [
    "np.sqrt(1. / ((9.1e-31*3.0e8)**2/2./(1836*9.1e-31)/1.6e-19/1e6))"
   ]
  },
  {
   "cell_type": "code",
   "execution_count": 6,
   "id": "113ba852-a8c7-4a80-b298-6af378c17c17",
   "metadata": {},
   "outputs": [],
   "source": [
    "me = 9.1e-31\n",
    "c = 3e8"
   ]
  },
  {
   "cell_type": "code",
   "execution_count": 7,
   "id": "07b0a70e-06ab-4f15-90cd-135be7c11cc3",
   "metadata": {},
   "outputs": [
    {
     "data": {
      "text/plain": [
       "2.73e-22"
      ]
     },
     "execution_count": 7,
     "metadata": {},
     "output_type": "execute_result"
    }
   ],
   "source": [
    "me * c"
   ]
  },
  {
   "cell_type": "code",
   "execution_count": null,
   "id": "78f71035-812f-4d39-a7a9-43d57adaf4af",
   "metadata": {},
   "outputs": [],
   "source": []
  }
 ],
 "metadata": {
  "kernelspec": {
   "display_name": "Python 3 (ipykernel)",
   "language": "python",
   "name": "python3"
  },
  "language_info": {
   "codemirror_mode": {
    "name": "ipython",
    "version": 3
   },
   "file_extension": ".py",
   "mimetype": "text/x-python",
   "name": "python",
   "nbconvert_exporter": "python",
   "pygments_lexer": "ipython3",
   "version": "3.9.18"
  }
 },
 "nbformat": 4,
 "nbformat_minor": 5
}
