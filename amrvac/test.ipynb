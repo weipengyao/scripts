{
 "cells": [
  {
   "cell_type": "code",
   "execution_count": 1,
   "id": "f1312c9e",
   "metadata": {},
   "outputs": [],
   "source": [
    "import numpy as np\n",
    "import matplotlib.pyplot as plt\n",
    "from mpl_toolkits.axes_grid1 import make_axes_locatable\n",
    "import matplotlib.gridspec as gridspec"
   ]
  },
  {
   "cell_type": "code",
   "execution_count": 32,
   "id": "d53a5471",
   "metadata": {},
   "outputs": [
    {
     "name": "stdout",
     "output_type": "stream",
     "text": [
      "332508\n"
     ]
    }
   ],
   "source": [
    "x, y, b1, b2, b3 = np.loadtxt('/Users/yao/Documents/Data/AMRVAC/test1/visit_b1_b2_b3_0010.xyz',\n",
    "                        unpack=True,skiprows=2,usecols=[1,2,4,5,6])\n",
    "\n",
    "print(x.size)\n"
   ]
  },
  {
   "cell_type": "code",
   "execution_count": 33,
   "id": "f27eaf34",
   "metadata": {},
   "outputs": [
    {
     "name": "stdout",
     "output_type": "stream",
     "text": [
      "332508\n",
      "1001 321\n"
     ]
    }
   ],
   "source": [
    "Nx=np.unique(x).size\n",
    "Ny=np.unique(y).size\n",
    "\n",
    "print(x.size)\n",
    "print(Nx, Ny)"
   ]
  },
  {
   "cell_type": "code",
   "execution_count": 29,
   "id": "6dec192b",
   "metadata": {},
   "outputs": [
    {
     "name": "stdout",
     "output_type": "stream",
     "text": [
      "341220\n",
      "1021 321\n"
     ]
    }
   ],
   "source": [
    "Nx=np.unique(x).size\n",
    "Ny=np.unique(y).size\n",
    "\n",
    "print(x.size)\n",
    "print(Nx, Ny)"
   ]
  },
  {
   "cell_type": "code",
   "execution_count": null,
   "id": "9f70681f",
   "metadata": {},
   "outputs": [],
   "source": [
    "5: \n",
    "332508\n",
    "1001 321"
   ]
  },
  {
   "cell_type": "code",
   "execution_count": 17,
   "id": "5ee45744",
   "metadata": {},
   "outputs": [
    {
     "name": "stdout",
     "output_type": "stream",
     "text": [
      "[False False False ... False False False]\n",
      "False\n",
      "0\n",
      "(array([], dtype=int64),)\n"
     ]
    }
   ],
   "source": [
    "mask = np.isnan(y)\n",
    "print(mask)\n",
    "print(np.any(mask))\n",
    "print(np.sum(mask))\n",
    "print(np.where(mask))"
   ]
  },
  {
   "cell_type": "code",
   "execution_count": 20,
   "id": "80305284",
   "metadata": {},
   "outputs": [
    {
     "data": {
      "text/plain": [
       "1001"
      ]
     },
     "execution_count": 20,
     "metadata": {},
     "output_type": "execute_result"
    }
   ],
   "source": [
    "np.unique(x).size"
   ]
  },
  {
   "cell_type": "code",
   "execution_count": 21,
   "id": "0a6c4623",
   "metadata": {},
   "outputs": [],
   "source": [
    "xmin=np.min(x)\n",
    "xmax=np.max(x)\n",
    "ymin=np.min(y)\n",
    "ymax=np.max(y)"
   ]
  },
  {
   "cell_type": "code",
   "execution_count": 22,
   "id": "4fc9d212",
   "metadata": {},
   "outputs": [],
   "source": [
    "xyz_combined=np.vstack((x, y, b1, b2, b3)).T\n"
   ]
  },
  {
   "cell_type": "code",
   "execution_count": 23,
   "id": "6f414d75",
   "metadata": {},
   "outputs": [],
   "source": [
    "xyz_sorted=xyz_combined[np.lexsort((xyz_combined[:, 1], xyz_combined[:, 0]))]\n"
   ]
  },
  {
   "cell_type": "code",
   "execution_count": 24,
   "id": "ffd9877c",
   "metadata": {},
   "outputs": [],
   "source": [
    "unique_xyz=np.unique(xyz_sorted, axis=0)\n"
   ]
  },
  {
   "cell_type": "code",
   "execution_count": 25,
   "id": "2bbdf5f4",
   "metadata": {},
   "outputs": [],
   "source": [
    "x, y, b1, b2, b3 =unique_xyz.T\n"
   ]
  },
  {
   "cell_type": "code",
   "execution_count": 26,
   "id": "8881fcae",
   "metadata": {},
   "outputs": [
    {
     "ename": "ValueError",
     "evalue": "cannot reshape array of size 276404 into shape (1001,321)",
     "output_type": "error",
     "traceback": [
      "\u001b[31m---------------------------------------------------------------------------\u001b[39m",
      "\u001b[31mValueError\u001b[39m                                Traceback (most recent call last)",
      "\u001b[36mCell\u001b[39m\u001b[36m \u001b[39m\u001b[32mIn[26]\u001b[39m\u001b[32m, line 1\u001b[39m\n\u001b[32m----> \u001b[39m\u001b[32m1\u001b[39m x=\u001b[43mx\u001b[49m\u001b[43m.\u001b[49m\u001b[43mreshape\u001b[49m\u001b[43m(\u001b[49m\u001b[43mNx\u001b[49m\u001b[43m,\u001b[49m\u001b[43mNy\u001b[49m\u001b[43m)\u001b[49m\n",
      "\u001b[31mValueError\u001b[39m: cannot reshape array of size 276404 into shape (1001,321)"
     ]
    }
   ],
   "source": [
    "x=x.reshape(Nx,Ny)"
   ]
  },
  {
   "cell_type": "code",
   "execution_count": null,
   "id": "966ea3f7",
   "metadata": {},
   "outputs": [],
   "source": []
  }
 ],
 "metadata": {
  "kernelspec": {
   "display_name": ".venv",
   "language": "python",
   "name": "python3"
  },
  "language_info": {
   "codemirror_mode": {
    "name": "ipython",
    "version": 3
   },
   "file_extension": ".py",
   "mimetype": "text/x-python",
   "name": "python",
   "nbconvert_exporter": "python",
   "pygments_lexer": "ipython3",
   "version": "3.12.8"
  }
 },
 "nbformat": 4,
 "nbformat_minor": 5
}
