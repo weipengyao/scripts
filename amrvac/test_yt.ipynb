{
 "cells": [
  {
   "cell_type": "code",
   "execution_count": 2,
   "id": "567247ab",
   "metadata": {},
   "outputs": [
    {
     "name": "stdout",
     "output_type": "stream",
     "text": [
      "Cloning into 'yt'...\n",
      "remote: Enumerating objects: 233606, done.\u001b[K\n",
      "remote: Counting objects: 100% (1100/1100), done.\u001b[K\n",
      "remote: Compressing objects: 100% (490/490), done.\u001b[K\n",
      "remote: Total 233606 (delta 893), reused 611 (delta 610), pack-reused 232506 (from 5)\u001b[K\n",
      "Receiving objects: 100% (233606/233606), 402.36 MiB | 20.39 MiB/s, done.\n",
      "Resolving deltas: 100% (86196/86196), done.\n"
     ]
    }
   ],
   "source": [
    "!git clone https://github.com/yt-project/yt"
   ]
  },
  {
   "cell_type": "code",
   "execution_count": 1,
   "id": "cce501d2",
   "metadata": {},
   "outputs": [
    {
     "name": "stdout",
     "output_type": "stream",
     "text": [
      "Requirement already satisfied: numpy in /Users/yao/scripts/.venv/lib/python3.12/site-packages (2.3.2)\n",
      "Collecting cython\n",
      "  Downloading cython-3.1.4-cp312-cp312-macosx_11_0_arm64.whl.metadata (5.0 kB)\n",
      "Downloading cython-3.1.4-cp312-cp312-macosx_11_0_arm64.whl (3.0 MB)\n",
      "\u001b[2K   \u001b[90m━━━━━━━━━━━━━━━━━━━━━━━━━━━━━━━━━━━━━━━━\u001b[0m \u001b[32m3.0/3.0 MB\u001b[0m \u001b[31m17.4 MB/s\u001b[0m  \u001b[33m0:00:00\u001b[0m\n",
      "\u001b[?25hInstalling collected packages: cython\n",
      "Successfully installed cython-3.1.4\n"
     ]
    }
   ],
   "source": [
    "!pip install numpy cython"
   ]
  },
  {
   "cell_type": "code",
   "execution_count": 9,
   "id": "a06a5306",
   "metadata": {},
   "outputs": [
    {
     "name": "stdout",
     "output_type": "stream",
     "text": [
      "Obtaining file:///Users/yao/scripts/amrvac/yt\n",
      "  Installing build dependencies ... \u001b[?25ldone\n",
      "\u001b[?25h  Checking if build backend supports build_editable ... \u001b[?25ldone\n",
      "\u001b[?25h  Getting requirements to build editable ... \u001b[?25ldone\n",
      "\u001b[?25h  Preparing editable metadata (pyproject.toml) ... \u001b[?25ldone\n",
      "\u001b[?25hCollecting cmyt>=1.1.2 (from yt==4.5.dev0)\n",
      "  Using cached cmyt-2.0.2-py3-none-any.whl.metadata (4.3 kB)\n",
      "Collecting ewah-bool-utils>=1.2.0 (from yt==4.5.dev0)\n",
      "  Using cached ewah_bool_utils-1.3.0-cp311-abi3-macosx_11_0_arm64.whl.metadata (1.6 kB)\n",
      "Requirement already satisfied: matplotlib>=3.6.0 in /Users/yao/scripts/.venv/lib/python3.12/site-packages (from yt==4.5.dev0) (3.10.5)\n",
      "Collecting more-itertools>=8.4 (from yt==4.5.dev0)\n",
      "  Using cached more_itertools-10.8.0-py3-none-any.whl.metadata (39 kB)\n",
      "Requirement already satisfied: numpy<3,>=1.21.3 in /Users/yao/scripts/.venv/lib/python3.12/site-packages (from yt==4.5.dev0) (2.3.2)\n",
      "Requirement already satisfied: packaging>=20.9 in /Users/yao/scripts/.venv/lib/python3.12/site-packages (from yt==4.5.dev0) (25.0)\n",
      "Requirement already satisfied: pillow>=8.3.2 in /Users/yao/scripts/.venv/lib/python3.12/site-packages (from yt==4.5.dev0) (11.3.0)\n",
      "Collecting rlic>=0.3.2 (from yt==4.5.dev0)\n",
      "  Using cached rlic-0.5.1-cp310-abi3-macosx_11_0_arm64.whl.metadata (6.1 kB)\n",
      "Collecting tomli-w>=0.4.0 (from yt==4.5.dev0)\n",
      "  Using cached tomli_w-1.2.0-py3-none-any.whl.metadata (5.7 kB)\n",
      "Collecting tqdm>=3.4.0 (from yt==4.5.dev0)\n",
      "  Using cached tqdm-4.67.1-py3-none-any.whl.metadata (57 kB)\n",
      "Collecting unyt>=2.9.2 (from yt==4.5.dev0)\n",
      "  Using cached unyt-3.0.4-py3-none-any.whl.metadata (4.7 kB)\n",
      "Requirement already satisfied: contourpy>=1.0.1 in /Users/yao/scripts/.venv/lib/python3.12/site-packages (from matplotlib>=3.6.0->yt==4.5.dev0) (1.3.3)\n",
      "Requirement already satisfied: cycler>=0.10 in /Users/yao/scripts/.venv/lib/python3.12/site-packages (from matplotlib>=3.6.0->yt==4.5.dev0) (0.12.1)\n",
      "Requirement already satisfied: fonttools>=4.22.0 in /Users/yao/scripts/.venv/lib/python3.12/site-packages (from matplotlib>=3.6.0->yt==4.5.dev0) (4.59.2)\n",
      "Requirement already satisfied: kiwisolver>=1.3.1 in /Users/yao/scripts/.venv/lib/python3.12/site-packages (from matplotlib>=3.6.0->yt==4.5.dev0) (1.4.9)\n",
      "Requirement already satisfied: pyparsing>=2.3.1 in /Users/yao/scripts/.venv/lib/python3.12/site-packages (from matplotlib>=3.6.0->yt==4.5.dev0) (3.2.3)\n",
      "Requirement already satisfied: python-dateutil>=2.7 in /Users/yao/scripts/.venv/lib/python3.12/site-packages (from matplotlib>=3.6.0->yt==4.5.dev0) (2.9.0.post0)\n",
      "Requirement already satisfied: six>=1.5 in /Users/yao/scripts/.venv/lib/python3.12/site-packages (from python-dateutil>=2.7->matplotlib>=3.6.0->yt==4.5.dev0) (1.17.0)\n",
      "Collecting sympy>=1.7 (from unyt>=2.9.2->yt==4.5.dev0)\n",
      "  Using cached sympy-1.14.0-py3-none-any.whl.metadata (12 kB)\n",
      "Collecting mpmath<1.4,>=1.1.0 (from sympy>=1.7->unyt>=2.9.2->yt==4.5.dev0)\n",
      "  Using cached mpmath-1.3.0-py3-none-any.whl.metadata (8.6 kB)\n",
      "Using cached cmyt-2.0.2-py3-none-any.whl (30 kB)\n",
      "Using cached ewah_bool_utils-1.3.0-cp311-abi3-macosx_11_0_arm64.whl (366 kB)\n",
      "Using cached more_itertools-10.8.0-py3-none-any.whl (69 kB)\n",
      "Using cached rlic-0.5.1-cp310-abi3-macosx_11_0_arm64.whl (193 kB)\n",
      "Using cached tomli_w-1.2.0-py3-none-any.whl (6.7 kB)\n",
      "Using cached tqdm-4.67.1-py3-none-any.whl (78 kB)\n",
      "Using cached unyt-3.0.4-py3-none-any.whl (129 kB)\n",
      "Using cached sympy-1.14.0-py3-none-any.whl (6.3 MB)\n",
      "Using cached mpmath-1.3.0-py3-none-any.whl (536 kB)\n",
      "Building wheels for collected packages: yt\n",
      "  Building editable for yt (pyproject.toml) ... \u001b[?25lerror\n",
      "  \u001b[1;31merror\u001b[0m: \u001b[1msubprocess-exited-with-error\u001b[0m\n",
      "  \n",
      "  \u001b[31m×\u001b[0m \u001b[32mBuilding editable for yt \u001b[0m\u001b[1;32m(\u001b[0m\u001b[32mpyproject.toml\u001b[0m\u001b[1;32m)\u001b[0m did not run successfully.\n",
      "  \u001b[31m│\u001b[0m exit code: \u001b[1;36m1\u001b[0m\n",
      "  \u001b[31m╰─>\u001b[0m \u001b[31m[51 lines of output]\u001b[0m\n",
      "  \u001b[31m   \u001b[0m Unable to compile OpenMP test program so Cython\n",
      "  \u001b[31m   \u001b[0m extensions will be compiled without parallel support\n",
      "  \u001b[31m   \u001b[0m Your compiler seems to be too old to support C++14. yt may not be able to compile. Please use a newer version.\n",
      "  \u001b[31m   \u001b[0m running editable_wheel\n",
      "  \u001b[31m   \u001b[0m creating /private/var/folders/2t/97rc3fl92tg15k2l_4sk5hsh0000gn/T/pip-wheel-uwlgttmk/.tmp-emmdca47/yt.egg-info\n",
      "  \u001b[31m   \u001b[0m writing /private/var/folders/2t/97rc3fl92tg15k2l_4sk5hsh0000gn/T/pip-wheel-uwlgttmk/.tmp-emmdca47/yt.egg-info/PKG-INFO\n",
      "  \u001b[31m   \u001b[0m writing dependency_links to /private/var/folders/2t/97rc3fl92tg15k2l_4sk5hsh0000gn/T/pip-wheel-uwlgttmk/.tmp-emmdca47/yt.egg-info/dependency_links.txt\n",
      "  \u001b[31m   \u001b[0m writing entry points to /private/var/folders/2t/97rc3fl92tg15k2l_4sk5hsh0000gn/T/pip-wheel-uwlgttmk/.tmp-emmdca47/yt.egg-info/entry_points.txt\n",
      "  \u001b[31m   \u001b[0m writing requirements to /private/var/folders/2t/97rc3fl92tg15k2l_4sk5hsh0000gn/T/pip-wheel-uwlgttmk/.tmp-emmdca47/yt.egg-info/requires.txt\n",
      "  \u001b[31m   \u001b[0m writing top-level names to /private/var/folders/2t/97rc3fl92tg15k2l_4sk5hsh0000gn/T/pip-wheel-uwlgttmk/.tmp-emmdca47/yt.egg-info/top_level.txt\n",
      "  \u001b[31m   \u001b[0m writing manifest file '/private/var/folders/2t/97rc3fl92tg15k2l_4sk5hsh0000gn/T/pip-wheel-uwlgttmk/.tmp-emmdca47/yt.egg-info/SOURCES.txt'\n",
      "  \u001b[31m   \u001b[0m reading manifest file '/private/var/folders/2t/97rc3fl92tg15k2l_4sk5hsh0000gn/T/pip-wheel-uwlgttmk/.tmp-emmdca47/yt.egg-info/SOURCES.txt'\n",
      "  \u001b[31m   \u001b[0m reading manifest template 'MANIFEST.in'\n",
      "  \u001b[31m   \u001b[0m warning: no previously-included files found matching 'yt/utilities/lib/cykdtree/c_kdtree.cpp'\n",
      "  \u001b[31m   \u001b[0m no previously-included directories found matching 'tests'\n",
      "  \u001b[31m   \u001b[0m no previously-included directories found matching 'answer-store'\n",
      "  \u001b[31m   \u001b[0m warning: no files found matching 'README*' under directory 'yt'\n",
      "  \u001b[31m   \u001b[0m warning: no files found matching '*.svgz' under directory 'doc'\n",
      "  \u001b[31m   \u001b[0m warning: no files found matching '*.pdf' under directory 'doc'\n",
      "  \u001b[31m   \u001b[0m warning: no previously-included files found matching 'doc/cheatsheet.pdf'\n",
      "  \u001b[31m   \u001b[0m no previously-included directories found matching 'doc/source/reference/api/generated'\n",
      "  \u001b[31m   \u001b[0m no previously-included directories found matching 'doc/build'\n",
      "  \u001b[31m   \u001b[0m no previously-included directories found matching '.tours'\n",
      "  \u001b[31m   \u001b[0m warning: no files found matching '*.fragmentshader' under directory 'yt/visualization/volume_rendering/shaders'\n",
      "  \u001b[31m   \u001b[0m warning: no files found matching '*.vertexshader' under directory 'yt/visualization/volume_rendering/shaders'\n",
      "  \u001b[31m   \u001b[0m warning: no previously-included files matching '*.txt' found under directory 'requirements'\n",
      "  \u001b[31m   \u001b[0m warning: no previously-included files found matching 'minimal_requirements.txt'\n",
      "  \u001b[31m   \u001b[0m warning: no previously-included files found matching '.codecov.yml'\n",
      "  \u001b[31m   \u001b[0m warning: no previously-included files found matching '.coveragerc'\n",
      "  \u001b[31m   \u001b[0m warning: no previously-included files found matching '.git-blame-ignore-revs'\n",
      "  \u001b[31m   \u001b[0m warning: no previously-included files found matching '.gitmodules'\n",
      "  \u001b[31m   \u001b[0m warning: no previously-included files found matching '.hgchurn'\n",
      "  \u001b[31m   \u001b[0m warning: no previously-included files found matching '.mailmap'\n",
      "  \u001b[31m   \u001b[0m warning: no previously-included files found matching '.pre-commit-config.yaml'\n",
      "  \u001b[31m   \u001b[0m warning: no previously-included files found matching 'clean.sh'\n",
      "  \u001b[31m   \u001b[0m warning: no previously-included files found matching 'nose_answer.cfg'\n",
      "  \u001b[31m   \u001b[0m warning: no previously-included files found matching 'nose_unit.cfg'\n",
      "  \u001b[31m   \u001b[0m warning: no previously-included files found matching 'nose_ignores.txt'\n",
      "  \u001b[31m   \u001b[0m warning: no previously-included files found matching 'nose_requirements.txt'\n",
      "  \u001b[31m   \u001b[0m adding license file 'COPYING.txt'\n",
      "  \u001b[31m   \u001b[0m adding license file 'yt/frontends/artio/artio_headers/LICENSE'\n",
      "  \u001b[31m   \u001b[0m writing manifest file '/private/var/folders/2t/97rc3fl92tg15k2l_4sk5hsh0000gn/T/pip-wheel-uwlgttmk/.tmp-emmdca47/yt.egg-info/SOURCES.txt'\n",
      "  \u001b[31m   \u001b[0m creating '/private/var/folders/2t/97rc3fl92tg15k2l_4sk5hsh0000gn/T/pip-wheel-uwlgttmk/.tmp-emmdca47/yt-4.5.dev0.dist-info'\n",
      "  \u001b[31m   \u001b[0m creating /private/var/folders/2t/97rc3fl92tg15k2l_4sk5hsh0000gn/T/pip-wheel-uwlgttmk/.tmp-emmdca47/yt-4.5.dev0.dist-info/WHEEL\n",
      "  \u001b[31m   \u001b[0m running build_py\n",
      "  \u001b[31m   \u001b[0m running build_clib\n",
      "  \u001b[31m   \u001b[0m building 'fixed_interpolator' library\n",
      "  \u001b[31m   \u001b[0m creating /var/folders/2t/97rc3fl92tg15k2l_4sk5hsh0000gn/T/tmpfuv32fn9.build-temp/yt/utilities/lib\n",
      "  \u001b[31m   \u001b[0m clang++ -fno-strict-overflow -Wsign-compare -Wunreachable-code -fno-common -dynamic -DNDEBUG -g -O3 -Wall -isysroot /Library/Developer/CommandLineTools/SDKs/MacOSX15.sdk -I/opt/homebrew/opt/lapack/include -I/Users/yao/scripts/.venv/include -I/opt/homebrew/opt/python@3.12/Frameworks/Python.framework/Versions/3.12/include/python3.12 -I/private/var/folders/2t/97rc3fl92tg15k2l_4sk5hsh0000gn/T/pip-build-env-zbmmqomr/overlay/lib/python3.12/site-packages/numpy/_core/include -c yt/utilities/lib/fixed_interpolator.cpp -o /var/folders/2t/97rc3fl92tg15k2l_4sk5hsh0000gn/T/tmpfuv32fn9.build-temp/yt/utilities/lib/fixed_interpolator.o\n",
      "  \u001b[31m   \u001b[0m You have not agreed to the Xcode license agreements. Please run 'sudo xcodebuild -license' from within a Terminal window to review and agree to the Xcode and Apple SDKs license.\n",
      "  \u001b[31m   \u001b[0m error: command '/usr/bin/clang++' failed with exit code 69\n",
      "  \u001b[31m   \u001b[0m \u001b[31m[end of output]\u001b[0m\n",
      "  \n",
      "  \u001b[1;35mnote\u001b[0m: This error originates from a subprocess, and is likely not a problem with pip.\n",
      "\u001b[?25h\u001b[31m  ERROR: Failed building editable for yt\u001b[0m\u001b[31m\n",
      "\u001b[0mFailed to build yt\n",
      "\u001b[1;31merror\u001b[0m: \u001b[1mfailed-wheel-build-for-install\u001b[0m\n",
      "\n",
      "\u001b[31m×\u001b[0m Failed to build installable wheels for some pyproject.toml based projects\n",
      "\u001b[31m╰─>\u001b[0m yt\n"
     ]
    }
   ],
   "source": [
    "!cd yt && pip install -e .\n"
   ]
  },
  {
   "cell_type": "code",
   "execution_count": 4,
   "id": "6da2df58",
   "metadata": {},
   "outputs": [
    {
     "name": "stdout",
     "output_type": "stream",
     "text": [
      "Already on 'master'\n",
      "Your branch is up to date with 'origin/master'.\n"
     ]
    }
   ],
   "source": [
    "!git checkout master"
   ]
  },
  {
   "cell_type": "code",
   "execution_count": 5,
   "id": "4c90d505",
   "metadata": {},
   "outputs": [
    {
     "name": "stdout",
     "output_type": "stream",
     "text": [
      "Obtaining file:///Users/yao/scripts/amrvac\n",
      "\u001b[31mERROR: file:///Users/yao/scripts/amrvac does not appear to be a Python project: neither 'setup.py' nor 'pyproject.toml' found.\u001b[0m\u001b[31m\n",
      "\u001b[0m"
     ]
    }
   ],
   "source": [
    "!pip install -e ."
   ]
  },
  {
   "cell_type": "code",
   "execution_count": null,
   "id": "6a10be5c",
   "metadata": {},
   "outputs": [
    {
     "ename": "",
     "evalue": "",
     "output_type": "error",
     "traceback": [
      "\u001b[1;31mRunning cells with 'Python 3.13.5' requires the ipykernel package.\n",
      "\u001b[1;31mInstall 'ipykernel' into the Python environment. \n",
      "\u001b[1;31mCommand: '/opt/homebrew/bin/python3 -m pip install ipykernel -U --user --force-reinstall'"
     ]
    }
   ],
   "source": [
    "import yt\n",
    "import numpy as np\n",
    "import matplotlib.pyplot as plt\n",
    "# print(yt.__version__)"
   ]
  },
  {
   "cell_type": "code",
   "execution_count": 12,
   "id": "2269b5e4",
   "metadata": {},
   "outputs": [
    {
     "ename": "AttributeError",
     "evalue": "module 'yt' has no attribute 'load'",
     "output_type": "error",
     "traceback": [
      "\u001b[31m---------------------------------------------------------------------------\u001b[39m",
      "\u001b[31mAttributeError\u001b[39m                            Traceback (most recent call last)",
      "\u001b[36mCell\u001b[39m\u001b[36m \u001b[39m\u001b[32mIn[12]\u001b[39m\u001b[32m, line 1\u001b[39m\n\u001b[32m----> \u001b[39m\u001b[32m1\u001b[39m ds = \u001b[43myt\u001b[49m\u001b[43m.\u001b[49m\u001b[43mload\u001b[49m(\u001b[33m'\u001b[39m\u001b[33m/Users/yao/Documents/Data/AMRVAC/test2/test_0000.dat\u001b[39m\u001b[33m'\u001b[39m)\n",
      "\u001b[31mAttributeError\u001b[39m: module 'yt' has no attribute 'load'"
     ]
    }
   ],
   "source": [
    "ds = yt.load('/Users/yao/Documents/Data/AMRVAC/test2/test_0000.dat')"
   ]
  },
  {
   "cell_type": "code",
   "execution_count": null,
   "id": "a2237537",
   "metadata": {},
   "outputs": [],
   "source": []
  }
 ],
 "metadata": {
  "kernelspec": {
   "display_name": "Python 3",
   "language": "python",
   "name": "python3"
  },
  "language_info": {
   "codemirror_mode": {
    "name": "ipython",
    "version": 3
   },
   "file_extension": ".py",
   "mimetype": "text/x-python",
   "name": "python",
   "nbconvert_exporter": "python",
   "pygments_lexer": "ipython3",
   "version": "3.13.5"
  }
 },
 "nbformat": 4,
 "nbformat_minor": 5
}
