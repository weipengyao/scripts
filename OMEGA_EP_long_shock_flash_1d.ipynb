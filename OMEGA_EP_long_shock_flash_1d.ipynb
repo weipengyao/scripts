{
 "cells": [
  {
   "cell_type": "code",
   "execution_count": 1,
   "metadata": {},
   "outputs": [],
   "source": [
    "%matplotlib qt"
   ]
  },
  {
   "cell_type": "code",
   "execution_count": 2,
   "metadata": {},
   "outputs": [
    {
     "name": "stderr",
     "output_type": "stream",
     "text": [
      "/var/folders/2t/97rc3fl92tg15k2l_4sk5hsh0000gn/T/ipykernel_97629/2521444757.py:7: MatplotlibDeprecationWarning: The get_cmap function was deprecated in Matplotlib 3.7 and will be removed two minor releases later. Use ``matplotlib.colormaps[name]`` or ``matplotlib.colormaps.get_cmap(obj)`` instead.\n",
      "  jetcmap = plt.cm.get_cmap(\"jet\", 9) #generate a jet map with 10 values \"rainbow\", \"jet\", YlOrRd\n"
     ]
    }
   ],
   "source": [
    "import yt\n",
    "import matplotlib.pyplot  as plt\n",
    "import numpy as np\n",
    "\n",
    "import matplotlib as mpl\n",
    "\n",
    "jetcmap = plt.cm.get_cmap(\"jet\", 9) #generate a jet map with 10 values \"rainbow\", \"jet\", YlOrRd\n",
    "jet_vals = jetcmap(np.arange(9)) #extract those values as an array \n",
    "jet_vals[0] = [1.0, 1, 1.0, 1] #change the first value \n",
    "jet_vals[8] = [0.0, 0, 0.0, 1] #change the first value \n",
    "newcmap = mpl.colors.LinearSegmentedColormap.from_list(\"mine\", jet_vals) \n",
    "\n",
    "plt.rc('text', usetex=False)\n",
    "plt.rc('xtick', labelsize=12)\n",
    "plt.rc('ytick', labelsize=12)\n",
    "plt.rc('axes', labelsize=12)\n",
    "plt.rc('legend', fontsize=10)"
   ]
  },
  {
   "cell_type": "code",
   "execution_count": 103,
   "metadata": {},
   "outputs": [],
   "source": [
    "filedir = [\n",
    "            # '/Users/yao/Desktop/Data/run1/job.83613/', # 4 beams\n",
    "            # '/Users/yao/Desktop/job.85198/', # 2 beams\n",
    "            # '/Users/yao/Desktop/job.85215/', # 1 beams\n",
    "            '/Users/yao/Desktop/job.85216/', # 2 beams\n",
    "          ] \n",
    "\n",
    "filename = 'lasslab_hdf5_chk_0030'  "
   ]
  },
  {
   "cell_type": "code",
   "execution_count": 104,
   "metadata": {},
   "outputs": [],
   "source": [
    "def get_yt_data_1d(filename):\n",
    "    j_idx = 0\n",
    "    k_idx = 0\n",
    "    fields_list = [\"x\", \"dens\", \"tele\", \"tion\",\n",
    "                   \"pres\", \"temp\", \"cham\", \"targ\", \n",
    "                   \"velx\", \"ye\", \"magz\"]\n",
    "\n",
    "    data_yt = yt.load(filename)\n",
    "    data_yt_map = data_yt.covering_grid(\n",
    "        level=0, left_edge=[data_yt.domain_left_edge[0], \n",
    "                            data_yt.domain_left_edge[1], \n",
    "                            data_yt.domain_left_edge[2]\n",
    "                            ], \n",
    "                            dims=data_yt.domain_dimensions\n",
    "    )\n",
    "    time_now = np.array(data_yt.current_time)*1e9\n",
    "    xx = np.linspace(data_yt.domain_left_edge[0]*1e4, \n",
    "                     data_yt.domain_right_edge[0]*1e4,\n",
    "                     data_yt.domain_dimensions[0])\n",
    "\n",
    "    data_dict = {}\n",
    "    for f in fields_list:\n",
    "        data_dict[f] = data_yt_map[f][:,j_idx,k_idx]\n",
    "    return data_dict, time_now, xx"
   ]
  },
  {
   "cell_type": "code",
   "execution_count": 105,
   "metadata": {},
   "outputs": [
    {
     "name": "stderr",
     "output_type": "stream",
     "text": [
      "yt : [INFO     ] 2025-01-29 18:09:25,056 Particle file found: lasslab_hdf5_chk_0030\n"
     ]
    },
    {
     "name": "stderr",
     "output_type": "stream",
     "text": [
      "yt : [INFO     ] 2025-01-29 18:09:25,083 Parameters: current_time              = 1.5000050153214534e-07\n",
      "yt : [INFO     ] 2025-01-29 18:09:25,087 Parameters: domain_dimensions         = [128   1   1]\n",
      "yt : [INFO     ] 2025-01-29 18:09:25,089 Parameters: domain_left_edge          = [0. 0. 0.]\n",
      "yt : [INFO     ] 2025-01-29 18:09:25,090 Parameters: domain_right_edge         = [6. 1. 1.]\n",
      "yt : [INFO     ] 2025-01-29 18:09:25,091 Parameters: cosmological_simulation   = 0\n"
     ]
    }
   ],
   "source": [
    "data_dict, time_now, xx = get_yt_data_1d(filedir[0]+filename)"
   ]
  },
  {
   "cell_type": "code",
   "execution_count": 106,
   "metadata": {},
   "outputs": [],
   "source": [
    "width  = 3.487 * 1.5\n",
    "height = width / 1.618 #* 0.8\n",
    "\n",
    "fig, axs = plt.subplots(1, 1, sharex=True)\n",
    "\n",
    "axs.semilogy(data_dict['x'], data_dict['dens'], '-k', lw=1.0)\n",
    "axs.set_ylabel(r'Density (g/cm$^3$)', color='k', fontsize=16)\n",
    "axs.tick_params(axis='y',color='k', labelcolor='k')\n",
    "axs.set_ylim([1e-6,1e0])\n",
    "axs.set_xlim([0,6])\n",
    "axs.set_xlabel('x (cm)', fontsize=16)\n",
    "axs.grid(which='major', alpha=0.5,linestyle=':', lw=1.0)\n",
    "\n",
    "ax2 = axs.twinx()\n",
    "ax2.plot(data_dict['x'], data_dict['tele']/11600, '-.r', label='Te', lw=1.5)\n",
    "ax2.plot(data_dict['x'], data_dict['tion']/11600, '--b', label='Ti', lw=1.5)\n",
    "ax2.set_ylabel('Temperatures (eV)', color='b', fontsize=16)\n",
    "ax2.tick_params(axis='y', color='b', labelcolor='b')\n",
    "ax2.spines['right'].set_color('b')\n",
    "ax2.spines['left'].set_color('k')\n",
    "ax2.set_ylim([0, 300])\n",
    "\n",
    "\n",
    "fig.legend(['dens','Te','Ti'], \n",
    "           bbox_to_anchor=(0.6, 0.84),\n",
    "           fontsize=12, \n",
    "           fancybox=False, \n",
    "           frameon=False)\n",
    "# axs.set_title('single-beam case at {:.0f} ns'.format(time_now), fontsize=16)\n",
    "axs.set_title('double-beam case at {:.0f} ns'.format(time_now), fontsize=16)\n",
    "# axs.set_title('4 pulses')\n",
    "fig.set_size_inches(width, height)\n",
    "fig.tight_layout()\n",
    "\n"
   ]
  },
  {
   "cell_type": "code",
   "execution_count": 107,
   "metadata": {},
   "outputs": [],
   "source": [
    "fig.savefig(filedir[0]+'profile_{:.0f}_2beam.pdf'.format(time_now),dpi=600)"
   ]
  },
  {
   "cell_type": "code",
   "execution_count": null,
   "metadata": {},
   "outputs": [],
   "source": []
  }
 ],
 "metadata": {
  "kernelspec": {
   "display_name": "Python 3",
   "language": "python",
   "name": "python3"
  },
  "language_info": {
   "codemirror_mode": {
    "name": "ipython",
    "version": 3
   },
   "file_extension": ".py",
   "mimetype": "text/x-python",
   "name": "python",
   "nbconvert_exporter": "python",
   "pygments_lexer": "ipython3",
   "version": "3.9.20"
  }
 },
 "nbformat": 4,
 "nbformat_minor": 2
}
