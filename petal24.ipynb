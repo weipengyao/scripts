{
 "cells": [
  {
   "cell_type": "code",
   "execution_count": 1,
   "id": "838b0f1f",
   "metadata": {},
   "outputs": [],
   "source": [
    "%matplotlib qt"
   ]
  },
  {
   "cell_type": "code",
   "execution_count": 2,
   "id": "bc6d9b9d",
   "metadata": {},
   "outputs": [
    {
     "name": "stderr",
     "output_type": "stream",
     "text": [
      "/var/folders/2t/97rc3fl92tg15k2l_4sk5hsh0000gn/T/ipykernel_71462/4042748947.py:6: MatplotlibDeprecationWarning: The get_cmap function was deprecated in Matplotlib 3.7 and will be removed two minor releases later. Use ``matplotlib.colormaps[name]`` or ``matplotlib.colormaps.get_cmap(obj)`` instead.\n",
      "  jetcmap = plt.cm.get_cmap(\"jet\", 9) #generate a jet map with 10 values \"rainbow\", \"jet\", YlOrRd\n"
     ]
    }
   ],
   "source": [
    "import matplotlib as mpl\n",
    "import happi\n",
    "import numpy as np\n",
    "import matplotlib.pyplot as plt\n",
    "\n",
    "jetcmap = plt.cm.get_cmap(\"jet\", 9) #generate a jet map with 10 values \"rainbow\", \"jet\", YlOrRd\n",
    "jet_vals = jetcmap(np.arange(9)) #extract those values as an array \n",
    "jet_vals[0] = [1.0, 1, 1.0, 1] #change the first value \n",
    "jet_vals[8] = [0.0, 0, 0.0, 1] #change the first value \n",
    "newcmap = mpl.colors.LinearSegmentedColormap.from_list(\"mine\", jet_vals) \n",
    "\n",
    "from matplotlib import font_manager\n",
    "\n",
    "font_dirs = ['/Users/yao/Documents/Calibri and Cambria Fonts/']\n",
    "font_files = font_manager.findSystemFonts(fontpaths=font_dirs)\n",
    "\n",
    "for font_file in font_files:\n",
    "    font_manager.fontManager.addfont(font_file)\n",
    "\n",
    "# set font\n",
    "plt.rcParams['font.family'] = 'Calibri'\n",
    "\n",
    "plt.rc('text', usetex=False)\n",
    "plt.rc('xtick', labelsize=14)\n",
    "plt.rc('ytick', labelsize=14)\n",
    "plt.rc('axes', labelsize=14)\n",
    "plt.rc('legend', fontsize=12)"
   ]
  },
  {
   "cell_type": "code",
   "execution_count": 3,
   "id": "f102365e",
   "metadata": {},
   "outputs": [],
   "source": [
    "wkdir = [\n",
    "     '/Users/yao/Documents/Data/PETAL2025/petal01', # 2D, 100 um pre-plasmas\n",
    "     '/Users/yao/Documents/Data/PETAL2025/petal00', # 2D, 150 um pre-plasmas\n",
    "    ]"
   ]
  },
  {
   "cell_type": "code",
   "execution_count": 4,
   "id": "90c83286",
   "metadata": {},
   "outputs": [
    {
     "name": "stdout",
     "output_type": "stream",
     "text": [
      "I_0 = 5.2e+18 W/cm2\n",
      "a_0 =  1.9520309718088114\n",
      "I_1 = 6.2e+17 W/cm2\n",
      "a_1 =  0.6720163062308093\n",
      "Loaded simulation '/Users/yao/Documents/Data/PETAL2025/petal01'\n",
      "Scanning for Scalar diagnostics\n",
      "Scanning for Field diagnostics\n",
      "Scanning for Probe diagnostics\n",
      "Scanning for ParticleBinning diagnostics\n",
      "Scanning for RadiationSpectrum diagnostics\n",
      "Scanning for Performance diagnostics\n",
      "Scanning for Screen diagnostics\n",
      "Scanning for Tracked particle diagnostics\n",
      "Scanning for new particle diagnostics\n",
      "I_0 = 5.2e+18 W/cm2\n",
      "a_0 =  1.9520309718088114\n",
      "I_1 = 6.2e+17 W/cm2\n",
      "a_1 =  0.6720163062308093\n",
      "Loaded simulation '/Users/yao/Documents/Data/PETAL2025/petal00'\n",
      "Scanning for Scalar diagnostics\n",
      "Scanning for Field diagnostics\n",
      "Scanning for Probe diagnostics\n",
      "Scanning for ParticleBinning diagnostics\n",
      "Scanning for RadiationSpectrum diagnostics\n",
      "Scanning for Performance diagnostics\n",
      "Scanning for Screen diagnostics\n",
      "Scanning for Tracked particle diagnostics\n",
      "Scanning for new particle diagnostics\n"
     ]
    }
   ],
   "source": [
    "S0 = happi.Open(wkdir[0], reference_angular_frequency_SI = 2.0*np.pi*3e8/1e-6)\n",
    "S1 = happi.Open(wkdir[1], reference_angular_frequency_SI = 2.0*np.pi*3e8/1e-6)"
   ]
  },
  {
   "cell_type": "code",
   "execution_count": 5,
   "id": "3bff4666",
   "metadata": {},
   "outputs": [
    {
     "name": "stdout",
     "output_type": "stream",
     "text": [
      "Field diagnostic #0: Ey\n",
      "\tGrid spacing: 0.7853981633974483, 0.7853981633974483\n"
     ]
    },
    {
     "name": "stderr",
     "output_type": "stream",
     "text": [
      "/Users/yao/Smilei/happi/_Diagnostics/Diagnostic.py:488: UserWarning: Attempting to set identical low and high xlims makes transformation singular; automatically expanding.\n",
      "  self.slider = Slider(slider_axes, 'time', self._timesteps[0], self._timesteps[-1], valinit=self._timesteps[0])\n"
     ]
    }
   ],
   "source": [
    "S0.Field(0,'Ey',units=['fs','um','V/m'],vsym=True).slide()"
   ]
  },
  {
   "cell_type": "code",
   "execution_count": 7,
   "id": "4bce442d",
   "metadata": {},
   "outputs": [
    {
     "name": "stdout",
     "output_type": "stream",
     "text": [
      "tr =  0.42971834634811745\n"
     ]
    }
   ],
   "source": [
    "from numpy import array, arange\n",
    "\n",
    "tr = 1./(2.*np.pi*3e8/0.810e-6)*1e15\n",
    "print('tr = ', tr)\n",
    "\n",
    "tstop = S0.namelist.Main.simulation_time*tr # simulation final time\n",
    "tstep = S0.namelist.Main.timestep        # simulation timestep\n",
    "times = arange(0., tstop, tstep)\n",
    "\n",
    "laser = S0.namelist.Laser[1]\n",
    "laser_profile = array([laser.time_envelope(t) for t in times])\n",
    "\n",
    "\n",
    "plt.plot( times, laser_profile**2 )\n",
    "plt.xlabel('Time (fs)')\n",
    "plt.ylabel('Laser profile (a.u.)')\n",
    "plt.ylim([0, 1])\n",
    "plt.xlim([0, tstop])\n",
    "plt.yticks([0, 0.25, 0.5, 0.75, 1.0], ['0', '0.25', '0.5', '0.75', '1'])\n",
    "plt.grid(linestyle='--', linewidth=0.5,alpha=0.5)"
   ]
  },
  {
   "cell_type": "code",
   "execution_count": 8,
   "id": "15a52861",
   "metadata": {},
   "outputs": [
    {
     "name": "stdout",
     "output_type": "stream",
     "text": [
      "\n",
      "#0 - Number density of species # 0\n",
      "    x from 0 to 2010.62 in 400 steps \n",
      "    y from 0 to 2010.62 in 400 steps \n",
      "\n",
      "The value in each bin is the sum of the `deposited_quantity` divided by the bin size\n",
      "\n"
     ]
    },
    {
     "name": "stderr",
     "output_type": "stream",
     "text": [
      "/Users/yao/Smilei/happi/_Diagnostics/Diagnostic.py:857: RuntimeWarning: divide by zero encountered in log10\n",
      "  return self._np.log10( self._dataLinAtTime(t) )\n"
     ]
    }
   ],
   "source": [
    "S0.ParticleBinning(0, units=['fs','um','1/cm^3'],\n",
    "                         data_log='True',\n",
    "                        #  xmin=0,xmax=32,\n",
    "                        #  ymin=0,ymax=32,\n",
    "                         vmin=16,vmax=22,\n",
    "                         cmap=newcmap,\n",
    "                         aspect=1.0,\n",
    "                   ).slide()"
   ]
  },
  {
   "cell_type": "code",
   "execution_count": 9,
   "id": "8d5f7748",
   "metadata": {},
   "outputs": [
    {
     "name": "stdout",
     "output_type": "stream",
     "text": [
      "\n",
      "#1 - Number density of species # 3\n",
      "    x from 0 to 2010.62 in 400 steps \n",
      "    y from 0 to 2010.62 in 400 steps \n",
      "\n",
      "The value in each bin is the sum of the `deposited_quantity` divided by the bin size\n",
      "\n"
     ]
    }
   ],
   "source": [
    "S0.ParticleBinning(1, units=['fs','um','1/cm^3'],\n",
    "                         data_log='True',\n",
    "                        #  xmin=0,xmax=32,\n",
    "                        #  ymin=0,ymax=32,\n",
    "                         vmin=16,vmax=22,\n",
    "                         cmap=newcmap,\n",
    "                         aspect=1.0,\n",
    "                   ).slide()"
   ]
  },
  {
   "cell_type": "code",
   "execution_count": 27,
   "id": "8e6bc142",
   "metadata": {},
   "outputs": [
    {
     "name": "stdout",
     "output_type": "stream",
     "text": [
      "\n",
      "#2 - Number density of species # 4\n",
      "    x from 0 to 2010.62 in 400 steps \n",
      "    y from 0 to 2010.62 in 400 steps \n",
      "\n",
      "The value in each bin is the sum of the `deposited_quantity` divided by the bin size\n",
      "\n"
     ]
    }
   ],
   "source": [
    "S0.ParticleBinning(2, units=['fs','um','1/cm^3'],\n",
    "                         data_log='True',\n",
    "                        #  xmin=0,xmax=32,\n",
    "                        #  ymin=0,ymax=32,\n",
    "                         vmin=16,vmax=22,\n",
    "                         cmap=newcmap,\n",
    "                         aspect=1.0,\n",
    "                   ).slide()"
   ]
  },
  {
   "cell_type": "code",
   "execution_count": 10,
   "id": "706c6357",
   "metadata": {},
   "outputs": [
    {
     "name": "stdout",
     "output_type": "stream",
     "text": [
      "\n",
      "#0 - Number density of species # 0\n",
      "    x from 0 to 2010.62 in 400 steps \n",
      "    y from 0 to 2010.62 in 400 steps \n",
      "\n",
      "#1 - Number density of species # 3\n",
      "    x from 0 to 2010.62 in 400 steps \n",
      "    y from 0 to 2010.62 in 400 steps \n",
      "\n",
      "#2 - Number density of species # 4\n",
      "    x from 0 to 2010.62 in 400 steps \n",
      "    y from 0 to 2010.62 in 400 steps \n",
      "\n",
      "Operation : #0+#1+#2\n",
      "The value in each bin is the sum of the `deposited_quantity` divided by the bin size\n",
      "\n"
     ]
    }
   ],
   "source": [
    "S0.ParticleBinning(\"#0+#1+#2\", units=['fs','um','1/cm^3'],\n",
    "                         data_log='True',\n",
    "                        #  xmin=0,xmax=32,\n",
    "                        #  ymin=0,ymax=32,\n",
    "                         vmin=16,vmax=22,\n",
    "                         cmap=newcmap,\n",
    "                         aspect=1.0,\n",
    "                   ).slide()"
   ]
  },
  {
   "cell_type": "code",
   "execution_count": 11,
   "id": "cb3bc346",
   "metadata": {},
   "outputs": [
    {
     "name": "stdout",
     "output_type": "stream",
     "text": [
      "\n",
      "#3 - Number density of species # 1\n",
      "    x from 0 to 2010.62 in 400 steps \n",
      "    y from 0 to 2010.62 in 400 steps \n",
      "\n",
      "The value in each bin is the sum of the `deposited_quantity` divided by the bin size\n",
      "\n"
     ]
    }
   ],
   "source": [
    "S0.ParticleBinning(3, units=['fs','um','1/cm^3'],\n",
    "                         data_log='True',\n",
    "                        #  xmin=0,xmax=32,\n",
    "                        #  ymin=0,ymax=32,\n",
    "                         vmin=17,vmax=23,\n",
    "                         cmap=newcmap,\n",
    "                         aspect=1.0,\n",
    "                   ).slide()"
   ]
  },
  {
   "cell_type": "code",
   "execution_count": 12,
   "id": "22cc6140",
   "metadata": {},
   "outputs": [
    {
     "name": "stdout",
     "output_type": "stream",
     "text": [
      "\n",
      "#4 - Number density of species # 2\n",
      "    x from 0 to 2010.62 in 400 steps \n",
      "    y from 0 to 2010.62 in 400 steps \n",
      "\n",
      "The value in each bin is the sum of the `deposited_quantity` divided by the bin size\n",
      "\n"
     ]
    }
   ],
   "source": [
    "S0.ParticleBinning(4, units=['fs','um','1/cm^3'],\n",
    "                         data_log='True',\n",
    "                        #  xmin=0,xmax=32,\n",
    "                        #  ymin=0,ymax=32,\n",
    "                         vmin=17,vmax=23,\n",
    "                         cmap=newcmap,\n",
    "                         aspect=1.0,\n",
    "                   ).slide()"
   ]
  },
  {
   "cell_type": "code",
   "execution_count": 13,
   "id": "1eaa8ba3",
   "metadata": {},
   "outputs": [
    {
     "name": "stdout",
     "output_type": "stream",
     "text": [
      "\n",
      "#3 - Number density of species # 1\n",
      "    x from 0 to 2010.62 in 400 steps \n",
      "    y from 0 to 2010.62 in 400 steps \n",
      "\n",
      "#4 - Number density of species # 2\n",
      "    x from 0 to 2010.62 in 400 steps \n",
      "    y from 0 to 2010.62 in 400 steps \n",
      "\n",
      "Operation : #3+#4\n",
      "The value in each bin is the sum of the `deposited_quantity` divided by the bin size\n",
      "\n"
     ]
    }
   ],
   "source": [
    "S0.ParticleBinning('#3+#4', units=['fs','um','1/cm^3'],\n",
    "                         data_log='True',\n",
    "                        #  xmin=0,xmax=32,\n",
    "                        #  ymin=0,ymax=32,\n",
    "                         vmin=17,vmax=23,\n",
    "                         cmap=newcmap,\n",
    "                         aspect=1.0,\n",
    "                   ).slide()"
   ]
  },
  {
   "cell_type": "code",
   "execution_count": 14,
   "id": "e2feb624",
   "metadata": {},
   "outputs": [
    {
     "name": "stdout",
     "output_type": "stream",
     "text": [
      "\n",
      "#5 - Number density of species # 0\n",
      "    x from 0 to 2010.62 in 400 steps \n",
      "    px from -800 to 800 in 800 steps \n",
      "\n",
      "The value in each bin is the sum of the `deposited_quantity` divided by the bin size and by grid_length[1]\n",
      "\n"
     ]
    }
   ],
   "source": [
    "S0.ParticleBinning(5, units=['fs','um','1/cm^3'],\n",
    "                   data_log='True',\n",
    "                   cmap=newcmap,\n",
    "                   vmin=-5,\n",
    "                   vmax=1,\n",
    "                  #  aspect=1.0,\n",
    "                #    xmin=0,xmax=32,\n",
    "                #    ymin=-200,ymax=600,\n",
    "                   aspect='auto',\n",
    "                  #  layout='tight',\n",
    "                #    sum={'px':'all'}\n",
    "                   ).slide()"
   ]
  },
  {
   "cell_type": "code",
   "execution_count": 15,
   "id": "3b2bea3c",
   "metadata": {},
   "outputs": [
    {
     "name": "stdout",
     "output_type": "stream",
     "text": [
      "\n",
      "#6 - Number density of species # 3\n",
      "    x from 0 to 2010.62 in 400 steps \n",
      "    px from -800 to 800 in 800 steps \n",
      "\n",
      "The value in each bin is the sum of the `deposited_quantity` divided by the bin size and by grid_length[1]\n",
      "\n"
     ]
    }
   ],
   "source": [
    "S0.ParticleBinning(6, units=['fs','um','1/cm^3'],\n",
    "                   data_log='True',\n",
    "                   cmap=newcmap,\n",
    "                   vmin=-5,\n",
    "                   vmax=1,\n",
    "                  #  aspect=1.0,\n",
    "                #    xmin=0,xmax=32,\n",
    "                #    ymin=-200,ymax=600,\n",
    "                   aspect='auto',\n",
    "                  #  layout='tight',\n",
    "                #    sum={'px':'all'}\n",
    "                   ).slide()"
   ]
  },
  {
   "cell_type": "code",
   "execution_count": 6,
   "id": "a7d0a25a",
   "metadata": {},
   "outputs": [
    {
     "name": "stdout",
     "output_type": "stream",
     "text": [
      "\n",
      "#7 - Number density of species # 4\n",
      "    x from 0 to 2010.62 in 400 steps \n",
      "    px from -800 to 800 in 800 steps \n",
      "\n",
      "The value in each bin is the sum of the `deposited_quantity` divided by the bin size and by grid_length[1]\n",
      "\n"
     ]
    },
    {
     "name": "stderr",
     "output_type": "stream",
     "text": [
      "/Users/yao/Smilei/happi/_Diagnostics/Diagnostic.py:857: RuntimeWarning: divide by zero encountered in log10\n",
      "  return self._np.log10( self._dataLinAtTime(t) )\n"
     ]
    }
   ],
   "source": [
    "S0.ParticleBinning(7, units=['fs','um','1/cm^3'],\n",
    "                   data_log='True',\n",
    "                   cmap=newcmap,\n",
    "                   vmin=-6,vmax=-2,\n",
    "                   ymin=-400,ymax=400,\n",
    "                  #  aspect=1.0,\n",
    "                #    xmin=0,xmax=32,\n",
    "                #    ymin=-200,ymax=600,\n",
    "                   aspect='auto',\n",
    "                  #  layout='tight',\n",
    "                #    sum={'px':'all'}\n",
    "                   ).slide()"
   ]
  },
  {
   "cell_type": "code",
   "execution_count": 7,
   "id": "38b275d8",
   "metadata": {},
   "outputs": [
    {
     "name": "stdout",
     "output_type": "stream",
     "text": [
      "\n",
      "#8 - Number density of species # 1\n",
      "    x from 0 to 2010.62 in 400 steps \n",
      "    px from -50 to 50 in 400 steps \n",
      "\n",
      "The value in each bin is the sum of the `deposited_quantity` divided by the bin size and by grid_length[1]\n",
      "\n"
     ]
    }
   ],
   "source": [
    "S0.ParticleBinning(8, units=['fs','um','1/cm^3'],\n",
    "                   data_log='True',\n",
    "                   cmap=newcmap,\n",
    "                   vmin=-6,\n",
    "                   vmax=-2,\n",
    "                  #  aspect=1.0,\n",
    "                #    xmin=0,xmax=32,\n",
    "                #    ymin=-200,ymax=600,\n",
    "                   aspect='auto',\n",
    "                  #  layout='tight',\n",
    "                #    sum={'px':'all'}\n",
    "                   ).slide()"
   ]
  },
  {
   "cell_type": "code",
   "execution_count": 8,
   "id": "9a62d884",
   "metadata": {},
   "outputs": [
    {
     "name": "stdout",
     "output_type": "stream",
     "text": [
      "\n",
      "#9 - Number density of species # 2\n",
      "    x from 0 to 2010.62 in 400 steps \n",
      "    px from -20 to 20 in 400 steps \n",
      "\n",
      "The value in each bin is the sum of the `deposited_quantity` divided by the bin size and by grid_length[1]\n",
      "\n"
     ]
    }
   ],
   "source": [
    "S0.ParticleBinning(9, units=['fs','um','1/cm^3'],\n",
    "                   data_log='True',\n",
    "                   cmap=newcmap,\n",
    "                   vmin=-6,\n",
    "                   vmax=-2,\n",
    "                  #  aspect=1.0,\n",
    "                #    xmin=0,xmax=32,\n",
    "                #    ymin=-200,ymax=600,\n",
    "                   aspect='auto',\n",
    "                  #  layout='tight',\n",
    "                #    sum={'px':'all'}\n",
    "                   ).slide()"
   ]
  },
  {
   "cell_type": "code",
   "execution_count": 17,
   "id": "bdbbeca7",
   "metadata": {},
   "outputs": [
    {
     "name": "stderr",
     "output_type": "stream",
     "text": [
      "/Users/yao/Smilei/happi/_Diagnostics/Diagnostic.py:857: RuntimeWarning: divide by zero encountered in log10\n",
      "  return self._np.log10( self._dataLinAtTime(t) )\n"
     ]
    }
   ],
   "source": [
    "es0 = S0.ParticleBinning(10, units=['fs','um','1/cm^3','MeV'],\n",
    "                   data_log='True',\n",
    "                   cmap=newcmap,\n",
    "                   label='100 um',\n",
    "                   xmin=0,xmax=25,\n",
    "                   )#.slide()\n",
    "\n",
    "es1 = S1.ParticleBinning(10, units=['fs','um','1/cm^3','MeV'],\n",
    "                   data_log='True',\n",
    "                   cmap=newcmap,\n",
    "                   label='150 um',\n",
    "                   xmin=0,xmax=25,\n",
    "                   )#.slide()\n",
    "\n",
    "happi.multiPlot(es0,es1)"
   ]
  },
  {
   "cell_type": "code",
   "execution_count": 18,
   "id": "f429e2bd",
   "metadata": {},
   "outputs": [
    {
     "name": "stdout",
     "output_type": "stream",
     "text": [
      "\n",
      "#11 - Number density of species # 3\n",
      "    ekin from 0.000195695 to 391.389 in 5000 steps \n",
      "\n",
      "Operation : #11\n",
      "The value in each bin is the sum of the `deposited_quantity` divided by the bin size and by grid_length[0] * grid_length[1]\n",
      "\n"
     ]
    }
   ],
   "source": [
    "S0.ParticleBinning(11, units=['fs','um','1/cm^3','MeV'],\n",
    "                   data_log='True',\n",
    "                   cmap=newcmap,\n",
    "                #    vmin=-6,\n",
    "                #    vmax=-2,\n",
    "                  #  aspect=1.0,\n",
    "                #    xmin=0,xmax=32,\n",
    "                #    ymin=-200,ymax=600,\n",
    "                #    aspect='auto',\n",
    "                  #  layout='tight',\n",
    "                #    sum={'px':'all'}\n",
    "                   ).slide()"
   ]
  },
  {
   "cell_type": "code",
   "execution_count": 19,
   "id": "cb130d26",
   "metadata": {},
   "outputs": [
    {
     "name": "stdout",
     "output_type": "stream",
     "text": [
      "\n",
      "#12 - Number density of species # 1\n",
      "    y from 0 to 2010.62 in 400 steps \n",
      "    ekin from 0.000195695 to 195.695 in 500 steps \n",
      "\n",
      "Operation : #12\n",
      "average for all y\n",
      "The value in each bin is the sum of the `deposited_quantity` divided by the bin size and by grid_length[0]\n",
      "\n"
     ]
    }
   ],
   "source": [
    "S0.ParticleBinning(12, units=['fs','um','1/cm^3','MeV'],\n",
    "                   data_log='True',\n",
    "                   cmap=newcmap,\n",
    "                   ymin=0,ymax=50,\n",
    "                #    vmin=-6,\n",
    "                #    vmax=-2,\n",
    "                  #  aspect=1.0,\n",
    "                #    xmin=0,xmax=32,\n",
    "                #    ymin=-200,ymax=600,\n",
    "                #    aspect='auto',\n",
    "                  #  layout='tight',\n",
    "                   sum={'y':'all'}\n",
    "                   ).slide()"
   ]
  },
  {
   "cell_type": "code",
   "execution_count": 20,
   "id": "b43e9a1f",
   "metadata": {},
   "outputs": [
    {
     "name": "stdout",
     "output_type": "stream",
     "text": [
      "\n",
      "#13 - Number density of species # 2\n",
      "    y from 0 to 2010.62 in 400 steps \n",
      "    ekin from 0.000195695 to 195.695 in 500 steps \n",
      "\n",
      "Operation : #13\n",
      "The value in each bin is the sum of the `deposited_quantity` divided by the bin size and by grid_length[0]\n",
      "\n"
     ]
    }
   ],
   "source": [
    "S0.ParticleBinning(13, units=['fs','um','1/cm^3','MeV'],\n",
    "                   data_log='True',\n",
    "                   cmap=newcmap,\n",
    "                   ymin=0,ymax=50,\n",
    "                   vmin=-6,\n",
    "                   vmax=-2,\n",
    "                  #  aspect=1.0,\n",
    "                #    xmin=0,xmax=32,\n",
    "                #    ymin=-200,ymax=600,\n",
    "                #    aspect='auto',\n",
    "                  #  layout='tight',\n",
    "                #    sum={'y':'all'}\n",
    "                   ).slide()"
   ]
  },
  {
   "cell_type": "code",
   "execution_count": 21,
   "id": "7f66fb21",
   "metadata": {},
   "outputs": [
    {
     "name": "stdout",
     "output_type": "stream",
     "text": [
      "\n",
      "#14 - Number density of species # 1,2\n",
      "    px from -50 to 50 in 400 steps \n",
      "    py from -50 to 50 in 400 steps \n",
      "\n",
      "Operation : #14\n",
      "The value in each bin is the sum of the `deposited_quantity` divided by the bin size and by grid_length[0] * grid_length[1]\n",
      "\n"
     ]
    }
   ],
   "source": [
    "S0.ParticleBinning(14, units=['fs','um','1/cm^3','MeV'],\n",
    "                   data_log='True',\n",
    "                   cmap=newcmap,\n",
    "                #    ymin=0,ymax=50,\n",
    "                   vmin=-6,\n",
    "                   vmax=-2,\n",
    "                  #  aspect=1.0,\n",
    "                #    xmin=0,xmax=32,\n",
    "                #    ymin=-200,ymax=600,\n",
    "                #    aspect='auto',\n",
    "                  #  layout='tight',\n",
    "                #    sum={'y':'all'}\n",
    "                   ).slide()"
   ]
  },
  {
   "cell_type": "code",
   "execution_count": null,
   "id": "e4adeb25",
   "metadata": {},
   "outputs": [
    {
     "name": "stderr",
     "output_type": "stream",
     "text": [
      "/Users/yao/Smilei/happi/_Diagnostics/Diagnostic.py:857: RuntimeWarning: divide by zero encountered in log10\n",
      "  return self._np.log10( self._dataLinAtTime(t) )\n"
     ]
    },
    {
     "ename": "",
     "evalue": "",
     "output_type": "error",
     "traceback": [
      "\u001b[1;31mThe Kernel crashed while executing code in the current cell or a previous cell. \n",
      "\u001b[1;31mPlease review the code in the cell(s) to identify a possible cause of the failure. \n",
      "\u001b[1;31mClick <a href='https://aka.ms/vscodeJupyterKernelCrash'>here</a> for more info. \n",
      "\u001b[1;31mView Jupyter <a href='command:jupyter.viewOutput'>log</a> for further details."
     ]
    }
   ],
   "source": [
    "es0 = S0.Screen(0, units=['fs','um','1/cm^3','MeV'],\n",
    "          data_log='True',\n",
    "          label='100 um',\n",
    "          sum={'y':'all'},\n",
    "          xmin=0,xmax=30,\n",
    "          )#.slide()\n",
    "\n",
    "es1 = S1.Screen(0, units=['fs','um','1/cm^3','MeV'],\n",
    "          data_log='True',\n",
    "          label='150 um',\n",
    "          sum={'y':'all'},\n",
    "          xmin=0,xmax=30,\n",
    "          )#.slide()\n",
    "\n",
    "happi.multiSlide(es0,es1)"
   ]
  },
  {
   "cell_type": "code",
   "execution_count": 7,
   "id": "e94cb2f3",
   "metadata": {},
   "outputs": [
    {
     "name": "stdout",
     "output_type": "stream",
     "text": [
      "\n",
      "#1 - Number density of species # 4\n",
      "    ekin from 0.000195695 to 195.695 in 5000 steps \n",
      "\n",
      "The value in each bin is the sum of the `deposited_quantity` divided by the bin size and by grid_length[0] * grid_length[1]\n",
      "\n"
     ]
    }
   ],
   "source": [
    "S0.Screen(1, units=['fs','um','1/cm^3','MeV'],\n",
    "          data_log='True',\n",
    "        #   sum={'y':'all'},\n",
    "          ).slide()"
   ]
  },
  {
   "cell_type": "code",
   "execution_count": 6,
   "id": "62e5352b",
   "metadata": {},
   "outputs": [
    {
     "name": "stdout",
     "output_type": "stream",
     "text": [
      "\n",
      "#2 - Number density of species # 1,2\n",
      "    y from 0 to 2010.62 in 400 steps \n",
      "    ekin from 0.000195695 to 195.695 in 500 steps \n",
      "\n",
      "average for all y\n",
      "The value in each bin is the sum of the `deposited_quantity` divided by the bin size and by grid_length[0]\n",
      "\n"
     ]
    }
   ],
   "source": [
    "S0.Screen(2, units=['fs','um','1/cm^3','MeV'],\n",
    "          data_log='True',\n",
    "          sum={'y':'all'},\n",
    "          ).slide()"
   ]
  },
  {
   "cell_type": "code",
   "execution_count": null,
   "id": "86cab61b",
   "metadata": {},
   "outputs": [],
   "source": []
  }
 ],
 "metadata": {
  "kernelspec": {
   "display_name": "Python 3",
   "language": "python",
   "name": "python3"
  },
  "language_info": {
   "codemirror_mode": {
    "name": "ipython",
    "version": 3
   },
   "file_extension": ".py",
   "mimetype": "text/x-python",
   "name": "python",
   "nbconvert_exporter": "python",
   "pygments_lexer": "ipython3",
   "version": "3.9.22"
  }
 },
 "nbformat": 4,
 "nbformat_minor": 5
}
